{
 "cells": [
  {
   "cell_type": "markdown",
   "metadata": {},
   "source": [
    "> 概率图模型（Probabilistic Graphical Models，PGM）是指：你想描述不同变量之间的关系，但是，你又对这些变量不太确定，只有一定程度的相信或者一些不确定的知识。现在我们知道，概率是表示和处理不确定性的严密的数学方法。\n",
    "\n",
    "> Probabilistic Graphical Models (PGM for short) are exactly that: you want to\n",
    "describe relationships between variables. However, you don't have any certainty\n",
    "about your variables, but rather beliefs or uncertain knowledge. And we know now\n",
    "that probabilities are the way to represent and deal with such uncertainties, in a\n",
    "mathematical and rigorous way"
   ]
  },
  {
   "cell_type": "markdown",
   "metadata": {},
   "source": [
    "> living beings in general and human beings (as well as many other animals)\n",
    "exhibit this incredible capacity to adapt and improve using their experience, their\n",
    "errors, and what they observe in the world.\n",
    "\n",
    "> 投掷硬币是一类可以重复多次，甚至上千次或任意次的试验。然而，赛马并不是可以重复多次的试验。你最喜欢的团队赢得下次球赛的概率是多少？这也不是可以重复多次的试验：事实上，你只可以试验一次，因为只有一次比赛。但是由于你非常相信你的团队是今年最厉害的，你会指认一个概率，例如0.9，来确信你的团队会拿下下一次比赛。\n",
    "\n",
    "> 联合概率分布的最后一个重要概念是边缘化（Marginalization）。当你考察几个随机变量的概率分布，即联合概率分布时，你也许想从分布中消除一些变量，得到较少变量的分布。"
   ]
  },
  {
   "cell_type": "markdown",
   "metadata": {},
   "source": [
    "在这个公式中，我们把\n",
    "- P(X|Y)叫作是给定Y下X的后验分布。\n",
    "- P(X)叫作先验分布。\n",
    "- P(Y|X)叫做似然率\n",
    "- P(Y)叫做归一化因子。\n",
    "\n",
    "![](http://upload.ouliu.net/i/201901251146426q5rf.gif)"
   ]
  },
  {
   "cell_type": "markdown",
   "metadata": {},
   "source": [
    "![](http://upload.ouliu.net/i/20190125114828u8q6a.gif)\n",
    "- 先验分布P(θ)是指我们在知道其他信息之前对θ的认识——我的初始信念。\n",
    "- 给定θ值下的似然率，是指我可以生成什么样的数据D。换句话说，对于所有的θ，D的概率是多少。\n",
    "- 后验概率P(θ|D)，是指观察到D之后，对θ的新信念。"
   ]
  },
  {
   "cell_type": "markdown",
   "metadata": {},
   "source": [
    "`假设我们有一个制作灯泡的机器。你想知道机器是正常工作还是有问题。`"
   ]
  },
  {
   "cell_type": "code",
   "execution_count": 1,
   "metadata": {},
   "outputs": [],
   "source": [
    "prior <- c(working=0.99,broken=0.01)\n",
    "likelihood <- rbind(\n",
    "                   working=c(good=0.99,bad=0.01),\n",
    "                   broken=c(good=0.6,bad=0.4))\n",
    "data <- c('bad','bad','bad','bad')"
   ]
  },
  {
   "cell_type": "code",
   "execution_count": 3,
   "metadata": {
    "scrolled": false
   },
   "outputs": [
    {
     "data": {
      "text/html": [
       "<table>\n",
       "<thead><tr><th></th><th scope=col>good</th><th scope=col>bad</th></tr></thead>\n",
       "<tbody>\n",
       "\t<tr><th scope=row>working</th><td>0.99</td><td>0.01</td></tr>\n",
       "\t<tr><th scope=row>broken</th><td>0.60</td><td>0.40</td></tr>\n",
       "</tbody>\n",
       "</table>\n"
      ],
      "text/latex": [
       "\\begin{tabular}{r|ll}\n",
       "  & good & bad\\\\\n",
       "\\hline\n",
       "\tworking & 0.99 & 0.01\\\\\n",
       "\tbroken & 0.60 & 0.40\\\\\n",
       "\\end{tabular}\n"
      ],
      "text/markdown": [
       "\n",
       "| <!--/--> | good | bad | \n",
       "|---|---|\n",
       "| working | 0.99 | 0.01 | \n",
       "| broken | 0.60 | 0.40 | \n",
       "\n",
       "\n"
      ],
      "text/plain": [
       "        good bad \n",
       "working 0.99 0.01\n",
       "broken  0.60 0.40"
      ]
     },
     "metadata": {},
     "output_type": "display_data"
    }
   ],
   "source": [
    "likelihood"
   ]
  },
  {
   "cell_type": "code",
   "execution_count": 9,
   "metadata": {},
   "outputs": [],
   "source": [
    "bayes <- function(prior,likelihood,data){\n",
    "    posterior <- matrix(0,nrow=length(data),ncol=length(prior))\n",
    "    dimnames(posterior) <- list(data,names(prior))\n",
    "    \n",
    "    initial_prior <- prior\n",
    "    for (i in 1:length(data))\n",
    "        {\n",
    "        posterior[i,] <- \n",
    "            prior*likelihood[,data[i]]/\n",
    "            sum(prior*likelihood[,data[i]])\n",
    "        \n",
    "        prior <- posterior[i,]\n",
    "    }\n",
    "    return(rbind(initial_prior,posterior))\n",
    "}"
   ]
  },
  {
   "cell_type": "code",
   "execution_count": 10,
   "metadata": {
    "scrolled": true
   },
   "outputs": [
    {
     "data": {
      "image/png": "[encoded data removed]",
      "text/plain": [
       "plot without title"
      ]
     },
     "metadata": {},
     "output_type": "display_data"
    }
   ],
   "source": [
    "#Plot the columns of one matrix against the columns of another.\n",
    "matplot(bayes(prior,likelihood,data),\n",
    "       t='b',lty=1,pch=20,col=c(3,2))"
   ]
  },
  {
   "cell_type": "code",
   "execution_count": 11,
   "metadata": {
    "scrolled": true
   },
   "outputs": [
    {
     "data": {
      "image/png": "[encoded data removed]",
      "text/plain": [
       "plot without title"
      ]
     },
     "metadata": {},
     "output_type": "display_data"
    }
   ],
   "source": [
    "prior <- c(working=0.5,broken=0.5)\n",
    "matplot(bayes(prior,likelihood,data),\n",
    "       t='b',lty=1,pch=20,col=c(3,2))"
   ]
  },
  {
   "cell_type": "code",
   "execution_count": 12,
   "metadata": {
    "scrolled": true
   },
   "outputs": [
    {
     "data": {
      "image/png": "[encoded data removed]",
      "text/plain": [
       "plot without title"
      ]
     },
     "metadata": {},
     "output_type": "display_data"
    }
   ],
   "source": [
    "prior =c(working =0.99, broken =0.01)  \n",
    "data =c(\"bad\", \"good\", \"good\", \"good\", \"good\", \"good\", \"good\", \n",
    "\"good\", \"good\", \"good\") \n",
    "matplot(bayes(prior, likelihood, data), t ='b', pch =20, col =c(3, 2)) "
   ]
  },
  {
   "cell_type": "markdown",
   "metadata": {},
   "source": [
    "- #机器正常的概率快速下降（实线或绿色线）\n",
    "- #红色线或虚线表示机器有问题。"
   ]
  },
  {
   "cell_type": "markdown",
   "metadata": {},
   "source": [
    "`PGM`\n",
    "例如，在医学诊断中，每一个变量表示一个症状。我们可以拿到许多这样的变量。其他变量可以表示病人的年龄、性别、体温、血压等。我们可以使用许多不同的变量表示病人状态。我们也可以加入其他信息，例如最近的天气条件，病人的年龄和饮食状况。\n",
    "\n",
    "从这个复杂的系统中，我们想解决两个问题：\n",
    "\n",
    "从病人的数据库中，我们希望评估和发现所有概率分布，以及相关参数。这当然是自动的过程。\n",
    "我们希望把问题放入模型中，例如，“如果我们观察到了一系列症状，我们病人是否还健康？”。类似的，“如果我改变病人的饮食，并开了这个药，我的病人是否会恢复？”。"
   ]
  },
  {
   "cell_type": "markdown",
   "metadata": {},
   "source": [
    "- Directed model\n",
    "- UNdirected model"
   ]
  },
  {
   "cell_type": "code",
   "execution_count": 2,
   "metadata": {},
   "outputs": [],
   "source": [
    "# source(\"http://bioconductor.org/biocLite.R\") \n",
    "# biocLite() \n",
    "# install.packages(\"gRain\")\n",
    "library(gRain)\n",
    "library(gRbase)"
   ]
  },
  {
   "cell_type": "code",
   "execution_count": 13,
   "metadata": {
    "scrolled": true
   },
   "outputs": [
    {
     "data": {
      "text/html": [
       "'graphNEL'"
      ],
      "text/latex": [
       "'graphNEL'"
      ],
      "text/markdown": [
       "'graphNEL'"
      ],
      "text/plain": [
       "[1] \"graphNEL\"\n",
       "attr(,\"package\")\n",
       "[1] \"graph\""
      ]
     },
     "metadata": {},
     "output_type": "display_data"
    }
   ],
   "source": [
    "graph <- ug(\"A:B:E + C:E:D\")\n",
    "class(graph)  "
   ]
  },
  {
   "cell_type": "code",
   "execution_count": 8,
   "metadata": {
    "scrolled": true
   },
   "outputs": [
    {
     "name": "stderr",
     "output_type": "stream",
     "text": [
      "Bioconductor version 3.7 (BiocInstaller 1.30.0), ?biocLite for help\n",
      "A newer version of Bioconductor is available for this version of R,\n",
      "  ?BiocUpgrade for help\n",
      "BioC_mirror: https://bioconductor.org\n",
      "Using Bioconductor 3.7 (BiocInstaller 1.30.0), R 3.5.2 (2018-12-20).\n",
      "Installing package(s) 'Biobase', 'IRanges', 'AnnotationDbi'\n",
      "also installing the dependencies 'assertthat', 'bit', 'prettyunits', 'bit64', 'blob', 'memoise', 'BH', 'plogr', 'S4Vectors', 'DBI', 'RSQLite'\n",
      "\n"
     ]
    },
    {
     "name": "stdout",
     "output_type": "stream",
     "text": [
      "package 'assertthat' successfully unpacked and MD5 sums checked\n",
      "package 'bit' successfully unpacked and MD5 sums checked\n",
      "package 'prettyunits' successfully unpacked and MD5 sums checked\n",
      "package 'bit64' successfully unpacked and MD5 sums checked\n",
      "package 'blob' successfully unpacked and MD5 sums checked\n",
      "package 'memoise' successfully unpacked and MD5 sums checked\n",
      "package 'BH' successfully unpacked and MD5 sums checked\n",
      "package 'plogr' successfully unpacked and MD5 sums checked\n",
      "package 'S4Vectors' successfully unpacked and MD5 sums checked\n",
      "package 'DBI' successfully unpacked and MD5 sums checked\n",
      "package 'RSQLite' successfully unpacked and MD5 sums checked\n",
      "package 'Biobase' successfully unpacked and MD5 sums checked\n",
      "package 'IRanges' successfully unpacked and MD5 sums checked\n",
      "package 'AnnotationDbi' successfully unpacked and MD5 sums checked\n",
      "\n",
      "The downloaded binary packages are in\n",
      "\tC:\\Users\\randa\\AppData\\Local\\Temp\\RtmpagOQ32\\downloaded_packages\n"
     ]
    }
   ],
   "source": [
    "source(\"http://bioconductor.org/biocLite.R\") \n",
    "biocLite() \n",
    "library(Rgraphviz)"
   ]
  },
  {
   "cell_type": "code",
   "execution_count": 17,
   "metadata": {
    "scrolled": true
   },
   "outputs": [
    {
     "data": {
      "image/png": "[encoded data removed]",
      "text/plain": [
       "plot without title"
      ]
     },
     "metadata": {},
     "output_type": "display_data"
    }
   ],
   "source": [
    "plot(graph)"
   ]
  },
  {
   "cell_type": "code",
   "execution_count": 18,
   "metadata": {
    "scrolled": true
   },
   "outputs": [
    {
     "data": {
      "text/plain": [
       "A graphNEL graph with directed edges\n",
       "Number of Nodes = 1 \n",
       "Number of Edges = 0 "
      ]
     },
     "metadata": {},
     "output_type": "display_data"
    }
   ],
   "source": [
    "dag <- dag(\"A + B:A + C:B + D:B + E:C:D\")\n",
    "dag"
   ]
  },
  {
   "cell_type": "code",
   "execution_count": 20,
   "metadata": {
    "scrolled": true
   },
   "outputs": [
    {
     "data": {
      "image/png": "[encoded data removed]",
      "text/plain": [
       "plot without title"
      ]
     },
     "metadata": {},
     "output_type": "display_data"
    }
   ],
   "source": [
    "plot(dag)  "
   ]
  }
 ],
 "metadata": {
  "kernelspec": {
   "display_name": "R",
   "language": "R",
   "name": "ir"
  },
  "language_info": {
   "codemirror_mode": "r",
   "file_extension": ".r",
   "mimetype": "text/x-r-source",
   "name": "R",
   "pygments_lexer": "r",
   "version": "3.5.2"
  },
  "latex_envs": {
   "LaTeX_envs_menu_present": true,
   "autoclose": false,
   "autocomplete": true,
   "bibliofile": "biblio.bib",
   "cite_by": "apalike",
   "current_citInitial": 1,
   "eqLabelWithNumbers": true,
   "eqNumInitial": 1,
   "hotkeys": {
    "equation": "Ctrl-E",
    "itemize": "Ctrl-I"
   },
   "labels_anchors": false,
   "latex_user_defs": false,
   "report_style_numbering": false,
   "user_envs_cfg": false
  },
  "toc": {
   "base_numbering": 1,
   "nav_menu": {},
   "number_sections": true,
   "sideBar": true,
   "skip_h1_title": false,
   "title_cell": "Table of Contents",
   "title_sidebar": "Contents",
   "toc_cell": false,
   "toc_position": {},
   "toc_section_display": true,
   "toc_window_display": false
  }
 },
 "nbformat": 4,
 "nbformat_minor": 2
}
