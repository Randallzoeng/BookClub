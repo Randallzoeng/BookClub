{
 "cells": [
  {
   "cell_type": "markdown",
   "metadata": {},
   "source": [
    "构建概率图模型大致需要3个步骤：\n",
    "1. 定义随机变量，即图中的节点；\n",
    "2. 定义图的结构；\n",
    "3. 定义每个局部分布的数值参数。\n",
    "\n",
    "> 在整个这一章中，我们会做一个假设，即数据集是i.i.d的，独立同分布（Independently and Identically Distributed）的缩写。这意味着每个变量都假设服从同样的概率分布，且每个观测又独立于数据集中的其他变量。"
   ]
  },
  {
   "cell_type": "code",
   "execution_count": 22,
   "metadata": {
    "scrolled": true
   },
   "outputs": [
    {
     "data": {
      "text/html": [
       "<table>\n",
       "<thead><tr><th scope=col>sepal_length</th><th scope=col>sepal_width</th><th scope=col>petal_length</th><th scope=col>petal_width</th><th scope=col>class</th></tr></thead>\n",
       "<tbody>\n",
       "\t<tr><td>4.9        </td><td>3.0        </td><td>1.4        </td><td>0.2        </td><td>Iris-setosa</td></tr>\n",
       "\t<tr><td>4.7        </td><td>3.2        </td><td>1.3        </td><td>0.2        </td><td>Iris-setosa</td></tr>\n",
       "\t<tr><td>4.6        </td><td>3.1        </td><td>1.5        </td><td>0.2        </td><td>Iris-setosa</td></tr>\n",
       "\t<tr><td>5.0        </td><td>3.6        </td><td>1.4        </td><td>0.2        </td><td>Iris-setosa</td></tr>\n",
       "\t<tr><td>5.4        </td><td>3.9        </td><td>1.7        </td><td>0.4        </td><td>Iris-setosa</td></tr>\n",
       "\t<tr><td>4.6        </td><td>3.4        </td><td>1.4        </td><td>0.3        </td><td>Iris-setosa</td></tr>\n",
       "</tbody>\n",
       "</table>\n"
      ],
      "text/latex": [
       "\\begin{tabular}{r|lllll}\n",
       " sepal\\_length & sepal\\_width & petal\\_length & petal\\_width & class\\\\\n",
       "\\hline\n",
       "\t 4.9         & 3.0         & 1.4         & 0.2         & Iris-setosa\\\\\n",
       "\t 4.7         & 3.2         & 1.3         & 0.2         & Iris-setosa\\\\\n",
       "\t 4.6         & 3.1         & 1.5         & 0.2         & Iris-setosa\\\\\n",
       "\t 5.0         & 3.6         & 1.4         & 0.2         & Iris-setosa\\\\\n",
       "\t 5.4         & 3.9         & 1.7         & 0.4         & Iris-setosa\\\\\n",
       "\t 4.6         & 3.4         & 1.4         & 0.3         & Iris-setosa\\\\\n",
       "\\end{tabular}\n"
      ],
      "text/markdown": [
       "\n",
       "| sepal_length | sepal_width | petal_length | petal_width | class |\n",
       "|---|---|---|---|---|\n",
       "| 4.9         | 3.0         | 1.4         | 0.2         | Iris-setosa |\n",
       "| 4.7         | 3.2         | 1.3         | 0.2         | Iris-setosa |\n",
       "| 4.6         | 3.1         | 1.5         | 0.2         | Iris-setosa |\n",
       "| 5.0         | 3.6         | 1.4         | 0.2         | Iris-setosa |\n",
       "| 5.4         | 3.9         | 1.7         | 0.4         | Iris-setosa |\n",
       "| 4.6         | 3.4         | 1.4         | 0.3         | Iris-setosa |\n",
       "\n"
      ],
      "text/plain": [
       "  sepal_length sepal_width petal_length petal_width class      \n",
       "1 4.9          3.0         1.4          0.2         Iris-setosa\n",
       "2 4.7          3.2         1.3          0.2         Iris-setosa\n",
       "3 4.6          3.1         1.5          0.2         Iris-setosa\n",
       "4 5.0          3.6         1.4          0.2         Iris-setosa\n",
       "5 5.4          3.9         1.7          0.4         Iris-setosa\n",
       "6 4.6          3.4         1.4          0.3         Iris-setosa"
      ]
     },
     "metadata": {},
     "output_type": "display_data"
    }
   ],
   "source": [
    "# data(iris)\n",
    "# x <- iris\n",
    "# colnames(x) <- c(\"sepal_length\",\"sepal_width\",\"petal_length\",\"petal_width\",\"class\")\n",
    "x=read.csv(\"http://archive.ics.uci.edu/ml/machine-learning-databases/\n",
    "iris/iris.data\",col.names=c(\"sepal_length\",\"sepal_width\",\"petal_length\",\"petal_width\",\"class\"))\n",
    "head(x)"
   ]
  },
  {
   "cell_type": "code",
   "execution_count": 23,
   "metadata": {
    "scrolled": false
   },
   "outputs": [
    {
     "data": {
      "text/html": [
       "<table>\n",
       "<thead><tr><th></th><th scope=col>vars</th><th scope=col>n</th><th scope=col>mean</th><th scope=col>sd</th><th scope=col>median</th><th scope=col>trimmed</th><th scope=col>mad</th><th scope=col>min</th><th scope=col>max</th><th scope=col>range</th><th scope=col>skew</th><th scope=col>kurtosis</th><th scope=col>se</th></tr></thead>\n",
       "<tbody>\n",
       "\t<tr><th scope=row>sepal_length</th><td>1          </td><td>149        </td><td>5.848322   </td><td>0.8285941  </td><td>5.8        </td><td>5.814876   </td><td>1.03782    </td><td>4.3        </td><td>7.9        </td><td>3.6        </td><td> 0.29702268</td><td>-0.6075972 </td><td>0.06788107 </td></tr>\n",
       "\t<tr><th scope=row>sepal_width</th><td>2          </td><td>149        </td><td>3.051007   </td><td>0.4334989  </td><td>3.0        </td><td>3.036364   </td><td>0.29652    </td><td>2.0        </td><td>4.4        </td><td>2.4        </td><td> 0.34308357</td><td> 0.2243420 </td><td>0.03551361 </td></tr>\n",
       "\t<tr><th scope=row>petal_length</th><td>3          </td><td>149        </td><td>3.774497   </td><td>1.7596512  </td><td>4.4        </td><td>3.777686   </td><td>1.77912    </td><td>1.0        </td><td>6.9        </td><td>5.9        </td><td>-0.28365705</td><td>-1.4006469 </td><td>0.14415624 </td></tr>\n",
       "\t<tr><th scope=row>petal_width</th><td>4          </td><td>149        </td><td>1.205369   </td><td>0.7612920  </td><td>1.3        </td><td>1.192562   </td><td>1.03782    </td><td>0.1        </td><td>2.5        </td><td>2.4        </td><td>-0.11544665</td><td>-1.3463182 </td><td>0.06236747 </td></tr>\n",
       "\t<tr><th scope=row>class*</th><td>5          </td><td>149        </td><td>2.006711   </td><td>0.8178469  </td><td>2.0        </td><td>2.008264   </td><td>1.48260    </td><td>1.0        </td><td>3.0        </td><td>2.0        </td><td>-0.01218523</td><td>-1.5148837 </td><td>0.06700063 </td></tr>\n",
       "</tbody>\n",
       "</table>\n"
      ],
      "text/latex": [
       "\\begin{tabular}{r|lllllllllllll}\n",
       "  & vars & n & mean & sd & median & trimmed & mad & min & max & range & skew & kurtosis & se\\\\\n",
       "\\hline\n",
       "\tsepal\\_length & 1           & 149         & 5.848322    & 0.8285941   & 5.8         & 5.814876    & 1.03782     & 4.3         & 7.9         & 3.6         &  0.29702268 & -0.6075972  & 0.06788107 \\\\\n",
       "\tsepal\\_width & 2           & 149         & 3.051007    & 0.4334989   & 3.0         & 3.036364    & 0.29652     & 2.0         & 4.4         & 2.4         &  0.34308357 &  0.2243420  & 0.03551361 \\\\\n",
       "\tpetal\\_length & 3           & 149         & 3.774497    & 1.7596512   & 4.4         & 3.777686    & 1.77912     & 1.0         & 6.9         & 5.9         & -0.28365705 & -1.4006469  & 0.14415624 \\\\\n",
       "\tpetal\\_width & 4           & 149         & 1.205369    & 0.7612920   & 1.3         & 1.192562    & 1.03782     & 0.1         & 2.5         & 2.4         & -0.11544665 & -1.3463182  & 0.06236747 \\\\\n",
       "\tclass* & 5           & 149         & 2.006711    & 0.8178469   & 2.0         & 2.008264    & 1.48260     & 1.0         & 3.0         & 2.0         & -0.01218523 & -1.5148837  & 0.06700063 \\\\\n",
       "\\end{tabular}\n"
      ],
      "text/markdown": [
       "\n",
       "| <!--/--> | vars | n | mean | sd | median | trimmed | mad | min | max | range | skew | kurtosis | se |\n",
       "|---|---|---|---|---|---|---|---|---|---|---|---|---|---|\n",
       "| sepal_length | 1           | 149         | 5.848322    | 0.8285941   | 5.8         | 5.814876    | 1.03782     | 4.3         | 7.9         | 3.6         |  0.29702268 | -0.6075972  | 0.06788107  |\n",
       "| sepal_width | 2           | 149         | 3.051007    | 0.4334989   | 3.0         | 3.036364    | 0.29652     | 2.0         | 4.4         | 2.4         |  0.34308357 |  0.2243420  | 0.03551361  |\n",
       "| petal_length | 3           | 149         | 3.774497    | 1.7596512   | 4.4         | 3.777686    | 1.77912     | 1.0         | 6.9         | 5.9         | -0.28365705 | -1.4006469  | 0.14415624  |\n",
       "| petal_width | 4           | 149         | 1.205369    | 0.7612920   | 1.3         | 1.192562    | 1.03782     | 0.1         | 2.5         | 2.4         | -0.11544665 | -1.3463182  | 0.06236747  |\n",
       "| class* | 5           | 149         | 2.006711    | 0.8178469   | 2.0         | 2.008264    | 1.48260     | 1.0         | 3.0         | 2.0         | -0.01218523 | -1.5148837  | 0.06700063  |\n",
       "\n"
      ],
      "text/plain": [
       "             vars n   mean     sd        median trimmed  mad     min max range\n",
       "sepal_length 1    149 5.848322 0.8285941 5.8    5.814876 1.03782 4.3 7.9 3.6  \n",
       "sepal_width  2    149 3.051007 0.4334989 3.0    3.036364 0.29652 2.0 4.4 2.4  \n",
       "petal_length 3    149 3.774497 1.7596512 4.4    3.777686 1.77912 1.0 6.9 5.9  \n",
       "petal_width  4    149 1.205369 0.7612920 1.3    1.192562 1.03782 0.1 2.5 2.4  \n",
       "class*       5    149 2.006711 0.8178469 2.0    2.008264 1.48260 1.0 3.0 2.0  \n",
       "             skew        kurtosis   se        \n",
       "sepal_length  0.29702268 -0.6075972 0.06788107\n",
       "sepal_width   0.34308357  0.2243420 0.03551361\n",
       "petal_length -0.28365705 -1.4006469 0.14415624\n",
       "petal_width  -0.11544665 -1.3463182 0.06236747\n",
       "class*       -0.01218523 -1.5148837 0.06700063"
      ]
     },
     "metadata": {},
     "output_type": "display_data"
    }
   ],
   "source": [
    "library(psych)\n",
    "describe(x)"
   ]
  },
  {
   "cell_type": "code",
   "execution_count": 24,
   "metadata": {},
   "outputs": [
    {
     "data": {
      "text/html": [
       "<dl class=dl-horizontal>\n",
       "\t<dt>Iris-setosa</dt>\n",
       "\t\t<dd>0.328859060402685</dd>\n",
       "\t<dt>Iris-versicolor</dt>\n",
       "\t\t<dd>0.335570469798658</dd>\n",
       "\t<dt>Iris-virginica</dt>\n",
       "\t\t<dd>0.335570469798658</dd>\n",
       "</dl>\n"
      ],
      "text/latex": [
       "\\begin{description*}\n",
       "\\item[Iris-setosa] 0.328859060402685\n",
       "\\item[Iris-versicolor] 0.335570469798658\n",
       "\\item[Iris-virginica] 0.335570469798658\n",
       "\\end{description*}\n"
      ],
      "text/markdown": [
       "Iris-setosa\n",
       ":   0.328859060402685Iris-versicolor\n",
       ":   0.335570469798658Iris-virginica\n",
       ":   0.335570469798658\n",
       "\n"
      ],
      "text/plain": [
       "    Iris-setosa Iris-versicolor  Iris-virginica \n",
       "      0.3288591       0.3355705       0.3355705 "
      ]
     },
     "metadata": {},
     "output_type": "display_data"
    }
   ],
   "source": [
    "library(plyr)\n",
    "y = daply(x,.(class),nrow)/nrow(x)\n",
    "y"
   ]
  },
  {
   "cell_type": "code",
   "execution_count": 25,
   "metadata": {},
   "outputs": [
    {
     "data": {
      "text/html": [
       "<dl class=dl-horizontal>\n",
       "\t<dt>Iris-setosa</dt>\n",
       "\t\t<dd>5.00408163265306</dd>\n",
       "\t<dt>Iris-versicolor</dt>\n",
       "\t\t<dd>5.936</dd>\n",
       "\t<dt>Iris-virginica</dt>\n",
       "\t\t<dd>6.588</dd>\n",
       "</dl>\n"
      ],
      "text/latex": [
       "\\begin{description*}\n",
       "\\item[Iris-setosa] 5.00408163265306\n",
       "\\item[Iris-versicolor] 5.936\n",
       "\\item[Iris-virginica] 6.588\n",
       "\\end{description*}\n"
      ],
      "text/markdown": [
       "Iris-setosa\n",
       ":   5.00408163265306Iris-versicolor\n",
       ":   5.936Iris-virginica\n",
       ":   6.588\n",
       "\n"
      ],
      "text/plain": [
       "    Iris-setosa Iris-versicolor  Iris-virginica \n",
       "       5.004082        5.936000        6.588000 "
      ]
     },
     "metadata": {},
     "output_type": "display_data"
    }
   ],
   "source": [
    "# P(SepalLength,Class)=P(SepalLength|Class)·P(Class)\n",
    "daply(x,.(class),function(n) mean(n$sepal_length))"
   ]
  },
  {
   "cell_type": "code",
   "execution_count": 26,
   "metadata": {},
   "outputs": [
    {
     "data": {
      "text/html": [
       "<dl class=dl-horizontal>\n",
       "\t<dt>Iris-setosa</dt>\n",
       "\t\t<dd>0.126649659863946</dd>\n",
       "\t<dt>Iris-versicolor</dt>\n",
       "\t\t<dd>0.266432653061224</dd>\n",
       "\t<dt>Iris-virginica</dt>\n",
       "\t\t<dd>0.404342857142857</dd>\n",
       "</dl>\n"
      ],
      "text/latex": [
       "\\begin{description*}\n",
       "\\item[Iris-setosa] 0.126649659863946\n",
       "\\item[Iris-versicolor] 0.266432653061224\n",
       "\\item[Iris-virginica] 0.404342857142857\n",
       "\\end{description*}\n"
      ],
      "text/markdown": [
       "Iris-setosa\n",
       ":   0.126649659863946Iris-versicolor\n",
       ":   0.266432653061224Iris-virginica\n",
       ":   0.404342857142857\n",
       "\n"
      ],
      "text/plain": [
       "    Iris-setosa Iris-versicolor  Iris-virginica \n",
       "      0.1266497       0.2664327       0.4043429 "
      ]
     },
     "metadata": {},
     "output_type": "display_data"
    }
   ],
   "source": [
    "daply(x,.(class),function(n) var(n$sepal_length))"
   ]
  },
  {
   "cell_type": "code",
   "execution_count": 27,
   "metadata": {
    "scrolled": true
   },
   "outputs": [
    {
     "data": {
      "text/html": [
       "<dl class=dl-horizontal>\n",
       "\t<dt>0%</dt>\n",
       "\t\t<dd>2</dd>\n",
       "\t<dt>33%</dt>\n",
       "\t\t<dd>2.9</dd>\n",
       "\t<dt>66%</dt>\n",
       "\t\t<dd>3.2</dd>\n",
       "\t<dt>99%</dt>\n",
       "\t\t<dd>4.152</dd>\n",
       "</dl>\n"
      ],
      "text/latex": [
       "\\begin{description*}\n",
       "\\item[0\\textbackslash{}\\%] 2\n",
       "\\item[33\\textbackslash{}\\%] 2.9\n",
       "\\item[66\\textbackslash{}\\%] 3.2\n",
       "\\item[99\\textbackslash{}\\%] 4.152\n",
       "\\end{description*}\n"
      ],
      "text/markdown": [
       "0%\n",
       ":   233%\n",
       ":   2.966%\n",
       ":   3.299%\n",
       ":   4.152\n",
       "\n"
      ],
      "text/plain": [
       "   0%   33%   66%   99% \n",
       "2.000 2.900 3.200 4.152 "
      ]
     },
     "metadata": {},
     "output_type": "display_data"
    }
   ],
   "source": [
    "q <- quantile(x$sepal_width,seq(0,1,0.33))\n",
    "q"
   ]
  },
  {
   "cell_type": "code",
   "execution_count": 28,
   "metadata": {},
   "outputs": [],
   "source": [
    "x$sepal_width_cat[x$sepal_width < q['33%']] = 'small'\n",
    "x$sepal_width_cat[(x$sepal_width >= q['33%']) & (x$sepal_width < q['66%'])] = 'medium'\n",
    "x$sepal_width_cat[x$sepal_width >= q['66%']] = 'large'"
   ]
  },
  {
   "cell_type": "code",
   "execution_count": 29,
   "metadata": {},
   "outputs": [
    {
     "data": {
      "text/html": [
       "<table>\n",
       "<thead><tr><th></th><th scope=col>Iris-setosa</th><th scope=col>Iris-versicolor</th><th scope=col>Iris-virginica</th></tr></thead>\n",
       "<tbody>\n",
       "\t<tr><th scope=row>large</th><td>36</td><td> 5</td><td>13</td></tr>\n",
       "\t<tr><th scope=row>medium</th><td>12</td><td>18</td><td>18</td></tr>\n",
       "\t<tr><th scope=row>small</th><td> 1</td><td>27</td><td>19</td></tr>\n",
       "</tbody>\n",
       "</table>\n"
      ],
      "text/latex": [
       "\\begin{tabular}{r|lll}\n",
       "  & Iris-setosa & Iris-versicolor & Iris-virginica\\\\\n",
       "\\hline\n",
       "\tlarge & 36 &  5 & 13\\\\\n",
       "\tmedium & 12 & 18 & 18\\\\\n",
       "\tsmall &  1 & 27 & 19\\\\\n",
       "\\end{tabular}\n"
      ],
      "text/markdown": [
       "\n",
       "| <!--/--> | Iris-setosa | Iris-versicolor | Iris-virginica |\n",
       "|---|---|---|---|\n",
       "| large | 36 |  5 | 13 |\n",
       "| medium | 12 | 18 | 18 |\n",
       "| small |  1 | 27 | 19 |\n",
       "\n"
      ],
      "text/plain": [
       "               class\n",
       "sepal_width_cat Iris-setosa Iris-versicolor Iris-virginica\n",
       "         large  36           5              13            \n",
       "         medium 12          18              18            \n",
       "         small   1          27              19            "
      ]
     },
     "metadata": {},
     "output_type": "display_data"
    }
   ],
   "source": [
    "#P(dsw|class)\n",
    "p1 <- daply(x,.(sepal_width_cat,class),function(n) nrow(n))\n",
    "p1"
   ]
  },
  {
   "cell_type": "code",
   "execution_count": 30,
   "metadata": {
    "scrolled": false
   },
   "outputs": [
    {
     "data": {
      "text/html": [
       "<table>\n",
       "<thead><tr><th></th><th scope=col>Iris-setosa</th><th scope=col>Iris-versicolor</th><th scope=col>Iris-virginica</th></tr></thead>\n",
       "<tbody>\n",
       "\t<tr><th scope=row>large</th><td>0.7346939</td><td>0.1020408</td><td>0.2653061</td></tr>\n",
       "\t<tr><th scope=row>medium</th><td>0.2400000</td><td>0.3600000</td><td>0.3600000</td></tr>\n",
       "\t<tr><th scope=row>small</th><td>0.0200000</td><td>0.5400000</td><td>0.3800000</td></tr>\n",
       "</tbody>\n",
       "</table>\n"
      ],
      "text/latex": [
       "\\begin{tabular}{r|lll}\n",
       "  & Iris-setosa & Iris-versicolor & Iris-virginica\\\\\n",
       "\\hline\n",
       "\tlarge & 0.7346939 & 0.1020408 & 0.2653061\\\\\n",
       "\tmedium & 0.2400000 & 0.3600000 & 0.3600000\\\\\n",
       "\tsmall & 0.0200000 & 0.5400000 & 0.3800000\\\\\n",
       "\\end{tabular}\n"
      ],
      "text/markdown": [
       "\n",
       "| <!--/--> | Iris-setosa | Iris-versicolor | Iris-virginica |\n",
       "|---|---|---|---|\n",
       "| large | 0.7346939 | 0.1020408 | 0.2653061 |\n",
       "| medium | 0.2400000 | 0.3600000 | 0.3600000 |\n",
       "| small | 0.0200000 | 0.5400000 | 0.3800000 |\n",
       "\n"
      ],
      "text/plain": [
       "               class\n",
       "sepal_width_cat Iris-setosa Iris-versicolor Iris-virginica\n",
       "         large  0.7346939   0.1020408       0.2653061     \n",
       "         medium 0.2400000   0.3600000       0.3600000     \n",
       "         small  0.0200000   0.5400000       0.3800000     "
      ]
     },
     "metadata": {},
     "output_type": "display_data"
    }
   ],
   "source": [
    "p1 <- p1/colSums(p1)\n",
    "p1"
   ]
  },
  {
   "cell_type": "markdown",
   "metadata": {},
   "source": [
    "---"
   ]
  },
  {
   "cell_type": "markdown",
   "metadata": {},
   "source": [
    "# 通过推断学习\n",
    "## 先验概率\n",
    "- P(θ=0.2)=0.2 有20%的几率更趋向反面（即正面朝上的几率为0.2）\n",
    "- P(θ=0.5)=0.75 我们相信硬币有75%的几率是公平的（即正面朝上的几率为0.5）\n",
    "- P(θ=0.8)=0.05 有5%的几率趋向正面（即正面朝上的几率为0.8）"
   ]
  },
  {
   "cell_type": "code",
   "execution_count": 32,
   "metadata": {},
   "outputs": [],
   "source": [
    "posterior <- function(prob, nh, nt, Theta =c(0.2, 0.5, 0.8)) \n",
    "{ \n",
    "        x =numeric(3)  \n",
    "        for (i in 1:3) \n",
    "                 x[i] =prob[i] *(Theta[i]^nh) *((1 -Theta[i])^nt)  \n",
    "        norm =sum(x)  \n",
    "        return(x/norm)  \n",
    "} "
   ]
  },
  {
   "cell_type": "code",
   "execution_count": 33,
   "metadata": {},
   "outputs": [
    {
     "data": {
      "text/html": [
       "<ol class=list-inline>\n",
       "\t<li>0.646931856743331</li>\n",
       "\t<li>0.353028657669709</li>\n",
       "\t<li>3.94855869594317e-05</li>\n",
       "</ol>\n"
      ],
      "text/latex": [
       "\\begin{enumerate*}\n",
       "\\item 0.646931856743331\n",
       "\\item 0.353028657669709\n",
       "\\item 3.94855869594317e-05\n",
       "\\end{enumerate*}\n"
      ],
      "text/markdown": [
       "1. 0.646931856743331\n",
       "2. 0.353028657669709\n",
       "3. 3.94855869594317e-05\n",
       "\n",
       "\n"
      ],
      "text/plain": [
       "[1] 6.469319e-01 3.530287e-01 3.948559e-05"
      ]
     },
     "metadata": {},
     "output_type": "display_data"
    }
   ],
   "source": [
    "posterior(c(0.2,0.75,0.05),2,8)"
   ]
  },
  {
   "cell_type": "markdown",
   "metadata": {},
   "source": [
    "🔀我们做了下面的试验：\n",
    "2次正面朝上和8次反面朝上\n",
    "\n",
    "硬币以65%的概率趋向于反面朝上。但是硬币的公平度还是35%，依然不小。"
   ]
  },
  {
   "cell_type": "markdown",
   "metadata": {},
   "source": [
    "> 最后，我们给出一个处理概率计算时的必要技巧。当你需要把许多小数值相乘时，使用对数的加和，而不是原始值和乘法。因此新的算法会用到等式：log(ab)=log(a)+log(b)"
   ]
  },
  {
   "cell_type": "code",
   "execution_count": 34,
   "metadata": {},
   "outputs": [],
   "source": [
    "posterior <- function(prob, nh, nt, Theta =c(0.2, 0.5, 0.8)) \n",
    "{ \n",
    "        x =numeric(3)  \n",
    "        for (i in 1:3) \n",
    "                 x[i] =x[i] =exp(log(prob[i]) +nh *log(Theta[i]) +nt *log(1 -Theta[i]))\n",
    "        norm =sum(x)  \n",
    "        return(x/norm)  \n",
    "} "
   ]
  },
  {
   "cell_type": "code",
   "execution_count": 36,
   "metadata": {
    "scrolled": true
   },
   "outputs": [
    {
     "data": {
      "text/html": [
       "<ol class=list-inline>\n",
       "\t<li>0.872780622480382</li>\n",
       "\t<li>0.127006296312958</li>\n",
       "\t<li>0.000213081206660249</li>\n",
       "</ol>\n"
      ],
      "text/latex": [
       "\\begin{enumerate*}\n",
       "\\item 0.872780622480382\n",
       "\\item 0.127006296312958\n",
       "\\item 0.000213081206660249\n",
       "\\end{enumerate*}\n"
      ],
      "text/markdown": [
       "1. 0.872780622480382\n",
       "2. 0.127006296312958\n",
       "3. 0.000213081206660249\n",
       "\n",
       "\n"
      ],
      "text/plain": [
       "[1] 0.8727806225 0.1270062963 0.0002130812"
      ]
     },
     "metadata": {},
     "output_type": "display_data"
    }
   ],
   "source": [
    "posterior(c(1/3,1/3,1/3),2,8,c(0.2,0.5,0.8))  "
   ]
  },
  {
   "cell_type": "markdown",
   "metadata": {},
   "source": [
    "---"
   ]
  },
  {
   "cell_type": "markdown",
   "metadata": {},
   "source": [
    "empirical distribution 经验分布"
   ]
  },
  {
   "cell_type": "code",
   "execution_count": 2,
   "metadata": {},
   "outputs": [],
   "source": [
    "library(graph)\n",
    "library(Rgraphviz) \n",
    "library(plyr)  "
   ]
  },
  {
   "cell_type": "code",
   "execution_count": 3,
   "metadata": {
    "scrolled": true
   },
   "outputs": [
    {
     "data": {
      "image/png": "[encoded data removed]",
      "text/plain": [
       "plot without title"
      ]
     },
     "metadata": {},
     "output_type": "display_data"
    },
    {
     "data": {
      "image/png": "[encoded data removed]",
      "text/plain": [
       "plot without title"
      ]
     },
     "metadata": {},
     "output_type": "display_data"
    }
   ],
   "source": [
    "data0 <- data.frame(\n",
    "\tx=c(\"a\",\"a\",\"a\",\"a\",\"b\",\"b\",\"b\",\"b\"),\n",
    "\ty=c(\"t\",\"t\",\"u\",\"u\",\"t\",\"t\",\"u\",\"u\"),\n",
    "\tz=c(\"c\",\"d\",\"c\",\"d\",\"c\",\"d\",\"c\",\"d\"))\n",
    "\n",
    "edges0 <- list(x=list(edges=2),y=list(edges=3),z=list())\n",
    "g0 <- graphNEL(nodes=names(data0),edgeL=edges0,edgemod=\"directed\") \n",
    "plot(g0)\n",
    "\n",
    "data1 <- read.csv(\"nursery.data\", col.names=c(\"parents\",\"has_nurs\",\"form\",\"children\",\"housing\",\"finance\",\"social\",\"health\",\"class\"))\n",
    "edges1 <- list( parents=list(), has_nurs=list(), form=list(), children=list(), \n",
    "\t     housing=list(), finance=list(), social=list(), health=list(),\n",
    "\t     class=list(edges=1:8) )\n",
    "g1 <- graphNEL(nodes=names(data1), edgeL=edges1,edgemod=\"directed\")\n",
    "plot(g1)"
   ]
  },
  {
   "cell_type": "code",
   "execution_count": 4,
   "metadata": {},
   "outputs": [],
   "source": [
    "make_cpt<-function(df,pa)\n",
    "{\n",
    "\tprob <- nrow(df)\n",
    "\tparents <- data.frame(df[1,pa])\n",
    "\tnames(parents) <- pa\n",
    "\n",
    "\tdata.frame(parents,prob)\n",
    "}\n",
    "\n",
    "learn <- function(g,data)\n",
    "{\n",
    "\trg <- reverseEdgeDirections(g)\n",
    "\tresult <- list()\n",
    "\n",
    "\tfor(var in rg@nodes)\n",
    "\t{\n",
    "\t\tpa <- unlist(adj(rg,var))\n",
    "\t\tif(length(pa)>0)\n",
    "\t\t{\n",
    "\t\t\tX <- ddply(data, c(var,pa), make_cpt, pa)\n",
    "\t\t\tY <- ddply(data, pa, make_cpt, pa)\n",
    "\t\t\tfor(i in 1:nrow(Y))\n",
    "\t\t\t{\n",
    "\t\t\t\tc <- sapply(1:nrow(X), function(j) all(X[j,pa] == Y[i,pa]))\n",
    "\t\t\t\tc <- which(c)\n",
    "\t\t\t\tX$prob[c] <- X$prob[c]/Y$prob[i]\n",
    "\t\t\t}\n",
    "\t\t}\n",
    "\t\telse\n",
    "\t\t{\n",
    "\t\t\tX <- ddply(data,var, function(df) c(prob=nrow(df)))\n",
    "\t\t\tX$prob <- X$prob/sum(X$prob)\n",
    "\t\t}\n",
    "\n",
    "\t\tresult[[length(result)+1]] <- X\n",
    "\t}\n",
    "\n",
    "\treturn(result)\n",
    "}\n"
   ]
  },
  {
   "cell_type": "code",
   "execution_count": 5,
   "metadata": {
    "scrolled": true
   },
   "outputs": [
    {
     "data": {
      "text/html": [
       "<ol>\n",
       "\t<li><table>\n",
       "<thead><tr><th scope=col>x</th><th scope=col>prob</th></tr></thead>\n",
       "<tbody>\n",
       "\t<tr><td>a  </td><td>0.5</td></tr>\n",
       "\t<tr><td>b  </td><td>0.5</td></tr>\n",
       "</tbody>\n",
       "</table>\n",
       "</li>\n",
       "\t<li><table>\n",
       "<thead><tr><th scope=col>y</th><th scope=col>x</th><th scope=col>prob</th></tr></thead>\n",
       "<tbody>\n",
       "\t<tr><td>t  </td><td>a  </td><td>0.5</td></tr>\n",
       "\t<tr><td>t  </td><td>b  </td><td>0.5</td></tr>\n",
       "\t<tr><td>u  </td><td>a  </td><td>0.5</td></tr>\n",
       "\t<tr><td>u  </td><td>b  </td><td>0.5</td></tr>\n",
       "</tbody>\n",
       "</table>\n",
       "</li>\n",
       "\t<li><table>\n",
       "<thead><tr><th scope=col>z</th><th scope=col>y</th><th scope=col>prob</th></tr></thead>\n",
       "<tbody>\n",
       "\t<tr><td>c  </td><td>t  </td><td>0.5</td></tr>\n",
       "\t<tr><td>c  </td><td>u  </td><td>0.5</td></tr>\n",
       "\t<tr><td>d  </td><td>t  </td><td>0.5</td></tr>\n",
       "\t<tr><td>d  </td><td>u  </td><td>0.5</td></tr>\n",
       "</tbody>\n",
       "</table>\n",
       "</li>\n",
       "</ol>\n"
      ],
      "text/latex": [
       "\\begin{enumerate}\n",
       "\\item \\begin{tabular}{r|ll}\n",
       " x & prob\\\\\n",
       "\\hline\n",
       "\t a   & 0.5\\\\\n",
       "\t b   & 0.5\\\\\n",
       "\\end{tabular}\n",
       "\n",
       "\\item \\begin{tabular}{r|lll}\n",
       " y & x & prob\\\\\n",
       "\\hline\n",
       "\t t   & a   & 0.5\\\\\n",
       "\t t   & b   & 0.5\\\\\n",
       "\t u   & a   & 0.5\\\\\n",
       "\t u   & b   & 0.5\\\\\n",
       "\\end{tabular}\n",
       "\n",
       "\\item \\begin{tabular}{r|lll}\n",
       " z & y & prob\\\\\n",
       "\\hline\n",
       "\t c   & t   & 0.5\\\\\n",
       "\t c   & u   & 0.5\\\\\n",
       "\t d   & t   & 0.5\\\\\n",
       "\t d   & u   & 0.5\\\\\n",
       "\\end{tabular}\n",
       "\n",
       "\\end{enumerate}\n"
      ],
      "text/markdown": [
       "1. \n",
       "| x | prob |\n",
       "|---|---|\n",
       "| a   | 0.5 |\n",
       "| b   | 0.5 |\n",
       "\n",
       "\n",
       "2. \n",
       "| y | x | prob |\n",
       "|---|---|---|\n",
       "| t   | a   | 0.5 |\n",
       "| t   | b   | 0.5 |\n",
       "| u   | a   | 0.5 |\n",
       "| u   | b   | 0.5 |\n",
       "\n",
       "\n",
       "3. \n",
       "| z | y | prob |\n",
       "|---|---|---|\n",
       "| c   | t   | 0.5 |\n",
       "| c   | u   | 0.5 |\n",
       "| d   | t   | 0.5 |\n",
       "| d   | u   | 0.5 |\n",
       "\n",
       "\n",
       "\n",
       "\n"
      ],
      "text/plain": [
       "[[1]]\n",
       "  x prob\n",
       "1 a  0.5\n",
       "2 b  0.5\n",
       "\n",
       "[[2]]\n",
       "  y x prob\n",
       "1 t a  0.5\n",
       "2 t b  0.5\n",
       "3 u a  0.5\n",
       "4 u b  0.5\n",
       "\n",
       "[[3]]\n",
       "  z y prob\n",
       "1 c t  0.5\n",
       "2 c u  0.5\n",
       "3 d t  0.5\n",
       "4 d u  0.5\n"
      ]
     },
     "metadata": {},
     "output_type": "display_data"
    }
   ],
   "source": [
    "learn(g0,data0)"
   ]
  },
  {
   "cell_type": "code",
   "execution_count": 6,
   "metadata": {},
   "outputs": [
    {
     "data": {
      "text/html": [
       "<ol>\n",
       "\t<li><table>\n",
       "<thead><tr><th scope=col>parents</th><th scope=col>class</th><th scope=col>prob</th></tr></thead>\n",
       "<tbody>\n",
       "\t<tr><td>great_pret </td><td>not_recom  </td><td>0.3333333  </td></tr>\n",
       "\t<tr><td>great_pret </td><td>priority   </td><td>0.2011252  </td></tr>\n",
       "\t<tr><td>great_pret </td><td>spec_prior </td><td>0.5000000  </td></tr>\n",
       "\t<tr><td>pretentious</td><td>not_recom  </td><td>0.3333333  </td></tr>\n",
       "\t<tr><td>pretentious</td><td>priority   </td><td>0.3478669  </td></tr>\n",
       "\t<tr><td>pretentious</td><td>spec_prior </td><td>0.3125618  </td></tr>\n",
       "\t<tr><td>pretentious</td><td>very_recom </td><td>0.4024390  </td></tr>\n",
       "\t<tr><td>usual      </td><td>not_recom  </td><td>0.3333333  </td></tr>\n",
       "\t<tr><td>usual      </td><td>priority   </td><td>0.4510080  </td></tr>\n",
       "\t<tr><td>usual      </td><td>recommend  </td><td>1.0000000  </td></tr>\n",
       "\t<tr><td>usual      </td><td>spec_prior </td><td>0.1874382  </td></tr>\n",
       "\t<tr><td>usual      </td><td>very_recom </td><td>0.5975610  </td></tr>\n",
       "</tbody>\n",
       "</table>\n",
       "</li>\n",
       "\t<li><table>\n",
       "<thead><tr><th scope=col>has_nurs</th><th scope=col>class</th><th scope=col>prob</th></tr></thead>\n",
       "<tbody>\n",
       "\t<tr><td>critical   </td><td>not_recom  </td><td>0.20000000 </td></tr>\n",
       "\t<tr><td>critical   </td><td>priority   </td><td>0.10876699 </td></tr>\n",
       "\t<tr><td>critical   </td><td>spec_prior </td><td>0.31256182 </td></tr>\n",
       "\t<tr><td>improper   </td><td>not_recom  </td><td>0.20000000 </td></tr>\n",
       "\t<tr><td>improper   </td><td>priority   </td><td>0.21190811 </td></tr>\n",
       "\t<tr><td>improper   </td><td>spec_prior </td><td>0.18743818 </td></tr>\n",
       "\t<tr><td>improper   </td><td>very_recom </td><td>0.20121951 </td></tr>\n",
       "\t<tr><td>less_proper</td><td>not_recom  </td><td>0.20000000 </td></tr>\n",
       "\t<tr><td>less_proper</td><td>priority   </td><td>0.31504923 </td></tr>\n",
       "\t<tr><td>less_proper</td><td>spec_prior </td><td>0.06231454 </td></tr>\n",
       "\t<tr><td>less_proper</td><td>very_recom </td><td>0.40243902 </td></tr>\n",
       "\t<tr><td>proper     </td><td>not_recom  </td><td>0.20000000 </td></tr>\n",
       "\t<tr><td>proper     </td><td>priority   </td><td>0.31504923 </td></tr>\n",
       "\t<tr><td>proper     </td><td>recommend  </td><td>1.00000000 </td></tr>\n",
       "\t<tr><td>proper     </td><td>spec_prior </td><td>0.06231454 </td></tr>\n",
       "\t<tr><td>proper     </td><td>very_recom </td><td>0.39634146 </td></tr>\n",
       "\t<tr><td>very_crit  </td><td>not_recom  </td><td>0.20000000 </td></tr>\n",
       "\t<tr><td>very_crit  </td><td>priority   </td><td>0.04922644 </td></tr>\n",
       "\t<tr><td>very_crit  </td><td>spec_prior </td><td>0.37537092 </td></tr>\n",
       "</tbody>\n",
       "</table>\n",
       "</li>\n",
       "\t<li><table>\n",
       "<thead><tr><th scope=col>form</th><th scope=col>class</th><th scope=col>prob</th></tr></thead>\n",
       "<tbody>\n",
       "\t<tr><td>complete  </td><td>not_recom </td><td>0.2500000 </td></tr>\n",
       "\t<tr><td>complete  </td><td>priority  </td><td>0.2700422 </td></tr>\n",
       "\t<tr><td>complete  </td><td>recommend </td><td>1.0000000 </td></tr>\n",
       "\t<tr><td>complete  </td><td>spec_prior</td><td>0.2195846 </td></tr>\n",
       "\t<tr><td>complete  </td><td>very_recom</td><td>0.3597561 </td></tr>\n",
       "\t<tr><td>completed </td><td>not_recom </td><td>0.2500000 </td></tr>\n",
       "\t<tr><td>completed </td><td>priority  </td><td>0.2559775 </td></tr>\n",
       "\t<tr><td>completed </td><td>spec_prior</td><td>0.2393670 </td></tr>\n",
       "\t<tr><td>completed </td><td>very_recom</td><td>0.3048780 </td></tr>\n",
       "\t<tr><td>foster    </td><td>not_recom </td><td>0.2500000 </td></tr>\n",
       "\t<tr><td>foster    </td><td>priority  </td><td>0.2306610 </td></tr>\n",
       "\t<tr><td>foster    </td><td>spec_prior</td><td>0.2809100 </td></tr>\n",
       "\t<tr><td>foster    </td><td>very_recom</td><td>0.1219512 </td></tr>\n",
       "\t<tr><td>incomplete</td><td>not_recom </td><td>0.2500000 </td></tr>\n",
       "\t<tr><td>incomplete</td><td>priority  </td><td>0.2433193 </td></tr>\n",
       "\t<tr><td>incomplete</td><td>spec_prior</td><td>0.2601385 </td></tr>\n",
       "\t<tr><td>incomplete</td><td>very_recom</td><td>0.2134146 </td></tr>\n",
       "</tbody>\n",
       "</table>\n",
       "</li>\n",
       "\t<li><table>\n",
       "<thead><tr><th scope=col>children</th><th scope=col>class</th><th scope=col>prob</th></tr></thead>\n",
       "<tbody>\n",
       "\t<tr><td>1         </td><td>not_recom </td><td>0.2500000 </td></tr>\n",
       "\t<tr><td>1         </td><td>priority  </td><td>0.2827004 </td></tr>\n",
       "\t<tr><td>1         </td><td>recommend </td><td>1.0000000 </td></tr>\n",
       "\t<tr><td>1         </td><td>spec_prior</td><td>0.1988131 </td></tr>\n",
       "\t<tr><td>1         </td><td>very_recom</td><td>0.4512195 </td></tr>\n",
       "\t<tr><td>2         </td><td>not_recom </td><td>0.2500000 </td></tr>\n",
       "\t<tr><td>2         </td><td>priority  </td><td>0.2559775 </td></tr>\n",
       "\t<tr><td>2         </td><td>spec_prior</td><td>0.2393670 </td></tr>\n",
       "\t<tr><td>2         </td><td>very_recom</td><td>0.3048780 </td></tr>\n",
       "\t<tr><td>3         </td><td>not_recom </td><td>0.2500000 </td></tr>\n",
       "\t<tr><td>3         </td><td>priority  </td><td>0.2306610 </td></tr>\n",
       "\t<tr><td>3         </td><td>spec_prior</td><td>0.2809100 </td></tr>\n",
       "\t<tr><td>3         </td><td>very_recom</td><td>0.1219512 </td></tr>\n",
       "\t<tr><td>more      </td><td>not_recom </td><td>0.2500000 </td></tr>\n",
       "\t<tr><td>more      </td><td>priority  </td><td>0.2306610 </td></tr>\n",
       "\t<tr><td>more      </td><td>spec_prior</td><td>0.2809100 </td></tr>\n",
       "\t<tr><td>more      </td><td>very_recom</td><td>0.1219512 </td></tr>\n",
       "</tbody>\n",
       "</table>\n",
       "</li>\n",
       "\t<li><table>\n",
       "<thead><tr><th scope=col>housing</th><th scope=col>class</th><th scope=col>prob</th></tr></thead>\n",
       "<tbody>\n",
       "\t<tr><td>convenient</td><td>not_recom </td><td>0.33333333</td></tr>\n",
       "\t<tr><td>convenient</td><td>priority  </td><td>0.37927801</td></tr>\n",
       "\t<tr><td>convenient</td><td>recommend </td><td>1.00000000</td></tr>\n",
       "\t<tr><td>convenient</td><td>spec_prior</td><td>0.26013848</td></tr>\n",
       "\t<tr><td>convenient</td><td>very_recom</td><td>0.63414634</td></tr>\n",
       "\t<tr><td>critical  </td><td>not_recom </td><td>0.33333333</td></tr>\n",
       "\t<tr><td>critical  </td><td>priority  </td><td>0.29348336</td></tr>\n",
       "\t<tr><td>critical  </td><td>spec_prior</td><td>0.39762611</td></tr>\n",
       "\t<tr><td>critical  </td><td>very_recom</td><td>0.06097561</td></tr>\n",
       "\t<tr><td>less_conv </td><td>not_recom </td><td>0.33333333</td></tr>\n",
       "\t<tr><td>less_conv </td><td>priority  </td><td>0.32723863</td></tr>\n",
       "\t<tr><td>less_conv </td><td>spec_prior</td><td>0.34223541</td></tr>\n",
       "\t<tr><td>less_conv </td><td>very_recom</td><td>0.30487805</td></tr>\n",
       "</tbody>\n",
       "</table>\n",
       "</li>\n",
       "\t<li><table>\n",
       "<thead><tr><th scope=col>finance</th><th scope=col>class</th><th scope=col>prob</th></tr></thead>\n",
       "<tbody>\n",
       "\t<tr><td>convenient</td><td>not_recom </td><td>0.5000000 </td></tr>\n",
       "\t<tr><td>convenient</td><td>priority  </td><td>0.5260197 </td></tr>\n",
       "\t<tr><td>convenient</td><td>recommend </td><td>1.0000000 </td></tr>\n",
       "\t<tr><td>convenient</td><td>spec_prior</td><td>0.4589515 </td></tr>\n",
       "\t<tr><td>convenient</td><td>very_recom</td><td>0.6646341 </td></tr>\n",
       "\t<tr><td>inconv    </td><td>not_recom </td><td>0.5000000 </td></tr>\n",
       "\t<tr><td>inconv    </td><td>priority  </td><td>0.4739803 </td></tr>\n",
       "\t<tr><td>inconv    </td><td>spec_prior</td><td>0.5410485 </td></tr>\n",
       "\t<tr><td>inconv    </td><td>very_recom</td><td>0.3353659 </td></tr>\n",
       "</tbody>\n",
       "</table>\n",
       "</li>\n",
       "\t<li><table>\n",
       "<thead><tr><th scope=col>social</th><th scope=col>class</th><th scope=col>prob</th></tr></thead>\n",
       "<tbody>\n",
       "\t<tr><td>nonprob      </td><td>not_recom    </td><td>0.3333333    </td></tr>\n",
       "\t<tr><td>nonprob      </td><td>priority     </td><td>0.3551336    </td></tr>\n",
       "\t<tr><td>nonprob      </td><td>spec_prior   </td><td>0.2967359    </td></tr>\n",
       "\t<tr><td>nonprob      </td><td>very_recom   </td><td>0.5000000    </td></tr>\n",
       "\t<tr><td>problematic  </td><td>not_recom    </td><td>0.3333333    </td></tr>\n",
       "\t<tr><td>problematic  </td><td>priority     </td><td>0.2897328    </td></tr>\n",
       "\t<tr><td>problematic  </td><td>spec_prior   </td><td>0.4065282    </td></tr>\n",
       "\t<tr><td>slightly_prob</td><td>not_recom    </td><td>0.3333333    </td></tr>\n",
       "\t<tr><td>slightly_prob</td><td>priority     </td><td>0.3551336    </td></tr>\n",
       "\t<tr><td>slightly_prob</td><td>recommend    </td><td>1.0000000    </td></tr>\n",
       "\t<tr><td>slightly_prob</td><td>spec_prior   </td><td>0.2967359    </td></tr>\n",
       "\t<tr><td>slightly_prob</td><td>very_recom   </td><td>0.5000000    </td></tr>\n",
       "</tbody>\n",
       "</table>\n",
       "</li>\n",
       "\t<li><table>\n",
       "<thead><tr><th scope=col>health</th><th scope=col>class</th><th scope=col>prob</th></tr></thead>\n",
       "<tbody>\n",
       "\t<tr><td>not_recom  </td><td>not_recom  </td><td>1.0000000  </td></tr>\n",
       "\t<tr><td>priority   </td><td>priority   </td><td>0.4345992  </td></tr>\n",
       "\t<tr><td>priority   </td><td>spec_prior </td><td>0.6097923  </td></tr>\n",
       "\t<tr><td>recommended</td><td>priority   </td><td>0.5654008  </td></tr>\n",
       "\t<tr><td>recommended</td><td>recommend  </td><td>1.0000000  </td></tr>\n",
       "\t<tr><td>recommended</td><td>spec_prior </td><td>0.3902077  </td></tr>\n",
       "\t<tr><td>recommended</td><td>very_recom </td><td>1.0000000  </td></tr>\n",
       "</tbody>\n",
       "</table>\n",
       "</li>\n",
       "\t<li><table>\n",
       "<thead><tr><th scope=col>class</th><th scope=col>prob</th></tr></thead>\n",
       "<tbody>\n",
       "\t<tr><td>not_recom   </td><td>3.333591e-01</td></tr>\n",
       "\t<tr><td>priority    </td><td>3.291921e-01</td></tr>\n",
       "\t<tr><td>recommend   </td><td>7.716645e-05</td></tr>\n",
       "\t<tr><td>spec_prior  </td><td>3.120611e-01</td></tr>\n",
       "\t<tr><td>very_recom  </td><td>2.531059e-02</td></tr>\n",
       "</tbody>\n",
       "</table>\n",
       "</li>\n",
       "</ol>\n"
      ],
      "text/latex": [
       "\\begin{enumerate}\n",
       "\\item \\begin{tabular}{r|lll}\n",
       " parents & class & prob\\\\\n",
       "\\hline\n",
       "\t great\\_pret  & not\\_recom   & 0.3333333    \\\\\n",
       "\t great\\_pret  & priority      & 0.2011252    \\\\\n",
       "\t great\\_pret  & spec\\_prior  & 0.5000000    \\\\\n",
       "\t pretentious  & not\\_recom  & 0.3333333   \\\\\n",
       "\t pretentious & priority    & 0.3478669  \\\\\n",
       "\t pretentious  & spec\\_prior & 0.3125618   \\\\\n",
       "\t pretentious  & very\\_recom & 0.4024390   \\\\\n",
       "\t usual        & not\\_recom  & 0.3333333   \\\\\n",
       "\t usual       & priority    & 0.4510080  \\\\\n",
       "\t usual       & recommend   & 1.0000000  \\\\\n",
       "\t usual        & spec\\_prior & 0.1874382   \\\\\n",
       "\t usual        & very\\_recom & 0.5975610   \\\\\n",
       "\\end{tabular}\n",
       "\n",
       "\\item \\begin{tabular}{r|lll}\n",
       " has\\_nurs & class & prob\\\\\n",
       "\\hline\n",
       "\t critical     & not\\_recom  & 0.20000000  \\\\\n",
       "\t critical    & priority    & 0.10876699 \\\\\n",
       "\t critical     & spec\\_prior & 0.31256182  \\\\\n",
       "\t improper     & not\\_recom  & 0.20000000  \\\\\n",
       "\t improper    & priority    & 0.21190811 \\\\\n",
       "\t improper     & spec\\_prior & 0.18743818  \\\\\n",
       "\t improper     & very\\_recom & 0.20121951  \\\\\n",
       "\t less\\_proper & not\\_recom   & 0.20000000   \\\\\n",
       "\t less\\_proper & priority      & 0.31504923   \\\\\n",
       "\t less\\_proper & spec\\_prior  & 0.06231454   \\\\\n",
       "\t less\\_proper & very\\_recom  & 0.40243902   \\\\\n",
       "\t proper       & not\\_recom  & 0.20000000  \\\\\n",
       "\t proper      & priority    & 0.31504923 \\\\\n",
       "\t proper      & recommend   & 1.00000000 \\\\\n",
       "\t proper       & spec\\_prior & 0.06231454  \\\\\n",
       "\t proper       & very\\_recom & 0.39634146  \\\\\n",
       "\t very\\_crit   & not\\_recom   & 0.20000000   \\\\\n",
       "\t very\\_crit   & priority      & 0.04922644   \\\\\n",
       "\t very\\_crit   & spec\\_prior  & 0.37537092   \\\\\n",
       "\\end{tabular}\n",
       "\n",
       "\\item \\begin{tabular}{r|lll}\n",
       " form & class & prob\\\\\n",
       "\\hline\n",
       "\t complete     & not\\_recom  & 0.2500000   \\\\\n",
       "\t complete   & priority   & 0.2700422 \\\\\n",
       "\t complete   & recommend  & 1.0000000 \\\\\n",
       "\t complete     & spec\\_prior & 0.2195846   \\\\\n",
       "\t complete     & very\\_recom & 0.3597561   \\\\\n",
       "\t completed    & not\\_recom  & 0.2500000   \\\\\n",
       "\t completed  & priority   & 0.2559775 \\\\\n",
       "\t completed    & spec\\_prior & 0.2393670   \\\\\n",
       "\t completed    & very\\_recom & 0.3048780   \\\\\n",
       "\t foster       & not\\_recom  & 0.2500000   \\\\\n",
       "\t foster     & priority   & 0.2306610 \\\\\n",
       "\t foster       & spec\\_prior & 0.2809100   \\\\\n",
       "\t foster       & very\\_recom & 0.1219512   \\\\\n",
       "\t incomplete   & not\\_recom  & 0.2500000   \\\\\n",
       "\t incomplete & priority   & 0.2433193 \\\\\n",
       "\t incomplete   & spec\\_prior & 0.2601385   \\\\\n",
       "\t incomplete   & very\\_recom & 0.2134146   \\\\\n",
       "\\end{tabular}\n",
       "\n",
       "\\item \\begin{tabular}{r|lll}\n",
       " children & class & prob\\\\\n",
       "\\hline\n",
       "\t 1            & not\\_recom  & 0.2500000   \\\\\n",
       "\t 1          & priority   & 0.2827004 \\\\\n",
       "\t 1          & recommend  & 1.0000000 \\\\\n",
       "\t 1            & spec\\_prior & 0.1988131   \\\\\n",
       "\t 1            & very\\_recom & 0.4512195   \\\\\n",
       "\t 2            & not\\_recom  & 0.2500000   \\\\\n",
       "\t 2          & priority   & 0.2559775 \\\\\n",
       "\t 2            & spec\\_prior & 0.2393670   \\\\\n",
       "\t 2            & very\\_recom & 0.3048780   \\\\\n",
       "\t 3            & not\\_recom  & 0.2500000   \\\\\n",
       "\t 3          & priority   & 0.2306610 \\\\\n",
       "\t 3            & spec\\_prior & 0.2809100   \\\\\n",
       "\t 3            & very\\_recom & 0.1219512   \\\\\n",
       "\t more         & not\\_recom  & 0.2500000   \\\\\n",
       "\t more       & priority   & 0.2306610 \\\\\n",
       "\t more         & spec\\_prior & 0.2809100   \\\\\n",
       "\t more         & very\\_recom & 0.1219512   \\\\\n",
       "\\end{tabular}\n",
       "\n",
       "\\item \\begin{tabular}{r|lll}\n",
       " housing & class & prob\\\\\n",
       "\\hline\n",
       "\t convenient   & not\\_recom  & 0.33333333  \\\\\n",
       "\t convenient & priority   & 0.37927801\\\\\n",
       "\t convenient & recommend  & 1.00000000\\\\\n",
       "\t convenient   & spec\\_prior & 0.26013848  \\\\\n",
       "\t convenient   & very\\_recom & 0.63414634  \\\\\n",
       "\t critical     & not\\_recom  & 0.33333333  \\\\\n",
       "\t critical   & priority   & 0.29348336\\\\\n",
       "\t critical     & spec\\_prior & 0.39762611  \\\\\n",
       "\t critical     & very\\_recom & 0.06097561  \\\\\n",
       "\t less\\_conv  & not\\_recom  & 0.33333333  \\\\\n",
       "\t less\\_conv  & priority     & 0.32723863  \\\\\n",
       "\t less\\_conv  & spec\\_prior & 0.34223541  \\\\\n",
       "\t less\\_conv  & very\\_recom & 0.30487805  \\\\\n",
       "\\end{tabular}\n",
       "\n",
       "\\item \\begin{tabular}{r|lll}\n",
       " finance & class & prob\\\\\n",
       "\\hline\n",
       "\t convenient   & not\\_recom  & 0.5000000   \\\\\n",
       "\t convenient & priority   & 0.5260197 \\\\\n",
       "\t convenient & recommend  & 1.0000000 \\\\\n",
       "\t convenient   & spec\\_prior & 0.4589515   \\\\\n",
       "\t convenient   & very\\_recom & 0.6646341   \\\\\n",
       "\t inconv       & not\\_recom  & 0.5000000   \\\\\n",
       "\t inconv     & priority   & 0.4739803 \\\\\n",
       "\t inconv       & spec\\_prior & 0.5410485   \\\\\n",
       "\t inconv       & very\\_recom & 0.3353659   \\\\\n",
       "\\end{tabular}\n",
       "\n",
       "\\item \\begin{tabular}{r|lll}\n",
       " social & class & prob\\\\\n",
       "\\hline\n",
       "\t nonprob       & not\\_recom   & 0.3333333    \\\\\n",
       "\t nonprob       & priority      & 0.3551336    \\\\\n",
       "\t nonprob       & spec\\_prior  & 0.2967359    \\\\\n",
       "\t nonprob       & very\\_recom  & 0.5000000    \\\\\n",
       "\t problematic   & not\\_recom   & 0.3333333    \\\\\n",
       "\t problematic   & priority      & 0.2897328    \\\\\n",
       "\t problematic   & spec\\_prior  & 0.4065282    \\\\\n",
       "\t slightly\\_prob & not\\_recom     & 0.3333333      \\\\\n",
       "\t slightly\\_prob & priority        & 0.3551336      \\\\\n",
       "\t slightly\\_prob & recommend       & 1.0000000      \\\\\n",
       "\t slightly\\_prob & spec\\_prior    & 0.2967359      \\\\\n",
       "\t slightly\\_prob & very\\_recom    & 0.5000000      \\\\\n",
       "\\end{tabular}\n",
       "\n",
       "\\item \\begin{tabular}{r|lll}\n",
       " health & class & prob\\\\\n",
       "\\hline\n",
       "\t not\\_recom   & not\\_recom   & 1.0000000    \\\\\n",
       "\t priority    & priority    & 0.4345992  \\\\\n",
       "\t priority     & spec\\_prior & 0.6097923   \\\\\n",
       "\t recommended & priority    & 0.5654008  \\\\\n",
       "\t recommended & recommend   & 1.0000000  \\\\\n",
       "\t recommended  & spec\\_prior & 0.3902077   \\\\\n",
       "\t recommended  & very\\_recom & 1.0000000   \\\\\n",
       "\\end{tabular}\n",
       "\n",
       "\\item \\begin{tabular}{r|ll}\n",
       " class & prob\\\\\n",
       "\\hline\n",
       "\t not\\_recom  & 3.333591e-01\\\\\n",
       "\t priority     & 3.291921e-01\\\\\n",
       "\t recommend    & 7.716645e-05\\\\\n",
       "\t spec\\_prior & 3.120611e-01\\\\\n",
       "\t very\\_recom & 2.531059e-02\\\\\n",
       "\\end{tabular}\n",
       "\n",
       "\\end{enumerate}\n"
      ],
      "text/markdown": [
       "1. \n",
       "| parents | class | prob |\n",
       "|---|---|---|\n",
       "| great_pret  | not_recom   | 0.3333333   |\n",
       "| great_pret  | priority    | 0.2011252   |\n",
       "| great_pret  | spec_prior  | 0.5000000   |\n",
       "| pretentious | not_recom   | 0.3333333   |\n",
       "| pretentious | priority    | 0.3478669   |\n",
       "| pretentious | spec_prior  | 0.3125618   |\n",
       "| pretentious | very_recom  | 0.4024390   |\n",
       "| usual       | not_recom   | 0.3333333   |\n",
       "| usual       | priority    | 0.4510080   |\n",
       "| usual       | recommend   | 1.0000000   |\n",
       "| usual       | spec_prior  | 0.1874382   |\n",
       "| usual       | very_recom  | 0.5975610   |\n",
       "\n",
       "\n",
       "2. \n",
       "| has_nurs | class | prob |\n",
       "|---|---|---|\n",
       "| critical    | not_recom   | 0.20000000  |\n",
       "| critical    | priority    | 0.10876699  |\n",
       "| critical    | spec_prior  | 0.31256182  |\n",
       "| improper    | not_recom   | 0.20000000  |\n",
       "| improper    | priority    | 0.21190811  |\n",
       "| improper    | spec_prior  | 0.18743818  |\n",
       "| improper    | very_recom  | 0.20121951  |\n",
       "| less_proper | not_recom   | 0.20000000  |\n",
       "| less_proper | priority    | 0.31504923  |\n",
       "| less_proper | spec_prior  | 0.06231454  |\n",
       "| less_proper | very_recom  | 0.40243902  |\n",
       "| proper      | not_recom   | 0.20000000  |\n",
       "| proper      | priority    | 0.31504923  |\n",
       "| proper      | recommend   | 1.00000000  |\n",
       "| proper      | spec_prior  | 0.06231454  |\n",
       "| proper      | very_recom  | 0.39634146  |\n",
       "| very_crit   | not_recom   | 0.20000000  |\n",
       "| very_crit   | priority    | 0.04922644  |\n",
       "| very_crit   | spec_prior  | 0.37537092  |\n",
       "\n",
       "\n",
       "3. \n",
       "| form | class | prob |\n",
       "|---|---|---|\n",
       "| complete   | not_recom  | 0.2500000  |\n",
       "| complete   | priority   | 0.2700422  |\n",
       "| complete   | recommend  | 1.0000000  |\n",
       "| complete   | spec_prior | 0.2195846  |\n",
       "| complete   | very_recom | 0.3597561  |\n",
       "| completed  | not_recom  | 0.2500000  |\n",
       "| completed  | priority   | 0.2559775  |\n",
       "| completed  | spec_prior | 0.2393670  |\n",
       "| completed  | very_recom | 0.3048780  |\n",
       "| foster     | not_recom  | 0.2500000  |\n",
       "| foster     | priority   | 0.2306610  |\n",
       "| foster     | spec_prior | 0.2809100  |\n",
       "| foster     | very_recom | 0.1219512  |\n",
       "| incomplete | not_recom  | 0.2500000  |\n",
       "| incomplete | priority   | 0.2433193  |\n",
       "| incomplete | spec_prior | 0.2601385  |\n",
       "| incomplete | very_recom | 0.2134146  |\n",
       "\n",
       "\n",
       "4. \n",
       "| children | class | prob |\n",
       "|---|---|---|\n",
       "| 1          | not_recom  | 0.2500000  |\n",
       "| 1          | priority   | 0.2827004  |\n",
       "| 1          | recommend  | 1.0000000  |\n",
       "| 1          | spec_prior | 0.1988131  |\n",
       "| 1          | very_recom | 0.4512195  |\n",
       "| 2          | not_recom  | 0.2500000  |\n",
       "| 2          | priority   | 0.2559775  |\n",
       "| 2          | spec_prior | 0.2393670  |\n",
       "| 2          | very_recom | 0.3048780  |\n",
       "| 3          | not_recom  | 0.2500000  |\n",
       "| 3          | priority   | 0.2306610  |\n",
       "| 3          | spec_prior | 0.2809100  |\n",
       "| 3          | very_recom | 0.1219512  |\n",
       "| more       | not_recom  | 0.2500000  |\n",
       "| more       | priority   | 0.2306610  |\n",
       "| more       | spec_prior | 0.2809100  |\n",
       "| more       | very_recom | 0.1219512  |\n",
       "\n",
       "\n",
       "5. \n",
       "| housing | class | prob |\n",
       "|---|---|---|\n",
       "| convenient | not_recom  | 0.33333333 |\n",
       "| convenient | priority   | 0.37927801 |\n",
       "| convenient | recommend  | 1.00000000 |\n",
       "| convenient | spec_prior | 0.26013848 |\n",
       "| convenient | very_recom | 0.63414634 |\n",
       "| critical   | not_recom  | 0.33333333 |\n",
       "| critical   | priority   | 0.29348336 |\n",
       "| critical   | spec_prior | 0.39762611 |\n",
       "| critical   | very_recom | 0.06097561 |\n",
       "| less_conv  | not_recom  | 0.33333333 |\n",
       "| less_conv  | priority   | 0.32723863 |\n",
       "| less_conv  | spec_prior | 0.34223541 |\n",
       "| less_conv  | very_recom | 0.30487805 |\n",
       "\n",
       "\n",
       "6. \n",
       "| finance | class | prob |\n",
       "|---|---|---|\n",
       "| convenient | not_recom  | 0.5000000  |\n",
       "| convenient | priority   | 0.5260197  |\n",
       "| convenient | recommend  | 1.0000000  |\n",
       "| convenient | spec_prior | 0.4589515  |\n",
       "| convenient | very_recom | 0.6646341  |\n",
       "| inconv     | not_recom  | 0.5000000  |\n",
       "| inconv     | priority   | 0.4739803  |\n",
       "| inconv     | spec_prior | 0.5410485  |\n",
       "| inconv     | very_recom | 0.3353659  |\n",
       "\n",
       "\n",
       "7. \n",
       "| social | class | prob |\n",
       "|---|---|---|\n",
       "| nonprob       | not_recom     | 0.3333333     |\n",
       "| nonprob       | priority      | 0.3551336     |\n",
       "| nonprob       | spec_prior    | 0.2967359     |\n",
       "| nonprob       | very_recom    | 0.5000000     |\n",
       "| problematic   | not_recom     | 0.3333333     |\n",
       "| problematic   | priority      | 0.2897328     |\n",
       "| problematic   | spec_prior    | 0.4065282     |\n",
       "| slightly_prob | not_recom     | 0.3333333     |\n",
       "| slightly_prob | priority      | 0.3551336     |\n",
       "| slightly_prob | recommend     | 1.0000000     |\n",
       "| slightly_prob | spec_prior    | 0.2967359     |\n",
       "| slightly_prob | very_recom    | 0.5000000     |\n",
       "\n",
       "\n",
       "8. \n",
       "| health | class | prob |\n",
       "|---|---|---|\n",
       "| not_recom   | not_recom   | 1.0000000   |\n",
       "| priority    | priority    | 0.4345992   |\n",
       "| priority    | spec_prior  | 0.6097923   |\n",
       "| recommended | priority    | 0.5654008   |\n",
       "| recommended | recommend   | 1.0000000   |\n",
       "| recommended | spec_prior  | 0.3902077   |\n",
       "| recommended | very_recom  | 1.0000000   |\n",
       "\n",
       "\n",
       "9. \n",
       "| class | prob |\n",
       "|---|---|\n",
       "| not_recom    | 3.333591e-01 |\n",
       "| priority     | 3.291921e-01 |\n",
       "| recommend    | 7.716645e-05 |\n",
       "| spec_prior   | 3.120611e-01 |\n",
       "| very_recom   | 2.531059e-02 |\n",
       "\n",
       "\n",
       "\n",
       "\n"
      ],
      "text/plain": [
       "[[1]]\n",
       "       parents      class      prob\n",
       "1   great_pret  not_recom 0.3333333\n",
       "2   great_pret   priority 0.2011252\n",
       "3   great_pret spec_prior 0.5000000\n",
       "4  pretentious  not_recom 0.3333333\n",
       "5  pretentious   priority 0.3478669\n",
       "6  pretentious spec_prior 0.3125618\n",
       "7  pretentious very_recom 0.4024390\n",
       "8        usual  not_recom 0.3333333\n",
       "9        usual   priority 0.4510080\n",
       "10       usual  recommend 1.0000000\n",
       "11       usual spec_prior 0.1874382\n",
       "12       usual very_recom 0.5975610\n",
       "\n",
       "[[2]]\n",
       "      has_nurs      class       prob\n",
       "1     critical  not_recom 0.20000000\n",
       "2     critical   priority 0.10876699\n",
       "3     critical spec_prior 0.31256182\n",
       "4     improper  not_recom 0.20000000\n",
       "5     improper   priority 0.21190811\n",
       "6     improper spec_prior 0.18743818\n",
       "7     improper very_recom 0.20121951\n",
       "8  less_proper  not_recom 0.20000000\n",
       "9  less_proper   priority 0.31504923\n",
       "10 less_proper spec_prior 0.06231454\n",
       "11 less_proper very_recom 0.40243902\n",
       "12      proper  not_recom 0.20000000\n",
       "13      proper   priority 0.31504923\n",
       "14      proper  recommend 1.00000000\n",
       "15      proper spec_prior 0.06231454\n",
       "16      proper very_recom 0.39634146\n",
       "17   very_crit  not_recom 0.20000000\n",
       "18   very_crit   priority 0.04922644\n",
       "19   very_crit spec_prior 0.37537092\n",
       "\n",
       "[[3]]\n",
       "         form      class      prob\n",
       "1    complete  not_recom 0.2500000\n",
       "2    complete   priority 0.2700422\n",
       "3    complete  recommend 1.0000000\n",
       "4    complete spec_prior 0.2195846\n",
       "5    complete very_recom 0.3597561\n",
       "6   completed  not_recom 0.2500000\n",
       "7   completed   priority 0.2559775\n",
       "8   completed spec_prior 0.2393670\n",
       "9   completed very_recom 0.3048780\n",
       "10     foster  not_recom 0.2500000\n",
       "11     foster   priority 0.2306610\n",
       "12     foster spec_prior 0.2809100\n",
       "13     foster very_recom 0.1219512\n",
       "14 incomplete  not_recom 0.2500000\n",
       "15 incomplete   priority 0.2433193\n",
       "16 incomplete spec_prior 0.2601385\n",
       "17 incomplete very_recom 0.2134146\n",
       "\n",
       "[[4]]\n",
       "   children      class      prob\n",
       "1         1  not_recom 0.2500000\n",
       "2         1   priority 0.2827004\n",
       "3         1  recommend 1.0000000\n",
       "4         1 spec_prior 0.1988131\n",
       "5         1 very_recom 0.4512195\n",
       "6         2  not_recom 0.2500000\n",
       "7         2   priority 0.2559775\n",
       "8         2 spec_prior 0.2393670\n",
       "9         2 very_recom 0.3048780\n",
       "10        3  not_recom 0.2500000\n",
       "11        3   priority 0.2306610\n",
       "12        3 spec_prior 0.2809100\n",
       "13        3 very_recom 0.1219512\n",
       "14     more  not_recom 0.2500000\n",
       "15     more   priority 0.2306610\n",
       "16     more spec_prior 0.2809100\n",
       "17     more very_recom 0.1219512\n",
       "\n",
       "[[5]]\n",
       "      housing      class       prob\n",
       "1  convenient  not_recom 0.33333333\n",
       "2  convenient   priority 0.37927801\n",
       "3  convenient  recommend 1.00000000\n",
       "4  convenient spec_prior 0.26013848\n",
       "5  convenient very_recom 0.63414634\n",
       "6    critical  not_recom 0.33333333\n",
       "7    critical   priority 0.29348336\n",
       "8    critical spec_prior 0.39762611\n",
       "9    critical very_recom 0.06097561\n",
       "10  less_conv  not_recom 0.33333333\n",
       "11  less_conv   priority 0.32723863\n",
       "12  less_conv spec_prior 0.34223541\n",
       "13  less_conv very_recom 0.30487805\n",
       "\n",
       "[[6]]\n",
       "     finance      class      prob\n",
       "1 convenient  not_recom 0.5000000\n",
       "2 convenient   priority 0.5260197\n",
       "3 convenient  recommend 1.0000000\n",
       "4 convenient spec_prior 0.4589515\n",
       "5 convenient very_recom 0.6646341\n",
       "6     inconv  not_recom 0.5000000\n",
       "7     inconv   priority 0.4739803\n",
       "8     inconv spec_prior 0.5410485\n",
       "9     inconv very_recom 0.3353659\n",
       "\n",
       "[[7]]\n",
       "          social      class      prob\n",
       "1        nonprob  not_recom 0.3333333\n",
       "2        nonprob   priority 0.3551336\n",
       "3        nonprob spec_prior 0.2967359\n",
       "4        nonprob very_recom 0.5000000\n",
       "5    problematic  not_recom 0.3333333\n",
       "6    problematic   priority 0.2897328\n",
       "7    problematic spec_prior 0.4065282\n",
       "8  slightly_prob  not_recom 0.3333333\n",
       "9  slightly_prob   priority 0.3551336\n",
       "10 slightly_prob  recommend 1.0000000\n",
       "11 slightly_prob spec_prior 0.2967359\n",
       "12 slightly_prob very_recom 0.5000000\n",
       "\n",
       "[[8]]\n",
       "       health      class      prob\n",
       "1   not_recom  not_recom 1.0000000\n",
       "2    priority   priority 0.4345992\n",
       "3    priority spec_prior 0.6097923\n",
       "4 recommended   priority 0.5654008\n",
       "5 recommended  recommend 1.0000000\n",
       "6 recommended spec_prior 0.3902077\n",
       "7 recommended very_recom 1.0000000\n",
       "\n",
       "[[9]]\n",
       "       class         prob\n",
       "1  not_recom 3.333591e-01\n",
       "2   priority 3.291921e-01\n",
       "3  recommend 7.716645e-05\n",
       "4 spec_prior 3.120611e-01\n",
       "5 very_recom 2.531059e-02\n"
      ]
     },
     "metadata": {},
     "output_type": "display_data"
    }
   ],
   "source": [
    "learn(g1, data1)  "
   ]
  },
  {
   "cell_type": "markdown",
   "metadata": {},
   "source": [
    "`Latent Variable Models`\n",
    "学习隐含变量——期望最大化算法"
   ]
  }
 ],
 "metadata": {
  "kernelspec": {
   "display_name": "R",
   "language": "R",
   "name": "ir"
  },
  "language_info": {
   "codemirror_mode": "r",
   "file_extension": ".r",
   "mimetype": "text/x-r-source",
   "name": "R",
   "pygments_lexer": "r",
   "version": "3.5.2"
  },
  "latex_envs": {
   "LaTeX_envs_menu_present": true,
   "autoclose": false,
   "autocomplete": true,
   "bibliofile": "biblio.bib",
   "cite_by": "apalike",
   "current_citInitial": 1,
   "eqLabelWithNumbers": true,
   "eqNumInitial": 1,
   "hotkeys": {
    "equation": "Ctrl-E",
    "itemize": "Ctrl-I"
   },
   "labels_anchors": false,
   "latex_user_defs": false,
   "report_style_numbering": false,
   "user_envs_cfg": false
  },
  "toc": {
   "base_numbering": 1,
   "nav_menu": {},
   "number_sections": true,
   "sideBar": true,
   "skip_h1_title": false,
   "title_cell": "Table of Contents",
   "title_sidebar": "Contents",
   "toc_cell": false,
   "toc_position": {},
   "toc_section_display": true,
   "toc_window_display": false
  }
 },
 "nbformat": 4,
 "nbformat_minor": 2
}
