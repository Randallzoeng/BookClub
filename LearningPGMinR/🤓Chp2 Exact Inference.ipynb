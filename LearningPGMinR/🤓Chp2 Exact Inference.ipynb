{
 "cells": [
  {
   "cell_type": "markdown",
   "metadata": {},
   "source": [
    "> 因此贝叶斯推理的一般机制是沿着不需要的和观测到的变量进行边缘化，只剩下要查询的变量。\n"
   ]
  },
  {
   "cell_type": "markdown",
   "metadata": {},
   "source": [
    "`Sum-product and belief updates`"
   ]
  },
  {
   "cell_type": "code",
   "execution_count": 3,
   "metadata": {},
   "outputs": [],
   "source": [
    "A = matrix(c(0.8,0.2),2,1)\n",
    "B = matrix(c(0.6,0.4,0.3,0.7),2,2)\n",
    "C = matrix(c(0.5,0.5,0.8,0.2),2,2)\n",
    "D = matrix(c(0.3,0.7,0.4,0.6),2,2)"
   ]
  },
  {
   "cell_type": "code",
   "execution_count": 7,
   "metadata": {},
   "outputs": [
    {
     "data": {
      "text/html": [
       "<table>\n",
       "<tbody>\n",
       "\t<tr><td>0.3362</td><td>0.6638</td></tr>\n",
       "</tbody>\n",
       "</table>\n"
      ],
      "text/latex": [
       "\\begin{tabular}{ll}\n",
       "\t 0.3362 & 0.6638\\\\\n",
       "\\end{tabular}\n"
      ],
      "text/markdown": [
       "\n",
       "| 0.3362 | 0.6638 |\n",
       "\n"
      ],
      "text/plain": [
       "     [,1]   [,2]  \n",
       "[1,] 0.3362 0.6638"
      ]
     },
     "metadata": {},
     "output_type": "display_data"
    }
   ],
   "source": [
    "Bs = t(A) %*% t(B)\n",
    "Cs = Bs %*% t(C)\n",
    "Ds = Cs %*% t(D)\n",
    "Ds"
   ]
  },
  {
   "cell_type": "code",
   "execution_count": 9,
   "metadata": {},
   "outputs": [
    {
     "data": {
      "text/plain": [
       "CPTspec with probabilities:\n",
       " P( F )\n",
       " P( E | F )\n",
       " P( C | F )\n",
       " P( A | C )\n",
       " P( D | E )\n",
       " P( B | A D )"
      ]
     },
     "metadata": {},
     "output_type": "display_data"
    },
    {
     "name": "stdout",
     "output_type": "stream",
     "text": [
      "F\n",
      " true false \n",
      "  0.1   0.9 \n",
      "attr(,\"class\")\n",
      "[1] \"parray\" \"array\" \n",
      ", , D = true\n",
      "\n",
      "       A\n",
      "B       true false\n",
      "  true   0.6   0.7\n",
      "  false  0.4   0.3\n",
      "\n",
      ", , D = false\n",
      "\n",
      "       A\n",
      "B       true false\n",
      "  true   0.2   0.1\n",
      "  false  0.8   0.9\n",
      "\n",
      "attr(,\"class\")\n",
      "[1] \"parray\" \"array\" \n"
     ]
    },
    {
     "data": {
      "text/plain": [
       "Independence network: Compiled: FALSE Propagated: FALSE \n",
       "  Nodes: chr [1:6] \"F\" \"E\" \"C\" \"A\" \"D\" \"B\""
      ]
     },
     "metadata": {},
     "output_type": "display_data"
    },
    {
     "data": {
      "text/html": [
       "<strong>$F</strong> = <dl class=dl-horizontal>\n",
       "\t<dt>true</dt>\n",
       "\t\t<dd>0.1</dd>\n",
       "\t<dt>false</dt>\n",
       "\t\t<dd>0.9</dd>\n",
       "</dl>\n"
      ],
      "text/latex": [
       "\\textbf{\\$F} = \\begin{description*}\n",
       "\\item[true] 0.1\n",
       "\\item[false] 0.9\n",
       "\\end{description*}\n"
      ],
      "text/markdown": [
       "**$F** = true\n",
       ":   0.1false\n",
       ":   0.9\n",
       "\n"
      ],
      "text/plain": [
       "$F\n",
       "F\n",
       " true false \n",
       "  0.1   0.9 \n"
      ]
     },
     "metadata": {},
     "output_type": "display_data"
    },
    {
     "data": {
      "text/html": [
       "<strong>$C</strong> = <dl class=dl-horizontal>\n",
       "\t<dt>true</dt>\n",
       "\t\t<dd>0.19</dd>\n",
       "\t<dt>false</dt>\n",
       "\t\t<dd>0.81</dd>\n",
       "</dl>\n"
      ],
      "text/latex": [
       "\\textbf{\\$C} = \\begin{description*}\n",
       "\\item[true] 0.19\n",
       "\\item[false] 0.81\n",
       "\\end{description*}\n"
      ],
      "text/markdown": [
       "**$C** = true\n",
       ":   0.19false\n",
       ":   0.81\n",
       "\n"
      ],
      "text/plain": [
       "$C\n",
       "C\n",
       " true false \n",
       " 0.19  0.81 \n"
      ]
     },
     "metadata": {},
     "output_type": "display_data"
    },
    {
     "data": {
      "text/html": [
       "<strong>$B</strong> = <dl class=dl-horizontal>\n",
       "\t<dt>true</dt>\n",
       "\t\t<dd>0.478564</dd>\n",
       "\t<dt>false</dt>\n",
       "\t\t<dd>0.521436</dd>\n",
       "</dl>\n"
      ],
      "text/latex": [
       "\\textbf{\\$B} = \\begin{description*}\n",
       "\\item[true] 0.478564\n",
       "\\item[false] 0.521436\n",
       "\\end{description*}\n"
      ],
      "text/markdown": [
       "**$B** = true\n",
       ":   0.478564false\n",
       ":   0.521436\n",
       "\n"
      ],
      "text/plain": [
       "$B\n",
       "B\n",
       "    true    false \n",
       "0.478564 0.521436 \n"
      ]
     },
     "metadata": {},
     "output_type": "display_data"
    },
    {
     "data": {
      "text/html": [
       "<table>\n",
       "<thead><tr><th></th><th scope=col>true</th><th scope=col>false</th></tr></thead>\n",
       "<tbody>\n",
       "\t<tr><th scope=row>true</th><td>0.309272</td><td>0.352728</td></tr>\n",
       "\t<tr><th scope=row>false</th><td>0.169292</td><td>0.168708</td></tr>\n",
       "</tbody>\n",
       "</table>\n"
      ],
      "text/latex": [
       "\\begin{tabular}{r|ll}\n",
       "  & true & false\\\\\n",
       "\\hline\n",
       "\ttrue & 0.309272 & 0.352728\\\\\n",
       "\tfalse & 0.169292 & 0.168708\\\\\n",
       "\\end{tabular}\n"
      ],
      "text/markdown": [
       "\n",
       "| <!--/--> | true | false |\n",
       "|---|---|---|\n",
       "| true | 0.309272 | 0.352728 |\n",
       "| false | 0.169292 | 0.168708 |\n",
       "\n"
      ],
      "text/plain": [
       "       B\n",
       "A       true     false   \n",
       "  true  0.309272 0.352728\n",
       "  false 0.169292 0.168708"
      ]
     },
     "metadata": {},
     "output_type": "display_data"
    },
    {
     "data": {
      "text/plain": [
       ", , B = true\n",
       "\n",
       "       A\n",
       "C           true    false\n",
       "  true  0.044420 0.047630\n",
       "  false 0.264852 0.121662\n",
       "\n",
       ", , B = false\n",
       "\n",
       "       A\n",
       "C           true    false\n",
       "  true  0.050580 0.047370\n",
       "  false 0.302148 0.121338\n",
       "\n",
       "attr(,\"class\")\n",
       "[1] \"parray\" \"array\" "
      ]
     },
     "metadata": {},
     "output_type": "display_data"
    },
    {
     "data": {
      "text/html": [
       "<strong>$F</strong> = <dl class=dl-horizontal>\n",
       "\t<dt>true</dt>\n",
       "\t\t<dd>0.1</dd>\n",
       "\t<dt>false</dt>\n",
       "\t\t<dd>0.9</dd>\n",
       "</dl>\n"
      ],
      "text/latex": [
       "\\textbf{\\$F} = \\begin{description*}\n",
       "\\item[true] 0.1\n",
       "\\item[false] 0.9\n",
       "\\end{description*}\n"
      ],
      "text/markdown": [
       "**$F** = true\n",
       ":   0.1false\n",
       ":   0.9\n",
       "\n"
      ],
      "text/plain": [
       "$F\n",
       "F\n",
       " true false \n",
       "  0.1   0.9 \n"
      ]
     },
     "metadata": {},
     "output_type": "display_data"
    },
    {
     "data": {
      "text/plain": [
       "NULL"
      ]
     },
     "metadata": {},
     "output_type": "display_data"
    },
    {
     "data": {
      "text/html": [
       "<strong>$A</strong> = <dl class=dl-horizontal>\n",
       "\t<dt>true</dt>\n",
       "\t\t<dd>0.662</dd>\n",
       "\t<dt>false</dt>\n",
       "\t\t<dd>0.338</dd>\n",
       "</dl>\n"
      ],
      "text/latex": [
       "\\textbf{\\$A} = \\begin{description*}\n",
       "\\item[true] 0.662\n",
       "\\item[false] 0.338\n",
       "\\end{description*}\n"
      ],
      "text/markdown": [
       "**$A** = true\n",
       ":   0.662false\n",
       ":   0.338\n",
       "\n"
      ],
      "text/plain": [
       "$A\n",
       "A\n",
       " true false \n",
       "0.662 0.338 \n"
      ]
     },
     "metadata": {},
     "output_type": "display_data"
    },
    {
     "data": {
      "text/html": [
       "<strong>$A</strong> = <dl class=dl-horizontal>\n",
       "\t<dt>true</dt>\n",
       "\t\t<dd>0.68</dd>\n",
       "\t<dt>false</dt>\n",
       "\t\t<dd>0.32</dd>\n",
       "</dl>\n"
      ],
      "text/latex": [
       "\\textbf{\\$A} = \\begin{description*}\n",
       "\\item[true] 0.68\n",
       "\\item[false] 0.32\n",
       "\\end{description*}\n"
      ],
      "text/markdown": [
       "**$A** = true\n",
       ":   0.68false\n",
       ":   0.32\n",
       "\n"
      ],
      "text/plain": [
       "$A\n",
       "A\n",
       " true false \n",
       " 0.68  0.32 \n"
      ]
     },
     "metadata": {},
     "output_type": "display_data"
    },
    {
     "data": {
      "text/html": [
       "<strong>$B</strong> = <dl class=dl-horizontal>\n",
       "\t<dt>true</dt>\n",
       "\t\t<dd>0.478564</dd>\n",
       "\t<dt>false</dt>\n",
       "\t\t<dd>0.521436</dd>\n",
       "</dl>\n"
      ],
      "text/latex": [
       "\\textbf{\\$B} = \\begin{description*}\n",
       "\\item[true] 0.478564\n",
       "\\item[false] 0.521436\n",
       "\\end{description*}\n"
      ],
      "text/markdown": [
       "**$B** = true\n",
       ":   0.478564false\n",
       ":   0.521436\n",
       "\n"
      ],
      "text/plain": [
       "$B\n",
       "B\n",
       "    true    false \n",
       "0.478564 0.521436 \n"
      ]
     },
     "metadata": {},
     "output_type": "display_data"
    },
    {
     "data": {
      "text/html": [
       "<strong>$B</strong> = <dl class=dl-horizontal>\n",
       "\t<dt>true</dt>\n",
       "\t\t<dd>0.4696</dd>\n",
       "\t<dt>false</dt>\n",
       "\t\t<dd>0.5304</dd>\n",
       "</dl>\n"
      ],
      "text/latex": [
       "\\textbf{\\$B} = \\begin{description*}\n",
       "\\item[true] 0.4696\n",
       "\\item[false] 0.5304\n",
       "\\end{description*}\n"
      ],
      "text/markdown": [
       "**$B** = true\n",
       ":   0.4696false\n",
       ":   0.5304\n",
       "\n"
      ],
      "text/plain": [
       "$B\n",
       "B\n",
       "  true  false \n",
       "0.4696 0.5304 \n"
      ]
     },
     "metadata": {},
     "output_type": "display_data"
    },
    {
     "data": {
      "text/html": [
       "<strong>$C</strong> = <dl class=dl-horizontal>\n",
       "\t<dt>true</dt>\n",
       "\t\t<dd>0.19</dd>\n",
       "\t<dt>false</dt>\n",
       "\t\t<dd>0.81</dd>\n",
       "</dl>\n"
      ],
      "text/latex": [
       "\\textbf{\\$C} = \\begin{description*}\n",
       "\\item[true] 0.19\n",
       "\\item[false] 0.81\n",
       "\\end{description*}\n"
      ],
      "text/markdown": [
       "**$C** = true\n",
       ":   0.19false\n",
       ":   0.81\n",
       "\n"
      ],
      "text/plain": [
       "$C\n",
       "C\n",
       " true false \n",
       " 0.19  0.81 \n"
      ]
     },
     "metadata": {},
     "output_type": "display_data"
    },
    {
     "data": {
      "text/html": [
       "<strong>$C</strong> = <dl class=dl-horizontal>\n",
       "\t<dt>true</dt>\n",
       "\t\t<dd>0.1</dd>\n",
       "\t<dt>false</dt>\n",
       "\t\t<dd>0.9</dd>\n",
       "</dl>\n"
      ],
      "text/latex": [
       "\\textbf{\\$C} = \\begin{description*}\n",
       "\\item[true] 0.1\n",
       "\\item[false] 0.9\n",
       "\\end{description*}\n"
      ],
      "text/markdown": [
       "**$C** = true\n",
       ":   0.1false\n",
       ":   0.9\n",
       "\n"
      ],
      "text/plain": [
       "$C\n",
       "C\n",
       " true false \n",
       "  0.1   0.9 \n"
      ]
     },
     "metadata": {},
     "output_type": "display_data"
    },
    {
     "data": {
      "text/html": [
       "<strong>$C</strong> = <dl class=dl-horizontal>\n",
       "\t<dt>true</dt>\n",
       "\t\t<dd>0.15625</dd>\n",
       "\t<dt>false</dt>\n",
       "\t\t<dd>0.84375</dd>\n",
       "</dl>\n"
      ],
      "text/latex": [
       "\\textbf{\\$C} = \\begin{description*}\n",
       "\\item[true] 0.15625\n",
       "\\item[false] 0.84375\n",
       "\\end{description*}\n"
      ],
      "text/markdown": [
       "**$C** = true\n",
       ":   0.15625false\n",
       ":   0.84375\n",
       "\n"
      ],
      "text/plain": [
       "$C\n",
       "C\n",
       "   true   false \n",
       "0.15625 0.84375 \n"
      ]
     },
     "metadata": {},
     "output_type": "display_data"
    }
   ],
   "source": [
    "library(gRain)\n",
    "val =c(\"true\", \"false\") \n",
    "\n",
    "F = cptable(~F, values=c(10,90),levels=val)\n",
    "C = cptable(~C|F, values=c(10,90,20,80),levels=val)\n",
    "E = cptable(~E|F, values=c(50,50,30,70),levels=val)\n",
    "A = cptable(~A|C, values=c(50,50,70,30),levels=val)\n",
    "D = cptable(~D|E, values=c(60,40,70,30),levels=val)\n",
    "B = cptable(~B|A:D, values=c(60,40,70,30,20,80,10,90),levels=val)\n",
    "\n",
    "plist = compileCPT(list(F,E,C,A,D,B))\n",
    "plist\n",
    "\n",
    "print(plist$F)\n",
    "print(plist$B)\n",
    "\n",
    "jtree = grain(plist)\n",
    "jtree\n",
    "\n",
    "querygrain(jtree, nodes=c(\"F\"), type=\"marginal\")\n",
    "querygrain(jtree, nodes=c(\"C\"), type=\"marginal\")\n",
    "querygrain(jtree, nodes=c(\"B\"), type=\"marginal\")\n",
    "querygrain(jtree, nodes=c(\"A\",\"B\"), type=\"joint\")\n",
    "querygrain(jtree, nodes=c(\"A\",\"B\",\"C\"), type=\"joint\")\n",
    "\n",
    "jtree2 = setEvidence(jtree, evidence=list(F=\"true\"))\n",
    "querygrain(jtree, nodes=c(\"F\"), type=\"marginal\")\n",
    "querygrain(jtree2, nodes=c(\"F\"), type=\"marginal\")\n",
    "querygrain(jtree, nodes=c(\"A\"), type=\"marginal\")\n",
    "querygrain(jtree2, nodes=c(\"A\"), type=\"marginal\")\n",
    "querygrain(jtree, nodes=c(\"B\"), type=\"marginal\")\n",
    "querygrain(jtree2, nodes=c(\"B\"), type=\"marginal\")\n",
    "\n",
    "jtree3 = setEvidence(jtree, evidence=list(F=\"true\",A=\"false\"))\n",
    "querygrain(jtree, nodes=c(\"C\"), type=\"marginal\")\n",
    "querygrain(jtree2, nodes=c(\"C\"), type=\"marginal\")\n",
    "querygrain(jtree3, nodes=c(\"C\"), type=\"marginal\")"
   ]
  }
 ],
 "metadata": {
  "kernelspec": {
   "display_name": "R",
   "language": "R",
   "name": "ir"
  },
  "language_info": {
   "codemirror_mode": "r",
   "file_extension": ".r",
   "mimetype": "text/x-r-source",
   "name": "R",
   "pygments_lexer": "r",
   "version": "3.5.2"
  },
  "latex_envs": {
   "LaTeX_envs_menu_present": true,
   "autoclose": false,
   "autocomplete": true,
   "bibliofile": "biblio.bib",
   "cite_by": "apalike",
   "current_citInitial": 1,
   "eqLabelWithNumbers": true,
   "eqNumInitial": 1,
   "hotkeys": {
    "equation": "Ctrl-E",
    "itemize": "Ctrl-I"
   },
   "labels_anchors": false,
   "latex_user_defs": false,
   "report_style_numbering": false,
   "user_envs_cfg": false
  },
  "toc": {
   "base_numbering": 1,
   "nav_menu": {},
   "number_sections": true,
   "sideBar": true,
   "skip_h1_title": false,
   "title_cell": "Table of Contents",
   "title_sidebar": "Contents",
   "toc_cell": false,
   "toc_position": {},
   "toc_section_display": true,
   "toc_window_display": false
  }
 },
 "nbformat": 4,
 "nbformat_minor": 2
}
