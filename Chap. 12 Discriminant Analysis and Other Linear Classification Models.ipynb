{
 "cells": [
  {
   "cell_type": "code",
   "execution_count": 1,
   "metadata": {
    "scrolled": true
   },
   "outputs": [
    {
     "name": "stderr",
     "output_type": "stream",
     "text": [
      "Loading required package: lattice\n",
      "Loading required package: ggplot2\n",
      "Loading required package: foreach\n",
      "Loading required package: iterators\n",
      "Loading required package: parallel\n",
      "Type 'citation(\"pROC\")' for a citation.\n",
      "\n",
      "Attaching package: 'pROC'\n",
      "\n",
      "The following objects are masked from 'package:stats':\n",
      "\n",
      "    cov, smooth, var\n",
      "\n"
     ]
    }
   ],
   "source": [
    "library(caret)\n",
    "library(doMC)\n",
    "registerDoMC(12)\n",
    "library(plyr)\n",
    "library(reshape2)\n",
    "library(pROC)\n",
    "\n",
    "load(\"grant_Data.Rdata\")"
   ]
  },
  {
   "cell_type": "markdown",
   "metadata": {},
   "source": [
    "`there are 1073 predictors in fullSet, However the book show only 1070 predictors @page 311`"
   ]
  },
  {
   "cell_type": "code",
   "execution_count": 2,
   "metadata": {},
   "outputs": [],
   "source": [
    "#remove zear var cols first before scaling\n",
    "ZeroVarCol <- c(\"Sponsor260D\",\"Sponsor281A\" , \"Sponsor315C\")\n",
    "fullSet <- fullSet[! fullSet %in% ZeroVarCol]"
   ]
  },
  {
   "cell_type": "code",
   "execution_count": 5,
   "metadata": {},
   "outputs": [
    {
     "data": {
      "text/html": [
       "<ol class=list-inline>\n",
       "\t<li>'trimmedmat'</li>\n",
       "\t<li>'numbers.discarded'</li>\n",
       "\t<li>'names.discarded'</li>\n",
       "\t<li>'size'</li>\n",
       "</ol>\n"
      ],
      "text/latex": [
       "\\begin{enumerate*}\n",
       "\\item 'trimmedmat'\n",
       "\\item 'numbers.discarded'\n",
       "\\item 'names.discarded'\n",
       "\\item 'size'\n",
       "\\end{enumerate*}\n"
      ],
      "text/markdown": [
       "1. 'trimmedmat'\n",
       "2. 'numbers.discarded'\n",
       "3. 'names.discarded'\n",
       "4. 'size'\n",
       "\n",
       "\n"
      ],
      "text/plain": [
       "[1] \"trimmedmat\"        \"numbers.discarded\" \"names.discarded\"  \n",
       "[4] \"size\"             "
      ]
     },
     "metadata": {},
     "output_type": "display_data"
    },
    {
     "data": {
      "text/html": [],
      "text/latex": [],
      "text/markdown": [],
      "text/plain": [
       "character(0)"
      ]
     },
     "metadata": {},
     "output_type": "display_data"
    }
   ],
   "source": [
    "reducedCovMat <- cov(training[,reducedSet])\n",
    "library(subselect)\n",
    "trimmingResults <- trim.matrix(reducedCovMat)\n",
    "names(trimmingResults)\n",
    "trimmingResults$names.discarded"
   ]
  },
  {
   "cell_type": "code",
   "execution_count": 6,
   "metadata": {
    "scrolled": true
   },
   "outputs": [
    {
     "data": {
      "text/html": [
       "<ol class=list-inline>\n",
       "\t<li>'NumDR'</li>\n",
       "\t<li>'NumPS'</li>\n",
       "\t<li>'PS.Dept1033'</li>\n",
       "\t<li>'CI.Dept118'</li>\n",
       "\t<li>'PS.Dept3258'</li>\n",
       "\t<li>'CTotal'</li>\n",
       "\t<li>'numPeople'</li>\n",
       "\t<li>'Jun'</li>\n",
       "\t<li>'Wed'</li>\n",
       "</ol>\n"
      ],
      "text/latex": [
       "\\begin{enumerate*}\n",
       "\\item 'NumDR'\n",
       "\\item 'NumPS'\n",
       "\\item 'PS.Dept1033'\n",
       "\\item 'CI.Dept118'\n",
       "\\item 'PS.Dept3258'\n",
       "\\item 'CTotal'\n",
       "\\item 'numPeople'\n",
       "\\item 'Jun'\n",
       "\\item 'Wed'\n",
       "\\end{enumerate*}\n"
      ],
      "text/markdown": [
       "1. 'NumDR'\n",
       "2. 'NumPS'\n",
       "3. 'PS.Dept1033'\n",
       "4. 'CI.Dept118'\n",
       "5. 'PS.Dept3258'\n",
       "6. 'CTotal'\n",
       "7. 'numPeople'\n",
       "8. 'Jun'\n",
       "9. 'Wed'\n",
       "\n",
       "\n"
      ],
      "text/plain": [
       "[1] \"NumDR\"       \"NumPS\"       \"PS.Dept1033\" \"CI.Dept118\"  \"PS.Dept3258\"\n",
       "[6] \"CTotal\"      \"numPeople\"   \"Jun\"         \"Wed\"        "
      ]
     },
     "metadata": {},
     "output_type": "display_data"
    }
   ],
   "source": [
    "#apply to full set\n",
    "fullCovMat <- cov(training[,fullSet])\n",
    "fullSetResults <- trim.matrix(fullCovMat)\n",
    "fullSetResults$names.discarded"
   ]
  },
  {
   "cell_type": "code",
   "execution_count": 7,
   "metadata": {
    "scrolled": true
   },
   "outputs": [
    {
     "data": {
      "text/html": [
       "<ol class=list-inline>\n",
       "\t<li>'successful'</li>\n",
       "\t<li>'unsuccessful'</li>\n",
       "</ol>\n"
      ],
      "text/latex": [
       "\\begin{enumerate*}\n",
       "\\item 'successful'\n",
       "\\item 'unsuccessful'\n",
       "\\end{enumerate*}\n"
      ],
      "text/markdown": [
       "1. 'successful'\n",
       "2. 'unsuccessful'\n",
       "\n",
       "\n"
      ],
      "text/plain": [
       "[1] \"successful\"   \"unsuccessful\""
      ]
     },
     "metadata": {},
     "output_type": "display_data"
    }
   ],
   "source": [
    "levels(training$Class)"
   ]
  },
  {
   "cell_type": "code",
   "execution_count": 8,
   "metadata": {},
   "outputs": [
    {
     "name": "stderr",
     "output_type": "stream",
     "text": [
      "Loading required package: lattice\n",
      "Loading required package: ggplot2\n"
     ]
    },
    {
     "data": {
      "text/plain": [
       "\n",
       "Call:  glm(formula = Class ~ Day, family = binomial, data = training[pre2008, \n",
       "    ])\n",
       "\n",
       "Coefficients:\n",
       "(Intercept)          Day  \n",
       "  -0.919335     0.004238  \n",
       "\n",
       "Degrees of Freedom: 6632 Total (i.e. Null);  6631 Residual\n",
       "Null Deviance:\t    9191 \n",
       "Residual Deviance: 8919 \tAIC: 8923"
      ]
     },
     "metadata": {},
     "output_type": "display_data"
    }
   ],
   "source": [
    "library(caret)\n",
    "fit_glt <- glm(Class~Day,\n",
    "              data=training[pre2008,],\n",
    "              family=binomial)\n",
    "fit_glt"
   ]
  },
  {
   "cell_type": "code",
   "execution_count": 9,
   "metadata": {
    "scrolled": true
   },
   "outputs": [
    {
     "data": {
      "text/html": [
       "<dl class=dl-horizontal>\n",
       "\t<dt>1</dt>\n",
       "\t\t<dd>0.706190689736058</dd>\n",
       "\t<dt>2</dt>\n",
       "\t\t<dd>0.570433724686319</dd>\n",
       "\t<dt>3</dt>\n",
       "\t\t<dd>0.412874870392585</dd>\n",
       "\t<dt>4</dt>\n",
       "\t\t<dd>0.362622864009823</dd>\n",
       "</dl>\n"
      ],
      "text/latex": [
       "\\begin{description*}\n",
       "\\item[1] 0.706190689736058\n",
       "\\item[2] 0.570433724686319\n",
       "\\item[3] 0.412874870392585\n",
       "\\item[4] 0.362622864009823\n",
       "\\end{description*}\n"
      ],
      "text/markdown": [
       "1\n",
       ":   0.7061906897360582\n",
       ":   0.5704337246863193\n",
       ":   0.4128748703925854\n",
       ":   0.362622864009823\n",
       "\n"
      ],
      "text/plain": [
       "        1         2         3         4 \n",
       "0.7061907 0.5704337 0.4128749 0.3626229 "
      ]
     },
     "metadata": {},
     "output_type": "display_data"
    }
   ],
   "source": [
    "successProb <- 1- predict(\n",
    "                          fit_glt,\n",
    "                          newdata = data.frame(Day=c(10,150,300,350)),\n",
    "                         type=\"response\")\n",
    "\n",
    "successProb"
   ]
  },
  {
   "cell_type": "code",
   "execution_count": 10,
   "metadata": {
    "scrolled": true
   },
   "outputs": [
    {
     "data": {
      "text/plain": [
       "\n",
       "Call:  glm(formula = Class ~ Day + I(Day^2), family = binomial, data = training[pre2008, \n",
       "    ])\n",
       "\n",
       "Coefficients:\n",
       "(Intercept)          Day     I(Day^2)  \n",
       "  -1.881341     0.018622    -0.000038  \n",
       "\n",
       "Degrees of Freedom: 6632 Total (i.e. Null);  6630 Residual\n",
       "Null Deviance:\t    9191 \n",
       "Residual Deviance: 8721 \tAIC: 8727"
      ]
     },
     "metadata": {},
     "output_type": "display_data"
    }
   ],
   "source": [
    "fit_daySquared <- glm(\n",
    "                      Class~Day + I(Day^2),\n",
    "                     data=training[pre2008,],\n",
    "                     family=binomial)\n",
    "fit_daySquared"
   ]
  },
  {
   "cell_type": "code",
   "execution_count": 11,
   "metadata": {
    "scrolled": false
   },
   "outputs": [
    {
     "name": "stderr",
     "output_type": "stream",
     "text": [
      "Loading required package: Hmisc\n",
      "Loading required package: survival\n",
      "\n",
      "Attaching package: 'survival'\n",
      "\n",
      "The following object is masked from 'package:caret':\n",
      "\n",
      "    cluster\n",
      "\n",
      "Loading required package: Formula\n",
      "\n",
      "Attaching package: 'Hmisc'\n",
      "\n",
      "The following objects are masked from 'package:base':\n",
      "\n",
      "    format.pval, units\n",
      "\n",
      "Loading required package: SparseM\n",
      "\n",
      "Attaching package: 'SparseM'\n",
      "\n",
      "The following object is masked from 'package:base':\n",
      "\n",
      "    backsolve\n",
      "\n"
     ]
    },
    {
     "data": {
      "text/plain": [
       "Logistic Regression Model\n",
       " \n",
       " lrm(formula = Class ~ rcs(Day), data = training[pre2008, ])\n",
       " \n",
       "                       Model Likelihood     Discrimination    Rank Discrim.    \n",
       "                          Ratio Test           Indexes           Indexes       \n",
       " Obs          6633    LR chi2     461.53    R2       0.090    C       0.614    \n",
       "  successful  3233    d.f.             4    g        0.538    Dxy     0.228    \n",
       "  unsuccessful3400    Pr(> chi2) <0.0001    gr       1.713    gamma   0.237    \n",
       " max |deriv| 2e-06                          gp       0.122    tau-a   0.114    \n",
       "                                            Brier    0.234                     \n",
       " \n",
       "           Coef    S.E.   Wald Z Pr(>|Z|)\n",
       " Intercept -1.6833 0.1110 -15.16 <0.0001 \n",
       " Day        0.0124 0.0013   9.24 <0.0001 \n",
       " Day'      -0.0072 0.0023  -3.17 0.0015  \n",
       " Day''      0.0193 0.0367   0.52 0.6001  \n",
       " Day'''    -0.0888 0.1026  -0.87 0.3866  \n",
       " "
      ]
     },
     "metadata": {},
     "output_type": "display_data"
    }
   ],
   "source": [
    "library(rms)\n",
    "fit_rcs <- lrm(Class~rcs(Day),data=training[pre2008,])\n",
    "fit_rcs"
   ]
  },
  {
   "cell_type": "code",
   "execution_count": 12,
   "metadata": {},
   "outputs": [
    {
     "data": {
      "text/html": [
       "357"
      ],
      "text/latex": [
       "357"
      ],
      "text/markdown": [
       "357"
      ],
      "text/plain": [
       "[1] 357"
      ]
     },
     "metadata": {},
     "output_type": "display_data"
    }
   ],
   "source": [
    "max(training[pre2008,'Day'])"
   ]
  },
  {
   "cell_type": "code",
   "execution_count": 13,
   "metadata": {
    "scrolled": true
   },
   "outputs": [
    {
     "data": {},
     "metadata": {},
     "output_type": "display_data"
    },
    {
     "data": {
      "image/png": "[encoded data removed]",
      "text/plain": [
       "plot without title"
      ]
     },
     "metadata": {},
     "output_type": "display_data"
    }
   ],
   "source": [
    "dayProfile <- Predict(fit_rcs,Day=0:365,fun=function(x)-x)\n",
    "plot(dayProfile,ylab=\"Log Odds\")"
   ]
  },
  {
   "cell_type": "code",
   "execution_count": 14,
   "metadata": {},
   "outputs": [],
   "source": [
    "training$Day2 <- training$Day^2\n",
    "fullSet <- c(fullSet,\"Day2\")\n",
    "reducedSet <- c(reducedSet,\"Day2\")"
   ]
  },
  {
   "cell_type": "code",
   "execution_count": 15,
   "metadata": {
    "scrolled": true
   },
   "outputs": [
    {
     "name": "stderr",
     "output_type": "stream",
     "text": [
      "Warning message:\n",
      "\"glm.fit: fitted probabilities numerically 0 or 1 occurred\"Warning message in predict.lm(object, newdata, se.fit, scale = 1, type = ifelse(type == :\n",
      "\"prediction from a rank-deficient fit may be misleading\"Warning message in predict.lm(object, newdata, se.fit, scale = 1, type = ifelse(type == :\n",
      "\"prediction from a rank-deficient fit may be misleading\"Warning message:\n",
      "\"glm.fit: fitted probabilities numerically 0 or 1 occurred\""
     ]
    },
    {
     "data": {
      "text/plain": [
       "Generalized Linear Model \n",
       "\n",
       "8190 samples\n",
       "1071 predictors\n",
       "   2 classes: 'successful', 'unsuccessful' \n",
       "\n",
       "No pre-processing\n",
       "Resampling: Repeated Train/Test Splits Estimated (1 reps, 75%) \n",
       "Summary of sample sizes: 6633 \n",
       "Resampling results:\n",
       "\n",
       "  ROC        Sens       Spec     \n",
       "  0.7820882  0.7701754  0.7619048\n"
      ]
     },
     "metadata": {},
     "output_type": "display_data"
    }
   ],
   "source": [
    "library(caret)\n",
    "set.seed(476)\n",
    "ctrl <- trainControl(method = \"LGOCV\",\n",
    "                     summaryFunction = twoClassSummary,\n",
    "                     classProbs = TRUE,\n",
    "                     index = list(TrainSet = pre2008),\n",
    "                     savePredictions = TRUE)\n",
    "\n",
    "fit_lrFull <- train(\n",
    "                    training[,fullSet],y=training$Class,\n",
    "                    method=\"glm\",metric=\"ROC\",trControl=ctrl)\n",
    "fit_lrFull     "
   ]
  },
  {
   "cell_type": "markdown",
   "metadata": {},
   "source": [
    "&#x1F640;\n",
    "- [prediction from a rank-deficient fit may be misleading](http://bbs.pinggu.org/thread-3033898-1-1.html)\n",
    "- [glm.fit: fitted probabilities numerically 0 or 1 occurred](https://blog.csdn.net/m0_37119401/article/details/71007117?locationNum=7&fps=1)"
   ]
  },
  {
   "cell_type": "code",
   "execution_count": 16,
   "metadata": {},
   "outputs": [
    {
     "data": {
      "text/plain": [
       "Generalized Linear Model \n",
       "\n",
       "8190 samples\n",
       " 253 predictor\n",
       "   2 classes: 'successful', 'unsuccessful' \n",
       "\n",
       "No pre-processing\n",
       "Resampling: Repeated Train/Test Splits Estimated (1 reps, 75%) \n",
       "Summary of sample sizes: 6633 \n",
       "Resampling results:\n",
       "\n",
       "  ROC        Sens       Spec     \n",
       "  0.8715406  0.8035088  0.8216819\n"
      ]
     },
     "metadata": {},
     "output_type": "display_data"
    }
   ],
   "source": [
    "set.seed(476)\n",
    "fit_lrReduced <- train(\n",
    "                      training[,reducedSet],\n",
    "                      y=training$Class,\n",
    "                      method = \"glm\",\n",
    "                      metric=\"ROC\",\n",
    "                      trControl=ctrl)\n",
    "fit_lrReduced"
   ]
  },
  {
   "cell_type": "code",
   "execution_count": 52,
   "metadata": {},
   "outputs": [
    {
     "data": {
      "text/html": [
       "<table>\n",
       "<thead><tr><th scope=col>pred</th><th scope=col>obs</th><th scope=col>successful</th><th scope=col>unsuccessful</th><th scope=col>rowIndex</th><th scope=col>parameter</th><th scope=col>Resample</th></tr></thead>\n",
       "<tbody>\n",
       "\t<tr><td>successful  </td><td>successful  </td><td>0.9976544   </td><td>0.002345578 </td><td>6634        </td><td>none        </td><td>TrainSet    </td></tr>\n",
       "\t<tr><td>successful  </td><td>successful  </td><td>0.7522877   </td><td>0.247712253 </td><td>6635        </td><td>none        </td><td>TrainSet    </td></tr>\n",
       "\t<tr><td>successful  </td><td>successful  </td><td>0.8581422   </td><td>0.141857838 </td><td>6636        </td><td>none        </td><td>TrainSet    </td></tr>\n",
       "\t<tr><td>successful  </td><td>successful  </td><td>0.9388047   </td><td>0.061195276 </td><td>6637        </td><td>none        </td><td>TrainSet    </td></tr>\n",
       "\t<tr><td>unsuccessful</td><td>unsuccessful</td><td>0.4611670   </td><td>0.538833021 </td><td>6638        </td><td>none        </td><td>TrainSet    </td></tr>\n",
       "\t<tr><td>successful  </td><td>successful  </td><td>0.9821361   </td><td>0.017863851 </td><td>6639        </td><td>none        </td><td>TrainSet    </td></tr>\n",
       "</tbody>\n",
       "</table>\n"
      ],
      "text/latex": [
       "\\begin{tabular}{r|lllllll}\n",
       " pred & obs & successful & unsuccessful & rowIndex & parameter & Resample\\\\\n",
       "\\hline\n",
       "\t successful   & successful   & 0.9976544    & 0.002345578  & 6634         & none         & TrainSet    \\\\\n",
       "\t successful   & successful   & 0.7522877    & 0.247712253  & 6635         & none         & TrainSet    \\\\\n",
       "\t successful   & successful   & 0.8581422    & 0.141857838  & 6636         & none         & TrainSet    \\\\\n",
       "\t successful   & successful   & 0.9388047    & 0.061195276  & 6637         & none         & TrainSet    \\\\\n",
       "\t unsuccessful & unsuccessful & 0.4611670    & 0.538833021  & 6638         & none         & TrainSet    \\\\\n",
       "\t successful   & successful   & 0.9821361    & 0.017863851  & 6639         & none         & TrainSet    \\\\\n",
       "\\end{tabular}\n"
      ],
      "text/markdown": [
       "\n",
       "pred | obs | successful | unsuccessful | rowIndex | parameter | Resample | \n",
       "|---|---|---|---|---|---|\n",
       "| successful   | successful   | 0.9976544    | 0.002345578  | 6634         | none         | TrainSet     | \n",
       "| successful   | successful   | 0.7522877    | 0.247712253  | 6635         | none         | TrainSet     | \n",
       "| successful   | successful   | 0.8581422    | 0.141857838  | 6636         | none         | TrainSet     | \n",
       "| successful   | successful   | 0.9388047    | 0.061195276  | 6637         | none         | TrainSet     | \n",
       "| unsuccessful | unsuccessful | 0.4611670    | 0.538833021  | 6638         | none         | TrainSet     | \n",
       "| successful   | successful   | 0.9821361    | 0.017863851  | 6639         | none         | TrainSet     | \n",
       "\n",
       "\n"
      ],
      "text/plain": [
       "  pred         obs          successful unsuccessful rowIndex parameter Resample\n",
       "1 successful   successful   0.9976544  0.002345578  6634     none      TrainSet\n",
       "2 successful   successful   0.7522877  0.247712253  6635     none      TrainSet\n",
       "3 successful   successful   0.8581422  0.141857838  6636     none      TrainSet\n",
       "4 successful   successful   0.9388047  0.061195276  6637     none      TrainSet\n",
       "5 unsuccessful unsuccessful 0.4611670  0.538833021  6638     none      TrainSet\n",
       "6 successful   successful   0.9821361  0.017863851  6639     none      TrainSet"
      ]
     },
     "metadata": {},
     "output_type": "display_data"
    }
   ],
   "source": [
    "head(fit_lrReduced$pred)"
   ]
  },
  {
   "cell_type": "code",
   "execution_count": 53,
   "metadata": {
    "scrolled": false
   },
   "outputs": [
    {
     "data": {
      "text/plain": [
       "Confusion Matrix and Statistics\n",
       "\n",
       "              Reference\n",
       "Prediction     successful unsuccessful\n",
       "  successful          457          173\n",
       "  unsuccessful        113          814\n",
       "                                          \n",
       "               Accuracy : 0.8163          \n",
       "                 95% CI : (0.7962, 0.8353)\n",
       "    No Information Rate : 0.6339          \n",
       "    P-Value [Acc > NIR] : < 2.2e-16       \n",
       "                                          \n",
       "                  Kappa : 0.6128          \n",
       " Mcnemar's Test P-Value : 0.0004853       \n",
       "                                          \n",
       "            Sensitivity : 0.8018          \n",
       "            Specificity : 0.8247          \n",
       "         Pos Pred Value : 0.7254          \n",
       "         Neg Pred Value : 0.8781          \n",
       "             Prevalence : 0.3661          \n",
       "         Detection Rate : 0.2935          \n",
       "   Detection Prevalence : 0.4046          \n",
       "      Balanced Accuracy : 0.8132          \n",
       "                                          \n",
       "       'Positive' Class : successful      \n",
       "                                          "
      ]
     },
     "metadata": {},
     "output_type": "display_data"
    }
   ],
   "source": [
    "confusionMatrix(data=fit_lrReduced$pred$pred,reference = fit_lrReduced$pred$obs)"
   ]
  },
  {
   "cell_type": "code",
   "execution_count": 19,
   "metadata": {
    "scrolled": false
   },
   "outputs": [
    {
     "name": "stderr",
     "output_type": "stream",
     "text": [
      "Type 'citation(\"pROC\")' for a citation.\n",
      "\n",
      "Attaching package: 'pROC'\n",
      "\n",
      "The following objects are masked from 'package:stats':\n",
      "\n",
      "    cov, smooth, var\n",
      "\n"
     ]
    },
    {
     "data": {
      "text/html": [
       "0.871540553511438"
      ],
      "text/latex": [
       "0.871540553511438"
      ],
      "text/markdown": [
       "0.871540553511438"
      ],
      "text/plain": [
       "Area under the curve: 0.8715"
      ]
     },
     "metadata": {},
     "output_type": "display_data"
    },
    {
     "data": {
      "image/png": "[encoded data removed]",
      "text/plain": [
       "plot without title"
      ]
     },
     "metadata": {},
     "output_type": "display_data"
    }
   ],
   "source": [
    "library(pROC)\n",
    "roc_reduced <- roc(\n",
    "                   response = fit_lrReduced$pred$obs,\n",
    "                   predictor = fit_lrReduced$pred$successful,\n",
    "                  levels=rev(levels(fit_lrReduced$pred$obs)))\n",
    "\n",
    "plot(roc_reduced,legacy.axes=T)\n",
    "auc(roc_reduced)"
   ]
  },
  {
   "cell_type": "markdown",
   "metadata": {},
   "source": [
    "`Section 12.2 Logistic Regression`"
   ]
  },
  {
   "cell_type": "code",
   "execution_count": 46,
   "metadata": {},
   "outputs": [],
   "source": [
    "library(caret)\n",
    "fit_lgt <- glm(Class~Day,data=training[pre2008,],family=binomial)\n",
    "\n",
    "dataGrid <- data.frame(Day=seq(0,365,length=500))\n",
    "dataGrid$Linear <- 1-predict(fit_lgt,dataGrid,type=\"response\")\n",
    "\n",
    "linear2008 <- auc(roc(response = training[-pre2008,\"Class\"],\n",
    "                     predictor = 1 - predict(fit_lgt,training[-pre2008,],type=\"response\"),\n",
    "                     levels=rev(levels(training[-pre2008,\"Class\"]))))"
   ]
  },
  {
   "cell_type": "code",
   "execution_count": 49,
   "metadata": {},
   "outputs": [],
   "source": [
    "fit_lgt_sqr <- glm(Class~Day+I(Day^2),data=training[pre2008,],family=binomial)\n",
    "dataGrid$Quadratic <- 1- predict(fit_lgt_sqr,dataGrid,type=\"response\")\n",
    "\n",
    "quadratic2008 <- auc(roc(response=training[-pre2008,\"Class\"],\n",
    "                        predictor = 1-predict(fit_lgt_sqr,training[-pre2008,],type=\"response\"),\n",
    "                        levels = rev(levels(training[-pre2008,\"Class\"]))))"
   ]
  },
  {
   "cell_type": "code",
   "execution_count": 51,
   "metadata": {},
   "outputs": [],
   "source": [
    "library(reshape2)\n",
    "dataGrid <- melt(dataGrid,id.vars=\"Day\")\n",
    "\n",
    "byDay <- training[pre2008,c(\"Day\",\"Class\")]\n",
    "byDay$Binned <- cut(byDay$Day,seq(0,360,by=5))"
   ]
  },
  {
   "cell_type": "code",
   "execution_count": 55,
   "metadata": {
    "scrolled": true
   },
   "outputs": [
    {
     "data": {},
     "metadata": {},
     "output_type": "display_data"
    },
    {
     "data": {
      "image/png": "[encoded data removed]",
      "text/plain": [
       "plot without title"
      ]
     },
     "metadata": {},
     "output_type": "display_data"
    }
   ],
   "source": [
    "library(plyr)\n",
    "library(lattice)\n",
    "observedProps <- ddply(byDay, .(Binned),\n",
    "                       function(x) c(n = nrow(x), mean = mean(x$Class == \"successful\")))\n",
    "observedProps$midpoint <- seq(2.5, 357.5, by = 5)\n",
    "\n",
    "xyplot(value ~ Day|variable, data = dataGrid,\n",
    "       ylab = \"Probability of A Successful Grant\",\n",
    "       ylim = extendrange(0:1),\n",
    "       between = list(x = 1),\n",
    "       panel = function(...)\n",
    "       {\n",
    "         panel.xyplot(x = observedProps$midpoint, observedProps$mean,\n",
    "                      pch = 16., col = rgb(.2, .2, .2, .5))\n",
    "         panel.xyplot(..., type = \"l\", col = \"black\", lwd = 2)\n",
    "       })"
   ]
  },
  {
   "cell_type": "markdown",
   "metadata": {},
   "source": [
    "`Linear Discriminant Analysis`\n",
    "\n",
    "> When the number of predictors is large, the prediction equation requires a very large number of parameters to be estimated. \n",
    "For P = 2 and two classes, this equation uses four means and three variance parameters. \n",
    "In general, the model (LDA) would require CP + P*(P + 1)/2 parameters with P redictors and C classes. \n",
    "In comparison to logistic regression, a similar model would only estimate three parameters. This difference between the models becomes more significant as the number of predictors grow. \n",
    "However, the value of the extra parameters in LDA models is that the between-predictor correlations are explicitly handled by the model. This should provide some advantage to LDA over logistic regression when there are substantial correlations, although both models will break down when the multicollinearity becomes extreme.\n",
    "\n",
    "`Pros`\n",
    "- Deal substantial correlations substantial correlations\n",
    "\n",
    "\n",
    "`Cons`\n",
    "- Deal substantial correlations substantial correlations\n",
    "- Both models break down when multicollinearity becomes extreme"
   ]
  },
  {
   "cell_type": "code",
   "execution_count": 21,
   "metadata": {},
   "outputs": [],
   "source": [
    "library(MASS)\n",
    "fit_scale <- preProcess(training[pre2008,reducedSet])\n",
    "trn <- predict(fit_scale,newdata = training[pre2008,reducedSet])\n",
    "\n",
    "vld <- predict(fit_scale,newdata = training[-pre2008,reducedSet])\n",
    "\n",
    "fit_lda <- lda(x=trn,grouping=training$Class[pre2008])"
   ]
  },
  {
   "cell_type": "code",
   "execution_count": 22,
   "metadata": {
    "scrolled": true
   },
   "outputs": [
    {
     "data": {
      "text/html": [
       "<table>\n",
       "<thead><tr><th></th><th scope=col>LD1</th></tr></thead>\n",
       "<tbody>\n",
       "\t<tr><th scope=row>NumCI</th><td> 0.130167258</td></tr>\n",
       "\t<tr><th scope=row>NumDR</th><td> 0.001727461</td></tr>\n",
       "\t<tr><th scope=row>NumECI</th><td> 0.121947837</td></tr>\n",
       "\t<tr><th scope=row>NumPS</th><td> 0.004266855</td></tr>\n",
       "\t<tr><th scope=row>NumSCI</th><td>-0.065566316</td></tr>\n",
       "\t<tr><th scope=row>NumSR</th><td>-0.064220945</td></tr>\n",
       "</tbody>\n",
       "</table>\n"
      ],
      "text/latex": [
       "\\begin{tabular}{r|l}\n",
       "  & LD1\\\\\n",
       "\\hline\n",
       "\tNumCI &  0.130167258\\\\\n",
       "\tNumDR &  0.001727461\\\\\n",
       "\tNumECI &  0.121947837\\\\\n",
       "\tNumPS &  0.004266855\\\\\n",
       "\tNumSCI & -0.065566316\\\\\n",
       "\tNumSR & -0.064220945\\\\\n",
       "\\end{tabular}\n"
      ],
      "text/markdown": [
       "\n",
       "| <!--/--> | LD1 | \n",
       "|---|---|---|---|---|---|\n",
       "| NumCI |  0.130167258 | \n",
       "| NumDR |  0.001727461 | \n",
       "| NumECI |  0.121947837 | \n",
       "| NumPS |  0.004266855 | \n",
       "| NumSCI | -0.065566316 | \n",
       "| NumSR | -0.064220945 | \n",
       "\n",
       "\n"
      ],
      "text/plain": [
       "       LD1         \n",
       "NumCI   0.130167258\n",
       "NumDR   0.001727461\n",
       "NumECI  0.121947837\n",
       "NumPS   0.004266855\n",
       "NumSCI -0.065566316\n",
       "NumSR  -0.064220945"
      ]
     },
     "metadata": {},
     "output_type": "display_data"
    }
   ],
   "source": [
    "head(fit_lda$scaling)"
   ]
  },
  {
   "cell_type": "code",
   "execution_count": 23,
   "metadata": {},
   "outputs": [],
   "source": [
    "pred_lda <- predict(fit_lda,vld)"
   ]
  },
  {
   "cell_type": "code",
   "execution_count": 26,
   "metadata": {},
   "outputs": [
    {
     "data": {
      "text/plain": [
       "Linear Discriminant Analysis \n",
       "\n",
       "8190 samples\n",
       " 253 predictor\n",
       "   2 classes: 'successful', 'unsuccessful' \n",
       "\n",
       "Pre-processing: centered (253), scaled (253) \n",
       "Resampling: Repeated Train/Test Splits Estimated (1 reps, 75%) \n",
       "Summary of sample sizes: 6633 \n",
       "Resampling results:\n",
       "\n",
       "  ROC        Sens       Spec    \n",
       "  0.8891644  0.8035088  0.822695\n"
      ]
     },
     "metadata": {},
     "output_type": "display_data"
    }
   ],
   "source": [
    "set.seed(476)\n",
    "ctrl <- trainControl(method = \"LGOCV\",\n",
    "                     summaryFunction = twoClassSummary,\n",
    "                     classProbs = TRUE,\n",
    "                     index = list(TrainSet = pre2008),\n",
    "                     savePredictions = TRUE)\n",
    "\n",
    "fit_lda_caret <- train(\n",
    "                      x=training[,reducedSet],\n",
    "                      y=training$Class,\n",
    "                      method=\"lda\",\n",
    "                      preProc=c(\"center\",\"scale\"),\n",
    "                      metric=\"ROC\",\n",
    "                      trControl=ctrl)\n",
    "\n",
    "fit_lda_caret"
   ]
  },
  {
   "cell_type": "code",
   "execution_count": 38,
   "metadata": {},
   "outputs": [],
   "source": [
    "testing$Day2 <- testing$Day^2\n",
    "\n",
    "pred_cls <- predict(fit_lda_caret,newdata = testing[,reducedSet])\n",
    "\n",
    "pred_prob <- predict(fit_lda_caret,newdata = testing[,reducedSet],type=\"prob\")"
   ]
  },
  {
   "cell_type": "markdown",
   "metadata": {},
   "source": [
    "`PLSDA`"
   ]
  },
  {
   "cell_type": "code",
   "execution_count": 8,
   "metadata": {
    "scrolled": true
   },
   "outputs": [
    {
     "data": {
      "text/plain": [
       "Partial least squares classification, fitted with the kernel algorithm.\n",
       "Bayes rule was used to compute class probabilities."
      ]
     },
     "metadata": {},
     "output_type": "display_data"
    },
    {
     "data": {
      "text/html": [
       "<ol class=list-inline>\n",
       "\t<li>successful</li>\n",
       "\t<li>successful</li>\n",
       "\t<li>successful</li>\n",
       "\t<li>successful</li>\n",
       "\t<li>successful</li>\n",
       "\t<li>successful</li>\n",
       "</ol>\n",
       "\n",
       "<details>\n",
       "\t<summary style=display:list-item;cursor:pointer>\n",
       "\t\t<strong>Levels</strong>:\n",
       "\t</summary>\n",
       "\t<ol class=list-inline>\n",
       "\t\t<li>'successful'</li>\n",
       "\t\t<li>'unsuccessful'</li>\n",
       "\t</ol>\n",
       "</details>"
      ],
      "text/latex": [
       "\\begin{enumerate*}\n",
       "\\item successful\n",
       "\\item successful\n",
       "\\item successful\n",
       "\\item successful\n",
       "\\item successful\n",
       "\\item successful\n",
       "\\end{enumerate*}\n",
       "\n",
       "\\emph{Levels}: \\begin{enumerate*}\n",
       "\\item 'successful'\n",
       "\\item 'unsuccessful'\n",
       "\\end{enumerate*}\n"
      ],
      "text/markdown": [
       "1. successful\n",
       "2. successful\n",
       "3. successful\n",
       "4. successful\n",
       "5. successful\n",
       "6. successful\n",
       "\n",
       "\n",
       "\n",
       "**Levels**: 1. 'successful'\n",
       "2. 'unsuccessful'\n",
       "\n",
       "\n"
      ],
      "text/plain": [
       "[1] successful successful successful successful successful successful\n",
       "Levels: successful unsuccessful"
      ]
     },
     "metadata": {},
     "output_type": "display_data"
    }
   ],
   "source": [
    "library(pls)\n",
    "fit_plsda <- plsda(\n",
    "                x=training[pre2008,reducedSet],\n",
    "                y=training[pre2008,\"Class\"],\n",
    "                scale=T,probMethod=\"Bayes\",ncomp=4)\n",
    "\n",
    "fit_plsda\n",
    "\n",
    "pred_plsda <- predict(fit_plsda,newdata = training[-pre2008,reducedSet])\n",
    "\n",
    "head(pred_plsda)\n",
    "\n",
    "# pred_plsda <- predict(fit_plsda,newdata=training[-pre2008,reducedSet],type=\"prob\")"
   ]
  },
  {
   "cell_type": "code",
   "execution_count": 10,
   "metadata": {
    "scrolled": true
   },
   "outputs": [
    {
     "data": {},
     "metadata": {},
     "output_type": "display_data"
    },
    {
     "data": {
      "image/png": "[encoded data removed]",
      "text/plain": [
       "plot without title"
      ]
     },
     "metadata": {},
     "output_type": "display_data"
    }
   ],
   "source": [
    "library(caret)\n",
    "ctrl <- trainControl(method = \"LGOCV\",\n",
    "                     summaryFunction = twoClassSummary,\n",
    "                     classProbs = TRUE,\n",
    "                     index = list(TrainSet = pre2008),\n",
    "                     savePredictions = TRUE)\n",
    "\n",
    "fit_plsda_caret <- train(\n",
    "                        x=training[,reducedSet],\n",
    "                        y=training$Class,\n",
    "                        method=\"pls\",\n",
    "                        tuneGrid = expand.grid(ncomp=1:10),\n",
    "                        preProc=c(\"center\",\"scale\"),\n",
    "                        metric=\"ROC\",\n",
    "                        trControl=ctrl)\n",
    "\n",
    "feat_imp <- varImp(fit_plsda_caret,scale=F)\n",
    "plot(feat_imp,top=20,scales=list(y=list(cex=0.95)))"
   ]
  },
  {
   "cell_type": "code",
   "execution_count": 11,
   "metadata": {},
   "outputs": [
    {
     "data": {
      "text/plain": [
       "Partial Least Squares \n",
       "\n",
       "8190 samples\n",
       "1070 predictors\n",
       "   2 classes: 'successful', 'unsuccessful' \n",
       "\n",
       "Pre-processing: centered (1070), scaled (1070) \n",
       "Resampling: Repeated Train/Test Splits Estimated (1 reps, 75%) \n",
       "Summary of sample sizes: 6633 \n",
       "Resampling results across tuning parameters:\n",
       "\n",
       "  ncomp  ROC        Sens       Spec     \n",
       "   1     0.8261834  0.8649123  0.6757852\n",
       "   2     0.8484607  0.8315789  0.7467072\n",
       "   3     0.8630744  0.8491228  0.7426545\n",
       "   4     0.8621874  0.8456140  0.7548126\n",
       "   5     0.8631561  0.8350877  0.7710233\n",
       "   6     0.8696075  0.8298246  0.7700101\n",
       "   7     0.8654402  0.8192982  0.7740628\n",
       "   8     0.8619199  0.8157895  0.7771023\n",
       "   9     0.8628166  0.8228070  0.7831814\n",
       "  10     0.8580734  0.8122807  0.7841945\n",
       "\n",
       "ROC was used to select the optimal model using the largest value.\n",
       "The final value used for the model was ncomp = 6."
      ]
     },
     "metadata": {},
     "output_type": "display_data"
    }
   ],
   "source": [
    "fit_plsda_full <- train(\n",
    "                        x=training[,fullSet],\n",
    "                        y=training$Class,\n",
    "                        method=\"pls\",\n",
    "                        tuneGrid = expand.grid(ncomp=1:10),\n",
    "                        preProc=c(\"center\",\"scale\"),\n",
    "                        metric=\"ROC\",probMethod=\"Bayes\",\n",
    "                        trControl=ctrl)\n",
    "fit_plsda_full"
   ]
  },
  {
   "cell_type": "code",
   "execution_count": 20,
   "metadata": {
    "scrolled": false
   },
   "outputs": [
    {
     "data": {},
     "metadata": {},
     "output_type": "display_data"
    },
    {
     "data": {
      "image/png": "[encoded data removed]",
      "text/plain": [
       "plot without title"
      ]
     },
     "metadata": {},
     "output_type": "display_data"
    }
   ],
   "source": [
    "plot(fit_plsda_full)"
   ]
  },
  {
   "cell_type": "code",
   "execution_count": 16,
   "metadata": {
    "scrolled": false
   },
   "outputs": [
    {
     "data": {
      "text/html": [
       "0.869607529461953"
      ],
      "text/latex": [
       "0.869607529461953"
      ],
      "text/markdown": [
       "0.869607529461953"
      ],
      "text/plain": [
       "[1] 0.8696075"
      ]
     },
     "metadata": {},
     "output_type": "display_data"
    }
   ],
   "source": [
    "fit_plsda_full$results[best(fit_plsda_full$results,\"ROC\",maximize = T),\"ROC\"]"
   ]
  },
  {
   "cell_type": "code",
   "execution_count": 27,
   "metadata": {
    "scrolled": true
   },
   "outputs": [
    {
     "data": {
      "text/html": [
       "<table>\n",
       "<thead><tr><th scope=col>ncomp</th><th scope=col>pred</th><th scope=col>obs</th><th scope=col>rowIndex</th><th scope=col>successful</th><th scope=col>unsuccessful</th><th scope=col>Resample</th></tr></thead>\n",
       "<tbody>\n",
       "\t<tr><td>6           </td><td>successful  </td><td>successful  </td><td>6639        </td><td>0.9602089   </td><td>0.03979111  </td><td>TrainSet    </td></tr>\n",
       "\t<tr><td>6           </td><td>successful  </td><td>unsuccessful</td><td>6640        </td><td>0.6128982   </td><td>0.38710179  </td><td>TrainSet    </td></tr>\n",
       "\t<tr><td>6           </td><td>successful  </td><td>successful  </td><td>6634        </td><td>0.9732737   </td><td>0.02672634  </td><td>TrainSet    </td></tr>\n",
       "\t<tr><td>6           </td><td>successful  </td><td>successful  </td><td>6635        </td><td>0.9397044   </td><td>0.06029558  </td><td>TrainSet    </td></tr>\n",
       "\t<tr><td>6           </td><td>successful  </td><td>successful  </td><td>6636        </td><td>0.8324477   </td><td>0.16755232  </td><td>TrainSet    </td></tr>\n",
       "\t<tr><td>6           </td><td>successful  </td><td>successful  </td><td>6637        </td><td>0.9729445   </td><td>0.02705548  </td><td>TrainSet    </td></tr>\n",
       "</tbody>\n",
       "</table>\n"
      ],
      "text/latex": [
       "\\begin{tabular}{r|lllllll}\n",
       " ncomp & pred & obs & rowIndex & successful & unsuccessful & Resample\\\\\n",
       "\\hline\n",
       "\t 6            & successful   & successful   & 6639         & 0.9602089    & 0.03979111   & TrainSet    \\\\\n",
       "\t 6            & successful   & unsuccessful & 6640         & 0.6128982    & 0.38710179   & TrainSet    \\\\\n",
       "\t 6            & successful   & successful   & 6634         & 0.9732737    & 0.02672634   & TrainSet    \\\\\n",
       "\t 6            & successful   & successful   & 6635         & 0.9397044    & 0.06029558   & TrainSet    \\\\\n",
       "\t 6            & successful   & successful   & 6636         & 0.8324477    & 0.16755232   & TrainSet    \\\\\n",
       "\t 6            & successful   & successful   & 6637         & 0.9729445    & 0.02705548   & TrainSet    \\\\\n",
       "\\end{tabular}\n"
      ],
      "text/markdown": [
       "\n",
       "ncomp | pred | obs | rowIndex | successful | unsuccessful | Resample | \n",
       "|---|---|---|---|---|---|\n",
       "| 6            | successful   | successful   | 6639         | 0.9602089    | 0.03979111   | TrainSet     | \n",
       "| 6            | successful   | unsuccessful | 6640         | 0.6128982    | 0.38710179   | TrainSet     | \n",
       "| 6            | successful   | successful   | 6634         | 0.9732737    | 0.02672634   | TrainSet     | \n",
       "| 6            | successful   | successful   | 6635         | 0.9397044    | 0.06029558   | TrainSet     | \n",
       "| 6            | successful   | successful   | 6636         | 0.8324477    | 0.16755232   | TrainSet     | \n",
       "| 6            | successful   | successful   | 6637         | 0.9729445    | 0.02705548   | TrainSet     | \n",
       "\n",
       "\n"
      ],
      "text/plain": [
       "  ncomp pred       obs          rowIndex successful unsuccessful Resample\n",
       "1 6     successful successful   6639     0.9602089  0.03979111   TrainSet\n",
       "2 6     successful unsuccessful 6640     0.6128982  0.38710179   TrainSet\n",
       "3 6     successful successful   6634     0.9732737  0.02672634   TrainSet\n",
       "4 6     successful successful   6635     0.9397044  0.06029558   TrainSet\n",
       "5 6     successful successful   6636     0.8324477  0.16755232   TrainSet\n",
       "6 6     successful successful   6637     0.9729445  0.02705548   TrainSet"
      ]
     },
     "metadata": {},
     "output_type": "display_data"
    }
   ],
   "source": [
    "head(fit_plsda_full$pred)"
   ]
  },
  {
   "cell_type": "code",
   "execution_count": 30,
   "metadata": {
    "scrolled": true
   },
   "outputs": [],
   "source": [
    "fit_plsda_full$pred <- merge(fit_plsda_full$pred,fit_plsda_full$bestTune)"
   ]
  },
  {
   "cell_type": "code",
   "execution_count": 39,
   "metadata": {
    "scrolled": true
   },
   "outputs": [
    {
     "data": {
      "image/png": "[encoded data removed]",
      "text/plain": [
       "plot without title"
      ]
     },
     "metadata": {},
     "output_type": "display_data"
    }
   ],
   "source": [
    "roc_plsda_full <- roc(\n",
    "                   response = fit_plsda_full$pred$obs,\n",
    "                   predictor = fit_plsda_full$pred$successful,\n",
    "                  levels=rev(levels(fit_plsda_full$pred$obs)))\n",
    "\n",
    "roc_plsda_caret <- roc(\n",
    "                   response = fit_plsda_caret$pred$obs,\n",
    "                   predictor = fit_plsda_caret$pred$successful,\n",
    "                  levels=rev(levels(fit_plsda_caret$pred$obs)))\n",
    "plot(roc_plsda_full,legacy.axes=T,col=\"navy\")\n",
    "plot.roc(roc_plsda_caret,add=T,col=\"pink\")"
   ]
  },
  {
   "cell_type": "code",
   "execution_count": 40,
   "metadata": {
    "scrolled": true
   },
   "outputs": [
    {
     "data": {
      "text/html": [
       "<table>\n",
       "<thead><tr><th scope=col>ncomp</th><th scope=col>ROC</th><th scope=col>Sens</th><th scope=col>Spec</th><th scope=col>ROCSD</th><th scope=col>SensSD</th><th scope=col>SpecSD</th><th scope=col>Cols</th></tr></thead>\n",
       "<tbody>\n",
       "\t<tr><td>1          </td><td>0.8494730  </td><td>0.8543860  </td><td>0.7082067  </td><td>NA         </td><td>NA         </td><td>NA         </td><td>Reduced Set</td></tr>\n",
       "\t<tr><td>2          </td><td>0.8693151  </td><td>0.8122807  </td><td>0.7892604  </td><td>NA         </td><td>NA         </td><td>NA         </td><td>Reduced Set</td></tr>\n",
       "\t<tr><td>3          </td><td>0.8884392  </td><td>0.8315789  </td><td>0.8074975  </td><td>NA         </td><td>NA         </td><td>NA         </td><td>Reduced Set</td></tr>\n",
       "\t<tr><td>4          </td><td>0.8953376  </td><td>0.8157895  </td><td>0.8176292  </td><td>NA         </td><td>NA         </td><td>NA         </td><td>Reduced Set</td></tr>\n",
       "\t<tr><td>5          </td><td>0.8934251  </td><td>0.8122807  </td><td>0.8135765  </td><td>NA         </td><td>NA         </td><td>NA         </td><td>Reduced Set</td></tr>\n",
       "\t<tr><td>6          </td><td>0.8940916  </td><td>0.8140351  </td><td>0.8125633  </td><td>NA         </td><td>NA         </td><td>NA         </td><td>Reduced Set</td></tr>\n",
       "</tbody>\n",
       "</table>\n"
      ],
      "text/latex": [
       "\\begin{tabular}{r|llllllll}\n",
       " ncomp & ROC & Sens & Spec & ROCSD & SensSD & SpecSD & Cols\\\\\n",
       "\\hline\n",
       "\t 1           & 0.8494730   & 0.8543860   & 0.7082067   & NA          & NA          & NA          & Reduced Set\\\\\n",
       "\t 2           & 0.8693151   & 0.8122807   & 0.7892604   & NA          & NA          & NA          & Reduced Set\\\\\n",
       "\t 3           & 0.8884392   & 0.8315789   & 0.8074975   & NA          & NA          & NA          & Reduced Set\\\\\n",
       "\t 4           & 0.8953376   & 0.8157895   & 0.8176292   & NA          & NA          & NA          & Reduced Set\\\\\n",
       "\t 5           & 0.8934251   & 0.8122807   & 0.8135765   & NA          & NA          & NA          & Reduced Set\\\\\n",
       "\t 6           & 0.8940916   & 0.8140351   & 0.8125633   & NA          & NA          & NA          & Reduced Set\\\\\n",
       "\\end{tabular}\n"
      ],
      "text/markdown": [
       "\n",
       "ncomp | ROC | Sens | Spec | ROCSD | SensSD | SpecSD | Cols | \n",
       "|---|---|---|---|---|---|\n",
       "| 1           | 0.8494730   | 0.8543860   | 0.7082067   | NA          | NA          | NA          | Reduced Set | \n",
       "| 2           | 0.8693151   | 0.8122807   | 0.7892604   | NA          | NA          | NA          | Reduced Set | \n",
       "| 3           | 0.8884392   | 0.8315789   | 0.8074975   | NA          | NA          | NA          | Reduced Set | \n",
       "| 4           | 0.8953376   | 0.8157895   | 0.8176292   | NA          | NA          | NA          | Reduced Set | \n",
       "| 5           | 0.8934251   | 0.8122807   | 0.8135765   | NA          | NA          | NA          | Reduced Set | \n",
       "| 6           | 0.8940916   | 0.8140351   | 0.8125633   | NA          | NA          | NA          | Reduced Set | \n",
       "\n",
       "\n"
      ],
      "text/plain": [
       "  ncomp ROC       Sens      Spec      ROCSD SensSD SpecSD Cols       \n",
       "1 1     0.8494730 0.8543860 0.7082067 NA    NA     NA     Reduced Set\n",
       "2 2     0.8693151 0.8122807 0.7892604 NA    NA     NA     Reduced Set\n",
       "3 3     0.8884392 0.8315789 0.8074975 NA    NA     NA     Reduced Set\n",
       "4 4     0.8953376 0.8157895 0.8176292 NA    NA     NA     Reduced Set\n",
       "5 5     0.8934251 0.8122807 0.8135765 NA    NA     NA     Reduced Set\n",
       "6 6     0.8940916 0.8140351 0.8125633 NA    NA     NA     Reduced Set"
      ]
     },
     "metadata": {},
     "output_type": "display_data"
    }
   ],
   "source": [
    "pls_reduce <- cbind(fit_plsda_caret$results,Cols=\"Reduced Set\")\n",
    "pls_full <- cbind(fit_plsda_full$results,Cols = \"Full Set\")\n",
    "plt_data <- data.frame(rbind(pls_reduce,pls_full))\n",
    "head(plt_data)"
   ]
  },
  {
   "cell_type": "code",
   "execution_count": 41,
   "metadata": {
    "scrolled": true
   },
   "outputs": [
    {
     "data": {},
     "metadata": {},
     "output_type": "display_data"
    },
    {
     "data": {
      "image/png": "[encoded data removed]",
      "text/plain": [
       "plot without title"
      ]
     },
     "metadata": {},
     "output_type": "display_data"
    }
   ],
   "source": [
    "library(lattice)\n",
    "xyplot(ROC~ncomp,\n",
    "      data=plt_data,\n",
    "      xlab=\"#Comp\",\n",
    "      ylab=\"ROC\",\n",
    "      auto.key=list(columns=2),\n",
    "      groups=Cols,type=c(\"o\",\"g\"))"
   ]
  },
  {
   "cell_type": "markdown",
   "metadata": {},
   "source": [
    "`Penalized Models`"
   ]
  },
  {
   "cell_type": "code",
   "execution_count": 4,
   "metadata": {
    "scrolled": true
   },
   "outputs": [
    {
     "data": {
      "text/html": [
       "<table>\n",
       "<thead><tr><th></th><th scope=col>1</th><th scope=col>2</th><th scope=col>3</th></tr></thead>\n",
       "<tbody>\n",
       "\t<tr><th scope=row>1</th><td>successful  </td><td>successful  </td><td>unsuccessful</td></tr>\n",
       "\t<tr><th scope=row>2</th><td>successful  </td><td>successful  </td><td>unsuccessful</td></tr>\n",
       "\t<tr><th scope=row>3</th><td>successful  </td><td>successful  </td><td>unsuccessful</td></tr>\n",
       "\t<tr><th scope=row>4</th><td>successful  </td><td>successful  </td><td>unsuccessful</td></tr>\n",
       "\t<tr><th scope=row>5</th><td>successful  </td><td>successful  </td><td>unsuccessful</td></tr>\n",
       "</tbody>\n",
       "</table>\n"
      ],
      "text/latex": [
       "\\begin{tabular}{r|lll}\n",
       "  & 1 & 2 & 3\\\\\n",
       "\\hline\n",
       "\t1 & successful   & successful   & unsuccessful\\\\\n",
       "\t2 & successful   & successful   & unsuccessful\\\\\n",
       "\t3 & successful   & successful   & unsuccessful\\\\\n",
       "\t4 & successful   & successful   & unsuccessful\\\\\n",
       "\t5 & successful   & successful   & unsuccessful\\\\\n",
       "\\end{tabular}\n"
      ],
      "text/markdown": [
       "\n",
       "| <!--/--> | 1 | 2 | 3 | \n",
       "|---|---|---|---|---|\n",
       "| 1 | successful   | successful   | unsuccessful | \n",
       "| 2 | successful   | successful   | unsuccessful | \n",
       "| 3 | successful   | successful   | unsuccessful | \n",
       "| 4 | successful   | successful   | unsuccessful | \n",
       "| 5 | successful   | successful   | unsuccessful | \n",
       "\n",
       "\n"
      ],
      "text/plain": [
       "  1          2          3           \n",
       "1 successful successful unsuccessful\n",
       "2 successful successful unsuccessful\n",
       "3 successful successful unsuccessful\n",
       "4 successful successful unsuccessful\n",
       "5 successful successful unsuccessful"
      ]
     },
     "metadata": {},
     "output_type": "display_data"
    },
    {
     "data": {
      "text/html": [
       "<dl>\n",
       "\t<dt>$`1`</dt>\n",
       "\t\t<dd><ol class=list-inline>\n",
       "\t<li>69</li>\n",
       "\t<li>70</li>\n",
       "\t<li>972</li>\n",
       "\t<li>1038</li>\n",
       "\t<li>1043</li>\n",
       "\t<li>1050</li>\n",
       "\t<li>1055</li>\n",
       "</ol>\n",
       "</dd>\n",
       "\t<dt>$`2`</dt>\n",
       "\t\t<dd><ol class=list-inline>\n",
       "\t<li>1038</li>\n",
       "\t<li>1050</li>\n",
       "</ol>\n",
       "</dd>\n",
       "\t<dt>$`3`</dt>\n",
       "\t\t<dd>1038</dd>\n",
       "</dl>\n"
      ],
      "text/latex": [
       "\\begin{description}\n",
       "\\item[\\$`1`] \\begin{enumerate*}\n",
       "\\item 69\n",
       "\\item 70\n",
       "\\item 972\n",
       "\\item 1038\n",
       "\\item 1043\n",
       "\\item 1050\n",
       "\\item 1055\n",
       "\\end{enumerate*}\n",
       "\n",
       "\\item[\\$`2`] \\begin{enumerate*}\n",
       "\\item 1038\n",
       "\\item 1050\n",
       "\\end{enumerate*}\n",
       "\n",
       "\\item[\\$`3`] 1038\n",
       "\\end{description}\n"
      ],
      "text/markdown": [
       "$`1`\n",
       ":   1. 69\n",
       "2. 70\n",
       "3. 972\n",
       "4. 1038\n",
       "5. 1043\n",
       "6. 1050\n",
       "7. 1055\n",
       "\n",
       "\n",
       "\n",
       "$`2`\n",
       ":   1. 1038\n",
       "2. 1050\n",
       "\n",
       "\n",
       "\n",
       "$`3`\n",
       ":   1038\n",
       "\n",
       "\n"
      ],
      "text/plain": [
       "$`1`\n",
       "[1]   69   70  972 1038 1043 1050 1055\n",
       "\n",
       "$`2`\n",
       "[1] 1038 1050\n",
       "\n",
       "$`3`\n",
       "[1] 1038\n"
      ]
     },
     "metadata": {},
     "output_type": "display_data"
    }
   ],
   "source": [
    "library(glmnet)\n",
    "fit_glmnet <- glmnet(\n",
    "                    x=as.matrix(training[,fullSet]),\n",
    "                    y=training$Class,\n",
    "                    family=\"binomial\")\n",
    "## Compute predictions for three difference levels of regularization\n",
    "predict(fit_glmnet,\n",
    "        newx = as.matrix(training[1:5,fullSet]),\n",
    "       s=c(0.05,0.1,0.2),type=\"class\")\n",
    "\n",
    "## Which predictors were used in the model?\n",
    "predict(fit_glmnet,\n",
    "       newx = as.matrix(training[1:5,fullSet]),\n",
    "       s=c(0.05,0.1,0.2),\n",
    "       type=\"nonzero\")"
   ]
  },
  {
   "cell_type": "code",
   "execution_count": 24,
   "metadata": {
    "scrolled": true
   },
   "outputs": [
    {
     "data": {
      "text/plain": [
       "glmnet \n",
       "\n",
       "8190 samples\n",
       "1070 predictors\n",
       "   2 classes: 'successful', 'unsuccessful' \n",
       "\n",
       "Pre-processing: centered (1070), scaled (1070) \n",
       "Resampling: Repeated Train/Test Splits Estimated (1 reps, 75%) \n",
       "Summary of sample sizes: 6633 \n",
       "Resampling results across tuning parameters:\n",
       "\n",
       "  alpha  lambda      ROC        Sens       Spec     \n",
       "  0.0    0.01000000  0.8561937  0.8000000  0.7912867\n",
       "  0.0    0.01487179  0.8561937  0.8000000  0.7912867\n",
       "  0.0    0.01974359  0.8561937  0.8000000  0.7912867\n",
       "  0.0    0.02461538  0.8579285  0.8017544  0.7963526\n",
       "  0.0    0.02948718  0.8596207  0.8035088  0.8014184\n",
       "  0.0    0.03435897  0.8609538  0.8017544  0.8004053\n",
       "  0.0    0.03923077  0.8620541  0.8035088  0.8014184\n",
       "  0.0    0.04410256  0.8629410  0.8035088  0.8004053\n",
       "  0.0    0.04897436  0.8636485  0.8035088  0.8024316\n",
       "  0.0    0.05384615  0.8642546  0.8035088  0.7993921\n",
       "  0.0    0.05871795  0.8647719  0.8070175  0.7993921\n",
       "  0.0    0.06358974  0.8650954  0.8070175  0.7973658\n",
       "  0.0    0.06846154  0.8653727  0.8087719  0.7973658\n",
       "  0.0    0.07333333  0.8656197  0.8105263  0.7963526\n",
       "  0.0    0.07820513  0.8659201  0.8105263  0.7973658\n",
       "  0.0    0.08307692  0.8660979  0.8105263  0.7943262\n",
       "  0.0    0.08794872  0.8661476  0.8140351  0.7933131\n",
       "  0.0    0.09282051  0.8662916  0.8157895  0.7922999\n",
       "  0.0    0.09769231  0.8664800  0.8157895  0.7912867\n",
       "  0.0    0.10256410  0.8665120  0.8192982  0.7912867\n",
       "  0.0    0.10743590  0.8665494  0.8192982  0.7902736\n",
       "  0.0    0.11230769  0.8665920  0.8175439  0.7902736\n",
       "  0.0    0.11717949  0.8666116  0.8175439  0.7922999\n",
       "  0.0    0.12205128  0.8665973  0.8192982  0.7922999\n",
       "  0.0    0.12692308  0.8665440  0.8192982  0.7933131\n",
       "  0.0    0.13179487  0.8665298  0.8192982  0.7933131\n",
       "  0.0    0.13666667  0.8664569  0.8192982  0.7922999\n",
       "  0.0    0.14153846  0.8664996  0.8192982  0.7922999\n",
       "  0.0    0.14641026  0.8664747  0.8175439  0.7912867\n",
       "  0.0    0.15128205  0.8664658  0.8175439  0.7922999\n",
       "  0.0    0.15615385  0.8663663  0.8210526  0.7912867\n",
       "  0.0    0.16102564  0.8663165  0.8192982  0.7892604\n",
       "  0.0    0.16589744  0.8663147  0.8192982  0.7902736\n",
       "  0.0    0.17076923  0.8662490  0.8192982  0.7902736\n",
       "  0.0    0.17564103  0.8661299  0.8228070  0.7902736\n",
       "  0.0    0.18051282  0.8659930  0.8228070  0.7902736\n",
       "  0.0    0.18538462  0.8659272  0.8245614  0.7902736\n",
       "  0.0    0.19025641  0.8658224  0.8245614  0.7902736\n",
       "  0.0    0.19512821  0.8657175  0.8245614  0.7902736\n",
       "  0.0    0.20000000  0.8656055  0.8245614  0.7902736\n",
       "  0.1    0.01000000  0.8665760  0.8105263  0.7943262\n",
       "  0.1    0.01487179  0.8750671  0.8210526  0.7983789\n",
       "  0.1    0.01974359  0.8811035  0.8263158  0.7983789\n",
       "  0.1    0.02461538  0.8859507  0.8298246  0.8024316\n",
       "  0.1    0.02948718  0.8894328  0.8315789  0.8085106\n",
       "  0.1    0.03435897  0.8924403  0.8403509  0.8095238\n",
       "  0.1    0.03923077  0.8950479  0.8473684  0.8074975\n",
       "  0.1    0.04410256  0.8971685  0.8473684  0.8074975\n",
       "  0.1    0.04897436  0.8990330  0.8526316  0.8095238\n",
       "  0.1    0.05384615  0.9008479  0.8561404  0.8085106\n",
       "  0.1    0.05871795  0.9023676  0.8561404  0.8074975\n",
       "  0.1    0.06358974  0.9035230  0.8578947  0.8074975\n",
       "  0.1    0.06846154  0.9045451  0.8666667  0.8044580\n",
       "  0.1    0.07333333  0.9053503  0.8684211  0.8034448\n",
       "  0.1    0.07820513  0.9058924  0.8736842  0.7993921\n",
       "  0.1    0.08307692  0.9062497  0.8736842  0.7993921\n",
       "  0.1    0.08794872  0.9064843  0.8754386  0.7973658\n",
       "  0.1    0.09282051  0.9067865  0.8771930  0.7973658\n",
       "  0.1    0.09769231  0.9069944  0.8771930  0.7963526\n",
       "  0.1    0.10256410  0.9071775  0.8789474  0.7953394\n",
       "  0.1    0.10743590  0.9073304  0.8807018  0.7922999\n",
       "  0.1    0.11230769  0.9073073  0.8807018  0.7912867\n",
       "  0.1    0.11717949  0.9072628  0.8824561  0.7933131\n",
       "  0.1    0.12205128  0.9074957  0.8842105  0.7943262\n",
       "  0.1    0.12692308  0.9075419  0.8824561  0.7933131\n",
       "  0.1    0.13179487  0.9077908  0.8824561  0.7933131\n",
       "  0.1    0.13666667  0.9080201  0.8807018  0.7902736\n",
       "  0.1    0.14153846  0.9080343  0.8807018  0.7882472\n",
       "  0.1    0.14641026  0.9081640  0.8824561  0.7872340\n",
       "  0.1    0.15128205  0.9083560  0.8842105  0.7862209\n",
       "  0.1    0.15615385  0.9086457  0.8824561  0.7862209\n",
       "  0.1    0.16102564  0.9088306  0.8842105  0.7872340\n",
       "  0.1    0.16589744  0.9089835  0.8824561  0.7862209\n",
       "  0.1    0.17076923  0.9091345  0.8842105  0.7872340\n",
       "  0.1    0.17564103  0.9091736  0.8859649  0.7852077\n",
       "  0.1    0.18051282  0.9092145  0.8877193  0.7852077\n",
       "  0.1    0.18538462  0.9092447  0.8877193  0.7831814\n",
       "  0.1    0.19025641  0.9092696  0.8877193  0.7831814\n",
       "  0.1    0.19512821  0.9093070  0.8877193  0.7831814\n",
       "  0.1    0.20000000  0.9093158  0.8912281  0.7811550\n",
       "  0.2    0.01000000  0.8772925  0.8263158  0.8034448\n",
       "  0.2    0.01487179  0.8863080  0.8315789  0.8034448\n",
       "  0.2    0.01974359  0.8914965  0.8368421  0.8064843\n",
       "  0.2    0.02461538  0.8958815  0.8456140  0.7993921\n",
       "  0.2    0.02948718  0.8991415  0.8526316  0.8074975\n",
       "  0.2    0.03435897  0.9011554  0.8561404  0.8014184\n",
       "  0.2    0.03923077  0.9029026  0.8614035  0.7983789\n",
       "  0.2    0.04410256  0.9034590  0.8754386  0.7973658\n",
       "  0.2    0.04897436  0.9040385  0.8807018  0.7993921\n",
       "  0.2    0.05384615  0.9042393  0.8789474  0.7963526\n",
       "  0.2    0.05871795  0.9043709  0.8789474  0.7953394\n",
       "  0.2    0.06358974  0.9046019  0.8859649  0.7953394\n",
       "  0.2    0.06846154  0.9048970  0.8859649  0.7973658\n",
       "  0.2    0.07333333  0.9052312  0.8859649  0.7973658\n",
       "  0.2    0.07820513  0.9055760  0.8842105  0.7953394\n",
       "  0.2    0.08307692  0.9059315  0.8842105  0.7922999\n",
       "  0.2    0.08794872  0.9061270  0.8842105  0.7882472\n",
       "  0.2    0.09282051  0.9062586  0.8842105  0.7892604\n",
       "  0.2    0.09769231  0.9062923  0.8894737  0.7872340\n",
       "  0.2    0.10256410  0.9061306  0.8842105  0.7821682\n",
       "  0.2    0.10743590  0.9061466  0.8859649  0.7791287\n",
       "  0.2    0.11230769  0.9060630  0.8842105  0.7760892\n",
       "  0.2    0.11717949  0.9057306  0.8824561  0.7771023\n",
       "  0.2    0.12205128  0.9054836  0.8824561  0.7760892\n",
       "  0.2    0.12692308  0.9052329  0.8824561  0.7760892\n",
       "  0.2    0.13179487  0.9050303  0.8807018  0.7720365\n",
       "  0.2    0.13666667  0.9048250  0.8807018  0.7720365\n",
       "  0.2    0.14153846  0.9049210  0.8824561  0.7720365\n",
       "  0.2    0.14641026  0.9046490  0.8824561  0.7730496\n",
       "  0.2    0.15128205  0.9045895  0.8842105  0.7730496\n",
       "  0.2    0.15615385  0.9045451  0.8824561  0.7720365\n",
       "  0.2    0.16102564  0.9044206  0.8807018  0.7700101\n",
       "  0.2    0.16589744  0.9044100  0.8824561  0.7700101\n",
       "  0.2    0.17076923  0.9043282  0.8824561  0.7679838\n",
       "  0.2    0.17564103  0.9041416  0.8824561  0.7659574\n",
       "  0.2    0.18051282  0.9041131  0.8824561  0.7669706\n",
       "  0.2    0.18538462  0.9039976  0.8824561  0.7669706\n",
       "  0.2    0.19025641  0.9037061  0.8824561  0.7659574\n",
       "  0.2    0.19512821  0.9033843  0.8842105  0.7659574\n",
       "  0.2    0.20000000  0.9033559  0.8877193  0.7649443\n",
       "  0.4    0.01000000  0.8865622  0.8403509  0.8004053\n",
       "  0.4    0.01487179  0.8930713  0.8526316  0.8024316\n",
       "  0.4    0.01974359  0.8962095  0.8596491  0.7963526\n",
       "  0.4    0.02461538  0.8971071  0.8684211  0.7973658\n",
       "  0.4    0.02948718  0.8972102  0.8684211  0.7933131\n",
       "  0.4    0.03435897  0.8973951  0.8771930  0.7882472\n",
       "  0.4    0.03923077  0.8978048  0.8719298  0.7943262\n",
       "  0.4    0.04410256  0.8975151  0.8701754  0.7943262\n",
       "  0.4    0.04897436  0.8974173  0.8736842  0.7912867\n",
       "  0.4    0.05384615  0.8975515  0.8771930  0.7892604\n",
       "  0.4    0.05871795  0.8976439  0.8771930  0.7831814\n",
       "  0.4    0.06358974  0.8978075  0.8771930  0.7781155\n",
       "  0.4    0.06846154  0.8979692  0.8771930  0.7740628\n",
       "  0.4    0.07333333  0.8984456  0.8807018  0.7629179\n",
       "  0.4    0.07820513  0.8993361  0.8807018  0.7608916\n",
       "  0.4    0.08307692  0.8999751  0.8807018  0.7608916\n",
       "  0.4    0.08794872  0.9006061  0.8807018  0.7608916\n",
       "  0.4    0.09282051  0.9014984  0.8859649  0.7578521\n",
       "  0.4    0.09769231  0.9022290  0.8859649  0.7588652\n",
       "  0.4    0.10256410  0.9030235  0.8894737  0.7578521\n",
       "  0.4    0.10743590  0.9030680  0.8929825  0.7608916\n",
       "  0.4    0.11230769  0.9027924  0.8929825  0.7619048\n",
       "  0.4    0.11717949  0.9030217  0.8964912  0.7517730\n",
       "  0.4    0.12205128  0.9031035  0.8982456  0.7487335\n",
       "  0.4    0.12692308  0.9031053  0.8982456  0.7467072\n",
       "  0.4    0.13179487  0.9028973  0.9000000  0.7467072\n",
       "  0.4    0.13666667  0.9026342  0.9105263  0.7345491\n",
       "  0.4    0.14153846  0.9023303  0.9122807  0.7284701\n",
       "  0.4    0.14641026  0.9020317  0.9140351  0.7244174\n",
       "  0.4    0.15128205  0.9011785  0.9210526  0.7163121\n",
       "  0.4    0.15615385  0.9003546  0.9245614  0.7122594\n",
       "  0.4    0.16102564  0.8996170  0.9315789  0.7071935\n",
       "  0.4    0.16589744  0.8972849  0.9315789  0.7051672\n",
       "  0.4    0.17076923  0.8971391  0.9315789  0.6980750\n",
       "  0.4    0.17564103  0.8957082  0.9385965  0.6950355\n",
       "  0.4    0.18051282  0.8939290  0.9350877  0.6919959\n",
       "  0.4    0.18538462  0.8907419  0.9350877  0.6859169\n",
       "  0.4    0.19025641  0.8882854  0.9368421  0.6828774\n",
       "  0.4    0.19512821  0.8848762  0.9368421  0.6778116\n",
       "  0.4    0.20000000  0.8807222  0.9403509  0.6737589\n",
       "  0.6    0.01000000  0.8897403  0.8421053  0.8014184\n",
       "  0.6    0.01487179  0.8930989  0.8473684  0.8014184\n",
       "  0.6    0.01974359  0.8927221  0.8631579  0.7953394\n",
       "  0.6    0.02461538  0.8924537  0.8666667  0.7882472\n",
       "  0.6    0.02948718  0.8926998  0.8649123  0.7862209\n",
       "  0.6    0.03435897  0.8928571  0.8719298  0.7831814\n",
       "  0.6    0.03923077  0.8931344  0.8736842  0.7781155\n",
       "  0.6    0.04410256  0.8938232  0.8736842  0.7771023\n",
       "  0.6    0.04897436  0.8949297  0.8736842  0.7710233\n",
       "  0.6    0.05384615  0.8960024  0.8771930  0.7669706\n",
       "  0.6    0.05871795  0.8972742  0.8754386  0.7669706\n",
       "  0.6    0.06358974  0.8982349  0.8789474  0.7629179\n",
       "  0.6    0.06846154  0.8995165  0.8824561  0.7619048\n",
       "  0.6    0.07333333  0.9007092  0.8824561  0.7629179\n",
       "  0.6    0.07820513  0.9012496  0.8877193  0.7558257\n",
       "  0.6    0.08307692  0.9017339  0.8912281  0.7507599\n",
       "  0.6    0.08794872  0.9016842  0.9035088  0.7396150\n",
       "  0.6    0.09282051  0.9017730  0.9087719  0.7345491\n",
       "  0.6    0.09769231  0.9015438  0.9157895  0.7234043\n",
       "  0.6    0.10256410  0.9014584  0.9175439  0.7142857\n",
       "  0.6    0.10743590  0.9002302  0.9263158  0.7071935\n",
       "  0.6    0.11230769  0.8972547  0.9298246  0.7051672\n",
       "  0.6    0.11717949  0.8947928  0.9403509  0.6950355\n",
       "  0.6    0.12205128  0.8924181  0.9368421  0.6828774\n",
       "  0.6    0.12692308  0.8877237  0.9368421  0.6767984\n",
       "  0.6    0.13179487  0.8822171  0.9456140  0.6727457\n",
       "  0.6    0.13666667  0.8768135  0.9508772  0.6686930\n",
       "  0.6    0.14153846  0.8689259  0.9596491  0.6626140\n",
       "  0.6    0.14641026  0.8688761  0.9701754  0.6585613\n",
       "  0.6    0.15128205  0.8687730  0.9807018  0.6524823\n",
       "  0.6    0.15615385  0.8688921  0.9859649  0.6464032\n",
       "  0.6    0.16102564  0.8683873  0.9912281  0.6433637\n",
       "  0.6    0.16589744  0.8688174  0.9912281  0.6393110\n",
       "  0.6    0.17076923  0.8687801  0.9912281  0.6382979\n",
       "  0.6    0.17564103  0.8687801  0.9912281  0.6382979\n",
       "  0.6    0.18051282  0.8687801  0.9912281  0.6382979\n",
       "  0.6    0.18538462  0.8231865  0.9912281  0.6382979\n",
       "  0.6    0.19025641  0.8231865  0.9912281  0.6382979\n",
       "  0.6    0.19512821  0.8231865  0.9912281  0.6382979\n",
       "  0.6    0.20000000  0.8231865  0.9912281  0.6382979\n",
       "  0.8    0.01000000  0.8904255  0.8421053  0.8014184\n",
       "  0.8    0.01487179  0.8900985  0.8578947  0.7983789\n",
       "  0.8    0.01974359  0.8890266  0.8614035  0.7831814\n",
       "  0.8    0.02461538  0.8895617  0.8631579  0.7801418\n",
       "  0.8    0.02948718  0.8899243  0.8631579  0.7760892\n",
       "  0.8    0.03435897  0.8913383  0.8666667  0.7730496\n",
       "  0.8    0.03923077  0.8930269  0.8666667  0.7710233\n",
       "  0.8    0.04410256  0.8947377  0.8684211  0.7689970\n",
       "  0.8    0.04897436  0.8966876  0.8754386  0.7659574\n",
       "  0.8    0.05384615  0.8978395  0.8824561  0.7608916\n",
       "  0.8    0.05871795  0.9002746  0.8824561  0.7548126\n",
       "  0.8    0.06358974  0.9008896  0.8947368  0.7537994\n",
       "  0.8    0.06846154  0.9012256  0.9017544  0.7426545\n",
       "  0.8    0.07333333  0.9014318  0.9140351  0.7284701\n",
       "  0.8    0.07820513  0.9009625  0.9175439  0.7112462\n",
       "  0.8    0.08307692  0.8996489  0.9298246  0.7051672\n",
       "  0.8    0.08794872  0.8949101  0.9368421  0.6940223\n",
       "  0.8    0.09282051  0.8894426  0.9385965  0.6788247\n",
       "  0.8    0.09769231  0.8838364  0.9456140  0.6727457\n",
       "  0.8    0.10256410  0.8764153  0.9508772  0.6656535\n",
       "  0.8    0.10743590  0.8683588  0.9631579  0.6595745\n",
       "  0.8    0.11230769  0.8682682  0.9807018  0.6524823\n",
       "  0.8    0.11717949  0.8679571  0.9859649  0.6443769\n",
       "  0.8    0.12205128  0.8675394  0.9912281  0.6433637\n",
       "  0.8    0.12692308  0.8674896  0.9912281  0.6382979\n",
       "  0.8    0.13179487  0.8674896  0.9912281  0.6382979\n",
       "  0.8    0.13666667  0.8231865  0.9912281  0.6382979\n",
       "  0.8    0.14153846  0.8231865  0.9912281  0.6382979\n",
       "  0.8    0.14641026  0.8231865  0.9912281  0.6382979\n",
       "  0.8    0.15128205  0.8231865  0.9912281  0.6382979\n",
       "  0.8    0.15615385  0.8231865  0.9912281  0.6382979\n",
       "  0.8    0.16102564  0.8231865  0.9912281  0.6382979\n",
       "  0.8    0.16589744  0.8147630  0.9912281  0.6382979\n",
       "  0.8    0.17076923  0.8147630  0.9912281  0.6382979\n",
       "  0.8    0.17564103  0.8147630  0.9912281  0.6382979\n",
       "  0.8    0.18051282  0.8147630  0.9912281  0.6382979\n",
       "  0.8    0.18538462  0.8147630  0.9912281  0.6382979\n",
       "  0.8    0.19025641  0.8147630  0.9912281  0.6382979\n",
       "  0.8    0.19512821  0.8147630  0.9912281  0.6382979\n",
       "  0.8    0.20000000  0.8147630  0.9912281  0.6382979\n",
       "  1.0    0.01000000  0.8884116  0.8456140  0.8004053\n",
       "  1.0    0.01487179  0.8871007  0.8561404  0.7902736\n",
       "  1.0    0.01974359  0.8866910  0.8596491  0.7710233\n",
       "  1.0    0.02461538  0.8876713  0.8596491  0.7730496\n",
       "  1.0    0.02948718  0.8898736  0.8614035  0.7689970\n",
       "  1.0    0.03435897  0.8918058  0.8684211  0.7700101\n",
       "  1.0    0.03923077  0.8942151  0.8719298  0.7649443\n",
       "  1.0    0.04410256  0.8966894  0.8824561  0.7608916\n",
       "  1.0    0.04897436  0.8987957  0.8877193  0.7537994\n",
       "  1.0    0.05384615  0.8999884  0.8982456  0.7467072\n",
       "  1.0    0.05871795  0.9012078  0.9105263  0.7315096\n",
       "  1.0    0.06358974  0.9004168  0.9192982  0.7102330\n",
       "  1.0    0.06846154  0.8974573  0.9385965  0.6950355\n",
       "  1.0    0.07333333  0.8916218  0.9403509  0.6828774\n",
       "  1.0    0.07820513  0.8841261  0.9491228  0.6707194\n",
       "  1.0    0.08307692  0.8682006  0.9596491  0.6626140\n",
       "  1.0    0.08794872  0.8680940  0.9736842  0.6555218\n",
       "  1.0    0.09282051  0.8677598  0.9859649  0.6464032\n",
       "  1.0    0.09769231  0.8670115  0.9912281  0.6413374\n",
       "  1.0    0.10256410  0.8668924  0.9912281  0.6382979\n",
       "  1.0    0.10743590  0.8668924  0.9912281  0.6382979\n",
       "  1.0    0.11230769  0.8231865  0.9912281  0.6382979\n",
       "  1.0    0.11717949  0.8231865  0.9912281  0.6382979\n",
       "  1.0    0.12205128  0.8231865  0.9912281  0.6382979\n",
       "  1.0    0.12692308  0.8231865  0.9912281  0.6382979\n",
       "  1.0    0.13179487  0.8147630  0.9912281  0.6382979\n",
       "  1.0    0.13666667  0.8147630  0.9912281  0.6382979\n",
       "  1.0    0.14153846  0.8147630  0.9912281  0.6382979\n",
       "  1.0    0.14641026  0.8147630  0.9912281  0.6382979\n",
       "  1.0    0.15128205  0.8147630  0.9912281  0.6382979\n",
       "  1.0    0.15615385  0.8147630  0.9912281  0.6382979\n",
       "  1.0    0.16102564  0.8147630  0.9912281  0.6382979\n",
       "  1.0    0.16589744  0.8147630  0.9912281  0.6382979\n",
       "  1.0    0.17076923  0.8147630  0.9912281  0.6382979\n",
       "  1.0    0.17564103  0.8147630  0.9912281  0.6382979\n",
       "  1.0    0.18051282  0.8147630  0.9912281  0.6382979\n",
       "  1.0    0.18538462  0.8147630  0.9912281  0.6382979\n",
       "  1.0    0.19025641  0.8147630  0.9912281  0.6382979\n",
       "  1.0    0.19512821  0.8147630  0.0000000  1.0000000\n",
       "  1.0    0.20000000  0.8147630  0.0000000  1.0000000\n",
       "\n",
       "ROC was used to select the optimal model using the largest value.\n",
       "The final values used for the model were alpha = 0.1 and lambda = 0.2."
      ]
     },
     "metadata": {},
     "output_type": "display_data"
    }
   ],
   "source": [
    "library(caret)\n",
    "grid_glm <- expand.grid(\n",
    "                          alpha = c(0,0.1,0.2,0.4,0.6,0.8,1),\n",
    "                          lambda = seq(0.01,0.2,length=40))\n",
    "\n",
    "ctrl <- trainControl(method = \"LGOCV\",\n",
    "                     summaryFunction = twoClassSummary,\n",
    "                     classProbs = TRUE,\n",
    "                     index = list(TrainSet = pre2008),\n",
    "                     savePredictions = TRUE)\n",
    "\n",
    "fit_glm_tune <- train(\n",
    "                    training[,fullSet],\n",
    "                    y=training$Class,\n",
    "                    method=\"glmnet\",\n",
    "                    tuneGrid=grid_glm,\n",
    "                     preProc=c(\"center\",\"scale\"),\n",
    "                     metric=\"ROC\",\n",
    "                     trControl=ctrl)\n",
    "\n",
    "fit_glm_tune"
   ]
  },
  {
   "cell_type": "code",
   "execution_count": 28,
   "metadata": {},
   "outputs": [
    {
     "data": {
      "text/plain": [
       "Repeated Train/Test Splits Estimated (1 reps, 75%) Confusion Matrix \n",
       "\n",
       "(entries are un-normalized aggregated counts)\n",
       " \n",
       "Confusion Matrix and Statistics\n",
       "\n",
       "              Reference\n",
       "Prediction     successful unsuccessful\n",
       "  successful          508          216\n",
       "  unsuccessful         62          771\n",
       "                                          \n",
       "               Accuracy : 0.8215          \n",
       "                 95% CI : (0.8015, 0.8402)\n",
       "    No Information Rate : 0.6339          \n",
       "    P-Value [Acc > NIR] : < 2.2e-16       \n",
       "                                          \n",
       "                  Kappa : 0.6361          \n",
       " Mcnemar's Test P-Value : < 2.2e-16       \n",
       "                                          \n",
       "            Sensitivity : 0.8912          \n",
       "            Specificity : 0.7812          \n",
       "         Pos Pred Value : 0.7017          \n",
       "         Neg Pred Value : 0.9256          \n",
       "             Prevalence : 0.3661          \n",
       "         Detection Rate : 0.3263          \n",
       "   Detection Prevalence : 0.4650          \n",
       "      Balanced Accuracy : 0.8362          \n",
       "                                          \n",
       "       'Positive' Class : successful      \n",
       "                                          "
      ]
     },
     "metadata": {},
     "output_type": "display_data"
    }
   ],
   "source": [
    "cm_glmnet <- confusionMatrix(fit_glm_tune,norm=\"none\")\n",
    "cm_glmnet"
   ]
  },
  {
   "cell_type": "code",
   "execution_count": 27,
   "metadata": {
    "scrolled": false
   },
   "outputs": [
    {
     "data": {},
     "metadata": {},
     "output_type": "display_data"
    },
    {
     "data": {
      "image/png": "[encoded data removed]",
      "text/plain": [
       "plot without title"
      ]
     },
     "metadata": {},
     "output_type": "display_data"
    }
   ],
   "source": [
    "fit_glm <- fit_glm_tune\n",
    "fit_glm$results$lambda <- format(round(fit_glm$results$lambda,3))\n",
    "\n",
    "plot_glm <- plot(\n",
    "     fit_glm_tune,\n",
    "     plotType=\"level\",\n",
    "    cuts=15,\n",
    "    scales=list(x=list(rot=90,cex=0.65)))\n",
    "\n",
    "update(plot_glm,\n",
    "       ylab = \"Mixing Percentage\\nRidge <---------> Lasso\",\n",
    "       sub = \"\",\n",
    "       main = \"Area Under the ROC Curve\",\n",
    "       xlab = \"Amount of Regularization\")"
   ]
  },
  {
   "cell_type": "code",
   "execution_count": 30,
   "metadata": {
    "scrolled": true
   },
   "outputs": [
    {
     "data": {
      "text/html": [
       "<table>\n",
       "<thead><tr><th scope=col>alpha</th><th scope=col>lambda</th><th scope=col>pred</th><th scope=col>obs</th><th scope=col>rowIndex</th><th scope=col>successful</th><th scope=col>unsuccessful</th><th scope=col>Resample</th></tr></thead>\n",
       "<tbody>\n",
       "\t<tr><td>0.1         </td><td>0.2         </td><td>successful  </td><td>successful  </td><td>6716        </td><td>0.5488770   </td><td>0.4511230   </td><td>TrainSet    </td></tr>\n",
       "\t<tr><td>0.1         </td><td>0.2         </td><td>unsuccessful</td><td>unsuccessful</td><td>6717        </td><td>0.3133025   </td><td>0.6866975   </td><td>TrainSet    </td></tr>\n",
       "\t<tr><td>0.1         </td><td>0.2         </td><td>unsuccessful</td><td>unsuccessful</td><td>6718        </td><td>0.4818687   </td><td>0.5181313   </td><td>TrainSet    </td></tr>\n",
       "\t<tr><td>0.1         </td><td>0.2         </td><td>unsuccessful</td><td>unsuccessful</td><td>6719        </td><td>0.4590615   </td><td>0.5409385   </td><td>TrainSet    </td></tr>\n",
       "\t<tr><td>0.1         </td><td>0.2         </td><td>successful  </td><td>unsuccessful</td><td>6720        </td><td>0.6450439   </td><td>0.3549561   </td><td>TrainSet    </td></tr>\n",
       "\t<tr><td>0.1         </td><td>0.2         </td><td>unsuccessful</td><td>unsuccessful</td><td>6721        </td><td>0.4688018   </td><td>0.5311982   </td><td>TrainSet    </td></tr>\n",
       "</tbody>\n",
       "</table>\n"
      ],
      "text/latex": [
       "\\begin{tabular}{r|llllllll}\n",
       " alpha & lambda & pred & obs & rowIndex & successful & unsuccessful & Resample\\\\\n",
       "\\hline\n",
       "\t 0.1          & 0.2          & successful   & successful   & 6716         & 0.5488770    & 0.4511230    & TrainSet    \\\\\n",
       "\t 0.1          & 0.2          & unsuccessful & unsuccessful & 6717         & 0.3133025    & 0.6866975    & TrainSet    \\\\\n",
       "\t 0.1          & 0.2          & unsuccessful & unsuccessful & 6718         & 0.4818687    & 0.5181313    & TrainSet    \\\\\n",
       "\t 0.1          & 0.2          & unsuccessful & unsuccessful & 6719         & 0.4590615    & 0.5409385    & TrainSet    \\\\\n",
       "\t 0.1          & 0.2          & successful   & unsuccessful & 6720         & 0.6450439    & 0.3549561    & TrainSet    \\\\\n",
       "\t 0.1          & 0.2          & unsuccessful & unsuccessful & 6721         & 0.4688018    & 0.5311982    & TrainSet    \\\\\n",
       "\\end{tabular}\n"
      ],
      "text/markdown": [
       "\n",
       "alpha | lambda | pred | obs | rowIndex | successful | unsuccessful | Resample | \n",
       "|---|---|---|---|---|---|\n",
       "| 0.1          | 0.2          | successful   | successful   | 6716         | 0.5488770    | 0.4511230    | TrainSet     | \n",
       "| 0.1          | 0.2          | unsuccessful | unsuccessful | 6717         | 0.3133025    | 0.6866975    | TrainSet     | \n",
       "| 0.1          | 0.2          | unsuccessful | unsuccessful | 6718         | 0.4818687    | 0.5181313    | TrainSet     | \n",
       "| 0.1          | 0.2          | unsuccessful | unsuccessful | 6719         | 0.4590615    | 0.5409385    | TrainSet     | \n",
       "| 0.1          | 0.2          | successful   | unsuccessful | 6720         | 0.6450439    | 0.3549561    | TrainSet     | \n",
       "| 0.1          | 0.2          | unsuccessful | unsuccessful | 6721         | 0.4688018    | 0.5311982    | TrainSet     | \n",
       "\n",
       "\n"
      ],
      "text/plain": [
       "  alpha lambda pred         obs          rowIndex successful unsuccessful\n",
       "1 0.1   0.2    successful   successful   6716     0.5488770  0.4511230   \n",
       "2 0.1   0.2    unsuccessful unsuccessful 6717     0.3133025  0.6866975   \n",
       "3 0.1   0.2    unsuccessful unsuccessful 6718     0.4818687  0.5181313   \n",
       "4 0.1   0.2    unsuccessful unsuccessful 6719     0.4590615  0.5409385   \n",
       "5 0.1   0.2    successful   unsuccessful 6720     0.6450439  0.3549561   \n",
       "6 0.1   0.2    unsuccessful unsuccessful 6721     0.4688018  0.5311982   \n",
       "  Resample\n",
       "1 TrainSet\n",
       "2 TrainSet\n",
       "3 TrainSet\n",
       "4 TrainSet\n",
       "5 TrainSet\n",
       "6 TrainSet"
      ]
     },
     "metadata": {},
     "output_type": "display_data"
    }
   ],
   "source": [
    "glmnet2008 <- merge(fit_glm_tune$pred,fit_glm_tune$bestTune)\n",
    "head(glmnet2008)"
   ]
  },
  {
   "cell_type": "code",
   "execution_count": 31,
   "metadata": {},
   "outputs": [
    {
     "data": {
      "image/png": "[encoded data removed]",
      "text/plain": [
       "plot without title"
      ]
     },
     "metadata": {},
     "output_type": "display_data"
    }
   ],
   "source": [
    "roc_glm <- roc(\n",
    "              response = glmnet2008$obs,\n",
    "              predictor = glmnet2008$successful,\n",
    "              levels=rev(levels(glmnet2008$obs)))\n",
    "plot(roc_glm)\n",
    "# plot(roc_pls, type = \"s\", col = rgb(.2, .2, .2, .2), legacy.axes = TRUE)\n",
    "# plot(roc_lda, type = \"s\", add = TRUE, col = rgb(.2, .2, .2, .2), legacy.axes = TRUE)\n",
    "# plot(roc_lr, type = \"s\", col = rgb(.2, .2, .2, .2), add = TRUE, legacy.axes = TRUE)\n",
    "# plot(roc_glm, type = \"s\", add = TRUE, legacy.axes = TRUE)"
   ]
  },
  {
   "cell_type": "code",
   "execution_count": 16,
   "metadata": {
    "scrolled": true
   },
   "outputs": [
    {
     "data": {
      "text/plain": [
       "\n",
       "Call:\n",
       "sda.default(x = as.matrix(training[, fullSet]), y = training$Class,     lambda = 0.01, stop = -6)\n",
       "\n",
       "lambda = 0.01 \n",
       "stop = 6 variables \n",
       "classes = successful, unsuccessful \n",
       "\n",
       "Top 5 predictors (out of 6):\n",
       "\tA.CI, Day, allPub, Unsuccess.CI, Success.CI"
      ]
     },
     "metadata": {},
     "output_type": "display_data"
    }
   ],
   "source": [
    "#Penalized LDA\n",
    "## Sparse logistic regression\n",
    "\n",
    "library(sparseLDA)\n",
    "fit_PLDA <- sda(x=as.matrix(training[,fullSet]),\n",
    "               y=training$Class,lambda=0.01,stop=-6)\n",
    "fit_PLDA\n",
    "\n",
    "# set.seed(476)\n",
    "# spLDAFit <- train(x = training[,fullSet], \n",
    "#                   y = training$Class,\n",
    "#                   \"sparseLDA\",\n",
    "#                   tuneGrid = expand.grid(lambda = c(.1),\n",
    "#                                          NumVars = c(1:20, 50, 75, 100, 250, 500, 750, 1000)),\n",
    "#                   preProc = c(\"center\", \"scale\"),\n",
    "#                   metric = \"ROC\",\n",
    "#                   trControl = ctrl)\n",
    "# spLDAFit\n"
   ]
  },
  {
   "cell_type": "markdown",
   "metadata": {},
   "source": [
    "`Nearest Shrunken Centroid`"
   ]
  },
  {
   "cell_type": "code",
   "execution_count": 35,
   "metadata": {},
   "outputs": [
    {
     "name": "stdout",
     "output_type": "stream",
     "text": [
      "11"
     ]
    }
   ],
   "source": [
    "library(pamr)\n",
    "grid_nsc <- expand.grid(threshold=0:25)\n",
    "set.seed(476)\n",
    "fit_nsc <- train(\n",
    "                x=training[,fullSet],\n",
    "                y=training$Class,\n",
    "                method=\"pam\",\n",
    "                preProc=c(\"center\",\"scale\"),\n",
    "                tuneGrid=grid_nsc,\n",
    "                metric=\"ROC\",\n",
    "                trControl=ctrl)"
   ]
  },
  {
   "cell_type": "code",
   "execution_count": 36,
   "metadata": {
    "scrolled": true
   },
   "outputs": [
    {
     "data": {
      "text/html": [
       "<ol class=list-inline>\n",
       "\t<li>'NumSR'</li>\n",
       "\t<li>'Success.CI'</li>\n",
       "\t<li>'Unsuccess.CI'</li>\n",
       "\t<li>'Astar.CI'</li>\n",
       "\t<li>'AstarTotal'</li>\n",
       "\t<li>'Sponsor24D'</li>\n",
       "\t<li>'Sponsor2B'</li>\n",
       "\t<li>'Sponsor34B'</li>\n",
       "\t<li>'Sponsor6B'</li>\n",
       "\t<li>'ContractValueBandA'</li>\n",
       "\t<li>'ContractValueBandC'</li>\n",
       "\t<li>'ContractValueBandD'</li>\n",
       "\t<li>'ContractValueBandE'</li>\n",
       "\t<li>'ContractValueBandF'</li>\n",
       "\t<li>'ContractValueBandG'</li>\n",
       "\t<li>'ContractValueBandUnk'</li>\n",
       "\t<li>'GrantCat10A'</li>\n",
       "\t<li>'GrantCat30B'</li>\n",
       "\t<li>'GrantCat50A'</li>\n",
       "\t<li>'GrantCatUnk'</li>\n",
       "\t<li>'Aug'</li>\n",
       "\t<li>'Dec'</li>\n",
       "\t<li>'Jan'</li>\n",
       "\t<li>'Jul'</li>\n",
       "\t<li>'Fri'</li>\n",
       "\t<li>'Sun'</li>\n",
       "\t<li>'Day'</li>\n",
       "</ol>\n"
      ],
      "text/latex": [
       "\\begin{enumerate*}\n",
       "\\item 'NumSR'\n",
       "\\item 'Success.CI'\n",
       "\\item 'Unsuccess.CI'\n",
       "\\item 'Astar.CI'\n",
       "\\item 'AstarTotal'\n",
       "\\item 'Sponsor24D'\n",
       "\\item 'Sponsor2B'\n",
       "\\item 'Sponsor34B'\n",
       "\\item 'Sponsor6B'\n",
       "\\item 'ContractValueBandA'\n",
       "\\item 'ContractValueBandC'\n",
       "\\item 'ContractValueBandD'\n",
       "\\item 'ContractValueBandE'\n",
       "\\item 'ContractValueBandF'\n",
       "\\item 'ContractValueBandG'\n",
       "\\item 'ContractValueBandUnk'\n",
       "\\item 'GrantCat10A'\n",
       "\\item 'GrantCat30B'\n",
       "\\item 'GrantCat50A'\n",
       "\\item 'GrantCatUnk'\n",
       "\\item 'Aug'\n",
       "\\item 'Dec'\n",
       "\\item 'Jan'\n",
       "\\item 'Jul'\n",
       "\\item 'Fri'\n",
       "\\item 'Sun'\n",
       "\\item 'Day'\n",
       "\\end{enumerate*}\n"
      ],
      "text/markdown": [
       "1. 'NumSR'\n",
       "2. 'Success.CI'\n",
       "3. 'Unsuccess.CI'\n",
       "4. 'Astar.CI'\n",
       "5. 'AstarTotal'\n",
       "6. 'Sponsor24D'\n",
       "7. 'Sponsor2B'\n",
       "8. 'Sponsor34B'\n",
       "9. 'Sponsor6B'\n",
       "10. 'ContractValueBandA'\n",
       "11. 'ContractValueBandC'\n",
       "12. 'ContractValueBandD'\n",
       "13. 'ContractValueBandE'\n",
       "14. 'ContractValueBandF'\n",
       "15. 'ContractValueBandG'\n",
       "16. 'ContractValueBandUnk'\n",
       "17. 'GrantCat10A'\n",
       "18. 'GrantCat30B'\n",
       "19. 'GrantCat50A'\n",
       "20. 'GrantCatUnk'\n",
       "21. 'Aug'\n",
       "22. 'Dec'\n",
       "23. 'Jan'\n",
       "24. 'Jul'\n",
       "25. 'Fri'\n",
       "26. 'Sun'\n",
       "27. 'Day'\n",
       "\n",
       "\n"
      ],
      "text/plain": [
       " [1] \"NumSR\"                \"Success.CI\"           \"Unsuccess.CI\"        \n",
       " [4] \"Astar.CI\"             \"AstarTotal\"           \"Sponsor24D\"          \n",
       " [7] \"Sponsor2B\"            \"Sponsor34B\"           \"Sponsor6B\"           \n",
       "[10] \"ContractValueBandA\"   \"ContractValueBandC\"   \"ContractValueBandD\"  \n",
       "[13] \"ContractValueBandE\"   \"ContractValueBandF\"   \"ContractValueBandG\"  \n",
       "[16] \"ContractValueBandUnk\" \"GrantCat10A\"          \"GrantCat30B\"         \n",
       "[19] \"GrantCat50A\"          \"GrantCatUnk\"          \"Aug\"                 \n",
       "[22] \"Dec\"                  \"Jan\"                  \"Jul\"                 \n",
       "[25] \"Fri\"                  \"Sun\"                  \"Day\"                 "
      ]
     },
     "metadata": {},
     "output_type": "display_data"
    }
   ],
   "source": [
    "predictors(fit_nsc)"
   ]
  },
  {
   "cell_type": "code",
   "execution_count": 38,
   "metadata": {
    "scrolled": true
   },
   "outputs": [
    {
     "data": {
      "text/plain": [
       "pam variable importance\n",
       "\n",
       "  only 20 most important variables shown (out of 1070)\n",
       "\n",
       "                     Importance\n",
       "ContractValueBandUnk    100.000\n",
       "GrantCatUnk              45.772\n",
       "Jan                      42.056\n",
       "ContractValueBandA       40.636\n",
       "Unsuccess.CI             33.361\n",
       "Day                      29.011\n",
       "Aug                      28.041\n",
       "Sun                      27.605\n",
       "GrantCat10A              20.440\n",
       "Success.CI               16.473\n",
       "ContractValueBandE       14.979\n",
       "GrantCat30B              14.904\n",
       "ContractValueBandD       13.314\n",
       "GrantCat50A              13.137\n",
       "ContractValueBandF       12.828\n",
       "ContractValueBandG       12.636\n",
       "Sponsor24D               11.291\n",
       "Sponsor2B                 8.316\n",
       "NumSR                     7.921\n",
       "Jul                       4.763"
      ]
     },
     "metadata": {},
     "output_type": "display_data"
    }
   ],
   "source": [
    "varImp(fit_nsc,scale=T)"
   ]
  },
  {
   "cell_type": "code",
   "execution_count": null,
   "metadata": {},
   "outputs": [],
   "source": [
    "roc_glm <- roc(\n",
    "              response = glmnet2008$obs,\n",
    "              predictor = glmnet2008$successful,\n",
    "              levels=rev(levels(glmnet2008$obs)))\n",
    "plot(roc_glm)\n",
    "# plot(roc_pls, type = \"s\", col = rgb(.2, .2, .2, .2), legacy.axes = TRUE)"
   ]
  },
  {
   "cell_type": "code",
   "execution_count": 46,
   "metadata": {
    "scrolled": true
   },
   "outputs": [
    {
     "data": {
      "image/png": "[encoded data removed]",
      "text/plain": [
       "plot without title"
      ]
     },
     "metadata": {},
     "output_type": "display_data"
    }
   ],
   "source": [
    "roc_df <- merge(fit_nsc$pred,fit_nsc$bestTune)\n",
    "roc_nsc <- roc(\n",
    "              response = roc_df$obs,\n",
    "              predictor = roc_df$successful,\n",
    "              levels= rev(levels(roc_df$obs)))\n",
    "plot(roc_glm,type=\"s\",col=\"pink\",legacy.axes=T)\n",
    "plot(roc_nsc,col=\"navy\",type = \"s\", add = T,legacy.axes=T)"
   ]
  }
 ],
 "metadata": {
  "kernelspec": {
   "display_name": "R",
   "language": "R",
   "name": "ir"
  },
  "language_info": {
   "codemirror_mode": "r",
   "file_extension": ".r",
   "mimetype": "text/x-r-source",
   "name": "R",
   "pygments_lexer": "r",
   "version": "3.5.1"
  },
  "latex_envs": {
   "LaTeX_envs_menu_present": true,
   "autoclose": false,
   "autocomplete": true,
   "bibliofile": "biblio.bib",
   "cite_by": "apalike",
   "current_citInitial": 1,
   "eqLabelWithNumbers": true,
   "eqNumInitial": 1,
   "hotkeys": {
    "equation": "Ctrl-E",
    "itemize": "Ctrl-I"
   },
   "labels_anchors": false,
   "latex_user_defs": false,
   "report_style_numbering": false,
   "user_envs_cfg": false
  },
  "toc": {
   "base_numbering": 1,
   "nav_menu": {},
   "number_sections": true,
   "sideBar": true,
   "skip_h1_title": false,
   "title_cell": "Table of Contents",
   "title_sidebar": "Contents",
   "toc_cell": false,
   "toc_position": {},
   "toc_section_display": true,
   "toc_window_display": false
  }
 },
 "nbformat": 4,
 "nbformat_minor": 2
}
