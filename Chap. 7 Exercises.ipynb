{
 "cells": [
  {
   "cell_type": "markdown",
   "metadata": {},
   "source": [
    "7.1. Simulate a single predictor and a nonlinear relationship, such as a sin wave shown in Fig. 7.7, and investigate the relationship between the cost, $\\epsilon$, and kernel parameters for a support vector machine model:\n",
    "\n",
    "(a) Fit different models using a radial basis function and different values of\n",
    "the cost (the C parameter) and \u0007. Plot the fitted curve. For example:\n",
    "```r\n",
    "> library(kernlab)\n",
    "> rbfSVM <- ksvm(x = x, y = y, data = sinData,\n",
    "+ kernel =\"rbfdot\", kpar = \"automatic\",\n",
    "+ C = 1, epsilon = 0.1)\n",
    "> modelPrediction <- predict(rbfSVM, newdata = dataGrid)\n",
    "> ## This is a matrix with one column. We can plot the\n",
    "> ## model predictions by adding points to the previous plot\n",
    "> points(x = dataGrid$x, y = modelPrediction[,1],\n",
    "+ type = \"l\", col = \"blue\")\n",
    "> ## Try other parameters\n",
    "\n",
    "```\n",
    "(b) The σ parameter can be adjusted using the kpar argument, such as\n",
    "kpar = list(sigma = 1). Try different values of σ to understand how this\n",
    "parameter changes the model fit. How do the cost, \u0007, and σ values affect\n",
    "the model?"
   ]
  },
  {
   "cell_type": "code",
   "execution_count": 1,
   "metadata": {
    "collapsed": false,
    "scrolled": true
   },
   "outputs": [
    {
     "data": {
      "image/png": "[encoded data removed]",
      "text/plain": [
       "plot without title"
      ]
     },
     "metadata": {},
     "output_type": "display_data"
    }
   ],
   "source": [
    "set.seed(100)\n",
    "x <- runif(100,min=2,max=10)\n",
    "y <- sin(x) + rnorm(length(x)) *0.25\n",
    "df_sin <- data.frame(x=x,y=y)\n",
    "plot(x,y)\n",
    "df_grid <- data.frame(x=seq(2,10,length=100))"
   ]
  },
  {
   "cell_type": "code",
   "execution_count": 2,
   "metadata": {
    "collapsed": false
   },
   "outputs": [
    {
     "name": "stderr",
     "output_type": "stream",
     "text": [
      "Loading required package: lattice\n",
      "Loading required package: ggplot2\n",
      "\n",
      "Attaching package: 'ggplot2'\n",
      "\n",
      "The following object is masked from 'package:kernlab':\n",
      "\n",
      "    alpha\n",
      "\n"
     ]
    }
   ],
   "source": [
    "library(kernlab)\n",
    "library(caret)\n",
    "fit_rbf <- ksvm(x=x,y=y,data=df_sin,kernel=\"rbfdot\",kpar=\"automatic\",C=1,epsilon=0.1)\n",
    "pred_rbf <- predict(fit_rbf,newdata = df_grid)"
   ]
  },
  {
   "cell_type": "code",
   "execution_count": 3,
   "metadata": {
    "collapsed": false
   },
   "outputs": [
    {
     "data": {
      "image/png": "[encoded data removed]",
      "text/plain": [
       "plot without title"
      ]
     },
     "metadata": {},
     "output_type": "display_data"
    }
   ],
   "source": [
    "plot(x,y)\n",
    "points(x=df_grid$x,y=pred_rbf[,1],type=\"l\",col=\"blue\")"
   ]
  },
  {
   "cell_type": "code",
   "execution_count": 4,
   "metadata": {
    "collapsed": true
   },
   "outputs": [],
   "source": [
    "parm_1 <- expand.grid(eps=c(.01,.05,.1,.5),\n",
    "                     costs=2^c(-2,0,2,8))"
   ]
  },
  {
   "cell_type": "code",
   "execution_count": 25,
   "metadata": {
    "collapsed": false
   },
   "outputs": [],
   "source": [
    "for (i in 1:nrow(parm_1)){\n",
    "    set.seed(131)\n",
    "    fit_rbf <- ksvm(x=x,y=y,data=df_sin,\n",
    "                   kernel=\"rbfdot\",kpar=\"automatic\",\n",
    "                   C=parm_1$costs[i],epsilon=parm_1$eps[i])\n",
    "    tmp <- data.frame(x=df_grid$x,y=predict(fit_rbf,newdata = df_grid),\n",
    "                    obs=sin(df_grid$x) + rnorm(length(df_grid$x)) *0.25,\n",
    "                     eps=paste(\"epsilon:\",format(parm_1$eps)[i]),\n",
    "                     costs=paste(\"cost\",format(parm_1$costs)[i]))\n",
    "    pred_1 <- if(i==1) tmp else rbind(tmp,pred_1)\n",
    "}\n",
    "\n",
    "pred_1$costs <- factor(pred_1$costs,level=rev(levels(pred_1$costs)))"
   ]
  },
  {
   "cell_type": "code",
   "execution_count": 26,
   "metadata": {
    "collapsed": false,
    "scrolled": true
   },
   "outputs": [
    {
     "data": {
      "text/html": [
       "<table>\n",
       "<thead><tr><th scope=col>x</th><th scope=col>y</th><th scope=col>obs</th><th scope=col>eps</th><th scope=col>costs</th></tr></thead>\n",
       "<tbody>\n",
       "\t<tr><td>2.000000     </td><td>1.0062866    </td><td>1.2763267    </td><td>epsilon: 0.50</td><td>cost 256.00  </td></tr>\n",
       "\t<tr><td>2.080808     </td><td>1.0528354    </td><td>0.3862250    </td><td>epsilon: 0.50</td><td>cost 256.00  </td></tr>\n",
       "\t<tr><td>2.161616     </td><td>1.0601565    </td><td>0.6948763    </td><td>epsilon: 0.50</td><td>cost 256.00  </td></tr>\n",
       "\t<tr><td>2.242424     </td><td>1.0231913    </td><td>1.1583073    </td><td>epsilon: 0.50</td><td>cost 256.00  </td></tr>\n",
       "\t<tr><td>2.323232     </td><td>0.9417788    </td><td>0.6700566    </td><td>epsilon: 0.50</td><td>cost 256.00  </td></tr>\n",
       "\t<tr><td>2.404040     </td><td>0.8215830    </td><td>0.9750236    </td><td>epsilon: 0.50</td><td>cost 256.00  </td></tr>\n",
       "</tbody>\n",
       "</table>\n"
      ],
      "text/latex": [
       "\\begin{tabular}{r|lllll}\n",
       " x & y & obs & eps & costs\\\\\n",
       "\\hline\n",
       "\t 2.000000      & 1.0062866     & 1.2763267     & epsilon: 0.50 & cost 256.00  \\\\\n",
       "\t 2.080808      & 1.0528354     & 0.3862250     & epsilon: 0.50 & cost 256.00  \\\\\n",
       "\t 2.161616      & 1.0601565     & 0.6948763     & epsilon: 0.50 & cost 256.00  \\\\\n",
       "\t 2.242424      & 1.0231913     & 1.1583073     & epsilon: 0.50 & cost 256.00  \\\\\n",
       "\t 2.323232      & 0.9417788     & 0.6700566     & epsilon: 0.50 & cost 256.00  \\\\\n",
       "\t 2.404040      & 0.8215830     & 0.9750236     & epsilon: 0.50 & cost 256.00  \\\\\n",
       "\\end{tabular}\n"
      ],
      "text/markdown": [
       "\n",
       "x | y | obs | eps | costs | \n",
       "|---|---|---|---|---|---|\n",
       "| 2.000000      | 1.0062866     | 1.2763267     | epsilon: 0.50 | cost 256.00   | \n",
       "| 2.080808      | 1.0528354     | 0.3862250     | epsilon: 0.50 | cost 256.00   | \n",
       "| 2.161616      | 1.0601565     | 0.6948763     | epsilon: 0.50 | cost 256.00   | \n",
       "| 2.242424      | 1.0231913     | 1.1583073     | epsilon: 0.50 | cost 256.00   | \n",
       "| 2.323232      | 0.9417788     | 0.6700566     | epsilon: 0.50 | cost 256.00   | \n",
       "| 2.404040      | 0.8215830     | 0.9750236     | epsilon: 0.50 | cost 256.00   | \n",
       "\n",
       "\n"
      ],
      "text/plain": [
       "  x        y         obs       eps           costs      \n",
       "1 2.000000 1.0062866 1.2763267 epsilon: 0.50 cost 256.00\n",
       "2 2.080808 1.0528354 0.3862250 epsilon: 0.50 cost 256.00\n",
       "3 2.161616 1.0601565 0.6948763 epsilon: 0.50 cost 256.00\n",
       "4 2.242424 1.0231913 1.1583073 epsilon: 0.50 cost 256.00\n",
       "5 2.323232 0.9417788 0.6700566 epsilon: 0.50 cost 256.00\n",
       "6 2.404040 0.8215830 0.9750236 epsilon: 0.50 cost 256.00"
      ]
     },
     "metadata": {},
     "output_type": "display_data"
    }
   ],
   "source": [
    "head(pred_1)"
   ]
  },
  {
   "cell_type": "code",
   "execution_count": null,
   "metadata": {
    "collapsed": true
   },
   "outputs": [],
   "source": [
    "p2 <- ggplot(data=trn,aes(x=trn$FE,y=fit_linear$finalModel$fitted.values)) + geom_point()  + geom_abline(linetype=\"dashed\",colour = \"blue\") + \n",
    "    scale_y_continuous(limits = c(0,70)) + theme_few() "
   ]
  },
  {
   "cell_type": "code",
   "execution_count": 49,
   "metadata": {
    "collapsed": false,
    "scrolled": true
   },
   "outputs": [
    {
     "data": {},
     "metadata": {},
     "output_type": "display_data"
    },
    {
     "data": {
      "image/png": "[encoded data removed]",
      "text/plain": [
       "plot without title"
      ]
     },
     "metadata": {},
     "output_type": "display_data"
    }
   ],
   "source": [
    "library(ggplot2)\n",
    "library(ggthemes)\n",
    "\n",
    "ggplot(pred_1,aes(x,obs)) + \n",
    "    geom_point(size=1,colour=\"grey\") + \n",
    "    geom_line(aes(x,y),colour=\"blue\") + \n",
    "    facet_grid(eps ~ costs) "
   ]
  },
  {
   "cell_type": "code",
   "execution_count": 50,
   "metadata": {
    "collapsed": true
   },
   "outputs": [],
   "source": [
    "#the effect of sigma\n",
    "set.seed(1016)\n",
    "parm_2 <- expand.grid(eps=c(0.01,0.05,0.1,0.5),\n",
    "                     costs=2^c(-2,0,2,8),\n",
    "                     sigma=as.vector(sigest(y~x,data=df_sin,frac=0.75)))\n",
    "\n",
    "for (i in 1:nrow(parm_2)){\n",
    "    fit_rbf <- ksvm(x=x,y=y,data=df_sin,kernel=\"rbfdot\",\n",
    "                   kpar=list(sigma=parm_2$sigma[i]),\n",
    "                   C=parm_2$costs[i],\n",
    "                   epsilon=parm_2$eps[i])\n",
    "    tmp <- data.frame(x=df_grid$x,\n",
    "                     y=predict(fit_rbf,newdata = df_grid),\n",
    "                     eps=paste(\"epsilon:\",format(parm_2$eps)[i]),\n",
    "                     costs=paste(\"cost:\",parm_2$costs[i]),\n",
    "                     sigma=paste(\"sigma:\",format(parm_2$sigma,digits=2)[i]))\n",
    "    pred_2 <- if(i==1) tmp else rbind(tmp,pred_2)\n",
    "}\n",
    "\n",
    "pred_2$costs <- factor(pred_2$costs,level=rev(levels(pred_2$costs)))\n",
    "pred_2$sigma <- factor(pred_2$sigma,level=rev(levels(pred_2$sigma)))"
   ]
  },
  {
   "cell_type": "code",
   "execution_count": 51,
   "metadata": {
    "collapsed": false
   },
   "outputs": [
    {
     "data": {
      "text/html": [
       "<table>\n",
       "<thead><tr><th scope=col>x</th><th scope=col>y</th><th scope=col>eps</th><th scope=col>costs</th><th scope=col>sigma</th></tr></thead>\n",
       "<tbody>\n",
       "\t<tr><td>2.000000     </td><td>0.2232773    </td><td>epsilon: 0.50</td><td>cost: 256    </td><td>sigma: 37.15 </td></tr>\n",
       "\t<tr><td>2.080808     </td><td>0.3506306    </td><td>epsilon: 0.50</td><td>cost: 256    </td><td>sigma: 37.15 </td></tr>\n",
       "\t<tr><td>2.161616     </td><td>0.4953209    </td><td>epsilon: 0.50</td><td>cost: 256    </td><td>sigma: 37.15 </td></tr>\n",
       "\t<tr><td>2.242424     </td><td>0.6312691    </td><td>epsilon: 0.50</td><td>cost: 256    </td><td>sigma: 37.15 </td></tr>\n",
       "\t<tr><td>2.323232     </td><td>0.7266791    </td><td>epsilon: 0.50</td><td>cost: 256    </td><td>sigma: 37.15 </td></tr>\n",
       "\t<tr><td>2.404040     </td><td>0.7557565    </td><td>epsilon: 0.50</td><td>cost: 256    </td><td>sigma: 37.15 </td></tr>\n",
       "</tbody>\n",
       "</table>\n"
      ],
      "text/latex": [
       "\\begin{tabular}{r|lllll}\n",
       " x & y & eps & costs & sigma\\\\\n",
       "\\hline\n",
       "\t 2.000000      & 0.2232773     & epsilon: 0.50 & cost: 256     & sigma: 37.15 \\\\\n",
       "\t 2.080808      & 0.3506306     & epsilon: 0.50 & cost: 256     & sigma: 37.15 \\\\\n",
       "\t 2.161616      & 0.4953209     & epsilon: 0.50 & cost: 256     & sigma: 37.15 \\\\\n",
       "\t 2.242424      & 0.6312691     & epsilon: 0.50 & cost: 256     & sigma: 37.15 \\\\\n",
       "\t 2.323232      & 0.7266791     & epsilon: 0.50 & cost: 256     & sigma: 37.15 \\\\\n",
       "\t 2.404040      & 0.7557565     & epsilon: 0.50 & cost: 256     & sigma: 37.15 \\\\\n",
       "\\end{tabular}\n"
      ],
      "text/markdown": [
       "\n",
       "x | y | eps | costs | sigma | \n",
       "|---|---|---|---|---|---|\n",
       "| 2.000000      | 0.2232773     | epsilon: 0.50 | cost: 256     | sigma: 37.15  | \n",
       "| 2.080808      | 0.3506306     | epsilon: 0.50 | cost: 256     | sigma: 37.15  | \n",
       "| 2.161616      | 0.4953209     | epsilon: 0.50 | cost: 256     | sigma: 37.15  | \n",
       "| 2.242424      | 0.6312691     | epsilon: 0.50 | cost: 256     | sigma: 37.15  | \n",
       "| 2.323232      | 0.7266791     | epsilon: 0.50 | cost: 256     | sigma: 37.15  | \n",
       "| 2.404040      | 0.7557565     | epsilon: 0.50 | cost: 256     | sigma: 37.15  | \n",
       "\n",
       "\n"
      ],
      "text/plain": [
       "  x        y         eps           costs     sigma       \n",
       "1 2.000000 0.2232773 epsilon: 0.50 cost: 256 sigma: 37.15\n",
       "2 2.080808 0.3506306 epsilon: 0.50 cost: 256 sigma: 37.15\n",
       "3 2.161616 0.4953209 epsilon: 0.50 cost: 256 sigma: 37.15\n",
       "4 2.242424 0.6312691 epsilon: 0.50 cost: 256 sigma: 37.15\n",
       "5 2.323232 0.7266791 epsilon: 0.50 cost: 256 sigma: 37.15\n",
       "6 2.404040 0.7557565 epsilon: 0.50 cost: 256 sigma: 37.15"
      ]
     },
     "metadata": {},
     "output_type": "display_data"
    }
   ],
   "source": [
    "head(pred_2)"
   ]
  },
  {
   "cell_type": "code",
   "execution_count": 52,
   "metadata": {
    "collapsed": false,
    "scrolled": true
   },
   "outputs": [
    {
     "data": {},
     "metadata": {},
     "output_type": "display_data"
    },
    {
     "data": {
      "image/png": "[encoded data removed]",
      "text/plain": [
       "plot without title"
      ]
     },
     "metadata": {},
     "output_type": "display_data"
    }
   ],
   "source": [
    "ggplot(pred_2,aes(x,y,colour=sigma)) + \n",
    "    geom_line() + \n",
    "    facet_grid(eps ~ costs) "
   ]
  },
  {
   "cell_type": "markdown",
   "metadata": {},
   "source": [
    "7.2. "
   ]
  },
  {
   "cell_type": "code",
   "execution_count": 2,
   "metadata": {
    "collapsed": false
   },
   "outputs": [
    {
     "data": {},
     "metadata": {},
     "output_type": "display_data"
    },
    {
     "data": {
      "image/png": "[encoded data removed]",
      "text/plain": [
       "plot without title"
      ]
     },
     "metadata": {},
     "output_type": "display_data"
    }
   ],
   "source": [
    "library(mlbench)\n",
    "set.seed(200)\n",
    "trn <- mlbench.friedman1(200,sd=1)\n",
    "trn$x <- data.frame(trn$x)\n",
    "library(AppliedPredictiveModeling)\n",
    "featurePlot(trn$x,trn$y)"
   ]
  },
  {
   "cell_type": "code",
   "execution_count": 3,
   "metadata": {
    "collapsed": true
   },
   "outputs": [],
   "source": [
    "vld <- mlbench.friedman1(5000,sd=1)\n",
    "vld$x <- data.frame(vld$x)"
   ]
  },
  {
   "cell_type": "code",
   "execution_count": 4,
   "metadata": {
    "collapsed": false
   },
   "outputs": [
    {
     "data": {
      "text/plain": [
       "k-Nearest Neighbors \n",
       "\n",
       "200 samples\n",
       " 10 predictor\n",
       "\n",
       "Pre-processing: centered (10), scaled (10) \n",
       "Resampling: Bootstrapped (25 reps) \n",
       "Summary of sample sizes: 200, 200, 200, 200, 200, 200, ... \n",
       "Resampling results across tuning parameters:\n",
       "\n",
       "  k   RMSE      Rsquared   MAE     \n",
       "   5  3.565620  0.4887976  2.886629\n",
       "   7  3.422420  0.5300524  2.752964\n",
       "   9  3.368072  0.5536927  2.715310\n",
       "  11  3.323010  0.5779056  2.669375\n",
       "  13  3.275835  0.6030846  2.628663\n",
       "  15  3.261864  0.6163510  2.621192\n",
       "  17  3.261973  0.6267032  2.616956\n",
       "  19  3.286299  0.6281075  2.640585\n",
       "  21  3.280950  0.6390386  2.643807\n",
       "  23  3.292397  0.6440392  2.656080\n",
       "\n",
       "RMSE was used to select the optimal model using the smallest value.\n",
       "The final value used for the model was k = 15."
      ]
     },
     "metadata": {},
     "output_type": "display_data"
    }
   ],
   "source": [
    "library(caret)\n",
    "fit_knn <- train(x=trn$x,y=trn$y,method = \"knn\",\n",
    "                preProc=c(\"center\",\"scale\"),\n",
    "                tuneLength=10)\n",
    "fit_knn"
   ]
  },
  {
   "cell_type": "code",
   "execution_count": 5,
   "metadata": {
    "collapsed": false,
    "scrolled": true
   },
   "outputs": [
    {
     "data": {
      "text/html": [
       "<table>\n",
       "<thead><tr><th scope=col>k</th><th scope=col>RMSE</th><th scope=col>Rsquared</th><th scope=col>MAE</th><th scope=col>RMSESD</th><th scope=col>RsquaredSD</th><th scope=col>MAESD</th></tr></thead>\n",
       "<tbody>\n",
       "\t<tr><td> 5        </td><td>3.565620  </td><td>0.4887976 </td><td>2.886629  </td><td>0.2589081 </td><td>0.06486891</td><td>0.2430732 </td></tr>\n",
       "\t<tr><td> 7        </td><td>3.422420  </td><td>0.5300524 </td><td>2.752964  </td><td>0.2474802 </td><td>0.06629753</td><td>0.2212725 </td></tr>\n",
       "\t<tr><td> 9        </td><td>3.368072  </td><td>0.5536927 </td><td>2.715310  </td><td>0.2381725 </td><td>0.05680786</td><td>0.2011639 </td></tr>\n",
       "\t<tr><td>11        </td><td>3.323010  </td><td>0.5779056 </td><td>2.669375  </td><td>0.2274817 </td><td>0.05763860</td><td>0.1849595 </td></tr>\n",
       "\t<tr><td>13        </td><td>3.275835  </td><td>0.6030846 </td><td>2.628663  </td><td>0.2205424 </td><td>0.06020472</td><td>0.1899381 </td></tr>\n",
       "\t<tr><td>15        </td><td>3.261864  </td><td>0.6163510 </td><td>2.621192  </td><td>0.2400900 </td><td>0.06185753</td><td>0.1998645 </td></tr>\n",
       "\t<tr><td>17        </td><td>3.261973  </td><td>0.6267032 </td><td>2.616956  </td><td>0.2523794 </td><td>0.06762468</td><td>0.2070300 </td></tr>\n",
       "\t<tr><td>19        </td><td>3.286299  </td><td>0.6281075 </td><td>2.640585  </td><td>0.2591439 </td><td>0.07080109</td><td>0.2183989 </td></tr>\n",
       "\t<tr><td>21        </td><td>3.280950  </td><td>0.6390386 </td><td>2.643807  </td><td>0.2715253 </td><td>0.06497877</td><td>0.2116035 </td></tr>\n",
       "\t<tr><td>23        </td><td>3.292397  </td><td>0.6440392 </td><td>2.656080  </td><td>0.2645876 </td><td>0.06466025</td><td>0.1997039 </td></tr>\n",
       "</tbody>\n",
       "</table>\n"
      ],
      "text/latex": [
       "\\begin{tabular}{r|lllllll}\n",
       " k & RMSE & Rsquared & MAE & RMSESD & RsquaredSD & MAESD\\\\\n",
       "\\hline\n",
       "\t  5         & 3.565620   & 0.4887976  & 2.886629   & 0.2589081  & 0.06486891 & 0.2430732 \\\\\n",
       "\t  7         & 3.422420   & 0.5300524  & 2.752964   & 0.2474802  & 0.06629753 & 0.2212725 \\\\\n",
       "\t  9         & 3.368072   & 0.5536927  & 2.715310   & 0.2381725  & 0.05680786 & 0.2011639 \\\\\n",
       "\t 11         & 3.323010   & 0.5779056  & 2.669375   & 0.2274817  & 0.05763860 & 0.1849595 \\\\\n",
       "\t 13         & 3.275835   & 0.6030846  & 2.628663   & 0.2205424  & 0.06020472 & 0.1899381 \\\\\n",
       "\t 15         & 3.261864   & 0.6163510  & 2.621192   & 0.2400900  & 0.06185753 & 0.1998645 \\\\\n",
       "\t 17         & 3.261973   & 0.6267032  & 2.616956   & 0.2523794  & 0.06762468 & 0.2070300 \\\\\n",
       "\t 19         & 3.286299   & 0.6281075  & 2.640585   & 0.2591439  & 0.07080109 & 0.2183989 \\\\\n",
       "\t 21         & 3.280950   & 0.6390386  & 2.643807   & 0.2715253  & 0.06497877 & 0.2116035 \\\\\n",
       "\t 23         & 3.292397   & 0.6440392  & 2.656080   & 0.2645876  & 0.06466025 & 0.1997039 \\\\\n",
       "\\end{tabular}\n"
      ],
      "text/markdown": [
       "\n",
       "k | RMSE | Rsquared | MAE | RMSESD | RsquaredSD | MAESD | \n",
       "|---|---|---|---|---|---|---|---|---|---|\n",
       "|  5         | 3.565620   | 0.4887976  | 2.886629   | 0.2589081  | 0.06486891 | 0.2430732  | \n",
       "|  7         | 3.422420   | 0.5300524  | 2.752964   | 0.2474802  | 0.06629753 | 0.2212725  | \n",
       "|  9         | 3.368072   | 0.5536927  | 2.715310   | 0.2381725  | 0.05680786 | 0.2011639  | \n",
       "| 11         | 3.323010   | 0.5779056  | 2.669375   | 0.2274817  | 0.05763860 | 0.1849595  | \n",
       "| 13         | 3.275835   | 0.6030846  | 2.628663   | 0.2205424  | 0.06020472 | 0.1899381  | \n",
       "| 15         | 3.261864   | 0.6163510  | 2.621192   | 0.2400900  | 0.06185753 | 0.1998645  | \n",
       "| 17         | 3.261973   | 0.6267032  | 2.616956   | 0.2523794  | 0.06762468 | 0.2070300  | \n",
       "| 19         | 3.286299   | 0.6281075  | 2.640585   | 0.2591439  | 0.07080109 | 0.2183989  | \n",
       "| 21         | 3.280950   | 0.6390386  | 2.643807   | 0.2715253  | 0.06497877 | 0.2116035  | \n",
       "| 23         | 3.292397   | 0.6440392  | 2.656080   | 0.2645876  | 0.06466025 | 0.1997039  | \n",
       "\n",
       "\n"
      ],
      "text/plain": [
       "   k  RMSE     Rsquared  MAE      RMSESD    RsquaredSD MAESD    \n",
       "1   5 3.565620 0.4887976 2.886629 0.2589081 0.06486891 0.2430732\n",
       "2   7 3.422420 0.5300524 2.752964 0.2474802 0.06629753 0.2212725\n",
       "3   9 3.368072 0.5536927 2.715310 0.2381725 0.05680786 0.2011639\n",
       "4  11 3.323010 0.5779056 2.669375 0.2274817 0.05763860 0.1849595\n",
       "5  13 3.275835 0.6030846 2.628663 0.2205424 0.06020472 0.1899381\n",
       "6  15 3.261864 0.6163510 2.621192 0.2400900 0.06185753 0.1998645\n",
       "7  17 3.261973 0.6267032 2.616956 0.2523794 0.06762468 0.2070300\n",
       "8  19 3.286299 0.6281075 2.640585 0.2591439 0.07080109 0.2183989\n",
       "9  21 3.280950 0.6390386 2.643807 0.2715253 0.06497877 0.2116035\n",
       "10 23 3.292397 0.6440392 2.656080 0.2645876 0.06466025 0.1997039"
      ]
     },
     "metadata": {},
     "output_type": "display_data"
    }
   ],
   "source": [
    "fit_knn$results"
   ]
  },
  {
   "cell_type": "code",
   "execution_count": 6,
   "metadata": {
    "collapsed": false
   },
   "outputs": [
    {
     "data": {
      "text/html": [
       "<dl class=dl-horizontal>\n",
       "\t<dt>RMSE</dt>\n",
       "\t\t<dd>3.17506573356444</dd>\n",
       "\t<dt>Rsquared</dt>\n",
       "\t\t<dd>0.678594586405448</dd>\n",
       "\t<dt>MAE</dt>\n",
       "\t\t<dd>2.54431687987702</dd>\n",
       "</dl>\n"
      ],
      "text/latex": [
       "\\begin{description*}\n",
       "\\item[RMSE] 3.17506573356444\n",
       "\\item[Rsquared] 0.678594586405448\n",
       "\\item[MAE] 2.54431687987702\n",
       "\\end{description*}\n"
      ],
      "text/markdown": [
       "RMSE\n",
       ":   3.17506573356444Rsquared\n",
       ":   0.678594586405448MAE\n",
       ":   2.54431687987702\n",
       "\n"
      ],
      "text/plain": [
       "     RMSE  Rsquared       MAE \n",
       "3.1750657 0.6785946 2.5443169 "
      ]
     },
     "metadata": {},
     "output_type": "display_data"
    }
   ],
   "source": [
    "pred_knn <- predict(fit_knn,newdata = vld$x)\n",
    "## The function 'postResample' can be used to get the test set\n",
    "## perforamnce values\n",
    "postResample(pred = pred_knn, obs = vld$y)\n",
    "\n",
    "## The function 'postResample' can be used to get the test set\n",
    "## perforamnce value"
   ]
  },
  {
   "cell_type": "markdown",
   "metadata": {},
   "source": []
  },
  {
   "cell_type": "code",
   "execution_count": 10,
   "metadata": {
    "collapsed": false
   },
   "outputs": [],
   "source": [
    "library(earth)\n",
    "grid_mars <- expand.grid(degree=1:2,nprune=seq(2,14,by=2))\n",
    "set.seed(921)\n",
    "fit_mars <- train(x=trn$x,y=trn$y,method = \"earth\",\n",
    "                 preProc=c(\"center\",\"scale\"),\n",
    "                 tuneGrid=grid_mars)"
   ]
  },
  {
   "cell_type": "code",
   "execution_count": 13,
   "metadata": {
    "collapsed": false
   },
   "outputs": [
    {
     "data": {
      "text/html": [
       "<table>\n",
       "<thead><tr><th></th><th scope=col>degree</th><th scope=col>nprune</th><th scope=col>RMSE</th><th scope=col>Rsquared</th><th scope=col>MAE</th><th scope=col>RMSESD</th><th scope=col>RsquaredSD</th><th scope=col>MAESD</th></tr></thead>\n",
       "<tbody>\n",
       "\t<tr><th scope=row>1</th><td>1         </td><td> 2        </td><td>4.475915  </td><td>0.2101179 </td><td>3.681072  </td><td>0.2116056 </td><td>0.05088570</td><td>0.1807336 </td></tr>\n",
       "\t<tr><th scope=row>8</th><td>2         </td><td> 2        </td><td>4.476602  </td><td>0.2084188 </td><td>3.677814  </td><td>0.2124822 </td><td>0.05529474</td><td>0.1814652 </td></tr>\n",
       "\t<tr><th scope=row>2</th><td>1         </td><td> 4        </td><td>2.809589  </td><td>0.6924049 </td><td>2.215497  </td><td>0.1780137 </td><td>0.04001454</td><td>0.1453763 </td></tr>\n",
       "\t<tr><th scope=row>9</th><td>2         </td><td> 4        </td><td>2.875862  </td><td>0.6774784 </td><td>2.274671  </td><td>0.2945933 </td><td>0.06105273</td><td>0.2540553 </td></tr>\n",
       "\t<tr><th scope=row>3</th><td>1         </td><td> 6        </td><td>2.402136  </td><td>0.7725211 </td><td>1.922343  </td><td>0.2003711 </td><td>0.03981601</td><td>0.2074125 </td></tr>\n",
       "\t<tr><th scope=row>10</th><td>2         </td><td> 6        </td><td>2.446533  </td><td>0.7637631 </td><td>1.945124  </td><td>0.2692381 </td><td>0.04704921</td><td>0.2544086 </td></tr>\n",
       "\t<tr><th scope=row>4</th><td>1         </td><td> 8        </td><td>1.824752  </td><td>0.8667026 </td><td>1.418323  </td><td>0.1726758 </td><td>0.03203928</td><td>0.1507224 </td></tr>\n",
       "\t<tr><th scope=row>11</th><td>2         </td><td> 8        </td><td>1.908074  </td><td>0.8558195 </td><td>1.487075  </td><td>0.2240049 </td><td>0.03221779</td><td>0.1929071 </td></tr>\n",
       "\t<tr><th scope=row>5</th><td>1         </td><td>10        </td><td>1.774370  </td><td>0.8735215 </td><td>1.373649  </td><td>0.1573823 </td><td>0.02722583</td><td>0.1124003 </td></tr>\n",
       "\t<tr><th scope=row>12</th><td>2         </td><td>10        </td><td>1.579623  </td><td>0.8997976 </td><td>1.259832  </td><td>0.1947136 </td><td>0.02673053</td><td>0.1453186 </td></tr>\n",
       "\t<tr><th scope=row>6</th><td>1         </td><td>12        </td><td>1.770976  </td><td>0.8742429 </td><td>1.363659  </td><td>0.2056346 </td><td>0.03198139</td><td>0.1434031 </td></tr>\n",
       "\t<tr><th scope=row>13</th><td>2         </td><td>12        </td><td>1.457170  </td><td>0.9143445 </td><td>1.148043  </td><td>0.1978773 </td><td>0.02501007</td><td>0.1484165 </td></tr>\n",
       "\t<tr><th scope=row>7</th><td>1         </td><td>14        </td><td>1.785274  </td><td>0.8723845 </td><td>1.374290  </td><td>0.2081761 </td><td>0.03144748</td><td>0.1477205 </td></tr>\n",
       "\t<tr><th scope=row>14</th><td>2         </td><td>14        </td><td>1.438503  </td><td>0.9168364 </td><td>1.129160  </td><td>0.1555212 </td><td>0.01954013</td><td>0.1270072 </td></tr>\n",
       "</tbody>\n",
       "</table>\n"
      ],
      "text/latex": [
       "\\begin{tabular}{r|llllllll}\n",
       "  & degree & nprune & RMSE & Rsquared & MAE & RMSESD & RsquaredSD & MAESD\\\\\n",
       "\\hline\n",
       "\t1 & 1          &  2         & 4.475915   & 0.2101179  & 3.681072   & 0.2116056  & 0.05088570 & 0.1807336 \\\\\n",
       "\t8 & 2          &  2         & 4.476602   & 0.2084188  & 3.677814   & 0.2124822  & 0.05529474 & 0.1814652 \\\\\n",
       "\t2 & 1          &  4         & 2.809589   & 0.6924049  & 2.215497   & 0.1780137  & 0.04001454 & 0.1453763 \\\\\n",
       "\t9 & 2          &  4         & 2.875862   & 0.6774784  & 2.274671   & 0.2945933  & 0.06105273 & 0.2540553 \\\\\n",
       "\t3 & 1          &  6         & 2.402136   & 0.7725211  & 1.922343   & 0.2003711  & 0.03981601 & 0.2074125 \\\\\n",
       "\t10 & 2          &  6         & 2.446533   & 0.7637631  & 1.945124   & 0.2692381  & 0.04704921 & 0.2544086 \\\\\n",
       "\t4 & 1          &  8         & 1.824752   & 0.8667026  & 1.418323   & 0.1726758  & 0.03203928 & 0.1507224 \\\\\n",
       "\t11 & 2          &  8         & 1.908074   & 0.8558195  & 1.487075   & 0.2240049  & 0.03221779 & 0.1929071 \\\\\n",
       "\t5 & 1          & 10         & 1.774370   & 0.8735215  & 1.373649   & 0.1573823  & 0.02722583 & 0.1124003 \\\\\n",
       "\t12 & 2          & 10         & 1.579623   & 0.8997976  & 1.259832   & 0.1947136  & 0.02673053 & 0.1453186 \\\\\n",
       "\t6 & 1          & 12         & 1.770976   & 0.8742429  & 1.363659   & 0.2056346  & 0.03198139 & 0.1434031 \\\\\n",
       "\t13 & 2          & 12         & 1.457170   & 0.9143445  & 1.148043   & 0.1978773  & 0.02501007 & 0.1484165 \\\\\n",
       "\t7 & 1          & 14         & 1.785274   & 0.8723845  & 1.374290   & 0.2081761  & 0.03144748 & 0.1477205 \\\\\n",
       "\t14 & 2          & 14         & 1.438503   & 0.9168364  & 1.129160   & 0.1555212  & 0.01954013 & 0.1270072 \\\\\n",
       "\\end{tabular}\n"
      ],
      "text/markdown": [
       "\n",
       "| <!--/--> | degree | nprune | RMSE | Rsquared | MAE | RMSESD | RsquaredSD | MAESD | \n",
       "|---|---|---|---|---|---|---|---|---|---|---|---|---|---|\n",
       "| 1 | 1          |  2         | 4.475915   | 0.2101179  | 3.681072   | 0.2116056  | 0.05088570 | 0.1807336  | \n",
       "| 8 | 2          |  2         | 4.476602   | 0.2084188  | 3.677814   | 0.2124822  | 0.05529474 | 0.1814652  | \n",
       "| 2 | 1          |  4         | 2.809589   | 0.6924049  | 2.215497   | 0.1780137  | 0.04001454 | 0.1453763  | \n",
       "| 9 | 2          |  4         | 2.875862   | 0.6774784  | 2.274671   | 0.2945933  | 0.06105273 | 0.2540553  | \n",
       "| 3 | 1          |  6         | 2.402136   | 0.7725211  | 1.922343   | 0.2003711  | 0.03981601 | 0.2074125  | \n",
       "| 10 | 2          |  6         | 2.446533   | 0.7637631  | 1.945124   | 0.2692381  | 0.04704921 | 0.2544086  | \n",
       "| 4 | 1          |  8         | 1.824752   | 0.8667026  | 1.418323   | 0.1726758  | 0.03203928 | 0.1507224  | \n",
       "| 11 | 2          |  8         | 1.908074   | 0.8558195  | 1.487075   | 0.2240049  | 0.03221779 | 0.1929071  | \n",
       "| 5 | 1          | 10         | 1.774370   | 0.8735215  | 1.373649   | 0.1573823  | 0.02722583 | 0.1124003  | \n",
       "| 12 | 2          | 10         | 1.579623   | 0.8997976  | 1.259832   | 0.1947136  | 0.02673053 | 0.1453186  | \n",
       "| 6 | 1          | 12         | 1.770976   | 0.8742429  | 1.363659   | 0.2056346  | 0.03198139 | 0.1434031  | \n",
       "| 13 | 2          | 12         | 1.457170   | 0.9143445  | 1.148043   | 0.1978773  | 0.02501007 | 0.1484165  | \n",
       "| 7 | 1          | 14         | 1.785274   | 0.8723845  | 1.374290   | 0.2081761  | 0.03144748 | 0.1477205  | \n",
       "| 14 | 2          | 14         | 1.438503   | 0.9168364  | 1.129160   | 0.1555212  | 0.01954013 | 0.1270072  | \n",
       "\n",
       "\n"
      ],
      "text/plain": [
       "   degree nprune RMSE     Rsquared  MAE      RMSESD    RsquaredSD MAESD    \n",
       "1  1       2     4.475915 0.2101179 3.681072 0.2116056 0.05088570 0.1807336\n",
       "8  2       2     4.476602 0.2084188 3.677814 0.2124822 0.05529474 0.1814652\n",
       "2  1       4     2.809589 0.6924049 2.215497 0.1780137 0.04001454 0.1453763\n",
       "9  2       4     2.875862 0.6774784 2.274671 0.2945933 0.06105273 0.2540553\n",
       "3  1       6     2.402136 0.7725211 1.922343 0.2003711 0.03981601 0.2074125\n",
       "10 2       6     2.446533 0.7637631 1.945124 0.2692381 0.04704921 0.2544086\n",
       "4  1       8     1.824752 0.8667026 1.418323 0.1726758 0.03203928 0.1507224\n",
       "11 2       8     1.908074 0.8558195 1.487075 0.2240049 0.03221779 0.1929071\n",
       "5  1      10     1.774370 0.8735215 1.373649 0.1573823 0.02722583 0.1124003\n",
       "12 2      10     1.579623 0.8997976 1.259832 0.1947136 0.02673053 0.1453186\n",
       "6  1      12     1.770976 0.8742429 1.363659 0.2056346 0.03198139 0.1434031\n",
       "13 2      12     1.457170 0.9143445 1.148043 0.1978773 0.02501007 0.1484165\n",
       "7  1      14     1.785274 0.8723845 1.374290 0.2081761 0.03144748 0.1477205\n",
       "14 2      14     1.438503 0.9168364 1.129160 0.1555212 0.01954013 0.1270072"
      ]
     },
     "metadata": {},
     "output_type": "display_data"
    }
   ],
   "source": [
    "fit_mars$results"
   ]
  },
  {
   "cell_type": "code",
   "execution_count": 12,
   "metadata": {
    "collapsed": false
   },
   "outputs": [
    {
     "data": {
      "text/html": [
       "<dl class=dl-horizontal>\n",
       "\t<dt>RMSE</dt>\n",
       "\t\t<dd>1.27799933377053</dd>\n",
       "\t<dt>Rsquared</dt>\n",
       "\t\t<dd>0.93383649693335</dd>\n",
       "\t<dt>MAE</dt>\n",
       "\t\t<dd>1.01470697963047</dd>\n",
       "</dl>\n"
      ],
      "text/latex": [
       "\\begin{description*}\n",
       "\\item[RMSE] 1.27799933377053\n",
       "\\item[Rsquared] 0.93383649693335\n",
       "\\item[MAE] 1.01470697963047\n",
       "\\end{description*}\n"
      ],
      "text/markdown": [
       "RMSE\n",
       ":   1.27799933377053Rsquared\n",
       ":   0.93383649693335MAE\n",
       ":   1.01470697963047\n",
       "\n"
      ],
      "text/plain": [
       "     RMSE  Rsquared       MAE \n",
       "1.2779993 0.9338365 1.0147070 "
      ]
     },
     "metadata": {},
     "output_type": "display_data"
    }
   ],
   "source": [
    "pred_mars <- predict(fit_mars,newdata = vld$x)\n",
    "postResample(pred=pred_mars,obs=vld$y)"
   ]
  },
  {
   "cell_type": "code",
   "execution_count": 19,
   "metadata": {
    "collapsed": false
   },
   "outputs": [
    {
     "data": {
      "text/html": [
       "<table>\n",
       "<thead><tr><th></th><th scope=col>nprune</th><th scope=col>degree</th></tr></thead>\n",
       "<tbody>\n",
       "\t<tr><th scope=row>14</th><td>14</td><td>2 </td></tr>\n",
       "</tbody>\n",
       "</table>\n"
      ],
      "text/latex": [
       "\\begin{tabular}{r|ll}\n",
       "  & nprune & degree\\\\\n",
       "\\hline\n",
       "\t14 & 14 & 2 \\\\\n",
       "\\end{tabular}\n"
      ],
      "text/markdown": [
       "\n",
       "| <!--/--> | nprune | degree | \n",
       "|---|\n",
       "| 14 | 14 | 2  | \n",
       "\n",
       "\n"
      ],
      "text/plain": [
       "   nprune degree\n",
       "14 14     2     "
      ]
     },
     "metadata": {},
     "output_type": "display_data"
    }
   ],
   "source": [
    "fit_mars$bestTune"
   ]
  },
  {
   "cell_type": "code",
   "execution_count": 18,
   "metadata": {
    "collapsed": false,
    "scrolled": true
   },
   "outputs": [
    {
     "data": {},
     "metadata": {},
     "output_type": "display_data"
    },
    {
     "data": {
      "image/png": "[encoded data removed]",
      "text/plain": [
       "plot without title"
      ]
     },
     "metadata": {},
     "output_type": "display_data"
    }
   ],
   "source": [
    "plot(varImp(fit_mars))"
   ]
  },
  {
   "cell_type": "code",
   "execution_count": 20,
   "metadata": {
    "collapsed": false
   },
   "outputs": [
    {
     "data": {
      "text/plain": [
       "Call: earth(x=trn$x, y=trn$y, degree=2, nprune=12)\n",
       "\n",
       "                                coefficients\n",
       "(Intercept)                        22.050690\n",
       "h(0.621722-X1)                    -15.001651\n",
       "h(X1-0.621722)                     10.878737\n",
       "h(0.601063-X2)                    -18.830135\n",
       "h(0.447442-X3)                      9.940077\n",
       "h(X3-0.606015)                     12.999390\n",
       "h(0.734892-X4)                     -9.877554\n",
       "h(X4-0.734892)                     10.414930\n",
       "h(0.850094-X5)                     -5.604897\n",
       "h(X1-0.621722) * h(X2-0.295997)   -43.245766\n",
       "h(0.649253-X1) * h(0.601063-X2)    26.218297\n",
       "\n",
       "Selected 11 of 18 terms, and 5 of 10 predictors\n",
       "Termination condition: Reached nk 21\n",
       "Importance: X1, X4, X2, X5, X3, X6-unused, X7-unused, X8-unused, X9-unused, ...\n",
       "Number of terms at each degree of interaction: 1 8 2\n",
       "GCV 1.747495    RSS 264.5358    GRSq 0.929051    RSq 0.9457576"
      ]
     },
     "metadata": {},
     "output_type": "display_data"
    }
   ],
   "source": [
    "library(earth)\n",
    "fit_mars <- earth(x=trn$x,y=trn$y,nprune = 12,degree = 2)\n",
    "summary(fit_mars)"
   ]
  },
  {
   "cell_type": "code",
   "execution_count": 23,
   "metadata": {
    "collapsed": false,
    "scrolled": true
   },
   "outputs": [
    {
     "name": "stdout",
     "output_type": "stream",
     "text": [
      " plotmo grid:    X1        X2       X3        X4        X5        X6        X7\n",
      "          0.5139349 0.5106664 0.537307 0.4445841 0.5343299 0.4975981 0.4688035\n",
      "       X8        X9       X10\n",
      " 0.497961 0.5288716 0.5359218\n"
     ]
    },
    {
     "data": {
      "image/png": "[encoded data removed]",
      "text/plain": [
       "Plot with title \"1 X1: X2\""
      ]
     },
     "metadata": {},
     "output_type": "display_data"
    }
   ],
   "source": [
    "library(plotmo)\n",
    "plotmo(fit_mars)"
   ]
  },
  {
   "cell_type": "code",
   "execution_count": 24,
   "metadata": {
    "collapsed": false,
    "scrolled": true
   },
   "outputs": [
    {
     "data": {
      "text/html": [
       "<dl class=dl-horizontal>\n",
       "\t<dt>RMSE</dt>\n",
       "\t\t<dd>2.08565259380207</dd>\n",
       "\t<dt>Rsquared</dt>\n",
       "\t\t<dd>0.823799279365896</dd>\n",
       "\t<dt>MAE</dt>\n",
       "\t\t<dd>1.58480688653752</dd>\n",
       "</dl>\n"
      ],
      "text/latex": [
       "\\begin{description*}\n",
       "\\item[RMSE] 2.08565259380207\n",
       "\\item[Rsquared] 0.823799279365896\n",
       "\\item[MAE] 1.58480688653752\n",
       "\\end{description*}\n"
      ],
      "text/markdown": [
       "RMSE\n",
       ":   2.08565259380207Rsquared\n",
       ":   0.823799279365896MAE\n",
       ":   1.58480688653752\n",
       "\n"
      ],
      "text/plain": [
       "     RMSE  Rsquared       MAE \n",
       "2.0856526 0.8237993 1.5848069 "
      ]
     },
     "metadata": {},
     "output_type": "display_data"
    }
   ],
   "source": [
    "set.seed(921)\n",
    "fit_svm <- train(x=trn$x,y=trn$y,method = \"svmRadial\",\n",
    "                preProc=c(\"center\",\"scale\"),\n",
    "                tuneLength=8)\n",
    "\n",
    "pred_svm <- predict(fit_svm,newdata=vld$x)\n",
    "postResample(pred=pred_svm,obs=vld$y)"
   ]
  },
  {
   "cell_type": "markdown",
   "metadata": {},
   "source": [
    "7.3."
   ]
  },
  {
   "cell_type": "code",
   "execution_count": 2,
   "metadata": {
    "collapsed": false
   },
   "outputs": [
    {
     "name": "stderr",
     "output_type": "stream",
     "text": [
      "Loading required package: lattice\n",
      "Loading required package: ggplot2\n"
     ]
    }
   ],
   "source": [
    "data(tecator)\n",
    "set.seed(1029)\n",
    "absorp <- data.frame(absorp)\n",
    "trn_id <- createDataPartition(endpoints[,3],p=3/4,list = F)\n",
    "trnX <- absorp[trn_id,]\n",
    "vldX <- absorp[-trn_id,]\n",
    "\n",
    "trnY <- endpoints[trn_id,3]\n",
    "vldY <- endpoints[-trn_id,3]"
   ]
  },
  {
   "cell_type": "code",
   "execution_count": 36,
   "metadata": {
    "collapsed": true
   },
   "outputs": [],
   "source": [
    "# ctrl <- trainControl(method = \"repeatedcv\",repeats=5)"
   ]
  },
  {
   "cell_type": "code",
   "execution_count": 6,
   "metadata": {
    "collapsed": false
   },
   "outputs": [
    {
     "data": {
      "text/plain": [
       "Multivariate Adaptive Regression Spline \n",
       "\n",
       "163 samples\n",
       "100 predictors\n",
       "\n",
       "No pre-processing\n",
       "Resampling: Cross-Validated (5 fold) \n",
       "Summary of sample sizes: 131, 131, 131, 129, 130 \n",
       "Resampling results across tuning parameters:\n",
       "\n",
       "  nprune  RMSE      Rsquared    MAE      \n",
       "   2      2.905796  0.06703086  2.4545228\n",
       "   3      2.611685  0.24366722  2.1580904\n",
       "   4      2.148161  0.52240153  1.6717195\n",
       "   5      1.470915  0.73717880  1.1119481\n",
       "   7      1.379527  0.76861246  1.0309846\n",
       "   8      1.378323  0.77162891  1.0356326\n",
       "   9      1.282725  0.80288915  0.9714725\n",
       "  10      1.256175  0.80951137  0.9652970\n",
       "  12      1.240854  0.82549325  0.9441629\n",
       "  13      1.123029  0.85327322  0.8661209\n",
       "  14      1.110013  0.86055396  0.8722904\n",
       "  15      1.128123  0.85456783  0.8813127\n",
       "  17      1.105034  0.85955562  0.8612406\n",
       "  18      1.099917  0.85563796  0.8437831\n",
       "  19      1.060989  0.86528421  0.8144149\n",
       "  20      1.046822  0.86763881  0.8016077\n",
       "  22      1.045806  0.86730109  0.8001070\n",
       "  23      1.045806  0.86730109  0.8001070\n",
       "  24      1.045806  0.86730109  0.8001070\n",
       "  25      1.045806  0.86730109  0.8001070\n",
       "  27      1.054585  0.86482441  0.8021130\n",
       "  28      1.056927  0.86499767  0.7986001\n",
       "  29      1.052616  0.86609212  0.7941713\n",
       "  30      1.046403  0.86713616  0.7940662\n",
       "  32      1.049750  0.86555988  0.7983415\n",
       "\n",
       "Tuning parameter 'degree' was held constant at a value of 1\n",
       "RMSE was used to select the optimal model using the smallest value.\n",
       "The final values used for the model were nprune = 22 and degree = 1."
      ]
     },
     "metadata": {},
     "output_type": "display_data"
    }
   ],
   "source": [
    "set.seed(529)\n",
    "fit_mars <- train(x=trnX,y=trnY,method = \"earth\",\n",
    "                 trControl=ctrl,tuneLength=25)\n",
    "fit_mars"
   ]
  },
  {
   "cell_type": "code",
   "execution_count": 39,
   "metadata": {
    "collapsed": false,
    "scrolled": true
   },
   "outputs": [
    {
     "data": {},
     "metadata": {},
     "output_type": "display_data"
    },
    {
     "data": {
      "image/png": "[encoded data removed]",
      "text/plain": [
       "plot without title"
      ]
     },
     "metadata": {},
     "output_type": "display_data"
    }
   ],
   "source": [
    "plot(fit_mars)"
   ]
  },
  {
   "cell_type": "code",
   "execution_count": 4,
   "metadata": {
    "collapsed": false,
    "scrolled": true
   },
   "outputs": [
    {
     "name": "stderr",
     "output_type": "stream",
     "text": [
      "Loading required package: earth\n",
      "Loading required package: plotmo\n",
      "Loading required package: plotrix\n",
      "Loading required package: TeachingDemos\n"
     ]
    }
   ],
   "source": [
    "ctrl <- trainControl(method=\"cv\",number=5)\n",
    "set.seed(529)\n",
    "fit_bagmars <- train(x=trnX,y=trnY,method = \"bagEarth\",\n",
    "                 trControl=ctrl,tuneLength=25,B=20)"
   ]
  },
  {
   "cell_type": "code",
   "execution_count": 8,
   "metadata": {
    "collapsed": false
   },
   "outputs": [],
   "source": [
    "plt <- rbind(fit_mars$results,fit_bagmars$results)\n",
    "plt$model <- rep(c(\"Basic\",\"Bagged\"),each=nrow(fit_mars$results))"
   ]
  },
  {
   "cell_type": "code",
   "execution_count": 10,
   "metadata": {
    "collapsed": false,
    "scrolled": true
   },
   "outputs": [
    {
     "data": {},
     "metadata": {},
     "output_type": "display_data"
    },
    {
     "data": {
      "image/png": "[encoded data removed]",
      "text/plain": [
       "plot without title"
      ]
     },
     "metadata": {},
     "output_type": "display_data"
    }
   ],
   "source": [
    "library(ggplot2)\n",
    "ggplot(plt,aes(nprune,RMSE,colour=model,shape=model)) + geom_point() + geom_line()"
   ]
  },
  {
   "cell_type": "code",
   "execution_count": 13,
   "metadata": {
    "collapsed": false
   },
   "outputs": [
    {
     "data": {
      "text/html": [
       "<table>\n",
       "<thead><tr><th></th><th scope=col>degree</th><th scope=col>C</th><th scope=col>scale</th></tr></thead>\n",
       "<tbody>\n",
       "\t<tr><th scope=row>1</th><td>1   </td><td> 256</td><td>0.5 </td></tr>\n",
       "\t<tr><th scope=row>3</th><td>1   </td><td> 512</td><td>0.5 </td></tr>\n",
       "\t<tr><th scope=row>5</th><td>1   </td><td>1024</td><td>0.5 </td></tr>\n",
       "\t<tr><th scope=row>7</th><td>1   </td><td>2048</td><td>0.5 </td></tr>\n",
       "\t<tr><th scope=row>9</th><td>1   </td><td>4096</td><td>0.5 </td></tr>\n",
       "\t<tr><th scope=row>11</th><td>1   </td><td>8192</td><td>0.5 </td></tr>\n",
       "</tbody>\n",
       "</table>\n"
      ],
      "text/latex": [
       "\\begin{tabular}{r|lll}\n",
       "  & degree & C & scale\\\\\n",
       "\\hline\n",
       "\t1 & 1    &  256 & 0.5 \\\\\n",
       "\t3 & 1    &  512 & 0.5 \\\\\n",
       "\t5 & 1    & 1024 & 0.5 \\\\\n",
       "\t7 & 1    & 2048 & 0.5 \\\\\n",
       "\t9 & 1    & 4096 & 0.5 \\\\\n",
       "\t11 & 1    & 8192 & 0.5 \\\\\n",
       "\\end{tabular}\n"
      ],
      "text/markdown": [
       "\n",
       "| <!--/--> | degree | C | scale | \n",
       "|---|---|---|---|---|---|\n",
       "| 1 | 1    |  256 | 0.5  | \n",
       "| 3 | 1    |  512 | 0.5  | \n",
       "| 5 | 1    | 1024 | 0.5  | \n",
       "| 7 | 1    | 2048 | 0.5  | \n",
       "| 9 | 1    | 4096 | 0.5  | \n",
       "| 11 | 1    | 8192 | 0.5  | \n",
       "\n",
       "\n"
      ],
      "text/plain": [
       "   degree C    scale\n",
       "1  1       256 0.5  \n",
       "3  1       512 0.5  \n",
       "5  1      1024 0.5  \n",
       "7  1      2048 0.5  \n",
       "9  1      4096 0.5  \n",
       "11 1      8192 0.5  "
      ]
     },
     "metadata": {},
     "output_type": "display_data"
    }
   ],
   "source": [
    "#svm\n",
    "grid_poly <- expand.grid(degree=1:2,C=2^seq(8,15,length=8),\n",
    "                        scale=c(0.5,0.1,0.01))\n",
    "grid_poly <- grid_poly[!(grid_poly$scale==0.5 & grid_poly$degree==2),]\n",
    "\n",
    "head(grid_poly)"
   ]
  },
  {
   "cell_type": "code",
   "execution_count": 14,
   "metadata": {
    "collapsed": true
   },
   "outputs": [],
   "source": [
    "set.seed(529)\n",
    "fit_Qsvm <- train(x=trnX,y=trnY,method=\"svmPoly\",\n",
    "                preProc=c(\"center\",\"scale\"),trControl=ctrl,tuneGrid=grid_poly)"
   ]
  },
  {
   "cell_type": "code",
   "execution_count": 15,
   "metadata": {
    "collapsed": true
   },
   "outputs": [],
   "source": [
    "fit_Rsvm <- train(x=trnX,y=trnY,method=\"svmRadial\",\n",
    "                preProc=c(\"center\",\"scale\"),trControl=ctrl,tuneLength=10)"
   ]
  },
  {
   "cell_type": "code",
   "execution_count": 17,
   "metadata": {
    "collapsed": false
   },
   "outputs": [
    {
     "data": {},
     "metadata": {},
     "output_type": "display_data"
    },
    {
     "data": {
      "image/png": "[encoded data removed]",
      "text/plain": [
       "plot without title"
      ]
     },
     "metadata": {},
     "output_type": "display_data"
    }
   ],
   "source": [
    "plot(fit_Rsvm)"
   ]
  },
  {
   "cell_type": "code",
   "execution_count": 68,
   "metadata": {
    "collapsed": false,
    "scrolled": true
   },
   "outputs": [],
   "source": [
    "#nnet\n",
    "set.seed(529)\n",
    "fit_net <- train(x=trnX,y=trnY,methon=\"nnet\",trControl=ctrl,\n",
    "                preProc=c(\"center\",\"scale\"),\n",
    "                lineout=T,trace=F,\n",
    "                tunrGrid=expand.grid(size=1:9,\n",
    "                                    decay=c(0,0.001,0.01,0.1)))"
   ]
  },
  {
   "cell_type": "code",
   "execution_count": 70,
   "metadata": {
    "collapsed": false
   },
   "outputs": [
    {
     "data": {
      "text/plain": [
       "Random Forest \n",
       "\n",
       "163 samples\n",
       "100 predictors\n",
       "\n",
       "Pre-processing: centered (100), scaled (100) \n",
       "Resampling: Cross-Validated (5 fold) \n",
       "Summary of sample sizes: 131, 131, 131, 129, 130 \n",
       "Resampling results across tuning parameters:\n",
       "\n",
       "  mtry  RMSE      Rsquared   MAE     \n",
       "    2   2.207234  0.4794811  1.784507\n",
       "   51   2.086518  0.5244405  1.642912\n",
       "  100   2.089339  0.5197591  1.648847\n",
       "\n",
       "RMSE was used to select the optimal model using the smallest value.\n",
       "The final value used for the model was mtry = 51."
      ]
     },
     "metadata": {},
     "output_type": "display_data"
    }
   ],
   "source": [
    "fit_net"
   ]
  },
  {
   "cell_type": "markdown",
   "metadata": {},
   "source": [
    "! something wrong with this model as method is nnet, the summary shows it use Random Forest"
   ]
  },
  {
   "cell_type": "code",
   "execution_count": 69,
   "metadata": {
    "collapsed": false
   },
   "outputs": [],
   "source": [
    "set.seed(529)\n",
    "fit_PCAnet <- train(x=trnX,y=trnY,methon=\"nnet\",trControl=ctrl,\n",
    "                preProc=c(\"center\",\"scale\",\"pca\"),\n",
    "                lineout=T,trace=F,\n",
    "                tunrGrid=expand.grid(size=1:9,\n",
    "                                     decay=c(0,0.001,0.01,0.1)))"
   ]
  },
  {
   "cell_type": "code",
   "execution_count": 24,
   "metadata": {
    "collapsed": false,
    "scrolled": true
   },
   "outputs": [
    {
     "data": {
      "text/html": [
       "<table>\n",
       "<thead><tr><th scope=col>mtry</th><th scope=col>RMSE</th><th scope=col>Rsquared</th><th scope=col>MAE</th><th scope=col>RMSESD</th><th scope=col>RsquaredSD</th><th scope=col>MAESD</th><th scope=col>model</th></tr></thead>\n",
       "<tbody>\n",
       "\t<tr><td>  2       </td><td>2.207234  </td><td>0.4794811 </td><td>1.784507  </td><td>0.09124975</td><td>0.13879448</td><td>0.1146969 </td><td>raw       </td></tr>\n",
       "\t<tr><td> 51       </td><td>2.086518  </td><td>0.5244405 </td><td>1.642912  </td><td>0.12892111</td><td>0.10567203</td><td>0.1472379 </td><td>raw       </td></tr>\n",
       "\t<tr><td>100       </td><td>2.089339  </td><td>0.5197591 </td><td>1.648847  </td><td>0.09886525</td><td>0.09344787</td><td>0.1145742 </td><td>raw       </td></tr>\n",
       "\t<tr><td>  2       </td><td>2.542629  </td><td>0.2985422 </td><td>1.962488  </td><td>0.14690021</td><td>0.13161966</td><td>0.1407289 </td><td>pca       </td></tr>\n",
       "\t<tr><td> 51       </td><td>2.541944  </td><td>0.2981479 </td><td>1.965791  </td><td>0.15009810</td><td>0.13116929</td><td>0.1398904 </td><td>pca       </td></tr>\n",
       "\t<tr><td>100       </td><td>2.534344  </td><td>0.3019986 </td><td>1.968182  </td><td>0.15301705</td><td>0.13291708</td><td>0.1436683 </td><td>pca       </td></tr>\n",
       "</tbody>\n",
       "</table>\n"
      ],
      "text/latex": [
       "\\begin{tabular}{r|llllllll}\n",
       " mtry & RMSE & Rsquared & MAE & RMSESD & RsquaredSD & MAESD & model\\\\\n",
       "\\hline\n",
       "\t   2        & 2.207234   & 0.4794811  & 1.784507   & 0.09124975 & 0.13879448 & 0.1146969  & raw       \\\\\n",
       "\t  51        & 2.086518   & 0.5244405  & 1.642912   & 0.12892111 & 0.10567203 & 0.1472379  & raw       \\\\\n",
       "\t 100        & 2.089339   & 0.5197591  & 1.648847   & 0.09886525 & 0.09344787 & 0.1145742  & raw       \\\\\n",
       "\t   2        & 2.542629   & 0.2985422  & 1.962488   & 0.14690021 & 0.13161966 & 0.1407289  & pca       \\\\\n",
       "\t  51        & 2.541944   & 0.2981479  & 1.965791   & 0.15009810 & 0.13116929 & 0.1398904  & pca       \\\\\n",
       "\t 100        & 2.534344   & 0.3019986  & 1.968182   & 0.15301705 & 0.13291708 & 0.1436683  & pca       \\\\\n",
       "\\end{tabular}\n"
      ],
      "text/markdown": [
       "\n",
       "mtry | RMSE | Rsquared | MAE | RMSESD | RsquaredSD | MAESD | model | \n",
       "|---|---|---|---|---|---|\n",
       "|   2        | 2.207234   | 0.4794811  | 1.784507   | 0.09124975 | 0.13879448 | 0.1146969  | raw        | \n",
       "|  51        | 2.086518   | 0.5244405  | 1.642912   | 0.12892111 | 0.10567203 | 0.1472379  | raw        | \n",
       "| 100        | 2.089339   | 0.5197591  | 1.648847   | 0.09886525 | 0.09344787 | 0.1145742  | raw        | \n",
       "|   2        | 2.542629   | 0.2985422  | 1.962488   | 0.14690021 | 0.13161966 | 0.1407289  | pca        | \n",
       "|  51        | 2.541944   | 0.2981479  | 1.965791   | 0.15009810 | 0.13116929 | 0.1398904  | pca        | \n",
       "| 100        | 2.534344   | 0.3019986  | 1.968182   | 0.15301705 | 0.13291708 | 0.1436683  | pca        | \n",
       "\n",
       "\n"
      ],
      "text/plain": [
       "  mtry RMSE     Rsquared  MAE      RMSESD     RsquaredSD MAESD     model\n",
       "1   2  2.207234 0.4794811 1.784507 0.09124975 0.13879448 0.1146969 raw  \n",
       "2  51  2.086518 0.5244405 1.642912 0.12892111 0.10567203 0.1472379 raw  \n",
       "3 100  2.089339 0.5197591 1.648847 0.09886525 0.09344787 0.1145742 raw  \n",
       "4   2  2.542629 0.2985422 1.962488 0.14690021 0.13161966 0.1407289 pca  \n",
       "5  51  2.541944 0.2981479 1.965791 0.15009810 0.13116929 0.1398904 pca  \n",
       "6 100  2.534344 0.3019986 1.968182 0.15301705 0.13291708 0.1436683 pca  "
      ]
     },
     "metadata": {},
     "output_type": "display_data"
    }
   ],
   "source": [
    "plt_net <- rbind(fit_net$results,fit_PCAnet$results)\n",
    "plt_net$model <- rep(c(\"raw\",\"pca\"),each=nrow(fit_net$results))\n",
    "\n",
    "head(plt_net)"
   ]
  }
 ],
 "metadata": {
  "anaconda-cloud": {},
  "kernelspec": {
   "display_name": "R",
   "language": "R",
   "name": "ir"
  },
  "language_info": {
   "codemirror_mode": "r",
   "file_extension": ".r",
   "mimetype": "text/x-r-source",
   "name": "R",
   "pygments_lexer": "r",
   "version": "3.5.1"
  },
  "toc": {
   "base_numbering": 1,
   "nav_menu": {},
   "number_sections": true,
   "sideBar": true,
   "skip_h1_title": false,
   "title_cell": "Table of Contents",
   "title_sidebar": "Contents",
   "toc_cell": false,
   "toc_position": {},
   "toc_section_display": true,
   "toc_window_display": false
  }
 },
 "nbformat": 4,
 "nbformat_minor": 1
}
