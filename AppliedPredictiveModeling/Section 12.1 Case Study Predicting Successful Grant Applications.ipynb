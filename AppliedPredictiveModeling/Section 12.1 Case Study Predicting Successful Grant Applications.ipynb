{
 "cells": [
  {
   "cell_type": "code",
   "execution_count": 1,
   "metadata": {},
   "outputs": [],
   "source": [
    "# Sys.setlocale(\"LC_TIME\", \"English\")\n",
    "# library(parallel)\n",
    "# setDefaultCluster(makeCluster(4))\n",
    "# source('CreateGrantData.R')\n",
    "# save(training,testing,pre2008,fullSet,reducedSet,file = \"grant_Data.Rdata\")\n",
    "load(\"grant_Data.Rdata\")"
   ]
  },
  {
   "cell_type": "code",
   "execution_count": 2,
   "metadata": {
    "scrolled": true
   },
   "outputs": [
    {
     "name": "stderr",
     "output_type": "stream",
     "text": [
      "Loading required package: lattice\n",
      "Loading required package: ggplot2\n",
      "Loading required package: foreach\n",
      "Loading required package: iterators\n",
      "Loading required package: parallel\n"
     ]
    }
   ],
   "source": [
    "library(caret)\n",
    "library(doMC)\n",
    "registerDoMC(4)\n",
    "library(plyr)\n",
    "library(reshape2)"
   ]
  },
  {
   "cell_type": "code",
   "execution_count": 3,
   "metadata": {},
   "outputs": [],
   "source": [
    "## Look at two different ways to split and resample the data. \n",
    "pre2008Data <- training[pre2008,]\n",
    "year2008Data <- rbind(training[-pre2008,], testing)\n",
    "\n",
    "set.seed(552)\n",
    "test2008 <- createDataPartition(year2008Data$Class, p = .25)[[1]]\n",
    "\n",
    "allData <- rbind(pre2008Data, year2008Data[-test2008,])\n",
    "holdout2008 <- year2008Data[test2008,]"
   ]
  },
  {
   "cell_type": "code",
   "execution_count": 13,
   "metadata": {},
   "outputs": [],
   "source": [
    "#remove zear var cols first before scaling\n",
    "ZeroVarCol <- c(\"Sponsor260D\",\"Sponsor281A\" , \"Sponsor315C\")\n",
    "fullSet <- fullSet[! fullSet %in% ZeroVarCol]"
   ]
  },
  {
   "cell_type": "code",
   "execution_count": 16,
   "metadata": {
    "scrolled": false
   },
   "outputs": [
    {
     "data": {
      "text/html": [
       "<table>\n",
       "<thead><tr><th></th><th scope=col>freqRatio</th><th scope=col>percentUnique</th><th scope=col>zeroVar</th><th scope=col>nzv</th></tr></thead>\n",
       "<tbody>\n",
       "\t<tr><th scope=row>NumCI</th><td>   3.232558</td><td>0.18091361 </td><td>FALSE      </td><td>FALSE      </td></tr>\n",
       "\t<tr><th scope=row>NumDR</th><td>  28.462222</td><td>0.04522840 </td><td>FALSE      </td><td> TRUE      </td></tr>\n",
       "\t<tr><th scope=row>NumECI</th><td>   4.470483</td><td>0.18091361 </td><td>FALSE      </td><td>FALSE      </td></tr>\n",
       "\t<tr><th scope=row>NumEA</th><td>1657.250000</td><td>0.03015227 </td><td>FALSE      </td><td> TRUE      </td></tr>\n",
       "\t<tr><th scope=row>NumHV</th><td> 330.600000</td><td>0.04522840 </td><td>FALSE      </td><td> TRUE      </td></tr>\n",
       "\t<tr><th scope=row>NumPS</th><td>  16.210390</td><td>0.04522840 </td><td>FALSE      </td><td>FALSE      </td></tr>\n",
       "</tbody>\n",
       "</table>\n"
      ],
      "text/latex": [
       "\\begin{tabular}{r|llll}\n",
       "  & freqRatio & percentUnique & zeroVar & nzv\\\\\n",
       "\\hline\n",
       "\tNumCI &    3.232558 & 0.18091361  & FALSE       & FALSE      \\\\\n",
       "\tNumDR &   28.462222 & 0.04522840  & FALSE       &  TRUE      \\\\\n",
       "\tNumECI &    4.470483 & 0.18091361  & FALSE       & FALSE      \\\\\n",
       "\tNumEA & 1657.250000 & 0.03015227  & FALSE       &  TRUE      \\\\\n",
       "\tNumHV &  330.600000 & 0.04522840  & FALSE       &  TRUE      \\\\\n",
       "\tNumPS &   16.210390 & 0.04522840  & FALSE       & FALSE      \\\\\n",
       "\\end{tabular}\n"
      ],
      "text/markdown": [
       "\n",
       "| <!--/--> | freqRatio | percentUnique | zeroVar | nzv | \n",
       "|---|---|---|---|---|---|\n",
       "| NumCI |    3.232558 | 0.18091361  | FALSE       | FALSE       | \n",
       "| NumDR |   28.462222 | 0.04522840  | FALSE       |  TRUE       | \n",
       "| NumECI |    4.470483 | 0.18091361  | FALSE       | FALSE       | \n",
       "| NumEA | 1657.250000 | 0.03015227  | FALSE       |  TRUE       | \n",
       "| NumHV |  330.600000 | 0.04522840  | FALSE       |  TRUE       | \n",
       "| NumPS |   16.210390 | 0.04522840  | FALSE       | FALSE       | \n",
       "\n",
       "\n"
      ],
      "text/plain": [
       "       freqRatio   percentUnique zeroVar nzv  \n",
       "NumCI     3.232558 0.18091361    FALSE   FALSE\n",
       "NumDR    28.462222 0.04522840    FALSE    TRUE\n",
       "NumECI    4.470483 0.18091361    FALSE   FALSE\n",
       "NumEA  1657.250000 0.03015227    FALSE    TRUE\n",
       "NumHV   330.600000 0.04522840    FALSE    TRUE\n",
       "NumPS    16.210390 0.04522840    FALSE   FALSE"
      ]
     },
     "metadata": {},
     "output_type": "display_data"
    }
   ],
   "source": [
    "nzv_info <- nearZeroVar(pre2008Data[,fullSet],saveMetrics = T)\n",
    "head(nzv_info)"
   ]
  },
  {
   "cell_type": "code",
   "execution_count": null,
   "metadata": {},
   "outputs": [],
   "source": [
    "## Use a common tuning grid for both approaches. \n",
    "svmrGrid <- expand.grid(sigma = c(.00007, .00009, .0001, .0002),\n",
    "                        C = 2^(-3:8))\n",
    "\n",
    "## Evaluate the model using overall 10-fold cross-validation\n",
    "ctrl0 <- trainControl(\n",
    "                      method = \"cv\",number=5,\n",
    "                      search = \"random\",\n",
    "                      summaryFunction = twoClassSummary,\n",
    "                      classProbs = TRUE)\n",
    "set.seed(914)\n",
    "svmFit0 <- train(pre2008Data[,reducedSet], pre2008Data$Class,\n",
    "                 method = \"svmRadial\",\n",
    "                 tuneGrid = svmrGrid,\n",
    "                 preProc = c(\"center\", \"scale\"),\n",
    "                 metric = \"ROC\",\n",
    "                 trControl = ctrl0)\n",
    "svmFit0"
   ]
  },
  {
   "cell_type": "code",
   "execution_count": null,
   "metadata": {},
   "outputs": [],
   "source": [
    "### Now fit the single 2008 test set\n",
    "ctrl00 <- trainControl(method = \"LGOCV\",\n",
    "                       summaryFunction = twoClassSummary,\n",
    "                       classProbs = TRUE,\n",
    "                       index = list(TestSet = 1:nrow(pre2008Data)))\n",
    "\n",
    "\n",
    "set.seed(914)\n",
    "svmFit00 <- train(allData[,reducedSet], allData$Class,\n",
    "                  method = \"svmRadial\",\n",
    "                  tuneGrid = svmrGrid,\n",
    "                  preProc = c(\"center\", \"scale\"),\n",
    "                  metric = \"ROC\",\n",
    "                  trControl = ctrl00)\n",
    "svmFit00"
   ]
  },
  {
   "cell_type": "code",
   "execution_count": null,
   "metadata": {},
   "outputs": [],
   "source": [
    "## Combine the two sets of results and plot\n",
    "\n",
    "grid0 <- subset(svmFit0$bestTune$Model <- \"10-Fold Cross-Validation\"\n",
    "\n",
    "grid00 <- subset(svmFit00$bestTune$Model <- \"Single 2008 Test Set\"\n",
    "\n",
    "plotData <- rbind(grid00, grid0)\n",
    "\n",
    "plotData <- plotData[!is.na(plotData$ROC),]\n",
    "xyplot(ROC ~ C, data = plotData,\n",
    "       groups = Model,\n",
    "       type = c(\"g\", \"o\"),\n",
    "       scales = list(x = list(log = 2)),\n",
    "       auto.key = list(columns = 1))"
   ]
  },
  {
   "cell_type": "markdown",
   "metadata": {},
   "source": [
    "```r\n",
    "### Section 12.1 Case Study: Predicting Successful Grant Applications\n",
    "\n",
    "load(\"grantData.RData\")\n",
    "\n",
    "library(caret)\n",
    "library(doMC)\n",
    "registerDoMC(12)\n",
    "library(plyr)\n",
    "library(reshape2)\n",
    "\n",
    "## Look at two different ways to split and resample the data. A support vector\n",
    "## machine is used to illustrate the differences. The full set of predictors\n",
    "## is used. \n",
    "\n",
    "pre2008Data <- training[pre2008,]\n",
    "year2008Data <- rbind(training[-pre2008,], testing)\n",
    "\n",
    "set.seed(552)\n",
    "test2008 <- createDataPartition(year2008Data$Class, p = .25)[[1]]\n",
    "\n",
    "allData <- rbind(pre2008Data, year2008Data[-test2008,])\n",
    "holdout2008 <- year2008Data[test2008,]\n",
    "\n",
    "## Use a common tuning grid for both approaches. \n",
    "svmrGrid <- expand.grid(sigma = c(.00007, .00009, .0001, .0002),\n",
    "                        C = 2^(-3:8))\n",
    "\n",
    "## Evaluate the model using overall 10-fold cross-validation\n",
    "ctrl0 <- trainControl(method = \"cv\",\n",
    "                      summaryFunction = twoClassSummary,\n",
    "                      classProbs = TRUE)\n",
    "set.seed(477)\n",
    "svmFit0 <- train(pre2008Data[,fullSet], pre2008Data$Class,\n",
    "                 method = \"svmRadial\",\n",
    "                 tuneGrid = svmrGrid,\n",
    "                 preProc = c(\"center\", \"scale\"),\n",
    "                 metric = \"ROC\",\n",
    "                 trControl = ctrl0)\n",
    "svmFit0\n",
    "\n",
    "### Now fit the single 2008 test set\n",
    "ctrl00 <- trainControl(method = \"LGOCV\",\n",
    "                       summaryFunction = twoClassSummary,\n",
    "                       classProbs = TRUE,\n",
    "                       index = list(TestSet = 1:nrow(pre2008Data)))\n",
    "\n",
    "\n",
    "set.seed(476)\n",
    "svmFit00 <- train(allData[,fullSet], allData$Class,\n",
    "                  method = \"svmRadial\",\n",
    "                  tuneGrid = svmrGrid,\n",
    "                  preProc = c(\"center\", \"scale\"),\n",
    "                  metric = \"ROC\",\n",
    "                  trControl = ctrl00)\n",
    "svmFit00\n",
    "\n",
    "## Combine the two sets of results and plot\n",
    "\n",
    "grid0 <- subset(svmFit0$results,  sigma == svmFit0$bestTune$sigma)\n",
    "grid0$Model <- \"10-Fold Cross-Validation\"\n",
    "\n",
    "grid00 <- subset(svmFit00$results,  sigma == svmFit00$bestTune$sigma)\n",
    "grid00$Model <- \"Single 2008 Test Set\"\n",
    "\n",
    "plotData <- rbind(grid00, grid0)\n",
    "\n",
    "plotData <- plotData[!is.na(plotData$ROC),]\n",
    "xyplot(ROC ~ C, data = plotData,\n",
    "       groups = Model,\n",
    "       type = c(\"g\", \"o\"),\n",
    "       scales = list(x = list(log = 2)),\n",
    "       auto.key = list(columns = 1))\n",
    "\n",
    "```"
   ]
  }
 ],
 "metadata": {
  "kernelspec": {
   "display_name": "R",
   "language": "R",
   "name": "ir"
  },
  "language_info": {
   "codemirror_mode": "r",
   "file_extension": ".r",
   "mimetype": "text/x-r-source",
   "name": "R",
   "pygments_lexer": "r",
   "version": "3.5.1"
  },
  "latex_envs": {
   "LaTeX_envs_menu_present": true,
   "autoclose": false,
   "autocomplete": true,
   "bibliofile": "biblio.bib",
   "cite_by": "apalike",
   "current_citInitial": 1,
   "eqLabelWithNumbers": true,
   "eqNumInitial": 1,
   "hotkeys": {
    "equation": "Ctrl-E",
    "itemize": "Ctrl-I"
   },
   "labels_anchors": false,
   "latex_user_defs": false,
   "report_style_numbering": false,
   "user_envs_cfg": false
  },
  "toc": {
   "base_numbering": 1,
   "nav_menu": {},
   "number_sections": true,
   "sideBar": true,
   "skip_h1_title": false,
   "title_cell": "Table of Contents",
   "title_sidebar": "Contents",
   "toc_cell": false,
   "toc_position": {},
   "toc_section_display": true,
   "toc_window_display": false
  }
 },
 "nbformat": 4,
 "nbformat_minor": 2
}
