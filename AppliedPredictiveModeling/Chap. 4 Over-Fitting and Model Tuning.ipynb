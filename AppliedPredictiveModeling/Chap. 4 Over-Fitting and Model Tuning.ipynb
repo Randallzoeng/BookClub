{
 "cells": [
  {
   "cell_type": "markdown",
   "metadata": {},
   "source": [
    "## The Problem of Over-Fitting"
   ]
  },
  {
   "cell_type": "code",
   "execution_count": 9,
   "metadata": {
    "collapsed": false
   },
   "outputs": [],
   "source": [
    "library(AppliedPredictiveModeling)\n",
    "data(twoClassData)\n",
    "#?twoClassData"
   ]
  },
  {
   "cell_type": "code",
   "execution_count": 10,
   "metadata": {
    "collapsed": false,
    "scrolled": true
   },
   "outputs": [
    {
     "data": {},
     "metadata": {},
     "output_type": "display_data"
    },
    {
     "data": {
      "image/png": "[encoded data removed]",
      "text/plain": [
       "plot without title"
      ]
     },
     "metadata": {},
     "output_type": "display_data"
    }
   ],
   "source": [
    "# library(lattice)\n",
    "# xyplot(PredictorB ~ PredictorA, data = predictors, groups = classes, auto.key = TRUE)\n",
    "library(ggplot2)\n",
    "ggplot(data=predictors,aes(x=PredictorA,y=PredictorB,color=classes,shape=classes)) + geom_point() +theme(legend.position=\"top\")"
   ]
  },
  {
   "cell_type": "markdown",
   "metadata": {},
   "source": [
    "## Model Tuning\n",
    "## Data Splitting\n",
    "> `code from computing`"
   ]
  },
  {
   "cell_type": "code",
   "execution_count": 11,
   "metadata": {
    "collapsed": false
   },
   "outputs": [],
   "source": [
    "library(caret)\n",
    "set.seed(1)\n",
    "trn_id<- createDataPartition(classes,p=0.80,list=F)\n",
    "\n",
    "trn_X <- predictors[trn_id,]\n",
    "trn_y <- classes[trn_id]\n",
    "\n",
    "test_X <- predictors[-trn_id,]\n",
    "test_y <- classes[-trn_id]"
   ]
  },
  {
   "cell_type": "markdown",
   "metadata": {},
   "source": [
    "## Resampling Techniques"
   ]
  },
  {
   "cell_type": "code",
   "execution_count": 12,
   "metadata": {
    "collapsed": false
   },
   "outputs": [
    {
     "name": "stdout",
     "output_type": "stream",
     "text": [
      "List of 2\n",
      " $ Resample1: int [1:135] 1 2 4 5 6 8 9 10 11 12 ...\n",
      " $ Resample2: int [1:135] 2 3 4 6 7 8 9 11 14 15 ...\n"
     ]
    }
   ],
   "source": [
    "library(caret)\n",
    "set.seed(1)\n",
    "rept_splits <- createDataPartition(trn_y,p=.80,times=2)\n",
    "str(rept_splits)"
   ]
  },
  {
   "cell_type": "code",
   "execution_count": 13,
   "metadata": {
    "collapsed": false
   },
   "outputs": [
    {
     "name": "stdout",
     "output_type": "stream",
     "text": [
      "List of 10\n",
      " $ Fold01: int [1:151] 2 3 4 5 6 7 11 12 13 14 ...\n",
      " $ Fold02: int [1:150] 1 2 3 4 5 6 7 8 9 10 ...\n",
      " $ Fold03: int [1:150] 1 2 3 4 5 6 7 8 9 10 ...\n",
      " $ Fold04: int [1:151] 1 2 3 4 5 7 8 9 10 11 ...\n",
      " $ Fold05: int [1:150] 1 2 3 5 6 7 8 9 10 11 ...\n",
      " $ Fold06: int [1:150] 1 2 3 4 5 6 8 9 10 11 ...\n",
      " $ Fold07: int [1:150] 1 3 4 5 6 7 8 9 10 11 ...\n",
      " $ Fold08: int [1:151] 1 2 3 4 5 6 7 8 9 10 ...\n",
      " $ Fold09: int [1:150] 1 2 4 5 6 7 8 9 10 12 ...\n",
      " $ Fold10: int [1:150] 1 2 3 4 6 7 8 9 10 11 ...\n"
     ]
    }
   ],
   "source": [
    "set.seed(1)\n",
    "cv_splits <- createFolds(trn_y,k=10,returnTrain = T)\n",
    "str(cv_splits)"
   ]
  },
  {
   "cell_type": "code",
   "execution_count": 14,
   "metadata": {
    "collapsed": false
   },
   "outputs": [
    {
     "data": {
      "text/html": [
       "167"
      ],
      "text/latex": [
       "167"
      ],
      "text/markdown": [
       "167"
      ],
      "text/plain": [
       "[1] 167"
      ]
     },
     "metadata": {},
     "output_type": "display_data"
    },
    {
     "data": {
      "text/html": [
       "151"
      ],
      "text/latex": [
       "151"
      ],
      "text/markdown": [
       "151"
      ],
      "text/plain": [
       "[1] 151"
      ]
     },
     "metadata": {},
     "output_type": "display_data"
    }
   ],
   "source": [
    "fold_1 <- cv_splits[[1]]\n",
    "cv_X_1 <- trn_X[fold_1,]\n",
    "cv_y_1 <- trn_y[fold_1]\n",
    "\n",
    "nrow(trn_X)\n",
    "nrow(cv_X_1)"
   ]
  },
  {
   "cell_type": "markdown",
   "metadata": {},
   "source": [
    "## Case Study: Credit Scoring"
   ]
  },
  {
   "cell_type": "code",
   "execution_count": 19,
   "metadata": {
    "collapsed": false,
    "scrolled": false
   },
   "outputs": [],
   "source": [
    "library(caret)\n",
    "data(GermanCredit)"
   ]
  },
  {
   "cell_type": "code",
   "execution_count": 20,
   "metadata": {
    "collapsed": false,
    "scrolled": true
   },
   "outputs": [],
   "source": [
    "GermanCredit <- GermanCredit[, -nearZeroVar(GermanCredit)]\n",
    "GermanCredit$CheckingAccountStatus.lt.0 <- NULL\n",
    "GermanCredit$SavingsAccountBonds.lt.100 <- NULL\n",
    "GermanCredit$EmploymentDuration.lt.1 <- NULL\n",
    "GermanCredit$EmploymentDuration.Unemployed <- NULL\n",
    "GermanCredit$Personal.Male.Married.Widowed <- NULL\n",
    "GermanCredit$Property.Unknown <- NULL\n",
    "GermanCredit$Housing.ForFree <- NULL"
   ]
  },
  {
   "cell_type": "code",
   "execution_count": 21,
   "metadata": {
    "collapsed": false
   },
   "outputs": [],
   "source": [
    "set.seed(100)\n",
    "trn_id <- createDataPartition(GermanCredit$Class, p = .8)[[1]]\n",
    "trn <- GermanCredit[ trn_id, ]\n",
    "test  <- GermanCredit[-trn_id, ]"
   ]
  },
  {
   "cell_type": "code",
   "execution_count": 22,
   "metadata": {
    "collapsed": false,
    "scrolled": true
   },
   "outputs": [
    {
     "data": {
      "text/plain": [
       "Support Vector Machines with Radial Basis Function Kernel \n",
       "\n",
       "800 samples\n",
       " 41 predictor\n",
       "  2 classes: 'Bad', 'Good' \n",
       "\n",
       "Pre-processing: centered (41), scaled (41) \n",
       "Resampling: Cross-Validated (10 fold, repeated 5 times) \n",
       "Summary of sample sizes: 720, 720, 720, 720, 720, 720, ... \n",
       "Resampling results across tuning parameters:\n",
       "\n",
       "  C       Accuracy  Kappa    \n",
       "    0.25  0.74300   0.3542454\n",
       "    0.50  0.74250   0.3542944\n",
       "    1.00  0.74325   0.3292659\n",
       "    2.00  0.74625   0.3309138\n",
       "    4.00  0.75325   0.3320549\n",
       "    8.00  0.74925   0.3181382\n",
       "   16.00  0.74475   0.2953169\n",
       "   32.00  0.74375   0.2984285\n",
       "   64.00  0.74075   0.2929082\n",
       "  128.00  0.73800   0.2841027\n",
       "\n",
       "Tuning parameter 'sigma' was held constant at a value of 0.01418087\n",
       "Accuracy was used to select the optimal model using the largest value.\n",
       "The final values used for the model were sigma = 0.01418087 and C = 4."
      ]
     },
     "metadata": {},
     "output_type": "display_data"
    }
   ],
   "source": [
    "set.seed(1056)\n",
    "fit_svm <- train(Class ~ .,\n",
    "                data = trn,\n",
    "                method = \"svmRadial\",\n",
    "               preProc = c(\"center\", \"scale\"),\n",
    "                tuneLength = 10,\n",
    "                trControl = trainControl(method = \"repeatedcv\", \n",
    "                                         repeats = 5,\n",
    "                                         classProbs = TRUE))\n",
    "\n",
    "fit_svm"
   ]
  },
  {
   "cell_type": "code",
   "execution_count": 23,
   "metadata": {
    "collapsed": false
   },
   "outputs": [
    {
     "data": {},
     "metadata": {},
     "output_type": "display_data"
    },
    {
     "data": {
      "image/png": "[encoded data removed]",
      "text/plain": [
       "plot without title"
      ]
     },
     "metadata": {},
     "output_type": "display_data"
    }
   ],
   "source": [
    "plot(fit_svm,scales=(x=list(log=2)))"
   ]
  },
  {
   "cell_type": "code",
   "execution_count": 25,
   "metadata": {
    "collapsed": false,
    "scrolled": true
   },
   "outputs": [
    {
     "data": {
      "text/html": [
       "<table>\n",
       "<thead><tr><th scope=col>Bad</th><th scope=col>Good</th></tr></thead>\n",
       "<tbody>\n",
       "\t<tr><td>0.5712094</td><td>0.4287906</td></tr>\n",
       "\t<tr><td>0.5030683</td><td>0.4969317</td></tr>\n",
       "\t<tr><td>0.3377723</td><td>0.6622277</td></tr>\n",
       "\t<tr><td>0.1025021</td><td>0.8974979</td></tr>\n",
       "\t<tr><td>0.6227635</td><td>0.3772365</td></tr>\n",
       "\t<tr><td>0.1498071</td><td>0.8501929</td></tr>\n",
       "</tbody>\n",
       "</table>\n"
      ],
      "text/latex": [
       "\\begin{tabular}{r|ll}\n",
       " Bad & Good\\\\\n",
       "\\hline\n",
       "\t 0.5712094 & 0.4287906\\\\\n",
       "\t 0.5030683 & 0.4969317\\\\\n",
       "\t 0.3377723 & 0.6622277\\\\\n",
       "\t 0.1025021 & 0.8974979\\\\\n",
       "\t 0.6227635 & 0.3772365\\\\\n",
       "\t 0.1498071 & 0.8501929\\\\\n",
       "\\end{tabular}\n"
      ],
      "text/markdown": [
       "\n",
       "Bad | Good | \n",
       "|---|---|---|---|---|---|\n",
       "| 0.5712094 | 0.4287906 | \n",
       "| 0.5030683 | 0.4969317 | \n",
       "| 0.3377723 | 0.6622277 | \n",
       "| 0.1025021 | 0.8974979 | \n",
       "| 0.6227635 | 0.3772365 | \n",
       "| 0.1498071 | 0.8501929 | \n",
       "\n",
       "\n"
      ],
      "text/plain": [
       "  Bad       Good     \n",
       "1 0.5712094 0.4287906\n",
       "2 0.5030683 0.4969317\n",
       "3 0.3377723 0.6622277\n",
       "4 0.1025021 0.8974979\n",
       "5 0.6227635 0.3772365\n",
       "6 0.1498071 0.8501929"
      ]
     },
     "metadata": {},
     "output_type": "display_data"
    }
   ],
   "source": [
    "pred_cls <- predict(fit_svm,test,type=\"prob\")\n",
    "head(pred_cls)"
   ]
  },
  {
   "cell_type": "markdown",
   "metadata": {},
   "source": [
    "## Choosing Final Tuning Parameters\n",
    "## Data Splitting Recommendations\n",
    "## Choosing Beteen Models\n",
    "## Computing"
   ]
  },
  {
   "cell_type": "markdown",
   "metadata": {},
   "source": [
    "### Basic Model Building in R"
   ]
  },
  {
   "cell_type": "code",
   "execution_count": 16,
   "metadata": {
    "collapsed": false
   },
   "outputs": [
    {
     "data": {
      "text/plain": [
       "5-nearest neighbor model\n",
       "Training set outcome distribution:\n",
       "\n",
       "Class1 Class2 \n",
       "    89     78 \n"
      ]
     },
     "metadata": {},
     "output_type": "display_data"
    }
   ],
   "source": [
    "trn_X <- as.matrix(trn_X)\n",
    "fit_knn <- knn3(x=trn_X,y=trn_y,k=5)\n",
    "fit_knn"
   ]
  },
  {
   "cell_type": "code",
   "execution_count": 17,
   "metadata": {
    "collapsed": false,
    "scrolled": true
   },
   "outputs": [
    {
     "data": {
      "text/html": [
       "<table>\n",
       "<thead><tr><th scope=col>Class1</th><th scope=col>Class2</th></tr></thead>\n",
       "<tbody>\n",
       "\t<tr><td>0.0</td><td>1.0</td></tr>\n",
       "\t<tr><td>0.0</td><td>1.0</td></tr>\n",
       "\t<tr><td>1.0</td><td>0.0</td></tr>\n",
       "\t<tr><td>0.6</td><td>0.4</td></tr>\n",
       "\t<tr><td>0.2</td><td>0.8</td></tr>\n",
       "\t<tr><td>0.2</td><td>0.8</td></tr>\n",
       "</tbody>\n",
       "</table>\n"
      ],
      "text/latex": [
       "\\begin{tabular}{ll}\n",
       " Class1 & Class2\\\\\n",
       "\\hline\n",
       "\t 0.0 & 1.0\\\\\n",
       "\t 0.0 & 1.0\\\\\n",
       "\t 1.0 & 0.0\\\\\n",
       "\t 0.6 & 0.4\\\\\n",
       "\t 0.2 & 0.8\\\\\n",
       "\t 0.2 & 0.8\\\\\n",
       "\\end{tabular}\n"
      ],
      "text/markdown": [
       "\n",
       "Class1 | Class2 | \n",
       "|---|---|---|---|---|---|\n",
       "| 0.0 | 1.0 | \n",
       "| 0.0 | 1.0 | \n",
       "| 1.0 | 0.0 | \n",
       "| 0.6 | 0.4 | \n",
       "| 0.2 | 0.8 | \n",
       "| 0.2 | 0.8 | \n",
       "\n",
       "\n"
      ],
      "text/plain": [
       "     Class1 Class2\n",
       "[1,] 0.0    1.0   \n",
       "[2,] 0.0    1.0   \n",
       "[3,] 1.0    0.0   \n",
       "[4,] 0.6    0.4   \n",
       "[5,] 0.2    0.8   \n",
       "[6,] 0.2    0.8   "
      ]
     },
     "metadata": {},
     "output_type": "display_data"
    },
    {
     "name": "stdout",
     "output_type": "stream",
     "text": [
      " num [1:41, 1:2] 0 0 1 0.6 0.2 0.2 0.2 0 0.2 0.2 ...\n",
      " - attr(*, \"dimnames\")=List of 2\n",
      "  ..$ : NULL\n",
      "  ..$ : chr [1:2] \"Class1\" \"Class2\"\n"
     ]
    }
   ],
   "source": [
    "test_y <- predict(fit_knn,newdata = test_X)\n",
    "head(test_y)\n",
    "str(test_y)"
   ]
  },
  {
   "cell_type": "markdown",
   "metadata": {},
   "source": [
    "### Determination of Tuning Parameters"
   ]
  },
  {
   "cell_type": "code",
   "execution_count": null,
   "metadata": {
    "collapsed": true
   },
   "outputs": [],
   "source": []
  }
 ],
 "metadata": {
  "anaconda-cloud": {},
  "kernelspec": {
   "display_name": "R",
   "language": "R",
   "name": "ir"
  },
  "language_info": {
   "codemirror_mode": "r",
   "file_extension": ".r",
   "mimetype": "text/x-r-source",
   "name": "R",
   "pygments_lexer": "r",
   "version": "3.5.0"
  },
  "toc": {
   "base_numbering": 1,
   "nav_menu": {},
   "number_sections": true,
   "sideBar": true,
   "skip_h1_title": false,
   "title_cell": "Table of Contents",
   "title_sidebar": "Contents",
   "toc_cell": false,
   "toc_position": {},
   "toc_section_display": true,
   "toc_window_display": false
  }
 },
 "nbformat": 4,
 "nbformat_minor": 1
}
