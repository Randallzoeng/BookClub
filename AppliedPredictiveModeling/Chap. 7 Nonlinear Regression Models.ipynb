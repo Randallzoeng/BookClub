{
 "cells": [
  {
   "cell_type": "markdown",
   "metadata": {},
   "source": [
    "# Computing\n",
    "## Neural Networks"
   ]
  },
  {
   "cell_type": "code",
   "execution_count": 1,
   "metadata": {
    "collapsed": false
   },
   "outputs": [
    {
     "data": {
      "text/html": [
       "<ol class=list-inline>\n",
       "\t<li>'solTestX'</li>\n",
       "\t<li>'solTestXtrans'</li>\n",
       "\t<li>'solTestY'</li>\n",
       "\t<li>'solTrainX'</li>\n",
       "\t<li>'solTrainXtrans'</li>\n",
       "\t<li>'solTrainY'</li>\n",
       "</ol>\n"
      ],
      "text/latex": [
       "\\begin{enumerate*}\n",
       "\\item 'solTestX'\n",
       "\\item 'solTestXtrans'\n",
       "\\item 'solTestY'\n",
       "\\item 'solTrainX'\n",
       "\\item 'solTrainXtrans'\n",
       "\\item 'solTrainY'\n",
       "\\end{enumerate*}\n"
      ],
      "text/markdown": [
       "1. 'solTestX'\n",
       "2. 'solTestXtrans'\n",
       "3. 'solTestY'\n",
       "4. 'solTrainX'\n",
       "5. 'solTrainXtrans'\n",
       "6. 'solTrainY'\n",
       "\n",
       "\n"
      ],
      "text/plain": [
       "[1] \"solTestX\"       \"solTestXtrans\"  \"solTestY\"       \"solTrainX\"     \n",
       "[5] \"solTrainXtrans\" \"solTrainY\"     "
      ]
     },
     "metadata": {},
     "output_type": "display_data"
    }
   ],
   "source": [
    "library(AppliedPredictiveModeling)\n",
    "data(solubility)\n",
    "ls(pattern=\"^solT\") "
   ]
  },
  {
   "cell_type": "code",
   "execution_count": null,
   "metadata": {
    "collapsed": false
   },
   "outputs": [
    {
     "name": "stderr",
     "output_type": "stream",
     "text": [
      "Warning message:\n",
      "\"executing %dopar% sequentially: no parallel backend registered\""
     ]
    }
   ],
   "source": [
    "library(caret)\n",
    "cor_info <- findCorrelation(cor(solTrainXtrans),cutoff = 0.75)\n",
    "trn <- solTrainXtrans[,-cor_info]\n",
    "vld <- solTestXtrans[,-cor_info]\n",
    "grid_nnet <- expand.grid(.decay = c(0,0.01,0.1),\n",
    "                        .size = c(1:10),\n",
    "                        .bag=F)\n",
    "set.seed(100)\n",
    "fit_nnet <- train(trn,solTrainY,method = \"avNNet\",tuneGrid = grid_nnet,\n",
    "                 preProc=c(\"center\",\"scale\"),linout=T,trace=F,\n",
    "                 MaxNWts=10*(ncol(trn)+1)+10+1,maxit=500)"
   ]
  },
  {
   "cell_type": "code",
   "execution_count": null,
   "metadata": {
    "collapsed": true
   },
   "outputs": [],
   "source": [
    "fit_nnet\n",
    "str(fit_nnet)"
   ]
  },
  {
   "cell_type": "markdown",
   "metadata": {},
   "source": [
    "## MARS"
   ]
  },
  {
   "cell_type": "code",
   "execution_count": null,
   "metadata": {
    "collapsed": true
   },
   "outputs": [],
   "source": [
    "library(earth)\n",
    "fit_mars <- earth(solTrainXtrans,colTrainY)\n",
    "fit_mars\n",
    "summary(marsFit)\n",
    "plotmo(fit_mars)"
   ]
  },
  {
   "cell_type": "code",
   "execution_count": null,
   "metadata": {
    "collapsed": true
   },
   "outputs": [],
   "source": [
    "#caret wrapper\n",
    "grid_mars <- expand.grid(.degree=1:2,.nprune=2:38)\n",
    "set.seed(100)\n",
    "fit_mars <- train(solTrainXtrans,solTrainY,\n",
    "                 method=\"earth\",tuneGrid=marsGrid,trControl(methon=\"cv\"))\n",
    "fit_mars"
   ]
  },
  {
   "cell_type": "code",
   "execution_count": null,
   "metadata": {
    "collapsed": true
   },
   "outputs": [],
   "source": [
    "head(predict(fit_mars,solTestXtrain))"
   ]
  },
  {
   "cell_type": "code",
   "execution_count": null,
   "metadata": {
    "collapsed": true
   },
   "outputs": [],
   "source": [
    "varImp(fit_mars)"
   ]
  },
  {
   "cell_type": "markdown",
   "metadata": {},
   "source": [
    "## SVM"
   ]
  },
  {
   "cell_type": "code",
   "execution_count": null,
   "metadata": {
    "collapsed": true
   },
   "outputs": [],
   "source": [
    "library(kernlab)\n",
    "fit_svm <- ksvm(x=solTrainXtrans,y=solTrainY,kernel=\"rbfdot\",kpar=\"automatic\",\n",
    "               C=1,epsilon=0.1)\n",
    "fit_svm\n",
    "#kernel = \"polydot \"多项式核函数\n",
    "#kernel = \"vanilladot \" 线性核函数"
   ]
  },
  {
   "cell_type": "code",
   "execution_count": null,
   "metadata": {
    "collapsed": true
   },
   "outputs": [],
   "source": [
    "fit_svm <- train(solTrainXtrans,solTrainY,method=\"svmRadial\",\n",
    "                preProc=c(\"center\",\"scale\"),tuneLength=14,trControl=trainControl(methon=\"cv\"))\n",
    "fit_svm$finalModel"
   ]
  },
  {
   "cell_type": "markdown",
   "metadata": {},
   "source": [
    "## knn"
   ]
  },
  {
   "cell_type": "code",
   "execution_count": null,
   "metadata": {
    "collapsed": true
   },
   "outputs": [],
   "source": [
    "#Remove a few sparse and unbalanced fingerprints first\n",
    "trn <- solTrainXtrans[,-nearZeroVar(solTrainXtrans)]\n",
    "set.seed(100)\n",
    "fit_knn <- train(trn,solTrainY,method=\"knn\",\n",
    "                preProc=c(\"center\",\"scale\"),\n",
    "                tuneGrid=data.frame(.k=1:20),\n",
    "                trControl=trainControl(method=\"cv\"))\n",
    "\n",
    "fit_knn"
   ]
  }
 ],
 "metadata": {
  "anaconda-cloud": {},
  "kernelspec": {
   "display_name": "R",
   "language": "R",
   "name": "ir"
  },
  "language_info": {
   "codemirror_mode": "r",
   "file_extension": ".r",
   "mimetype": "text/x-r-source",
   "name": "R",
   "pygments_lexer": "r",
   "version": "3.5.1"
  },
  "toc": {
   "base_numbering": 1,
   "nav_menu": {},
   "number_sections": true,
   "sideBar": true,
   "skip_h1_title": false,
   "title_cell": "Table of Contents",
   "title_sidebar": "Contents",
   "toc_cell": false,
   "toc_position": {},
   "toc_section_display": true,
   "toc_window_display": false
  }
 },
 "nbformat": 4,
 "nbformat_minor": 1
}
