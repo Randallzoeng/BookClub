{
 "cells": [
  {
   "cell_type": "markdown",
   "metadata": {},
   "source": [
    "# Computing\n",
    "## Neural Networks"
   ]
  },
  {
   "cell_type": "code",
   "execution_count": 1,
   "metadata": {
    "scrolled": true
   },
   "outputs": [
    {
     "data": {
      "text/html": [
       "<ol class=list-inline>\n",
       "\t<li>'solTestX'</li>\n",
       "\t<li>'solTestXtrans'</li>\n",
       "\t<li>'solTestY'</li>\n",
       "\t<li>'solTrainX'</li>\n",
       "\t<li>'solTrainXtrans'</li>\n",
       "\t<li>'solTrainY'</li>\n",
       "</ol>\n"
      ],
      "text/latex": [
       "\\begin{enumerate*}\n",
       "\\item 'solTestX'\n",
       "\\item 'solTestXtrans'\n",
       "\\item 'solTestY'\n",
       "\\item 'solTrainX'\n",
       "\\item 'solTrainXtrans'\n",
       "\\item 'solTrainY'\n",
       "\\end{enumerate*}\n"
      ],
      "text/markdown": [
       "1. 'solTestX'\n",
       "2. 'solTestXtrans'\n",
       "3. 'solTestY'\n",
       "4. 'solTrainX'\n",
       "5. 'solTrainXtrans'\n",
       "6. 'solTrainY'\n",
       "\n",
       "\n"
      ],
      "text/plain": [
       "[1] \"solTestX\"       \"solTestXtrans\"  \"solTestY\"       \"solTrainX\"     \n",
       "[5] \"solTrainXtrans\" \"solTrainY\"     "
      ]
     },
     "metadata": {},
     "output_type": "display_data"
    }
   ],
   "source": [
    "library(AppliedPredictiveModeling)\n",
    "data(solubility)\n",
    "ls(pattern=\"^solT\") "
   ]
  },
  {
   "cell_type": "code",
   "execution_count": null,
   "metadata": {
    "scrolled": true
   },
   "outputs": [
    {
     "name": "stderr",
     "output_type": "stream",
     "text": [
      "Warning message:\n",
      "\"executing %dopar% sequentially: no parallel backend registered\""
     ]
    }
   ],
   "source": [
    "library(caret)\n",
    "cor_info <- findCorrelation(cor(solTrainXtrans),cutoff = 0.75)\n",
    "trn <- solTrainXtrans[,-cor_info]\n",
    "vld <- solTestXtrans[,-cor_info]\n",
    "grid_nnet <- expand.grid(.decay = c(0,0.01,0.1),\n",
    "                        .size = c(1:10),\n",
    "                        .bag=F)\n",
    "set.seed(100)\n",
    "fit_nnet <- train(trn,solTrainY,method = \"avNNet\",tuneGrid = grid_nnet,\n",
    "                 preProc=c(\"center\",\"scale\"),linout=T,trace=F,\n",
    "                 MaxNWts=10*(ncol(trn)+1)+10+1,maxit=500)"
   ]
  },
  {
   "cell_type": "code",
   "execution_count": null,
   "metadata": {
    "collapsed": true
   },
   "outputs": [],
   "source": [
    "fit_nnet\n",
    "#str(fit_nnet)"
   ]
  },
  {
   "cell_type": "markdown",
   "metadata": {},
   "source": [
    "```r\n",
    "Model Averaged Neural Network \n",
    "\n",
    "951 samples\n",
    "141 predictors\n",
    "\n",
    "Pre-processing: centered (141), scaled (141) \n",
    "Resampling: Bootstrapped (25 reps) \n",
    "Summary of sample sizes: 951, 951, 951, 951, 951, 951, ... \n",
    "Resampling results across tuning parameters:\n",
    "\n",
    "  decay  size  RMSE       Rsquared   MAE      \n",
    "  0.00    1    0.9955424  0.7699476  0.7670401\n",
    "  0.00    2    0.9547099  0.7828060  0.7324898\n",
    "  0.00    3    0.9416635  0.7889724  0.7197022\n",
    "  0.00    4    0.9264650  0.7970967  0.7030074\n",
    "  0.00    5    0.9171811  0.8028379  0.7046473\n",
    "  0.00    6    0.9312480  0.7986332  0.7095412\n",
    "  0.00    7    0.9747248  0.7834979  0.7421135\n",
    "  0.00    8    0.9947029  0.7771330  0.7559537\n",
    "  0.00    9    0.9636434  0.7864126  0.7365986\n",
    "  0.00   10    0.9301034  0.7986229  0.7119158\n",
    "  0.01    1    0.8945358  0.8118905  0.6840050\n",
    "  0.01    2    0.9064388  0.8052389  0.6836026\n",
    "  0.01    3    0.9099787  0.8046155  0.6897595\n",
    "  0.01    4    0.8972290  0.8116654  0.6727349\n",
    "  0.01    5    0.8996906  0.8126475  0.6761702\n",
    "  0.01    6    0.9304124  0.8022257  0.6980356\n",
    "  0.01    7    0.9382384  0.7991419  0.7057897\n",
    "  0.01    8    0.9591937  0.7916248  0.7233283\n",
    "  0.01    9    0.9395611  0.7974384  0.7065216\n",
    "  0.01   10    0.9117515  0.8075216  0.6839813\n",
    "  0.10    1    0.8958780  0.8127087  0.6823978\n",
    "  0.10    2    0.8707881  0.8214753  0.6481455\n",
    "  0.10    3    0.8849724  0.8167081  0.6580296\n",
    "  0.10    4    0.8623766  0.8272370  0.6409592\n",
    "  0.10    5    0.8494817  0.8319133  0.6331638\n",
    "  0.10    6    0.8457109  0.8336080  0.6296669\n",
    "  0.10    7    0.8232901  0.8418262  0.6100769\n",
    "  0.10    8    0.8291762  0.8399375  0.6140528\n",
    "  0.10    9    0.8277838  0.8397256  0.6149164\n",
    "  0.10   10    0.8223222  0.8414366  0.6084166\n",
    "\n",
    "Tuning parameter 'bag' was held constant at a value of FALSE\n",
    "RMSE was used to select the optimal model using the smallest value.\n",
    "The final values used for the model were size = 10, decay = 0.1 and bag\n",
    " = FALSE.\n",
    "```"
   ]
  },
  {
   "cell_type": "code",
   "execution_count": 42,
   "metadata": {
    "collapsed": true
   },
   "outputs": [],
   "source": [
    "library(nnet)\n",
    "fit_nnet <- nnet(trn,solTrainY,size=1,decay = 0.01,linout = T,trace = F,maxit = 500,MaxNWts =1*(ncol(trn)+1)+1+1)"
   ]
  },
  {
   "cell_type": "code",
   "execution_count": 45,
   "metadata": {},
   "outputs": [
    {
     "data": {
      "text/html": [
       "0.644660276535111"
      ],
      "text/latex": [
       "0.644660276535111"
      ],
      "text/markdown": [
       "0.644660276535111"
      ],
      "text/plain": [
       "[1] 0.6446603"
      ]
     },
     "metadata": {},
     "output_type": "display_data"
    }
   ],
   "source": [
    "RMSE(pred = fit_nnet$fitted.values,obs = solTrainY)"
   ]
  },
  {
   "cell_type": "markdown",
   "metadata": {},
   "source": [
    "## MARS"
   ]
  },
  {
   "cell_type": "code",
   "execution_count": 4,
   "metadata": {
    "scrolled": true
   },
   "outputs": [
    {
     "data": {
      "text/plain": [
       "Selected 40 of 47 terms, and 31 of 228 predictors\n",
       "Termination condition: RSq changed by less than 0.001 at 47 terms\n",
       "Importance: NumNonHAtoms, SurfaceArea2, MolWeight, SurfaceArea1, FP142, ...\n",
       "Number of terms at each degree of interaction: 1 39 (additive model)\n",
       "GCV 0.3873018    RSS 309.672    GRSq 0.9076346    RSq 0.9221793"
      ]
     },
     "metadata": {},
     "output_type": "display_data"
    },
    {
     "data": {
      "text/plain": [
       "Call: earth(x=solTrainXtrans, y=solTrainY)\n",
       "\n",
       "                                coefficients\n",
       "(Intercept)                        -4.455949\n",
       "FP002                               0.733904\n",
       "FP003                              -0.203502\n",
       "FP059                              -0.613495\n",
       "FP065                              -0.278610\n",
       "FP075                               0.295269\n",
       "FP083                              -0.563202\n",
       "FP085                              -0.193880\n",
       "FP099                               0.337591\n",
       "FP111                              -0.428246\n",
       "FP135                               0.405277\n",
       "FP142                               0.397119\n",
       "FP154                              -0.597650\n",
       "FP172                              -0.527362\n",
       "FP176                               0.294774\n",
       "FP188                               0.407757\n",
       "FP202                               0.279390\n",
       "FP204                              -0.336720\n",
       "FP207                               0.424005\n",
       "h(MolWeight-5.77157)               -1.964915\n",
       "h(5.94458-MolWeight)                0.686131\n",
       "h(2.99573-NumNonHAtoms)             2.755144\n",
       "h(NumNonHAtoms-2.99573)            -3.517132\n",
       "h(2.57858-NumNonHBonds)            -0.647484\n",
       "h(0.79877-NumMultBonds)            -0.501790\n",
       "h(2.19722-NumRotBonds)              0.120247\n",
       "h(NumRotBonds-2.19722)             -2.709055\n",
       "h(0.941208-NumDblBonds)             0.501773\n",
       "h(2.48491-NumAromaticBonds)         0.492052\n",
       "h(NumAromaticBonds-2.48491)        -2.811877\n",
       "h(0.584815-NumNitrogen)            -1.593633\n",
       "h(NumNitrogen-0.584815)             9.162309\n",
       "h(1.38629-NumOxygen)               -0.730829\n",
       "h(NumOxygen-1.38629)                3.358142\n",
       "h(NumChlorine-0.46875)            -51.880014\n",
       "h(-0.816625-HydrophilicFactor)     -0.374411\n",
       "h(HydrophilicFactor- -0.816625)     0.196559\n",
       "h(SurfaceArea1-1.9554)              0.148552\n",
       "h(4.66178-SurfaceArea2)            -0.158472\n",
       "h(SurfaceArea2-4.66178)            -0.168509\n",
       "\n",
       "Selected 40 of 47 terms, and 31 of 228 predictors\n",
       "Termination condition: RSq changed by less than 0.001 at 47 terms\n",
       "Importance: NumNonHAtoms, SurfaceArea2, MolWeight, SurfaceArea1, FP142, ...\n",
       "Number of terms at each degree of interaction: 1 39 (additive model)\n",
       "GCV 0.3873018    RSS 309.672    GRSq 0.9076346    RSq 0.9221793"
      ]
     },
     "metadata": {},
     "output_type": "display_data"
    },
    {
     "name": "stdout",
     "output_type": "stream",
     "text": [
      " plotmo grid:    FP001 FP002 FP003 FP004 FP005 FP006 FP007 FP008 FP009 FP010\n",
      "                     0     1     0     1     1     0     0     0     0     0\n",
      " FP011 FP012 FP013 FP014 FP015 FP016 FP017 FP018 FP019 FP020 FP021 FP022 FP023\n",
      "     0     0     0     0     1     0     0     0     0     0     0     0     0\n",
      " FP024 FP025 FP026 FP027 FP028 FP029 FP030 FP031 FP032 FP033 FP034 FP035 FP036\n",
      "     0     0     0     0     0     0     0     0     0     0     0     0     0\n",
      " FP037 FP038 FP039 FP040 FP041 FP042 FP043 FP044 FP045 FP046 FP047 FP048 FP049\n",
      "     0     0     0     0     0     0     0     0     0     0     0     0     0\n",
      " FP050 FP051 FP052 FP053 FP054 FP055 FP056 FP057 FP058 FP059 FP060 FP061 FP062\n",
      "     0     0     0     0     0     0     0     0     0     0     0     0     0\n",
      " FP063 FP064 FP065 FP066 FP067 FP068 FP069 FP070 FP071 FP072 FP073 FP074 FP075\n",
      "     0     0     1     1     0     0     0     0     0     1     0     0     0\n",
      " FP076 FP077 FP078 FP079 FP080 FP081 FP082 FP083 FP084 FP085 FP086 FP087 FP088\n",
      "     0     0     0     1     0     0     1     0     0     0     0     1     0\n",
      " FP089 FP090 FP091 FP092 FP093 FP094 FP095 FP096 FP097 FP098 FP099 FP100 FP101\n",
      "     0     0     0     0     0     0     0     0     0     0     0     0     0\n",
      " FP102 FP103 FP104 FP105 FP106 FP107 FP108 FP109 FP110 FP111 FP112 FP113 FP114\n",
      "     0     0     0     0     0     0     0     0     0     0     0     0     0\n",
      " FP115 FP116 FP117 FP118 FP119 FP120 FP121 FP122 FP123 FP124 FP125 FP126 FP127\n",
      "     0     0     0     0     0     0     0     0     0     0     0     0     0\n",
      " FP128 FP129 FP130 FP131 FP132 FP133 FP134 FP135 FP136 FP137 FP138 FP139 FP140\n",
      "     0     0     0     0     0     0     0     0     0     0     0     0     0\n",
      " FP141 FP142 FP143 FP144 FP145 FP146 FP147 FP148 FP149 FP150 FP151 FP152 FP153\n",
      "     0     0     0     0     0     0     0     0     0     0     0     0     0\n",
      " FP154 FP155 FP156 FP157 FP158 FP159 FP160 FP161 FP162 FP163 FP164 FP165 FP166\n",
      "     0     0     0     0     0     0     0     0     0     0     1     0     0\n",
      " FP167 FP168 FP169 FP170 FP171 FP172 FP173 FP174 FP175 FP176 FP177 FP178 FP179\n",
      "     0     1     0     0     0     0     0     0     0     0     0     0     0\n",
      " FP180 FP181 FP182 FP183 FP184 FP185 FP186 FP187 FP188 FP189 FP190 FP191 FP192\n",
      "     0     0     0     0     0     0     0     0     0     0     0     0     0\n",
      " FP193 FP194 FP195 FP196 FP197 FP198 FP199 FP200 FP201 FP202 FP203 FP204 FP205\n",
      "     0     0     0     0     0     0     0     0     0     0     0     0     0\n",
      " FP206 FP207 FP208 MolWeight NumAtoms NumNonHAtoms NumBonds NumNonHBonds\n",
      "     0     0     0  5.194234 3.135494     2.564949 3.178054     3.351388\n",
      " NumMultBonds NumRotBonds NumDblBonds NumAromaticBonds NumHydrogen NumCarbon\n",
      "     2.944766    1.098612   0.5670767          1.94591    3.691453  3.317541\n",
      " NumNitrogen NumOxygen NumSulfer NumChlorine NumHalogen  NumRings\n",
      "           0 0.6931472         0           0          0 0.6931472\n",
      " HydrophilicFactor SurfaceArea1 SurfaceArea2\n",
      "        -0.3630242      7.25813     7.759912\n"
     ]
    },
    {
     "data": {
      "image/png": "[encoded data removed]",
      "text/plain": [
       "Plot with title \"31  SrfcAr2\""
      ]
     },
     "metadata": {},
     "output_type": "display_data"
    }
   ],
   "source": [
    "library(earth)\n",
    "fit_mars <- earth(solTrainXtrans,solTrainY)\n",
    "fit_mars\n",
    "summary(fit_mars)\n",
    "plotmo(fit_mars)"
   ]
  },
  {
   "cell_type": "code",
   "execution_count": 9,
   "metadata": {},
   "outputs": [
    {
     "data": {
      "text/plain": [
       "Multivariate Adaptive Regression Spline \n",
       "\n",
       "951 samples\n",
       "228 predictors\n",
       "\n",
       "No pre-processing\n",
       "Resampling: Cross-Validated (10 fold) \n",
       "Summary of sample sizes: 856, 856, 855, 855, 857, 856, ... \n",
       "Resampling results across tuning parameters:\n",
       "\n",
       "  degree  nprune  RMSE       Rsquared   MAE      \n",
       "  1        2      1.5610000  0.4198695  1.1947358\n",
       "  1        3      1.0734760  0.7254086  0.8215423\n",
       "  1        4      0.9865814  0.7648470  0.7598549\n",
       "  1        5      0.9107653  0.7992922  0.7060994\n",
       "  1        6      0.8843640  0.8119566  0.6828926\n",
       "  1        7      0.8504298  0.8276453  0.6625704\n",
       "  1        8      0.8394580  0.8324576  0.6511954\n",
       "  1        9      0.8476625  0.8290399  0.6542765\n",
       "  1       10      0.8369444  0.8322989  0.6466129\n",
       "  1       11      0.8247644  0.8365905  0.6370129\n",
       "  1       12      0.8220283  0.8385922  0.6330253\n",
       "  1       13      0.8019738  0.8454965  0.6148967\n",
       "  1       14      0.8011014  0.8463156  0.6130984\n",
       "  1       15      0.7771126  0.8542163  0.5927403\n",
       "  1       16      0.7751971  0.8552907  0.5874717\n",
       "  1       17      0.7611348  0.8611686  0.5754540\n",
       "  1       18      0.7641831  0.8598134  0.5761603\n",
       "  1       19      0.7568118  0.8626007  0.5753881\n",
       "  1       20      0.7510054  0.8638166  0.5700901\n",
       "  1       21      0.7401506  0.8681357  0.5632192\n",
       "  1       22      0.7381439  0.8691587  0.5603074\n",
       "  1       23      0.7323371  0.8717794  0.5563997\n",
       "  1       24      0.7298182  0.8730980  0.5529977\n",
       "  1       25      0.7251940  0.8747794  0.5498593\n",
       "  1       26      0.7206104  0.8765653  0.5473801\n",
       "  1       27      0.7131833  0.8788577  0.5417514\n",
       "  1       28      0.7106246  0.8798295  0.5394047\n",
       "  1       29      0.7040041  0.8823640  0.5367218\n",
       "  1       30      0.6974296  0.8847435  0.5312363\n",
       "  1       31      0.6932285  0.8859813  0.5275455\n",
       "  1       32      0.6931796  0.8859978  0.5282015\n",
       "  1       33      0.6926030  0.8862509  0.5289830\n",
       "  1       34      0.6952915  0.8852935  0.5298165\n",
       "  1       35      0.6945886  0.8853776  0.5313983\n",
       "  1       36      0.6928603  0.8858856  0.5298756\n",
       "  1       37      0.6940250  0.8855136  0.5297666\n",
       "  1       38      0.6949774  0.8853922  0.5286863\n",
       "  2        2      1.5294456  0.4428165  1.1620006\n",
       "  2        3      1.0824110  0.7182268  0.8327356\n",
       "  2        4      0.9635129  0.7755826  0.7419396\n",
       "  2        5      0.9326426  0.7919603  0.7207043\n",
       "  2        6      0.8876220  0.8130326  0.6933585\n",
       "  2        7      0.8568361  0.8263646  0.6647096\n",
       "  2        8      0.8343347  0.8349612  0.6473280\n",
       "  2        9      0.8174303  0.8413913  0.6385744\n",
       "  2       10      0.8053626  0.8466863  0.6240000\n",
       "  2       11      0.7906879  0.8532855  0.6037071\n",
       "  2       12      0.7746707  0.8583083  0.5904410\n",
       "  2       13      0.7451998  0.8680184  0.5697216\n",
       "  2       14      0.7470659  0.8683187  0.5652023\n",
       "  2       15      0.7435108  0.8696248  0.5616912\n",
       "  2       16      0.7386976  0.8714857  0.5582901\n",
       "  2       17      0.7248454  0.8753663  0.5515617\n",
       "  2       18      0.7161189  0.8783892  0.5436415\n",
       "  2       19      0.7036595  0.8823548  0.5352193\n",
       "  2       20      0.7038186  0.8823773  0.5358679\n",
       "  2       21      0.6986580  0.8841902  0.5292946\n",
       "  2       22      0.6936736  0.8854019  0.5262011\n",
       "  2       23      0.6834969  0.8888911  0.5201045\n",
       "  2       24      0.6781212  0.8903521  0.5181958\n",
       "  2       25      0.6781055  0.8902211  0.5163554\n",
       "  2       26      0.6858068  0.8880634  0.5207174\n",
       "  2       27      0.6848345  0.8881663  0.5182841\n",
       "  2       28      0.6831544  0.8886950  0.5182638\n",
       "  2       29      0.6849774  0.8881752  0.5190938\n",
       "  2       30      0.6875198  0.8874389  0.5194013\n",
       "  2       31      0.6864758  0.8876123  0.5172825\n",
       "  2       32      0.6859059  0.8878606  0.5164093\n",
       "  2       33      0.6884654  0.8871129  0.5174294\n",
       "  2       34      0.6895076  0.8867614  0.5175885\n",
       "  2       35      0.6871810  0.8875719  0.5141811\n",
       "  2       36      0.6873497  0.8875659  0.5148676\n",
       "  2       37      0.6873497  0.8875659  0.5148676\n",
       "  2       38      0.6873497  0.8875659  0.5148676\n",
       "\n",
       "RMSE was used to select the optimal model using the smallest value.\n",
       "The final values used for the model were nprune = 25 and degree = 2."
      ]
     },
     "metadata": {},
     "output_type": "display_data"
    }
   ],
   "source": [
    "#caret wrapper\n",
    "grid_mars <- expand.grid(.degree=1:2,.nprune=2:38)\n",
    "set.seed(100)\n",
    "fit_mars <- train(solTrainXtrans,solTrainY,\n",
    "                 method=\"earth\",tuneGrid=grid_mars,trControl=trainControl(method=\"cv\"))\n",
    "fit_mars"
   ]
  },
  {
   "cell_type": "code",
   "execution_count": 12,
   "metadata": {},
   "outputs": [
    {
     "data": {
      "text/html": [
       "<table>\n",
       "<thead><tr><th scope=col>.degree</th><th scope=col>.nprune</th></tr></thead>\n",
       "<tbody>\n",
       "\t<tr><td>1</td><td>2</td></tr>\n",
       "\t<tr><td>2</td><td>2</td></tr>\n",
       "\t<tr><td>1</td><td>3</td></tr>\n",
       "\t<tr><td>2</td><td>3</td></tr>\n",
       "\t<tr><td>1</td><td>4</td></tr>\n",
       "\t<tr><td>2</td><td>4</td></tr>\n",
       "</tbody>\n",
       "</table>\n"
      ],
      "text/latex": [
       "\\begin{tabular}{r|ll}\n",
       " .degree & .nprune\\\\\n",
       "\\hline\n",
       "\t 1 & 2\\\\\n",
       "\t 2 & 2\\\\\n",
       "\t 1 & 3\\\\\n",
       "\t 2 & 3\\\\\n",
       "\t 1 & 4\\\\\n",
       "\t 2 & 4\\\\\n",
       "\\end{tabular}\n"
      ],
      "text/markdown": [
       "\n",
       ".degree | .nprune | \n",
       "|---|---|---|---|---|---|\n",
       "| 1 | 2 | \n",
       "| 2 | 2 | \n",
       "| 1 | 3 | \n",
       "| 2 | 3 | \n",
       "| 1 | 4 | \n",
       "| 2 | 4 | \n",
       "\n",
       "\n"
      ],
      "text/plain": [
       "  .degree .nprune\n",
       "1 1       2      \n",
       "2 2       2      \n",
       "3 1       3      \n",
       "4 2       3      \n",
       "5 1       4      \n",
       "6 2       4      "
      ]
     },
     "metadata": {},
     "output_type": "display_data"
    }
   ],
   "source": [
    "head(grid_mars)"
   ]
  },
  {
   "cell_type": "code",
   "execution_count": 14,
   "metadata": {},
   "outputs": [
    {
     "data": {
      "text/html": [
       "<table>\n",
       "<thead><tr><th scope=col>y</th></tr></thead>\n",
       "<tbody>\n",
       "\t<tr><td> 0.1039606</td></tr>\n",
       "\t<tr><td> 0.1947099</td></tr>\n",
       "\t<tr><td>-0.5955380</td></tr>\n",
       "\t<tr><td>-0.1009029</td></tr>\n",
       "\t<tr><td>-0.3673199</td></tr>\n",
       "\t<tr><td> 0.5485541</td></tr>\n",
       "</tbody>\n",
       "</table>\n"
      ],
      "text/latex": [
       "\\begin{tabular}{l}\n",
       " y\\\\\n",
       "\\hline\n",
       "\t  0.1039606\\\\\n",
       "\t  0.1947099\\\\\n",
       "\t -0.5955380\\\\\n",
       "\t -0.1009029\\\\\n",
       "\t -0.3673199\\\\\n",
       "\t  0.5485541\\\\\n",
       "\\end{tabular}\n"
      ],
      "text/markdown": [
       "\n",
       "y | \n",
       "|---|---|---|---|---|---|\n",
       "|  0.1039606 | \n",
       "|  0.1947099 | \n",
       "| -0.5955380 | \n",
       "| -0.1009029 | \n",
       "| -0.3673199 | \n",
       "|  0.5485541 | \n",
       "\n",
       "\n"
      ],
      "text/plain": [
       "     y         \n",
       "[1,]  0.1039606\n",
       "[2,]  0.1947099\n",
       "[3,] -0.5955380\n",
       "[4,] -0.1009029\n",
       "[5,] -0.3673199\n",
       "[6,]  0.5485541"
      ]
     },
     "metadata": {},
     "output_type": "display_data"
    }
   ],
   "source": [
    "head(predict(fit_mars,solTestXtrans))"
   ]
  },
  {
   "cell_type": "code",
   "execution_count": 15,
   "metadata": {},
   "outputs": [
    {
     "data": {
      "text/plain": [
       "earth variable importance\n",
       "\n",
       "  only 20 most important variables shown (out of 228)\n",
       "\n",
       "                 Overall\n",
       "MolWeight        100.000\n",
       "NumNonHAtoms      92.063\n",
       "SurfaceArea1      92.063\n",
       "FP137             48.333\n",
       "NumHydrogen       37.844\n",
       "NumRotBonds       35.609\n",
       "NumOxygen         29.112\n",
       "FP043             23.458\n",
       "FP040             22.969\n",
       "SurfaceArea2      22.663\n",
       "FP101             19.136\n",
       "FP021             15.246\n",
       "NumMultBonds      15.246\n",
       "FP170              9.798\n",
       "FP059              8.194\n",
       "NumAromaticBonds   4.292\n",
       "FP070              0.000\n",
       "FP029              0.000\n",
       "FP147              0.000\n",
       "FP189              0.000"
      ]
     },
     "metadata": {},
     "output_type": "display_data"
    }
   ],
   "source": [
    "varImp(fit_mars)\n",
    "plot(varImp(fit_mars))"
   ]
  },
  {
   "cell_type": "markdown",
   "metadata": {},
   "source": [
    "## SVM"
   ]
  },
  {
   "cell_type": "code",
   "execution_count": 33,
   "metadata": {},
   "outputs": [
    {
     "data": {
      "text/html": [
       "'data.frame'"
      ],
      "text/latex": [
       "'data.frame'"
      ],
      "text/markdown": [
       "'data.frame'"
      ],
      "text/plain": [
       "[1] \"data.frame\""
      ]
     },
     "metadata": {},
     "output_type": "display_data"
    },
    {
     "data": {
      "text/html": [
       "'numeric'"
      ],
      "text/latex": [
       "'numeric'"
      ],
      "text/markdown": [
       "'numeric'"
      ],
      "text/plain": [
       "[1] \"numeric\""
      ]
     },
     "metadata": {},
     "output_type": "display_data"
    }
   ],
   "source": [
    "class(solTrainXtrans)\n",
    "class(solTrainY)"
   ]
  },
  {
   "cell_type": "code",
   "execution_count": 34,
   "metadata": {},
   "outputs": [
    {
     "data": {
      "text/plain": [
       "Support Vector Machine object of class \"ksvm\" \n",
       "\n",
       "SV type: eps-svr  (regression) \n",
       " parameter : epsilon = 0.1  cost C = 1 \n",
       "\n",
       "Gaussian Radial Basis kernel function. \n",
       " Hyperparameter : sigma =  0.00267110649668625 \n",
       "\n",
       "Number of Support Vectors : 670 \n",
       "\n",
       "Objective Function Value : -126.7081 \n",
       "Training error : 0.042511 "
      ]
     },
     "metadata": {},
     "output_type": "display_data"
    }
   ],
   "source": [
    "library(kernlab)\n",
    "fit_svm <- ksvm(x = as.matrix(solTrainXtrans), y = solTrainY, kernel =\"rbfdot\", \n",
    "                kpar=\"automatic\",C = 1, epsilon = 0.1)\n",
    "fit_svm\n",
    "#kernel = \"polydot \"多项式核函数\n",
    "#kernel = \"vanilladot \" 线性核函数"
   ]
  },
  {
   "cell_type": "code",
   "execution_count": 25,
   "metadata": {},
   "outputs": [
    {
     "data": {
      "text/plain": [
       "Support Vector Machine object of class \"ksvm\" \n",
       "\n",
       "SV type: eps-svr  (regression) \n",
       " parameter : epsilon = 0.1  cost C = 128 \n",
       "\n",
       "Gaussian Radial Basis kernel function. \n",
       " Hyperparameter : sigma =  0.0026629721069908 \n",
       "\n",
       "Number of Support Vectors : 633 \n",
       "\n",
       "Objective Function Value : -736.3582 \n",
       "Training error : 0.009316 "
      ]
     },
     "metadata": {},
     "output_type": "display_data"
    }
   ],
   "source": [
    "fit_svm <- train(solTrainXtrans,solTrainY,method=\"svmRadial\",\n",
    "                preProc=c(\"center\",\"scale\"),tuneLength=14,trControl=trainControl(method=\"cv\"))\n",
    "fit_svm$finalModel"
   ]
  },
  {
   "cell_type": "markdown",
   "metadata": {},
   "source": [
    "## knn"
   ]
  },
  {
   "cell_type": "code",
   "execution_count": 27,
   "metadata": {},
   "outputs": [
    {
     "data": {
      "text/plain": [
       "k-Nearest Neighbors \n",
       "\n",
       "951 samples\n",
       "225 predictors\n",
       "\n",
       "Pre-processing: centered (225), scaled (225) \n",
       "Resampling: Cross-Validated (10 fold) \n",
       "Summary of sample sizes: 856, 856, 855, 855, 857, 856, ... \n",
       "Resampling results across tuning parameters:\n",
       "\n",
       "  k   RMSE      Rsquared   MAE      \n",
       "   1  1.250232  0.6611312  0.9165221\n",
       "   2  1.103952  0.7197662  0.7988127\n",
       "   3  1.065688  0.7350824  0.7903996\n",
       "   4  1.043534  0.7449116  0.7860586\n",
       "   5  1.049529  0.7409384  0.7889923\n",
       "   6  1.058417  0.7359120  0.7986353\n",
       "   7  1.060938  0.7331595  0.7980003\n",
       "   8  1.055874  0.7358010  0.7974424\n",
       "   9  1.065884  0.7311823  0.8082185\n",
       "  10  1.070847  0.7286249  0.8134830\n",
       "  11  1.069596  0.7302802  0.8124852\n",
       "  12  1.076953  0.7269775  0.8202945\n",
       "  13  1.088453  0.7204797  0.8318907\n",
       "  14  1.093359  0.7181335  0.8380720\n",
       "  15  1.100073  0.7149682  0.8461514\n",
       "  16  1.104751  0.7127331  0.8533856\n",
       "  17  1.109370  0.7101825  0.8581988\n",
       "  18  1.119957  0.7059283  0.8669092\n",
       "  19  1.127248  0.7024141  0.8742935\n",
       "  20  1.132476  0.6998827  0.8761286\n",
       "\n",
       "RMSE was used to select the optimal model using the smallest value.\n",
       "The final value used for the model was k = 4."
      ]
     },
     "metadata": {},
     "output_type": "display_data"
    }
   ],
   "source": [
    "#Remove a few sparse and unbalanced fingerprints first\n",
    "trn <- solTrainXtrans[,-nearZeroVar(solTrainXtrans)]\n",
    "set.seed(100)\n",
    "fit_knn <- train(trn,solTrainY,method=\"knn\",\n",
    "                preProc=c(\"center\",\"scale\"),\n",
    "                tuneGrid=data.frame(.k=1:20),\n",
    "                trControl=trainControl(method=\"cv\"))\n",
    "\n",
    "fit_knn"
   ]
  }
 ],
 "metadata": {
  "anaconda-cloud": {},
  "kernelspec": {
   "display_name": "R",
   "language": "R",
   "name": "ir"
  },
  "language_info": {
   "codemirror_mode": "r",
   "file_extension": ".r",
   "mimetype": "text/x-r-source",
   "name": "R",
   "pygments_lexer": "r",
   "version": "3.4.3"
  },
  "latex_envs": {
   "LaTeX_envs_menu_present": true,
   "autocomplete": true,
   "bibliofile": "biblio.bib",
   "cite_by": "apalike",
   "current_citInitial": 1,
   "eqLabelWithNumbers": true,
   "eqNumInitial": 1,
   "hotkeys": {
    "equation": "Ctrl-E",
    "itemize": "Ctrl-I"
   },
   "labels_anchors": false,
   "latex_user_defs": false,
   "report_style_numbering": false,
   "user_envs_cfg": false
  },
  "toc": {
   "nav_menu": {},
   "number_sections": true,
   "sideBar": true,
   "skip_h1_title": false,
   "toc_cell": false,
   "toc_position": {},
   "toc_section_display": true,
   "toc_window_display": false
  }
 },
 "nbformat": 4,
 "nbformat_minor": 1
}
