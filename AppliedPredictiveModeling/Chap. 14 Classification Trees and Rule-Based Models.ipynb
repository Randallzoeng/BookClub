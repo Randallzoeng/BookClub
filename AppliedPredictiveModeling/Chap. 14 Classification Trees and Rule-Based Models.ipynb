{
 "cells": [
  {
   "cell_type": "markdown",
   "metadata": {
    "scrolled": true
   },
   "source": [
    "`Basic Classification Trees`"
   ]
  },
  {
   "cell_type": "markdown",
   "metadata": {},
   "source": [
    "When fitting trees and rule-based models, the practitioner must `make a choice` regarding the treatment of categorical predictor data:\n",
    "1. Each categorical predictor can be entered into the model as a single entity so that the model decides how to group or split the values. In the text, this  will be referred to as using grouped categories.\n",
    "2. Categorical predictors are first decomposed into binary dummy variables. In this way, the resulting dummy variables are considered independently, forcing binary splits for the categories. In effect, splitting on a binary dummy variable prior to modeling imposes a “one-versus-all” split of the categories. This approach will be labelled as using independent categories.\n",
    "\n"
   ]
  },
  {
   "cell_type": "code",
   "execution_count": 5,
   "metadata": {},
   "outputs": [],
   "source": [
    "rm(list=ls())"
   ]
  },
  {
   "cell_type": "code",
   "execution_count": 126,
   "metadata": {
    "scrolled": false
   },
   "outputs": [
    {
     "data": {
      "text/html": [
       "'English_United States.1252'"
      ],
      "text/latex": [
       "'English\\_United States.1252'"
      ],
      "text/markdown": [
       "'English_United States.1252'"
      ],
      "text/plain": [
       "[1] \"English_United States.1252\""
      ]
     },
     "metadata": {},
     "output_type": "display_data"
    }
   ],
   "source": [
    "# Sys.setlocale(\"LC_TIME\", \"English\")\n",
    "# library(parallel)\n",
    "# setDefaultCluster(makeCluster(4))\n",
    "# source(\"CreateGrantData_modified - copy.R\")\n",
    "# colnames(training)[1540:1542] <- c(\"SponsorCode\", \"ContractValueBand\", \"GrantCategoryCode\")\n",
    "# colnames(testing)[1540:1542] <- c(\"SponsorCode\", \"ContractValueBand\", \"GrantCategoryCode\")\n",
    "# fullSet[1540:1542] <- c(\"SponsorCode\", \"ContractValueBand\", \"GrantCategoryCode\")\n",
    "# save(training,testing,pre2008,fullSet,file = \"grant_Data_chp14.Rdata\")"
   ]
  },
  {
   "cell_type": "code",
   "execution_count": 9,
   "metadata": {},
   "outputs": [],
   "source": [
    "load(\"grant_Data_chp14use.Rdata\")"
   ]
  },
  {
   "cell_type": "code",
   "execution_count": 141,
   "metadata": {},
   "outputs": [],
   "source": [
    "fit_dummy <- dummyVars(~., data = training[,c(1:1545)], levelsOnly = TRUE)\n",
    "training_factor <- as.data.frame(predict(fit_dummy, training[,c(1:1545)]))\n",
    "trn <- cbind(training_factor,training$Class)\n",
    "colnames(trn)[1889] <- c(\"Class\")"
   ]
  },
  {
   "cell_type": "code",
   "execution_count": 144,
   "metadata": {},
   "outputs": [],
   "source": [
    "fullSet <- names(training)[names(training) != \"Class\"]\n",
    "factorPredictors <- names(trn)[names(trn) != \"Class\"]"
   ]
  },
  {
   "cell_type": "markdown",
   "metadata": {},
   "source": [
    "&#X1F6A9;\n",
    "```r\n",
    "library(caret)\n",
    "ctrl <- trainControl(\n",
    "                     method=\"LGOCV\",\n",
    "                    summaryFunction=twoClassSummary,\n",
    "                    classProbs=T,\n",
    "                    index=list(TrainSet=pre2008),\n",
    "                    savePredictions=T)\n",
    "```"
   ]
  },
  {
   "cell_type": "code",
   "execution_count": 150,
   "metadata": {},
   "outputs": [
    {
     "data": {
      "text/plain": [
       "CART \n",
       "\n",
       "8190 samples\n",
       "1545 predictors\n",
       "   2 classes: 'successful', 'unsuccessful' \n",
       "\n",
       "No pre-processing\n",
       "Resampling: Repeated Train/Test Splits Estimated (1 reps, 75%) \n",
       "Summary of sample sizes: 6633 \n",
       "Resampling results across tuning parameters:\n",
       "\n",
       "  cp            ROC        Sens       Spec     \n",
       "  0.0001753002  0.9009350  0.7350877  0.8703141\n",
       "  0.0002103602  0.9009350  0.7350877  0.8703141\n",
       "  0.0002629503  0.9009350  0.7350877  0.8703141\n",
       "  0.0003681304  0.8911881  0.7614035  0.8642351\n",
       "  0.0003756433  0.8911881  0.7614035  0.8642351\n",
       "  0.0003944255  0.8911881  0.7614035  0.8642351\n",
       "  0.0005259006  0.8914271  0.7754386  0.8652482\n",
       "  0.0006573758  0.8947351  0.7947368  0.8662614\n",
       "  0.0007888509  0.8985718  0.8210526  0.8642351\n",
       "  0.0008765010  0.8985718  0.8210526  0.8642351\n",
       "  0.0009203261  0.8985718  0.8210526  0.8642351\n",
       "  0.0010518012  0.8967534  0.8245614  0.8561297\n",
       "  0.0011832764  0.8976368  0.8245614  0.8530902\n",
       "  0.0013147515  0.8942996  0.8368421  0.8470111\n",
       "  0.0014462267  0.8942996  0.8368421  0.8470111\n",
       "  0.0018406521  0.9016637  0.8245614  0.8551165\n",
       "  0.0023665527  0.9020877  0.8245614  0.8581560\n",
       "  0.0024980279  0.9031933  0.8210526  0.8662614\n",
       "  0.0026295030  0.9031933  0.8210526  0.8662614\n",
       "  0.0028924533  0.9098064  0.8122807  0.8723404\n",
       "  0.0039442545  0.8915845  0.8473684  0.8308004\n",
       "  0.0053904812  0.8915845  0.8473684  0.8308004\n",
       "  0.0070996582  0.8915845  0.8473684  0.8308004\n",
       "  0.0076255588  0.9013429  0.8473684  0.8308004\n",
       "  0.0115698133  0.8985158  0.8280702  0.8338399\n",
       "  0.0145937418  0.8985158  0.8280702  0.8338399\n",
       "  0.0318169866  0.9002204  0.8228070  0.8409321\n",
       "  0.0652116750  0.8674834  0.8649123  0.7791287\n",
       "  0.1530370760  0.8165547  0.9877193  0.6453901\n",
       "  0.3933736524  0.8165547  0.9877193  0.6453901\n",
       "\n",
       "ROC was used to select the optimal model using the largest value.\n",
       "The final value used for the model was cp = 0.002892453."
      ]
     },
     "metadata": {},
     "output_type": "display_data"
    }
   ],
   "source": [
    "library(caret)\n",
    "ctrl <- trainControl(\n",
    "                     method=\"LGOCV\",\n",
    "                    summaryFunction=twoClassSummary,\n",
    "                    classProbs=T,\n",
    "                    index=list(TrainSet=pre2008),\n",
    "                    savePredictions=T)\n",
    "set.seed(476)\n",
    "fit_cart <- train(\n",
    "                     x=training[,fullSet],\n",
    "                     y=training$Class,\n",
    "                    method=\"rpart\",\n",
    "                    tuneLength=30,\n",
    "                    metric=\"ROC\",\n",
    "                    trControl=ctrl)\n",
    "fit_cart"
   ]
  },
  {
   "cell_type": "code",
   "execution_count": 24,
   "metadata": {
    "scrolled": true
   },
   "outputs": [],
   "source": [
    "# library(partykit)\n",
    "# plot(as.party(fit_cart$finalModel))"
   ]
  },
  {
   "cell_type": "code",
   "execution_count": 151,
   "metadata": {
    "scrolled": true
   },
   "outputs": [
    {
     "data": {
      "text/plain": [
       "Repeated Train/Test Splits Estimated (1 reps, 75%) Confusion Matrix \n",
       "\n",
       "(entries are un-normalized aggregated counts)\n",
       " \n",
       "Confusion Matrix and Statistics\n",
       "\n",
       "              Reference\n",
       "Prediction     successful unsuccessful\n",
       "  successful          463          126\n",
       "  unsuccessful        107          861\n",
       "                                          \n",
       "               Accuracy : 0.8504          \n",
       "                 95% CI : (0.8317, 0.8677)\n",
       "    No Information Rate : 0.6339          \n",
       "    P-Value [Acc > NIR] : <2e-16          \n",
       "                                          \n",
       "                  Kappa : 0.6798          \n",
       " Mcnemar's Test P-Value : 0.2383          \n",
       "                                          \n",
       "            Sensitivity : 0.8123          \n",
       "            Specificity : 0.8723          \n",
       "         Pos Pred Value : 0.7861          \n",
       "         Neg Pred Value : 0.8895          \n",
       "             Prevalence : 0.3661          \n",
       "         Detection Rate : 0.2974          \n",
       "   Detection Prevalence : 0.3783          \n",
       "      Balanced Accuracy : 0.8423          \n",
       "                                          \n",
       "       'Positive' Class : successful      \n",
       "                                          "
      ]
     },
     "metadata": {},
     "output_type": "display_data"
    }
   ],
   "source": [
    "cm_cart <- confusionMatrix(fit_cart,norm=\"none\")\n",
    "cm_cart"
   ]
  },
  {
   "cell_type": "code",
   "execution_count": 152,
   "metadata": {
    "scrolled": true
   },
   "outputs": [
    {
     "data": {
      "text/plain": [
       "\n",
       "Call:\n",
       "roc.default(response = fit_cart$pred$obs, predictor = fit_cart$pred$successful,     levels = rev(levels(fit_cart$pred$obs)))\n",
       "\n",
       "Data: fit_cart$pred$successful in 29610 controls (fit_cart$pred$obs unsuccessful) < 17100 cases (fit_cart$pred$obs successful).\n",
       "Area under the curve: 0.8856"
      ]
     },
     "metadata": {},
     "output_type": "display_data"
    }
   ],
   "source": [
    "library(pROC)\n",
    "roc_cart <- roc(\n",
    "                response=fit_cart$pred$obs,\n",
    "                predictor=fit_cart$pred$successful,\n",
    "                levels=rev(levels(fit_cart$pred$obs)))\n",
    "roc_cart"
   ]
  },
  {
   "cell_type": "markdown",
   "metadata": {},
   "source": [
    "---"
   ]
  },
  {
   "cell_type": "code",
   "execution_count": 153,
   "metadata": {
    "scrolled": true
   },
   "outputs": [
    {
     "data": {
      "text/plain": [
       "CART \n",
       "\n",
       "8190 samples\n",
       "1888 predictors\n",
       "   2 classes: 'successful', 'unsuccessful' \n",
       "\n",
       "No pre-processing\n",
       "Resampling: Repeated Train/Test Splits Estimated (1 reps, 75%) \n",
       "Summary of sample sizes: 6633 \n",
       "Resampling results across tuning parameters:\n",
       "\n",
       "  cp            ROC        Sens       Spec     \n",
       "  0.0003506004  0.8945191  0.7789474  0.8368794\n",
       "  0.0003944255  0.8945191  0.7789474  0.8368794\n",
       "  0.0005259006  0.8960549  0.8035088  0.8409321\n",
       "  0.0006573758  0.8974600  0.8228070  0.8297872\n",
       "  0.0007888509  0.8972591  0.7929825  0.8389058\n",
       "  0.0008765010  0.8965641  0.8771930  0.8176292\n",
       "  0.0008940310  0.8965641  0.8771930  0.8176292\n",
       "  0.0009203261  0.8965641  0.8771930  0.8176292\n",
       "  0.0010518012  0.8980990  0.8807018  0.8064843\n",
       "  0.0013147515  0.9063616  0.8824561  0.8156028\n",
       "  0.0014462267  0.9103441  0.8438596  0.8480243\n",
       "  0.0015777018  0.9106721  0.8473684  0.8459980\n",
       "  0.0021036024  0.9116461  0.8105263  0.8622087\n",
       "  0.0022350776  0.9116461  0.8105263  0.8622087\n",
       "  0.0023665527  0.9116461  0.8105263  0.8622087\n",
       "  0.0027171531  0.9116461  0.8105263  0.8622087\n",
       "  0.0027609782  0.9116461  0.8105263  0.8622087\n",
       "  0.0028048032  0.9118328  0.8000000  0.8652482\n",
       "  0.0028924533  0.9118328  0.8000000  0.8652482\n",
       "  0.0039442545  0.8828259  0.8859649  0.8105370\n",
       "  0.0042072048  0.8750253  0.8578947  0.8095238\n",
       "  0.0046016303  0.8750253  0.8578947  0.8095238\n",
       "  0.0052590060  0.8738024  0.8578947  0.8095238\n",
       "  0.0073626085  0.8842381  0.8368421  0.8125633\n",
       "  0.0113068630  0.8842381  0.8368421  0.8125633\n",
       "  0.0210360242  0.8711362  0.9473684  0.7274569\n",
       "  0.0227452012  0.8711362  0.9473684  0.7274569\n",
       "  0.0465422035  0.8497743  0.9438596  0.7345491\n",
       "  0.0715224823  0.8516966  0.9438596  0.7375887\n",
       "  0.3870628451  0.8147630  0.9912281  0.6382979\n",
       "\n",
       "ROC was used to select the optimal model using the largest value.\n",
       "The final value used for the model was cp = 0.002892453."
      ]
     },
     "metadata": {},
     "output_type": "display_data"
    }
   ],
   "source": [
    "set.seed(476)\n",
    "fit_cart_factor <- train(,\n",
    "                         x=trn[,factorPredictors],\n",
    "                         y=trn$Class,\n",
    "                        method=\"rpart\",\n",
    "                        tuneLength=30,\n",
    "                        metric=\"ROC\",\n",
    "                        trControl=ctrl)\n",
    "fit_cart_factor"
   ]
  },
  {
   "cell_type": "code",
   "execution_count": 154,
   "metadata": {
    "scrolled": true
   },
   "outputs": [
    {
     "data": {
      "text/plain": [
       "Repeated Train/Test Splits Estimated (1 reps, 75%) Confusion Matrix \n",
       "\n",
       "(entries are un-normalized aggregated counts)\n",
       " \n",
       "Confusion Matrix and Statistics\n",
       "\n",
       "              Reference\n",
       "Prediction     successful unsuccessful\n",
       "  successful          456          133\n",
       "  unsuccessful        114          854\n",
       "                                          \n",
       "               Accuracy : 0.8414          \n",
       "                 95% CI : (0.8223, 0.8592)\n",
       "    No Information Rate : 0.6339          \n",
       "    P-Value [Acc > NIR] : <2e-16          \n",
       "                                          \n",
       "                  Kappa : 0.6606          \n",
       " Mcnemar's Test P-Value : 0.2521          \n",
       "                                          \n",
       "            Sensitivity : 0.8000          \n",
       "            Specificity : 0.8652          \n",
       "         Pos Pred Value : 0.7742          \n",
       "         Neg Pred Value : 0.8822          \n",
       "             Prevalence : 0.3661          \n",
       "         Detection Rate : 0.2929          \n",
       "   Detection Prevalence : 0.3783          \n",
       "      Balanced Accuracy : 0.8326          \n",
       "                                          \n",
       "       'Positive' Class : successful      \n",
       "                                          "
      ]
     },
     "metadata": {},
     "output_type": "display_data"
    }
   ],
   "source": [
    "cm_cart_factor <- confusionMatrix(fit_cart_factor,norm=\"none\")\n",
    "cm_cart_factor"
   ]
  },
  {
   "cell_type": "code",
   "execution_count": 155,
   "metadata": {
    "scrolled": true
   },
   "outputs": [
    {
     "data": {
      "text/plain": [
       "\n",
       "Call:\n",
       "roc.default(response = fit_cart_factor$pred$obs, predictor = fit_cart_factor$pred$successful,     controls = levels - rev(levels(fit_cart_factor$pred$obs)))\n",
       "\n",
       "Data: fit_cart_factor$pred$successful in 17100 controls (fit_cart_factor$pred$obs successful) > 29610 cases (fit_cart_factor$pred$obs unsuccessful).\n",
       "Area under the curve: 0.8915"
      ]
     },
     "metadata": {},
     "output_type": "display_data"
    }
   ],
   "source": [
    "roc_cart_factor <- roc(response = fit_cart_factor$pred$obs,\n",
    "                      predictor=fit_cart_factor$pred$successful,\n",
    "                      levels-rev(levels(fit_cart_factor$pred$obs)))\n",
    "roc_cart_factor"
   ]
  },
  {
   "cell_type": "code",
   "execution_count": 156,
   "metadata": {
    "scrolled": true
   },
   "outputs": [
    {
     "data": {
      "image/png": "[encoded data removed]",
      "text/plain": [
       "plot without title"
      ]
     },
     "metadata": {},
     "output_type": "display_data"
    }
   ],
   "source": [
    "plot(roc_cart, type = \"s\", print.thres = c(.5),\n",
    "     print.thres.pch = 3,\n",
    "     print.thres.pattern = \"\",\n",
    "     print.thres.cex = 1.2,\n",
    "     col = \"red\", legacy.axes = TRUE,\n",
    "     print.thres.col = \"red\")\n",
    "plot(roc_cart_factor,\n",
    "     type = \"s\",\n",
    "     add = TRUE,\n",
    "     print.thres = c(.5),\n",
    "     print.thres.pch = 16, legacy.axes = TRUE,\n",
    "     print.thres.pattern = \"\",\n",
    "     print.thres.cex = 1.2)\n",
    "legend(.75, .2,\n",
    "       c(\"Grouped Categories\", \"Independent Categories\"),\n",
    "       lwd = c(1, 1),\n",
    "       col = c(\"black\", \"red\"),\n",
    "       pch = c(16, 3))"
   ]
  },
  {
   "cell_type": "code",
   "execution_count": 184,
   "metadata": {
    "scrolled": true
   },
   "outputs": [
    {
     "data": {},
     "metadata": {},
     "output_type": "display_data"
    },
    {
     "data": {
      "image/png": "[encoded data removed]",
      "text/plain": [
       "plot without title"
      ]
     },
     "metadata": {},
     "output_type": "display_data"
    }
   ],
   "source": [
    "plt_data <- rbind(data.frame(fit_cart$results[,1:2],approach=rep(\"grp_cat\",times=nrow(fit_cart$results))),\n",
    "                  data.frame(fit_cart_factor$results[,1:2],approach=rep(\"dum_cat\",times=nrow(fit_cart_factor$results))))\n",
    "bwplot(ROC~approach,data=plt_data)"
   ]
  },
  {
   "cell_type": "markdown",
   "metadata": {},
   "source": [
    "---"
   ]
  },
  {
   "cell_type": "code",
   "execution_count": 186,
   "metadata": {},
   "outputs": [
    {
     "data": {
      "text/plain": [
       "Repeated Train/Test Splits Estimated (1 reps, 75%) Confusion Matrix \n",
       "\n",
       "(entries are un-normalized aggregated counts)\n",
       " \n",
       "Confusion Matrix and Statistics\n",
       "\n",
       "              Reference\n",
       "Prediction     successful unsuccessful\n",
       "  successful          504          204\n",
       "  unsuccessful         66          783\n",
       "                                          \n",
       "               Accuracy : 0.8266          \n",
       "                 95% CI : (0.8069, 0.8451)\n",
       "    No Information Rate : 0.6339          \n",
       "    P-Value [Acc > NIR] : < 2.2e-16       \n",
       "                                          \n",
       "                  Kappa : 0.6446          \n",
       " Mcnemar's Test P-Value : < 2.2e-16       \n",
       "                                          \n",
       "            Sensitivity : 0.8842          \n",
       "            Specificity : 0.7933          \n",
       "         Pos Pred Value : 0.7119          \n",
       "         Neg Pred Value : 0.9223          \n",
       "             Prevalence : 0.3661          \n",
       "         Detection Rate : 0.3237          \n",
       "   Detection Prevalence : 0.4547          \n",
       "      Balanced Accuracy : 0.8388          \n",
       "                                          \n",
       "       'Positive' Class : successful      \n",
       "                                          "
      ]
     },
     "metadata": {},
     "output_type": "display_data"
    }
   ],
   "source": [
    "set.seed(476)\n",
    "j48Fit <- train(x = training[,fullSet], \n",
    "                y = training$Class,\n",
    "                method = \"J48\",\n",
    "                metric = \"ROC\",\n",
    "                trControl = ctrl)\n",
    "\n",
    "# j482008 <- merge(j48Fit$pred,  j48Fit$bestTune)\n",
    "j48CM <- confusionMatrix(j48Fit, norm = \"none\")\n",
    "j48CM\n",
    "\n",
    "j48Roc <- roc(response = j48Fit$pred$obs,\n",
    "              predictor = j48Fit$pred$successful,\n",
    "              levels = rev(levels(j48Fit$pred$obs)))"
   ]
  },
  {
   "cell_type": "code",
   "execution_count": 187,
   "metadata": {},
   "outputs": [
    {
     "data": {
      "text/plain": [
       "C4.5-like Trees \n",
       "\n",
       "8190 samples\n",
       "1888 predictors\n",
       "   2 classes: 'successful', 'unsuccessful' \n",
       "\n",
       "No pre-processing\n",
       "Resampling: Repeated Train/Test Splits Estimated (1 reps, 75%) \n",
       "Summary of sample sizes: 6633 \n",
       "Resampling results across tuning parameters:\n",
       "\n",
       "  C      M  ROC        Sens       Spec     \n",
       "  0.010  1  0.8368021  0.8140351  0.8490375\n",
       "  0.010  2  0.8714455  0.8122807  0.8470111\n",
       "  0.010  3  0.8703985  0.7736842  0.8480243\n",
       "  0.255  1  0.7522130  0.7649123  0.8510638\n",
       "  0.255  2  0.8336177  0.7596491  0.8368794\n",
       "  0.255  3  0.8544375  0.7859649  0.8378926\n",
       "  0.500  1  0.7443849  0.7403509  0.8520770\n",
       "  0.500  2  0.8059102  0.7350877  0.8480243\n",
       "  0.500  3  0.8116452  0.7245614  0.8662614\n",
       "\n",
       "ROC was used to select the optimal model using the largest value.\n",
       "The final values used for the model were C = 0.01 and M = 2."
      ]
     },
     "metadata": {},
     "output_type": "display_data"
    },
    {
     "data": {
      "text/plain": [
       "Repeated Train/Test Splits Estimated (1 reps, 75%) Confusion Matrix \n",
       "\n",
       "(entries are un-normalized aggregated counts)\n",
       " \n",
       "Confusion Matrix and Statistics\n",
       "\n",
       "              Reference\n",
       "Prediction     successful unsuccessful\n",
       "  successful          463          151\n",
       "  unsuccessful        107          836\n",
       "                                          \n",
       "               Accuracy : 0.8343          \n",
       "                 95% CI : (0.8149, 0.8524)\n",
       "    No Information Rate : 0.6339          \n",
       "    P-Value [Acc > NIR] : < 2.2e-16       \n",
       "                                          \n",
       "                  Kappa : 0.6487          \n",
       " Mcnemar's Test P-Value : 0.007427        \n",
       "                                          \n",
       "            Sensitivity : 0.8123          \n",
       "            Specificity : 0.8470          \n",
       "         Pos Pred Value : 0.7541          \n",
       "         Neg Pred Value : 0.8865          \n",
       "             Prevalence : 0.3661          \n",
       "         Detection Rate : 0.2974          \n",
       "   Detection Prevalence : 0.3943          \n",
       "      Balanced Accuracy : 0.8296          \n",
       "                                          \n",
       "       'Positive' Class : successful      \n",
       "                                          "
      ]
     },
     "metadata": {},
     "output_type": "display_data"
    }
   ],
   "source": [
    "set.seed(476)\n",
    "j48FactorFit <- train(x = trn[,factorPredictors], \n",
    "                      y = trn$Class,\n",
    "                      method = \"J48\",\n",
    "                      metric = \"ROC\",\n",
    "                      trControl = ctrl)\n",
    "j48FactorFit\n",
    "\n",
    "# j48Factor2008 <- merge(j48FactorFit$pred,  j48FactorFit$bestTune)\n",
    "j48FactorCM <- confusionMatrix(j48FactorFit, norm = \"none\")\n",
    "j48FactorCM\n",
    "\n",
    "j48FactorRoc <- roc(response = j48FactorFit$pred$obs,\n",
    "                    predictor = j48FactorFit$pred$successful,\n",
    "                    levels = rev(levels(j48FactorFit$pred$obs)))"
   ]
  },
  {
   "cell_type": "code",
   "execution_count": 189,
   "metadata": {
    "scrolled": true
   },
   "outputs": [
    {
     "data": {
      "image/png": "[encoded data removed]",
      "text/plain": [
       "plot without title"
      ]
     },
     "metadata": {},
     "output_type": "display_data"
    }
   ],
   "source": [
    "plot(j48FactorRoc, type = \"s\", print.thres = c(.5), \n",
    "     print.thres.pch = 16, print.thres.pattern = \"\", \n",
    "     print.thres.cex = 1.2, legacy.axes = TRUE)\n",
    "plot(j48Roc, type = \"s\", print.thres = c(.5), \n",
    "     print.thres.pch = 3, print.thres.pattern = \"\", \n",
    "     print.thres.cex = 1.2, legacy.axes = TRUE,\n",
    "     add = TRUE, col = \"red\", print.thres.col = \"red\")\n",
    "legend(.75, .2,\n",
    "       c(\"Grouped Categories\", \"Independent Categories\"),\n",
    "       lwd = c(1, 1),\n",
    "       col = c(\"black\", \"red\"),\n",
    "       pch = c(16, 3))\n",
    "\n",
    "plot(roc_cart_factor, type = \"s\", add = TRUE, \n",
    "     col = rgb(.2, .2, .2, .2), legacy.axes = TRUE)\n"
   ]
  },
  {
   "cell_type": "markdown",
   "metadata": {},
   "source": [
    "`Rule-Based Models`"
   ]
  },
  {
   "cell_type": "code",
   "execution_count": 2,
   "metadata": {
    "scrolled": true
   },
   "outputs": [
    {
     "data": {
      "text/plain": [
       "socket cluster with 4 nodes on host 'localhost'"
      ]
     },
     "metadata": {},
     "output_type": "display_data"
    }
   ],
   "source": [
    "# library(doMC)\n",
    "# registerDoMC()\n",
    "# \"Models using RWeka will not work with parallel processing with multicore/doMC\"\n",
    "library(parallel)\n",
    "makeCluster(detectCores())"
   ]
  },
  {
   "cell_type": "code",
   "execution_count": 4,
   "metadata": {},
   "outputs": [],
   "source": [
    "load(\"grant_Data_chp14use.Rdata\")"
   ]
  },
  {
   "cell_type": "code",
   "execution_count": 5,
   "metadata": {},
   "outputs": [
    {
     "name": "stderr",
     "output_type": "stream",
     "text": [
      "Loading required package: lattice\n",
      "Loading required package: ggplot2\n"
     ]
    }
   ],
   "source": [
    "library(caret)\n",
    "ctrl <- trainControl(\n",
    "                     method=\"LGOCV\",\n",
    "                    summaryFunction=twoClassSummary,\n",
    "                    classProbs=T,\n",
    "                    index=list(TrainSet=pre2008),\n",
    "                    savePredictions=T)"
   ]
  },
  {
   "cell_type": "code",
   "execution_count": 6,
   "metadata": {},
   "outputs": [
    {
     "data": {
      "text/plain": [
       "Rule-Based Classifier \n",
       "\n",
       "8190 samples\n",
       "1545 predictors\n",
       "   2 classes: 'successful', 'unsuccessful' \n",
       "\n",
       "No pre-processing\n",
       "Resampling: Repeated Train/Test Splits Estimated (1 reps, 75%) \n",
       "Summary of sample sizes: 6633 \n",
       "Resampling results across tuning parameters:\n",
       "\n",
       "  threshold  pruned  ROC        Sens       Spec     \n",
       "  0.010      yes     0.8296566  0.7649123  0.8034448\n",
       "  0.010      no      0.7956860  0.7578947  0.8206687\n",
       "  0.255      yes     0.8347296  0.8070175  0.7659574\n",
       "  0.255      no      0.7956860  0.7578947  0.8206687\n",
       "  0.500      yes     0.8349340  0.7350877  0.8399189\n",
       "  0.500      no      0.7956860  0.7578947  0.8206687\n",
       "\n",
       "ROC was used to select the optimal model using the largest value.\n",
       "The final values used for the model were threshold = 0.5 and pruned = yes."
      ]
     },
     "metadata": {},
     "output_type": "display_data"
    }
   ],
   "source": [
    "set.seed(476)\n",
    "fit_ruleTree <- train(\n",
    "                      x=training[,fullSet],\n",
    "                      y=training$Class,\n",
    "                     method=\"PART\",\n",
    "                     metric=\"ROC\",\n",
    "                     trControl=ctrl)\n",
    "fit_ruleTree"
   ]
  },
  {
   "cell_type": "code",
   "execution_count": 7,
   "metadata": {},
   "outputs": [
    {
     "data": {
      "text/plain": [
       "Repeated Train/Test Splits Estimated (1 reps, 75%) Confusion Matrix \n",
       "\n",
       "(entries are un-normalized aggregated counts)\n",
       " \n",
       "Confusion Matrix and Statistics\n",
       "\n",
       "              Reference\n",
       "Prediction     successful unsuccessful\n",
       "  successful          419          158\n",
       "  unsuccessful        151          829\n",
       "                                          \n",
       "               Accuracy : 0.8015          \n",
       "                 95% CI : (0.7808, 0.8211)\n",
       "    No Information Rate : 0.6339          \n",
       "    P-Value [Acc > NIR] : <2e-16          \n",
       "                                          \n",
       "                  Kappa : 0.5735          \n",
       " Mcnemar's Test P-Value : 0.7329          \n",
       "                                          \n",
       "            Sensitivity : 0.7351          \n",
       "            Specificity : 0.8399          \n",
       "         Pos Pred Value : 0.7262          \n",
       "         Neg Pred Value : 0.8459          \n",
       "             Prevalence : 0.3661          \n",
       "         Detection Rate : 0.2691          \n",
       "   Detection Prevalence : 0.3706          \n",
       "      Balanced Accuracy : 0.7875          \n",
       "                                          \n",
       "       'Positive' Class : successful      \n",
       "                                          "
      ]
     },
     "metadata": {},
     "output_type": "display_data"
    }
   ],
   "source": [
    "cm_ruleTree <- confusionMatrix(fit_ruleTree,norm=\"none\")\n",
    "cm_ruleTree"
   ]
  },
  {
   "cell_type": "code",
   "execution_count": 8,
   "metadata": {},
   "outputs": [
    {
     "name": "stderr",
     "output_type": "stream",
     "text": [
      "Type 'citation(\"pROC\")' for a citation.\n",
      "\n",
      "Attaching package: 'pROC'\n",
      "\n",
      "The following objects are masked from 'package:stats':\n",
      "\n",
      "    cov, smooth, var\n",
      "\n"
     ]
    },
    {
     "data": {
      "text/plain": [
       "\n",
       "Call:\n",
       "roc.default(response = fit_ruleTree$pred$obs, predictor = fit_ruleTree$pred$successful,     levels = rev(levels(fit_ruleTree$pred$obs)))\n",
       "\n",
       "Data: fit_ruleTree$pred$successful in 5922 controls (fit_ruleTree$pred$obs unsuccessful) < 3420 cases (fit_ruleTree$pred$obs successful).\n",
       "Area under the curve: 0.8061"
      ]
     },
     "metadata": {},
     "output_type": "display_data"
    }
   ],
   "source": [
    "library(pROC)\n",
    "roc_ruleTree <- roc(response=fit_ruleTree$pred$obs,\n",
    "                   predictor=fit_ruleTree$pred$successful,\n",
    "                   levels=rev(levels(fit_ruleTree$pred$obs)))\n",
    "roc_ruleTree"
   ]
  },
  {
   "cell_type": "code",
   "execution_count": 9,
   "metadata": {},
   "outputs": [
    {
     "data": {
      "text/plain": [
       "Rule-Based Classifier \n",
       "\n",
       "8190 samples\n",
       "1888 predictors\n",
       "   2 classes: 'successful', 'unsuccessful' \n",
       "\n",
       "No pre-processing\n",
       "Resampling: Repeated Train/Test Splits Estimated (1 reps, 75%) \n",
       "Summary of sample sizes: 6633 \n",
       "Resampling results across tuning parameters:\n",
       "\n",
       "  threshold  pruned  ROC        Sens       Spec     \n",
       "  0.010      yes     0.8159912  0.7526316  0.8277609\n",
       "  0.010      no      0.7893439  0.7684211  0.8095238\n",
       "  0.255      yes     0.7949546  0.7421053  0.8135765\n",
       "  0.255      no      0.7893439  0.7684211  0.8095238\n",
       "  0.500      yes     0.7974671  0.7508772  0.8034448\n",
       "  0.500      no      0.7893439  0.7684211  0.8095238\n",
       "\n",
       "ROC was used to select the optimal model using the largest value.\n",
       "The final values used for the model were threshold = 0.01 and pruned = yes."
      ]
     },
     "metadata": {},
     "output_type": "display_data"
    }
   ],
   "source": [
    "#independent factors\n",
    "set.seed(476)\n",
    "fit_ruleTree_dum <- train(trn[,factorPredictors],trn$Class,\n",
    "                         method=\"PART\",\n",
    "                         metric=\"ROC\",\n",
    "                         trControl=ctrl)\n",
    "fit_ruleTree_dum"
   ]
  },
  {
   "cell_type": "code",
   "execution_count": 10,
   "metadata": {},
   "outputs": [
    {
     "data": {
      "text/plain": [
       "\n",
       "Call:\n",
       "roc.default(response = fit_ruleTree_dum$pred$obs, predictor = fit_ruleTree_dum$pred$successful,     levels = rev(levels(fit_ruleTree_dum$pred$obs)))\n",
       "\n",
       "Data: fit_ruleTree_dum$pred$successful in 5922 controls (fit_ruleTree_dum$pred$obs unsuccessful) < 3420 cases (fit_ruleTree_dum$pred$obs successful).\n",
       "Area under the curve: 0.7876"
      ]
     },
     "metadata": {},
     "output_type": "display_data"
    }
   ],
   "source": [
    "roc_ruleTree_dum <- roc(response=fit_ruleTree_dum$pred$obs,\n",
    "                       predictor = fit_ruleTree_dum$pred$successful,\n",
    "                       levels=rev(levels(fit_ruleTree_dum$pred$obs)))\n",
    "roc_ruleTree_dum"
   ]
  },
  {
   "cell_type": "code",
   "execution_count": 11,
   "metadata": {
    "scrolled": true
   },
   "outputs": [
    {
     "data": {
      "image/png": "[encoded data removed]",
      "text/plain": [
       "plot without title"
      ]
     },
     "metadata": {},
     "output_type": "display_data"
    }
   ],
   "source": [
    "plot(roc_ruleTree,legacy.axes=T,col=\"navy\")\n",
    "plot.roc(roc_ruleTree_dum,add=T,col=\"pink\")"
   ]
  },
  {
   "cell_type": "markdown",
   "metadata": {},
   "source": [
    "`Bagged Trees`"
   ]
  },
  {
   "cell_type": "code",
   "execution_count": 12,
   "metadata": {},
   "outputs": [
    {
     "data": {
      "text/plain": [
       "Bagged CART \n",
       "\n",
       "8190 samples\n",
       "1545 predictors\n",
       "   2 classes: 'successful', 'unsuccessful' \n",
       "\n",
       "No pre-processing\n",
       "Resampling: Repeated Train/Test Splits Estimated (1 reps, 75%) \n",
       "Summary of sample sizes: 6633 \n",
       "Resampling results:\n",
       "\n",
       "  ROC        Sens       Spec    \n",
       "  0.9169626  0.8280702  0.858156\n"
      ]
     },
     "metadata": {},
     "output_type": "display_data"
    }
   ],
   "source": [
    "set.seed(476)\n",
    "fit_bagTree <- train(x=training[,fullSet],\n",
    "                    y=training$Class,\n",
    "                    method=\"treebag\",nbagg=50,\n",
    "                    metric=\"ROC\",trControl=ctrl)\n",
    "fit_bagTree"
   ]
  },
  {
   "cell_type": "code",
   "execution_count": 15,
   "metadata": {},
   "outputs": [],
   "source": [
    "roc_bagTree <- roc(response = fit_bagTree$pred$obs,\n",
    "                  predictor = fit_bagTree$pred$successful,\n",
    "                  levels=rev(levels(fit_bagTree$pred$obs)))"
   ]
  },
  {
   "cell_type": "code",
   "execution_count": 20,
   "metadata": {},
   "outputs": [
    {
     "data": {
      "text/plain": [
       "Bagged CART \n",
       "\n",
       "8190 samples\n",
       "  70 predictor\n",
       "   2 classes: 'successful', 'unsuccessful' \n",
       "\n",
       "No pre-processing\n",
       "Resampling: Repeated Train/Test Splits Estimated (1 reps, 75%) \n",
       "Summary of sample sizes: 6633 \n",
       "Resampling results:\n",
       "\n",
       "  ROC        Sens       Spec     \n",
       "  0.9152776  0.7947368  0.8622087\n"
      ]
     },
     "metadata": {},
     "output_type": "display_data"
    }
   ],
   "source": [
    "set.seed(476)\n",
    "fit_bagTree_dum <- train(x=trn_flt[,c(1:70)],y=trn$Class,\n",
    "                        method=\"treebag\",nbagg=50,\n",
    "                        metric=\"ROC\",trControl=ctrl)\n",
    "fit_bagTree_dum"
   ]
  },
  {
   "cell_type": "code",
   "execution_count": 22,
   "metadata": {},
   "outputs": [
    {
     "name": "stderr",
     "output_type": "stream",
     "text": [
      "Type 'citation(\"pROC\")' for a citation.\n",
      "\n",
      "Attaching package: 'pROC'\n",
      "\n",
      "The following objects are masked from 'package:stats':\n",
      "\n",
      "    cov, smooth, var\n",
      "\n"
     ]
    }
   ],
   "source": [
    "library(pROC)\n",
    "roc_bagTree_dum <- roc(response=fit_bagTree_dum$pred$obs,\n",
    "                      predictor=fit_bagTree_dum$pred$successful,\n",
    "                      levels=rev(levels(fit_bagTree_dum$pred$obs)))"
   ]
  },
  {
   "cell_type": "code",
   "execution_count": 24,
   "metadata": {},
   "outputs": [
    {
     "data": {
      "image/png": "[encoded data removed]",
      "text/plain": [
       "plot without title"
      ]
     },
     "metadata": {},
     "output_type": "display_data"
    }
   ],
   "source": [
    "# plot(roc_bagTree,legacy.axes=T,col=\"navy\")\n",
    "# plot(roc_bagTree_dum,add=T,col=\"pink\")\n",
    "plot(roc_bagTree_dum,legacy.axes=T,col=\"navy\")"
   ]
  },
  {
   "cell_type": "markdown",
   "metadata": {},
   "source": [
    "`Random Forest`"
   ]
  },
  {
   "cell_type": "markdown",
   "metadata": {},
   "source": [
    "`grouped categories`\n",
    "\n",
    "&#x274C;Can not handle categorical predictors with more than 53 categories."
   ]
  },
  {
   "cell_type": "code",
   "execution_count": 12,
   "metadata": {},
   "outputs": [],
   "source": [
    "fullSet_rf <- fullSet[fullSet!=c(\"SponsorCode\",\"ContractValueBand\",\"GrantCategoryCode\")]"
   ]
  },
  {
   "cell_type": "code",
   "execution_count": null,
   "metadata": {},
   "outputs": [],
   "source": [
    "set.seed(476)\n",
    "fit_rf <- train(x=training[,fullSet_rf],y=training$Class,\n",
    "               method=\"rf\",ntree=500,tuneGrid=data.frame(mtry=c(5, 10, 20, 32, 50, 100, 250, 500, 1000)),\n",
    "               importance=T,metric=\"ROC\",trControl=ctrl)\n",
    "fit_rf"
   ]
  },
  {
   "cell_type": "markdown",
   "metadata": {},
   "source": [
    "`independent categories`"
   ]
  },
  {
   "cell_type": "code",
   "execution_count": null,
   "metadata": {},
   "outputs": [],
   "source": [
    "fit_rf_dum <- train(x=trn[,factorPredictors],y=trn$Class,\n",
    "                   method=\"rf\",ntree=1500,\n",
    "                   tuneGrid=data.frame(mtry=c(5, 10, 20, 32, 50, 100, 250, 500, 1000)),\n",
    "                   importance=T,metric=\"ROC\",trControl=ctrl)\n",
    "fit_rf_dum"
   ]
  },
  {
   "cell_type": "markdown",
   "metadata": {},
   "source": [
    "> as these two modles didn't use the same \"training set\", I will skep the comparison."
   ]
  },
  {
   "cell_type": "markdown",
   "metadata": {},
   "source": [
    "`Boosting`"
   ]
  },
  {
   "cell_type": "code",
   "execution_count": 1,
   "metadata": {
    "scrolled": false
   },
   "outputs": [
    {
     "name": "stderr",
     "output_type": "stream",
     "text": [
      "Loading required package: lattice\n",
      "Loading required package: ggplot2\n"
     ]
    }
   ],
   "source": [
    "load(\"grant_Data_chp14use.Rdata\")\n",
    "library(caret)\n",
    "ctrl <- trainControl(\n",
    "                     method=\"LGOCV\",\n",
    "                    summaryFunction=twoClassSummary,\n",
    "                    classProbs=T,\n",
    "                    index=list(TrainSet=pre2008),\n",
    "                    savePredictions=T)"
   ]
  },
  {
   "cell_type": "markdown",
   "metadata": {},
   "source": [
    "&#x274C;variable 114: CI.Dept1253 has no variation.\"Warning message in (function (x, y, offset = NULL, misc = NULL, distribution = \"bernoulli."
   ]
  },
  {
   "cell_type": "code",
   "execution_count": null,
   "metadata": {},
   "outputs": [],
   "source": [
    "grid_gbm <- expand.grid(interaction.depth = c(1, 3, 5, 7, 9),\n",
    "                       n.trees = (1:20)*100,\n",
    "                       shrinkage = c(.01, .1),\n",
    "                       n.minobsinnode=c(10,20))\n",
    "\n",
    "set.seed(476)\n",
    "fit_gbm <- train(x = training[,fullSet], \n",
    "                y = training$Class,\n",
    "                method = \"gbm\",\n",
    "                tuneGrid = grid_gbm,\n",
    "                metric = \"ROC\",\n",
    "                verbose = FALSE,\n",
    "                trControl = ctrl)\n",
    "gbmFit"
   ]
  },
  {
   "cell_type": "markdown",
   "metadata": {},
   "source": [
    "`C5.0`"
   ]
  },
  {
   "cell_type": "code",
   "execution_count": null,
   "metadata": {},
   "outputs": [],
   "source": [
    "c50Grid <- expand.grid(trials = c(1:9, (1:10)*10),\n",
    "                       model = c(\"tree\", \"rules\"),\n",
    "                       winnow = c(TRUE, FALSE))\n",
    "set.seed(476)\n",
    "c50FactorFit <- train(training[,factorPredictors], training$Class,\n",
    "                      method = \"C5.0\",\n",
    "                      tuneGrid = c50Grid,\n",
    "                      verbose = FALSE,\n",
    "                      metric = \"ROC\",\n",
    "                      trControl = ctrl)\n",
    "c50FactorFit"
   ]
  },
  {
   "cell_type": "markdown",
   "metadata": {},
   "source": [
    "&#x1F3B0; &#x1F3B0; &#x1F3B0; &#x1F3B0; &#x1F3B0; &#x1F3B0; &#x1F3B0; &#x1F3B0; &#x1F3B0; &#x1F3B0;"
   ]
  },
  {
   "cell_type": "code",
   "execution_count": 36,
   "metadata": {},
   "outputs": [],
   "source": [
    "library(rpart)\n",
    "?rpart"
   ]
  },
  {
   "cell_type": "code",
   "execution_count": 37,
   "metadata": {},
   "outputs": [
    {
     "name": "stdout",
     "output_type": "stream",
     "text": [
      "'data.frame':\t81 obs. of  4 variables:\n",
      " $ Kyphosis: Factor w/ 2 levels \"absent\",\"present\": 1 1 2 1 1 1 1 1 1 2 ...\n",
      " $ Age     : int  71 158 128 2 1 1 61 37 113 59 ...\n",
      " $ Number  : int  3 3 4 5 4 2 2 3 2 6 ...\n",
      " $ Start   : int  5 14 5 1 15 16 17 16 16 12 ...\n"
     ]
    }
   ],
   "source": [
    "data(kyphosis)\n",
    "str(kyphosis)"
   ]
  },
  {
   "cell_type": "code",
   "execution_count": 51,
   "metadata": {
    "scrolled": true
   },
   "outputs": [
    {
     "data": {
      "image/png": "[encoded data removed]",
      "text/plain": [
       "plot without title"
      ]
     },
     "metadata": {},
     "output_type": "display_data"
    }
   ],
   "source": [
    "fit <- rpart(Kyphosis ~ Age + Number + Start, data = kyphosis,control=rpart.control(minsplit=1,maxdepth=2))\n",
    "rpart.plot(fit, type=4, extra=2, clip.right.labs=FALSE, varlen=0, faclen=3)"
   ]
  },
  {
   "cell_type": "code",
   "execution_count": 46,
   "metadata": {},
   "outputs": [
    {
     "name": "stdout",
     "output_type": "stream",
     "text": [
      "\n",
      " Rule number: 3 [Kyphosis=present cover=19 (23%) prob=0.58]\n",
      "   Start< 8.5\n",
      "\n",
      " Rule number: 23 [Kyphosis=present cover=7 (9%) prob=0.57]\n",
      "   Start>=8.5\n",
      "   Start< 14.5\n",
      "   Age>=55\n",
      "   Age< 111\n",
      "\n",
      " Rule number: 22 [Kyphosis=absent cover=14 (17%) prob=0.14]\n",
      "   Start>=8.5\n",
      "   Start< 14.5\n",
      "   Age>=55\n",
      "   Age>=111\n",
      "\n",
      " Rule number: 10 [Kyphosis=absent cover=12 (15%) prob=0.00]\n",
      "   Start>=8.5\n",
      "   Start< 14.5\n",
      "   Age< 55\n",
      "\n",
      " Rule number: 4 [Kyphosis=absent cover=29 (36%) prob=0.00]\n",
      "   Start>=8.5\n",
      "   Start>=14.5\n",
      "\n"
     ]
    }
   ],
   "source": [
    "library(rattle)\n",
    "asRules(fit)"
   ]
  },
  {
   "cell_type": "code",
   "execution_count": 35,
   "metadata": {},
   "outputs": [],
   "source": [
    "library(RWeka)\n",
    "?Weka_classifiers"
   ]
  },
  {
   "cell_type": "code",
   "execution_count": 44,
   "metadata": {},
   "outputs": [
    {
     "data": {
      "text/plain": [
       "PART decision list\n",
       "------------------\n",
       "\n",
       "Start > 12: absent (46.0/2.0)\n",
       "\n",
       "Age > 31: present (25.0/11.0)\n",
       "\n",
       ": absent (10.0/1.0)\n",
       "\n",
       "Number of Rules  : \t3\n"
      ]
     },
     "metadata": {},
     "output_type": "display_data"
    }
   ],
   "source": [
    "PART(Kyphosis ~ Age + Number + Start, data = kyphosis)"
   ]
  }
 ],
 "metadata": {
  "kernelspec": {
   "display_name": "R",
   "language": "R",
   "name": "ir"
  },
  "language_info": {
   "codemirror_mode": "r",
   "file_extension": ".r",
   "mimetype": "text/x-r-source",
   "name": "R",
   "pygments_lexer": "r",
   "version": "3.5.1"
  },
  "latex_envs": {
   "LaTeX_envs_menu_present": true,
   "autoclose": false,
   "autocomplete": true,
   "bibliofile": "biblio.bib",
   "cite_by": "apalike",
   "current_citInitial": 1,
   "eqLabelWithNumbers": true,
   "eqNumInitial": 1,
   "hotkeys": {
    "equation": "Ctrl-E",
    "itemize": "Ctrl-I"
   },
   "labels_anchors": false,
   "latex_user_defs": false,
   "report_style_numbering": false,
   "user_envs_cfg": false
  },
  "toc": {
   "base_numbering": 1,
   "nav_menu": {},
   "number_sections": true,
   "sideBar": true,
   "skip_h1_title": false,
   "title_cell": "Table of Contents",
   "title_sidebar": "Contents",
   "toc_cell": false,
   "toc_position": {},
   "toc_section_display": true,
   "toc_window_display": false
  }
 },
 "nbformat": 4,
 "nbformat_minor": 2
}
