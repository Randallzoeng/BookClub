{
 "cells": [
  {
   "cell_type": "code",
   "execution_count": 1,
   "metadata": {},
   "outputs": [
    {
     "name": "stderr",
     "output_type": "stream",
     "text": [
      "Loading required package: lattice\n",
      "Loading required package: ggplot2\n"
     ]
    }
   ],
   "source": [
    "library(caret)"
   ]
  },
  {
   "cell_type": "code",
   "execution_count": 2,
   "metadata": {},
   "outputs": [
    {
     "name": "stdout",
     "output_type": "stream",
     "text": [
      "'data.frame':\t1000 obs. of  62 variables:\n",
      " $ Duration                              : int  6 48 12 42 24 36 24 36 12 30 ...\n",
      " $ Amount                                : int  1169 5951 2096 7882 4870 9055 2835 6948 3059 5234 ...\n",
      " $ InstallmentRatePercentage             : int  4 2 2 2 3 2 3 2 2 4 ...\n",
      " $ ResidenceDuration                     : int  4 2 3 4 4 4 4 2 4 2 ...\n",
      " $ Age                                   : int  67 22 49 45 53 35 53 35 61 28 ...\n",
      " $ NumberExistingCredits                 : int  2 1 1 1 2 1 1 1 1 2 ...\n",
      " $ NumberPeopleMaintenance               : int  1 1 2 2 2 2 1 1 1 1 ...\n",
      " $ Telephone                             : num  0 1 1 1 1 0 1 0 1 1 ...\n",
      " $ ForeignWorker                         : num  1 1 1 1 1 1 1 1 1 1 ...\n",
      " $ Class                                 : Factor w/ 2 levels \"Bad\",\"Good\": 2 1 2 2 1 2 2 2 2 1 ...\n",
      " $ CheckingAccountStatus.lt.0            : num  1 0 0 1 1 0 0 0 0 0 ...\n",
      " $ CheckingAccountStatus.0.to.200        : num  0 1 0 0 0 0 0 1 0 1 ...\n",
      " $ CheckingAccountStatus.gt.200          : num  0 0 0 0 0 0 0 0 0 0 ...\n",
      " $ CheckingAccountStatus.none            : num  0 0 1 0 0 1 1 0 1 0 ...\n",
      " $ CreditHistory.NoCredit.AllPaid        : num  0 0 0 0 0 0 0 0 0 0 ...\n",
      " $ CreditHistory.ThisBank.AllPaid        : num  0 0 0 0 0 0 0 0 0 0 ...\n",
      " $ CreditHistory.PaidDuly                : num  0 1 0 1 0 1 1 1 1 0 ...\n",
      " $ CreditHistory.Delay                   : num  0 0 0 0 1 0 0 0 0 0 ...\n",
      " $ CreditHistory.Critical                : num  1 0 1 0 0 0 0 0 0 1 ...\n",
      " $ Purpose.NewCar                        : num  0 0 0 0 1 0 0 0 0 1 ...\n",
      " $ Purpose.UsedCar                       : num  0 0 0 0 0 0 0 1 0 0 ...\n",
      " $ Purpose.Furniture.Equipment           : num  0 0 0 1 0 0 1 0 0 0 ...\n",
      " $ Purpose.Radio.Television              : num  1 1 0 0 0 0 0 0 1 0 ...\n",
      " $ Purpose.DomesticAppliance             : num  0 0 0 0 0 0 0 0 0 0 ...\n",
      " $ Purpose.Repairs                       : num  0 0 0 0 0 0 0 0 0 0 ...\n",
      " $ Purpose.Education                     : num  0 0 1 0 0 1 0 0 0 0 ...\n",
      " $ Purpose.Vacation                      : num  0 0 0 0 0 0 0 0 0 0 ...\n",
      " $ Purpose.Retraining                    : num  0 0 0 0 0 0 0 0 0 0 ...\n",
      " $ Purpose.Business                      : num  0 0 0 0 0 0 0 0 0 0 ...\n",
      " $ Purpose.Other                         : num  0 0 0 0 0 0 0 0 0 0 ...\n",
      " $ SavingsAccountBonds.lt.100            : num  0 1 1 1 1 0 0 1 0 1 ...\n",
      " $ SavingsAccountBonds.100.to.500        : num  0 0 0 0 0 0 0 0 0 0 ...\n",
      " $ SavingsAccountBonds.500.to.1000       : num  0 0 0 0 0 0 1 0 0 0 ...\n",
      " $ SavingsAccountBonds.gt.1000           : num  0 0 0 0 0 0 0 0 1 0 ...\n",
      " $ SavingsAccountBonds.Unknown           : num  1 0 0 0 0 1 0 0 0 0 ...\n",
      " $ EmploymentDuration.lt.1               : num  0 0 0 0 0 0 0 0 0 0 ...\n",
      " $ EmploymentDuration.1.to.4             : num  0 1 0 0 1 1 0 1 0 0 ...\n",
      " $ EmploymentDuration.4.to.7             : num  0 0 1 1 0 0 0 0 1 0 ...\n",
      " $ EmploymentDuration.gt.7               : num  1 0 0 0 0 0 1 0 0 0 ...\n",
      " $ EmploymentDuration.Unemployed         : num  0 0 0 0 0 0 0 0 0 1 ...\n",
      " $ Personal.Male.Divorced.Seperated      : num  0 0 0 0 0 0 0 0 1 0 ...\n",
      " $ Personal.Female.NotSingle             : num  0 1 0 0 0 0 0 0 0 0 ...\n",
      " $ Personal.Male.Single                  : num  1 0 1 1 1 1 1 1 0 0 ...\n",
      " $ Personal.Male.Married.Widowed         : num  0 0 0 0 0 0 0 0 0 1 ...\n",
      " $ Personal.Female.Single                : num  0 0 0 0 0 0 0 0 0 0 ...\n",
      " $ OtherDebtorsGuarantors.None           : num  1 1 1 0 1 1 1 1 1 1 ...\n",
      " $ OtherDebtorsGuarantors.CoApplicant    : num  0 0 0 0 0 0 0 0 0 0 ...\n",
      " $ OtherDebtorsGuarantors.Guarantor      : num  0 0 0 1 0 0 0 0 0 0 ...\n",
      " $ Property.RealEstate                   : num  1 1 1 0 0 0 0 0 1 0 ...\n",
      " $ Property.Insurance                    : num  0 0 0 1 0 0 1 0 0 0 ...\n",
      " $ Property.CarOther                     : num  0 0 0 0 0 0 0 1 0 1 ...\n",
      " $ Property.Unknown                      : num  0 0 0 0 1 1 0 0 0 0 ...\n",
      " $ OtherInstallmentPlans.Bank            : num  0 0 0 0 0 0 0 0 0 0 ...\n",
      " $ OtherInstallmentPlans.Stores          : num  0 0 0 0 0 0 0 0 0 0 ...\n",
      " $ OtherInstallmentPlans.None            : num  1 1 1 1 1 1 1 1 1 1 ...\n",
      " $ Housing.Rent                          : num  0 0 0 0 0 0 0 1 0 0 ...\n",
      " $ Housing.Own                           : num  1 1 1 0 0 0 1 0 1 1 ...\n",
      " $ Housing.ForFree                       : num  0 0 0 1 1 1 0 0 0 0 ...\n",
      " $ Job.UnemployedUnskilled               : num  0 0 0 0 0 0 0 0 0 0 ...\n",
      " $ Job.UnskilledResident                 : num  0 0 1 0 0 1 0 0 1 0 ...\n",
      " $ Job.SkilledEmployee                   : num  1 1 0 1 1 0 1 0 0 0 ...\n",
      " $ Job.Management.SelfEmp.HighlyQualified: num  0 0 0 0 0 0 0 1 0 1 ...\n"
     ]
    }
   ],
   "source": [
    "data(GermanCredit)\n",
    "str(GermanCredit)"
   ]
  }
 ],
 "metadata": {
  "kernelspec": {
   "display_name": "R",
   "language": "R",
   "name": "ir"
  },
  "language_info": {
   "codemirror_mode": "r",
   "file_extension": ".r",
   "mimetype": "text/x-r-source",
   "name": "R",
   "pygments_lexer": "r",
   "version": "3.4.3"
  },
  "latex_envs": {
   "LaTeX_envs_menu_present": true,
   "autocomplete": true,
   "bibliofile": "biblio.bib",
   "cite_by": "apalike",
   "current_citInitial": 1,
   "eqLabelWithNumbers": true,
   "eqNumInitial": 1,
   "hotkeys": {
    "equation": "Ctrl-E",
    "itemize": "Ctrl-I"
   },
   "labels_anchors": false,
   "latex_user_defs": false,
   "report_style_numbering": false,
   "user_envs_cfg": false
  },
  "toc": {
   "nav_menu": {},
   "number_sections": true,
   "sideBar": true,
   "skip_h1_title": false,
   "toc_cell": false,
   "toc_position": {},
   "toc_section_display": "block",
   "toc_window_display": false
  }
 },
 "nbformat": 4,
 "nbformat_minor": 2
}
