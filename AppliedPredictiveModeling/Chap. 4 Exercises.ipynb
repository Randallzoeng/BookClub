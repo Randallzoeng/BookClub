{
 "cells": [
  {
   "cell_type": "markdown",
   "metadata": {},
   "source": [
    "4.1. Consider the music genre data set described in Sect. 1.4. The objective\n",
    "for these data is to use the predictors to classify music samples into the\n",
    "appropriate music genre.\n",
    "- (a) What data splitting method(s) would you use for these data? Explain.\n",
    "- (b) Using tools described in this chapter, provide code for implementing your\n",
    "approach(es).\n",
    "\n",
    "References Link:\n",
    "\n",
    "http://tunedit.org/challenge/music-retrieval/genres\n",
    "http://tunedit.org/download/ISMIS/challenges/music-retrieval/public/genresTrain.csv\n",
    "http://tunedit.org/download/ISMIS/challenges/music-retrieval/public/genresTest.csv"
   ]
  },
  {
   "cell_type": "code",
   "execution_count": 2,
   "metadata": {
    "collapsed": false,
    "scrolled": true
   },
   "outputs": [
    {
     "name": "stderr",
     "output_type": "stream",
     "text": [
      "-- Attaching packages --------------------------------------- tidyverse 1.2.1 --\n",
      "√ ggplot2 2.2.1     √ purrr   0.2.5\n",
      "√ tibble  1.4.2     √ dplyr   0.7.5\n",
      "√ tidyr   0.8.1     √ stringr 1.3.1\n",
      "√ readr   1.1.1     √ forcats 0.3.0\n",
      "-- Conflicts ------------------------------------------ tidyverse_conflicts() --\n",
      "x dplyr::filter() masks stats::filter()\n",
      "x dplyr::lag()    masks stats::lag()\n",
      "\n",
      "Attaching package: 'data.table'\n",
      "\n",
      "The following objects are masked from 'package:dplyr':\n",
      "\n",
      "    between, first, last\n",
      "\n",
      "The following object is masked from 'package:purrr':\n",
      "\n",
      "    transpose\n",
      "\n",
      "Parsed with column specification:\n",
      "cols(\n",
      "  .default = col_double(),\n",
      "  GENRE = col_character()\n",
      ")\n",
      "See spec(...) for full column specifications.\n"
     ]
    },
    {
     "data": {
      "text/html": [
       "<table>\n",
       "<thead><tr><th scope=col>PAR_TC</th><th scope=col>PAR_SC</th><th scope=col>PAR_SC_V</th><th scope=col>PAR_ASE1</th><th scope=col>PAR_ASE2</th><th scope=col>PAR_ASE3</th><th scope=col>PAR_ASE4</th><th scope=col>PAR_ASE5</th><th scope=col>PAR_ASE6</th><th scope=col>PAR_ASE7</th><th scope=col>...</th><th scope=col>PAR_3RMS_TCD</th><th scope=col>PAR_ZCD_10FR_MEAN</th><th scope=col>PAR_ZCD_10FR_VAR</th><th scope=col>PAR_1RMS_TCD_10FR_MEAN</th><th scope=col>PAR_1RMS_TCD_10FR_VAR</th><th scope=col>PAR_2RMS_TCD_10FR_MEAN</th><th scope=col>PAR_2RMS_TCD_10FR_VAR</th><th scope=col>PAR_3RMS_TCD_10FR_MEAN</th><th scope=col>PAR_3RMS_TCD_10FR_VAR</th><th scope=col>GENRE</th></tr></thead>\n",
       "<tbody>\n",
       "\t<tr><td>2.5788    </td><td> 481.45   </td><td> 76989.0  </td><td>-0.12334  </td><td>-0.11578  </td><td>-0.11176  </td><td>-0.10412  </td><td>-0.106100 </td><td>-0.11026  </td><td>-0.11375  </td><td>...       </td><td>0.0020317 </td><td>0.041056  </td><td>9.0700e-05</td><td>0.049627  </td><td>0.00023123</td><td>0.0112650 </td><td>2.4068e-05</td><td>0.0021769 </td><td>2.7965e-06</td><td>Pop       </td></tr>\n",
       "\t<tr><td>2.7195    </td><td>1405.30   </td><td>825380.0  </td><td>-0.17655  </td><td>-0.18323  </td><td>-0.17773  </td><td>-0.17057  </td><td>-0.166440 </td><td>-0.16174  </td><td>-0.15371  </td><td>...       </td><td>0.0059592 </td><td>0.082830  </td><td>1.1221e-03</td><td>0.093622  </td><td>0.00386910</td><td>0.0314670 </td><td>7.7900e-04</td><td>0.0067156 </td><td>4.0732e-05</td><td>Blues     </td></tr>\n",
       "\t<tr><td>2.5351    </td><td> 601.09   </td><td>686240.0  </td><td>-0.13940  </td><td>-0.13251  </td><td>-0.11486  </td><td>-0.10173  </td><td>-0.099342 </td><td>-0.10936  </td><td>-0.12668  </td><td>...       </td><td>0.0027664 </td><td>0.043652  </td><td>3.5815e-04</td><td>0.045415  </td><td>0.00021138</td><td>0.0138500 </td><td>3.7983e-05</td><td>0.0030694 </td><td>1.8371e-06</td><td>Pop       </td></tr>\n",
       "\t<tr><td>2.4465    </td><td> 637.73   </td><td>122580.0  </td><td>-0.14995  </td><td>-0.14802  </td><td>-0.13800  </td><td>-0.12927  </td><td>-0.125150 </td><td>-0.12340  </td><td>-0.12159  </td><td>...       </td><td>0.0025034 </td><td>0.045159  </td><td>3.5586e-04</td><td>0.037388  </td><td>0.00011800</td><td>0.0118970 </td><td>4.4980e-05</td><td>0.0026449 </td><td>5.6050e-06</td><td>Jazz      </td></tr>\n",
       "\t<tr><td>2.5657    </td><td> 776.86   </td><td>124010.0  </td><td>-0.16863  </td><td>-0.16112  </td><td>-0.15935  </td><td>-0.15120  </td><td>-0.140340 </td><td>-0.13002  </td><td>-0.12804  </td><td>...       </td><td>0.0027029 </td><td>0.047347  </td><td>3.0155e-04</td><td>0.049469  </td><td>0.00060605</td><td>0.0140520 </td><td>1.5194e-04</td><td>0.0032435 </td><td>2.9119e-05</td><td>Jazz      </td></tr>\n",
       "\t<tr><td>2.7737    </td><td> 447.09   </td><td>  8531.9  </td><td>-0.16128  </td><td>-0.15742  </td><td>-0.15769  </td><td>-0.14861  </td><td>-0.138120 </td><td>-0.12762  </td><td>-0.12145  </td><td>...       </td><td>0.0019773 </td><td>0.023864  </td><td>1.4097e-05</td><td>0.021595  </td><td>0.00022824</td><td>0.0075048 </td><td>7.2913e-05</td><td>0.0018830 </td><td>6.6686e-06</td><td>Classical </td></tr>\n",
       "</tbody>\n",
       "</table>\n"
      ],
      "text/latex": [
       "\\begin{tabular}{r|llllllllllllllllllllllllllllllllllllllllllllllllllllllllllllllllllllllllllllllllllllllllllllllllllllllllllllllllllllllllllllllllllllllllllllllllllllllllllllllllllllllllllllllllllllllllllllllll}\n",
       " PAR\\_TC & PAR\\_SC & PAR\\_SC\\_V & PAR\\_ASE1 & PAR\\_ASE2 & PAR\\_ASE3 & PAR\\_ASE4 & PAR\\_ASE5 & PAR\\_ASE6 & PAR\\_ASE7 & ... & PAR\\_3RMS\\_TCD & PAR\\_ZCD\\_10FR\\_MEAN & PAR\\_ZCD\\_10FR\\_VAR & PAR\\_1RMS\\_TCD\\_10FR\\_MEAN & PAR\\_1RMS\\_TCD\\_10FR\\_VAR & PAR\\_2RMS\\_TCD\\_10FR\\_MEAN & PAR\\_2RMS\\_TCD\\_10FR\\_VAR & PAR\\_3RMS\\_TCD\\_10FR\\_MEAN & PAR\\_3RMS\\_TCD\\_10FR\\_VAR & GENRE\\\\\n",
       "\\hline\n",
       "\t 2.5788     &  481.45    &  76989.0   & -0.12334   & -0.11578   & -0.11176   & -0.10412   & -0.106100  & -0.11026   & -0.11375   & ...        & 0.0020317  & 0.041056   & 9.0700e-05 & 0.049627   & 0.00023123 & 0.0112650  & 2.4068e-05 & 0.0021769  & 2.7965e-06 & Pop       \\\\\n",
       "\t 2.7195     & 1405.30    & 825380.0   & -0.17655   & -0.18323   & -0.17773   & -0.17057   & -0.166440  & -0.16174   & -0.15371   & ...        & 0.0059592  & 0.082830   & 1.1221e-03 & 0.093622   & 0.00386910 & 0.0314670  & 7.7900e-04 & 0.0067156  & 4.0732e-05 & Blues     \\\\\n",
       "\t 2.5351     &  601.09    & 686240.0   & -0.13940   & -0.13251   & -0.11486   & -0.10173   & -0.099342  & -0.10936   & -0.12668   & ...        & 0.0027664  & 0.043652   & 3.5815e-04 & 0.045415   & 0.00021138 & 0.0138500  & 3.7983e-05 & 0.0030694  & 1.8371e-06 & Pop       \\\\\n",
       "\t 2.4465     &  637.73    & 122580.0   & -0.14995   & -0.14802   & -0.13800   & -0.12927   & -0.125150  & -0.12340   & -0.12159   & ...        & 0.0025034  & 0.045159   & 3.5586e-04 & 0.037388   & 0.00011800 & 0.0118970  & 4.4980e-05 & 0.0026449  & 5.6050e-06 & Jazz      \\\\\n",
       "\t 2.5657     &  776.86    & 124010.0   & -0.16863   & -0.16112   & -0.15935   & -0.15120   & -0.140340  & -0.13002   & -0.12804   & ...        & 0.0027029  & 0.047347   & 3.0155e-04 & 0.049469   & 0.00060605 & 0.0140520  & 1.5194e-04 & 0.0032435  & 2.9119e-05 & Jazz      \\\\\n",
       "\t 2.7737     &  447.09    &   8531.9   & -0.16128   & -0.15742   & -0.15769   & -0.14861   & -0.138120  & -0.12762   & -0.12145   & ...        & 0.0019773  & 0.023864   & 1.4097e-05 & 0.021595   & 0.00022824 & 0.0075048  & 7.2913e-05 & 0.0018830  & 6.6686e-06 & Classical \\\\\n",
       "\\end{tabular}\n"
      ],
      "text/markdown": [
       "\n",
       "PAR_TC | PAR_SC | PAR_SC_V | PAR_ASE1 | PAR_ASE2 | PAR_ASE3 | PAR_ASE4 | PAR_ASE5 | PAR_ASE6 | PAR_ASE7 | ... | PAR_3RMS_TCD | PAR_ZCD_10FR_MEAN | PAR_ZCD_10FR_VAR | PAR_1RMS_TCD_10FR_MEAN | PAR_1RMS_TCD_10FR_VAR | PAR_2RMS_TCD_10FR_MEAN | PAR_2RMS_TCD_10FR_VAR | PAR_3RMS_TCD_10FR_MEAN | PAR_3RMS_TCD_10FR_VAR | GENRE | \n",
       "|---|---|---|---|---|---|\n",
       "| 2.5788     |  481.45    |  76989.0   | -0.12334   | -0.11578   | -0.11176   | -0.10412   | -0.106100  | -0.11026   | -0.11375   | ...        | 0.0020317  | 0.041056   | 9.0700e-05 | 0.049627   | 0.00023123 | 0.0112650  | 2.4068e-05 | 0.0021769  | 2.7965e-06 | Pop        | \n",
       "| 2.7195     | 1405.30    | 825380.0   | -0.17655   | -0.18323   | -0.17773   | -0.17057   | -0.166440  | -0.16174   | -0.15371   | ...        | 0.0059592  | 0.082830   | 1.1221e-03 | 0.093622   | 0.00386910 | 0.0314670  | 7.7900e-04 | 0.0067156  | 4.0732e-05 | Blues      | \n",
       "| 2.5351     |  601.09    | 686240.0   | -0.13940   | -0.13251   | -0.11486   | -0.10173   | -0.099342  | -0.10936   | -0.12668   | ...        | 0.0027664  | 0.043652   | 3.5815e-04 | 0.045415   | 0.00021138 | 0.0138500  | 3.7983e-05 | 0.0030694  | 1.8371e-06 | Pop        | \n",
       "| 2.4465     |  637.73    | 122580.0   | -0.14995   | -0.14802   | -0.13800   | -0.12927   | -0.125150  | -0.12340   | -0.12159   | ...        | 0.0025034  | 0.045159   | 3.5586e-04 | 0.037388   | 0.00011800 | 0.0118970  | 4.4980e-05 | 0.0026449  | 5.6050e-06 | Jazz       | \n",
       "| 2.5657     |  776.86    | 124010.0   | -0.16863   | -0.16112   | -0.15935   | -0.15120   | -0.140340  | -0.13002   | -0.12804   | ...        | 0.0027029  | 0.047347   | 3.0155e-04 | 0.049469   | 0.00060605 | 0.0140520  | 1.5194e-04 | 0.0032435  | 2.9119e-05 | Jazz       | \n",
       "| 2.7737     |  447.09    |   8531.9   | -0.16128   | -0.15742   | -0.15769   | -0.14861   | -0.138120  | -0.12762   | -0.12145   | ...        | 0.0019773  | 0.023864   | 1.4097e-05 | 0.021595   | 0.00022824 | 0.0075048  | 7.2913e-05 | 0.0018830  | 6.6686e-06 | Classical  | \n",
       "\n",
       "\n"
      ],
      "text/plain": [
       "  PAR_TC PAR_SC  PAR_SC_V PAR_ASE1 PAR_ASE2 PAR_ASE3 PAR_ASE4 PAR_ASE5 \n",
       "1 2.5788  481.45  76989.0 -0.12334 -0.11578 -0.11176 -0.10412 -0.106100\n",
       "2 2.7195 1405.30 825380.0 -0.17655 -0.18323 -0.17773 -0.17057 -0.166440\n",
       "3 2.5351  601.09 686240.0 -0.13940 -0.13251 -0.11486 -0.10173 -0.099342\n",
       "4 2.4465  637.73 122580.0 -0.14995 -0.14802 -0.13800 -0.12927 -0.125150\n",
       "5 2.5657  776.86 124010.0 -0.16863 -0.16112 -0.15935 -0.15120 -0.140340\n",
       "6 2.7737  447.09   8531.9 -0.16128 -0.15742 -0.15769 -0.14861 -0.138120\n",
       "  PAR_ASE6 PAR_ASE7 ... PAR_3RMS_TCD PAR_ZCD_10FR_MEAN PAR_ZCD_10FR_VAR\n",
       "1 -0.11026 -0.11375 ... 0.0020317    0.041056          9.0700e-05      \n",
       "2 -0.16174 -0.15371 ... 0.0059592    0.082830          1.1221e-03      \n",
       "3 -0.10936 -0.12668 ... 0.0027664    0.043652          3.5815e-04      \n",
       "4 -0.12340 -0.12159 ... 0.0025034    0.045159          3.5586e-04      \n",
       "5 -0.13002 -0.12804 ... 0.0027029    0.047347          3.0155e-04      \n",
       "6 -0.12762 -0.12145 ... 0.0019773    0.023864          1.4097e-05      \n",
       "  PAR_1RMS_TCD_10FR_MEAN PAR_1RMS_TCD_10FR_VAR PAR_2RMS_TCD_10FR_MEAN\n",
       "1 0.049627               0.00023123            0.0112650             \n",
       "2 0.093622               0.00386910            0.0314670             \n",
       "3 0.045415               0.00021138            0.0138500             \n",
       "4 0.037388               0.00011800            0.0118970             \n",
       "5 0.049469               0.00060605            0.0140520             \n",
       "6 0.021595               0.00022824            0.0075048             \n",
       "  PAR_2RMS_TCD_10FR_VAR PAR_3RMS_TCD_10FR_MEAN PAR_3RMS_TCD_10FR_VAR GENRE    \n",
       "1 2.4068e-05            0.0021769              2.7965e-06            Pop      \n",
       "2 7.7900e-04            0.0067156              4.0732e-05            Blues    \n",
       "3 3.7983e-05            0.0030694              1.8371e-06            Pop      \n",
       "4 4.4980e-05            0.0026449              5.6050e-06            Jazz     \n",
       "5 1.5194e-04            0.0032435              2.9119e-05            Jazz     \n",
       "6 7.2913e-05            0.0018830              6.6686e-06            Classical"
      ]
     },
     "metadata": {},
     "output_type": "display_data"
    },
    {
     "data": {
      "text/html": [
       "65.078125"
      ],
      "text/latex": [
       "65.078125"
      ],
      "text/markdown": [
       "65.078125"
      ],
      "text/plain": [
       "[1] 65.07812"
      ]
     },
     "metadata": {},
     "output_type": "display_data"
    }
   ],
   "source": [
    "library(tidyverse)\n",
    "library(data.table)\n",
    "trn <- read_csv(\"genresTrain.csv\")\n",
    "head(trn)\n",
    "nrow(trn)/ncol(trn)"
   ]
  },
  {
   "cell_type": "code",
   "execution_count": 2,
   "metadata": {
    "collapsed": false
   },
   "outputs": [
    {
     "data": {
      "text/html": [
       "FALSE"
      ],
      "text/latex": [
       "FALSE"
      ],
      "text/markdown": [
       "FALSE"
      ],
      "text/plain": [
       "[1] FALSE"
      ]
     },
     "metadata": {},
     "output_type": "display_data"
    }
   ],
   "source": [
    "any(is.na(trn))\n",
    "# no missing value for this dataset\n",
    "# na_info <- unlist(lapply(trn,function(x) any(is.na(x))))\n",
    "# na_info <- names(na_info)[na_info]\n",
    "# head(na_info)"
   ]
  },
  {
   "cell_type": "code",
   "execution_count": 3,
   "metadata": {
    "collapsed": false,
    "scrolled": false
   },
   "outputs": [
    {
     "name": "stderr",
     "output_type": "stream",
     "text": [
      "Warning message in barchart.table(table(x), data, ...):\n",
      "\"explicit 'data' specification ignored\""
     ]
    },
    {
     "data": {},
     "metadata": {},
     "output_type": "display_data"
    },
    {
     "data": {
      "image/png": "[encoded data removed]",
      "text/plain": [
       "plot without title"
      ]
     },
     "metadata": {},
     "output_type": "display_data"
    }
   ],
   "source": [
    "#let's see how genre distribute\n",
    "library(lattice)\n",
    "barchart(trn$GENRE,data=trn)\n",
    "#histogram(~GENRE,data=trn)"
   ]
  },
  {
   "cell_type": "code",
   "execution_count": 4,
   "metadata": {
    "collapsed": false
   },
   "outputs": [],
   "source": [
    "library(sampling)\n",
    "trn$GENRE <- as.factor(trn$GENRE)\n",
    "trn <- trn[order(trn$GENRE),]\n",
    "trn_id <- strata(trn,stratanames = c(\"GENRE\"),size=c(1277,2755,2402,739,1260,1562),method = \"srswor\")\n",
    "\n",
    "trn_set <- trn[trn_id$ID_unit,]\n",
    "test_set <- trn[-trn_id$ID_unit,]"
   ]
  },
  {
   "cell_type": "code",
   "execution_count": 5,
   "metadata": {
    "collapsed": false,
    "scrolled": true
   },
   "outputs": [
    {
     "name": "stderr",
     "output_type": "stream",
     "text": [
      "Warning message in barchart.table(table(x), data, ...):\n",
      "\"explicit 'data' specification ignored\""
     ]
    },
    {
     "data": {},
     "metadata": {},
     "output_type": "display_data"
    },
    {
     "name": "stderr",
     "output_type": "stream",
     "text": [
      "Warning message in barchart.table(table(x), data, ...):\n",
      "\"explicit 'data' specification ignored\""
     ]
    },
    {
     "data": {},
     "metadata": {},
     "output_type": "display_data"
    },
    {
     "data": {
      "image/png": "[encoded data removed]",
      "text/plain": [
       "plot without title"
      ]
     },
     "metadata": {},
     "output_type": "display_data"
    },
    {
     "data": {
      "image/png": "[encoded data removed]",
      "text/plain": [
       "plot without title"
      ]
     },
     "metadata": {},
     "output_type": "display_data"
    }
   ],
   "source": [
    "barchart(trn_set$GENRE,data=trn_set)\n",
    "barchart(test_set$GENRE,data=test_set)"
   ]
  },
  {
   "cell_type": "code",
   "execution_count": 16,
   "metadata": {
    "collapsed": false
   },
   "outputs": [],
   "source": [
    "library(caret)\n",
    "set.seed(31)\n",
    "tenFoldCV <- createFolds(trn$GENRE, k = 10,returnTrain = T)"
   ]
  },
  {
   "cell_type": "code",
   "execution_count": 19,
   "metadata": {
    "collapsed": false
   },
   "outputs": [
    {
     "name": "stdout",
     "output_type": "stream",
     "text": [
      " int [1:11244] 1 2 3 4 5 7 8 9 10 12 ...\n"
     ]
    }
   ],
   "source": [
    "str(tenFoldCV$Fold01)"
   ]
  },
  {
   "cell_type": "code",
   "execution_count": 20,
   "metadata": {
    "collapsed": true
   },
   "outputs": [],
   "source": [
    "fld_1 <- trn[tenFoldCV$Fold01,]"
   ]
  },
  {
   "cell_type": "code",
   "execution_count": 25,
   "metadata": {
    "collapsed": false,
    "scrolled": true
   },
   "outputs": [
    {
     "data": {},
     "metadata": {},
     "output_type": "display_data"
    },
    {
     "data": {},
     "metadata": {},
     "output_type": "display_data"
    },
    {
     "data": {
      "image/png": "[encoded data removed]",
      "text/plain": [
       "plot without title"
      ]
     },
     "metadata": {},
     "output_type": "display_data"
    },
    {
     "data": {
      "image/png": "[encoded data removed]",
      "text/plain": [
       "plot without title"
      ]
     },
     "metadata": {},
     "output_type": "display_data"
    }
   ],
   "source": [
    "histogram(~fld_1$GENRE,data=fld_1)\n",
    "histogram(~GENRE,data=trn,col=\"grey\")"
   ]
  },
  {
   "cell_type": "markdown",
   "metadata": {},
   "source": [
    "4.2. Consider the permeability data set described in Section Sect. 1.4. The objective for this data is to\n",
    "use the predictors to model compounds’ permeability.\n",
    "\n",
    "- (a) What data splitting method(s) would you use for this data? Explain.\n",
    "- (b) Using tools described in this chapter, provide code for implementing your approach(es)."
   ]
  },
  {
   "cell_type": "code",
   "execution_count": 6,
   "metadata": {
    "collapsed": false,
    "scrolled": true
   },
   "outputs": [
    {
     "name": "stdout",
     "output_type": "stream",
     "text": [
      " num [1:165, 1] 12.52 1.12 19.41 1.73 1.68 ...\n",
      " - attr(*, \"dimnames\")=List of 2\n",
      "  ..$ : chr [1:165] \"1\" \"2\" \"3\" \"4\" ...\n",
      "  ..$ : chr \"permeability\"\n"
     ]
    },
    {
     "data": {
      "text/html": [
       "0.149051490514905"
      ],
      "text/latex": [
       "0.149051490514905"
      ],
      "text/markdown": [
       "0.149051490514905"
      ],
      "text/plain": [
       "[1] 0.1490515"
      ]
     },
     "metadata": {},
     "output_type": "display_data"
    },
    {
     "data": {},
     "metadata": {},
     "output_type": "display_data"
    },
    {
     "data": {
      "image/png": "[encoded data removed]",
      "text/plain": [
       "plot without title"
      ]
     },
     "metadata": {},
     "output_type": "display_data"
    }
   ],
   "source": [
    "library(AppliedPredictiveModeling)\n",
    "data(permeability)\n",
    "str(permeability)\n",
    "nrow(fingerprints)/ncol(fingerprints)\n",
    "histogram(~permeability)"
   ]
  },
  {
   "cell_type": "code",
   "execution_count": 8,
   "metadata": {
    "collapsed": false
   },
   "outputs": [],
   "source": [
    "set.seed(72)\n",
    "library(caret)\n",
    "repeatedCV <- createMultiFolds(permeability,k=10,times = 25)"
   ]
  },
  {
   "cell_type": "code",
   "execution_count": 18,
   "metadata": {
    "collapsed": false,
    "scrolled": true
   },
   "outputs": [
    {
     "data": {},
     "metadata": {},
     "output_type": "display_data"
    },
    {
     "data": {},
     "metadata": {},
     "output_type": "display_data"
    },
    {
     "data": {
      "image/png": "[encoded data removed]",
      "text/plain": [
       "plot without title"
      ]
     },
     "metadata": {},
     "output_type": "display_data"
    },
    {
     "data": {
      "image/png": "[encoded data removed]",
      "text/plain": [
       "plot without title"
      ]
     },
     "metadata": {},
     "output_type": "display_data"
    }
   ],
   "source": [
    "histogram(~permeability[repeatedCV$Fold01.Rep01])"
   ]
  },
  {
   "cell_type": "markdown",
   "metadata": {},
   "source": [
    "4.3. Partial least squares (Sect. 6.3) was used to model the yield of a chemical\n",
    "manufacturing process (Sect. 1.4). The data can be found in the AppliedPredictiveModeling package and can be loaded using\n",
    "```r\n",
    "library(AppliedPredictiveModeling)\n",
    "data(ChemicalManufacturingProcess)\n",
    "```\n",
    "The objective of this analysis is to find the number of PLS components\n",
    "that yields the optimal R2 value (Sect. 5.1). PLS models with 1 through 10\n",
    "components were each evaluated using five repeats of 10-fold cross-validation\n",
    "and the results are presented in the following table:\n",
    "- (a) Using the “one-standard error”method, what number of PLS components\n",
    "provides the most parsimonious model?\n",
    "- (b) Compute the tolerance values for this example. If a 10 % loss in R2 is\n",
    "acceptable, then what is the optimal number of PLS components?\n",
    "- (c) Several other models (discussed in Part II) with varying degrees of complexity were trained and tuned and the results are presented in Fig. 4.13.\n",
    "If the goal is to select the model that optimizes R2, then which model(s)\n",
    "would you choose, and why?\n",
    "- (d) Prediction time, as well as model complexity (Sect. 4.8) are other factors\n",
    "to consider when selecting the optimal model(s). Given each model’s prediction time, model comp"
   ]
  },
  {
   "cell_type": "code",
   "execution_count": 1,
   "metadata": {
    "collapsed": false,
    "scrolled": false
   },
   "outputs": [
    {
     "name": "stderr",
     "output_type": "stream",
     "text": [
      "Warning message:\n",
      "\"package 'AppliedPredictiveModeling' was built under R version 3.5.1\""
     ]
    },
    {
     "data": {
      "text/html": [
       "<table>\n",
       "<thead><tr><th scope=col>Yield</th><th scope=col>BiologicalMaterial01</th><th scope=col>BiologicalMaterial02</th><th scope=col>BiologicalMaterial03</th><th scope=col>BiologicalMaterial04</th><th scope=col>BiologicalMaterial05</th><th scope=col>BiologicalMaterial06</th><th scope=col>BiologicalMaterial07</th><th scope=col>BiologicalMaterial08</th><th scope=col>BiologicalMaterial09</th><th scope=col>...</th><th scope=col>ManufacturingProcess36</th><th scope=col>ManufacturingProcess37</th><th scope=col>ManufacturingProcess38</th><th scope=col>ManufacturingProcess39</th><th scope=col>ManufacturingProcess40</th><th scope=col>ManufacturingProcess41</th><th scope=col>ManufacturingProcess42</th><th scope=col>ManufacturingProcess43</th><th scope=col>ManufacturingProcess44</th><th scope=col>ManufacturingProcess45</th></tr></thead>\n",
       "<tbody>\n",
       "\t<tr><td>38.00</td><td>6.25 </td><td>49.58</td><td>56.97</td><td>12.74</td><td>19.51</td><td>43.73</td><td>100  </td><td>16.66</td><td>11.44</td><td>...  </td><td>0.019</td><td>0.5  </td><td>3    </td><td>7.2  </td><td> NA  </td><td>  NA </td><td>11.6 </td><td>3.0  </td><td>1.8  </td><td>2.4  </td></tr>\n",
       "\t<tr><td>42.44</td><td>8.01 </td><td>60.97</td><td>67.48</td><td>14.65</td><td>19.36</td><td>53.14</td><td>100  </td><td>19.04</td><td>12.55</td><td>...  </td><td>0.019</td><td>2.0  </td><td>2    </td><td>7.2  </td><td>0.1  </td><td>0.15 </td><td>11.1 </td><td>0.9  </td><td>1.9  </td><td>2.2  </td></tr>\n",
       "\t<tr><td>42.03</td><td>8.01 </td><td>60.97</td><td>67.48</td><td>14.65</td><td>19.36</td><td>53.14</td><td>100  </td><td>19.04</td><td>12.55</td><td>...  </td><td>0.018</td><td>0.7  </td><td>2    </td><td>7.2  </td><td>0.0  </td><td>0.00 </td><td>12.0 </td><td>1.0  </td><td>1.8  </td><td>2.3  </td></tr>\n",
       "\t<tr><td>41.42</td><td>8.01 </td><td>60.97</td><td>67.48</td><td>14.65</td><td>19.36</td><td>53.14</td><td>100  </td><td>19.04</td><td>12.55</td><td>...  </td><td>0.018</td><td>1.2  </td><td>2    </td><td>7.2  </td><td>0.0  </td><td>0.00 </td><td>10.6 </td><td>1.1  </td><td>1.8  </td><td>2.1  </td></tr>\n",
       "\t<tr><td>42.49</td><td>7.47 </td><td>63.33</td><td>72.25</td><td>14.02</td><td>17.91</td><td>54.66</td><td>100  </td><td>18.22</td><td>12.80</td><td>...  </td><td>0.017</td><td>0.2  </td><td>2    </td><td>7.3  </td><td>0.0  </td><td>0.00 </td><td>11.0 </td><td>1.1  </td><td>1.7  </td><td>2.1  </td></tr>\n",
       "\t<tr><td>43.57</td><td>6.12 </td><td>58.36</td><td>65.31</td><td>15.17</td><td>21.79</td><td>51.23</td><td>100  </td><td>18.30</td><td>12.13</td><td>...  </td><td>0.018</td><td>0.4  </td><td>2    </td><td>7.2  </td><td>0.0  </td><td>0.00 </td><td>11.5 </td><td>2.2  </td><td>1.8  </td><td>2.0  </td></tr>\n",
       "</tbody>\n",
       "</table>\n"
      ],
      "text/latex": [
       "\\begin{tabular}{r|llllllllllllllllllllllllllllllllllllllllllllllllllllllllll}\n",
       " Yield & BiologicalMaterial01 & BiologicalMaterial02 & BiologicalMaterial03 & BiologicalMaterial04 & BiologicalMaterial05 & BiologicalMaterial06 & BiologicalMaterial07 & BiologicalMaterial08 & BiologicalMaterial09 & ... & ManufacturingProcess36 & ManufacturingProcess37 & ManufacturingProcess38 & ManufacturingProcess39 & ManufacturingProcess40 & ManufacturingProcess41 & ManufacturingProcess42 & ManufacturingProcess43 & ManufacturingProcess44 & ManufacturingProcess45\\\\\n",
       "\\hline\n",
       "\t 38.00 & 6.25  & 49.58 & 56.97 & 12.74 & 19.51 & 43.73 & 100   & 16.66 & 11.44 & ...   & 0.019 & 0.5   & 3     & 7.2   &  NA   &   NA  & 11.6  & 3.0   & 1.8   & 2.4  \\\\\n",
       "\t 42.44 & 8.01  & 60.97 & 67.48 & 14.65 & 19.36 & 53.14 & 100   & 19.04 & 12.55 & ...   & 0.019 & 2.0   & 2     & 7.2   & 0.1   & 0.15  & 11.1  & 0.9   & 1.9   & 2.2  \\\\\n",
       "\t 42.03 & 8.01  & 60.97 & 67.48 & 14.65 & 19.36 & 53.14 & 100   & 19.04 & 12.55 & ...   & 0.018 & 0.7   & 2     & 7.2   & 0.0   & 0.00  & 12.0  & 1.0   & 1.8   & 2.3  \\\\\n",
       "\t 41.42 & 8.01  & 60.97 & 67.48 & 14.65 & 19.36 & 53.14 & 100   & 19.04 & 12.55 & ...   & 0.018 & 1.2   & 2     & 7.2   & 0.0   & 0.00  & 10.6  & 1.1   & 1.8   & 2.1  \\\\\n",
       "\t 42.49 & 7.47  & 63.33 & 72.25 & 14.02 & 17.91 & 54.66 & 100   & 18.22 & 12.80 & ...   & 0.017 & 0.2   & 2     & 7.3   & 0.0   & 0.00  & 11.0  & 1.1   & 1.7   & 2.1  \\\\\n",
       "\t 43.57 & 6.12  & 58.36 & 65.31 & 15.17 & 21.79 & 51.23 & 100   & 18.30 & 12.13 & ...   & 0.018 & 0.4   & 2     & 7.2   & 0.0   & 0.00  & 11.5  & 2.2   & 1.8   & 2.0  \\\\\n",
       "\\end{tabular}\n"
      ],
      "text/markdown": [
       "\n",
       "Yield | BiologicalMaterial01 | BiologicalMaterial02 | BiologicalMaterial03 | BiologicalMaterial04 | BiologicalMaterial05 | BiologicalMaterial06 | BiologicalMaterial07 | BiologicalMaterial08 | BiologicalMaterial09 | ... | ManufacturingProcess36 | ManufacturingProcess37 | ManufacturingProcess38 | ManufacturingProcess39 | ManufacturingProcess40 | ManufacturingProcess41 | ManufacturingProcess42 | ManufacturingProcess43 | ManufacturingProcess44 | ManufacturingProcess45 | \n",
       "|---|---|---|---|---|---|\n",
       "| 38.00 | 6.25  | 49.58 | 56.97 | 12.74 | 19.51 | 43.73 | 100   | 16.66 | 11.44 | ...   | 0.019 | 0.5   | 3     | 7.2   |  NA   |   NA  | 11.6  | 3.0   | 1.8   | 2.4   | \n",
       "| 42.44 | 8.01  | 60.97 | 67.48 | 14.65 | 19.36 | 53.14 | 100   | 19.04 | 12.55 | ...   | 0.019 | 2.0   | 2     | 7.2   | 0.1   | 0.15  | 11.1  | 0.9   | 1.9   | 2.2   | \n",
       "| 42.03 | 8.01  | 60.97 | 67.48 | 14.65 | 19.36 | 53.14 | 100   | 19.04 | 12.55 | ...   | 0.018 | 0.7   | 2     | 7.2   | 0.0   | 0.00  | 12.0  | 1.0   | 1.8   | 2.3   | \n",
       "| 41.42 | 8.01  | 60.97 | 67.48 | 14.65 | 19.36 | 53.14 | 100   | 19.04 | 12.55 | ...   | 0.018 | 1.2   | 2     | 7.2   | 0.0   | 0.00  | 10.6  | 1.1   | 1.8   | 2.1   | \n",
       "| 42.49 | 7.47  | 63.33 | 72.25 | 14.02 | 17.91 | 54.66 | 100   | 18.22 | 12.80 | ...   | 0.017 | 0.2   | 2     | 7.3   | 0.0   | 0.00  | 11.0  | 1.1   | 1.7   | 2.1   | \n",
       "| 43.57 | 6.12  | 58.36 | 65.31 | 15.17 | 21.79 | 51.23 | 100   | 18.30 | 12.13 | ...   | 0.018 | 0.4   | 2     | 7.2   | 0.0   | 0.00  | 11.5  | 2.2   | 1.8   | 2.0   | \n",
       "\n",
       "\n"
      ],
      "text/plain": [
       "  Yield BiologicalMaterial01 BiologicalMaterial02 BiologicalMaterial03\n",
       "1 38.00 6.25                 49.58                56.97               \n",
       "2 42.44 8.01                 60.97                67.48               \n",
       "3 42.03 8.01                 60.97                67.48               \n",
       "4 41.42 8.01                 60.97                67.48               \n",
       "5 42.49 7.47                 63.33                72.25               \n",
       "6 43.57 6.12                 58.36                65.31               \n",
       "  BiologicalMaterial04 BiologicalMaterial05 BiologicalMaterial06\n",
       "1 12.74                19.51                43.73               \n",
       "2 14.65                19.36                53.14               \n",
       "3 14.65                19.36                53.14               \n",
       "4 14.65                19.36                53.14               \n",
       "5 14.02                17.91                54.66               \n",
       "6 15.17                21.79                51.23               \n",
       "  BiologicalMaterial07 BiologicalMaterial08 BiologicalMaterial09 ...\n",
       "1 100                  16.66                11.44                ...\n",
       "2 100                  19.04                12.55                ...\n",
       "3 100                  19.04                12.55                ...\n",
       "4 100                  19.04                12.55                ...\n",
       "5 100                  18.22                12.80                ...\n",
       "6 100                  18.30                12.13                ...\n",
       "  ManufacturingProcess36 ManufacturingProcess37 ManufacturingProcess38\n",
       "1 0.019                  0.5                    3                     \n",
       "2 0.019                  2.0                    2                     \n",
       "3 0.018                  0.7                    2                     \n",
       "4 0.018                  1.2                    2                     \n",
       "5 0.017                  0.2                    2                     \n",
       "6 0.018                  0.4                    2                     \n",
       "  ManufacturingProcess39 ManufacturingProcess40 ManufacturingProcess41\n",
       "1 7.2                     NA                      NA                  \n",
       "2 7.2                    0.1                    0.15                  \n",
       "3 7.2                    0.0                    0.00                  \n",
       "4 7.2                    0.0                    0.00                  \n",
       "5 7.3                    0.0                    0.00                  \n",
       "6 7.2                    0.0                    0.00                  \n",
       "  ManufacturingProcess42 ManufacturingProcess43 ManufacturingProcess44\n",
       "1 11.6                   3.0                    1.8                   \n",
       "2 11.1                   0.9                    1.9                   \n",
       "3 12.0                   1.0                    1.8                   \n",
       "4 10.6                   1.1                    1.8                   \n",
       "5 11.0                   1.1                    1.7                   \n",
       "6 11.5                   2.2                    1.8                   \n",
       "  ManufacturingProcess45\n",
       "1 2.4                   \n",
       "2 2.2                   \n",
       "3 2.3                   \n",
       "4 2.1                   \n",
       "5 2.1                   \n",
       "6 2.0                   "
      ]
     },
     "metadata": {},
     "output_type": "display_data"
    }
   ],
   "source": [
    "library(AppliedPredictiveModeling)\n",
    "data(ChemicalManufacturingProcess)\n",
    "head(ChemicalManufacturingProcess)"
   ]
  },
  {
   "cell_type": "code",
   "execution_count": 2,
   "metadata": {
    "collapsed": false
   },
   "outputs": [
    {
     "data": {
      "text/html": [
       "<ol class=list-inline>\n",
       "\t<li>'ManufacturingProcess01'</li>\n",
       "\t<li>'ManufacturingProcess02'</li>\n",
       "\t<li>'ManufacturingProcess03'</li>\n",
       "\t<li>'ManufacturingProcess04'</li>\n",
       "\t<li>'ManufacturingProcess05'</li>\n",
       "\t<li>'ManufacturingProcess06'</li>\n",
       "</ol>\n"
      ],
      "text/latex": [
       "\\begin{enumerate*}\n",
       "\\item 'ManufacturingProcess01'\n",
       "\\item 'ManufacturingProcess02'\n",
       "\\item 'ManufacturingProcess03'\n",
       "\\item 'ManufacturingProcess04'\n",
       "\\item 'ManufacturingProcess05'\n",
       "\\item 'ManufacturingProcess06'\n",
       "\\end{enumerate*}\n"
      ],
      "text/markdown": [
       "1. 'ManufacturingProcess01'\n",
       "2. 'ManufacturingProcess02'\n",
       "3. 'ManufacturingProcess03'\n",
       "4. 'ManufacturingProcess04'\n",
       "5. 'ManufacturingProcess05'\n",
       "6. 'ManufacturingProcess06'\n",
       "\n",
       "\n"
      ],
      "text/plain": [
       "[1] \"ManufacturingProcess01\" \"ManufacturingProcess02\" \"ManufacturingProcess03\"\n",
       "[4] \"ManufacturingProcess04\" \"ManufacturingProcess05\" \"ManufacturingProcess06\""
      ]
     },
     "metadata": {},
     "output_type": "display_data"
    }
   ],
   "source": [
    "if(any(is.na(ChemicalManufacturingProcess))){\n",
    "    na_info <- unlist(lapply(ChemicalManufacturingProcess,function(x) any(is.na(x))))\n",
    "    return (head(names(na_info)[na_info]))\n",
    "}"
   ]
  },
  {
   "cell_type": "code",
   "execution_count": 3,
   "metadata": {
    "collapsed": false,
    "scrolled": true
   },
   "outputs": [],
   "source": [
    "CMP <- ChemicalManufacturingProcess[,!na_info]"
   ]
  },
  {
   "cell_type": "code",
   "execution_count": 4,
   "metadata": {
    "collapsed": false,
    "scrolled": true
   },
   "outputs": [
    {
     "name": "stderr",
     "output_type": "stream",
     "text": [
      "Warning message:\n",
      "\"package 'caret' was built under R version 3.5.1\"Loading required package: lattice\n",
      "Loading required package: ggplot2\n"
     ]
    }
   ],
   "source": [
    "library(caret)\n",
    "set.seed(19711230)\n",
    "fit_pls <- train(Yield ~ .,data = CMP,method = \"pls\",\n",
    "                 preProc = c(\"center\", \"scale\"),tuneLength = 10,\n",
    "                 trControl = trainControl(method = \"repeatedcv\", repeats = 5))"
   ]
  },
  {
   "cell_type": "code",
   "execution_count": 5,
   "metadata": {
    "collapsed": false
   },
   "outputs": [
    {
     "name": "stdout",
     "output_type": "stream",
     "text": [
      "List of 23\n",
      " $ method      : chr \"pls\"\n",
      " $ modelInfo   :List of 14\n",
      "  ..$ label     : chr \"Partial Least Squares\"\n",
      "  ..$ library   : chr \"pls\"\n",
      "  ..$ type      : chr [1:2] \"Regression\" \"Classification\"\n",
      "  ..$ parameters:'data.frame':\t1 obs. of  3 variables:\n",
      "  .. ..$ parameter: Factor w/ 1 level \"ncomp\": 1\n",
      "  .. ..$ class    : Factor w/ 1 level \"numeric\": 1\n",
      "  .. ..$ label    : Factor w/ 1 level \"#Components\": 1\n",
      "  ..$ grid      :function (x, y, len = NULL, search = \"grid\")  \n",
      "  .. ..- attr(*, \"srcref\")= 'srcref' int [1:8] 7 26 14 19 26 19 7 14\n",
      "  .. .. ..- attr(*, \"srcfile\")=Classes 'srcfilecopy', 'srcfile' <environment: 0x00000000260d71b0> \n",
      "  ..$ loop      :function (grid)  \n",
      "  .. ..- attr(*, \"srcref\")= 'srcref' int [1:8] 15 26 20 19 26 19 15 20\n",
      "  .. .. ..- attr(*, \"srcfile\")=Classes 'srcfilecopy', 'srcfile' <environment: 0x00000000260d71b0> \n",
      "  ..$ fit       :function (x, y, wts, param, lev, last, classProbs, ...)  \n",
      "  .. ..- attr(*, \"srcref\")= 'srcref' int [1:8] 21 25 31 19 25 19 21 31\n",
      "  .. .. ..- attr(*, \"srcfile\")=Classes 'srcfilecopy', 'srcfile' <environment: 0x00000000260d71b0> \n",
      "  ..$ predict   :function (modelFit, newdata, submodels = NULL)  \n",
      "  .. ..- attr(*, \"srcref\")= 'srcref' int [1:8] 32 29 61 19 29 19 32 61\n",
      "  .. .. ..- attr(*, \"srcfile\")=Classes 'srcfilecopy', 'srcfile' <environment: 0x00000000260d71b0> \n",
      "  ..$ prob      :function (modelFit, newdata, submodels = NULL)  \n",
      "  .. ..- attr(*, \"srcref\")= 'srcref' int [1:8] 62 26 92 19 26 19 62 92\n",
      "  .. .. ..- attr(*, \"srcfile\")=Classes 'srcfilecopy', 'srcfile' <environment: 0x00000000260d71b0> \n",
      "  ..$ varImp    :function (object, estimate = NULL, ...)  \n",
      "  .. ..- attr(*, \"srcref\")= 'srcref' int [1:8] 93 28 125 19 28 19 93 125\n",
      "  .. .. ..- attr(*, \"srcfile\")=Classes 'srcfilecopy', 'srcfile' <environment: 0x00000000260d71b0> \n",
      "  ..$ predictors:function (x, ...)  \n",
      "  .. ..- attr(*, \"srcref\")= 'srcref' int [1:8] 126 32 126 70 32 70 126 126\n",
      "  .. .. ..- attr(*, \"srcfile\")=Classes 'srcfilecopy', 'srcfile' <environment: 0x00000000260d71b0> \n",
      "  ..$ levels    :function (x)  \n",
      "  .. ..- attr(*, \"srcref\")= 'srcref' int [1:8] 127 28 127 50 28 50 127 127\n",
      "  .. .. ..- attr(*, \"srcfile\")=Classes 'srcfilecopy', 'srcfile' <environment: 0x00000000260d71b0> \n",
      "  ..$ tags      : chr [1:4] \"Partial Least Squares\" \"Feature Extraction\" \"Linear Classifier\" \"Linear Regression\"\n",
      "  ..$ sort      :function (x)  \n",
      "  .. ..- attr(*, \"srcref\")= 'srcref' int [1:8] 129 26 129 53 26 53 129 129\n",
      "  .. .. ..- attr(*, \"srcfile\")=Classes 'srcfilecopy', 'srcfile' <environment: 0x00000000260d71b0> \n",
      " $ modelType   : chr \"Regression\"\n",
      " $ results     :'data.frame':\t10 obs. of  7 variables:\n",
      "  ..$ ncomp     : num [1:10] 1 2 3 4 5 6 7 8 9 10\n",
      "  ..$ RMSE      : num [1:10] 1.56 1.73 1.34 1.4 1.49 ...\n",
      "  ..$ Rsquared  : num [1:10] 0.398 0.508 0.567 0.552 0.538 ...\n",
      "  ..$ MAE       : num [1:10] 1.22 1.15 1.01 1.03 1.06 ...\n",
      "  ..$ RMSESD    : num [1:10] 0.516 1.496 0.597 0.634 0.785 ...\n",
      "  ..$ RsquaredSD: num [1:10] 0.2 0.219 0.189 0.2 0.219 ...\n",
      "  ..$ MAESD     : num [1:10] 0.27 0.506 0.283 0.286 0.329 ...\n",
      " $ pred        : NULL\n",
      " $ bestTune    :'data.frame':\t1 obs. of  1 variable:\n",
      "  ..$ ncomp: num 3\n",
      " $ call        : language train.formula(form = Yield ~ ., data = CMP, method = \"pls\", preProc = c(\"center\",      \"scale\"), tuneLength = 10,| __truncated__ ...\n",
      " $ dots        : list()\n",
      " $ metric      : chr \"RMSE\"\n",
      " $ control     :List of 28\n",
      "  ..$ method           : chr \"repeatedcv\"\n",
      "  ..$ number           : num 10\n",
      "  ..$ repeats          : num 5\n",
      "  ..$ search           : chr \"grid\"\n",
      "  ..$ p                : num 0.75\n",
      "  ..$ initialWindow    : NULL\n",
      "  ..$ horizon          : num 1\n",
      "  ..$ fixedWindow      : logi TRUE\n",
      "  ..$ skip             : num 0\n",
      "  ..$ verboseIter      : logi FALSE\n",
      "  ..$ returnData       : logi TRUE\n",
      "  ..$ returnResamp     : chr \"final\"\n",
      "  ..$ savePredictions  : chr \"none\"\n",
      "  ..$ classProbs       : logi FALSE\n",
      "  ..$ summaryFunction  :function (data, lev = NULL, model = NULL)  \n",
      "  ..$ selectionFunction: chr \"best\"\n",
      "  ..$ preProcOptions   :List of 6\n",
      "  .. ..$ thresh   : num 0.95\n",
      "  .. ..$ ICAcomp  : num 3\n",
      "  .. ..$ k        : num 5\n",
      "  .. ..$ freqCut  : num 19\n",
      "  .. ..$ uniqueCut: num 10\n",
      "  .. ..$ cutoff   : num 0.9\n",
      "  ..$ sampling         : NULL\n",
      "  ..$ index            :List of 50\n",
      "  .. ..$ Fold01.Rep1: int [1:158] 1 2 3 4 5 6 8 9 10 11 ...\n",
      "  .. ..$ Fold02.Rep1: int [1:159] 1 3 4 5 6 7 8 9 10 11 ...\n",
      "  .. ..$ Fold03.Rep1: int [1:159] 1 2 4 5 6 7 8 9 10 11 ...\n",
      "  .. ..$ Fold04.Rep1: int [1:159] 1 2 3 4 6 7 8 10 11 12 ...\n",
      "  .. ..$ Fold05.Rep1: int [1:160] 1 2 3 4 5 6 7 9 10 11 ...\n",
      "  .. ..$ Fold06.Rep1: int [1:157] 1 2 3 4 5 6 7 8 9 10 ...\n",
      "  .. ..$ Fold07.Rep1: int [1:159] 1 2 3 4 5 6 7 8 9 10 ...\n",
      "  .. ..$ Fold08.Rep1: int [1:159] 1 2 3 4 5 7 8 9 11 12 ...\n",
      "  .. ..$ Fold09.Rep1: int [1:157] 2 3 5 6 7 8 9 10 11 12 ...\n",
      "  .. ..$ Fold10.Rep1: int [1:157] 1 2 3 4 5 6 7 8 9 10 ...\n",
      "  .. ..$ Fold01.Rep2: int [1:160] 1 2 3 4 6 7 8 9 10 11 ...\n",
      "  .. ..$ Fold02.Rep2: int [1:158] 1 2 4 5 7 8 9 10 11 13 ...\n",
      "  .. ..$ Fold03.Rep2: int [1:158] 1 2 3 4 5 6 7 8 9 10 ...\n",
      "  .. ..$ Fold04.Rep2: int [1:157] 1 3 4 5 6 7 9 10 11 12 ...\n",
      "  .. ..$ Fold05.Rep2: int [1:159] 1 2 3 5 6 7 8 9 10 11 ...\n",
      "  .. ..$ Fold06.Rep2: int [1:158] 2 3 4 5 6 7 8 9 11 12 ...\n",
      "  .. ..$ Fold07.Rep2: int [1:159] 1 2 3 4 5 6 7 8 10 11 ...\n",
      "  .. ..$ Fold08.Rep2: int [1:158] 1 2 3 4 5 6 7 8 9 10 ...\n",
      "  .. ..$ Fold09.Rep2: int [1:159] 1 2 3 4 5 6 8 9 10 11 ...\n",
      "  .. ..$ Fold10.Rep2: int [1:158] 1 2 3 4 5 6 7 8 9 10 ...\n",
      "  .. ..$ Fold01.Rep3: int [1:157] 1 2 3 4 5 7 8 9 10 11 ...\n",
      "  .. ..$ Fold02.Rep3: int [1:159] 1 2 3 4 6 7 8 9 10 11 ...\n",
      "  .. ..$ Fold03.Rep3: int [1:160] 1 2 3 4 5 6 7 8 9 10 ...\n",
      "  .. ..$ Fold04.Rep3: int [1:158] 1 2 3 4 5 6 8 9 10 12 ...\n",
      "  .. ..$ Fold05.Rep3: int [1:158] 1 2 3 4 5 6 7 8 9 11 ...\n",
      "  .. ..$ Fold06.Rep3: int [1:158] 1 2 3 4 5 6 7 8 10 11 ...\n",
      "  .. ..$ Fold07.Rep3: int [1:159] 1 2 4 5 6 7 8 9 10 11 ...\n",
      "  .. ..$ Fold08.Rep3: int [1:159] 2 3 4 5 6 7 8 9 10 11 ...\n",
      "  .. ..$ Fold09.Rep3: int [1:158] 1 2 3 4 5 6 7 9 10 11 ...\n",
      "  .. ..$ Fold10.Rep3: int [1:158] 1 3 5 6 7 8 9 10 11 12 ...\n",
      "  .. ..$ Fold01.Rep4: int [1:159] 1 2 3 4 5 6 8 9 10 11 ...\n",
      "  .. ..$ Fold02.Rep4: int [1:159] 1 2 3 4 5 6 7 8 9 10 ...\n",
      "  .. ..$ Fold03.Rep4: int [1:159] 1 2 3 4 5 6 7 8 9 10 ...\n",
      "  .. ..$ Fold04.Rep4: int [1:159] 1 2 3 4 5 6 7 8 9 10 ...\n",
      "  .. ..$ Fold05.Rep4: int [1:157] 1 2 3 4 5 7 9 10 11 12 ...\n",
      "  .. ..$ Fold06.Rep4: int [1:159] 1 2 3 5 6 7 8 9 10 11 ...\n",
      "  .. ..$ Fold07.Rep4: int [1:158] 2 4 5 6 7 8 9 10 11 13 ...\n",
      "  .. ..$ Fold08.Rep4: int [1:158] 1 2 3 4 5 6 7 8 12 13 ...\n",
      "  .. ..$ Fold09.Rep4: int [1:157] 1 3 4 6 7 8 9 10 11 12 ...\n",
      "  .. ..$ Fold10.Rep4: int [1:159] 1 2 3 4 5 6 7 8 9 10 ...\n",
      "  .. ..$ Fold01.Rep5: int [1:159] 2 4 5 6 7 8 9 10 11 12 ...\n",
      "  .. ..$ Fold02.Rep5: int [1:160] 1 2 3 4 5 7 8 9 10 11 ...\n",
      "  .. ..$ Fold03.Rep5: int [1:158] 1 2 3 4 5 6 7 9 12 13 ...\n",
      "  .. ..$ Fold04.Rep5: int [1:159] 1 2 3 4 5 6 8 9 10 11 ...\n",
      "  .. ..$ Fold05.Rep5: int [1:158] 1 2 3 4 5 6 7 8 10 11 ...\n",
      "  .. ..$ Fold06.Rep5: int [1:158] 1 2 3 4 5 6 7 8 9 10 ...\n",
      "  .. ..$ Fold07.Rep5: int [1:160] 1 2 3 4 5 6 7 8 9 10 ...\n",
      "  .. ..$ Fold08.Rep5: int [1:158] 1 3 4 5 6 7 8 9 10 11 ...\n",
      "  .. ..$ Fold09.Rep5: int [1:157] 1 2 3 6 7 8 9 10 11 12 ...\n",
      "  .. ..$ Fold10.Rep5: int [1:157] 1 2 3 4 5 6 7 8 9 10 ...\n",
      "  ..$ indexOut         :List of 50\n",
      "  .. ..$ Resample01: int [1:18] 7 14 17 43 54 58 64 66 96 105 ...\n",
      "  .. ..$ Resample02: int [1:17] 2 28 33 34 46 50 61 68 70 79 ...\n",
      "  .. ..$ Resample03: int [1:17] 3 19 29 35 45 56 82 85 90 91 ...\n",
      "  .. ..$ Resample04: int [1:17] 5 9 31 38 39 52 60 78 100 108 ...\n",
      "  .. ..$ Resample05: int [1:16] 8 26 32 44 55 65 93 98 104 120 ...\n",
      "  .. ..$ Resample06: int [1:19] 11 27 40 47 49 51 57 67 69 80 ...\n",
      "  .. ..$ Resample07: int [1:17] 15 18 25 36 41 71 75 99 101 102 ...\n",
      "  .. ..$ Resample08: int [1:17] 6 10 21 22 23 74 76 81 86 117 ...\n",
      "  .. ..$ Resample09: int [1:19] 1 4 13 20 24 30 48 53 62 72 ...\n",
      "  .. ..$ Resample10: int [1:19] 12 16 37 42 59 63 73 77 84 88 ...\n",
      "  .. ..$ Resample11: int [1:16] 5 20 62 74 81 82 83 87 106 112 ...\n",
      "  .. ..$ Resample12: int [1:18] 3 6 12 21 23 28 37 84 86 89 ...\n",
      "  .. ..$ Resample13: int [1:18] 11 18 29 32 42 72 80 94 115 122 ...\n",
      "  .. ..$ Resample14: int [1:19] 2 8 14 25 34 44 61 64 65 78 ...\n",
      "  .. ..$ Resample15: int [1:17] 4 26 33 46 56 66 67 90 113 119 ...\n",
      "  .. ..$ Resample16: int [1:18] 1 10 13 48 51 57 60 79 85 99 ...\n",
      "  .. ..$ Resample17: int [1:17] 9 17 24 27 49 50 70 88 93 96 ...\n",
      "  .. ..$ Resample18: int [1:18] 15 19 30 38 41 52 58 63 68 73 ...\n",
      "  .. ..$ Resample19: int [1:17] 7 16 31 45 53 69 76 98 103 114 ...\n",
      "  .. ..$ Resample20: int [1:18] 22 35 36 39 40 43 47 54 55 59 ...\n",
      "  .. ..$ Resample21: int [1:19] 6 31 42 44 49 58 61 69 80 93 ...\n",
      "  .. ..$ Resample22: int [1:17] 5 23 36 50 60 65 66 77 86 109 ...\n",
      "  .. ..$ Resample23: int [1:16] 17 20 26 32 38 43 53 56 73 89 ...\n",
      "  .. ..$ Resample24: int [1:18] 7 11 19 22 28 51 55 59 76 84 ...\n",
      "  .. ..$ Resample25: int [1:18] 10 25 33 63 67 70 79 95 96 97 ...\n",
      "  .. ..$ Resample26: int [1:18] 9 24 29 30 37 39 78 83 88 104 ...\n",
      "  .. ..$ Resample27: int [1:17] 3 13 27 35 62 68 85 87 91 94 ...\n",
      "  .. ..$ Resample28: int [1:17] 1 12 16 18 40 45 54 57 74 90 ...\n",
      "  .. ..$ Resample29: int [1:18] 8 14 15 21 46 47 71 72 75 81 ...\n",
      "  .. ..$ Resample30: int [1:18] 2 4 34 41 48 52 64 92 117 125 ...\n",
      "  .. ..$ Resample31: int [1:17] 7 17 31 47 48 56 60 75 76 98 ...\n",
      "  .. ..$ Resample32: int [1:17] 15 30 45 55 58 67 82 86 97 111 ...\n",
      "  .. ..$ Resample33: int [1:17] 20 26 37 38 41 46 85 87 96 102 ...\n",
      "  .. ..$ Resample34: int [1:17] 14 25 34 40 43 50 53 80 90 100 ...\n",
      "  .. ..$ Resample35: int [1:19] 6 8 18 24 28 35 36 52 61 94 ...\n",
      "  .. ..$ Resample36: int [1:17] 4 29 33 49 51 59 63 64 66 68 ...\n",
      "  .. ..$ Resample37: int [1:18] 1 3 12 16 21 65 69 77 79 106 ...\n",
      "  .. ..$ Resample38: int [1:18] 9 10 11 22 32 57 73 74 81 109 ...\n",
      "  .. ..$ Resample39: int [1:19] 2 5 27 42 54 62 70 71 78 84 ...\n",
      "  .. ..$ Resample40: int [1:17] 13 19 23 39 44 83 88 105 107 115 ...\n",
      "  .. ..$ Resample41: int [1:17] 1 3 20 28 30 43 45 56 57 59 ...\n",
      "  .. ..$ Resample42: int [1:16] 6 24 49 51 66 78 82 88 91 99 ...\n",
      "  .. ..$ Resample43: int [1:18] 8 10 11 48 68 72 73 83 93 109 ...\n",
      "  .. ..$ Resample44: int [1:17] 7 15 27 31 47 54 90 92 96 98 ...\n",
      "  .. ..$ Resample45: int [1:18] 9 17 34 36 41 46 76 80 81 111 ...\n",
      "  .. ..$ Resample46: int [1:18] 19 21 23 38 52 65 67 69 86 87 ...\n",
      "  .. ..$ Resample47: int [1:16] 12 55 64 77 84 85 94 97 100 110 ...\n",
      "  .. ..$ Resample48: int [1:18] 2 14 16 26 33 37 44 62 89 107 ...\n",
      "  .. ..$ Resample49: int [1:19] 4 5 13 22 39 42 58 60 74 75 ...\n",
      "  .. ..$ Resample50: int [1:19] 18 25 29 32 35 40 50 53 61 71 ...\n",
      "  ..$ indexFinal       : NULL\n",
      "  ..$ timingSamps      : num 0\n",
      "  ..$ predictionBounds : logi [1:2] FALSE FALSE\n",
      "  ..$ seeds            :List of 51\n",
      "  .. ..$ : int 21233\n",
      "  .. ..$ : int 831219\n",
      "  .. ..$ : int 251278\n",
      "  .. ..$ : int 263833\n",
      "  .. ..$ : int 316006\n",
      "  .. ..$ : int 689776\n",
      "  .. ..$ : int 786603\n",
      "  .. ..$ : int 72021\n",
      "  .. ..$ : int 905794\n",
      "  .. ..$ : int 213935\n",
      "  .. ..$ : int 231382\n",
      "  .. ..$ : int 939456\n",
      "  .. ..$ : int 699920\n",
      "  .. ..$ : int 696455\n",
      "  .. ..$ : int 924663\n",
      "  .. ..$ : int 554306\n",
      "  .. ..$ : int 375889\n",
      "  .. ..$ : int 221014\n",
      "  .. ..$ : int 678829\n",
      "  .. ..$ : int 20093\n",
      "  .. ..$ : int 53039\n",
      "  .. ..$ : int 262339\n",
      "  .. ..$ : int 790298\n",
      "  .. ..$ : int 355371\n",
      "  .. ..$ : int 28863\n",
      "  .. ..$ : int 951256\n",
      "  .. ..$ : int 454818\n",
      "  .. ..$ : int 843405\n",
      "  .. ..$ : int 954549\n",
      "  .. ..$ : int 323114\n",
      "  .. ..$ : int 671441\n",
      "  .. ..$ : int 899577\n",
      "  .. ..$ : int 655752\n",
      "  .. ..$ : int 692406\n",
      "  .. ..$ : int 593717\n",
      "  .. ..$ : int 211510\n",
      "  .. ..$ : int 112588\n",
      "  .. ..$ : int 97299\n",
      "  .. ..$ : int 626154\n",
      "  .. ..$ : int 197672\n",
      "  .. ..$ : int 933185\n",
      "  .. ..$ : int 265345\n",
      "  .. ..$ : int 466298\n",
      "  .. ..$ : int 828333\n",
      "  .. ..$ : int 254005\n",
      "  .. ..$ : int 675951\n",
      "  .. ..$ : int 346557\n",
      "  .. ..$ : int 642491\n",
      "  .. ..$ : int 690112\n",
      "  .. ..$ : int 947708\n",
      "  .. ..$ : int 599475\n",
      "  ..$ adaptive         :List of 4\n",
      "  .. ..$ min     : num 5\n",
      "  .. ..$ alpha   : num 0.05\n",
      "  .. ..$ method  : chr \"gls\"\n",
      "  .. ..$ complete: logi TRUE\n",
      "  ..$ trim             : logi FALSE\n",
      "  ..$ allowParallel    : logi TRUE\n",
      "  ..$ yLimits          : num [1:2] 34.7 46.9\n",
      " $ finalModel  :List of 25\n",
      "  ..$ coefficients   : num [1:29, 1, 1:3] 0.108 0.145 0.134 0.115 0.044 ...\n",
      "  .. ..- attr(*, \"dimnames\")=List of 3\n",
      "  .. .. ..$ : chr [1:29] \"BiologicalMaterial01\" \"BiologicalMaterial02\" \"BiologicalMaterial03\" \"BiologicalMaterial04\" ...\n",
      "  .. .. ..$ : chr \".outcome\"\n",
      "  .. .. ..$ : chr [1:3] \"1 comps\" \"2 comps\" \"3 comps\"\n",
      "  ..$ scores         : 'scores' num [1:176, 1:3] -3.46 3.97 3.76 3.52 4.03 ...\n",
      "  .. ..- attr(*, \"dimnames\")=List of 2\n",
      "  .. .. ..$ : chr [1:176] \"X1\" \"X2\" \"X3\" \"X4\" ...\n",
      "  .. .. ..$ : chr [1:3] \"Comp 1\" \"Comp 2\" \"Comp 3\"\n",
      "  ..$ loadings       : 'loadings' num [1:29, 1:3] 0.313 0.366 0.323 0.316 0.128 ...\n",
      "  .. ..- attr(*, \"dimnames\")=List of 2\n",
      "  .. .. ..$ : chr [1:29] \"BiologicalMaterial01\" \"BiologicalMaterial02\" \"BiologicalMaterial03\" \"BiologicalMaterial04\" ...\n",
      "  .. .. ..$ : chr [1:3] \"Comp 1\" \"Comp 2\" \"Comp 3\"\n",
      "  ..$ loading.weights: 'loadings' num [1:29, 1:3] 0.2218 0.2975 0.275 0.2347 0.0901 ...\n",
      "  .. ..- attr(*, \"dimnames\")=List of 2\n",
      "  .. .. ..$ : chr [1:29] \"BiologicalMaterial01\" \"BiologicalMaterial02\" \"BiologicalMaterial03\" \"BiologicalMaterial04\" ...\n",
      "  .. .. ..$ : chr [1:3] \"Comp 1\" \"Comp 2\" \"Comp 3\"\n",
      "  ..$ Yscores        : 'scores' num [1:176, 1:3] -2.18 2.26 1.85 1.24 2.31 ...\n",
      "  .. ..- attr(*, \"dimnames\")=List of 2\n",
      "  .. .. ..$ : chr [1:176] \"X1\" \"X2\" \"X3\" \"X4\" ...\n",
      "  .. .. ..$ : chr [1:3] \"Comp 1\" \"Comp 2\" \"Comp 3\"\n",
      "  ..$ Yloadings      : 'loadings' num [1, 1:3] 0.489 0.513 0.272\n",
      "  .. ..- attr(*, \"dimnames\")=List of 2\n",
      "  .. .. ..$ : chr \".outcome\"\n",
      "  .. .. ..$ : chr [1:3] \"Comp 1\" \"Comp 2\" \"Comp 3\"\n",
      "  ..$ projection     : num [1:29, 1:3] 0.2218 0.2975 0.275 0.2347 0.0901 ...\n",
      "  .. ..- attr(*, \"dimnames\")=List of 2\n",
      "  .. .. ..$ : chr [1:29] \"BiologicalMaterial01\" \"BiologicalMaterial02\" \"BiologicalMaterial03\" \"BiologicalMaterial04\" ...\n",
      "  .. .. ..$ : chr [1:3] \"Comp 1\" \"Comp 2\" \"Comp 3\"\n",
      "  ..$ Xmeans         : num [1:29] 3.63e-16 3.10e-16 4.30e-16 -1.47e-16 4.72e-16 ...\n",
      "  ..$ Ymeans         : num 40.2\n",
      "  ..$ fitted.values  : num [1:176, 1, 1:3] 38.5 42.1 42 41.9 42.1 ...\n",
      "  .. ..- attr(*, \"dimnames\")=List of 3\n",
      "  .. .. ..$ : chr [1:176] \"X1\" \"X2\" \"X3\" \"X4\" ...\n",
      "  .. .. ..$ : chr \".outcome\"\n",
      "  .. .. ..$ : chr [1:3] \"1 comps\" \"2 comps\" \"3 comps\"\n",
      "  ..$ residuals      : num [1:176, 1, 1:3] -0.4878 0.3244 0.0147 -0.4752 0.346 ...\n",
      "  .. ..- attr(*, \"dimnames\")=List of 3\n",
      "  .. .. ..$ : chr [1:176] \"X1\" \"X2\" \"X3\" \"X4\" ...\n",
      "  .. .. ..$ : chr \".outcome\"\n",
      "  .. .. ..$ : chr [1:3] \"1 comps\" \"2 comps\" \"3 comps\"\n",
      "  ..$ Xvar           : Named num [1:3] 1264 498 364\n",
      "  .. ..- attr(*, \"names\")= chr [1:3] \"Comp 1\" \"Comp 2\" \"Comp 3\"\n",
      "  ..$ Xtotvar        : num 5075\n",
      "  ..$ fit.time       : Named num 0\n",
      "  .. ..- attr(*, \"names\")= chr \"elapsed\"\n",
      "  ..$ ncomp          : num 3\n",
      "  ..$ method         : chr \"oscorespls\"\n",
      "  ..$ call           : language plsr(formula = .outcome ~ ., ncomp = param$ncomp, data = dat, method = \"oscorespls\")\n",
      "  ..$ terms          :Classes 'terms', 'formula'  language .outcome ~ BiologicalMaterial01 + BiologicalMaterial02 + BiologicalMaterial03 +      BiologicalMaterial04 + Biolo| __truncated__ ...\n",
      "  .. .. ..- attr(*, \"variables\")= language list(.outcome, BiologicalMaterial01, BiologicalMaterial02, BiologicalMaterial03,      BiologicalMaterial04, Biolo| __truncated__ ...\n",
      "  .. .. ..- attr(*, \"factors\")= int [1:30, 1:29] 0 1 0 0 0 0 0 0 0 0 ...\n",
      "  .. .. .. ..- attr(*, \"dimnames\")=List of 2\n",
      "  .. .. .. .. ..$ : chr [1:30] \".outcome\" \"BiologicalMaterial01\" \"BiologicalMaterial02\" \"BiologicalMaterial03\" ...\n",
      "  .. .. .. .. ..$ : chr [1:29] \"BiologicalMaterial01\" \"BiologicalMaterial02\" \"BiologicalMaterial03\" \"BiologicalMaterial04\" ...\n",
      "  .. .. ..- attr(*, \"term.labels\")= chr [1:29] \"BiologicalMaterial01\" \"BiologicalMaterial02\" \"BiologicalMaterial03\" \"BiologicalMaterial04\" ...\n",
      "  .. .. ..- attr(*, \"order\")= int [1:29] 1 1 1 1 1 1 1 1 1 1 ...\n",
      "  .. .. ..- attr(*, \"intercept\")= int 1\n",
      "  .. .. ..- attr(*, \"response\")= int 1\n",
      "  .. .. ..- attr(*, \".Environment\")=<environment: 0x000000002c1b4230> \n",
      "  .. .. ..- attr(*, \"predvars\")= language list(.outcome, BiologicalMaterial01, BiologicalMaterial02, BiologicalMaterial03,      BiologicalMaterial04, Biolo| __truncated__ ...\n",
      "  .. .. ..- attr(*, \"dataClasses\")= Named chr [1:30] \"numeric\" \"numeric\" \"numeric\" \"numeric\" ...\n",
      "  .. .. .. ..- attr(*, \"names\")= chr [1:30] \".outcome\" \"BiologicalMaterial01\" \"BiologicalMaterial02\" \"BiologicalMaterial03\" ...\n",
      "  ..$ model          :'data.frame':\t176 obs. of  30 variables:\n",
      "  .. ..$ .outcome              : num [1:176] 38 42.4 42 41.4 42.5 ...\n",
      "  .. ..$ BiologicalMaterial01  : num [1:176] -0.226 2.239 2.239 2.239 1.483 ...\n",
      "  .. ..$ BiologicalMaterial02  : num [1:176] -1.51 1.31 1.31 1.31 1.89 ...\n",
      "  .. ..$ BiologicalMaterial03  : num [1:176] -2.683 -0.0562 -0.0562 -0.0562 1.1359 ...\n",
      "  .. ..$ BiologicalMaterial04  : num [1:176] 0.22 1.296 1.296 1.296 0.941 ...\n",
      "  .. ..$ BiologicalMaterial05  : num [1:176] 0.494 0.413 0.413 0.413 -0.373 ...\n",
      "  .. ..$ BiologicalMaterial06  : num [1:176] -1.38 1.13 1.13 1.13 1.53 ...\n",
      "  .. ..$ BiologicalMaterial07  : num [1:176] -0.131 -0.131 -0.131 -0.131 -0.131 ...\n",
      "  .. ..$ BiologicalMaterial08  : num [1:176] -1.23 2.28 2.28 2.28 1.07 ...\n",
      "  .. ..$ BiologicalMaterial09  : num [1:176] -3.396 -0.723 -0.723 -0.723 -0.121 ...\n",
      "  .. ..$ BiologicalMaterial10  : num [1:176] 1.101 1.101 1.101 1.101 0.416 ...\n",
      "  .. ..$ BiologicalMaterial11  : num [1:176] -1.839 1.393 1.393 1.393 0.136 ...\n",
      "  .. ..$ BiologicalMaterial12  : num [1:176] -1.77 1.1 1.1 1.1 1.1 ...\n",
      "  .. ..$ ManufacturingProcess09: num [1:176] -1.72 0.588 -0.382 -0.479 -0.453 ...\n",
      "  .. ..$ ManufacturingProcess13: num [1:176] 0.9771 -0.5003 0.2877 0.2877 0.0907 ...\n",
      "  .. ..$ ManufacturingProcess15: num [1:176] 1.185 0.962 0.825 1.082 3.328 ...\n",
      "  .. ..$ ManufacturingProcess16: num [1:176] 0.33 0.146 0.146 0.197 0.475 ...\n",
      "  .. ..$ ManufacturingProcess17: num [1:176] 0.926 -0.275 0.366 0.366 -0.356 ...\n",
      "  .. ..$ ManufacturingProcess18: num [1:176] 0.151 0.156 0.183 0.17 0.208 ...\n",
      "  .. ..$ ManufacturingProcess19: num [1:176] 0.456 1.51 1.093 0.983 1.619 ...\n",
      "  .. ..$ ManufacturingProcess20: num [1:176] 0.311 0.185 0.185 0.156 0.294 ...\n",
      "  .. ..$ ManufacturingProcess21: num [1:176] 0.211 0.211 0.211 0.211 -0.688 ...\n",
      "  .. ..$ ManufacturingProcess32: num [1:176] -0.457 1.952 2.693 2.322 2.322 ...\n",
      "  .. ..$ ManufacturingProcess37: num [1:176] -1.154 2.216 -0.705 0.419 -1.828 ...\n",
      "  .. ..$ ManufacturingProcess38: num [1:176] 0.717 -0.822 -0.822 -0.822 -0.822 ...\n",
      "  .. ..$ ManufacturingProcess39: num [1:176] 0.232 0.232 0.232 0.232 0.298 ...\n",
      "  .. ..$ ManufacturingProcess42: num [1:176] 0.2028 -0.0547 0.4088 -0.3122 -0.1062 ...\n",
      "  .. ..$ ManufacturingProcess43: num [1:176] 2.4056 -0.0137 0.1015 0.2167 0.2167 ...\n",
      "  .. ..$ ManufacturingProcess44: num [1:176] -0.0159 0.2947 -0.0159 -0.0159 -0.3264 ...\n",
      "  .. ..$ ManufacturingProcess45: num [1:176] 0.6437 0.1522 0.398 -0.0936 -0.0936 ...\n",
      "  .. ..- attr(*, \"terms\")=Classes 'terms', 'formula'  language .outcome ~ BiologicalMaterial01 + BiologicalMaterial02 + BiologicalMaterial03 +      BiologicalMaterial04 + Biolo| __truncated__ ...\n",
      "  .. .. .. ..- attr(*, \"variables\")= language list(.outcome, BiologicalMaterial01, BiologicalMaterial02, BiologicalMaterial03,      BiologicalMaterial04, Biolo| __truncated__ ...\n",
      "  .. .. .. ..- attr(*, \"factors\")= int [1:30, 1:29] 0 1 0 0 0 0 0 0 0 0 ...\n",
      "  .. .. .. .. ..- attr(*, \"dimnames\")=List of 2\n",
      "  .. .. .. .. .. ..$ : chr [1:30] \".outcome\" \"BiologicalMaterial01\" \"BiologicalMaterial02\" \"BiologicalMaterial03\" ...\n",
      "  .. .. .. .. .. ..$ : chr [1:29] \"BiologicalMaterial01\" \"BiologicalMaterial02\" \"BiologicalMaterial03\" \"BiologicalMaterial04\" ...\n",
      "  .. .. .. ..- attr(*, \"term.labels\")= chr [1:29] \"BiologicalMaterial01\" \"BiologicalMaterial02\" \"BiologicalMaterial03\" \"BiologicalMaterial04\" ...\n",
      "  .. .. .. ..- attr(*, \"order\")= int [1:29] 1 1 1 1 1 1 1 1 1 1 ...\n",
      "  .. .. .. ..- attr(*, \"intercept\")= int 1\n",
      "  .. .. .. ..- attr(*, \"response\")= int 1\n",
      "  .. .. .. ..- attr(*, \".Environment\")=<environment: 0x000000002c1b4230> \n",
      "  .. .. .. ..- attr(*, \"predvars\")= language list(.outcome, BiologicalMaterial01, BiologicalMaterial02, BiologicalMaterial03,      BiologicalMaterial04, Biolo| __truncated__ ...\n",
      "  .. .. .. ..- attr(*, \"dataClasses\")= Named chr [1:30] \"numeric\" \"numeric\" \"numeric\" \"numeric\" ...\n",
      "  .. .. .. .. ..- attr(*, \"names\")= chr [1:30] \".outcome\" \"BiologicalMaterial01\" \"BiologicalMaterial02\" \"BiologicalMaterial03\" ...\n",
      "  ..$ xNames         : chr [1:29] \"BiologicalMaterial01\" \"BiologicalMaterial02\" \"BiologicalMaterial03\" \"BiologicalMaterial04\" ...\n",
      "  ..$ problemType    : chr \"Regression\"\n",
      "  ..$ tuneValue      :'data.frame':\t1 obs. of  1 variable:\n",
      "  .. ..$ ncomp: num 3\n",
      "  ..$ obsLevels      : logi NA\n",
      "  ..$ param          : list()\n",
      "  ..$ bestIter       :'data.frame':\t1 obs. of  1 variable:\n",
      "  .. ..$ ncomp: num 3\n",
      "  ..- attr(*, \"class\")= chr \"mvr\"\n",
      " $ preProcess  :List of 22\n",
      "  ..$ dim              : int [1:2] 176 29\n",
      "  ..$ bc               : NULL\n",
      "  ..$ yj               : NULL\n",
      "  ..$ et               : NULL\n",
      "  ..$ invHyperbolicSine: NULL\n",
      "  ..$ mean             : Named num [1:29] 6.41 55.69 67.7 12.35 18.6 ...\n",
      "  .. ..- attr(*, \"names\")= chr [1:29] \"BiologicalMaterial01\" \"BiologicalMaterial02\" \"BiologicalMaterial03\" \"BiologicalMaterial04\" ...\n",
      "  ..$ std              : Named num [1:29] 0.714 4.035 4.001 1.775 1.844 ...\n",
      "  .. ..- attr(*, \"names\")= chr [1:29] \"BiologicalMaterial01\" \"BiologicalMaterial02\" \"BiologicalMaterial03\" \"BiologicalMaterial04\" ...\n",
      "  ..$ ranges           : NULL\n",
      "  ..$ rotation         : NULL\n",
      "  ..$ method           :List of 3\n",
      "  .. ..$ center: chr [1:29] \"BiologicalMaterial01\" \"BiologicalMaterial02\" \"BiologicalMaterial03\" \"BiologicalMaterial04\" ...\n",
      "  .. ..$ scale : chr [1:29] \"BiologicalMaterial01\" \"BiologicalMaterial02\" \"BiologicalMaterial03\" \"BiologicalMaterial04\" ...\n",
      "  .. ..$ ignore: chr(0) \n",
      "  ..$ thresh           : num 0.95\n",
      "  ..$ pcaComp          : NULL\n",
      "  ..$ numComp          : NULL\n",
      "  ..$ ica              : NULL\n",
      "  ..$ wildcards        :List of 2\n",
      "  .. ..$ PCA: chr(0) \n",
      "  .. ..$ ICA: chr(0) \n",
      "  ..$ k                : num 5\n",
      "  ..$ knnSummary       :function (x, ...)  \n",
      "  ..$ bagImp           : NULL\n",
      "  ..$ median           : NULL\n",
      "  ..$ data             : NULL\n",
      "  ..$ rangeBounds      : num [1:2] 0 1\n",
      "  ..$ call             : chr \"scrubed\"\n",
      "  ..- attr(*, \"class\")= chr \"preProcess\"\n",
      " $ trainingData:'data.frame':\t176 obs. of  30 variables:\n",
      "  ..$ .outcome              : num [1:176] 38 42.4 42 41.4 42.5 ...\n",
      "  ..$ BiologicalMaterial01  : num [1:176] 6.25 8.01 8.01 8.01 7.47 6.12 7.48 6.94 6.94 6.94 ...\n",
      "  ..$ BiologicalMaterial02  : num [1:176] 49.6 61 61 61 63.3 ...\n",
      "  ..$ BiologicalMaterial03  : num [1:176] 57 67.5 67.5 67.5 72.2 ...\n",
      "  ..$ BiologicalMaterial04  : num [1:176] 12.7 14.6 14.6 14.6 14 ...\n",
      "  ..$ BiologicalMaterial05  : num [1:176] 19.5 19.4 19.4 19.4 17.9 ...\n",
      "  ..$ BiologicalMaterial06  : num [1:176] 43.7 53.1 53.1 53.1 54.7 ...\n",
      "  ..$ BiologicalMaterial07  : num [1:176] 100 100 100 100 100 100 100 100 100 100 ...\n",
      "  ..$ BiologicalMaterial08  : num [1:176] 16.7 19 19 19 18.2 ...\n",
      "  ..$ BiologicalMaterial09  : num [1:176] 11.4 12.6 12.6 12.6 12.8 ...\n",
      "  ..$ BiologicalMaterial10  : num [1:176] 3.46 3.46 3.46 3.46 3.05 3.78 3.04 3.85 3.85 3.85 ...\n",
      "  ..$ BiologicalMaterial11  : num [1:176] 138 154 154 154 148 ...\n",
      "  ..$ BiologicalMaterial12  : num [1:176] 18.8 21.1 21.1 21.1 21.1 ...\n",
      "  ..$ ManufacturingProcess09: num [1:176] 43 46.6 45.1 44.9 45 ...\n",
      "  ..$ ManufacturingProcess13: num [1:176] 35.5 34 34.8 34.8 34.6 34 32.4 33.6 33.9 34.3 ...\n",
      "  ..$ ManufacturingProcess15: num [1:176] 6108 6095 6087 6102 6233 ...\n",
      "  ..$ ManufacturingProcess16: num [1:176] 4682 4617 4617 4635 4733 ...\n",
      "  ..$ ManufacturingProcess17: num [1:176] 35.5 34 34.8 34.8 33.9 33.4 33.8 33.6 33.9 35.3 ...\n",
      "  ..$ ManufacturingProcess18: num [1:176] 4865 4867 4877 4872 4886 ...\n",
      "  ..$ ManufacturingProcess19: num [1:176] 6049 6097 6078 6073 6102 ...\n",
      "  ..$ ManufacturingProcess20: num [1:176] 4665 4621 4621 4611 4659 ...\n",
      "  ..$ ManufacturingProcess21: num [1:176] 0 0 0 0 -0.7 -0.6 1.4 0 0 1 ...\n",
      "  ..$ ManufacturingProcess32: num [1:176] 156 169 173 171 171 173 159 161 160 164 ...\n",
      "  ..$ ManufacturingProcess37: num [1:176] 0.5 2 0.7 1.2 0.2 0.4 0.8 1 1.2 1.8 ...\n",
      "  ..$ ManufacturingProcess38: num [1:176] 3 2 2 2 2 2 2 2 3 3 ...\n",
      "  ..$ ManufacturingProcess39: num [1:176] 7.2 7.2 7.2 7.2 7.3 7.2 7.3 7.3 7.4 7.1 ...\n",
      "  ..$ ManufacturingProcess42: num [1:176] 11.6 11.1 12 10.6 11 11.5 11.7 11.4 11.4 11.3 ...\n",
      "  ..$ ManufacturingProcess43: num [1:176] 3 0.9 1 1.1 1.1 2.2 0.7 0.8 0.9 0.8 ...\n",
      "  ..$ ManufacturingProcess44: num [1:176] 1.8 1.9 1.8 1.8 1.7 1.8 2 2 1.9 1.9 ...\n",
      "  ..$ ManufacturingProcess45: num [1:176] 2.4 2.2 2.3 2.1 2.1 2 2.2 2.2 2.1 2.4 ...\n",
      " $ resample    :'data.frame':\t50 obs. of  4 variables:\n",
      "  ..$ RMSE    : num [1:50] 1.833 1.057 1.209 0.908 1.172 ...\n",
      "  ..$ Rsquared: num [1:50] 0.28 0.686 0.609 0.767 0.602 ...\n",
      "  ..$ MAE     : num [1:50] 1.49 0.88 1.015 0.801 0.995 ...\n",
      "  ..$ Resample: chr [1:50] \"Fold10.Rep4\" \"Fold08.Rep3\" \"Fold09.Rep4\" \"Fold07.Rep3\" ...\n",
      " $ resampledCM : NULL\n",
      " $ perfNames   : chr [1:3] \"RMSE\" \"Rsquared\" \"MAE\"\n",
      " $ maximize    : logi FALSE\n",
      " $ yLimits     : num [1:2] 34.7 46.9\n",
      " $ times       :List of 3\n",
      "  ..$ everything: 'proc_time' Named num [1:5] 2.26 0 2.42 NA NA\n",
      "  .. ..- attr(*, \"names\")= chr [1:5] \"user.self\" \"sys.self\" \"elapsed\" \"user.child\" ...\n",
      "  ..$ final     : 'proc_time' Named num [1:5] 0 0 0 NA NA\n",
      "  .. ..- attr(*, \"names\")= chr [1:5] \"user.self\" \"sys.self\" \"elapsed\" \"user.child\" ...\n",
      "  ..$ prediction: logi [1:3] NA NA NA\n",
      " $ levels      : logi NA\n",
      " $ terms       :Classes 'terms', 'formula'  language Yield ~ BiologicalMaterial01 + BiologicalMaterial02 + BiologicalMaterial03 +      BiologicalMaterial04 + Biologic| __truncated__ ...\n",
      "  .. ..- attr(*, \"variables\")= language list(Yield, BiologicalMaterial01, BiologicalMaterial02, BiologicalMaterial03,      BiologicalMaterial04, Biologic| __truncated__ ...\n",
      "  .. ..- attr(*, \"factors\")= int [1:30, 1:29] 0 1 0 0 0 0 0 0 0 0 ...\n",
      "  .. .. ..- attr(*, \"dimnames\")=List of 2\n",
      "  .. .. .. ..$ : chr [1:30] \"Yield\" \"BiologicalMaterial01\" \"BiologicalMaterial02\" \"BiologicalMaterial03\" ...\n",
      "  .. .. .. ..$ : chr [1:29] \"BiologicalMaterial01\" \"BiologicalMaterial02\" \"BiologicalMaterial03\" \"BiologicalMaterial04\" ...\n",
      "  .. ..- attr(*, \"term.labels\")= chr [1:29] \"BiologicalMaterial01\" \"BiologicalMaterial02\" \"BiologicalMaterial03\" \"BiologicalMaterial04\" ...\n",
      "  .. ..- attr(*, \"order\")= int [1:29] 1 1 1 1 1 1 1 1 1 1 ...\n",
      "  .. ..- attr(*, \"intercept\")= int 1\n",
      "  .. ..- attr(*, \"response\")= int 1\n",
      "  .. ..- attr(*, \".Environment\")=<environment: R_GlobalEnv> \n",
      "  .. ..- attr(*, \"predvars\")= language list(Yield, BiologicalMaterial01, BiologicalMaterial02, BiologicalMaterial03,      BiologicalMaterial04, Biologic| __truncated__ ...\n",
      "  .. ..- attr(*, \"dataClasses\")= Named chr [1:30] \"numeric\" \"numeric\" \"numeric\" \"numeric\" ...\n",
      "  .. .. ..- attr(*, \"names\")= chr [1:30] \"Yield\" \"BiologicalMaterial01\" \"BiologicalMaterial02\" \"BiologicalMaterial03\" ...\n",
      " $ coefnames   : chr [1:29] \"BiologicalMaterial01\" \"BiologicalMaterial02\" \"BiologicalMaterial03\" \"BiologicalMaterial04\" ...\n",
      " $ xlevels     : Named list()\n",
      " - attr(*, \"class\")= chr [1:2] \"train\" \"train.formula\"\n"
     ]
    }
   ],
   "source": [
    "str(fit_pls)"
   ]
  },
  {
   "cell_type": "code",
   "execution_count": 6,
   "metadata": {
    "collapsed": false
   },
   "outputs": [
    {
     "data": {
      "text/html": [
       "<table>\n",
       "<thead><tr><th scope=col>ncomp</th><th scope=col>Rsquared</th><th scope=col>RsquaredSD</th><th scope=col>RsquaredSEM</th></tr></thead>\n",
       "<tbody>\n",
       "\t<tr><td> 1        </td><td>0.3977156 </td><td>0.1998676 </td><td>0.02826555</td></tr>\n",
       "\t<tr><td> 2        </td><td>0.5081880 </td><td>0.2189638 </td><td>0.03096616</td></tr>\n",
       "\t<tr><td> 3        </td><td>0.5667223 </td><td>0.1894780 </td><td>0.02679623</td></tr>\n",
       "\t<tr><td> 4        </td><td>0.5523224 </td><td>0.2000750 </td><td>0.02829487</td></tr>\n",
       "\t<tr><td> 5        </td><td>0.5376299 </td><td>0.2190161 </td><td>0.03097356</td></tr>\n",
       "\t<tr><td> 6        </td><td>0.5225713 </td><td>0.2330304 </td><td>0.03295547</td></tr>\n",
       "\t<tr><td> 7        </td><td>0.5104416 </td><td>0.2457468 </td><td>0.03475384</td></tr>\n",
       "\t<tr><td> 8        </td><td>0.5089982 </td><td>0.2472731 </td><td>0.03496970</td></tr>\n",
       "\t<tr><td> 9        </td><td>0.5124249 </td><td>0.2428281 </td><td>0.03434107</td></tr>\n",
       "\t<tr><td>10        </td><td>0.5101823 </td><td>0.2440854 </td><td>0.03451889</td></tr>\n",
       "</tbody>\n",
       "</table>\n"
      ],
      "text/latex": [
       "\\begin{tabular}{r|llll}\n",
       " ncomp & Rsquared & RsquaredSD & RsquaredSEM\\\\\n",
       "\\hline\n",
       "\t  1         & 0.3977156  & 0.1998676  & 0.02826555\\\\\n",
       "\t  2         & 0.5081880  & 0.2189638  & 0.03096616\\\\\n",
       "\t  3         & 0.5667223  & 0.1894780  & 0.02679623\\\\\n",
       "\t  4         & 0.5523224  & 0.2000750  & 0.02829487\\\\\n",
       "\t  5         & 0.5376299  & 0.2190161  & 0.03097356\\\\\n",
       "\t  6         & 0.5225713  & 0.2330304  & 0.03295547\\\\\n",
       "\t  7         & 0.5104416  & 0.2457468  & 0.03475384\\\\\n",
       "\t  8         & 0.5089982  & 0.2472731  & 0.03496970\\\\\n",
       "\t  9         & 0.5124249  & 0.2428281  & 0.03434107\\\\\n",
       "\t 10         & 0.5101823  & 0.2440854  & 0.03451889\\\\\n",
       "\\end{tabular}\n"
      ],
      "text/markdown": [
       "\n",
       "ncomp | Rsquared | RsquaredSD | RsquaredSEM | \n",
       "|---|---|---|---|---|---|---|---|---|---|\n",
       "|  1         | 0.3977156  | 0.1998676  | 0.02826555 | \n",
       "|  2         | 0.5081880  | 0.2189638  | 0.03096616 | \n",
       "|  3         | 0.5667223  | 0.1894780  | 0.02679623 | \n",
       "|  4         | 0.5523224  | 0.2000750  | 0.02829487 | \n",
       "|  5         | 0.5376299  | 0.2190161  | 0.03097356 | \n",
       "|  6         | 0.5225713  | 0.2330304  | 0.03295547 | \n",
       "|  7         | 0.5104416  | 0.2457468  | 0.03475384 | \n",
       "|  8         | 0.5089982  | 0.2472731  | 0.03496970 | \n",
       "|  9         | 0.5124249  | 0.2428281  | 0.03434107 | \n",
       "| 10         | 0.5101823  | 0.2440854  | 0.03451889 | \n",
       "\n",
       "\n"
      ],
      "text/plain": [
       "   ncomp Rsquared  RsquaredSD RsquaredSEM\n",
       "1   1    0.3977156 0.1998676  0.02826555 \n",
       "2   2    0.5081880 0.2189638  0.03096616 \n",
       "3   3    0.5667223 0.1894780  0.02679623 \n",
       "4   4    0.5523224 0.2000750  0.02829487 \n",
       "5   5    0.5376299 0.2190161  0.03097356 \n",
       "6   6    0.5225713 0.2330304  0.03295547 \n",
       "7   7    0.5104416 0.2457468  0.03475384 \n",
       "8   8    0.5089982 0.2472731  0.03496970 \n",
       "9   9    0.5124249 0.2428281  0.03434107 \n",
       "10 10    0.5101823 0.2440854  0.03451889 "
      ]
     },
     "metadata": {},
     "output_type": "display_data"
    }
   ],
   "source": [
    "R2values <- fit_pls$results[,c(\"ncomp\",\"Rsquared\",\"RsquaredSD\")]\n",
    "R2values$RsquaredSEM <- R2values$RsquaredSD/sqrt(length(fit_pls$control$index))\n",
    "R2values"
   ]
  },
  {
   "cell_type": "code",
   "execution_count": 9,
   "metadata": {
    "collapsed": false,
    "scrolled": true
   },
   "outputs": [
    {
     "data": {},
     "metadata": {},
     "output_type": "display_data"
    },
    {
     "data": {
      "image/png": "[encoded data removed]",
      "text/plain": [
       "plot without title"
      ]
     },
     "metadata": {},
     "output_type": "display_data"
    }
   ],
   "source": [
    "library(ggplot2)\n",
    "oneSE <- ggplot(R2values,\n",
    "               aes(ncomp,Rsquared,\n",
    "                  ymin=Rsquared-RsquaredSEM,\n",
    "                  ymax=Rsquared)) + geom_linerange() + geom_pointrange() + theme_bw()\n",
    "oneSE"
   ]
  },
  {
   "cell_type": "code",
   "execution_count": 11,
   "metadata": {
    "collapsed": false
   },
   "outputs": [
    {
     "data": {
      "text/html": [
       "<table>\n",
       "<thead><tr><th></th><th scope=col>ncomp</th><th scope=col>Rsquared</th><th scope=col>RsquaredSD</th><th scope=col>RsquaredSEM</th></tr></thead>\n",
       "<tbody>\n",
       "\t<tr><th scope=row>3</th><td>3         </td><td>0.5667223 </td><td>0.189478  </td><td>0.02679623</td></tr>\n",
       "\t<tr><th scope=row>4</th><td>4         </td><td>0.5523224 </td><td>0.200075  </td><td>0.02829487</td></tr>\n",
       "</tbody>\n",
       "</table>\n"
      ],
      "text/latex": [
       "\\begin{tabular}{r|llll}\n",
       "  & ncomp & Rsquared & RsquaredSD & RsquaredSEM\\\\\n",
       "\\hline\n",
       "\t3 & 3          & 0.5667223  & 0.189478   & 0.02679623\\\\\n",
       "\t4 & 4          & 0.5523224  & 0.200075   & 0.02829487\\\\\n",
       "\\end{tabular}\n"
      ],
      "text/markdown": [
       "\n",
       "| <!--/--> | ncomp | Rsquared | RsquaredSD | RsquaredSEM | \n",
       "|---|---|\n",
       "| 3 | 3          | 0.5667223  | 0.189478   | 0.02679623 | \n",
       "| 4 | 4          | 0.5523224  | 0.200075   | 0.02829487 | \n",
       "\n",
       "\n"
      ],
      "text/plain": [
       "  ncomp Rsquared  RsquaredSD RsquaredSEM\n",
       "3 3     0.5667223 0.189478   0.02679623 \n",
       "4 4     0.5523224 0.200075   0.02829487 "
      ]
     },
     "metadata": {},
     "output_type": "display_data"
    }
   ],
   "source": [
    "bestR2 <- subset(R2values,ncomp==which.max(R2values$Rsquared))\n",
    "bestR2$lb <- bestR2$Rsquared-bestR2$RsquaredSEM\n",
    "candR2 <- subset(R2values,(Rsquared>=bestR2$lb) & (ncomp <- bestR2$ncomp))\n",
    "\n",
    "candR2"
   ]
  },
  {
   "cell_type": "code",
   "execution_count": 17,
   "metadata": {
    "collapsed": false,
    "scrolled": true
   },
   "outputs": [
    {
     "data": {},
     "metadata": {},
     "output_type": "display_data"
    },
    {
     "data": {
      "image/png": "[encoded data removed]",
      "text/plain": [
       "plot without title"
      ]
     },
     "metadata": {},
     "output_type": "display_data"
    }
   ],
   "source": [
    "bestR2 <- subset(R2values,ncomp==which.max(R2values$Rsquared))\n",
    "R2values$tolerance <- (R2values$Rsquared-bestR2$Rsquared)/bestR2$Rsquared * 100\n",
    "qplot(ncomp,tolerance,data=R2values)"
   ]
  },
  {
   "cell_type": "markdown",
   "metadata": {},
   "source": [
    "4.4. Brodnjak-Vonina et al. (2005) develop a methodology for food laboratories to determine the type of oil from a sample. In their procedure, they used a gas chromatograph (an instrument that separate chemicals in a sample) to measure seven different fatty acids in an oil. These measurements would then be used to predict the type of oil in a food samples. \n",
    "To create their model, they used 96 samples of seven types of oils. These data can be found in the caret package using data(oil). The oil types are contained in a factor variable called oilType. \n",
    "The types are pumpkin (coded as A), sunflower (B), peanut (C), olive (D), soybean (E), rapeseed (F) and corn (G). \n",
    "\n",
    "- (a) Use the sample function in base R to create a completely random sample of 60 oils. How closely do the frequencies of the random sample match the original samples? Repeat this procedure several times of understand the variation in the sampling process.\n",
    "- (b) Use the caret package function createDataPartition to create a stratified random sample. How does this compare to the completely random samples?\n",
    "- (c) With such a small samples size, what are the options for determining performance of the model? Should a test set be used?\n",
    "- (d) One method for understanding the uncertainty of a test set is to use a confidence interval. To obtain a confidence interval for the overall accuracy, the based R function binom.test can be used. It requires the user to input the number of samples and the number correctly classified to calculate the interval. For example, suppose a test set sample of 20 oil samples was set aside and 76 were used for model training. For this test set size and a model that is about 80 % accurate (16 out of 20 correct), the confidence interval would be computed using\n",
    "\n",
    "```r\n",
    "binom.test(16,20)\n",
    "```\n",
    "`In this case, the width of the 95 % confidence interval is 37.9 %. Try different samples sizes and accuracy rates to understand the trade-off between the uncertainty in the results, the model performance, and the test set size`"
   ]
  },
  {
   "cell_type": "code",
   "execution_count": 19,
   "metadata": {
    "collapsed": false
   },
   "outputs": [
    {
     "name": "stdout",
     "output_type": "stream",
     "text": [
      " Factor w/ 7 levels \"A\",\"B\",\"C\",\"D\",..: 1 1 1 1 1 1 1 1 1 1 ...\n",
      "'data.frame':\t96 obs. of  7 variables:\n",
      " $ Palmitic  : num  9.7 11.1 11.5 10 12.2 9.8 10.5 10.5 11.5 10 ...\n",
      " $ Stearic   : num  5.2 5 5.2 4.8 5 4.2 5 5 5.2 4.8 ...\n",
      " $ Oleic     : num  31 32.9 35 30.4 31.1 43 31.8 31.8 35 30.4 ...\n",
      " $ Linoleic  : num  52.7 49.8 47.2 53.5 50.5 39.2 51.3 51.3 47.2 53.5 ...\n",
      " $ Linolenic : num  0.4 0.3 0.2 0.3 0.3 2.4 0.4 0.4 0.2 0.3 ...\n",
      " $ Eicosanoic: num  0.4 0.4 0.4 0.4 0.4 0.4 0.4 0.4 0.4 0.4 ...\n",
      " $ Eicosenoic: num  0.1 0.1 0.1 0.1 0.1 0.5 0.1 0.1 0.1 0.1 ...\n"
     ]
    }
   ],
   "source": [
    "data(oil)\n",
    "str(oilType)\n",
    "str(fattyAcids)"
   ]
  },
  {
   "cell_type": "code",
   "execution_count": 20,
   "metadata": {
    "collapsed": false
   },
   "outputs": [
    {
     "data": {},
     "metadata": {},
     "output_type": "display_data"
    },
    {
     "data": {
      "image/png": "[encoded data removed]",
      "text/plain": [
       "plot without title"
      ]
     },
     "metadata": {},
     "output_type": "display_data"
    }
   ],
   "source": [
    "library(lattice)\n",
    "histogram(~oilType)"
   ]
  },
  {
   "cell_type": "code",
   "execution_count": 29,
   "metadata": {
    "collapsed": false
   },
   "outputs": [
    {
     "name": "stdout",
     "output_type": "stream",
     "text": [
      "[1] \"No missing value for this dataset\"\n"
     ]
    }
   ],
   "source": [
    "if(any(is.na(fattyAcids))){\n",
    "    na_info <- unlist(lapply(any(is.na(fattyAcids))))\n",
    "    return (names(na_info[na_info]))\n",
    "} else print(\"No missing value for this dataset\")"
   ]
  },
  {
   "cell_type": "code",
   "execution_count": 32,
   "metadata": {
    "collapsed": false
   },
   "outputs": [
    {
     "data": {
      "text/plain": [
       "[[1]]\n",
       "\n",
       " A  B  C  D  E  F  G \n",
       "24 15  3  4  7  4  1 \n",
       "\n",
       "[[2]]\n",
       "\n",
       " A  B  C  D  E  F  G \n",
       "25 14  2  4  6  6  1 \n",
       "\n",
       "[[3]]\n",
       "\n",
       " A  B  C  D  E  F  G \n",
       "24 16  2  5  5  4  2 \n"
      ]
     },
     "metadata": {},
     "output_type": "display_data"
    }
   ],
   "source": [
    "samp_num <- floor(length(oilType)*.6) + 1\n",
    "set.seed(629)\n",
    "oil_splits <- vector(mode=\"list\",length=20)\n",
    "for (i in seq(along=oil_splits)) oil_splits[[i]] <- table(sample(oilType,size=samp_num))\n",
    "head(oil_splits,3)"
   ]
  },
  {
   "cell_type": "code",
   "execution_count": 45,
   "metadata": {
    "collapsed": false,
    "scrolled": false
   },
   "outputs": [
    {
     "data": {
      "text/html": [
       "<table>\n",
       "<thead><tr><th scope=col>A</th><th scope=col>B</th><th scope=col>C</th><th scope=col>D</th><th scope=col>E</th><th scope=col>F</th><th scope=col>G</th></tr></thead>\n",
       "<tbody>\n",
       "\t<tr><td>24</td><td>15</td><td>3 </td><td>4 </td><td>7 </td><td>4 </td><td>1 </td></tr>\n",
       "\t<tr><td>25</td><td>14</td><td>2 </td><td>4 </td><td>6 </td><td>6 </td><td>1 </td></tr>\n",
       "\t<tr><td>24</td><td>16</td><td>2 </td><td>5 </td><td>5 </td><td>4 </td><td>2 </td></tr>\n",
       "</tbody>\n",
       "</table>\n"
      ],
      "text/latex": [
       "\\begin{tabular}{lllllll}\n",
       " A & B & C & D & E & F & G\\\\\n",
       "\\hline\n",
       "\t 24 & 15 & 3  & 4  & 7  & 4  & 1 \\\\\n",
       "\t 25 & 14 & 2  & 4  & 6  & 6  & 1 \\\\\n",
       "\t 24 & 16 & 2  & 5  & 5  & 4  & 2 \\\\\n",
       "\\end{tabular}\n"
      ],
      "text/markdown": [
       "\n",
       "A | B | C | D | E | F | G | \n",
       "|---|---|---|\n",
       "| 24 | 15 | 3  | 4  | 7  | 4  | 1  | \n",
       "| 25 | 14 | 2  | 4  | 6  | 6  | 1  | \n",
       "| 24 | 16 | 2  | 5  | 5  | 4  | 2  | \n",
       "\n",
       "\n"
      ],
      "text/plain": [
       "     A  B  C D E F G\n",
       "[1,] 24 15 3 4 7 4 1\n",
       "[2,] 25 14 2 4 6 6 1\n",
       "[3,] 24 16 2 5 5 4 2"
      ]
     },
     "metadata": {},
     "output_type": "display_data"
    },
    {
     "data": {
      "text/plain": [
       "       A                B                C                 D          \n",
       " Min.   :0.3103   Min.   :0.2241   Min.   :0.00000   Min.   :0.03448  \n",
       " 1st Qu.:0.3448   1st Qu.:0.2586   1st Qu.:0.01724   1st Qu.:0.06897  \n",
       " Median :0.3793   Median :0.2759   Median :0.03448   Median :0.08621  \n",
       " Mean   :0.3810   Mean   :0.2759   Mean   :0.03362   Mean   :0.08448  \n",
       " 3rd Qu.:0.4138   3rd Qu.:0.2931   3rd Qu.:0.05172   3rd Qu.:0.10345  \n",
       " Max.   :0.4483   Max.   :0.3276   Max.   :0.05172   Max.   :0.12069  \n",
       "       E                 F                 G          \n",
       " Min.   :0.05172   Min.   :0.03448   Min.   :0.00000  \n",
       " 1st Qu.:0.10345   1st Qu.:0.08621   1st Qu.:0.01724  \n",
       " Median :0.10345   Median :0.10345   Median :0.01724  \n",
       " Mean   :0.10690   Mean   :0.09828   Mean   :0.01983  \n",
       " 3rd Qu.:0.12069   3rd Qu.:0.10776   3rd Qu.:0.02155  \n",
       " Max.   :0.15517   Max.   :0.13793   Max.   :0.03448  "
      ]
     },
     "metadata": {},
     "output_type": "display_data"
    }
   ],
   "source": [
    "oil_splits <- do.call(\"rbind\",oil_splits)\n",
    "head(oil_splits,3)\n",
    "summary(oil_splits/samp_num)"
   ]
  },
  {
   "cell_type": "code",
   "execution_count": 51,
   "metadata": {
    "collapsed": false
   },
   "outputs": [
    {
     "data": {
      "text/html": [
       "<table>\n",
       "<tbody>\n",
       "\t<tr><td>0.4439045</td><td>0.9747893</td></tr>\n",
       "\t<tr><td>0.3902574</td><td>0.9397823</td></tr>\n",
       "\t<tr><td>0.4281415</td><td>0.9451394</td></tr>\n",
       "\t<tr><td>0.4618685</td><td>0.9496189</td></tr>\n",
       "\t<tr><td>0.4189647</td><td>0.9161107</td></tr>\n",
       "\t<tr><td>0.4489968</td><td>0.9221285</td></tr>\n",
       "</tbody>\n",
       "</table>\n"
      ],
      "text/latex": [
       "\\begin{tabular}{ll}\n",
       "\t 0.4439045 & 0.9747893\\\\\n",
       "\t 0.3902574 & 0.9397823\\\\\n",
       "\t 0.4281415 & 0.9451394\\\\\n",
       "\t 0.4618685 & 0.9496189\\\\\n",
       "\t 0.4189647 & 0.9161107\\\\\n",
       "\t 0.4489968 & 0.9221285\\\\\n",
       "\\end{tabular}\n"
      ],
      "text/markdown": [
       "\n",
       "| 0.4439045 | 0.9747893 | \n",
       "| 0.3902574 | 0.9397823 | \n",
       "| 0.4281415 | 0.9451394 | \n",
       "| 0.4618685 | 0.9496189 | \n",
       "| 0.4189647 | 0.9161107 | \n",
       "| 0.4489968 | 0.9221285 | \n",
       "\n",
       "\n"
      ],
      "text/plain": [
       "     [,1]      [,2]     \n",
       "[1,] 0.4439045 0.9747893\n",
       "[2,] 0.3902574 0.9397823\n",
       "[3,] 0.4281415 0.9451394\n",
       "[4,] 0.4618685 0.9496189\n",
       "[5,] 0.4189647 0.9161107\n",
       "[6,] 0.4489968 0.9221285"
      ]
     },
     "metadata": {},
     "output_type": "display_data"
    }
   ],
   "source": [
    "getWidth <- function(values) {\n",
    "    binom.test(x = floor(values[\"size\"]*values[\"accuracy\"])+1,\n",
    "               n = values[\"size\"])$conf.int\n",
    "}\n",
    "\n",
    "ciInfo <- expand.grid(size = 10:30, accuracy = seq(.7, .95, by = 0.01))\n",
    "ciWidths <- t(apply(ciInfo, 1, getWidth))\n",
    "head(ciWidths)\n",
    "       \n",
    "ciInfo$length <- ciWidths[,2] - ciWidths[,1]\n",
    "# levelplot(length ~ size * accuracy, data = ciInfo)"
   ]
  },
  {
   "cell_type": "code",
   "execution_count": 52,
   "metadata": {
    "collapsed": false
   },
   "outputs": [
    {
     "data": {},
     "metadata": {},
     "output_type": "display_data"
    },
    {
     "data": {
      "image/png": "[encoded data removed]",
      "text/plain": [
       "plot without title"
      ]
     },
     "metadata": {},
     "output_type": "display_data"
    }
   ],
   "source": [
    "levelplot(length ~ size * accuracy, data = ciInfo)"
   ]
  }
 ],
 "metadata": {
  "anaconda-cloud": {},
  "kernelspec": {
   "display_name": "R",
   "language": "R",
   "name": "ir"
  },
  "language_info": {
   "codemirror_mode": "r",
   "file_extension": ".r",
   "mimetype": "text/x-r-source",
   "name": "R",
   "pygments_lexer": "r",
   "version": "3.5.0"
  },
  "toc": {
   "base_numbering": 1,
   "nav_menu": {},
   "number_sections": true,
   "sideBar": true,
   "skip_h1_title": false,
   "title_cell": "Table of Contents",
   "title_sidebar": "Contents",
   "toc_cell": false,
   "toc_position": {},
   "toc_section_display": true,
   "toc_window_display": false
  }
 },
 "nbformat": 4,
 "nbformat_minor": 1
}
