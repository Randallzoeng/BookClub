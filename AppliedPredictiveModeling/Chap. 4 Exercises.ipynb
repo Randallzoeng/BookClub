{
 "cells": [
  {
   "cell_type": "markdown",
   "metadata": {},
   "source": [
    "4.1. Consider the music genre data set described in Sect. 1.4. The objective\n",
    "for these data is to use the predictors to classify music samples into the\n",
    "appropriate music genre.\n",
    "- (a) What data splitting method(s) would you use for these data? Explain.\n",
    "- (b) Using tools described in this chapter, provide code for implementing your\n",
    "approach(es).\n",
    "\n",
    "References Link:\n",
    "\n",
    "http://tunedit.org/challenge/music-retrieval/genres\n",
    "http://tunedit.org/download/ISMIS/challenges/music-retrieval/public/genresTrain.csv\n",
    "http://tunedit.org/download/ISMIS/challenges/music-retrieval/public/genresTest.csv"
   ]
  },
  {
   "cell_type": "code",
   "execution_count": 2,
   "metadata": {
    "collapsed": false,
    "scrolled": true
   },
   "outputs": [
    {
     "name": "stderr",
     "output_type": "stream",
     "text": [
      "-- Attaching packages --------------------------------------- tidyverse 1.2.1 --\n",
      "√ ggplot2 2.2.1     √ purrr   0.2.5\n",
      "√ tibble  1.4.2     √ dplyr   0.7.5\n",
      "√ tidyr   0.8.1     √ stringr 1.3.1\n",
      "√ readr   1.1.1     √ forcats 0.3.0\n",
      "-- Conflicts ------------------------------------------ tidyverse_conflicts() --\n",
      "x dplyr::filter() masks stats::filter()\n",
      "x dplyr::lag()    masks stats::lag()\n",
      "\n",
      "Attaching package: 'data.table'\n",
      "\n",
      "The following objects are masked from 'package:dplyr':\n",
      "\n",
      "    between, first, last\n",
      "\n",
      "The following object is masked from 'package:purrr':\n",
      "\n",
      "    transpose\n",
      "\n",
      "Parsed with column specification:\n",
      "cols(\n",
      "  .default = col_double(),\n",
      "  GENRE = col_character()\n",
      ")\n",
      "See spec(...) for full column specifications.\n"
     ]
    },
    {
     "data": {
      "text/html": [
       "<table>\n",
       "<thead><tr><th scope=col>PAR_TC</th><th scope=col>PAR_SC</th><th scope=col>PAR_SC_V</th><th scope=col>PAR_ASE1</th><th scope=col>PAR_ASE2</th><th scope=col>PAR_ASE3</th><th scope=col>PAR_ASE4</th><th scope=col>PAR_ASE5</th><th scope=col>PAR_ASE6</th><th scope=col>PAR_ASE7</th><th scope=col>...</th><th scope=col>PAR_3RMS_TCD</th><th scope=col>PAR_ZCD_10FR_MEAN</th><th scope=col>PAR_ZCD_10FR_VAR</th><th scope=col>PAR_1RMS_TCD_10FR_MEAN</th><th scope=col>PAR_1RMS_TCD_10FR_VAR</th><th scope=col>PAR_2RMS_TCD_10FR_MEAN</th><th scope=col>PAR_2RMS_TCD_10FR_VAR</th><th scope=col>PAR_3RMS_TCD_10FR_MEAN</th><th scope=col>PAR_3RMS_TCD_10FR_VAR</th><th scope=col>GENRE</th></tr></thead>\n",
       "<tbody>\n",
       "\t<tr><td>2.5788    </td><td> 481.45   </td><td> 76989.0  </td><td>-0.12334  </td><td>-0.11578  </td><td>-0.11176  </td><td>-0.10412  </td><td>-0.106100 </td><td>-0.11026  </td><td>-0.11375  </td><td>...       </td><td>0.0020317 </td><td>0.041056  </td><td>9.0700e-05</td><td>0.049627  </td><td>0.00023123</td><td>0.0112650 </td><td>2.4068e-05</td><td>0.0021769 </td><td>2.7965e-06</td><td>Pop       </td></tr>\n",
       "\t<tr><td>2.7195    </td><td>1405.30   </td><td>825380.0  </td><td>-0.17655  </td><td>-0.18323  </td><td>-0.17773  </td><td>-0.17057  </td><td>-0.166440 </td><td>-0.16174  </td><td>-0.15371  </td><td>...       </td><td>0.0059592 </td><td>0.082830  </td><td>1.1221e-03</td><td>0.093622  </td><td>0.00386910</td><td>0.0314670 </td><td>7.7900e-04</td><td>0.0067156 </td><td>4.0732e-05</td><td>Blues     </td></tr>\n",
       "\t<tr><td>2.5351    </td><td> 601.09   </td><td>686240.0  </td><td>-0.13940  </td><td>-0.13251  </td><td>-0.11486  </td><td>-0.10173  </td><td>-0.099342 </td><td>-0.10936  </td><td>-0.12668  </td><td>...       </td><td>0.0027664 </td><td>0.043652  </td><td>3.5815e-04</td><td>0.045415  </td><td>0.00021138</td><td>0.0138500 </td><td>3.7983e-05</td><td>0.0030694 </td><td>1.8371e-06</td><td>Pop       </td></tr>\n",
       "\t<tr><td>2.4465    </td><td> 637.73   </td><td>122580.0  </td><td>-0.14995  </td><td>-0.14802  </td><td>-0.13800  </td><td>-0.12927  </td><td>-0.125150 </td><td>-0.12340  </td><td>-0.12159  </td><td>...       </td><td>0.0025034 </td><td>0.045159  </td><td>3.5586e-04</td><td>0.037388  </td><td>0.00011800</td><td>0.0118970 </td><td>4.4980e-05</td><td>0.0026449 </td><td>5.6050e-06</td><td>Jazz      </td></tr>\n",
       "\t<tr><td>2.5657    </td><td> 776.86   </td><td>124010.0  </td><td>-0.16863  </td><td>-0.16112  </td><td>-0.15935  </td><td>-0.15120  </td><td>-0.140340 </td><td>-0.13002  </td><td>-0.12804  </td><td>...       </td><td>0.0027029 </td><td>0.047347  </td><td>3.0155e-04</td><td>0.049469  </td><td>0.00060605</td><td>0.0140520 </td><td>1.5194e-04</td><td>0.0032435 </td><td>2.9119e-05</td><td>Jazz      </td></tr>\n",
       "\t<tr><td>2.7737    </td><td> 447.09   </td><td>  8531.9  </td><td>-0.16128  </td><td>-0.15742  </td><td>-0.15769  </td><td>-0.14861  </td><td>-0.138120 </td><td>-0.12762  </td><td>-0.12145  </td><td>...       </td><td>0.0019773 </td><td>0.023864  </td><td>1.4097e-05</td><td>0.021595  </td><td>0.00022824</td><td>0.0075048 </td><td>7.2913e-05</td><td>0.0018830 </td><td>6.6686e-06</td><td>Classical </td></tr>\n",
       "</tbody>\n",
       "</table>\n"
      ],
      "text/latex": [
       "\\begin{tabular}{r|llllllllllllllllllllllllllllllllllllllllllllllllllllllllllllllllllllllllllllllllllllllllllllllllllllllllllllllllllllllllllllllllllllllllllllllllllllllllllllllllllllllllllllllllllllllllllllllll}\n",
       " PAR\\_TC & PAR\\_SC & PAR\\_SC\\_V & PAR\\_ASE1 & PAR\\_ASE2 & PAR\\_ASE3 & PAR\\_ASE4 & PAR\\_ASE5 & PAR\\_ASE6 & PAR\\_ASE7 & ... & PAR\\_3RMS\\_TCD & PAR\\_ZCD\\_10FR\\_MEAN & PAR\\_ZCD\\_10FR\\_VAR & PAR\\_1RMS\\_TCD\\_10FR\\_MEAN & PAR\\_1RMS\\_TCD\\_10FR\\_VAR & PAR\\_2RMS\\_TCD\\_10FR\\_MEAN & PAR\\_2RMS\\_TCD\\_10FR\\_VAR & PAR\\_3RMS\\_TCD\\_10FR\\_MEAN & PAR\\_3RMS\\_TCD\\_10FR\\_VAR & GENRE\\\\\n",
       "\\hline\n",
       "\t 2.5788     &  481.45    &  76989.0   & -0.12334   & -0.11578   & -0.11176   & -0.10412   & -0.106100  & -0.11026   & -0.11375   & ...        & 0.0020317  & 0.041056   & 9.0700e-05 & 0.049627   & 0.00023123 & 0.0112650  & 2.4068e-05 & 0.0021769  & 2.7965e-06 & Pop       \\\\\n",
       "\t 2.7195     & 1405.30    & 825380.0   & -0.17655   & -0.18323   & -0.17773   & -0.17057   & -0.166440  & -0.16174   & -0.15371   & ...        & 0.0059592  & 0.082830   & 1.1221e-03 & 0.093622   & 0.00386910 & 0.0314670  & 7.7900e-04 & 0.0067156  & 4.0732e-05 & Blues     \\\\\n",
       "\t 2.5351     &  601.09    & 686240.0   & -0.13940   & -0.13251   & -0.11486   & -0.10173   & -0.099342  & -0.10936   & -0.12668   & ...        & 0.0027664  & 0.043652   & 3.5815e-04 & 0.045415   & 0.00021138 & 0.0138500  & 3.7983e-05 & 0.0030694  & 1.8371e-06 & Pop       \\\\\n",
       "\t 2.4465     &  637.73    & 122580.0   & -0.14995   & -0.14802   & -0.13800   & -0.12927   & -0.125150  & -0.12340   & -0.12159   & ...        & 0.0025034  & 0.045159   & 3.5586e-04 & 0.037388   & 0.00011800 & 0.0118970  & 4.4980e-05 & 0.0026449  & 5.6050e-06 & Jazz      \\\\\n",
       "\t 2.5657     &  776.86    & 124010.0   & -0.16863   & -0.16112   & -0.15935   & -0.15120   & -0.140340  & -0.13002   & -0.12804   & ...        & 0.0027029  & 0.047347   & 3.0155e-04 & 0.049469   & 0.00060605 & 0.0140520  & 1.5194e-04 & 0.0032435  & 2.9119e-05 & Jazz      \\\\\n",
       "\t 2.7737     &  447.09    &   8531.9   & -0.16128   & -0.15742   & -0.15769   & -0.14861   & -0.138120  & -0.12762   & -0.12145   & ...        & 0.0019773  & 0.023864   & 1.4097e-05 & 0.021595   & 0.00022824 & 0.0075048  & 7.2913e-05 & 0.0018830  & 6.6686e-06 & Classical \\\\\n",
       "\\end{tabular}\n"
      ],
      "text/markdown": [
       "\n",
       "PAR_TC | PAR_SC | PAR_SC_V | PAR_ASE1 | PAR_ASE2 | PAR_ASE3 | PAR_ASE4 | PAR_ASE5 | PAR_ASE6 | PAR_ASE7 | ... | PAR_3RMS_TCD | PAR_ZCD_10FR_MEAN | PAR_ZCD_10FR_VAR | PAR_1RMS_TCD_10FR_MEAN | PAR_1RMS_TCD_10FR_VAR | PAR_2RMS_TCD_10FR_MEAN | PAR_2RMS_TCD_10FR_VAR | PAR_3RMS_TCD_10FR_MEAN | PAR_3RMS_TCD_10FR_VAR | GENRE | \n",
       "|---|---|---|---|---|---|\n",
       "| 2.5788     |  481.45    |  76989.0   | -0.12334   | -0.11578   | -0.11176   | -0.10412   | -0.106100  | -0.11026   | -0.11375   | ...        | 0.0020317  | 0.041056   | 9.0700e-05 | 0.049627   | 0.00023123 | 0.0112650  | 2.4068e-05 | 0.0021769  | 2.7965e-06 | Pop        | \n",
       "| 2.7195     | 1405.30    | 825380.0   | -0.17655   | -0.18323   | -0.17773   | -0.17057   | -0.166440  | -0.16174   | -0.15371   | ...        | 0.0059592  | 0.082830   | 1.1221e-03 | 0.093622   | 0.00386910 | 0.0314670  | 7.7900e-04 | 0.0067156  | 4.0732e-05 | Blues      | \n",
       "| 2.5351     |  601.09    | 686240.0   | -0.13940   | -0.13251   | -0.11486   | -0.10173   | -0.099342  | -0.10936   | -0.12668   | ...        | 0.0027664  | 0.043652   | 3.5815e-04 | 0.045415   | 0.00021138 | 0.0138500  | 3.7983e-05 | 0.0030694  | 1.8371e-06 | Pop        | \n",
       "| 2.4465     |  637.73    | 122580.0   | -0.14995   | -0.14802   | -0.13800   | -0.12927   | -0.125150  | -0.12340   | -0.12159   | ...        | 0.0025034  | 0.045159   | 3.5586e-04 | 0.037388   | 0.00011800 | 0.0118970  | 4.4980e-05 | 0.0026449  | 5.6050e-06 | Jazz       | \n",
       "| 2.5657     |  776.86    | 124010.0   | -0.16863   | -0.16112   | -0.15935   | -0.15120   | -0.140340  | -0.13002   | -0.12804   | ...        | 0.0027029  | 0.047347   | 3.0155e-04 | 0.049469   | 0.00060605 | 0.0140520  | 1.5194e-04 | 0.0032435  | 2.9119e-05 | Jazz       | \n",
       "| 2.7737     |  447.09    |   8531.9   | -0.16128   | -0.15742   | -0.15769   | -0.14861   | -0.138120  | -0.12762   | -0.12145   | ...        | 0.0019773  | 0.023864   | 1.4097e-05 | 0.021595   | 0.00022824 | 0.0075048  | 7.2913e-05 | 0.0018830  | 6.6686e-06 | Classical  | \n",
       "\n",
       "\n"
      ],
      "text/plain": [
       "  PAR_TC PAR_SC  PAR_SC_V PAR_ASE1 PAR_ASE2 PAR_ASE3 PAR_ASE4 PAR_ASE5 \n",
       "1 2.5788  481.45  76989.0 -0.12334 -0.11578 -0.11176 -0.10412 -0.106100\n",
       "2 2.7195 1405.30 825380.0 -0.17655 -0.18323 -0.17773 -0.17057 -0.166440\n",
       "3 2.5351  601.09 686240.0 -0.13940 -0.13251 -0.11486 -0.10173 -0.099342\n",
       "4 2.4465  637.73 122580.0 -0.14995 -0.14802 -0.13800 -0.12927 -0.125150\n",
       "5 2.5657  776.86 124010.0 -0.16863 -0.16112 -0.15935 -0.15120 -0.140340\n",
       "6 2.7737  447.09   8531.9 -0.16128 -0.15742 -0.15769 -0.14861 -0.138120\n",
       "  PAR_ASE6 PAR_ASE7 ... PAR_3RMS_TCD PAR_ZCD_10FR_MEAN PAR_ZCD_10FR_VAR\n",
       "1 -0.11026 -0.11375 ... 0.0020317    0.041056          9.0700e-05      \n",
       "2 -0.16174 -0.15371 ... 0.0059592    0.082830          1.1221e-03      \n",
       "3 -0.10936 -0.12668 ... 0.0027664    0.043652          3.5815e-04      \n",
       "4 -0.12340 -0.12159 ... 0.0025034    0.045159          3.5586e-04      \n",
       "5 -0.13002 -0.12804 ... 0.0027029    0.047347          3.0155e-04      \n",
       "6 -0.12762 -0.12145 ... 0.0019773    0.023864          1.4097e-05      \n",
       "  PAR_1RMS_TCD_10FR_MEAN PAR_1RMS_TCD_10FR_VAR PAR_2RMS_TCD_10FR_MEAN\n",
       "1 0.049627               0.00023123            0.0112650             \n",
       "2 0.093622               0.00386910            0.0314670             \n",
       "3 0.045415               0.00021138            0.0138500             \n",
       "4 0.037388               0.00011800            0.0118970             \n",
       "5 0.049469               0.00060605            0.0140520             \n",
       "6 0.021595               0.00022824            0.0075048             \n",
       "  PAR_2RMS_TCD_10FR_VAR PAR_3RMS_TCD_10FR_MEAN PAR_3RMS_TCD_10FR_VAR GENRE    \n",
       "1 2.4068e-05            0.0021769              2.7965e-06            Pop      \n",
       "2 7.7900e-04            0.0067156              4.0732e-05            Blues    \n",
       "3 3.7983e-05            0.0030694              1.8371e-06            Pop      \n",
       "4 4.4980e-05            0.0026449              5.6050e-06            Jazz     \n",
       "5 1.5194e-04            0.0032435              2.9119e-05            Jazz     \n",
       "6 7.2913e-05            0.0018830              6.6686e-06            Classical"
      ]
     },
     "metadata": {},
     "output_type": "display_data"
    },
    {
     "data": {
      "text/html": [
       "65.078125"
      ],
      "text/latex": [
       "65.078125"
      ],
      "text/markdown": [
       "65.078125"
      ],
      "text/plain": [
       "[1] 65.07812"
      ]
     },
     "metadata": {},
     "output_type": "display_data"
    }
   ],
   "source": [
    "library(tidyverse)\n",
    "library(data.table)\n",
    "trn <- read_csv(\"genresTrain.csv\")\n",
    "head(trn)\n",
    "nrow(trn)/ncol(trn)"
   ]
  },
  {
   "cell_type": "code",
   "execution_count": 2,
   "metadata": {
    "collapsed": false
   },
   "outputs": [
    {
     "data": {
      "text/html": [
       "FALSE"
      ],
      "text/latex": [
       "FALSE"
      ],
      "text/markdown": [
       "FALSE"
      ],
      "text/plain": [
       "[1] FALSE"
      ]
     },
     "metadata": {},
     "output_type": "display_data"
    }
   ],
   "source": [
    "any(is.na(trn))\n",
    "# no missing value for this dataset\n",
    "# na_info <- unlist(lapply(trn,function(x) any(is.na(x))))\n",
    "# na_info <- names(na_info)[na_info]\n",
    "# head(na_info)"
   ]
  },
  {
   "cell_type": "code",
   "execution_count": 3,
   "metadata": {
    "collapsed": false,
    "scrolled": false
   },
   "outputs": [
    {
     "name": "stderr",
     "output_type": "stream",
     "text": [
      "Warning message in barchart.table(table(x), data, ...):\n",
      "\"explicit 'data' specification ignored\""
     ]
    },
    {
     "data": {},
     "metadata": {},
     "output_type": "display_data"
    },
    {
     "data": {
      "image/png": "[encoded data removed]",
      "text/plain": [
       "plot without title"
      ]
     },
     "metadata": {},
     "output_type": "display_data"
    }
   ],
   "source": [
    "#let's see how genre distribute\n",
    "library(lattice)\n",
    "barchart(trn$GENRE,data=trn)\n",
    "#histogram(~GENRE,data=trn)"
   ]
  },
  {
   "cell_type": "code",
   "execution_count": 4,
   "metadata": {
    "collapsed": false
   },
   "outputs": [],
   "source": [
    "library(sampling)\n",
    "trn$GENRE <- as.factor(trn$GENRE)\n",
    "trn <- trn[order(trn$GENRE),]\n",
    "trn_id <- strata(trn,stratanames = c(\"GENRE\"),size=c(1277,2755,2402,739,1260,1562),method = \"srswor\")\n",
    "\n",
    "trn_set <- trn[trn_id$ID_unit,]\n",
    "test_set <- trn[-trn_id$ID_unit,]"
   ]
  },
  {
   "cell_type": "code",
   "execution_count": 5,
   "metadata": {
    "collapsed": false,
    "scrolled": true
   },
   "outputs": [
    {
     "name": "stderr",
     "output_type": "stream",
     "text": [
      "Warning message in barchart.table(table(x), data, ...):\n",
      "\"explicit 'data' specification ignored\""
     ]
    },
    {
     "data": {},
     "metadata": {},
     "output_type": "display_data"
    },
    {
     "name": "stderr",
     "output_type": "stream",
     "text": [
      "Warning message in barchart.table(table(x), data, ...):\n",
      "\"explicit 'data' specification ignored\""
     ]
    },
    {
     "data": {},
     "metadata": {},
     "output_type": "display_data"
    },
    {
     "data": {
      "image/png": "[encoded data removed]",
      "text/plain": [
       "plot without title"
      ]
     },
     "metadata": {},
     "output_type": "display_data"
    },
    {
     "data": {
      "image/png": "[encoded data removed]",
      "text/plain": [
       "plot without title"
      ]
     },
     "metadata": {},
     "output_type": "display_data"
    }
   ],
   "source": [
    "barchart(trn_set$GENRE,data=trn_set)\n",
    "barchart(test_set$GENRE,data=test_set)"
   ]
  },
  {
   "cell_type": "code",
   "execution_count": 16,
   "metadata": {
    "collapsed": false
   },
   "outputs": [],
   "source": [
    "library(caret)\n",
    "set.seed(31)\n",
    "tenFoldCV <- createFolds(trn$GENRE, k = 10,returnTrain = T)"
   ]
  },
  {
   "cell_type": "code",
   "execution_count": 19,
   "metadata": {
    "collapsed": false
   },
   "outputs": [
    {
     "name": "stdout",
     "output_type": "stream",
     "text": [
      " int [1:11244] 1 2 3 4 5 7 8 9 10 12 ...\n"
     ]
    }
   ],
   "source": [
    "str(tenFoldCV$Fold01)"
   ]
  },
  {
   "cell_type": "code",
   "execution_count": 20,
   "metadata": {
    "collapsed": true
   },
   "outputs": [],
   "source": [
    "fld_1 <- trn[tenFoldCV$Fold01,]"
   ]
  },
  {
   "cell_type": "code",
   "execution_count": 25,
   "metadata": {
    "collapsed": false,
    "scrolled": true
   },
   "outputs": [
    {
     "data": {},
     "metadata": {},
     "output_type": "display_data"
    },
    {
     "data": {},
     "metadata": {},
     "output_type": "display_data"
    },
    {
     "data": {
      "image/png": "[encoded data removed]",
      "text/plain": [
       "plot without title"
      ]
     },
     "metadata": {},
     "output_type": "display_data"
    },
    {
     "data": {
      "image/png": "[encoded data removed]",
      "text/plain": [
       "plot without title"
      ]
     },
     "metadata": {},
     "output_type": "display_data"
    }
   ],
   "source": [
    "histogram(~fld_1$GENRE,data=fld_1)\n",
    "histogram(~GENRE,data=trn,col=\"grey\")"
   ]
  },
  {
   "cell_type": "markdown",
   "metadata": {},
   "source": [
    "4.2. Consider the permeability data set described in Section Sect. 1.4. The objective for this data is to\n",
    "use the predictors to model compounds’ permeability.\n",
    "\n",
    "- (a) What data splitting method(s) would you use for this data? Explain.\n",
    "- (b) Using tools described in this chapter, provide code for implementing your approach(es)."
   ]
  },
  {
   "cell_type": "code",
   "execution_count": 6,
   "metadata": {
    "collapsed": false,
    "scrolled": true
   },
   "outputs": [
    {
     "name": "stdout",
     "output_type": "stream",
     "text": [
      " num [1:165, 1] 12.52 1.12 19.41 1.73 1.68 ...\n",
      " - attr(*, \"dimnames\")=List of 2\n",
      "  ..$ : chr [1:165] \"1\" \"2\" \"3\" \"4\" ...\n",
      "  ..$ : chr \"permeability\"\n"
     ]
    },
    {
     "data": {
      "text/html": [
       "0.149051490514905"
      ],
      "text/latex": [
       "0.149051490514905"
      ],
      "text/markdown": [
       "0.149051490514905"
      ],
      "text/plain": [
       "[1] 0.1490515"
      ]
     },
     "metadata": {},
     "output_type": "display_data"
    },
    {
     "data": {},
     "metadata": {},
     "output_type": "display_data"
    },
    {
     "data": {
      "image/png": "[encoded data removed]",
      "text/plain": [
       "plot without title"
      ]
     },
     "metadata": {},
     "output_type": "display_data"
    }
   ],
   "source": [
    "library(AppliedPredictiveModeling)\n",
    "data(permeability)\n",
    "str(permeability)\n",
    "nrow(fingerprints)/ncol(fingerprints)\n",
    "histogram(~permeability)"
   ]
  },
  {
   "cell_type": "code",
   "execution_count": 8,
   "metadata": {
    "collapsed": false
   },
   "outputs": [],
   "source": [
    "set.seed(72)\n",
    "library(caret)\n",
    "repeatedCV <- createMultiFolds(permeability,k=10,times = 25)"
   ]
  },
  {
   "cell_type": "code",
   "execution_count": 18,
   "metadata": {
    "collapsed": false,
    "scrolled": true
   },
   "outputs": [
    {
     "data": {},
     "metadata": {},
     "output_type": "display_data"
    },
    {
     "data": {},
     "metadata": {},
     "output_type": "display_data"
    },
    {
     "data": {
      "image/png": "[encoded data removed]",
      "text/plain": [
       "plot without title"
      ]
     },
     "metadata": {},
     "output_type": "display_data"
    },
    {
     "data": {
      "image/png": "[encoded data removed]",
      "text/plain": [
       "plot without title"
      ]
     },
     "metadata": {},
     "output_type": "display_data"
    }
   ],
   "source": [
    "histogram(~permeability[repeatedCV$Fold01.Rep01])"
   ]
  },
  {
   "cell_type": "markdown",
   "metadata": {},
   "source": [
    "4.3. Partial least squares (Sect. 6.3) was used to model the yield of a chemical\n",
    "manufacturing process (Sect. 1.4). The data can be found in the AppliedPredictiveModeling package and can be loaded using\n",
    "```r\n",
    "library(AppliedPredictiveModeling)\n",
    "data(ChemicalManufacturingProcess)\n",
    "```\n",
    "The objective of this analysis is to find the number of PLS components\n",
    "that yields the optimal R2 value (Sect. 5.1). PLS models with 1 through 10\n",
    "components were each evaluated using five repeats of 10-fold cross-validation\n",
    "and the results are presented in the following table:\n",
    "- (a) Using the “one-standard error”method, what number of PLS components\n",
    "provides the most parsimonious model?\n",
    "- (b) Compute the tolerance values for this example. If a 10 % loss in R2 is\n",
    "acceptable, then what is the optimal number of PLS components?\n",
    "- (c) Several other models (discussed in Part II) with varying degrees of complexity were trained and tuned and the results are presented in Fig. 4.13.\n",
    "If the goal is to select the model that optimizes R2, then which model(s)\n",
    "would you choose, and why?\n",
    "- (d) Prediction time, as well as model complexity (Sect. 4.8) are other factors\n",
    "to consider when selecting the optimal model(s). Given each model’s prediction time, model comp"
   ]
  },
  {
   "cell_type": "code",
   "execution_count": 26,
   "metadata": {
    "collapsed": false,
    "scrolled": true
   },
   "outputs": [
    {
     "data": {
      "text/html": [
       "<table>\n",
       "<thead><tr><th scope=col>Yield</th><th scope=col>BiologicalMaterial01</th><th scope=col>BiologicalMaterial02</th><th scope=col>BiologicalMaterial03</th><th scope=col>BiologicalMaterial04</th><th scope=col>BiologicalMaterial05</th><th scope=col>BiologicalMaterial06</th><th scope=col>BiologicalMaterial07</th><th scope=col>BiologicalMaterial08</th><th scope=col>BiologicalMaterial09</th><th scope=col>...</th><th scope=col>ManufacturingProcess36</th><th scope=col>ManufacturingProcess37</th><th scope=col>ManufacturingProcess38</th><th scope=col>ManufacturingProcess39</th><th scope=col>ManufacturingProcess40</th><th scope=col>ManufacturingProcess41</th><th scope=col>ManufacturingProcess42</th><th scope=col>ManufacturingProcess43</th><th scope=col>ManufacturingProcess44</th><th scope=col>ManufacturingProcess45</th></tr></thead>\n",
       "<tbody>\n",
       "\t<tr><td>38.00</td><td>6.25 </td><td>49.58</td><td>56.97</td><td>12.74</td><td>19.51</td><td>43.73</td><td>100  </td><td>16.66</td><td>11.44</td><td>...  </td><td>0.019</td><td>0.5  </td><td>3    </td><td>7.2  </td><td> NA  </td><td>  NA </td><td>11.6 </td><td>3.0  </td><td>1.8  </td><td>2.4  </td></tr>\n",
       "\t<tr><td>42.44</td><td>8.01 </td><td>60.97</td><td>67.48</td><td>14.65</td><td>19.36</td><td>53.14</td><td>100  </td><td>19.04</td><td>12.55</td><td>...  </td><td>0.019</td><td>2.0  </td><td>2    </td><td>7.2  </td><td>0.1  </td><td>0.15 </td><td>11.1 </td><td>0.9  </td><td>1.9  </td><td>2.2  </td></tr>\n",
       "\t<tr><td>42.03</td><td>8.01 </td><td>60.97</td><td>67.48</td><td>14.65</td><td>19.36</td><td>53.14</td><td>100  </td><td>19.04</td><td>12.55</td><td>...  </td><td>0.018</td><td>0.7  </td><td>2    </td><td>7.2  </td><td>0.0  </td><td>0.00 </td><td>12.0 </td><td>1.0  </td><td>1.8  </td><td>2.3  </td></tr>\n",
       "\t<tr><td>41.42</td><td>8.01 </td><td>60.97</td><td>67.48</td><td>14.65</td><td>19.36</td><td>53.14</td><td>100  </td><td>19.04</td><td>12.55</td><td>...  </td><td>0.018</td><td>1.2  </td><td>2    </td><td>7.2  </td><td>0.0  </td><td>0.00 </td><td>10.6 </td><td>1.1  </td><td>1.8  </td><td>2.1  </td></tr>\n",
       "\t<tr><td>42.49</td><td>7.47 </td><td>63.33</td><td>72.25</td><td>14.02</td><td>17.91</td><td>54.66</td><td>100  </td><td>18.22</td><td>12.80</td><td>...  </td><td>0.017</td><td>0.2  </td><td>2    </td><td>7.3  </td><td>0.0  </td><td>0.00 </td><td>11.0 </td><td>1.1  </td><td>1.7  </td><td>2.1  </td></tr>\n",
       "\t<tr><td>43.57</td><td>6.12 </td><td>58.36</td><td>65.31</td><td>15.17</td><td>21.79</td><td>51.23</td><td>100  </td><td>18.30</td><td>12.13</td><td>...  </td><td>0.018</td><td>0.4  </td><td>2    </td><td>7.2  </td><td>0.0  </td><td>0.00 </td><td>11.5 </td><td>2.2  </td><td>1.8  </td><td>2.0  </td></tr>\n",
       "</tbody>\n",
       "</table>\n"
      ],
      "text/latex": [
       "\\begin{tabular}{r|llllllllllllllllllllllllllllllllllllllllllllllllllllllllll}\n",
       " Yield & BiologicalMaterial01 & BiologicalMaterial02 & BiologicalMaterial03 & BiologicalMaterial04 & BiologicalMaterial05 & BiologicalMaterial06 & BiologicalMaterial07 & BiologicalMaterial08 & BiologicalMaterial09 & ... & ManufacturingProcess36 & ManufacturingProcess37 & ManufacturingProcess38 & ManufacturingProcess39 & ManufacturingProcess40 & ManufacturingProcess41 & ManufacturingProcess42 & ManufacturingProcess43 & ManufacturingProcess44 & ManufacturingProcess45\\\\\n",
       "\\hline\n",
       "\t 38.00 & 6.25  & 49.58 & 56.97 & 12.74 & 19.51 & 43.73 & 100   & 16.66 & 11.44 & ...   & 0.019 & 0.5   & 3     & 7.2   &  NA   &   NA  & 11.6  & 3.0   & 1.8   & 2.4  \\\\\n",
       "\t 42.44 & 8.01  & 60.97 & 67.48 & 14.65 & 19.36 & 53.14 & 100   & 19.04 & 12.55 & ...   & 0.019 & 2.0   & 2     & 7.2   & 0.1   & 0.15  & 11.1  & 0.9   & 1.9   & 2.2  \\\\\n",
       "\t 42.03 & 8.01  & 60.97 & 67.48 & 14.65 & 19.36 & 53.14 & 100   & 19.04 & 12.55 & ...   & 0.018 & 0.7   & 2     & 7.2   & 0.0   & 0.00  & 12.0  & 1.0   & 1.8   & 2.3  \\\\\n",
       "\t 41.42 & 8.01  & 60.97 & 67.48 & 14.65 & 19.36 & 53.14 & 100   & 19.04 & 12.55 & ...   & 0.018 & 1.2   & 2     & 7.2   & 0.0   & 0.00  & 10.6  & 1.1   & 1.8   & 2.1  \\\\\n",
       "\t 42.49 & 7.47  & 63.33 & 72.25 & 14.02 & 17.91 & 54.66 & 100   & 18.22 & 12.80 & ...   & 0.017 & 0.2   & 2     & 7.3   & 0.0   & 0.00  & 11.0  & 1.1   & 1.7   & 2.1  \\\\\n",
       "\t 43.57 & 6.12  & 58.36 & 65.31 & 15.17 & 21.79 & 51.23 & 100   & 18.30 & 12.13 & ...   & 0.018 & 0.4   & 2     & 7.2   & 0.0   & 0.00  & 11.5  & 2.2   & 1.8   & 2.0  \\\\\n",
       "\\end{tabular}\n"
      ],
      "text/markdown": [
       "\n",
       "Yield | BiologicalMaterial01 | BiologicalMaterial02 | BiologicalMaterial03 | BiologicalMaterial04 | BiologicalMaterial05 | BiologicalMaterial06 | BiologicalMaterial07 | BiologicalMaterial08 | BiologicalMaterial09 | ... | ManufacturingProcess36 | ManufacturingProcess37 | ManufacturingProcess38 | ManufacturingProcess39 | ManufacturingProcess40 | ManufacturingProcess41 | ManufacturingProcess42 | ManufacturingProcess43 | ManufacturingProcess44 | ManufacturingProcess45 | \n",
       "|---|---|---|---|---|---|\n",
       "| 38.00 | 6.25  | 49.58 | 56.97 | 12.74 | 19.51 | 43.73 | 100   | 16.66 | 11.44 | ...   | 0.019 | 0.5   | 3     | 7.2   |  NA   |   NA  | 11.6  | 3.0   | 1.8   | 2.4   | \n",
       "| 42.44 | 8.01  | 60.97 | 67.48 | 14.65 | 19.36 | 53.14 | 100   | 19.04 | 12.55 | ...   | 0.019 | 2.0   | 2     | 7.2   | 0.1   | 0.15  | 11.1  | 0.9   | 1.9   | 2.2   | \n",
       "| 42.03 | 8.01  | 60.97 | 67.48 | 14.65 | 19.36 | 53.14 | 100   | 19.04 | 12.55 | ...   | 0.018 | 0.7   | 2     | 7.2   | 0.0   | 0.00  | 12.0  | 1.0   | 1.8   | 2.3   | \n",
       "| 41.42 | 8.01  | 60.97 | 67.48 | 14.65 | 19.36 | 53.14 | 100   | 19.04 | 12.55 | ...   | 0.018 | 1.2   | 2     | 7.2   | 0.0   | 0.00  | 10.6  | 1.1   | 1.8   | 2.1   | \n",
       "| 42.49 | 7.47  | 63.33 | 72.25 | 14.02 | 17.91 | 54.66 | 100   | 18.22 | 12.80 | ...   | 0.017 | 0.2   | 2     | 7.3   | 0.0   | 0.00  | 11.0  | 1.1   | 1.7   | 2.1   | \n",
       "| 43.57 | 6.12  | 58.36 | 65.31 | 15.17 | 21.79 | 51.23 | 100   | 18.30 | 12.13 | ...   | 0.018 | 0.4   | 2     | 7.2   | 0.0   | 0.00  | 11.5  | 2.2   | 1.8   | 2.0   | \n",
       "\n",
       "\n"
      ],
      "text/plain": [
       "  Yield BiologicalMaterial01 BiologicalMaterial02 BiologicalMaterial03\n",
       "1 38.00 6.25                 49.58                56.97               \n",
       "2 42.44 8.01                 60.97                67.48               \n",
       "3 42.03 8.01                 60.97                67.48               \n",
       "4 41.42 8.01                 60.97                67.48               \n",
       "5 42.49 7.47                 63.33                72.25               \n",
       "6 43.57 6.12                 58.36                65.31               \n",
       "  BiologicalMaterial04 BiologicalMaterial05 BiologicalMaterial06\n",
       "1 12.74                19.51                43.73               \n",
       "2 14.65                19.36                53.14               \n",
       "3 14.65                19.36                53.14               \n",
       "4 14.65                19.36                53.14               \n",
       "5 14.02                17.91                54.66               \n",
       "6 15.17                21.79                51.23               \n",
       "  BiologicalMaterial07 BiologicalMaterial08 BiologicalMaterial09 ...\n",
       "1 100                  16.66                11.44                ...\n",
       "2 100                  19.04                12.55                ...\n",
       "3 100                  19.04                12.55                ...\n",
       "4 100                  19.04                12.55                ...\n",
       "5 100                  18.22                12.80                ...\n",
       "6 100                  18.30                12.13                ...\n",
       "  ManufacturingProcess36 ManufacturingProcess37 ManufacturingProcess38\n",
       "1 0.019                  0.5                    3                     \n",
       "2 0.019                  2.0                    2                     \n",
       "3 0.018                  0.7                    2                     \n",
       "4 0.018                  1.2                    2                     \n",
       "5 0.017                  0.2                    2                     \n",
       "6 0.018                  0.4                    2                     \n",
       "  ManufacturingProcess39 ManufacturingProcess40 ManufacturingProcess41\n",
       "1 7.2                     NA                      NA                  \n",
       "2 7.2                    0.1                    0.15                  \n",
       "3 7.2                    0.0                    0.00                  \n",
       "4 7.2                    0.0                    0.00                  \n",
       "5 7.3                    0.0                    0.00                  \n",
       "6 7.2                    0.0                    0.00                  \n",
       "  ManufacturingProcess42 ManufacturingProcess43 ManufacturingProcess44\n",
       "1 11.6                   3.0                    1.8                   \n",
       "2 11.1                   0.9                    1.9                   \n",
       "3 12.0                   1.0                    1.8                   \n",
       "4 10.6                   1.1                    1.8                   \n",
       "5 11.0                   1.1                    1.7                   \n",
       "6 11.5                   2.2                    1.8                   \n",
       "  ManufacturingProcess45\n",
       "1 2.4                   \n",
       "2 2.2                   \n",
       "3 2.3                   \n",
       "4 2.1                   \n",
       "5 2.1                   \n",
       "6 2.0                   "
      ]
     },
     "metadata": {},
     "output_type": "display_data"
    }
   ],
   "source": [
    "library(AppliedPredictiveModeling)\n",
    "data(ChemicalManufacturingProcess)\n",
    "head(ChemicalManufacturingProcess)"
   ]
  },
  {
   "cell_type": "code",
   "execution_count": 78,
   "metadata": {
    "collapsed": false,
    "scrolled": true
   },
   "outputs": [
    {
     "data": {
      "text/html": [
       "TRUE"
      ],
      "text/latex": [
       "TRUE"
      ],
      "text/markdown": [
       "TRUE"
      ],
      "text/plain": [
       "[1] TRUE"
      ]
     },
     "metadata": {},
     "output_type": "display_data"
    },
    {
     "data": {
      "text/html": [
       "<ol class=list-inline>\n",
       "\t<li>'ManufacturingProcess01'</li>\n",
       "\t<li>'ManufacturingProcess02'</li>\n",
       "\t<li>'ManufacturingProcess03'</li>\n",
       "\t<li>'ManufacturingProcess04'</li>\n",
       "\t<li>'ManufacturingProcess05'</li>\n",
       "\t<li>'ManufacturingProcess06'</li>\n",
       "</ol>\n"
      ],
      "text/latex": [
       "\\begin{enumerate*}\n",
       "\\item 'ManufacturingProcess01'\n",
       "\\item 'ManufacturingProcess02'\n",
       "\\item 'ManufacturingProcess03'\n",
       "\\item 'ManufacturingProcess04'\n",
       "\\item 'ManufacturingProcess05'\n",
       "\\item 'ManufacturingProcess06'\n",
       "\\end{enumerate*}\n"
      ],
      "text/markdown": [
       "1. 'ManufacturingProcess01'\n",
       "2. 'ManufacturingProcess02'\n",
       "3. 'ManufacturingProcess03'\n",
       "4. 'ManufacturingProcess04'\n",
       "5. 'ManufacturingProcess05'\n",
       "6. 'ManufacturingProcess06'\n",
       "\n",
       "\n"
      ],
      "text/plain": [
       "[1] \"ManufacturingProcess01\" \"ManufacturingProcess02\" \"ManufacturingProcess03\"\n",
       "[4] \"ManufacturingProcess04\" \"ManufacturingProcess05\" \"ManufacturingProcess06\""
      ]
     },
     "metadata": {},
     "output_type": "display_data"
    }
   ],
   "source": [
    "any(is.na(ChemicalManufacturingProcess))\n",
    "\n",
    "na_info <- unlist(lapply(ChemicalManufacturingProcess,function(x) any(is.na(x))))\n",
    "#na_info <- names(na_info)[na_info]\n",
    "#head(na_info)"
   ]
  },
  {
   "cell_type": "code",
   "execution_count": 86,
   "metadata": {
    "collapsed": false,
    "scrolled": true
   },
   "outputs": [],
   "source": [
    "CMP <- ChemicalManufacturingProcess[,!na_info]"
   ]
  },
  {
   "cell_type": "code",
   "execution_count": 87,
   "metadata": {
    "collapsed": false
   },
   "outputs": [],
   "source": [
    "set.seed(19711230)\n",
    "fit_pls <- train(Yield ~ .,data = CMP,method = \"pls\",\n",
    "                 preProc = c(\"center\", \"scale\"),tuneLength = 10,\n",
    "                 trControl = trainControl(method = \"repeatedcv\", repeats = 5))"
   ]
  },
  {
   "cell_type": "code",
   "execution_count": 103,
   "metadata": {
    "collapsed": false
   },
   "outputs": [
    {
     "data": {
      "text/html": [
       "<table>\n",
       "<thead><tr><th scope=col>ncomp</th><th scope=col>Rsquared</th><th scope=col>RsquaredSD</th><th scope=col>RsquaredSEM</th></tr></thead>\n",
       "<tbody>\n",
       "\t<tr><td> 1        </td><td>0.3977156 </td><td>0.1998676 </td><td>0.02826555</td></tr>\n",
       "\t<tr><td> 2        </td><td>0.5081880 </td><td>0.2189638 </td><td>0.03096616</td></tr>\n",
       "\t<tr><td> 3        </td><td>0.5667223 </td><td>0.1894780 </td><td>0.02679623</td></tr>\n",
       "\t<tr><td> 4        </td><td>0.5523224 </td><td>0.2000750 </td><td>0.02829487</td></tr>\n",
       "\t<tr><td> 5        </td><td>0.5376299 </td><td>0.2190161 </td><td>0.03097356</td></tr>\n",
       "\t<tr><td> 6        </td><td>0.5225713 </td><td>0.2330304 </td><td>0.03295547</td></tr>\n",
       "\t<tr><td> 7        </td><td>0.5104416 </td><td>0.2457468 </td><td>0.03475384</td></tr>\n",
       "\t<tr><td> 8        </td><td>0.5089982 </td><td>0.2472731 </td><td>0.03496970</td></tr>\n",
       "\t<tr><td> 9        </td><td>0.5124249 </td><td>0.2428281 </td><td>0.03434107</td></tr>\n",
       "\t<tr><td>10        </td><td>0.5101823 </td><td>0.2440854 </td><td>0.03451889</td></tr>\n",
       "</tbody>\n",
       "</table>\n"
      ],
      "text/latex": [
       "\\begin{tabular}{r|llll}\n",
       " ncomp & Rsquared & RsquaredSD & RsquaredSEM\\\\\n",
       "\\hline\n",
       "\t  1         & 0.3977156  & 0.1998676  & 0.02826555\\\\\n",
       "\t  2         & 0.5081880  & 0.2189638  & 0.03096616\\\\\n",
       "\t  3         & 0.5667223  & 0.1894780  & 0.02679623\\\\\n",
       "\t  4         & 0.5523224  & 0.2000750  & 0.02829487\\\\\n",
       "\t  5         & 0.5376299  & 0.2190161  & 0.03097356\\\\\n",
       "\t  6         & 0.5225713  & 0.2330304  & 0.03295547\\\\\n",
       "\t  7         & 0.5104416  & 0.2457468  & 0.03475384\\\\\n",
       "\t  8         & 0.5089982  & 0.2472731  & 0.03496970\\\\\n",
       "\t  9         & 0.5124249  & 0.2428281  & 0.03434107\\\\\n",
       "\t 10         & 0.5101823  & 0.2440854  & 0.03451889\\\\\n",
       "\\end{tabular}\n"
      ],
      "text/markdown": [
       "\n",
       "ncomp | Rsquared | RsquaredSD | RsquaredSEM | \n",
       "|---|---|---|---|---|---|---|---|---|---|\n",
       "|  1         | 0.3977156  | 0.1998676  | 0.02826555 | \n",
       "|  2         | 0.5081880  | 0.2189638  | 0.03096616 | \n",
       "|  3         | 0.5667223  | 0.1894780  | 0.02679623 | \n",
       "|  4         | 0.5523224  | 0.2000750  | 0.02829487 | \n",
       "|  5         | 0.5376299  | 0.2190161  | 0.03097356 | \n",
       "|  6         | 0.5225713  | 0.2330304  | 0.03295547 | \n",
       "|  7         | 0.5104416  | 0.2457468  | 0.03475384 | \n",
       "|  8         | 0.5089982  | 0.2472731  | 0.03496970 | \n",
       "|  9         | 0.5124249  | 0.2428281  | 0.03434107 | \n",
       "| 10         | 0.5101823  | 0.2440854  | 0.03451889 | \n",
       "\n",
       "\n"
      ],
      "text/plain": [
       "   ncomp Rsquared  RsquaredSD RsquaredSEM\n",
       "1   1    0.3977156 0.1998676  0.02826555 \n",
       "2   2    0.5081880 0.2189638  0.03096616 \n",
       "3   3    0.5667223 0.1894780  0.02679623 \n",
       "4   4    0.5523224 0.2000750  0.02829487 \n",
       "5   5    0.5376299 0.2190161  0.03097356 \n",
       "6   6    0.5225713 0.2330304  0.03295547 \n",
       "7   7    0.5104416 0.2457468  0.03475384 \n",
       "8   8    0.5089982 0.2472731  0.03496970 \n",
       "9   9    0.5124249 0.2428281  0.03434107 \n",
       "10 10    0.5101823 0.2440854  0.03451889 "
      ]
     },
     "metadata": {},
     "output_type": "display_data"
    }
   ],
   "source": [
    "R2values <- fit_pls$results[,c(\"ncomp\",\"Rsquared\",\"RsquaredSD\")]\n",
    "R2values$RsquaredSEM <- R2values$RsquaredSD/sqrt(length(fit_pls$control$index))\n",
    "R2values"
   ]
  }
 ],
 "metadata": {
  "anaconda-cloud": {},
  "kernelspec": {
   "display_name": "R",
   "language": "R",
   "name": "ir"
  },
  "language_info": {
   "codemirror_mode": "r",
   "file_extension": ".r",
   "mimetype": "text/x-r-source",
   "name": "R",
   "pygments_lexer": "r",
   "version": "3.5.0"
  },
  "toc": {
   "base_numbering": 1,
   "nav_menu": {},
   "number_sections": true,
   "sideBar": true,
   "skip_h1_title": false,
   "title_cell": "Table of Contents",
   "title_sidebar": "Contents",
   "toc_cell": false,
   "toc_position": {},
   "toc_section_display": true,
   "toc_window_display": false
  }
 },
 "nbformat": 4,
 "nbformat_minor": 1
}
