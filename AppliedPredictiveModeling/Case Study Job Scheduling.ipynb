{
 "cells": [
  {
   "cell_type": "code",
   "execution_count": 1,
   "metadata": {},
   "outputs": [],
   "source": [
    "library(AppliedPredictiveModeling)\n",
    "data(schedulingData)"
   ]
  },
  {
   "cell_type": "code",
   "execution_count": 2,
   "metadata": {
    "scrolled": true
   },
   "outputs": [
    {
     "name": "stdout",
     "output_type": "stream",
     "text": [
      "'data.frame':\t4331 obs. of  8 variables:\n",
      " $ Protocol   : Factor w/ 14 levels \"A\",\"C\",\"D\",\"E\",..: 4 4 4 4 4 4 4 4 4 4 ...\n",
      " $ Compounds  : num  997 97 101 93 100 100 105 98 101 95 ...\n",
      " $ InputFields: num  137 103 75 76 82 82 88 95 91 92 ...\n",
      " $ Iterations : num  20 20 10 20 20 20 20 20 20 20 ...\n",
      " $ NumPending : num  0 0 0 0 0 0 0 0 0 0 ...\n",
      " $ Hour       : num  14 13.8 13.8 10.1 10.4 ...\n",
      " $ Day        : Factor w/ 7 levels \"Mon\",\"Tue\",\"Wed\",..: 2 2 4 5 5 3 5 5 5 3 ...\n",
      " $ Class      : Factor w/ 4 levels \"VF\",\"F\",\"M\",\"L\": 2 1 1 1 1 1 1 1 1 1 ...\n"
     ]
    }
   ],
   "source": [
    "str(schedulingData)"
   ]
  },
  {
   "cell_type": "code",
   "execution_count": 4,
   "metadata": {
    "scrolled": true
   },
   "outputs": [
    {
     "data": {
      "text/html": [
       "FALSE"
      ],
      "text/latex": [
       "FALSE"
      ],
      "text/markdown": [
       "FALSE"
      ],
      "text/plain": [
       "[1] FALSE"
      ]
     },
     "metadata": {},
     "output_type": "display_data"
    }
   ],
   "source": [
    "#missing value\n",
    "any(is.na(schedulingData))"
   ]
  },
  {
   "cell_type": "code",
   "execution_count": 3,
   "metadata": {
    "scrolled": false
   },
   "outputs": [],
   "source": [
    "predictors <- names(schedulingData[names(schedulingData)!=\"Class\"])"
   ]
  },
  {
   "cell_type": "code",
   "execution_count": 8,
   "metadata": {
    "scrolled": true
   },
   "outputs": [
    {
     "data": {
      "text/plain": [
       "schedulingData \n",
       "\n",
       " 8  Variables      4331  Observations\n",
       "--------------------------------------------------------------------------------\n",
       "Protocol \n",
       "       n  missing distinct \n",
       "    4331        0       14 \n",
       "                                                                            \n",
       "Value          A     C     D     E     F     G     H     I     J     K     L\n",
       "Frequency     94   160   149    96   170   155   321   381   989     6   242\n",
       "Proportion 0.022 0.037 0.034 0.022 0.039 0.036 0.074 0.088 0.228 0.001 0.056\n",
       "                            \n",
       "Value          M     N     O\n",
       "Frequency    451   536   581\n",
       "Proportion 0.104 0.124 0.134\n",
       "--------------------------------------------------------------------------------\n",
       "Compounds \n",
       "       n  missing distinct     Info     Mean      Gmd      .05      .10 \n",
       "    4331        0      858        1    497.7    650.5       27       37 \n",
       "     .25      .50      .75      .90      .95 \n",
       "      98      226      448      967     2512 \n",
       "\n",
       "lowest :    20    21    22    23    24, highest: 14087 14090 14091 14097 14103\n",
       "--------------------------------------------------------------------------------\n",
       "InputFields \n",
       "       n  missing distinct     Info     Mean      Gmd      .05      .10 \n",
       "    4331        0     1730        1     1537     2318       26       48 \n",
       "     .25      .50      .75      .90      .95 \n",
       "     134      426      991     4165     7594 \n",
       "\n",
       "lowest :    10    11    12    13    14, highest: 36021 45420 45628 55920 56671\n",
       "--------------------------------------------------------------------------------\n",
       "Iterations \n",
       "       n  missing distinct     Info     Mean      Gmd      .05      .10 \n",
       "    4331        0       11     0.44    29.24    19.57       10       20 \n",
       "     .25      .50      .75      .90      .95 \n",
       "      20       20       20       50      100 \n",
       "                                                                            \n",
       "Value         10    11    15    20    30    40    50   100   125   150   200\n",
       "Frequency    272     9     2  3568     3     7   153   188     1     2   126\n",
       "Proportion 0.063 0.002 0.000 0.824 0.001 0.002 0.035 0.043 0.000 0.000 0.029\n",
       "--------------------------------------------------------------------------------\n",
       "NumPending \n",
       "       n  missing distinct     Info     Mean      Gmd      .05      .10 \n",
       "    4331        0      303    0.568    53.39    103.2      0.0      0.0 \n",
       "     .25      .50      .75      .90      .95 \n",
       "     0.0      0.0      0.0     33.0    145.5 \n",
       "\n",
       "lowest :    0    1    2    3    4, highest: 3822 3870 3878 5547 5605\n",
       "--------------------------------------------------------------------------------\n",
       "Hour \n",
       "       n  missing distinct     Info     Mean      Gmd      .05      .10 \n",
       "    4331        0      924        1    13.73    4.419    7.025    9.333 \n",
       "     .25      .50      .75      .90      .95 \n",
       "  10.900   14.017   16.600   18.250   19.658 \n",
       "\n",
       "lowest :  0.01666667  0.03333333  0.08333333  0.10000000  0.11666667\n",
       "highest: 23.20000000 23.21666667 23.35000000 23.80000000 23.98333333\n",
       "--------------------------------------------------------------------------------\n",
       "Day \n",
       "       n  missing distinct \n",
       "    4331        0        7 \n",
       "                                                    \n",
       "Value        Mon   Tue   Wed   Thu   Fri   Sat   Sun\n",
       "Frequency    692   900   903   720   923    32   161\n",
       "Proportion 0.160 0.208 0.208 0.166 0.213 0.007 0.037\n",
       "--------------------------------------------------------------------------------\n",
       "Class \n",
       "       n  missing distinct \n",
       "    4331        0        4 \n",
       "                                  \n",
       "Value         VF     F     M     L\n",
       "Frequency   2211  1347   514   259\n",
       "Proportion 0.511 0.311 0.119 0.060\n",
       "--------------------------------------------------------------------------------"
      ]
     },
     "metadata": {},
     "output_type": "display_data"
    }
   ],
   "source": [
    "library(Hmisc)\n",
    "describe(schedulingData)"
   ]
  },
  {
   "cell_type": "markdown",
   "metadata": {},
   "source": [
    "> 在过去的两年，HPC环境中的一些硬件发生变更。结果是，同样的两个作业在两个不同年份的硬件上会产生两个不同的执行时间。这会膨胀执行时间的内在变化，并潜在地导致错误标注观测类的标签。然而在分析中没有办法来处理这类误差，任何对执行时间分类的模型都应该随着时间的推移重新审视"
   ]
  },
  {
   "cell_type": "code",
   "execution_count": 11,
   "metadata": {
    "scrolled": false
   },
   "outputs": [
    {
     "data": {
      "image/png": "[encoded data removed]",
      "text/plain": [
       "plot without title"
      ]
     },
     "metadata": {},
     "output_type": "display_data"
    }
   ],
   "source": [
    "# https://cran.r-project.org/web/packages/tabplot/vignettes/tabplot-vignette.html\n",
    "options(warn = -1)\n",
    "library(tabplot)\n",
    "tableplot(schedulingData,sortCol = Class,decreasing = F)"
   ]
  },
  {
   "cell_type": "markdown",
   "metadata": {},
   "source": [
    "> 可以看到 \n",
    "- 化合物数量大的作业更倾向于长时间或适中的执行时间；\n",
    "- 很多中等长度的作业提交时作业挂起的数量很高。然而，在执行时间长的作业上这种趋势不会重现。正因为如此，提前确认这个观察结果并判断它是否是特定数据集的一个偶然现象至关重要。\n",
    "- 当迭代次数较高，作业的执行时间相对较长。"
   ]
  },
  {
   "cell_type": "code",
   "execution_count": 8,
   "metadata": {
    "scrolled": false
   },
   "outputs": [
    {
     "data": {
      "image/png": "[encoded data removed]",
      "text/plain": [
       "Plot with title \"\""
      ]
     },
     "metadata": {},
     "output_type": "display_data"
    }
   ],
   "source": [
    "mosaicplot(table(schedulingData$Protocol,schedulingData$Class),\n",
    "           main=\"\",color = T)"
   ]
  },
  {
   "cell_type": "markdown",
   "metadata": {},
   "source": [
    "> 图中，(横向)箱子的宽度表示协议运行的作业数，协议J运行做多，协议K运行最少；(纵向) 协议D比较容易被快速执行。"
   ]
  },
  {
   "cell_type": "code",
   "execution_count": 9,
   "metadata": {
    "scrolled": false
   },
   "outputs": [
    {
     "data": {},
     "metadata": {},
     "output_type": "display_data"
    },
    {
     "data": {
      "image/png": "[encoded data removed]",
      "text/plain": [
       "plot without title"
      ]
     },
     "metadata": {},
     "output_type": "display_data"
    }
   ],
   "source": [
    "library(lattice)\n",
    "xyplot(Compounds ~ InputFields|Protocol,\n",
    "       data = schedulingData,\n",
    "       scales = list(x = list(log = 10), y = list(log = 10)),\n",
    "       groups = Class,\n",
    "       xlab = \"Input Fields\",\n",
    "       auto.key = list(columns = 4),\n",
    "       aspect = 1,\n",
    "       as.table = TRUE)"
   ]
  },
  {
   "cell_type": "code",
   "execution_count": 5,
   "metadata": {},
   "outputs": [
    {
     "name": "stdout",
     "output_type": "stream",
     "text": [
      "'data.frame':\t4331 obs. of  8 variables:\n",
      " $ Protocol   : Factor w/ 14 levels \"A\",\"C\",\"D\",\"E\",..: 4 4 4 4 4 4 4 4 4 4 ...\n",
      " $ Compounds  : num  997 97 101 93 100 100 105 98 101 95 ...\n",
      " $ InputFields: num  137 103 75 76 82 82 88 95 91 92 ...\n",
      " $ Iterations : num  20 20 10 20 20 20 20 20 20 20 ...\n",
      " $ NumPending : num  0 0 0 0 0 0 0 0 0 0 ...\n",
      " $ Hour       : num  14 13.8 13.8 10.1 10.4 ...\n",
      " $ Day        : Factor w/ 7 levels \"Mon\",\"Tue\",\"Wed\",..: 2 2 4 5 5 3 5 5 5 3 ...\n",
      " $ Class      : Factor w/ 4 levels \"VF\",\"F\",\"M\",\"L\": 2 1 1 1 1 1 1 1 1 1 ...\n"
     ]
    }
   ],
   "source": [
    "str(schedulingData)"
   ]
  },
  {
   "cell_type": "code",
   "execution_count": 11,
   "metadata": {
    "scrolled": true
   },
   "outputs": [
    {
     "data": {
      "text/html": [
       "<dl class=dl-horizontal>\n",
       "\t<dt>Compounds</dt>\n",
       "\t\t<dd>6.56595682803868</dd>\n",
       "\t<dt>InputFields</dt>\n",
       "\t\t<dd>5.86757343330457</dd>\n",
       "\t<dt>Iterations</dt>\n",
       "\t\t<dd>3.93545740383845</dd>\n",
       "\t<dt>NumPending</dt>\n",
       "\t\t<dd>9.71459813126616</dd>\n",
       "\t<dt>Hour</dt>\n",
       "\t\t<dd>-0.545493005049704</dd>\n",
       "</dl>\n"
      ],
      "text/latex": [
       "\\begin{description*}\n",
       "\\item[Compounds] 6.56595682803868\n",
       "\\item[InputFields] 5.86757343330457\n",
       "\\item[Iterations] 3.93545740383845\n",
       "\\item[NumPending] 9.71459813126616\n",
       "\\item[Hour] -0.545493005049704\n",
       "\\end{description*}\n"
      ],
      "text/markdown": [
       "Compounds\n",
       ":   6.56595682803868InputFields\n",
       ":   5.86757343330457Iterations\n",
       ":   3.93545740383845NumPending\n",
       ":   9.71459813126616Hour\n",
       ":   -0.545493005049704\n",
       "\n"
      ],
      "text/plain": [
       "  Compounds InputFields  Iterations  NumPending        Hour \n",
       "   6.565957    5.867573    3.935457    9.714598   -0.545493 "
      ]
     },
     "metadata": {},
     "output_type": "display_data"
    }
   ],
   "source": [
    "#skewness\n",
    "library(e1071)\n",
    "apply(schedulingData[,c(2:6)], 2, skewness)"
   ]
  },
  {
   "cell_type": "code",
   "execution_count": 5,
   "metadata": {},
   "outputs": [],
   "source": [
    "# handling  severe skewness\n",
    "schedulingData$NumPending <- schedulingData$NumPending+1"
   ]
  },
  {
   "cell_type": "markdown",
   "metadata": {},
   "source": [
    "`Section 17.1 Data Splitting and Model Strategy`"
   ]
  },
  {
   "cell_type": "code",
   "execution_count": 6,
   "metadata": {},
   "outputs": [
    {
     "name": "stderr",
     "output_type": "stream",
     "text": [
      "Loading required package: lattice\n",
      "Loading required package: ggplot2\n"
     ]
    }
   ],
   "source": [
    "library(caret)\n",
    "trn_id <- createDataPartition(schedulingData$Class,p=0.8,list=F)\n",
    "trn <- schedulingData[trn_id,]\n",
    "vld <- schedulingData[-trn_id,]"
   ]
  },
  {
   "cell_type": "code",
   "execution_count": 7,
   "metadata": {},
   "outputs": [],
   "source": [
    "modForm <- as.formula(Class~Protocol + log10(Compounds) +\n",
    "                     log10(InputFields) + log10(Iterations) + log(NumPending) + Hour + Day)\n",
    "\n",
    "modForm2 <- as.formula(Class ~ (Protocol + log10(Compounds) +\n",
    "                                log10(InputFields)+ log10(Iterations) +\n",
    "                                log10(NumPending) + Hour + Day)^2)"
   ]
  },
  {
   "cell_type": "code",
   "execution_count": 8,
   "metadata": {},
   "outputs": [],
   "source": [
    "# dummy var\n",
    "trn_exp <- as.data.frame(model.matrix(modForm2,data=trn))\n",
    "vld_exp <- as.data.frame(model.matrix(modForm2,data=vld))"
   ]
  },
  {
   "cell_type": "code",
   "execution_count": 9,
   "metadata": {},
   "outputs": [],
   "source": [
    "nzv_id <- checkConditionalX(trn_exp,trn$Class)\n",
    "trn_exp <- trn_exp[,-nzv_id]\n",
    "vld_exp <- vld_exp[,-nzv_id]"
   ]
  },
  {
   "cell_type": "markdown",
   "metadata": {},
   "source": [
    "> 如果预测的内存使用量被严重低估，这会导致物理计算机资源负载过重，可能大幅影响计算机上的所有作业。此种类型的误差成本较高，应使调度程序避免这类问题。繁殖，问题并非如此：高估内存使用需求可能导致硬件资源李永利很低，但不会严重影响现有作业。"
   ]
  },
  {
   "cell_type": "code",
   "execution_count": 25,
   "metadata": {
    "scrolled": true
   },
   "outputs": [
    {
     "data": {
      "text/html": [
       "<table>\n",
       "<thead><tr><th></th><th scope=col>L</th><th scope=col>M</th><th scope=col>F</th><th scope=col>VF</th></tr></thead>\n",
       "<tbody>\n",
       "\t<tr><th scope=row>L</th><td> 0</td><td>1 </td><td>1 </td><td>1 </td></tr>\n",
       "\t<tr><th scope=row>M</th><td> 1</td><td>0 </td><td>1 </td><td>1 </td></tr>\n",
       "\t<tr><th scope=row>F</th><td> 5</td><td>5 </td><td>0 </td><td>1 </td></tr>\n",
       "\t<tr><th scope=row>VF</th><td>10</td><td>5 </td><td>1 </td><td>0 </td></tr>\n",
       "</tbody>\n",
       "</table>\n"
      ],
      "text/latex": [
       "\\begin{tabular}{r|llll}\n",
       "  & L & M & F & VF\\\\\n",
       "\\hline\n",
       "\tL &  0 & 1  & 1  & 1 \\\\\n",
       "\tM &  1 & 0  & 1  & 1 \\\\\n",
       "\tF &  5 & 5  & 0  & 1 \\\\\n",
       "\tVF & 10 & 5  & 1  & 0 \\\\\n",
       "\\end{tabular}\n"
      ],
      "text/markdown": [
       "\n",
       "| <!--/--> | L | M | F | VF | \n",
       "|---|---|---|---|\n",
       "| L |  0 | 1  | 1  | 1  | \n",
       "| M |  1 | 0  | 1  | 1  | \n",
       "| F |  5 | 5  | 0  | 1  | \n",
       "| VF | 10 | 5  | 1  | 0  | \n",
       "\n",
       "\n"
      ],
      "text/plain": [
       "   L  M F VF\n",
       "L   0 1 1 1 \n",
       "M   1 0 1 1 \n",
       "F   5 5 0 1 \n",
       "VF 10 5 1 0 "
      ]
     },
     "metadata": {},
     "output_type": "display_data"
    }
   ],
   "source": [
    "# Create the cost matrix\n",
    "costMatrix <- ifelse(diag(4) == 1, 0, 1)\n",
    "costMatrix[4, 1] <- 10\n",
    "costMatrix[3, 1] <- 5\n",
    "costMatrix[4, 2] <- 5\n",
    "costMatrix[3, 2] <- 5\n",
    "rownames(costMatrix) <- colnames(costMatrix) <- rev(levels(trn$Class))\n",
    "costMatrix"
   ]
  },
  {
   "cell_type": "code",
   "execution_count": 31,
   "metadata": {},
   "outputs": [
    {
     "data": {
      "image/png": "[encoded data removed]",
      "text/plain": [
       "Plot with title \"costMatrix\""
      ]
     },
     "metadata": {},
     "output_type": "display_data"
    }
   ],
   "source": [
    "mosaicplot(t(costMatrix),xlab = \"obs\",ylab=\"pred\",main=\"costMatrix\")"
   ]
  },
  {
   "cell_type": "code",
   "execution_count": 11,
   "metadata": {
    "scrolled": true
   },
   "outputs": [],
   "source": [
    "### Create a cost function\n",
    "cost <- function(pred, obs)\n",
    "{\n",
    "  isNA <- is.na(pred)\n",
    "  if(!all(isNA))\n",
    "  {\n",
    "    pred <- pred[!isNA]\n",
    "    obs <- obs[!isNA]\n",
    "    \n",
    "    cost <- ifelse(pred == obs, 0, 1)\n",
    "    if(any(pred == \"VF\" & obs == \"L\")) cost[pred == \"L\" & obs == \"VF\"] <- 10\n",
    "    if(any(pred == \"F\" & obs == \"L\")) cost[pred == \"F\" & obs == \"L\"] <- 5\n",
    "    if(any(pred == \"F\" & obs == \"M\")) cost[pred == \"F\" & obs == \"M\"] <- 5\n",
    "    if(any(pred == \"VF\" & obs == \"M\")) cost[pred == \"VF\" & obs == \"M\"] <- 5\n",
    "    out <- mean(cost)\n",
    "  } else out <- NA\n",
    "  out\n",
    "}\n",
    "\n",
    "### Make a summary function that can be used with caret's train() function\n",
    "costSummary <- function (data, lev = NULL, model = NULL)\n",
    "{\n",
    "  if (is.character(data$obs))  data$obs <- factor(data$obs, levels = lev)\n",
    "  c(postResample(data[, \"pred\"], data[, \"obs\"]),\n",
    "    Cost = cost(data[, \"pred\"], data[, \"obs\"]))\n",
    "}\n",
    "\n",
    "### Create a control object for the models\n",
    "ctrl <- trainControl(method = \"repeatedcv\", \n",
    "                     repeats = 5,\n",
    "                     summaryFunction = costSummary)"
   ]
  },
  {
   "cell_type": "code",
   "execution_count": 12,
   "metadata": {},
   "outputs": [
    {
     "name": "stderr",
     "output_type": "stream",
     "text": [
      "Loading required package: foreach\n",
      "Loading required package: iterators\n",
      "Loading required package: parallel\n"
     ]
    }
   ],
   "source": [
    "library(doMC)\n",
    "registerDoMC()\n",
    "# https://cran.r-project.org/web/packages/doMC/vignettes/gettingstartedMC.pdf"
   ]
  },
  {
   "cell_type": "code",
   "execution_count": 13,
   "metadata": {
    "scrolled": true
   },
   "outputs": [
    {
     "data": {
      "text/plain": [
       "CART \n",
       "\n",
       "3467 samples\n",
       "   7 predictor\n",
       "   4 classes: 'VF', 'F', 'M', 'L' \n",
       "\n",
       "No pre-processing\n",
       "Resampling: Cross-Validated (10 fold, repeated 5 times) \n",
       "Summary of sample sizes: 3120, 3120, 3120, 3120, 3120, 3120, ... \n",
       "Resampling results across tuning parameters:\n",
       "\n",
       "  cp           Accuracy   Kappa      Cost     \n",
       "  0.003140950  0.7759920  0.6335893  0.4974085\n",
       "  0.003533569  0.7714334  0.6247628  0.5116708\n",
       "  0.003631724  0.7703398  0.6224321  0.5173861\n",
       "  0.003729878  0.7694162  0.6206732  0.5220117\n",
       "  0.004122497  0.7675125  0.6164861  0.5333652\n",
       "  0.004711425  0.7641114  0.6099480  0.5496917\n",
       "  0.005300353  0.7630147  0.6072727  0.5563256\n",
       "  0.007067138  0.7512484  0.5869460  0.5800858\n",
       "  0.007656066  0.7432861  0.5740573  0.5928929\n",
       "  0.007950530  0.7350387  0.5608438  0.6036717\n",
       "  0.008833922  0.7258063  0.5451929  0.6230729\n",
       "  0.009422850  0.7212503  0.5366356  0.6382455\n",
       "  0.009717314  0.7206739  0.5356619  0.6411254\n",
       "  0.011189635  0.7160586  0.5241189  0.6757306\n",
       "  0.014134276  0.7095957  0.5145406  0.6918885\n",
       "  0.015312132  0.7050945  0.5089606  0.6963897\n",
       "  0.019238320  0.6749762  0.4440640  0.8400551\n",
       "  0.019434629  0.6714568  0.4348903  0.8467995\n",
       "  0.038869258  0.6474110  0.3667336  0.9864314\n",
       "  0.267373380  0.5679755  0.1626190  0.9972033\n",
       "\n",
       "Cost was used to select the optimal model using the smallest value.\n",
       "The final value used for the model was cp = 0.00314095."
      ]
     },
     "metadata": {},
     "output_type": "display_data"
    }
   ],
   "source": [
    "set.seed(857)\n",
    "fit_cart <- train(x=trn[,predictors],\n",
    "                 y=trn$Class,method=\"rpart\",metric=\"Cost\",maximize=F,\n",
    "                 tuneLength=20,trControl=ctrl)\n",
    "fit_cart"
   ]
  },
  {
   "cell_type": "code",
   "execution_count": 14,
   "metadata": {
    "scrolled": false
   },
   "outputs": [],
   "source": [
    "# str(confusionMatrix(reference = trn$Class,data = predict(fit_cart,trn[,predictors])))\n",
    "cm_cart <- confusionMatrix(reference = trn$Class,data = predict(fit_cart,trn[,predictors]))"
   ]
  },
  {
   "cell_type": "code",
   "execution_count": 23,
   "metadata": {
    "scrolled": true
   },
   "outputs": [
    {
     "data": {
      "image/png": "[encoded data removed]",
      "text/plain": [
       "Plot with title \"CART Confusion Matrix\""
      ]
     },
     "metadata": {},
     "output_type": "display_data"
    }
   ],
   "source": [
    "mosaicplot(t(cm_cart$table),color = T,main=\"CART Confusion Matrix\")"
   ]
  }
 ],
 "metadata": {
  "kernelspec": {
   "display_name": "R",
   "language": "R",
   "name": "ir"
  },
  "language_info": {
   "codemirror_mode": "r",
   "file_extension": ".r",
   "mimetype": "text/x-r-source",
   "name": "R",
   "pygments_lexer": "r",
   "version": "3.5.1"
  },
  "latex_envs": {
   "LaTeX_envs_menu_present": true,
   "autoclose": false,
   "autocomplete": true,
   "bibliofile": "biblio.bib",
   "cite_by": "apalike",
   "current_citInitial": 1,
   "eqLabelWithNumbers": true,
   "eqNumInitial": 1,
   "hotkeys": {
    "equation": "Ctrl-E",
    "itemize": "Ctrl-I"
   },
   "labels_anchors": false,
   "latex_user_defs": false,
   "report_style_numbering": false,
   "user_envs_cfg": false
  },
  "toc": {
   "base_numbering": 1,
   "nav_menu": {},
   "number_sections": true,
   "sideBar": true,
   "skip_h1_title": false,
   "title_cell": "Table of Contents",
   "title_sidebar": "Contents",
   "toc_cell": false,
   "toc_position": {},
   "toc_section_display": true,
   "toc_window_display": false
  }
 },
 "nbformat": 4,
 "nbformat_minor": 2
}
