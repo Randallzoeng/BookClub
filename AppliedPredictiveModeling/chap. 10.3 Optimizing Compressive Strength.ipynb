{
 "cells": [
  {
   "cell_type": "code",
   "execution_count": 1,
   "metadata": {
    "scrolled": true
   },
   "outputs": [],
   "source": [
    "library(AppliedPredictiveModeling)\n",
    "data(concrete)"
   ]
  },
  {
   "cell_type": "code",
   "execution_count": 2,
   "metadata": {},
   "outputs": [],
   "source": [
    "library(plyr)\n",
    "averaged <- ddply(mixtures,.(Cement,BlastFurnaceSlag,FlyAsh,Water,\n",
    "                            Superplasticizer,CoarseAggregate,FineAggregate,Age),\n",
    "                 function(x) c(CompressiveStrength=mean(x$CompressiveStrength)))"
   ]
  },
  {
   "cell_type": "code",
   "execution_count": 3,
   "metadata": {
    "scrolled": true
   },
   "outputs": [
    {
     "name": "stderr",
     "output_type": "stream",
     "text": [
      "Loading required package: lattice\n",
      "Loading required package: ggplot2\n"
     ]
    }
   ],
   "source": [
    "library(caret)\n",
    "set.seed(830)\n",
    "trn_id <- createDataPartition(averaged$CompressiveStrength,p=3/4,list=F)\n",
    "trn <- averaged[trn_id,]\n",
    "vld <- averaged[-trn_id,]"
   ]
  },
  {
   "cell_type": "code",
   "execution_count": 21,
   "metadata": {},
   "outputs": [],
   "source": [
    "# Get mixtures at 28 days \n",
    "trn_sub <- subset(trn, Age == 28)\n",
    "\n",
    "# Center and scale the data to use dissimilarity sampling\n",
    "trn_scaled <- predict(\n",
    "    preProcess(trn_sub[, -(8:9)], c(\"center\", \"scale\")), \n",
    "    trn_sub[, 1:7])"
   ]
  },
  {
   "cell_type": "code",
   "execution_count": 22,
   "metadata": {},
   "outputs": [],
   "source": [
    "# Randomly select a few mixtures as a starting pool\n",
    "# a single random mixture is selected to initialize the maximum dissimilarity sampling process\n",
    "set.seed(830)\n",
    "init_id <- sample(1:nrow(trn_sub),1)\n",
    "init_mixture <- trn_scaled[init_id,1:7]"
   ]
  },
  {
   "cell_type": "code",
   "execution_count": 23,
   "metadata": {},
   "outputs": [],
   "source": [
    "# After this, the maximum dissimilarity sampling method from Sect. 4.3 \n",
    "# selects 14 more mixtures to complete a diverse set of starting points for the search algorithms:\n",
    "pool <- trn_scaled\n",
    "max_diff_id <- maxDissim(init_mixture,pool,14)\n",
    "init_points <- c(init_id,max_diff_id)\n",
    "init_mixtures <- trn_sub[init_points,1:7]"
   ]
  },
  {
   "cell_type": "code",
   "execution_count": 26,
   "metadata": {},
   "outputs": [],
   "source": [
    "#remove waters\n",
    "init_mix <- init_mixtures[,-4]"
   ]
  },
  {
   "cell_type": "markdown",
   "metadata": {},
   "source": [
    "The function below checks to make sure that \n",
    "- (a) the proportions are between 0 and 1 and \n",
    "- (b) the proportion of water does not fall below 5 %.\n",
    "\n",
    "If these conditions are violated, the function returns a large positive number which the search procedure will avoid (as optim is for minimization)."
   ]
  },
  {
   "cell_type": "code",
   "execution_count": 27,
   "metadata": {},
   "outputs": [],
   "source": [
    "### Create a function to maximize compressive strength* while keeping\n",
    "### the predictor values as mixtures. Water (in x[7]) is used as the slack variable. \n",
    "modelPrediction <- function(x, mod)\n",
    "  {\n",
    "  ## Check to make sure the mixture proportions are\n",
    "  ## in the correct range\n",
    "  if(x[1] < 0 | x[1] > 1) return(10^38)\n",
    "  if(x[2] < 0 | x[2] > 1) return(10^38)\n",
    "  if(x[3] < 0 | x[3] > 1) return(10^38)\n",
    "  if(x[4] < 0 | x[4] > 1) return(10^38)\n",
    "  if(x[5] < 0 | x[5] > 1) return(10^38)\n",
    "  if(x[6] < 0 | x[6] > 1) return(10^38)\n",
    " \n",
    "  ## Determine the water proportion242 10 Case Study: Compressive Strength of Concrete Mixtures\n",
    "  x <- c(x, 1 - sum(x))\n",
    " \n",
    "  ## Check the water range\n",
    "  if(x[7] < 0.05) return(10^38)\n",
    " \n",
    "  ## Convert the vector to a data frame, assign names\n",
    "  ## and fix age at 28 days\n",
    "  tmp <- as.data.frame(t(x))\n",
    "  names(tmp) <- c('Cement','BlastFurnaceSlag','FlyAsh',\n",
    "  'Superplasticizer','CoarseAggregate',\n",
    "  'FineAggregate', 'Water')\n",
    "  tmp$Age <- 28\n",
    "  ## Get the model prediction, square them to get back to the\n",
    "  ## original units, then return the negative of the result\n",
    "  -predict(mod, tmp)\n",
    "  }"
   ]
  },
  {
   "cell_type": "code",
   "execution_count": 30,
   "metadata": {},
   "outputs": [
    {
     "data": {
      "text/html": [
       "<table>\n",
       "<thead><tr><th></th><th scope=col>committees</th><th scope=col>neighbors</th></tr></thead>\n",
       "<tbody>\n",
       "\t<tr><th scope=row>33</th><td>100</td><td>3  </td></tr>\n",
       "</tbody>\n",
       "</table>\n"
      ],
      "text/latex": [
       "\\begin{tabular}{r|ll}\n",
       "  & committees & neighbors\\\\\n",
       "\\hline\n",
       "\t33 & 100 & 3  \\\\\n",
       "\\end{tabular}\n"
      ],
      "text/markdown": [
       "\n",
       "| <!--/--> | committees | neighbors | \n",
       "|---|\n",
       "| 33 | 100 | 3   | \n",
       "\n",
       "\n"
      ],
      "text/plain": [
       "   committees neighbors\n",
       "33 100        3        "
      ]
     },
     "metadata": {},
     "output_type": "display_data"
    }
   ],
   "source": [
    "library(parallel)\n",
    "setDefaultCluster(makeCluster(4))\n",
    "set.seed(830)\n",
    "ctrl <- trainControl(method = \"repeatedcv\",repeats = 5,number=10)\n",
    "grid_cubist <- expand.grid(\n",
    "                           committees=c(1,5,10,50,75,100),\n",
    "                           neighbors=c(0,1,3,5,7,9)\n",
    "                          )\n",
    "fit_cubist <- train(CompressiveStrength~.,data=trn,method = \"cubist\",\n",
    "                    tuneGrid=grid_cubist,trControl=ctrl)\n",
    "\n",
    "fit_cubist$bestTune"
   ]
  },
  {
   "cell_type": "code",
   "execution_count": 31,
   "metadata": {},
   "outputs": [],
   "source": [
    "### For each starting mixture, optimize the Cubist model using\n",
    "### a simplex search routine\n",
    "\n",
    "cbResults <- init_mix\n",
    "cbResults$Water <- NA\n",
    "cbResults$Prediction <- NA\n",
    "\n",
    "for(i in 1:nrow(cbResults))\n",
    "{\n",
    "  results <- optim(unlist(cbResults[i,1:6]),\n",
    "                   modelPrediction,\n",
    "                   method = \"Nelder-Mead\",\n",
    "                   control=list(maxit=5000),\n",
    "                   mod = fit_cubist)\n",
    "  cbResults$Prediction[i] <- -results$value\n",
    "  cbResults[i,1:6] <- results$par\n",
    "}\n",
    "cbResults$Water <- 1 - apply(cbResults[,1:6], 1, sum)\n",
    "cbResults <- subset(cbResults, Prediction > 0 & Water > .02)\n",
    "cbResults <- cbResults[order(-cbResults$Prediction),][1:3,]\n",
    "cbResults$Model <- \"Cubist\""
   ]
  },
  {
   "cell_type": "code",
   "execution_count": 33,
   "metadata": {},
   "outputs": [
    {
     "data": {
      "text/html": [
       "<table>\n",
       "<thead><tr><th></th><th scope=col>Cement</th><th scope=col>BlastFurnaceSlag</th><th scope=col>FlyAsh</th><th scope=col>Superplasticizer</th><th scope=col>CoarseAggregate</th><th scope=col>FineAggregate</th><th scope=col>Water</th><th scope=col>Prediction</th><th scope=col>Model</th></tr></thead>\n",
       "<tbody>\n",
       "\t<tr><th scope=row>836</th><td>0.2486430   </td><td>0.612397307 </td><td>8.609288e-08</td><td>0.0213226651</td><td>9.756416e-09</td><td>0.05716477  </td><td>0.06047214  </td><td>135.49004   </td><td>Cubist      </td></tr>\n",
       "\t<tr><th scope=row>10</th><td>0.2400803   </td><td>0.002094838 </td><td>5.911865e-03</td><td>0.0001476794</td><td>4.291221e-01</td><td>0.27056296  </td><td>0.05208027  </td><td> 84.33553   </td><td>Cubist      </td></tr>\n",
       "\t<tr><th scope=row>717</th><td>0.2268725   </td><td>0.009328538 </td><td>1.760942e-03</td><td>0.0040106908</td><td>4.623430e-01</td><td>0.24568426  </td><td>0.05000001  </td><td> 82.98220   </td><td>Cubist      </td></tr>\n",
       "</tbody>\n",
       "</table>\n"
      ],
      "text/latex": [
       "\\begin{tabular}{r|lllllllll}\n",
       "  & Cement & BlastFurnaceSlag & FlyAsh & Superplasticizer & CoarseAggregate & FineAggregate & Water & Prediction & Model\\\\\n",
       "\\hline\n",
       "\t836 & 0.2486430    & 0.612397307  & 8.609288e-08 & 0.0213226651 & 9.756416e-09 & 0.05716477   & 0.06047214   & 135.49004    & Cubist      \\\\\n",
       "\t10 & 0.2400803    & 0.002094838  & 5.911865e-03 & 0.0001476794 & 4.291221e-01 & 0.27056296   & 0.05208027   &  84.33553    & Cubist      \\\\\n",
       "\t717 & 0.2268725    & 0.009328538  & 1.760942e-03 & 0.0040106908 & 4.623430e-01 & 0.24568426   & 0.05000001   &  82.98220    & Cubist      \\\\\n",
       "\\end{tabular}\n"
      ],
      "text/markdown": [
       "\n",
       "| <!--/--> | Cement | BlastFurnaceSlag | FlyAsh | Superplasticizer | CoarseAggregate | FineAggregate | Water | Prediction | Model | \n",
       "|---|---|---|\n",
       "| 836 | 0.2486430    | 0.612397307  | 8.609288e-08 | 0.0213226651 | 9.756416e-09 | 0.05716477   | 0.06047214   | 135.49004    | Cubist       | \n",
       "| 10 | 0.2400803    | 0.002094838  | 5.911865e-03 | 0.0001476794 | 4.291221e-01 | 0.27056296   | 0.05208027   |  84.33553    | Cubist       | \n",
       "| 717 | 0.2268725    | 0.009328538  | 1.760942e-03 | 0.0040106908 | 4.623430e-01 | 0.24568426   | 0.05000001   |  82.98220    | Cubist       | \n",
       "\n",
       "\n"
      ],
      "text/plain": [
       "    Cement    BlastFurnaceSlag FlyAsh       Superplasticizer CoarseAggregate\n",
       "836 0.2486430 0.612397307      8.609288e-08 0.0213226651     9.756416e-09   \n",
       "10  0.2400803 0.002094838      5.911865e-03 0.0001476794     4.291221e-01   \n",
       "717 0.2268725 0.009328538      1.760942e-03 0.0040106908     4.623430e-01   \n",
       "    FineAggregate Water      Prediction Model \n",
       "836 0.05716477    0.06047214 135.49004  Cubist\n",
       "10  0.27056296    0.05208027  84.33553  Cubist\n",
       "717 0.24568426    0.05000001  82.98220  Cubist"
      ]
     },
     "metadata": {},
     "output_type": "display_data"
    }
   ],
   "source": [
    "cbResults"
   ]
  },
  {
   "cell_type": "code",
   "execution_count": 34,
   "metadata": {},
   "outputs": [
    {
     "data": {
      "text/html": [
       "<table>\n",
       "<thead><tr><th scope=col>size</th><th scope=col>decay</th><th scope=col>bag</th></tr></thead>\n",
       "<tbody>\n",
       "\t<tr><td>27   </td><td>0.1  </td><td>FALSE</td></tr>\n",
       "</tbody>\n",
       "</table>\n"
      ],
      "text/latex": [
       "\\begin{tabular}{r|lll}\n",
       " size & decay & bag\\\\\n",
       "\\hline\n",
       "\t 27    & 0.1   & FALSE\\\\\n",
       "\\end{tabular}\n"
      ],
      "text/markdown": [
       "\n",
       "size | decay | bag | \n",
       "|---|\n",
       "| 27    | 0.1   | FALSE | \n",
       "\n",
       "\n"
      ],
      "text/plain": [
       "  size decay bag  \n",
       "1 27   0.1   FALSE"
      ]
     },
     "metadata": {},
     "output_type": "display_data"
    }
   ],
   "source": [
    "nnetGrid <- expand.grid(decay = 0.1, size = 27, bag = FALSE)\n",
    "set.seed(830)\n",
    "fit_nnet <- train(CompressiveStrength ~ .,\n",
    "                 data = trn,\n",
    "                 method = \"avNNet\",\n",
    "                 tuneGrid = nnetGrid,\n",
    "                 preProc = c(\"center\", \"scale\"),\n",
    "                 linout = TRUE,\n",
    "                 trace = FALSE,\n",
    "                 maxit = 1000,\n",
    "                 allowParallel = FALSE,\n",
    "                 trControl = ctrl)\n",
    "fit_nnet$bestTune"
   ]
  },
  {
   "cell_type": "code",
   "execution_count": 35,
   "metadata": {},
   "outputs": [],
   "source": [
    "### Do the same for the neural network model\n",
    "# Tuning parameter 'bag' was held constant at a value of FALSE\n",
    "# RMSE was used to select the optimal model using the smallest value.\n",
    "# The final values used for the model were size = 27, decay = 0.1 and bag = FALSE.\n",
    "\n",
    "nnetResults <- init_mix\n",
    "nnetResults$Water <- NA\n",
    "nnetResults$Prediction <- NA\n",
    "\n",
    "for(i in 1:nrow(nnetResults))\n",
    "{\n",
    "  results <- optim(unlist(nnetResults[i, 1:6,]),\n",
    "                   modelPrediction,\n",
    "                   method = \"Nelder-Mead\",\n",
    "                   control=list(maxit=5000),\n",
    "                   mod = fit_nnet)\n",
    "  nnetResults$Prediction[i] <- -results$value\n",
    "  nnetResults[i,1:6] <- results$par\n",
    "}\n",
    "nnetResults$Water <- 1 - apply(nnetResults[,1:6], 1, sum)\n",
    "nnetResults <- subset(nnetResults, Prediction > 0 & Water > .02)\n",
    "nnetResults <- nnetResults[order(-nnetResults$Prediction),][1:3,]\n",
    "nnetResults$Model <- \"NNet\""
   ]
  },
  {
   "cell_type": "code",
   "execution_count": 37,
   "metadata": {},
   "outputs": [
    {
     "data": {
      "text/html": [
       "<table>\n",
       "<thead><tr><th></th><th scope=col>Cement</th><th scope=col>BlastFurnaceSlag</th><th scope=col>FlyAsh</th><th scope=col>Superplasticizer</th><th scope=col>CoarseAggregate</th><th scope=col>FineAggregate</th><th scope=col>Water</th><th scope=col>Prediction</th><th scope=col>Model</th></tr></thead>\n",
       "<tbody>\n",
       "\t<tr><th scope=row>10</th><td>0.2768461   </td><td>0.10815548  </td><td>1.935552e-10</td><td>0.008202413 </td><td>0.3431825   </td><td>0.2038984   </td><td>0.05971514  </td><td>93.76151    </td><td>NNet        </td></tr>\n",
       "\t<tr><th scope=row>113</th><td>0.2666234   </td><td>0.10734854  </td><td>3.739671e-10</td><td>0.007849855 </td><td>0.3475017   </td><td>0.2102354   </td><td>0.06044111  </td><td>93.62152    </td><td>NNet        </td></tr>\n",
       "\t<tr><th scope=row>836</th><td>0.1591788   </td><td>0.08797033  </td><td>2.782343e-02</td><td>0.004321313 </td><td>0.3476385   </td><td>0.3219479   </td><td>0.05111974  </td><td>89.24696    </td><td>NNet        </td></tr>\n",
       "</tbody>\n",
       "</table>\n"
      ],
      "text/latex": [
       "\\begin{tabular}{r|lllllllll}\n",
       "  & Cement & BlastFurnaceSlag & FlyAsh & Superplasticizer & CoarseAggregate & FineAggregate & Water & Prediction & Model\\\\\n",
       "\\hline\n",
       "\t10 & 0.2768461    & 0.10815548   & 1.935552e-10 & 0.008202413  & 0.3431825    & 0.2038984    & 0.05971514   & 93.76151     & NNet        \\\\\n",
       "\t113 & 0.2666234    & 0.10734854   & 3.739671e-10 & 0.007849855  & 0.3475017    & 0.2102354    & 0.06044111   & 93.62152     & NNet        \\\\\n",
       "\t836 & 0.1591788    & 0.08797033   & 2.782343e-02 & 0.004321313  & 0.3476385    & 0.3219479    & 0.05111974   & 89.24696     & NNet        \\\\\n",
       "\\end{tabular}\n"
      ],
      "text/markdown": [
       "\n",
       "| <!--/--> | Cement | BlastFurnaceSlag | FlyAsh | Superplasticizer | CoarseAggregate | FineAggregate | Water | Prediction | Model | \n",
       "|---|---|---|\n",
       "| 10 | 0.2768461    | 0.10815548   | 1.935552e-10 | 0.008202413  | 0.3431825    | 0.2038984    | 0.05971514   | 93.76151     | NNet         | \n",
       "| 113 | 0.2666234    | 0.10734854   | 3.739671e-10 | 0.007849855  | 0.3475017    | 0.2102354    | 0.06044111   | 93.62152     | NNet         | \n",
       "| 836 | 0.1591788    | 0.08797033   | 2.782343e-02 | 0.004321313  | 0.3476385    | 0.3219479    | 0.05111974   | 89.24696     | NNet         | \n",
       "\n",
       "\n"
      ],
      "text/plain": [
       "    Cement    BlastFurnaceSlag FlyAsh       Superplasticizer CoarseAggregate\n",
       "10  0.2768461 0.10815548       1.935552e-10 0.008202413      0.3431825      \n",
       "113 0.2666234 0.10734854       3.739671e-10 0.007849855      0.3475017      \n",
       "836 0.1591788 0.08797033       2.782343e-02 0.004321313      0.3476385      \n",
       "    FineAggregate Water      Prediction Model\n",
       "10  0.2038984     0.05971514 93.76151   NNet \n",
       "113 0.2102354     0.06044111 93.62152   NNet \n",
       "836 0.3219479     0.05111974 89.24696   NNet "
      ]
     },
     "metadata": {},
     "output_type": "display_data"
    }
   ],
   "source": [
    "nnetResults"
   ]
  },
  {
   "cell_type": "code",
   "execution_count": 38,
   "metadata": {},
   "outputs": [
    {
     "data": {},
     "metadata": {},
     "output_type": "display_data"
    },
    {
     "data": {
      "image/png": "[encoded data removed]",
      "text/plain": [
       "plot without title"
      ]
     },
     "metadata": {},
     "output_type": "display_data"
    }
   ],
   "source": [
    "### Convert the predicted mixtures to PCA space and plot\n",
    "\n",
    "fit_pca <- preProcess(trn_sub[, 1:7], \"pca\")\n",
    "pca1 <- predict(fit_pca, trn_sub[, 1:7])\n",
    "pca1$Data <- \"Training Set\"\n",
    "pca1$Data[init_points] <- \"Starting Values\"\n",
    "pca3 <- predict(fit_pca, cbResults[, names(trn_sub[, 1:7])])\n",
    "pca3$Data <- \"Cubist\"\n",
    "pca4 <- predict(fit_pca, nnetResults[, names(trn_sub[, 1:7])])\n",
    "pca4$Data <- \"Neural Network\"\n",
    "\n",
    "pcaData <- rbind(pca1, pca3, pca4)\n",
    "pcaData$Data <- factor(pcaData$Data,\n",
    "                       levels = c(\"Training Set\",\"Starting Values\",\n",
    "                                  \"Cubist\",\"Neural Network\"))\n",
    "\n",
    "lim <- extendrange(pcaData[, 1:2])\n",
    "\n",
    "xyplot(PC2 ~ PC1, \n",
    "       data = pcaData, \n",
    "       groups = Data,\n",
    "       auto.key = list(columns = 2),\n",
    "       xlim = lim, \n",
    "       ylim = lim,\n",
    "       type = c(\"g\", \"p\"))"
   ]
  }
 ],
 "metadata": {
  "kernelspec": {
   "display_name": "R",
   "language": "R",
   "name": "ir"
  },
  "language_info": {
   "codemirror_mode": "r",
   "file_extension": ".r",
   "mimetype": "text/x-r-source",
   "name": "R",
   "pygments_lexer": "r",
   "version": "3.5.1"
  },
  "latex_envs": {
   "LaTeX_envs_menu_present": true,
   "autoclose": false,
   "autocomplete": true,
   "bibliofile": "biblio.bib",
   "cite_by": "apalike",
   "current_citInitial": 1,
   "eqLabelWithNumbers": true,
   "eqNumInitial": 1,
   "hotkeys": {
    "equation": "Ctrl-E",
    "itemize": "Ctrl-I"
   },
   "labels_anchors": false,
   "latex_user_defs": false,
   "report_style_numbering": false,
   "user_envs_cfg": false
  },
  "toc": {
   "base_numbering": 1,
   "nav_menu": {},
   "number_sections": true,
   "sideBar": true,
   "skip_h1_title": false,
   "title_cell": "Table of Contents",
   "title_sidebar": "Contents",
   "toc_cell": false,
   "toc_position": {},
   "toc_section_display": "block",
   "toc_window_display": false
  }
 },
 "nbformat": 4,
 "nbformat_minor": 2
}
