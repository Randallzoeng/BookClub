{
 "cells": [
  {
   "cell_type": "markdown",
   "metadata": {},
   "source": [
    "> Noise, or error, has varying degrees of impact on models’ predictive performance and occurs in three general forms in most data sets:\n",
    "- Since many predictors are measured, they contain some level of systematic noise associated with the measurement system. Any extraneous noise in the predictors is likely to be propagated directly through the model prediction equation and results in poor performance.\n",
    "- A second way noise can be introduced into the data is by the inclusion of non-informative predictors (e.g., predictors that have no relationship with the response). Some models have the ability to filter out irrelevant information, and hence their predictive performance is relatively unaffected.\n",
    "- A third way noise enters the modeling process is through the response variable. As with predictors, some outcomes can be measured with a degree of systematic, unwanted noise. This type of error gives rise to an upper bound on model performance for which no pre-processing, model complexity, or tuning can overcome. For example, if a measured categorical outcome is mislabeled in the training data 10 % of the time, it is unlikely"
   ]
  },
  {
   "cell_type": "code",
   "execution_count": 1,
   "metadata": {},
   "outputs": [
    {
     "name": "stderr",
     "output_type": "stream",
     "text": [
      "Loading required package: lattice\n",
      "Loading required package: ggplot2\n"
     ]
    }
   ],
   "source": [
    "library(AppliedPredictiveModeling)\n",
    "data(solubility)\n",
    "\n",
    "library(caret)\n",
    "set.seed(100)\n",
    "trn_id <- createFolds(solTrainY,returnTrain = T)\n",
    "ctrl <- trainControl(method=\"cv\",index=trn_id)"
   ]
  },
  {
   "cell_type": "code",
   "execution_count": 2,
   "metadata": {},
   "outputs": [
    {
     "name": "stderr",
     "output_type": "stream",
     "text": [
      "Loading required package: foreach\n",
      "Loading required package: iterators\n",
      "Loading required package: parallel\n"
     ]
    }
   ],
   "source": [
    "library(doMC)\n",
    "registerDoMC()"
   ]
  },
  {
   "cell_type": "code",
   "execution_count": 3,
   "metadata": {},
   "outputs": [
    {
     "data": {
      "text/plain": [
       "Random Forest \n",
       "\n",
       "951 samples\n",
       "228 predictors\n",
       "\n",
       "No pre-processing\n",
       "Resampling: Cross-Validated (10 fold) \n",
       "Summary of sample sizes: 856, 857, 855, 856, 856, 855, ... \n",
       "Resampling results across tuning parameters:\n",
       "\n",
       "  mtry  RMSE       Rsquared   MAE      \n",
       "   10   0.7074042  0.8879189  0.5261409\n",
       "   34   0.6558718  0.8986420  0.4762569\n",
       "   58   0.6514905  0.8987308  0.4717958\n",
       "   82   0.6511441  0.8984975  0.4708676\n",
       "  106   0.6476819  0.8993302  0.4681766\n",
       "  131   0.6492597  0.8984346  0.4679246\n",
       "  155   0.6466394  0.8992383  0.4673148\n",
       "  179   0.6516802  0.8975136  0.4700424\n",
       "  203   0.6502154  0.8979519  0.4677562\n",
       "  228   0.6529326  0.8969530  0.4694228\n",
       "\n",
       "RMSE was used to select the optimal model using the smallest value.\n",
       "The final value used for the model was mtry = 155."
      ]
     },
     "metadata": {},
     "output_type": "display_data"
    }
   ],
   "source": [
    "set.seed(100)\n",
    "mtryVals <- floor(seq(10,ncol(solTrainXtrans),length=10))\n",
    "mtryGrid <- data.frame(.mtry=mtryVals)\n",
    "\n",
    "fit_rf <- train(x=solTrainXtrans,y=solTrainY,\n",
    "               method=\"rf\",tuneGrid=mtryGrid,ntree=500,importance=T,\n",
    "               trControl=ctrl)\n",
    "fit_rf"
   ]
  },
  {
   "cell_type": "code",
   "execution_count": 10,
   "metadata": {},
   "outputs": [],
   "source": [
    "ImpOrder <- order(fit_rf$finalModel$importance[,1],\n",
    "                 decreasing=T)\n",
    "top20 <- rownames(fit_rf$finalModel$importance[ImpOrder,])[1:20]\n",
    "solTrainX_imp <- subset(solTrainX,select=top20)\n",
    "solTestX_imp <- subset(solTestX,select=top20)"
   ]
  },
  {
   "cell_type": "code",
   "execution_count": 11,
   "metadata": {},
   "outputs": [],
   "source": [
    "permute_solTrainX_imp <- apply(solTrainX_imp,2,function(x) sample(x))\n",
    "solSimX <- rbind(solTrainX_imp,permute_solTrainX_imp)\n",
    "groupVals <- c(\"Training\",\"Random\")\n",
    "groupY <- factor(rep(groupVals,each=nrow(solTrainX)))"
   ]
  },
  {
   "cell_type": "code",
   "execution_count": 12,
   "metadata": {
    "scrolled": true
   },
   "outputs": [
    {
     "data": {
      "text/html": [
       "<table>\n",
       "<thead><tr><th></th><th scope=col>MolWeight</th><th scope=col>NumCarbon</th><th scope=col>SurfaceArea2</th><th scope=col>SurfaceArea1</th><th scope=col>NumNonHBonds</th><th scope=col>NumNonHAtoms</th><th scope=col>HydrophilicFactor</th><th scope=col>NumBonds</th><th scope=col>NumHydrogen</th><th scope=col>NumAtoms</th><th scope=col>NumMultBonds</th><th scope=col>NumOxygen</th><th scope=col>NumHalogen</th><th scope=col>FP075</th><th scope=col>NumAromaticBonds</th><th scope=col>NumRotBonds</th><th scope=col>FP072</th><th scope=col>FP015</th><th scope=col>FP092</th><th scope=col>NumChlorine</th></tr></thead>\n",
       "<tbody>\n",
       "\t<tr><th scope=row>661</th><td>208.28</td><td>14    </td><td>25.78 </td><td>25.78 </td><td>18    </td><td>16    </td><td>-0.856</td><td>30    </td><td>12    </td><td>28    </td><td>16    </td><td>0     </td><td>0     </td><td>0     </td><td>16    </td><td>0     </td><td>0     </td><td>1     </td><td>0     </td><td>0     </td></tr>\n",
       "\t<tr><th scope=row>662</th><td>365.54</td><td>21    </td><td>80.43 </td><td>52.19 </td><td>29    </td><td>26    </td><td>-0.370</td><td>52    </td><td>23    </td><td>49    </td><td>13    </td><td>1     </td><td>0     </td><td>1     </td><td>12    </td><td>4     </td><td>1     </td><td>1     </td><td>0     </td><td>0     </td></tr>\n",
       "\t<tr><th scope=row>663</th><td>206.31</td><td>13    </td><td>37.30 </td><td>37.30 </td><td>15    </td><td>15    </td><td>-0.330</td><td>33    </td><td>18    </td><td>33    </td><td> 7    </td><td>2     </td><td>0     </td><td>0     </td><td> 6    </td><td>4     </td><td>1     </td><td>1     </td><td>0     </td><td>0     </td></tr>\n",
       "\t<tr><th scope=row>665</th><td>136.26</td><td>10    </td><td> 0.00 </td><td> 0.00 </td><td>10    </td><td>10    </td><td>-0.960</td><td>26    </td><td>16    </td><td>26    </td><td> 2    </td><td>0     </td><td>0     </td><td>0     </td><td> 0    </td><td>1     </td><td>0     </td><td>1     </td><td>0     </td><td>0     </td></tr>\n",
       "\t<tr><th scope=row>668</th><td>229.75</td><td> 9    </td><td>53.94 </td><td>53.94 </td><td>15    </td><td>15    </td><td>-0.069</td><td>31    </td><td>16    </td><td>31    </td><td> 6    </td><td>0     </td><td>1     </td><td>1     </td><td> 6    </td><td>5     </td><td>0     </td><td>1     </td><td>1     </td><td>1     </td></tr>\n",
       "\t<tr><th scope=row>669</th><td>270.25</td><td>10    </td><td>45.61 </td><td>20.31 </td><td>14    </td><td>15    </td><td>-0.651</td><td>31    </td><td>17    </td><td>32    </td><td> 2    </td><td>1     </td><td>2     </td><td>1     </td><td> 0    </td><td>5     </td><td>1     </td><td>1     </td><td>1     </td><td>2     </td></tr>\n",
       "</tbody>\n",
       "</table>\n"
      ],
      "text/latex": [
       "\\begin{tabular}{r|llllllllllllllllllll}\n",
       "  & MolWeight & NumCarbon & SurfaceArea2 & SurfaceArea1 & NumNonHBonds & NumNonHAtoms & HydrophilicFactor & NumBonds & NumHydrogen & NumAtoms & NumMultBonds & NumOxygen & NumHalogen & FP075 & NumAromaticBonds & NumRotBonds & FP072 & FP015 & FP092 & NumChlorine\\\\\n",
       "\\hline\n",
       "\t661 & 208.28 & 14     & 25.78  & 25.78  & 18     & 16     & -0.856 & 30     & 12     & 28     & 16     & 0      & 0      & 0      & 16     & 0      & 0      & 1      & 0      & 0     \\\\\n",
       "\t662 & 365.54 & 21     & 80.43  & 52.19  & 29     & 26     & -0.370 & 52     & 23     & 49     & 13     & 1      & 0      & 1      & 12     & 4      & 1      & 1      & 0      & 0     \\\\\n",
       "\t663 & 206.31 & 13     & 37.30  & 37.30  & 15     & 15     & -0.330 & 33     & 18     & 33     &  7     & 2      & 0      & 0      &  6     & 4      & 1      & 1      & 0      & 0     \\\\\n",
       "\t665 & 136.26 & 10     &  0.00  &  0.00  & 10     & 10     & -0.960 & 26     & 16     & 26     &  2     & 0      & 0      & 0      &  0     & 1      & 0      & 1      & 0      & 0     \\\\\n",
       "\t668 & 229.75 &  9     & 53.94  & 53.94  & 15     & 15     & -0.069 & 31     & 16     & 31     &  6     & 0      & 1      & 1      &  6     & 5      & 0      & 1      & 1      & 1     \\\\\n",
       "\t669 & 270.25 & 10     & 45.61  & 20.31  & 14     & 15     & -0.651 & 31     & 17     & 32     &  2     & 1      & 2      & 1      &  0     & 5      & 1      & 1      & 1      & 2     \\\\\n",
       "\\end{tabular}\n"
      ],
      "text/markdown": [
       "\n",
       "| <!--/--> | MolWeight | NumCarbon | SurfaceArea2 | SurfaceArea1 | NumNonHBonds | NumNonHAtoms | HydrophilicFactor | NumBonds | NumHydrogen | NumAtoms | NumMultBonds | NumOxygen | NumHalogen | FP075 | NumAromaticBonds | NumRotBonds | FP072 | FP015 | FP092 | NumChlorine | \n",
       "|---|---|---|---|---|---|\n",
       "| 661 | 208.28 | 14     | 25.78  | 25.78  | 18     | 16     | -0.856 | 30     | 12     | 28     | 16     | 0      | 0      | 0      | 16     | 0      | 0      | 1      | 0      | 0      | \n",
       "| 662 | 365.54 | 21     | 80.43  | 52.19  | 29     | 26     | -0.370 | 52     | 23     | 49     | 13     | 1      | 0      | 1      | 12     | 4      | 1      | 1      | 0      | 0      | \n",
       "| 663 | 206.31 | 13     | 37.30  | 37.30  | 15     | 15     | -0.330 | 33     | 18     | 33     |  7     | 2      | 0      | 0      |  6     | 4      | 1      | 1      | 0      | 0      | \n",
       "| 665 | 136.26 | 10     |  0.00  |  0.00  | 10     | 10     | -0.960 | 26     | 16     | 26     |  2     | 0      | 0      | 0      |  0     | 1      | 0      | 1      | 0      | 0      | \n",
       "| 668 | 229.75 |  9     | 53.94  | 53.94  | 15     | 15     | -0.069 | 31     | 16     | 31     |  6     | 0      | 1      | 1      |  6     | 5      | 0      | 1      | 1      | 1      | \n",
       "| 669 | 270.25 | 10     | 45.61  | 20.31  | 14     | 15     | -0.651 | 31     | 17     | 32     |  2     | 1      | 2      | 1      |  0     | 5      | 1      | 1      | 1      | 2      | \n",
       "\n",
       "\n"
      ],
      "text/plain": [
       "    MolWeight NumCarbon SurfaceArea2 SurfaceArea1 NumNonHBonds NumNonHAtoms\n",
       "661 208.28    14        25.78        25.78        18           16          \n",
       "662 365.54    21        80.43        52.19        29           26          \n",
       "663 206.31    13        37.30        37.30        15           15          \n",
       "665 136.26    10         0.00         0.00        10           10          \n",
       "668 229.75     9        53.94        53.94        15           15          \n",
       "669 270.25    10        45.61        20.31        14           15          \n",
       "    HydrophilicFactor NumBonds NumHydrogen NumAtoms NumMultBonds NumOxygen\n",
       "661 -0.856            30       12          28       16           0        \n",
       "662 -0.370            52       23          49       13           1        \n",
       "663 -0.330            33       18          33        7           2        \n",
       "665 -0.960            26       16          26        2           0        \n",
       "668 -0.069            31       16          31        6           0        \n",
       "669 -0.651            31       17          32        2           1        \n",
       "    NumHalogen FP075 NumAromaticBonds NumRotBonds FP072 FP015 FP092 NumChlorine\n",
       "661 0          0     16               0           0     1     0     0          \n",
       "662 0          1     12               4           1     1     0     0          \n",
       "663 0          0      6               4           1     1     0     0          \n",
       "665 0          0      0               1           0     1     0     0          \n",
       "668 1          1      6               5           0     1     1     1          \n",
       "669 2          1      0               5           1     1     1     2          "
      ]
     },
     "metadata": {},
     "output_type": "display_data"
    }
   ],
   "source": [
    "head(solSimX)"
   ]
  },
  {
   "cell_type": "code",
   "execution_count": 13,
   "metadata": {},
   "outputs": [],
   "source": [
    "rfSolClass <- train(x=solSimX,y=groupY,\n",
    "                   method=\"rf\",tuneLength=5,ntree=500,\n",
    "                   control=trainControl(method=\"LGOCV\"))\n",
    "\n",
    "solTestGroupProbs <- predict(rfSolClass,solTestX_imp,type=\"prob\")"
   ]
  },
  {
   "cell_type": "code",
   "execution_count": 14,
   "metadata": {},
   "outputs": [
    {
     "data": {
      "text/plain": [
       "Random Forest \n",
       "\n",
       "1902 samples\n",
       "  20 predictor\n",
       "   2 classes: 'Random', 'Training' \n",
       "\n",
       "No pre-processing\n",
       "Resampling: Bootstrapped (25 reps) \n",
       "Summary of sample sizes: 1902, 1902, 1902, 1902, 1902, 1902, ... \n",
       "Resampling results across tuning parameters:\n",
       "\n",
       "  mtry  Accuracy   Kappa    \n",
       "   2    0.9968267  0.9936487\n",
       "   6    0.9966000  0.9931950\n",
       "  11    0.9954053  0.9908038\n",
       "  15    0.9952882  0.9905706\n",
       "  20    0.9945396  0.9890721\n",
       "\n",
       "Accuracy was used to select the optimal model using the largest value.\n",
       "The final value used for the model was mtry = 2."
      ]
     },
     "metadata": {},
     "output_type": "display_data"
    }
   ],
   "source": [
    "rfSolClass"
   ]
  }
 ],
 "metadata": {
  "kernelspec": {
   "display_name": "R",
   "language": "R",
   "name": "ir"
  },
  "language_info": {
   "codemirror_mode": "r",
   "file_extension": ".r",
   "mimetype": "text/x-r-source",
   "name": "R",
   "pygments_lexer": "r",
   "version": "3.5.1"
  },
  "latex_envs": {
   "LaTeX_envs_menu_present": true,
   "autoclose": false,
   "autocomplete": true,
   "bibliofile": "biblio.bib",
   "cite_by": "apalike",
   "current_citInitial": 1,
   "eqLabelWithNumbers": true,
   "eqNumInitial": 1,
   "hotkeys": {
    "equation": "Ctrl-E",
    "itemize": "Ctrl-I"
   },
   "labels_anchors": false,
   "latex_user_defs": false,
   "report_style_numbering": false,
   "user_envs_cfg": false
  },
  "toc": {
   "base_numbering": 1,
   "nav_menu": {},
   "number_sections": true,
   "sideBar": true,
   "skip_h1_title": false,
   "title_cell": "Table of Contents",
   "title_sidebar": "Contents",
   "toc_cell": false,
   "toc_position": {},
   "toc_section_display": true,
   "toc_window_display": false
  }
 },
 "nbformat": 4,
 "nbformat_minor": 2
}
