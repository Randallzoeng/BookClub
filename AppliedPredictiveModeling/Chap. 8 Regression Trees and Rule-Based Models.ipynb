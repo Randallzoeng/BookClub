{
 "cells": [
  {
   "cell_type": "markdown",
   "metadata": {},
   "source": [
    "Models based on single trees or rules, however, do have particular weaknesses. Two well-known weaknesses are\n",
    "- (1) model instability (i.e., slight changes in the data can drastically change the structure of the tree or rules and, hence, the interpretation) and\n",
    "- (2) less-than-optimal predictive performance. "
   ]
  },
  {
   "cell_type": "markdown",
   "metadata": {},
   "source": [
    "Basic Regression Trees\n",
    "- The predictor to split on and value of the split\n",
    "- The depth or complexity of the tree\n",
    "- The prediction equation in the terminal nodes\n",
    "\n",
    ">Tree models intrinsically conduct feature selection; if a predictor is never used in a split, the prediction equation is independent of these data. This advantage is weakened when there are highly correlated predictors. If two predictors are extremely correlated, the choice of which to use in a split is somewhat random. "
   ]
  },
  {
   "cell_type": "code",
   "execution_count": 1,
   "metadata": {
    "collapsed": false
   },
   "outputs": [
    {
     "data": {
      "text/html": [
       "<ol class=list-inline>\n",
       "\t<li>'solTestX'</li>\n",
       "\t<li>'solTestXtrans'</li>\n",
       "\t<li>'solTestY'</li>\n",
       "\t<li>'solTrainX'</li>\n",
       "\t<li>'solTrainXtrans'</li>\n",
       "\t<li>'solTrainY'</li>\n",
       "</ol>\n"
      ],
      "text/latex": [
       "\\begin{enumerate*}\n",
       "\\item 'solTestX'\n",
       "\\item 'solTestXtrans'\n",
       "\\item 'solTestY'\n",
       "\\item 'solTrainX'\n",
       "\\item 'solTrainXtrans'\n",
       "\\item 'solTrainY'\n",
       "\\end{enumerate*}\n"
      ],
      "text/markdown": [
       "1. 'solTestX'\n",
       "2. 'solTestXtrans'\n",
       "3. 'solTestY'\n",
       "4. 'solTrainX'\n",
       "5. 'solTrainXtrans'\n",
       "6. 'solTrainY'\n",
       "\n",
       "\n"
      ],
      "text/plain": [
       "[1] \"solTestX\"       \"solTestXtrans\"  \"solTestY\"       \"solTrainX\"     \n",
       "[5] \"solTrainXtrans\" \"solTrainY\"     "
      ]
     },
     "metadata": {},
     "output_type": "display_data"
    }
   ],
   "source": [
    "#data\n",
    "library(AppliedPredictiveModeling)\n",
    "data(solubility)\n",
    "ls(pattern=\"^solT\") "
   ]
  },
  {
   "cell_type": "code",
   "execution_count": 4,
   "metadata": {
    "collapsed": false
   },
   "outputs": [],
   "source": [
    "#data\n",
    "library(AppliedPredictiveModeling)\n",
    "library(caret)\n",
    "\n",
    "data(solubility)\n",
    "trn <- solTrainX[,-findCorrelation(cor(solTrainX))]\n",
    "vld <- solTestX[,-findCorrelation(cor(solTestX))]"
   ]
  },
  {
   "cell_type": "markdown",
   "metadata": {},
   "source": [
    "\\begin{remark}\n",
    "To tune an CART tree over the complexity parameter, the method option in the train function should be set to method = \"rpart\". To tune over maximum depth, the method option should be set to method=\"rpart2\"\n",
    "\\end{remark}\n"
   ]
  },
  {
   "cell_type": "code",
   "execution_count": 9,
   "metadata": {
    "collapsed": false,
    "scrolled": true
   },
   "outputs": [
    {
     "data": {
      "text/html": [
       "<table>\n",
       "<thead><tr><th scope=col>maxdepth</th><th scope=col>RMSE</th><th scope=col>Rsquared</th><th scope=col>MAE</th><th scope=col>RMSESD</th><th scope=col>RsquaredSD</th><th scope=col>MAESD</th></tr></thead>\n",
       "<tbody>\n",
       "\t<tr><td> 1        </td><td>1.618610  </td><td>0.3773936 </td><td>1.2669221 </td><td>0.12326704</td><td>0.05339085</td><td>0.11281269</td></tr>\n",
       "\t<tr><td> 2        </td><td>1.433576  </td><td>0.5050966 </td><td>1.1333276 </td><td>0.07896175</td><td>0.06740885</td><td>0.08398218</td></tr>\n",
       "\t<tr><td> 3        </td><td>1.367012  </td><td>0.5523346 </td><td>1.0861536 </td><td>0.08028157</td><td>0.06470701</td><td>0.07371673</td></tr>\n",
       "\t<tr><td> 4        </td><td>1.262942  </td><td>0.6182750 </td><td>1.0085447 </td><td>0.06973353</td><td>0.05534989</td><td>0.05844988</td></tr>\n",
       "\t<tr><td> 5        </td><td>1.189582  </td><td>0.6620358 </td><td>0.9389860 </td><td>0.05587609</td><td>0.04854973</td><td>0.05097687</td></tr>\n",
       "\t<tr><td> 6        </td><td>1.139669  </td><td>0.6866121 </td><td>0.8986752 </td><td>0.04949088</td><td>0.05524242</td><td>0.04461994</td></tr>\n",
       "\t<tr><td> 7        </td><td>1.115016  </td><td>0.7000287 </td><td>0.8776503 </td><td>0.05475764</td><td>0.05450043</td><td>0.04390446</td></tr>\n",
       "\t<tr><td> 8        </td><td>1.086087  </td><td>0.7161991 </td><td>0.8480972 </td><td>0.06524938</td><td>0.05488511</td><td>0.04433096</td></tr>\n",
       "\t<tr><td> 9        </td><td>1.089323  </td><td>0.7147209 </td><td>0.8458780 </td><td>0.06097842</td><td>0.05049405</td><td>0.04385528</td></tr>\n",
       "\t<tr><td>10        </td><td>1.053258  </td><td>0.7338582 </td><td>0.8135962 </td><td>0.07212172</td><td>0.04783307</td><td>0.04795181</td></tr>\n",
       "</tbody>\n",
       "</table>\n"
      ],
      "text/latex": [
       "\\begin{tabular}{r|lllllll}\n",
       " maxdepth & RMSE & Rsquared & MAE & RMSESD & RsquaredSD & MAESD\\\\\n",
       "\\hline\n",
       "\t  1         & 1.618610   & 0.3773936  & 1.2669221  & 0.12326704 & 0.05339085 & 0.11281269\\\\\n",
       "\t  2         & 1.433576   & 0.5050966  & 1.1333276  & 0.07896175 & 0.06740885 & 0.08398218\\\\\n",
       "\t  3         & 1.367012   & 0.5523346  & 1.0861536  & 0.08028157 & 0.06470701 & 0.07371673\\\\\n",
       "\t  4         & 1.262942   & 0.6182750  & 1.0085447  & 0.06973353 & 0.05534989 & 0.05844988\\\\\n",
       "\t  5         & 1.189582   & 0.6620358  & 0.9389860  & 0.05587609 & 0.04854973 & 0.05097687\\\\\n",
       "\t  6         & 1.139669   & 0.6866121  & 0.8986752  & 0.04949088 & 0.05524242 & 0.04461994\\\\\n",
       "\t  7         & 1.115016   & 0.7000287  & 0.8776503  & 0.05475764 & 0.05450043 & 0.04390446\\\\\n",
       "\t  8         & 1.086087   & 0.7161991  & 0.8480972  & 0.06524938 & 0.05488511 & 0.04433096\\\\\n",
       "\t  9         & 1.089323   & 0.7147209  & 0.8458780  & 0.06097842 & 0.05049405 & 0.04385528\\\\\n",
       "\t 10         & 1.053258   & 0.7338582  & 0.8135962  & 0.07212172 & 0.04783307 & 0.04795181\\\\\n",
       "\\end{tabular}\n"
      ],
      "text/markdown": [
       "\n",
       "maxdepth | RMSE | Rsquared | MAE | RMSESD | RsquaredSD | MAESD | \n",
       "|---|---|---|---|---|---|---|---|---|---|\n",
       "|  1         | 1.618610   | 0.3773936  | 1.2669221  | 0.12326704 | 0.05339085 | 0.11281269 | \n",
       "|  2         | 1.433576   | 0.5050966  | 1.1333276  | 0.07896175 | 0.06740885 | 0.08398218 | \n",
       "|  3         | 1.367012   | 0.5523346  | 1.0861536  | 0.08028157 | 0.06470701 | 0.07371673 | \n",
       "|  4         | 1.262942   | 0.6182750  | 1.0085447  | 0.06973353 | 0.05534989 | 0.05844988 | \n",
       "|  5         | 1.189582   | 0.6620358  | 0.9389860  | 0.05587609 | 0.04854973 | 0.05097687 | \n",
       "|  6         | 1.139669   | 0.6866121  | 0.8986752  | 0.04949088 | 0.05524242 | 0.04461994 | \n",
       "|  7         | 1.115016   | 0.7000287  | 0.8776503  | 0.05475764 | 0.05450043 | 0.04390446 | \n",
       "|  8         | 1.086087   | 0.7161991  | 0.8480972  | 0.06524938 | 0.05488511 | 0.04433096 | \n",
       "|  9         | 1.089323   | 0.7147209  | 0.8458780  | 0.06097842 | 0.05049405 | 0.04385528 | \n",
       "| 10         | 1.053258   | 0.7338582  | 0.8135962  | 0.07212172 | 0.04783307 | 0.04795181 | \n",
       "\n",
       "\n"
      ],
      "text/plain": [
       "   maxdepth RMSE     Rsquared  MAE       RMSESD     RsquaredSD MAESD     \n",
       "1   1       1.618610 0.3773936 1.2669221 0.12326704 0.05339085 0.11281269\n",
       "2   2       1.433576 0.5050966 1.1333276 0.07896175 0.06740885 0.08398218\n",
       "3   3       1.367012 0.5523346 1.0861536 0.08028157 0.06470701 0.07371673\n",
       "4   4       1.262942 0.6182750 1.0085447 0.06973353 0.05534989 0.05844988\n",
       "5   5       1.189582 0.6620358 0.9389860 0.05587609 0.04854973 0.05097687\n",
       "6   6       1.139669 0.6866121 0.8986752 0.04949088 0.05524242 0.04461994\n",
       "7   7       1.115016 0.7000287 0.8776503 0.05475764 0.05450043 0.04390446\n",
       "8   8       1.086087 0.7161991 0.8480972 0.06524938 0.05488511 0.04433096\n",
       "9   9       1.089323 0.7147209 0.8458780 0.06097842 0.05049405 0.04385528\n",
       "10 10       1.053258 0.7338582 0.8135962 0.07212172 0.04783307 0.04795181"
      ]
     },
     "metadata": {},
     "output_type": "display_data"
    }
   ],
   "source": [
    "#single trees\n",
    "fit_tree <- train(solTrainXtrans,solTrainY,method = \"rpart2\",\n",
    "                 tuneLength=10,trControl=trainControl(method = \"cv\"))\n",
    "fit_tree$results"
   ]
  },
  {
   "cell_type": "markdown",
   "metadata": {},
   "source": [
    "\\begin{remark}\n",
    "To tune a conditional inference tree over mincriterion, the method option in the train function should be set to method = \"ctree\". To tune over maximum depth, the method option should be set to method=\"ctree2\".\n",
    "\\end{remark}\n"
   ]
  },
  {
   "cell_type": "code",
   "execution_count": 14,
   "metadata": {
    "collapsed": true
   },
   "outputs": [],
   "source": [
    "fit_ctree <- train(solTrainXtrans,solTrainY,method = \"ctree2\",\n",
    "                 tuneLength=10,trControl=trainControl(method = \"cv\"))"
   ]
  },
  {
   "cell_type": "code",
   "execution_count": 22,
   "metadata": {
    "collapsed": false,
    "scrolled": true
   },
   "outputs": [
    {
     "data": {
      "text/html": [
       "<table>\n",
       "<thead><tr><th></th><th scope=col>maxdepth</th><th scope=col>mincriterion</th></tr></thead>\n",
       "<tbody>\n",
       "\t<tr><th scope=row>91</th><td>10  </td><td>0.01</td></tr>\n",
       "</tbody>\n",
       "</table>\n"
      ],
      "text/latex": [
       "\\begin{tabular}{r|ll}\n",
       "  & maxdepth & mincriterion\\\\\n",
       "\\hline\n",
       "\t91 & 10   & 0.01\\\\\n",
       "\\end{tabular}\n"
      ],
      "text/markdown": [
       "\n",
       "| <!--/--> | maxdepth | mincriterion | \n",
       "|---|\n",
       "| 91 | 10   | 0.01 | \n",
       "\n",
       "\n"
      ],
      "text/plain": [
       "   maxdepth mincriterion\n",
       "91 10       0.01        "
      ]
     },
     "metadata": {},
     "output_type": "display_data"
    }
   ],
   "source": [
    "fit_ctree$bestTune"
   ]
  },
  {
   "cell_type": "code",
   "execution_count": 23,
   "metadata": {
    "collapsed": false
   },
   "outputs": [
    {
     "data": {
      "image/png": "[encoded data removed]",
      "text/plain": [
       "plot without title"
      ]
     },
     "metadata": {},
     "output_type": "display_data"
    }
   ],
   "source": [
    "boxplot(fit_ctree$results$RMSE)"
   ]
  },
  {
   "cell_type": "code",
   "execution_count": 19,
   "metadata": {
    "collapsed": false,
    "scrolled": true
   },
   "outputs": [
    {
     "data": {
      "image/png": "[encoded data removed]",
      "text/plain": [
       "plot without title"
      ]
     },
     "metadata": {},
     "output_type": "display_data"
    }
   ],
   "source": [
    "library(partykit)\n",
    "library(party)\n",
    "library(rpart)\n",
    "df <- cbind(solTrainXtrans,solTrainY)\n",
    "fit_tree <- rpart(solTrainY~.,data = df)\n",
    "plot(as.party(fit_tree))\n",
    "#http://rstatistics.net/decision-trees-with-r/\n",
    "\n",
    "#http://rstatistics.net/variable-importance-of-predictors-that-contribute-most-significantly-to-a-response-variable-in-r/"
   ]
  },
  {
   "cell_type": "markdown",
   "metadata": {},
   "source": [
    "Regression Model Tree\n",
    "\n",
    "> the same problem, although not as severe as with a single tree. One approach to dealing with this issue is to use a different estimator in the terminal nodes. Here we focus on the model tree approach described in Quinlan (1992) called M5, which is similar to regression trees except:\n",
    "\n",
    "- The splitting criterion is different.\n",
    "- The terminal nodes predict the outcome using a linear model (as opposed to the simple average).\n",
    "- When a sample is predicted, it is often a combination of the predictions from different models along the same path through the tree."
   ]
  },
  {
   "cell_type": "code",
   "execution_count": 29,
   "metadata": {
    "collapsed": false
   },
   "outputs": [],
   "source": [
    "#model trees\n",
    "library(RWeka)\n",
    "set.seed(100)\n",
    "# library(RWeka)\n",
    "# fit_mtree <- M5P(solTrainY~.,data = df,control=Weka_control(M=10))\n",
    "fit_mtree <- train(solTrainXtrans,solTrainY,method = \"M5\",\n",
    "                  trControl=trainControl(method = \"cv\"),\n",
    "                   control = Weka_control(M = 10))"
   ]
  },
  {
   "cell_type": "code",
   "execution_count": 31,
   "metadata": {
    "collapsed": false,
    "scrolled": true
   },
   "outputs": [
    {
     "data": {},
     "metadata": {},
     "output_type": "display_data"
    },
    {
     "data": {
      "image/png": "[encoded data removed]",
      "text/plain": [
       "plot without title"
      ]
     },
     "metadata": {},
     "output_type": "display_data"
    }
   ],
   "source": [
    "plot(fit_mtree)"
   ]
  },
  {
   "cell_type": "code",
   "execution_count": 32,
   "metadata": {
    "collapsed": false,
    "scrolled": true
   },
   "outputs": [
    {
     "data": {
      "text/html": [
       "<table>\n",
       "<thead><tr><th></th><th scope=col>pruned</th><th scope=col>smoothed</th><th scope=col>rules</th></tr></thead>\n",
       "<tbody>\n",
       "\t<tr><th scope=row>6</th><td>No </td><td>Yes</td><td>No </td></tr>\n",
       "</tbody>\n",
       "</table>\n"
      ],
      "text/latex": [
       "\\begin{tabular}{r|lll}\n",
       "  & pruned & smoothed & rules\\\\\n",
       "\\hline\n",
       "\t6 & No  & Yes & No \\\\\n",
       "\\end{tabular}\n"
      ],
      "text/markdown": [
       "\n",
       "| <!--/--> | pruned | smoothed | rules | \n",
       "|---|\n",
       "| 6 | No  | Yes | No  | \n",
       "\n",
       "\n"
      ],
      "text/plain": [
       "  pruned smoothed rules\n",
       "6 No     Yes      No   "
      ]
     },
     "metadata": {},
     "output_type": "display_data"
    }
   ],
   "source": [
    "fit_mtree$bestTune"
   ]
  },
  {
   "cell_type": "code",
   "execution_count": 44,
   "metadata": {
    "collapsed": false,
    "scrolled": true
   },
   "outputs": [
    {
     "data": {
      "image/png": "[encoded data removed]",
      "text/plain": [
       "plot without title"
      ]
     },
     "metadata": {},
     "output_type": "display_data"
    }
   ],
   "source": [
    "plot(fit_mtree)"
   ]
  },
  {
   "cell_type": "code",
   "execution_count": 3,
   "metadata": {
    "collapsed": true
   },
   "outputs": [],
   "source": [
    "# fit_rtree <- M5Rules(solTrainY~.,data = df)\n",
    "# summary(fit_rtree)\n",
    "set.seed(100)\n",
    "fit_rtree <- train(solTrainXtrans,solTrainY,method = \"M5Rules\",\n",
    "                  trControl=trainControl(method = \"cv\",number=3))"
   ]
  },
  {
   "cell_type": "code",
   "execution_count": 4,
   "metadata": {
    "collapsed": false
   },
   "outputs": [
    {
     "data": {},
     "metadata": {},
     "output_type": "display_data"
    },
    {
     "data": {
      "image/png": "[encoded data removed]",
      "text/plain": [
       "plot without title"
      ]
     },
     "metadata": {},
     "output_type": "display_data"
    }
   ],
   "source": [
    "plot(fit_rtree)"
   ]
  },
  {
   "cell_type": "code",
   "execution_count": 6,
   "metadata": {
    "collapsed": false,
    "scrolled": false
   },
   "outputs": [
    {
     "data": {
      "text/html": [
       "<table>\n",
       "<thead><tr><th scope=col>pruned</th><th scope=col>smoothed</th><th scope=col>RMSE</th><th scope=col>Rsquared</th><th scope=col>MAE</th><th scope=col>RMSESD</th><th scope=col>RsquaredSD</th><th scope=col>MAESD</th></tr></thead>\n",
       "<tbody>\n",
       "\t<tr><td>Yes        </td><td>Yes        </td><td>0.7318775  </td><td>0.8731118  </td><td>0.5640544  </td><td>0.08664484 </td><td>0.009185247</td><td>0.06069194 </td></tr>\n",
       "\t<tr><td>Yes        </td><td>No         </td><td>0.7318775  </td><td>0.8731118  </td><td>0.5640544  </td><td>0.08664484 </td><td>0.009185247</td><td>0.06069194 </td></tr>\n",
       "\t<tr><td>No         </td><td>Yes        </td><td>0.8714670  </td><td>0.8211761  </td><td>0.6265014  </td><td>0.06017128 </td><td>0.012966834</td><td>0.02426115 </td></tr>\n",
       "\t<tr><td>No         </td><td>No         </td><td>1.1190916  </td><td>0.7129676  </td><td>0.8063540  </td><td>0.11651258 </td><td>0.025485595</td><td>0.04911878 </td></tr>\n",
       "</tbody>\n",
       "</table>\n"
      ],
      "text/latex": [
       "\\begin{tabular}{r|llllllll}\n",
       " pruned & smoothed & RMSE & Rsquared & MAE & RMSESD & RsquaredSD & MAESD\\\\\n",
       "\\hline\n",
       "\t Yes         & Yes         & 0.7318775   & 0.8731118   & 0.5640544   & 0.08664484  & 0.009185247 & 0.06069194 \\\\\n",
       "\t Yes         & No          & 0.7318775   & 0.8731118   & 0.5640544   & 0.08664484  & 0.009185247 & 0.06069194 \\\\\n",
       "\t No          & Yes         & 0.8714670   & 0.8211761   & 0.6265014   & 0.06017128  & 0.012966834 & 0.02426115 \\\\\n",
       "\t No          & No          & 1.1190916   & 0.7129676   & 0.8063540   & 0.11651258  & 0.025485595 & 0.04911878 \\\\\n",
       "\\end{tabular}\n"
      ],
      "text/markdown": [
       "\n",
       "pruned | smoothed | RMSE | Rsquared | MAE | RMSESD | RsquaredSD | MAESD | \n",
       "|---|---|---|---|\n",
       "| Yes         | Yes         | 0.7318775   | 0.8731118   | 0.5640544   | 0.08664484  | 0.009185247 | 0.06069194  | \n",
       "| Yes         | No          | 0.7318775   | 0.8731118   | 0.5640544   | 0.08664484  | 0.009185247 | 0.06069194  | \n",
       "| No          | Yes         | 0.8714670   | 0.8211761   | 0.6265014   | 0.06017128  | 0.012966834 | 0.02426115  | \n",
       "| No          | No          | 1.1190916   | 0.7129676   | 0.8063540   | 0.11651258  | 0.025485595 | 0.04911878  | \n",
       "\n",
       "\n"
      ],
      "text/plain": [
       "  pruned smoothed RMSE      Rsquared  MAE       RMSESD     RsquaredSD \n",
       "1 Yes    Yes      0.7318775 0.8731118 0.5640544 0.08664484 0.009185247\n",
       "2 Yes    No       0.7318775 0.8731118 0.5640544 0.08664484 0.009185247\n",
       "3 No     Yes      0.8714670 0.8211761 0.6265014 0.06017128 0.012966834\n",
       "4 No     No       1.1190916 0.7129676 0.8063540 0.11651258 0.025485595\n",
       "  MAESD     \n",
       "1 0.06069194\n",
       "2 0.06069194\n",
       "3 0.02426115\n",
       "4 0.04911878"
      ]
     },
     "metadata": {},
     "output_type": "display_data"
    }
   ],
   "source": [
    "fit_rtree$results"
   ]
  },
  {
   "cell_type": "markdown",
   "metadata": {},
   "source": [
    "Bagged Tree\n",
    "Although bagging usually improves predictive performance for unstable models, there are a few caveats. \n",
    "- First, computational costs and memory requirements increase as the number of bootstrap samples increases.\n",
    "- Another disadvantage to this approach is that a bagged model is much less interpretable than a model that is not bagged."
   ]
  },
  {
   "cell_type": "code",
   "execution_count": 6,
   "metadata": {
    "collapsed": false
   },
   "outputs": [],
   "source": [
    "#using ipred package\n",
    "library(ipred)\n",
    "# fit_BaggedTree <- ipredbagg(solTrainY,solTrainXtrans)\n",
    "df <- cbind(solTrainXtrans,solTrainY)\n",
    "fit_BaggedTree <- bagging(solTrainY~.,data=df)"
   ]
  },
  {
   "cell_type": "code",
   "execution_count": 10,
   "metadata": {
    "collapsed": false
   },
   "outputs": [],
   "source": [
    "#using party package\n",
    "library(party)\n",
    "df <- cbind(solTrainXtrans,solTrainY)\n",
    "ctrl <- cforest_control(mtry=ncol(solTrainX))\n",
    "fit_bagged <- cforest(solTrainY~.,data = df,controls = ctrl)\n",
    "summary(fit_bagged)"
   ]
  },
  {
   "cell_type": "code",
   "execution_count": 2,
   "metadata": {
    "collapsed": false
   },
   "outputs": [
    {
     "name": "stderr",
     "output_type": "stream",
     "text": [
      "Loading required package: lattice\n",
      "Loading required package: ggplot2\n"
     ]
    },
    {
     "data": {
      "text/plain": [
       "Bagged CART \n",
       "\n",
       "951 samples\n",
       "228 predictors\n",
       "\n",
       "No pre-processing\n",
       "Resampling: Cross-Validated (5 fold) \n",
       "Summary of sample sizes: 761, 761, 759, 761, 762 \n",
       "Resampling results:\n",
       "\n",
       "  RMSE       Rsquared   MAE      \n",
       "  0.9107243  0.8061015  0.6919636\n"
      ]
     },
     "metadata": {},
     "output_type": "display_data"
    }
   ],
   "source": [
    "#caret wrapper\n",
    "library(caret)\n",
    "library(ipred)\n",
    "fit_treebag <- train(solTrainXtrans,solTrainY,method = \"treebag\",\n",
    "                    trControl=trainControl(method = \"cv\",number=5))\n",
    "fit_treebag"
   ]
  },
  {
   "cell_type": "code",
   "execution_count": 5,
   "metadata": {
    "collapsed": false
   },
   "outputs": [
    {
     "data": {
      "text/html": [
       "<table>\n",
       "<thead><tr><th scope=col>parameter</th><th scope=col>RMSE</th><th scope=col>Rsquared</th><th scope=col>MAE</th><th scope=col>RMSESD</th><th scope=col>RsquaredSD</th><th scope=col>MAESD</th></tr></thead>\n",
       "<tbody>\n",
       "\t<tr><td>none      </td><td>0.9107243 </td><td>0.8061015 </td><td>0.6919636 </td><td>0.07162046</td><td>0.03421537</td><td>0.07443517</td></tr>\n",
       "</tbody>\n",
       "</table>\n"
      ],
      "text/latex": [
       "\\begin{tabular}{r|lllllll}\n",
       " parameter & RMSE & Rsquared & MAE & RMSESD & RsquaredSD & MAESD\\\\\n",
       "\\hline\n",
       "\t none       & 0.9107243  & 0.8061015  & 0.6919636  & 0.07162046 & 0.03421537 & 0.07443517\\\\\n",
       "\\end{tabular}\n"
      ],
      "text/markdown": [
       "\n",
       "parameter | RMSE | Rsquared | MAE | RMSESD | RsquaredSD | MAESD | \n",
       "|---|\n",
       "| none       | 0.9107243  | 0.8061015  | 0.6919636  | 0.07162046 | 0.03421537 | 0.07443517 | \n",
       "\n",
       "\n"
      ],
      "text/plain": [
       "  parameter RMSE      Rsquared  MAE       RMSESD     RsquaredSD MAESD     \n",
       "1 none      0.9107243 0.8061015 0.6919636 0.07162046 0.03421537 0.07443517"
      ]
     },
     "metadata": {},
     "output_type": "display_data"
    }
   ],
   "source": [
    "fit_treebag$results"
   ]
  },
  {
   "cell_type": "markdown",
   "metadata": {},
   "source": [
    "Random Forest\n",
    "> Random forests’ tuning parameter is the number of randomly selected predictors, k, to choose from at each split, and is commonly referred to as mtry. In the regression context, Breiman (2001) recommends setting mtry to be one-third of the number of predictors. For the purpose of tuning the mtry parameter, since random forests is computationally intensive, we suggest starting with five values of k that are somewhat evenly spaced across the range from 2 to P . \n",
    "\n",
    "> the default tuning parameter value for regression (mtry = P/3) tends to work well.\n",
    "\n",
    ">  The practitioner must also specify the number of trees for the forest. Breiman (2001) proved that random forests is protected from overfitting; therefore, the model will not be adversely affected if a large number of trees are built for the forest. "
   ]
  },
  {
   "cell_type": "code",
   "execution_count": 13,
   "metadata": {
    "collapsed": false
   },
   "outputs": [],
   "source": [
    "#rf based on cart\n",
    "library(randomForest)\n",
    "fit_rf <- randomForest(solTrainXtrans,solTrainY,importance = T,ntree=1000)\n",
    "#rf based on conditional inference tree\n",
    "library(party)\n",
    "#cforest"
   ]
  },
  {
   "cell_type": "code",
   "execution_count": 15,
   "metadata": {
    "collapsed": false,
    "scrolled": true
   },
   "outputs": [
    {
     "data": {
      "text/html": [
       "<table>\n",
       "<thead><tr><th></th><th scope=col>%IncMSE</th><th scope=col>IncNodePurity</th></tr></thead>\n",
       "<tbody>\n",
       "\t<tr><th scope=row>FP001</th><td>6.807316 </td><td> 1.712371</td></tr>\n",
       "\t<tr><th scope=row>FP002</th><td>7.472519 </td><td> 2.109143</td></tr>\n",
       "\t<tr><th scope=row>FP003</th><td>7.705398 </td><td> 2.510316</td></tr>\n",
       "\t<tr><th scope=row>FP004</th><td>8.008886 </td><td>16.735312</td></tr>\n",
       "\t<tr><th scope=row>FP005</th><td>5.604884 </td><td> 1.499980</td></tr>\n",
       "\t<tr><th scope=row>FP006</th><td>6.220639 </td><td> 5.090895</td></tr>\n",
       "</tbody>\n",
       "</table>\n"
      ],
      "text/latex": [
       "\\begin{tabular}{r|ll}\n",
       "  & \\%IncMSE & IncNodePurity\\\\\n",
       "\\hline\n",
       "\tFP001 & 6.807316  &  1.712371\\\\\n",
       "\tFP002 & 7.472519  &  2.109143\\\\\n",
       "\tFP003 & 7.705398  &  2.510316\\\\\n",
       "\tFP004 & 8.008886  & 16.735312\\\\\n",
       "\tFP005 & 5.604884  &  1.499980\\\\\n",
       "\tFP006 & 6.220639  &  5.090895\\\\\n",
       "\\end{tabular}\n"
      ],
      "text/markdown": [
       "\n",
       "| <!--/--> | %IncMSE | IncNodePurity | \n",
       "|---|---|---|---|---|---|\n",
       "| FP001 | 6.807316  |  1.712371 | \n",
       "| FP002 | 7.472519  |  2.109143 | \n",
       "| FP003 | 7.705398  |  2.510316 | \n",
       "| FP004 | 8.008886  | 16.735312 | \n",
       "| FP005 | 5.604884  |  1.499980 | \n",
       "| FP006 | 6.220639  |  5.090895 | \n",
       "\n",
       "\n"
      ],
      "text/plain": [
       "      %IncMSE  IncNodePurity\n",
       "FP001 6.807316  1.712371    \n",
       "FP002 7.472519  2.109143    \n",
       "FP003 7.705398  2.510316    \n",
       "FP004 8.008886 16.735312    \n",
       "FP005 5.604884  1.499980    \n",
       "FP006 6.220639  5.090895    "
      ]
     },
     "metadata": {},
     "output_type": "display_data"
    }
   ],
   "source": [
    "head(importance(fit_rf))"
   ]
  },
  {
   "cell_type": "code",
   "execution_count": 21,
   "metadata": {
    "collapsed": false,
    "scrolled": true
   },
   "outputs": [
    {
     "data": {
      "text/html": [
       "<table>\n",
       "<thead><tr><th scope=col>mtry</th><th scope=col>RMSE</th><th scope=col>Rsquared</th><th scope=col>MAE</th><th scope=col>RMSESD</th><th scope=col>RsquaredSD</th><th scope=col>MAESD</th></tr></thead>\n",
       "<tbody>\n",
       "\t<tr><td>  2       </td><td>1.0651931 </td><td>0.8182107 </td><td>0.8238175 </td><td>0.03559180</td><td>0.04045972</td><td>0.03491924</td></tr>\n",
       "\t<tr><td>115       </td><td>0.6659069 </td><td>0.8941867 </td><td>0.4859293 </td><td>0.07845253</td><td>0.02936434</td><td>0.04650931</td></tr>\n",
       "\t<tr><td>228       </td><td>0.6701072 </td><td>0.8927388 </td><td>0.4905756 </td><td>0.07527986</td><td>0.02888717</td><td>0.04689330</td></tr>\n",
       "</tbody>\n",
       "</table>\n"
      ],
      "text/latex": [
       "\\begin{tabular}{r|lllllll}\n",
       " mtry & RMSE & Rsquared & MAE & RMSESD & RsquaredSD & MAESD\\\\\n",
       "\\hline\n",
       "\t   2        & 1.0651931  & 0.8182107  & 0.8238175  & 0.03559180 & 0.04045972 & 0.03491924\\\\\n",
       "\t 115        & 0.6659069  & 0.8941867  & 0.4859293  & 0.07845253 & 0.02936434 & 0.04650931\\\\\n",
       "\t 228        & 0.6701072  & 0.8927388  & 0.4905756  & 0.07527986 & 0.02888717 & 0.04689330\\\\\n",
       "\\end{tabular}\n"
      ],
      "text/markdown": [
       "\n",
       "mtry | RMSE | Rsquared | MAE | RMSESD | RsquaredSD | MAESD | \n",
       "|---|---|---|\n",
       "|   2        | 1.0651931  | 0.8182107  | 0.8238175  | 0.03559180 | 0.04045972 | 0.03491924 | \n",
       "| 115        | 0.6659069  | 0.8941867  | 0.4859293  | 0.07845253 | 0.02936434 | 0.04650931 | \n",
       "| 228        | 0.6701072  | 0.8927388  | 0.4905756  | 0.07527986 | 0.02888717 | 0.04689330 | \n",
       "\n",
       "\n"
      ],
      "text/plain": [
       "  mtry RMSE      Rsquared  MAE       RMSESD     RsquaredSD MAESD     \n",
       "1   2  1.0651931 0.8182107 0.8238175 0.03559180 0.04045972 0.03491924\n",
       "2 115  0.6659069 0.8941867 0.4859293 0.07845253 0.02936434 0.04650931\n",
       "3 228  0.6701072 0.8927388 0.4905756 0.07527986 0.02888717 0.04689330"
      ]
     },
     "metadata": {},
     "output_type": "display_data"
    }
   ],
   "source": [
    "library(caret)\n",
    "fit_rf<- train(solTrainXtrans,solTrainY,method = \"rf\",\n",
    "#                method = \"cforest\",\n",
    "                    trControl=trainControl(method = \"cv\",number=5))\n",
    "fit_rf$results"
   ]
  },
  {
   "cell_type": "markdown",
   "metadata": {},
   "source": [
    "Boosted Trees"
   ]
  },
  {
   "cell_type": "code",
   "execution_count": 24,
   "metadata": {
    "collapsed": false
   },
   "outputs": [
    {
     "name": "stdout",
     "output_type": "stream",
     "text": [
      "Iter   TrainDeviance   ValidDeviance   StepSize   Improve\n",
      "     1        4.1814             nan     0.0010    0.0030\n",
      "     2        4.1785             nan     0.0010    0.0031\n",
      "     3        4.1753             nan     0.0010    0.0030\n",
      "     4        4.1723             nan     0.0010    0.0030\n",
      "     5        4.1691             nan     0.0010    0.0029\n",
      "     6        4.1661             nan     0.0010    0.0031\n",
      "     7        4.1627             nan     0.0010    0.0029\n",
      "     8        4.1597             nan     0.0010    0.0030\n",
      "     9        4.1563             nan     0.0010    0.0030\n",
      "    10        4.1533             nan     0.0010    0.0029\n",
      "    20        4.1227             nan     0.0010    0.0031\n",
      "    40        4.0648             nan     0.0010    0.0027\n",
      "    60        4.0066             nan     0.0010    0.0027\n",
      "    80        3.9512             nan     0.0010    0.0026\n",
      "   100        3.8978             nan     0.0010    0.0024\n",
      "\n"
     ]
    },
    {
     "data": {
      "text/plain": [
       "A gradient boosted model with gaussian loss function.\n",
       "100 iterations were performed.\n",
       "There were 228 predictors of which 3 had non-zero influence."
      ]
     },
     "metadata": {},
     "output_type": "display_data"
    }
   ],
   "source": [
    "library(gbm)\n",
    "fit_gbm <- gbm.fit(solTrainXtrans,solTrainY,distribution = \"gaussian\")\n",
    "fit_gbm"
   ]
  },
  {
   "cell_type": "code",
   "execution_count": null,
   "metadata": {
    "collapsed": false
   },
   "outputs": [],
   "source": [
    "grid_gbm <- expand.grid(interaction.depth=seq(1,7,by=2),\n",
    "                       n.trees=seq(100,1000,by=50),n.minobsinnode=seq(1,20,by=2),\n",
    "                       shrinkage=c(0.01,0.1))\n",
    "\n",
    "set.seed(100)\n",
    "fit_gbm <- train(solTrainXtrans,solTrainY,\n",
    "                 method = \"gbm\",verbose=F,\n",
    "                tuneGrid=grid_gbm\n",
    "#                 ,trControl=trainControl(method = \"cv\",number=5)\n",
    "                )"
   ]
  },
  {
   "cell_type": "code",
   "execution_count": 27,
   "metadata": {
    "collapsed": false,
    "scrolled": true
   },
   "outputs": [
    {
     "data": {
      "text/plain": [
       "Stochastic Gradient Boosting \n",
       "\n",
       "951 samples\n",
       "228 predictors\n",
       "\n",
       "No pre-processing\n",
       "Resampling: Cross-Validated (5 fold) \n",
       "Summary of sample sizes: 760, 761, 763, 761, 759 \n",
       "Resampling results across tuning parameters:\n",
       "\n",
       "  interaction.depth  n.trees  RMSE       Rsquared   MAE      \n",
       "  1                   50      1.0236157  0.7786639  0.7818669\n",
       "  1                  100      0.8548815  0.8330803  0.6490165\n",
       "  1                  150      0.7892336  0.8525187  0.6018894\n",
       "  2                   50      0.8475227  0.8369742  0.6473716\n",
       "  2                  100      0.7375561  0.8698542  0.5683573\n",
       "  2                  150      0.6991342  0.8823330  0.5369285\n",
       "  3                   50      0.7828552  0.8574353  0.6002521\n",
       "  3                  100      0.6889702  0.8857376  0.5317244\n",
       "  3                  150      0.6586615  0.8952871  0.5078962\n",
       "\n",
       "Tuning parameter 'shrinkage' was held constant at a value of 0.1\n",
       "\n",
       "Tuning parameter 'n.minobsinnode' was held constant at a value of 10\n",
       "RMSE was used to select the optimal model using the smallest value.\n",
       "The final values used for the model were n.trees = 150, interaction.depth =\n",
       " 3, shrinkage = 0.1 and n.minobsinnode = 10."
      ]
     },
     "metadata": {},
     "output_type": "display_data"
    }
   ],
   "source": [
    "fit_gbm"
   ]
  },
  {
   "cell_type": "markdown",
   "metadata": {},
   "source": [
    "Cubist"
   ]
  },
  {
   "cell_type": "code",
   "execution_count": 11,
   "metadata": {
    "collapsed": false,
    "scrolled": false
   },
   "outputs": [],
   "source": [
    "library(Cubist)\n",
    "library(caret)\n",
    "# fit_cubist <- cubist(solTrainXtrans,solTrainY)\n",
    "\n",
    "#caret wraper\n",
    "grid_cubist <- expand.grid(committees=seq(20,100,by=20),\n",
    "                          neighbors=c(0,1,5,9))\n",
    "fit_cubist <- train(solTrainXtrans,solTrainY,method=\"cubist\",tuneGrid=grid_cubist)"
   ]
  },
  {
   "cell_type": "code",
   "execution_count": 12,
   "metadata": {
    "collapsed": false
   },
   "outputs": [
    {
     "data": {},
     "metadata": {},
     "output_type": "display_data"
    },
    {
     "data": {
      "image/png": "[encoded data removed]",
      "text/plain": [
       "plot without title"
      ]
     },
     "metadata": {},
     "output_type": "display_data"
    }
   ],
   "source": [
    "plot(fit_cubist)"
   ]
  }
 ],
 "metadata": {
  "anaconda-cloud": {},
  "kernelspec": {
   "display_name": "R",
   "language": "R",
   "name": "ir"
  },
  "language_info": {
   "codemirror_mode": "r",
   "file_extension": ".r",
   "mimetype": "text/x-r-source",
   "name": "R",
   "pygments_lexer": "r",
   "version": "3.5.1"
  },
  "latex_envs": {
   "LaTeX_envs_menu_present": true,
   "autoclose": false,
   "autocomplete": true,
   "bibliofile": "biblio.bib",
   "cite_by": "apalike",
   "current_citInitial": 1,
   "eqLabelWithNumbers": true,
   "eqNumInitial": 1,
   "hotkeys": {
    "equation": "Ctrl-E",
    "itemize": "Ctrl-I"
   },
   "labels_anchors": false,
   "latex_user_defs": false,
   "report_style_numbering": false,
   "user_envs_cfg": false
  },
  "toc": {
   "base_numbering": 1,
   "nav_menu": {},
   "number_sections": true,
   "sideBar": true,
   "skip_h1_title": false,
   "title_cell": "Table of Contents",
   "title_sidebar": "Contents",
   "toc_cell": false,
   "toc_position": {},
   "toc_section_display": true,
   "toc_window_display": false
  }
 },
 "nbformat": 4,
 "nbformat_minor": 1
}
