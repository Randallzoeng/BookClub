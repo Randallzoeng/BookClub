{
 "cells": [
  {
   "cell_type": "markdown",
   "metadata": {},
   "source": [
    "> As the number of attributes becomes large, exploratory analysis of the all the predictors may be infeasible and concentrating on those with strong relationships with the outcome may be an effective triaging strategy. "
   ]
  },
  {
   "cell_type": "code",
   "execution_count": 1,
   "metadata": {},
   "outputs": [],
   "source": [
    "library(AppliedPredictiveModeling)\n",
    "data(solubility)"
   ]
  },
  {
   "cell_type": "code",
   "execution_count": 2,
   "metadata": {
    "scrolled": false
   },
   "outputs": [
    {
     "data": {
      "text/html": [
       "<ol class=list-inline>\n",
       "\t<li>'solTestX'</li>\n",
       "\t<li>'solTestXtrans'</li>\n",
       "\t<li>'solTestY'</li>\n",
       "\t<li>'solTrainX'</li>\n",
       "\t<li>'solTrainXtrans'</li>\n",
       "\t<li>'solTrainY'</li>\n",
       "</ol>\n"
      ],
      "text/latex": [
       "\\begin{enumerate*}\n",
       "\\item 'solTestX'\n",
       "\\item 'solTestXtrans'\n",
       "\\item 'solTestY'\n",
       "\\item 'solTrainX'\n",
       "\\item 'solTrainXtrans'\n",
       "\\item 'solTrainY'\n",
       "\\end{enumerate*}\n"
      ],
      "text/markdown": [
       "1. 'solTestX'\n",
       "2. 'solTestXtrans'\n",
       "3. 'solTestY'\n",
       "4. 'solTrainX'\n",
       "5. 'solTrainXtrans'\n",
       "6. 'solTrainY'\n",
       "\n",
       "\n"
      ],
      "text/plain": [
       "[1] \"solTestX\"       \"solTestXtrans\"  \"solTestY\"       \"solTrainX\"     \n",
       "[5] \"solTrainXtrans\" \"solTrainY\"     "
      ]
     },
     "metadata": {},
     "output_type": "display_data"
    }
   ],
   "source": [
    "ls()"
   ]
  },
  {
   "cell_type": "code",
   "execution_count": 4,
   "metadata": {
    "scrolled": true
   },
   "outputs": [
    {
     "name": "stdout",
     "output_type": "stream",
     "text": [
      "'data.frame':\t951 obs. of  228 variables:\n",
      " $ FP001            : int  0 0 1 0 0 1 0 1 1 1 ...\n",
      " $ FP002            : int  1 1 1 0 0 0 1 0 0 1 ...\n",
      " $ FP003            : int  0 0 1 1 1 1 0 1 1 1 ...\n",
      " $ FP004            : int  0 1 1 0 1 1 1 1 1 1 ...\n",
      " $ FP005            : int  1 1 1 0 1 0 1 0 0 1 ...\n",
      " $ FP006            : int  0 1 0 0 1 0 0 0 1 1 ...\n",
      " $ FP007            : int  0 1 0 1 0 0 0 1 1 1 ...\n",
      " $ FP008            : int  1 1 1 0 0 0 1 0 0 0 ...\n",
      " $ FP009            : int  0 0 0 0 1 1 1 0 1 0 ...\n",
      " $ FP010            : int  0 0 1 0 0 0 0 0 0 0 ...\n",
      " $ FP011            : int  0 1 0 0 0 0 0 0 1 0 ...\n",
      " $ FP012            : int  0 0 0 0 0 1 0 1 0 0 ...\n",
      " $ FP013            : int  0 0 0 0 1 0 1 0 0 0 ...\n",
      " $ FP014            : int  0 0 0 0 0 0 1 0 0 0 ...\n",
      " $ FP015            : int  1 1 1 1 1 1 1 1 1 1 ...\n",
      " $ FP016            : int  0 1 0 0 1 1 0 1 0 0 ...\n",
      " $ FP017            : int  0 0 1 1 0 0 0 0 1 1 ...\n",
      " $ FP018            : int  0 1 0 0 0 0 0 0 0 0 ...\n",
      " $ FP019            : int  1 0 0 0 1 0 1 0 0 0 ...\n",
      " $ FP020            : int  0 0 0 0 0 0 0 0 0 0 ...\n",
      " $ FP021            : int  0 0 0 0 0 1 0 0 1 0 ...\n",
      " $ FP022            : int  0 0 0 0 0 0 0 0 0 1 ...\n",
      " $ FP023            : int  0 0 0 1 0 0 0 0 1 0 ...\n",
      " $ FP024            : int  1 0 0 0 1 0 0 0 0 0 ...\n",
      " $ FP025            : int  0 0 1 0 0 0 0 0 0 0 ...\n",
      " $ FP026            : int  1 0 0 0 0 0 1 0 0 0 ...\n",
      " $ FP027            : int  0 0 0 0 0 0 0 0 0 1 ...\n",
      " $ FP028            : int  0 1 0 0 0 0 0 0 1 1 ...\n",
      " $ FP029            : int  0 0 0 0 0 0 0 0 0 0 ...\n",
      " $ FP030            : int  0 0 0 0 1 0 0 0 0 0 ...\n",
      " $ FP031            : int  0 0 0 0 0 0 0 1 0 0 ...\n",
      " $ FP032            : int  0 0 0 0 0 0 0 0 0 0 ...\n",
      " $ FP033            : int  0 0 0 0 0 0 0 0 0 0 ...\n",
      " $ FP034            : int  0 0 0 0 1 0 0 0 0 1 ...\n",
      " $ FP035            : int  0 0 0 0 0 0 0 0 1 0 ...\n",
      " $ FP036            : int  0 0 0 0 0 0 0 0 0 0 ...\n",
      " $ FP037            : int  0 0 0 0 0 0 0 0 1 0 ...\n",
      " $ FP038            : int  0 0 1 0 0 0 0 0 0 0 ...\n",
      " $ FP039            : int  1 0 0 0 0 0 0 0 0 0 ...\n",
      " $ FP040            : int  1 0 0 0 0 0 0 0 0 0 ...\n",
      " $ FP041            : int  0 0 0 1 0 0 0 0 1 0 ...\n",
      " $ FP042            : int  0 0 0 0 0 0 0 0 0 0 ...\n",
      " $ FP043            : int  0 1 0 0 0 0 0 0 0 0 ...\n",
      " $ FP044            : int  0 0 0 0 0 0 0 0 0 0 ...\n",
      " $ FP045            : int  0 0 1 0 0 0 0 0 0 0 ...\n",
      " $ FP046            : int  0 1 0 0 0 0 1 0 0 1 ...\n",
      " $ FP047            : int  0 1 1 0 0 0 1 0 0 0 ...\n",
      " $ FP048            : int  0 0 0 0 0 0 0 1 0 0 ...\n",
      " $ FP049            : int  0 0 0 0 0 0 1 0 0 0 ...\n",
      " $ FP050            : int  0 0 0 0 0 0 0 1 0 1 ...\n",
      " $ FP051            : int  0 1 0 0 0 0 0 0 0 0 ...\n",
      " $ FP052            : int  0 0 0 0 0 0 0 0 0 1 ...\n",
      " $ FP053            : int  0 0 0 0 0 0 1 0 0 0 ...\n",
      " $ FP054            : int  0 0 0 1 0 0 0 0 1 1 ...\n",
      " $ FP055            : int  0 0 0 0 0 0 0 0 0 0 ...\n",
      " $ FP056            : int  1 0 0 0 0 0 0 0 0 0 ...\n",
      " $ FP057            : int  0 0 0 0 0 0 1 0 0 0 ...\n",
      " $ FP058            : int  0 0 0 0 0 0 0 0 0 1 ...\n",
      " $ FP059            : int  0 0 0 0 0 0 0 1 0 0 ...\n",
      " $ FP060            : int  0 1 1 0 0 0 0 1 1 0 ...\n",
      " $ FP061            : int  0 0 1 0 0 0 0 1 1 0 ...\n",
      " $ FP062            : int  0 0 1 0 0 1 0 1 1 1 ...\n",
      " $ FP063            : int  1 1 0 0 1 1 1 0 0 1 ...\n",
      " $ FP064            : int  0 1 1 0 1 1 0 1 0 0 ...\n",
      " $ FP065            : int  1 1 0 0 1 0 1 0 1 1 ...\n",
      " $ FP066            : int  1 0 1 1 1 1 1 1 1 1 ...\n",
      " $ FP067            : int  1 1 0 0 1 1 1 0 0 1 ...\n",
      " $ FP068            : int  0 1 0 0 1 1 1 0 0 1 ...\n",
      " $ FP069            : int  1 0 1 1 1 1 0 1 1 0 ...\n",
      " $ FP070            : int  1 1 0 1 0 0 1 0 1 0 ...\n",
      " $ FP071            : int  0 0 0 0 0 0 1 0 1 1 ...\n",
      " $ FP072            : int  0 1 1 0 0 1 0 1 1 1 ...\n",
      " $ FP073            : int  0 1 1 0 0 0 0 0 1 0 ...\n",
      " $ FP074            : int  0 1 0 0 0 0 0 0 1 0 ...\n",
      " $ FP075            : int  0 1 0 0 1 1 1 0 0 1 ...\n",
      " $ FP076            : int  1 1 0 0 0 0 1 0 1 1 ...\n",
      " $ FP077            : int  0 1 0 1 0 0 0 1 1 1 ...\n",
      " $ FP078            : int  0 1 0 0 0 0 0 0 1 0 ...\n",
      " $ FP079            : int  1 1 1 1 1 0 1 0 1 1 ...\n",
      " $ FP080            : int  0 1 0 0 1 1 1 1 0 0 ...\n",
      " $ FP081            : int  0 0 1 1 0 0 0 1 1 1 ...\n",
      " $ FP082            : int  1 1 1 0 1 1 1 0 1 1 ...\n",
      " $ FP083            : int  0 0 0 0 1 0 0 0 0 1 ...\n",
      " $ FP084            : int  1 1 0 0 1 0 1 0 0 0 ...\n",
      " $ FP085            : int  0 1 0 0 0 0 1 0 0 0 ...\n",
      " $ FP086            : int  0 0 0 1 1 0 0 1 1 1 ...\n",
      " $ FP087            : int  1 1 1 1 1 0 1 0 1 1 ...\n",
      " $ FP088            : int  0 1 0 0 0 0 0 1 1 0 ...\n",
      " $ FP089            : int  1 1 0 0 0 0 1 0 0 0 ...\n",
      " $ FP090            : int  0 1 0 1 0 0 0 1 1 1 ...\n",
      " $ FP091            : int  1 1 0 0 1 0 1 0 0 1 ...\n",
      " $ FP092            : int  0 0 0 0 1 1 1 0 1 0 ...\n",
      " $ FP093            : int  0 1 0 1 0 0 0 1 1 1 ...\n",
      " $ FP094            : int  0 0 0 0 1 0 0 1 0 0 ...\n",
      " $ FP095            : int  0 0 0 0 0 0 0 0 1 1 ...\n",
      " $ FP096            : int  0 0 0 0 0 0 0 0 1 0 ...\n",
      " $ FP097            : int  1 1 0 0 0 0 1 0 1 0 ...\n",
      " $ FP098            : int  0 0 1 0 0 0 0 1 0 0 ...\n",
      " $ FP099            : int  0 0 0 0 0 0 0 0 1 0 ...\n",
      "  [list output truncated]\n"
     ]
    },
    {
     "data": {
      "text/plain": [
       "NULL"
      ]
     },
     "metadata": {},
     "output_type": "display_data"
    },
    {
     "name": "stdout",
     "output_type": "stream",
     "text": [
      " num [1:951] -3.97 -3.98 -3.99 -4 -4.06 -4.08 -4.08 -4.1 -4.1 -4.11 ...\n"
     ]
    }
   ],
   "source": [
    "str(solTrainXtrans)\n",
    "str(solTrainY)"
   ]
  },
  {
   "cell_type": "code",
   "execution_count": 5,
   "metadata": {
    "scrolled": false
   },
   "outputs": [
    {
     "data": {
      "text/html": [
       "-0.606791704667746"
      ],
      "text/latex": [
       "-0.606791704667746"
      ],
      "text/markdown": [
       "-0.606791704667746"
      ],
      "text/plain": [
       "[1] -0.6067917"
      ]
     },
     "metadata": {},
     "output_type": "display_data"
    }
   ],
   "source": [
    "cor(solTrainXtrans$NumCarbon,solTrainY)"
   ]
  },
  {
   "cell_type": "markdown",
   "metadata": {},
   "source": [
    "`Numeric Outcomes`"
   ]
  },
  {
   "cell_type": "markdown",
   "metadata": {},
   "source": [
    "[A worked example: evaluating the relationship between two hormones](http://content.csbs.utah.edu/~rogers/datanal/labprj/bootstrap/index.html)\n",
    "\n",
    "> 如果变量之间近线性或者曲线相关，那么使用Spearman相关系数更加有效"
   ]
  },
  {
   "cell_type": "code",
   "execution_count": 17,
   "metadata": {
    "scrolled": true
   },
   "outputs": [
    {
     "data": {
      "text/plain": [
       "\n",
       "\tPearson's product-moment correlation\n",
       "\n",
       "data:  solTrainX$NumCarbon and solTrainY\n",
       "t = -22.091, df = 949, p-value < 2.2e-16\n",
       "alternative hypothesis: true correlation is not equal to 0\n",
       "95 percent confidence interval:\n",
       " -0.6232429 -0.5391645\n",
       "sample estimates:\n",
       "       cor \n",
       "-0.5827611 \n"
      ]
     },
     "metadata": {},
     "output_type": "display_data"
    },
    {
     "name": "stderr",
     "output_type": "stream",
     "text": [
      "Warning message in cor.test.default(solTrainX$NumCarbon, solTrainY, method = \"spearman\"):\n",
      "\"Cannot compute exact p-value with ties\""
     ]
    },
    {
     "data": {
      "text/plain": [
       "\n",
       "\tSpearman's rank correlation rho\n",
       "\n",
       "data:  solTrainX$NumCarbon and solTrainY\n",
       "S = 239900000, p-value < 2.2e-16\n",
       "alternative hypothesis: true rho is not equal to 0\n",
       "sample estimates:\n",
       "       rho \n",
       "-0.6735911 \n"
      ]
     },
     "metadata": {},
     "output_type": "display_data"
    }
   ],
   "source": [
    "#Spearman Rank Correlation\n",
    "# cor(solTrainX$NumCarbon,solTrainY)\n",
    "cor.test(solTrainX$NumCarbon,solTrainY, method=\"pearson\")\n",
    "cor.test(solTrainX$NumCarbon,solTrainY, method=\"spearman\")"
   ]
  },
  {
   "cell_type": "markdown",
   "metadata": {},
   "source": [
    "&#x1F4A1;`computing`"
   ]
  },
  {
   "cell_type": "code",
   "execution_count": 2,
   "metadata": {},
   "outputs": [],
   "source": [
    "fp_cols <- grepl(\"FP\",names(solTrainXtrans))\n",
    "numeric_cols <- names(solTrainXtrans)[!fp_cols]\n",
    "\n",
    "corr_info <- apply(solTrainXtrans[,numeric_cols],2,FUN = function(x,y) cor(x,y), y=solTrainY)"
   ]
  },
  {
   "cell_type": "code",
   "execution_count": 3,
   "metadata": {
    "scrolled": true
   },
   "outputs": [
    {
     "data": {
      "text/html": [
       "<dl class=dl-horizontal>\n",
       "\t<dt>MolWeight</dt>\n",
       "\t\t<dd>-0.658528436975193</dd>\n",
       "\t<dt>NumAtoms</dt>\n",
       "\t\t<dd>-0.435811287649687</dd>\n",
       "\t<dt>NumNonHAtoms</dt>\n",
       "\t\t<dd>-0.583623641544185</dd>\n",
       "\t<dt>NumBonds</dt>\n",
       "\t\t<dd>-0.459039487873292</dd>\n",
       "\t<dt>NumNonHBonds</dt>\n",
       "\t\t<dd>-0.585196756045122</dd>\n",
       "\t<dt>NumMultBonds</dt>\n",
       "\t\t<dd>-0.480415932334344</dd>\n",
       "</dl>\n"
      ],
      "text/latex": [
       "\\begin{description*}\n",
       "\\item[MolWeight] -0.658528436975193\n",
       "\\item[NumAtoms] -0.435811287649687\n",
       "\\item[NumNonHAtoms] -0.583623641544185\n",
       "\\item[NumBonds] -0.459039487873292\n",
       "\\item[NumNonHBonds] -0.585196756045122\n",
       "\\item[NumMultBonds] -0.480415932334344\n",
       "\\end{description*}\n"
      ],
      "text/markdown": [
       "MolWeight\n",
       ":   -0.658528436975193NumAtoms\n",
       ":   -0.435811287649687NumNonHAtoms\n",
       ":   -0.583623641544185NumBonds\n",
       ":   -0.459039487873292NumNonHBonds\n",
       ":   -0.585196756045122NumMultBonds\n",
       ":   -0.480415932334344\n",
       "\n"
      ],
      "text/plain": [
       "   MolWeight     NumAtoms NumNonHAtoms     NumBonds NumNonHBonds NumMultBonds \n",
       "  -0.6585284   -0.4358113   -0.5836236   -0.4590395   -0.5851968   -0.4804159 "
      ]
     },
     "metadata": {},
     "output_type": "display_data"
    }
   ],
   "source": [
    "head(corr_info)"
   ]
  },
  {
   "cell_type": "code",
   "execution_count": 3,
   "metadata": {},
   "outputs": [],
   "source": [
    "corr_info_spearman <- apply(solTrainXtrans[,numeric_cols],2,FUN = function(x,y) cor(x,y,method = \"spearman\"), y=solTrainY)"
   ]
  },
  {
   "cell_type": "code",
   "execution_count": 4,
   "metadata": {
    "scrolled": false
   },
   "outputs": [
    {
     "data": {
      "text/html": [
       "<dl class=dl-horizontal>\n",
       "\t<dt>MolWeight</dt>\n",
       "\t\t<dd>-0.685298804347061</dd>\n",
       "\t<dt>NumAtoms</dt>\n",
       "\t\t<dd>-0.519831725683706</dd>\n",
       "\t<dt>NumNonHAtoms</dt>\n",
       "\t\t<dd>-0.629653996477346</dd>\n",
       "\t<dt>NumBonds</dt>\n",
       "\t\t<dd>-0.548398498445747</dd>\n",
       "\t<dt>NumNonHBonds</dt>\n",
       "\t\t<dd>-0.632283660785934</dd>\n",
       "\t<dt>NumMultBonds</dt>\n",
       "\t\t<dd>-0.479713529413778</dd>\n",
       "</dl>\n"
      ],
      "text/latex": [
       "\\begin{description*}\n",
       "\\item[MolWeight] -0.685298804347061\n",
       "\\item[NumAtoms] -0.519831725683706\n",
       "\\item[NumNonHAtoms] -0.629653996477346\n",
       "\\item[NumBonds] -0.548398498445747\n",
       "\\item[NumNonHBonds] -0.632283660785934\n",
       "\\item[NumMultBonds] -0.479713529413778\n",
       "\\end{description*}\n"
      ],
      "text/markdown": [
       "MolWeight\n",
       ":   -0.685298804347061NumAtoms\n",
       ":   -0.519831725683706NumNonHAtoms\n",
       ":   -0.629653996477346NumBonds\n",
       ":   -0.548398498445747NumNonHBonds\n",
       ":   -0.632283660785934NumMultBonds\n",
       ":   -0.479713529413778\n",
       "\n"
      ],
      "text/plain": [
       "   MolWeight     NumAtoms NumNonHAtoms     NumBonds NumNonHBonds NumMultBonds \n",
       "  -0.6852988   -0.5198317   -0.6296540   -0.5483985   -0.6322837   -0.4797135 "
      ]
     },
     "metadata": {},
     "output_type": "display_data"
    }
   ],
   "source": [
    "head(corr_info_spearman)"
   ]
  },
  {
   "cell_type": "code",
   "execution_count": 42,
   "metadata": {},
   "outputs": [
    {
     "data": {
      "text/html": [
       "<table>\n",
       "<thead><tr><th></th><th scope=col>Predictor</th><th scope=col>Correlation</th><th scope=col>RankCorrelation</th></tr></thead>\n",
       "<tbody>\n",
       "\t<tr><th scope=row>MolWeight</th><td>MolWeight   </td><td>-0.6585284  </td><td>-0.6852988  </td></tr>\n",
       "\t<tr><th scope=row>NumAtoms</th><td>NumAtoms    </td><td>-0.4358113  </td><td>-0.5198317  </td></tr>\n",
       "\t<tr><th scope=row>NumNonHAtoms</th><td>NumNonHAtoms</td><td>-0.5836236  </td><td>-0.6296540  </td></tr>\n",
       "\t<tr><th scope=row>NumBonds</th><td>NumBonds    </td><td>-0.4590395  </td><td>-0.5483985  </td></tr>\n",
       "\t<tr><th scope=row>NumNonHBonds</th><td>NumNonHBonds</td><td>-0.5851968  </td><td>-0.6322837  </td></tr>\n",
       "\t<tr><th scope=row>NumMultBonds</th><td>NumMultBonds</td><td>-0.4804159  </td><td>-0.4797135  </td></tr>\n",
       "</tbody>\n",
       "</table>\n"
      ],
      "text/latex": [
       "\\begin{tabular}{r|lll}\n",
       "  & Predictor & Correlation & RankCorrelation\\\\\n",
       "\\hline\n",
       "\tMolWeight & MolWeight    & -0.6585284   & -0.6852988  \\\\\n",
       "\tNumAtoms & NumAtoms     & -0.4358113   & -0.5198317  \\\\\n",
       "\tNumNonHAtoms & NumNonHAtoms & -0.5836236   & -0.6296540  \\\\\n",
       "\tNumBonds & NumBonds     & -0.4590395   & -0.5483985  \\\\\n",
       "\tNumNonHBonds & NumNonHBonds & -0.5851968   & -0.6322837  \\\\\n",
       "\tNumMultBonds & NumMultBonds & -0.4804159   & -0.4797135  \\\\\n",
       "\\end{tabular}\n"
      ],
      "text/markdown": [
       "\n",
       "| <!--/--> | Predictor | Correlation | RankCorrelation | \n",
       "|---|---|---|---|---|---|\n",
       "| MolWeight | MolWeight    | -0.6585284   | -0.6852988   | \n",
       "| NumAtoms | NumAtoms     | -0.4358113   | -0.5198317   | \n",
       "| NumNonHAtoms | NumNonHAtoms | -0.5836236   | -0.6296540   | \n",
       "| NumBonds | NumBonds     | -0.4590395   | -0.5483985   | \n",
       "| NumNonHBonds | NumNonHBonds | -0.5851968   | -0.6322837   | \n",
       "| NumMultBonds | NumMultBonds | -0.4804159   | -0.4797135   | \n",
       "\n",
       "\n"
      ],
      "text/plain": [
       "             Predictor    Correlation RankCorrelation\n",
       "MolWeight    MolWeight    -0.6585284  -0.6852988     \n",
       "NumAtoms     NumAtoms     -0.4358113  -0.5198317     \n",
       "NumNonHAtoms NumNonHAtoms -0.5836236  -0.6296540     \n",
       "NumBonds     NumBonds     -0.4590395  -0.5483985     \n",
       "NumNonHBonds NumNonHBonds -0.5851968  -0.6322837     \n",
       "NumMultBonds NumMultBonds -0.4804159  -0.4797135     "
      ]
     },
     "metadata": {},
     "output_type": "display_data"
    }
   ],
   "source": [
    "corrs <- data.frame(Predictor=names(corr_info),\n",
    "                   Correlation = corr_info,\n",
    "                   RankCorrelation = corr_info_spearman)\n",
    "head(corrs)"
   ]
  },
  {
   "cell_type": "markdown",
   "metadata": {},
   "source": [
    "`LOESS  Locally Weighted Regression`"
   ]
  },
  {
   "cell_type": "code",
   "execution_count": 5,
   "metadata": {},
   "outputs": [
    {
     "data": {
      "text/plain": [
       "Call:\n",
       "loess(formula = solTrainY ~ solTrainXtrans$NumCarbon)\n",
       "\n",
       "Number of Observations: 951 \n",
       "Equivalent Number of Parameters: 5.3 \n",
       "Residual Standard Error: 1.548 "
      ]
     },
     "metadata": {},
     "output_type": "display_data"
    }
   ],
   "source": [
    "smoother <- loess(solTrainY~solTrainXtrans$NumCarbon)\n",
    "smoother"
   ]
  },
  {
   "cell_type": "code",
   "execution_count": 6,
   "metadata": {
    "scrolled": true
   },
   "outputs": [
    {
     "data": {},
     "metadata": {},
     "output_type": "display_data"
    },
    {
     "data": {
      "image/png": "[encoded data removed]",
      "text/plain": [
       "plot without title"
      ]
     },
     "metadata": {},
     "output_type": "display_data"
    }
   ],
   "source": [
    "library(lattice)\n",
    "xyplot(solTrainY~solTrainXtrans$NumCarbon,\n",
    "       type=c(\"p\",\"smooth\"),\n",
    "       xlab=\"#Carbon\",\n",
    "       ylab=\"Solubility\")"
   ]
  },
  {
   "cell_type": "code",
   "execution_count": 21,
   "metadata": {
    "scrolled": true
   },
   "outputs": [
    {
     "data": {
      "text/html": [
       "<table>\n",
       "<thead><tr><th></th><th scope=col>Smoother</th></tr></thead>\n",
       "<tbody>\n",
       "\t<tr><th scope=row>MolWeight</th><td>0.4443931</td></tr>\n",
       "\t<tr><th scope=row>NumAtoms</th><td>0.1899315</td></tr>\n",
       "\t<tr><th scope=row>NumNonHAtoms</th><td>0.3406166</td></tr>\n",
       "\t<tr><th scope=row>NumBonds</th><td>0.2107173</td></tr>\n",
       "\t<tr><th scope=row>NumNonHBonds</th><td>0.3424552</td></tr>\n",
       "\t<tr><th scope=row>NumMultBonds</th><td>0.2307995</td></tr>\n",
       "</tbody>\n",
       "</table>\n"
      ],
      "text/latex": [
       "\\begin{tabular}{r|l}\n",
       "  & Smoother\\\\\n",
       "\\hline\n",
       "\tMolWeight & 0.4443931\\\\\n",
       "\tNumAtoms & 0.1899315\\\\\n",
       "\tNumNonHAtoms & 0.3406166\\\\\n",
       "\tNumBonds & 0.2107173\\\\\n",
       "\tNumNonHBonds & 0.3424552\\\\\n",
       "\tNumMultBonds & 0.2307995\\\\\n",
       "\\end{tabular}\n"
      ],
      "text/markdown": [
       "\n",
       "| <!--/--> | Smoother | \n",
       "|---|---|---|---|---|---|\n",
       "| MolWeight | 0.4443931 | \n",
       "| NumAtoms | 0.1899315 | \n",
       "| NumNonHAtoms | 0.3406166 | \n",
       "| NumBonds | 0.2107173 | \n",
       "| NumNonHBonds | 0.3424552 | \n",
       "| NumMultBonds | 0.2307995 | \n",
       "\n",
       "\n"
      ],
      "text/plain": [
       "             Smoother \n",
       "MolWeight    0.4443931\n",
       "NumAtoms     0.1899315\n",
       "NumNonHAtoms 0.3406166\n",
       "NumBonds     0.2107173\n",
       "NumNonHBonds 0.3424552\n",
       "NumMultBonds 0.2307995"
      ]
     },
     "metadata": {},
     "output_type": "display_data"
    }
   ],
   "source": [
    "library(caret)\n",
    "varimp_loess <- filterVarImp(x=solTrainXtrans[,numeric_cols],\n",
    "                            y=solTrainY,nonpara=T)\n",
    "head(varimp_loess)\n",
    "names(varimp_loess)[1] <- \"Smoother\""
   ]
  },
  {
   "cell_type": "code",
   "execution_count": 11,
   "metadata": {
    "scrolled": true
   },
   "outputs": [
    {
     "data": {
      "text/html": [
       "<ol class=list-inline>\n",
       "\t<li>'MIC'</li>\n",
       "\t<li>'MAS'</li>\n",
       "\t<li>'MEV'</li>\n",
       "\t<li>'MCN'</li>\n",
       "\t<li>'MICR2'</li>\n",
       "\t<li>'GMIC'</li>\n",
       "\t<li>'TIC'</li>\n",
       "</ol>\n"
      ],
      "text/latex": [
       "\\begin{enumerate*}\n",
       "\\item 'MIC'\n",
       "\\item 'MAS'\n",
       "\\item 'MEV'\n",
       "\\item 'MCN'\n",
       "\\item 'MICR2'\n",
       "\\item 'GMIC'\n",
       "\\item 'TIC'\n",
       "\\end{enumerate*}\n"
      ],
      "text/markdown": [
       "1. 'MIC'\n",
       "2. 'MAS'\n",
       "3. 'MEV'\n",
       "4. 'MCN'\n",
       "5. 'MICR2'\n",
       "6. 'GMIC'\n",
       "7. 'TIC'\n",
       "\n",
       "\n"
      ],
      "text/plain": [
       "[1] \"MIC\"   \"MAS\"   \"MEV\"   \"MCN\"   \"MICR2\" \"GMIC\"  \"TIC\"  "
      ]
     },
     "metadata": {},
     "output_type": "display_data"
    },
    {
     "data": {
      "text/html": [
       "<table>\n",
       "<thead><tr><th></th><th scope=col>Y</th></tr></thead>\n",
       "<tbody>\n",
       "\t<tr><th scope=row>MolWeight</th><td>0.4679277</td></tr>\n",
       "\t<tr><th scope=row>NumAtoms</th><td>0.2896815</td></tr>\n",
       "\t<tr><th scope=row>NumNonHAtoms</th><td>0.3947092</td></tr>\n",
       "\t<tr><th scope=row>NumBonds</th><td>0.3268683</td></tr>\n",
       "\t<tr><th scope=row>NumNonHBonds</th><td>0.3919627</td></tr>\n",
       "\t<tr><th scope=row>NumMultBonds</th><td>0.2792600</td></tr>\n",
       "</tbody>\n",
       "</table>\n"
      ],
      "text/latex": [
       "\\begin{tabular}{r|l}\n",
       "  & Y\\\\\n",
       "\\hline\n",
       "\tMolWeight & 0.4679277\\\\\n",
       "\tNumAtoms & 0.2896815\\\\\n",
       "\tNumNonHAtoms & 0.3947092\\\\\n",
       "\tNumBonds & 0.3268683\\\\\n",
       "\tNumNonHBonds & 0.3919627\\\\\n",
       "\tNumMultBonds & 0.2792600\\\\\n",
       "\\end{tabular}\n"
      ],
      "text/markdown": [
       "\n",
       "| <!--/--> | Y | \n",
       "|---|---|---|---|---|---|\n",
       "| MolWeight | 0.4679277 | \n",
       "| NumAtoms | 0.2896815 | \n",
       "| NumNonHAtoms | 0.3947092 | \n",
       "| NumBonds | 0.3268683 | \n",
       "| NumNonHBonds | 0.3919627 | \n",
       "| NumMultBonds | 0.2792600 | \n",
       "\n",
       "\n"
      ],
      "text/plain": [
       "             Y        \n",
       "MolWeight    0.4679277\n",
       "NumAtoms     0.2896815\n",
       "NumNonHAtoms 0.3947092\n",
       "NumBonds     0.3268683\n",
       "NumNonHBonds 0.3919627\n",
       "NumMultBonds 0.2792600"
      ]
     },
     "metadata": {},
     "output_type": "display_data"
    }
   ],
   "source": [
    "# install.packages(\"minerva\")\n",
    "library(minerva)\n",
    "mic_info <- mine(solTrainXtrans[,numeric_cols],solTrainY)\n",
    "names(mic_info)\n",
    "head(mic_info$MIC)"
   ]
  },
  {
   "cell_type": "code",
   "execution_count": 53,
   "metadata": {},
   "outputs": [],
   "source": [
    "## The Relief values for regression can be computed using the CORElearn\n",
    "\n",
    "# SolContPred <- solTrainXtrans[, !grepl(\"FP\", names(solTrainXtrans))]\n",
    "# numSolPred <- ncol(SolContPred)\n",
    "# SolContPred$Sol <- solTrainY\n",
    "# library(CORElearn)\n",
    "\n",
    "ReliefF <- CORElearn::attrEval(Sol~.,data=SolContPred,estimator = \"RReliefFequalK\")\n",
    "ReliefF <- data.frame(Predictor=names(ReliefF),Relief=ReliefF)"
   ]
  },
  {
   "cell_type": "code",
   "execution_count": 73,
   "metadata": {
    "scrolled": false
   },
   "outputs": [
    {
     "data": {
      "text/html": [
       "<ol class=list-inline>\n",
       "\t<li>20</li>\n",
       "\t<li>1</li>\n",
       "</ol>\n"
      ],
      "text/latex": [
       "\\begin{enumerate*}\n",
       "\\item 20\n",
       "\\item 1\n",
       "\\end{enumerate*}\n"
      ],
      "text/markdown": [
       "1. 20\n",
       "2. 1\n",
       "\n",
       "\n"
      ],
      "text/plain": [
       "[1] 20  1"
      ]
     },
     "metadata": {},
     "output_type": "display_data"
    }
   ],
   "source": [
    "dim(varimp_loess)"
   ]
  },
  {
   "cell_type": "code",
   "execution_count": 77,
   "metadata": {},
   "outputs": [
    {
     "data": {
      "text/html": [
       "<table>\n",
       "<thead><tr><th></th><th scope=col>Smoother</th><th scope=col>Predictor</th><th scope=col>Correlation</th><th scope=col>RankCorrelation</th><th scope=col>MIC</th><th scope=col>Predictor</th><th scope=col>Relief</th></tr></thead>\n",
       "<tbody>\n",
       "\t<tr><th scope=row>MolWeight</th><td>0.4443931   </td><td>MolWeight   </td><td>-0.6585284  </td><td>-0.6852988  </td><td>0.4679277   </td><td>MolWeight   </td><td>0.084734907 </td></tr>\n",
       "\t<tr><th scope=row>NumAtoms</th><td>0.1899315   </td><td>NumAtoms    </td><td>-0.4358113  </td><td>-0.5198317  </td><td>0.2896815   </td><td>NumAtoms    </td><td>0.008618179 </td></tr>\n",
       "\t<tr><th scope=row>NumNonHAtoms</th><td>0.3406166   </td><td>NumNonHAtoms</td><td>-0.5836236  </td><td>-0.6296540  </td><td>0.3947092   </td><td>NumNonHAtoms</td><td>0.036433860 </td></tr>\n",
       "\t<tr><th scope=row>NumBonds</th><td>0.2107173   </td><td>NumBonds    </td><td>-0.4590395  </td><td>-0.5483985  </td><td>0.3268683   </td><td>NumBonds    </td><td>0.002422405 </td></tr>\n",
       "\t<tr><th scope=row>NumNonHBonds</th><td>0.3424552   </td><td>NumNonHBonds</td><td>-0.5851968  </td><td>-0.6322837  </td><td>0.3919627   </td><td>NumNonHBonds</td><td>0.035619406 </td></tr>\n",
       "\t<tr><th scope=row>NumMultBonds</th><td>0.2307995   </td><td>NumMultBonds</td><td>-0.4804159  </td><td>-0.4797135  </td><td>0.2792600   </td><td>NumMultBonds</td><td>0.051554380 </td></tr>\n",
       "</tbody>\n",
       "</table>\n"
      ],
      "text/latex": [
       "\\begin{tabular}{r|lllllll}\n",
       "  & Smoother & Predictor & Correlation & RankCorrelation & MIC & Predictor & Relief\\\\\n",
       "\\hline\n",
       "\tMolWeight & 0.4443931    & MolWeight    & -0.6585284   & -0.6852988   & 0.4679277    & MolWeight    & 0.084734907 \\\\\n",
       "\tNumAtoms & 0.1899315    & NumAtoms     & -0.4358113   & -0.5198317   & 0.2896815    & NumAtoms     & 0.008618179 \\\\\n",
       "\tNumNonHAtoms & 0.3406166    & NumNonHAtoms & -0.5836236   & -0.6296540   & 0.3947092    & NumNonHAtoms & 0.036433860 \\\\\n",
       "\tNumBonds & 0.2107173    & NumBonds     & -0.4590395   & -0.5483985   & 0.3268683    & NumBonds     & 0.002422405 \\\\\n",
       "\tNumNonHBonds & 0.3424552    & NumNonHBonds & -0.5851968   & -0.6322837   & 0.3919627    & NumNonHBonds & 0.035619406 \\\\\n",
       "\tNumMultBonds & 0.2307995    & NumMultBonds & -0.4804159   & -0.4797135   & 0.2792600    & NumMultBonds & 0.051554380 \\\\\n",
       "\\end{tabular}\n"
      ],
      "text/markdown": [
       "\n",
       "| <!--/--> | Smoother | Predictor | Correlation | RankCorrelation | MIC | Predictor | Relief | \n",
       "|---|---|---|---|---|---|\n",
       "| MolWeight | 0.4443931    | MolWeight    | -0.6585284   | -0.6852988   | 0.4679277    | MolWeight    | 0.084734907  | \n",
       "| NumAtoms | 0.1899315    | NumAtoms     | -0.4358113   | -0.5198317   | 0.2896815    | NumAtoms     | 0.008618179  | \n",
       "| NumNonHAtoms | 0.3406166    | NumNonHAtoms | -0.5836236   | -0.6296540   | 0.3947092    | NumNonHAtoms | 0.036433860  | \n",
       "| NumBonds | 0.2107173    | NumBonds     | -0.4590395   | -0.5483985   | 0.3268683    | NumBonds     | 0.002422405  | \n",
       "| NumNonHBonds | 0.3424552    | NumNonHBonds | -0.5851968   | -0.6322837   | 0.3919627    | NumNonHBonds | 0.035619406  | \n",
       "| NumMultBonds | 0.2307995    | NumMultBonds | -0.4804159   | -0.4797135   | 0.2792600    | NumMultBonds | 0.051554380  | \n",
       "\n",
       "\n"
      ],
      "text/plain": [
       "             Smoother  Predictor    Correlation RankCorrelation MIC      \n",
       "MolWeight    0.4443931 MolWeight    -0.6585284  -0.6852988      0.4679277\n",
       "NumAtoms     0.1899315 NumAtoms     -0.4358113  -0.5198317      0.2896815\n",
       "NumNonHAtoms 0.3406166 NumNonHAtoms -0.5836236  -0.6296540      0.3947092\n",
       "NumBonds     0.2107173 NumBonds     -0.4590395  -0.5483985      0.3268683\n",
       "NumNonHBonds 0.3424552 NumNonHBonds -0.5851968  -0.6322837      0.3919627\n",
       "NumMultBonds 0.2307995 NumMultBonds -0.4804159  -0.4797135      0.2792600\n",
       "             Predictor    Relief     \n",
       "MolWeight    MolWeight    0.084734907\n",
       "NumAtoms     NumAtoms     0.008618179\n",
       "NumNonHAtoms NumNonHAtoms 0.036433860\n",
       "NumBonds     NumBonds     0.002422405\n",
       "NumNonHBonds NumNonHBonds 0.035619406\n",
       "NumMultBonds NumMultBonds 0.051554380"
      ]
     },
     "metadata": {},
     "output_type": "display_data"
    }
   ],
   "source": [
    "## Combine all\n",
    "contDescrScores <- cbind(varimp_loess,corrs)\n",
    "contDescrScores <- cbind(contDescrScores,mic_info$MIC)\n",
    "contDescrScores <- cbind(contDescrScores,ReliefF)\n",
    "names(contDescrScores)[5] <- c(\"MIC\")\n",
    "head(contDescrScores)"
   ]
  },
  {
   "cell_type": "code",
   "execution_count": 78,
   "metadata": {},
   "outputs": [],
   "source": [
    "df_splom <- contDescrScores\n",
    "df_splom$Correlation <- abs(contDescrScores$Correlation)\n",
    "df_splom$RankCorrelation <- abs(contDescrScores$RankCorrelation)\n",
    "df_splom$Group <- \"Other\"\n",
    "df_splom$Group[grepl(\"Surface\",df_splom$Predictor)] <- \"SA\""
   ]
  },
  {
   "cell_type": "code",
   "execution_count": 79,
   "metadata": {},
   "outputs": [
    {
     "data": {},
     "metadata": {},
     "output_type": "display_data"
    },
    {
     "ename": "ERROR",
     "evalue": "Error in png(tf, width, height, \"in\", pointsize, bg, res, antialias = antialias): 无法启动png()装置\n",
     "output_type": "error",
     "traceback": [
      "Error in png(tf, width, height, \"in\", pointsize, bg, res, antialias = antialias): 无法启动png()装置\nTraceback:\n"
     ]
    },
    {
     "data": {
      "text/plain": [
       "plot without title"
      ]
     },
     "metadata": {},
     "output_type": "display_data"
    }
   ],
   "source": [
    "splom(~df_splom[,c(3,4,2,5)],\n",
    "     groups=df_splom$Group,\n",
    "     varnames=c(\"Correlation\", \"Rank\\nCorrelation\", \"LOESS\", \"MIC\"))"
   ]
  },
  {
   "cell_type": "code",
   "execution_count": 60,
   "metadata": {
    "scrolled": true
   },
   "outputs": [
    {
     "data": {},
     "metadata": {},
     "output_type": "display_data"
    },
    {
     "data": {
      "image/png": "[encoded data removed]",
      "text/plain": [
       "plot without title"
      ]
     },
     "metadata": {},
     "output_type": "display_data"
    }
   ],
   "source": [
    "featurePlot(solTrainXtrans[,c(\"NumCarbon\",\"SurfaceArea2\")],\n",
    "           solTrainY,between=list(x=1),\n",
    "           type=c(\"g\",\"p\",\"smooth\"),\n",
    "           df=3,aspect=1,labels=c(\"\",\"Solubility\"))"
   ]
  },
  {
   "cell_type": "code",
   "execution_count": 13,
   "metadata": {
    "scrolled": false
   },
   "outputs": [
    {
     "data": {
      "text/plain": [
       "\n",
       "\tWelch Two Sample t-test\n",
       "\n",
       "data:  solTrainY by solTrainXtrans$FP044\n",
       "t = 15.198, df = 61.891, p-value < 2.2e-16\n",
       "alternative hypothesis: true difference in means is not equal to 0\n",
       "95 percent confidence interval:\n",
       " 3.569300 4.650437\n",
       "sample estimates:\n",
       "mean in group 0 mean in group 1 \n",
       "      -2.472237       -6.582105 \n"
      ]
     },
     "metadata": {},
     "output_type": "display_data"
    }
   ],
   "source": [
    "#for  categorical vars\n",
    "t.test(solTrainY~solTrainXtrans$FP044)"
   ]
  },
  {
   "cell_type": "code",
   "execution_count": 15,
   "metadata": {},
   "outputs": [
    {
     "name": "stdout",
     "output_type": "stream",
     "text": [
      "List of 9\n",
      " $ statistic  : Named num 15.2\n",
      "  ..- attr(*, \"names\")= chr \"t\"\n",
      " $ parameter  : Named num 61.9\n",
      "  ..- attr(*, \"names\")= chr \"df\"\n",
      " $ p.value    : num 1.46e-22\n",
      " $ conf.int   : num [1:2] 3.57 4.65\n",
      "  ..- attr(*, \"conf.level\")= num 0.95\n",
      " $ estimate   : Named num [1:2] -2.47 -6.58\n",
      "  ..- attr(*, \"names\")= chr [1:2] \"mean in group 0\" \"mean in group 1\"\n",
      " $ null.value : Named num 0\n",
      "  ..- attr(*, \"names\")= chr \"difference in means\"\n",
      " $ alternative: chr \"two.sided\"\n",
      " $ method     : chr \"Welch Two Sample t-test\"\n",
      " $ data.name  : chr \"solTrainY by solTrainXtrans$FP044\"\n",
      " - attr(*, \"class\")= chr \"htest\"\n"
     ]
    }
   ],
   "source": [
    "str(t.test(solTrainY~solTrainXtrans$FP044))"
   ]
  },
  {
   "cell_type": "code",
   "execution_count": 17,
   "metadata": {
    "scrolled": false
   },
   "outputs": [
    {
     "data": {
      "text/html": [
       "<table>\n",
       "<thead><tr><th></th><th scope=col>tStat.t</th><th scope=col>p</th></tr></thead>\n",
       "<tbody>\n",
       "\t<tr><th scope=row>FP001</th><td>-4.022040   </td><td>6.287404e-05</td></tr>\n",
       "\t<tr><th scope=row>FP002</th><td>10.286727   </td><td>1.351580e-23</td></tr>\n",
       "\t<tr><th scope=row>FP003</th><td>-2.036442   </td><td>4.198619e-02</td></tr>\n",
       "\t<tr><th scope=row>FP004</th><td>-4.948958   </td><td>9.551772e-07</td></tr>\n",
       "\t<tr><th scope=row>FP005</th><td>10.282475   </td><td>1.576549e-23</td></tr>\n",
       "\t<tr><th scope=row>FP006</th><td>-7.875838   </td><td>9.287835e-15</td></tr>\n",
       "</tbody>\n",
       "</table>\n"
      ],
      "text/latex": [
       "\\begin{tabular}{r|ll}\n",
       "  & tStat.t & p\\\\\n",
       "\\hline\n",
       "\tFP001 & -4.022040    & 6.287404e-05\\\\\n",
       "\tFP002 & 10.286727    & 1.351580e-23\\\\\n",
       "\tFP003 & -2.036442    & 4.198619e-02\\\\\n",
       "\tFP004 & -4.948958    & 9.551772e-07\\\\\n",
       "\tFP005 & 10.282475    & 1.576549e-23\\\\\n",
       "\tFP006 & -7.875838    & 9.287835e-15\\\\\n",
       "\\end{tabular}\n"
      ],
      "text/markdown": [
       "\n",
       "| <!--/--> | tStat.t | p | \n",
       "|---|---|---|---|---|---|\n",
       "| FP001 | -4.022040    | 6.287404e-05 | \n",
       "| FP002 | 10.286727    | 1.351580e-23 | \n",
       "| FP003 | -2.036442    | 4.198619e-02 | \n",
       "| FP004 | -4.948958    | 9.551772e-07 | \n",
       "| FP005 | 10.282475    | 1.576549e-23 | \n",
       "| FP006 | -7.875838    | 9.287835e-15 | \n",
       "\n",
       "\n"
      ],
      "text/plain": [
       "      tStat.t   p           \n",
       "FP001 -4.022040 6.287404e-05\n",
       "FP002 10.286727 1.351580e-23\n",
       "FP003 -2.036442 4.198619e-02\n",
       "FP004 -4.948958 9.551772e-07\n",
       "FP005 10.282475 1.576549e-23\n",
       "FP006 -7.875838 9.287835e-15"
      ]
     },
     "metadata": {},
     "output_type": "display_data"
    }
   ],
   "source": [
    "getTstats <- function(x,y)\n",
    "    {\n",
    "    tTest <- t.test(y~x)\n",
    "    out <- c(tStat = tTest$statistic,p=tTest$p.value)\n",
    "    out\n",
    "}\n",
    "\n",
    "t_info <- apply(solTrainXtrans[,fp_cols],MARGIN = 2,FUN = getTstats,y=solTrainY)\n",
    "t_info <- t(t_info)\n",
    "head(t_info)"
   ]
  },
  {
   "cell_type": "code",
   "execution_count": null,
   "metadata": {},
   "outputs": [],
   "source": [
    "## Now look at the categorical (i.e. binary) predictors\n",
    "SolCatPred <- solTrainXtrans[, grepl(\"FP\", names(solTrainXtrans))]\n",
    "SolCatPred$Sol <- solTrainY\n",
    "numSolCatPred <- ncol(SolCatPred) - 1\n",
    "\n",
    "tests <- apply(SolCatPred[, 1:numSolCatPred], 2,\n",
    "                  function(x, y)\n",
    "                    {\n",
    "                    tStats <- t.test(y ~ x)[c(\"statistic\", \"p.value\", \"estimate\")]\n",
    "                    unlist(tStats)\n",
    "                    },\n",
    "               y = solTrainY)\n",
    "## The results are a matrix with predictors in columns. We reverse this\n",
    "tests <- as.data.frame(t(tests))\n",
    "names(tests) <- c(\"t.Statistic\", \"t.test_p.value\", \"mean0\", \"mean1\")\n",
    "tests$difference <- tests$mean1 - tests$mean0\n",
    "tests\n",
    "\n",
    "## Create a volcano plot\n",
    "\n",
    "xyplot(-log10(t.test_p.value) ~ difference,\n",
    "       data = tests,\n",
    "       xlab = \"Mean With Structure - Mean Without Structure\",\n",
    "       ylab = \"-log(p-Value)\",\n",
    "       type = \"p\")\n"
   ]
  },
  {
   "cell_type": "markdown",
   "metadata": {},
   "source": [
    "> 决定每个二进制预测变量之间关系的最直接的方法是检测每类中结构变量均值是否有差异。\n",
    "\n",
    "> 比较两组均值最自然地方法是标准t统计量，期本质上就是一个信号和噪音的比例（均值差除以两组方差的函数）。检验p值对应的零假设是\"两组间没有显著差异\"。该统计量建立在数据是正态分布的假设上。如果数据分布不符合该假设，或许可以使用其他更和更合适的方法（如Wilcoxon秩和检验）\n",
    "\n",
    "> 哪个预测变量更重要取决于具体环境和数据。如果信号足够大，模型可能可以克服噪声的干扰，在其他情况下，更小但是更精确的差别可能给出更好的表现。\n",
    "\n",
    "> 当预测变量对应的类多于2个是，可以用方差分析ANOVA的方法探索预测变量的统计显著性，然而，如果检测结果表明各类别对应的均值存在不同，下一步要做的事探索哪里不同。处于此原因，我们需要将该分类变量准化为几个0-1虚拟变量然后用前面的方法决定每一类和结果变量的关联。"
   ]
  }
 ],
 "metadata": {
  "kernelspec": {
   "display_name": "R",
   "language": "R",
   "name": "ir"
  },
  "language_info": {
   "codemirror_mode": "r",
   "file_extension": ".r",
   "mimetype": "text/x-r-source",
   "name": "R",
   "pygments_lexer": "r",
   "version": "3.5.1"
  },
  "latex_envs": {
   "LaTeX_envs_menu_present": true,
   "autoclose": false,
   "autocomplete": true,
   "bibliofile": "biblio.bib",
   "cite_by": "apalike",
   "current_citInitial": 1,
   "eqLabelWithNumbers": true,
   "eqNumInitial": 1,
   "hotkeys": {
    "equation": "Ctrl-E",
    "itemize": "Ctrl-I"
   },
   "labels_anchors": false,
   "latex_user_defs": false,
   "report_style_numbering": false,
   "user_envs_cfg": false
  },
  "toc": {
   "base_numbering": 1,
   "nav_menu": {},
   "number_sections": true,
   "sideBar": true,
   "skip_h1_title": false,
   "title_cell": "Table of Contents",
   "title_sidebar": "Contents",
   "toc_cell": false,
   "toc_position": {},
   "toc_section_display": true,
   "toc_window_display": false
  }
 },
 "nbformat": 4,
 "nbformat_minor": 2
}
