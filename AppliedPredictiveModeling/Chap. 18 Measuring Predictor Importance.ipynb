{
 "cells": [
  {
   "cell_type": "markdown",
   "metadata": {},
   "source": [
    "> As the number of attributes becomes large, exploratory analysis of the all the predictors may be infeasible and concentrating on those with strong relationships with the outcome may be an effective triaging strategy. "
   ]
  },
  {
   "cell_type": "code",
   "execution_count": 2,
   "metadata": {},
   "outputs": [],
   "source": [
    "library(AppliedPredictiveModeling)\n",
    "data(solubility)"
   ]
  },
  {
   "cell_type": "code",
   "execution_count": 2,
   "metadata": {
    "scrolled": false
   },
   "outputs": [
    {
     "data": {
      "text/html": [
       "<ol class=list-inline>\n",
       "\t<li>'solTestX'</li>\n",
       "\t<li>'solTestXtrans'</li>\n",
       "\t<li>'solTestY'</li>\n",
       "\t<li>'solTrainX'</li>\n",
       "\t<li>'solTrainXtrans'</li>\n",
       "\t<li>'solTrainY'</li>\n",
       "</ol>\n"
      ],
      "text/latex": [
       "\\begin{enumerate*}\n",
       "\\item 'solTestX'\n",
       "\\item 'solTestXtrans'\n",
       "\\item 'solTestY'\n",
       "\\item 'solTrainX'\n",
       "\\item 'solTrainXtrans'\n",
       "\\item 'solTrainY'\n",
       "\\end{enumerate*}\n"
      ],
      "text/markdown": [
       "1. 'solTestX'\n",
       "2. 'solTestXtrans'\n",
       "3. 'solTestY'\n",
       "4. 'solTrainX'\n",
       "5. 'solTrainXtrans'\n",
       "6. 'solTrainY'\n",
       "\n",
       "\n"
      ],
      "text/plain": [
       "[1] \"solTestX\"       \"solTestXtrans\"  \"solTestY\"       \"solTrainX\"     \n",
       "[5] \"solTrainXtrans\" \"solTrainY\"     "
      ]
     },
     "metadata": {},
     "output_type": "display_data"
    }
   ],
   "source": [
    "ls()"
   ]
  },
  {
   "cell_type": "code",
   "execution_count": 4,
   "metadata": {
    "scrolled": true
   },
   "outputs": [
    {
     "name": "stdout",
     "output_type": "stream",
     "text": [
      "'data.frame':\t951 obs. of  228 variables:\n",
      " $ FP001            : int  0 0 1 0 0 1 0 1 1 1 ...\n",
      " $ FP002            : int  1 1 1 0 0 0 1 0 0 1 ...\n",
      " $ FP003            : int  0 0 1 1 1 1 0 1 1 1 ...\n",
      " $ FP004            : int  0 1 1 0 1 1 1 1 1 1 ...\n",
      " $ FP005            : int  1 1 1 0 1 0 1 0 0 1 ...\n",
      " $ FP006            : int  0 1 0 0 1 0 0 0 1 1 ...\n",
      " $ FP007            : int  0 1 0 1 0 0 0 1 1 1 ...\n",
      " $ FP008            : int  1 1 1 0 0 0 1 0 0 0 ...\n",
      " $ FP009            : int  0 0 0 0 1 1 1 0 1 0 ...\n",
      " $ FP010            : int  0 0 1 0 0 0 0 0 0 0 ...\n",
      " $ FP011            : int  0 1 0 0 0 0 0 0 1 0 ...\n",
      " $ FP012            : int  0 0 0 0 0 1 0 1 0 0 ...\n",
      " $ FP013            : int  0 0 0 0 1 0 1 0 0 0 ...\n",
      " $ FP014            : int  0 0 0 0 0 0 1 0 0 0 ...\n",
      " $ FP015            : int  1 1 1 1 1 1 1 1 1 1 ...\n",
      " $ FP016            : int  0 1 0 0 1 1 0 1 0 0 ...\n",
      " $ FP017            : int  0 0 1 1 0 0 0 0 1 1 ...\n",
      " $ FP018            : int  0 1 0 0 0 0 0 0 0 0 ...\n",
      " $ FP019            : int  1 0 0 0 1 0 1 0 0 0 ...\n",
      " $ FP020            : int  0 0 0 0 0 0 0 0 0 0 ...\n",
      " $ FP021            : int  0 0 0 0 0 1 0 0 1 0 ...\n",
      " $ FP022            : int  0 0 0 0 0 0 0 0 0 1 ...\n",
      " $ FP023            : int  0 0 0 1 0 0 0 0 1 0 ...\n",
      " $ FP024            : int  1 0 0 0 1 0 0 0 0 0 ...\n",
      " $ FP025            : int  0 0 1 0 0 0 0 0 0 0 ...\n",
      " $ FP026            : int  1 0 0 0 0 0 1 0 0 0 ...\n",
      " $ FP027            : int  0 0 0 0 0 0 0 0 0 1 ...\n",
      " $ FP028            : int  0 1 0 0 0 0 0 0 1 1 ...\n",
      " $ FP029            : int  0 0 0 0 0 0 0 0 0 0 ...\n",
      " $ FP030            : int  0 0 0 0 1 0 0 0 0 0 ...\n",
      " $ FP031            : int  0 0 0 0 0 0 0 1 0 0 ...\n",
      " $ FP032            : int  0 0 0 0 0 0 0 0 0 0 ...\n",
      " $ FP033            : int  0 0 0 0 0 0 0 0 0 0 ...\n",
      " $ FP034            : int  0 0 0 0 1 0 0 0 0 1 ...\n",
      " $ FP035            : int  0 0 0 0 0 0 0 0 1 0 ...\n",
      " $ FP036            : int  0 0 0 0 0 0 0 0 0 0 ...\n",
      " $ FP037            : int  0 0 0 0 0 0 0 0 1 0 ...\n",
      " $ FP038            : int  0 0 1 0 0 0 0 0 0 0 ...\n",
      " $ FP039            : int  1 0 0 0 0 0 0 0 0 0 ...\n",
      " $ FP040            : int  1 0 0 0 0 0 0 0 0 0 ...\n",
      " $ FP041            : int  0 0 0 1 0 0 0 0 1 0 ...\n",
      " $ FP042            : int  0 0 0 0 0 0 0 0 0 0 ...\n",
      " $ FP043            : int  0 1 0 0 0 0 0 0 0 0 ...\n",
      " $ FP044            : int  0 0 0 0 0 0 0 0 0 0 ...\n",
      " $ FP045            : int  0 0 1 0 0 0 0 0 0 0 ...\n",
      " $ FP046            : int  0 1 0 0 0 0 1 0 0 1 ...\n",
      " $ FP047            : int  0 1 1 0 0 0 1 0 0 0 ...\n",
      " $ FP048            : int  0 0 0 0 0 0 0 1 0 0 ...\n",
      " $ FP049            : int  0 0 0 0 0 0 1 0 0 0 ...\n",
      " $ FP050            : int  0 0 0 0 0 0 0 1 0 1 ...\n",
      " $ FP051            : int  0 1 0 0 0 0 0 0 0 0 ...\n",
      " $ FP052            : int  0 0 0 0 0 0 0 0 0 1 ...\n",
      " $ FP053            : int  0 0 0 0 0 0 1 0 0 0 ...\n",
      " $ FP054            : int  0 0 0 1 0 0 0 0 1 1 ...\n",
      " $ FP055            : int  0 0 0 0 0 0 0 0 0 0 ...\n",
      " $ FP056            : int  1 0 0 0 0 0 0 0 0 0 ...\n",
      " $ FP057            : int  0 0 0 0 0 0 1 0 0 0 ...\n",
      " $ FP058            : int  0 0 0 0 0 0 0 0 0 1 ...\n",
      " $ FP059            : int  0 0 0 0 0 0 0 1 0 0 ...\n",
      " $ FP060            : int  0 1 1 0 0 0 0 1 1 0 ...\n",
      " $ FP061            : int  0 0 1 0 0 0 0 1 1 0 ...\n",
      " $ FP062            : int  0 0 1 0 0 1 0 1 1 1 ...\n",
      " $ FP063            : int  1 1 0 0 1 1 1 0 0 1 ...\n",
      " $ FP064            : int  0 1 1 0 1 1 0 1 0 0 ...\n",
      " $ FP065            : int  1 1 0 0 1 0 1 0 1 1 ...\n",
      " $ FP066            : int  1 0 1 1 1 1 1 1 1 1 ...\n",
      " $ FP067            : int  1 1 0 0 1 1 1 0 0 1 ...\n",
      " $ FP068            : int  0 1 0 0 1 1 1 0 0 1 ...\n",
      " $ FP069            : int  1 0 1 1 1 1 0 1 1 0 ...\n",
      " $ FP070            : int  1 1 0 1 0 0 1 0 1 0 ...\n",
      " $ FP071            : int  0 0 0 0 0 0 1 0 1 1 ...\n",
      " $ FP072            : int  0 1 1 0 0 1 0 1 1 1 ...\n",
      " $ FP073            : int  0 1 1 0 0 0 0 0 1 0 ...\n",
      " $ FP074            : int  0 1 0 0 0 0 0 0 1 0 ...\n",
      " $ FP075            : int  0 1 0 0 1 1 1 0 0 1 ...\n",
      " $ FP076            : int  1 1 0 0 0 0 1 0 1 1 ...\n",
      " $ FP077            : int  0 1 0 1 0 0 0 1 1 1 ...\n",
      " $ FP078            : int  0 1 0 0 0 0 0 0 1 0 ...\n",
      " $ FP079            : int  1 1 1 1 1 0 1 0 1 1 ...\n",
      " $ FP080            : int  0 1 0 0 1 1 1 1 0 0 ...\n",
      " $ FP081            : int  0 0 1 1 0 0 0 1 1 1 ...\n",
      " $ FP082            : int  1 1 1 0 1 1 1 0 1 1 ...\n",
      " $ FP083            : int  0 0 0 0 1 0 0 0 0 1 ...\n",
      " $ FP084            : int  1 1 0 0 1 0 1 0 0 0 ...\n",
      " $ FP085            : int  0 1 0 0 0 0 1 0 0 0 ...\n",
      " $ FP086            : int  0 0 0 1 1 0 0 1 1 1 ...\n",
      " $ FP087            : int  1 1 1 1 1 0 1 0 1 1 ...\n",
      " $ FP088            : int  0 1 0 0 0 0 0 1 1 0 ...\n",
      " $ FP089            : int  1 1 0 0 0 0 1 0 0 0 ...\n",
      " $ FP090            : int  0 1 0 1 0 0 0 1 1 1 ...\n",
      " $ FP091            : int  1 1 0 0 1 0 1 0 0 1 ...\n",
      " $ FP092            : int  0 0 0 0 1 1 1 0 1 0 ...\n",
      " $ FP093            : int  0 1 0 1 0 0 0 1 1 1 ...\n",
      " $ FP094            : int  0 0 0 0 1 0 0 1 0 0 ...\n",
      " $ FP095            : int  0 0 0 0 0 0 0 0 1 1 ...\n",
      " $ FP096            : int  0 0 0 0 0 0 0 0 1 0 ...\n",
      " $ FP097            : int  1 1 0 0 0 0 1 0 1 0 ...\n",
      " $ FP098            : int  0 0 1 0 0 0 0 1 0 0 ...\n",
      " $ FP099            : int  0 0 0 0 0 0 0 0 1 0 ...\n",
      "  [list output truncated]\n"
     ]
    },
    {
     "data": {
      "text/plain": [
       "NULL"
      ]
     },
     "metadata": {},
     "output_type": "display_data"
    },
    {
     "name": "stdout",
     "output_type": "stream",
     "text": [
      " num [1:951] -3.97 -3.98 -3.99 -4 -4.06 -4.08 -4.08 -4.1 -4.1 -4.11 ...\n"
     ]
    }
   ],
   "source": [
    "str(solTrainXtrans)\n",
    "str(solTrainY)"
   ]
  },
  {
   "cell_type": "code",
   "execution_count": 5,
   "metadata": {
    "scrolled": false
   },
   "outputs": [
    {
     "data": {
      "text/html": [
       "-0.606791704667746"
      ],
      "text/latex": [
       "-0.606791704667746"
      ],
      "text/markdown": [
       "-0.606791704667746"
      ],
      "text/plain": [
       "[1] -0.6067917"
      ]
     },
     "metadata": {},
     "output_type": "display_data"
    }
   ],
   "source": [
    "cor(solTrainXtrans$NumCarbon,solTrainY)"
   ]
  },
  {
   "cell_type": "markdown",
   "metadata": {},
   "source": [
    "`Numeric Outcomes`"
   ]
  },
  {
   "cell_type": "markdown",
   "metadata": {},
   "source": [
    "[A worked example: evaluating the relationship between two hormones](http://content.csbs.utah.edu/~rogers/datanal/labprj/bootstrap/index.html)"
   ]
  },
  {
   "cell_type": "code",
   "execution_count": 6,
   "metadata": {},
   "outputs": [
    {
     "data": {
      "text/html": [
       "-0.582761106899835"
      ],
      "text/latex": [
       "-0.582761106899835"
      ],
      "text/markdown": [
       "-0.582761106899835"
      ],
      "text/plain": [
       "[1] -0.5827611"
      ]
     },
     "metadata": {},
     "output_type": "display_data"
    },
    {
     "name": "stderr",
     "output_type": "stream",
     "text": [
      "Warning message in cor.test.default(solTrainX$NumCarbon, solTrainY, method = \"spearman\"):\n",
      "\"Cannot compute exact p-value with ties\""
     ]
    },
    {
     "data": {
      "text/plain": [
       "\n",
       "\tSpearman's rank correlation rho\n",
       "\n",
       "data:  solTrainX$NumCarbon and solTrainY\n",
       "S = 239900000, p-value < 2.2e-16\n",
       "alternative hypothesis: true rho is not equal to 0\n",
       "sample estimates:\n",
       "       rho \n",
       "-0.6735911 \n"
      ]
     },
     "metadata": {},
     "output_type": "display_data"
    }
   ],
   "source": [
    "#Spearman Rank Correlation\n",
    "cor(solTrainX$NumCarbon,solTrainY)\n",
    "cor.test(solTrainX$NumCarbon,solTrainY, method=\"spearman\")"
   ]
  }
 ],
 "metadata": {
  "kernelspec": {
   "display_name": "R",
   "language": "R",
   "name": "ir"
  },
  "language_info": {
   "codemirror_mode": "r",
   "file_extension": ".r",
   "mimetype": "text/x-r-source",
   "name": "R",
   "pygments_lexer": "r",
   "version": "3.5.1"
  },
  "latex_envs": {
   "LaTeX_envs_menu_present": true,
   "autoclose": false,
   "autocomplete": true,
   "bibliofile": "biblio.bib",
   "cite_by": "apalike",
   "current_citInitial": 1,
   "eqLabelWithNumbers": true,
   "eqNumInitial": 1,
   "hotkeys": {
    "equation": "Ctrl-E",
    "itemize": "Ctrl-I"
   },
   "labels_anchors": false,
   "latex_user_defs": false,
   "report_style_numbering": false,
   "user_envs_cfg": false
  },
  "toc": {
   "base_numbering": 1,
   "nav_menu": {},
   "number_sections": true,
   "sideBar": true,
   "skip_h1_title": false,
   "title_cell": "Table of Contents",
   "title_sidebar": "Contents",
   "toc_cell": false,
   "toc_position": {},
   "toc_section_display": true,
   "toc_window_display": false
  }
 },
 "nbformat": 4,
 "nbformat_minor": 2
}
