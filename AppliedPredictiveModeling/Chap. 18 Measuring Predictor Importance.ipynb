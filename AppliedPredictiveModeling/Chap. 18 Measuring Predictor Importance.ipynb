{
 "cells": [
  {
   "cell_type": "markdown",
   "metadata": {},
   "source": [
    "> As the number of attributes becomes large, exploratory analysis of the all the predictors may be infeasible and concentrating on those with strong relationships with the outcome may be an effective triaging strategy. "
   ]
  },
  {
   "cell_type": "code",
   "execution_count": 1,
   "metadata": {},
   "outputs": [],
   "source": [
    "library(AppliedPredictiveModeling)\n",
    "data(solubility)"
   ]
  },
  {
   "cell_type": "code",
   "execution_count": 2,
   "metadata": {
    "scrolled": false
   },
   "outputs": [
    {
     "data": {
      "text/html": [
       "<ol class=list-inline>\n",
       "\t<li>'solTestX'</li>\n",
       "\t<li>'solTestXtrans'</li>\n",
       "\t<li>'solTestY'</li>\n",
       "\t<li>'solTrainX'</li>\n",
       "\t<li>'solTrainXtrans'</li>\n",
       "\t<li>'solTrainY'</li>\n",
       "</ol>\n"
      ],
      "text/latex": [
       "\\begin{enumerate*}\n",
       "\\item 'solTestX'\n",
       "\\item 'solTestXtrans'\n",
       "\\item 'solTestY'\n",
       "\\item 'solTrainX'\n",
       "\\item 'solTrainXtrans'\n",
       "\\item 'solTrainY'\n",
       "\\end{enumerate*}\n"
      ],
      "text/markdown": [
       "1. 'solTestX'\n",
       "2. 'solTestXtrans'\n",
       "3. 'solTestY'\n",
       "4. 'solTrainX'\n",
       "5. 'solTrainXtrans'\n",
       "6. 'solTrainY'\n",
       "\n",
       "\n"
      ],
      "text/plain": [
       "[1] \"solTestX\"       \"solTestXtrans\"  \"solTestY\"       \"solTrainX\"     \n",
       "[5] \"solTrainXtrans\" \"solTrainY\"     "
      ]
     },
     "metadata": {},
     "output_type": "display_data"
    }
   ],
   "source": [
    "ls()"
   ]
  },
  {
   "cell_type": "code",
   "execution_count": 4,
   "metadata": {
    "scrolled": true
   },
   "outputs": [
    {
     "name": "stdout",
     "output_type": "stream",
     "text": [
      "'data.frame':\t951 obs. of  228 variables:\n",
      " $ FP001            : int  0 0 1 0 0 1 0 1 1 1 ...\n",
      " $ FP002            : int  1 1 1 0 0 0 1 0 0 1 ...\n",
      " $ FP003            : int  0 0 1 1 1 1 0 1 1 1 ...\n",
      " $ FP004            : int  0 1 1 0 1 1 1 1 1 1 ...\n",
      " $ FP005            : int  1 1 1 0 1 0 1 0 0 1 ...\n",
      " $ FP006            : int  0 1 0 0 1 0 0 0 1 1 ...\n",
      " $ FP007            : int  0 1 0 1 0 0 0 1 1 1 ...\n",
      " $ FP008            : int  1 1 1 0 0 0 1 0 0 0 ...\n",
      " $ FP009            : int  0 0 0 0 1 1 1 0 1 0 ...\n",
      " $ FP010            : int  0 0 1 0 0 0 0 0 0 0 ...\n",
      " $ FP011            : int  0 1 0 0 0 0 0 0 1 0 ...\n",
      " $ FP012            : int  0 0 0 0 0 1 0 1 0 0 ...\n",
      " $ FP013            : int  0 0 0 0 1 0 1 0 0 0 ...\n",
      " $ FP014            : int  0 0 0 0 0 0 1 0 0 0 ...\n",
      " $ FP015            : int  1 1 1 1 1 1 1 1 1 1 ...\n",
      " $ FP016            : int  0 1 0 0 1 1 0 1 0 0 ...\n",
      " $ FP017            : int  0 0 1 1 0 0 0 0 1 1 ...\n",
      " $ FP018            : int  0 1 0 0 0 0 0 0 0 0 ...\n",
      " $ FP019            : int  1 0 0 0 1 0 1 0 0 0 ...\n",
      " $ FP020            : int  0 0 0 0 0 0 0 0 0 0 ...\n",
      " $ FP021            : int  0 0 0 0 0 1 0 0 1 0 ...\n",
      " $ FP022            : int  0 0 0 0 0 0 0 0 0 1 ...\n",
      " $ FP023            : int  0 0 0 1 0 0 0 0 1 0 ...\n",
      " $ FP024            : int  1 0 0 0 1 0 0 0 0 0 ...\n",
      " $ FP025            : int  0 0 1 0 0 0 0 0 0 0 ...\n",
      " $ FP026            : int  1 0 0 0 0 0 1 0 0 0 ...\n",
      " $ FP027            : int  0 0 0 0 0 0 0 0 0 1 ...\n",
      " $ FP028            : int  0 1 0 0 0 0 0 0 1 1 ...\n",
      " $ FP029            : int  0 0 0 0 0 0 0 0 0 0 ...\n",
      " $ FP030            : int  0 0 0 0 1 0 0 0 0 0 ...\n",
      " $ FP031            : int  0 0 0 0 0 0 0 1 0 0 ...\n",
      " $ FP032            : int  0 0 0 0 0 0 0 0 0 0 ...\n",
      " $ FP033            : int  0 0 0 0 0 0 0 0 0 0 ...\n",
      " $ FP034            : int  0 0 0 0 1 0 0 0 0 1 ...\n",
      " $ FP035            : int  0 0 0 0 0 0 0 0 1 0 ...\n",
      " $ FP036            : int  0 0 0 0 0 0 0 0 0 0 ...\n",
      " $ FP037            : int  0 0 0 0 0 0 0 0 1 0 ...\n",
      " $ FP038            : int  0 0 1 0 0 0 0 0 0 0 ...\n",
      " $ FP039            : int  1 0 0 0 0 0 0 0 0 0 ...\n",
      " $ FP040            : int  1 0 0 0 0 0 0 0 0 0 ...\n",
      " $ FP041            : int  0 0 0 1 0 0 0 0 1 0 ...\n",
      " $ FP042            : int  0 0 0 0 0 0 0 0 0 0 ...\n",
      " $ FP043            : int  0 1 0 0 0 0 0 0 0 0 ...\n",
      " $ FP044            : int  0 0 0 0 0 0 0 0 0 0 ...\n",
      " $ FP045            : int  0 0 1 0 0 0 0 0 0 0 ...\n",
      " $ FP046            : int  0 1 0 0 0 0 1 0 0 1 ...\n",
      " $ FP047            : int  0 1 1 0 0 0 1 0 0 0 ...\n",
      " $ FP048            : int  0 0 0 0 0 0 0 1 0 0 ...\n",
      " $ FP049            : int  0 0 0 0 0 0 1 0 0 0 ...\n",
      " $ FP050            : int  0 0 0 0 0 0 0 1 0 1 ...\n",
      " $ FP051            : int  0 1 0 0 0 0 0 0 0 0 ...\n",
      " $ FP052            : int  0 0 0 0 0 0 0 0 0 1 ...\n",
      " $ FP053            : int  0 0 0 0 0 0 1 0 0 0 ...\n",
      " $ FP054            : int  0 0 0 1 0 0 0 0 1 1 ...\n",
      " $ FP055            : int  0 0 0 0 0 0 0 0 0 0 ...\n",
      " $ FP056            : int  1 0 0 0 0 0 0 0 0 0 ...\n",
      " $ FP057            : int  0 0 0 0 0 0 1 0 0 0 ...\n",
      " $ FP058            : int  0 0 0 0 0 0 0 0 0 1 ...\n",
      " $ FP059            : int  0 0 0 0 0 0 0 1 0 0 ...\n",
      " $ FP060            : int  0 1 1 0 0 0 0 1 1 0 ...\n",
      " $ FP061            : int  0 0 1 0 0 0 0 1 1 0 ...\n",
      " $ FP062            : int  0 0 1 0 0 1 0 1 1 1 ...\n",
      " $ FP063            : int  1 1 0 0 1 1 1 0 0 1 ...\n",
      " $ FP064            : int  0 1 1 0 1 1 0 1 0 0 ...\n",
      " $ FP065            : int  1 1 0 0 1 0 1 0 1 1 ...\n",
      " $ FP066            : int  1 0 1 1 1 1 1 1 1 1 ...\n",
      " $ FP067            : int  1 1 0 0 1 1 1 0 0 1 ...\n",
      " $ FP068            : int  0 1 0 0 1 1 1 0 0 1 ...\n",
      " $ FP069            : int  1 0 1 1 1 1 0 1 1 0 ...\n",
      " $ FP070            : int  1 1 0 1 0 0 1 0 1 0 ...\n",
      " $ FP071            : int  0 0 0 0 0 0 1 0 1 1 ...\n",
      " $ FP072            : int  0 1 1 0 0 1 0 1 1 1 ...\n",
      " $ FP073            : int  0 1 1 0 0 0 0 0 1 0 ...\n",
      " $ FP074            : int  0 1 0 0 0 0 0 0 1 0 ...\n",
      " $ FP075            : int  0 1 0 0 1 1 1 0 0 1 ...\n",
      " $ FP076            : int  1 1 0 0 0 0 1 0 1 1 ...\n",
      " $ FP077            : int  0 1 0 1 0 0 0 1 1 1 ...\n",
      " $ FP078            : int  0 1 0 0 0 0 0 0 1 0 ...\n",
      " $ FP079            : int  1 1 1 1 1 0 1 0 1 1 ...\n",
      " $ FP080            : int  0 1 0 0 1 1 1 1 0 0 ...\n",
      " $ FP081            : int  0 0 1 1 0 0 0 1 1 1 ...\n",
      " $ FP082            : int  1 1 1 0 1 1 1 0 1 1 ...\n",
      " $ FP083            : int  0 0 0 0 1 0 0 0 0 1 ...\n",
      " $ FP084            : int  1 1 0 0 1 0 1 0 0 0 ...\n",
      " $ FP085            : int  0 1 0 0 0 0 1 0 0 0 ...\n",
      " $ FP086            : int  0 0 0 1 1 0 0 1 1 1 ...\n",
      " $ FP087            : int  1 1 1 1 1 0 1 0 1 1 ...\n",
      " $ FP088            : int  0 1 0 0 0 0 0 1 1 0 ...\n",
      " $ FP089            : int  1 1 0 0 0 0 1 0 0 0 ...\n",
      " $ FP090            : int  0 1 0 1 0 0 0 1 1 1 ...\n",
      " $ FP091            : int  1 1 0 0 1 0 1 0 0 1 ...\n",
      " $ FP092            : int  0 0 0 0 1 1 1 0 1 0 ...\n",
      " $ FP093            : int  0 1 0 1 0 0 0 1 1 1 ...\n",
      " $ FP094            : int  0 0 0 0 1 0 0 1 0 0 ...\n",
      " $ FP095            : int  0 0 0 0 0 0 0 0 1 1 ...\n",
      " $ FP096            : int  0 0 0 0 0 0 0 0 1 0 ...\n",
      " $ FP097            : int  1 1 0 0 0 0 1 0 1 0 ...\n",
      " $ FP098            : int  0 0 1 0 0 0 0 1 0 0 ...\n",
      " $ FP099            : int  0 0 0 0 0 0 0 0 1 0 ...\n",
      "  [list output truncated]\n"
     ]
    },
    {
     "data": {
      "text/plain": [
       "NULL"
      ]
     },
     "metadata": {},
     "output_type": "display_data"
    },
    {
     "name": "stdout",
     "output_type": "stream",
     "text": [
      " num [1:951] -3.97 -3.98 -3.99 -4 -4.06 -4.08 -4.08 -4.1 -4.1 -4.11 ...\n"
     ]
    }
   ],
   "source": [
    "str(solTrainXtrans)\n",
    "str(solTrainY)"
   ]
  },
  {
   "cell_type": "code",
   "execution_count": 5,
   "metadata": {
    "scrolled": false
   },
   "outputs": [
    {
     "data": {
      "text/html": [
       "-0.606791704667746"
      ],
      "text/latex": [
       "-0.606791704667746"
      ],
      "text/markdown": [
       "-0.606791704667746"
      ],
      "text/plain": [
       "[1] -0.6067917"
      ]
     },
     "metadata": {},
     "output_type": "display_data"
    }
   ],
   "source": [
    "cor(solTrainXtrans$NumCarbon,solTrainY)"
   ]
  },
  {
   "cell_type": "markdown",
   "metadata": {},
   "source": [
    "`Numeric Outcomes`"
   ]
  },
  {
   "cell_type": "markdown",
   "metadata": {},
   "source": [
    "[A worked example: evaluating the relationship between two hormones](http://content.csbs.utah.edu/~rogers/datanal/labprj/bootstrap/index.html)\n",
    "\n",
    "> 如果变量之间近线性或者曲线相关，那么使用Spearman相关系数更加有效"
   ]
  },
  {
   "cell_type": "code",
   "execution_count": 17,
   "metadata": {
    "scrolled": false
   },
   "outputs": [
    {
     "data": {
      "text/plain": [
       "\n",
       "\tPearson's product-moment correlation\n",
       "\n",
       "data:  solTrainX$NumCarbon and solTrainY\n",
       "t = -22.091, df = 949, p-value < 2.2e-16\n",
       "alternative hypothesis: true correlation is not equal to 0\n",
       "95 percent confidence interval:\n",
       " -0.6232429 -0.5391645\n",
       "sample estimates:\n",
       "       cor \n",
       "-0.5827611 \n"
      ]
     },
     "metadata": {},
     "output_type": "display_data"
    },
    {
     "name": "stderr",
     "output_type": "stream",
     "text": [
      "Warning message in cor.test.default(solTrainX$NumCarbon, solTrainY, method = \"spearman\"):\n",
      "\"Cannot compute exact p-value with ties\""
     ]
    },
    {
     "data": {
      "text/plain": [
       "\n",
       "\tSpearman's rank correlation rho\n",
       "\n",
       "data:  solTrainX$NumCarbon and solTrainY\n",
       "S = 239900000, p-value < 2.2e-16\n",
       "alternative hypothesis: true rho is not equal to 0\n",
       "sample estimates:\n",
       "       rho \n",
       "-0.6735911 \n"
      ]
     },
     "metadata": {},
     "output_type": "display_data"
    }
   ],
   "source": [
    "#Spearman Rank Correlation\n",
    "# cor(solTrainX$NumCarbon,solTrainY)\n",
    "cor.test(solTrainX$NumCarbon,solTrainY, method=\"pearson\")\n",
    "cor.test(solTrainX$NumCarbon,solTrainY, method=\"spearman\")"
   ]
  },
  {
   "cell_type": "code",
   "execution_count": 4,
   "metadata": {},
   "outputs": [
    {
     "data": {
      "text/html": [
       "<table>\n",
       "<thead><tr><th></th><th scope=col>FP001</th><th scope=col>FP002</th><th scope=col>FP003</th><th scope=col>FP004</th><th scope=col>FP005</th><th scope=col>FP006</th><th scope=col>FP007</th><th scope=col>FP008</th><th scope=col>FP009</th><th scope=col>FP010</th><th scope=col>...</th><th scope=col>NumNitrogen</th><th scope=col>NumOxygen</th><th scope=col>NumSulfer</th><th scope=col>NumChlorine</th><th scope=col>NumHalogen</th><th scope=col>NumRings</th><th scope=col>HydrophilicFactor</th><th scope=col>SurfaceArea1</th><th scope=col>SurfaceArea2</th><th scope=col>solTrainY</th></tr></thead>\n",
       "<tbody>\n",
       "\t<tr><th scope=row>661</th><td>0          </td><td>1          </td><td>0          </td><td>0          </td><td>1          </td><td>0          </td><td>0          </td><td>1          </td><td>0          </td><td>0          </td><td>...        </td><td>0.5848146  </td><td>0.0000000  </td><td>0.000      </td><td>0.0000000  </td><td>0.0000000  </td><td>1.3862944  </td><td>-1.60654181</td><td>6.812456   </td><td> 6.812456  </td><td>-3.97      </td></tr>\n",
       "\t<tr><th scope=row>662</th><td>0          </td><td>1          </td><td>0          </td><td>1          </td><td>1          </td><td>1          </td><td>1          </td><td>1          </td><td>0          </td><td>0          </td><td>...        </td><td>0.6423550  </td><td>0.6931472  </td><td>0.375      </td><td>0.0000000  </td><td>0.0000000  </td><td>1.6094379  </td><td>-0.44133043</td><td>9.753834   </td><td>12.029604  </td><td>-3.98      </td></tr>\n",
       "\t<tr><th scope=row>663</th><td>1          </td><td>1          </td><td>1          </td><td>1          </td><td>1          </td><td>0          </td><td>0          </td><td>1          </td><td>0          </td><td>1          </td><td>...        </td><td>0.0000000  </td><td>1.0986123  </td><td>0.000      </td><td>0.0000000  </td><td>0.0000000  </td><td>0.6931472  </td><td>-0.38485910</td><td>8.245324   </td><td> 8.245324  </td><td>-3.99      </td></tr>\n",
       "\t<tr><th scope=row>665</th><td>0          </td><td>0          </td><td>1          </td><td>0          </td><td>0          </td><td>0          </td><td>1          </td><td>0          </td><td>0          </td><td>0          </td><td>...        </td><td>0.0000000  </td><td>0.0000000  </td><td>0.000      </td><td>0.0000000  </td><td>0.0000000  </td><td>0.6931472  </td><td>-2.37347220</td><td>0.000000   </td><td> 0.000000  </td><td>-4.00      </td></tr>\n",
       "\t<tr><th scope=row>668</th><td>0          </td><td>0          </td><td>1          </td><td>1          </td><td>1          </td><td>1          </td><td>0          </td><td>0          </td><td>1          </td><td>0          </td><td>...        </td><td>0.6943345  </td><td>0.0000000  </td><td>0.000      </td><td>0.3750000  </td><td>0.3750000  </td><td>0.6931472  </td><td>-0.07098726</td><td>9.913535   </td><td> 9.913535  </td><td>-4.06      </td></tr>\n",
       "\t<tr><th scope=row>669</th><td>1          </td><td>0          </td><td>1          </td><td>1          </td><td>0          </td><td>0          </td><td>0          </td><td>0          </td><td>1          </td><td>0          </td><td>...        </td><td>0.4568260  </td><td>0.6931472  </td><td>0.375      </td><td>0.4444444  </td><td>0.4444444  </td><td>0.0000000  </td><td>-0.94925327</td><td>5.999109   </td><td> 9.123359  </td><td>-4.08      </td></tr>\n",
       "</tbody>\n",
       "</table>\n"
      ],
      "text/latex": [
       "\\begin{tabular}{r|lllllllllllllllllllllllllllllllllllllllllllllllllllllllllllllllllllllllllllllllllllllllllllllllllllllllllllllllllllllllllllllllllllllllllllllllllllllllllllllllllllllllllllllllllllllllllllllllllllllllllllllllllllllllllllllllllllll}\n",
       "  & FP001 & FP002 & FP003 & FP004 & FP005 & FP006 & FP007 & FP008 & FP009 & FP010 & ... & NumNitrogen & NumOxygen & NumSulfer & NumChlorine & NumHalogen & NumRings & HydrophilicFactor & SurfaceArea1 & SurfaceArea2 & solTrainY\\\\\n",
       "\\hline\n",
       "\t661 & 0           & 1           & 0           & 0           & 1           & 0           & 0           & 1           & 0           & 0           & ...         & 0.5848146   & 0.0000000   & 0.000       & 0.0000000   & 0.0000000   & 1.3862944   & -1.60654181 & 6.812456    &  6.812456   & -3.97      \\\\\n",
       "\t662 & 0           & 1           & 0           & 1           & 1           & 1           & 1           & 1           & 0           & 0           & ...         & 0.6423550   & 0.6931472   & 0.375       & 0.0000000   & 0.0000000   & 1.6094379   & -0.44133043 & 9.753834    & 12.029604   & -3.98      \\\\\n",
       "\t663 & 1           & 1           & 1           & 1           & 1           & 0           & 0           & 1           & 0           & 1           & ...         & 0.0000000   & 1.0986123   & 0.000       & 0.0000000   & 0.0000000   & 0.6931472   & -0.38485910 & 8.245324    &  8.245324   & -3.99      \\\\\n",
       "\t665 & 0           & 0           & 1           & 0           & 0           & 0           & 1           & 0           & 0           & 0           & ...         & 0.0000000   & 0.0000000   & 0.000       & 0.0000000   & 0.0000000   & 0.6931472   & -2.37347220 & 0.000000    &  0.000000   & -4.00      \\\\\n",
       "\t668 & 0           & 0           & 1           & 1           & 1           & 1           & 0           & 0           & 1           & 0           & ...         & 0.6943345   & 0.0000000   & 0.000       & 0.3750000   & 0.3750000   & 0.6931472   & -0.07098726 & 9.913535    &  9.913535   & -4.06      \\\\\n",
       "\t669 & 1           & 0           & 1           & 1           & 0           & 0           & 0           & 0           & 1           & 0           & ...         & 0.4568260   & 0.6931472   & 0.375       & 0.4444444   & 0.4444444   & 0.0000000   & -0.94925327 & 5.999109    &  9.123359   & -4.08      \\\\\n",
       "\\end{tabular}\n"
      ],
      "text/markdown": [
       "\n",
       "| <!--/--> | FP001 | FP002 | FP003 | FP004 | FP005 | FP006 | FP007 | FP008 | FP009 | FP010 | ... | NumNitrogen | NumOxygen | NumSulfer | NumChlorine | NumHalogen | NumRings | HydrophilicFactor | SurfaceArea1 | SurfaceArea2 | solTrainY | \n",
       "|---|---|---|---|---|---|\n",
       "| 661 | 0           | 1           | 0           | 0           | 1           | 0           | 0           | 1           | 0           | 0           | ...         | 0.5848146   | 0.0000000   | 0.000       | 0.0000000   | 0.0000000   | 1.3862944   | -1.60654181 | 6.812456    |  6.812456   | -3.97       | \n",
       "| 662 | 0           | 1           | 0           | 1           | 1           | 1           | 1           | 1           | 0           | 0           | ...         | 0.6423550   | 0.6931472   | 0.375       | 0.0000000   | 0.0000000   | 1.6094379   | -0.44133043 | 9.753834    | 12.029604   | -3.98       | \n",
       "| 663 | 1           | 1           | 1           | 1           | 1           | 0           | 0           | 1           | 0           | 1           | ...         | 0.0000000   | 1.0986123   | 0.000       | 0.0000000   | 0.0000000   | 0.6931472   | -0.38485910 | 8.245324    |  8.245324   | -3.99       | \n",
       "| 665 | 0           | 0           | 1           | 0           | 0           | 0           | 1           | 0           | 0           | 0           | ...         | 0.0000000   | 0.0000000   | 0.000       | 0.0000000   | 0.0000000   | 0.6931472   | -2.37347220 | 0.000000    |  0.000000   | -4.00       | \n",
       "| 668 | 0           | 0           | 1           | 1           | 1           | 1           | 0           | 0           | 1           | 0           | ...         | 0.6943345   | 0.0000000   | 0.000       | 0.3750000   | 0.3750000   | 0.6931472   | -0.07098726 | 9.913535    |  9.913535   | -4.06       | \n",
       "| 669 | 1           | 0           | 1           | 1           | 0           | 0           | 0           | 0           | 1           | 0           | ...         | 0.4568260   | 0.6931472   | 0.375       | 0.4444444   | 0.4444444   | 0.0000000   | -0.94925327 | 5.999109    |  9.123359   | -4.08       | \n",
       "\n",
       "\n"
      ],
      "text/plain": [
       "    FP001 FP002 FP003 FP004 FP005 FP006 FP007 FP008 FP009 FP010 ... NumNitrogen\n",
       "661 0     1     0     0     1     0     0     1     0     0     ... 0.5848146  \n",
       "662 0     1     0     1     1     1     1     1     0     0     ... 0.6423550  \n",
       "663 1     1     1     1     1     0     0     1     0     1     ... 0.0000000  \n",
       "665 0     0     1     0     0     0     1     0     0     0     ... 0.0000000  \n",
       "668 0     0     1     1     1     1     0     0     1     0     ... 0.6943345  \n",
       "669 1     0     1     1     0     0     0     0     1     0     ... 0.4568260  \n",
       "    NumOxygen NumSulfer NumChlorine NumHalogen NumRings  HydrophilicFactor\n",
       "661 0.0000000 0.000     0.0000000   0.0000000  1.3862944 -1.60654181      \n",
       "662 0.6931472 0.375     0.0000000   0.0000000  1.6094379 -0.44133043      \n",
       "663 1.0986123 0.000     0.0000000   0.0000000  0.6931472 -0.38485910      \n",
       "665 0.0000000 0.000     0.0000000   0.0000000  0.6931472 -2.37347220      \n",
       "668 0.0000000 0.000     0.3750000   0.3750000  0.6931472 -0.07098726      \n",
       "669 0.6931472 0.375     0.4444444   0.4444444  0.0000000 -0.94925327      \n",
       "    SurfaceArea1 SurfaceArea2 solTrainY\n",
       "661 6.812456      6.812456    -3.97    \n",
       "662 9.753834     12.029604    -3.98    \n",
       "663 8.245324      8.245324    -3.99    \n",
       "665 0.000000      0.000000    -4.00    \n",
       "668 9.913535      9.913535    -4.06    \n",
       "669 5.999109      9.123359    -4.08    "
      ]
     },
     "metadata": {},
     "output_type": "display_data"
    }
   ],
   "source": [
    "trn_X <- solTrainXtrans\n",
    "trn_y <- solTrainY\n",
    "\n",
    "trn <- cbind(solTrainXtrans,solTrainY)\n",
    "head(trn)"
   ]
  },
  {
   "cell_type": "markdown",
   "metadata": {},
   "source": [
    "&#x1F4A1;`computing`"
   ]
  },
  {
   "cell_type": "code",
   "execution_count": 2,
   "metadata": {},
   "outputs": [],
   "source": [
    "fp_cols <- grepl(\"FP\",names(solTrainXtrans))\n",
    "numeric_cols <- names(solTrainXtrans)[!fp_cols]\n",
    "\n",
    "corr_info <- apply(solTrainXtrans[,numeric_cols],2,FUN = function(x,y) cor(x,y), y=solTrainY)"
   ]
  },
  {
   "cell_type": "code",
   "execution_count": 5,
   "metadata": {},
   "outputs": [
    {
     "data": {
      "text/html": [
       "<dl class=dl-horizontal>\n",
       "\t<dt>MolWeight</dt>\n",
       "\t\t<dd>-0.658528436975193</dd>\n",
       "\t<dt>NumAtoms</dt>\n",
       "\t\t<dd>-0.435811287649687</dd>\n",
       "\t<dt>NumNonHAtoms</dt>\n",
       "\t\t<dd>-0.583623641544185</dd>\n",
       "\t<dt>NumBonds</dt>\n",
       "\t\t<dd>-0.459039487873292</dd>\n",
       "\t<dt>NumNonHBonds</dt>\n",
       "\t\t<dd>-0.585196756045122</dd>\n",
       "\t<dt>NumMultBonds</dt>\n",
       "\t\t<dd>-0.480415932334344</dd>\n",
       "</dl>\n"
      ],
      "text/latex": [
       "\\begin{description*}\n",
       "\\item[MolWeight] -0.658528436975193\n",
       "\\item[NumAtoms] -0.435811287649687\n",
       "\\item[NumNonHAtoms] -0.583623641544185\n",
       "\\item[NumBonds] -0.459039487873292\n",
       "\\item[NumNonHBonds] -0.585196756045122\n",
       "\\item[NumMultBonds] -0.480415932334344\n",
       "\\end{description*}\n"
      ],
      "text/markdown": [
       "MolWeight\n",
       ":   -0.658528436975193NumAtoms\n",
       ":   -0.435811287649687NumNonHAtoms\n",
       ":   -0.583623641544185NumBonds\n",
       ":   -0.459039487873292NumNonHBonds\n",
       ":   -0.585196756045122NumMultBonds\n",
       ":   -0.480415932334344\n",
       "\n"
      ],
      "text/plain": [
       "   MolWeight     NumAtoms NumNonHAtoms     NumBonds NumNonHBonds NumMultBonds \n",
       "  -0.6585284   -0.4358113   -0.5836236   -0.4590395   -0.5851968   -0.4804159 "
      ]
     },
     "metadata": {},
     "output_type": "display_data"
    }
   ],
   "source": [
    "col_fp <- grepl(\"FP\",names(trn_X))\n",
    "col_num <- names(trn_X)[!col_fp]\n",
    "\n",
    "cor_info <- apply(trn_X[,col_num],2,FUN = function(x,y) cor(x,y),y=trn_y)\n",
    "head(cor_info)"
   ]
  },
  {
   "cell_type": "code",
   "execution_count": 6,
   "metadata": {
    "scrolled": true
   },
   "outputs": [
    {
     "data": {
      "text/html": [
       "<dl class=dl-horizontal>\n",
       "\t<dt>MolWeight</dt>\n",
       "\t\t<dd>-0.685298804347061</dd>\n",
       "\t<dt>NumAtoms</dt>\n",
       "\t\t<dd>-0.519831725683706</dd>\n",
       "\t<dt>NumNonHAtoms</dt>\n",
       "\t\t<dd>-0.629653996477346</dd>\n",
       "\t<dt>NumBonds</dt>\n",
       "\t\t<dd>-0.548398498445747</dd>\n",
       "\t<dt>NumNonHBonds</dt>\n",
       "\t\t<dd>-0.632283660785934</dd>\n",
       "\t<dt>NumMultBonds</dt>\n",
       "\t\t<dd>-0.479713529413778</dd>\n",
       "</dl>\n"
      ],
      "text/latex": [
       "\\begin{description*}\n",
       "\\item[MolWeight] -0.685298804347061\n",
       "\\item[NumAtoms] -0.519831725683706\n",
       "\\item[NumNonHAtoms] -0.629653996477346\n",
       "\\item[NumBonds] -0.548398498445747\n",
       "\\item[NumNonHBonds] -0.632283660785934\n",
       "\\item[NumMultBonds] -0.479713529413778\n",
       "\\end{description*}\n"
      ],
      "text/markdown": [
       "MolWeight\n",
       ":   -0.685298804347061NumAtoms\n",
       ":   -0.519831725683706NumNonHAtoms\n",
       ":   -0.629653996477346NumBonds\n",
       ":   -0.548398498445747NumNonHBonds\n",
       ":   -0.632283660785934NumMultBonds\n",
       ":   -0.479713529413778\n",
       "\n"
      ],
      "text/plain": [
       "   MolWeight     NumAtoms NumNonHAtoms     NumBonds NumNonHBonds NumMultBonds \n",
       "  -0.6852988   -0.5198317   -0.6296540   -0.5483985   -0.6322837   -0.4797135 "
      ]
     },
     "metadata": {},
     "output_type": "display_data"
    }
   ],
   "source": [
    "cor_rank_info <- apply(trn_X[,col_num],2,\n",
    "                       FUN = function(x,y) cor(x,y,method = \"spearman\"),y=trn_y)\n",
    "head(cor_rank_info)"
   ]
  },
  {
   "cell_type": "code",
   "execution_count": 10,
   "metadata": {},
   "outputs": [
    {
     "data": {
      "text/html": [
       "<table>\n",
       "<thead><tr><th></th><th scope=col>predictors</th><th scope=col>pearson</th><th scope=col>spearman</th></tr></thead>\n",
       "<tbody>\n",
       "\t<tr><th scope=row>MolWeight</th><td>MolWeight   </td><td>-0.6585284  </td><td>-0.6852988  </td></tr>\n",
       "\t<tr><th scope=row>NumAtoms</th><td>NumAtoms    </td><td>-0.4358113  </td><td>-0.5198317  </td></tr>\n",
       "\t<tr><th scope=row>NumNonHAtoms</th><td>NumNonHAtoms</td><td>-0.5836236  </td><td>-0.6296540  </td></tr>\n",
       "\t<tr><th scope=row>NumBonds</th><td>NumBonds    </td><td>-0.4590395  </td><td>-0.5483985  </td></tr>\n",
       "\t<tr><th scope=row>NumNonHBonds</th><td>NumNonHBonds</td><td>-0.5851968  </td><td>-0.6322837  </td></tr>\n",
       "\t<tr><th scope=row>NumMultBonds</th><td>NumMultBonds</td><td>-0.4804159  </td><td>-0.4797135  </td></tr>\n",
       "</tbody>\n",
       "</table>\n"
      ],
      "text/latex": [
       "\\begin{tabular}{r|lll}\n",
       "  & predictors & pearson & spearman\\\\\n",
       "\\hline\n",
       "\tMolWeight & MolWeight    & -0.6585284   & -0.6852988  \\\\\n",
       "\tNumAtoms & NumAtoms     & -0.4358113   & -0.5198317  \\\\\n",
       "\tNumNonHAtoms & NumNonHAtoms & -0.5836236   & -0.6296540  \\\\\n",
       "\tNumBonds & NumBonds     & -0.4590395   & -0.5483985  \\\\\n",
       "\tNumNonHBonds & NumNonHBonds & -0.5851968   & -0.6322837  \\\\\n",
       "\tNumMultBonds & NumMultBonds & -0.4804159   & -0.4797135  \\\\\n",
       "\\end{tabular}\n"
      ],
      "text/markdown": [
       "\n",
       "| <!--/--> | predictors | pearson | spearman | \n",
       "|---|---|---|---|---|---|\n",
       "| MolWeight | MolWeight    | -0.6585284   | -0.6852988   | \n",
       "| NumAtoms | NumAtoms     | -0.4358113   | -0.5198317   | \n",
       "| NumNonHAtoms | NumNonHAtoms | -0.5836236   | -0.6296540   | \n",
       "| NumBonds | NumBonds     | -0.4590395   | -0.5483985   | \n",
       "| NumNonHBonds | NumNonHBonds | -0.5851968   | -0.6322837   | \n",
       "| NumMultBonds | NumMultBonds | -0.4804159   | -0.4797135   | \n",
       "\n",
       "\n"
      ],
      "text/plain": [
       "             predictors   pearson    spearman  \n",
       "MolWeight    MolWeight    -0.6585284 -0.6852988\n",
       "NumAtoms     NumAtoms     -0.4358113 -0.5198317\n",
       "NumNonHAtoms NumNonHAtoms -0.5836236 -0.6296540\n",
       "NumBonds     NumBonds     -0.4590395 -0.5483985\n",
       "NumNonHBonds NumNonHBonds -0.5851968 -0.6322837\n",
       "NumMultBonds NumMultBonds -0.4804159 -0.4797135"
      ]
     },
     "metadata": {},
     "output_type": "display_data"
    }
   ],
   "source": [
    "df_cor <- data.frame(predictors = names(cor_info),\n",
    "                   pearson = cor_info,\n",
    "                   spearman = cor_rank_info)\n",
    "head(df_cor)"
   ]
  },
  {
   "cell_type": "markdown",
   "metadata": {},
   "source": [
    "`LOESS  Locally Weighted Regression`"
   ]
  },
  {
   "cell_type": "code",
   "execution_count": 5,
   "metadata": {},
   "outputs": [
    {
     "data": {
      "text/plain": [
       "Call:\n",
       "loess(formula = solTrainY ~ solTrainXtrans$NumCarbon)\n",
       "\n",
       "Number of Observations: 951 \n",
       "Equivalent Number of Parameters: 5.3 \n",
       "Residual Standard Error: 1.548 "
      ]
     },
     "metadata": {},
     "output_type": "display_data"
    }
   ],
   "source": [
    "smoother <- loess(solTrainY~solTrainXtrans$NumCarbon)\n",
    "smoother"
   ]
  },
  {
   "cell_type": "code",
   "execution_count": 6,
   "metadata": {
    "scrolled": true
   },
   "outputs": [
    {
     "data": {},
     "metadata": {},
     "output_type": "display_data"
    },
    {
     "data": {
      "image/png": "[encoded data removed]",
      "text/plain": [
       "plot without title"
      ]
     },
     "metadata": {},
     "output_type": "display_data"
    }
   ],
   "source": [
    "library(lattice)\n",
    "xyplot(solTrainY~solTrainXtrans$NumCarbon,\n",
    "       type=c(\"p\",\"smooth\"),\n",
    "       xlab=\"#Carbon\",\n",
    "       ylab=\"Solubility\")"
   ]
  },
  {
   "cell_type": "code",
   "execution_count": 11,
   "metadata": {
    "scrolled": true
   },
   "outputs": [
    {
     "name": "stderr",
     "output_type": "stream",
     "text": [
      "Loading required package: lattice\n",
      "Loading required package: ggplot2\n"
     ]
    },
    {
     "data": {
      "text/html": [
       "<table>\n",
       "<thead><tr><th></th><th scope=col>Overall</th></tr></thead>\n",
       "<tbody>\n",
       "\t<tr><th scope=row>MolWeight</th><td>0.4443931</td></tr>\n",
       "\t<tr><th scope=row>NumAtoms</th><td>0.1899315</td></tr>\n",
       "\t<tr><th scope=row>NumNonHAtoms</th><td>0.3406166</td></tr>\n",
       "\t<tr><th scope=row>NumBonds</th><td>0.2107173</td></tr>\n",
       "\t<tr><th scope=row>NumNonHBonds</th><td>0.3424552</td></tr>\n",
       "\t<tr><th scope=row>NumMultBonds</th><td>0.2307995</td></tr>\n",
       "</tbody>\n",
       "</table>\n"
      ],
      "text/latex": [
       "\\begin{tabular}{r|l}\n",
       "  & Overall\\\\\n",
       "\\hline\n",
       "\tMolWeight & 0.4443931\\\\\n",
       "\tNumAtoms & 0.1899315\\\\\n",
       "\tNumNonHAtoms & 0.3406166\\\\\n",
       "\tNumBonds & 0.2107173\\\\\n",
       "\tNumNonHBonds & 0.3424552\\\\\n",
       "\tNumMultBonds & 0.2307995\\\\\n",
       "\\end{tabular}\n"
      ],
      "text/markdown": [
       "\n",
       "| <!--/--> | Overall | \n",
       "|---|---|---|---|---|---|\n",
       "| MolWeight | 0.4443931 | \n",
       "| NumAtoms | 0.1899315 | \n",
       "| NumNonHAtoms | 0.3406166 | \n",
       "| NumBonds | 0.2107173 | \n",
       "| NumNonHBonds | 0.3424552 | \n",
       "| NumMultBonds | 0.2307995 | \n",
       "\n",
       "\n"
      ],
      "text/plain": [
       "             Overall  \n",
       "MolWeight    0.4443931\n",
       "NumAtoms     0.1899315\n",
       "NumNonHAtoms 0.3406166\n",
       "NumBonds     0.2107173\n",
       "NumNonHBonds 0.3424552\n",
       "NumMultBonds 0.2307995"
      ]
     },
     "metadata": {},
     "output_type": "display_data"
    }
   ],
   "source": [
    "library(caret)\n",
    "varimp_loess <- filterVarImp(x=trn_X[,col_num],\n",
    "                            y=trn_y,nonpara=T)\n",
    "head(varimp_loess)\n",
    "names(varimp_loess)[1] <- \"smoother\""
   ]
  },
  {
   "cell_type": "code",
   "execution_count": 13,
   "metadata": {
    "scrolled": false
   },
   "outputs": [
    {
     "data": {
      "text/html": [
       "<ol class=list-inline>\n",
       "\t<li>'MIC'</li>\n",
       "\t<li>'MAS'</li>\n",
       "\t<li>'MEV'</li>\n",
       "\t<li>'MCN'</li>\n",
       "\t<li>'MICR2'</li>\n",
       "\t<li>'GMIC'</li>\n",
       "\t<li>'TIC'</li>\n",
       "</ol>\n"
      ],
      "text/latex": [
       "\\begin{enumerate*}\n",
       "\\item 'MIC'\n",
       "\\item 'MAS'\n",
       "\\item 'MEV'\n",
       "\\item 'MCN'\n",
       "\\item 'MICR2'\n",
       "\\item 'GMIC'\n",
       "\\item 'TIC'\n",
       "\\end{enumerate*}\n"
      ],
      "text/markdown": [
       "1. 'MIC'\n",
       "2. 'MAS'\n",
       "3. 'MEV'\n",
       "4. 'MCN'\n",
       "5. 'MICR2'\n",
       "6. 'GMIC'\n",
       "7. 'TIC'\n",
       "\n",
       "\n"
      ],
      "text/plain": [
       "[1] \"MIC\"   \"MAS\"   \"MEV\"   \"MCN\"   \"MICR2\" \"GMIC\"  \"TIC\"  "
      ]
     },
     "metadata": {},
     "output_type": "display_data"
    },
    {
     "data": {
      "text/html": [
       "<table>\n",
       "<thead><tr><th></th><th scope=col>Y</th></tr></thead>\n",
       "<tbody>\n",
       "\t<tr><th scope=row>MolWeight</th><td>0.4679277</td></tr>\n",
       "\t<tr><th scope=row>NumAtoms</th><td>0.2896815</td></tr>\n",
       "\t<tr><th scope=row>NumNonHAtoms</th><td>0.3947092</td></tr>\n",
       "\t<tr><th scope=row>NumBonds</th><td>0.3268683</td></tr>\n",
       "\t<tr><th scope=row>NumNonHBonds</th><td>0.3919627</td></tr>\n",
       "\t<tr><th scope=row>NumMultBonds</th><td>0.2792600</td></tr>\n",
       "</tbody>\n",
       "</table>\n"
      ],
      "text/latex": [
       "\\begin{tabular}{r|l}\n",
       "  & Y\\\\\n",
       "\\hline\n",
       "\tMolWeight & 0.4679277\\\\\n",
       "\tNumAtoms & 0.2896815\\\\\n",
       "\tNumNonHAtoms & 0.3947092\\\\\n",
       "\tNumBonds & 0.3268683\\\\\n",
       "\tNumNonHBonds & 0.3919627\\\\\n",
       "\tNumMultBonds & 0.2792600\\\\\n",
       "\\end{tabular}\n"
      ],
      "text/markdown": [
       "\n",
       "| <!--/--> | Y | \n",
       "|---|---|---|---|---|---|\n",
       "| MolWeight | 0.4679277 | \n",
       "| NumAtoms | 0.2896815 | \n",
       "| NumNonHAtoms | 0.3947092 | \n",
       "| NumBonds | 0.3268683 | \n",
       "| NumNonHBonds | 0.3919627 | \n",
       "| NumMultBonds | 0.2792600 | \n",
       "\n",
       "\n"
      ],
      "text/plain": [
       "             Y        \n",
       "MolWeight    0.4679277\n",
       "NumAtoms     0.2896815\n",
       "NumNonHAtoms 0.3947092\n",
       "NumBonds     0.3268683\n",
       "NumNonHBonds 0.3919627\n",
       "NumMultBonds 0.2792600"
      ]
     },
     "metadata": {},
     "output_type": "display_data"
    }
   ],
   "source": [
    "# install.packages(\"minerva\")\n",
    "library(minerva)\n",
    "mic_info <- mine(trn_X[,col_num],trn_y)\n",
    "names(mic_info)\n",
    "head(mic_info$MIC)"
   ]
  },
  {
   "cell_type": "code",
   "execution_count": 41,
   "metadata": {
    "scrolled": true
   },
   "outputs": [
    {
     "data": {
      "text/html": [
       "<table>\n",
       "<thead><tr><th></th><th scope=col>predictors</th><th scope=col>relief</th></tr></thead>\n",
       "<tbody>\n",
       "\t<tr><th scope=row>MolWeight</th><td>MolWeight   </td><td>0.084734907 </td></tr>\n",
       "\t<tr><th scope=row>NumAtoms</th><td>NumAtoms    </td><td>0.008618179 </td></tr>\n",
       "\t<tr><th scope=row>NumNonHAtoms</th><td>NumNonHAtoms</td><td>0.036433860 </td></tr>\n",
       "\t<tr><th scope=row>NumBonds</th><td>NumBonds    </td><td>0.002422405 </td></tr>\n",
       "\t<tr><th scope=row>NumNonHBonds</th><td>NumNonHBonds</td><td>0.035619406 </td></tr>\n",
       "\t<tr><th scope=row>NumMultBonds</th><td>NumMultBonds</td><td>0.051554380 </td></tr>\n",
       "</tbody>\n",
       "</table>\n"
      ],
      "text/latex": [
       "\\begin{tabular}{r|ll}\n",
       "  & predictors & relief\\\\\n",
       "\\hline\n",
       "\tMolWeight & MolWeight    & 0.084734907 \\\\\n",
       "\tNumAtoms & NumAtoms     & 0.008618179 \\\\\n",
       "\tNumNonHAtoms & NumNonHAtoms & 0.036433860 \\\\\n",
       "\tNumBonds & NumBonds     & 0.002422405 \\\\\n",
       "\tNumNonHBonds & NumNonHBonds & 0.035619406 \\\\\n",
       "\tNumMultBonds & NumMultBonds & 0.051554380 \\\\\n",
       "\\end{tabular}\n"
      ],
      "text/markdown": [
       "\n",
       "| <!--/--> | predictors | relief | \n",
       "|---|---|---|---|---|---|\n",
       "| MolWeight | MolWeight    | 0.084734907  | \n",
       "| NumAtoms | NumAtoms     | 0.008618179  | \n",
       "| NumNonHAtoms | NumNonHAtoms | 0.036433860  | \n",
       "| NumBonds | NumBonds     | 0.002422405  | \n",
       "| NumNonHBonds | NumNonHBonds | 0.035619406  | \n",
       "| NumMultBonds | NumMultBonds | 0.051554380  | \n",
       "\n",
       "\n"
      ],
      "text/plain": [
       "             predictors   relief     \n",
       "MolWeight    MolWeight    0.084734907\n",
       "NumAtoms     NumAtoms     0.008618179\n",
       "NumNonHAtoms NumNonHAtoms 0.036433860\n",
       "NumBonds     NumBonds     0.002422405\n",
       "NumNonHBonds NumNonHBonds 0.035619406\n",
       "NumMultBonds NumMultBonds 0.051554380"
      ]
     },
     "metadata": {},
     "output_type": "display_data"
    }
   ],
   "source": [
    "## The Relief values for regression can be computed using the CORElearn\n",
    "\n",
    "# SolContPred <- solTrainXtrans[, !grepl(\"FP\", names(solTrainXtrans))]\n",
    "# numSolPred <- ncol(SolContPred)\n",
    "# SolContPred$Sol <- solTrainY\n",
    "# library(CORElearn)\n",
    "\n",
    "ReliefF <- CORElearn::attrEval(solTrainY~.,data=trn[,col_num],estimator = \"RReliefFequalK\")\n",
    "ReliefF <- data.frame(predictors=names(ReliefF),relief=ReliefF)\n",
    "head(ReliefF)"
   ]
  },
  {
   "cell_type": "code",
   "execution_count": 18,
   "metadata": {
    "scrolled": true
   },
   "outputs": [
    {
     "data": {
      "text/html": [
       "<table>\n",
       "<thead><tr><th></th><th scope=col>predictors</th><th scope=col>pearson</th><th scope=col>spearman</th><th scope=col>Y</th><th scope=col>smoother</th><th scope=col>predictor</th><th scope=col>relief</th></tr></thead>\n",
       "<tbody>\n",
       "\t<tr><th scope=row>MolWeight</th><td>MolWeight   </td><td>-0.6585284  </td><td>-0.6852988  </td><td>0.4679277   </td><td>0.4443931   </td><td>MolWeight   </td><td>0.084734907 </td></tr>\n",
       "\t<tr><th scope=row>NumAtoms</th><td>NumAtoms    </td><td>-0.4358113  </td><td>-0.5198317  </td><td>0.2896815   </td><td>0.1899315   </td><td>NumAtoms    </td><td>0.008618179 </td></tr>\n",
       "\t<tr><th scope=row>NumNonHAtoms</th><td>NumNonHAtoms</td><td>-0.5836236  </td><td>-0.6296540  </td><td>0.3947092   </td><td>0.3406166   </td><td>NumNonHAtoms</td><td>0.036433860 </td></tr>\n",
       "\t<tr><th scope=row>NumBonds</th><td>NumBonds    </td><td>-0.4590395  </td><td>-0.5483985  </td><td>0.3268683   </td><td>0.2107173   </td><td>NumBonds    </td><td>0.002422405 </td></tr>\n",
       "\t<tr><th scope=row>NumNonHBonds</th><td>NumNonHBonds</td><td>-0.5851968  </td><td>-0.6322837  </td><td>0.3919627   </td><td>0.3424552   </td><td>NumNonHBonds</td><td>0.035619406 </td></tr>\n",
       "\t<tr><th scope=row>NumMultBonds</th><td>NumMultBonds</td><td>-0.4804159  </td><td>-0.4797135  </td><td>0.2792600   </td><td>0.2307995   </td><td>NumMultBonds</td><td>0.051554380 </td></tr>\n",
       "</tbody>\n",
       "</table>\n"
      ],
      "text/latex": [
       "\\begin{tabular}{r|lllllll}\n",
       "  & predictors & pearson & spearman & Y & smoother & predictor & relief\\\\\n",
       "\\hline\n",
       "\tMolWeight & MolWeight    & -0.6585284   & -0.6852988   & 0.4679277    & 0.4443931    & MolWeight    & 0.084734907 \\\\\n",
       "\tNumAtoms & NumAtoms     & -0.4358113   & -0.5198317   & 0.2896815    & 0.1899315    & NumAtoms     & 0.008618179 \\\\\n",
       "\tNumNonHAtoms & NumNonHAtoms & -0.5836236   & -0.6296540   & 0.3947092    & 0.3406166    & NumNonHAtoms & 0.036433860 \\\\\n",
       "\tNumBonds & NumBonds     & -0.4590395   & -0.5483985   & 0.3268683    & 0.2107173    & NumBonds     & 0.002422405 \\\\\n",
       "\tNumNonHBonds & NumNonHBonds & -0.5851968   & -0.6322837   & 0.3919627    & 0.3424552    & NumNonHBonds & 0.035619406 \\\\\n",
       "\tNumMultBonds & NumMultBonds & -0.4804159   & -0.4797135   & 0.2792600    & 0.2307995    & NumMultBonds & 0.051554380 \\\\\n",
       "\\end{tabular}\n"
      ],
      "text/markdown": [
       "\n",
       "| <!--/--> | predictors | pearson | spearman | Y | smoother | predictor | relief | \n",
       "|---|---|---|---|---|---|\n",
       "| MolWeight | MolWeight    | -0.6585284   | -0.6852988   | 0.4679277    | 0.4443931    | MolWeight    | 0.084734907  | \n",
       "| NumAtoms | NumAtoms     | -0.4358113   | -0.5198317   | 0.2896815    | 0.1899315    | NumAtoms     | 0.008618179  | \n",
       "| NumNonHAtoms | NumNonHAtoms | -0.5836236   | -0.6296540   | 0.3947092    | 0.3406166    | NumNonHAtoms | 0.036433860  | \n",
       "| NumBonds | NumBonds     | -0.4590395   | -0.5483985   | 0.3268683    | 0.2107173    | NumBonds     | 0.002422405  | \n",
       "| NumNonHBonds | NumNonHBonds | -0.5851968   | -0.6322837   | 0.3919627    | 0.3424552    | NumNonHBonds | 0.035619406  | \n",
       "| NumMultBonds | NumMultBonds | -0.4804159   | -0.4797135   | 0.2792600    | 0.2307995    | NumMultBonds | 0.051554380  | \n",
       "\n",
       "\n"
      ],
      "text/plain": [
       "             predictors   pearson    spearman   Y         smoother \n",
       "MolWeight    MolWeight    -0.6585284 -0.6852988 0.4679277 0.4443931\n",
       "NumAtoms     NumAtoms     -0.4358113 -0.5198317 0.2896815 0.1899315\n",
       "NumNonHAtoms NumNonHAtoms -0.5836236 -0.6296540 0.3947092 0.3406166\n",
       "NumBonds     NumBonds     -0.4590395 -0.5483985 0.3268683 0.2107173\n",
       "NumNonHBonds NumNonHBonds -0.5851968 -0.6322837 0.3919627 0.3424552\n",
       "NumMultBonds NumMultBonds -0.4804159 -0.4797135 0.2792600 0.2307995\n",
       "             predictor    relief     \n",
       "MolWeight    MolWeight    0.084734907\n",
       "NumAtoms     NumAtoms     0.008618179\n",
       "NumNonHAtoms NumNonHAtoms 0.036433860\n",
       "NumBonds     NumBonds     0.002422405\n",
       "NumNonHBonds NumNonHBonds 0.035619406\n",
       "NumMultBonds NumMultBonds 0.051554380"
      ]
     },
     "metadata": {},
     "output_type": "display_data"
    }
   ],
   "source": [
    "var_summary <- cbind(df_cor,mic_info$MIC,varimp_loess,ReliefF)\n",
    "head(var_summary)"
   ]
  },
  {
   "cell_type": "code",
   "execution_count": 19,
   "metadata": {},
   "outputs": [],
   "source": [
    "names(var_summary)[4] <- \"MIC\"\n",
    "var_summary <- var_summary[,-c(6)]"
   ]
  },
  {
   "cell_type": "code",
   "execution_count": 29,
   "metadata": {
    "scrolled": true
   },
   "outputs": [
    {
     "data": {
      "text/html": [
       "<table>\n",
       "<thead><tr><th></th><th scope=col>predictors</th><th scope=col>pearson</th><th scope=col>spearman</th><th scope=col>MIC</th><th scope=col>smoother</th><th scope=col>relief</th><th scope=col>pearson_abs</th><th scope=col>spearman_abs</th><th scope=col>group</th></tr></thead>\n",
       "<tbody>\n",
       "\t<tr><th scope=row>MolWeight</th><td>MolWeight   </td><td>-0.6585284  </td><td>-0.6852988  </td><td>0.4679277   </td><td>0.4443931   </td><td>0.084734907 </td><td>0.6585284   </td><td>0.6852988   </td><td>Other       </td></tr>\n",
       "\t<tr><th scope=row>NumAtoms</th><td>NumAtoms    </td><td>-0.4358113  </td><td>-0.5198317  </td><td>0.2896815   </td><td>0.1899315   </td><td>0.008618179 </td><td>0.4358113   </td><td>0.5198317   </td><td>Other       </td></tr>\n",
       "\t<tr><th scope=row>NumNonHAtoms</th><td>NumNonHAtoms</td><td>-0.5836236  </td><td>-0.6296540  </td><td>0.3947092   </td><td>0.3406166   </td><td>0.036433860 </td><td>0.5836236   </td><td>0.6296540   </td><td>Other       </td></tr>\n",
       "\t<tr><th scope=row>NumBonds</th><td>NumBonds    </td><td>-0.4590395  </td><td>-0.5483985  </td><td>0.3268683   </td><td>0.2107173   </td><td>0.002422405 </td><td>0.4590395   </td><td>0.5483985   </td><td>Other       </td></tr>\n",
       "\t<tr><th scope=row>NumNonHBonds</th><td>NumNonHBonds</td><td>-0.5851968  </td><td>-0.6322837  </td><td>0.3919627   </td><td>0.3424552   </td><td>0.035619406 </td><td>0.5851968   </td><td>0.6322837   </td><td>Other       </td></tr>\n",
       "\t<tr><th scope=row>NumMultBonds</th><td>NumMultBonds</td><td>-0.4804159  </td><td>-0.4797135  </td><td>0.2792600   </td><td>0.2307995   </td><td>0.051554380 </td><td>0.4804159   </td><td>0.4797135   </td><td>Other       </td></tr>\n",
       "</tbody>\n",
       "</table>\n"
      ],
      "text/latex": [
       "\\begin{tabular}{r|lllllllll}\n",
       "  & predictors & pearson & spearman & MIC & smoother & relief & pearson\\_abs & spearman\\_abs & group\\\\\n",
       "\\hline\n",
       "\tMolWeight & MolWeight    & -0.6585284   & -0.6852988   & 0.4679277    & 0.4443931    & 0.084734907  & 0.6585284    & 0.6852988    & Other       \\\\\n",
       "\tNumAtoms & NumAtoms     & -0.4358113   & -0.5198317   & 0.2896815    & 0.1899315    & 0.008618179  & 0.4358113    & 0.5198317    & Other       \\\\\n",
       "\tNumNonHAtoms & NumNonHAtoms & -0.5836236   & -0.6296540   & 0.3947092    & 0.3406166    & 0.036433860  & 0.5836236    & 0.6296540    & Other       \\\\\n",
       "\tNumBonds & NumBonds     & -0.4590395   & -0.5483985   & 0.3268683    & 0.2107173    & 0.002422405  & 0.4590395    & 0.5483985    & Other       \\\\\n",
       "\tNumNonHBonds & NumNonHBonds & -0.5851968   & -0.6322837   & 0.3919627    & 0.3424552    & 0.035619406  & 0.5851968    & 0.6322837    & Other       \\\\\n",
       "\tNumMultBonds & NumMultBonds & -0.4804159   & -0.4797135   & 0.2792600    & 0.2307995    & 0.051554380  & 0.4804159    & 0.4797135    & Other       \\\\\n",
       "\\end{tabular}\n"
      ],
      "text/markdown": [
       "\n",
       "| <!--/--> | predictors | pearson | spearman | MIC | smoother | relief | pearson_abs | spearman_abs | group | \n",
       "|---|---|---|---|---|---|\n",
       "| MolWeight | MolWeight    | -0.6585284   | -0.6852988   | 0.4679277    | 0.4443931    | 0.084734907  | 0.6585284    | 0.6852988    | Other        | \n",
       "| NumAtoms | NumAtoms     | -0.4358113   | -0.5198317   | 0.2896815    | 0.1899315    | 0.008618179  | 0.4358113    | 0.5198317    | Other        | \n",
       "| NumNonHAtoms | NumNonHAtoms | -0.5836236   | -0.6296540   | 0.3947092    | 0.3406166    | 0.036433860  | 0.5836236    | 0.6296540    | Other        | \n",
       "| NumBonds | NumBonds     | -0.4590395   | -0.5483985   | 0.3268683    | 0.2107173    | 0.002422405  | 0.4590395    | 0.5483985    | Other        | \n",
       "| NumNonHBonds | NumNonHBonds | -0.5851968   | -0.6322837   | 0.3919627    | 0.3424552    | 0.035619406  | 0.5851968    | 0.6322837    | Other        | \n",
       "| NumMultBonds | NumMultBonds | -0.4804159   | -0.4797135   | 0.2792600    | 0.2307995    | 0.051554380  | 0.4804159    | 0.4797135    | Other        | \n",
       "\n",
       "\n"
      ],
      "text/plain": [
       "             predictors   pearson    spearman   MIC       smoother  relief     \n",
       "MolWeight    MolWeight    -0.6585284 -0.6852988 0.4679277 0.4443931 0.084734907\n",
       "NumAtoms     NumAtoms     -0.4358113 -0.5198317 0.2896815 0.1899315 0.008618179\n",
       "NumNonHAtoms NumNonHAtoms -0.5836236 -0.6296540 0.3947092 0.3406166 0.036433860\n",
       "NumBonds     NumBonds     -0.4590395 -0.5483985 0.3268683 0.2107173 0.002422405\n",
       "NumNonHBonds NumNonHBonds -0.5851968 -0.6322837 0.3919627 0.3424552 0.035619406\n",
       "NumMultBonds NumMultBonds -0.4804159 -0.4797135 0.2792600 0.2307995 0.051554380\n",
       "             pearson_abs spearman_abs group\n",
       "MolWeight    0.6585284   0.6852988    Other\n",
       "NumAtoms     0.4358113   0.5198317    Other\n",
       "NumNonHAtoms 0.5836236   0.6296540    Other\n",
       "NumBonds     0.4590395   0.5483985    Other\n",
       "NumNonHBonds 0.5851968   0.6322837    Other\n",
       "NumMultBonds 0.4804159   0.4797135    Other"
      ]
     },
     "metadata": {},
     "output_type": "display_data"
    }
   ],
   "source": [
    "head(var_summary)\n",
    "write.csv(var_summary,\"var_summary.csv\")"
   ]
  },
  {
   "cell_type": "code",
   "execution_count": 24,
   "metadata": {},
   "outputs": [],
   "source": [
    "var_summary$pearson_abs <- abs(var_summary$pearson)\n",
    "var_summary$spearman_abs <- abs(var_summary$spearman)\n",
    "var_summary$group <- \"Other\"\n",
    "var_summary$group[grepl(\"Surface\",var_summary$predictors)] <- \"Surface\""
   ]
  },
  {
   "cell_type": "code",
   "execution_count": 30,
   "metadata": {},
   "outputs": [
    {
     "data": {},
     "metadata": {},
     "output_type": "display_data"
    },
    {
     "data": {
      "image/png": "[encoded data removed]",
      "text/plain": [
       "plot without title"
      ]
     },
     "metadata": {},
     "output_type": "display_data"
    }
   ],
   "source": [
    "splom(~var_summary[,c(7,8,5,4)],\n",
    "     groups=var_summary$group,\n",
    "     varnames=c(\"Correlation\", \"Rank\\nCorrelation\",\"LOESS\",\"MIC\"))"
   ]
  },
  {
   "cell_type": "code",
   "execution_count": 60,
   "metadata": {
    "scrolled": true
   },
   "outputs": [
    {
     "data": {},
     "metadata": {},
     "output_type": "display_data"
    },
    {
     "data": {
      "image/png": "[encoded data removed]",
      "text/plain": [
       "plot without title"
      ]
     },
     "metadata": {},
     "output_type": "display_data"
    }
   ],
   "source": [
    "featurePlot(solTrainXtrans[,c(\"NumCarbon\",\"SurfaceArea2\")],\n",
    "           solTrainY,between=list(x=1),\n",
    "           type=c(\"g\",\"p\",\"smooth\"),\n",
    "           df=3,aspect=1,labels=c(\"\",\"Solubility\"))"
   ]
  },
  {
   "cell_type": "code",
   "execution_count": 13,
   "metadata": {
    "scrolled": false
   },
   "outputs": [
    {
     "data": {
      "text/plain": [
       "\n",
       "\tWelch Two Sample t-test\n",
       "\n",
       "data:  solTrainY by solTrainXtrans$FP044\n",
       "t = 15.198, df = 61.891, p-value < 2.2e-16\n",
       "alternative hypothesis: true difference in means is not equal to 0\n",
       "95 percent confidence interval:\n",
       " 3.569300 4.650437\n",
       "sample estimates:\n",
       "mean in group 0 mean in group 1 \n",
       "      -2.472237       -6.582105 \n"
      ]
     },
     "metadata": {},
     "output_type": "display_data"
    }
   ],
   "source": [
    "#for  categorical vars\n",
    "t.test(solTrainY~solTrainXtrans$FP044)"
   ]
  },
  {
   "cell_type": "code",
   "execution_count": 15,
   "metadata": {},
   "outputs": [
    {
     "name": "stdout",
     "output_type": "stream",
     "text": [
      "List of 9\n",
      " $ statistic  : Named num 15.2\n",
      "  ..- attr(*, \"names\")= chr \"t\"\n",
      " $ parameter  : Named num 61.9\n",
      "  ..- attr(*, \"names\")= chr \"df\"\n",
      " $ p.value    : num 1.46e-22\n",
      " $ conf.int   : num [1:2] 3.57 4.65\n",
      "  ..- attr(*, \"conf.level\")= num 0.95\n",
      " $ estimate   : Named num [1:2] -2.47 -6.58\n",
      "  ..- attr(*, \"names\")= chr [1:2] \"mean in group 0\" \"mean in group 1\"\n",
      " $ null.value : Named num 0\n",
      "  ..- attr(*, \"names\")= chr \"difference in means\"\n",
      " $ alternative: chr \"two.sided\"\n",
      " $ method     : chr \"Welch Two Sample t-test\"\n",
      " $ data.name  : chr \"solTrainY by solTrainXtrans$FP044\"\n",
      " - attr(*, \"class\")= chr \"htest\"\n"
     ]
    }
   ],
   "source": [
    "str(t.test(solTrainY~solTrainXtrans$FP044))"
   ]
  },
  {
   "cell_type": "code",
   "execution_count": 55,
   "metadata": {
    "scrolled": false
   },
   "outputs": [
    {
     "data": {
      "text/html": [
       "<table>\n",
       "<thead><tr><th></th><th scope=col>t.Statistic</th><th scope=col>t.test_p.value</th><th scope=col>mean0</th><th scope=col>mean1</th><th scope=col>diff</th></tr></thead>\n",
       "<tbody>\n",
       "\t<tr><th scope=row>FP001</th><td>-4.022040   </td><td>6.287404e-05</td><td>-2.978465   </td><td>-2.451471   </td><td> 0.5269935  </td></tr>\n",
       "\t<tr><th scope=row>FP002</th><td>10.286727   </td><td>1.351580e-23</td><td>-2.021347   </td><td>-3.313860   </td><td>-1.2925126  </td></tr>\n",
       "\t<tr><th scope=row>FP003</th><td>-2.036442   </td><td>4.198619e-02</td><td>-2.832164   </td><td>-2.571855   </td><td> 0.2603088  </td></tr>\n",
       "\t<tr><th scope=row>FP004</th><td>-4.948958   </td><td>9.551772e-07</td><td>-3.128380   </td><td>-2.427428   </td><td> 0.7009517  </td></tr>\n",
       "\t<tr><th scope=row>FP005</th><td>10.282475   </td><td>1.576549e-23</td><td>-1.969000   </td><td>-3.262722   </td><td>-1.2937223  </td></tr>\n",
       "\t<tr><th scope=row>FP006</th><td>-7.875838   </td><td>9.287835e-15</td><td>-3.109421   </td><td>-2.133832   </td><td> 0.9755890  </td></tr>\n",
       "</tbody>\n",
       "</table>\n"
      ],
      "text/latex": [
       "\\begin{tabular}{r|lllll}\n",
       "  & t.Statistic & t.test\\_p.value & mean0 & mean1 & diff\\\\\n",
       "\\hline\n",
       "\tFP001 & -4.022040    & 6.287404e-05 & -2.978465    & -2.451471    &  0.5269935  \\\\\n",
       "\tFP002 & 10.286727    & 1.351580e-23 & -2.021347    & -3.313860    & -1.2925126  \\\\\n",
       "\tFP003 & -2.036442    & 4.198619e-02 & -2.832164    & -2.571855    &  0.2603088  \\\\\n",
       "\tFP004 & -4.948958    & 9.551772e-07 & -3.128380    & -2.427428    &  0.7009517  \\\\\n",
       "\tFP005 & 10.282475    & 1.576549e-23 & -1.969000    & -3.262722    & -1.2937223  \\\\\n",
       "\tFP006 & -7.875838    & 9.287835e-15 & -3.109421    & -2.133832    &  0.9755890  \\\\\n",
       "\\end{tabular}\n"
      ],
      "text/markdown": [
       "\n",
       "| <!--/--> | t.Statistic | t.test_p.value | mean0 | mean1 | diff | \n",
       "|---|---|---|---|---|---|\n",
       "| FP001 | -4.022040    | 6.287404e-05 | -2.978465    | -2.451471    |  0.5269935   | \n",
       "| FP002 | 10.286727    | 1.351580e-23 | -2.021347    | -3.313860    | -1.2925126   | \n",
       "| FP003 | -2.036442    | 4.198619e-02 | -2.832164    | -2.571855    |  0.2603088   | \n",
       "| FP004 | -4.948958    | 9.551772e-07 | -3.128380    | -2.427428    |  0.7009517   | \n",
       "| FP005 | 10.282475    | 1.576549e-23 | -1.969000    | -3.262722    | -1.2937223   | \n",
       "| FP006 | -7.875838    | 9.287835e-15 | -3.109421    | -2.133832    |  0.9755890   | \n",
       "\n",
       "\n"
      ],
      "text/plain": [
       "      t.Statistic t.test_p.value mean0     mean1     diff      \n",
       "FP001 -4.022040   6.287404e-05   -2.978465 -2.451471  0.5269935\n",
       "FP002 10.286727   1.351580e-23   -2.021347 -3.313860 -1.2925126\n",
       "FP003 -2.036442   4.198619e-02   -2.832164 -2.571855  0.2603088\n",
       "FP004 -4.948958   9.551772e-07   -3.128380 -2.427428  0.7009517\n",
       "FP005 10.282475   1.576549e-23   -1.969000 -3.262722 -1.2937223\n",
       "FP006 -7.875838   9.287835e-15   -3.109421 -2.133832  0.9755890"
      ]
     },
     "metadata": {},
     "output_type": "display_data"
    }
   ],
   "source": [
    "getTstats <- function(x,y)\n",
    "    {\n",
    "    tTest <- t.test(y~x)[c(\"statistic\",\"p.value\",\"estimate\")]\n",
    "    unlist(tTest)\n",
    "}\n",
    "\n",
    "t_info <- apply(trn_X[,col_fp],MARGIN = 2,FUN = getTstats,y=trn_y)\n",
    "t_info <- as.data.frame(t(t_info))\n",
    "names(t_info) <- c(\"t.Statistic\", \"t.test_p.value\", \"mean0\", \"mean1\")\n",
    "t_info$diff <- t_info$mean1-t_info$mean0\n",
    "\n",
    "head(t_info)"
   ]
  },
  {
   "cell_type": "code",
   "execution_count": 56,
   "metadata": {
    "scrolled": true
   },
   "outputs": [
    {
     "data": {},
     "metadata": {},
     "output_type": "display_data"
    },
    {
     "data": {
      "image/png": "[encoded data removed]",
      "text/plain": [
       "plot without title"
      ]
     },
     "metadata": {},
     "output_type": "display_data"
    }
   ],
   "source": [
    "xyplot(-log10(t.test_p.value)~diff,\n",
    "      data=t_info,\n",
    "      xlab=\"Mean With Structure - Mean Without Structure\",\n",
    "      ylab=\"-log(p-Value)\",\n",
    "      type=\"p\")"
   ]
  },
  {
   "cell_type": "markdown",
   "metadata": {},
   "source": [
    "> 决定每个二进制预测变量之间关系的最直接的方法是检测每类中结构变量均值是否有差异。\n",
    "\n",
    "> 比较两组均值最自然地方法是标准t统计量，期本质上就是一个信号和噪音的比例（均值差除以两组方差的函数）。检验p值对应的零假设是\"两组间没有显著差异\"。该统计量建立在数据是正态分布的假设上。如果数据分布不符合该假设，或许可以使用其他更和更合适的方法（如Wilcoxon秩和检验）\n",
    "\n",
    "> 哪个预测变量更重要取决于具体环境和数据。如果信号足够大，模型可能可以克服噪声的干扰，在其他情况下，更小但是更精确的差别可能给出更好的表现。\n",
    "\n",
    "> 当预测变量对应的类多于2个是，可以用方差分析ANOVA的方法探索预测变量的统计显著性，然而，如果检测结果表明各类别对应的均值存在不同，下一步要做的事探索哪里不同。处于此原因，我们需要将该分类变量准化为几个0-1虚拟变量然后用前面的方法决定每一类和结果变量的关联。"
   ]
  },
  {
   "cell_type": "markdown",
   "metadata": {},
   "source": [
    "`Categorical`"
   ]
  },
  {
   "cell_type": "code",
   "execution_count": 63,
   "metadata": {},
   "outputs": [
    {
     "name": "stdout",
     "output_type": "stream",
     "text": [
      "'data.frame':\t2019 obs. of  61 variables:\n",
      " $ Cell                   : int  207827637 207932307 207932463 207932470 207932455 207827656 207827659 207827661 207932479 207932480 ...\n",
      " $ Case                   : Factor w/ 2 levels \"Test\",\"Train\": 1 2 2 2 1 1 1 1 1 1 ...\n",
      " $ Class                  : Factor w/ 2 levels \"PS\",\"WS\": 1 1 2 1 1 2 2 1 2 2 ...\n",
      " $ AngleCh1               : num  143.25 133.75 106.65 69.15 2.89 ...\n",
      " $ AreaCh1                : int  185 819 431 298 285 172 177 251 495 384 ...\n",
      " $ AvgIntenCh1            : num  15.7 31.9 28 19.5 24.3 ...\n",
      " $ AvgIntenCh2            : num  4.95 206.88 116.32 102.29 112.42 ...\n",
      " $ AvgIntenCh3            : num  9.55 69.92 63.94 28.22 20.47 ...\n",
      " $ AvgIntenCh4            : num  2.21 164.15 106.7 31.03 40.58 ...\n",
      " $ ConvexHullAreaRatioCh1 : num  1.12 1.26 1.05 1.2 1.11 ...\n",
      " $ ConvexHullPerimRatioCh1: num  0.92 0.797 0.935 0.866 0.957 ...\n",
      " $ DiffIntenDensityCh1    : num  29.5 31.9 32.5 26.7 31.6 ...\n",
      " $ DiffIntenDensityCh3    : num  13.8 43.1 36 22.9 21.7 ...\n",
      " $ DiffIntenDensityCh4    : num  6.83 79.31 51.36 26.39 25.03 ...\n",
      " $ EntropyIntenCh1        : num  4.97 6.09 5.88 5.42 5.66 ...\n",
      " $ EntropyIntenCh3        : num  4.37 6.64 6.68 5.44 5.29 ...\n",
      " $ EntropyIntenCh4        : num  2.72 7.88 7.14 5.78 5.24 ...\n",
      " $ EqCircDiamCh1          : num  15.4 32.3 23.4 19.5 19.1 ...\n",
      " $ EqEllipseLWRCh1        : num  3.06 1.56 1.38 3.39 2.74 ...\n",
      " $ EqEllipseOblateVolCh1  : num  337 2233 802 725 608 ...\n",
      " $ EqEllipseProlateVolCh1 : num  110 1433 583 214 222 ...\n",
      " $ EqSphereAreaCh1        : num  742 3279 1727 1195 1140 ...\n",
      " $ EqSphereVolCh1         : num  1901 17654 6751 3884 3621 ...\n",
      " $ FiberAlign2Ch3         : num  1 1.49 1.3 1.22 1.49 ...\n",
      " $ FiberAlign2Ch4         : num  1 1.35 1.52 1.73 1.38 ...\n",
      " $ FiberLengthCh1         : num  27 64.3 21.1 43.1 34.7 ...\n",
      " $ FiberWidthCh1          : num  7.41 13.17 21.14 7.4 8.48 ...\n",
      " $ IntenCoocASMCh3        : num  0.01118 0.02805 0.00686 0.03096 0.02277 ...\n",
      " $ IntenCoocASMCh4        : num  0.05045 0.01259 0.00614 0.01103 0.07969 ...\n",
      " $ IntenCoocContrastCh3   : num  40.75 8.23 14.45 7.3 15.85 ...\n",
      " $ IntenCoocContrastCh4   : num  13.9 6.98 16.7 13.39 3.54 ...\n",
      " $ IntenCoocEntropyCh3    : num  7.2 6.82 7.58 6.31 6.78 ...\n",
      " $ IntenCoocEntropyCh4    : num  5.25 7.1 7.67 7.2 5.5 ...\n",
      " $ IntenCoocMaxCh3        : num  0.0774 0.1532 0.0284 0.1628 0.1274 ...\n",
      " $ IntenCoocMaxCh4        : num  0.172 0.0739 0.0232 0.0775 0.2785 ...\n",
      " $ KurtIntenCh1           : num  -0.6567 -0.2488 -0.2935 0.6259 0.0421 ...\n",
      " $ KurtIntenCh3           : num  -0.608 -0.331 1.051 0.128 0.952 ...\n",
      " $ KurtIntenCh4           : num  0.726 -0.265 0.151 -0.347 -0.195 ...\n",
      " $ LengthCh1              : num  26.2 47.2 28.1 37.9 36 ...\n",
      " $ NeighborAvgDistCh1     : num  370 174 158 206 205 ...\n",
      " $ NeighborMinDistCh1     : num  99.1 30.1 34.9 33.1 27 ...\n",
      " $ NeighborVarDistCh1     : num  128 81.4 90.4 116.9 111 ...\n",
      " $ PerimCh1               : num  68.8 154.9 84.6 101.1 86.5 ...\n",
      " $ ShapeBFRCh1            : num  0.665 0.54 0.724 0.589 0.6 ...\n",
      " $ ShapeLWRCh1            : num  2.46 1.47 1.33 2.83 2.73 ...\n",
      " $ ShapeP2ACh1            : num  1.88 2.26 1.27 2.55 2.02 ...\n",
      " $ SkewIntenCh1           : num  0.455 0.399 0.472 0.882 0.517 ...\n",
      " $ SkewIntenCh3           : num  0.46 0.62 0.971 1 1.177 ...\n",
      " $ SkewIntenCh4           : num  1.233 0.527 0.325 0.604 0.926 ...\n",
      " $ SpotFiberCountCh3      : int  1 4 2 4 1 1 0 2 1 1 ...\n",
      " $ SpotFiberCountCh4      : num  5 12 7 8 8 5 5 8 12 8 ...\n",
      " $ TotalIntenCh1          : int  2781 24964 11552 5545 6603 53779 43950 4401 7593 6512 ...\n",
      " $ TotalIntenCh2          : num  701 160998 47511 28870 30306 ...\n",
      " $ TotalIntenCh3          : int  1690 54675 26344 8042 5569 21234 20929 4136 6488 7503 ...\n",
      " $ TotalIntenCh4          : int  392 128368 43959 8843 11037 57231 46187 373 24325 23162 ...\n",
      " $ VarIntenCh1            : num  12.5 18.8 17.3 13.8 15.4 ...\n",
      " $ VarIntenCh3            : num  7.61 56.72 37.67 30.01 20.5 ...\n",
      " $ VarIntenCh4            : num  2.71 118.39 49.47 24.75 45.45 ...\n",
      " $ WidthCh1               : num  10.6 32.2 21.2 13.4 13.2 ...\n",
      " $ XCentroid              : int  42 215 371 487 283 191 180 373 236 303 ...\n",
      " $ YCentroid              : int  14 347 252 295 159 127 138 181 467 468 ...\n"
     ]
    }
   ],
   "source": [
    "str(segmentationData)"
   ]
  },
  {
   "cell_type": "code",
   "execution_count": 64,
   "metadata": {},
   "outputs": [],
   "source": [
    "data(segmentationData)\n",
    "trn <- subset(segmentationData,Case==\"Train\")\n",
    "trn$Case <- trn$Cell <- NULL\n",
    "\n",
    "vld <- subset(segmentationData,Case==\"Test\")\n",
    "vld$Case <- vld$Cell <- NULL"
   ]
  },
  {
   "cell_type": "code",
   "execution_count": 65,
   "metadata": {},
   "outputs": [
    {
     "data": {
      "text/html": [
       "<table>\n",
       "<thead><tr><th></th><th scope=col>PS</th><th scope=col>WS</th><th scope=col>Predictor</th></tr></thead>\n",
       "<tbody>\n",
       "\t<tr><th scope=row>AngleCh1</th><td>0.5025967  </td><td>0.5025967  </td><td>AngleCh1   </td></tr>\n",
       "\t<tr><th scope=row>AreaCh1</th><td>0.5709170  </td><td>0.5709170  </td><td>AreaCh1    </td></tr>\n",
       "\t<tr><th scope=row>AvgIntenCh1</th><td>0.7662375  </td><td>0.7662375  </td><td>AvgIntenCh1</td></tr>\n",
       "\t<tr><th scope=row>AvgIntenCh2</th><td>0.7866146  </td><td>0.7866146  </td><td>AvgIntenCh2</td></tr>\n",
       "\t<tr><th scope=row>AvgIntenCh3</th><td>0.5214098  </td><td>0.5214098  </td><td>AvgIntenCh3</td></tr>\n",
       "\t<tr><th scope=row>AvgIntenCh4</th><td>0.6473814  </td><td>0.6473814  </td><td>AvgIntenCh4</td></tr>\n",
       "</tbody>\n",
       "</table>\n"
      ],
      "text/latex": [
       "\\begin{tabular}{r|lll}\n",
       "  & PS & WS & Predictor\\\\\n",
       "\\hline\n",
       "\tAngleCh1 & 0.5025967   & 0.5025967   & AngleCh1   \\\\\n",
       "\tAreaCh1 & 0.5709170   & 0.5709170   & AreaCh1    \\\\\n",
       "\tAvgIntenCh1 & 0.7662375   & 0.7662375   & AvgIntenCh1\\\\\n",
       "\tAvgIntenCh2 & 0.7866146   & 0.7866146   & AvgIntenCh2\\\\\n",
       "\tAvgIntenCh3 & 0.5214098   & 0.5214098   & AvgIntenCh3\\\\\n",
       "\tAvgIntenCh4 & 0.6473814   & 0.6473814   & AvgIntenCh4\\\\\n",
       "\\end{tabular}\n"
      ],
      "text/markdown": [
       "\n",
       "| <!--/--> | PS | WS | Predictor | \n",
       "|---|---|---|---|---|---|\n",
       "| AngleCh1 | 0.5025967   | 0.5025967   | AngleCh1    | \n",
       "| AreaCh1 | 0.5709170   | 0.5709170   | AreaCh1     | \n",
       "| AvgIntenCh1 | 0.7662375   | 0.7662375   | AvgIntenCh1 | \n",
       "| AvgIntenCh2 | 0.7866146   | 0.7866146   | AvgIntenCh2 | \n",
       "| AvgIntenCh3 | 0.5214098   | 0.5214098   | AvgIntenCh3 | \n",
       "| AvgIntenCh4 | 0.6473814   | 0.6473814   | AvgIntenCh4 | \n",
       "\n",
       "\n"
      ],
      "text/plain": [
       "            PS        WS        Predictor  \n",
       "AngleCh1    0.5025967 0.5025967 AngleCh1   \n",
       "AreaCh1     0.5709170 0.5709170 AreaCh1    \n",
       "AvgIntenCh1 0.7662375 0.7662375 AvgIntenCh1\n",
       "AvgIntenCh2 0.7866146 0.7866146 AvgIntenCh2\n",
       "AvgIntenCh3 0.5214098 0.5214098 AvgIntenCh3\n",
       "AvgIntenCh4 0.6473814 0.6473814 AvgIntenCh4"
      ]
     },
     "metadata": {},
     "output_type": "display_data"
    }
   ],
   "source": [
    "## auc\n",
    "auc_info <- filterVarImp(x=trn[,-1],y=trn$Class)\n",
    "auc_info$Predictor <- rownames(auc_info)\n",
    "head(auc_info)"
   ]
  },
  {
   "cell_type": "code",
   "execution_count": 67,
   "metadata": {},
   "outputs": [
    {
     "data": {
      "text/html": [
       "<table>\n",
       "<thead><tr><th></th><th scope=col>t.Statistic</th><th scope=col>t.test_p.value</th><th scope=col>mean0</th><th scope=col>mean1</th><th scope=col>Predictor</th></tr></thead>\n",
       "<tbody>\n",
       "\t<tr><th scope=row>AngleCh1</th><td> -0.2186985 </td><td>8.269443e-01</td><td> 90.86539   </td><td> 91.57148   </td><td>AngleCh1    </td></tr>\n",
       "\t<tr><th scope=row>AreaCh1</th><td> -0.9316066 </td><td>3.517830e-01</td><td>320.55189   </td><td>332.92493   </td><td>AreaCh1     </td></tr>\n",
       "\t<tr><th scope=row>AvgIntenCh1</th><td>-11.7540085 </td><td>4.819837e-28</td><td> 77.02212   </td><td>214.69221   </td><td>AvgIntenCh1 </td></tr>\n",
       "\t<tr><th scope=row>AvgIntenCh2</th><td>-16.0940082 </td><td>2.530403e-50</td><td>132.44052   </td><td>277.83973   </td><td>AvgIntenCh2 </td></tr>\n",
       "\t<tr><th scope=row>AvgIntenCh3</th><td> -0.1475297 </td><td>8.827553e-01</td><td> 95.78766   </td><td> 96.71147   </td><td>AvgIntenCh3 </td></tr>\n",
       "\t<tr><th scope=row>AvgIntenCh4</th><td> -6.2372500 </td><td>7.976250e-10</td><td>116.82871   </td><td>179.57968   </td><td>AvgIntenCh4 </td></tr>\n",
       "</tbody>\n",
       "</table>\n"
      ],
      "text/latex": [
       "\\begin{tabular}{r|lllll}\n",
       "  & t.Statistic & t.test\\_p.value & mean0 & mean1 & Predictor\\\\\n",
       "\\hline\n",
       "\tAngleCh1 &  -0.2186985  & 8.269443e-01 &  90.86539    &  91.57148    & AngleCh1    \\\\\n",
       "\tAreaCh1 &  -0.9316066  & 3.517830e-01 & 320.55189    & 332.92493    & AreaCh1     \\\\\n",
       "\tAvgIntenCh1 & -11.7540085  & 4.819837e-28 &  77.02212    & 214.69221    & AvgIntenCh1 \\\\\n",
       "\tAvgIntenCh2 & -16.0940082  & 2.530403e-50 & 132.44052    & 277.83973    & AvgIntenCh2 \\\\\n",
       "\tAvgIntenCh3 &  -0.1475297  & 8.827553e-01 &  95.78766    &  96.71147    & AvgIntenCh3 \\\\\n",
       "\tAvgIntenCh4 &  -6.2372500  & 7.976250e-10 & 116.82871    & 179.57968    & AvgIntenCh4 \\\\\n",
       "\\end{tabular}\n"
      ],
      "text/markdown": [
       "\n",
       "| <!--/--> | t.Statistic | t.test_p.value | mean0 | mean1 | Predictor | \n",
       "|---|---|---|---|---|---|\n",
       "| AngleCh1 |  -0.2186985  | 8.269443e-01 |  90.86539    |  91.57148    | AngleCh1     | \n",
       "| AreaCh1 |  -0.9316066  | 3.517830e-01 | 320.55189    | 332.92493    | AreaCh1      | \n",
       "| AvgIntenCh1 | -11.7540085  | 4.819837e-28 |  77.02212    | 214.69221    | AvgIntenCh1  | \n",
       "| AvgIntenCh2 | -16.0940082  | 2.530403e-50 | 132.44052    | 277.83973    | AvgIntenCh2  | \n",
       "| AvgIntenCh3 |  -0.1475297  | 8.827553e-01 |  95.78766    |  96.71147    | AvgIntenCh3  | \n",
       "| AvgIntenCh4 |  -6.2372500  | 7.976250e-10 | 116.82871    | 179.57968    | AvgIntenCh4  | \n",
       "\n",
       "\n"
      ],
      "text/plain": [
       "            t.Statistic t.test_p.value mean0     mean1     Predictor  \n",
       "AngleCh1     -0.2186985 8.269443e-01    90.86539  91.57148 AngleCh1   \n",
       "AreaCh1      -0.9316066 3.517830e-01   320.55189 332.92493 AreaCh1    \n",
       "AvgIntenCh1 -11.7540085 4.819837e-28    77.02212 214.69221 AvgIntenCh1\n",
       "AvgIntenCh2 -16.0940082 2.530403e-50   132.44052 277.83973 AvgIntenCh2\n",
       "AvgIntenCh3  -0.1475297 8.827553e-01    95.78766  96.71147 AvgIntenCh3\n",
       "AvgIntenCh4  -6.2372500 7.976250e-10   116.82871 179.57968 AvgIntenCh4"
      ]
     },
     "metadata": {},
     "output_type": "display_data"
    }
   ],
   "source": [
    "getTstats <- function(x,y)\n",
    "    {\n",
    "    tTest <- t.test(x~y)[c(\"statistic\",\"p.value\",\"estimate\")]\n",
    "    unlist(tTest)\n",
    "}\n",
    "\n",
    "tTest_info <- apply(trn[,-1],2,FUN = getTstats,y=trn$Class)\n",
    "tTest_info <- as.data.frame(t(tTest_info))\n",
    "names(tTest_info) <- c(\"t.Statistic\", \"t.test_p.value\", \"mean0\", \"mean1\")\n",
    "tTest_info$Predictor <- rownames(tTest_info)\n",
    "head(tTest_info)"
   ]
  },
  {
   "cell_type": "code",
   "execution_count": 69,
   "metadata": {
    "scrolled": true
   },
   "outputs": [
    {
     "data": {
      "text/html": [
       "<table>\n",
       "<thead><tr><th></th><th scope=col>RF</th><th scope=col>Predictor</th></tr></thead>\n",
       "<tbody>\n",
       "\t<tr><th scope=row>AngleCh1</th><td> 5.101970  </td><td>AngleCh1   </td></tr>\n",
       "\t<tr><th scope=row>AreaCh1</th><td> 4.493654  </td><td>AreaCh1    </td></tr>\n",
       "\t<tr><th scope=row>AvgIntenCh1</th><td>17.914886  </td><td>AvgIntenCh1</td></tr>\n",
       "\t<tr><th scope=row>AvgIntenCh2</th><td>19.875244  </td><td>AvgIntenCh2</td></tr>\n",
       "\t<tr><th scope=row>AvgIntenCh3</th><td> 5.371608  </td><td>AvgIntenCh3</td></tr>\n",
       "\t<tr><th scope=row>AvgIntenCh4</th><td> 5.849948  </td><td>AvgIntenCh4</td></tr>\n",
       "</tbody>\n",
       "</table>\n"
      ],
      "text/latex": [
       "\\begin{tabular}{r|ll}\n",
       "  & RF & Predictor\\\\\n",
       "\\hline\n",
       "\tAngleCh1 &  5.101970   & AngleCh1   \\\\\n",
       "\tAreaCh1 &  4.493654   & AreaCh1    \\\\\n",
       "\tAvgIntenCh1 & 17.914886   & AvgIntenCh1\\\\\n",
       "\tAvgIntenCh2 & 19.875244   & AvgIntenCh2\\\\\n",
       "\tAvgIntenCh3 &  5.371608   & AvgIntenCh3\\\\\n",
       "\tAvgIntenCh4 &  5.849948   & AvgIntenCh4\\\\\n",
       "\\end{tabular}\n"
      ],
      "text/markdown": [
       "\n",
       "| <!--/--> | RF | Predictor | \n",
       "|---|---|---|---|---|---|\n",
       "| AngleCh1 |  5.101970   | AngleCh1    | \n",
       "| AreaCh1 |  4.493654   | AreaCh1     | \n",
       "| AvgIntenCh1 | 17.914886   | AvgIntenCh1 | \n",
       "| AvgIntenCh2 | 19.875244   | AvgIntenCh2 | \n",
       "| AvgIntenCh3 |  5.371608   | AvgIntenCh3 | \n",
       "| AvgIntenCh4 |  5.849948   | AvgIntenCh4 | \n",
       "\n",
       "\n"
      ],
      "text/plain": [
       "            RF        Predictor  \n",
       "AngleCh1     5.101970 AngleCh1   \n",
       "AreaCh1      4.493654 AreaCh1    \n",
       "AvgIntenCh1 17.914886 AvgIntenCh1\n",
       "AvgIntenCh2 19.875244 AvgIntenCh2\n",
       "AvgIntenCh3  5.371608 AvgIntenCh3\n",
       "AvgIntenCh4  5.849948 AvgIntenCh4"
      ]
     },
     "metadata": {},
     "output_type": "display_data"
    }
   ],
   "source": [
    "## Fit a random forest model and get the importance scores\n",
    "library(randomForest)\n",
    "set.seed(791)\n",
    "fit_rf <- randomForest(Class~.,data=trn,ntree=200,importance=T)\n",
    "\n",
    "rf_info <- data.frame(RF=importance(fit_rf)[,\"MeanDecreaseGini\"],\n",
    "                     Predictor = rownames(importance(fit_rf)))\n",
    "head(rf_info)"
   ]
  },
  {
   "cell_type": "markdown",
   "metadata": {},
   "source": [
    "`Relief`"
   ]
  }
 ],
 "metadata": {
  "kernelspec": {
   "display_name": "R",
   "language": "R",
   "name": "ir"
  },
  "language_info": {
   "codemirror_mode": "r",
   "file_extension": ".r",
   "mimetype": "text/x-r-source",
   "name": "R",
   "pygments_lexer": "r",
   "version": "3.5.1"
  },
  "latex_envs": {
   "LaTeX_envs_menu_present": true,
   "autoclose": false,
   "autocomplete": true,
   "bibliofile": "biblio.bib",
   "cite_by": "apalike",
   "current_citInitial": 1,
   "eqLabelWithNumbers": true,
   "eqNumInitial": 1,
   "hotkeys": {
    "equation": "Ctrl-E",
    "itemize": "Ctrl-I"
   },
   "labels_anchors": false,
   "latex_user_defs": false,
   "report_style_numbering": false,
   "user_envs_cfg": false
  },
  "toc": {
   "base_numbering": 1,
   "nav_menu": {},
   "number_sections": true,
   "sideBar": true,
   "skip_h1_title": false,
   "title_cell": "Table of Contents",
   "title_sidebar": "Contents",
   "toc_cell": false,
   "toc_position": {},
   "toc_section_display": true,
   "toc_window_display": false
  }
 },
 "nbformat": 4,
 "nbformat_minor": 2
}
