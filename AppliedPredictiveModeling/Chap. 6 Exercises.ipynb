{
 "cells": [
  {
   "cell_type": "markdown",
   "metadata": {},
   "source": [
    "6.1. Infrared (IR) spectroscopy technology is used to determine the chemical makeup of a substance. The theory of IR spectroscopy holds that unique\n",
    "molecular structures absorb IR frequencies differently. In practice a spectrometer fires a series of IR frequencies into a sample material, and the device\n",
    "measures the absorbance of the sample at each individual frequency. This\n",
    "series of measurements creates a spectrum profile which can then be used to\n",
    "determine the chemical makeup of the sample material.\n",
    "A Tecator Infratec Food and Feed Analyzer instrument was used to analyze\n",
    "215 samples of meat across 100 frequencies. A sample of these frequency profiles is displayed in Fig. 6.20. In addition to an IR profile, analytical chemistry\n",
    "determined the percent content of water, fat, and protein for each sample.\n",
    "If we can establish a predictive relationship between IR spectrum and fat\n",
    "content, then food scientists could predict a sample’s fat content with IR\n",
    "instead of using analytical chemistry. This would provide costs savings, since\n",
    "analytical chemistry is a more expensive, time-consuming process:\n",
    "- (a) Start R and use these commands to load the data:\n",
    "The matrix absorp contains the 100 absorbance values for the 215 samples,\n",
    "while matrix endpoints contains the percent of moisture, fat, and protein\n",
    "in columns 1–3, respectively.\n",
    "- (b) In this example the predictors are the measurements at the individual frequencies. Because the frequencies lie in a systematic order (850–1,050nm),\n",
    "the predictors have a high degree of correlation. Hence, the data lie in a\n",
    "smaller dimension than the total number of predictors (215). Use PCA\n",
    "to determine the effective dimension of these data. What is the effective\n",
    "dimension?\n",
    "- (c) Split the data into a training and a test set, pre-process the data, and\n",
    "build each variety of models described in this chapter. For those models with tuning parameters, what are the optimal values of the tuning\n",
    "parameter(s)?\n",
    "- (d) Which model has the best predictive ability? Is any model significantly\n",
    "better or worse than the others?\n",
    "- (e) Explain which model you would use for predicting the fat content of a\n",
    "sample."
   ]
  },
  {
   "cell_type": "code",
   "execution_count": 1,
   "metadata": {
    "collapsed": false
   },
   "outputs": [
    {
     "name": "stderr",
     "output_type": "stream",
     "text": [
      "Warning message:\n",
      "\"package 'caret' was built under R version 3.5.1\"Loading required package: lattice\n",
      "Loading required package: ggplot2\n"
     ]
    }
   ],
   "source": [
    "library(caret)\n",
    "data(tecator)\n",
    "#library(AppliedPredictiveModeling)"
   ]
  },
  {
   "cell_type": "code",
   "execution_count": 10,
   "metadata": {
    "collapsed": false
   },
   "outputs": [
    {
     "data": {
      "text/html": [
       "FALSE"
      ],
      "text/latex": [
       "FALSE"
      ],
      "text/markdown": [
       "FALSE"
      ],
      "text/plain": [
       "[1] FALSE"
      ]
     },
     "metadata": {},
     "output_type": "display_data"
    }
   ],
   "source": [
    "# dim(absorp)\n",
    "# dim(endpoints)\n",
    "any(is.na(absorp))"
   ]
  },
  {
   "cell_type": "code",
   "execution_count": 16,
   "metadata": {
    "collapsed": false,
    "scrolled": true
   },
   "outputs": [
    {
     "data": {
      "text/html": [
       "<ol class=list-inline>\n",
       "\t<li>0.997628218864769</li>\n",
       "\t<li>0.99751599869043</li>\n",
       "\t<li>0.997244168427824</li>\n",
       "\t<li>0.996788080805585</li>\n",
       "\t<li>0.996149581055345</li>\n",
       "\t<li>0.996048995274178</li>\n",
       "</ol>\n"
      ],
      "text/latex": [
       "\\begin{enumerate*}\n",
       "\\item 0.997628218864769\n",
       "\\item 0.99751599869043\n",
       "\\item 0.997244168427824\n",
       "\\item 0.996788080805585\n",
       "\\item 0.996149581055345\n",
       "\\item 0.996048995274178\n",
       "\\end{enumerate*}\n"
      ],
      "text/markdown": [
       "1. 0.997628218864769\n",
       "2. 0.99751599869043\n",
       "3. 0.997244168427824\n",
       "4. 0.996788080805585\n",
       "5. 0.996149581055345\n",
       "6. 0.996048995274178\n",
       "\n",
       "\n"
      ],
      "text/plain": [
       "[1] 0.9976282 0.9975160 0.9972442 0.9967881 0.9961496 0.9960490"
      ]
     },
     "metadata": {},
     "output_type": "display_data"
    }
   ],
   "source": [
    "library(e1071)\n",
    "skew_info <- apply(absorp,2,skewness)\n",
    "head(sort(skew_info,decreasing = T))"
   ]
  },
  {
   "cell_type": "code",
   "execution_count": 21,
   "metadata": {
    "collapsed": false,
    "scrolled": true
   },
   "outputs": [
    {
     "data": {
      "image/png": "[encoded data removed]",
      "text/plain": [
       "Plot with title \"\""
      ]
     },
     "metadata": {},
     "output_type": "display_data"
    }
   ],
   "source": [
    "library(corrplot)\n",
    "corrplot(cor(absorp),type=\"upper\",order=\"hclust\",addgrid.col = NA,tl.pos=\"n\")"
   ]
  },
  {
   "cell_type": "code",
   "execution_count": 23,
   "metadata": {
    "collapsed": false
   },
   "outputs": [
    {
     "data": {
      "text/html": [
       "<ol class=list-inline>\n",
       "\t<li>98.6261925818027</li>\n",
       "\t<li>0.969705228604995</li>\n",
       "\t<li>0.279324275947817</li>\n",
       "\t<li>0.11442986809507</li>\n",
       "\t<li>0.00646091116817936</li>\n",
       "\t<li>0.00262459145496293</li>\n",
       "</ol>\n"
      ],
      "text/latex": [
       "\\begin{enumerate*}\n",
       "\\item 98.6261925818027\n",
       "\\item 0.969705228604995\n",
       "\\item 0.279324275947817\n",
       "\\item 0.11442986809507\n",
       "\\item 0.00646091116817936\n",
       "\\item 0.00262459145496293\n",
       "\\end{enumerate*}\n"
      ],
      "text/markdown": [
       "1. 98.6261925818027\n",
       "2. 0.969705228604995\n",
       "3. 0.279324275947817\n",
       "4. 0.11442986809507\n",
       "5. 0.00646091116817936\n",
       "6. 0.00262459145496293\n",
       "\n",
       "\n"
      ],
      "text/plain": [
       "[1] 98.626192582  0.969705229  0.279324276  0.114429868  0.006460911\n",
       "[6]  0.002624591"
      ]
     },
     "metadata": {},
     "output_type": "display_data"
    }
   ],
   "source": [
    "pca_obj <- prcomp(absorp,center=T,scale=T)\n",
    "pca_var <- pca_obj$sdev^2/sum(pca_obj$sdev^2)*100\n",
    "head(pca_var)"
   ]
  },
  {
   "cell_type": "code",
   "execution_count": 30,
   "metadata": {
    "collapsed": false
   },
   "outputs": [],
   "source": [
    "set.seed(1029)\n",
    "absorp <- data.frame(absorp)\n",
    "trn_id <- createDataPartition(endpoints[,3],p=3/4,list = F)\n",
    "trnX <- absorp[trn_id,]\n",
    "vldX <- absorp[-trn_id,]\n",
    "\n",
    "trnY <- endpoints[trn_id,3]\n",
    "vldY <- endpoints[-trn_id,3]"
   ]
  },
  {
   "cell_type": "code",
   "execution_count": 31,
   "metadata": {
    "collapsed": false
   },
   "outputs": [
    {
     "data": {
      "text/plain": [
       "Linear Regression \n",
       "\n",
       "163 samples\n",
       "100 predictors\n",
       "\n",
       "No pre-processing\n",
       "Resampling: Cross-Validated (10 fold, repeated 5 times) \n",
       "Summary of sample sizes: 147, 146, 147, 147, 147, 146, ... \n",
       "Resampling results:\n",
       "\n",
       "  RMSE      Rsquared   MAE      \n",
       "  1.350262  0.8811248  0.8021688\n",
       "\n",
       "Tuning parameter 'intercept' was held constant at a value of TRUE"
      ]
     },
     "metadata": {},
     "output_type": "display_data"
    }
   ],
   "source": [
    "ctrl <- trainControl(method = \"repeatedcv\",repeats = 5)\n",
    "set.seed(529)\n",
    "fit_lm <- train(x=trnX,y=trnY,method = \"lm\",trControl = ctrl)\n",
    "fit_lm"
   ]
  },
  {
   "cell_type": "code",
   "execution_count": 34,
   "metadata": {
    "collapsed": false
   },
   "outputs": [],
   "source": [
    "set.seed(529)\n",
    "fit_pcr <- train(x=trnX,y=trnY,method = \"pcr\",trControl = ctrl,\n",
    "                 tuneLength=25)\n",
    "#fit_pcr$results\n",
    "\n",
    "set.seed(529)\n",
    "fit_pls<- train(x=trnX,y=trnY,method = \"pls\",trControl = ctrl,\n",
    "                preProc=c(\"center\",\"scale\"),tuneLength=25)\n",
    "#fit_pls$results"
   ]
  },
  {
   "cell_type": "code",
   "execution_count": 35,
   "metadata": {
    "collapsed": false
   },
   "outputs": [
    {
     "data": {
      "text/html": [
       "<table>\n",
       "<thead><tr><th scope=col>ncomp</th><th scope=col>RMSE</th><th scope=col>Rsquared</th><th scope=col>MAE</th><th scope=col>RMSESD</th><th scope=col>RsquaredSD</th><th scope=col>MAESD</th></tr></thead>\n",
       "<tbody>\n",
       "\t<tr><td>1         </td><td>2.901818  </td><td>0.09868624</td><td>2.4968072 </td><td>0.2560643 </td><td>0.10926393</td><td>0.2042626 </td></tr>\n",
       "\t<tr><td>2         </td><td>2.697017  </td><td>0.21941841</td><td>2.2242314 </td><td>0.2956034 </td><td>0.12775431</td><td>0.2509888 </td></tr>\n",
       "\t<tr><td>3         </td><td>2.246346  </td><td>0.46319758</td><td>1.7798565 </td><td>0.4167374 </td><td>0.18596382</td><td>0.3244957 </td></tr>\n",
       "\t<tr><td>4         </td><td>1.573498  </td><td>0.72314546</td><td>1.1988172 </td><td>0.4331457 </td><td>0.14537455</td><td>0.2607383 </td></tr>\n",
       "\t<tr><td>5         </td><td>1.410147  </td><td>0.78526117</td><td>1.0938650 </td><td>0.3317333 </td><td>0.09701200</td><td>0.1974209 </td></tr>\n",
       "\t<tr><td>6         </td><td>1.143021  </td><td>0.86503029</td><td>0.9155592 </td><td>0.2256198 </td><td>0.04481956</td><td>0.1603696 </td></tr>\n",
       "</tbody>\n",
       "</table>\n"
      ],
      "text/latex": [
       "\\begin{tabular}{r|lllllll}\n",
       " ncomp & RMSE & Rsquared & MAE & RMSESD & RsquaredSD & MAESD\\\\\n",
       "\\hline\n",
       "\t 1          & 2.901818   & 0.09868624 & 2.4968072  & 0.2560643  & 0.10926393 & 0.2042626 \\\\\n",
       "\t 2          & 2.697017   & 0.21941841 & 2.2242314  & 0.2956034  & 0.12775431 & 0.2509888 \\\\\n",
       "\t 3          & 2.246346   & 0.46319758 & 1.7798565  & 0.4167374  & 0.18596382 & 0.3244957 \\\\\n",
       "\t 4          & 1.573498   & 0.72314546 & 1.1988172  & 0.4331457  & 0.14537455 & 0.2607383 \\\\\n",
       "\t 5          & 1.410147   & 0.78526117 & 1.0938650  & 0.3317333  & 0.09701200 & 0.1974209 \\\\\n",
       "\t 6          & 1.143021   & 0.86503029 & 0.9155592  & 0.2256198  & 0.04481956 & 0.1603696 \\\\\n",
       "\\end{tabular}\n"
      ],
      "text/markdown": [
       "\n",
       "ncomp | RMSE | Rsquared | MAE | RMSESD | RsquaredSD | MAESD | \n",
       "|---|---|---|---|---|---|\n",
       "| 1          | 2.901818   | 0.09868624 | 2.4968072  | 0.2560643  | 0.10926393 | 0.2042626  | \n",
       "| 2          | 2.697017   | 0.21941841 | 2.2242314  | 0.2956034  | 0.12775431 | 0.2509888  | \n",
       "| 3          | 2.246346   | 0.46319758 | 1.7798565  | 0.4167374  | 0.18596382 | 0.3244957  | \n",
       "| 4          | 1.573498   | 0.72314546 | 1.1988172  | 0.4331457  | 0.14537455 | 0.2607383  | \n",
       "| 5          | 1.410147   | 0.78526117 | 1.0938650  | 0.3317333  | 0.09701200 | 0.1974209  | \n",
       "| 6          | 1.143021   | 0.86503029 | 0.9155592  | 0.2256198  | 0.04481956 | 0.1603696  | \n",
       "\n",
       "\n"
      ],
      "text/plain": [
       "  ncomp RMSE     Rsquared   MAE       RMSESD    RsquaredSD MAESD    \n",
       "1 1     2.901818 0.09868624 2.4968072 0.2560643 0.10926393 0.2042626\n",
       "2 2     2.697017 0.21941841 2.2242314 0.2956034 0.12775431 0.2509888\n",
       "3 3     2.246346 0.46319758 1.7798565 0.4167374 0.18596382 0.3244957\n",
       "4 4     1.573498 0.72314546 1.1988172 0.4331457 0.14537455 0.2607383\n",
       "5 5     1.410147 0.78526117 1.0938650 0.3317333 0.09701200 0.1974209\n",
       "6 6     1.143021 0.86503029 0.9155592 0.2256198 0.04481956 0.1603696"
      ]
     },
     "metadata": {},
     "output_type": "display_data"
    }
   ],
   "source": [
    "head(fit_pcr$results)"
   ]
  },
  {
   "cell_type": "code",
   "execution_count": 37,
   "metadata": {
    "collapsed": false
   },
   "outputs": [],
   "source": [
    "cmpr <- rbind(fit_pcr$results,fit_pls$results)\n",
    "cmpr$model <- rep(c(\"pcr\",\"pls\"),each=25)"
   ]
  },
  {
   "cell_type": "code",
   "execution_count": 38,
   "metadata": {
    "collapsed": false
   },
   "outputs": [
    {
     "data": {
      "text/html": [
       "<table>\n",
       "<thead><tr><th scope=col>ncomp</th><th scope=col>RMSE</th><th scope=col>Rsquared</th><th scope=col>MAE</th><th scope=col>RMSESD</th><th scope=col>RsquaredSD</th><th scope=col>MAESD</th><th scope=col>model</th></tr></thead>\n",
       "<tbody>\n",
       "\t<tr><td>1         </td><td>2.901818  </td><td>0.09868624</td><td>2.4968072 </td><td>0.2560643 </td><td>0.10926393</td><td>0.2042626 </td><td>pcr       </td></tr>\n",
       "\t<tr><td>2         </td><td>2.697017  </td><td>0.21941841</td><td>2.2242314 </td><td>0.2956034 </td><td>0.12775431</td><td>0.2509888 </td><td>pcr       </td></tr>\n",
       "\t<tr><td>3         </td><td>2.246346  </td><td>0.46319758</td><td>1.7798565 </td><td>0.4167374 </td><td>0.18596382</td><td>0.3244957 </td><td>pcr       </td></tr>\n",
       "\t<tr><td>4         </td><td>1.573498  </td><td>0.72314546</td><td>1.1988172 </td><td>0.4331457 </td><td>0.14537455</td><td>0.2607383 </td><td>pcr       </td></tr>\n",
       "\t<tr><td>5         </td><td>1.410147  </td><td>0.78526117</td><td>1.0938650 </td><td>0.3317333 </td><td>0.09701200</td><td>0.1974209 </td><td>pcr       </td></tr>\n",
       "\t<tr><td>6         </td><td>1.143021  </td><td>0.86503029</td><td>0.9155592 </td><td>0.2256198 </td><td>0.04481956</td><td>0.1603696 </td><td>pcr       </td></tr>\n",
       "</tbody>\n",
       "</table>\n"
      ],
      "text/latex": [
       "\\begin{tabular}{r|llllllll}\n",
       " ncomp & RMSE & Rsquared & MAE & RMSESD & RsquaredSD & MAESD & model\\\\\n",
       "\\hline\n",
       "\t 1          & 2.901818   & 0.09868624 & 2.4968072  & 0.2560643  & 0.10926393 & 0.2042626  & pcr       \\\\\n",
       "\t 2          & 2.697017   & 0.21941841 & 2.2242314  & 0.2956034  & 0.12775431 & 0.2509888  & pcr       \\\\\n",
       "\t 3          & 2.246346   & 0.46319758 & 1.7798565  & 0.4167374  & 0.18596382 & 0.3244957  & pcr       \\\\\n",
       "\t 4          & 1.573498   & 0.72314546 & 1.1988172  & 0.4331457  & 0.14537455 & 0.2607383  & pcr       \\\\\n",
       "\t 5          & 1.410147   & 0.78526117 & 1.0938650  & 0.3317333  & 0.09701200 & 0.1974209  & pcr       \\\\\n",
       "\t 6          & 1.143021   & 0.86503029 & 0.9155592  & 0.2256198  & 0.04481956 & 0.1603696  & pcr       \\\\\n",
       "\\end{tabular}\n"
      ],
      "text/markdown": [
       "\n",
       "ncomp | RMSE | Rsquared | MAE | RMSESD | RsquaredSD | MAESD | model | \n",
       "|---|---|---|---|---|---|\n",
       "| 1          | 2.901818   | 0.09868624 | 2.4968072  | 0.2560643  | 0.10926393 | 0.2042626  | pcr        | \n",
       "| 2          | 2.697017   | 0.21941841 | 2.2242314  | 0.2956034  | 0.12775431 | 0.2509888  | pcr        | \n",
       "| 3          | 2.246346   | 0.46319758 | 1.7798565  | 0.4167374  | 0.18596382 | 0.3244957  | pcr        | \n",
       "| 4          | 1.573498   | 0.72314546 | 1.1988172  | 0.4331457  | 0.14537455 | 0.2607383  | pcr        | \n",
       "| 5          | 1.410147   | 0.78526117 | 1.0938650  | 0.3317333  | 0.09701200 | 0.1974209  | pcr        | \n",
       "| 6          | 1.143021   | 0.86503029 | 0.9155592  | 0.2256198  | 0.04481956 | 0.1603696  | pcr        | \n",
       "\n",
       "\n"
      ],
      "text/plain": [
       "  ncomp RMSE     Rsquared   MAE       RMSESD    RsquaredSD MAESD     model\n",
       "1 1     2.901818 0.09868624 2.4968072 0.2560643 0.10926393 0.2042626 pcr  \n",
       "2 2     2.697017 0.21941841 2.2242314 0.2956034 0.12775431 0.2509888 pcr  \n",
       "3 3     2.246346 0.46319758 1.7798565 0.4167374 0.18596382 0.3244957 pcr  \n",
       "4 4     1.573498 0.72314546 1.1988172 0.4331457 0.14537455 0.2607383 pcr  \n",
       "5 5     1.410147 0.78526117 1.0938650 0.3317333 0.09701200 0.1974209 pcr  \n",
       "6 6     1.143021 0.86503029 0.9155592 0.2256198 0.04481956 0.1603696 pcr  "
      ]
     },
     "metadata": {},
     "output_type": "display_data"
    }
   ],
   "source": [
    "head(cmpr)"
   ]
  },
  {
   "cell_type": "code",
   "execution_count": 52,
   "metadata": {
    "collapsed": false,
    "scrolled": true
   },
   "outputs": [
    {
     "data": {
      "image/png": "[encoded data removed]",
      "text/plain": [
       "plot without title"
      ]
     },
     "metadata": {},
     "output_type": "display_data"
    }
   ],
   "source": [
    "library(ggplot2)\n",
    "p1 <- ggplot(aes(ncomp,RMSE,colour=model),data=cmpr) + geom_line() +theme(legend.position=\"top\")\n",
    "\n",
    "library(lattice)\n",
    "p2 <- xyplot(RMSE~ncomp,data=cmpr,groups=model,type = 'o',auto.key = list(columns = 2))\n",
    "\n",
    "library(gridExtra)\n",
    "grid.arrange(p1, p2, ncol=2,nrow=2)   "
   ]
  },
  {
   "cell_type": "code",
   "execution_count": 65,
   "metadata": {
    "collapsed": true
   },
   "outputs": [],
   "source": [
    "#set.seed(529)\n",
    "enet_grid <- expand.grid(lambda = c(0, .001, .01, .1, 1),\n",
    "                         fraction = seq(0.05, 1, length = 20))\n",
    "\n",
    "fit_enet<- train(x=trnX,y=trnY,method = \"enet\",trControl = ctrl,\n",
    "                preProc=c(\"center\",\"scale\"),\n",
    "                tuneGrid=enet_grid)"
   ]
  },
  {
   "cell_type": "code",
   "execution_count": 66,
   "metadata": {
    "collapsed": false
   },
   "outputs": [
    {
     "data": {
      "text/html": [
       "<table>\n",
       "<thead><tr><th scope=col>fraction</th><th scope=col>lambda</th></tr></thead>\n",
       "<tbody>\n",
       "\t<tr><td>0.05</td><td>0   </td></tr>\n",
       "</tbody>\n",
       "</table>\n"
      ],
      "text/latex": [
       "\\begin{tabular}{r|ll}\n",
       " fraction & lambda\\\\\n",
       "\\hline\n",
       "\t 0.05 & 0   \\\\\n",
       "\\end{tabular}\n"
      ],
      "text/markdown": [
       "\n",
       "fraction | lambda | \n",
       "|---|\n",
       "| 0.05 | 0    | \n",
       "\n",
       "\n"
      ],
      "text/plain": [
       "  fraction lambda\n",
       "1 0.05     0     "
      ]
     },
     "metadata": {},
     "output_type": "display_data"
    }
   ],
   "source": [
    "fit_enet$bestTune"
   ]
  },
  {
   "cell_type": "markdown",
   "metadata": {},
   "source": [
    "6.2. Developing a model to predict permeability (see Sect. 1.4) could save significant resources for a pharmaceutical company, while at the same time more rapidly identifying molecules that have a sufficient permeability to become a drug:\n",
    "- (a) Start R and use these commands to load the data:\n",
    "```r\n",
    "> library(AppliedPredictiveModeling)\n",
    "> data(permeability)\n",
    "```\n",
    "The matrix fingerprints contains the 1,107 binary molecular predictors for the 165 compounds, while permeability contains permeability response.\n",
    "- (b) The fingerprint predictors indicate the presence or absence of substructures of a molecule and are often sparse meaning that relatively few of the molecules contain each substructure. Filter out the predictors that have low frequencies using the nearZeroVar function from the caret package. How many predictors are left for modeling?\n",
    "- (c) Split the data into a training and a test set, pre-process the data, and tune a PLS model. How many latent variables are optimal and what is the corresponding resampled estimate of R2?\n",
    "- (d) Predict the response for the test set. What is the test set estimate of R2?\n",
    "- (e) Try building other models discussed in this chapter. Do any have better predictive performance?\n",
    "- (f) Would you recommend any of your models to replace the permeability laboratory experiment?"
   ]
  },
  {
   "cell_type": "code",
   "execution_count": 12,
   "metadata": {
    "collapsed": false
   },
   "outputs": [],
   "source": [
    "library(AppliedPredictiveModeling)\n",
    "data(permeability)"
   ]
  },
  {
   "cell_type": "code",
   "execution_count": 13,
   "metadata": {
    "collapsed": false
   },
   "outputs": [
    {
     "data": {
      "text/html": [
       "<ol class=list-inline>\n",
       "\t<li>165</li>\n",
       "\t<li>1</li>\n",
       "</ol>\n"
      ],
      "text/latex": [
       "\\begin{enumerate*}\n",
       "\\item 165\n",
       "\\item 1\n",
       "\\end{enumerate*}\n"
      ],
      "text/markdown": [
       "1. 165\n",
       "2. 1\n",
       "\n",
       "\n"
      ],
      "text/plain": [
       "[1] 165   1"
      ]
     },
     "metadata": {},
     "output_type": "display_data"
    },
    {
     "data": {
      "text/html": [
       "<ol class=list-inline>\n",
       "\t<li>165</li>\n",
       "\t<li>1107</li>\n",
       "</ol>\n"
      ],
      "text/latex": [
       "\\begin{enumerate*}\n",
       "\\item 165\n",
       "\\item 1107\n",
       "\\end{enumerate*}\n"
      ],
      "text/markdown": [
       "1. 165\n",
       "2. 1107\n",
       "\n",
       "\n"
      ],
      "text/plain": [
       "[1]  165 1107"
      ]
     },
     "metadata": {},
     "output_type": "display_data"
    },
    {
     "data": {
      "text/html": [
       "FALSE"
      ],
      "text/latex": [
       "FALSE"
      ],
      "text/markdown": [
       "FALSE"
      ],
      "text/plain": [
       "[1] FALSE"
      ]
     },
     "metadata": {},
     "output_type": "display_data"
    },
    {
     "data": {
      "text/html": [
       "FALSE"
      ],
      "text/latex": [
       "FALSE"
      ],
      "text/markdown": [
       "FALSE"
      ],
      "text/plain": [
       "[1] FALSE"
      ]
     },
     "metadata": {},
     "output_type": "display_data"
    }
   ],
   "source": [
    "dim(permeability)\n",
    "dim(fingerprints)\n",
    "any(is.na(permeability))\n",
    "any(is.na(fingerprints))"
   ]
  },
  {
   "cell_type": "code",
   "execution_count": 14,
   "metadata": {
    "collapsed": false
   },
   "outputs": [
    {
     "data": {
      "text/html": [
       "<ol class=list-inline>\n",
       "\t<li>110</li>\n",
       "\t<li>114</li>\n",
       "\t<li>148</li>\n",
       "\t<li>273</li>\n",
       "\t<li>415</li>\n",
       "\t<li>416</li>\n",
       "</ol>\n"
      ],
      "text/latex": [
       "\\begin{enumerate*}\n",
       "\\item 110\n",
       "\\item 114\n",
       "\\item 148\n",
       "\\item 273\n",
       "\\item 415\n",
       "\\item 416\n",
       "\\end{enumerate*}\n"
      ],
      "text/markdown": [
       "1. 110\n",
       "2. 114\n",
       "3. 148\n",
       "4. 273\n",
       "5. 415\n",
       "6. 416\n",
       "\n",
       "\n"
      ],
      "text/plain": [
       "[1] 110 114 148 273 415 416"
      ]
     },
     "metadata": {},
     "output_type": "display_data"
    },
    {
     "data": {
      "text/html": [
       "1.39655878119832"
      ],
      "text/latex": [
       "1.39655878119832"
      ],
      "text/markdown": [
       "1.39655878119832"
      ],
      "text/plain": [
       "[1] 1.396559"
      ]
     },
     "metadata": {},
     "output_type": "display_data"
    }
   ],
   "source": [
    "library(e1071)\n",
    "skew_info <- apply(fingerprints,2,skewness)\n",
    "head(order(skew_info,decreasing = T))\n",
    "skewness(permeability)"
   ]
  },
  {
   "cell_type": "code",
   "execution_count": 16,
   "metadata": {
    "collapsed": false,
    "scrolled": false
   },
   "outputs": [
    {
     "data": {
      "image/png": "[encoded data removed]",
      "text/plain": [
       "plot without title"
      ]
     },
     "metadata": {},
     "output_type": "display_data"
    }
   ],
   "source": [
    "library(lattice)\n",
    "p1 <- histogram(~permeability)\n",
    "p2 <- histogram(~log10(permeability))\n",
    "library(gridExtra)\n",
    "grid.arrange(p1,p2,ncol=2,nrow=2)"
   ]
  },
  {
   "cell_type": "code",
   "execution_count": 18,
   "metadata": {
    "collapsed": false,
    "scrolled": true
   },
   "outputs": [
    {
     "data": {
      "text/html": [
       "<table>\n",
       "<thead><tr><th></th><th scope=col>freqRatio</th><th scope=col>percentUnique</th><th scope=col>zeroVar</th><th scope=col>nzv</th></tr></thead>\n",
       "<tbody>\n",
       "\t<tr><th scope=row>X1</th><td>3.342105</td><td>1.212121</td><td>FALSE   </td><td>FALSE   </td></tr>\n",
       "\t<tr><th scope=row>X2</th><td>3.459459</td><td>1.212121</td><td>FALSE   </td><td>FALSE   </td></tr>\n",
       "\t<tr><th scope=row>X3</th><td>3.714286</td><td>1.212121</td><td>FALSE   </td><td>FALSE   </td></tr>\n",
       "\t<tr><th scope=row>X4</th><td>3.714286</td><td>1.212121</td><td>FALSE   </td><td>FALSE   </td></tr>\n",
       "\t<tr><th scope=row>X5</th><td>3.714286</td><td>1.212121</td><td>FALSE   </td><td>FALSE   </td></tr>\n",
       "\t<tr><th scope=row>X6</th><td>1.229730</td><td>1.212121</td><td>FALSE   </td><td>FALSE   </td></tr>\n",
       "</tbody>\n",
       "</table>\n"
      ],
      "text/latex": [
       "\\begin{tabular}{r|llll}\n",
       "  & freqRatio & percentUnique & zeroVar & nzv\\\\\n",
       "\\hline\n",
       "\tX1 & 3.342105 & 1.212121 & FALSE    & FALSE   \\\\\n",
       "\tX2 & 3.459459 & 1.212121 & FALSE    & FALSE   \\\\\n",
       "\tX3 & 3.714286 & 1.212121 & FALSE    & FALSE   \\\\\n",
       "\tX4 & 3.714286 & 1.212121 & FALSE    & FALSE   \\\\\n",
       "\tX5 & 3.714286 & 1.212121 & FALSE    & FALSE   \\\\\n",
       "\tX6 & 1.229730 & 1.212121 & FALSE    & FALSE   \\\\\n",
       "\\end{tabular}\n"
      ],
      "text/markdown": [
       "\n",
       "| <!--/--> | freqRatio | percentUnique | zeroVar | nzv | \n",
       "|---|---|---|---|---|---|\n",
       "| X1 | 3.342105 | 1.212121 | FALSE    | FALSE    | \n",
       "| X2 | 3.459459 | 1.212121 | FALSE    | FALSE    | \n",
       "| X3 | 3.714286 | 1.212121 | FALSE    | FALSE    | \n",
       "| X4 | 3.714286 | 1.212121 | FALSE    | FALSE    | \n",
       "| X5 | 3.714286 | 1.212121 | FALSE    | FALSE    | \n",
       "| X6 | 1.229730 | 1.212121 | FALSE    | FALSE    | \n",
       "\n",
       "\n"
      ],
      "text/plain": [
       "   freqRatio percentUnique zeroVar nzv  \n",
       "X1 3.342105  1.212121      FALSE   FALSE\n",
       "X2 3.459459  1.212121      FALSE   FALSE\n",
       "X3 3.714286  1.212121      FALSE   FALSE\n",
       "X4 3.714286  1.212121      FALSE   FALSE\n",
       "X5 3.714286  1.212121      FALSE   FALSE\n",
       "X6 1.229730  1.212121      FALSE   FALSE"
      ]
     },
     "metadata": {},
     "output_type": "display_data"
    }
   ],
   "source": [
    "library(caret)\n",
    "nzv_info <- nearZeroVar(fingerprints,saveMetrics = T)\n",
    "head(nzv_info)"
   ]
  },
  {
   "cell_type": "code",
   "execution_count": 22,
   "metadata": {
    "collapsed": true
   },
   "outputs": [],
   "source": [
    "#flt_nzv <- nearZeroVar(fingerprints)\n",
    "#fingerprints_flt_nzv <- fingerprints[,-flt_nzv]\n",
    "fingerprints_flt_nzv <- fingerprints[,!nzv_info$nzv]"
   ]
  },
  {
   "cell_type": "code",
   "execution_count": 25,
   "metadata": {
    "collapsed": true
   },
   "outputs": [],
   "source": [
    "set.seed(614)\n",
    "trn_id <- createDataPartition(permeability,p = 0.75,list = F)\n",
    "trn_X <- fingerprints_flt_nzv[trn_id,]\n",
    "trn_Y <- permeability[trn_id,]\n",
    "\n",
    "vld_X <- fingerprints_flt_nzv[-trn_id,]\n",
    "vld_Y <- permeability[-trn_id,]"
   ]
  },
  {
   "cell_type": "code",
   "execution_count": 33,
   "metadata": {
    "collapsed": true
   },
   "outputs": [],
   "source": [
    "set.seed(614)\n",
    "ctrl <- trainControl(method = \"LGOCV\")\n",
    "fit_pls <- train(x=trn_X,y=log10(trn_Y),method = \"pls\",tuneLength=15\n",
    "                 ,trControl=ctrl,tuneGrid=expand.grid(ncomp=1:15))"
   ]
  },
  {
   "cell_type": "code",
   "execution_count": 34,
   "metadata": {
    "collapsed": false
   },
   "outputs": [
    {
     "data": {
      "text/html": [
       "<table>\n",
       "<thead><tr><th scope=col>ncomp</th><th scope=col>RMSE</th><th scope=col>Rsquared</th><th scope=col>MAE</th><th scope=col>RMSESD</th><th scope=col>RsquaredSD</th><th scope=col>MAESD</th></tr></thead>\n",
       "<tbody>\n",
       "\t<tr><td>1         </td><td>0.5660188 </td><td>0.2381787 </td><td>0.4699709 </td><td>0.04800870</td><td>0.11800416</td><td>0.04579551</td></tr>\n",
       "\t<tr><td>2         </td><td>0.4978015 </td><td>0.4146838 </td><td>0.3915562 </td><td>0.05065024</td><td>0.12182698</td><td>0.04606211</td></tr>\n",
       "\t<tr><td>3         </td><td>0.4887220 </td><td>0.4395668 </td><td>0.3859108 </td><td>0.05136132</td><td>0.11518753</td><td>0.03837719</td></tr>\n",
       "\t<tr><td>4         </td><td>0.4857285 </td><td>0.4608621 </td><td>0.3885393 </td><td>0.04530099</td><td>0.08389853</td><td>0.03839131</td></tr>\n",
       "\t<tr><td>5         </td><td>0.4719407 </td><td>0.4950087 </td><td>0.3755892 </td><td>0.04305396</td><td>0.07284551</td><td>0.03286986</td></tr>\n",
       "\t<tr><td>6         </td><td>0.4570306 </td><td>0.5288720 </td><td>0.3574614 </td><td>0.04868858</td><td>0.08717546</td><td>0.03519495</td></tr>\n",
       "</tbody>\n",
       "</table>\n"
      ],
      "text/latex": [
       "\\begin{tabular}{r|lllllll}\n",
       " ncomp & RMSE & Rsquared & MAE & RMSESD & RsquaredSD & MAESD\\\\\n",
       "\\hline\n",
       "\t 1          & 0.5660188  & 0.2381787  & 0.4699709  & 0.04800870 & 0.11800416 & 0.04579551\\\\\n",
       "\t 2          & 0.4978015  & 0.4146838  & 0.3915562  & 0.05065024 & 0.12182698 & 0.04606211\\\\\n",
       "\t 3          & 0.4887220  & 0.4395668  & 0.3859108  & 0.05136132 & 0.11518753 & 0.03837719\\\\\n",
       "\t 4          & 0.4857285  & 0.4608621  & 0.3885393  & 0.04530099 & 0.08389853 & 0.03839131\\\\\n",
       "\t 5          & 0.4719407  & 0.4950087  & 0.3755892  & 0.04305396 & 0.07284551 & 0.03286986\\\\\n",
       "\t 6          & 0.4570306  & 0.5288720  & 0.3574614  & 0.04868858 & 0.08717546 & 0.03519495\\\\\n",
       "\\end{tabular}\n"
      ],
      "text/markdown": [
       "\n",
       "ncomp | RMSE | Rsquared | MAE | RMSESD | RsquaredSD | MAESD | \n",
       "|---|---|---|---|---|---|\n",
       "| 1          | 0.5660188  | 0.2381787  | 0.4699709  | 0.04800870 | 0.11800416 | 0.04579551 | \n",
       "| 2          | 0.4978015  | 0.4146838  | 0.3915562  | 0.05065024 | 0.12182698 | 0.04606211 | \n",
       "| 3          | 0.4887220  | 0.4395668  | 0.3859108  | 0.05136132 | 0.11518753 | 0.03837719 | \n",
       "| 4          | 0.4857285  | 0.4608621  | 0.3885393  | 0.04530099 | 0.08389853 | 0.03839131 | \n",
       "| 5          | 0.4719407  | 0.4950087  | 0.3755892  | 0.04305396 | 0.07284551 | 0.03286986 | \n",
       "| 6          | 0.4570306  | 0.5288720  | 0.3574614  | 0.04868858 | 0.08717546 | 0.03519495 | \n",
       "\n",
       "\n"
      ],
      "text/plain": [
       "  ncomp RMSE      Rsquared  MAE       RMSESD     RsquaredSD MAESD     \n",
       "1 1     0.5660188 0.2381787 0.4699709 0.04800870 0.11800416 0.04579551\n",
       "2 2     0.4978015 0.4146838 0.3915562 0.05065024 0.12182698 0.04606211\n",
       "3 3     0.4887220 0.4395668 0.3859108 0.05136132 0.11518753 0.03837719\n",
       "4 4     0.4857285 0.4608621 0.3885393 0.04530099 0.08389853 0.03839131\n",
       "5 5     0.4719407 0.4950087 0.3755892 0.04305396 0.07284551 0.03286986\n",
       "6 6     0.4570306 0.5288720 0.3574614 0.04868858 0.08717546 0.03519495"
      ]
     },
     "metadata": {},
     "output_type": "display_data"
    },
    {
     "data": {},
     "metadata": {},
     "output_type": "display_data"
    },
    {
     "data": {
      "image/png": "[encoded data removed]",
      "text/plain": [
       "plot without title"
      ]
     },
     "metadata": {},
     "output_type": "display_data"
    }
   ],
   "source": [
    "#fit_pls$bestTune\n",
    "head(fit_pls$results)\n",
    "library(lattice)\n",
    "xyplot(Rsquared~ncomp,type=c(\"p\",\"g\",\"o\"),data=fit_pls$results)"
   ]
  },
  {
   "cell_type": "markdown",
   "metadata": {},
   "source": [
    "6.3. \n",
    "- (a) Start R and use these commands to load the data:\n",
    "    The matrix processPredictors contains the 57 predictors (12 describing the input biological material and 45 describing the process predictors) for the 176 manufacturing runs. yield contains the percent yield for each run.\n",
    "```r\n",
    "> library(AppliedPredictiveModeling)\n",
    "> data(ChemicalManufacturing)\n",
    "```\n",
    "\n",
    "- (b) A small percentage of cells in the predictor set contain missing values. Use an imputation function to fill in these missing values (e.g., see Sect. 3.8).\n",
    "- (c) Split the data into a training and a test set, pre-process the data, and tune a model of your choice from this chapter. What is the optimal value of the performance metric?\n",
    "- (d) Predict the response for the test set. What is the value of the performance metric and how does this compare with the resampled performance metric on the training set?\n",
    "- (e) Which predictors are most important in the model you have trained? Do either the biological or process predictors dominate the list?\n",
    "- (f) Explore the relationships between each of the top predictors and the response. How could this information be "
   ]
  },
  {
   "cell_type": "code",
   "execution_count": 2,
   "metadata": {
    "collapsed": false
   },
   "outputs": [],
   "source": [
    "library(AppliedPredictiveModeling)\n",
    "data(ChemicalManufacturingProcess)"
   ]
  },
  {
   "cell_type": "code",
   "execution_count": 3,
   "metadata": {
    "collapsed": false
   },
   "outputs": [
    {
     "data": {
      "text/html": [
       "<ol class=list-inline>\n",
       "\t<li>'ManufacturingProcess01'</li>\n",
       "\t<li>'ManufacturingProcess02'</li>\n",
       "\t<li>'ManufacturingProcess03'</li>\n",
       "\t<li>'ManufacturingProcess04'</li>\n",
       "\t<li>'ManufacturingProcess05'</li>\n",
       "\t<li>'ManufacturingProcess06'</li>\n",
       "\t<li>'ManufacturingProcess07'</li>\n",
       "\t<li>'ManufacturingProcess08'</li>\n",
       "\t<li>'ManufacturingProcess10'</li>\n",
       "\t<li>'ManufacturingProcess11'</li>\n",
       "\t<li>'ManufacturingProcess12'</li>\n",
       "\t<li>'ManufacturingProcess14'</li>\n",
       "\t<li>'ManufacturingProcess22'</li>\n",
       "\t<li>'ManufacturingProcess23'</li>\n",
       "\t<li>'ManufacturingProcess24'</li>\n",
       "\t<li>'ManufacturingProcess25'</li>\n",
       "\t<li>'ManufacturingProcess26'</li>\n",
       "\t<li>'ManufacturingProcess27'</li>\n",
       "\t<li>'ManufacturingProcess28'</li>\n",
       "\t<li>'ManufacturingProcess29'</li>\n",
       "\t<li>'ManufacturingProcess30'</li>\n",
       "\t<li>'ManufacturingProcess31'</li>\n",
       "\t<li>'ManufacturingProcess33'</li>\n",
       "\t<li>'ManufacturingProcess34'</li>\n",
       "\t<li>'ManufacturingProcess35'</li>\n",
       "\t<li>'ManufacturingProcess36'</li>\n",
       "\t<li>'ManufacturingProcess40'</li>\n",
       "\t<li>'ManufacturingProcess41'</li>\n",
       "</ol>\n"
      ],
      "text/latex": [
       "\\begin{enumerate*}\n",
       "\\item 'ManufacturingProcess01'\n",
       "\\item 'ManufacturingProcess02'\n",
       "\\item 'ManufacturingProcess03'\n",
       "\\item 'ManufacturingProcess04'\n",
       "\\item 'ManufacturingProcess05'\n",
       "\\item 'ManufacturingProcess06'\n",
       "\\item 'ManufacturingProcess07'\n",
       "\\item 'ManufacturingProcess08'\n",
       "\\item 'ManufacturingProcess10'\n",
       "\\item 'ManufacturingProcess11'\n",
       "\\item 'ManufacturingProcess12'\n",
       "\\item 'ManufacturingProcess14'\n",
       "\\item 'ManufacturingProcess22'\n",
       "\\item 'ManufacturingProcess23'\n",
       "\\item 'ManufacturingProcess24'\n",
       "\\item 'ManufacturingProcess25'\n",
       "\\item 'ManufacturingProcess26'\n",
       "\\item 'ManufacturingProcess27'\n",
       "\\item 'ManufacturingProcess28'\n",
       "\\item 'ManufacturingProcess29'\n",
       "\\item 'ManufacturingProcess30'\n",
       "\\item 'ManufacturingProcess31'\n",
       "\\item 'ManufacturingProcess33'\n",
       "\\item 'ManufacturingProcess34'\n",
       "\\item 'ManufacturingProcess35'\n",
       "\\item 'ManufacturingProcess36'\n",
       "\\item 'ManufacturingProcess40'\n",
       "\\item 'ManufacturingProcess41'\n",
       "\\end{enumerate*}\n"
      ],
      "text/markdown": [
       "1. 'ManufacturingProcess01'\n",
       "2. 'ManufacturingProcess02'\n",
       "3. 'ManufacturingProcess03'\n",
       "4. 'ManufacturingProcess04'\n",
       "5. 'ManufacturingProcess05'\n",
       "6. 'ManufacturingProcess06'\n",
       "7. 'ManufacturingProcess07'\n",
       "8. 'ManufacturingProcess08'\n",
       "9. 'ManufacturingProcess10'\n",
       "10. 'ManufacturingProcess11'\n",
       "11. 'ManufacturingProcess12'\n",
       "12. 'ManufacturingProcess14'\n",
       "13. 'ManufacturingProcess22'\n",
       "14. 'ManufacturingProcess23'\n",
       "15. 'ManufacturingProcess24'\n",
       "16. 'ManufacturingProcess25'\n",
       "17. 'ManufacturingProcess26'\n",
       "18. 'ManufacturingProcess27'\n",
       "19. 'ManufacturingProcess28'\n",
       "20. 'ManufacturingProcess29'\n",
       "21. 'ManufacturingProcess30'\n",
       "22. 'ManufacturingProcess31'\n",
       "23. 'ManufacturingProcess33'\n",
       "24. 'ManufacturingProcess34'\n",
       "25. 'ManufacturingProcess35'\n",
       "26. 'ManufacturingProcess36'\n",
       "27. 'ManufacturingProcess40'\n",
       "28. 'ManufacturingProcess41'\n",
       "\n",
       "\n"
      ],
      "text/plain": [
       " [1] \"ManufacturingProcess01\" \"ManufacturingProcess02\" \"ManufacturingProcess03\"\n",
       " [4] \"ManufacturingProcess04\" \"ManufacturingProcess05\" \"ManufacturingProcess06\"\n",
       " [7] \"ManufacturingProcess07\" \"ManufacturingProcess08\" \"ManufacturingProcess10\"\n",
       "[10] \"ManufacturingProcess11\" \"ManufacturingProcess12\" \"ManufacturingProcess14\"\n",
       "[13] \"ManufacturingProcess22\" \"ManufacturingProcess23\" \"ManufacturingProcess24\"\n",
       "[16] \"ManufacturingProcess25\" \"ManufacturingProcess26\" \"ManufacturingProcess27\"\n",
       "[19] \"ManufacturingProcess28\" \"ManufacturingProcess29\" \"ManufacturingProcess30\"\n",
       "[22] \"ManufacturingProcess31\" \"ManufacturingProcess33\" \"ManufacturingProcess34\"\n",
       "[25] \"ManufacturingProcess35\" \"ManufacturingProcess36\" \"ManufacturingProcess40\"\n",
       "[28] \"ManufacturingProcess41\""
      ]
     },
     "metadata": {},
     "output_type": "display_data"
    }
   ],
   "source": [
    "# handling missing value\n",
    "cmp <- ChemicalManufacturingProcess\n",
    "if (any(is.na(cmp))) {\n",
    "na_info <- unlist(lapply(cmp,function(x) any(is.na(x))))\n",
    "na_col <- names(na_info)[na_info]\n",
    "na_col\n",
    "} else {\n",
    "print(\"no missing\")\n",
    "}"
   ]
  },
  {
   "cell_type": "code",
   "execution_count": 4,
   "metadata": {
    "collapsed": false,
    "scrolled": true
   },
   "outputs": [
    {
     "name": "stderr",
     "output_type": "stream",
     "text": [
      "Loading required package: colorspace\n",
      "Loading required package: grid\n",
      "Loading required package: data.table\n",
      "VIM is ready to use. \n",
      " Since version 4.0.0 the GUI is in its own package VIMGUI.\n",
      "\n",
      "          Please use the package to use the new (and old) GUI.\n",
      "\n",
      "Suggestions and bug-reports can be submitted at: https://github.com/alexkowa/VIM/issues\n",
      "\n",
      "Attaching package: 'VIM'\n",
      "\n",
      "The following object is masked from 'package:datasets':\n",
      "\n",
      "    sleep\n",
      "\n"
     ]
    },
    {
     "data": {
      "image/png": "[encoded data removed]",
      "text/plain": [
       "plot without title"
      ]
     },
     "metadata": {},
     "output_type": "display_data"
    }
   ],
   "source": [
    "library(VIM)\n",
    "aggr(cmp[,na_info],prop=F,number=T)"
   ]
  },
  {
   "cell_type": "code",
   "execution_count": 5,
   "metadata": {
    "collapsed": false,
    "scrolled": true
   },
   "outputs": [
    {
     "data": {
      "text/html": [
       "<table>\n",
       "<thead><tr><th scope=col>ManufacturingProcess03</th><th scope=col>ManufacturingProcess11</th><th scope=col>ManufacturingProcess10</th><th scope=col>ManufacturingProcess25</th><th scope=col>ManufacturingProcess26</th><th scope=col>ManufacturingProcess27</th><th scope=col>ManufacturingProcess28</th><th scope=col>ManufacturingProcess29</th><th scope=col>ManufacturingProcess30</th><th scope=col>ManufacturingProcess31</th><th scope=col>...</th><th scope=col>ManufacturingProcess06</th><th scope=col>ManufacturingProcess07</th><th scope=col>ManufacturingProcess08</th><th scope=col>ManufacturingProcess12</th><th scope=col>ManufacturingProcess14</th><th scope=col>ManufacturingProcess22</th><th scope=col>ManufacturingProcess23</th><th scope=col>ManufacturingProcess24</th><th scope=col>ManufacturingProcess40</th><th scope=col>ManufacturingProcess41</th></tr></thead>\n",
       "<tbody>\n",
       "\t<tr><td>0.09</td><td>0.06</td><td>0.05</td><td>0.03</td><td>0.03</td><td>0.03</td><td>0.03</td><td>0.03</td><td>0.03</td><td>0.03</td><td>... </td><td>0.01</td><td>0.01</td><td>0.01</td><td>0.01</td><td>0.01</td><td>0.01</td><td>0.01</td><td>0.01</td><td>0.01</td><td>0.01</td></tr>\n",
       "</tbody>\n",
       "</table>\n"
      ],
      "text/latex": [
       "\\begin{tabular}{llllllllllllllllllllllllllll}\n",
       " ManufacturingProcess03 & ManufacturingProcess11 & ManufacturingProcess10 & ManufacturingProcess25 & ManufacturingProcess26 & ManufacturingProcess27 & ManufacturingProcess28 & ManufacturingProcess29 & ManufacturingProcess30 & ManufacturingProcess31 & ... & ManufacturingProcess06 & ManufacturingProcess07 & ManufacturingProcess08 & ManufacturingProcess12 & ManufacturingProcess14 & ManufacturingProcess22 & ManufacturingProcess23 & ManufacturingProcess24 & ManufacturingProcess40 & ManufacturingProcess41\\\\\n",
       "\\hline\n",
       "\t 0.09 & 0.06 & 0.05 & 0.03 & 0.03 & 0.03 & 0.03 & 0.03 & 0.03 & 0.03 & ...  & 0.01 & 0.01 & 0.01 & 0.01 & 0.01 & 0.01 & 0.01 & 0.01 & 0.01 & 0.01\\\\\n",
       "\\end{tabular}\n"
      ],
      "text/markdown": [
       "\n",
       "ManufacturingProcess03 | ManufacturingProcess11 | ManufacturingProcess10 | ManufacturingProcess25 | ManufacturingProcess26 | ManufacturingProcess27 | ManufacturingProcess28 | ManufacturingProcess29 | ManufacturingProcess30 | ManufacturingProcess31 | ... | ManufacturingProcess06 | ManufacturingProcess07 | ManufacturingProcess08 | ManufacturingProcess12 | ManufacturingProcess14 | ManufacturingProcess22 | ManufacturingProcess23 | ManufacturingProcess24 | ManufacturingProcess40 | ManufacturingProcess41 | \n",
       "|---|\n",
       "| 0.09 | 0.06 | 0.05 | 0.03 | 0.03 | 0.03 | 0.03 | 0.03 | 0.03 | 0.03 | ...  | 0.01 | 0.01 | 0.01 | 0.01 | 0.01 | 0.01 | 0.01 | 0.01 | 0.01 | 0.01 | \n",
       "\n",
       "\n"
      ],
      "text/plain": [
       "     ManufacturingProcess03 ManufacturingProcess11 ManufacturingProcess10\n",
       "[1,] 0.09                   0.06                   0.05                  \n",
       "     ManufacturingProcess25 ManufacturingProcess26 ManufacturingProcess27\n",
       "[1,] 0.03                   0.03                   0.03                  \n",
       "     ManufacturingProcess28 ManufacturingProcess29 ManufacturingProcess30\n",
       "[1,] 0.03                   0.03                   0.03                  \n",
       "     ManufacturingProcess31 ... ManufacturingProcess06 ManufacturingProcess07\n",
       "[1,] 0.03                   ... 0.01                   0.01                  \n",
       "     ManufacturingProcess08 ManufacturingProcess12 ManufacturingProcess14\n",
       "[1,] 0.01                   0.01                   0.01                  \n",
       "     ManufacturingProcess22 ManufacturingProcess23 ManufacturingProcess24\n",
       "[1,] 0.01                   0.01                   0.01                  \n",
       "     ManufacturingProcess40 ManufacturingProcess41\n",
       "[1,] 0.01                   0.01                  "
      ]
     },
     "metadata": {},
     "output_type": "display_data"
    }
   ],
   "source": [
    "na_info <- apply(cmp[,na_col],2,is.na)\n",
    "t(sort(round(apply(na_info ,2,sum)/nrow(cmp),2),decreasing = T))"
   ]
  },
  {
   "cell_type": "code",
   "execution_count": 6,
   "metadata": {
    "collapsed": false,
    "scrolled": true
   },
   "outputs": [
    {
     "data": {
      "text/html": [
       "<table>\n",
       "<thead><tr><th scope=col>1</th><th scope=col>172</th><th scope=col>173</th><th scope=col>174</th><th scope=col>175</th><th scope=col>176</th><th scope=col>23</th><th scope=col>2</th><th scope=col>3</th><th scope=col>4</th><th scope=col>...</th><th scope=col>162</th><th scope=col>163</th><th scope=col>164</th><th scope=col>165</th><th scope=col>166</th><th scope=col>167</th><th scope=col>168</th><th scope=col>169</th><th scope=col>170</th><th scope=col>171</th></tr></thead>\n",
       "<tbody>\n",
       "\t<tr><td>16 </td><td>11 </td><td>11 </td><td>11 </td><td>11 </td><td>11 </td><td>4  </td><td>3  </td><td>3  </td><td>3  </td><td>...</td><td>0  </td><td>0  </td><td>0  </td><td>0  </td><td>0  </td><td>0  </td><td>0  </td><td>0  </td><td>0  </td><td>0  </td></tr>\n",
       "</tbody>\n",
       "</table>\n"
      ],
      "text/latex": [
       "\\begin{tabular}{llllllllllllllllllllllllllllllllllllllllllllllllllllllllllllllllllllllllllllllllllllllllllllllllllllllllllllllllllllllllllllllllllllllllllllllllllllllllllllllllllllllllllllllll}\n",
       " 1 & 172 & 173 & 174 & 175 & 176 & 23 & 2 & 3 & 4 & ... & 162 & 163 & 164 & 165 & 166 & 167 & 168 & 169 & 170 & 171\\\\\n",
       "\\hline\n",
       "\t 16  & 11  & 11  & 11  & 11  & 11  & 4   & 3   & 3   & 3   & ... & 0   & 0   & 0   & 0   & 0   & 0   & 0   & 0   & 0   & 0  \\\\\n",
       "\\end{tabular}\n"
      ],
      "text/markdown": [
       "\n",
       "1 | 172 | 173 | 174 | 175 | 176 | 23 | 2 | 3 | 4 | ... | 162 | 163 | 164 | 165 | 166 | 167 | 168 | 169 | 170 | 171 | \n",
       "|---|\n",
       "| 16  | 11  | 11  | 11  | 11  | 11  | 4   | 3   | 3   | 3   | ... | 0   | 0   | 0   | 0   | 0   | 0   | 0   | 0   | 0   | 0   | \n",
       "\n",
       "\n"
      ],
      "text/plain": [
       "     1  172 173 174 175 176 23 2 3 4 ... 162 163 164 165 166 167 168 169 170\n",
       "[1,] 16 11  11  11  11  11  4  3 3 3 ... 0   0   0   0   0   0   0   0   0  \n",
       "     171\n",
       "[1,] 0  "
      ]
     },
     "metadata": {},
     "output_type": "display_data"
    }
   ],
   "source": [
    "t(sort(apply(apply(cmp[,na_col],2,is.na),1,sum),decreasing = T))"
   ]
  },
  {
   "cell_type": "code",
   "execution_count": 7,
   "metadata": {
    "collapsed": false,
    "scrolled": true
   },
   "outputs": [
    {
     "data": {},
     "metadata": {},
     "output_type": "display_data"
    },
    {
     "data": {
      "image/png": "[encoded data removed]",
      "text/plain": [
       "plot without title"
      ]
     },
     "metadata": {},
     "output_type": "display_data"
    }
   ],
   "source": [
    "#distribution of response\n",
    "library(lattice)\n",
    "histogram(~Yield,data=cmp)"
   ]
  },
  {
   "cell_type": "code",
   "execution_count": 8,
   "metadata": {
    "collapsed": false,
    "scrolled": true
   },
   "outputs": [
    {
     "name": "stderr",
     "output_type": "stream",
     "text": [
      "corrplot 0.84 loaded\n"
     ]
    },
    {
     "data": {
      "image/png": "[encoded data removed]",
      "text/plain": [
       "Plot with title \"\""
      ]
     },
     "metadata": {},
     "output_type": "display_data"
    }
   ],
   "source": [
    "library(corrplot)\n",
    "corrplot(cor(na.omit(cmp)),type=\"lower\",order=\"hclust\",tl.cex = 0.5)\n",
    "# X[complete.cases(X),] \n",
    "# na.omit(X)"
   ]
  },
  {
   "cell_type": "code",
   "execution_count": 9,
   "metadata": {
    "collapsed": false,
    "scrolled": false
   },
   "outputs": [
    {
     "data": {
      "text/html": [
       "<table>\n",
       "<thead><tr><th scope=col>ManufacturingProcess43</th><th scope=col>BiologicalMaterial07</th><th scope=col>BiologicalMaterial10</th><th scope=col>BiologicalMaterial04</th><th scope=col>ManufacturingProcess21</th><th scope=col>ManufacturingProcess17</th><th scope=col>ManufacturingProcess15</th><th scope=col>ManufacturingProcess13</th><th scope=col>ManufacturingProcess37</th><th scope=col>BiologicalMaterial06</th><th scope=col>...</th><th scope=col>BiologicalMaterial09</th><th scope=col>ManufacturingProcess09</th><th scope=col>ManufacturingProcess38</th><th scope=col>ManufacturingProcess45</th><th scope=col>ManufacturingProcess39</th><th scope=col>ManufacturingProcess44</th><th scope=col>ManufacturingProcess42</th><th scope=col>ManufacturingProcess16</th><th scope=col>ManufacturingProcess20</th><th scope=col>ManufacturingProcess18</th></tr></thead>\n",
       "<tbody>\n",
       "\t<tr><td>9.054875  </td><td>7.398664  </td><td>2.402378  </td><td>1.732315  </td><td>1.729114  </td><td>1.162972  </td><td>0.6743478 </td><td>0.4802776 </td><td>0.3783578 </td><td>0.3685344 </td><td>...       </td><td>-0.2684177</td><td>-0.9406685</td><td>-1.681805 </td><td>-4.077941 </td><td>-4.269121 </td><td>-4.970355 </td><td>-5.450008 </td><td>-12.42022 </td><td>-12.63833 </td><td>-12.73614 </td></tr>\n",
       "</tbody>\n",
       "</table>\n"
      ],
      "text/latex": [
       "\\begin{tabular}{llllllllllllllllllllllllllllll}\n",
       " ManufacturingProcess43 & BiologicalMaterial07 & BiologicalMaterial10 & BiologicalMaterial04 & ManufacturingProcess21 & ManufacturingProcess17 & ManufacturingProcess15 & ManufacturingProcess13 & ManufacturingProcess37 & BiologicalMaterial06 & ... & BiologicalMaterial09 & ManufacturingProcess09 & ManufacturingProcess38 & ManufacturingProcess45 & ManufacturingProcess39 & ManufacturingProcess44 & ManufacturingProcess42 & ManufacturingProcess16 & ManufacturingProcess20 & ManufacturingProcess18\\\\\n",
       "\\hline\n",
       "\t 9.054875   & 7.398664   & 2.402378   & 1.732315   & 1.729114   & 1.162972   & 0.6743478  & 0.4802776  & 0.3783578  & 0.3685344  & ...        & -0.2684177 & -0.9406685 & -1.681805  & -4.077941  & -4.269121  & -4.970355  & -5.450008  & -12.42022  & -12.63833  & -12.73614 \\\\\n",
       "\\end{tabular}\n"
      ],
      "text/markdown": [
       "\n",
       "ManufacturingProcess43 | BiologicalMaterial07 | BiologicalMaterial10 | BiologicalMaterial04 | ManufacturingProcess21 | ManufacturingProcess17 | ManufacturingProcess15 | ManufacturingProcess13 | ManufacturingProcess37 | BiologicalMaterial06 | ... | BiologicalMaterial09 | ManufacturingProcess09 | ManufacturingProcess38 | ManufacturingProcess45 | ManufacturingProcess39 | ManufacturingProcess44 | ManufacturingProcess42 | ManufacturingProcess16 | ManufacturingProcess20 | ManufacturingProcess18 | \n",
       "|---|\n",
       "| 9.054875   | 7.398664   | 2.402378   | 1.732315   | 1.729114   | 1.162972   | 0.6743478  | 0.4802776  | 0.3783578  | 0.3685344  | ...        | -0.2684177 | -0.9406685 | -1.681805  | -4.077941  | -4.269121  | -4.970355  | -5.450008  | -12.42022  | -12.63833  | -12.73614  | \n",
       "\n",
       "\n"
      ],
      "text/plain": [
       "     ManufacturingProcess43 BiologicalMaterial07 BiologicalMaterial10\n",
       "[1,] 9.054875               7.398664             2.402378            \n",
       "     BiologicalMaterial04 ManufacturingProcess21 ManufacturingProcess17\n",
       "[1,] 1.732315             1.729114               1.162972              \n",
       "     ManufacturingProcess15 ManufacturingProcess13 ManufacturingProcess37\n",
       "[1,] 0.6743478              0.4802776              0.3783578             \n",
       "     BiologicalMaterial06 ... BiologicalMaterial09 ManufacturingProcess09\n",
       "[1,] 0.3685344            ... -0.2684177           -0.9406685            \n",
       "     ManufacturingProcess38 ManufacturingProcess45 ManufacturingProcess39\n",
       "[1,] -1.681805              -4.077941              -4.269121             \n",
       "     ManufacturingProcess44 ManufacturingProcess42 ManufacturingProcess16\n",
       "[1,] -4.970355              -5.450008              -12.42022             \n",
       "     ManufacturingProcess20 ManufacturingProcess18\n",
       "[1,] -12.63833              -12.73614             "
      ]
     },
     "metadata": {},
     "output_type": "display_data"
    }
   ],
   "source": [
    "library(e1071)\n",
    "skew_info <- apply(cmp,2,skewness)\n",
    "t(sort(skew_info,decreasing = T))"
   ]
  },
  {
   "cell_type": "code",
   "execution_count": 10,
   "metadata": {
    "collapsed": false
   },
   "outputs": [
    {
     "name": "stderr",
     "output_type": "stream",
     "text": [
      "Loading required package: ggplot2\n"
     ]
    }
   ],
   "source": [
    "#split data\n",
    "library(caret)\n",
    "cmp <- ChemicalManufacturingProcess\n",
    "set.seed(517)\n",
    "trn_id <- createDataPartition(cmp$Yield,p=.7,list=F)\n",
    "trn_X <- cmp[trn_id,-1]\n",
    "trn_Y <- cmp[trn_id,1]\n",
    "\n",
    "vld_X <- cmp[-trn_id,-1]\n",
    "vld_Y <- cmp[-trn_id,1]"
   ]
  },
  {
   "cell_type": "code",
   "execution_count": 11,
   "metadata": {
    "collapsed": false
   },
   "outputs": [],
   "source": [
    "#apply imputing using knn\n",
    "#install.packages(\"RANN\")\n",
    "library(RANN)\n",
    "knn_proc <- preProcess(trn_X,method = c(\"BoxCox\",\"center\",\"scale\",\"knnImpute\"))\n",
    "trn_X_pre <- predict(knn_proc,trn_X)\n",
    "vld_X_pre <- predict(knn_proc,vld_X)"
   ]
  },
  {
   "cell_type": "code",
   "execution_count": 12,
   "metadata": {
    "collapsed": true
   },
   "outputs": [],
   "source": [
    "#nzv\n",
    "nzv_info <- nearZeroVar(trn_X_pre)\n",
    "trn_X_flt <- trn_X_pre[-nzv_info]\n",
    "vld_X_flt <- vld_X_pre[-nzv_info]\n",
    "\n",
    "#cor\n",
    "cor_info <- findCorrelation(cor(trn_X_flt))\n",
    "trn_X_flt <- trn_X_flt[,-cor_info]\n",
    "vld_X_flt <- vld_X_flt[,-cor_info]"
   ]
  },
  {
   "cell_type": "code",
   "execution_count": 42,
   "metadata": {
    "collapsed": false
   },
   "outputs": [],
   "source": [
    "set.seed(517)\n",
    "ctrl <- trainControl(method = \"boot\",number = 25)\n",
    "fit_pls <- train(x=trn_X_flt,y=trn_Y,method=\"pls\",\n",
    "                tuneLength=15,trControl=ctrl)"
   ]
  },
  {
   "cell_type": "code",
   "execution_count": 23,
   "metadata": {
    "collapsed": false,
    "scrolled": true
   },
   "outputs": [
    {
     "data": {
      "image/png": "[encoded data removed]",
      "text/plain": [
       "plot without title"
      ]
     },
     "metadata": {},
     "output_type": "display_data"
    }
   ],
   "source": [
    "p1 <- xyplot(fit_pls$results$Rsquared~fit_pls$results$ncomp,type=\"o\")\n",
    "p2 <- plot(fit_pls)\n",
    "library(gridExtra)\n",
    "grid.arrange(p1,p2,ncol=2,nrow=2)"
   ]
  },
  {
   "cell_type": "code",
   "execution_count": 45,
   "metadata": {
    "collapsed": false,
    "scrolled": true
   },
   "outputs": [
    {
     "name": "stdout",
     "output_type": "stream",
     "text": [
      "List of 20\n",
      " $ method      : chr \"pls\"\n",
      " $ modelInfo   :List of 14\n",
      "  ..$ label     : chr \"Partial Least Squares\"\n",
      "  ..$ library   : chr \"pls\"\n",
      "  ..$ type      : chr [1:2] \"Regression\" \"Classification\"\n",
      "  ..$ parameters:'data.frame':\t1 obs. of  3 variables:\n",
      "  .. ..$ parameter: Factor w/ 1 level \"ncomp\": 1\n",
      "  .. ..$ class    : Factor w/ 1 level \"numeric\": 1\n",
      "  .. ..$ label    : Factor w/ 1 level \"#Components\": 1\n",
      "  ..$ grid      :function (x, y, len = NULL, search = \"grid\")  \n",
      "  .. ..- attr(*, \"srcref\")= 'srcref' int [1:8] 7 26 14 19 26 19 7 14\n",
      "  .. .. ..- attr(*, \"srcfile\")=Classes 'srcfilecopy', 'srcfile' <environment: 0x000000002823a190> \n",
      "  ..$ loop      :function (grid)  \n",
      "  .. ..- attr(*, \"srcref\")= 'srcref' int [1:8] 15 26 20 19 26 19 15 20\n",
      "  .. .. ..- attr(*, \"srcfile\")=Classes 'srcfilecopy', 'srcfile' <environment: 0x000000002823a190> \n",
      "  ..$ fit       :function (x, y, wts, param, lev, last, classProbs, ...)  \n",
      "  .. ..- attr(*, \"srcref\")= 'srcref' int [1:8] 21 25 31 19 25 19 21 31\n",
      "  .. .. ..- attr(*, \"srcfile\")=Classes 'srcfilecopy', 'srcfile' <environment: 0x000000002823a190> \n",
      "  ..$ predict   :function (modelFit, newdata, submodels = NULL)  \n",
      "  .. ..- attr(*, \"srcref\")= 'srcref' int [1:8] 32 29 61 19 29 19 32 61\n",
      "  .. .. ..- attr(*, \"srcfile\")=Classes 'srcfilecopy', 'srcfile' <environment: 0x000000002823a190> \n",
      "  ..$ prob      :function (modelFit, newdata, submodels = NULL)  \n",
      "  .. ..- attr(*, \"srcref\")= 'srcref' int [1:8] 62 26 92 19 26 19 62 92\n",
      "  .. .. ..- attr(*, \"srcfile\")=Classes 'srcfilecopy', 'srcfile' <environment: 0x000000002823a190> \n",
      "  ..$ varImp    :function (object, estimate = NULL, ...)  \n",
      "  .. ..- attr(*, \"srcref\")= 'srcref' int [1:8] 93 28 125 19 28 19 93 125\n",
      "  .. .. ..- attr(*, \"srcfile\")=Classes 'srcfilecopy', 'srcfile' <environment: 0x000000002823a190> \n",
      "  ..$ predictors:function (x, ...)  \n",
      "  .. ..- attr(*, \"srcref\")= 'srcref' int [1:8] 126 32 126 70 32 70 126 126\n",
      "  .. .. ..- attr(*, \"srcfile\")=Classes 'srcfilecopy', 'srcfile' <environment: 0x000000002823a190> \n",
      "  ..$ levels    :function (x)  \n",
      "  .. ..- attr(*, \"srcref\")= 'srcref' int [1:8] 127 28 127 50 28 50 127 127\n",
      "  .. .. ..- attr(*, \"srcfile\")=Classes 'srcfilecopy', 'srcfile' <environment: 0x000000002823a190> \n",
      "  ..$ tags      : chr [1:4] \"Partial Least Squares\" \"Feature Extraction\" \"Linear Classifier\" \"Linear Regression\"\n",
      "  ..$ sort      :function (x)  \n",
      "  .. ..- attr(*, \"srcref\")= 'srcref' int [1:8] 129 26 129 53 26 53 129 129\n",
      "  .. .. ..- attr(*, \"srcfile\")=Classes 'srcfilecopy', 'srcfile' <environment: 0x000000002823a190> \n",
      " $ modelType   : chr \"Regression\"\n",
      " $ results     :'data.frame':\t15 obs. of  7 variables:\n",
      "  ..$ ncomp     : num [1:15] 1 2 3 4 5 6 7 8 9 10 ...\n",
      "  ..$ RMSE      : num [1:15] 1.48 1.3 1.25 1.23 1.23 ...\n",
      "  ..$ Rsquared  : num [1:15] 0.409 0.537 0.572 0.584 0.582 ...\n",
      "  ..$ MAE       : num [1:15] 1.18 1.04 1.02 1.01 1.01 ...\n",
      "  ..$ RMSESD    : num [1:15] 0.1341 0.1168 0.1073 0.1053 0.0932 ...\n",
      "  ..$ RsquaredSD: num [1:15] 0.0788 0.0932 0.1037 0.1004 0.0894 ...\n",
      "  ..$ MAESD     : num [1:15] 0.1202 0.1026 0.1026 0.0958 0.0891 ...\n",
      " $ pred        : NULL\n",
      " $ bestTune    :'data.frame':\t1 obs. of  1 variable:\n",
      "  ..$ ncomp: num 4\n",
      " $ call        : language train.default(x = trn_X_flt, y = trn_Y, method = \"pls\", trControl = ctrl,      tuneLength = 15)\n",
      " $ dots        : list()\n",
      " $ metric      : chr \"RMSE\"\n",
      " $ control     :List of 28\n",
      "  ..$ method           : chr \"boot\"\n",
      "  ..$ number           : num 25\n",
      "  ..$ repeats          : logi NA\n",
      "  ..$ search           : chr \"grid\"\n",
      "  ..$ p                : num 0.75\n",
      "  ..$ initialWindow    : NULL\n",
      "  ..$ horizon          : num 1\n",
      "  ..$ fixedWindow      : logi TRUE\n",
      "  ..$ skip             : num 0\n",
      "  ..$ verboseIter      : logi FALSE\n",
      "  ..$ returnData       : logi TRUE\n",
      "  ..$ returnResamp     : chr \"final\"\n",
      "  ..$ savePredictions  : chr \"none\"\n",
      "  ..$ classProbs       : logi FALSE\n",
      "  ..$ summaryFunction  :function (data, lev = NULL, model = NULL)  \n",
      "  ..$ selectionFunction: chr \"best\"\n",
      "  ..$ preProcOptions   :List of 6\n",
      "  .. ..$ thresh   : num 0.95\n",
      "  .. ..$ ICAcomp  : num 3\n",
      "  .. ..$ k        : num 5\n",
      "  .. ..$ freqCut  : num 19\n",
      "  .. ..$ uniqueCut: num 10\n",
      "  .. ..$ cutoff   : num 0.9\n",
      "  ..$ sampling         : NULL\n",
      "  ..$ index            :List of 25\n",
      "  .. ..$ Resample01: int [1:124] 1 1 2 3 3 4 8 8 10 11 ...\n",
      "  .. ..$ Resample02: int [1:124] 1 2 3 4 6 8 8 10 10 11 ...\n",
      "  .. ..$ Resample03: int [1:124] 1 2 2 3 4 8 9 9 13 15 ...\n",
      "  .. ..$ Resample04: int [1:124] 1 3 5 10 11 11 16 16 17 18 ...\n",
      "  .. ..$ Resample05: int [1:124] 2 2 2 6 7 7 8 10 10 12 ...\n",
      "  .. ..$ Resample06: int [1:124] 2 3 3 4 5 8 9 10 13 14 ...\n",
      "  .. ..$ Resample07: int [1:124] 1 6 7 8 8 9 9 9 10 11 ...\n",
      "  .. ..$ Resample08: int [1:124] 1 1 3 4 4 5 6 6 6 7 ...\n",
      "  .. ..$ Resample09: int [1:124] 2 3 4 5 6 6 6 10 10 11 ...\n",
      "  .. ..$ Resample10: int [1:124] 2 2 3 3 4 4 4 7 7 10 ...\n",
      "  .. ..$ Resample11: int [1:124] 1 2 4 4 5 7 11 12 13 13 ...\n",
      "  .. ..$ Resample12: int [1:124] 2 3 6 7 8 10 11 11 11 12 ...\n",
      "  .. ..$ Resample13: int [1:124] 1 3 3 3 7 7 10 12 14 16 ...\n",
      "  .. ..$ Resample14: int [1:124] 1 2 2 4 4 5 6 10 11 13 ...\n",
      "  .. ..$ Resample15: int [1:124] 1 2 3 3 6 7 7 9 9 9 ...\n",
      "  .. ..$ Resample16: int [1:124] 1 2 2 3 4 4 4 4 5 6 ...\n",
      "  .. ..$ Resample17: int [1:124] 2 4 4 4 5 5 6 6 7 8 ...\n",
      "  .. ..$ Resample18: int [1:124] 1 3 4 5 6 7 7 12 14 17 ...\n",
      "  .. ..$ Resample19: int [1:124] 2 2 2 3 4 5 5 5 8 8 ...\n",
      "  .. ..$ Resample20: int [1:124] 3 3 3 4 5 5 6 7 7 8 ...\n",
      "  .. ..$ Resample21: int [1:124] 7 7 7 8 9 9 13 13 13 14 ...\n",
      "  .. ..$ Resample22: int [1:124] 1 2 2 2 2 3 4 5 6 7 ...\n",
      "  .. ..$ Resample23: int [1:124] 1 2 4 5 10 10 12 12 16 17 ...\n",
      "  .. ..$ Resample24: int [1:124] 3 4 5 6 10 10 10 11 11 13 ...\n",
      "  .. ..$ Resample25: int [1:124] 1 1 2 4 5 5 7 9 9 11 ...\n",
      "  ..$ indexOut         :List of 25\n",
      "  .. ..$ Resample01: int [1:45] 5 6 7 9 12 13 19 20 23 28 ...\n",
      "  .. ..$ Resample02: int [1:43] 5 7 9 13 16 18 19 23 30 32 ...\n",
      "  .. ..$ Resample03: int [1:45] 5 6 7 10 11 12 14 17 18 22 ...\n",
      "  .. ..$ Resample04: int [1:51] 2 4 6 7 8 9 12 13 14 15 ...\n",
      "  .. ..$ Resample05: int [1:52] 1 3 4 5 9 11 15 16 18 22 ...\n",
      "  .. ..$ Resample06: int [1:43] 1 6 7 11 12 18 19 20 21 22 ...\n",
      "  .. ..$ Resample07: int [1:42] 2 3 4 5 13 15 16 21 25 26 ...\n",
      "  .. ..$ Resample08: int [1:46] 2 8 12 13 15 16 18 22 28 29 ...\n",
      "  .. ..$ Resample09: int [1:45] 1 7 8 9 16 17 19 20 23 29 ...\n",
      "  .. ..$ Resample10: int [1:46] 1 5 6 8 9 11 15 16 17 24 ...\n",
      "  .. ..$ Resample11: int [1:48] 3 6 8 9 10 14 18 20 22 27 ...\n",
      "  .. ..$ Resample12: int [1:46] 1 4 5 9 13 17 18 21 24 26 ...\n",
      "  .. ..$ Resample13: int [1:45] 2 4 5 6 8 9 11 13 15 21 ...\n",
      "  .. ..$ Resample14: int [1:41] 3 7 8 9 12 16 18 19 21 23 ...\n",
      "  .. ..$ Resample15: int [1:41] 4 5 8 23 25 27 28 33 38 40 ...\n",
      "  .. ..$ Resample16: int [1:49] 7 8 10 11 22 23 24 25 26 28 ...\n",
      "  .. ..$ Resample17: int [1:48] 1 3 9 11 16 17 18 19 23 26 ...\n",
      "  .. ..$ Resample18: int [1:47] 2 8 9 10 11 13 15 16 18 19 ...\n",
      "  .. ..$ Resample19: int [1:38] 1 6 7 9 12 13 18 22 23 25 ...\n",
      "  .. ..$ Resample20: int [1:44] 1 2 11 16 17 18 19 27 28 32 ...\n",
      "  .. ..$ Resample21: int [1:47] 1 2 3 4 5 6 10 11 12 15 ...\n",
      "  .. ..$ Resample22: int [1:46] 8 11 18 23 27 29 30 31 33 34 ...\n",
      "  .. ..$ Resample23: int [1:45] 3 6 7 8 9 11 13 14 15 18 ...\n",
      "  .. ..$ Resample24: int [1:38] 1 2 7 8 9 12 18 21 22 27 ...\n",
      "  .. ..$ Resample25: int [1:47] 3 6 8 10 14 15 18 20 22 28 ...\n",
      "  ..$ indexFinal       : NULL\n",
      "  ..$ timingSamps      : num 0\n",
      "  ..$ predictionBounds : logi [1:2] FALSE FALSE\n",
      "  ..$ seeds            :List of 26\n",
      "  .. ..$ : int 228312\n",
      "  .. ..$ : int 140654\n",
      "  .. ..$ : int 999156\n",
      "  .. ..$ : int 924\n",
      "  .. ..$ : int 615627\n",
      "  .. ..$ : int 388776\n",
      "  .. ..$ : int 666367\n",
      "  .. ..$ : int 209774\n",
      "  .. ..$ : int 876640\n",
      "  .. ..$ : int 588126\n",
      "  .. ..$ : int 64168\n",
      "  .. ..$ : int 411536\n",
      "  .. ..$ : int 637981\n",
      "  .. ..$ : int 420287\n",
      "  .. ..$ : int 542272\n",
      "  .. ..$ : int 559570\n",
      "  .. ..$ : int 332763\n",
      "  .. ..$ : int 680770\n",
      "  .. ..$ : int 124780\n",
      "  .. ..$ : int 834226\n",
      "  .. ..$ : int 870541\n",
      "  .. ..$ : int 989881\n",
      "  .. ..$ : int 423740\n",
      "  .. ..$ : int 26855\n",
      "  .. ..$ : int 118032\n",
      "  .. ..$ : int 199816\n",
      "  ..$ adaptive         :List of 4\n",
      "  .. ..$ min     : num 5\n",
      "  .. ..$ alpha   : num 0.05\n",
      "  .. ..$ method  : chr \"gls\"\n",
      "  .. ..$ complete: logi TRUE\n",
      "  ..$ trim             : logi FALSE\n",
      "  ..$ allowParallel    : logi TRUE\n",
      "  ..$ yLimits          : num [1:2] 34.8 44.8\n",
      " $ finalModel  :List of 25\n",
      "  ..$ coefficients   : num [1:47, 1, 1:4] 0.082 0.1088 0.0997 0.0303 0.1252 ...\n",
      "  .. ..- attr(*, \"dimnames\")=List of 3\n",
      "  .. .. ..$ : chr [1:47] \"BiologicalMaterial01\" \"BiologicalMaterial03\" \"BiologicalMaterial04\" \"BiologicalMaterial05\" ...\n",
      "  .. .. ..$ : chr \".outcome\"\n",
      "  .. .. ..$ : chr [1:4] \"1 comps\" \"2 comps\" \"3 comps\" \"4 comps\"\n",
      "  ..$ scores         : 'scores' num [1:124, 1:4] -2.49 5.41 5.27 4.59 5.01 ...\n",
      "  .. ..- attr(*, \"dimnames\")=List of 2\n",
      "  .. .. ..$ : chr [1:124] \"X1\" \"X2\" \"X4\" \"X5\" ...\n",
      "  .. .. ..$ : chr [1:4] \"Comp 1\" \"Comp 2\" \"Comp 3\" \"Comp 4\"\n",
      "  ..$ loadings       : 'loadings' num [1:47, 1:4] 0.2665 0.2406 0.29 0.0952 0.3008 ...\n",
      "  .. ..- attr(*, \"dimnames\")=List of 2\n",
      "  .. .. ..$ : chr [1:47] \"BiologicalMaterial01\" \"BiologicalMaterial03\" \"BiologicalMaterial04\" \"BiologicalMaterial05\" ...\n",
      "  .. .. ..$ : chr [1:4] \"Comp 1\" \"Comp 2\" \"Comp 3\" \"Comp 4\"\n",
      "  ..$ loading.weights: 'loadings' num [1:47, 1:4] 0.172 0.2281 0.2089 0.0635 0.2625 ...\n",
      "  .. ..- attr(*, \"dimnames\")=List of 2\n",
      "  .. .. ..$ : chr [1:47] \"BiologicalMaterial01\" \"BiologicalMaterial03\" \"BiologicalMaterial04\" \"BiologicalMaterial05\" ...\n",
      "  .. .. ..$ : chr [1:4] \"Comp 1\" \"Comp 2\" \"Comp 3\" \"Comp 4\"\n",
      "  ..$ Yscores        : 'scores' num [1:124, 1:4] -2.15 2.29 1.27 2.34 3.42 ...\n",
      "  .. ..- attr(*, \"dimnames\")=List of 2\n",
      "  .. .. ..$ : chr [1:124] \"X1\" \"X2\" \"X4\" \"X5\" ...\n",
      "  .. .. ..$ : chr [1:4] \"Comp 1\" \"Comp 2\" \"Comp 3\" \"Comp 4\"\n",
      "  ..$ Yloadings      : 'loadings' num [1, 1:4] 0.477 0.427 0.26 0.218\n",
      "  .. ..- attr(*, \"dimnames\")=List of 2\n",
      "  .. .. ..$ : chr \".outcome\"\n",
      "  .. .. ..$ : chr [1:4] \"Comp 1\" \"Comp 2\" \"Comp 3\" \"Comp 4\"\n",
      "  ..$ projection     : num [1:47, 1:4] 0.172 0.2281 0.2089 0.0635 0.2625 ...\n",
      "  .. ..- attr(*, \"dimnames\")=List of 2\n",
      "  .. .. ..$ : chr [1:47] \"BiologicalMaterial01\" \"BiologicalMaterial03\" \"BiologicalMaterial04\" \"BiologicalMaterial05\" ...\n",
      "  .. .. ..$ : chr [1:4] \"Comp 1\" \"Comp 2\" \"Comp 3\" \"Comp 4\"\n",
      "  ..$ Xmeans         : num [1:47] -8.06e-17 3.87e-16 1.48e-15 2.03e-15 1.04e-14 ...\n",
      "  ..$ Ymeans         : num 40.2\n",
      "  ..$ fitted.values  : num [1:124, 1, 1:4] 39 42.7 42.7 42.3 42.5 ...\n",
      "  .. ..- attr(*, \"dimnames\")=List of 3\n",
      "  .. .. ..$ : chr [1:124] \"X1\" \"X2\" \"X4\" \"X5\" ...\n",
      "  .. .. ..$ : chr \".outcome\"\n",
      "  .. .. ..$ : chr [1:4] \"1 comps\" \"2 comps\" \"3 comps\" \"4 comps\"\n",
      "  ..$ residuals      : num [1:124, 1, 1:4] -0.963 -0.29 -1.246 0.15 1.028 ...\n",
      "  .. ..- attr(*, \"dimnames\")=List of 3\n",
      "  .. .. ..$ : chr [1:124] \"X1\" \"X2\" \"X4\" \"X5\" ...\n",
      "  .. .. ..$ : chr \".outcome\"\n",
      "  .. .. ..$ : chr [1:4] \"1 comps\" \"2 comps\" \"3 comps\" \"4 comps\"\n",
      "  ..$ Xvar           : Named num [1:4] 1009 480 426 355\n",
      "  .. ..- attr(*, \"names\")= chr [1:4] \"Comp 1\" \"Comp 2\" \"Comp 3\" \"Comp 4\"\n",
      "  ..$ Xtotvar        : num 5732\n",
      "  ..$ fit.time       : Named num 0\n",
      "  .. ..- attr(*, \"names\")= chr \"elapsed\"\n",
      "  ..$ ncomp          : num 4\n",
      "  ..$ method         : chr \"oscorespls\"\n",
      "  ..$ call           : language plsr(formula = .outcome ~ ., ncomp = param$ncomp, data = dat, method = \"oscorespls\")\n",
      "  ..$ terms          :Classes 'terms', 'formula'  language .outcome ~ BiologicalMaterial01 + BiologicalMaterial03 + BiologicalMaterial04 +      BiologicalMaterial05 + Biolo| __truncated__ ...\n",
      "  .. .. ..- attr(*, \"variables\")= language list(.outcome, BiologicalMaterial01, BiologicalMaterial03, BiologicalMaterial04,      BiologicalMaterial05, Biolo| __truncated__ ...\n",
      "  .. .. ..- attr(*, \"factors\")= int [1:48, 1:47] 0 1 0 0 0 0 0 0 0 0 ...\n",
      "  .. .. .. ..- attr(*, \"dimnames\")=List of 2\n",
      "  .. .. .. .. ..$ : chr [1:48] \".outcome\" \"BiologicalMaterial01\" \"BiologicalMaterial03\" \"BiologicalMaterial04\" ...\n",
      "  .. .. .. .. ..$ : chr [1:47] \"BiologicalMaterial01\" \"BiologicalMaterial03\" \"BiologicalMaterial04\" \"BiologicalMaterial05\" ...\n",
      "  .. .. ..- attr(*, \"term.labels\")= chr [1:47] \"BiologicalMaterial01\" \"BiologicalMaterial03\" \"BiologicalMaterial04\" \"BiologicalMaterial05\" ...\n",
      "  .. .. ..- attr(*, \"order\")= int [1:47] 1 1 1 1 1 1 1 1 1 1 ...\n",
      "  .. .. ..- attr(*, \"intercept\")= int 1\n",
      "  .. .. ..- attr(*, \"response\")= int 1\n",
      "  .. .. ..- attr(*, \".Environment\")=<environment: 0x0000000027463720> \n",
      "  .. .. ..- attr(*, \"predvars\")= language list(.outcome, BiologicalMaterial01, BiologicalMaterial03, BiologicalMaterial04,      BiologicalMaterial05, Biolo| __truncated__ ...\n",
      "  .. .. ..- attr(*, \"dataClasses\")= Named chr [1:48] \"numeric\" \"numeric\" \"numeric\" \"numeric\" ...\n",
      "  .. .. .. ..- attr(*, \"names\")= chr [1:48] \".outcome\" \"BiologicalMaterial01\" \"BiologicalMaterial03\" \"BiologicalMaterial04\" ...\n",
      "  ..$ model          :'data.frame':\t124 obs. of  48 variables:\n",
      "  .. ..$ .outcome              : num [1:124] 38 42.4 41.4 42.5 43.6 ...\n",
      "  .. ..$ BiologicalMaterial01  : num [1:124] -0.261 2.335 2.335 1.538 -0.452 ...\n",
      "  .. ..$ BiologicalMaterial03  : num [1:124] -2.652 -0.103 -0.103 1.166 -0.658 ...\n",
      "  .. ..$ BiologicalMaterial04  : num [1:124] 0.362 1.44 1.44 1.109 1.698 ...\n",
      "  .. ..$ BiologicalMaterial05  : num [1:124] 0.635 0.551 0.551 -0.294 1.836 ...\n",
      "  .. ..$ BiologicalMaterial06  : num [1:124] -1.567 1.12 1.12 1.475 0.646 ...\n",
      "  .. ..$ BiologicalMaterial08  : num [1:124] -1.35 2.1 2.1 1.01 1.12 ...\n",
      "  .. ..$ BiologicalMaterial09  : num [1:124] -3.319 -0.785 -0.785 -0.182 -1.771 ...\n",
      "  .. ..$ BiologicalMaterial10  : num [1:124] 1.287 1.287 1.287 0.658 1.687 ...\n",
      "  .. ..$ BiologicalMaterial11  : num [1:124] -2.107 1.406 1.406 0.171 1.056 ...\n",
      "  .. ..$ ManufacturingProcess01: num [1:124] -0.0464 -6.2307 -6.2307 -0.2907 0.431 ...\n",
      "  .. ..$ ManufacturingProcess02: num [1:124] 0.6 -1.85 -1.85 -1.85 -1.85 ...\n",
      "  .. ..$ ManufacturingProcess03: num [1:124] 0.179 0.181 0.457 0.457 0.55 ...\n",
      "  .. ..$ ManufacturingProcess04: num [1:124] 0.48 -2.43 -3.4 -2.27 -1.29 ...\n",
      "  .. ..$ ManufacturingProcess05: num [1:124] -0.366 0.931 0.395 0.79 0.463 ...\n",
      "  .. ..$ ManufacturingProcess06: num [1:124] -0.715 1.124 2.485 -0.748 0.656 ...\n",
      "  .. ..$ ManufacturingProcess07: num [1:124] 0.622 -0.972 -0.972 1.021 1.021 ...\n",
      "  .. ..$ ManufacturingProcess08: num [1:124] 0.143 0.941 -1.054 0.941 0.941 ...\n",
      "  .. ..$ ManufacturingProcess09: num [1:124] -1.75 0.566 -0.528 -0.502 -0.266 ...\n",
      "  .. ..$ ManufacturingProcess10: num [1:124] -0.2489 0.6084 0.0898 -0.1047 0.381 ...\n",
      "  .. ..$ ManufacturingProcess11: num [1:124] -0.398 1.001 0.732 0.593 1.317 ...\n",
      "  .. ..$ ManufacturingProcess12: num [1:124] -0.465 -0.465 -0.465 -0.465 -0.465 ...\n",
      "  .. ..$ ManufacturingProcess13: num [1:124] 0.9831 -0.521 0.2965 0.0955 -0.521 ...\n",
      "  .. ..$ ManufacturingProcess14: num [1:124] 0.765 0.231 0.747 2.518 2.386 ...\n",
      "  .. ..$ ManufacturingProcess15: num [1:124] 1.089 0.879 0.992 3.039 2.872 ...\n",
      "  .. ..$ ManufacturingProcess16: num [1:124] 0.3 0.144 0.187 0.422 0.549 ...\n",
      "  .. ..$ ManufacturingProcess17: num [1:124] 1.003 -0.267 0.431 -0.358 -0.824 ...\n",
      "  .. ..$ ManufacturingProcess19: num [1:124] 0.462 1.54 1.004 1.651 1.937 ...\n",
      "  .. ..$ ManufacturingProcess20: num [1:124] 0.286 0.18 0.156 0.272 0.361 ...\n",
      "  .. ..$ ManufacturingProcess21: num [1:124] 0.235 0.235 0.235 -0.708 -0.574 ...\n",
      "  .. ..$ ManufacturingProcess22: num [1:124] 0.2581 -0.6403 -0.0414 0.8569 1.1564 ...\n",
      "  .. ..$ ManufacturingProcess23: num [1:124] 0.397 -1.727 -0.547 0.633 -1.137 ...\n",
      "  .. ..$ ManufacturingProcess24: num [1:124] 0.149 -0.984 -0.641 1.591 -1.327 ...\n",
      "  .. ..$ ManufacturingProcess26: num [1:124] 0.131 0.19 0.197 0.27 0.228 ...\n",
      "  .. ..$ ManufacturingProcess28: num [1:124] 0.762 0.858 0.839 0.877 0.896 ...\n",
      "  .. ..$ ManufacturingProcess30: num [1:124] 0.678 0.678 0.219 -0.148 0.862 ...\n",
      "  .. ..$ ManufacturingProcess32: num [1:124] -0.401 1.948 2.274 2.274 2.59 ...\n",
      "  .. ..$ ManufacturingProcess33: num [1:124] 1 1 1.83 2.65 2.65 ...\n",
      "  .. ..$ ManufacturingProcess34: num [1:124] -1.777 2.164 0.154 0.154 0.154 ...\n",
      "  .. ..$ ManufacturingProcess35: num [1:124] -0.828 1.11 0.042 -2.35 -0.482 ...\n",
      "  .. ..$ ManufacturingProcess36: num [1:124] -0.708 -0.708 -1.918 -3.175 -1.918 ...\n",
      "  .. ..$ ManufacturingProcess37: num [1:124] -1.275 2.291 0.389 -1.988 -1.513 ...\n",
      "  .. ..$ ManufacturingProcess38: num [1:124] 0.724 -0.772 -0.772 -0.772 -0.772 ...\n",
      "  .. ..$ ManufacturingProcess39: num [1:124] 0.236 0.236 0.236 0.3 0.236 ...\n",
      "  .. ..$ ManufacturingProcess41: num [1:124] 0.691 2.38 -0.435 -0.435 -0.435 ...\n",
      "  .. ..$ ManufacturingProcess43: num [1:124] 2.0473 -0.0417 0.1572 0.1572 1.2515 ...\n",
      "  .. ..$ ManufacturingProcess44: num [1:124] -0.0141 0.277 -0.0141 -0.3052 -0.0141 ...\n",
      "  .. ..$ ManufacturingProcess45: num [1:124] 0.6447 0.1786 -0.0545 -0.0545 -0.2876 ...\n",
      "  .. ..- attr(*, \"terms\")=Classes 'terms', 'formula'  language .outcome ~ BiologicalMaterial01 + BiologicalMaterial03 + BiologicalMaterial04 +      BiologicalMaterial05 + Biolo| __truncated__ ...\n",
      "  .. .. .. ..- attr(*, \"variables\")= language list(.outcome, BiologicalMaterial01, BiologicalMaterial03, BiologicalMaterial04,      BiologicalMaterial05, Biolo| __truncated__ ...\n",
      "  .. .. .. ..- attr(*, \"factors\")= int [1:48, 1:47] 0 1 0 0 0 0 0 0 0 0 ...\n",
      "  .. .. .. .. ..- attr(*, \"dimnames\")=List of 2\n",
      "  .. .. .. .. .. ..$ : chr [1:48] \".outcome\" \"BiologicalMaterial01\" \"BiologicalMaterial03\" \"BiologicalMaterial04\" ...\n",
      "  .. .. .. .. .. ..$ : chr [1:47] \"BiologicalMaterial01\" \"BiologicalMaterial03\" \"BiologicalMaterial04\" \"BiologicalMaterial05\" ...\n",
      "  .. .. .. ..- attr(*, \"term.labels\")= chr [1:47] \"BiologicalMaterial01\" \"BiologicalMaterial03\" \"BiologicalMaterial04\" \"BiologicalMaterial05\" ...\n",
      "  .. .. .. ..- attr(*, \"order\")= int [1:47] 1 1 1 1 1 1 1 1 1 1 ...\n",
      "  .. .. .. ..- attr(*, \"intercept\")= int 1\n",
      "  .. .. .. ..- attr(*, \"response\")= int 1\n",
      "  .. .. .. ..- attr(*, \".Environment\")=<environment: 0x0000000027463720> \n",
      "  .. .. .. ..- attr(*, \"predvars\")= language list(.outcome, BiologicalMaterial01, BiologicalMaterial03, BiologicalMaterial04,      BiologicalMaterial05, Biolo| __truncated__ ...\n",
      "  .. .. .. ..- attr(*, \"dataClasses\")= Named chr [1:48] \"numeric\" \"numeric\" \"numeric\" \"numeric\" ...\n",
      "  .. .. .. .. ..- attr(*, \"names\")= chr [1:48] \".outcome\" \"BiologicalMaterial01\" \"BiologicalMaterial03\" \"BiologicalMaterial04\" ...\n",
      "  ..$ xNames         : chr [1:47] \"BiologicalMaterial01\" \"BiologicalMaterial03\" \"BiologicalMaterial04\" \"BiologicalMaterial05\" ...\n",
      "  ..$ problemType    : chr \"Regression\"\n",
      "  ..$ tuneValue      :'data.frame':\t1 obs. of  1 variable:\n",
      "  .. ..$ ncomp: num 4\n",
      "  ..$ obsLevels      : logi NA\n",
      "  ..$ param          : list()\n",
      "  ..$ bestIter       :'data.frame':\t1 obs. of  1 variable:\n",
      "  .. ..$ ncomp: num 4\n",
      "  ..- attr(*, \"class\")= chr \"mvr\"\n",
      " $ preProcess  : NULL\n",
      " $ trainingData:'data.frame':\t124 obs. of  48 variables:\n",
      "  ..$ BiologicalMaterial01  : num [1:124] -0.261 2.335 2.335 1.538 -0.452 ...\n",
      "  ..$ BiologicalMaterial03  : num [1:124] -2.652 -0.103 -0.103 1.166 -0.658 ...\n",
      "  ..$ BiologicalMaterial04  : num [1:124] 0.362 1.44 1.44 1.109 1.698 ...\n",
      "  ..$ BiologicalMaterial05  : num [1:124] 0.635 0.551 0.551 -0.294 1.836 ...\n",
      "  ..$ BiologicalMaterial06  : num [1:124] -1.567 1.12 1.12 1.475 0.646 ...\n",
      "  ..$ BiologicalMaterial08  : num [1:124] -1.35 2.1 2.1 1.01 1.12 ...\n",
      "  ..$ BiologicalMaterial09  : num [1:124] -3.319 -0.785 -0.785 -0.182 -1.771 ...\n",
      "  ..$ BiologicalMaterial10  : num [1:124] 1.287 1.287 1.287 0.658 1.687 ...\n",
      "  ..$ BiologicalMaterial11  : num [1:124] -2.107 1.406 1.406 0.171 1.056 ...\n",
      "  ..$ ManufacturingProcess01: num [1:124] -0.0464 -6.2307 -6.2307 -0.2907 0.431 ...\n",
      "  ..$ ManufacturingProcess02: num [1:124] 0.6 -1.85 -1.85 -1.85 -1.85 ...\n",
      "  ..$ ManufacturingProcess03: num [1:124] 0.179 0.181 0.457 0.457 0.55 ...\n",
      "  ..$ ManufacturingProcess04: num [1:124] 0.48 -2.43 -3.4 -2.27 -1.29 ...\n",
      "  ..$ ManufacturingProcess05: num [1:124] -0.366 0.931 0.395 0.79 0.463 ...\n",
      "  ..$ ManufacturingProcess06: num [1:124] -0.715 1.124 2.485 -0.748 0.656 ...\n",
      "  ..$ ManufacturingProcess07: num [1:124] 0.622 -0.972 -0.972 1.021 1.021 ...\n",
      "  ..$ ManufacturingProcess08: num [1:124] 0.143 0.941 -1.054 0.941 0.941 ...\n",
      "  ..$ ManufacturingProcess09: num [1:124] -1.75 0.566 -0.528 -0.502 -0.266 ...\n",
      "  ..$ ManufacturingProcess10: num [1:124] -0.2489 0.6084 0.0898 -0.1047 0.381 ...\n",
      "  ..$ ManufacturingProcess11: num [1:124] -0.398 1.001 0.732 0.593 1.317 ...\n",
      "  ..$ ManufacturingProcess12: num [1:124] -0.465 -0.465 -0.465 -0.465 -0.465 ...\n",
      "  ..$ ManufacturingProcess13: num [1:124] 0.9831 -0.521 0.2965 0.0955 -0.521 ...\n",
      "  ..$ ManufacturingProcess14: num [1:124] 0.765 0.231 0.747 2.518 2.386 ...\n",
      "  ..$ ManufacturingProcess15: num [1:124] 1.089 0.879 0.992 3.039 2.872 ...\n",
      "  ..$ ManufacturingProcess16: num [1:124] 0.3 0.144 0.187 0.422 0.549 ...\n",
      "  ..$ ManufacturingProcess17: num [1:124] 1.003 -0.267 0.431 -0.358 -0.824 ...\n",
      "  ..$ ManufacturingProcess19: num [1:124] 0.462 1.54 1.004 1.651 1.937 ...\n",
      "  ..$ ManufacturingProcess20: num [1:124] 0.286 0.18 0.156 0.272 0.361 ...\n",
      "  ..$ ManufacturingProcess21: num [1:124] 0.235 0.235 0.235 -0.708 -0.574 ...\n",
      "  ..$ ManufacturingProcess22: num [1:124] 0.2581 -0.6403 -0.0414 0.8569 1.1564 ...\n",
      "  ..$ ManufacturingProcess23: num [1:124] 0.397 -1.727 -0.547 0.633 -1.137 ...\n",
      "  ..$ ManufacturingProcess24: num [1:124] 0.149 -0.984 -0.641 1.591 -1.327 ...\n",
      "  ..$ ManufacturingProcess26: num [1:124] 0.131 0.19 0.197 0.27 0.228 ...\n",
      "  ..$ ManufacturingProcess28: num [1:124] 0.762 0.858 0.839 0.877 0.896 ...\n",
      "  ..$ ManufacturingProcess30: num [1:124] 0.678 0.678 0.219 -0.148 0.862 ...\n",
      "  ..$ ManufacturingProcess32: num [1:124] -0.401 1.948 2.274 2.274 2.59 ...\n",
      "  ..$ ManufacturingProcess33: num [1:124] 1 1 1.83 2.65 2.65 ...\n",
      "  ..$ ManufacturingProcess34: num [1:124] -1.777 2.164 0.154 0.154 0.154 ...\n",
      "  ..$ ManufacturingProcess35: num [1:124] -0.828 1.11 0.042 -2.35 -0.482 ...\n",
      "  ..$ ManufacturingProcess36: num [1:124] -0.708 -0.708 -1.918 -3.175 -1.918 ...\n",
      "  ..$ ManufacturingProcess37: num [1:124] -1.275 2.291 0.389 -1.988 -1.513 ...\n",
      "  ..$ ManufacturingProcess38: num [1:124] 0.724 -0.772 -0.772 -0.772 -0.772 ...\n",
      "  ..$ ManufacturingProcess39: num [1:124] 0.236 0.236 0.236 0.3 0.236 ...\n",
      "  ..$ ManufacturingProcess41: num [1:124] 0.691 2.38 -0.435 -0.435 -0.435 ...\n",
      "  ..$ ManufacturingProcess43: num [1:124] 2.0473 -0.0417 0.1572 0.1572 1.2515 ...\n",
      "  ..$ ManufacturingProcess44: num [1:124] -0.0141 0.277 -0.0141 -0.3052 -0.0141 ...\n",
      "  ..$ ManufacturingProcess45: num [1:124] 0.6447 0.1786 -0.0545 -0.0545 -0.2876 ...\n",
      "  ..$ .outcome              : num [1:124] 38 42.4 41.4 42.5 43.6 ...\n",
      " $ resample    :'data.frame':\t25 obs. of  4 variables:\n",
      "  ..$ RMSE    : num [1:25] 1.1 1.25 1.09 1.39 1.1 ...\n",
      "  ..$ Rsquared: num [1:25] 0.554 0.52 0.65 0.313 0.595 ...\n",
      "  ..$ MAE     : num [1:25] 0.934 1.005 0.924 1.141 0.882 ...\n",
      "  ..$ Resample: chr [1:25] \"Resample12\" \"Resample04\" \"Resample02\" \"Resample20\" ...\n",
      " $ resampledCM : NULL\n",
      " $ perfNames   : chr [1:3] \"RMSE\" \"Rsquared\" \"MAE\"\n",
      " $ maximize    : logi FALSE\n",
      " $ yLimits     : num [1:2] 34.8 44.8\n",
      " $ times       :List of 3\n",
      "  ..$ everything: 'proc_time' Named num [1:5] 1.34 0.16 1.5 NA NA\n",
      "  .. ..- attr(*, \"names\")= chr [1:5] \"user.self\" \"sys.self\" \"elapsed\" \"user.child\" ...\n",
      "  ..$ final     : 'proc_time' Named num [1:5] 0 0 0 NA NA\n",
      "  .. ..- attr(*, \"names\")= chr [1:5] \"user.self\" \"sys.self\" \"elapsed\" \"user.child\" ...\n",
      "  ..$ prediction: logi [1:3] NA NA NA\n",
      " $ levels      : logi NA\n",
      " - attr(*, \"class\")= chr \"train\"\n"
     ]
    }
   ],
   "source": [
    "str(fit_pls)\n",
    "fit_pls$finalModel$scores"
   ]
  },
  {
   "cell_type": "code",
   "execution_count": 44,
   "metadata": {
    "collapsed": false,
    "scrolled": true
   },
   "outputs": [
    {
     "data": {},
     "metadata": {},
     "output_type": "display_data"
    },
    {
     "data": {
      "image/png": "[encoded data removed]",
      "text/plain": [
       "plot without title"
      ]
     },
     "metadata": {},
     "output_type": "display_data"
    }
   ],
   "source": [
    "plot(varImp(fit_pls),top = 15)\n",
    "#http://ftp.uni-bayreuth.de/math/statlib/R/CRAN/doc/vignettes/caret/caretVarImp.pdf"
   ]
  },
  {
   "cell_type": "code",
   "execution_count": 52,
   "metadata": {
    "collapsed": false,
    "scrolled": true
   },
   "outputs": [
    {
     "data": {
      "text/plain": [
       "pls variable importance\n",
       "\n",
       "  only 20 most important variables shown (out of 47)\n",
       "\n",
       "                       Overall\n",
       "ManufacturingProcess32  100.00\n",
       "ManufacturingProcess09   80.59\n",
       "ManufacturingProcess13   79.29\n",
       "ManufacturingProcess36   76.20\n",
       "ManufacturingProcess17   73.87\n",
       "ManufacturingProcess06   64.48\n",
       "ManufacturingProcess11   59.69\n",
       "BiologicalMaterial06     56.79\n",
       "BiologicalMaterial08     55.07\n",
       "BiologicalMaterial04     53.24\n",
       "BiologicalMaterial03     52.48\n",
       "ManufacturingProcess34   50.86\n",
       "ManufacturingProcess12   50.05\n",
       "ManufacturingProcess33   48.99\n",
       "BiologicalMaterial01     48.54\n",
       "BiologicalMaterial11     47.39\n",
       "ManufacturingProcess28   42.57\n",
       "BiologicalMaterial10     40.84\n",
       "ManufacturingProcess04   40.44\n",
       "ManufacturingProcess02   36.75"
      ]
     },
     "metadata": {},
     "output_type": "display_data"
    }
   ],
   "source": [
    "(varImp(fit_pls))"
   ]
  },
  {
   "cell_type": "code",
   "execution_count": 53,
   "metadata": {
    "collapsed": false
   },
   "outputs": [
    {
     "data": {
      "text/html": [
       "<ol class=list-inline>\n",
       "\t<li>'trn_Y'</li>\n",
       "\t<li>'BiologicalMaterial01'</li>\n",
       "\t<li>'BiologicalMaterial03'</li>\n",
       "\t<li>'BiologicalMaterial04'</li>\n",
       "\t<li>'BiologicalMaterial05'</li>\n",
       "\t<li>'BiologicalMaterial06'</li>\n",
       "\t<li>'BiologicalMaterial08'</li>\n",
       "\t<li>'BiologicalMaterial09'</li>\n",
       "\t<li>'BiologicalMaterial10'</li>\n",
       "\t<li>'BiologicalMaterial11'</li>\n",
       "\t<li>'ManufacturingProcess01'</li>\n",
       "\t<li>'ManufacturingProcess02'</li>\n",
       "\t<li>'ManufacturingProcess03'</li>\n",
       "\t<li>'ManufacturingProcess04'</li>\n",
       "\t<li>'ManufacturingProcess05'</li>\n",
       "\t<li>'ManufacturingProcess06'</li>\n",
       "\t<li>'ManufacturingProcess07'</li>\n",
       "\t<li>'ManufacturingProcess08'</li>\n",
       "\t<li>'ManufacturingProcess09'</li>\n",
       "\t<li>'ManufacturingProcess10'</li>\n",
       "\t<li>'ManufacturingProcess11'</li>\n",
       "\t<li>'ManufacturingProcess12'</li>\n",
       "\t<li>'ManufacturingProcess13'</li>\n",
       "\t<li>'ManufacturingProcess14'</li>\n",
       "\t<li>'ManufacturingProcess15'</li>\n",
       "\t<li>'ManufacturingProcess16'</li>\n",
       "\t<li>'ManufacturingProcess17'</li>\n",
       "\t<li>'ManufacturingProcess19'</li>\n",
       "\t<li>'ManufacturingProcess20'</li>\n",
       "\t<li>'ManufacturingProcess21'</li>\n",
       "\t<li>'ManufacturingProcess22'</li>\n",
       "\t<li>'ManufacturingProcess23'</li>\n",
       "\t<li>'ManufacturingProcess24'</li>\n",
       "\t<li>'ManufacturingProcess26'</li>\n",
       "\t<li>'ManufacturingProcess28'</li>\n",
       "\t<li>'ManufacturingProcess30'</li>\n",
       "\t<li>'ManufacturingProcess32'</li>\n",
       "\t<li>'ManufacturingProcess33'</li>\n",
       "\t<li>'ManufacturingProcess34'</li>\n",
       "\t<li>'ManufacturingProcess35'</li>\n",
       "\t<li>'ManufacturingProcess36'</li>\n",
       "\t<li>'ManufacturingProcess37'</li>\n",
       "\t<li>'ManufacturingProcess38'</li>\n",
       "\t<li>'ManufacturingProcess39'</li>\n",
       "\t<li>'ManufacturingProcess41'</li>\n",
       "\t<li>'ManufacturingProcess43'</li>\n",
       "\t<li>'ManufacturingProcess44'</li>\n",
       "\t<li>'ManufacturingProcess45'</li>\n",
       "</ol>\n"
      ],
      "text/latex": [
       "\\begin{enumerate*}\n",
       "\\item 'trn\\_Y'\n",
       "\\item 'BiologicalMaterial01'\n",
       "\\item 'BiologicalMaterial03'\n",
       "\\item 'BiologicalMaterial04'\n",
       "\\item 'BiologicalMaterial05'\n",
       "\\item 'BiologicalMaterial06'\n",
       "\\item 'BiologicalMaterial08'\n",
       "\\item 'BiologicalMaterial09'\n",
       "\\item 'BiologicalMaterial10'\n",
       "\\item 'BiologicalMaterial11'\n",
       "\\item 'ManufacturingProcess01'\n",
       "\\item 'ManufacturingProcess02'\n",
       "\\item 'ManufacturingProcess03'\n",
       "\\item 'ManufacturingProcess04'\n",
       "\\item 'ManufacturingProcess05'\n",
       "\\item 'ManufacturingProcess06'\n",
       "\\item 'ManufacturingProcess07'\n",
       "\\item 'ManufacturingProcess08'\n",
       "\\item 'ManufacturingProcess09'\n",
       "\\item 'ManufacturingProcess10'\n",
       "\\item 'ManufacturingProcess11'\n",
       "\\item 'ManufacturingProcess12'\n",
       "\\item 'ManufacturingProcess13'\n",
       "\\item 'ManufacturingProcess14'\n",
       "\\item 'ManufacturingProcess15'\n",
       "\\item 'ManufacturingProcess16'\n",
       "\\item 'ManufacturingProcess17'\n",
       "\\item 'ManufacturingProcess19'\n",
       "\\item 'ManufacturingProcess20'\n",
       "\\item 'ManufacturingProcess21'\n",
       "\\item 'ManufacturingProcess22'\n",
       "\\item 'ManufacturingProcess23'\n",
       "\\item 'ManufacturingProcess24'\n",
       "\\item 'ManufacturingProcess26'\n",
       "\\item 'ManufacturingProcess28'\n",
       "\\item 'ManufacturingProcess30'\n",
       "\\item 'ManufacturingProcess32'\n",
       "\\item 'ManufacturingProcess33'\n",
       "\\item 'ManufacturingProcess34'\n",
       "\\item 'ManufacturingProcess35'\n",
       "\\item 'ManufacturingProcess36'\n",
       "\\item 'ManufacturingProcess37'\n",
       "\\item 'ManufacturingProcess38'\n",
       "\\item 'ManufacturingProcess39'\n",
       "\\item 'ManufacturingProcess41'\n",
       "\\item 'ManufacturingProcess43'\n",
       "\\item 'ManufacturingProcess44'\n",
       "\\item 'ManufacturingProcess45'\n",
       "\\end{enumerate*}\n"
      ],
      "text/markdown": [
       "1. 'trn_Y'\n",
       "2. 'BiologicalMaterial01'\n",
       "3. 'BiologicalMaterial03'\n",
       "4. 'BiologicalMaterial04'\n",
       "5. 'BiologicalMaterial05'\n",
       "6. 'BiologicalMaterial06'\n",
       "7. 'BiologicalMaterial08'\n",
       "8. 'BiologicalMaterial09'\n",
       "9. 'BiologicalMaterial10'\n",
       "10. 'BiologicalMaterial11'\n",
       "11. 'ManufacturingProcess01'\n",
       "12. 'ManufacturingProcess02'\n",
       "13. 'ManufacturingProcess03'\n",
       "14. 'ManufacturingProcess04'\n",
       "15. 'ManufacturingProcess05'\n",
       "16. 'ManufacturingProcess06'\n",
       "17. 'ManufacturingProcess07'\n",
       "18. 'ManufacturingProcess08'\n",
       "19. 'ManufacturingProcess09'\n",
       "20. 'ManufacturingProcess10'\n",
       "21. 'ManufacturingProcess11'\n",
       "22. 'ManufacturingProcess12'\n",
       "23. 'ManufacturingProcess13'\n",
       "24. 'ManufacturingProcess14'\n",
       "25. 'ManufacturingProcess15'\n",
       "26. 'ManufacturingProcess16'\n",
       "27. 'ManufacturingProcess17'\n",
       "28. 'ManufacturingProcess19'\n",
       "29. 'ManufacturingProcess20'\n",
       "30. 'ManufacturingProcess21'\n",
       "31. 'ManufacturingProcess22'\n",
       "32. 'ManufacturingProcess23'\n",
       "33. 'ManufacturingProcess24'\n",
       "34. 'ManufacturingProcess26'\n",
       "35. 'ManufacturingProcess28'\n",
       "36. 'ManufacturingProcess30'\n",
       "37. 'ManufacturingProcess32'\n",
       "38. 'ManufacturingProcess33'\n",
       "39. 'ManufacturingProcess34'\n",
       "40. 'ManufacturingProcess35'\n",
       "41. 'ManufacturingProcess36'\n",
       "42. 'ManufacturingProcess37'\n",
       "43. 'ManufacturingProcess38'\n",
       "44. 'ManufacturingProcess39'\n",
       "45. 'ManufacturingProcess41'\n",
       "46. 'ManufacturingProcess43'\n",
       "47. 'ManufacturingProcess44'\n",
       "48. 'ManufacturingProcess45'\n",
       "\n",
       "\n"
      ],
      "text/plain": [
       " [1] \"trn_Y\"                  \"BiologicalMaterial01\"   \"BiologicalMaterial03\"  \n",
       " [4] \"BiologicalMaterial04\"   \"BiologicalMaterial05\"   \"BiologicalMaterial06\"  \n",
       " [7] \"BiologicalMaterial08\"   \"BiologicalMaterial09\"   \"BiologicalMaterial10\"  \n",
       "[10] \"BiologicalMaterial11\"   \"ManufacturingProcess01\" \"ManufacturingProcess02\"\n",
       "[13] \"ManufacturingProcess03\" \"ManufacturingProcess04\" \"ManufacturingProcess05\"\n",
       "[16] \"ManufacturingProcess06\" \"ManufacturingProcess07\" \"ManufacturingProcess08\"\n",
       "[19] \"ManufacturingProcess09\" \"ManufacturingProcess10\" \"ManufacturingProcess11\"\n",
       "[22] \"ManufacturingProcess12\" \"ManufacturingProcess13\" \"ManufacturingProcess14\"\n",
       "[25] \"ManufacturingProcess15\" \"ManufacturingProcess16\" \"ManufacturingProcess17\"\n",
       "[28] \"ManufacturingProcess19\" \"ManufacturingProcess20\" \"ManufacturingProcess21\"\n",
       "[31] \"ManufacturingProcess22\" \"ManufacturingProcess23\" \"ManufacturingProcess24\"\n",
       "[34] \"ManufacturingProcess26\" \"ManufacturingProcess28\" \"ManufacturingProcess30\"\n",
       "[37] \"ManufacturingProcess32\" \"ManufacturingProcess33\" \"ManufacturingProcess34\"\n",
       "[40] \"ManufacturingProcess35\" \"ManufacturingProcess36\" \"ManufacturingProcess37\"\n",
       "[43] \"ManufacturingProcess38\" \"ManufacturingProcess39\" \"ManufacturingProcess41\"\n",
       "[46] \"ManufacturingProcess43\" \"ManufacturingProcess44\" \"ManufacturingProcess45\""
      ]
     },
     "metadata": {},
     "output_type": "display_data"
    }
   ],
   "source": [
    "colnames(dtrain)"
   ]
  },
  {
   "cell_type": "code",
   "execution_count": 59,
   "metadata": {
    "collapsed": true
   },
   "outputs": [],
   "source": [
    "vip_col <- c(\"ManufacturingProcess32\",\"ManufacturingProcess09\",\"ManufacturingProcess09\")\n",
    "plt_data <- dtrain[,c(\"trn_Y\",vip_col)]"
   ]
  },
  {
   "cell_type": "code",
   "execution_count": 69,
   "metadata": {
    "collapsed": false,
    "scrolled": true
   },
   "outputs": [
    {
     "data": {
      "text/html": [
       "<table>\n",
       "<thead><tr><th scope=col>trn_Y</th><th scope=col>variable</th><th scope=col>value</th></tr></thead>\n",
       "<tbody>\n",
       "\t<tr><td>38.00                 </td><td>ManufacturingProcess32</td><td>-0.4007505            </td></tr>\n",
       "\t<tr><td>42.44                 </td><td>ManufacturingProcess32</td><td> 1.9484333            </td></tr>\n",
       "\t<tr><td>41.42                 </td><td>ManufacturingProcess32</td><td> 2.2735754            </td></tr>\n",
       "\t<tr><td>42.49                 </td><td>ManufacturingProcess32</td><td> 2.2735754            </td></tr>\n",
       "\t<tr><td>43.57                 </td><td>ManufacturingProcess32</td><td> 2.5900871            </td></tr>\n",
       "\t<tr><td>43.12                 </td><td>ManufacturingProcess32</td><td> 0.1806594            </td></tr>\n",
       "</tbody>\n",
       "</table>\n"
      ],
      "text/latex": [
       "\\begin{tabular}{r|lll}\n",
       " trn\\_Y & variable & value\\\\\n",
       "\\hline\n",
       "\t 38.00                  & ManufacturingProcess32 & -0.4007505            \\\\\n",
       "\t 42.44                  & ManufacturingProcess32 &  1.9484333            \\\\\n",
       "\t 41.42                  & ManufacturingProcess32 &  2.2735754            \\\\\n",
       "\t 42.49                  & ManufacturingProcess32 &  2.2735754            \\\\\n",
       "\t 43.57                  & ManufacturingProcess32 &  2.5900871            \\\\\n",
       "\t 43.12                  & ManufacturingProcess32 &  0.1806594            \\\\\n",
       "\\end{tabular}\n"
      ],
      "text/markdown": [
       "\n",
       "trn_Y | variable | value | \n",
       "|---|---|---|---|---|---|\n",
       "| 38.00                  | ManufacturingProcess32 | -0.4007505             | \n",
       "| 42.44                  | ManufacturingProcess32 |  1.9484333             | \n",
       "| 41.42                  | ManufacturingProcess32 |  2.2735754             | \n",
       "| 42.49                  | ManufacturingProcess32 |  2.2735754             | \n",
       "| 43.57                  | ManufacturingProcess32 |  2.5900871             | \n",
       "| 43.12                  | ManufacturingProcess32 |  0.1806594             | \n",
       "\n",
       "\n"
      ],
      "text/plain": [
       "  trn_Y variable               value     \n",
       "1 38.00 ManufacturingProcess32 -0.4007505\n",
       "2 42.44 ManufacturingProcess32  1.9484333\n",
       "3 41.42 ManufacturingProcess32  2.2735754\n",
       "4 42.49 ManufacturingProcess32  2.2735754\n",
       "5 43.57 ManufacturingProcess32  2.5900871\n",
       "6 43.12 ManufacturingProcess32  0.1806594"
      ]
     },
     "metadata": {},
     "output_type": "display_data"
    }
   ],
   "source": [
    "#head(plt_data)\n",
    "library(reshape2)\n",
    "mlt_plt <- melt(plt_data,id.vars = \"trn_Y\")\n",
    "head(mlt_plt)"
   ]
  },
  {
   "cell_type": "code",
   "execution_count": 72,
   "metadata": {
    "collapsed": false
   },
   "outputs": [
    {
     "data": {},
     "metadata": {},
     "output_type": "display_data"
    },
    {
     "data": {
      "image/png": "[encoded data removed]",
      "text/plain": [
       "plot without title"
      ]
     },
     "metadata": {},
     "output_type": "display_data"
    }
   ],
   "source": [
    "xyplot(trn_Y~value|variable,data=mlt_plt)"
   ]
  }
 ],
 "metadata": {
  "anaconda-cloud": {},
  "kernelspec": {
   "display_name": "R",
   "language": "R",
   "name": "ir"
  },
  "language_info": {
   "codemirror_mode": "r",
   "file_extension": ".r",
   "mimetype": "text/x-r-source",
   "name": "R",
   "pygments_lexer": "r",
   "version": "3.5.1"
  },
  "toc": {
   "base_numbering": 1,
   "nav_menu": {},
   "number_sections": true,
   "sideBar": true,
   "skip_h1_title": false,
   "title_cell": "Table of Contents",
   "title_sidebar": "Contents",
   "toc_cell": false,
   "toc_position": {},
   "toc_section_display": true,
   "toc_window_display": false
  }
 },
 "nbformat": 4,
 "nbformat_minor": 1
}
