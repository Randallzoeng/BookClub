{
 "cells": [
  {
   "cell_type": "markdown",
   "metadata": {},
   "source": [
    "6.1. Infrared (IR) spectroscopy technology is used to determine the chemical makeup of a substance. The theory of IR spectroscopy holds that unique\n",
    "molecular structures absorb IR frequencies differently. In practice a spectrometer fires a series of IR frequencies into a sample material, and the device\n",
    "measures the absorbance of the sample at each individual frequency. This\n",
    "series of measurements creates a spectrum profile which can then be used to\n",
    "determine the chemical makeup of the sample material.\n",
    "A Tecator Infratec Food and Feed Analyzer instrument was used to analyze\n",
    "215 samples of meat across 100 frequencies. A sample of these frequency profiles is displayed in Fig. 6.20. In addition to an IR profile, analytical chemistry\n",
    "determined the percent content of water, fat, and protein for each sample.\n",
    "If we can establish a predictive relationship between IR spectrum and fat\n",
    "content, then food scientists could predict a sample’s fat content with IR\n",
    "instead of using analytical chemistry. This would provide costs savings, since\n",
    "analytical chemistry is a more expensive, time-consuming process:\n",
    "- (a) Start R and use these commands to load the data:\n",
    "The matrix absorp contains the 100 absorbance values for the 215 samples,\n",
    "while matrix endpoints contains the percent of moisture, fat, and protein\n",
    "in columns 1–3, respectively.\n",
    "- (b) In this example the predictors are the measurements at the individual frequencies. Because the frequencies lie in a systematic order (850–1,050nm),\n",
    "the predictors have a high degree of correlation. Hence, the data lie in a\n",
    "smaller dimension than the total number of predictors (215). Use PCA\n",
    "to determine the effective dimension of these data. What is the effective\n",
    "dimension?\n",
    "- (c) Split the data into a training and a test set, pre-process the data, and\n",
    "build each variety of models described in this chapter. For those models with tuning parameters, what are the optimal values of the tuning\n",
    "parameter(s)?\n",
    "- (d) Which model has the best predictive ability? Is any model significantly\n",
    "better or worse than the others?\n",
    "- (e) Explain which model you would use for predicting the fat content of a\n",
    "sample."
   ]
  },
  {
   "cell_type": "code",
   "execution_count": 1,
   "metadata": {
    "collapsed": false
   },
   "outputs": [
    {
     "name": "stderr",
     "output_type": "stream",
     "text": [
      "Warning message:\n",
      "\"package 'caret' was built under R version 3.5.1\"Loading required package: lattice\n",
      "Loading required package: ggplot2\n"
     ]
    }
   ],
   "source": [
    "library(caret)\n",
    "data(tecator)\n",
    "#library(AppliedPredictiveModeling)"
   ]
  },
  {
   "cell_type": "code",
   "execution_count": 10,
   "metadata": {
    "collapsed": false
   },
   "outputs": [
    {
     "data": {
      "text/html": [
       "FALSE"
      ],
      "text/latex": [
       "FALSE"
      ],
      "text/markdown": [
       "FALSE"
      ],
      "text/plain": [
       "[1] FALSE"
      ]
     },
     "metadata": {},
     "output_type": "display_data"
    }
   ],
   "source": [
    "# dim(absorp)\n",
    "# dim(endpoints)\n",
    "any(is.na(absorp))"
   ]
  },
  {
   "cell_type": "code",
   "execution_count": 16,
   "metadata": {
    "collapsed": false,
    "scrolled": true
   },
   "outputs": [
    {
     "data": {
      "text/html": [
       "<ol class=list-inline>\n",
       "\t<li>0.997628218864769</li>\n",
       "\t<li>0.99751599869043</li>\n",
       "\t<li>0.997244168427824</li>\n",
       "\t<li>0.996788080805585</li>\n",
       "\t<li>0.996149581055345</li>\n",
       "\t<li>0.996048995274178</li>\n",
       "</ol>\n"
      ],
      "text/latex": [
       "\\begin{enumerate*}\n",
       "\\item 0.997628218864769\n",
       "\\item 0.99751599869043\n",
       "\\item 0.997244168427824\n",
       "\\item 0.996788080805585\n",
       "\\item 0.996149581055345\n",
       "\\item 0.996048995274178\n",
       "\\end{enumerate*}\n"
      ],
      "text/markdown": [
       "1. 0.997628218864769\n",
       "2. 0.99751599869043\n",
       "3. 0.997244168427824\n",
       "4. 0.996788080805585\n",
       "5. 0.996149581055345\n",
       "6. 0.996048995274178\n",
       "\n",
       "\n"
      ],
      "text/plain": [
       "[1] 0.9976282 0.9975160 0.9972442 0.9967881 0.9961496 0.9960490"
      ]
     },
     "metadata": {},
     "output_type": "display_data"
    }
   ],
   "source": [
    "library(e1071)\n",
    "skew_info <- apply(absorp,2,skewness)\n",
    "head(sort(skew_info,decreasing = T))"
   ]
  },
  {
   "cell_type": "code",
   "execution_count": 21,
   "metadata": {
    "collapsed": false,
    "scrolled": true
   },
   "outputs": [
    {
     "data": {
      "image/png": "[encoded data removed]",
      "text/plain": [
       "Plot with title \"\""
      ]
     },
     "metadata": {},
     "output_type": "display_data"
    }
   ],
   "source": [
    "library(corrplot)\n",
    "corrplot(cor(absorp),type=\"upper\",order=\"hclust\",addgrid.col = NA,tl.pos=\"n\")"
   ]
  },
  {
   "cell_type": "code",
   "execution_count": 23,
   "metadata": {
    "collapsed": false
   },
   "outputs": [
    {
     "data": {
      "text/html": [
       "<ol class=list-inline>\n",
       "\t<li>98.6261925818027</li>\n",
       "\t<li>0.969705228604995</li>\n",
       "\t<li>0.279324275947817</li>\n",
       "\t<li>0.11442986809507</li>\n",
       "\t<li>0.00646091116817936</li>\n",
       "\t<li>0.00262459145496293</li>\n",
       "</ol>\n"
      ],
      "text/latex": [
       "\\begin{enumerate*}\n",
       "\\item 98.6261925818027\n",
       "\\item 0.969705228604995\n",
       "\\item 0.279324275947817\n",
       "\\item 0.11442986809507\n",
       "\\item 0.00646091116817936\n",
       "\\item 0.00262459145496293\n",
       "\\end{enumerate*}\n"
      ],
      "text/markdown": [
       "1. 98.6261925818027\n",
       "2. 0.969705228604995\n",
       "3. 0.279324275947817\n",
       "4. 0.11442986809507\n",
       "5. 0.00646091116817936\n",
       "6. 0.00262459145496293\n",
       "\n",
       "\n"
      ],
      "text/plain": [
       "[1] 98.626192582  0.969705229  0.279324276  0.114429868  0.006460911\n",
       "[6]  0.002624591"
      ]
     },
     "metadata": {},
     "output_type": "display_data"
    }
   ],
   "source": [
    "pca_obj <- prcomp(absorp,center=T,scale=T)\n",
    "pca_var <- pca_obj$sdev^2/sum(pca_obj$sdev^2)*100\n",
    "head(pca_var)"
   ]
  },
  {
   "cell_type": "code",
   "execution_count": 30,
   "metadata": {
    "collapsed": false
   },
   "outputs": [],
   "source": [
    "set.seed(1029)\n",
    "absorp <- data.frame(absorp)\n",
    "trn_id <- createDataPartition(endpoints[,3],p=3/4,list = F)\n",
    "trnX <- absorp[trn_id,]\n",
    "vldX <- absorp[-trn_id,]\n",
    "\n",
    "trnY <- endpoints[trn_id,3]\n",
    "vldY <- endpoints[-trn_id,3]"
   ]
  },
  {
   "cell_type": "code",
   "execution_count": 31,
   "metadata": {
    "collapsed": false
   },
   "outputs": [
    {
     "data": {
      "text/plain": [
       "Linear Regression \n",
       "\n",
       "163 samples\n",
       "100 predictors\n",
       "\n",
       "No pre-processing\n",
       "Resampling: Cross-Validated (10 fold, repeated 5 times) \n",
       "Summary of sample sizes: 147, 146, 147, 147, 147, 146, ... \n",
       "Resampling results:\n",
       "\n",
       "  RMSE      Rsquared   MAE      \n",
       "  1.350262  0.8811248  0.8021688\n",
       "\n",
       "Tuning parameter 'intercept' was held constant at a value of TRUE"
      ]
     },
     "metadata": {},
     "output_type": "display_data"
    }
   ],
   "source": [
    "ctrl <- trainControl(method = \"repeatedcv\",repeats = 5)\n",
    "set.seed(529)\n",
    "fit_lm <- train(x=trnX,y=trnY,method = \"lm\",trControl = ctrl)\n",
    "fit_lm"
   ]
  },
  {
   "cell_type": "code",
   "execution_count": 34,
   "metadata": {
    "collapsed": false
   },
   "outputs": [],
   "source": [
    "set.seed(529)\n",
    "fit_pcr <- train(x=trnX,y=trnY,method = \"pcr\",trControl = ctrl,\n",
    "                 tuneLength=25)\n",
    "#fit_pcr$results\n",
    "\n",
    "set.seed(529)\n",
    "fit_pls<- train(x=trnX,y=trnY,method = \"pls\",trControl = ctrl,\n",
    "                preProc=c(\"center\",\"scale\"),tuneLength=25)\n",
    "#fit_pls$results"
   ]
  },
  {
   "cell_type": "code",
   "execution_count": 35,
   "metadata": {
    "collapsed": false
   },
   "outputs": [
    {
     "data": {
      "text/html": [
       "<table>\n",
       "<thead><tr><th scope=col>ncomp</th><th scope=col>RMSE</th><th scope=col>Rsquared</th><th scope=col>MAE</th><th scope=col>RMSESD</th><th scope=col>RsquaredSD</th><th scope=col>MAESD</th></tr></thead>\n",
       "<tbody>\n",
       "\t<tr><td>1         </td><td>2.901818  </td><td>0.09868624</td><td>2.4968072 </td><td>0.2560643 </td><td>0.10926393</td><td>0.2042626 </td></tr>\n",
       "\t<tr><td>2         </td><td>2.697017  </td><td>0.21941841</td><td>2.2242314 </td><td>0.2956034 </td><td>0.12775431</td><td>0.2509888 </td></tr>\n",
       "\t<tr><td>3         </td><td>2.246346  </td><td>0.46319758</td><td>1.7798565 </td><td>0.4167374 </td><td>0.18596382</td><td>0.3244957 </td></tr>\n",
       "\t<tr><td>4         </td><td>1.573498  </td><td>0.72314546</td><td>1.1988172 </td><td>0.4331457 </td><td>0.14537455</td><td>0.2607383 </td></tr>\n",
       "\t<tr><td>5         </td><td>1.410147  </td><td>0.78526117</td><td>1.0938650 </td><td>0.3317333 </td><td>0.09701200</td><td>0.1974209 </td></tr>\n",
       "\t<tr><td>6         </td><td>1.143021  </td><td>0.86503029</td><td>0.9155592 </td><td>0.2256198 </td><td>0.04481956</td><td>0.1603696 </td></tr>\n",
       "</tbody>\n",
       "</table>\n"
      ],
      "text/latex": [
       "\\begin{tabular}{r|lllllll}\n",
       " ncomp & RMSE & Rsquared & MAE & RMSESD & RsquaredSD & MAESD\\\\\n",
       "\\hline\n",
       "\t 1          & 2.901818   & 0.09868624 & 2.4968072  & 0.2560643  & 0.10926393 & 0.2042626 \\\\\n",
       "\t 2          & 2.697017   & 0.21941841 & 2.2242314  & 0.2956034  & 0.12775431 & 0.2509888 \\\\\n",
       "\t 3          & 2.246346   & 0.46319758 & 1.7798565  & 0.4167374  & 0.18596382 & 0.3244957 \\\\\n",
       "\t 4          & 1.573498   & 0.72314546 & 1.1988172  & 0.4331457  & 0.14537455 & 0.2607383 \\\\\n",
       "\t 5          & 1.410147   & 0.78526117 & 1.0938650  & 0.3317333  & 0.09701200 & 0.1974209 \\\\\n",
       "\t 6          & 1.143021   & 0.86503029 & 0.9155592  & 0.2256198  & 0.04481956 & 0.1603696 \\\\\n",
       "\\end{tabular}\n"
      ],
      "text/markdown": [
       "\n",
       "ncomp | RMSE | Rsquared | MAE | RMSESD | RsquaredSD | MAESD | \n",
       "|---|---|---|---|---|---|\n",
       "| 1          | 2.901818   | 0.09868624 | 2.4968072  | 0.2560643  | 0.10926393 | 0.2042626  | \n",
       "| 2          | 2.697017   | 0.21941841 | 2.2242314  | 0.2956034  | 0.12775431 | 0.2509888  | \n",
       "| 3          | 2.246346   | 0.46319758 | 1.7798565  | 0.4167374  | 0.18596382 | 0.3244957  | \n",
       "| 4          | 1.573498   | 0.72314546 | 1.1988172  | 0.4331457  | 0.14537455 | 0.2607383  | \n",
       "| 5          | 1.410147   | 0.78526117 | 1.0938650  | 0.3317333  | 0.09701200 | 0.1974209  | \n",
       "| 6          | 1.143021   | 0.86503029 | 0.9155592  | 0.2256198  | 0.04481956 | 0.1603696  | \n",
       "\n",
       "\n"
      ],
      "text/plain": [
       "  ncomp RMSE     Rsquared   MAE       RMSESD    RsquaredSD MAESD    \n",
       "1 1     2.901818 0.09868624 2.4968072 0.2560643 0.10926393 0.2042626\n",
       "2 2     2.697017 0.21941841 2.2242314 0.2956034 0.12775431 0.2509888\n",
       "3 3     2.246346 0.46319758 1.7798565 0.4167374 0.18596382 0.3244957\n",
       "4 4     1.573498 0.72314546 1.1988172 0.4331457 0.14537455 0.2607383\n",
       "5 5     1.410147 0.78526117 1.0938650 0.3317333 0.09701200 0.1974209\n",
       "6 6     1.143021 0.86503029 0.9155592 0.2256198 0.04481956 0.1603696"
      ]
     },
     "metadata": {},
     "output_type": "display_data"
    }
   ],
   "source": [
    "head(fit_pcr$results)"
   ]
  },
  {
   "cell_type": "code",
   "execution_count": 37,
   "metadata": {
    "collapsed": false
   },
   "outputs": [],
   "source": [
    "cmpr <- rbind(fit_pcr$results,fit_pls$results)\n",
    "cmpr$model <- rep(c(\"pcr\",\"pls\"),each=25)"
   ]
  },
  {
   "cell_type": "code",
   "execution_count": 38,
   "metadata": {
    "collapsed": false
   },
   "outputs": [
    {
     "data": {
      "text/html": [
       "<table>\n",
       "<thead><tr><th scope=col>ncomp</th><th scope=col>RMSE</th><th scope=col>Rsquared</th><th scope=col>MAE</th><th scope=col>RMSESD</th><th scope=col>RsquaredSD</th><th scope=col>MAESD</th><th scope=col>model</th></tr></thead>\n",
       "<tbody>\n",
       "\t<tr><td>1         </td><td>2.901818  </td><td>0.09868624</td><td>2.4968072 </td><td>0.2560643 </td><td>0.10926393</td><td>0.2042626 </td><td>pcr       </td></tr>\n",
       "\t<tr><td>2         </td><td>2.697017  </td><td>0.21941841</td><td>2.2242314 </td><td>0.2956034 </td><td>0.12775431</td><td>0.2509888 </td><td>pcr       </td></tr>\n",
       "\t<tr><td>3         </td><td>2.246346  </td><td>0.46319758</td><td>1.7798565 </td><td>0.4167374 </td><td>0.18596382</td><td>0.3244957 </td><td>pcr       </td></tr>\n",
       "\t<tr><td>4         </td><td>1.573498  </td><td>0.72314546</td><td>1.1988172 </td><td>0.4331457 </td><td>0.14537455</td><td>0.2607383 </td><td>pcr       </td></tr>\n",
       "\t<tr><td>5         </td><td>1.410147  </td><td>0.78526117</td><td>1.0938650 </td><td>0.3317333 </td><td>0.09701200</td><td>0.1974209 </td><td>pcr       </td></tr>\n",
       "\t<tr><td>6         </td><td>1.143021  </td><td>0.86503029</td><td>0.9155592 </td><td>0.2256198 </td><td>0.04481956</td><td>0.1603696 </td><td>pcr       </td></tr>\n",
       "</tbody>\n",
       "</table>\n"
      ],
      "text/latex": [
       "\\begin{tabular}{r|llllllll}\n",
       " ncomp & RMSE & Rsquared & MAE & RMSESD & RsquaredSD & MAESD & model\\\\\n",
       "\\hline\n",
       "\t 1          & 2.901818   & 0.09868624 & 2.4968072  & 0.2560643  & 0.10926393 & 0.2042626  & pcr       \\\\\n",
       "\t 2          & 2.697017   & 0.21941841 & 2.2242314  & 0.2956034  & 0.12775431 & 0.2509888  & pcr       \\\\\n",
       "\t 3          & 2.246346   & 0.46319758 & 1.7798565  & 0.4167374  & 0.18596382 & 0.3244957  & pcr       \\\\\n",
       "\t 4          & 1.573498   & 0.72314546 & 1.1988172  & 0.4331457  & 0.14537455 & 0.2607383  & pcr       \\\\\n",
       "\t 5          & 1.410147   & 0.78526117 & 1.0938650  & 0.3317333  & 0.09701200 & 0.1974209  & pcr       \\\\\n",
       "\t 6          & 1.143021   & 0.86503029 & 0.9155592  & 0.2256198  & 0.04481956 & 0.1603696  & pcr       \\\\\n",
       "\\end{tabular}\n"
      ],
      "text/markdown": [
       "\n",
       "ncomp | RMSE | Rsquared | MAE | RMSESD | RsquaredSD | MAESD | model | \n",
       "|---|---|---|---|---|---|\n",
       "| 1          | 2.901818   | 0.09868624 | 2.4968072  | 0.2560643  | 0.10926393 | 0.2042626  | pcr        | \n",
       "| 2          | 2.697017   | 0.21941841 | 2.2242314  | 0.2956034  | 0.12775431 | 0.2509888  | pcr        | \n",
       "| 3          | 2.246346   | 0.46319758 | 1.7798565  | 0.4167374  | 0.18596382 | 0.3244957  | pcr        | \n",
       "| 4          | 1.573498   | 0.72314546 | 1.1988172  | 0.4331457  | 0.14537455 | 0.2607383  | pcr        | \n",
       "| 5          | 1.410147   | 0.78526117 | 1.0938650  | 0.3317333  | 0.09701200 | 0.1974209  | pcr        | \n",
       "| 6          | 1.143021   | 0.86503029 | 0.9155592  | 0.2256198  | 0.04481956 | 0.1603696  | pcr        | \n",
       "\n",
       "\n"
      ],
      "text/plain": [
       "  ncomp RMSE     Rsquared   MAE       RMSESD    RsquaredSD MAESD     model\n",
       "1 1     2.901818 0.09868624 2.4968072 0.2560643 0.10926393 0.2042626 pcr  \n",
       "2 2     2.697017 0.21941841 2.2242314 0.2956034 0.12775431 0.2509888 pcr  \n",
       "3 3     2.246346 0.46319758 1.7798565 0.4167374 0.18596382 0.3244957 pcr  \n",
       "4 4     1.573498 0.72314546 1.1988172 0.4331457 0.14537455 0.2607383 pcr  \n",
       "5 5     1.410147 0.78526117 1.0938650 0.3317333 0.09701200 0.1974209 pcr  \n",
       "6 6     1.143021 0.86503029 0.9155592 0.2256198 0.04481956 0.1603696 pcr  "
      ]
     },
     "metadata": {},
     "output_type": "display_data"
    }
   ],
   "source": [
    "head(cmpr)"
   ]
  },
  {
   "cell_type": "code",
   "execution_count": 52,
   "metadata": {
    "collapsed": false,
    "scrolled": true
   },
   "outputs": [
    {
     "data": {
      "image/png": "[encoded data removed]",
      "text/plain": [
       "plot without title"
      ]
     },
     "metadata": {},
     "output_type": "display_data"
    }
   ],
   "source": [
    "library(ggplot2)\n",
    "p1 <- ggplot(aes(ncomp,RMSE,colour=model),data=cmpr) + geom_line() +theme(legend.position=\"top\")\n",
    "\n",
    "library(lattice)\n",
    "p2 <- xyplot(RMSE~ncomp,data=cmpr,groups=model,type = 'o',auto.key = list(columns = 2))\n",
    "\n",
    "library(gridExtra)\n",
    "grid.arrange(p1, p2, ncol=2,nrow=2)   "
   ]
  },
  {
   "cell_type": "code",
   "execution_count": 65,
   "metadata": {
    "collapsed": true
   },
   "outputs": [],
   "source": [
    "#set.seed(529)\n",
    "enet_grid <- expand.grid(lambda = c(0, .001, .01, .1, 1),\n",
    "                         fraction = seq(0.05, 1, length = 20))\n",
    "\n",
    "fit_enet<- train(x=trnX,y=trnY,method = \"enet\",trControl = ctrl,\n",
    "                preProc=c(\"center\",\"scale\"),\n",
    "                tuneGrid=enet_grid)"
   ]
  },
  {
   "cell_type": "code",
   "execution_count": 66,
   "metadata": {
    "collapsed": false
   },
   "outputs": [
    {
     "data": {
      "text/html": [
       "<table>\n",
       "<thead><tr><th scope=col>fraction</th><th scope=col>lambda</th></tr></thead>\n",
       "<tbody>\n",
       "\t<tr><td>0.05</td><td>0   </td></tr>\n",
       "</tbody>\n",
       "</table>\n"
      ],
      "text/latex": [
       "\\begin{tabular}{r|ll}\n",
       " fraction & lambda\\\\\n",
       "\\hline\n",
       "\t 0.05 & 0   \\\\\n",
       "\\end{tabular}\n"
      ],
      "text/markdown": [
       "\n",
       "fraction | lambda | \n",
       "|---|\n",
       "| 0.05 | 0    | \n",
       "\n",
       "\n"
      ],
      "text/plain": [
       "  fraction lambda\n",
       "1 0.05     0     "
      ]
     },
     "metadata": {},
     "output_type": "display_data"
    }
   ],
   "source": [
    "fit_enet$bestTune"
   ]
  },
  {
   "cell_type": "markdown",
   "metadata": {},
   "source": [
    "6.2. Developing a model to predict permeability (see Sect. 1.4) could save significant resources for a pharmaceutical company, while at the same time more rapidly identifying molecules that have a sufficient permeability to become a drug:\n",
    "- (a) Start R and use these commands to load the data:\n",
    "```r\n",
    "> library(AppliedPredictiveModeling)\n",
    "> data(permeability)\n",
    "```\n",
    "The matrix fingerprints contains the 1,107 binary molecular predictors for the 165 compounds, while permeability contains permeability response.\n",
    "- (b) The fingerprint predictors indicate the presence or absence of substructures of a molecule and are often sparse meaning that relatively few of the molecules contain each substructure. Filter out the predictors that have low frequencies using the nearZeroVar function from the caret package. How many predictors are left for modeling?\n",
    "- (c) Split the data into a training and a test set, pre-process the data, and tune a PLS model. How many latent variables are optimal and what is the corresponding resampled estimate of R2?\n",
    "- (d) Predict the response for the test set. What is the test set estimate of R2?\n",
    "- (e) Try building other models discussed in this chapter. Do any have better predictive performance?\n",
    "- (f) Would you recommend any of your models to replace the permeability laboratory experiment?"
   ]
  },
  {
   "cell_type": "code",
   "execution_count": 12,
   "metadata": {
    "collapsed": false
   },
   "outputs": [],
   "source": [
    "library(AppliedPredictiveModeling)\n",
    "data(permeability)"
   ]
  },
  {
   "cell_type": "code",
   "execution_count": 13,
   "metadata": {
    "collapsed": false
   },
   "outputs": [
    {
     "data": {
      "text/html": [
       "<ol class=list-inline>\n",
       "\t<li>165</li>\n",
       "\t<li>1</li>\n",
       "</ol>\n"
      ],
      "text/latex": [
       "\\begin{enumerate*}\n",
       "\\item 165\n",
       "\\item 1\n",
       "\\end{enumerate*}\n"
      ],
      "text/markdown": [
       "1. 165\n",
       "2. 1\n",
       "\n",
       "\n"
      ],
      "text/plain": [
       "[1] 165   1"
      ]
     },
     "metadata": {},
     "output_type": "display_data"
    },
    {
     "data": {
      "text/html": [
       "<ol class=list-inline>\n",
       "\t<li>165</li>\n",
       "\t<li>1107</li>\n",
       "</ol>\n"
      ],
      "text/latex": [
       "\\begin{enumerate*}\n",
       "\\item 165\n",
       "\\item 1107\n",
       "\\end{enumerate*}\n"
      ],
      "text/markdown": [
       "1. 165\n",
       "2. 1107\n",
       "\n",
       "\n"
      ],
      "text/plain": [
       "[1]  165 1107"
      ]
     },
     "metadata": {},
     "output_type": "display_data"
    },
    {
     "data": {
      "text/html": [
       "FALSE"
      ],
      "text/latex": [
       "FALSE"
      ],
      "text/markdown": [
       "FALSE"
      ],
      "text/plain": [
       "[1] FALSE"
      ]
     },
     "metadata": {},
     "output_type": "display_data"
    },
    {
     "data": {
      "text/html": [
       "FALSE"
      ],
      "text/latex": [
       "FALSE"
      ],
      "text/markdown": [
       "FALSE"
      ],
      "text/plain": [
       "[1] FALSE"
      ]
     },
     "metadata": {},
     "output_type": "display_data"
    }
   ],
   "source": [
    "dim(permeability)\n",
    "dim(fingerprints)\n",
    "any(is.na(permeability))\n",
    "any(is.na(fingerprints))"
   ]
  },
  {
   "cell_type": "code",
   "execution_count": 14,
   "metadata": {
    "collapsed": false
   },
   "outputs": [
    {
     "data": {
      "text/html": [
       "<ol class=list-inline>\n",
       "\t<li>110</li>\n",
       "\t<li>114</li>\n",
       "\t<li>148</li>\n",
       "\t<li>273</li>\n",
       "\t<li>415</li>\n",
       "\t<li>416</li>\n",
       "</ol>\n"
      ],
      "text/latex": [
       "\\begin{enumerate*}\n",
       "\\item 110\n",
       "\\item 114\n",
       "\\item 148\n",
       "\\item 273\n",
       "\\item 415\n",
       "\\item 416\n",
       "\\end{enumerate*}\n"
      ],
      "text/markdown": [
       "1. 110\n",
       "2. 114\n",
       "3. 148\n",
       "4. 273\n",
       "5. 415\n",
       "6. 416\n",
       "\n",
       "\n"
      ],
      "text/plain": [
       "[1] 110 114 148 273 415 416"
      ]
     },
     "metadata": {},
     "output_type": "display_data"
    },
    {
     "data": {
      "text/html": [
       "1.39655878119832"
      ],
      "text/latex": [
       "1.39655878119832"
      ],
      "text/markdown": [
       "1.39655878119832"
      ],
      "text/plain": [
       "[1] 1.396559"
      ]
     },
     "metadata": {},
     "output_type": "display_data"
    }
   ],
   "source": [
    "library(e1071)\n",
    "skew_info <- apply(fingerprints,2,skewness)\n",
    "head(order(skew_info,decreasing = T))\n",
    "skewness(permeability)"
   ]
  },
  {
   "cell_type": "code",
   "execution_count": 16,
   "metadata": {
    "collapsed": false,
    "scrolled": false
   },
   "outputs": [
    {
     "data": {
      "image/png": "[encoded data removed]",
      "text/plain": [
       "plot without title"
      ]
     },
     "metadata": {},
     "output_type": "display_data"
    }
   ],
   "source": [
    "library(lattice)\n",
    "p1 <- histogram(~permeability)\n",
    "p2 <- histogram(~log10(permeability))\n",
    "library(gridExtra)\n",
    "grid.arrange(p1,p2,ncol=2,nrow=2)"
   ]
  },
  {
   "cell_type": "code",
   "execution_count": 18,
   "metadata": {
    "collapsed": false,
    "scrolled": true
   },
   "outputs": [
    {
     "data": {
      "text/html": [
       "<table>\n",
       "<thead><tr><th></th><th scope=col>freqRatio</th><th scope=col>percentUnique</th><th scope=col>zeroVar</th><th scope=col>nzv</th></tr></thead>\n",
       "<tbody>\n",
       "\t<tr><th scope=row>X1</th><td>3.342105</td><td>1.212121</td><td>FALSE   </td><td>FALSE   </td></tr>\n",
       "\t<tr><th scope=row>X2</th><td>3.459459</td><td>1.212121</td><td>FALSE   </td><td>FALSE   </td></tr>\n",
       "\t<tr><th scope=row>X3</th><td>3.714286</td><td>1.212121</td><td>FALSE   </td><td>FALSE   </td></tr>\n",
       "\t<tr><th scope=row>X4</th><td>3.714286</td><td>1.212121</td><td>FALSE   </td><td>FALSE   </td></tr>\n",
       "\t<tr><th scope=row>X5</th><td>3.714286</td><td>1.212121</td><td>FALSE   </td><td>FALSE   </td></tr>\n",
       "\t<tr><th scope=row>X6</th><td>1.229730</td><td>1.212121</td><td>FALSE   </td><td>FALSE   </td></tr>\n",
       "</tbody>\n",
       "</table>\n"
      ],
      "text/latex": [
       "\\begin{tabular}{r|llll}\n",
       "  & freqRatio & percentUnique & zeroVar & nzv\\\\\n",
       "\\hline\n",
       "\tX1 & 3.342105 & 1.212121 & FALSE    & FALSE   \\\\\n",
       "\tX2 & 3.459459 & 1.212121 & FALSE    & FALSE   \\\\\n",
       "\tX3 & 3.714286 & 1.212121 & FALSE    & FALSE   \\\\\n",
       "\tX4 & 3.714286 & 1.212121 & FALSE    & FALSE   \\\\\n",
       "\tX5 & 3.714286 & 1.212121 & FALSE    & FALSE   \\\\\n",
       "\tX6 & 1.229730 & 1.212121 & FALSE    & FALSE   \\\\\n",
       "\\end{tabular}\n"
      ],
      "text/markdown": [
       "\n",
       "| <!--/--> | freqRatio | percentUnique | zeroVar | nzv | \n",
       "|---|---|---|---|---|---|\n",
       "| X1 | 3.342105 | 1.212121 | FALSE    | FALSE    | \n",
       "| X2 | 3.459459 | 1.212121 | FALSE    | FALSE    | \n",
       "| X3 | 3.714286 | 1.212121 | FALSE    | FALSE    | \n",
       "| X4 | 3.714286 | 1.212121 | FALSE    | FALSE    | \n",
       "| X5 | 3.714286 | 1.212121 | FALSE    | FALSE    | \n",
       "| X6 | 1.229730 | 1.212121 | FALSE    | FALSE    | \n",
       "\n",
       "\n"
      ],
      "text/plain": [
       "   freqRatio percentUnique zeroVar nzv  \n",
       "X1 3.342105  1.212121      FALSE   FALSE\n",
       "X2 3.459459  1.212121      FALSE   FALSE\n",
       "X3 3.714286  1.212121      FALSE   FALSE\n",
       "X4 3.714286  1.212121      FALSE   FALSE\n",
       "X5 3.714286  1.212121      FALSE   FALSE\n",
       "X6 1.229730  1.212121      FALSE   FALSE"
      ]
     },
     "metadata": {},
     "output_type": "display_data"
    }
   ],
   "source": [
    "library(caret)\n",
    "nzv_info <- nearZeroVar(fingerprints,saveMetrics = T)\n",
    "head(nzv_info)"
   ]
  },
  {
   "cell_type": "code",
   "execution_count": 22,
   "metadata": {
    "collapsed": true
   },
   "outputs": [],
   "source": [
    "#flt_nzv <- nearZeroVar(fingerprints)\n",
    "#fingerprints_flt_nzv <- fingerprints[,-flt_nzv]\n",
    "fingerprints_flt_nzv <- fingerprints[,!nzv_info$nzv]"
   ]
  },
  {
   "cell_type": "code",
   "execution_count": 25,
   "metadata": {
    "collapsed": true
   },
   "outputs": [],
   "source": [
    "set.seed(614)\n",
    "trn_id <- createDataPartition(permeability,p = 0.75,list = F)\n",
    "trn_X <- fingerprints_flt_nzv[trn_id,]\n",
    "trn_Y <- permeability[trn_id,]\n",
    "\n",
    "vld_X <- fingerprints_flt_nzv[-trn_id,]\n",
    "vld_Y <- permeability[-trn_id,]"
   ]
  },
  {
   "cell_type": "code",
   "execution_count": 33,
   "metadata": {
    "collapsed": true
   },
   "outputs": [],
   "source": [
    "set.seed(614)\n",
    "ctrl <- trainControl(method = \"LGOCV\")\n",
    "fit_pls <- train(x=trn_X,y=log10(trn_Y),method = \"pls\",tuneLength=15\n",
    "                 ,trControl=ctrl,tuneGrid=expand.grid(ncomp=1:15))"
   ]
  },
  {
   "cell_type": "code",
   "execution_count": 34,
   "metadata": {
    "collapsed": false
   },
   "outputs": [
    {
     "data": {
      "text/html": [
       "<table>\n",
       "<thead><tr><th scope=col>ncomp</th><th scope=col>RMSE</th><th scope=col>Rsquared</th><th scope=col>MAE</th><th scope=col>RMSESD</th><th scope=col>RsquaredSD</th><th scope=col>MAESD</th></tr></thead>\n",
       "<tbody>\n",
       "\t<tr><td>1         </td><td>0.5660188 </td><td>0.2381787 </td><td>0.4699709 </td><td>0.04800870</td><td>0.11800416</td><td>0.04579551</td></tr>\n",
       "\t<tr><td>2         </td><td>0.4978015 </td><td>0.4146838 </td><td>0.3915562 </td><td>0.05065024</td><td>0.12182698</td><td>0.04606211</td></tr>\n",
       "\t<tr><td>3         </td><td>0.4887220 </td><td>0.4395668 </td><td>0.3859108 </td><td>0.05136132</td><td>0.11518753</td><td>0.03837719</td></tr>\n",
       "\t<tr><td>4         </td><td>0.4857285 </td><td>0.4608621 </td><td>0.3885393 </td><td>0.04530099</td><td>0.08389853</td><td>0.03839131</td></tr>\n",
       "\t<tr><td>5         </td><td>0.4719407 </td><td>0.4950087 </td><td>0.3755892 </td><td>0.04305396</td><td>0.07284551</td><td>0.03286986</td></tr>\n",
       "\t<tr><td>6         </td><td>0.4570306 </td><td>0.5288720 </td><td>0.3574614 </td><td>0.04868858</td><td>0.08717546</td><td>0.03519495</td></tr>\n",
       "</tbody>\n",
       "</table>\n"
      ],
      "text/latex": [
       "\\begin{tabular}{r|lllllll}\n",
       " ncomp & RMSE & Rsquared & MAE & RMSESD & RsquaredSD & MAESD\\\\\n",
       "\\hline\n",
       "\t 1          & 0.5660188  & 0.2381787  & 0.4699709  & 0.04800870 & 0.11800416 & 0.04579551\\\\\n",
       "\t 2          & 0.4978015  & 0.4146838  & 0.3915562  & 0.05065024 & 0.12182698 & 0.04606211\\\\\n",
       "\t 3          & 0.4887220  & 0.4395668  & 0.3859108  & 0.05136132 & 0.11518753 & 0.03837719\\\\\n",
       "\t 4          & 0.4857285  & 0.4608621  & 0.3885393  & 0.04530099 & 0.08389853 & 0.03839131\\\\\n",
       "\t 5          & 0.4719407  & 0.4950087  & 0.3755892  & 0.04305396 & 0.07284551 & 0.03286986\\\\\n",
       "\t 6          & 0.4570306  & 0.5288720  & 0.3574614  & 0.04868858 & 0.08717546 & 0.03519495\\\\\n",
       "\\end{tabular}\n"
      ],
      "text/markdown": [
       "\n",
       "ncomp | RMSE | Rsquared | MAE | RMSESD | RsquaredSD | MAESD | \n",
       "|---|---|---|---|---|---|\n",
       "| 1          | 0.5660188  | 0.2381787  | 0.4699709  | 0.04800870 | 0.11800416 | 0.04579551 | \n",
       "| 2          | 0.4978015  | 0.4146838  | 0.3915562  | 0.05065024 | 0.12182698 | 0.04606211 | \n",
       "| 3          | 0.4887220  | 0.4395668  | 0.3859108  | 0.05136132 | 0.11518753 | 0.03837719 | \n",
       "| 4          | 0.4857285  | 0.4608621  | 0.3885393  | 0.04530099 | 0.08389853 | 0.03839131 | \n",
       "| 5          | 0.4719407  | 0.4950087  | 0.3755892  | 0.04305396 | 0.07284551 | 0.03286986 | \n",
       "| 6          | 0.4570306  | 0.5288720  | 0.3574614  | 0.04868858 | 0.08717546 | 0.03519495 | \n",
       "\n",
       "\n"
      ],
      "text/plain": [
       "  ncomp RMSE      Rsquared  MAE       RMSESD     RsquaredSD MAESD     \n",
       "1 1     0.5660188 0.2381787 0.4699709 0.04800870 0.11800416 0.04579551\n",
       "2 2     0.4978015 0.4146838 0.3915562 0.05065024 0.12182698 0.04606211\n",
       "3 3     0.4887220 0.4395668 0.3859108 0.05136132 0.11518753 0.03837719\n",
       "4 4     0.4857285 0.4608621 0.3885393 0.04530099 0.08389853 0.03839131\n",
       "5 5     0.4719407 0.4950087 0.3755892 0.04305396 0.07284551 0.03286986\n",
       "6 6     0.4570306 0.5288720 0.3574614 0.04868858 0.08717546 0.03519495"
      ]
     },
     "metadata": {},
     "output_type": "display_data"
    },
    {
     "data": {},
     "metadata": {},
     "output_type": "display_data"
    },
    {
     "data": {
      "image/png": "[encoded data removed]",
      "text/plain": [
       "plot without title"
      ]
     },
     "metadata": {},
     "output_type": "display_data"
    }
   ],
   "source": [
    "#fit_pls$bestTune\n",
    "head(fit_pls$results)\n",
    "library(lattice)\n",
    "xyplot(Rsquared~ncomp,type=c(\"p\",\"g\",\"o\"),data=fit_pls$results)"
   ]
  }
 ],
 "metadata": {
  "anaconda-cloud": {},
  "kernelspec": {
   "display_name": "R",
   "language": "R",
   "name": "ir"
  },
  "language_info": {
   "codemirror_mode": "r",
   "file_extension": ".r",
   "mimetype": "text/x-r-source",
   "name": "R",
   "pygments_lexer": "r",
   "version": "3.5.0"
  },
  "toc": {
   "base_numbering": 1,
   "nav_menu": {},
   "number_sections": true,
   "sideBar": true,
   "skip_h1_title": false,
   "title_cell": "Table of Contents",
   "title_sidebar": "Contents",
   "toc_cell": false,
   "toc_position": {},
   "toc_section_display": true,
   "toc_window_display": false
  }
 },
 "nbformat": 4,
 "nbformat_minor": 1
}
