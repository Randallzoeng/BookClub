{
 "cells": [
  {
   "cell_type": "markdown",
   "metadata": {},
   "source": [
    "# Computing"
   ]
  },
  {
   "cell_type": "code",
   "execution_count": 1,
   "metadata": {
    "collapsed": false,
    "scrolled": true
   },
   "outputs": [
    {
     "name": "stderr",
     "output_type": "stream",
     "text": [
      "Warning message:\n",
      "\"package 'AppliedPredictiveModeling' was built under R version 3.5.1\""
     ]
    },
    {
     "data": {
      "text/html": [
       "<ol class=list-inline>\n",
       "\t<li>'solTestX'</li>\n",
       "\t<li>'solTestXtrans'</li>\n",
       "\t<li>'solTestY'</li>\n",
       "\t<li>'solTrainX'</li>\n",
       "\t<li>'solTrainXtrans'</li>\n",
       "\t<li>'solTrainY'</li>\n",
       "</ol>\n"
      ],
      "text/latex": [
       "\\begin{enumerate*}\n",
       "\\item 'solTestX'\n",
       "\\item 'solTestXtrans'\n",
       "\\item 'solTestY'\n",
       "\\item 'solTrainX'\n",
       "\\item 'solTrainXtrans'\n",
       "\\item 'solTrainY'\n",
       "\\end{enumerate*}\n"
      ],
      "text/markdown": [
       "1. 'solTestX'\n",
       "2. 'solTestXtrans'\n",
       "3. 'solTestY'\n",
       "4. 'solTrainX'\n",
       "5. 'solTrainXtrans'\n",
       "6. 'solTrainY'\n",
       "\n",
       "\n"
      ],
      "text/plain": [
       "[1] \"solTestX\"       \"solTestXtrans\"  \"solTestY\"       \"solTrainX\"     \n",
       "[5] \"solTrainXtrans\" \"solTrainY\"     "
      ]
     },
     "metadata": {},
     "output_type": "display_data"
    }
   ],
   "source": [
    "library(AppliedPredictiveModeling)\n",
    "data(solubility)\n",
    "ls(pattern=\"^solT\") #list object"
   ]
  },
  {
   "cell_type": "code",
   "execution_count": 4,
   "metadata": {
    "collapsed": false,
    "scrolled": true
   },
   "outputs": [
    {
     "data": {
      "text/html": [
       "<ol class=list-inline>\n",
       "\t<li>'FP043'</li>\n",
       "\t<li>'FP160'</li>\n",
       "\t<li>'FP130'</li>\n",
       "\t<li>'FP038'</li>\n",
       "\t<li>'NumBonds'</li>\n",
       "\t<li>'NumNonHAtoms'</li>\n",
       "\t<li>'FP029'</li>\n",
       "\t<li>'FP185'</li>\n",
       "</ol>\n"
      ],
      "text/latex": [
       "\\begin{enumerate*}\n",
       "\\item 'FP043'\n",
       "\\item 'FP160'\n",
       "\\item 'FP130'\n",
       "\\item 'FP038'\n",
       "\\item 'NumBonds'\n",
       "\\item 'NumNonHAtoms'\n",
       "\\item 'FP029'\n",
       "\\item 'FP185'\n",
       "\\end{enumerate*}\n"
      ],
      "text/markdown": [
       "1. 'FP043'\n",
       "2. 'FP160'\n",
       "3. 'FP130'\n",
       "4. 'FP038'\n",
       "5. 'NumBonds'\n",
       "6. 'NumNonHAtoms'\n",
       "7. 'FP029'\n",
       "8. 'FP185'\n",
       "\n",
       "\n"
      ],
      "text/plain": [
       "[1] \"FP043\"        \"FP160\"        \"FP130\"        \"FP038\"        \"NumBonds\"    \n",
       "[6] \"NumNonHAtoms\" \"FP029\"        \"FP185\"       "
      ]
     },
     "metadata": {},
     "output_type": "display_data"
    },
    {
     "data": {
      "text/html": [
       "<ol class=list-inline>\n",
       "\t<li>'FP001'</li>\n",
       "\t<li>'FP002'</li>\n",
       "\t<li>'FP003'</li>\n",
       "\t<li>'FP004'</li>\n",
       "\t<li>'FP005'</li>\n",
       "\t<li>'FP006'</li>\n",
       "\t<li>'FP007'</li>\n",
       "\t<li>'FP008'</li>\n",
       "\t<li>'FP009'</li>\n",
       "\t<li>'FP010'</li>\n",
       "\t<li>'FP011'</li>\n",
       "\t<li>'FP012'</li>\n",
       "\t<li>'FP013'</li>\n",
       "\t<li>'FP014'</li>\n",
       "\t<li>'FP015'</li>\n",
       "\t<li>'FP016'</li>\n",
       "\t<li>'FP017'</li>\n",
       "\t<li>'FP018'</li>\n",
       "\t<li>'FP019'</li>\n",
       "\t<li>'FP020'</li>\n",
       "\t<li>'FP021'</li>\n",
       "\t<li>'FP022'</li>\n",
       "\t<li>'FP023'</li>\n",
       "\t<li>'FP024'</li>\n",
       "\t<li>'FP025'</li>\n",
       "\t<li>'FP026'</li>\n",
       "\t<li>'FP027'</li>\n",
       "\t<li>'FP028'</li>\n",
       "\t<li>'FP029'</li>\n",
       "\t<li>'FP030'</li>\n",
       "\t<li>'FP031'</li>\n",
       "\t<li>'FP032'</li>\n",
       "\t<li>'FP033'</li>\n",
       "\t<li>'FP034'</li>\n",
       "\t<li>'FP035'</li>\n",
       "\t<li>'FP036'</li>\n",
       "\t<li>'FP037'</li>\n",
       "\t<li>'FP038'</li>\n",
       "\t<li>'FP039'</li>\n",
       "\t<li>'FP040'</li>\n",
       "\t<li>'FP041'</li>\n",
       "\t<li>'FP042'</li>\n",
       "\t<li>'FP043'</li>\n",
       "\t<li>'FP044'</li>\n",
       "\t<li>'FP045'</li>\n",
       "\t<li>'FP046'</li>\n",
       "\t<li>'FP047'</li>\n",
       "\t<li>'FP048'</li>\n",
       "\t<li>'FP049'</li>\n",
       "\t<li>'FP050'</li>\n",
       "\t<li>'FP051'</li>\n",
       "\t<li>'FP052'</li>\n",
       "\t<li>'FP053'</li>\n",
       "\t<li>'FP054'</li>\n",
       "\t<li>'FP055'</li>\n",
       "\t<li>'FP056'</li>\n",
       "\t<li>'FP057'</li>\n",
       "\t<li>'FP058'</li>\n",
       "\t<li>'FP059'</li>\n",
       "\t<li>'FP060'</li>\n",
       "\t<li>'FP061'</li>\n",
       "\t<li>'FP062'</li>\n",
       "\t<li>'FP063'</li>\n",
       "\t<li>'FP064'</li>\n",
       "\t<li>'FP065'</li>\n",
       "\t<li>'FP066'</li>\n",
       "\t<li>'FP067'</li>\n",
       "\t<li>'FP068'</li>\n",
       "\t<li>'FP069'</li>\n",
       "\t<li>'FP070'</li>\n",
       "\t<li>'FP071'</li>\n",
       "\t<li>'FP072'</li>\n",
       "\t<li>'FP073'</li>\n",
       "\t<li>'FP074'</li>\n",
       "\t<li>'FP075'</li>\n",
       "\t<li>'FP076'</li>\n",
       "\t<li>'FP077'</li>\n",
       "\t<li>'FP078'</li>\n",
       "\t<li>'FP079'</li>\n",
       "\t<li>'FP080'</li>\n",
       "\t<li>'FP081'</li>\n",
       "\t<li>'FP082'</li>\n",
       "\t<li>'FP083'</li>\n",
       "\t<li>'FP084'</li>\n",
       "\t<li>'FP085'</li>\n",
       "\t<li>'FP086'</li>\n",
       "\t<li>'FP087'</li>\n",
       "\t<li>'FP088'</li>\n",
       "\t<li>'FP089'</li>\n",
       "\t<li>'FP090'</li>\n",
       "\t<li>'FP091'</li>\n",
       "\t<li>'FP092'</li>\n",
       "\t<li>'FP093'</li>\n",
       "\t<li>'FP094'</li>\n",
       "\t<li>'FP095'</li>\n",
       "\t<li>'FP096'</li>\n",
       "\t<li>'FP097'</li>\n",
       "\t<li>'FP098'</li>\n",
       "\t<li>'FP099'</li>\n",
       "\t<li>'FP100'</li>\n",
       "\t<li>'FP101'</li>\n",
       "\t<li>'FP102'</li>\n",
       "\t<li>'FP103'</li>\n",
       "\t<li>'FP104'</li>\n",
       "\t<li>'FP105'</li>\n",
       "\t<li>'FP106'</li>\n",
       "\t<li>'FP107'</li>\n",
       "\t<li>'FP108'</li>\n",
       "\t<li>'FP109'</li>\n",
       "\t<li>'FP110'</li>\n",
       "\t<li>'FP111'</li>\n",
       "\t<li>'FP112'</li>\n",
       "\t<li>'FP113'</li>\n",
       "\t<li>'FP114'</li>\n",
       "\t<li>'FP115'</li>\n",
       "\t<li>'FP116'</li>\n",
       "\t<li>'FP117'</li>\n",
       "\t<li>'FP118'</li>\n",
       "\t<li>'FP119'</li>\n",
       "\t<li>'FP120'</li>\n",
       "\t<li>'FP121'</li>\n",
       "\t<li>'FP122'</li>\n",
       "\t<li>'FP123'</li>\n",
       "\t<li>'FP124'</li>\n",
       "\t<li>'FP125'</li>\n",
       "\t<li>'FP126'</li>\n",
       "\t<li>'FP127'</li>\n",
       "\t<li>'FP128'</li>\n",
       "\t<li>'FP129'</li>\n",
       "\t<li>'FP130'</li>\n",
       "\t<li>'FP131'</li>\n",
       "\t<li>'FP132'</li>\n",
       "\t<li>'FP133'</li>\n",
       "\t<li>'FP134'</li>\n",
       "\t<li>'FP135'</li>\n",
       "\t<li>'FP136'</li>\n",
       "\t<li>'FP137'</li>\n",
       "\t<li>'FP138'</li>\n",
       "\t<li>'FP139'</li>\n",
       "\t<li>'FP140'</li>\n",
       "\t<li>'FP141'</li>\n",
       "\t<li>'FP142'</li>\n",
       "\t<li>'FP143'</li>\n",
       "\t<li>'FP144'</li>\n",
       "\t<li>'FP145'</li>\n",
       "\t<li>'FP146'</li>\n",
       "\t<li>'FP147'</li>\n",
       "\t<li>'FP148'</li>\n",
       "\t<li>'FP149'</li>\n",
       "\t<li>'FP150'</li>\n",
       "\t<li>'FP151'</li>\n",
       "\t<li>'FP152'</li>\n",
       "\t<li>'FP153'</li>\n",
       "\t<li>'FP154'</li>\n",
       "\t<li>'FP155'</li>\n",
       "\t<li>'FP156'</li>\n",
       "\t<li>'FP157'</li>\n",
       "\t<li>'FP158'</li>\n",
       "\t<li>'FP159'</li>\n",
       "\t<li>'FP160'</li>\n",
       "\t<li>'FP161'</li>\n",
       "\t<li>'FP162'</li>\n",
       "\t<li>'FP163'</li>\n",
       "\t<li>'FP164'</li>\n",
       "\t<li>'FP165'</li>\n",
       "\t<li>'FP166'</li>\n",
       "\t<li>'FP167'</li>\n",
       "\t<li>'FP168'</li>\n",
       "\t<li>'FP169'</li>\n",
       "\t<li>'FP170'</li>\n",
       "\t<li>'FP171'</li>\n",
       "\t<li>'FP172'</li>\n",
       "\t<li>'FP173'</li>\n",
       "\t<li>'FP174'</li>\n",
       "\t<li>'FP175'</li>\n",
       "\t<li>'FP176'</li>\n",
       "\t<li>'FP177'</li>\n",
       "\t<li>'FP178'</li>\n",
       "\t<li>'FP179'</li>\n",
       "\t<li>'FP180'</li>\n",
       "\t<li>'FP181'</li>\n",
       "\t<li>'FP182'</li>\n",
       "\t<li>'FP183'</li>\n",
       "\t<li>'FP184'</li>\n",
       "\t<li>'FP185'</li>\n",
       "\t<li>'FP186'</li>\n",
       "\t<li>'FP187'</li>\n",
       "\t<li>'FP188'</li>\n",
       "\t<li>'FP189'</li>\n",
       "\t<li>'FP190'</li>\n",
       "\t<li>'FP191'</li>\n",
       "\t<li>'FP192'</li>\n",
       "\t<li>'FP193'</li>\n",
       "\t<li>'FP194'</li>\n",
       "\t<li>'FP195'</li>\n",
       "\t<li>'FP196'</li>\n",
       "\t<li>'FP197'</li>\n",
       "\t<li>'FP198'</li>\n",
       "\t<li>'FP199'</li>\n",
       "\t<li>'FP200'</li>\n",
       "\t<li>'FP201'</li>\n",
       "\t<li>'FP202'</li>\n",
       "\t<li>'FP203'</li>\n",
       "\t<li>'FP204'</li>\n",
       "\t<li>'FP205'</li>\n",
       "\t<li>'FP206'</li>\n",
       "\t<li>'FP207'</li>\n",
       "\t<li>'FP208'</li>\n",
       "\t<li>'MolWeight'</li>\n",
       "\t<li>'NumAtoms'</li>\n",
       "\t<li>'NumNonHAtoms'</li>\n",
       "\t<li>'NumBonds'</li>\n",
       "\t<li>'NumNonHBonds'</li>\n",
       "\t<li>'NumMultBonds'</li>\n",
       "\t<li>'NumRotBonds'</li>\n",
       "\t<li>'NumDblBonds'</li>\n",
       "\t<li>'NumAromaticBonds'</li>\n",
       "\t<li>'NumHydrogen'</li>\n",
       "\t<li>'NumCarbon'</li>\n",
       "\t<li>'NumNitrogen'</li>\n",
       "\t<li>'NumOxygen'</li>\n",
       "\t<li>'NumSulfer'</li>\n",
       "\t<li>'NumChlorine'</li>\n",
       "\t<li>'NumHalogen'</li>\n",
       "\t<li>'NumRings'</li>\n",
       "\t<li>'HydrophilicFactor'</li>\n",
       "\t<li>'SurfaceArea1'</li>\n",
       "\t<li>'SurfaceArea2'</li>\n",
       "</ol>\n"
      ],
      "text/latex": [
       "\\begin{enumerate*}\n",
       "\\item 'FP001'\n",
       "\\item 'FP002'\n",
       "\\item 'FP003'\n",
       "\\item 'FP004'\n",
       "\\item 'FP005'\n",
       "\\item 'FP006'\n",
       "\\item 'FP007'\n",
       "\\item 'FP008'\n",
       "\\item 'FP009'\n",
       "\\item 'FP010'\n",
       "\\item 'FP011'\n",
       "\\item 'FP012'\n",
       "\\item 'FP013'\n",
       "\\item 'FP014'\n",
       "\\item 'FP015'\n",
       "\\item 'FP016'\n",
       "\\item 'FP017'\n",
       "\\item 'FP018'\n",
       "\\item 'FP019'\n",
       "\\item 'FP020'\n",
       "\\item 'FP021'\n",
       "\\item 'FP022'\n",
       "\\item 'FP023'\n",
       "\\item 'FP024'\n",
       "\\item 'FP025'\n",
       "\\item 'FP026'\n",
       "\\item 'FP027'\n",
       "\\item 'FP028'\n",
       "\\item 'FP029'\n",
       "\\item 'FP030'\n",
       "\\item 'FP031'\n",
       "\\item 'FP032'\n",
       "\\item 'FP033'\n",
       "\\item 'FP034'\n",
       "\\item 'FP035'\n",
       "\\item 'FP036'\n",
       "\\item 'FP037'\n",
       "\\item 'FP038'\n",
       "\\item 'FP039'\n",
       "\\item 'FP040'\n",
       "\\item 'FP041'\n",
       "\\item 'FP042'\n",
       "\\item 'FP043'\n",
       "\\item 'FP044'\n",
       "\\item 'FP045'\n",
       "\\item 'FP046'\n",
       "\\item 'FP047'\n",
       "\\item 'FP048'\n",
       "\\item 'FP049'\n",
       "\\item 'FP050'\n",
       "\\item 'FP051'\n",
       "\\item 'FP052'\n",
       "\\item 'FP053'\n",
       "\\item 'FP054'\n",
       "\\item 'FP055'\n",
       "\\item 'FP056'\n",
       "\\item 'FP057'\n",
       "\\item 'FP058'\n",
       "\\item 'FP059'\n",
       "\\item 'FP060'\n",
       "\\item 'FP061'\n",
       "\\item 'FP062'\n",
       "\\item 'FP063'\n",
       "\\item 'FP064'\n",
       "\\item 'FP065'\n",
       "\\item 'FP066'\n",
       "\\item 'FP067'\n",
       "\\item 'FP068'\n",
       "\\item 'FP069'\n",
       "\\item 'FP070'\n",
       "\\item 'FP071'\n",
       "\\item 'FP072'\n",
       "\\item 'FP073'\n",
       "\\item 'FP074'\n",
       "\\item 'FP075'\n",
       "\\item 'FP076'\n",
       "\\item 'FP077'\n",
       "\\item 'FP078'\n",
       "\\item 'FP079'\n",
       "\\item 'FP080'\n",
       "\\item 'FP081'\n",
       "\\item 'FP082'\n",
       "\\item 'FP083'\n",
       "\\item 'FP084'\n",
       "\\item 'FP085'\n",
       "\\item 'FP086'\n",
       "\\item 'FP087'\n",
       "\\item 'FP088'\n",
       "\\item 'FP089'\n",
       "\\item 'FP090'\n",
       "\\item 'FP091'\n",
       "\\item 'FP092'\n",
       "\\item 'FP093'\n",
       "\\item 'FP094'\n",
       "\\item 'FP095'\n",
       "\\item 'FP096'\n",
       "\\item 'FP097'\n",
       "\\item 'FP098'\n",
       "\\item 'FP099'\n",
       "\\item 'FP100'\n",
       "\\item 'FP101'\n",
       "\\item 'FP102'\n",
       "\\item 'FP103'\n",
       "\\item 'FP104'\n",
       "\\item 'FP105'\n",
       "\\item 'FP106'\n",
       "\\item 'FP107'\n",
       "\\item 'FP108'\n",
       "\\item 'FP109'\n",
       "\\item 'FP110'\n",
       "\\item 'FP111'\n",
       "\\item 'FP112'\n",
       "\\item 'FP113'\n",
       "\\item 'FP114'\n",
       "\\item 'FP115'\n",
       "\\item 'FP116'\n",
       "\\item 'FP117'\n",
       "\\item 'FP118'\n",
       "\\item 'FP119'\n",
       "\\item 'FP120'\n",
       "\\item 'FP121'\n",
       "\\item 'FP122'\n",
       "\\item 'FP123'\n",
       "\\item 'FP124'\n",
       "\\item 'FP125'\n",
       "\\item 'FP126'\n",
       "\\item 'FP127'\n",
       "\\item 'FP128'\n",
       "\\item 'FP129'\n",
       "\\item 'FP130'\n",
       "\\item 'FP131'\n",
       "\\item 'FP132'\n",
       "\\item 'FP133'\n",
       "\\item 'FP134'\n",
       "\\item 'FP135'\n",
       "\\item 'FP136'\n",
       "\\item 'FP137'\n",
       "\\item 'FP138'\n",
       "\\item 'FP139'\n",
       "\\item 'FP140'\n",
       "\\item 'FP141'\n",
       "\\item 'FP142'\n",
       "\\item 'FP143'\n",
       "\\item 'FP144'\n",
       "\\item 'FP145'\n",
       "\\item 'FP146'\n",
       "\\item 'FP147'\n",
       "\\item 'FP148'\n",
       "\\item 'FP149'\n",
       "\\item 'FP150'\n",
       "\\item 'FP151'\n",
       "\\item 'FP152'\n",
       "\\item 'FP153'\n",
       "\\item 'FP154'\n",
       "\\item 'FP155'\n",
       "\\item 'FP156'\n",
       "\\item 'FP157'\n",
       "\\item 'FP158'\n",
       "\\item 'FP159'\n",
       "\\item 'FP160'\n",
       "\\item 'FP161'\n",
       "\\item 'FP162'\n",
       "\\item 'FP163'\n",
       "\\item 'FP164'\n",
       "\\item 'FP165'\n",
       "\\item 'FP166'\n",
       "\\item 'FP167'\n",
       "\\item 'FP168'\n",
       "\\item 'FP169'\n",
       "\\item 'FP170'\n",
       "\\item 'FP171'\n",
       "\\item 'FP172'\n",
       "\\item 'FP173'\n",
       "\\item 'FP174'\n",
       "\\item 'FP175'\n",
       "\\item 'FP176'\n",
       "\\item 'FP177'\n",
       "\\item 'FP178'\n",
       "\\item 'FP179'\n",
       "\\item 'FP180'\n",
       "\\item 'FP181'\n",
       "\\item 'FP182'\n",
       "\\item 'FP183'\n",
       "\\item 'FP184'\n",
       "\\item 'FP185'\n",
       "\\item 'FP186'\n",
       "\\item 'FP187'\n",
       "\\item 'FP188'\n",
       "\\item 'FP189'\n",
       "\\item 'FP190'\n",
       "\\item 'FP191'\n",
       "\\item 'FP192'\n",
       "\\item 'FP193'\n",
       "\\item 'FP194'\n",
       "\\item 'FP195'\n",
       "\\item 'FP196'\n",
       "\\item 'FP197'\n",
       "\\item 'FP198'\n",
       "\\item 'FP199'\n",
       "\\item 'FP200'\n",
       "\\item 'FP201'\n",
       "\\item 'FP202'\n",
       "\\item 'FP203'\n",
       "\\item 'FP204'\n",
       "\\item 'FP205'\n",
       "\\item 'FP206'\n",
       "\\item 'FP207'\n",
       "\\item 'FP208'\n",
       "\\item 'MolWeight'\n",
       "\\item 'NumAtoms'\n",
       "\\item 'NumNonHAtoms'\n",
       "\\item 'NumBonds'\n",
       "\\item 'NumNonHBonds'\n",
       "\\item 'NumMultBonds'\n",
       "\\item 'NumRotBonds'\n",
       "\\item 'NumDblBonds'\n",
       "\\item 'NumAromaticBonds'\n",
       "\\item 'NumHydrogen'\n",
       "\\item 'NumCarbon'\n",
       "\\item 'NumNitrogen'\n",
       "\\item 'NumOxygen'\n",
       "\\item 'NumSulfer'\n",
       "\\item 'NumChlorine'\n",
       "\\item 'NumHalogen'\n",
       "\\item 'NumRings'\n",
       "\\item 'HydrophilicFactor'\n",
       "\\item 'SurfaceArea1'\n",
       "\\item 'SurfaceArea2'\n",
       "\\end{enumerate*}\n"
      ],
      "text/markdown": [
       "1. 'FP001'\n",
       "2. 'FP002'\n",
       "3. 'FP003'\n",
       "4. 'FP004'\n",
       "5. 'FP005'\n",
       "6. 'FP006'\n",
       "7. 'FP007'\n",
       "8. 'FP008'\n",
       "9. 'FP009'\n",
       "10. 'FP010'\n",
       "11. 'FP011'\n",
       "12. 'FP012'\n",
       "13. 'FP013'\n",
       "14. 'FP014'\n",
       "15. 'FP015'\n",
       "16. 'FP016'\n",
       "17. 'FP017'\n",
       "18. 'FP018'\n",
       "19. 'FP019'\n",
       "20. 'FP020'\n",
       "21. 'FP021'\n",
       "22. 'FP022'\n",
       "23. 'FP023'\n",
       "24. 'FP024'\n",
       "25. 'FP025'\n",
       "26. 'FP026'\n",
       "27. 'FP027'\n",
       "28. 'FP028'\n",
       "29. 'FP029'\n",
       "30. 'FP030'\n",
       "31. 'FP031'\n",
       "32. 'FP032'\n",
       "33. 'FP033'\n",
       "34. 'FP034'\n",
       "35. 'FP035'\n",
       "36. 'FP036'\n",
       "37. 'FP037'\n",
       "38. 'FP038'\n",
       "39. 'FP039'\n",
       "40. 'FP040'\n",
       "41. 'FP041'\n",
       "42. 'FP042'\n",
       "43. 'FP043'\n",
       "44. 'FP044'\n",
       "45. 'FP045'\n",
       "46. 'FP046'\n",
       "47. 'FP047'\n",
       "48. 'FP048'\n",
       "49. 'FP049'\n",
       "50. 'FP050'\n",
       "51. 'FP051'\n",
       "52. 'FP052'\n",
       "53. 'FP053'\n",
       "54. 'FP054'\n",
       "55. 'FP055'\n",
       "56. 'FP056'\n",
       "57. 'FP057'\n",
       "58. 'FP058'\n",
       "59. 'FP059'\n",
       "60. 'FP060'\n",
       "61. 'FP061'\n",
       "62. 'FP062'\n",
       "63. 'FP063'\n",
       "64. 'FP064'\n",
       "65. 'FP065'\n",
       "66. 'FP066'\n",
       "67. 'FP067'\n",
       "68. 'FP068'\n",
       "69. 'FP069'\n",
       "70. 'FP070'\n",
       "71. 'FP071'\n",
       "72. 'FP072'\n",
       "73. 'FP073'\n",
       "74. 'FP074'\n",
       "75. 'FP075'\n",
       "76. 'FP076'\n",
       "77. 'FP077'\n",
       "78. 'FP078'\n",
       "79. 'FP079'\n",
       "80. 'FP080'\n",
       "81. 'FP081'\n",
       "82. 'FP082'\n",
       "83. 'FP083'\n",
       "84. 'FP084'\n",
       "85. 'FP085'\n",
       "86. 'FP086'\n",
       "87. 'FP087'\n",
       "88. 'FP088'\n",
       "89. 'FP089'\n",
       "90. 'FP090'\n",
       "91. 'FP091'\n",
       "92. 'FP092'\n",
       "93. 'FP093'\n",
       "94. 'FP094'\n",
       "95. 'FP095'\n",
       "96. 'FP096'\n",
       "97. 'FP097'\n",
       "98. 'FP098'\n",
       "99. 'FP099'\n",
       "100. 'FP100'\n",
       "101. 'FP101'\n",
       "102. 'FP102'\n",
       "103. 'FP103'\n",
       "104. 'FP104'\n",
       "105. 'FP105'\n",
       "106. 'FP106'\n",
       "107. 'FP107'\n",
       "108. 'FP108'\n",
       "109. 'FP109'\n",
       "110. 'FP110'\n",
       "111. 'FP111'\n",
       "112. 'FP112'\n",
       "113. 'FP113'\n",
       "114. 'FP114'\n",
       "115. 'FP115'\n",
       "116. 'FP116'\n",
       "117. 'FP117'\n",
       "118. 'FP118'\n",
       "119. 'FP119'\n",
       "120. 'FP120'\n",
       "121. 'FP121'\n",
       "122. 'FP122'\n",
       "123. 'FP123'\n",
       "124. 'FP124'\n",
       "125. 'FP125'\n",
       "126. 'FP126'\n",
       "127. 'FP127'\n",
       "128. 'FP128'\n",
       "129. 'FP129'\n",
       "130. 'FP130'\n",
       "131. 'FP131'\n",
       "132. 'FP132'\n",
       "133. 'FP133'\n",
       "134. 'FP134'\n",
       "135. 'FP135'\n",
       "136. 'FP136'\n",
       "137. 'FP137'\n",
       "138. 'FP138'\n",
       "139. 'FP139'\n",
       "140. 'FP140'\n",
       "141. 'FP141'\n",
       "142. 'FP142'\n",
       "143. 'FP143'\n",
       "144. 'FP144'\n",
       "145. 'FP145'\n",
       "146. 'FP146'\n",
       "147. 'FP147'\n",
       "148. 'FP148'\n",
       "149. 'FP149'\n",
       "150. 'FP150'\n",
       "151. 'FP151'\n",
       "152. 'FP152'\n",
       "153. 'FP153'\n",
       "154. 'FP154'\n",
       "155. 'FP155'\n",
       "156. 'FP156'\n",
       "157. 'FP157'\n",
       "158. 'FP158'\n",
       "159. 'FP159'\n",
       "160. 'FP160'\n",
       "161. 'FP161'\n",
       "162. 'FP162'\n",
       "163. 'FP163'\n",
       "164. 'FP164'\n",
       "165. 'FP165'\n",
       "166. 'FP166'\n",
       "167. 'FP167'\n",
       "168. 'FP168'\n",
       "169. 'FP169'\n",
       "170. 'FP170'\n",
       "171. 'FP171'\n",
       "172. 'FP172'\n",
       "173. 'FP173'\n",
       "174. 'FP174'\n",
       "175. 'FP175'\n",
       "176. 'FP176'\n",
       "177. 'FP177'\n",
       "178. 'FP178'\n",
       "179. 'FP179'\n",
       "180. 'FP180'\n",
       "181. 'FP181'\n",
       "182. 'FP182'\n",
       "183. 'FP183'\n",
       "184. 'FP184'\n",
       "185. 'FP185'\n",
       "186. 'FP186'\n",
       "187. 'FP187'\n",
       "188. 'FP188'\n",
       "189. 'FP189'\n",
       "190. 'FP190'\n",
       "191. 'FP191'\n",
       "192. 'FP192'\n",
       "193. 'FP193'\n",
       "194. 'FP194'\n",
       "195. 'FP195'\n",
       "196. 'FP196'\n",
       "197. 'FP197'\n",
       "198. 'FP198'\n",
       "199. 'FP199'\n",
       "200. 'FP200'\n",
       "201. 'FP201'\n",
       "202. 'FP202'\n",
       "203. 'FP203'\n",
       "204. 'FP204'\n",
       "205. 'FP205'\n",
       "206. 'FP206'\n",
       "207. 'FP207'\n",
       "208. 'FP208'\n",
       "209. 'MolWeight'\n",
       "210. 'NumAtoms'\n",
       "211. 'NumNonHAtoms'\n",
       "212. 'NumBonds'\n",
       "213. 'NumNonHBonds'\n",
       "214. 'NumMultBonds'\n",
       "215. 'NumRotBonds'\n",
       "216. 'NumDblBonds'\n",
       "217. 'NumAromaticBonds'\n",
       "218. 'NumHydrogen'\n",
       "219. 'NumCarbon'\n",
       "220. 'NumNitrogen'\n",
       "221. 'NumOxygen'\n",
       "222. 'NumSulfer'\n",
       "223. 'NumChlorine'\n",
       "224. 'NumHalogen'\n",
       "225. 'NumRings'\n",
       "226. 'HydrophilicFactor'\n",
       "227. 'SurfaceArea1'\n",
       "228. 'SurfaceArea2'\n",
       "\n",
       "\n"
      ],
      "text/plain": [
       "  [1] \"FP001\"             \"FP002\"             \"FP003\"            \n",
       "  [4] \"FP004\"             \"FP005\"             \"FP006\"            \n",
       "  [7] \"FP007\"             \"FP008\"             \"FP009\"            \n",
       " [10] \"FP010\"             \"FP011\"             \"FP012\"            \n",
       " [13] \"FP013\"             \"FP014\"             \"FP015\"            \n",
       " [16] \"FP016\"             \"FP017\"             \"FP018\"            \n",
       " [19] \"FP019\"             \"FP020\"             \"FP021\"            \n",
       " [22] \"FP022\"             \"FP023\"             \"FP024\"            \n",
       " [25] \"FP025\"             \"FP026\"             \"FP027\"            \n",
       " [28] \"FP028\"             \"FP029\"             \"FP030\"            \n",
       " [31] \"FP031\"             \"FP032\"             \"FP033\"            \n",
       " [34] \"FP034\"             \"FP035\"             \"FP036\"            \n",
       " [37] \"FP037\"             \"FP038\"             \"FP039\"            \n",
       " [40] \"FP040\"             \"FP041\"             \"FP042\"            \n",
       " [43] \"FP043\"             \"FP044\"             \"FP045\"            \n",
       " [46] \"FP046\"             \"FP047\"             \"FP048\"            \n",
       " [49] \"FP049\"             \"FP050\"             \"FP051\"            \n",
       " [52] \"FP052\"             \"FP053\"             \"FP054\"            \n",
       " [55] \"FP055\"             \"FP056\"             \"FP057\"            \n",
       " [58] \"FP058\"             \"FP059\"             \"FP060\"            \n",
       " [61] \"FP061\"             \"FP062\"             \"FP063\"            \n",
       " [64] \"FP064\"             \"FP065\"             \"FP066\"            \n",
       " [67] \"FP067\"             \"FP068\"             \"FP069\"            \n",
       " [70] \"FP070\"             \"FP071\"             \"FP072\"            \n",
       " [73] \"FP073\"             \"FP074\"             \"FP075\"            \n",
       " [76] \"FP076\"             \"FP077\"             \"FP078\"            \n",
       " [79] \"FP079\"             \"FP080\"             \"FP081\"            \n",
       " [82] \"FP082\"             \"FP083\"             \"FP084\"            \n",
       " [85] \"FP085\"             \"FP086\"             \"FP087\"            \n",
       " [88] \"FP088\"             \"FP089\"             \"FP090\"            \n",
       " [91] \"FP091\"             \"FP092\"             \"FP093\"            \n",
       " [94] \"FP094\"             \"FP095\"             \"FP096\"            \n",
       " [97] \"FP097\"             \"FP098\"             \"FP099\"            \n",
       "[100] \"FP100\"             \"FP101\"             \"FP102\"            \n",
       "[103] \"FP103\"             \"FP104\"             \"FP105\"            \n",
       "[106] \"FP106\"             \"FP107\"             \"FP108\"            \n",
       "[109] \"FP109\"             \"FP110\"             \"FP111\"            \n",
       "[112] \"FP112\"             \"FP113\"             \"FP114\"            \n",
       "[115] \"FP115\"             \"FP116\"             \"FP117\"            \n",
       "[118] \"FP118\"             \"FP119\"             \"FP120\"            \n",
       "[121] \"FP121\"             \"FP122\"             \"FP123\"            \n",
       "[124] \"FP124\"             \"FP125\"             \"FP126\"            \n",
       "[127] \"FP127\"             \"FP128\"             \"FP129\"            \n",
       "[130] \"FP130\"             \"FP131\"             \"FP132\"            \n",
       "[133] \"FP133\"             \"FP134\"             \"FP135\"            \n",
       "[136] \"FP136\"             \"FP137\"             \"FP138\"            \n",
       "[139] \"FP139\"             \"FP140\"             \"FP141\"            \n",
       "[142] \"FP142\"             \"FP143\"             \"FP144\"            \n",
       "[145] \"FP145\"             \"FP146\"             \"FP147\"            \n",
       "[148] \"FP148\"             \"FP149\"             \"FP150\"            \n",
       "[151] \"FP151\"             \"FP152\"             \"FP153\"            \n",
       "[154] \"FP154\"             \"FP155\"             \"FP156\"            \n",
       "[157] \"FP157\"             \"FP158\"             \"FP159\"            \n",
       "[160] \"FP160\"             \"FP161\"             \"FP162\"            \n",
       "[163] \"FP163\"             \"FP164\"             \"FP165\"            \n",
       "[166] \"FP166\"             \"FP167\"             \"FP168\"            \n",
       "[169] \"FP169\"             \"FP170\"             \"FP171\"            \n",
       "[172] \"FP172\"             \"FP173\"             \"FP174\"            \n",
       "[175] \"FP175\"             \"FP176\"             \"FP177\"            \n",
       "[178] \"FP178\"             \"FP179\"             \"FP180\"            \n",
       "[181] \"FP181\"             \"FP182\"             \"FP183\"            \n",
       "[184] \"FP184\"             \"FP185\"             \"FP186\"            \n",
       "[187] \"FP187\"             \"FP188\"             \"FP189\"            \n",
       "[190] \"FP190\"             \"FP191\"             \"FP192\"            \n",
       "[193] \"FP193\"             \"FP194\"             \"FP195\"            \n",
       "[196] \"FP196\"             \"FP197\"             \"FP198\"            \n",
       "[199] \"FP199\"             \"FP200\"             \"FP201\"            \n",
       "[202] \"FP202\"             \"FP203\"             \"FP204\"            \n",
       "[205] \"FP205\"             \"FP206\"             \"FP207\"            \n",
       "[208] \"FP208\"             \"MolWeight\"         \"NumAtoms\"         \n",
       "[211] \"NumNonHAtoms\"      \"NumBonds\"          \"NumNonHBonds\"     \n",
       "[214] \"NumMultBonds\"      \"NumRotBonds\"       \"NumDblBonds\"      \n",
       "[217] \"NumAromaticBonds\"  \"NumHydrogen\"       \"NumCarbon\"        \n",
       "[220] \"NumNitrogen\"       \"NumOxygen\"         \"NumSulfer\"        \n",
       "[223] \"NumChlorine\"       \"NumHalogen\"        \"NumRings\"         \n",
       "[226] \"HydrophilicFactor\" \"SurfaceArea1\"      \"SurfaceArea2\"     "
      ]
     },
     "metadata": {},
     "output_type": "display_data"
    }
   ],
   "source": [
    "set.seed(2)\n",
    "sample(names(solTrainX),8)\n",
    "#colnames(solTrainX)"
   ]
  },
  {
   "cell_type": "code",
   "execution_count": 5,
   "metadata": {
    "collapsed": false,
    "scrolled": true
   },
   "outputs": [
    {
     "data": {
      "text/html": [
       "FALSE"
      ],
      "text/latex": [
       "FALSE"
      ],
      "text/markdown": [
       "FALSE"
      ],
      "text/plain": [
       "[1] FALSE"
      ]
     },
     "metadata": {},
     "output_type": "display_data"
    }
   ],
   "source": [
    "#find out missing values\n",
    "any(is.na(solTrainX))"
   ]
  },
  {
   "cell_type": "code",
   "execution_count": 25,
   "metadata": {
    "collapsed": false,
    "scrolled": false
   },
   "outputs": [
    {
     "data": {
      "text/html": [
       "<dl class=dl-horizontal>\n",
       "\t<dt>NumSulfer</dt>\n",
       "\t\t<dd>3.83547356438057</dd>\n",
       "\t<dt>HydrophilicFactor</dt>\n",
       "\t\t<dd>3.39841735096654</dd>\n",
       "\t<dt>NumChlorine</dt>\n",
       "\t\t<dd>3.17292726333179</dd>\n",
       "\t<dt>NumHalogen</dt>\n",
       "\t\t<dd>2.68724233428889</dd>\n",
       "\t<dt>NumOxygen</dt>\n",
       "\t\t<dd>1.76889609997946</dd>\n",
       "\t<dt>SurfaceArea1</dt>\n",
       "\t\t<dd>1.71144092898955</dd>\n",
       "\t<dt>NumRotBonds</dt>\n",
       "\t\t<dd>1.57497351930724</dd>\n",
       "\t<dt>NumNitrogen</dt>\n",
       "\t\t<dd>1.55164235984067</dd>\n",
       "\t<dt>SurfaceArea2</dt>\n",
       "\t\t<dd>1.47271576543695</dd>\n",
       "\t<dt>NumAtoms</dt>\n",
       "\t\t<dd>1.36231098643472</dd>\n",
       "\t<dt>NumBonds</dt>\n",
       "\t\t<dd>1.357900722256</dd>\n",
       "\t<dt>NumDblBonds</dt>\n",
       "\t\t<dd>1.35748023027932</dd>\n",
       "\t<dt>NumHydrogen</dt>\n",
       "\t\t<dd>1.25955333520912</dd>\n",
       "\t<dt>NumRings</dt>\n",
       "\t\t<dd>1.03244474049396</dd>\n",
       "\t<dt>NumNonHAtoms</dt>\n",
       "\t\t<dd>0.991511240288792</dd>\n",
       "\t<dt>MolWeight</dt>\n",
       "\t\t<dd>0.986824431951666</dd>\n",
       "\t<dt>NumNonHBonds</dt>\n",
       "\t\t<dd>0.967774218126622</dd>\n",
       "\t<dt>NumCarbon</dt>\n",
       "\t\t<dd>0.925876544991032</dd>\n",
       "\t<dt>NumAromaticBonds</dt>\n",
       "\t\t<dd>0.794377279000108</dd>\n",
       "\t<dt>NumMultBonds</dt>\n",
       "\t\t<dd>0.66918164642201</dd>\n",
       "</dl>\n"
      ],
      "text/latex": [
       "\\begin{description*}\n",
       "\\item[NumSulfer] 3.83547356438057\n",
       "\\item[HydrophilicFactor] 3.39841735096654\n",
       "\\item[NumChlorine] 3.17292726333179\n",
       "\\item[NumHalogen] 2.68724233428889\n",
       "\\item[NumOxygen] 1.76889609997946\n",
       "\\item[SurfaceArea1] 1.71144092898955\n",
       "\\item[NumRotBonds] 1.57497351930724\n",
       "\\item[NumNitrogen] 1.55164235984067\n",
       "\\item[SurfaceArea2] 1.47271576543695\n",
       "\\item[NumAtoms] 1.36231098643472\n",
       "\\item[NumBonds] 1.357900722256\n",
       "\\item[NumDblBonds] 1.35748023027932\n",
       "\\item[NumHydrogen] 1.25955333520912\n",
       "\\item[NumRings] 1.03244474049396\n",
       "\\item[NumNonHAtoms] 0.991511240288792\n",
       "\\item[MolWeight] 0.986824431951666\n",
       "\\item[NumNonHBonds] 0.967774218126622\n",
       "\\item[NumCarbon] 0.925876544991032\n",
       "\\item[NumAromaticBonds] 0.794377279000108\n",
       "\\item[NumMultBonds] 0.66918164642201\n",
       "\\end{description*}\n"
      ],
      "text/markdown": [
       "NumSulfer\n",
       ":   3.83547356438057HydrophilicFactor\n",
       ":   3.39841735096654NumChlorine\n",
       ":   3.17292726333179NumHalogen\n",
       ":   2.68724233428889NumOxygen\n",
       ":   1.76889609997946SurfaceArea1\n",
       ":   1.71144092898955NumRotBonds\n",
       ":   1.57497351930724NumNitrogen\n",
       ":   1.55164235984067SurfaceArea2\n",
       ":   1.47271576543695NumAtoms\n",
       ":   1.36231098643472NumBonds\n",
       ":   1.357900722256NumDblBonds\n",
       ":   1.35748023027932NumHydrogen\n",
       ":   1.25955333520912NumRings\n",
       ":   1.03244474049396NumNonHAtoms\n",
       ":   0.991511240288792MolWeight\n",
       ":   0.986824431951666NumNonHBonds\n",
       ":   0.967774218126622NumCarbon\n",
       ":   0.925876544991032NumAromaticBonds\n",
       ":   0.794377279000108NumMultBonds\n",
       ":   0.66918164642201\n",
       "\n"
      ],
      "text/plain": [
       "        NumSulfer HydrophilicFactor       NumChlorine        NumHalogen \n",
       "        3.8354736         3.3984174         3.1729273         2.6872423 \n",
       "        NumOxygen      SurfaceArea1       NumRotBonds       NumNitrogen \n",
       "        1.7688961         1.7114409         1.5749735         1.5516424 \n",
       "     SurfaceArea2          NumAtoms          NumBonds       NumDblBonds \n",
       "        1.4727158         1.3623110         1.3579007         1.3574802 \n",
       "      NumHydrogen          NumRings      NumNonHAtoms         MolWeight \n",
       "        1.2595533         1.0324447         0.9915112         0.9868244 \n",
       "     NumNonHBonds         NumCarbon  NumAromaticBonds      NumMultBonds \n",
       "        0.9677742         0.9258765         0.7943773         0.6691816 "
      ]
     },
     "metadata": {},
     "output_type": "display_data"
    },
    {
     "data": {
      "text/html": [
       "-0.669316076762964"
      ],
      "text/latex": [
       "-0.669316076762964"
      ],
      "text/markdown": [
       "-0.669316076762964"
      ],
      "text/plain": [
       "[1] -0.6693161"
      ]
     },
     "metadata": {},
     "output_type": "display_data"
    }
   ],
   "source": [
    "#skewness & distribution\n",
    "#for predictors\n",
    "library(e1071)\n",
    "skew_info <- apply(solTrainX[209:228],2,skewness)\n",
    "sort(skew_info,decreasing = T)\n",
    "# for response \n",
    "sort(skewness(solTrainY),decreasing = T)"
   ]
  },
  {
   "cell_type": "code",
   "execution_count": 23,
   "metadata": {
    "collapsed": false
   },
   "outputs": [
    {
     "name": "stderr",
     "output_type": "stream",
     "text": [
      "No id variables; using all as measure variables\n"
     ]
    },
    {
     "data": {},
     "metadata": {},
     "output_type": "display_data"
    },
    {
     "data": {
      "image/png": "[encoded data removed]",
      "text/plain": [
       "plot without title"
      ]
     },
     "metadata": {},
     "output_type": "display_data"
    }
   ],
   "source": [
    "#visualize\n",
    "sample_col <- solTrainX[,sample(209:228,8)]\n",
    "library(reshape2)\n",
    "mlt <- melt(sample_col)\n",
    "library(lattice)\n",
    "densityplot(~value|variable,data=mlt,\n",
    "           scales=list(x=list(relation=\"free\"),y=list(relation=\"free\")),\n",
    "           adjust=1.25,pch=\"|\",xlab=\"Predictors\",layout=c(4,2))"
   ]
  },
  {
   "cell_type": "code",
   "execution_count": 26,
   "metadata": {
    "collapsed": false
   },
   "outputs": [
    {
     "data": {
      "text/html": [
       "<dl class=dl-horizontal>\n",
       "\t<dt>NumSulfer</dt>\n",
       "\t\t<dd>2.27074573897924</dd>\n",
       "\t<dt>NumChlorine</dt>\n",
       "\t\t<dd>1.46732366655351</dd>\n",
       "\t<dt>NumHalogen</dt>\n",
       "\t\t<dd>1.0331764976438</dd>\n",
       "\t<dt>NumNitrogen</dt>\n",
       "\t\t<dd>0.426272742858255</dd>\n",
       "\t<dt>NumOxygen</dt>\n",
       "\t\t<dd>0.187035224943141</dd>\n",
       "\t<dt>NumDblBonds</dt>\n",
       "\t\t<dd>0.14968623599189</dd>\n",
       "\t<dt>HydrophilicFactor</dt>\n",
       "\t\t<dd>0.10030402953993</dd>\n",
       "\t<dt>NumRotBonds</dt>\n",
       "\t\t<dd>0.0973568321197404</dd>\n",
       "\t<dt>NumCarbon</dt>\n",
       "\t\t<dd>0.0616443828000611</dd>\n",
       "\t<dt>NumNonHBonds</dt>\n",
       "\t\t<dd>0.0432437801194348</dd>\n",
       "\t<dt>NumRings</dt>\n",
       "\t\t<dd>0.00557277364025693</dd>\n",
       "\t<dt>MolWeight</dt>\n",
       "\t\t<dd>-0.000216225463841408</dd>\n",
       "\t<dt>NumHydrogen</dt>\n",
       "\t\t<dd>-0.0407015937841643</dd>\n",
       "\t<dt>NumNonHAtoms</dt>\n",
       "\t\t<dd>-0.0555982368957792</dd>\n",
       "\t<dt>NumAtoms</dt>\n",
       "\t\t<dd>-0.0713055864071489</dd>\n",
       "\t<dt>NumMultBonds</dt>\n",
       "\t\t<dd>-0.094665525784053</dd>\n",
       "\t<dt>SurfaceArea1</dt>\n",
       "\t\t<dd>-0.131611843418327</dd>\n",
       "\t<dt>NumAromaticBonds</dt>\n",
       "\t\t<dd>-0.146381589359096</dd>\n",
       "\t<dt>SurfaceArea2</dt>\n",
       "\t\t<dd>-0.168154829721289</dd>\n",
       "\t<dt>NumBonds</dt>\n",
       "\t\t<dd>-0.188163591925031</dd>\n",
       "</dl>\n"
      ],
      "text/latex": [
       "\\begin{description*}\n",
       "\\item[NumSulfer] 2.27074573897924\n",
       "\\item[NumChlorine] 1.46732366655351\n",
       "\\item[NumHalogen] 1.0331764976438\n",
       "\\item[NumNitrogen] 0.426272742858255\n",
       "\\item[NumOxygen] 0.187035224943141\n",
       "\\item[NumDblBonds] 0.14968623599189\n",
       "\\item[HydrophilicFactor] 0.10030402953993\n",
       "\\item[NumRotBonds] 0.0973568321197404\n",
       "\\item[NumCarbon] 0.0616443828000611\n",
       "\\item[NumNonHBonds] 0.0432437801194348\n",
       "\\item[NumRings] 0.00557277364025693\n",
       "\\item[MolWeight] -0.000216225463841408\n",
       "\\item[NumHydrogen] -0.0407015937841643\n",
       "\\item[NumNonHAtoms] -0.0555982368957792\n",
       "\\item[NumAtoms] -0.0713055864071489\n",
       "\\item[NumMultBonds] -0.094665525784053\n",
       "\\item[SurfaceArea1] -0.131611843418327\n",
       "\\item[NumAromaticBonds] -0.146381589359096\n",
       "\\item[SurfaceArea2] -0.168154829721289\n",
       "\\item[NumBonds] -0.188163591925031\n",
       "\\end{description*}\n"
      ],
      "text/markdown": [
       "NumSulfer\n",
       ":   2.27074573897924NumChlorine\n",
       ":   1.46732366655351NumHalogen\n",
       ":   1.0331764976438NumNitrogen\n",
       ":   0.426272742858255NumOxygen\n",
       ":   0.187035224943141NumDblBonds\n",
       ":   0.14968623599189HydrophilicFactor\n",
       ":   0.10030402953993NumRotBonds\n",
       ":   0.0973568321197404NumCarbon\n",
       ":   0.0616443828000611NumNonHBonds\n",
       ":   0.0432437801194348NumRings\n",
       ":   0.00557277364025693MolWeight\n",
       ":   -0.000216225463841408NumHydrogen\n",
       ":   -0.0407015937841643NumNonHAtoms\n",
       ":   -0.0555982368957792NumAtoms\n",
       ":   -0.0713055864071489NumMultBonds\n",
       ":   -0.094665525784053SurfaceArea1\n",
       ":   -0.131611843418327NumAromaticBonds\n",
       ":   -0.146381589359096SurfaceArea2\n",
       ":   -0.168154829721289NumBonds\n",
       ":   -0.188163591925031\n",
       "\n"
      ],
      "text/plain": [
       "        NumSulfer       NumChlorine        NumHalogen       NumNitrogen \n",
       "     2.2707457390      1.4673236666      1.0331764976      0.4262727429 \n",
       "        NumOxygen       NumDblBonds HydrophilicFactor       NumRotBonds \n",
       "     0.1870352249      0.1496862360      0.1003040295      0.0973568321 \n",
       "        NumCarbon      NumNonHBonds          NumRings         MolWeight \n",
       "     0.0616443828      0.0432437801      0.0055727736     -0.0002162255 \n",
       "      NumHydrogen      NumNonHAtoms          NumAtoms      NumMultBonds \n",
       "    -0.0407015938     -0.0555982369     -0.0713055864     -0.0946655258 \n",
       "     SurfaceArea1  NumAromaticBonds      SurfaceArea2          NumBonds \n",
       "    -0.1316118434     -0.1463815894     -0.1681548297     -0.1881635919 "
      ]
     },
     "metadata": {},
     "output_type": "display_data"
    }
   ],
   "source": [
    "#does Box-Cox trans fix some skewness?\n",
    "skew_info_cox <- apply(solTrainXtrans[209:228],2,skewness)\n",
    "sort(skew_info_cox,decreasing = T)"
   ]
  },
  {
   "cell_type": "code",
   "execution_count": 27,
   "metadata": {
    "collapsed": false,
    "scrolled": true
   },
   "outputs": [
    {
     "data": {
      "text/html": [
       "<dl class=dl-horizontal>\n",
       "\t<dt>NumSulfer</dt>\n",
       "\t\t<dd>3.83547356438057</dd>\n",
       "\t<dt>NumChlorine</dt>\n",
       "\t\t<dd>3.17292726333179</dd>\n",
       "\t<dt>NumHalogen</dt>\n",
       "\t\t<dd>1.00676427434028</dd>\n",
       "\t<dt>NumNitrogen</dt>\n",
       "\t\t<dd>0.428681033171884</dd>\n",
       "\t<dt>HydrophilicFactor</dt>\n",
       "\t\t<dd>0.249271801626951</dd>\n",
       "\t<dt>NumDblBonds</dt>\n",
       "\t\t<dd>0.158485683185757</dd>\n",
       "\t<dt>NumOxygen</dt>\n",
       "\t\t<dd>0.0414896755066984</dd>\n",
       "\t<dt>NumHydrogen</dt>\n",
       "\t\t<dd>0.0290729311586196</dd>\n",
       "\t<dt>NumRotBonds</dt>\n",
       "\t\t<dd>0.0208437271135138</dd>\n",
       "\t<dt>NumBonds</dt>\n",
       "\t\t<dd>0.00545804973648362</dd>\n",
       "\t<dt>NumAtoms</dt>\n",
       "\t\t<dd>0.00142407132221664</dd>\n",
       "\t<dt>NumRings</dt>\n",
       "\t\t<dd>0.000913412261013862</dd>\n",
       "\t<dt>MolWeight</dt>\n",
       "\t\t<dd>-0.000216225463841408</dd>\n",
       "\t<dt>NumNonHAtoms</dt>\n",
       "\t\t<dd>-0.00387453208399653</dd>\n",
       "\t<dt>NumCarbon</dt>\n",
       "\t\t<dd>-0.0042561518207097</dd>\n",
       "\t<dt>NumNonHBonds</dt>\n",
       "\t\t<dd>-0.0132954796789584</dd>\n",
       "\t<dt>NumAromaticBonds</dt>\n",
       "\t\t<dd>-0.0845954240775561</dd>\n",
       "\t<dt>NumMultBonds</dt>\n",
       "\t\t<dd>-0.141802736795673</dd>\n",
       "\t<dt>SurfaceArea1</dt>\n",
       "\t\t<dd>-0.23433976201675</dd>\n",
       "\t<dt>SurfaceArea2</dt>\n",
       "\t\t<dd>-0.245125948852133</dd>\n",
       "</dl>\n"
      ],
      "text/latex": [
       "\\begin{description*}\n",
       "\\item[NumSulfer] 3.83547356438057\n",
       "\\item[NumChlorine] 3.17292726333179\n",
       "\\item[NumHalogen] 1.00676427434028\n",
       "\\item[NumNitrogen] 0.428681033171884\n",
       "\\item[HydrophilicFactor] 0.249271801626951\n",
       "\\item[NumDblBonds] 0.158485683185757\n",
       "\\item[NumOxygen] 0.0414896755066984\n",
       "\\item[NumHydrogen] 0.0290729311586196\n",
       "\\item[NumRotBonds] 0.0208437271135138\n",
       "\\item[NumBonds] 0.00545804973648362\n",
       "\\item[NumAtoms] 0.00142407132221664\n",
       "\\item[NumRings] 0.000913412261013862\n",
       "\\item[MolWeight] -0.000216225463841408\n",
       "\\item[NumNonHAtoms] -0.00387453208399653\n",
       "\\item[NumCarbon] -0.0042561518207097\n",
       "\\item[NumNonHBonds] -0.0132954796789584\n",
       "\\item[NumAromaticBonds] -0.0845954240775561\n",
       "\\item[NumMultBonds] -0.141802736795673\n",
       "\\item[SurfaceArea1] -0.23433976201675\n",
       "\\item[SurfaceArea2] -0.245125948852133\n",
       "\\end{description*}\n"
      ],
      "text/markdown": [
       "NumSulfer\n",
       ":   3.83547356438057NumChlorine\n",
       ":   3.17292726333179NumHalogen\n",
       ":   1.00676427434028NumNitrogen\n",
       ":   0.428681033171884HydrophilicFactor\n",
       ":   0.249271801626951NumDblBonds\n",
       ":   0.158485683185757NumOxygen\n",
       ":   0.0414896755066984NumHydrogen\n",
       ":   0.0290729311586196NumRotBonds\n",
       ":   0.0208437271135138NumBonds\n",
       ":   0.00545804973648362NumAtoms\n",
       ":   0.00142407132221664NumRings\n",
       ":   0.000913412261013862MolWeight\n",
       ":   -0.000216225463841408NumNonHAtoms\n",
       ":   -0.00387453208399653NumCarbon\n",
       ":   -0.0042561518207097NumNonHBonds\n",
       ":   -0.0132954796789584NumAromaticBonds\n",
       ":   -0.0845954240775561NumMultBonds\n",
       ":   -0.141802736795673SurfaceArea1\n",
       ":   -0.23433976201675SurfaceArea2\n",
       ":   -0.245125948852133\n",
       "\n"
      ],
      "text/plain": [
       "        NumSulfer       NumChlorine        NumHalogen       NumNitrogen \n",
       "     3.8354735644      3.1729272633      1.0067642743      0.4286810332 \n",
       "HydrophilicFactor       NumDblBonds         NumOxygen       NumHydrogen \n",
       "     0.2492718016      0.1584856832      0.0414896755      0.0290729312 \n",
       "      NumRotBonds          NumBonds          NumAtoms          NumRings \n",
       "     0.0208437271      0.0054580497      0.0014240713      0.0009134123 \n",
       "        MolWeight      NumNonHAtoms         NumCarbon      NumNonHBonds \n",
       "    -0.0002162255     -0.0038745321     -0.0042561518     -0.0132954797 \n",
       " NumAromaticBonds      NumMultBonds      SurfaceArea1      SurfaceArea2 \n",
       "    -0.0845954241     -0.1418027368     -0.2343397620     -0.2451259489 "
      ]
     },
     "metadata": {},
     "output_type": "display_data"
    }
   ],
   "source": [
    "#is YeoJohnson trans  better than Box-Cos?\n",
    "library(caret)\n",
    "trans_yeo <- preProcess(solTrainX[,209:228],method=\"YeoJohnson\")\n",
    "solTrainXtrans_yeo <- predict(trans_yeo,newdata = solTrainX[,209:228])\n",
    "sort(apply(solTrainXtrans_yeo,2,skewness),decreasing = T)"
   ]
  },
  {
   "cell_type": "code",
   "execution_count": 48,
   "metadata": {
    "collapsed": false
   },
   "outputs": [
    {
     "data": {},
     "metadata": {},
     "output_type": "display_data"
    },
    {
     "data": {
      "image/png": "[encoded data removed]",
      "text/plain": [
       "plot without title"
      ]
     },
     "metadata": {},
     "output_type": "display_data"
    }
   ],
   "source": [
    "#how is the corr\n",
    "# library(corrplot)\n",
    "# corrplot(cor(solTrainXtrans[,208:228]), type=\"upper\",order = \"hclust\", addgrid.col = NA, tl.pos = \"n\")\n",
    "library(ggcorrplot)\n",
    "ggcorrplot(round(cor(solTrainXtrans[,208:228]),2), hc.order = TRUE, type = \"lower\", lab = TRUE,lab_size = 2,tl.cex = 8)\n",
    "#some  correlations are extremly high"
   ]
  },
  {
   "cell_type": "markdown",
   "metadata": {},
   "source": [
    "## Ordinary Linear Regression"
   ]
  },
  {
   "cell_type": "code",
   "execution_count": 49,
   "metadata": {
    "collapsed": false
   },
   "outputs": [
    {
     "data": {
      "text/plain": [
       "\n",
       "Call:\n",
       "lm(formula = Solubility ~ ., data = trn)\n",
       "\n",
       "Residuals:\n",
       "     Min       1Q   Median       3Q      Max \n",
       "-1.75620 -0.28304  0.01165  0.30030  1.54887 \n",
       "\n",
       "Coefficients:\n",
       "                    Estimate Std. Error t value Pr(>|t|)    \n",
       "(Intercept)        2.431e+00  2.162e+00   1.124 0.261303    \n",
       "FP001              3.594e-01  3.185e-01   1.128 0.259635    \n",
       "FP002              1.456e-01  2.637e-01   0.552 0.580960    \n",
       "FP003             -3.969e-02  1.314e-01  -0.302 0.762617    \n",
       "FP004             -3.049e-01  1.371e-01  -2.223 0.026520 *  \n",
       "FP005              2.837e+00  9.598e-01   2.956 0.003223 ** \n",
       "FP006             -6.886e-02  2.041e-01  -0.337 0.735917    \n",
       "FP007              4.044e-02  1.152e-01   0.351 0.725643    \n",
       "FP008              1.121e-01  1.636e-01   0.685 0.493331    \n",
       "FP009             -8.242e-01  8.395e-01  -0.982 0.326536    \n",
       "FP010              4.193e-01  3.136e-01   1.337 0.181579    \n",
       "FP011              5.158e-02  2.198e-01   0.235 0.814503    \n",
       "FP012             -1.346e-02  1.611e-01  -0.084 0.933452    \n",
       "FP013             -4.519e-01  5.473e-01  -0.826 0.409311    \n",
       "FP014              3.281e-01  4.550e-01   0.721 0.471044    \n",
       "FP015             -1.839e-01  1.521e-01  -1.209 0.226971    \n",
       "FP016             -1.367e-01  1.548e-01  -0.883 0.377340    \n",
       "FP017             -1.704e-01  1.386e-01  -1.230 0.219187    \n",
       "FP018             -3.824e-01  2.388e-01  -1.602 0.109655    \n",
       "FP019             -3.131e-01  3.863e-01  -0.811 0.417862    \n",
       "FP020              2.072e-01  2.135e-01   0.971 0.332078    \n",
       "FP021             -5.956e-02  2.632e-01  -0.226 0.821060    \n",
       "FP022              2.336e-01  3.456e-01   0.676 0.499180    \n",
       "FP023             -3.193e-01  1.909e-01  -1.672 0.094866 .  \n",
       "FP024             -4.272e-01  2.827e-01  -1.511 0.131162    \n",
       "FP025              4.376e-01  4.538e-01   0.964 0.335184    \n",
       "FP026              2.068e-01  2.564e-01   0.806 0.420273    \n",
       "FP027              2.424e-01  2.429e-01   0.998 0.318594    \n",
       "FP028              1.070e-01  1.200e-01   0.892 0.372547    \n",
       "FP029             -9.857e-02  2.199e-01  -0.448 0.654163    \n",
       "FP030             -2.361e-01  2.468e-01  -0.957 0.339048    \n",
       "FP031              8.690e-02  1.346e-01   0.646 0.518754    \n",
       "FP032             -1.204e+00  7.772e-01  -1.550 0.121628    \n",
       "FP033              5.766e-01  4.236e-01   1.361 0.173882    \n",
       "FP034             -1.794e-01  2.618e-01  -0.685 0.493486    \n",
       "FP035             -2.140e-01  1.704e-01  -1.256 0.209605    \n",
       "FP036              7.701e-02  1.657e-01   0.465 0.642133    \n",
       "FP037              1.098e-01  1.725e-01   0.636 0.524693    \n",
       "FP038              2.721e-01  1.888e-01   1.441 0.150030    \n",
       "FP039              2.011e-02  2.888e-01   0.070 0.944491    \n",
       "FP040              5.477e-01  1.890e-01   2.898 0.003873 ** \n",
       "FP041             -4.265e-01  3.004e-01  -1.420 0.156143    \n",
       "FP042             -9.901e-01  7.078e-01  -1.399 0.162294    \n",
       "FP043             -3.725e-02  2.096e-01  -0.178 0.859011    \n",
       "FP044             -3.860e-01  2.184e-01  -1.768 0.077562 .  \n",
       "FP045              2.120e-01  1.299e-01   1.631 0.103238    \n",
       "FP046             -3.504e-02  2.733e-01  -0.128 0.898010    \n",
       "FP047             -1.675e-02  1.414e-01  -0.118 0.905775    \n",
       "FP048              2.610e-01  2.434e-01   1.073 0.283810    \n",
       "FP049              1.241e-01  1.971e-01   0.630 0.529036    \n",
       "FP050              9.087e-03  1.410e-01   0.064 0.948648    \n",
       "FP051              1.050e-01  2.014e-01   0.521 0.602210    \n",
       "FP052             -4.569e-01  2.482e-01  -1.841 0.066029 .  \n",
       "FP053              2.994e-01  2.466e-01   1.214 0.225129    \n",
       "FP054              2.734e-02  1.829e-01   0.149 0.881229    \n",
       "FP055             -3.662e-01  1.970e-01  -1.858 0.063530 .  \n",
       "FP056             -2.961e-01  2.979e-01  -0.994 0.320541    \n",
       "FP057             -1.002e-01  1.379e-01  -0.727 0.467703    \n",
       "FP058              3.100e-01  8.074e-01   0.384 0.701129    \n",
       "FP059             -1.615e-01  1.690e-01  -0.956 0.339514    \n",
       "FP060              2.350e-01  1.474e-01   1.595 0.111209    \n",
       "FP061             -6.365e-01  1.440e-01  -4.421 1.13e-05 ***\n",
       "FP062             -5.224e-01  2.961e-01  -1.764 0.078078 .  \n",
       "FP063             -2.001e+00  1.287e+00  -1.554 0.120553    \n",
       "FP064              2.549e-01  1.221e-01   2.087 0.037207 *  \n",
       "FP065             -2.844e-01  1.197e-01  -2.377 0.017714 *  \n",
       "FP066              2.093e-01  1.264e-01   1.655 0.098301 .  \n",
       "FP067             -1.406e-01  1.540e-01  -0.913 0.361631    \n",
       "FP068              4.964e-01  2.028e-01   2.447 0.014630 *  \n",
       "FP069              1.324e-01  8.824e-02   1.501 0.133885    \n",
       "FP070              3.453e-03  8.088e-02   0.043 0.965963    \n",
       "FP071              1.474e-01  1.237e-01   1.192 0.233775    \n",
       "FP072             -9.773e-01  2.763e-01  -3.537 0.000431 ***\n",
       "FP073             -4.671e-01  2.072e-01  -2.254 0.024474 *  \n",
       "FP074              1.793e-01  1.206e-01   1.487 0.137566    \n",
       "FP075              1.231e-01  1.035e-01   1.188 0.235034    \n",
       "FP076              5.166e-01  1.704e-01   3.031 0.002525 ** \n",
       "FP077              1.644e-01  1.236e-01   1.331 0.183739    \n",
       "FP078             -3.715e-01  1.588e-01  -2.339 0.019608 *  \n",
       "FP079              4.254e-01  1.881e-01   2.262 0.023992 *  \n",
       "FP080              3.101e-01  1.554e-01   1.996 0.046340 *  \n",
       "FP081             -3.208e-01  1.117e-01  -2.873 0.004192 ** \n",
       "FP082              1.243e-01  9.524e-02   1.305 0.192379    \n",
       "FP083             -6.916e-01  2.134e-01  -3.241 0.001248 ** \n",
       "FP084              3.626e-01  2.381e-01   1.523 0.128171    \n",
       "FP085             -3.310e-01  1.428e-01  -2.317 0.020785 *  \n",
       "FP086              1.169e-02  9.774e-02   0.120 0.904834    \n",
       "FP087              4.559e-02  2.797e-01   0.163 0.870568    \n",
       "FP088              2.416e-01  9.959e-02   2.425 0.015534 *  \n",
       "FP089              5.999e-01  2.320e-01   2.586 0.009915 ** \n",
       "FP090             -2.450e-02  1.154e-01  -0.212 0.831930    \n",
       "FP091             -2.858e-01  3.185e-01  -0.897 0.369847    \n",
       "FP092              2.665e-01  2.069e-01   1.288 0.198156    \n",
       "FP093              1.974e-01  1.087e-01   1.816 0.069803 .  \n",
       "FP094             -1.991e-01  1.441e-01  -1.381 0.167707    \n",
       "FP095             -1.403e-01  1.124e-01  -1.248 0.212449    \n",
       "FP096             -5.024e-01  1.459e-01  -3.445 0.000605 ***\n",
       "FP097             -2.635e-01  1.666e-01  -1.582 0.114020    \n",
       "FP098             -2.865e-01  1.633e-01  -1.754 0.079863 .  \n",
       "FP099              2.592e-01  2.568e-01   1.009 0.313136    \n",
       "FP100             -4.008e-01  3.034e-01  -1.321 0.186949    \n",
       "FP101             -1.760e-01  3.019e-01  -0.583 0.560147    \n",
       "FP102              2.445e-01  3.449e-01   0.709 0.478579    \n",
       "FP103             -1.493e-01  9.148e-02  -1.632 0.103176    \n",
       "FP104             -1.428e-01  1.176e-01  -1.214 0.225238    \n",
       "FP105             -6.912e-02  1.395e-01  -0.495 0.620482    \n",
       "FP106              1.128e-01  1.288e-01   0.876 0.381495    \n",
       "FP107              2.778e+00  8.247e-01   3.369 0.000796 ***\n",
       "FP108              8.836e-03  1.852e-01   0.048 0.961970    \n",
       "FP109              8.200e-01  2.267e-01   3.617 0.000319 ***\n",
       "FP110              3.680e-01  3.311e-01   1.111 0.266811    \n",
       "FP111             -5.565e-01  1.420e-01  -3.918 9.80e-05 ***\n",
       "FP112             -1.079e-01  2.705e-01  -0.399 0.690108    \n",
       "FP113              1.511e-01  9.481e-02   1.594 0.111478    \n",
       "FP114             -1.201e-01  1.891e-01  -0.635 0.525628    \n",
       "FP115             -1.896e-01  1.405e-01  -1.349 0.177736    \n",
       "FP116              7.778e-03  1.897e-01   0.041 0.967300    \n",
       "FP117              2.583e-01  1.779e-01   1.452 0.147070    \n",
       "FP118             -1.964e-01  1.230e-01  -1.596 0.110940    \n",
       "FP119              7.515e-01  2.630e-01   2.857 0.004402 ** \n",
       "FP120             -1.814e-01  1.794e-01  -1.011 0.312362    \n",
       "FP121             -4.731e-02  3.957e-01  -0.120 0.904866    \n",
       "FP122              1.048e-01  1.041e-01   1.007 0.314268    \n",
       "FP123              3.926e-02  1.765e-01   0.222 0.824066    \n",
       "FP124              1.235e-01  1.705e-01   0.724 0.469243    \n",
       "FP125             -2.633e-04  1.151e-01  -0.002 0.998175    \n",
       "FP126             -2.782e-01  1.177e-01  -2.363 0.018373 *  \n",
       "FP127             -6.123e-01  1.739e-01  -3.521 0.000457 ***\n",
       "FP128             -5.424e-01  1.932e-01  -2.807 0.005136 ** \n",
       "FP129             -6.731e-02  2.243e-01  -0.300 0.764167    \n",
       "FP130             -1.034e+00  4.106e-01  -2.518 0.012009 *  \n",
       "FP131              2.158e-01  1.617e-01   1.335 0.182405    \n",
       "FP132             -1.976e-01  2.382e-01  -0.830 0.406998    \n",
       "FP133             -1.573e-01  1.217e-01  -1.293 0.196319    \n",
       "FP134              2.496e+00  1.196e+00   2.086 0.037310 *  \n",
       "FP135              1.818e-01  1.319e-01   1.379 0.168460    \n",
       "FP136             -7.763e-02  3.131e-01  -0.248 0.804237    \n",
       "FP137             -4.613e-02  2.978e-01  -0.155 0.876947    \n",
       "FP138             -9.392e-02  1.906e-01  -0.493 0.622251    \n",
       "FP139              7.659e-02  4.063e-01   0.189 0.850517    \n",
       "FP140              3.145e-01  2.149e-01   1.463 0.143784    \n",
       "FP141              2.219e-01  2.765e-01   0.802 0.422532    \n",
       "FP142              6.272e-01  1.488e-01   4.214 2.83e-05 ***\n",
       "FP143              9.981e-01  2.929e-01   3.407 0.000692 ***\n",
       "FP144              2.207e-01  2.839e-01   0.777 0.437195    \n",
       "FP145             -1.146e-01  1.188e-01  -0.964 0.335169    \n",
       "FP146             -2.324e-01  2.086e-01  -1.114 0.265716    \n",
       "FP147              1.502e-01  1.228e-01   1.223 0.221703    \n",
       "FP148             -1.600e-01  1.319e-01  -1.213 0.225560    \n",
       "FP149              1.172e-01  1.650e-01   0.710 0.477770    \n",
       "FP150              9.046e-02  1.577e-01   0.574 0.566368    \n",
       "FP151              2.899e-01  3.120e-01   0.929 0.353202    \n",
       "FP152             -2.544e-01  2.990e-01  -0.851 0.395087    \n",
       "FP153             -3.765e-01  2.773e-01  -1.358 0.175029    \n",
       "FP154             -1.027e+00  2.033e-01  -5.054 5.50e-07 ***\n",
       "FP155              4.888e-01  2.916e-01   1.676 0.094163 .  \n",
       "FP156             -3.602e-02  3.636e-01  -0.099 0.921109    \n",
       "FP157             -4.715e-01  2.468e-01  -1.910 0.056505 .  \n",
       "FP158              1.669e-02  1.925e-01   0.087 0.930943    \n",
       "FP159              1.800e-01  2.432e-01   0.740 0.459378    \n",
       "FP160              1.525e-02  2.177e-01   0.070 0.944155    \n",
       "FP161             -2.440e-01  1.433e-01  -1.703 0.089063 .  \n",
       "FP162              4.910e-02  1.859e-01   0.264 0.791710    \n",
       "FP163              4.785e-01  3.121e-01   1.533 0.125659    \n",
       "FP164              5.096e-01  1.899e-01   2.684 0.007446 ** \n",
       "FP165              5.793e-01  2.146e-01   2.700 0.007103 ** \n",
       "FP166             -6.582e-02  2.185e-01  -0.301 0.763293    \n",
       "FP167             -6.044e-01  2.515e-01  -2.403 0.016502 *  \n",
       "FP168             -1.187e-01  1.872e-01  -0.634 0.526173    \n",
       "FP169             -1.705e-01  8.312e-02  -2.051 0.040650 *  \n",
       "FP170             -7.902e-02  1.560e-01  -0.506 0.612745    \n",
       "FP171              4.651e-01  1.186e-01   3.922 9.64e-05 ***\n",
       "FP172             -4.426e-01  2.440e-01  -1.814 0.070120 .  \n",
       "FP173              4.243e-01  1.657e-01   2.561 0.010634 *  \n",
       "FP174             -1.010e-01  2.098e-01  -0.481 0.630311    \n",
       "FP175             -4.657e-02  2.481e-01  -0.188 0.851136    \n",
       "FP176              9.736e-01  2.644e-01   3.682 0.000249 ***\n",
       "FP177              1.386e-01  2.393e-01   0.579 0.562538    \n",
       "FP178              6.497e-02  2.079e-01   0.313 0.754691    \n",
       "FP179             -3.415e-02  2.232e-01  -0.153 0.878437    \n",
       "FP180             -7.905e-01  5.523e-01  -1.431 0.152839    \n",
       "FP181              4.925e-01  3.218e-01   1.531 0.126309    \n",
       "FP182             -1.124e-01  1.310e-01  -0.858 0.391384    \n",
       "FP183              2.998e-01  7.143e-01   0.420 0.674836    \n",
       "FP184              4.876e-01  1.580e-01   3.087 0.002103 ** \n",
       "FP185             -3.778e-01  2.037e-01  -1.854 0.064108 .  \n",
       "FP186             -3.654e-01  1.953e-01  -1.871 0.061710 .  \n",
       "FP187              4.457e-01  2.682e-01   1.662 0.097015 .  \n",
       "FP188              1.475e-01  1.258e-01   1.172 0.241519    \n",
       "FP189             -1.984e-02  3.468e-01  -0.057 0.954384    \n",
       "FP190              2.629e-01  3.018e-01   0.871 0.383981    \n",
       "FP191              2.799e-01  1.465e-01   1.911 0.056388 .  \n",
       "FP192             -2.404e-01  2.751e-01  -0.874 0.382534    \n",
       "FP193              1.502e-01  1.494e-01   1.005 0.315159    \n",
       "FP194              8.029e-01  6.379e-01   1.259 0.208566    \n",
       "FP195              5.967e-02  3.435e-01   0.174 0.862158    \n",
       "FP196              1.091e-02  2.544e-01   0.043 0.965812    \n",
       "FP197             -3.736e-02  1.569e-01  -0.238 0.811793    \n",
       "FP198              1.896e-01  2.665e-01   0.712 0.476893    \n",
       "FP199             -9.932e-02  1.797e-01  -0.553 0.580702    \n",
       "FP200             -6.421e-02  2.161e-01  -0.297 0.766462    \n",
       "FP201             -4.838e-01  1.980e-01  -2.444 0.014771 *  \n",
       "FP202              5.664e-01  1.869e-01   3.031 0.002527 ** \n",
       "FP203              2.586e-01  6.447e-01   0.401 0.688462    \n",
       "FP204             -1.371e-01  2.543e-01  -0.539 0.590008    \n",
       "FP205              7.177e-02  1.561e-01   0.460 0.645857    \n",
       "FP206             -6.769e-02  1.860e-01  -0.364 0.716094    \n",
       "FP207             -5.538e-03  2.060e-01  -0.027 0.978560    \n",
       "FP208             -5.338e-01  6.324e-01  -0.844 0.398925    \n",
       "MolWeight         -1.232e+00  2.296e-01  -5.365 1.09e-07 ***\n",
       "NumAtoms          -1.478e+01  3.473e+00  -4.257 2.35e-05 ***\n",
       "NumNonHAtoms       1.795e+01  3.166e+00   5.670 2.07e-08 ***\n",
       "NumBonds           9.843e+00  2.681e+00   3.671 0.000260 ***\n",
       "NumNonHBonds      -1.030e+01  1.793e+00  -5.746 1.35e-08 ***\n",
       "NumMultBonds       2.107e-01  1.754e-01   1.201 0.229990    \n",
       "NumRotBonds       -5.213e-01  1.334e-01  -3.908 0.000102 ***\n",
       "NumDblBonds       -7.492e-01  3.163e-01  -2.369 0.018111 *  \n",
       "NumAromaticBonds  -2.364e+00  6.232e-01  -3.794 0.000161 ***\n",
       "NumHydrogen        8.347e-01  1.880e-01   4.439 1.04e-05 ***\n",
       "NumCarbon          1.730e-02  3.763e-01   0.046 0.963335    \n",
       "NumNitrogen        6.125e+00  3.045e+00   2.011 0.044645 *  \n",
       "NumOxygen          2.389e+00  4.523e-01   5.283 1.69e-07 ***\n",
       "NumSulfer         -8.508e+00  3.619e+00  -2.351 0.018994 *  \n",
       "NumChlorine       -7.449e+00  1.989e+00  -3.744 0.000195 ***\n",
       "NumHalogen         1.408e+00  2.109e+00   0.668 0.504615    \n",
       "NumRings           1.276e+00  6.716e-01   1.901 0.057731 .  \n",
       "HydrophilicFactor  1.099e-02  1.137e-01   0.097 0.922998    \n",
       "SurfaceArea1       8.825e-02  6.058e-02   1.457 0.145643    \n",
       "SurfaceArea2       9.555e-02  5.615e-02   1.702 0.089208 .  \n",
       "---\n",
       "Signif. codes:  0 '***' 0.001 '**' 0.01 '*' 0.05 '.' 0.1 ' ' 1\n",
       "\n",
       "Residual standard error: 0.5524 on 722 degrees of freedom\n",
       "Multiple R-squared:  0.9446,\tAdjusted R-squared:  0.9271 \n",
       "F-statistic: 54.03 on 228 and 722 DF,  p-value: < 2.2e-16\n"
      ]
     },
     "metadata": {},
     "output_type": "display_data"
    }
   ],
   "source": [
    "trn <- solTrainXtrans\n",
    "trn$Solubility <- solTrainY\n",
    "\n",
    "#fit_lm <- train(Solubility~.,data=trn,method = \"lm\")\n",
    "fit_lm <- lm(Solubility~.,data=trn)\n",
    "summary(fit_lm)"
   ]
  },
  {
   "cell_type": "code",
   "execution_count": 68,
   "metadata": {
    "collapsed": false
   },
   "outputs": [
    {
     "data": {
      "image/png": "[encoded data removed]",
      "text/plain": [
       "plot without title"
      ]
     },
     "metadata": {},
     "output_type": "display_data"
    }
   ],
   "source": [
    "library(lattice)\n",
    "p1 <- xyplot(fit_lm$residuals~fit_lm$fitted.values)\n",
    "p2 <- xyplot(fit_lm$fitted.values~trn$Solubility,alpha=0.4)\n",
    "\n",
    "library(gridExtra)\n",
    "grid.arrange(p1, p2, ncol=2,nrow=2)"
   ]
  },
  {
   "cell_type": "code",
   "execution_count": 62,
   "metadata": {
    "collapsed": false
   },
   "outputs": [
    {
     "name": "stdout",
     "output_type": "stream",
     "text": [
      "olm RMSE 0.48\n",
      "olm R2 0.94"
     ]
    }
   ],
   "source": [
    "library(caret)\n",
    "cat(\"olm RMSE\",round(RMSE(pred = fit_lm$fitted.values,obs=trn$Solubility),2))\n",
    "cat(\"\\n\")\n",
    "cat(\"olm R2\",round(R2(pred = fit_lm$fitted.values,obs=trn$Solubility),2))"
   ]
  },
  {
   "cell_type": "code",
   "execution_count": 63,
   "metadata": {
    "collapsed": false
   },
   "outputs": [
    {
     "data": {
      "text/html": [
       "<dl class=dl-horizontal>\n",
       "\t<dt>RMSE</dt>\n",
       "\t\t<dd>0.745580189650891</dd>\n",
       "\t<dt>Rsquared</dt>\n",
       "\t\t<dd>0.872223631014793</dd>\n",
       "\t<dt>MAE</dt>\n",
       "\t\t<dd>0.549760473360177</dd>\n",
       "</dl>\n"
      ],
      "text/latex": [
       "\\begin{description*}\n",
       "\\item[RMSE] 0.745580189650891\n",
       "\\item[Rsquared] 0.872223631014793\n",
       "\\item[MAE] 0.549760473360177\n",
       "\\end{description*}\n"
      ],
      "text/markdown": [
       "RMSE\n",
       ":   0.745580189650891Rsquared\n",
       ":   0.872223631014793MAE\n",
       ":   0.549760473360177\n",
       "\n"
      ],
      "text/plain": [
       "     RMSE  Rsquared       MAE \n",
       "0.7455802 0.8722236 0.5497605 "
      ]
     },
     "metadata": {},
     "output_type": "display_data"
    }
   ],
   "source": [
    "#apply on test set\n",
    "pred_lm <- predict(fit_lm,newdata = solTestXtrans)\n",
    "values_lm <- data.frame(obs=solTestY,pred=pred_lm)\n",
    "defaultSummary(values_lm)"
   ]
  },
  {
   "cell_type": "code",
   "execution_count": 70,
   "metadata": {
    "collapsed": false
   },
   "outputs": [
    {
     "data": {
      "text/html": [
       "<dl class=dl-horizontal>\n",
       "\t<dt>RMSE</dt>\n",
       "\t\t<dd>0.497376675180574</dd>\n",
       "\t<dt>Rsquared</dt>\n",
       "\t\t<dd>0.940903370522789</dd>\n",
       "\t<dt>MAE</dt>\n",
       "\t\t<dd>0.355290271386732</dd>\n",
       "</dl>\n"
      ],
      "text/latex": [
       "\\begin{description*}\n",
       "\\item[RMSE] 0.497376675180574\n",
       "\\item[Rsquared] 0.940903370522789\n",
       "\\item[MAE] 0.355290271386732\n",
       "\\end{description*}\n"
      ],
      "text/markdown": [
       "RMSE\n",
       ":   0.497376675180574Rsquared\n",
       ":   0.940903370522789MAE\n",
       ":   0.355290271386732\n",
       "\n"
      ],
      "text/plain": [
       "     RMSE  Rsquared       MAE \n",
       "0.4973767 0.9409034 0.3552903 "
      ]
     },
     "metadata": {},
     "output_type": "display_data"
    },
    {
     "data": {
      "text/html": [
       "<dl class=dl-horizontal>\n",
       "\t<dt>RMSE</dt>\n",
       "\t\t<dd>0.752967045243027</dd>\n",
       "\t<dt>Rsquared</dt>\n",
       "\t\t<dd>0.87003936665458</dd>\n",
       "\t<dt>MAE</dt>\n",
       "\t\t<dd>0.537129589024001</dd>\n",
       "</dl>\n"
      ],
      "text/latex": [
       "\\begin{description*}\n",
       "\\item[RMSE] 0.752967045243027\n",
       "\\item[Rsquared] 0.87003936665458\n",
       "\\item[MAE] 0.537129589024001\n",
       "\\end{description*}\n"
      ],
      "text/markdown": [
       "RMSE\n",
       ":   0.752967045243027Rsquared\n",
       ":   0.87003936665458MAE\n",
       ":   0.537129589024001\n",
       "\n"
      ],
      "text/plain": [
       "     RMSE  Rsquared       MAE \n",
       "0.7529670 0.8700394 0.5371296 "
      ]
     },
     "metadata": {},
     "output_type": "display_data"
    }
   ],
   "source": [
    "#robust linear regression\n",
    "library(MASS)\n",
    "fit_rlm <- rlm(Solubility~.,data=trn)\n",
    "#summary(fit_rlm)\n",
    "values_rlm_trn <- data.frame(obs=solTrainY,pred=fit_rlm$fitted.values)\n",
    "defaultSummary(values_rlm_trn)\n",
    "\n",
    "pred_rlm <- predict(fit_rlm,newdata = solTestXtrans)\n",
    "values_rlm_test <- data.frame(obs=solTestY,pred=pred_rlm)\n",
    "defaultSummary(values_rlm_test)"
   ]
  },
  {
   "cell_type": "code",
   "execution_count": 73,
   "metadata": {
    "collapsed": false
   },
   "outputs": [
    {
     "data": {
      "text/plain": [
       "\n",
       "\tWelch Two Sample t-test\n",
       "\n",
       "data:  fit_lm$residuals and fit_rlm$residuals\n",
       "t = 0.44908, df = 1898, p-value = 0.6534\n",
       "alternative hypothesis: true difference in means is not equal to 0\n",
       "95 percent confidence interval:\n",
       " -0.03395309  0.05412010\n",
       "sample estimates:\n",
       "    mean of x     mean of y \n",
       "-1.207965e-17 -1.008350e-02 \n"
      ]
     },
     "metadata": {},
     "output_type": "display_data"
    }
   ],
   "source": [
    "#hypothesis testing  on model performance\n",
    "t.test (fit_lm$residuals, fit_rlm$residuals)"
   ]
  },
  {
   "cell_type": "code",
   "execution_count": 74,
   "metadata": {
    "collapsed": false,
    "scrolled": false
   },
   "outputs": [
    {
     "name": "stderr",
     "output_type": "stream",
     "text": [
      "Warning message in predict.lm(modelFit, newdata):\n",
      "\"prediction from a rank-deficient fit may be misleading\"Warning message in predict.lm(modelFit, newdata):\n",
      "\"prediction from a rank-deficient fit may be misleading\"Warning message in predict.lm(modelFit, newdata):\n",
      "\"prediction from a rank-deficient fit may be misleading\""
     ]
    },
    {
     "data": {
      "text/plain": [
       "Linear Regression \n",
       "\n",
       "951 samples\n",
       "228 predictors\n",
       "\n",
       "No pre-processing\n",
       "Resampling: Cross-Validated (10 fold) \n",
       "Summary of sample sizes: 856, 856, 855, 855, 857, 856, ... \n",
       "Resampling results:\n",
       "\n",
       "  RMSE       Rsquared   MAE      \n",
       "  0.6926348  0.8872058  0.5199216\n",
       "\n",
       "Tuning parameter 'intercept' was held constant at a value of TRUE"
      ]
     },
     "metadata": {},
     "output_type": "display_data"
    }
   ],
   "source": [
    "#caret wrapper\n",
    "library(caret)\n",
    "ctrl <- trainControl(method = \"cv\",number=10)\n",
    "set.seed(100)\n",
    "fit_lm_cv <- train(x=solTrainXtrans,y=solTrainY,method = \"lm\",trControl = ctrl)\n",
    "fit_lm_cv\n",
    "#prediction from a rank-deficient fit may be misleading"
   ]
  },
  {
   "cell_type": "code",
   "execution_count": 93,
   "metadata": {
    "collapsed": false
   },
   "outputs": [
    {
     "data": {
      "image/png": "[encoded data removed]",
      "text/plain": [
       "plot without title"
      ]
     },
     "metadata": {},
     "output_type": "display_data"
    }
   ],
   "source": [
    "p1 <- xyplot(resid(fit_lm_cv)~fit_lm_cv$finalModel$fitted.values,type=c(\"p\",\"g\"))\n",
    "p2 <- xyplot(fit_lm_cv$finalModel$fitted.values~solTrainY,alpha=0.4,type=c(\"p\",\"g\"))\n",
    "library(gridExtra)\n",
    "grid.arrange(p1, p2, ncol=2,nrow=2)   "
   ]
  },
  {
   "cell_type": "code",
   "execution_count": 94,
   "metadata": {
    "collapsed": false
   },
   "outputs": [],
   "source": [
    "#get rid of predictors with high correlations\n",
    "high_cor <- findCorrelation(cor(solTrainXtrans),.90)\n",
    "cor_info <- names(solTrainXtrans)[high_cor]\n",
    "trn_flt_cor <- solTrainXtrans[,-high_cor]\n",
    "#vld_flt_cor <- solTestXtrans[,-high_cor]"
   ]
  },
  {
   "cell_type": "code",
   "execution_count": 95,
   "metadata": {
    "collapsed": false
   },
   "outputs": [
    {
     "data": {
      "text/plain": [
       "Linear Regression \n",
       "\n",
       "951 samples\n",
       "190 predictors\n",
       "\n",
       "No pre-processing\n",
       "Resampling: Cross-Validated (10 fold) \n",
       "Summary of sample sizes: 856, 856, 855, 855, 857, 856, ... \n",
       "Resampling results:\n",
       "\n",
       "  RMSE       Rsquared   MAE      \n",
       "  0.6980579  0.8857871  0.5251033\n",
       "\n",
       "Tuning parameter 'intercept' was held constant at a value of TRUE"
      ]
     },
     "metadata": {},
     "output_type": "display_data"
    }
   ],
   "source": [
    "set.seed(100)\n",
    "fit_lm_flt <- train(x=trn_flt_cor,y=solTrainY,method = \"lm\",trControl = ctrl)\n",
    "fit_lm_flt"
   ]
  },
  {
   "cell_type": "code",
   "execution_count": 96,
   "metadata": {
    "collapsed": false
   },
   "outputs": [
    {
     "name": "stderr",
     "output_type": "stream",
     "text": [
      "Warning message in rlm.default(x, y, weights, method = method, wt.method = wt.method, :\n",
      "\"'rlm' failed to converge in 20 steps\"Warning message in rlm.default(x, y, weights, method = method, wt.method = wt.method, :\n",
      "\"'rlm' failed to converge in 20 steps\""
     ]
    },
    {
     "data": {
      "text/plain": [
       "Robust Linear Model \n",
       "\n",
       "951 samples\n",
       "228 predictors\n",
       "\n",
       "Pre-processing: principal component signal extraction (228), centered\n",
       " (228), scaled (228) \n",
       "Resampling: Cross-Validated (10 fold) \n",
       "Summary of sample sizes: 856, 856, 855, 855, 857, 856, ... \n",
       "Resampling results across tuning parameters:\n",
       "\n",
       "  intercept  psi           RMSE       Rsquared   MAE      \n",
       "  FALSE      psi.huber     2.8245812  0.8561008  2.7155082\n",
       "  FALSE      psi.hampel    2.8245118  0.8561763  2.7154817\n",
       "  FALSE      psi.bisquare  2.8244621  0.8562213  2.7154216\n",
       "   TRUE      psi.huber     0.7828457  0.8550937  0.5970333\n",
       "   TRUE      psi.hampel    0.7825426  0.8552118  0.5972415\n",
       "   TRUE      psi.bisquare  0.7903976  0.8524410  0.6016888\n",
       "\n",
       "RMSE was used to select the optimal model using the smallest value.\n",
       "The final values used for the model were intercept = TRUE and psi = psi.hampel."
      ]
     },
     "metadata": {},
     "output_type": "display_data"
    }
   ],
   "source": [
    "set.seed(100)\n",
    "fit_rlm_pca <- train(Solubility~.,data=trn,method = \"rlm\",preProcess=\"pca\",trControl = ctrl) \n",
    "fit_rlm_pca\n",
    "#'rlm' failed to converge in 20 steps"
   ]
  },
  {
   "cell_type": "markdown",
   "metadata": {},
   "source": [
    "## Partial Least Squares &#x1F4C8; \n"
   ]
  },
  {
   "cell_type": "code",
   "execution_count": 102,
   "metadata": {
    "collapsed": false,
    "scrolled": true
   },
   "outputs": [],
   "source": [
    "library(pls)\n",
    "fit_pls <- plsr(Solubility~.,data=trn)"
   ]
  },
  {
   "cell_type": "code",
   "execution_count": 103,
   "metadata": {
    "collapsed": false
   },
   "outputs": [
    {
     "data": {
      "text/html": [
       "0.518272416498934"
      ],
      "text/latex": [
       "0.518272416498934"
      ],
      "text/markdown": [
       "0.518272416498934"
      ],
      "text/plain": [
       "[1] 0.5182724"
      ]
     },
     "metadata": {},
     "output_type": "display_data"
    }
   ],
   "source": [
    "RMSE(pred = fit_pls$fitted.values,obs = trn$Solubility)"
   ]
  },
  {
   "cell_type": "code",
   "execution_count": 104,
   "metadata": {
    "collapsed": false
   },
   "outputs": [],
   "source": [
    "set.seed(100)\n",
    "fit_pls_cv <- train(solTrainXtrans,solTrainY,methon=\"pls\",\n",
    "                   tuneLength=20,trControl=trainControl(method = \"cv\",number=10),preProc=c(\"center\",\"scale\"))"
   ]
  },
  {
   "cell_type": "code",
   "execution_count": 107,
   "metadata": {
    "collapsed": false,
    "scrolled": true
   },
   "outputs": [
    {
     "data": {
      "text/plain": [
       "Random Forest \n",
       "\n",
       "951 samples\n",
       "228 predictors\n",
       "\n",
       "Pre-processing: centered (228), scaled (228) \n",
       "Resampling: Cross-Validated (10 fold) \n",
       "Summary of sample sizes: 856, 856, 855, 855, 857, 856, ... \n",
       "Resampling results across tuning parameters:\n",
       "\n",
       "  mtry  RMSE       Rsquared   MAE      \n",
       "    2   1.0505015  0.8224257  0.8142647\n",
       "   13   0.6933720  0.8904809  0.5148794\n",
       "   25   0.6696837  0.8953084  0.4896038\n",
       "   37   0.6640067  0.8958659  0.4811551\n",
       "   49   0.6589740  0.8972706  0.4784048\n",
       "   61   0.6559895  0.8977903  0.4739872\n",
       "   73   0.6548066  0.8978891  0.4745866\n",
       "   85   0.6551074  0.8976312  0.4734358\n",
       "   97   0.6555072  0.8972762  0.4769914\n",
       "  109   0.6582658  0.8962647  0.4768649\n",
       "  120   0.6547261  0.8973713  0.4728629\n",
       "  132   0.6582670  0.8959942  0.4769243\n",
       "  144   0.6558668  0.8969383  0.4756614\n",
       "  156   0.6545273  0.8971995  0.4757197\n",
       "  168   0.6572835  0.8961775  0.4765139\n",
       "  180   0.6532271  0.8975140  0.4741868\n",
       "  192   0.6570959  0.8963698  0.4764060\n",
       "  204   0.6597251  0.8954294  0.4776658\n",
       "  216   0.6585396  0.8956893  0.4780784\n",
       "  228   0.6579483  0.8958863  0.4778351\n",
       "\n",
       "RMSE was used to select the optimal model using the smallest value.\n",
       "The final value used for the model was mtry = 180."
      ]
     },
     "metadata": {},
     "output_type": "display_data"
    }
   ],
   "source": [
    "fit_pls_cv"
   ]
  },
  {
   "cell_type": "code",
   "execution_count": 109,
   "metadata": {
    "collapsed": false
   },
   "outputs": [
    {
     "data": {
      "text/html": [
       "0.64843562263764"
      ],
      "text/latex": [
       "0.64843562263764"
      ],
      "text/markdown": [
       "0.64843562263764"
      ],
      "text/plain": [
       "[1] 0.6484356"
      ]
     },
     "metadata": {},
     "output_type": "display_data"
    }
   ],
   "source": [
    "RMSE(pred = fit_pls_cv$finalModel$predicted,obs = solTrainY)"
   ]
  },
  {
   "cell_type": "code",
   "execution_count": 110,
   "metadata": {
    "collapsed": false,
    "scrolled": true
   },
   "outputs": [
    {
     "data": {},
     "metadata": {},
     "output_type": "display_data"
    },
    {
     "data": {
      "image/png": "[encoded data removed]",
      "text/plain": [
       "plot without title"
      ]
     },
     "metadata": {},
     "output_type": "display_data"
    }
   ],
   "source": [
    "plot(fit_pls_cv)"
   ]
  },
  {
   "cell_type": "markdown",
   "metadata": {},
   "source": [
    "## Penalized Regression Models"
   ]
  },
  {
   "cell_type": "code",
   "execution_count": 111,
   "metadata": {
    "collapsed": false,
    "scrolled": true
   },
   "outputs": [],
   "source": [
    "#ridge model\n",
    "library(elasticnet)\n",
    "fit_ridge <- enet(x=as.matrix(solTrainXtrans),y=solTrainY,lambda=0.001)"
   ]
  },
  {
   "cell_type": "code",
   "execution_count": 117,
   "metadata": {
    "collapsed": false
   },
   "outputs": [
    {
     "data": {
      "text/html": [
       "<dl class=dl-horizontal>\n",
       "\t<dt>20</dt>\n",
       "\t\t<dd>0.967955903193509</dd>\n",
       "\t<dt>21</dt>\n",
       "\t\t<dd>0.069185375125957</dd>\n",
       "\t<dt>23</dt>\n",
       "\t\t<dd>-0.543650769780824</dd>\n",
       "\t<dt>25</dt>\n",
       "\t\t<dd>0.960720140206449</dd>\n",
       "\t<dt>28</dt>\n",
       "\t\t<dd>-0.0359469288910113</dd>\n",
       "\t<dt>31</dt>\n",
       "\t\t<dd>1.59284535067315</dd>\n",
       "</dl>\n"
      ],
      "text/latex": [
       "\\begin{description*}\n",
       "\\item[20] 0.967955903193509\n",
       "\\item[21] 0.069185375125957\n",
       "\\item[23] -0.543650769780824\n",
       "\\item[25] 0.960720140206449\n",
       "\\item[28] -0.0359469288910113\n",
       "\\item[31] 1.59284535067315\n",
       "\\end{description*}\n"
      ],
      "text/markdown": [
       "20\n",
       ":   0.96795590319350921\n",
       ":   0.06918537512595723\n",
       ":   -0.54365076978082425\n",
       ":   0.96072014020644928\n",
       ":   -0.035946928891011331\n",
       ":   1.59284535067315\n",
       "\n"
      ],
      "text/plain": [
       "         20          21          23          25          28          31 \n",
       " 0.96795590  0.06918538 -0.54365077  0.96072014 -0.03594693  1.59284535 "
      ]
     },
     "metadata": {},
     "output_type": "display_data"
    },
    {
     "data": {
      "text/html": [
       "0.747797164052417"
      ],
      "text/latex": [
       "0.747797164052417"
      ],
      "text/markdown": [
       "0.747797164052417"
      ],
      "text/plain": [
       "[1] 0.7477972"
      ]
     },
     "metadata": {},
     "output_type": "display_data"
    }
   ],
   "source": [
    "pred_ridge <- predict(fit_ridge,newx = as.matrix(solTestXtrans),\n",
    "                      s=1,mode=\"fraction\",type=\"fit\")\n",
    "\n",
    "head(pred_ridge$fit)\n",
    "RMSE(pred = pred_ridge$fit,obs = solTestY)"
   ]
  },
  {
   "cell_type": "code",
   "execution_count": 118,
   "metadata": {
    "collapsed": true
   },
   "outputs": [],
   "source": [
    "#ridge model\n",
    "library(caret)\n",
    "grid_ridge <- data.frame(.lambda=seq(0,.1,length=15))\n",
    "set.seed(100)\n",
    "fit_ridge <- train(solTrainXtrans,solTrainY,method=\"ridge\",\n",
    "                  tuneGrid=grid_ridge,trControl=trainControl(method = \"cv\",number=10),\n",
    "                  preProc=c(\"center\",\"scale\"))"
   ]
  },
  {
   "cell_type": "code",
   "execution_count": 120,
   "metadata": {
    "collapsed": false,
    "scrolled": true
   },
   "outputs": [
    {
     "data": {
      "text/plain": [
       "Ridge Regression \n",
       "\n",
       "951 samples\n",
       "228 predictors\n",
       "\n",
       "Pre-processing: centered (228), scaled (228) \n",
       "Resampling: Cross-Validated (10 fold) \n",
       "Summary of sample sizes: 856, 856, 855, 855, 857, 856, ... \n",
       "Resampling results across tuning parameters:\n",
       "\n",
       "  lambda       RMSE       Rsquared   MAE      \n",
       "  0.000000000  0.6923558  0.8872977  0.5194817\n",
       "  0.007142857  0.6842051  0.8901855  0.5180204\n",
       "  0.014285714  0.6782572  0.8924345  0.5135023\n",
       "  0.021428571  0.6763196  0.8933364  0.5129646\n",
       "  0.028571429  0.6761659  0.8936611  0.5137609\n",
       "  0.035714286  0.6770285  0.8936769  0.5150076\n",
       "  0.042857143  0.6785555  0.8935075  0.5169778\n",
       "  0.050000000  0.6805575  0.8932196  0.5190373\n",
       "  0.057142857  0.6829220  0.8928530  0.5213703\n",
       "  0.064285714  0.6855755  0.8924331  0.5238093\n",
       "  0.071428571  0.6884742  0.8919761  0.5263585\n",
       "  0.078571429  0.6915802  0.8914943  0.5290529\n",
       "  0.085714286  0.6948706  0.8909958  0.5318508\n",
       "  0.092857143  0.6983276  0.8904864  0.5347012\n",
       "  0.100000000  0.7019378  0.8899703  0.5375828\n",
       "\n",
       "RMSE was used to select the optimal model using the smallest value.\n",
       "The final value used for the model was lambda = 0.02857143."
      ]
     },
     "metadata": {},
     "output_type": "display_data"
    }
   ],
   "source": [
    "(fit_ridge)"
   ]
  },
  {
   "cell_type": "code",
   "execution_count": 122,
   "metadata": {
    "collapsed": false
   },
   "outputs": [],
   "source": [
    "#lasso model\n",
    "library(elasticnet)\n",
    "fit_lasso <- enet(x=as.matrix(solTrainXtrans),y=solTrainY,lambda=0.01,normalize = T)"
   ]
  },
  {
   "cell_type": "code",
   "execution_count": 123,
   "metadata": {
    "collapsed": true
   },
   "outputs": [],
   "source": [
    "pred_lasso <- predict(fit_lasso,newx = as.matrix(solTestXtrans),\n",
    "                      s=.1,mode=\"fraction\",type=\"fit\")"
   ]
  },
  {
   "cell_type": "code",
   "execution_count": 124,
   "metadata": {
    "collapsed": false
   },
   "outputs": [
    {
     "data": {
      "text/html": [
       "<dl class=dl-horizontal>\n",
       "\t<dt>20</dt>\n",
       "\t\t<dd>-0.601861781342281</dd>\n",
       "\t<dt>21</dt>\n",
       "\t\t<dd>-0.422268135891271</dd>\n",
       "\t<dt>23</dt>\n",
       "\t\t<dd>-1.20465563689106</dd>\n",
       "\t<dt>25</dt>\n",
       "\t\t<dd>-1.23652963436191</dd>\n",
       "\t<dt>28</dt>\n",
       "\t\t<dd>-1.25023517295014</dd>\n",
       "\t<dt>31</dt>\n",
       "\t\t<dd>-0.0558763106961164</dd>\n",
       "</dl>\n"
      ],
      "text/latex": [
       "\\begin{description*}\n",
       "\\item[20] -0.601861781342281\n",
       "\\item[21] -0.422268135891271\n",
       "\\item[23] -1.20465563689106\n",
       "\\item[25] -1.23652963436191\n",
       "\\item[28] -1.25023517295014\n",
       "\\item[31] -0.0558763106961164\n",
       "\\end{description*}\n"
      ],
      "text/markdown": [
       "20\n",
       ":   -0.60186178134228121\n",
       ":   -0.42226813589127123\n",
       ":   -1.2046556368910625\n",
       ":   -1.2365296343619128\n",
       ":   -1.2502351729501431\n",
       ":   -0.0558763106961164\n",
       "\n"
      ],
      "text/plain": [
       "         20          21          23          25          28          31 \n",
       "-0.60186178 -0.42226814 -1.20465564 -1.23652963 -1.25023517 -0.05587631 "
      ]
     },
     "metadata": {},
     "output_type": "display_data"
    },
    {
     "data": {
      "text/html": [
       "1.13533085031782"
      ],
      "text/latex": [
       "1.13533085031782"
      ],
      "text/markdown": [
       "1.13533085031782"
      ],
      "text/plain": [
       "[1] 1.135331"
      ]
     },
     "metadata": {},
     "output_type": "display_data"
    }
   ],
   "source": [
    "head(pred_lasso$fit)\n",
    "RMSE(pred = pred_lasso$fit,obs = solTestY)"
   ]
  },
  {
   "cell_type": "code",
   "execution_count": 16,
   "metadata": {
    "collapsed": false
   },
   "outputs": [
    {
     "data": {
      "text/html": [
       "<dl class=dl-horizontal>\n",
       "\t<dt>NumChlorine</dt>\n",
       "\t\t<dd>0</dd>\n",
       "\t<dt>NumHalogen</dt>\n",
       "\t\t<dd>0</dd>\n",
       "\t<dt>NumRings</dt>\n",
       "\t\t<dd>0</dd>\n",
       "\t<dt>HydrophilicFactor</dt>\n",
       "\t\t<dd>0.126789665384432</dd>\n",
       "\t<dt>SurfaceArea1</dt>\n",
       "\t\t<dd>0.0903559553954462</dd>\n",
       "\t<dt>SurfaceArea2</dt>\n",
       "\t\t<dd>0</dd>\n",
       "</dl>\n"
      ],
      "text/latex": [
       "\\begin{description*}\n",
       "\\item[NumChlorine] 0\n",
       "\\item[NumHalogen] 0\n",
       "\\item[NumRings] 0\n",
       "\\item[HydrophilicFactor] 0.126789665384432\n",
       "\\item[SurfaceArea1] 0.0903559553954462\n",
       "\\item[SurfaceArea2] 0\n",
       "\\end{description*}\n"
      ],
      "text/markdown": [
       "NumChlorine\n",
       ":   0NumHalogen\n",
       ":   0NumRings\n",
       ":   0HydrophilicFactor\n",
       ":   0.126789665384432SurfaceArea1\n",
       ":   0.0903559553954462SurfaceArea2\n",
       ":   0\n",
       "\n"
      ],
      "text/plain": [
       "      NumChlorine        NumHalogen          NumRings HydrophilicFactor \n",
       "       0.00000000        0.00000000        0.00000000        0.12678967 \n",
       "     SurfaceArea1      SurfaceArea2 \n",
       "       0.09035596        0.00000000 "
      ]
     },
     "metadata": {},
     "output_type": "display_data"
    }
   ],
   "source": [
    "coef_lasso <- predict(fit_lasso,newx = as.matrix(solTestXtrans),\n",
    "                      s=.1,mode=\"fraction\",type=\"coefficients\")\n",
    "\n",
    "tail(coef_lasso$coefficients)"
   ]
  },
  {
   "cell_type": "code",
   "execution_count": 17,
   "metadata": {
    "collapsed": true
   },
   "outputs": [],
   "source": [
    "grid_net <- expand.grid(.lambda=c(0,0.01,.1),\n",
    "                       .fraction=seq(.05,1,length=20))\n",
    "set.seed(100)\n",
    "\n",
    "tune_net <- train(solTrainXtrans,solTrainY,method=\"enet\",\n",
    "                 tuneGrid=grid_net,trControl=trainControl(method = \"cv\",number=10),\n",
    "                 preProc=c(\"center\",\"scale\"))"
   ]
  },
  {
   "cell_type": "code",
   "execution_count": 18,
   "metadata": {
    "collapsed": false
   },
   "outputs": [
    {
     "data": {},
     "metadata": {},
     "output_type": "display_data"
    },
    {
     "data": {
      "image/png": "[encoded data removed]",
      "text/plain": [
       "plot without title"
      ]
     },
     "metadata": {},
     "output_type": "display_data"
    }
   ],
   "source": [
    "plot(tune_net)"
   ]
  }
 ],
 "metadata": {
  "anaconda-cloud": {},
  "kernelspec": {
   "display_name": "R",
   "language": "R",
   "name": "ir"
  },
  "language_info": {
   "codemirror_mode": "r",
   "file_extension": ".r",
   "mimetype": "text/x-r-source",
   "name": "R",
   "pygments_lexer": "r",
   "version": "3.5.0"
  },
  "toc": {
   "base_numbering": 1,
   "nav_menu": {},
   "number_sections": true,
   "sideBar": true,
   "skip_h1_title": false,
   "title_cell": "Table of Contents",
   "title_sidebar": "Contents",
   "toc_cell": false,
   "toc_position": {},
   "toc_section_display": true,
   "toc_window_display": false
  }
 },
 "nbformat": 4,
 "nbformat_minor": 1
}
