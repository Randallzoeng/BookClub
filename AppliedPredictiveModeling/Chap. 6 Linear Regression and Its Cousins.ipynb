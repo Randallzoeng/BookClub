{
 "cells": [
  {
   "cell_type": "markdown",
   "metadata": {},
   "source": [
    "# Computing\n",
    "## Ordinary LR\n"
   ]
  },
  {
   "cell_type": "code",
   "execution_count": 2,
   "metadata": {},
   "outputs": [],
   "source": [
    "library(caret)\n",
    "library(AppliedPredictiveModeling)\n",
    "data(solubility)"
   ]
  },
  {
   "cell_type": "code",
   "execution_count": 4,
   "metadata": {},
   "outputs": [
    {
     "data": {
      "text/html": [
       "<ol class=list-inline>\n",
       "\t<li>'solTestX'</li>\n",
       "\t<li>'solTestXtrans'</li>\n",
       "\t<li>'solTestY'</li>\n",
       "\t<li>'solTrainX'</li>\n",
       "\t<li>'solTrainXtrans'</li>\n",
       "\t<li>'solTrainY'</li>\n",
       "</ol>\n"
      ],
      "text/latex": [
       "\\begin{enumerate*}\n",
       "\\item 'solTestX'\n",
       "\\item 'solTestXtrans'\n",
       "\\item 'solTestY'\n",
       "\\item 'solTrainX'\n",
       "\\item 'solTrainXtrans'\n",
       "\\item 'solTrainY'\n",
       "\\end{enumerate*}\n"
      ],
      "text/markdown": [
       "1. 'solTestX'\n",
       "2. 'solTestXtrans'\n",
       "3. 'solTestY'\n",
       "4. 'solTrainX'\n",
       "5. 'solTrainXtrans'\n",
       "6. 'solTrainY'\n",
       "\n",
       "\n"
      ],
      "text/plain": [
       "[1] \"solTestX\"       \"solTestXtrans\"  \"solTestY\"       \"solTrainX\"     \n",
       "[5] \"solTrainXtrans\" \"solTrainY\"     "
      ]
     },
     "metadata": {},
     "output_type": "display_data"
    }
   ],
   "source": [
    "ls(pattern=(\"^solT\"))"
   ]
  }
 ],
 "metadata": {
  "kernelspec": {
   "display_name": "R",
   "language": "R",
   "name": "ir"
  },
  "language_info": {
   "codemirror_mode": "r",
   "file_extension": ".r",
   "mimetype": "text/x-r-source",
   "name": "R",
   "pygments_lexer": "r",
   "version": "3.4.3"
  },
  "latex_envs": {
   "LaTeX_envs_menu_present": true,
   "autocomplete": true,
   "bibliofile": "biblio.bib",
   "cite_by": "apalike",
   "current_citInitial": 1,
   "eqLabelWithNumbers": true,
   "eqNumInitial": 1,
   "hotkeys": {
    "equation": "Ctrl-E",
    "itemize": "Ctrl-I"
   },
   "labels_anchors": false,
   "latex_user_defs": false,
   "report_style_numbering": false,
   "user_envs_cfg": false
  },
  "toc": {
   "nav_menu": {},
   "number_sections": true,
   "sideBar": true,
   "skip_h1_title": false,
   "toc_cell": false,
   "toc_position": {},
   "toc_section_display": "block",
   "toc_window_display": false
  }
 },
 "nbformat": 4,
 "nbformat_minor": 2
}
