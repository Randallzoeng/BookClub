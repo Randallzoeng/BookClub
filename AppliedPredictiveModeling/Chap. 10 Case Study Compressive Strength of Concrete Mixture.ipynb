{
 "cells": [
  {
   "cell_type": "markdown",
   "metadata": {},
   "source": [
    "> This case study will focus on the prediction of optimal formulations of concrete mixture-based data from designed experiments."
   ]
  },
  {
   "cell_type": "code",
   "execution_count": 1,
   "metadata": {
    "scrolled": true
   },
   "outputs": [
    {
     "name": "stdout",
     "output_type": "stream",
     "text": [
      "'data.frame':\t1030 obs. of  9 variables:\n",
      " $ Cement             : num  540 540 332 332 199 ...\n",
      " $ BlastFurnaceSlag   : num  0 0 142 142 132 ...\n",
      " $ FlyAsh             : num  0 0 0 0 0 0 0 0 0 0 ...\n",
      " $ Water              : num  162 162 228 228 192 228 228 228 228 228 ...\n",
      " $ Superplasticizer   : num  2.5 2.5 0 0 0 0 0 0 0 0 ...\n",
      " $ CoarseAggregate    : num  1040 1055 932 932 978 ...\n",
      " $ FineAggregate      : num  676 676 594 594 826 ...\n",
      " $ Age                : int  28 28 270 365 360 90 365 28 28 28 ...\n",
      " $ CompressiveStrength: num  80 61.9 40.3 41 44.3 ...\n"
     ]
    }
   ],
   "source": [
    "library(AppliedPredictiveModeling)\n",
    "data(concrete)\n",
    "str(concrete)"
   ]
  },
  {
   "cell_type": "code",
   "execution_count": 2,
   "metadata": {
    "scrolled": false
   },
   "outputs": [
    {
     "name": "stdout",
     "output_type": "stream",
     "text": [
      "'data.frame':\t1030 obs. of  9 variables:\n",
      " $ Cement             : num  0.2231 0.2217 0.1492 0.1492 0.0853 ...\n",
      " $ BlastFurnaceSlag   : num  0 0 0.0639 0.0639 0.0569 ...\n",
      " $ FlyAsh             : num  0 0 0 0 0 0 0 0 0 0 ...\n",
      " $ Water              : num  0.0669 0.0665 0.1023 0.1023 0.0825 ...\n",
      " $ Superplasticizer   : num  0.00103 0.00103 0 0 0 ...\n",
      " $ CoarseAggregate    : num  0.43 0.433 0.418 0.418 0.42 ...\n",
      " $ FineAggregate      : num  0.279 0.278 0.266 0.266 0.355 ...\n",
      " $ Age                : int  28 28 270 365 360 90 365 28 28 28 ...\n",
      " $ CompressiveStrength: num  80 61.9 40.3 41 44.3 ...\n"
     ]
    }
   ],
   "source": [
    "str(mixtures)"
   ]
  },
  {
   "cell_type": "code",
   "execution_count": 3,
   "metadata": {
    "scrolled": true
   },
   "outputs": [
    {
     "name": "stderr",
     "output_type": "stream",
     "text": [
      "Loading required package: lattice\n",
      "Loading required package: survival\n",
      "Loading required package: Formula\n",
      "Loading required package: ggplot2\n",
      "\n",
      "Attaching package: 'Hmisc'\n",
      "\n",
      "The following objects are masked from 'package:base':\n",
      "\n",
      "    format.pval, units\n",
      "\n"
     ]
    },
    {
     "data": {
      "text/plain": [
       "concrete \n",
       "\n",
       " 9  Variables      1030  Observations\n",
       "--------------------------------------------------------------------------------\n",
       "Cement \n",
       "       n  missing distinct     Info     Mean      Gmd      .05      .10 \n",
       "    1030        0      278        1    281.2    118.5    143.7    153.5 \n",
       "     .25      .50      .75      .90      .95 \n",
       "   192.4    272.9    350.0    425.0    480.0 \n",
       "\n",
       "lowest : 102.0 108.3 116.0 122.6 132.0, highest: 522.0 525.0 528.0 531.3 540.0\n",
       "--------------------------------------------------------------------------------\n",
       "BlastFurnaceSlag \n",
       "       n  missing distinct     Info     Mean      Gmd      .05      .10 \n",
       "    1030        0      185    0.904     73.9    91.71      0.0      0.0 \n",
       "     .25      .50      .75      .90      .95 \n",
       "     0.0     22.0    142.9    192.0    236.0 \n",
       "\n",
       "lowest :   0.0  11.0  13.6  15.0  17.2, highest: 290.2 305.3 316.1 342.1 359.4\n",
       "--------------------------------------------------------------------------------\n",
       "FlyAsh \n",
       "       n  missing distinct     Info     Mean      Gmd      .05      .10 \n",
       "    1030        0      156    0.834    54.19    67.08      0.0      0.0 \n",
       "     .25      .50      .75      .90      .95 \n",
       "     0.0      0.0    118.3    141.1    167.0 \n",
       "\n",
       "lowest :   0.0  24.5  59.0  60.0  71.0, highest: 194.0 194.9 195.0 200.0 200.1\n",
       "--------------------------------------------------------------------------------\n",
       "Water \n",
       "       n  missing distinct     Info     Mean      Gmd      .05      .10 \n",
       "    1030        0      195    0.998    181.6    23.82    146.1    154.6 \n",
       "     .25      .50      .75      .90      .95 \n",
       "   164.9    185.0    192.0    203.5    228.0 \n",
       "\n",
       "lowest : 121.8 126.6 127.0 127.3 137.8, highest: 228.0 236.7 237.0 246.9 247.0\n",
       "--------------------------------------------------------------------------------\n",
       "Superplasticizer \n",
       "       n  missing distinct     Info     Mean      Gmd      .05      .10 \n",
       "    1030        0      111     0.95    6.205    6.426     0.00     0.00 \n",
       "     .25      .50      .75      .90      .95 \n",
       "    0.00     6.40    10.20    12.21    16.05 \n",
       "\n",
       "lowest :  0.0  1.7  1.9  2.0  2.2, highest: 22.0 22.1 23.4 28.2 32.2\n",
       "--------------------------------------------------------------------------------\n",
       "CoarseAggregate \n",
       "       n  missing distinct     Info     Mean      Gmd      .05      .10 \n",
       "    1030        0      284        1    972.9    88.55    842.0    852.1 \n",
       "     .25      .50      .75      .90      .95 \n",
       "   932.0    968.0   1029.4   1076.5   1104.0 \n",
       "\n",
       "lowest :  801.0  801.1  801.4  811.0  814.0, highest: 1124.4 1125.0 1130.0 1134.3 1145.0\n",
       "--------------------------------------------------------------------------------\n",
       "FineAggregate \n",
       "       n  missing distinct     Info     Mean      Gmd      .05      .10 \n",
       "    1030        0      302        1    773.6    89.87    613.0    664.1 \n",
       "     .25      .50      .75      .90      .95 \n",
       "   730.9    779.5    824.0    880.8    898.1 \n",
       "\n",
       "lowest : 594.0 605.0 611.8 612.0 613.0, highest: 925.7 942.0 943.1 945.0 992.6\n",
       "--------------------------------------------------------------------------------\n",
       "Age \n",
       "       n  missing distinct     Info     Mean      Gmd      .05      .10 \n",
       "    1030        0       14    0.925    45.66    50.89        3        3 \n",
       "     .25      .50      .75      .90      .95 \n",
       "       7       28       56      100      180 \n",
       "                                                                            \n",
       "Value          1     3     7    14    28    56    90    91   100   120   180\n",
       "Frequency      2   134   126    62   425    91    54    22    52     3    26\n",
       "Proportion 0.002 0.130 0.122 0.060 0.413 0.088 0.052 0.021 0.050 0.003 0.025\n",
       "                            \n",
       "Value        270   360   365\n",
       "Frequency     13     6    14\n",
       "Proportion 0.013 0.006 0.014\n",
       "--------------------------------------------------------------------------------\n",
       "CompressiveStrength \n",
       "       n  missing distinct     Info     Mean      Gmd      .05      .10 \n",
       "    1030        0      845        1    35.82    18.92    10.96    14.20 \n",
       "     .25      .50      .75      .90      .95 \n",
       "   23.71    34.45    46.14    58.82    66.80 \n",
       "\n",
       "lowest :  2.33  3.32  4.57  4.78  4.83, highest: 79.40 79.99 80.20 81.75 82.60\n",
       "--------------------------------------------------------------------------------"
      ]
     },
     "metadata": {},
     "output_type": "display_data"
    }
   ],
   "source": [
    "library(Hmisc)\n",
    "describe(concrete)"
   ]
  },
  {
   "cell_type": "code",
   "execution_count": 4,
   "metadata": {},
   "outputs": [
    {
     "data": {
      "text/html": [
       "FALSE"
      ],
      "text/latex": [
       "FALSE"
      ],
      "text/markdown": [
       "FALSE"
      ],
      "text/plain": [
       "[1] FALSE"
      ]
     },
     "metadata": {},
     "output_type": "display_data"
    }
   ],
   "source": [
    "#missng \n",
    "any(is.na(concrete))"
   ]
  },
  {
   "cell_type": "code",
   "execution_count": 5,
   "metadata": {
    "scrolled": false
   },
   "outputs": [
    {
     "name": "stderr",
     "output_type": "stream",
     "text": [
      "\n",
      "Attaching package: 'caret'\n",
      "\n",
      "The following object is masked from 'package:survival':\n",
      "\n",
      "    cluster\n",
      "\n"
     ]
    },
    {
     "data": {},
     "metadata": {},
     "output_type": "display_data"
    },
    {
     "data": {
      "image/png": "[encoded data removed]",
      "text/plain": [
       "plot without title"
      ]
     },
     "metadata": {},
     "output_type": "display_data"
    }
   ],
   "source": [
    "library(caret)\n",
    "featurePlot(x=concrete[,-9],y=concrete$CompressiveStrength,\n",
    "            between=list(x=1,y=1),type=c(\"g\",\"p\",\"smooth\"))"
   ]
  },
  {
   "cell_type": "markdown",
   "metadata": {},
   "source": [
    "remove duplicte observation, replace their CompressiveStrength with the average."
   ]
  },
  {
   "cell_type": "code",
   "execution_count": 6,
   "metadata": {
    "scrolled": false
   },
   "outputs": [
    {
     "name": "stderr",
     "output_type": "stream",
     "text": [
      "\n",
      "Attaching package: 'plyr'\n",
      "\n",
      "The following objects are masked from 'package:Hmisc':\n",
      "\n",
      "    is.discrete, summarize\n",
      "\n"
     ]
    },
    {
     "data": {
      "text/html": [
       "<table>\n",
       "<thead><tr><th scope=col>Cement</th><th scope=col>BlastFurnaceSlag</th><th scope=col>FlyAsh</th><th scope=col>Water</th><th scope=col>Superplasticizer</th><th scope=col>CoarseAggregate</th><th scope=col>FineAggregate</th><th scope=col>Age</th><th scope=col>CompressiveStrength</th></tr></thead>\n",
       "<tbody>\n",
       "\t<tr><td>0.22309440 </td><td>0.00000000 </td><td>0          </td><td>0.06692832 </td><td>0.001032844</td><td>0.4296633  </td><td>0.2792811  </td><td> 28        </td><td>79.99      </td></tr>\n",
       "\t<tr><td>0.22172039 </td><td>0.00000000 </td><td>0          </td><td>0.06651612 </td><td>0.001026483</td><td>0.4331759  </td><td>0.2775611  </td><td> 28        </td><td>61.89      </td></tr>\n",
       "\t<tr><td>0.14917003 </td><td>0.06393001 </td><td>0          </td><td>0.10228802 </td><td>0.000000000</td><td>0.4181247  </td><td>0.2664872  </td><td>270        </td><td>40.27      </td></tr>\n",
       "\t<tr><td>0.14917003 </td><td>0.06393001 </td><td>0          </td><td>0.10228802 </td><td>0.000000000</td><td>0.4181247  </td><td>0.2664872  </td><td>365        </td><td>41.05      </td></tr>\n",
       "\t<tr><td>0.08534961 </td><td>0.05689974 </td><td>0          </td><td>0.08251322 </td><td>0.000000000</td><td>0.4204736  </td><td>0.3547638  </td><td>360        </td><td>44.30      </td></tr>\n",
       "\t<tr><td>0.12036199 </td><td>0.05158371 </td><td>0          </td><td>0.10316742 </td><td>0.000000000</td><td>0.4217195  </td><td>0.3031674  </td><td> 90        </td><td>47.03      </td></tr>\n",
       "</tbody>\n",
       "</table>\n"
      ],
      "text/latex": [
       "\\begin{tabular}{r|lllllllll}\n",
       " Cement & BlastFurnaceSlag & FlyAsh & Water & Superplasticizer & CoarseAggregate & FineAggregate & Age & CompressiveStrength\\\\\n",
       "\\hline\n",
       "\t 0.22309440  & 0.00000000  & 0           & 0.06692832  & 0.001032844 & 0.4296633   & 0.2792811   &  28         & 79.99      \\\\\n",
       "\t 0.22172039  & 0.00000000  & 0           & 0.06651612  & 0.001026483 & 0.4331759   & 0.2775611   &  28         & 61.89      \\\\\n",
       "\t 0.14917003  & 0.06393001  & 0           & 0.10228802  & 0.000000000 & 0.4181247   & 0.2664872   & 270         & 40.27      \\\\\n",
       "\t 0.14917003  & 0.06393001  & 0           & 0.10228802  & 0.000000000 & 0.4181247   & 0.2664872   & 365         & 41.05      \\\\\n",
       "\t 0.08534961  & 0.05689974  & 0           & 0.08251322  & 0.000000000 & 0.4204736   & 0.3547638   & 360         & 44.30      \\\\\n",
       "\t 0.12036199  & 0.05158371  & 0           & 0.10316742  & 0.000000000 & 0.4217195   & 0.3031674   &  90         & 47.03      \\\\\n",
       "\\end{tabular}\n"
      ],
      "text/markdown": [
       "\n",
       "Cement | BlastFurnaceSlag | FlyAsh | Water | Superplasticizer | CoarseAggregate | FineAggregate | Age | CompressiveStrength | \n",
       "|---|---|---|---|---|---|\n",
       "| 0.22309440  | 0.00000000  | 0           | 0.06692832  | 0.001032844 | 0.4296633   | 0.2792811   |  28         | 79.99       | \n",
       "| 0.22172039  | 0.00000000  | 0           | 0.06651612  | 0.001026483 | 0.4331759   | 0.2775611   |  28         | 61.89       | \n",
       "| 0.14917003  | 0.06393001  | 0           | 0.10228802  | 0.000000000 | 0.4181247   | 0.2664872   | 270         | 40.27       | \n",
       "| 0.14917003  | 0.06393001  | 0           | 0.10228802  | 0.000000000 | 0.4181247   | 0.2664872   | 365         | 41.05       | \n",
       "| 0.08534961  | 0.05689974  | 0           | 0.08251322  | 0.000000000 | 0.4204736   | 0.3547638   | 360         | 44.30       | \n",
       "| 0.12036199  | 0.05158371  | 0           | 0.10316742  | 0.000000000 | 0.4217195   | 0.3031674   |  90         | 47.03       | \n",
       "\n",
       "\n"
      ],
      "text/plain": [
       "  Cement     BlastFurnaceSlag FlyAsh Water      Superplasticizer\n",
       "1 0.22309440 0.00000000       0      0.06692832 0.001032844     \n",
       "2 0.22172039 0.00000000       0      0.06651612 0.001026483     \n",
       "3 0.14917003 0.06393001       0      0.10228802 0.000000000     \n",
       "4 0.14917003 0.06393001       0      0.10228802 0.000000000     \n",
       "5 0.08534961 0.05689974       0      0.08251322 0.000000000     \n",
       "6 0.12036199 0.05158371       0      0.10316742 0.000000000     \n",
       "  CoarseAggregate FineAggregate Age CompressiveStrength\n",
       "1 0.4296633       0.2792811      28 79.99              \n",
       "2 0.4331759       0.2775611      28 61.89              \n",
       "3 0.4181247       0.2664872     270 40.27              \n",
       "4 0.4181247       0.2664872     365 41.05              \n",
       "5 0.4204736       0.3547638     360 44.30              \n",
       "6 0.4217195       0.3031674      90 47.03              "
      ]
     },
     "metadata": {},
     "output_type": "display_data"
    }
   ],
   "source": [
    "library(plyr)\n",
    "averaged <- ddply(mixtures,.(Cement,BlastFurnaceSlag,FlyAsh,Water,\n",
    "                            Superplasticizer,CoarseAggregate,FineAggregate,Age),\n",
    "                 function(x) c(CompressiveStrength=mean(x$CompressiveStrength)))\n",
    "                  \n",
    "head(averaged)"
   ]
  },
  {
   "cell_type": "code",
   "execution_count": 7,
   "metadata": {},
   "outputs": [],
   "source": [
    "set.seed(830)\n",
    "trn_id <- createDataPartition(averaged$CompressiveStrength,p=3/4)[[1]]\n",
    "trn <- averaged[trn_id,]\n",
    "vld <- averaged[-trn_id,]"
   ]
  },
  {
   "cell_type": "code",
   "execution_count": 8,
   "metadata": {},
   "outputs": [
    {
     "data": {},
     "metadata": {},
     "output_type": "display_data"
    },
    {
     "data": {
      "image/png": "[encoded data removed]",
      "text/plain": [
       "plot without title"
      ]
     },
     "metadata": {},
     "output_type": "display_data"
    }
   ],
   "source": [
    "#COR\n",
    "library(ggcorrplot)\n",
    "ggcorrplot(round(cor(trn),2), hc.order = TRUE, type = \"upper\", lab = TRUE,lab_size = 2.5)"
   ]
  },
  {
   "cell_type": "code",
   "execution_count": 9,
   "metadata": {},
   "outputs": [],
   "source": [
    "mdl_formula <- paste(\"CompressiveStrength ~ (.)^2 + I(Cement^2) + \",\n",
    " \"I(BlastFurnaceSlag^2) + I(FlyAsh^2) + I(Water^2) +\",\n",
    " \" I(Superplasticizer^2) + I(CoarseAggregate^2) + \",\n",
    " \"I(FineAggregate^2) + I(Age^2)\")\n",
    "mdl_formula <- as.formula(mdl_formula)"
   ]
  },
  {
   "cell_type": "code",
   "execution_count": 10,
   "metadata": {},
   "outputs": [],
   "source": [
    "library(parallel)\n",
    "setDefaultCluster(makeCluster(4))"
   ]
  },
  {
   "cell_type": "code",
   "execution_count": 11,
   "metadata": {
    "scrolled": true
   },
   "outputs": [],
   "source": [
    "ctrl <- trainControl(method = \"repeatedcv\",repeats = 5,number=10)"
   ]
  },
  {
   "cell_type": "code",
   "execution_count": 12,
   "metadata": {},
   "outputs": [
    {
     "data": {
      "text/plain": [
       "Linear Regression \n",
       "\n",
       "745 samples\n",
       "  8 predictor\n",
       "\n",
       "No pre-processing\n",
       "Resampling: Cross-Validated (10 fold, repeated 5 times) \n",
       "Summary of sample sizes: 670, 670, 670, 671, 669, 671, ... \n",
       "Resampling results:\n",
       "\n",
       "  RMSE      Rsquared   MAE     \n",
       "  7.723094  0.7855035  5.894151\n",
       "\n",
       "Tuning parameter 'intercept' was held constant at a value of TRUE"
      ]
     },
     "metadata": {},
     "output_type": "display_data"
    }
   ],
   "source": [
    "options(warn = -1)\n",
    "set.seed(830)\n",
    "fit_reg <- train(mdl_formula,data=trn,method = \"lm\",trControl=ctrl)\n",
    "fit_reg"
   ]
  },
  {
   "cell_type": "code",
   "execution_count": 13,
   "metadata": {
    "scrolled": true
   },
   "outputs": [
    {
     "data": {
      "text/plain": [
       "\n",
       "Call:\n",
       "lm(formula = .outcome ~ ., data = dat)\n",
       "\n",
       "Coefficients:\n",
       "                        (Intercept)                               Cement  \n",
       "                          3.869e+03                           -7.493e+03  \n",
       "                   BlastFurnaceSlag                               FlyAsh  \n",
       "                         -7.052e+03                           -7.065e+03  \n",
       "                              Water                     Superplasticizer  \n",
       "                         -6.788e+03                           -2.008e+03  \n",
       "                    CoarseAggregate                        FineAggregate  \n",
       "                         -7.109e+03                                   NA  \n",
       "                                Age                        `I(Cement^2)`  \n",
       "                          4.838e-01                            3.670e+03  \n",
       "            `I(BlastFurnaceSlag^2)`                        `I(FlyAsh^2)`  \n",
       "                          2.955e+03                            2.639e+03  \n",
       "                       `I(Water^2)`              `I(Superplasticizer^2)`  \n",
       "                          7.771e+03                           -3.185e+05  \n",
       "             `I(CoarseAggregate^2)`                 `I(FineAggregate^2)`  \n",
       "                          3.158e+03                           -4.438e+03  \n",
       "                         `I(Age^2)`            `Cement:BlastFurnaceSlag`  \n",
       "                         -6.272e-04                            6.836e+03  \n",
       "                    `Cement:FlyAsh`                       `Cement:Water`  \n",
       "                          6.981e+03                            4.085e+03  \n",
       "          `Cement:Superplasticizer`             `Cement:CoarseAggregate`  \n",
       "                          1.112e+04                            7.797e+03  \n",
       "             `Cement:FineAggregate`                         `Cement:Age`  \n",
       "                                 NA                           -2.632e-01  \n",
       "          `BlastFurnaceSlag:FlyAsh`             `BlastFurnaceSlag:Water`  \n",
       "                          6.491e+03                            5.832e+03  \n",
       "`BlastFurnaceSlag:Superplasticizer`   `BlastFurnaceSlag:CoarseAggregate`  \n",
       "                          1.881e+04                            6.446e+03  \n",
       "   `BlastFurnaceSlag:FineAggregate`               `BlastFurnaceSlag:Age`  \n",
       "                                 NA                            1.563e-01  \n",
       "                     `FlyAsh:Water`            `FlyAsh:Superplasticizer`  \n",
       "                          3.066e+03                           -2.527e+03  \n",
       "           `FlyAsh:CoarseAggregate`               `FlyAsh:FineAggregate`  \n",
       "                          6.843e+03                                   NA  \n",
       "                       `FlyAsh:Age`             `Water:Superplasticizer`  \n",
       "                          8.024e-01                           -1.875e+03  \n",
       "            `Water:CoarseAggregate`                `Water:FineAggregate`  \n",
       "                          3.542e+03                                   NA  \n",
       "                        `Water:Age`   `Superplasticizer:CoarseAggregate`  \n",
       "                          2.113e-01                                   NA  \n",
       "   `Superplasticizer:FineAggregate`               `Superplasticizer:Age`  \n",
       "                                 NA                            1.243e+01  \n",
       "    `CoarseAggregate:FineAggregate`                `CoarseAggregate:Age`  \n",
       "                                 NA                           -4.278e-01  \n",
       "                `FineAggregate:Age`  \n",
       "                                 NA  \n"
      ]
     },
     "metadata": {},
     "output_type": "display_data"
    }
   ],
   "source": [
    "# Warning message in predict.lm(modelFit, newdata):\n",
    "# \"prediction from a rank-deficient fit may be misleading\"Warning message in predict.lm(modelFit, newdata)\n",
    "#  Notice there is NA Coefficients for  some predictors\n",
    "fit_reg$finalModel"
   ]
  },
  {
   "cell_type": "code",
   "execution_count": 14,
   "metadata": {},
   "outputs": [
    {
     "data": {
      "text/plain": [
       "Partial Least Squares \n",
       "\n",
       "745 samples\n",
       "  8 predictor\n",
       "\n",
       "Pre-processing: centered (44), scaled (44) \n",
       "Resampling: Cross-Validated (10 fold, repeated 5 times) \n",
       "Summary of sample sizes: 670, 670, 670, 671, 669, 671, ... \n",
       "Resampling results across tuning parameters:\n",
       "\n",
       "  ncomp  RMSE       Rsquared   MAE     \n",
       "   1     10.646003  0.5928792  8.552908\n",
       "   2      9.785106  0.6577391  7.572928\n",
       "   3      9.096630  0.7013210  7.102892\n",
       "   4      8.798495  0.7207861  6.816094\n",
       "   5      8.665767  0.7290973  6.687399\n",
       "   6      8.547451  0.7370908  6.650636\n",
       "   7      8.349020  0.7500032  6.466054\n",
       "   8      8.223360  0.7575886  6.344237\n",
       "   9      8.015248  0.7698827  6.110232\n",
       "  10      7.846567  0.7789616  6.030790\n",
       "  11      7.775659  0.7827712  5.940950\n",
       "  12      7.757324  0.7835445  5.899578\n",
       "  13      7.739539  0.7842031  5.880909\n",
       "  14      7.720793  0.7851388  5.928504\n",
       "  15      7.705953  0.7864174  5.916551\n",
       "\n",
       "RMSE was used to select the optimal model using the smallest value.\n",
       "The final value used for the model was ncomp = 15."
      ]
     },
     "metadata": {},
     "output_type": "display_data"
    }
   ],
   "source": [
    "options(warn = 0)\n",
    "set.seed(830)\n",
    "fit_pls <- train(mdl_formula,data=trn,method = \"pls\",preProc=c(\"center\",\"scale\"),\n",
    "                 tuneLength=15,trControl=ctrl)\n",
    "fit_pls"
   ]
  },
  {
   "cell_type": "code",
   "execution_count": 15,
   "metadata": {
    "scrolled": true
   },
   "outputs": [
    {
     "data": {
      "text/plain": [
       "Elasticnet \n",
       "\n",
       "745 samples\n",
       "  8 predictor\n",
       "\n",
       "Pre-processing: centered (44), scaled (44) \n",
       "Resampling: Cross-Validated (10 fold, repeated 5 times) \n",
       "Summary of sample sizes: 670, 670, 670, 671, 669, 671, ... \n",
       "Resampling results across tuning parameters:\n",
       "\n",
       "  lambda  fraction  RMSE       Rsquared   MAE      \n",
       "  0.000   0.05       9.043607  0.7305465   7.023450\n",
       "  0.000   0.10       8.392551  0.7575808   6.495321\n",
       "  0.000   0.15       8.086971  0.7675736   6.230195\n",
       "  0.000   0.20       7.936305  0.7758592   6.102014\n",
       "  0.000   0.25       7.833346  0.7808990   6.013212\n",
       "  0.000   0.30       7.771949  0.7835726   5.952888\n",
       "  0.000   0.35       7.737510  0.7850356   5.914953\n",
       "  0.000   0.40       7.728285  0.7853525   5.906741\n",
       "  0.000   0.45       7.736562  0.7848193   5.909432\n",
       "  0.000   0.50       7.734757  0.7849131   5.907230\n",
       "  0.000   0.55       7.730327  0.7851484   5.903404\n",
       "  0.000   0.60       7.726634  0.7853395   5.899851\n",
       "  0.000   0.65       7.722952  0.7855363   5.896024\n",
       "  0.000   0.70       7.719735  0.7856997   5.892927\n",
       "  0.000   0.75       7.717686  0.7857977   5.890504\n",
       "  0.000   0.80       7.717013  0.7858305   5.889567\n",
       "  0.000   0.85       7.717981  0.7857781   5.890022\n",
       "  0.000   0.90       7.719999  0.7856660   5.891794\n",
       "  0.000   0.95       7.722276  0.7855418   5.893388\n",
       "  0.000   1.00       7.723157  0.7855001   5.894174\n",
       "  0.001   0.05      13.387537  0.5585473  10.737756\n",
       "  0.001   0.10      11.075440  0.6514181   8.859078\n",
       "  0.001   0.15       9.740157  0.6758384   7.722095\n",
       "  0.001   0.20       9.084589  0.7095290   7.113902\n",
       "  0.001   0.25       8.570501  0.7405187   6.676061\n",
       "  0.001   0.30       8.200116  0.7604461   6.358200\n",
       "  0.001   0.35       7.948047  0.7736151   6.139302\n",
       "  0.001   0.40       7.797492  0.7813812   6.000940\n",
       "  0.001   0.45       7.703812  0.7862932   5.911581\n",
       "  0.001   0.50       7.699145  0.7865384   5.894682\n",
       "  0.001   0.55       7.701256  0.7864600   5.892081\n",
       "  0.001   0.60       7.690935  0.7870438   5.882997\n",
       "  0.001   0.65       7.678875  0.7877079   5.872474\n",
       "  0.001   0.70       7.669652  0.7882241   5.863619\n",
       "  0.001   0.75       7.663475  0.7885697   5.857594\n",
       "  0.001   0.80       7.661536  0.7886908   5.854829\n",
       "  0.001   0.85       7.662408  0.7886631   5.853882\n",
       "  0.001   0.90       7.665899  0.7884928   5.854942\n",
       "  0.001   0.95       7.670454  0.7882555   5.857368\n",
       "  0.001   1.00       7.673955  0.7880739   5.859895\n",
       "  0.010   0.05      14.495005  0.5354530  11.670350\n",
       "  0.010   0.10      12.752138  0.5895504  10.181312\n",
       "  0.010   0.15      11.331795  0.6459944   9.053584\n",
       "  0.010   0.20      10.286075  0.6664692   8.234175\n",
       "  0.010   0.25       9.640643  0.6797403   7.631572\n",
       "  0.010   0.30       9.229103  0.7004446   7.244659\n",
       "  0.010   0.35       8.888078  0.7209798   6.943150\n",
       "  0.010   0.40       8.580449  0.7391359   6.679923\n",
       "  0.010   0.45       8.329350  0.7529325   6.466871\n",
       "  0.010   0.50       8.142755  0.7628423   6.306028\n",
       "  0.010   0.55       8.001701  0.7703010   6.182015\n",
       "  0.010   0.60       7.897471  0.7758274   6.092873\n",
       "  0.010   0.65       7.811341  0.7804265   6.018883\n",
       "  0.010   0.70       7.758265  0.7832561   5.968412\n",
       "  0.010   0.75       7.737619  0.7843848   5.943077\n",
       "  0.010   0.80       7.732440  0.7847095   5.933719\n",
       "  0.010   0.85       7.722529  0.7852761   5.922944\n",
       "  0.010   0.90       7.712211  0.7858553   5.912997\n",
       "  0.010   0.95       7.703892  0.7863281   5.905223\n",
       "  0.010   1.00       7.698376  0.7866463   5.899531\n",
       "  0.100   0.05      15.212470  0.5036924  12.264692\n",
       "  0.100   0.10      13.953868  0.5483579  11.227861\n",
       "  0.100   0.15      12.867883  0.5821975  10.290331\n",
       "  0.100   0.20      11.912832  0.6257948   9.504463\n",
       "  0.100   0.25      11.094158  0.6497665   8.880082\n",
       "  0.100   0.30      10.427449  0.6634958   8.359090\n",
       "  0.100   0.35       9.914429  0.6722947   7.912195\n",
       "  0.100   0.40       9.580375  0.6799586   7.586899\n",
       "  0.100   0.45       9.341340  0.6895944   7.332851\n",
       "  0.100   0.50       9.149588  0.7001067   7.125371\n",
       "  0.100   0.55       8.964277  0.7115512   6.952262\n",
       "  0.100   0.60       8.796491  0.7218462   6.807787\n",
       "  0.100   0.65       8.656375  0.7303730   6.692138\n",
       "  0.100   0.70       8.538430  0.7375622   6.599475\n",
       "  0.100   0.75       8.440006  0.7436316   6.523806\n",
       "  0.100   0.80       8.359213  0.7487357   6.461039\n",
       "  0.100   0.85       8.291959  0.7530990   6.408283\n",
       "  0.100   0.90       8.238086  0.7567128   6.363932\n",
       "  0.100   0.95       8.192944  0.7598632   6.323000\n",
       "  0.100   1.00       8.163442  0.7621046   6.293833\n",
       "\n",
       "RMSE was used to select the optimal model using the smallest value.\n",
       "The final values used for the model were fraction = 0.8 and lambda = 0.001."
      ]
     },
     "metadata": {},
     "output_type": "display_data"
    }
   ],
   "source": [
    "grid_enet <- expand.grid(\n",
    "    lambda=c(0,0.001,0.01,0.1),\n",
    "    fraction=seq(0.05,1,length=20))\n",
    "set.seed(830)\n",
    "fit_enet <- train(mdl_formula,data=trn,method = \"enet\",\n",
    "                 preProc=c(\"center\",\"scale\"),tuneGrid=grid_enet,trControl=ctrl)\n",
    "fit_enet"
   ]
  },
  {
   "cell_type": "code",
   "execution_count": 16,
   "metadata": {},
   "outputs": [
    {
     "data": {
      "text/html": [
       "<ol class=list-inline>\n",
       "\t<li>'Cement'</li>\n",
       "\t<li>'BlastFurnaceSlag'</li>\n",
       "\t<li>'FlyAsh'</li>\n",
       "\t<li>'Water'</li>\n",
       "\t<li>'Superplasticizer'</li>\n",
       "\t<li>'CoarseAggregate'</li>\n",
       "\t<li>'FineAggregate'</li>\n",
       "\t<li>'Age'</li>\n",
       "\t<li>'CompressiveStrength'</li>\n",
       "</ol>\n"
      ],
      "text/latex": [
       "\\begin{enumerate*}\n",
       "\\item 'Cement'\n",
       "\\item 'BlastFurnaceSlag'\n",
       "\\item 'FlyAsh'\n",
       "\\item 'Water'\n",
       "\\item 'Superplasticizer'\n",
       "\\item 'CoarseAggregate'\n",
       "\\item 'FineAggregate'\n",
       "\\item 'Age'\n",
       "\\item 'CompressiveStrength'\n",
       "\\end{enumerate*}\n"
      ],
      "text/markdown": [
       "1. 'Cement'\n",
       "2. 'BlastFurnaceSlag'\n",
       "3. 'FlyAsh'\n",
       "4. 'Water'\n",
       "5. 'Superplasticizer'\n",
       "6. 'CoarseAggregate'\n",
       "7. 'FineAggregate'\n",
       "8. 'Age'\n",
       "9. 'CompressiveStrength'\n",
       "\n",
       "\n"
      ],
      "text/plain": [
       "[1] \"Cement\"              \"BlastFurnaceSlag\"    \"FlyAsh\"             \n",
       "[4] \"Water\"               \"Superplasticizer\"    \"CoarseAggregate\"    \n",
       "[7] \"FineAggregate\"       \"Age\"                 \"CompressiveStrength\""
      ]
     },
     "metadata": {},
     "output_type": "display_data"
    }
   ],
   "source": [
    "names(trn)"
   ]
  },
  {
   "cell_type": "code",
   "execution_count": 17,
   "metadata": {
    "scrolled": true
   },
   "outputs": [
    {
     "name": "stderr",
     "output_type": "stream",
     "text": [
      "Loading required package: earth\n",
      "Loading required package: plotmo\n",
      "Loading required package: plotrix\n",
      "Loading required package: TeachingDemos\n",
      "\n",
      "Attaching package: 'TeachingDemos'\n",
      "\n",
      "The following objects are masked from 'package:Hmisc':\n",
      "\n",
      "    cnvrt.coords, subplot\n",
      "\n"
     ]
    },
    {
     "data": {
      "text/plain": [
       "Multivariate Adaptive Regression Spline \n",
       "\n",
       "745 samples\n",
       "  8 predictor\n",
       "\n",
       "No pre-processing\n",
       "Resampling: Cross-Validated (10 fold, repeated 5 times) \n",
       "Summary of sample sizes: 670, 670, 670, 671, 669, 671, ... \n",
       "Resampling results across tuning parameters:\n",
       "\n",
       "  nprune  RMSE       Rsquared   MAE      \n",
       "   2      13.500824  0.3435302  10.696381\n",
       "   3      11.223251  0.5456629   8.888472\n",
       "   4       9.796802  0.6539865   7.848132\n",
       "   5       7.992045  0.7700922   6.252316\n",
       "   6       7.649110  0.7903590   5.877639\n",
       "   7       7.456397  0.8009835   5.732450\n",
       "   8       7.136318  0.8175005   5.536865\n",
       "   9       6.940526  0.8276724   5.385208\n",
       "  10       6.810061  0.8340687   5.282641\n",
       "  11       6.674129  0.8407660   5.179942\n",
       "  12       6.619980  0.8432594   5.153062\n",
       "  13       6.555531  0.8459330   5.117922\n",
       "  14       6.513455  0.8478637   5.113572\n",
       "  15       6.519875  0.8474393   5.107206\n",
       "  16       6.515150  0.8477609   5.103737\n",
       "  17       6.516516  0.8477047   5.103780\n",
       "  18       6.516516  0.8477047   5.103780\n",
       "  19       6.516516  0.8477047   5.103780\n",
       "  20       6.516516  0.8477047   5.103780\n",
       "  21       6.516516  0.8477047   5.103780\n",
       "  22       6.516516  0.8477047   5.103780\n",
       "  23       6.516516  0.8477047   5.103780\n",
       "  24       6.516516  0.8477047   5.103780\n",
       "  25       6.516516  0.8477047   5.103780\n",
       "\n",
       "Tuning parameter 'degree' was held constant at a value of 1\n",
       "RMSE was used to select the optimal model using the smallest value.\n",
       "The final values used for the model were nprune = 14 and degree = 1."
      ]
     },
     "metadata": {},
     "output_type": "display_data"
    }
   ],
   "source": [
    "grid_mars <- expand.grid(\n",
    "                        degree=1,\n",
    "                        nprune=2:25)\n",
    "set.seed(830)\n",
    "fit_mars <- train(CompressiveStrength~.,data=trn,method = \"earth\",\n",
    "                 tuneGrid=grid_mars,trControl=ctrl)\n",
    "fit_mars"
   ]
  },
  {
   "cell_type": "code",
   "execution_count": 18,
   "metadata": {
    "scrolled": false
   },
   "outputs": [
    {
     "data": {
      "text/plain": [
       "Support Vector Machines with Radial Basis Function Kernel \n",
       "\n",
       "745 samples\n",
       "  8 predictor\n",
       "\n",
       "Pre-processing: centered (8), scaled (8) \n",
       "Resampling: Cross-Validated (10 fold, repeated 5 times) \n",
       "Summary of sample sizes: 670, 670, 670, 671, 669, 671, ... \n",
       "Resampling results across tuning parameters:\n",
       "\n",
       "  C        RMSE      Rsquared   MAE     \n",
       "     0.25  7.758305  0.7956263  5.822621\n",
       "     0.50  7.058754  0.8253142  5.175484\n",
       "     1.00  6.547014  0.8471955  4.744021\n",
       "     2.00  6.252487  0.8599369  4.482242\n",
       "     4.00  6.064011  0.8679589  4.279206\n",
       "     8.00  6.015191  0.8697259  4.191704\n",
       "    16.00  5.957705  0.8722348  4.104620\n",
       "    32.00  6.027202  0.8689867  4.096498\n",
       "    64.00  6.150089  0.8647463  4.116593\n",
       "   128.00  6.499282  0.8503728  4.181553\n",
       "   256.00  6.964640  0.8304998  4.311861\n",
       "   512.00  7.489037  0.8061010  4.477959\n",
       "  1024.00  8.019207  0.7813757  4.609247\n",
       "  2048.00  9.040122  0.7407688  4.877798\n",
       "  4096.00  9.831002  0.7102284  5.181206\n",
       "\n",
       "Tuning parameter 'sigma' was held constant at a value of 0.1332793\n",
       "RMSE was used to select the optimal model using the smallest value.\n",
       "The final values used for the model were sigma = 0.1332793 and C = 16."
      ]
     },
     "metadata": {},
     "output_type": "display_data"
    }
   ],
   "source": [
    "set.seed(830)\n",
    "fit_svm <- train(CompressiveStrength~.,data=trn,method = \"svmRadial\",\n",
    "                tuneLength=15,preProcess=c(\"center\",\"scale\"),trControl=ctrl)\n",
    "fit_svm"
   ]
  },
  {
   "cell_type": "code",
   "execution_count": 19,
   "metadata": {},
   "outputs": [],
   "source": [
    "# library(doParallel)\n",
    "# registerDoParallel(makeCluster(4))"
   ]
  },
  {
   "cell_type": "code",
   "execution_count": 20,
   "metadata": {},
   "outputs": [],
   "source": [
    "# grid_nnet <- expand.grid(\n",
    "#                         decay=c(0.001,0.01,0.1),\n",
    "#                         size=seq(1,27,by=2),\n",
    "#                         bag=F)\n",
    "# set.seed(830)\n",
    "# fit_nnet <- train(CompressiveStrength~.,data=trn,method = \"avNNet\",\n",
    "#                  tuneGrid=grid_nnet,preProc=c(\"center\",\"scale\"),linout=T,trace=F,\n",
    "#                  maxit=1000,trControl=ctrl)\n",
    "# fit_nnet"
   ]
  },
  {
   "cell_type": "code",
   "execution_count": 21,
   "metadata": {},
   "outputs": [
    {
     "name": "stderr",
     "output_type": "stream",
     "text": [
      "Warning message in nominalTrainWorkflow(x = x, y = y, wts = weights, info = trainInfo, :\n",
      "\"There were missing values in resampled performance measures.\""
     ]
    },
    {
     "data": {
      "text/plain": [
       "CART \n",
       "\n",
       "745 samples\n",
       "  8 predictor\n",
       "\n",
       "No pre-processing\n",
       "Resampling: Cross-Validated (10 fold, repeated 5 times) \n",
       "Summary of sample sizes: 670, 670, 670, 671, 669, 671, ... \n",
       "Resampling results across tuning parameters:\n",
       "\n",
       "  cp           RMSE       Rsquared   MAE      \n",
       "  0.002869803   8.067821  0.7680317   6.049557\n",
       "  0.003332754   8.171794  0.7616754   6.151020\n",
       "  0.003462693   8.226855  0.7583330   6.210676\n",
       "  0.003538681   8.239693  0.7574260   6.234116\n",
       "  0.003670441   8.257961  0.7559857   6.272669\n",
       "  0.003673378   8.257961  0.7559857   6.272669\n",
       "  0.003675547   8.257961  0.7559857   6.272669\n",
       "  0.003876633   8.311727  0.7528601   6.348338\n",
       "  0.003953450   8.335948  0.7512623   6.379034\n",
       "  0.004447775   8.410564  0.7465171   6.451155\n",
       "  0.004534129   8.421435  0.7459594   6.467940\n",
       "  0.006356231   8.597538  0.7351584   6.640891\n",
       "  0.007497285   8.754423  0.7252564   6.760053\n",
       "  0.007881531   8.788451  0.7232332   6.787003\n",
       "  0.008693256   8.937846  0.7139074   6.921211\n",
       "  0.009176291   8.990968  0.7107274   6.971718\n",
       "  0.009302030   9.016048  0.7090569   7.004823\n",
       "  0.010861022   9.217714  0.6957865   7.194715\n",
       "  0.013297291   9.523765  0.6755859   7.431849\n",
       "  0.014410182   9.726907  0.6619377   7.592081\n",
       "  0.014716344   9.802970  0.6564572   7.652477\n",
       "  0.014815771   9.807663  0.6559305   7.655526\n",
       "  0.017705639   9.940580  0.6459138   7.779878\n",
       "  0.020034504  10.190753  0.6273424   7.967863\n",
       "  0.023546691  10.635155  0.5938626   8.324402\n",
       "  0.056220169  11.502289  0.5220467   9.087128\n",
       "  0.060109189  11.871888  0.4915692   9.427868\n",
       "  0.104625554  12.962154  0.3944887  10.411657\n",
       "  0.157512419  13.932525  0.2993070  11.216756\n",
       "  0.244458209  15.931703  0.1873209  12.765127\n",
       "\n",
       "RMSE was used to select the optimal model using the smallest value.\n",
       "The final value used for the model was cp = 0.002869803."
      ]
     },
     "metadata": {},
     "output_type": "display_data"
    }
   ],
   "source": [
    "set.seed(830)\n",
    "fit_cart <- train(CompressiveStrength~.,data=trn,method = \"rpart\",\n",
    "                  tuneLength=30,trControl=ctrl)\n",
    "fit_cart"
   ]
  },
  {
   "cell_type": "code",
   "execution_count": 22,
   "metadata": {},
   "outputs": [
    {
     "data": {
      "text/plain": [
       "Conditional Inference Tree \n",
       "\n",
       "745 samples\n",
       "  8 predictor\n",
       "\n",
       "No pre-processing\n",
       "Resampling: Cross-Validated (10 fold, repeated 5 times) \n",
       "Summary of sample sizes: 670, 670, 670, 671, 669, 671, ... \n",
       "Resampling results across tuning parameters:\n",
       "\n",
       "  mincriterion  RMSE      Rsquared   MAE     \n",
       "  0.0100000     7.546712  0.7959043  5.549475\n",
       "  0.1188889     7.550461  0.7957627  5.548815\n",
       "  0.2277778     7.567434  0.7948229  5.552689\n",
       "  0.3366667     7.577759  0.7941936  5.568045\n",
       "  0.4455556     7.591666  0.7935142  5.579780\n",
       "  0.5544444     7.632000  0.7912707  5.608720\n",
       "  0.6633333     7.707678  0.7869606  5.644928\n",
       "  0.7722222     7.787750  0.7827052  5.693627\n",
       "  0.8811111     8.016411  0.7691871  5.900378\n",
       "  0.9900000     8.302413  0.7519279  6.212522\n",
       "\n",
       "RMSE was used to select the optimal model using the smallest value.\n",
       "The final value used for the model was mincriterion = 0.01."
      ]
     },
     "metadata": {},
     "output_type": "display_data"
    }
   ],
   "source": [
    "set.seed(830)\n",
    "fit_ctree <- train(CompressiveStrength~.,data=trn,method = \"ctree\",\n",
    "                  tuneLength=10,trControl=ctrl)\n",
    "fit_ctree"
   ]
  },
  {
   "cell_type": "code",
   "execution_count": 23,
   "metadata": {},
   "outputs": [
    {
     "data": {
      "text/plain": [
       "Model Tree \n",
       "\n",
       "745 samples\n",
       "  8 predictor\n",
       "\n",
       "No pre-processing\n",
       "Resampling: Cross-Validated (10 fold, repeated 5 times) \n",
       "Summary of sample sizes: 670, 670, 670, 671, 669, 671, ... \n",
       "Resampling results across tuning parameters:\n",
       "\n",
       "  pruned  smoothed  rules  RMSE      Rsquared   MAE     \n",
       "  Yes     Yes       Yes    6.679636  0.8391076  4.954855\n",
       "  Yes     Yes       No     6.444770  0.8506178  4.822375\n",
       "  Yes     No        Yes    6.765694  0.8359345  4.986868\n",
       "  Yes     No        No     6.612878  0.8436728  4.829081\n",
       "  No      Yes       Yes    6.805889  0.8361139  5.038249\n",
       "  No      Yes       No     5.720781  0.8830717  4.288601\n",
       "  No      No        Yes    8.427934  0.7530465  5.897120\n",
       "  No      No        No     6.987722  0.8289347  4.894693\n",
       "\n",
       "RMSE was used to select the optimal model using the smallest value.\n",
       "The final values used for the model were pruned = No, smoothed = Yes and\n",
       " rules = No."
      ]
     },
     "metadata": {},
     "output_type": "display_data"
    }
   ],
   "source": [
    "set.seed(830)\n",
    "fit_mdtree <- train(CompressiveStrength~.,data=trn,method = \"M5\",\n",
    "                   trControl=ctrl)\n",
    "fit_mdtree"
   ]
  },
  {
   "cell_type": "code",
   "execution_count": 24,
   "metadata": {},
   "outputs": [],
   "source": [
    "set.seed(830)\n",
    "fit_cartBag <- train(CompressiveStrength~.,data=trn,method = \"treebag\",\n",
    "                   trControl=ctrl)"
   ]
  },
  {
   "cell_type": "code",
   "execution_count": 25,
   "metadata": {},
   "outputs": [
    {
     "name": "stdout",
     "output_type": "stream",
     "text": [
      "note: only 7 unique complexity parameters in default grid. Truncating the grid to 7 .\n",
      "\n"
     ]
    }
   ],
   "source": [
    "set.seed(830)\n",
    "fit_rf <- train(CompressiveStrength~.,data=trn,method = \"rf\",\n",
    "               tuneLength=10,ntree=1000,importance=T,trControl=ctrl)"
   ]
  },
  {
   "cell_type": "code",
   "execution_count": 41,
   "metadata": {
    "scrolled": true
   },
   "outputs": [],
   "source": [
    "set.seed(830)\n",
    "grid_gbm <- expand.grid(\n",
    "                        n.trees=seq(100,1000,by=50),\n",
    "                        interaction.depth=seq(1,7,by=2), \n",
    "                        shrinkage=c(0.01, 0.1), \n",
    "                        n.minobsinnode=c(10,20))\n",
    "fit_gbm <- train(CompressiveStrength~.,data=trn,method = \"gbm\",\n",
    "                tuneGrid=grid_gbm,verbose=F,trControl=ctrl)"
   ]
  },
  {
   "cell_type": "markdown",
   "metadata": {},
   "source": [
    "http://r.789695.n4.nabble.com/caret-Error-when-using-rpart-and-CV-LOOCV-td4630073.html\n",
    "\n",
    "https://github.com/topepo/caret/issues/66#issuecomment-61413107\n",
    "\n",
    "\\begin{remark}\n",
    "Warning message in nominalTrainWorkflow(x = x, y = y, wts = weights, info = trainInfo, :\n",
    "\"There were missing values in resampled performance measures.\"Warning message in train.default(x, y, weights = w, ...):\n",
    "\"missing values found in aggregated results\"\n",
    "\\end{remark}\n"
   ]
  },
  {
   "cell_type": "code",
   "execution_count": 30,
   "metadata": {},
   "outputs": [],
   "source": [
    "set.seed(830)\n",
    "grid_cubist <- expand.grid(\n",
    "                           committees=c(1,5,10,50,75,100),\n",
    "                           neighbors=c(0,1,3,5,7,9)\n",
    "                          )\n",
    "fit_cubist <- train(CompressiveStrength~.,data=trn,method = \"cubist\",\n",
    "                   tuneGrid=grid_cubist,trControl=ctrl)"
   ]
  },
  {
   "cell_type": "markdown",
   "metadata": {},
   "source": [
    "- &#x1F4C8;Linear Regression and Its Cousins\n",
    "    - Linear Reg.\n",
    "    - PLS\n",
    "    - Ridge\n",
    "    - Elastic Net\n",
    "- &#x1F30C;Nonlinear Regression Models\n",
    "    - Neural Net\n",
    "    - MARS\n",
    "    - SVM\n",
    "    - KNN\n",
    "- &#x1F384;Regression Trees and Rule-Based Models\n",
    "    - Tree\n",
    "    - Cond. Tree\n",
    "    - Bagged Cond. Tree\n",
    "    - M5\n",
    "    - Random Forest\n",
    "    - Cond. Random Forest\n",
    "    - Boosted Tree\n",
    "    - Cubist"
   ]
  },
  {
   "cell_type": "code",
   "execution_count": 74,
   "metadata": {},
   "outputs": [],
   "source": [
    "fit_resamples <- resamples(list(\n",
    "                                \"nnet\"= fit_nnet,\n",
    "                                \"Linear Reg\" = fit_reg,\n",
    "                               \"PLS\"=fit_pls,\n",
    "                               \"ElasticNet\"=fit_enet,\n",
    "                               \"MARS\"=fit_mars,\n",
    "                               \"SVM\"=fit_svm,\n",
    "                               \"CART\"=fit_cart,\n",
    "                               \"CondTree\"=fit_ctree,\n",
    "                               \"BaggedTree\"=fit_cartBag,\n",
    "                               \"BoostedTree\"=fit_gbm,\n",
    "                               \"RF\"=fit_rf,\n",
    "                               \"Cubist\"=fit_cubist,\n",
    "                               \"MTree\"=fit_mdtree))"
   ]
  },
  {
   "cell_type": "code",
   "execution_count": 75,
   "metadata": {
    "scrolled": true
   },
   "outputs": [
    {
     "data": {
      "image/png": "[encoded data removed]",
      "text/plain": [
       "plot without title"
      ]
     },
     "metadata": {},
     "output_type": "display_data"
    }
   ],
   "source": [
    "\n",
    "p1 <- bwplot(fit_resamples,metric = \"RMSE\")\n",
    "p2 <- bwplot(fit_resamples,metric = \"Rsquared\")\n",
    "\n",
    "library(gridExtra)\n",
    "grid.arrange(p1,p2)"
   ]
  },
  {
   "cell_type": "code",
   "execution_count": 54,
   "metadata": {},
   "outputs": [],
   "source": [
    "pred_gbm <- predict(fit_gbm,vld)\n",
    "pred_cubist <- predict(fit_cubist,vld)\n",
    "pred_rf <- predict(fit_rf,vld)"
   ]
  },
  {
   "cell_type": "code",
   "execution_count": 70,
   "metadata": {
    "scrolled": true
   },
   "outputs": [
    {
     "data": {
      "image/png": "[encoded data removed]",
      "text/plain": [
       "plot without title"
      ]
     },
     "metadata": {},
     "output_type": "display_data"
    }
   ],
   "source": [
    "library(ggplot2)\n",
    "library(ggthemes)\n",
    "#pred vs. obs\n",
    "p3 <- ggplot(aes(x=pred_gbm,y=vld$CompressiveStrength),data=vld) + geom_point() + theme_few()\n",
    "#pred vs rsd\n",
    "p4 <- ggplot(aes(x=pred_gbm,y=(pred_gbm-vld$CompressiveStrength)),data=vld) + geom_point() + theme_few()\n",
    "\n",
    "grid.arrange(p3,p4,ncol=2,nrow=2)"
   ]
  },
  {
   "cell_type": "code",
   "execution_count": 71,
   "metadata": {},
   "outputs": [],
   "source": [
    "nnetGrid <- expand.grid(decay = c(0.001, .01, .1), \n",
    "                        size = seq(1, 27, by = 2), \n",
    "                        bag = FALSE)\n",
    "set.seed(830)\n",
    "fit_nnet <- train(CompressiveStrength ~ .,\n",
    "                 data = trn,\n",
    "                 method = \"avNNet\",\n",
    "                 tuneGrid = nnetGrid,\n",
    "                 preProc = c(\"center\", \"scale\"),\n",
    "                 linout = TRUE,\n",
    "                 trace = FALSE,\n",
    "                 maxit = 1000,\n",
    "                 allowParallel = FALSE,\n",
    "                 trControl = ctrl)"
   ]
  },
  {
   "cell_type": "code",
   "execution_count": 72,
   "metadata": {},
   "outputs": [
    {
     "data": {
      "text/plain": [
       "Model Averaged Neural Network \n",
       "\n",
       "745 samples\n",
       "  8 predictor\n",
       "\n",
       "Pre-processing: centered (8), scaled (8) \n",
       "Resampling: Cross-Validated (10 fold, repeated 5 times) \n",
       "Summary of sample sizes: 670, 670, 670, 671, 669, 671, ... \n",
       "Resampling results across tuning parameters:\n",
       "\n",
       "  decay  size  RMSE      Rsquared   MAE     \n",
       "  0.001   1    9.162560  0.6979072  6.972290\n",
       "  0.001   3    6.433911  0.8511302  4.968576\n",
       "  0.001   5    5.897691  0.8752733  4.489969\n",
       "  0.001   7    5.548161  0.8890673  4.157716\n",
       "  0.001   9    5.346921  0.8968569  3.926222\n",
       "  0.001  11    5.165247  0.9036741  3.767470\n",
       "  0.001  13    4.993546  0.9109208  3.642731\n",
       "  0.001  15    4.978274  0.9110619  3.619741\n",
       "  0.001  17    4.971936  0.9108706  3.618239\n",
       "  0.001  19    4.929162  0.9126371  3.574927\n",
       "  0.001  21    4.871774  0.9145398  3.509896\n",
       "  0.001  23    4.729101  0.9194659  3.412014\n",
       "  0.001  25    4.759064  0.9186684  3.377826\n",
       "  0.001  27    4.795051  0.9165852  3.419116\n",
       "  0.010   1    9.158408  0.6979078  6.971048\n",
       "  0.010   3    6.424077  0.8510555  4.966035\n",
       "  0.010   5    5.911730  0.8743907  4.522578\n",
       "  0.010   7    5.570219  0.8880960  4.156614\n",
       "  0.010   9    5.310692  0.8985226  3.922515\n",
       "  0.010  11    5.131731  0.9046301  3.735577\n",
       "  0.010  13    5.071112  0.9069214  3.663047\n",
       "  0.010  15    5.033025  0.9084387  3.642148\n",
       "  0.010  17    4.963416  0.9108817  3.608136\n",
       "  0.010  19    4.957271  0.9116516  3.580794\n",
       "  0.010  21    4.874207  0.9143810  3.500587\n",
       "  0.010  23    4.810725  0.9162255  3.415930\n",
       "  0.010  25    4.706777  0.9202372  3.333772\n",
       "  0.010  27    4.763261  0.9183917  3.346169\n",
       "  0.100   1    9.158743  0.6978786  6.976648\n",
       "  0.100   3    6.484461  0.8485522  5.025262\n",
       "  0.100   5    5.930302  0.8735171  4.544376\n",
       "  0.100   7    5.535151  0.8896449  4.173060\n",
       "  0.100   9    5.337939  0.8976367  3.925924\n",
       "  0.100  11    5.155755  0.9037427  3.776169\n",
       "  0.100  13    4.985545  0.9107125  3.614074\n",
       "  0.100  15    4.883274  0.9141496  3.562323\n",
       "  0.100  17    4.853219  0.9150185  3.532126\n",
       "  0.100  19    4.781212  0.9181613  3.450665\n",
       "  0.100  21    4.726465  0.9197374  3.365120\n",
       "  0.100  23    4.672364  0.9214396  3.309331\n",
       "  0.100  25    4.628911  0.9225188  3.245939\n",
       "  0.100  27    4.621796  0.9232539  3.216750\n",
       "\n",
       "Tuning parameter 'bag' was held constant at a value of FALSE\n",
       "RMSE was used to select the optimal model using the smallest value.\n",
       "The final values used for the model were size = 27, decay = 0.1 and bag = FALSE."
      ]
     },
     "metadata": {},
     "output_type": "display_data"
    }
   ],
   "source": [
    "fit_nnet"
   ]
  }
 ],
 "metadata": {
  "kernelspec": {
   "display_name": "R",
   "language": "R",
   "name": "ir"
  },
  "language_info": {
   "codemirror_mode": "r",
   "file_extension": ".r",
   "mimetype": "text/x-r-source",
   "name": "R",
   "pygments_lexer": "r",
   "version": "3.5.1"
  },
  "latex_envs": {
   "LaTeX_envs_menu_present": true,
   "autoclose": false,
   "autocomplete": true,
   "bibliofile": "biblio.bib",
   "cite_by": "apalike",
   "current_citInitial": 1,
   "eqLabelWithNumbers": true,
   "eqNumInitial": 1,
   "hotkeys": {
    "equation": "Ctrl-E",
    "itemize": "Ctrl-I"
   },
   "labels_anchors": false,
   "latex_user_defs": false,
   "report_style_numbering": false,
   "user_envs_cfg": false
  },
  "toc": {
   "base_numbering": 1,
   "nav_menu": {},
   "number_sections": true,
   "sideBar": true,
   "skip_h1_title": false,
   "title_cell": "Table of Contents",
   "title_sidebar": "Contents",
   "toc_cell": false,
   "toc_position": {},
   "toc_section_display": true,
   "toc_window_display": false
  }
 },
 "nbformat": 4,
 "nbformat_minor": 2
}
