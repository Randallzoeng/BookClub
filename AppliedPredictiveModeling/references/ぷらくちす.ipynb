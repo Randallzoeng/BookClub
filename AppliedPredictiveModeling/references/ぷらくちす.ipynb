{
 "cells": [
  {
   "cell_type": "markdown",
   "metadata": {},
   "source": [
    "[model-segmentation-with-cubist](https://www.r-bloggers.com/model-segmentation-with-cubist/)"
   ]
  },
  {
   "cell_type": "code",
   "execution_count": 1,
   "metadata": {
    "scrolled": true
   },
   "outputs": [
    {
     "name": "stderr",
     "output_type": "stream",
     "text": [
      "-- Attaching packages --------------------------------------- tidyverse 1.2.1 --\n",
      "√ ggplot2 3.0.0     √ purrr   0.2.5\n",
      "√ tibble  1.4.2     √ dplyr   0.7.6\n",
      "√ tidyr   0.8.1     √ stringr 1.3.1\n",
      "√ readr   1.1.1     √ forcats 0.3.0\n",
      "-- Conflicts ------------------------------------------ tidyverse_conflicts() --\n",
      "x dplyr::filter() masks stats::filter()\n",
      "x dplyr::lag()    masks stats::lag()\n",
      "\n",
      "Attaching package: 'Matrix'\n",
      "\n",
      "The following object is masked from 'package:tidyr':\n",
      "\n",
      "    expand\n",
      "\n",
      "\n",
      "Attaching package: 'data.table'\n",
      "\n",
      "The following objects are masked from 'package:dplyr':\n",
      "\n",
      "    between, first, last\n",
      "\n",
      "The following object is masked from 'package:purrr':\n",
      "\n",
      "    transpose\n",
      "\n",
      "Parsed with column specification:\n",
      "cols(\n",
      "  .default = col_integer(),\n",
      "  register_time = col_datetime(format = \"\"),\n",
      "  wood_add_value = col_double(),\n",
      "  wood_reduce_value = col_double(),\n",
      "  stone_add_value = col_double(),\n",
      "  stone_reduce_value = col_double(),\n",
      "  ivory_add_value = col_double(),\n",
      "  ivory_reduce_value = col_double(),\n",
      "  meat_add_value = col_double(),\n",
      "  meat_reduce_value = col_double(),\n",
      "  magic_add_value = col_double(),\n",
      "  magic_reduce_value = col_double(),\n",
      "  avg_online_minutes = col_double(),\n",
      "  pay_price = col_double(),\n",
      "  prediction_pay_price = col_double()\n",
      ")\n",
      "See spec(...) for full column specifications.\n"
     ]
    }
   ],
   "source": [
    "library(tidyverse)\n",
    "library(Matrix)\n",
    "library(data.table)\n",
    "setwd(\"D:/Projects/BrutalAge/data/\")\n",
    "train <- read_csv(\"tap_fun_train.csv\")\n",
    "#train$cls <- as.factor(ifelse(train$pay_price==train$prediction_pay_price,'same','diff'))\n",
    "#train$cls <- as.factor(ifelse(train$pay_price==0,'free','paid'))"
   ]
  },
  {
   "cell_type": "code",
   "execution_count": 2,
   "metadata": {
    "collapsed": true
   },
   "outputs": [],
   "source": [
    "#featuring combination\n",
    "df<- train[,c(109,106:108)]\n",
    "df$wood <- train$wood_add_value + train$wood_reduce_value\n",
    "df$stone <- train$stone_add_value + train$stone_reduce_value\n",
    "df$ivory <- train$ivory_add_value + train$ivory_reduce_value\n",
    "df$meat <- train$meat_add_value + train$meat_reduce_value\n",
    "df$magic <- train$magic_add_value + train$magic_reduce_value\n",
    "df$infantry <- train$infantry_add_value + train$infantry_reduce_value + train$wound_infantry_add_value + train$wound_infantry_reduce_value\n",
    "df$cavalry <- train$cavalry_add_value + train$cavalry_reduce_value + train$wound_cavalry_add_value + train$wound_cavalry_reduce_value\n",
    "df$shaman <- train$shaman_add_value + train$shaman_reduce_value + train$wound_shaman_add_value + train$wound_shaman_reduce_value\n",
    "#acc\n",
    "df$gen_acc <- train$general_acceleration_add_value + train$general_acceleration_reduce_value\n",
    "df$bld_acc <- train$building_acceleration_add_value + train$building_acceleration_reduce_value\n",
    "df$rsh_acc <- train$reaserch_acceleration_add_value + train$reaserch_acceleration_reduce_value\n",
    "df$train_acc <- train$training_acceleration_add_value + train$training_acceleration_reduce_value\n",
    "df$treat_acc <- train$treatment_acceleraion_add_value + train$treatment_acceleration_reduce_value\n",
    "#level\n",
    "# df$bdlevel <- apply(train[,35:50],1,sum)\n",
    "# df$sclevel <- apply(train[,51:99],1,sum)\n",
    "#atk\n",
    "df$pvp <- train$pvp_battle_count\n",
    "df$pve <- train$pve_battle_count"
   ]
  },
  {
   "cell_type": "code",
   "execution_count": 3,
   "metadata": {},
   "outputs": [
    {
     "name": "stderr",
     "output_type": "stream",
     "text": [
      "Loading required package: lattice\n",
      "\n",
      "Attaching package: 'caret'\n",
      "\n",
      "The following object is masked from 'package:purrr':\n",
      "\n",
      "    lift\n",
      "\n"
     ]
    }
   ],
   "source": [
    "#removing high-correlation predictors\n",
    "library(caret)\n",
    "cor_id <- findCorrelation(cor(subset(df,select=-prediction_pay_price)),cutoff = 0.7)\n",
    "cor_cols <- colnames(subset(df,select=-prediction_pay_price))[cor_id]\n",
    "\n",
    "flt_cols <- setdiff(names(df), cor_cols)"
   ]
  },
  {
   "cell_type": "code",
   "execution_count": 4,
   "metadata": {
    "scrolled": true
   },
   "outputs": [
    {
     "data": {},
     "metadata": {},
     "output_type": "display_data"
    },
    {
     "data": {
      "image/png": "[encoded data removed]",
      "text/plain": [
       "plot without title"
      ]
     },
     "metadata": {},
     "output_type": "display_data"
    }
   ],
   "source": [
    "library(ggcorrplot)\n",
    "df_flt <- data.frame(subset(df,select=flt_cols))\n",
    "ggcorrplot(round(cor(df_flt),2), hc.order = TRUE, type = \"upper\", lab = TRUE,lab_size = 2.5)"
   ]
  },
  {
   "cell_type": "code",
   "execution_count": 5,
   "metadata": {
    "collapsed": true
   },
   "outputs": [],
   "source": [
    "df_flt <- as.data.frame(df_flt)\n",
    "trn_id <- createDataPartition(df_flt$prediction_pay_price,p=0.8,list=F)\n",
    "trn <- df_flt[trn_id,]\n",
    "vld <- df_flt[-trn_id,]"
   ]
  },
  {
   "cell_type": "code",
   "execution_count": 6,
   "metadata": {
    "collapsed": true
   },
   "outputs": [],
   "source": [
    "trnX <- trn[,2:8]\n",
    "trnY <- trn$prediction_pay_price\n",
    "\n",
    "vldX <- vld[,2:8]\n",
    "vldY <- vld$prediction_pay_price"
   ]
  },
  {
   "cell_type": "markdown",
   "metadata": {},
   "source": [
    "- Linear Regression\n",
    "    - LR\n",
    "    - PLS\n",
    "    - Ridge/Lasso\n",
    "    \n",
    "- Nonlinear Regression\n",
    "    - Neural Networks\n",
    "    - MARS\n",
    "    - SVM\n",
    "    - KNN\n",
    "\n",
    "- Regression Trees\n",
    "    - CART\n",
    "    - RF\n",
    "    - GBM\n",
    "    - Cubist\n",
    "    - Ensemble"
   ]
  },
  {
   "cell_type": "code",
   "execution_count": 13,
   "metadata": {},
   "outputs": [],
   "source": [
    "set.seed(823)\n",
    "ctrl <- trainControl(method = \"cv\",number=3)"
   ]
  },
  {
   "cell_type": "code",
   "execution_count": null,
   "metadata": {
    "collapsed": true
   },
   "outputs": [],
   "source": [
    "#Linear Regression\n",
    "set.seed(823)\n",
    "fit_lm <- train(trnX,trnY,method = \"lm\")\n",
    "result_lm <- fit_lm$results\n",
    "pred_lm <- predict(fit_lm,newdata = vldX)\n",
    "result_lm$RMSE\n",
    "RMSE(pred = pred_lm,obs = vldY)"
   ]
  },
  {
   "cell_type": "markdown",
   "metadata": {},
   "source": [
    "- trn 63.61917\n",
    "- vld 53.2526"
   ]
  },
  {
   "cell_type": "code",
   "execution_count": null,
   "metadata": {
    "collapsed": true
   },
   "outputs": [],
   "source": [
    "#PLS\n",
    "set.seed(823)\n",
    "fit_pls <- train(trnX,trnY,method=\"pls\",tuneLength=10)\n",
    "result_pls <- fit_pls$results\n",
    "pred_pls <- predict(fit_pls,newdata = vldX)\n",
    "result_pls\n",
    "RMSE(pred = pred_pls,obs = vldY)"
   ]
  },
  {
   "cell_type": "markdown",
   "metadata": {},
   "source": [
    "- vld 53.6510105518261"
   ]
  },
  {
   "cell_type": "code",
   "execution_count": 20,
   "metadata": {},
   "outputs": [
    {
     "data": {},
     "metadata": {},
     "output_type": "display_data"
    },
    {
     "data": {
      "image/png": "[encoded data removed]",
      "text/plain": [
       "plot without title"
      ]
     },
     "metadata": {},
     "output_type": "display_data"
    }
   ],
   "source": [
    "plot(fit_pls)"
   ]
  },
  {
   "cell_type": "code",
   "execution_count": null,
   "metadata": {
    "scrolled": true
   },
   "outputs": [],
   "source": [
    "#Lasso\n",
    "set.seed(823)\n",
    "fit_lasso <- train(trnX,trnY,methon=\"lasso\",tuneLength=10)\n",
    "result_lasso <- fit_lasso$results\n",
    "pred_lasso <- predict(fit_lasso,newdata = vldX)\n",
    "result_lasso\n",
    "RMSE(pred = pred_lasso,obs = vldY)"
   ]
  },
  {
   "cell_type": "code",
   "execution_count": null,
   "metadata": {
    "collapsed": true
   },
   "outputs": [],
   "source": [
    "#mars\n",
    "grid_mars <- expand.grid(.degree=1:2,.nprune=2:38)\n",
    "set.seed(100)\n",
    "fit_mars <- train(solTrainXtrans,solTrainY,\n",
    "                 method=\"earth\",tuneGrid=grid_mars,trControl=trainControl(method=\"cv\"))\n",
    "fit_mars"
   ]
  },
  {
   "cell_type": "code",
   "execution_count": null,
   "metadata": {
    "collapsed": true
   },
   "outputs": [],
   "source": [
    "#SVM\n",
    "library(kernlab)\n",
    "fit_svm <- ksvm(x = as.matrix(solTrainXtrans), y = solTrainY, kernel =\"rbfdot\", \n",
    "                kpar=\"automatic\",C = 1, epsilon = 0.1)\n",
    "fit_svm"
   ]
  },
  {
   "cell_type": "code",
   "execution_count": 21,
   "metadata": {
    "scrolled": true
   },
   "outputs": [],
   "source": [
    "#CART\n",
    "set.seed(821)\n",
    "fit_cart <- train(trnX,trnY,method = \"rpart2\",tuneLength=10,trControl=ctrl)"
   ]
  },
  {
   "cell_type": "code",
   "execution_count": 23,
   "metadata": {},
   "outputs": [
    {
     "data": {
      "text/html": [
       "<table>\n",
       "<thead><tr><th scope=col>maxdepth</th><th scope=col>RMSE</th><th scope=col>Rsquared</th><th scope=col>MAE</th><th scope=col>RMSESD</th><th scope=col>RsquaredSD</th><th scope=col>MAESD</th></tr></thead>\n",
       "<tbody>\n",
       "\t<tr><td> 1        </td><td>74.42142  </td><td>0.2532961 </td><td>2.901984  </td><td>14.09076  </td><td>0.05423433</td><td>0.2059845 </td></tr>\n",
       "\t<tr><td> 2        </td><td>67.70050  </td><td>0.3808873 </td><td>2.433663  </td><td>13.84773  </td><td>0.06026466</td><td>0.2078638 </td></tr>\n",
       "\t<tr><td> 3        </td><td>66.39776  </td><td>0.4130573 </td><td>2.302499  </td><td>15.50021  </td><td>0.07443412</td><td>0.1824580 </td></tr>\n",
       "\t<tr><td> 4        </td><td>66.44086  </td><td>0.4208849 </td><td>2.181037  </td><td>16.21216  </td><td>0.07946782</td><td>0.1717599 </td></tr>\n",
       "\t<tr><td> 5        </td><td>65.63297  </td><td>0.4421717 </td><td>2.161266  </td><td>16.35988  </td><td>0.07436567</td><td>0.1597150 </td></tr>\n",
       "\t<tr><td> 6        </td><td>65.90391  </td><td>0.4412617 </td><td>2.086915  </td><td>16.21200  </td><td>0.07844006</td><td>0.1445043 </td></tr>\n",
       "\t<tr><td> 7        </td><td>65.48797  </td><td>0.4495153 </td><td>1.926703  </td><td>16.55203  </td><td>0.08253218</td><td>0.1484981 </td></tr>\n",
       "\t<tr><td> 8        </td><td>65.48797  </td><td>0.4495153 </td><td>1.926703  </td><td>16.55203  </td><td>0.08253218</td><td>0.1484981 </td></tr>\n",
       "\t<tr><td>10        </td><td>65.48797  </td><td>0.4495153 </td><td>1.926703  </td><td>16.55203  </td><td>0.08253218</td><td>0.1484981 </td></tr>\n",
       "\t<tr><td>11        </td><td>65.48797  </td><td>0.4495153 </td><td>1.926703  </td><td>16.55203  </td><td>0.08253218</td><td>0.1484981 </td></tr>\n",
       "</tbody>\n",
       "</table>\n"
      ],
      "text/latex": [
       "\\begin{tabular}{r|lllllll}\n",
       " maxdepth & RMSE & Rsquared & MAE & RMSESD & RsquaredSD & MAESD\\\\\n",
       "\\hline\n",
       "\t  1         & 74.42142   & 0.2532961  & 2.901984   & 14.09076   & 0.05423433 & 0.2059845 \\\\\n",
       "\t  2         & 67.70050   & 0.3808873  & 2.433663   & 13.84773   & 0.06026466 & 0.2078638 \\\\\n",
       "\t  3         & 66.39776   & 0.4130573  & 2.302499   & 15.50021   & 0.07443412 & 0.1824580 \\\\\n",
       "\t  4         & 66.44086   & 0.4208849  & 2.181037   & 16.21216   & 0.07946782 & 0.1717599 \\\\\n",
       "\t  5         & 65.63297   & 0.4421717  & 2.161266   & 16.35988   & 0.07436567 & 0.1597150 \\\\\n",
       "\t  6         & 65.90391   & 0.4412617  & 2.086915   & 16.21200   & 0.07844006 & 0.1445043 \\\\\n",
       "\t  7         & 65.48797   & 0.4495153  & 1.926703   & 16.55203   & 0.08253218 & 0.1484981 \\\\\n",
       "\t  8         & 65.48797   & 0.4495153  & 1.926703   & 16.55203   & 0.08253218 & 0.1484981 \\\\\n",
       "\t 10         & 65.48797   & 0.4495153  & 1.926703   & 16.55203   & 0.08253218 & 0.1484981 \\\\\n",
       "\t 11         & 65.48797   & 0.4495153  & 1.926703   & 16.55203   & 0.08253218 & 0.1484981 \\\\\n",
       "\\end{tabular}\n"
      ],
      "text/markdown": [
       "\n",
       "maxdepth | RMSE | Rsquared | MAE | RMSESD | RsquaredSD | MAESD | \n",
       "|---|---|---|---|---|---|---|---|---|---|\n",
       "|  1         | 74.42142   | 0.2532961  | 2.901984   | 14.09076   | 0.05423433 | 0.2059845  | \n",
       "|  2         | 67.70050   | 0.3808873  | 2.433663   | 13.84773   | 0.06026466 | 0.2078638  | \n",
       "|  3         | 66.39776   | 0.4130573  | 2.302499   | 15.50021   | 0.07443412 | 0.1824580  | \n",
       "|  4         | 66.44086   | 0.4208849  | 2.181037   | 16.21216   | 0.07946782 | 0.1717599  | \n",
       "|  5         | 65.63297   | 0.4421717  | 2.161266   | 16.35988   | 0.07436567 | 0.1597150  | \n",
       "|  6         | 65.90391   | 0.4412617  | 2.086915   | 16.21200   | 0.07844006 | 0.1445043  | \n",
       "|  7         | 65.48797   | 0.4495153  | 1.926703   | 16.55203   | 0.08253218 | 0.1484981  | \n",
       "|  8         | 65.48797   | 0.4495153  | 1.926703   | 16.55203   | 0.08253218 | 0.1484981  | \n",
       "| 10         | 65.48797   | 0.4495153  | 1.926703   | 16.55203   | 0.08253218 | 0.1484981  | \n",
       "| 11         | 65.48797   | 0.4495153  | 1.926703   | 16.55203   | 0.08253218 | 0.1484981  | \n",
       "\n",
       "\n"
      ],
      "text/plain": [
       "   maxdepth RMSE     Rsquared  MAE      RMSESD   RsquaredSD MAESD    \n",
       "1   1       74.42142 0.2532961 2.901984 14.09076 0.05423433 0.2059845\n",
       "2   2       67.70050 0.3808873 2.433663 13.84773 0.06026466 0.2078638\n",
       "3   3       66.39776 0.4130573 2.302499 15.50021 0.07443412 0.1824580\n",
       "4   4       66.44086 0.4208849 2.181037 16.21216 0.07946782 0.1717599\n",
       "5   5       65.63297 0.4421717 2.161266 16.35988 0.07436567 0.1597150\n",
       "6   6       65.90391 0.4412617 2.086915 16.21200 0.07844006 0.1445043\n",
       "7   7       65.48797 0.4495153 1.926703 16.55203 0.08253218 0.1484981\n",
       "8   8       65.48797 0.4495153 1.926703 16.55203 0.08253218 0.1484981\n",
       "9  10       65.48797 0.4495153 1.926703 16.55203 0.08253218 0.1484981\n",
       "10 11       65.48797 0.4495153 1.926703 16.55203 0.08253218 0.1484981"
      ]
     },
     "metadata": {},
     "output_type": "display_data"
    }
   ],
   "source": [
    "results_cart <- fit_cart$results\n",
    "tune_cart <- fit_cart$bestTune\n",
    "pred_cart <- "
   ]
  },
  {
   "cell_type": "markdown",
   "metadata": {
    "collapsed": true
   },
   "source": [
    "```r\n",
    "#RF\n",
    "set.seed(821)\n",
    "fit_rf <- train(trn[,2:9],trn$prediction_pay_price,method = \"rf\",tuneLength=10,trControl=ctrl,importance=T)\n",
    "```\n",
    "`cannot allocate vector of size 6.8 Gb,will try h2o later`\n"
   ]
  },
  {
   "cell_type": "code",
   "execution_count": null,
   "metadata": {
    "collapsed": true
   },
   "outputs": [],
   "source": [
    "grid_gbm <- expand.grid(interaction.depth=seq(1,7,by=2),\n",
    "                    n.trees=seq(100,1000,by=50),\n",
    "                       shrinkage=c(0.01,0.1),\n",
    "                       n.minobsinnode=c(0,1))\n",
    "set.seed(529)\n",
    "fit_gbm <- train(trnX,trnY,method=\"gbm\",verbose=F,\n",
    "                tuneGrid=grid_gbm,trControl=ctrl)\n",
    "plot(fit_gbm)"
   ]
  },
  {
   "cell_type": "code",
   "execution_count": null,
   "metadata": {
    "collapsed": true
   },
   "outputs": [],
   "source": [
    "grid_cubist <- expand.grid(committees=c(1:10,20,50,75,100),\n",
    "                       neighbors=c(0,1,5,9))\n",
    "set.seed(529)\n",
    "fit_cubist <- train(trnX,trnY,method=\"cubist\",verbose=F,\n",
    "                   tuneGrid=grid_cubist,trControl=ctrl)\n",
    "plot(fit_cubist)"
   ]
  },
  {
   "cell_type": "code",
   "execution_count": null,
   "metadata": {
    "collapsed": true
   },
   "outputs": [],
   "source": [
    "#mars\n",
    "grid_mars <- expand.grid(.degree=1:2,.nprune=2:38)\n",
    "set.seed(100)\n",
    "fit_mars <- train(solTrainXtrans,solTrainY,\n",
    "                 method=\"earth\",tuneGrid=grid_mars,trControl=trainControl(method=\"cv\"))\n",
    "fit_mars"
   ]
  },
  {
   "cell_type": "code",
   "execution_count": null,
   "metadata": {
    "collapsed": true
   },
   "outputs": [],
   "source": [
    "#SVM\n",
    "library(kernlab)\n",
    "fit_svm <- ksvm(x = as.matrix(solTrainXtrans), y = solTrainY, kernel =\"rbfdot\", \n",
    "                kpar=\"automatic\",C = 1, epsilon = 0.1)\n",
    "fit_svm"
   ]
  },
  {
   "cell_type": "markdown",
   "metadata": {},
   "source": [
    "```r\n",
    "library(h2o)\n",
    "h2o.init(port = 54322)\n",
    "# h2o.shutdown()\n",
    "# data <- h2o.importFile(loan_csv,header = T) \n",
    "\n",
    "\n",
    "data_path <- c(\"D:/Projects/BrutalAge/data/tap_fun_train.csv\")\n",
    "train <- h2o.importFile(data_path,header = T) \n",
    "trn <- train[2:2288008,3:109]\n",
    "y <- \"prediction_pay_price\"\n",
    "x <- setdiff(names(trn), y)\n",
    "\n",
    "# [1] \"data_path\" \"df\"        \"train\"     \"trn\"       \"trn_id\"    \"vld\"\n",
    "rm(list=c(\"train\",\"trn\"))\n",
    "\n",
    "fit_rf <- h2o.randomForest(x = x,y = y,training_frame = trn,model_id = \"fit_rf\",seed = 823)\n",
    "fit_gbm_1 <- h2o.gbm(x = x,y = y,training_frame = trn,nfolds = 5,\n",
    "                   model_id = \"fit_gbm_1\",seed = 823)\n",
    "\n",
    "fit_gbm_2 <- h2o.gbm(x = x,y = y,training_frame = trn,ntrees = 500,\n",
    "                     model_id = \"fit_gbm_2\",seed = 823)\n",
    "\n",
    "fit_gbm_3 <- h2o.gbm(x = x,y = y,training_frame = trn,validation_frame = vld,\n",
    "                     model_id = \"fit_gbm_3\",seed = 823,ntrees = 500,\n",
    "                     score_tree_interval = 5,stopping_rounds = 3,\n",
    "                     stopping_metric = \"RMSE\",stopping_tolerance = 0.0005)\n",
    "\n",
    "perf_gbm_1 <- h2o.performance(model = fit_gbm_1,newdata = vld)\n",
    "perf_gbm_2 <- h2o.performance(model = fit_gbm_2,newdata = vld)\n",
    "perf_gbm_3 <- h2o.performance(model = fit_gbm_3,newdata = vld)\n",
    "\n",
    "fit_dl <- h2o.deeplearning(x = x,y = y,training_frame = trn,\n",
    "                           model_id = \"fit_dl\",seed = 823)\n",
    "\n",
    "perf_dl <- h2o.performance(model = fit_dl,newdata = vld)\n",
    "```"
   ]
  }
 ],
 "metadata": {
  "anaconda-cloud": {},
  "kernelspec": {
   "display_name": "R",
   "language": "R",
   "name": "ir"
  },
  "language_info": {
   "codemirror_mode": "r",
   "file_extension": ".r",
   "mimetype": "text/x-r-source",
   "name": "R",
   "pygments_lexer": "r",
   "version": "3.5.1"
  },
  "latex_envs": {
   "LaTeX_envs_menu_present": true,
   "autoclose": false,
   "autocomplete": true,
   "bibliofile": "biblio.bib",
   "cite_by": "apalike",
   "current_citInitial": 1,
   "eqLabelWithNumbers": true,
   "eqNumInitial": 1,
   "hotkeys": {
    "equation": "Ctrl-E",
    "itemize": "Ctrl-I"
   },
   "labels_anchors": false,
   "latex_user_defs": false,
   "report_style_numbering": false,
   "user_envs_cfg": false
  },
  "toc": {
   "base_numbering": 1,
   "nav_menu": {},
   "number_sections": true,
   "sideBar": true,
   "skip_h1_title": false,
   "title_cell": "Table of Contents",
   "title_sidebar": "Contents",
   "toc_cell": false,
   "toc_position": {},
   "toc_section_display": true,
   "toc_window_display": false
  }
 },
 "nbformat": 4,
 "nbformat_minor": 1
}
