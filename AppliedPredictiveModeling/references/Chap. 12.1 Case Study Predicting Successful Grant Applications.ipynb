{
 "cells": [
  {
   "cell_type": "code",
   "execution_count": 17,
   "metadata": {
    "scrolled": true
   },
   "outputs": [
    {
     "data": {
      "text/html": [
       "'English_United States.1252'"
      ],
      "text/latex": [
       "'English\\_United States.1252'"
      ],
      "text/markdown": [
       "'English_United States.1252'"
      ],
      "text/plain": [
       "[1] \"English_United States.1252\""
      ]
     },
     "metadata": {},
     "output_type": "display_data"
    },
    {
     "name": "stdout",
     "output_type": "stream",
     "text": [
      " chr [1:1073] \"NumCI\" \"NumDR\" \"NumECI\" \"NumEA\" \"NumHV\" \"NumPS\" \"NumSCI\" ...\n",
      " chr [1:252] \"NumCI\" \"NumDR\" \"NumECI\" \"NumPS\" \"NumSCI\" \"NumSR\" \"NumUNK\" ...\n"
     ]
    }
   ],
   "source": [
    "# 12.1 Case Study: Predicting Successful Grant Applications\n",
    "Sys.setlocale(\"LC_TIME\", \"English\")\n",
    "\n",
    "library(parallel)\n",
    "setDefaultCluster(makeCluster(4))\n",
    "source('CreateGrantData.R')\n",
    "save(training,testing,pre2008,fullSet,reducedSet,file = \"grant_Data.Rdata\")"
   ]
  },
  {
   "cell_type": "markdown",
   "metadata": {},
   "source": [
    "`there are 1073 predictors in fullSet, However the book show only 1070 predictors @page 311`"
   ]
  },
  {
   "cell_type": "code",
   "execution_count": 30,
   "metadata": {},
   "outputs": [
    {
     "data": {
      "text/html": [
       "<ol class=list-inline>\n",
       "\t<li>'trimmedmat'</li>\n",
       "\t<li>'numbers.discarded'</li>\n",
       "\t<li>'names.discarded'</li>\n",
       "\t<li>'size'</li>\n",
       "</ol>\n"
      ],
      "text/latex": [
       "\\begin{enumerate*}\n",
       "\\item 'trimmedmat'\n",
       "\\item 'numbers.discarded'\n",
       "\\item 'names.discarded'\n",
       "\\item 'size'\n",
       "\\end{enumerate*}\n"
      ],
      "text/markdown": [
       "1. 'trimmedmat'\n",
       "2. 'numbers.discarded'\n",
       "3. 'names.discarded'\n",
       "4. 'size'\n",
       "\n",
       "\n"
      ],
      "text/plain": [
       "[1] \"trimmedmat\"        \"numbers.discarded\" \"names.discarded\"  \n",
       "[4] \"size\"             "
      ]
     },
     "metadata": {},
     "output_type": "display_data"
    }
   ],
   "source": [
    "reducedCovMat <- cov(training[,reducedSet])\n",
    "library(subselect)\n",
    "trimmingResults <- trim.matrix(reducedCovMat)\n",
    "names(trimmingResults)\n",
    "trimmingResults$names.discarded"
   ]
  },
  {
   "cell_type": "code",
   "execution_count": 34,
   "metadata": {
    "scrolled": true
   },
   "outputs": [
    {
     "data": {
      "text/html": [
       "<ol class=list-inline>\n",
       "\t<li>'NumDR'</li>\n",
       "\t<li>'PS.1975'</li>\n",
       "\t<li>'CI.Dept1798'</li>\n",
       "\t<li>'PS.Dept3028'</li>\n",
       "\t<li>'PS.Faculty1'</li>\n",
       "\t<li>'BTotal'</li>\n",
       "\t<li>'numPeople'</li>\n",
       "\t<li>'Apr'</li>\n",
       "\t<li>'Sun'</li>\n",
       "</ol>\n"
      ],
      "text/latex": [
       "\\begin{enumerate*}\n",
       "\\item 'NumDR'\n",
       "\\item 'PS.1975'\n",
       "\\item 'CI.Dept1798'\n",
       "\\item 'PS.Dept3028'\n",
       "\\item 'PS.Faculty1'\n",
       "\\item 'BTotal'\n",
       "\\item 'numPeople'\n",
       "\\item 'Apr'\n",
       "\\item 'Sun'\n",
       "\\end{enumerate*}\n"
      ],
      "text/markdown": [
       "1. 'NumDR'\n",
       "2. 'PS.1975'\n",
       "3. 'CI.Dept1798'\n",
       "4. 'PS.Dept3028'\n",
       "5. 'PS.Faculty1'\n",
       "6. 'BTotal'\n",
       "7. 'numPeople'\n",
       "8. 'Apr'\n",
       "9. 'Sun'\n",
       "\n",
       "\n"
      ],
      "text/plain": [
       "[1] \"NumDR\"       \"PS.1975\"     \"CI.Dept1798\" \"PS.Dept3028\" \"PS.Faculty1\"\n",
       "[6] \"BTotal\"      \"numPeople\"   \"Apr\"         \"Sun\"        "
      ]
     },
     "metadata": {},
     "output_type": "display_data"
    }
   ],
   "source": [
    "#apply to full set\n",
    "fullCovMat <- cov(training[,fullSet])\n",
    "fullSetResults <- trim.matrix(fullCovMat)\n",
    "fullSetResults$names.discarded"
   ]
  },
  {
   "cell_type": "code",
   "execution_count": 1,
   "metadata": {},
   "outputs": [],
   "source": [
    "load(\"grantData.RData\")"
   ]
  },
  {
   "cell_type": "code",
   "execution_count": 3,
   "metadata": {
    "scrolled": true
   },
   "outputs": [
    {
     "data": {
      "text/html": [
       "<ol class=list-inline>\n",
       "\t<li>'successful'</li>\n",
       "\t<li>'unsuccessful'</li>\n",
       "</ol>\n"
      ],
      "text/latex": [
       "\\begin{enumerate*}\n",
       "\\item 'successful'\n",
       "\\item 'unsuccessful'\n",
       "\\end{enumerate*}\n"
      ],
      "text/markdown": [
       "1. 'successful'\n",
       "2. 'unsuccessful'\n",
       "\n",
       "\n"
      ],
      "text/plain": [
       "[1] \"successful\"   \"unsuccessful\""
      ]
     },
     "metadata": {},
     "output_type": "display_data"
    }
   ],
   "source": [
    "levels(training$Class)"
   ]
  },
  {
   "cell_type": "code",
   "execution_count": 4,
   "metadata": {},
   "outputs": [
    {
     "name": "stderr",
     "output_type": "stream",
     "text": [
      "Loading required package: lattice\n",
      "Loading required package: ggplot2\n"
     ]
    },
    {
     "data": {
      "text/plain": [
       "\n",
       "Call:  glm(formula = Class ~ Day, family = binomial, data = training[pre2008, \n",
       "    ])\n",
       "\n",
       "Coefficients:\n",
       "(Intercept)          Day  \n",
       "    -0.3660       0.0267  \n",
       "\n",
       "Degrees of Freedom: 6632 Total (i.e. Null);  6631 Residual\n",
       "Null Deviance:\t    9191 \n",
       "Residual Deviance: 9103 \tAIC: 9107"
      ]
     },
     "metadata": {},
     "output_type": "display_data"
    }
   ],
   "source": [
    "library(caret)\n",
    "fit_glt <- glm(Class~Day,\n",
    "              data=training[pre2008,],\n",
    "              family=binomial)\n",
    "fit_glt"
   ]
  },
  {
   "cell_type": "code",
   "execution_count": 5,
   "metadata": {
    "scrolled": true
   },
   "outputs": [
    {
     "data": {
      "text/html": [
       "<dl class=dl-horizontal>\n",
       "\t<dt>1</dt>\n",
       "\t\t<dd>0.52473469808025</dd>\n",
       "\t<dt>2</dt>\n",
       "\t\t<dd>0.025616506736391</dd>\n",
       "\t<dt>3</dt>\n",
       "\t\t<dd>0.000479097987638677</dd>\n",
       "\t<dt>4</dt>\n",
       "\t\t<dd>0.000126141649641753</dd>\n",
       "</dl>\n"
      ],
      "text/latex": [
       "\\begin{description*}\n",
       "\\item[1] 0.52473469808025\n",
       "\\item[2] 0.025616506736391\n",
       "\\item[3] 0.000479097987638677\n",
       "\\item[4] 0.000126141649641753\n",
       "\\end{description*}\n"
      ],
      "text/markdown": [
       "1\n",
       ":   0.524734698080252\n",
       ":   0.0256165067363913\n",
       ":   0.0004790979876386774\n",
       ":   0.000126141649641753\n",
       "\n"
      ],
      "text/plain": [
       "           1            2            3            4 \n",
       "0.5247346981 0.0256165067 0.0004790980 0.0001261416 "
      ]
     },
     "metadata": {},
     "output_type": "display_data"
    }
   ],
   "source": [
    "successProb <- 1- predict(\n",
    "                          fit_glt,\n",
    "                          newdata = data.frame(Day=c(10,150,300,350)),\n",
    "                         type=\"response\")\n",
    "\n",
    "successProb"
   ]
  },
  {
   "cell_type": "code",
   "execution_count": 7,
   "metadata": {
    "scrolled": true
   },
   "outputs": [
    {
     "data": {
      "text/plain": [
       "\n",
       "Call:  glm(formula = Class ~ Day + I(Day^2), family = binomial, data = training[pre2008, \n",
       "    ])\n",
       "\n",
       "Coefficients:\n",
       "(Intercept)          Day     I(Day^2)  \n",
       "  -1.050342     0.165185    -0.004645  \n",
       "\n",
       "Degrees of Freedom: 6632 Total (i.e. Null);  6630 Residual\n",
       "Null Deviance:\t    9191 \n",
       "Residual Deviance: 8903 \tAIC: 8909"
      ]
     },
     "metadata": {},
     "output_type": "display_data"
    }
   ],
   "source": [
    "fit_daySquared <- glm(\n",
    "                      Class~Day + I(Day^2),\n",
    "                     data=training[pre2008,],\n",
    "                     family=binomial)\n",
    "fit_daySquared"
   ]
  },
  {
   "cell_type": "code",
   "execution_count": 9,
   "metadata": {
    "scrolled": false
   },
   "outputs": [
    {
     "data": {
      "text/plain": [
       "Logistic Regression Model\n",
       " \n",
       " lrm(formula = Class ~ rcs(Day), data = training[pre2008, ])\n",
       " \n",
       "                       Model Likelihood     Discrimination    Rank Discrim.    \n",
       "                          Ratio Test           Indexes           Indexes       \n",
       " Obs          6633    LR chi2     324.93    R2       0.064    C       0.596    \n",
       "  successful  3233    d.f.             4    g        0.453    Dxy     0.192    \n",
       "  unsuccessful3400    Pr(> chi2) <0.0001    gr       1.573    gamma   0.204    \n",
       " max |deriv| 1e-10                          gp       0.108    tau-a   0.096    \n",
       "                                            Brier    0.238                     \n",
       " \n",
       "           Coef    S.E.   Wald Z Pr(>|Z|)\n",
       " Intercept -1.2946 0.0894 -14.48 <0.0001 \n",
       " Day        0.2316 0.0183  12.67 <0.0001 \n",
       " Day'      -0.7221 0.0825  -8.76 <0.0001 \n",
       " Day''      2.5730 0.3564   7.22 <0.0001 \n",
       " Day'''    -4.7924 0.8021  -5.97 <0.0001 \n",
       " "
      ]
     },
     "metadata": {},
     "output_type": "display_data"
    }
   ],
   "source": [
    "library(rms)\n",
    "fit_rcs <- lrm(Class~rcs(Day),data=training[pre2008,])\n",
    "fit_rcs"
   ]
  },
  {
   "cell_type": "code",
   "execution_count": 12,
   "metadata": {},
   "outputs": [
    {
     "data": {
      "text/html": [
       "31"
      ],
      "text/latex": [
       "31"
      ],
      "text/markdown": [
       "31"
      ],
      "text/plain": [
       "[1] 31"
      ]
     },
     "metadata": {},
     "output_type": "display_data"
    }
   ],
   "source": [
    "max(training[pre2008,'Day'])"
   ]
  },
  {
   "cell_type": "code",
   "execution_count": 15,
   "metadata": {},
   "outputs": [
    {
     "data": {},
     "metadata": {},
     "output_type": "display_data"
    },
    {
     "data": {
      "image/png": "[encoded data removed]",
      "text/plain": [
       "plot without title"
      ]
     },
     "metadata": {},
     "output_type": "display_data"
    }
   ],
   "source": [
    "dayProfile <- Predict(fit_rcs,Day=0:365,fun=function(x)-x)\n",
    "plot(dayProfile,ylab=\"Log Odds\")"
   ]
  },
  {
   "cell_type": "markdown",
   "metadata": {},
   "source": [
    "```r\n",
    "### Section 12.1 Case Study: Predicting Successful Grant Applications\n",
    "\n",
    "load(\"grantData.RData\")\n",
    "\n",
    "library(caret)\n",
    "library(doMC)\n",
    "registerDoMC(12)\n",
    "library(plyr)\n",
    "library(reshape2)\n",
    "\n",
    "## Look at two different ways to split and resample the data. A support vector\n",
    "## machine is used to illustrate the differences. The full set of predictors\n",
    "## is used. \n",
    "\n",
    "pre2008Data <- training[pre2008,]\n",
    "year2008Data <- rbind(training[-pre2008,], testing)\n",
    "\n",
    "set.seed(552)\n",
    "test2008 <- createDataPartition(year2008Data$Class, p = .25)[[1]]\n",
    "\n",
    "allData <- rbind(pre2008Data, year2008Data[-test2008,])\n",
    "holdout2008 <- year2008Data[test2008,]\n",
    "\n",
    "## Use a common tuning grid for both approaches. \n",
    "svmrGrid <- expand.grid(sigma = c(.00007, .00009, .0001, .0002),\n",
    "                        C = 2^(-3:8))\n",
    "\n",
    "## Evaluate the model using overall 10-fold cross-validation\n",
    "ctrl0 <- trainControl(method = \"cv\",\n",
    "                      summaryFunction = twoClassSummary,\n",
    "                      classProbs = TRUE)\n",
    "set.seed(477)\n",
    "svmFit0 <- train(pre2008Data[,fullSet], pre2008Data$Class,\n",
    "                 method = \"svmRadial\",\n",
    "                 tuneGrid = svmrGrid,\n",
    "                 preProc = c(\"center\", \"scale\"),\n",
    "                 metric = \"ROC\",\n",
    "                 trControl = ctrl0)\n",
    "svmFit0\n",
    "\n",
    "### Now fit the single 2008 test set\n",
    "ctrl00 <- trainControl(method = \"LGOCV\",\n",
    "                       summaryFunction = twoClassSummary,\n",
    "                       classProbs = TRUE,\n",
    "                       index = list(TestSet = 1:nrow(pre2008Data)))\n",
    "\n",
    "\n",
    "set.seed(476)\n",
    "svmFit00 <- train(allData[,fullSet], allData$Class,\n",
    "                  method = \"svmRadial\",\n",
    "                  tuneGrid = svmrGrid,\n",
    "                  preProc = c(\"center\", \"scale\"),\n",
    "                  metric = \"ROC\",\n",
    "                  trControl = ctrl00)\n",
    "svmFit00\n",
    "\n",
    "## Combine the two sets of results and plot\n",
    "\n",
    "grid0 <- subset(svmFit0$results,  sigma == svmFit0$bestTune$sigma)\n",
    "grid0$Model <- \"10-Fold Cross-Validation\"\n",
    "\n",
    "grid00 <- subset(svmFit00$results,  sigma == svmFit00$bestTune$sigma)\n",
    "grid00$Model <- \"Single 2008 Test Set\"\n",
    "\n",
    "plotData <- rbind(grid00, grid0)\n",
    "\n",
    "plotData <- plotData[!is.na(plotData$ROC),]\n",
    "xyplot(ROC ~ C, data = plotData,\n",
    "       groups = Model,\n",
    "       type = c(\"g\", \"o\"),\n",
    "       scales = list(x = list(log = 2)),\n",
    "       auto.key = list(columns = 1))\n",
    "\n",
    "```"
   ]
  }
 ],
 "metadata": {
  "kernelspec": {
   "display_name": "R",
   "language": "R",
   "name": "ir"
  },
  "language_info": {
   "codemirror_mode": "r",
   "file_extension": ".r",
   "mimetype": "text/x-r-source",
   "name": "R",
   "pygments_lexer": "r",
   "version": "3.5.1"
  },
  "latex_envs": {
   "LaTeX_envs_menu_present": true,
   "autoclose": false,
   "autocomplete": true,
   "bibliofile": "biblio.bib",
   "cite_by": "apalike",
   "current_citInitial": 1,
   "eqLabelWithNumbers": true,
   "eqNumInitial": 1,
   "hotkeys": {
    "equation": "Ctrl-E",
    "itemize": "Ctrl-I"
   },
   "labels_anchors": false,
   "latex_user_defs": false,
   "report_style_numbering": false,
   "user_envs_cfg": false
  },
  "toc": {
   "base_numbering": 1,
   "nav_menu": {},
   "number_sections": true,
   "sideBar": true,
   "skip_h1_title": false,
   "title_cell": "Table of Contents",
   "title_sidebar": "Contents",
   "toc_cell": false,
   "toc_position": {},
   "toc_section_display": true,
   "toc_window_display": false
  }
 },
 "nbformat": 4,
 "nbformat_minor": 2
}
