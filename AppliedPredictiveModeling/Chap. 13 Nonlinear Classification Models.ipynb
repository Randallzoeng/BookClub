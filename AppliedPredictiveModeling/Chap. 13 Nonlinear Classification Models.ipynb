{
 "cells": [
  {
   "cell_type": "code",
   "execution_count": 3,
   "metadata": {},
   "outputs": [],
   "source": [
    "df <- load(\"/Users/randall/Downloads/ChromeDownload/BookClub-master/AppliedPredictiveModeling/references/grant_Data.Rdata\")\n",
    "#remove zear var cols first before scaling\n",
    "ZeroVarCol <- c(\"Sponsor260D\",\"Sponsor281A\" , \"Sponsor315C\")\n",
    "fullSet <- fullSet[! fullSet %in% ZeroVarCol]"
   ]
  },
  {
   "cell_type": "code",
   "execution_count": 6,
   "metadata": {
    "scrolled": true
   },
   "outputs": [
    {
     "name": "stdout",
     "output_type": "stream",
     "text": [
      " chr [1:5] \"training\" \"testing\" \"pre2008\" \"fullSet\" \"reducedSet\"\n"
     ]
    }
   ],
   "source": [
    "str(df)"
   ]
  },
  {
   "cell_type": "markdown",
   "metadata": {},
   "source": [
    "`Nonlinear Discriminant Analysis`"
   ]
  },
  {
   "cell_type": "markdown",
   "metadata": {},
   "source": [
    "```r\n",
    "### Section 13.1 Nonlinear Discriminant Analysis\n",
    "\n",
    "\n",
    "load(\"grantData.RData\")\n",
    "\n",
    "library(caret)\n",
    "\n",
    "### Optional: parallel processing can be used via the 'do' packages,\n",
    "### such as doMC, doMPI etc. We used doMC (not on Windows) to speed\n",
    "### up the computations.\n",
    " \n",
    "### WARNING: Be aware of how much memory is needed to parallel\n",
    "### process. It can very quickly overwhelm the available hardware. We\n",
    "### estimate the memory usage (VSIZE = total memory size) to be \n",
    "### 2700M/core.\n",
    "\n",
    "library(doMC)\n",
    "registerDoMC(12)\n",
    "\n",
    "## This control object will be used across multiple models so that the\n",
    "## data splitting is consistent\n",
    "\n",
    "ctrl <- trainControl(method = \"LGOCV\",\n",
    "                     summaryFunction = twoClassSummary,\n",
    "                     classProbs = TRUE,\n",
    "                     index = list(TrainSet = pre2008),\n",
    "                     savePredictions = TRUE)\n",
    "\n",
    "set.seed(476)\n",
    "mdaFit <- train(x = training[,reducedSet], \n",
    "                y = training$Class,\n",
    "                method = \"mda\",\n",
    "                metric = \"ROC\",\n",
    "                tries = 40,\n",
    "                tuneGrid = expand.grid(subclasses = 1:8),\n",
    "                trControl = ctrl)\n",
    "mdaFit\n",
    "\n",
    "mdaFit$results <- mdaFit$results[!is.na(mdaFit$results$ROC),]                \n",
    "mdaFit$pred <- merge(mdaFit$pred,  mdaFit$bestTune)\n",
    "mdaCM <- confusionMatrix(mdaFit, norm = \"none\")\n",
    "mdaCM\n",
    "\n",
    "mdaRoc <- roc(response = mdaFit$pred$obs,\n",
    "              predictor = mdaFit$pred$successful,\n",
    "              levels = rev(levels(mdaFit$pred$obs)))\n",
    "mdaRoc\n",
    "\n",
    "update(plot(mdaFit,\n",
    "            ylab = \"ROC AUC (2008 Hold-Out Data)\"))\n",
    "```"
   ]
  }
 ],
 "metadata": {
  "kernelspec": {
   "display_name": "R",
   "language": "R",
   "name": "ir"
  },
  "language_info": {
   "codemirror_mode": "r",
   "file_extension": ".r",
   "mimetype": "text/x-r-source",
   "name": "R",
   "pygments_lexer": "r",
   "version": "3.4.3"
  },
  "latex_envs": {
   "LaTeX_envs_menu_present": true,
   "autocomplete": true,
   "bibliofile": "biblio.bib",
   "cite_by": "apalike",
   "current_citInitial": 1,
   "eqLabelWithNumbers": true,
   "eqNumInitial": 1,
   "hotkeys": {
    "equation": "Ctrl-E",
    "itemize": "Ctrl-I"
   },
   "labels_anchors": false,
   "latex_user_defs": false,
   "report_style_numbering": false,
   "user_envs_cfg": false
  },
  "toc": {
   "nav_menu": {},
   "number_sections": true,
   "sideBar": true,
   "skip_h1_title": false,
   "toc_cell": false,
   "toc_position": {},
   "toc_section_display": "block",
   "toc_window_display": false
  }
 },
 "nbformat": 4,
 "nbformat_minor": 2
}
