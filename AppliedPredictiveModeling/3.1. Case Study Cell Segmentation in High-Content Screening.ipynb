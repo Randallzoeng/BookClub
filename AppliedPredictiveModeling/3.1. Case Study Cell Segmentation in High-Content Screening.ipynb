{
 "cells": [
  {
   "cell_type": "markdown",
   "metadata": {},
   "source": [
    "## Cell Segmentation in High-Content Screening\n",
    "Reference:\n",
    "- http://topepo.github.io/caret/pre-processing.html\n",
    "- Applied Predictive Modeling (Kuhn and Johnson (2013))"
   ]
  },
  {
   "cell_type": "code",
   "execution_count": 113,
   "metadata": {
    "collapsed": false
   },
   "outputs": [
    {
     "data": {
      "text/html": [
       "<table>\n",
       "<thead><tr><th scope=col>Cell</th><th scope=col>Case</th><th scope=col>Class</th><th scope=col>AngleCh1</th><th scope=col>AngleStatusCh1</th><th scope=col>AreaCh1</th><th scope=col>AreaStatusCh1</th><th scope=col>AvgIntenCh1</th><th scope=col>AvgIntenCh2</th><th scope=col>AvgIntenCh3</th><th scope=col>...</th><th scope=col>VarIntenCh1</th><th scope=col>VarIntenCh3</th><th scope=col>VarIntenCh4</th><th scope=col>VarIntenStatusCh1</th><th scope=col>VarIntenStatusCh3</th><th scope=col>VarIntenStatusCh4</th><th scope=col>WidthCh1</th><th scope=col>WidthStatusCh1</th><th scope=col>XCentroid</th><th scope=col>YCentroid</th></tr></thead>\n",
       "<tbody>\n",
       "\t<tr><td>207827637 </td><td>Test      </td><td>PS        </td><td>143.247705</td><td>1         </td><td>185       </td><td>0         </td><td> 15.71186 </td><td>  3.954802</td><td>  9.548023</td><td>...       </td><td> 12.47468 </td><td> 7.609035 </td><td>  2.71410 </td><td>0         </td><td>2         </td><td>2         </td><td>10.64297  </td><td>2         </td><td> 42       </td><td> 14       </td></tr>\n",
       "\t<tr><td>207932307 </td><td>Train     </td><td>PS        </td><td>133.752037</td><td>0         </td><td>819       </td><td>1         </td><td> 31.92327 </td><td>205.878517</td><td> 69.916880</td><td>...       </td><td> 18.80923 </td><td>56.715352 </td><td>118.38814 </td><td>0         </td><td>0         </td><td>0         </td><td>32.16126  </td><td>1         </td><td>215       </td><td>347       </td></tr>\n",
       "\t<tr><td>207932463 </td><td>Train     </td><td>WS        </td><td>106.646387</td><td>0         </td><td>431       </td><td>0         </td><td> 28.03883 </td><td>115.315534</td><td> 63.941748</td><td>...       </td><td> 17.29564 </td><td>37.671053 </td><td> 49.47052 </td><td>0         </td><td>0         </td><td>0         </td><td>21.18553  </td><td>0         </td><td>371       </td><td>252       </td></tr>\n",
       "\t<tr><td>207932470 </td><td>Train     </td><td>PS        </td><td> 69.150325</td><td>0         </td><td>298       </td><td>0         </td><td> 19.45614 </td><td>101.294737</td><td> 28.217544</td><td>...       </td><td> 13.81897 </td><td>30.005643 </td><td> 24.74954 </td><td>0         </td><td>0         </td><td>2         </td><td>13.39283  </td><td>0         </td><td>487       </td><td>295       </td></tr>\n",
       "\t<tr><td>207932455 </td><td>Test      </td><td>PS        </td><td>  2.887837</td><td>2         </td><td>285       </td><td>0         </td><td> 24.27574 </td><td>111.415441</td><td> 20.474265</td><td>...       </td><td> 15.40797 </td><td>20.504288 </td><td> 45.45046 </td><td>0         </td><td>0         </td><td>0         </td><td>13.19856  </td><td>0         </td><td>283       </td><td>159       </td></tr>\n",
       "\t<tr><td>207827656 </td><td>Test      </td><td>WS        </td><td> 40.748298</td><td>2         </td><td>172       </td><td>0         </td><td>325.93333 </td><td>652.606061</td><td>128.690909</td><td>...       </td><td>115.00462 </td><td>70.918444 </td><td>184.69291 </td><td>1         </td><td>0         </td><td>0         </td><td>15.53666  </td><td>0         </td><td>191       </td><td>127       </td></tr>\n",
       "</tbody>\n",
       "</table>\n"
      ],
      "text/latex": [
       "\\begin{tabular}{r|lllllllllllllllllllllllllllllllllllllllllllllllllllllllllllllllllllllllllllllllllllllllllllllllllllllllllllllllllllllll}\n",
       " Cell & Case & Class & AngleCh1 & AngleStatusCh1 & AreaCh1 & AreaStatusCh1 & AvgIntenCh1 & AvgIntenCh2 & AvgIntenCh3 & ... & VarIntenCh1 & VarIntenCh3 & VarIntenCh4 & VarIntenStatusCh1 & VarIntenStatusCh3 & VarIntenStatusCh4 & WidthCh1 & WidthStatusCh1 & XCentroid & YCentroid\\\\\n",
       "\\hline\n",
       "\t 207827637  & Test       & PS         & 143.247705 & 1          & 185        & 0          &  15.71186  &   3.954802 &   9.548023 & ...        &  12.47468  &  7.609035  &   2.71410  & 0          & 2          & 2          & 10.64297   & 2          &  42        &  14       \\\\\n",
       "\t 207932307  & Train      & PS         & 133.752037 & 0          & 819        & 1          &  31.92327  & 205.878517 &  69.916880 & ...        &  18.80923  & 56.715352  & 118.38814  & 0          & 0          & 0          & 32.16126   & 1          & 215        & 347       \\\\\n",
       "\t 207932463  & Train      & WS         & 106.646387 & 0          & 431        & 0          &  28.03883  & 115.315534 &  63.941748 & ...        &  17.29564  & 37.671053  &  49.47052  & 0          & 0          & 0          & 21.18553   & 0          & 371        & 252       \\\\\n",
       "\t 207932470  & Train      & PS         &  69.150325 & 0          & 298        & 0          &  19.45614  & 101.294737 &  28.217544 & ...        &  13.81897  & 30.005643  &  24.74954  & 0          & 0          & 2          & 13.39283   & 0          & 487        & 295       \\\\\n",
       "\t 207932455  & Test       & PS         &   2.887837 & 2          & 285        & 0          &  24.27574  & 111.415441 &  20.474265 & ...        &  15.40797  & 20.504288  &  45.45046  & 0          & 0          & 0          & 13.19856   & 0          & 283        & 159       \\\\\n",
       "\t 207827656  & Test       & WS         &  40.748298 & 2          & 172        & 0          & 325.93333  & 652.606061 & 128.690909 & ...        & 115.00462  & 70.918444  & 184.69291  & 1          & 0          & 0          & 15.53666   & 0          & 191        & 127       \\\\\n",
       "\\end{tabular}\n"
      ],
      "text/markdown": [
       "\n",
       "Cell | Case | Class | AngleCh1 | AngleStatusCh1 | AreaCh1 | AreaStatusCh1 | AvgIntenCh1 | AvgIntenCh2 | AvgIntenCh3 | ... | VarIntenCh1 | VarIntenCh3 | VarIntenCh4 | VarIntenStatusCh1 | VarIntenStatusCh3 | VarIntenStatusCh4 | WidthCh1 | WidthStatusCh1 | XCentroid | YCentroid | \n",
       "|---|---|---|---|---|---|\n",
       "| 207827637  | Test       | PS         | 143.247705 | 1          | 185        | 0          |  15.71186  |   3.954802 |   9.548023 | ...        |  12.47468  |  7.609035  |   2.71410  | 0          | 2          | 2          | 10.64297   | 2          |  42        |  14        | \n",
       "| 207932307  | Train      | PS         | 133.752037 | 0          | 819        | 1          |  31.92327  | 205.878517 |  69.916880 | ...        |  18.80923  | 56.715352  | 118.38814  | 0          | 0          | 0          | 32.16126   | 1          | 215        | 347        | \n",
       "| 207932463  | Train      | WS         | 106.646387 | 0          | 431        | 0          |  28.03883  | 115.315534 |  63.941748 | ...        |  17.29564  | 37.671053  |  49.47052  | 0          | 0          | 0          | 21.18553   | 0          | 371        | 252        | \n",
       "| 207932470  | Train      | PS         |  69.150325 | 0          | 298        | 0          |  19.45614  | 101.294737 |  28.217544 | ...        |  13.81897  | 30.005643  |  24.74954  | 0          | 0          | 2          | 13.39283   | 0          | 487        | 295        | \n",
       "| 207932455  | Test       | PS         |   2.887837 | 2          | 285        | 0          |  24.27574  | 111.415441 |  20.474265 | ...        |  15.40797  | 20.504288  |  45.45046  | 0          | 0          | 0          | 13.19856   | 0          | 283        | 159        | \n",
       "| 207827656  | Test       | WS         |  40.748298 | 2          | 172        | 0          | 325.93333  | 652.606061 | 128.690909 | ...        | 115.00462  | 70.918444  | 184.69291  | 1          | 0          | 0          | 15.53666   | 0          | 191        | 127        | \n",
       "\n",
       "\n"
      ],
      "text/plain": [
       "  Cell      Case  Class AngleCh1   AngleStatusCh1 AreaCh1 AreaStatusCh1\n",
       "1 207827637 Test  PS    143.247705 1              185     0            \n",
       "2 207932307 Train PS    133.752037 0              819     1            \n",
       "3 207932463 Train WS    106.646387 0              431     0            \n",
       "4 207932470 Train PS     69.150325 0              298     0            \n",
       "5 207932455 Test  PS      2.887837 2              285     0            \n",
       "6 207827656 Test  WS     40.748298 2              172     0            \n",
       "  AvgIntenCh1 AvgIntenCh2 AvgIntenCh3 ... VarIntenCh1 VarIntenCh3 VarIntenCh4\n",
       "1  15.71186     3.954802    9.548023  ...  12.47468    7.609035     2.71410  \n",
       "2  31.92327   205.878517   69.916880  ...  18.80923   56.715352   118.38814  \n",
       "3  28.03883   115.315534   63.941748  ...  17.29564   37.671053    49.47052  \n",
       "4  19.45614   101.294737   28.217544  ...  13.81897   30.005643    24.74954  \n",
       "5  24.27574   111.415441   20.474265  ...  15.40797   20.504288    45.45046  \n",
       "6 325.93333   652.606061  128.690909  ... 115.00462   70.918444   184.69291  \n",
       "  VarIntenStatusCh1 VarIntenStatusCh3 VarIntenStatusCh4 WidthCh1 WidthStatusCh1\n",
       "1 0                 2                 2                 10.64297 2             \n",
       "2 0                 0                 0                 32.16126 1             \n",
       "3 0                 0                 0                 21.18553 0             \n",
       "4 0                 0                 2                 13.39283 0             \n",
       "5 0                 0                 0                 13.19856 0             \n",
       "6 1                 0                 0                 15.53666 0             \n",
       "  XCentroid YCentroid\n",
       "1  42        14      \n",
       "2 215       347      \n",
       "3 371       252      \n",
       "4 487       295      \n",
       "5 283       159      \n",
       "6 191       127      "
      ]
     },
     "metadata": {},
     "output_type": "display_data"
    }
   ],
   "source": [
    "library(AppliedPredictiveModeling)\n",
    "data(segmentationOriginal)\n",
    "head(segmentationOriginal)"
   ]
  },
  {
   "cell_type": "markdown",
   "metadata": {},
   "source": [
    "## Data Transformations for Individual Predictors\n",
    "- Centering and Scaling\n",
    "```r\n",
    "library(caret)\n",
    "preProcess(data,method = c(\"center\",\"scale\"))\n",
    "```\n",
    "- Transformations to Resolve Skewness"
   ]
  },
  {
   "cell_type": "code",
   "execution_count": 114,
   "metadata": {
    "collapsed": false,
    "scrolled": true
   },
   "outputs": [
    {
     "data": {
      "text/html": [
       "<table>\n",
       "<thead><tr><th></th><th scope=col>vars</th><th scope=col>skew</th></tr></thead>\n",
       "<tbody>\n",
       "\t<tr><th scope=row>KurtIntenCh1</th><td>68       </td><td>13.117127</td></tr>\n",
       "\t<tr><th scope=row>Cell</th><td> 1       </td><td> 7.685108</td></tr>\n",
       "\t<tr><th scope=row>KurtIntenCh4</th><td>70       </td><td> 7.475310</td></tr>\n",
       "\t<tr><th scope=row>KurtIntenCh3</th><td>69       </td><td> 6.005001</td></tr>\n",
       "\t<tr><th scope=row>EqEllipseOblateVolCh1</th><td>36       </td><td> 5.427835</td></tr>\n",
       "\t<tr><th scope=row>EqEllipseProlateVolCh1</th><td>38       </td><td> 5.394696</td></tr>\n",
       "</tbody>\n",
       "</table>\n"
      ],
      "text/latex": [
       "\\begin{tabular}{r|ll}\n",
       "  & vars & skew\\\\\n",
       "\\hline\n",
       "\tKurtIntenCh1 & 68        & 13.117127\\\\\n",
       "\tCell &  1        &  7.685108\\\\\n",
       "\tKurtIntenCh4 & 70        &  7.475310\\\\\n",
       "\tKurtIntenCh3 & 69        &  6.005001\\\\\n",
       "\tEqEllipseOblateVolCh1 & 36        &  5.427835\\\\\n",
       "\tEqEllipseProlateVolCh1 & 38        &  5.394696\\\\\n",
       "\\end{tabular}\n"
      ],
      "text/markdown": [
       "\n",
       "| <!--/--> | vars | skew | \n",
       "|---|---|---|---|---|---|\n",
       "| KurtIntenCh1 | 68        | 13.117127 | \n",
       "| Cell |  1        |  7.685108 | \n",
       "| KurtIntenCh4 | 70        |  7.475310 | \n",
       "| KurtIntenCh3 | 69        |  6.005001 | \n",
       "| EqEllipseOblateVolCh1 | 36        |  5.427835 | \n",
       "| EqEllipseProlateVolCh1 | 38        |  5.394696 | \n",
       "\n",
       "\n"
      ],
      "text/plain": [
       "                       vars skew     \n",
       "KurtIntenCh1           68   13.117127\n",
       "Cell                    1    7.685108\n",
       "KurtIntenCh4           70    7.475310\n",
       "KurtIntenCh3           69    6.005001\n",
       "EqEllipseOblateVolCh1  36    5.427835\n",
       "EqEllipseProlateVolCh1 38    5.394696"
      ]
     },
     "metadata": {},
     "output_type": "display_data"
    }
   ],
   "source": [
    "library(psych)\n",
    "skew_info <-  describe(segmentationOriginal)\n",
    "head(skew_info[order(skew_info$skew,decreasing = T),c(\"vars\",\"skew\")])\n",
    "#none of  predictors ' skew is greater than 20, but let's see how \"EqEllipseOblateVolCh1\" disturibute"
   ]
  },
  {
   "cell_type": "code",
   "execution_count": 115,
   "metadata": {
    "collapsed": false
   },
   "outputs": [
    {
     "data": {
      "image/png": "[encoded data removed]",
      "text/plain": [
       "plot without title"
      ]
     },
     "metadata": {},
     "output_type": "display_data"
    }
   ],
   "source": [
    "library(ggplot2)\n",
    "library(ggthemes)\n",
    "p1<- ggplot(segmentationOriginal, aes(EqEllipseOblateVolCh1)) + geom_histogram(bins = 30, fill = \"#d4dee7\", colour = \"black\") + theme_few()\n",
    "p2<- ggplot(segmentationOriginal, aes(log(segmentationOriginal$EqEllipseOblateVolCh1))) + geom_histogram(bins = 30, fill = \"#d4dee7\", colour = \"black\") + \n",
    "    labs(x = \"log(EqEllipseOblateVolCh1)\") + theme_few() \n",
    "library(gridExtra)\n",
    "grid.arrange(p1, p2, ncol=2)   \n",
    "#theme(panel.grid.major = element_line(linetype = \"dotted\"),  panel.background=element_rect(fill=\"white\",color=\"black\"))"
   ]
  },
  {
   "cell_type": "markdown",
   "metadata": {},
   "source": [
    "## Data Transformations for Multiple Predictors\n",
    "- Transformations to Resolve Outliers\n",
    "- Data Reduction and Feature Extraction"
   ]
  },
  {
   "cell_type": "code",
   "execution_count": 116,
   "metadata": {
    "collapsed": false,
    "scrolled": true
   },
   "outputs": [
    {
     "data": {},
     "metadata": {},
     "output_type": "display_data"
    },
    {
     "data": {},
     "metadata": {},
     "output_type": "display_data"
    },
    {
     "data": {
      "image/png": "[encoded data removed]",
      "text/plain": [
       "plot without title"
      ]
     },
     "metadata": {},
     "output_type": "display_data"
    },
    {
     "data": {
      "image/png": "[encoded data removed]",
      "text/plain": [
       "plot without title"
      ]
     },
     "metadata": {},
     "output_type": "display_data"
    }
   ],
   "source": [
    "library(AppliedPredictiveModeling)\n",
    "transparentTheme(trans = .4)\n",
    "data(mdrr)\n",
    "plotSubset <- data.frame(scale(mdrrDescr[,c(\"nC\",\"X4v\")]))\n",
    "layout(matrix(c(1,2),nr=1,byrow=T))\n",
    "xyplot(nC ~ X4v,data = plotSubset,groups = mdrrClass, auto.key = list(columns = 2))\n",
    "\n",
    "transformed <- spatialSign(plotSubset)\n",
    "transformed <- as.data.frame(transformed)\n",
    "xyplot(nC ~ X4v, data = transformed, groups = mdrrClass, auto.key = list(columns = 2)) "
   ]
  },
  {
   "cell_type": "markdown",
   "metadata": {},
   "source": [
    "## Dealing with Missing Values"
   ]
  },
  {
   "cell_type": "markdown",
   "metadata": {},
   "source": [
    "## Removing Predictors\n",
    "-  Between-Predictors Correlations"
   ]
  },
  {
   "cell_type": "markdown",
   "metadata": {},
   "source": [
    "## Adding Predictors"
   ]
  },
  {
   "cell_type": "markdown",
   "metadata": {},
   "source": [
    "## Binning Predictors"
   ]
  },
  {
   "cell_type": "markdown",
   "metadata": {},
   "source": [
    "## Computing\n",
    "- Transformations\n",
    "- Filtering\n",
    "- Creating Dummy Variables"
   ]
  },
  {
   "cell_type": "code",
   "execution_count": 117,
   "metadata": {
    "collapsed": false,
    "scrolled": true
   },
   "outputs": [],
   "source": [
    "library(AppliedPredictiveModeling)\n",
    "data(segmentationOriginal)\n",
    "segData <- subset(segmentationOriginal,Case==\"Train\")\n",
    "cellID <- segData$Cell\n",
    "class <- segData$Class\n",
    "case <- segData$Case\n",
    "segData <- segData[,-(1:3)]"
   ]
  },
  {
   "cell_type": "code",
   "execution_count": 118,
   "metadata": {
    "collapsed": false
   },
   "outputs": [
    {
     "data": {
      "text/html": [
       "<ol class=list-inline>\n",
       "\t<li>2</li>\n",
       "\t<li>4</li>\n",
       "\t<li>9</li>\n",
       "\t<li>10</li>\n",
       "\t<li>11</li>\n",
       "\t<li>12</li>\n",
       "\t<li>14</li>\n",
       "\t<li>16</li>\n",
       "\t<li>20</li>\n",
       "\t<li>21</li>\n",
       "\t<li>22</li>\n",
       "\t<li>26</li>\n",
       "\t<li>27</li>\n",
       "\t<li>28</li>\n",
       "\t<li>30</li>\n",
       "\t<li>32</li>\n",
       "\t<li>34</li>\n",
       "\t<li>36</li>\n",
       "\t<li>38</li>\n",
       "\t<li>40</li>\n",
       "\t<li>43</li>\n",
       "\t<li>44</li>\n",
       "\t<li>46</li>\n",
       "\t<li>48</li>\n",
       "\t<li>51</li>\n",
       "\t<li>52</li>\n",
       "\t<li>55</li>\n",
       "\t<li>56</li>\n",
       "\t<li>59</li>\n",
       "\t<li>60</li>\n",
       "\t<li>63</li>\n",
       "\t<li>64</li>\n",
       "\t<li>68</li>\n",
       "\t<li>69</li>\n",
       "\t<li>70</li>\n",
       "\t<li>72</li>\n",
       "\t<li>73</li>\n",
       "\t<li>74</li>\n",
       "\t<li>76</li>\n",
       "\t<li>78</li>\n",
       "\t<li>80</li>\n",
       "\t<li>82</li>\n",
       "\t<li>84</li>\n",
       "\t<li>86</li>\n",
       "\t<li>88</li>\n",
       "\t<li>92</li>\n",
       "\t<li>93</li>\n",
       "\t<li>94</li>\n",
       "\t<li>97</li>\n",
       "\t<li>98</li>\n",
       "\t<li>103</li>\n",
       "\t<li>104</li>\n",
       "\t<li>105</li>\n",
       "\t<li>106</li>\n",
       "\t<li>110</li>\n",
       "\t<li>111</li>\n",
       "\t<li>112</li>\n",
       "\t<li>114</li>\n",
       "</ol>\n"
      ],
      "text/latex": [
       "\\begin{enumerate*}\n",
       "\\item 2\n",
       "\\item 4\n",
       "\\item 9\n",
       "\\item 10\n",
       "\\item 11\n",
       "\\item 12\n",
       "\\item 14\n",
       "\\item 16\n",
       "\\item 20\n",
       "\\item 21\n",
       "\\item 22\n",
       "\\item 26\n",
       "\\item 27\n",
       "\\item 28\n",
       "\\item 30\n",
       "\\item 32\n",
       "\\item 34\n",
       "\\item 36\n",
       "\\item 38\n",
       "\\item 40\n",
       "\\item 43\n",
       "\\item 44\n",
       "\\item 46\n",
       "\\item 48\n",
       "\\item 51\n",
       "\\item 52\n",
       "\\item 55\n",
       "\\item 56\n",
       "\\item 59\n",
       "\\item 60\n",
       "\\item 63\n",
       "\\item 64\n",
       "\\item 68\n",
       "\\item 69\n",
       "\\item 70\n",
       "\\item 72\n",
       "\\item 73\n",
       "\\item 74\n",
       "\\item 76\n",
       "\\item 78\n",
       "\\item 80\n",
       "\\item 82\n",
       "\\item 84\n",
       "\\item 86\n",
       "\\item 88\n",
       "\\item 92\n",
       "\\item 93\n",
       "\\item 94\n",
       "\\item 97\n",
       "\\item 98\n",
       "\\item 103\n",
       "\\item 104\n",
       "\\item 105\n",
       "\\item 106\n",
       "\\item 110\n",
       "\\item 111\n",
       "\\item 112\n",
       "\\item 114\n",
       "\\end{enumerate*}\n"
      ],
      "text/markdown": [
       "1. 2\n",
       "2. 4\n",
       "3. 9\n",
       "4. 10\n",
       "5. 11\n",
       "6. 12\n",
       "7. 14\n",
       "8. 16\n",
       "9. 20\n",
       "10. 21\n",
       "11. 22\n",
       "12. 26\n",
       "13. 27\n",
       "14. 28\n",
       "15. 30\n",
       "16. 32\n",
       "17. 34\n",
       "18. 36\n",
       "19. 38\n",
       "20. 40\n",
       "21. 43\n",
       "22. 44\n",
       "23. 46\n",
       "24. 48\n",
       "25. 51\n",
       "26. 52\n",
       "27. 55\n",
       "28. 56\n",
       "29. 59\n",
       "30. 60\n",
       "31. 63\n",
       "32. 64\n",
       "33. 68\n",
       "34. 69\n",
       "35. 70\n",
       "36. 72\n",
       "37. 73\n",
       "38. 74\n",
       "39. 76\n",
       "40. 78\n",
       "41. 80\n",
       "42. 82\n",
       "43. 84\n",
       "44. 86\n",
       "45. 88\n",
       "46. 92\n",
       "47. 93\n",
       "48. 94\n",
       "49. 97\n",
       "50. 98\n",
       "51. 103\n",
       "52. 104\n",
       "53. 105\n",
       "54. 106\n",
       "55. 110\n",
       "56. 111\n",
       "57. 112\n",
       "58. 114\n",
       "\n",
       "\n"
      ],
      "text/plain": [
       " [1]   2   4   9  10  11  12  14  16  20  21  22  26  27  28  30  32  34  36  38\n",
       "[20]  40  43  44  46  48  51  52  55  56  59  60  63  64  68  69  70  72  73  74\n",
       "[39]  76  78  80  82  84  86  88  92  93  94  97  98 103 104 105 106 110 111 112\n",
       "[58] 114"
      ]
     },
     "metadata": {},
     "output_type": "display_data"
    }
   ],
   "source": [
    "statusColNum <- grep(\"Status\",names(segData))\n",
    "statusColNum\n",
    "segData <- segData[,-statusColNum]"
   ]
  },
  {
   "cell_type": "code",
   "execution_count": 119,
   "metadata": {
    "collapsed": false
   },
   "outputs": [
    {
     "data": {
      "text/html": [
       "<dl class=dl-horizontal>\n",
       "\t<dt>KurtIntenCh1</dt>\n",
       "\t\t<dd>12.8596479274539</dd>\n",
       "\t<dt>KurtIntenCh4</dt>\n",
       "\t\t<dd>6.91850341970924</dd>\n",
       "\t<dt>EqEllipseProlateVolCh1</dt>\n",
       "\t\t<dd>6.07083431568986</dd>\n",
       "\t<dt>EqSphereVolCh1</dt>\n",
       "\t\t<dd>5.73950154647936</dd>\n",
       "\t<dt>KurtIntenCh3</dt>\n",
       "\t\t<dd>5.5056105704113</dd>\n",
       "\t<dt>EqEllipseOblateVolCh1</dt>\n",
       "\t\t<dd>5.48931343300174</dd>\n",
       "\t<dt>TotalIntenCh1</dt>\n",
       "\t\t<dd>5.39960368647126</dd>\n",
       "\t<dt>EqSphereAreaCh1</dt>\n",
       "\t\t<dd>3.52514046327027</dd>\n",
       "\t<dt>AreaCh1</dt>\n",
       "\t\t<dd>3.52510744966065</dd>\n",
       "\t<dt>IntenCoocContrastCh4</dt>\n",
       "\t\t<dd>3.47030470398723</dd>\n",
       "\t<dt>TotalIntenCh4</dt>\n",
       "\t\t<dd>3.14949912522936</dd>\n",
       "\t<dt>AvgIntenCh1</dt>\n",
       "\t\t<dd>2.9591852447557</dd>\n",
       "\t<dt>DiffIntenDensityCh1</dt>\n",
       "\t\t<dd>2.7604733777249</dd>\n",
       "\t<dt>EqEllipseLWRCh1</dt>\n",
       "\t\t<dd>2.69399391791095</dd>\n",
       "\t<dt>VarIntenCh1</dt>\n",
       "\t\t<dd>2.6779354901537</dd>\n",
       "\t<dt>SpotFiberCountCh4</dt>\n",
       "\t\t<dd>2.62147412575614</dd>\n",
       "\t<dt>PerimCh1</dt>\n",
       "\t\t<dd>2.58948824350952</dd>\n",
       "\t<dt>IntenCoocASMCh4</dt>\n",
       "\t\t<dd>2.51181113845362</dd>\n",
       "\t<dt>ShapeLWRCh1</dt>\n",
       "\t\t<dd>2.49099517706661</dd>\n",
       "\t<dt>ConvexHullAreaRatioCh1</dt>\n",
       "\t\t<dd>2.47658194185169</dd>\n",
       "\t<dt>TotalIntenCh3</dt>\n",
       "\t\t<dd>2.43167183641343</dd>\n",
       "\t<dt>IntenCoocASMCh3</dt>\n",
       "\t\t<dd>2.41668746501994</dd>\n",
       "\t<dt>NeighborMinDistCh1</dt>\n",
       "\t\t<dd>2.40642938177454</dd>\n",
       "\t<dt>VarIntenCh3</dt>\n",
       "\t\t<dd>2.39162433392159</dd>\n",
       "\t<dt>FiberLengthCh1</dt>\n",
       "\t\t<dd>2.33812031626674</dd>\n",
       "\t<dt>SkewIntenCh4</dt>\n",
       "\t\t<dd>2.29168969583988</dd>\n",
       "\t<dt>AvgIntenCh3</dt>\n",
       "\t\t<dd>2.20234214371746</dd>\n",
       "\t<dt>SkewIntenCh1</dt>\n",
       "\t\t<dd>2.18798318933761</dd>\n",
       "\t<dt>SkewIntenCh3</dt>\n",
       "\t\t<dd>2.17169123247201</dd>\n",
       "\t<dt>VarIntenCh4</dt>\n",
       "\t\t<dd>2.1617431609491</dd>\n",
       "\t<dt>ShapeP2ACh1</dt>\n",
       "\t\t<dd>2.15765194997643</dd>\n",
       "\t<dt>DiffIntenDensityCh3</dt>\n",
       "\t\t<dd>2.08518781777102</dd>\n",
       "\t<dt>EqCircDiamCh1</dt>\n",
       "\t\t<dd>1.95553034810571</dd>\n",
       "\t<dt>LengthCh1</dt>\n",
       "\t\t<dd>1.90911467710512</dd>\n",
       "\t<dt>AvgIntenCh4</dt>\n",
       "\t\t<dd>1.9004712817314</dd>\n",
       "\t<dt>DiffIntenDensityCh4</dt>\n",
       "\t\t<dd>1.89923286896112</dd>\n",
       "\t<dt>WidthCh1</dt>\n",
       "\t\t<dd>1.88008416518389</dd>\n",
       "\t<dt>IntenCoocContrastCh3</dt>\n",
       "\t\t<dd>1.64998548758899</dd>\n",
       "\t<dt>SpotFiberCountCh3</dt>\n",
       "\t\t<dd>1.56001537101679</dd>\n",
       "\t<dt>TotalIntenCh2</dt>\n",
       "\t\t<dd>1.44494714755029</dd>\n",
       "\t<dt>FiberWidthCh1</dt>\n",
       "\t\t<dd>1.10843771994827</dd>\n",
       "\t<dt>IntenCoocMaxCh4</dt>\n",
       "\t\t<dd>1.06382596828376</dd>\n",
       "\t<dt>IntenCoocMaxCh3</dt>\n",
       "\t\t<dd>0.97764759937945</dd>\n",
       "\t<dt>AvgIntenCh2</dt>\n",
       "\t\t<dd>0.848160329578199</dd>\n",
       "\t<dt>YCentroid</dt>\n",
       "\t\t<dd>0.495653802883411</dd>\n",
       "\t<dt>EntropyIntenCh1</dt>\n",
       "\t\t<dd>0.39789482501604</dd>\n",
       "\t<dt>NeighborAvgDistCh1</dt>\n",
       "\t\t<dd>0.379234277388841</dd>\n",
       "\t<dt>AngleCh1</dt>\n",
       "\t\t<dd>-0.024262516546972</dd>\n",
       "\t<dt>FiberAlign2Ch3</dt>\n",
       "\t\t<dd>-0.0850775244056405</dd>\n",
       "\t<dt>XCentroid</dt>\n",
       "\t\t<dd>-0.105589481923226</dd>\n",
       "\t<dt>FiberAlign2Ch4</dt>\n",
       "\t\t<dd>-0.108455828038894</dd>\n",
       "\t<dt>NeighborVarDistCh1</dt>\n",
       "\t\t<dd>-0.112712938660758</dd>\n",
       "\t<dt>ShapeBFRCh1</dt>\n",
       "\t\t<dd>-0.444749207680882</dd>\n",
       "\t<dt>EntropyIntenCh4</dt>\n",
       "\t\t<dd>-0.827904916806819</dd>\n",
       "\t<dt>EntropyIntenCh3</dt>\n",
       "\t\t<dd>-1.00295336380035</dd>\n",
       "\t<dt>IntenCoocEntropyCh3</dt>\n",
       "\t\t<dd>-1.07569444059754</dd>\n",
       "\t<dt>IntenCoocEntropyCh4</dt>\n",
       "\t\t<dd>-1.16028407944768</dd>\n",
       "\t<dt>ConvexHullPerimRatioCh1</dt>\n",
       "\t\t<dd>-1.30409896287058</dd>\n",
       "</dl>\n"
      ],
      "text/latex": [
       "\\begin{description*}\n",
       "\\item[KurtIntenCh1] 12.8596479274539\n",
       "\\item[KurtIntenCh4] 6.91850341970924\n",
       "\\item[EqEllipseProlateVolCh1] 6.07083431568986\n",
       "\\item[EqSphereVolCh1] 5.73950154647936\n",
       "\\item[KurtIntenCh3] 5.5056105704113\n",
       "\\item[EqEllipseOblateVolCh1] 5.48931343300174\n",
       "\\item[TotalIntenCh1] 5.39960368647126\n",
       "\\item[EqSphereAreaCh1] 3.52514046327027\n",
       "\\item[AreaCh1] 3.52510744966065\n",
       "\\item[IntenCoocContrastCh4] 3.47030470398723\n",
       "\\item[TotalIntenCh4] 3.14949912522936\n",
       "\\item[AvgIntenCh1] 2.9591852447557\n",
       "\\item[DiffIntenDensityCh1] 2.7604733777249\n",
       "\\item[EqEllipseLWRCh1] 2.69399391791095\n",
       "\\item[VarIntenCh1] 2.6779354901537\n",
       "\\item[SpotFiberCountCh4] 2.62147412575614\n",
       "\\item[PerimCh1] 2.58948824350952\n",
       "\\item[IntenCoocASMCh4] 2.51181113845362\n",
       "\\item[ShapeLWRCh1] 2.49099517706661\n",
       "\\item[ConvexHullAreaRatioCh1] 2.47658194185169\n",
       "\\item[TotalIntenCh3] 2.43167183641343\n",
       "\\item[IntenCoocASMCh3] 2.41668746501994\n",
       "\\item[NeighborMinDistCh1] 2.40642938177454\n",
       "\\item[VarIntenCh3] 2.39162433392159\n",
       "\\item[FiberLengthCh1] 2.33812031626674\n",
       "\\item[SkewIntenCh4] 2.29168969583988\n",
       "\\item[AvgIntenCh3] 2.20234214371746\n",
       "\\item[SkewIntenCh1] 2.18798318933761\n",
       "\\item[SkewIntenCh3] 2.17169123247201\n",
       "\\item[VarIntenCh4] 2.1617431609491\n",
       "\\item[ShapeP2ACh1] 2.15765194997643\n",
       "\\item[DiffIntenDensityCh3] 2.08518781777102\n",
       "\\item[EqCircDiamCh1] 1.95553034810571\n",
       "\\item[LengthCh1] 1.90911467710512\n",
       "\\item[AvgIntenCh4] 1.9004712817314\n",
       "\\item[DiffIntenDensityCh4] 1.89923286896112\n",
       "\\item[WidthCh1] 1.88008416518389\n",
       "\\item[IntenCoocContrastCh3] 1.64998548758899\n",
       "\\item[SpotFiberCountCh3] 1.56001537101679\n",
       "\\item[TotalIntenCh2] 1.44494714755029\n",
       "\\item[FiberWidthCh1] 1.10843771994827\n",
       "\\item[IntenCoocMaxCh4] 1.06382596828376\n",
       "\\item[IntenCoocMaxCh3] 0.97764759937945\n",
       "\\item[AvgIntenCh2] 0.848160329578199\n",
       "\\item[YCentroid] 0.495653802883411\n",
       "\\item[EntropyIntenCh1] 0.39789482501604\n",
       "\\item[NeighborAvgDistCh1] 0.379234277388841\n",
       "\\item[AngleCh1] -0.024262516546972\n",
       "\\item[FiberAlign2Ch3] -0.0850775244056405\n",
       "\\item[XCentroid] -0.105589481923226\n",
       "\\item[FiberAlign2Ch4] -0.108455828038894\n",
       "\\item[NeighborVarDistCh1] -0.112712938660758\n",
       "\\item[ShapeBFRCh1] -0.444749207680882\n",
       "\\item[EntropyIntenCh4] -0.827904916806819\n",
       "\\item[EntropyIntenCh3] -1.00295336380035\n",
       "\\item[IntenCoocEntropyCh3] -1.07569444059754\n",
       "\\item[IntenCoocEntropyCh4] -1.16028407944768\n",
       "\\item[ConvexHullPerimRatioCh1] -1.30409896287058\n",
       "\\end{description*}\n"
      ],
      "text/markdown": [
       "KurtIntenCh1\n",
       ":   12.8596479274539KurtIntenCh4\n",
       ":   6.91850341970924EqEllipseProlateVolCh1\n",
       ":   6.07083431568986EqSphereVolCh1\n",
       ":   5.73950154647936KurtIntenCh3\n",
       ":   5.5056105704113EqEllipseOblateVolCh1\n",
       ":   5.48931343300174TotalIntenCh1\n",
       ":   5.39960368647126EqSphereAreaCh1\n",
       ":   3.52514046327027AreaCh1\n",
       ":   3.52510744966065IntenCoocContrastCh4\n",
       ":   3.47030470398723TotalIntenCh4\n",
       ":   3.14949912522936AvgIntenCh1\n",
       ":   2.9591852447557DiffIntenDensityCh1\n",
       ":   2.7604733777249EqEllipseLWRCh1\n",
       ":   2.69399391791095VarIntenCh1\n",
       ":   2.6779354901537SpotFiberCountCh4\n",
       ":   2.62147412575614PerimCh1\n",
       ":   2.58948824350952IntenCoocASMCh4\n",
       ":   2.51181113845362ShapeLWRCh1\n",
       ":   2.49099517706661ConvexHullAreaRatioCh1\n",
       ":   2.47658194185169TotalIntenCh3\n",
       ":   2.43167183641343IntenCoocASMCh3\n",
       ":   2.41668746501994NeighborMinDistCh1\n",
       ":   2.40642938177454VarIntenCh3\n",
       ":   2.39162433392159FiberLengthCh1\n",
       ":   2.33812031626674SkewIntenCh4\n",
       ":   2.29168969583988AvgIntenCh3\n",
       ":   2.20234214371746SkewIntenCh1\n",
       ":   2.18798318933761SkewIntenCh3\n",
       ":   2.17169123247201VarIntenCh4\n",
       ":   2.1617431609491ShapeP2ACh1\n",
       ":   2.15765194997643DiffIntenDensityCh3\n",
       ":   2.08518781777102EqCircDiamCh1\n",
       ":   1.95553034810571LengthCh1\n",
       ":   1.90911467710512AvgIntenCh4\n",
       ":   1.9004712817314DiffIntenDensityCh4\n",
       ":   1.89923286896112WidthCh1\n",
       ":   1.88008416518389IntenCoocContrastCh3\n",
       ":   1.64998548758899SpotFiberCountCh3\n",
       ":   1.56001537101679TotalIntenCh2\n",
       ":   1.44494714755029FiberWidthCh1\n",
       ":   1.10843771994827IntenCoocMaxCh4\n",
       ":   1.06382596828376IntenCoocMaxCh3\n",
       ":   0.97764759937945AvgIntenCh2\n",
       ":   0.848160329578199YCentroid\n",
       ":   0.495653802883411EntropyIntenCh1\n",
       ":   0.39789482501604NeighborAvgDistCh1\n",
       ":   0.379234277388841AngleCh1\n",
       ":   -0.024262516546972FiberAlign2Ch3\n",
       ":   -0.0850775244056405XCentroid\n",
       ":   -0.105589481923226FiberAlign2Ch4\n",
       ":   -0.108455828038894NeighborVarDistCh1\n",
       ":   -0.112712938660758ShapeBFRCh1\n",
       ":   -0.444749207680882EntropyIntenCh4\n",
       ":   -0.827904916806819EntropyIntenCh3\n",
       ":   -1.00295336380035IntenCoocEntropyCh3\n",
       ":   -1.07569444059754IntenCoocEntropyCh4\n",
       ":   -1.16028407944768ConvexHullPerimRatioCh1\n",
       ":   -1.30409896287058\n",
       "\n"
      ],
      "text/plain": [
       "           KurtIntenCh1            KurtIntenCh4  EqEllipseProlateVolCh1 \n",
       "            12.85964793              6.91850342              6.07083432 \n",
       "         EqSphereVolCh1            KurtIntenCh3   EqEllipseOblateVolCh1 \n",
       "             5.73950155              5.50561057              5.48931343 \n",
       "          TotalIntenCh1         EqSphereAreaCh1                 AreaCh1 \n",
       "             5.39960369              3.52514046              3.52510745 \n",
       "   IntenCoocContrastCh4           TotalIntenCh4             AvgIntenCh1 \n",
       "             3.47030470              3.14949913              2.95918524 \n",
       "    DiffIntenDensityCh1         EqEllipseLWRCh1             VarIntenCh1 \n",
       "             2.76047338              2.69399392              2.67793549 \n",
       "      SpotFiberCountCh4                PerimCh1         IntenCoocASMCh4 \n",
       "             2.62147413              2.58948824              2.51181114 \n",
       "            ShapeLWRCh1  ConvexHullAreaRatioCh1           TotalIntenCh3 \n",
       "             2.49099518              2.47658194              2.43167184 \n",
       "        IntenCoocASMCh3      NeighborMinDistCh1             VarIntenCh3 \n",
       "             2.41668747              2.40642938              2.39162433 \n",
       "         FiberLengthCh1            SkewIntenCh4             AvgIntenCh3 \n",
       "             2.33812032              2.29168970              2.20234214 \n",
       "           SkewIntenCh1            SkewIntenCh3             VarIntenCh4 \n",
       "             2.18798319              2.17169123              2.16174316 \n",
       "            ShapeP2ACh1     DiffIntenDensityCh3           EqCircDiamCh1 \n",
       "             2.15765195              2.08518782              1.95553035 \n",
       "              LengthCh1             AvgIntenCh4     DiffIntenDensityCh4 \n",
       "             1.90911468              1.90047128              1.89923287 \n",
       "               WidthCh1    IntenCoocContrastCh3       SpotFiberCountCh3 \n",
       "             1.88008417              1.64998549              1.56001537 \n",
       "          TotalIntenCh2           FiberWidthCh1         IntenCoocMaxCh4 \n",
       "             1.44494715              1.10843772              1.06382597 \n",
       "        IntenCoocMaxCh3             AvgIntenCh2               YCentroid \n",
       "             0.97764760              0.84816033              0.49565380 \n",
       "        EntropyIntenCh1      NeighborAvgDistCh1                AngleCh1 \n",
       "             0.39789483              0.37923428             -0.02426252 \n",
       "         FiberAlign2Ch3               XCentroid          FiberAlign2Ch4 \n",
       "            -0.08507752             -0.10558948             -0.10845583 \n",
       "     NeighborVarDistCh1             ShapeBFRCh1         EntropyIntenCh4 \n",
       "            -0.11271294             -0.44474921             -0.82790492 \n",
       "        EntropyIntenCh3     IntenCoocEntropyCh3     IntenCoocEntropyCh4 \n",
       "            -1.00295336             -1.07569444             -1.16028408 \n",
       "ConvexHullPerimRatioCh1 \n",
       "            -1.30409896 "
      ]
     },
     "metadata": {},
     "output_type": "display_data"
    }
   ],
   "source": [
    "#Transformations\n",
    "library(e1071)\n",
    "skewValues <- apply(segData,2,skewness)\n",
    "sort(skewValues,decreasing = T)"
   ]
  },
  {
   "cell_type": "code",
   "execution_count": 120,
   "metadata": {
    "collapsed": false
   },
   "outputs": [
    {
     "data": {
      "text/plain": [
       "Box-Cox Transformation\n",
       "\n",
       "1009 data points used to estimate Lambda\n",
       "\n",
       "Input data summary:\n",
       "   Min. 1st Qu.  Median    Mean 3rd Qu.    Max. \n",
       "  150.0   194.0   256.0   325.1   376.0  2186.0 \n",
       "\n",
       "Largest/Smallest: 14.6 \n",
       "Sample Skewness: 3.53 \n",
       "\n",
       "Estimated Lambda: -0.9 \n"
      ]
     },
     "metadata": {},
     "output_type": "display_data"
    },
    {
     "data": {
      "text/html": [
       "<ol class=list-inline>\n",
       "\t<li>1.10845771566787</li>\n",
       "\t<li>1.10638256152745</li>\n",
       "\t<li>1.10451993595484</li>\n",
       "\t<li>1.1035542485825</li>\n",
       "\t<li>1.10360699137253</li>\n",
       "\t<li>1.10552302915978</li>\n",
       "</ol>\n"
      ],
      "text/latex": [
       "\\begin{enumerate*}\n",
       "\\item 1.10845771566787\n",
       "\\item 1.10638256152745\n",
       "\\item 1.10451993595484\n",
       "\\item 1.1035542485825\n",
       "\\item 1.10360699137253\n",
       "\\item 1.10552302915978\n",
       "\\end{enumerate*}\n"
      ],
      "text/markdown": [
       "1. 1.10845771566787\n",
       "2. 1.10638256152745\n",
       "3. 1.10451993595484\n",
       "4. 1.1035542485825\n",
       "5. 1.10360699137253\n",
       "6. 1.10552302915978\n",
       "\n",
       "\n"
      ],
      "text/plain": [
       "[1] 1.108458 1.106383 1.104520 1.103554 1.103607 1.105523"
      ]
     },
     "metadata": {},
     "output_type": "display_data"
    }
   ],
   "source": [
    "library(caret)\n",
    "Ch1AreaTrans <- BoxCoxTrans(segData$AreaCh1)\n",
    "Ch1AreaTrans\n",
    "predict(Ch1AreaTrans,head(segData$AreaCh1))"
   ]
  },
  {
   "cell_type": "code",
   "execution_count": 121,
   "metadata": {
    "collapsed": false
   },
   "outputs": [
    {
     "data": {
      "text/html": [
       "<ol class=list-inline>\n",
       "\t<li>20.9123592789234</li>\n",
       "\t<li>17.0133003625848</li>\n",
       "\t<li>11.886891590935</li>\n",
       "</ol>\n"
      ],
      "text/latex": [
       "\\begin{enumerate*}\n",
       "\\item 20.9123592789234\n",
       "\\item 17.0133003625848\n",
       "\\item 11.886891590935\n",
       "\\end{enumerate*}\n"
      ],
      "text/markdown": [
       "1. 20.9123592789234\n",
       "2. 17.0133003625848\n",
       "3. 11.886891590935\n",
       "\n",
       "\n"
      ],
      "text/plain": [
       "[1] 20.91236 17.01330 11.88689"
      ]
     },
     "metadata": {},
     "output_type": "display_data"
    }
   ],
   "source": [
    "#the data are centered and scaled prior to PCA\n",
    "pcaObject <- prcomp(segData,center = T,scale.=T)\n",
    "percentVariance <- pcaObject$sd^2/sum(pcaObject$sd^2)*100\n",
    "percentVariance[1:3]"
   ]
  },
  {
   "cell_type": "code",
   "execution_count": 122,
   "metadata": {
    "collapsed": false
   },
   "outputs": [
    {
     "data": {
      "text/html": [
       "<table>\n",
       "<thead><tr><th></th><th scope=col>PC1</th><th scope=col>PC2</th><th scope=col>PC3</th><th scope=col>PC4</th><th scope=col>PC5</th></tr></thead>\n",
       "<tbody>\n",
       "\t<tr><th scope=row>2</th><td> 5.0985749 </td><td> 4.5513804 </td><td>-0.03345155</td><td>-2.640339  </td><td> 1.2783212 </td></tr>\n",
       "\t<tr><th scope=row>3</th><td>-0.2546261 </td><td> 1.1980326 </td><td>-1.02059569</td><td>-3.731079  </td><td> 0.9994635 </td></tr>\n",
       "\t<tr><th scope=row>4</th><td> 1.2928941 </td><td>-1.8639348 </td><td>-1.25110461</td><td>-2.414857  </td><td>-1.4914838 </td></tr>\n",
       "\t<tr><th scope=row>12</th><td>-1.4646613 </td><td>-1.5658327 </td><td> 0.46962088</td><td>-3.388716  </td><td>-0.3302324 </td></tr>\n",
       "\t<tr><th scope=row>15</th><td>-0.8762771 </td><td>-1.2790055 </td><td>-1.33794261</td><td>-3.516794  </td><td> 0.3936099 </td></tr>\n",
       "\t<tr><th scope=row>16</th><td>-0.8615416 </td><td>-0.3286842 </td><td>-0.15546723</td><td>-2.206636  </td><td> 1.4731658 </td></tr>\n",
       "</tbody>\n",
       "</table>\n"
      ],
      "text/latex": [
       "\\begin{tabular}{r|lllll}\n",
       "  & PC1 & PC2 & PC3 & PC4 & PC5\\\\\n",
       "\\hline\n",
       "\t2 &  5.0985749  &  4.5513804  & -0.03345155 & -2.640339   &  1.2783212 \\\\\n",
       "\t3 & -0.2546261  &  1.1980326  & -1.02059569 & -3.731079   &  0.9994635 \\\\\n",
       "\t4 &  1.2928941  & -1.8639348  & -1.25110461 & -2.414857   & -1.4914838 \\\\\n",
       "\t12 & -1.4646613  & -1.5658327  &  0.46962088 & -3.388716   & -0.3302324 \\\\\n",
       "\t15 & -0.8762771  & -1.2790055  & -1.33794261 & -3.516794   &  0.3936099 \\\\\n",
       "\t16 & -0.8615416  & -0.3286842  & -0.15546723 & -2.206636   &  1.4731658 \\\\\n",
       "\\end{tabular}\n"
      ],
      "text/markdown": [
       "\n",
       "| <!--/--> | PC1 | PC2 | PC3 | PC4 | PC5 | \n",
       "|---|---|---|---|---|---|\n",
       "| 2 |  5.0985749  |  4.5513804  | -0.03345155 | -2.640339   |  1.2783212  | \n",
       "| 3 | -0.2546261  |  1.1980326  | -1.02059569 | -3.731079   |  0.9994635  | \n",
       "| 4 |  1.2928941  | -1.8639348  | -1.25110461 | -2.414857   | -1.4914838  | \n",
       "| 12 | -1.4646613  | -1.5658327  |  0.46962088 | -3.388716   | -0.3302324  | \n",
       "| 15 | -0.8762771  | -1.2790055  | -1.33794261 | -3.516794   |  0.3936099  | \n",
       "| 16 | -0.8615416  | -0.3286842  | -0.15546723 | -2.206636   |  1.4731658  | \n",
       "\n",
       "\n"
      ],
      "text/plain": [
       "   PC1        PC2        PC3         PC4       PC5       \n",
       "2   5.0985749  4.5513804 -0.03345155 -2.640339  1.2783212\n",
       "3  -0.2546261  1.1980326 -1.02059569 -3.731079  0.9994635\n",
       "4   1.2928941 -1.8639348 -1.25110461 -2.414857 -1.4914838\n",
       "12 -1.4646613 -1.5658327  0.46962088 -3.388716 -0.3302324\n",
       "15 -0.8762771 -1.2790055 -1.33794261 -3.516794  0.3936099\n",
       "16 -0.8615416 -0.3286842 -0.15546723 -2.206636  1.4731658"
      ]
     },
     "metadata": {},
     "output_type": "display_data"
    }
   ],
   "source": [
    "head(pcaObject$x[,1:5])"
   ]
  },
  {
   "cell_type": "code",
   "execution_count": 123,
   "metadata": {
    "collapsed": false
   },
   "outputs": [
    {
     "data": {
      "text/html": [
       "<table>\n",
       "<thead><tr><th></th><th scope=col>PC1</th><th scope=col>PC2</th><th scope=col>PC3</th></tr></thead>\n",
       "<tbody>\n",
       "\t<tr><th scope=row>AngleCh1</th><td> 0.001213758</td><td>-0.01284461 </td><td> 0.006816473</td></tr>\n",
       "\t<tr><th scope=row>AreaCh1</th><td> 0.229171873</td><td> 0.16061734 </td><td> 0.089811727</td></tr>\n",
       "\t<tr><th scope=row>AvgIntenCh1</th><td>-0.102708778</td><td> 0.17971332 </td><td> 0.067696745</td></tr>\n",
       "\t<tr><th scope=row>AvgIntenCh2</th><td>-0.154828672</td><td> 0.16376018 </td><td> 0.073534399</td></tr>\n",
       "\t<tr><th scope=row>AvgIntenCh3</th><td>-0.058042158</td><td> 0.11197704 </td><td>-0.185473286</td></tr>\n",
       "\t<tr><th scope=row>AvgIntenCh4</th><td>-0.117343465</td><td> 0.21039086 </td><td>-0.105060977</td></tr>\n",
       "</tbody>\n",
       "</table>\n"
      ],
      "text/latex": [
       "\\begin{tabular}{r|lll}\n",
       "  & PC1 & PC2 & PC3\\\\\n",
       "\\hline\n",
       "\tAngleCh1 &  0.001213758 & -0.01284461  &  0.006816473\\\\\n",
       "\tAreaCh1 &  0.229171873 &  0.16061734  &  0.089811727\\\\\n",
       "\tAvgIntenCh1 & -0.102708778 &  0.17971332  &  0.067696745\\\\\n",
       "\tAvgIntenCh2 & -0.154828672 &  0.16376018  &  0.073534399\\\\\n",
       "\tAvgIntenCh3 & -0.058042158 &  0.11197704  & -0.185473286\\\\\n",
       "\tAvgIntenCh4 & -0.117343465 &  0.21039086  & -0.105060977\\\\\n",
       "\\end{tabular}\n"
      ],
      "text/markdown": [
       "\n",
       "| <!--/--> | PC1 | PC2 | PC3 | \n",
       "|---|---|---|---|---|---|\n",
       "| AngleCh1 |  0.001213758 | -0.01284461  |  0.006816473 | \n",
       "| AreaCh1 |  0.229171873 |  0.16061734  |  0.089811727 | \n",
       "| AvgIntenCh1 | -0.102708778 |  0.17971332  |  0.067696745 | \n",
       "| AvgIntenCh2 | -0.154828672 |  0.16376018  |  0.073534399 | \n",
       "| AvgIntenCh3 | -0.058042158 |  0.11197704  | -0.185473286 | \n",
       "| AvgIntenCh4 | -0.117343465 |  0.21039086  | -0.105060977 | \n",
       "\n",
       "\n"
      ],
      "text/plain": [
       "            PC1          PC2         PC3         \n",
       "AngleCh1     0.001213758 -0.01284461  0.006816473\n",
       "AreaCh1      0.229171873  0.16061734  0.089811727\n",
       "AvgIntenCh1 -0.102708778  0.17971332  0.067696745\n",
       "AvgIntenCh2 -0.154828672  0.16376018  0.073534399\n",
       "AvgIntenCh3 -0.058042158  0.11197704 -0.185473286\n",
       "AvgIntenCh4 -0.117343465  0.21039086 -0.105060977"
      ]
     },
     "metadata": {},
     "output_type": "display_data"
    }
   ],
   "source": [
    "head(pcaObject$rotation[,1:3])"
   ]
  },
  {
   "cell_type": "code",
   "execution_count": 124,
   "metadata": {
    "collapsed": false
   },
   "outputs": [
    {
     "data": {
      "text/plain": [
       "Created from 1009 samples and 58 variables\n",
       "\n",
       "Pre-processing:\n",
       "  - Box-Cox transformation (47)\n",
       "  - centered (58)\n",
       "  - ignored (0)\n",
       "  - principal component signal extraction (58)\n",
       "  - scaled (58)\n",
       "\n",
       "Lambda estimates for Box-Cox transformation:\n",
       "    Min.  1st Qu.   Median     Mean  3rd Qu.     Max. \n",
       "-2.00000 -0.50000 -0.10000  0.05106  0.30000  2.00000 \n",
       "\n",
       "PCA needed 19 components to capture 95 percent of the variance"
      ]
     },
     "metadata": {},
     "output_type": "display_data"
    },
    {
     "data": {
      "text/html": [
       "<table>\n",
       "<thead><tr><th></th><th scope=col>PC1</th><th scope=col>PC2</th><th scope=col>PC3</th><th scope=col>PC4</th><th scope=col>PC5</th></tr></thead>\n",
       "<tbody>\n",
       "\t<tr><th scope=row>2</th><td> 1.5684742</td><td> 6.2907855</td><td>-0.3333299</td><td>-3.063327 </td><td>-1.3415782</td></tr>\n",
       "\t<tr><th scope=row>3</th><td>-0.6664055</td><td> 2.0455375</td><td>-1.4416841</td><td>-4.701183 </td><td>-1.7422020</td></tr>\n",
       "\t<tr><th scope=row>4</th><td> 3.7500055</td><td>-0.3915610</td><td>-0.6690260</td><td>-4.020753 </td><td> 1.7927777</td></tr>\n",
       "\t<tr><th scope=row>12</th><td> 0.3768509</td><td>-2.1897554</td><td> 1.4380167</td><td>-5.327116 </td><td>-0.4066757</td></tr>\n",
       "\t<tr><th scope=row>15</th><td> 1.0644951</td><td>-1.4646516</td><td>-0.9900478</td><td>-5.627351 </td><td>-0.8650174</td></tr>\n",
       "\t<tr><th scope=row>16</th><td>-0.3798629</td><td> 0.2173028</td><td> 0.4387980</td><td>-2.069880 </td><td>-1.9363920</td></tr>\n",
       "</tbody>\n",
       "</table>\n"
      ],
      "text/latex": [
       "\\begin{tabular}{r|lllll}\n",
       "  & PC1 & PC2 & PC3 & PC4 & PC5\\\\\n",
       "\\hline\n",
       "\t2 &  1.5684742 &  6.2907855 & -0.3333299 & -3.063327  & -1.3415782\\\\\n",
       "\t3 & -0.6664055 &  2.0455375 & -1.4416841 & -4.701183  & -1.7422020\\\\\n",
       "\t4 &  3.7500055 & -0.3915610 & -0.6690260 & -4.020753  &  1.7927777\\\\\n",
       "\t12 &  0.3768509 & -2.1897554 &  1.4380167 & -5.327116  & -0.4066757\\\\\n",
       "\t15 &  1.0644951 & -1.4646516 & -0.9900478 & -5.627351  & -0.8650174\\\\\n",
       "\t16 & -0.3798629 &  0.2173028 &  0.4387980 & -2.069880  & -1.9363920\\\\\n",
       "\\end{tabular}\n"
      ],
      "text/markdown": [
       "\n",
       "| <!--/--> | PC1 | PC2 | PC3 | PC4 | PC5 | \n",
       "|---|---|---|---|---|---|\n",
       "| 2 |  1.5684742 |  6.2907855 | -0.3333299 | -3.063327  | -1.3415782 | \n",
       "| 3 | -0.6664055 |  2.0455375 | -1.4416841 | -4.701183  | -1.7422020 | \n",
       "| 4 |  3.7500055 | -0.3915610 | -0.6690260 | -4.020753  |  1.7927777 | \n",
       "| 12 |  0.3768509 | -2.1897554 |  1.4380167 | -5.327116  | -0.4066757 | \n",
       "| 15 |  1.0644951 | -1.4646516 | -0.9900478 | -5.627351  | -0.8650174 | \n",
       "| 16 | -0.3798629 |  0.2173028 |  0.4387980 | -2.069880  | -1.9363920 | \n",
       "\n",
       "\n"
      ],
      "text/plain": [
       "   PC1        PC2        PC3        PC4       PC5       \n",
       "2   1.5684742  6.2907855 -0.3333299 -3.063327 -1.3415782\n",
       "3  -0.6664055  2.0455375 -1.4416841 -4.701183 -1.7422020\n",
       "4   3.7500055 -0.3915610 -0.6690260 -4.020753  1.7927777\n",
       "12  0.3768509 -2.1897554  1.4380167 -5.327116 -0.4066757\n",
       "15  1.0644951 -1.4646516 -0.9900478 -5.627351 -0.8650174\n",
       "16 -0.3798629  0.2173028  0.4387980 -2.069880 -1.9363920"
      ]
     },
     "metadata": {},
     "output_type": "display_data"
    }
   ],
   "source": [
    "trans <- preProcess(segData,\n",
    "                   method=c(\"BoxCox\",\"center\",\"scale\",\"pca\"))\n",
    "trans\n",
    "transformed <- predict(trans,segData)\n",
    "head(transformed[,1:5])"
   ]
  },
  {
   "cell_type": "code",
   "execution_count": 125,
   "metadata": {
    "collapsed": false
   },
   "outputs": [
    {
     "data": {
      "text/html": [],
      "text/latex": [],
      "text/markdown": [],
      "text/plain": [
       "integer(0)"
      ]
     },
     "metadata": {},
     "output_type": "display_data"
    }
   ],
   "source": [
    "#Filtering\n",
    "nearZeroVar(segData)"
   ]
  },
  {
   "cell_type": "code",
   "execution_count": 126,
   "metadata": {
    "collapsed": false
   },
   "outputs": [
    {
     "data": {
      "text/html": [
       "<ol class=list-inline>\n",
       "\t<li>58</li>\n",
       "\t<li>58</li>\n",
       "</ol>\n"
      ],
      "text/latex": [
       "\\begin{enumerate*}\n",
       "\\item 58\n",
       "\\item 58\n",
       "\\end{enumerate*}\n"
      ],
      "text/markdown": [
       "1. 58\n",
       "2. 58\n",
       "\n",
       "\n"
      ],
      "text/plain": [
       "[1] 58 58"
      ]
     },
     "metadata": {},
     "output_type": "display_data"
    },
    {
     "data": {
      "text/html": [
       "<table>\n",
       "<thead><tr><th></th><th scope=col>AngleCh1</th><th scope=col>AreaCh1</th><th scope=col>AvgIntenCh1</th><th scope=col>AvgIntenCh2</th></tr></thead>\n",
       "<tbody>\n",
       "\t<tr><th scope=row>AngleCh1</th><td> 1.000000000</td><td>-0.002627172</td><td>-0.04300776 </td><td>-0.01944681 </td></tr>\n",
       "\t<tr><th scope=row>AreaCh1</th><td>-0.002627172</td><td> 1.000000000</td><td>-0.02529739 </td><td>-0.15330301 </td></tr>\n",
       "\t<tr><th scope=row>AvgIntenCh1</th><td>-0.043007757</td><td>-0.025297394</td><td> 1.00000000 </td><td> 0.52521711 </td></tr>\n",
       "\t<tr><th scope=row>AvgIntenCh2</th><td>-0.019446810</td><td>-0.153303007</td><td> 0.52521711 </td><td> 1.00000000 </td></tr>\n",
       "</tbody>\n",
       "</table>\n"
      ],
      "text/latex": [
       "\\begin{tabular}{r|llll}\n",
       "  & AngleCh1 & AreaCh1 & AvgIntenCh1 & AvgIntenCh2\\\\\n",
       "\\hline\n",
       "\tAngleCh1 &  1.000000000 & -0.002627172 & -0.04300776  & -0.01944681 \\\\\n",
       "\tAreaCh1 & -0.002627172 &  1.000000000 & -0.02529739  & -0.15330301 \\\\\n",
       "\tAvgIntenCh1 & -0.043007757 & -0.025297394 &  1.00000000  &  0.52521711 \\\\\n",
       "\tAvgIntenCh2 & -0.019446810 & -0.153303007 &  0.52521711  &  1.00000000 \\\\\n",
       "\\end{tabular}\n"
      ],
      "text/markdown": [
       "\n",
       "| <!--/--> | AngleCh1 | AreaCh1 | AvgIntenCh1 | AvgIntenCh2 | \n",
       "|---|---|---|---|\n",
       "| AngleCh1 |  1.000000000 | -0.002627172 | -0.04300776  | -0.01944681  | \n",
       "| AreaCh1 | -0.002627172 |  1.000000000 | -0.02529739  | -0.15330301  | \n",
       "| AvgIntenCh1 | -0.043007757 | -0.025297394 |  1.00000000  |  0.52521711  | \n",
       "| AvgIntenCh2 | -0.019446810 | -0.153303007 |  0.52521711  |  1.00000000  | \n",
       "\n",
       "\n"
      ],
      "text/plain": [
       "            AngleCh1     AreaCh1      AvgIntenCh1 AvgIntenCh2\n",
       "AngleCh1     1.000000000 -0.002627172 -0.04300776 -0.01944681\n",
       "AreaCh1     -0.002627172  1.000000000 -0.02529739 -0.15330301\n",
       "AvgIntenCh1 -0.043007757 -0.025297394  1.00000000  0.52521711\n",
       "AvgIntenCh2 -0.019446810 -0.153303007  0.52521711  1.00000000"
      ]
     },
     "metadata": {},
     "output_type": "display_data"
    }
   ],
   "source": [
    "correlations <- cor(segData)\n",
    "dim(correlations)\n",
    "correlations[1:4,1:4]"
   ]
  },
  {
   "cell_type": "code",
   "execution_count": 127,
   "metadata": {
    "collapsed": false
   },
   "outputs": [
    {
     "data": {
      "image/png": "[encoded data removed]",
      "text/plain": [
       "Plot with title \"\""
      ]
     },
     "metadata": {},
     "output_type": "display_data"
    }
   ],
   "source": [
    "library(corrplot)\n",
    "corrplot(correlations,type=\"upper\",order=\"hclust\",tl.cex = 0.5)"
   ]
  },
  {
   "cell_type": "code",
   "execution_count": 128,
   "metadata": {
    "collapsed": false
   },
   "outputs": [
    {
     "data": {
      "text/html": [
       "32"
      ],
      "text/latex": [
       "32"
      ],
      "text/markdown": [
       "32"
      ],
      "text/plain": [
       "[1] 32"
      ]
     },
     "metadata": {},
     "output_type": "display_data"
    },
    {
     "data": {
      "text/html": [
       "<ol class=list-inline>\n",
       "\t<li>23</li>\n",
       "\t<li>40</li>\n",
       "\t<li>43</li>\n",
       "\t<li>36</li>\n",
       "\t<li>7</li>\n",
       "\t<li>15</li>\n",
       "</ol>\n"
      ],
      "text/latex": [
       "\\begin{enumerate*}\n",
       "\\item 23\n",
       "\\item 40\n",
       "\\item 43\n",
       "\\item 36\n",
       "\\item 7\n",
       "\\item 15\n",
       "\\end{enumerate*}\n"
      ],
      "text/markdown": [
       "1. 23\n",
       "2. 40\n",
       "3. 43\n",
       "4. 36\n",
       "5. 7\n",
       "6. 15\n",
       "\n",
       "\n"
      ],
      "text/plain": [
       "[1] 23 40 43 36  7 15"
      ]
     },
     "metadata": {},
     "output_type": "display_data"
    }
   ],
   "source": [
    "highCorr <- findCorrelation(correlations,cutoff = .75)\n",
    "length(highCorr)\n",
    "head(highCorr)\n",
    "filteredSegData <- segData[,-highCorr]"
   ]
  },
  {
   "cell_type": "code",
   "execution_count": 129,
   "metadata": {
    "collapsed": false
   },
   "outputs": [
    {
     "data": {
      "text/html": [
       "<table>\n",
       "<thead><tr><th></th><th scope=col>Price</th><th scope=col>Mileage</th><th scope=col>Type</th></tr></thead>\n",
       "<tbody>\n",
       "\t<tr><th scope=row>681</th><td>18083.40   </td><td>29420      </td><td>sedan      </td></tr>\n",
       "\t<tr><th scope=row>512</th><td>12105.98   </td><td>28298      </td><td>sedan      </td></tr>\n",
       "\t<tr><th scope=row>74</th><td>42773.03   </td><td>14546      </td><td>convertible</td></tr>\n",
       "\t<tr><th scope=row>689</th><td>18800.96   </td><td> 7961      </td><td>sedan      </td></tr>\n",
       "\t<tr><th scope=row>542</th><td>21020.84   </td><td>25550      </td><td>coupe      </td></tr>\n",
       "\t<tr><th scope=row>676</th><td>11045.11   </td><td>24568      </td><td>hatchback  </td></tr>\n",
       "</tbody>\n",
       "</table>\n"
      ],
      "text/latex": [
       "\\begin{tabular}{r|lll}\n",
       "  & Price & Mileage & Type\\\\\n",
       "\\hline\n",
       "\t681 & 18083.40    & 29420       & sedan      \\\\\n",
       "\t512 & 12105.98    & 28298       & sedan      \\\\\n",
       "\t74 & 42773.03    & 14546       & convertible\\\\\n",
       "\t689 & 18800.96    &  7961       & sedan      \\\\\n",
       "\t542 & 21020.84    & 25550       & coupe      \\\\\n",
       "\t676 & 11045.11    & 24568       & hatchback  \\\\\n",
       "\\end{tabular}\n"
      ],
      "text/markdown": [
       "\n",
       "| <!--/--> | Price | Mileage | Type | \n",
       "|---|---|---|---|---|---|\n",
       "| 681 | 18083.40    | 29420       | sedan       | \n",
       "| 512 | 12105.98    | 28298       | sedan       | \n",
       "| 74 | 42773.03    | 14546       | convertible | \n",
       "| 689 | 18800.96    |  7961       | sedan       | \n",
       "| 542 | 21020.84    | 25550       | coupe       | \n",
       "| 676 | 11045.11    | 24568       | hatchback   | \n",
       "\n",
       "\n"
      ],
      "text/plain": [
       "    Price    Mileage Type       \n",
       "681 18083.40 29420   sedan      \n",
       "512 12105.98 28298   sedan      \n",
       "74  42773.03 14546   convertible\n",
       "689 18800.96  7961   sedan      \n",
       "542 21020.84 25550   coupe      \n",
       "676 11045.11 24568   hatchback  "
      ]
     },
     "metadata": {},
     "output_type": "display_data"
    }
   ],
   "source": [
    "# Creating Dummy Variables\n",
    "data(cars)\n",
    "type <- c(\"convertible\", \"coupe\", \"hatchback\", \"sedan\", \"wagon\")\n",
    "cars$Type <- factor(apply(cars[, 14:18], 1, function(x) type[which(x == 1)]))\n",
    "carSubset <- cars[sample(1:nrow(cars), 20), c(1, 2, 19)]\n",
    "head(carSubset)"
   ]
  },
  {
   "cell_type": "code",
   "execution_count": 130,
   "metadata": {
    "collapsed": false
   },
   "outputs": [
    {
     "data": {
      "text/plain": [
       "Dummy Variable Object\n",
       "\n",
       "Formula: ~Mileage + Type\n",
       "2 variables, 1 factors\n",
       "Factor variable names will be removed\n",
       "A less than full rank encoding is used"
      ]
     },
     "metadata": {},
     "output_type": "display_data"
    },
    {
     "data": {
      "text/html": [
       "<table>\n",
       "<thead><tr><th></th><th scope=col>Mileage</th><th scope=col>convertible</th><th scope=col>coupe</th><th scope=col>hatchback</th><th scope=col>sedan</th><th scope=col>wagon</th></tr></thead>\n",
       "<tbody>\n",
       "\t<tr><th scope=row>681</th><td>29420</td><td>0    </td><td>0    </td><td>0    </td><td>1    </td><td>0    </td></tr>\n",
       "\t<tr><th scope=row>512</th><td>28298</td><td>0    </td><td>0    </td><td>0    </td><td>1    </td><td>0    </td></tr>\n",
       "\t<tr><th scope=row>74</th><td>14546</td><td>1    </td><td>0    </td><td>0    </td><td>0    </td><td>0    </td></tr>\n",
       "\t<tr><th scope=row>689</th><td> 7961</td><td>0    </td><td>0    </td><td>0    </td><td>1    </td><td>0    </td></tr>\n",
       "\t<tr><th scope=row>542</th><td>25550</td><td>0    </td><td>1    </td><td>0    </td><td>0    </td><td>0    </td></tr>\n",
       "\t<tr><th scope=row>676</th><td>24568</td><td>0    </td><td>0    </td><td>1    </td><td>0    </td><td>0    </td></tr>\n",
       "</tbody>\n",
       "</table>\n"
      ],
      "text/latex": [
       "\\begin{tabular}{r|llllll}\n",
       "  & Mileage & convertible & coupe & hatchback & sedan & wagon\\\\\n",
       "\\hline\n",
       "\t681 & 29420 & 0     & 0     & 0     & 1     & 0    \\\\\n",
       "\t512 & 28298 & 0     & 0     & 0     & 1     & 0    \\\\\n",
       "\t74 & 14546 & 1     & 0     & 0     & 0     & 0    \\\\\n",
       "\t689 &  7961 & 0     & 0     & 0     & 1     & 0    \\\\\n",
       "\t542 & 25550 & 0     & 1     & 0     & 0     & 0    \\\\\n",
       "\t676 & 24568 & 0     & 0     & 1     & 0     & 0    \\\\\n",
       "\\end{tabular}\n"
      ],
      "text/markdown": [
       "\n",
       "| <!--/--> | Mileage | convertible | coupe | hatchback | sedan | wagon | \n",
       "|---|---|---|---|---|---|\n",
       "| 681 | 29420 | 0     | 0     | 0     | 1     | 0     | \n",
       "| 512 | 28298 | 0     | 0     | 0     | 1     | 0     | \n",
       "| 74 | 14546 | 1     | 0     | 0     | 0     | 0     | \n",
       "| 689 |  7961 | 0     | 0     | 0     | 1     | 0     | \n",
       "| 542 | 25550 | 0     | 1     | 0     | 0     | 0     | \n",
       "| 676 | 24568 | 0     | 0     | 1     | 0     | 0     | \n",
       "\n",
       "\n"
      ],
      "text/plain": [
       "    Mileage convertible coupe hatchback sedan wagon\n",
       "681 29420   0           0     0         1     0    \n",
       "512 28298   0           0     0         1     0    \n",
       "74  14546   1           0     0         0     0    \n",
       "689  7961   0           0     0         1     0    \n",
       "542 25550   0           1     0         0     0    \n",
       "676 24568   0           0     1         0     0    "
      ]
     },
     "metadata": {},
     "output_type": "display_data"
    }
   ],
   "source": [
    "simpleMod <- dummyVars(~Mileage+Type , data = carSubset,levelsOnly = T)\n",
    "simpleMod\n",
    "predict(simpleMod,head(carSubset))"
   ]
  },
  {
   "cell_type": "code",
   "execution_count": 131,
   "metadata": {
    "collapsed": false
   },
   "outputs": [
    {
     "data": {
      "text/plain": [
       "Dummy Variable Object\n",
       "\n",
       "Formula: ~Mileage + Type + Mileage:Type\n",
       "2 variables, 1 factors\n",
       "Factor variable names will be removed\n",
       "A less than full rank encoding is used"
      ]
     },
     "metadata": {},
     "output_type": "display_data"
    },
    {
     "data": {
      "text/html": [
       "<table>\n",
       "<thead><tr><th></th><th scope=col>Mileage</th><th scope=col>convertible</th><th scope=col>coupe</th><th scope=col>hatchback</th><th scope=col>sedan</th><th scope=col>wagon</th><th scope=col>Mileage:convertible</th><th scope=col>Mileage:coupe</th><th scope=col>Mileage:hatchback</th><th scope=col>Mileage:sedan</th><th scope=col>Mileage:wagon</th></tr></thead>\n",
       "<tbody>\n",
       "\t<tr><th scope=row>681</th><td>29420</td><td>0    </td><td>0    </td><td>0    </td><td>1    </td><td>0    </td><td>    0</td><td>    0</td><td>    0</td><td>29420</td><td>0    </td></tr>\n",
       "\t<tr><th scope=row>512</th><td>28298</td><td>0    </td><td>0    </td><td>0    </td><td>1    </td><td>0    </td><td>    0</td><td>    0</td><td>    0</td><td>28298</td><td>0    </td></tr>\n",
       "\t<tr><th scope=row>74</th><td>14546</td><td>1    </td><td>0    </td><td>0    </td><td>0    </td><td>0    </td><td>14546</td><td>    0</td><td>    0</td><td>    0</td><td>0    </td></tr>\n",
       "\t<tr><th scope=row>689</th><td> 7961</td><td>0    </td><td>0    </td><td>0    </td><td>1    </td><td>0    </td><td>    0</td><td>    0</td><td>    0</td><td> 7961</td><td>0    </td></tr>\n",
       "\t<tr><th scope=row>542</th><td>25550</td><td>0    </td><td>1    </td><td>0    </td><td>0    </td><td>0    </td><td>    0</td><td>25550</td><td>    0</td><td>    0</td><td>0    </td></tr>\n",
       "\t<tr><th scope=row>676</th><td>24568</td><td>0    </td><td>0    </td><td>1    </td><td>0    </td><td>0    </td><td>    0</td><td>    0</td><td>24568</td><td>    0</td><td>0    </td></tr>\n",
       "</tbody>\n",
       "</table>\n"
      ],
      "text/latex": [
       "\\begin{tabular}{r|lllllllllll}\n",
       "  & Mileage & convertible & coupe & hatchback & sedan & wagon & Mileage:convertible & Mileage:coupe & Mileage:hatchback & Mileage:sedan & Mileage:wagon\\\\\n",
       "\\hline\n",
       "\t681 & 29420 & 0     & 0     & 0     & 1     & 0     &     0 &     0 &     0 & 29420 & 0    \\\\\n",
       "\t512 & 28298 & 0     & 0     & 0     & 1     & 0     &     0 &     0 &     0 & 28298 & 0    \\\\\n",
       "\t74 & 14546 & 1     & 0     & 0     & 0     & 0     & 14546 &     0 &     0 &     0 & 0    \\\\\n",
       "\t689 &  7961 & 0     & 0     & 0     & 1     & 0     &     0 &     0 &     0 &  7961 & 0    \\\\\n",
       "\t542 & 25550 & 0     & 1     & 0     & 0     & 0     &     0 & 25550 &     0 &     0 & 0    \\\\\n",
       "\t676 & 24568 & 0     & 0     & 1     & 0     & 0     &     0 &     0 & 24568 &     0 & 0    \\\\\n",
       "\\end{tabular}\n"
      ],
      "text/markdown": [
       "\n",
       "| <!--/--> | Mileage | convertible | coupe | hatchback | sedan | wagon | Mileage:convertible | Mileage:coupe | Mileage:hatchback | Mileage:sedan | Mileage:wagon | \n",
       "|---|---|---|---|---|---|\n",
       "| 681 | 29420 | 0     | 0     | 0     | 1     | 0     |     0 |     0 |     0 | 29420 | 0     | \n",
       "| 512 | 28298 | 0     | 0     | 0     | 1     | 0     |     0 |     0 |     0 | 28298 | 0     | \n",
       "| 74 | 14546 | 1     | 0     | 0     | 0     | 0     | 14546 |     0 |     0 |     0 | 0     | \n",
       "| 689 |  7961 | 0     | 0     | 0     | 1     | 0     |     0 |     0 |     0 |  7961 | 0     | \n",
       "| 542 | 25550 | 0     | 1     | 0     | 0     | 0     |     0 | 25550 |     0 |     0 | 0     | \n",
       "| 676 | 24568 | 0     | 0     | 1     | 0     | 0     |     0 |     0 | 24568 |     0 | 0     | \n",
       "\n",
       "\n"
      ],
      "text/plain": [
       "    Mileage convertible coupe hatchback sedan wagon Mileage:convertible\n",
       "681 29420   0           0     0         1     0         0              \n",
       "512 28298   0           0     0         1     0         0              \n",
       "74  14546   1           0     0         0     0     14546              \n",
       "689  7961   0           0     0         1     0         0              \n",
       "542 25550   0           1     0         0     0         0              \n",
       "676 24568   0           0     1         0     0         0              \n",
       "    Mileage:coupe Mileage:hatchback Mileage:sedan Mileage:wagon\n",
       "681     0             0             29420         0            \n",
       "512     0             0             28298         0            \n",
       "74      0             0                 0         0            \n",
       "689     0             0              7961         0            \n",
       "542 25550             0                 0         0            \n",
       "676     0         24568                 0         0            "
      ]
     },
     "metadata": {},
     "output_type": "display_data"
    }
   ],
   "source": [
    "withInteraction <- dummyVars(~Mileage+Type + Mileage:Type, data = carSubset,levelsOnly = T)\n",
    "withInteraction\n",
    "predict(withInteraction,head(carSubset))"
   ]
  }
 ],
 "metadata": {
  "anaconda-cloud": {},
  "kernelspec": {
   "display_name": "R",
   "language": "R",
   "name": "ir"
  },
  "language_info": {
   "codemirror_mode": "r",
   "file_extension": ".r",
   "mimetype": "text/x-r-source",
   "name": "R",
   "pygments_lexer": "r",
   "version": "3.5.0"
  },
  "toc": {
   "base_numbering": 1,
   "nav_menu": {},
   "number_sections": true,
   "sideBar": true,
   "skip_h1_title": false,
   "title_cell": "Table of Contents",
   "title_sidebar": "Contents",
   "toc_cell": false,
   "toc_position": {},
   "toc_section_display": true,
   "toc_window_display": false
  }
 },
 "nbformat": 4,
 "nbformat_minor": 1
}
