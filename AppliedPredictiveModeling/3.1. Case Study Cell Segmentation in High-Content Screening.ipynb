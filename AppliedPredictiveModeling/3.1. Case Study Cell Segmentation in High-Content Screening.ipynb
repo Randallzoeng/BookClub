{
 "cells": [
  {
   "cell_type": "markdown",
   "metadata": {},
   "source": [
    "## Cell Segmentation in High-Content Screening\n",
    "Reference:\n",
    "- http://topepo.github.io/caret/pre-processing.html\n",
    "- Applied Predictive Modeling (Kuhn and Johnson (2013))"
   ]
  },
  {
   "cell_type": "code",
   "execution_count": 1,
   "metadata": {
    "collapsed": false
   },
   "outputs": [
    {
     "name": "stderr",
     "output_type": "stream",
     "text": [
      "Warning message:\n",
      "\"package 'AppliedPredictiveModeling' was built under R version 3.5.1\""
     ]
    },
    {
     "data": {
      "text/html": [
       "<table>\n",
       "<thead><tr><th scope=col>Cell</th><th scope=col>Case</th><th scope=col>Class</th><th scope=col>AngleCh1</th><th scope=col>AngleStatusCh1</th><th scope=col>AreaCh1</th><th scope=col>AreaStatusCh1</th><th scope=col>AvgIntenCh1</th><th scope=col>AvgIntenCh2</th><th scope=col>AvgIntenCh3</th><th scope=col>...</th><th scope=col>VarIntenCh1</th><th scope=col>VarIntenCh3</th><th scope=col>VarIntenCh4</th><th scope=col>VarIntenStatusCh1</th><th scope=col>VarIntenStatusCh3</th><th scope=col>VarIntenStatusCh4</th><th scope=col>WidthCh1</th><th scope=col>WidthStatusCh1</th><th scope=col>XCentroid</th><th scope=col>YCentroid</th></tr></thead>\n",
       "<tbody>\n",
       "\t<tr><td>207827637 </td><td>Test      </td><td>PS        </td><td>143.247705</td><td>1         </td><td>185       </td><td>0         </td><td> 15.71186 </td><td>  3.954802</td><td>  9.548023</td><td>...       </td><td> 12.47468 </td><td> 7.609035 </td><td>  2.71410 </td><td>0         </td><td>2         </td><td>2         </td><td>10.64297  </td><td>2         </td><td> 42       </td><td> 14       </td></tr>\n",
       "\t<tr><td>207932307 </td><td>Train     </td><td>PS        </td><td>133.752037</td><td>0         </td><td>819       </td><td>1         </td><td> 31.92327 </td><td>205.878517</td><td> 69.916880</td><td>...       </td><td> 18.80923 </td><td>56.715352 </td><td>118.38814 </td><td>0         </td><td>0         </td><td>0         </td><td>32.16126  </td><td>1         </td><td>215       </td><td>347       </td></tr>\n",
       "\t<tr><td>207932463 </td><td>Train     </td><td>WS        </td><td>106.646387</td><td>0         </td><td>431       </td><td>0         </td><td> 28.03883 </td><td>115.315534</td><td> 63.941748</td><td>...       </td><td> 17.29564 </td><td>37.671053 </td><td> 49.47052 </td><td>0         </td><td>0         </td><td>0         </td><td>21.18553  </td><td>0         </td><td>371       </td><td>252       </td></tr>\n",
       "\t<tr><td>207932470 </td><td>Train     </td><td>PS        </td><td> 69.150325</td><td>0         </td><td>298       </td><td>0         </td><td> 19.45614 </td><td>101.294737</td><td> 28.217544</td><td>...       </td><td> 13.81897 </td><td>30.005643 </td><td> 24.74954 </td><td>0         </td><td>0         </td><td>2         </td><td>13.39283  </td><td>0         </td><td>487       </td><td>295       </td></tr>\n",
       "\t<tr><td>207932455 </td><td>Test      </td><td>PS        </td><td>  2.887837</td><td>2         </td><td>285       </td><td>0         </td><td> 24.27574 </td><td>111.415441</td><td> 20.474265</td><td>...       </td><td> 15.40797 </td><td>20.504288 </td><td> 45.45046 </td><td>0         </td><td>0         </td><td>0         </td><td>13.19856  </td><td>0         </td><td>283       </td><td>159       </td></tr>\n",
       "\t<tr><td>207827656 </td><td>Test      </td><td>WS        </td><td> 40.748298</td><td>2         </td><td>172       </td><td>0         </td><td>325.93333 </td><td>652.606061</td><td>128.690909</td><td>...       </td><td>115.00462 </td><td>70.918444 </td><td>184.69291 </td><td>1         </td><td>0         </td><td>0         </td><td>15.53666  </td><td>0         </td><td>191       </td><td>127       </td></tr>\n",
       "</tbody>\n",
       "</table>\n"
      ],
      "text/latex": [
       "\\begin{tabular}{r|lllllllllllllllllllllllllllllllllllllllllllllllllllllllllllllllllllllllllllllllllllllllllllllllllllllllllllllllllllllll}\n",
       " Cell & Case & Class & AngleCh1 & AngleStatusCh1 & AreaCh1 & AreaStatusCh1 & AvgIntenCh1 & AvgIntenCh2 & AvgIntenCh3 & ... & VarIntenCh1 & VarIntenCh3 & VarIntenCh4 & VarIntenStatusCh1 & VarIntenStatusCh3 & VarIntenStatusCh4 & WidthCh1 & WidthStatusCh1 & XCentroid & YCentroid\\\\\n",
       "\\hline\n",
       "\t 207827637  & Test       & PS         & 143.247705 & 1          & 185        & 0          &  15.71186  &   3.954802 &   9.548023 & ...        &  12.47468  &  7.609035  &   2.71410  & 0          & 2          & 2          & 10.64297   & 2          &  42        &  14       \\\\\n",
       "\t 207932307  & Train      & PS         & 133.752037 & 0          & 819        & 1          &  31.92327  & 205.878517 &  69.916880 & ...        &  18.80923  & 56.715352  & 118.38814  & 0          & 0          & 0          & 32.16126   & 1          & 215        & 347       \\\\\n",
       "\t 207932463  & Train      & WS         & 106.646387 & 0          & 431        & 0          &  28.03883  & 115.315534 &  63.941748 & ...        &  17.29564  & 37.671053  &  49.47052  & 0          & 0          & 0          & 21.18553   & 0          & 371        & 252       \\\\\n",
       "\t 207932470  & Train      & PS         &  69.150325 & 0          & 298        & 0          &  19.45614  & 101.294737 &  28.217544 & ...        &  13.81897  & 30.005643  &  24.74954  & 0          & 0          & 2          & 13.39283   & 0          & 487        & 295       \\\\\n",
       "\t 207932455  & Test       & PS         &   2.887837 & 2          & 285        & 0          &  24.27574  & 111.415441 &  20.474265 & ...        &  15.40797  & 20.504288  &  45.45046  & 0          & 0          & 0          & 13.19856   & 0          & 283        & 159       \\\\\n",
       "\t 207827656  & Test       & WS         &  40.748298 & 2          & 172        & 0          & 325.93333  & 652.606061 & 128.690909 & ...        & 115.00462  & 70.918444  & 184.69291  & 1          & 0          & 0          & 15.53666   & 0          & 191        & 127       \\\\\n",
       "\\end{tabular}\n"
      ],
      "text/markdown": [
       "\n",
       "Cell | Case | Class | AngleCh1 | AngleStatusCh1 | AreaCh1 | AreaStatusCh1 | AvgIntenCh1 | AvgIntenCh2 | AvgIntenCh3 | ... | VarIntenCh1 | VarIntenCh3 | VarIntenCh4 | VarIntenStatusCh1 | VarIntenStatusCh3 | VarIntenStatusCh4 | WidthCh1 | WidthStatusCh1 | XCentroid | YCentroid | \n",
       "|---|---|---|---|---|---|\n",
       "| 207827637  | Test       | PS         | 143.247705 | 1          | 185        | 0          |  15.71186  |   3.954802 |   9.548023 | ...        |  12.47468  |  7.609035  |   2.71410  | 0          | 2          | 2          | 10.64297   | 2          |  42        |  14        | \n",
       "| 207932307  | Train      | PS         | 133.752037 | 0          | 819        | 1          |  31.92327  | 205.878517 |  69.916880 | ...        |  18.80923  | 56.715352  | 118.38814  | 0          | 0          | 0          | 32.16126   | 1          | 215        | 347        | \n",
       "| 207932463  | Train      | WS         | 106.646387 | 0          | 431        | 0          |  28.03883  | 115.315534 |  63.941748 | ...        |  17.29564  | 37.671053  |  49.47052  | 0          | 0          | 0          | 21.18553   | 0          | 371        | 252        | \n",
       "| 207932470  | Train      | PS         |  69.150325 | 0          | 298        | 0          |  19.45614  | 101.294737 |  28.217544 | ...        |  13.81897  | 30.005643  |  24.74954  | 0          | 0          | 2          | 13.39283   | 0          | 487        | 295        | \n",
       "| 207932455  | Test       | PS         |   2.887837 | 2          | 285        | 0          |  24.27574  | 111.415441 |  20.474265 | ...        |  15.40797  | 20.504288  |  45.45046  | 0          | 0          | 0          | 13.19856   | 0          | 283        | 159        | \n",
       "| 207827656  | Test       | WS         |  40.748298 | 2          | 172        | 0          | 325.93333  | 652.606061 | 128.690909 | ...        | 115.00462  | 70.918444  | 184.69291  | 1          | 0          | 0          | 15.53666   | 0          | 191        | 127        | \n",
       "\n",
       "\n"
      ],
      "text/plain": [
       "  Cell      Case  Class AngleCh1   AngleStatusCh1 AreaCh1 AreaStatusCh1\n",
       "1 207827637 Test  PS    143.247705 1              185     0            \n",
       "2 207932307 Train PS    133.752037 0              819     1            \n",
       "3 207932463 Train WS    106.646387 0              431     0            \n",
       "4 207932470 Train PS     69.150325 0              298     0            \n",
       "5 207932455 Test  PS      2.887837 2              285     0            \n",
       "6 207827656 Test  WS     40.748298 2              172     0            \n",
       "  AvgIntenCh1 AvgIntenCh2 AvgIntenCh3 ... VarIntenCh1 VarIntenCh3 VarIntenCh4\n",
       "1  15.71186     3.954802    9.548023  ...  12.47468    7.609035     2.71410  \n",
       "2  31.92327   205.878517   69.916880  ...  18.80923   56.715352   118.38814  \n",
       "3  28.03883   115.315534   63.941748  ...  17.29564   37.671053    49.47052  \n",
       "4  19.45614   101.294737   28.217544  ...  13.81897   30.005643    24.74954  \n",
       "5  24.27574   111.415441   20.474265  ...  15.40797   20.504288    45.45046  \n",
       "6 325.93333   652.606061  128.690909  ... 115.00462   70.918444   184.69291  \n",
       "  VarIntenStatusCh1 VarIntenStatusCh3 VarIntenStatusCh4 WidthCh1 WidthStatusCh1\n",
       "1 0                 2                 2                 10.64297 2             \n",
       "2 0                 0                 0                 32.16126 1             \n",
       "3 0                 0                 0                 21.18553 0             \n",
       "4 0                 0                 2                 13.39283 0             \n",
       "5 0                 0                 0                 13.19856 0             \n",
       "6 1                 0                 0                 15.53666 0             \n",
       "  XCentroid YCentroid\n",
       "1  42        14      \n",
       "2 215       347      \n",
       "3 371       252      \n",
       "4 487       295      \n",
       "5 283       159      \n",
       "6 191       127      "
      ]
     },
     "metadata": {},
     "output_type": "display_data"
    }
   ],
   "source": [
    "library(AppliedPredictiveModeling)\n",
    "data(segmentationOriginal)\n",
    "head(segmentationOriginal)"
   ]
  },
  {
   "cell_type": "markdown",
   "metadata": {},
   "source": [
    "## Data Transformations for Individual Predictors\n",
    "- Centering and Scaling\n",
    "```r\n",
    "library(caret)\n",
    "preProcess(data,method = c(\"center\",\"scale\"))\n",
    "```\n",
    "- Transformations to Resolve Skewness"
   ]
  },
  {
   "cell_type": "code",
   "execution_count": 31,
   "metadata": {
    "collapsed": false
   },
   "outputs": [
    {
     "data": {
      "text/html": [
       "<table>\n",
       "<thead><tr><th></th><th scope=col>vars</th><th scope=col>skew</th></tr></thead>\n",
       "<tbody>\n",
       "\t<tr><th scope=row>KurtIntenCh1</th><td>68       </td><td>13.117127</td></tr>\n",
       "\t<tr><th scope=row>Cell</th><td> 1       </td><td> 7.685108</td></tr>\n",
       "\t<tr><th scope=row>KurtIntenCh4</th><td>70       </td><td> 7.475310</td></tr>\n",
       "\t<tr><th scope=row>KurtIntenCh3</th><td>69       </td><td> 6.005001</td></tr>\n",
       "\t<tr><th scope=row>EqEllipseOblateVolCh1</th><td>36       </td><td> 5.427835</td></tr>\n",
       "\t<tr><th scope=row>EqEllipseProlateVolCh1</th><td>38       </td><td> 5.394696</td></tr>\n",
       "</tbody>\n",
       "</table>\n"
      ],
      "text/latex": [
       "\\begin{tabular}{r|ll}\n",
       "  & vars & skew\\\\\n",
       "\\hline\n",
       "\tKurtIntenCh1 & 68        & 13.117127\\\\\n",
       "\tCell &  1        &  7.685108\\\\\n",
       "\tKurtIntenCh4 & 70        &  7.475310\\\\\n",
       "\tKurtIntenCh3 & 69        &  6.005001\\\\\n",
       "\tEqEllipseOblateVolCh1 & 36        &  5.427835\\\\\n",
       "\tEqEllipseProlateVolCh1 & 38        &  5.394696\\\\\n",
       "\\end{tabular}\n"
      ],
      "text/markdown": [
       "\n",
       "| <!--/--> | vars | skew | \n",
       "|---|---|---|---|---|---|\n",
       "| KurtIntenCh1 | 68        | 13.117127 | \n",
       "| Cell |  1        |  7.685108 | \n",
       "| KurtIntenCh4 | 70        |  7.475310 | \n",
       "| KurtIntenCh3 | 69        |  6.005001 | \n",
       "| EqEllipseOblateVolCh1 | 36        |  5.427835 | \n",
       "| EqEllipseProlateVolCh1 | 38        |  5.394696 | \n",
       "\n",
       "\n"
      ],
      "text/plain": [
       "                       vars skew     \n",
       "KurtIntenCh1           68   13.117127\n",
       "Cell                    1    7.685108\n",
       "KurtIntenCh4           70    7.475310\n",
       "KurtIntenCh3           69    6.005001\n",
       "EqEllipseOblateVolCh1  36    5.427835\n",
       "EqEllipseProlateVolCh1 38    5.394696"
      ]
     },
     "metadata": {},
     "output_type": "display_data"
    }
   ],
   "source": [
    "library(psych)\n",
    "des <-  describe(segmentationOriginal)\n",
    "head(des[order(des$skew,decreasing = T),c(\"vars\",\"skew\")])\n",
    "#none of  predictors ' skew is greater than 20, but let's see how \"EqEllipseOblateVolCh1\" disturibute"
   ]
  },
  {
   "cell_type": "code",
   "execution_count": 42,
   "metadata": {
    "collapsed": false
   },
   "outputs": [
    {
     "data": {
      "image/png": "[encoded data removed]",
      "text/plain": [
       "plot without title"
      ]
     },
     "metadata": {},
     "output_type": "display_data"
    }
   ],
   "source": [
    "library(ggplot2)\n",
    "p1<- ggplot(segmentationOriginal, aes(EqEllipseOblateVolCh1)) + geom_histogram(bins = 30) \n",
    "p2<- ggplot(segmentationOriginal, aes(log(segmentationOriginal$EqEllipseOblateVolCh1))) + geom_histogram(bins = 30) + \n",
    "    labs(x = \"log(EqEllipseOblateVolCh1)\") \n",
    "library(gridExtra)\n",
    "grid.arrange(p1, p2, ncol=2)                          \n",
    "# hist(segmentationOriginal$EqEllipseOblateVolCh1)\n",
    "# hist(log(segmentationOriginal$EqEllipseOblateVolCh1))"
   ]
  },
  {
   "cell_type": "markdown",
   "metadata": {},
   "source": [
    "## Data Transformations for Multiple Predictors\n",
    "- Transformations to Resolve Outliers\n",
    "- Data Reduction and Feature Extraction"
   ]
  },
  {
   "cell_type": "markdown",
   "metadata": {},
   "source": [
    "## Dealing with Missing Values"
   ]
  }
 ],
 "metadata": {
  "anaconda-cloud": {},
  "kernelspec": {
   "display_name": "R",
   "language": "R",
   "name": "ir"
  },
  "language_info": {
   "codemirror_mode": "r",
   "file_extension": ".r",
   "mimetype": "text/x-r-source",
   "name": "R",
   "pygments_lexer": "r",
   "version": "3.5.0"
  },
  "toc": {
   "base_numbering": 1,
   "nav_menu": {},
   "number_sections": true,
   "sideBar": true,
   "skip_h1_title": false,
   "title_cell": "Table of Contents",
   "title_sidebar": "Contents",
   "toc_cell": false,
   "toc_position": {},
   "toc_section_display": true,
   "toc_window_display": false
  }
 },
 "nbformat": 4,
 "nbformat_minor": 1
}
