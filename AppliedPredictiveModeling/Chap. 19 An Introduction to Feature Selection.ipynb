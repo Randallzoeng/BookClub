{
 "cells": [
  {
   "cell_type": "code",
   "execution_count": 1,
   "metadata": {
    "scrolled": true
   },
   "outputs": [
    {
     "data": {
      "text/html": [
       "<ol class=list-inline>\n",
       "\t<li>'diagnosis'</li>\n",
       "\t<li>'predictors'</li>\n",
       "</ol>\n"
      ],
      "text/latex": [
       "\\begin{enumerate*}\n",
       "\\item 'diagnosis'\n",
       "\\item 'predictors'\n",
       "\\end{enumerate*}\n"
      ],
      "text/markdown": [
       "1. 'diagnosis'\n",
       "2. 'predictors'\n",
       "\n",
       "\n"
      ],
      "text/plain": [
       "[1] \"diagnosis\"  \"predictors\""
      ]
     },
     "metadata": {},
     "output_type": "display_data"
    }
   ],
   "source": [
    "library(AppliedPredictiveModeling)\n",
    "data(AlzheimerDisease)\n",
    "ls()"
   ]
  },
  {
   "cell_type": "code",
   "execution_count": 7,
   "metadata": {
    "scrolled": true
   },
   "outputs": [
    {
     "name": "stdout",
     "output_type": "stream",
     "text": [
      "'data.frame':\t333 obs. of  130 variables:\n",
      " $ ACE_CD143_Angiotensin_Converti  : num  2 1.56 1.52 1.68 2.4 ...\n",
      " $ ACTH_Adrenocorticotropic_Hormon : num  -1.386 -1.386 -1.715 -1.609 -0.968 ...\n",
      " $ AXL                             : num  1.098 0.683 -0.145 0.683 0.191 ...\n",
      " $ Adiponectin                     : num  -5.36 -5.02 -5.81 -5.12 -4.78 ...\n",
      " $ Alpha_1_Antichymotrypsin        : num  1.74 1.46 1.19 1.28 2.13 ...\n",
      " $ Alpha_1_Antitrypsin             : num  -12.6 -11.9 -13.6 -15.5 -11.1 ...\n",
      " $ Alpha_1_Microglobulin           : num  -2.58 -3.24 -2.88 -3.17 -2.34 ...\n",
      " $ Alpha_2_Macroglobulin           : num  -72.7 -154.6 -136.5 -98.4 -144.9 ...\n",
      " $ Angiopoietin_2_ANG_2            : num  1.065 0.742 0.833 0.916 0.956 ...\n",
      " $ Angiotensinogen                 : num  2.51 2.46 1.98 2.38 2.86 ...\n",
      " $ Apolipoprotein_A_IV             : num  -1.43 -1.66 -1.66 -2.12 -1.17 ...\n",
      " $ Apolipoprotein_A1               : num  -7.4 -7.05 -7.68 -8.05 -6.73 ...\n",
      " $ Apolipoprotein_A2               : num  -0.2614 -0.8675 -0.6539 -1.2379 0.0953 ...\n",
      " $ Apolipoprotein_B                : num  -4.62 -6.75 -3.98 -6.52 -3.38 ...\n",
      " $ Apolipoprotein_CI               : num  -1.273 -1.273 -1.715 -1.966 -0.755 ...\n",
      " $ Apolipoprotein_CIII             : num  -2.31 -2.34 -2.75 -3 -1.51 ...\n",
      " $ Apolipoprotein_D                : num  2.08 1.34 1.34 1.44 1.63 ...\n",
      " $ Apolipoprotein_E                : num  3.75 3.1 2.75 2.37 3.07 ...\n",
      " $ Apolipoprotein_H                : num  -0.157 -0.575 -0.345 -0.532 0.663 ...\n",
      " $ B_Lymphocyte_Chemoattractant_BL : num  2.3 1.67 1.67 1.98 2.3 ...\n",
      " $ BMP_6                           : num  -2.2 -1.73 -2.06 -1.98 -1.24 ...\n",
      " $ Beta_2_Microglobulin            : num  0.693 0.47 0.336 0.642 0.336 ...\n",
      " $ Betacellulin                    : int  34 53 49 52 67 51 41 42 58 59 ...\n",
      " $ C_Reactive_Protein              : num  -4.07 -6.65 -8.05 -6.21 -4.34 ...\n",
      " $ CD40                            : num  -0.796 -1.273 -1.242 -1.124 -0.924 ...\n",
      " $ CD5L                            : num  0.0953 -0.6733 0.0953 -0.3285 0.3633 ...\n",
      " $ Calbindin                       : num  33.2 25.3 22.2 23.5 21.8 ...\n",
      " $ Calcitonin                      : num  1.386 3.611 2.116 -0.151 1.308 ...\n",
      " $ CgA                             : num  398 466 348 334 443 ...\n",
      " $ Clusterin_Apo_J                 : num  3.56 3.04 2.77 2.83 3.04 ...\n",
      " $ Complement_3                    : num  -10.4 -16.1 -16.1 -13.2 -12.8 ...\n",
      " $ Complement_Factor_H             : num  3.57 3.6 4.47 3.1 7.25 ...\n",
      " $ Connective_Tissue_Growth_Factor : num  0.531 0.588 0.642 0.531 0.916 ...\n",
      " $ Cortisol                        : num  10 12 10 14 11 13 4.9 13 12 17 ...\n",
      " $ Creatine_Kinase_MB              : num  -1.71 -1.75 -1.38 -1.65 -1.63 ...\n",
      " $ Cystatin_C                      : num  9.04 9.07 8.95 9.58 8.98 ...\n",
      " $ EGF_R                           : num  -0.135 -0.37 -0.733 -0.422 -0.621 ...\n",
      " $ EN_RAGE                         : num  -3.69 -3.82 -4.76 -2.94 -2.36 ...\n",
      " $ ENA_78                          : num  -1.35 -1.36 -1.39 -1.37 -1.34 ...\n",
      " $ Eotaxin_3                       : int  53 62 62 44 64 57 64 64 64 70 ...\n",
      " $ FAS                             : num  -0.0834 -0.5276 -0.6349 -0.478 -0.1278 ...\n",
      " $ FSH_Follicle_Stimulation_Hormon : num  -0.652 -1.627 -1.563 -0.59 -0.976 ...\n",
      " $ Fas_Ligand                      : num  3.1 2.98 1.36 2.54 4.04 ...\n",
      " $ Fatty_Acid_Binding_Protein      : num  2.521 2.248 0.906 0.624 2.635 ...\n",
      " $ Ferritin                        : num  3.33 3.93 3.18 3.14 2.69 ...\n",
      " $ Fetuin_A                        : num  1.281 1.194 1.411 0.742 2.152 ...\n",
      " $ Fibrinogen                      : num  -7.04 -8.05 -7.2 -7.8 -6.98 ...\n",
      " $ GRO_alpha                       : num  1.38 1.37 1.41 1.37 1.4 ...\n",
      " $ Gamma_Interferon_induced_Monokin: num  2.95 2.72 2.76 2.89 2.85 ...\n",
      " $ Glutathione_S_Transferase_alpha : num  1.064 0.867 0.889 0.708 1.236 ...\n",
      " $ HB_EGF                          : num  6.56 8.75 7.75 5.95 7.25 ...\n",
      " $ HCC_4                           : num  -3.04 -4.07 -3.65 -3.82 -3.15 ...\n",
      " $ Hepatocyte_Growth_Factor_HGF    : num  0.5878 0.5306 0.0953 0.4055 0.5306 ...\n",
      " $ I_309                           : num  3.43 3.14 2.4 3.37 3.76 ...\n",
      " $ ICAM_1                          : num  -0.1908 -0.462 -0.462 -0.8573 0.0972 ...\n",
      " $ IGF_BP_2                        : num  5.61 5.35 5.18 5.42 5.42 ...\n",
      " $ IL_11                           : num  5.12 4.94 4.67 6.22 7.07 ...\n",
      " $ IL_13                           : num  1.28 1.27 1.27 1.31 1.31 ...\n",
      " $ IL_16                           : num  4.19 2.88 2.62 2.44 4.74 ...\n",
      " $ IL_17E                          : num  5.73 6.71 4.15 4.7 4.2 ...\n",
      " $ IL_1alpha                       : num  -6.57 -8.05 -8.18 -7.6 -6.94 ...\n",
      " $ IL_3                            : num  -3.24 -3.91 -4.65 -4.27 -3 ...\n",
      " $ IL_4                            : num  2.48 2.4 1.82 1.48 2.71 ...\n",
      " $ IL_5                            : num  1.099 0.693 -0.248 0.788 1.163 ...\n",
      " $ IL_6                            : num  0.2694 0.0962 0.1857 -0.3712 -0.072 ...\n",
      " $ IL_6_Receptor                   : num  0.6428 0.4312 0.0967 0.5752 0.0967 ...\n",
      " $ IL_7                            : num  4.81 3.71 1.01 2.34 4.29 ...\n",
      " $ IL_8                            : num  1.71 1.68 1.69 1.72 1.76 ...\n",
      " $ IP_10_Inducible_Protein_10      : num  6.24 5.69 5.05 5.6 6.37 ...\n",
      " $ IgA                             : num  -6.81 -6.38 -6.32 -7.62 -4.65 ...\n",
      " $ Insulin                         : num  -0.626 -0.943 -1.447 -1.485 -0.3 ...\n",
      " $ Kidney_Injury_Molecule_1_KIM_1  : num  -1.2 -1.2 -1.19 -1.23 -1.16 ...\n",
      " $ LOX_1                           : num  1.7 1.53 1.16 1.22 1.36 ...\n",
      " $ Leptin                          : num  -1.529 -1.466 -1.662 -1.269 -0.915 ...\n",
      " $ Lipoprotein_a                   : num  -4.27 -4.93 -5.84 -4.99 -2.94 ...\n",
      " $ MCP_1                           : num  6.74 6.85 6.77 6.78 6.72 ...\n",
      " $ MCP_2                           : num  1.981 1.809 0.401 1.981 2.221 ...\n",
      " $ MIF                             : num  -1.24 -1.9 -2.3 -1.66 -1.9 ...\n",
      " $ MIP_1alpha                      : num  4.97 3.69 4.05 4.93 6.45 ...\n",
      " $ MIP_1beta                       : num  3.26 3.14 2.4 3.22 3.53 ...\n",
      " $ MMP_2                           : num  4.48 3.78 2.87 2.97 3.69 ...\n",
      " $ MMP_3                           : num  -2.21 -2.47 -2.3 -1.77 -1.56 ...\n",
      " $ MMP10                           : num  -3.27 -3.65 -2.73 -4.07 -2.62 ...\n",
      " $ MMP7                            : num  -3.774 -5.968 -4.03 -6.856 -0.222 ...\n",
      " $ Myoglobin                       : num  -1.897 -0.755 -1.386 -1.139 -1.772 ...\n",
      " $ NT_proBNP                       : num  4.55 4.22 4.25 4.11 4.47 ...\n",
      " $ NrCAM                           : num  5 5.21 4.74 4.97 5.2 ...\n",
      " $ Osteopontin                     : num  5.36 6 5.02 5.77 5.69 ...\n",
      " $ PAI_1                           : num  1.0035 -0.0306 0.4384 0 0.2523 ...\n",
      " $ PAPP_A                          : num  -2.9 -2.81 -2.94 -2.79 -2.94 ...\n",
      " $ PLGF                            : num  4.44 4.03 4.51 3.43 4.8 ...\n",
      " $ PYY                             : num  3.22 3.14 2.89 2.83 3.66 ...\n",
      " $ Pancreatic_polypeptide          : num  0.579 0.336 -0.892 -0.821 0.262 ...\n",
      " $ Prolactin                       : num  0 -0.5108 -0.1393 -0.0408 0.1823 ...\n",
      " $ Prostatic_Acid_Phosphatase      : num  -1.62 -1.74 -1.64 -1.74 -1.7 ...\n",
      " $ Protein_S                       : num  -1.78 -2.46 -2.26 -2.7 -1.66 ...\n",
      " $ Pulmonary_and_Activation_Regulat: num  -0.844 -2.303 -1.661 -1.109 -0.562 ...\n",
      " $ RANTES                          : num  -6.21 -6.94 -6.65 -5.99 -6.32 ...\n",
      " $ Resistin                        : num  -16.5 -16 -16.5 -13.5 -11.1 ...\n",
      "  [list output truncated]\n"
     ]
    }
   ],
   "source": [
    "str(predictors)"
   ]
  }
 ],
 "metadata": {
  "kernelspec": {
   "display_name": "R",
   "language": "R",
   "name": "ir"
  },
  "language_info": {
   "codemirror_mode": "r",
   "file_extension": ".r",
   "mimetype": "text/x-r-source",
   "name": "R",
   "pygments_lexer": "r",
   "version": "3.5.1"
  },
  "latex_envs": {
   "LaTeX_envs_menu_present": true,
   "autoclose": false,
   "autocomplete": true,
   "bibliofile": "biblio.bib",
   "cite_by": "apalike",
   "current_citInitial": 1,
   "eqLabelWithNumbers": true,
   "eqNumInitial": 1,
   "hotkeys": {
    "equation": "Ctrl-E",
    "itemize": "Ctrl-I"
   },
   "labels_anchors": false,
   "latex_user_defs": false,
   "report_style_numbering": false,
   "user_envs_cfg": false
  },
  "toc": {
   "base_numbering": 1,
   "nav_menu": {},
   "number_sections": true,
   "sideBar": true,
   "skip_h1_title": false,
   "title_cell": "Table of Contents",
   "title_sidebar": "Contents",
   "toc_cell": false,
   "toc_position": {},
   "toc_section_display": true,
   "toc_window_display": false
  }
 },
 "nbformat": 4,
 "nbformat_minor": 2
}
