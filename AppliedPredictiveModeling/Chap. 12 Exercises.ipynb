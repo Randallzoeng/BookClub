{
 "cells": [
  {
   "cell_type": "markdown",
   "metadata": {},
   "source": [
    "&#x1F516;Reference\n",
    "\n",
    "https://www.waxworksmath.com/Authors/G_M/Kuhn/kuhn.html\n",
    "\n",
    "http://www.ituring.com.cn/article/215742"
   ]
  },
  {
   "cell_type": "markdown",
   "metadata": {},
   "source": [
    "\\begin{exercise}\n",
    "\n",
    "\\end{exercise}\n",
    "- (a) Given the classification imbalance in hepatic injury status, describe how you would create a training and testing set \n",
    "- (b) Which classification statistic would you choose to optimize for this exercise and why?\n",
    "- (c) Split the data into a training and a testing set, pre-process the data, and build models described in this chapter for the biological predictors and separately for the chemical fingerprint predictors. Which model has the best predictive ability for the biological predictors and what is the optimal performance? Which model has the best predictive ability for the chemical predictors and what is the optimal performance? Based on these results, which set of predictors contains the most information about hepatic toxicity?\n",
    "- (d) For the optimal models for both the biological and chemical predictors, what are the top five important predictors?\n",
    "- (e) Now combine the biological and chemical fingerprint predictors into one predictor set. Retrain the same set of predictive models you built from part (c). Which model yields best predictive performance? Is the model performance better than either of the best models from part (c)? What are the top five important predictors for the optimal model? How do these compare with the optimal predictors from each individual predictor set?\n",
    "- (f) Which model (either model of individual biology or chemical fingerprints or the combined predictor model), if any, would you recommend using to predict compounds’ hepatic toxicity? Explain."
   ]
  },
  {
   "cell_type": "code",
   "execution_count": 1,
   "metadata": {},
   "outputs": [
    {
     "data": {
      "text/html": [
       "<ol class=list-inline>\n",
       "\t<li>281</li>\n",
       "\t<li>184</li>\n",
       "</ol>\n"
      ],
      "text/latex": [
       "\\begin{enumerate*}\n",
       "\\item 281\n",
       "\\item 184\n",
       "\\end{enumerate*}\n"
      ],
      "text/markdown": [
       "1. 281\n",
       "2. 184\n",
       "\n",
       "\n"
      ],
      "text/plain": [
       "[1] 281 184"
      ]
     },
     "metadata": {},
     "output_type": "display_data"
    },
    {
     "data": {
      "text/html": [
       "<ol class=list-inline>\n",
       "\t<li>281</li>\n",
       "\t<li>192</li>\n",
       "</ol>\n"
      ],
      "text/latex": [
       "\\begin{enumerate*}\n",
       "\\item 281\n",
       "\\item 192\n",
       "\\end{enumerate*}\n"
      ],
      "text/markdown": [
       "1. 281\n",
       "2. 192\n",
       "\n",
       "\n"
      ],
      "text/plain": [
       "[1] 281 192"
      ]
     },
     "metadata": {},
     "output_type": "display_data"
    },
    {
     "name": "stdout",
     "output_type": "stream",
     "text": [
      " Factor w/ 3 levels \"Mild\",\"None\",..: 1 2 2 3 1 3 2 2 2 2 ...\n"
     ]
    }
   ],
   "source": [
    "library(AppliedPredictiveModeling)\n",
    "data(hepatic)\n",
    "dim(bio);dim(chem);\n",
    "str(injury)"
   ]
  },
  {
   "cell_type": "code",
   "execution_count": 2,
   "metadata": {
    "scrolled": false
   },
   "outputs": [
    {
     "data": {
      "text/plain": [
       "injury\n",
       "     Mild      None    Severe \n",
       "0.5160142 0.3772242 0.1067616 "
      ]
     },
     "metadata": {},
     "output_type": "display_data"
    }
   ],
   "source": [
    "prop.table(table(injury))"
   ]
  },
  {
   "cell_type": "markdown",
   "metadata": {},
   "source": [
    "\\begin{remark}\n",
    "(a) Given the classification imbalance in hepatic injury status, describe how you would create a training and testing set\n",
    "\\end{remark}"
   ]
  },
  {
   "cell_type": "code",
   "execution_count": 3,
   "metadata": {},
   "outputs": [
    {
     "data": {
      "text/plain": [
       "\n",
       "      Yes        No \n",
       "0.6227758 0.3772242 "
      ]
     },
     "metadata": {},
     "output_type": "display_data"
    }
   ],
   "source": [
    "any_damage <- as.character(injury)\n",
    "any_damage[any_damage==\"Mild\"] = \"Yes\"\n",
    "any_damage[any_damage==\"Severe\"] = \"Yes\"\n",
    "any_damage[any_damage==\"None\"] = \"No\"\n",
    "any_damage = factor( any_damage, levels=c(\"Yes\",\"No\") )\n",
    "prop.table(table(as.data.frame(any_damage)))"
   ]
  },
  {
   "cell_type": "code",
   "execution_count": 4,
   "metadata": {
    "scrolled": false
   },
   "outputs": [
    {
     "name": "stderr",
     "output_type": "stream",
     "text": [
      "Loading required package: lattice\n",
      "Loading required package: ggplot2\n"
     ]
    },
    {
     "data": {
      "text/plain": [
       "\n",
       "      Yes        No \n",
       "0.6222222 0.3777778 "
      ]
     },
     "metadata": {},
     "output_type": "display_data"
    },
    {
     "data": {
      "text/plain": [
       "\n",
       "  Yes    No \n",
       "0.625 0.375 "
      ]
     },
     "metadata": {},
     "output_type": "display_data"
    }
   ],
   "source": [
    "#use createDataPartition apply stratified sampling \n",
    "library(caret)\n",
    "trn_id <- createDataPartition(any_damage,p=0.8,list = F)\n",
    "prop.table(table(as.data.frame(any_damage[trn_id])))\n",
    "prop.table(table(as.data.frame(any_damage[-trn_id])))"
   ]
  },
  {
   "cell_type": "markdown",
   "metadata": {},
   "source": [
    "> A data set from the pharmaceutical industry was used to develop a model for predicting compounds probability of causing hepatic injury.\n",
    "\n",
    "><font color=#3b5998>**Aurelien Geron (2017)**</font> Since the ROC curve is so similar to the precision/recall (or PR) curve, you may wonder how to decide which one to use. As a rule of thumb, you should prefer the PR curve whenever the positive class is rare or when you care more about the false positives than the false negatives, and the ROC curve otherwise. For example, looking at the previous ROC curve (and the ROC AUC score), you may think that the classifier is really good. But this is mostly because there are few positives (5s) compared to the negatives (non-5s). In contrast, the PR curve makes it clear that the classifier has room for improvement (the curve could be closer to the top-right corner). \n",
    "\n",
    "\n",
    "In this case I care more about `recall` $\\frac{TP}{TP+FN}$ , because we don't want use compounds which will indeed lead to hepatic injury. We have to capture those compounds mixtures as much as possible. "
   ]
  },
  {
   "cell_type": "markdown",
   "metadata": {},
   "source": [
    "&#x1F52C; `Use the biological predictors`"
   ]
  },
  {
   "cell_type": "code",
   "execution_count": 149,
   "metadata": {},
   "outputs": [],
   "source": [
    "# #my function of std_PreProcess TBD\n",
    "std_pre_process = function(df){\n",
    "    #missing value\n",
    "    #\n",
    "    na_info <- any(is.null(df))\n",
    "    if(na_info){\n",
    "        na_col <- unlist(lapply(df),function(x) any(is.na(x)))\n",
    "        print( \"Columns with missing value\")\n",
    "        names(na_col)[na_col]\n",
    "    }else{\n",
    "        print(\"There is no missing value.\")\n",
    "    }\n",
    "    #Near Zero-Variance Predictors\n",
    "    # \n",
    "    nzv_info <- length(nearZeroVar(df))\n",
    "    if(nzv_info!=0){\n",
    "        print( \"Columns with missing value\")\n",
    "        print(nearZeroVar(df,names =T))\n",
    "        df <- df[,-nearZeroVar(df)]\n",
    "    }else{\n",
    "        print(\"Thers is no Near Zero-Variance Predictor\")\n",
    "    }\n",
    "                         \n",
    "}"
   ]
  },
  {
   "cell_type": "markdown",
   "metadata": {},
   "source": [
    "&#x25B6; `Missing Values`"
   ]
  },
  {
   "cell_type": "code",
   "execution_count": 8,
   "metadata": {
    "scrolled": true
   },
   "outputs": [
    {
     "data": {
      "text/html": [
       "FALSE"
      ],
      "text/latex": [
       "FALSE"
      ],
      "text/markdown": [
       "FALSE"
      ],
      "text/plain": [
       "[1] FALSE"
      ]
     },
     "metadata": {},
     "output_type": "display_data"
    },
    {
     "name": "stdout",
     "output_type": "stream",
     "text": [
      "There is no missing value!"
     ]
    }
   ],
   "source": [
    "any(is.null(bio))\n",
    "\n",
    "# na_info <- any(is.null(bio))\n",
    "# if(na_info){\n",
    "#     na_col <- unlist(lapply(bio,function(x) any(is.na(x))))\n",
    "#     names(na_col)[na_col]\n",
    "# }else\n",
    "#     {\n",
    "#     cat(\"There is no missing value!\")}"
   ]
  },
  {
   "cell_type": "markdown",
   "metadata": {},
   "source": [
    "&#x25B6; `NearZero Var`"
   ]
  },
  {
   "cell_type": "code",
   "execution_count": 9,
   "metadata": {},
   "outputs": [
    {
     "data": {
      "text/html": [
       "<ol class=list-inline>\n",
       "\t<li>'Z2'</li>\n",
       "\t<li>'Z3'</li>\n",
       "\t<li>'Z5'</li>\n",
       "\t<li>'Z8'</li>\n",
       "\t<li>'Z9'</li>\n",
       "\t<li>'Z13'</li>\n",
       "</ol>\n"
      ],
      "text/latex": [
       "\\begin{enumerate*}\n",
       "\\item 'Z2'\n",
       "\\item 'Z3'\n",
       "\\item 'Z5'\n",
       "\\item 'Z8'\n",
       "\\item 'Z9'\n",
       "\\item 'Z13'\n",
       "\\end{enumerate*}\n"
      ],
      "text/markdown": [
       "1. 'Z2'\n",
       "2. 'Z3'\n",
       "3. 'Z5'\n",
       "4. 'Z8'\n",
       "5. 'Z9'\n",
       "6. 'Z13'\n",
       "\n",
       "\n"
      ],
      "text/plain": [
       "[1] \"Z2\"  \"Z3\"  \"Z5\"  \"Z8\"  \"Z9\"  \"Z13\""
      ]
     },
     "metadata": {},
     "output_type": "display_data"
    }
   ],
   "source": [
    "nzv_cols = nearZeroVar(bio)\n",
    "head(colnames(bio)[nzv_cols])\n",
    "bio_flt_nzv <- bio[,-nzv_cols]"
   ]
  },
  {
   "cell_type": "markdown",
   "metadata": {},
   "source": [
    "&#x25B6; `Linear Dependencies`"
   ]
  },
  {
   "cell_type": "code",
   "execution_count": 22,
   "metadata": {},
   "outputs": [
    {
     "data": {
      "text/html": [
       "<dl>\n",
       "\t<dt>$linearCombos</dt>\n",
       "\t\t<dd><ol>\n",
       "</ol>\n",
       "</dd>\n",
       "\t<dt>$remove</dt>\n",
       "\t\t<dd>NULL</dd>\n",
       "</dl>\n"
      ],
      "text/latex": [
       "\\begin{description}\n",
       "\\item[\\$linearCombos] \\begin{enumerate}\n",
       "\\end{enumerate}\n",
       "\n",
       "\\item[\\$remove] NULL\n",
       "\\end{description}\n"
      ],
      "text/markdown": [
       "$linearCombos\n",
       ":   \n",
       "\n",
       "\n",
       "$remove\n",
       ":   NULL\n",
       "\n",
       "\n"
      ],
      "text/plain": [
       "$linearCombos\n",
       "list()\n",
       "\n",
       "$remove\n",
       "NULL\n"
      ]
     },
     "metadata": {},
     "output_type": "display_data"
    }
   ],
   "source": [
    "linear_cols <- findLinearCombos(bio_flt_nzv)\n",
    "linear_cols"
   ]
  },
  {
   "cell_type": "markdown",
   "metadata": {},
   "source": [
    "&#x25B6; `Skewness`"
   ]
  },
  {
   "cell_type": "code",
   "execution_count": 80,
   "metadata": {
    "scrolled": true
   },
   "outputs": [
    {
     "data": {
      "text/html": [
       "<dl class=dl-horizontal>\n",
       "\t<dt>Z147</dt>\n",
       "\t\t<dd>9.24099544872408</dd>\n",
       "\t<dt>Z17</dt>\n",
       "\t\t<dd>8.602032382449</dd>\n",
       "\t<dt>Z85</dt>\n",
       "\t\t<dd>7.49643884201429</dd>\n",
       "\t<dt>Z125</dt>\n",
       "\t\t<dd>5.84012811925427</dd>\n",
       "\t<dt>Z145</dt>\n",
       "\t\t<dd>5.30480363930921</dd>\n",
       "\t<dt>Z132</dt>\n",
       "\t\t<dd>4.97931924151609</dd>\n",
       "</dl>\n"
      ],
      "text/latex": [
       "\\begin{description*}\n",
       "\\item[Z147] 9.24099544872408\n",
       "\\item[Z17] 8.602032382449\n",
       "\\item[Z85] 7.49643884201429\n",
       "\\item[Z125] 5.84012811925427\n",
       "\\item[Z145] 5.30480363930921\n",
       "\\item[Z132] 4.97931924151609\n",
       "\\end{description*}\n"
      ],
      "text/markdown": [
       "Z147\n",
       ":   9.24099544872408Z17\n",
       ":   8.602032382449Z85\n",
       ":   7.49643884201429Z125\n",
       ":   5.84012811925427Z145\n",
       ":   5.30480363930921Z132\n",
       ":   4.97931924151609\n",
       "\n"
      ],
      "text/plain": [
       "    Z147      Z17      Z85     Z125     Z145     Z132 \n",
       "9.240995 8.602032 7.496439 5.840128 5.304804 4.979319 "
      ]
     },
     "metadata": {},
     "output_type": "display_data"
    },
    {
     "data": {
      "text/html": [
       "<dl class=dl-horizontal>\n",
       "\t<dt>Z105</dt>\n",
       "\t\t<dd>-5.9475333935656</dd>\n",
       "\t<dt>Z176</dt>\n",
       "\t\t<dd>-6.4824646673515</dd>\n",
       "\t<dt>Z140</dt>\n",
       "\t\t<dd>-7.88538338135055</dd>\n",
       "\t<dt>Z169</dt>\n",
       "\t\t<dd>-7.94148813811025</dd>\n",
       "\t<dt>Z144</dt>\n",
       "\t\t<dd>-8.01998206340191</dd>\n",
       "\t<dt>Z146</dt>\n",
       "\t\t<dd>-9.9238287801442</dd>\n",
       "</dl>\n"
      ],
      "text/latex": [
       "\\begin{description*}\n",
       "\\item[Z105] -5.9475333935656\n",
       "\\item[Z176] -6.4824646673515\n",
       "\\item[Z140] -7.88538338135055\n",
       "\\item[Z169] -7.94148813811025\n",
       "\\item[Z144] -8.01998206340191\n",
       "\\item[Z146] -9.9238287801442\n",
       "\\end{description*}\n"
      ],
      "text/markdown": [
       "Z105\n",
       ":   -5.9475333935656Z176\n",
       ":   -6.4824646673515Z140\n",
       ":   -7.88538338135055Z169\n",
       ":   -7.94148813811025Z144\n",
       ":   -8.01998206340191Z146\n",
       ":   -9.9238287801442\n",
       "\n"
      ],
      "text/plain": [
       "     Z105      Z176      Z140      Z169      Z144      Z146 \n",
       "-5.947533 -6.482465 -7.885383 -7.941488 -8.019982 -9.923829 "
      ]
     },
     "metadata": {},
     "output_type": "display_data"
    }
   ],
   "source": [
    "library(e1071)\n",
    "skew_info  <- apply(bio_flt_nzv,2,skewness)\n",
    "head(sort(skew_info,decreasing = T))\n",
    "tail(sort(skew_info,decreasing = T))"
   ]
  },
  {
   "cell_type": "code",
   "execution_count": 23,
   "metadata": {
    "scrolled": true
   },
   "outputs": [
    {
     "name": "stderr",
     "output_type": "stream",
     "text": [
      "\n",
      "Attaching package: 'psych'\n",
      "\n",
      "The following objects are masked from 'package:ggplot2':\n",
      "\n",
      "    %+%, alpha\n",
      "\n",
      "Using  as id variables\n"
     ]
    },
    {
     "data": {},
     "metadata": {},
     "output_type": "display_data"
    },
    {
     "data": {
      "image/png": "[encoded data removed]",
      "text/plain": [
       "plot without title"
      ]
     },
     "metadata": {},
     "output_type": "display_data"
    }
   ],
   "source": [
    "library(psych)\n",
    "skew_info <-  describe(bio_flt_nzv)\n",
    "skew_cols <- rownames(skew_info[order(skew_info$skew,decreasing = T),c(\"vars\",\"skew\")])[c(1:3,100:102)]\n",
    "skew_plt <- bio_flt_nzv[,skew_cols]\n",
    "\n",
    "library(reshape)\n",
    "skew_plt <- melt(skew_plt)\n",
    "\n",
    "library(lattice)\n",
    "densityplot(~value|variable,data=skew_plt,\n",
    "            scales = list(x=list(relation=\"free\"),y=list(relation = \"free\")),\n",
    "           adjust=1.25,pch=\"|\",xlab=\"Preditors\")"
   ]
  },
  {
   "cell_type": "markdown",
   "metadata": {},
   "source": [
    "&#x25B6; `Correlations`"
   ]
  },
  {
   "cell_type": "code",
   "execution_count": 34,
   "metadata": {
    "scrolled": true
   },
   "outputs": [
    {
     "data": {},
     "metadata": {},
     "output_type": "display_data"
    },
    {
     "data": {
      "image/png": "[encoded data removed]",
      "text/plain": [
       "plot without title"
      ]
     },
     "metadata": {},
     "output_type": "display_data"
    },
    {
     "data": {
      "image/png": "[encoded data removed]",
      "text/plain": [
       "Plot with title \"\""
      ]
     },
     "metadata": {},
     "output_type": "display_data"
    }
   ],
   "source": [
    "library(corrplot)\n",
    "cor_info <- cor(bio_flt_nzv)\n",
    "# summary(cor_info[upper.tri(cor_info)])\n",
    "\n",
    "histogram(cor_info[upper.tri(cor_info)])\n",
    "corrplot(cor_info,type=\"upper\",addgrid.col = NA, tl.pos = \"n\")"
   ]
  },
  {
   "cell_type": "markdown",
   "metadata": {},
   "source": [
    "\\begin{remark}\n",
    "(c) Split the data into a training and a testing set, pre-process the data, and build models described in this chapter for the biological predictors and separately for the chemical fingerprint predictors. Which model has the best predictive ability for the biological predictors and what is the optimal performance? Which model has the best predictive ability for the chemical predictors and what is the optimal performance? Based on these results, which set of predictors contains the most information about hepatic toxicity?\n",
    "\\end{remark}"
   ]
  },
  {
   "cell_type": "markdown",
   "metadata": {},
   "source": [
    "&#x1F31F;\n",
    "```r\n",
    "function pROC:::roc assumes that the second class is the event of interest\n",
    "```"
   ]
  },
  {
   "cell_type": "markdown",
   "metadata": {},
   "source": [
    "`# Use the biological predictors`"
   ]
  },
  {
   "cell_type": "code",
   "execution_count": 35,
   "metadata": {
    "scrolled": true
   },
   "outputs": [
    {
     "name": "stderr",
     "output_type": "stream",
     "text": [
      "Loading required package: foreach\n",
      "Loading required package: iterators\n",
      "Loading required package: parallel\n",
      "Type 'citation(\"pROC\")' for a citation.\n",
      "\n",
      "Attaching package: 'pROC'\n",
      "\n",
      "The following objects are masked from 'package:stats':\n",
      "\n",
      "    cov, smooth, var\n",
      "\n"
     ]
    }
   ],
   "source": [
    "library(doMC)\n",
    "registerDoMC(12)\n",
    "source(\"build_AUC_linear_models.R\")\n",
    "#use the original function written by  Dr. John L. Weatherwax"
   ]
  },
  {
   "cell_type": "code",
   "execution_count": 36,
   "metadata": {
    "scrolled": false
   },
   "outputs": [
    {
     "name": "stdout",
     "output_type": "stream",
     "text": [
      "11111111111111111111111111"
     ]
    }
   ],
   "source": [
    "options(warn=-1)\n",
    "X <- bio_flt_nzv\n",
    "bio_linear_models <-  build_AUC_linear_models(X,any_damage)"
   ]
  },
  {
   "cell_type": "code",
   "execution_count": 37,
   "metadata": {},
   "outputs": [
    {
     "name": "stdout",
     "output_type": "stream",
     "text": [
      "[1] \"AUC Performance using biological predictors\"\n",
      "    name       auc\n",
      "4 GLMNET 0.6486792\n",
      "3  PLSDA 0.6552022\n",
      "5    NSC 0.6552022\n",
      "2    LDA 0.8675472\n",
      "1     LR 0.8975202\n"
     ]
    }
   ],
   "source": [
    "df = rbind( data.frame(name=\"LR\", auc=bio_linear_models$glm$auc), data.frame(name=\"LDA\", auc=bio_linear_models$lda$auc),\n",
    "            data.frame(name=\"PLSDA\", auc=bio_linear_models$plsda$auc), data.frame(name=\"GLMNET\", auc=bio_linear_models$glmnet$auc),\n",
    "            data.frame(name=\"NSC\", auc=bio_linear_models$nsc$auc) )\n",
    "# Order our dataframe by performance:\n",
    "#\n",
    "df = df[ with( df, order(auc) ), ]\n",
    "print( \"AUC Performance using biological predictors\" )\n",
    "print( df )"
   ]
  },
  {
   "cell_type": "code",
   "execution_count": 116,
   "metadata": {
    "scrolled": true
   },
   "outputs": [
    {
     "data": {},
     "metadata": {},
     "output_type": "display_data"
    },
    {
     "data": {
      "image/png": "[encoded data removed]",
      "text/plain": [
       "plot without title"
      ]
     },
     "metadata": {},
     "output_type": "display_data"
    }
   ],
   "source": [
    "# For the best model (logistic regression) what are the most important predictors:\n",
    "#\n",
    "plot(varImp(bio_linear_models$glm$classifier),top=20)"
   ]
  },
  {
   "cell_type": "markdown",
   "metadata": {},
   "source": [
    "`I made some modification base on the original function as I noticed it uses the whole dataset and did not use cross validation`\n",
    "https://www.waxworksmath.com/Authors/G_M/Kuhn/Code/Chapter12/build_AUC_linear_models.R"
   ]
  },
  {
   "cell_type": "markdown",
   "metadata": {},
   "source": [
    "`Let's use Logistic Regression as example to illustrate`"
   ]
  },
  {
   "cell_type": "markdown",
   "metadata": {},
   "source": [
    "&#x1F52E; `Original  model by Dr.John`"
   ]
  },
  {
   "cell_type": "code",
   "execution_count": 57,
   "metadata": {
    "scrolled": true
   },
   "outputs": [],
   "source": [
    "library(caret)\n",
    "ctrl <- trainControl(\n",
    "                    summaryFunction=twoClassSummary,\n",
    "                     classProbs=T)\n",
    "\n",
    "set.seed(456)\n",
    "fit_glm_orig <- train(x = bio_flt_nzv,y=any_damage,method = \"glm\",trControl=ctrl)\n",
    "pred_glm <- predict(fit_glm_orig,newdata = bio_flt_nzv,type=\"prob\")\n",
    "\n",
    "roc_glm <- pROC::roc(response = any_damage,predictor = pred_glm[,1],levels=rev(levels(any_damage)))\n",
    "auc_glm <- roc_glm$auc[1]\n",
    "glm <- list(classifier=fit_glm_orig, predictions=pred_glm, roc=roc_glm, auc=auc_glm)"
   ]
  },
  {
   "cell_type": "code",
   "execution_count": 60,
   "metadata": {},
   "outputs": [
    {
     "data": {
      "text/plain": [
       "\n",
       "Call:\n",
       "roc.default(response = any_damage, predictor = pred_glm[, 1],     levels = rev(levels(any_damage)))\n",
       "\n",
       "Data: pred_glm[, 1] in 106 controls (any_damage No) < 175 cases (any_damage Yes).\n",
       "Area under the curve: 0.8975"
      ]
     },
     "metadata": {},
     "output_type": "display_data"
    }
   ],
   "source": [
    "roc_glm"
   ]
  },
  {
   "cell_type": "markdown",
   "metadata": {},
   "source": [
    "> `Arguments` response a factor, numeric or character vector of responses, typically encoded with 0 (controls) and 1 (cases). \n",
    "\n",
    "> [Comparisons of people with a specific cancer (cases) and similar people who do not have the cancer (controls)](https://dceg.cancer.gov/research/who-we-study/cancer-cases-controls/)"
   ]
  },
  {
   "cell_type": "code",
   "execution_count": 63,
   "metadata": {
    "scrolled": false
   },
   "outputs": [
    {
     "data": {
      "text/plain": [
       "Confusion Matrix and Statistics\n",
       "\n",
       "          Reference\n",
       "Prediction Yes  No\n",
       "       Yes 157  29\n",
       "       No   18  77\n",
       "                                          \n",
       "               Accuracy : 0.8327          \n",
       "                 95% CI : (0.7839, 0.8744)\n",
       "    No Information Rate : 0.6228          \n",
       "    P-Value [Acc > NIR] : 1.123e-14       \n",
       "                                          \n",
       "                  Kappa : 0.6366          \n",
       " Mcnemar's Test P-Value : 0.1447          \n",
       "                                          \n",
       "            Sensitivity : 0.8971          \n",
       "            Specificity : 0.7264          \n",
       "         Pos Pred Value : 0.8441          \n",
       "         Neg Pred Value : 0.8105          \n",
       "             Prevalence : 0.6228          \n",
       "         Detection Rate : 0.5587          \n",
       "   Detection Prevalence : 0.6619          \n",
       "      Balanced Accuracy : 0.8118          \n",
       "                                          \n",
       "       'Positive' Class : Yes             \n",
       "                                          "
      ]
     },
     "metadata": {},
     "output_type": "display_data"
    }
   ],
   "source": [
    "confusionMatrix(reference = any_damage,data = predict(fit_glm_orig,newdata = bio_flt_nzv) )"
   ]
  },
  {
   "cell_type": "markdown",
   "metadata": {},
   "source": [
    "&#x1F52E; `Modified model using cross validation`"
   ]
  },
  {
   "cell_type": "code",
   "execution_count": 64,
   "metadata": {},
   "outputs": [],
   "source": [
    "library(caret)\n",
    "ctrl <- trainControl(method=\"repeatedcv\",number=10,repeats = 10,\n",
    "                    summaryFunction=twoClassSummary,\n",
    "                     classProbs=T,savePredictions = T)\n",
    "\n",
    "set.seed(456)\n",
    "fit_glm_mod <- train(x = bio_flt_nzv,y=any_damage,method = \"glm\",trControl=ctrl)\n",
    "pred_glm <- predict(fit_glm_mod,newdata = bio_flt_nzv,type=\"prob\")\n",
    "\n",
    "roc_glm <- pROC::roc(response = any_damage,predictor = pred_glm[,1],levels=rev(levels(any_damage)))\n",
    "auc_glm <- roc_glm$auc[1]\n",
    "glm <- list(classifier=fit_glm_orig, predictions=pred_glm, roc=roc_glm, auc=auc_glm)"
   ]
  },
  {
   "cell_type": "code",
   "execution_count": 65,
   "metadata": {
    "scrolled": true
   },
   "outputs": [
    {
     "data": {
      "text/plain": [
       "Generalized Linear Model \n",
       "\n",
       "281 samples\n",
       "102 predictors\n",
       "  2 classes: 'Yes', 'No' \n",
       "\n",
       "No pre-processing\n",
       "Resampling: Cross-Validated (10 fold, repeated 10 times) \n",
       "Summary of sample sizes: 254, 253, 252, 254, 253, 252, ... \n",
       "Resampling results:\n",
       "\n",
       "  ROC        Sens       Spec     \n",
       "  0.5284226  0.6166667  0.4132727\n"
      ]
     },
     "metadata": {},
     "output_type": "display_data"
    }
   ],
   "source": [
    "fit_glm_mod"
   ]
  },
  {
   "cell_type": "code",
   "execution_count": 66,
   "metadata": {
    "scrolled": true
   },
   "outputs": [
    {
     "data": {
      "text/plain": [
       "\n",
       "Call:\n",
       "roc.default(response = any_damage, predictor = pred_glm[, 1],     levels = rev(levels(any_damage)))\n",
       "\n",
       "Data: pred_glm[, 1] in 106 controls (any_damage No) < 175 cases (any_damage Yes).\n",
       "Area under the curve: 0.8975"
      ]
     },
     "metadata": {},
     "output_type": "display_data"
    }
   ],
   "source": [
    "pred_glm <- predict(fit_glm_mod,newdata = bio_flt_nzv,type=\"prob\")\n",
    "pROC::roc(response = any_damage,predictor = pred_glm[,1],levels=rev(levels(any_damage)))"
   ]
  },
  {
   "cell_type": "code",
   "execution_count": 68,
   "metadata": {
    "scrolled": true
   },
   "outputs": [
    {
     "data": {},
     "metadata": {},
     "output_type": "display_data"
    },
    {
     "data": {
      "image/png": "[encoded data removed]",
      "text/plain": [
       "plot without title"
      ]
     },
     "metadata": {},
     "output_type": "display_data"
    }
   ],
   "source": [
    "trellis.par.set(caretTheme())\n",
    "densityplot(fit_glm_mod, pch = \"|\")"
   ]
  },
  {
   "cell_type": "code",
   "execution_count": 69,
   "metadata": {},
   "outputs": [],
   "source": [
    "df <- cbind(bio_flt_nzv,as.data.frame(any_damage))\n",
    "fit_lm <- glm(any_damage~.,data=df,family = binomial(link=\"logit\")) "
   ]
  },
  {
   "cell_type": "code",
   "execution_count": 70,
   "metadata": {},
   "outputs": [
    {
     "data": {
      "text/plain": [
       "\n",
       "Call:\n",
       "glm(formula = any_damage ~ ., family = binomial(link = \"logit\"), \n",
       "    data = df)\n",
       "\n",
       "Deviance Residuals: \n",
       "    Min       1Q   Median       3Q      Max  \n",
       "-2.1959  -0.6653  -0.1364   0.4226   2.4416  \n",
       "\n",
       "Coefficients:\n",
       "             Estimate Std. Error z value Pr(>|z|)    \n",
       "(Intercept) -35.93186   27.18949  -1.322 0.186323    \n",
       "Z1            1.73558    0.95517   1.817 0.069210 .  \n",
       "Z4            0.84485    0.89027   0.949 0.342630    \n",
       "Z6           -0.52795    1.13656  -0.465 0.642278    \n",
       "Z7           -1.35189    0.77652  -1.741 0.081691 .  \n",
       "Z10           1.67324    1.25363   1.335 0.181970    \n",
       "Z11          -0.82900    1.01931  -0.813 0.416049    \n",
       "Z12           0.63389    1.38225   0.459 0.646527    \n",
       "Z15          -1.44195    0.60876  -2.369 0.017853 *  \n",
       "Z17          -0.20794    1.51948  -0.137 0.891152    \n",
       "Z18           1.23666    1.22991   1.005 0.314661    \n",
       "Z19           0.92847    0.85419   1.087 0.277052    \n",
       "Z20          -2.84602    1.07669  -2.643 0.008210 ** \n",
       "Z21          -1.18966    0.92081  -1.292 0.196366    \n",
       "Z23          -0.59861    0.77583  -0.772 0.440365    \n",
       "Z26           1.04433    1.19636   0.873 0.382706    \n",
       "Z28          -1.98769    0.65723  -3.024 0.002492 ** \n",
       "Z33          -0.53454    0.23564  -2.268 0.023300 *  \n",
       "Z34          -1.26650    0.88974  -1.423 0.154606    \n",
       "Z35           0.56345    1.48845   0.379 0.705026    \n",
       "Z36           0.64351    1.26749   0.508 0.611659    \n",
       "Z38          -4.32658    1.26707  -3.415 0.000639 ***\n",
       "Z40           0.27737    0.73273   0.379 0.705030    \n",
       "Z42           3.94412    1.13020   3.490 0.000483 ***\n",
       "Z43           1.02020    0.78076   1.307 0.191321    \n",
       "Z44          -2.31079    0.97725  -2.365 0.018050 *  \n",
       "Z46          -0.64964    0.99714  -0.652 0.514719    \n",
       "Z48          -0.46088    1.04470  -0.441 0.659099    \n",
       "Z50           1.52888    1.32434   1.154 0.248316    \n",
       "Z51          -1.68572    0.87928  -1.917 0.055217 .  \n",
       "Z52          -4.06541    1.36104  -2.987 0.002817 ** \n",
       "Z53          -1.14728    0.53714  -2.136 0.032686 *  \n",
       "Z56           0.88253    0.51929   1.699 0.089229 .  \n",
       "Z57          -0.11368    0.32142  -0.354 0.723573    \n",
       "Z58          -4.04801    1.83571  -2.205 0.027444 *  \n",
       "Z59           0.19175    0.69097   0.278 0.781394    \n",
       "Z61           0.25877    0.35090   0.737 0.460853    \n",
       "Z64           0.72657    0.67463   1.077 0.281479    \n",
       "Z68           3.48685    1.25975   2.768 0.005642 ** \n",
       "Z69           2.71854    1.79440   1.515 0.129769    \n",
       "Z71           1.66758    1.13523   1.469 0.141851    \n",
       "Z75          -1.56294    1.83976  -0.850 0.395583    \n",
       "Z79           1.73061    1.12234   1.542 0.123081    \n",
       "Z80           0.06448    0.30095   0.214 0.830347    \n",
       "Z82           0.59021    1.52589   0.387 0.698905    \n",
       "Z83          -0.28168    0.32004  -0.880 0.378794    \n",
       "Z85           0.48624    0.53025   0.917 0.359140    \n",
       "Z93          -0.34835    0.22342  -1.559 0.118950    \n",
       "Z94           0.53242    0.48546   1.097 0.272762    \n",
       "Z97          -0.05990    1.27650  -0.047 0.962575    \n",
       "Z98           2.25632    1.54822   1.457 0.145017    \n",
       "Z99          -0.08029    1.11587  -0.072 0.942640    \n",
       "Z100         -1.17514    0.67134  -1.750 0.080044 .  \n",
       "Z101          3.46824    1.00506   3.451 0.000559 ***\n",
       "Z102          0.81441    1.67482   0.486 0.626778    \n",
       "Z103          0.14876    1.24335   0.120 0.904766    \n",
       "Z105          3.14284    1.13969   2.758 0.005822 ** \n",
       "Z111          0.07132    0.90584   0.079 0.937246    \n",
       "Z113         -4.17313    1.67697  -2.489 0.012828 *  \n",
       "Z116          4.64545    1.61375   2.879 0.003994 ** \n",
       "Z117         -2.42865    1.37512  -1.766 0.077372 .  \n",
       "Z118          1.90529    1.29023   1.477 0.139755    \n",
       "Z121         -1.87445    0.71491  -2.622 0.008744 ** \n",
       "Z122          0.23525    0.66792   0.352 0.724676    \n",
       "Z125          0.69903    1.73973   0.402 0.687829    \n",
       "Z126          1.97651    1.32824   1.488 0.136735    \n",
       "Z127         -0.77615    1.57726  -0.492 0.622655    \n",
       "Z128          2.36677    1.64291   1.441 0.149698    \n",
       "Z130          5.51132    1.44573   3.812 0.000138 ***\n",
       "Z131         -2.39253    1.38807  -1.724 0.084774 .  \n",
       "Z132         -0.80292    0.90435  -0.888 0.374630    \n",
       "Z133          0.25460    0.71930   0.354 0.723367    \n",
       "Z134         -1.21801    1.04219  -1.169 0.242524    \n",
       "Z135          0.14570    0.60790   0.240 0.810581    \n",
       "Z136          2.69264    0.84610   3.182 0.001460 ** \n",
       "Z137          0.84781    1.09283   0.776 0.437870    \n",
       "Z138         -1.99473    1.45928  -1.367 0.171649    \n",
       "Z140         -0.58145    0.55947  -1.039 0.298668    \n",
       "Z142         -0.08591    1.62812  -0.053 0.957920    \n",
       "Z144          2.47074    1.24814   1.980 0.047755 *  \n",
       "Z145          2.61884    1.24223   2.108 0.035016 *  \n",
       "Z146          1.53055    0.81224   1.884 0.059516 .  \n",
       "Z147         -0.02797    0.98317  -0.028 0.977308    \n",
       "Z148          1.55215    1.17889   1.317 0.187965    \n",
       "Z149         -3.21193    1.27952  -2.510 0.012064 *  \n",
       "Z151         -0.51469    0.67571  -0.762 0.446235    \n",
       "Z152          2.86997    1.28808   2.228 0.025874 *  \n",
       "Z153          1.68960    1.11152   1.520 0.128490    \n",
       "Z155          0.20058    1.40279   0.143 0.886300    \n",
       "Z156         -0.76163    0.32838  -2.319 0.020374 *  \n",
       "Z157          0.65206    0.95323   0.684 0.493939    \n",
       "Z158         -0.97414    0.92508  -1.053 0.292328    \n",
       "Z159          0.45988    0.33059   1.391 0.164201    \n",
       "Z163          0.39106    0.36094   1.083 0.278612    \n",
       "Z164         -0.31187    0.30135  -1.035 0.300719    \n",
       "Z167          0.70244    0.76332   0.920 0.357444    \n",
       "Z169         -1.54854    1.01132  -1.531 0.125721    \n",
       "Z173         -0.01988    0.22595  -0.088 0.929904    \n",
       "Z174         -6.78988    2.09473  -3.241 0.001189 ** \n",
       "Z176         -1.20663    1.34529  -0.897 0.369758    \n",
       "Z180         -0.17377    0.64392  -0.270 0.787264    \n",
       "Z181         -0.50042    0.55606  -0.900 0.368158    \n",
       "Z183          0.12407    0.27511   0.451 0.651999    \n",
       "---\n",
       "Signif. codes:  0 '***' 0.001 '**' 0.01 '*' 0.05 '.' 0.1 ' ' 1\n",
       "\n",
       "(Dispersion parameter for binomial family taken to be 1)\n",
       "\n",
       "    Null deviance: 372.43  on 280  degrees of freedom\n",
       "Residual deviance: 211.01  on 178  degrees of freedom\n",
       "AIC: 417.01\n",
       "\n",
       "Number of Fisher Scoring iterations: 8\n"
      ]
     },
     "metadata": {},
     "output_type": "display_data"
    }
   ],
   "source": [
    "summary(fit_lm)"
   ]
  },
  {
   "cell_type": "code",
   "execution_count": 71,
   "metadata": {
    "scrolled": true
   },
   "outputs": [
    {
     "data": {
      "text/html": [
       "<dl class=dl-horizontal>\n",
       "\t<dt>1</dt>\n",
       "\t\t<dd>0.626091438581476</dd>\n",
       "\t<dt>2</dt>\n",
       "\t\t<dd>0.736190742221102</dd>\n",
       "\t<dt>3</dt>\n",
       "\t\t<dd>0.999251677822223</dd>\n",
       "\t<dt>4</dt>\n",
       "\t\t<dd>2.15903329556178e-05</dd>\n",
       "\t<dt>5</dt>\n",
       "\t\t<dd>0.39005028890693</dd>\n",
       "\t<dt>6</dt>\n",
       "\t\t<dd>0.0233411724408591</dd>\n",
       "\t<dt>7</dt>\n",
       "\t\t<dd>0.655678859211993</dd>\n",
       "\t<dt>8</dt>\n",
       "\t\t<dd>0.206991198629389</dd>\n",
       "\t<dt>9</dt>\n",
       "\t\t<dd>0.986002007576307</dd>\n",
       "\t<dt>10</dt>\n",
       "\t\t<dd>0.994421730432215</dd>\n",
       "\t<dt>11</dt>\n",
       "\t\t<dd>0.93503000757575</dd>\n",
       "\t<dt>12</dt>\n",
       "\t\t<dd>0.312061208903674</dd>\n",
       "\t<dt>13</dt>\n",
       "\t\t<dd>0.17255829821326</dd>\n",
       "\t<dt>14</dt>\n",
       "\t\t<dd>0.999999992851575</dd>\n",
       "\t<dt>15</dt>\n",
       "\t\t<dd>0.558334965746991</dd>\n",
       "\t<dt>16</dt>\n",
       "\t\t<dd>0.0528382484079324</dd>\n",
       "\t<dt>17</dt>\n",
       "\t\t<dd>0.222537209579104</dd>\n",
       "\t<dt>18</dt>\n",
       "\t\t<dd>0.174832408443477</dd>\n",
       "\t<dt>19</dt>\n",
       "\t\t<dd>0.869955252699143</dd>\n",
       "\t<dt>20</dt>\n",
       "\t\t<dd>0.601082896211371</dd>\n",
       "\t<dt>21</dt>\n",
       "\t\t<dd>0.425769259822725</dd>\n",
       "\t<dt>22</dt>\n",
       "\t\t<dd>0.190753192917265</dd>\n",
       "\t<dt>23</dt>\n",
       "\t\t<dd>0.541551675724258</dd>\n",
       "\t<dt>24</dt>\n",
       "\t\t<dd>0.115447289259456</dd>\n",
       "\t<dt>25</dt>\n",
       "\t\t<dd>0.280405855892378</dd>\n",
       "\t<dt>26</dt>\n",
       "\t\t<dd>0.136793910705763</dd>\n",
       "\t<dt>27</dt>\n",
       "\t\t<dd>0.0234887568840324</dd>\n",
       "\t<dt>28</dt>\n",
       "\t\t<dd>0.980884784433972</dd>\n",
       "\t<dt>29</dt>\n",
       "\t\t<dd>0.701256310037711</dd>\n",
       "\t<dt>30</dt>\n",
       "\t\t<dd>0.994508348558372</dd>\n",
       "\t<dt>31</dt>\n",
       "\t\t<dd>0.409961539968459</dd>\n",
       "\t<dt>32</dt>\n",
       "\t\t<dd>0.0222099227236121</dd>\n",
       "\t<dt>33</dt>\n",
       "\t\t<dd>0.262991686735254</dd>\n",
       "\t<dt>34</dt>\n",
       "\t\t<dd>0.995004845569825</dd>\n",
       "\t<dt>35</dt>\n",
       "\t\t<dd>0.517764237811931</dd>\n",
       "\t<dt>36</dt>\n",
       "\t\t<dd>0.0709373920731796</dd>\n",
       "\t<dt>37</dt>\n",
       "\t\t<dd>0.0576210817452687</dd>\n",
       "\t<dt>38</dt>\n",
       "\t\t<dd>0.00207191746821044</dd>\n",
       "\t<dt>39</dt>\n",
       "\t\t<dd>0.364775920819575</dd>\n",
       "\t<dt>40</dt>\n",
       "\t\t<dd>0.285605140909566</dd>\n",
       "\t<dt>41</dt>\n",
       "\t\t<dd>0.10939043907186</dd>\n",
       "\t<dt>42</dt>\n",
       "\t\t<dd>0.998335281895168</dd>\n",
       "\t<dt>43</dt>\n",
       "\t\t<dd>0.783506376771948</dd>\n",
       "\t<dt>44</dt>\n",
       "\t\t<dd>0.322252744477524</dd>\n",
       "\t<dt>45</dt>\n",
       "\t\t<dd>1</dd>\n",
       "\t<dt>46</dt>\n",
       "\t\t<dd>0.0516815406319259</dd>\n",
       "\t<dt>47</dt>\n",
       "\t\t<dd>0.389153753359915</dd>\n",
       "\t<dt>48</dt>\n",
       "\t\t<dd>0.000811636379146995</dd>\n",
       "\t<dt>49</dt>\n",
       "\t\t<dd>0.698909689150989</dd>\n",
       "\t<dt>50</dt>\n",
       "\t\t<dd>0.639862412612303</dd>\n",
       "\t<dt>51</dt>\n",
       "\t\t<dd>0.554145602404344</dd>\n",
       "\t<dt>52</dt>\n",
       "\t\t<dd>0.413803096072061</dd>\n",
       "\t<dt>53</dt>\n",
       "\t\t<dd>0.563905024876175</dd>\n",
       "\t<dt>54</dt>\n",
       "\t\t<dd>0.38712738681447</dd>\n",
       "\t<dt>55</dt>\n",
       "\t\t<dd>0.0255509914496913</dd>\n",
       "\t<dt>56</dt>\n",
       "\t\t<dd>0.998774447267276</dd>\n",
       "\t<dt>57</dt>\n",
       "\t\t<dd>0.207724194586903</dd>\n",
       "\t<dt>58</dt>\n",
       "\t\t<dd>0.954512819489842</dd>\n",
       "\t<dt>59</dt>\n",
       "\t\t<dd>5.075674669842e-10</dd>\n",
       "\t<dt>60</dt>\n",
       "\t\t<dd>0.222285114620306</dd>\n",
       "\t<dt>61</dt>\n",
       "\t\t<dd>0.986425860062065</dd>\n",
       "\t<dt>62</dt>\n",
       "\t\t<dd>0.364223133206251</dd>\n",
       "\t<dt>63</dt>\n",
       "\t\t<dd>0.143548757966015</dd>\n",
       "\t<dt>64</dt>\n",
       "\t\t<dd>0.212938006466191</dd>\n",
       "\t<dt>65</dt>\n",
       "\t\t<dd>0.0623536346563699</dd>\n",
       "\t<dt>66</dt>\n",
       "\t\t<dd>0.568970770154817</dd>\n",
       "\t<dt>67</dt>\n",
       "\t\t<dd>0.580879273457981</dd>\n",
       "\t<dt>68</dt>\n",
       "\t\t<dd>0.914577050202004</dd>\n",
       "\t<dt>69</dt>\n",
       "\t\t<dd>0.999874732139669</dd>\n",
       "\t<dt>70</dt>\n",
       "\t\t<dd>0.856891198404414</dd>\n",
       "\t<dt>71</dt>\n",
       "\t\t<dd>0.00532023406958297</dd>\n",
       "\t<dt>72</dt>\n",
       "\t\t<dd>0.0860703816682496</dd>\n",
       "\t<dt>73</dt>\n",
       "\t\t<dd>0.929722925135698</dd>\n",
       "\t<dt>74</dt>\n",
       "\t\t<dd>0.999999931840571</dd>\n",
       "\t<dt>75</dt>\n",
       "\t\t<dd>0.317533442097014</dd>\n",
       "\t<dt>76</dt>\n",
       "\t\t<dd>0.156619423885901</dd>\n",
       "\t<dt>77</dt>\n",
       "\t\t<dd>0.0808459176586304</dd>\n",
       "\t<dt>78</dt>\n",
       "\t\t<dd>0.533020511541736</dd>\n",
       "\t<dt>79</dt>\n",
       "\t\t<dd>0.207290225454161</dd>\n",
       "\t<dt>80</dt>\n",
       "\t\t<dd>0.90518964573312</dd>\n",
       "\t<dt>81</dt>\n",
       "\t\t<dd>0.368596876856191</dd>\n",
       "\t<dt>82</dt>\n",
       "\t\t<dd>0.00390235824637169</dd>\n",
       "\t<dt>83</dt>\n",
       "\t\t<dd>0.906614669943852</dd>\n",
       "\t<dt>84</dt>\n",
       "\t\t<dd>0.586834295192507</dd>\n",
       "\t<dt>85</dt>\n",
       "\t\t<dd>0.942814434601816</dd>\n",
       "\t<dt>86</dt>\n",
       "\t\t<dd>0.635547607153396</dd>\n",
       "\t<dt>87</dt>\n",
       "\t\t<dd>0.990316032837508</dd>\n",
       "\t<dt>88</dt>\n",
       "\t\t<dd>0.56638175573383</dd>\n",
       "\t<dt>89</dt>\n",
       "\t\t<dd>0.294327601532487</dd>\n",
       "\t<dt>90</dt>\n",
       "\t\t<dd>0.998457691555155</dd>\n",
       "\t<dt>91</dt>\n",
       "\t\t<dd>0.716649681669343</dd>\n",
       "\t<dt>92</dt>\n",
       "\t\t<dd>0.0130489398522647</dd>\n",
       "\t<dt>93</dt>\n",
       "\t\t<dd>0.245456073249638</dd>\n",
       "\t<dt>94</dt>\n",
       "\t\t<dd>0.751973554022546</dd>\n",
       "\t<dt>95</dt>\n",
       "\t\t<dd>0.324750609059534</dd>\n",
       "\t<dt>96</dt>\n",
       "\t\t<dd>0.254825035989662</dd>\n",
       "\t<dt>97</dt>\n",
       "\t\t<dd>1.09989325004096e-05</dd>\n",
       "\t<dt>98</dt>\n",
       "\t\t<dd>0.00275239461057113</dd>\n",
       "\t<dt>99</dt>\n",
       "\t\t<dd>0.131237659241743</dd>\n",
       "\t<dt>100</dt>\n",
       "\t\t<dd>0.997293856276866</dd>\n",
       "\t<dt>101</dt>\n",
       "\t\t<dd>0.346673104180811</dd>\n",
       "\t<dt>102</dt>\n",
       "\t\t<dd>0.32251938598146</dd>\n",
       "\t<dt>103</dt>\n",
       "\t\t<dd>0.999998231584715</dd>\n",
       "\t<dt>104</dt>\n",
       "\t\t<dd>0.000663472281750017</dd>\n",
       "\t<dt>105</dt>\n",
       "\t\t<dd>0.979628624517484</dd>\n",
       "\t<dt>106</dt>\n",
       "\t\t<dd>0.280626752438717</dd>\n",
       "\t<dt>107</dt>\n",
       "\t\t<dd>0.999996294737895</dd>\n",
       "\t<dt>108</dt>\n",
       "\t\t<dd>0.117504211404998</dd>\n",
       "\t<dt>109</dt>\n",
       "\t\t<dd>0.11024713344994</dd>\n",
       "\t<dt>110</dt>\n",
       "\t\t<dd>0.00883380815392191</dd>\n",
       "\t<dt>111</dt>\n",
       "\t\t<dd>0.965376985257178</dd>\n",
       "\t<dt>112</dt>\n",
       "\t\t<dd>0.975278423664003</dd>\n",
       "\t<dt>113</dt>\n",
       "\t\t<dd>0.712915293058461</dd>\n",
       "\t<dt>114</dt>\n",
       "\t\t<dd>0.594527426656413</dd>\n",
       "\t<dt>115</dt>\n",
       "\t\t<dd>6.09170816293657e-05</dd>\n",
       "\t<dt>116</dt>\n",
       "\t\t<dd>0.549857023685018</dd>\n",
       "\t<dt>117</dt>\n",
       "\t\t<dd>0.818585691273912</dd>\n",
       "\t<dt>118</dt>\n",
       "\t\t<dd>0.443220195441652</dd>\n",
       "\t<dt>119</dt>\n",
       "\t\t<dd>0.0767659055561253</dd>\n",
       "\t<dt>120</dt>\n",
       "\t\t<dd>0.898285369697346</dd>\n",
       "\t<dt>121</dt>\n",
       "\t\t<dd>0.803057036078729</dd>\n",
       "\t<dt>122</dt>\n",
       "\t\t<dd>0.208183161943013</dd>\n",
       "\t<dt>123</dt>\n",
       "\t\t<dd>0.899089070271962</dd>\n",
       "\t<dt>124</dt>\n",
       "\t\t<dd>0.421277427709088</dd>\n",
       "\t<dt>125</dt>\n",
       "\t\t<dd>0.345262201835695</dd>\n",
       "\t<dt>126</dt>\n",
       "\t\t<dd>0.79046185657176</dd>\n",
       "\t<dt>127</dt>\n",
       "\t\t<dd>0.310064111612582</dd>\n",
       "\t<dt>128</dt>\n",
       "\t\t<dd>0.954146425612132</dd>\n",
       "\t<dt>129</dt>\n",
       "\t\t<dd>0.795058432675904</dd>\n",
       "\t<dt>130</dt>\n",
       "\t\t<dd>0.216676500913093</dd>\n",
       "\t<dt>131</dt>\n",
       "\t\t<dd>0.806962197055216</dd>\n",
       "\t<dt>132</dt>\n",
       "\t\t<dd>0.969509968557146</dd>\n",
       "\t<dt>133</dt>\n",
       "\t\t<dd>0.112815955006157</dd>\n",
       "\t<dt>134</dt>\n",
       "\t\t<dd>0.0557099575559366</dd>\n",
       "\t<dt>135</dt>\n",
       "\t\t<dd>0.00598353136424735</dd>\n",
       "\t<dt>136</dt>\n",
       "\t\t<dd>0.779581324095222</dd>\n",
       "\t<dt>137</dt>\n",
       "\t\t<dd>0.000618186690888618</dd>\n",
       "\t<dt>138</dt>\n",
       "\t\t<dd>0.269268875207666</dd>\n",
       "\t<dt>139</dt>\n",
       "\t\t<dd>0.29223802978286</dd>\n",
       "\t<dt>140</dt>\n",
       "\t\t<dd>0.314376733657837</dd>\n",
       "\t<dt>141</dt>\n",
       "\t\t<dd>0.0613516888201855</dd>\n",
       "\t<dt>142</dt>\n",
       "\t\t<dd>3.73615394920169e-06</dd>\n",
       "\t<dt>143</dt>\n",
       "\t\t<dd>2.37525367194706e-07</dd>\n",
       "\t<dt>144</dt>\n",
       "\t\t<dd>0.709171419158247</dd>\n",
       "\t<dt>145</dt>\n",
       "\t\t<dd>0.333462837473712</dd>\n",
       "\t<dt>146</dt>\n",
       "\t\t<dd>0.0209868141674181</dd>\n",
       "\t<dt>147</dt>\n",
       "\t\t<dd>0.97740337737167</dd>\n",
       "\t<dt>148</dt>\n",
       "\t\t<dd>0.519652973827471</dd>\n",
       "\t<dt>149</dt>\n",
       "\t\t<dd>0.0257959281248434</dd>\n",
       "\t<dt>150</dt>\n",
       "\t\t<dd>0.397425388843932</dd>\n",
       "\t<dt>151</dt>\n",
       "\t\t<dd>0.0324087666472296</dd>\n",
       "\t<dt>152</dt>\n",
       "\t\t<dd>4.75619454802284e-06</dd>\n",
       "\t<dt>153</dt>\n",
       "\t\t<dd>0.438307793918838</dd>\n",
       "\t<dt>154</dt>\n",
       "\t\t<dd>0.62923069674811</dd>\n",
       "\t<dt>155</dt>\n",
       "\t\t<dd>0.187331410041401</dd>\n",
       "\t<dt>156</dt>\n",
       "\t\t<dd>2.25302274329933e-11</dd>\n",
       "\t<dt>157</dt>\n",
       "\t\t<dd>0.131478048185463</dd>\n",
       "\t<dt>158</dt>\n",
       "\t\t<dd>0.216058249894238</dd>\n",
       "\t<dt>159</dt>\n",
       "\t\t<dd>0.816098873154904</dd>\n",
       "\t<dt>160</dt>\n",
       "\t\t<dd>0.593313589807176</dd>\n",
       "\t<dt>161</dt>\n",
       "\t\t<dd>0.0727945184981341</dd>\n",
       "\t<dt>162</dt>\n",
       "\t\t<dd>0.337383045402154</dd>\n",
       "\t<dt>163</dt>\n",
       "\t\t<dd>0.164888797490473</dd>\n",
       "\t<dt>164</dt>\n",
       "\t\t<dd>0.201172513102022</dd>\n",
       "\t<dt>165</dt>\n",
       "\t\t<dd>0.40184607510913</dd>\n",
       "\t<dt>166</dt>\n",
       "\t\t<dd>0.972697232840637</dd>\n",
       "\t<dt>167</dt>\n",
       "\t\t<dd>0.195950831676607</dd>\n",
       "\t<dt>168</dt>\n",
       "\t\t<dd>0.0532071751727672</dd>\n",
       "\t<dt>169</dt>\n",
       "\t\t<dd>0.0355819493060858</dd>\n",
       "\t<dt>170</dt>\n",
       "\t\t<dd>0.0185003472648448</dd>\n",
       "\t<dt>171</dt>\n",
       "\t\t<dd>0.132088897972415</dd>\n",
       "\t<dt>172</dt>\n",
       "\t\t<dd>0.996858616891398</dd>\n",
       "\t<dt>173</dt>\n",
       "\t\t<dd>0.0427725851319733</dd>\n",
       "\t<dt>174</dt>\n",
       "\t\t<dd>0.00592019420952536</dd>\n",
       "\t<dt>175</dt>\n",
       "\t\t<dd>0.359644379900251</dd>\n",
       "\t<dt>176</dt>\n",
       "\t\t<dd>0.53509245035457</dd>\n",
       "\t<dt>177</dt>\n",
       "\t\t<dd>3.74861354573419e-06</dd>\n",
       "\t<dt>178</dt>\n",
       "\t\t<dd>0.059248372306142</dd>\n",
       "\t<dt>179</dt>\n",
       "\t\t<dd>0.269428838155363</dd>\n",
       "\t<dt>180</dt>\n",
       "\t\t<dd>0.956031892289569</dd>\n",
       "\t<dt>181</dt>\n",
       "\t\t<dd>0.447121559618546</dd>\n",
       "\t<dt>182</dt>\n",
       "\t\t<dd>0.604191886753032</dd>\n",
       "\t<dt>183</dt>\n",
       "\t\t<dd>0.0585851672133107</dd>\n",
       "\t<dt>184</dt>\n",
       "\t\t<dd>0.000382564918320162</dd>\n",
       "\t<dt>185</dt>\n",
       "\t\t<dd>0.00021593038754812</dd>\n",
       "\t<dt>186</dt>\n",
       "\t\t<dd>1.87083610570971e-05</dd>\n",
       "\t<dt>187</dt>\n",
       "\t\t<dd>0.445913862582239</dd>\n",
       "\t<dt>188</dt>\n",
       "\t\t<dd>0.516180858418103</dd>\n",
       "\t<dt>189</dt>\n",
       "\t\t<dd>0.461267132781816</dd>\n",
       "\t<dt>190</dt>\n",
       "\t\t<dd>0.000104733783807196</dd>\n",
       "\t<dt>191</dt>\n",
       "\t\t<dd>0.173678972145542</dd>\n",
       "\t<dt>192</dt>\n",
       "\t\t<dd>0.0917853384627677</dd>\n",
       "\t<dt>193</dt>\n",
       "\t\t<dd>0.011654597207796</dd>\n",
       "\t<dt>194</dt>\n",
       "\t\t<dd>8.56059760506678e-06</dd>\n",
       "\t<dt>195</dt>\n",
       "\t\t<dd>0.815978384545129</dd>\n",
       "\t<dt>196</dt>\n",
       "\t\t<dd>0.239061978288074</dd>\n",
       "\t<dt>197</dt>\n",
       "\t\t<dd>0.0883220545430694</dd>\n",
       "\t<dt>198</dt>\n",
       "\t\t<dd>0.199151612892874</dd>\n",
       "\t<dt>199</dt>\n",
       "\t\t<dd>0.245345685016815</dd>\n",
       "\t<dt>200</dt>\n",
       "\t\t<dd>0.303153018569237</dd>\n",
       "\t<dt>201</dt>\n",
       "\t\t<dd>0.156967022558648</dd>\n",
       "\t<dt>202</dt>\n",
       "\t\t<dd>0.155603198215887</dd>\n",
       "\t<dt>203</dt>\n",
       "\t\t<dd>0.616637871324293</dd>\n",
       "\t<dt>204</dt>\n",
       "\t\t<dd>0.0534550184456131</dd>\n",
       "\t<dt>205</dt>\n",
       "\t\t<dd>0.1911659151893</dd>\n",
       "\t<dt>206</dt>\n",
       "\t\t<dd>0.0541238305261355</dd>\n",
       "\t<dt>207</dt>\n",
       "\t\t<dd>0.353481248153416</dd>\n",
       "\t<dt>208</dt>\n",
       "\t\t<dd>0.00114110146952398</dd>\n",
       "\t<dt>209</dt>\n",
       "\t\t<dd>0.00150326462357201</dd>\n",
       "\t<dt>210</dt>\n",
       "\t\t<dd>0.000144427895268968</dd>\n",
       "\t<dt>211</dt>\n",
       "\t\t<dd>0.0860965312996891</dd>\n",
       "\t<dt>212</dt>\n",
       "\t\t<dd>0.198512641630503</dd>\n",
       "\t<dt>213</dt>\n",
       "\t\t<dd>0.00274368128895496</dd>\n",
       "\t<dt>214</dt>\n",
       "\t\t<dd>0.268365980599077</dd>\n",
       "\t<dt>215</dt>\n",
       "\t\t<dd>0.0125244510615262</dd>\n",
       "\t<dt>216</dt>\n",
       "\t\t<dd>0.36148075701898</dd>\n",
       "\t<dt>217</dt>\n",
       "\t\t<dd>0.74253180178754</dd>\n",
       "\t<dt>218</dt>\n",
       "\t\t<dd>2.86490318516774e-13</dd>\n",
       "\t<dt>219</dt>\n",
       "\t\t<dd>0.0034609339558516</dd>\n",
       "\t<dt>220</dt>\n",
       "\t\t<dd>0.29216605821221</dd>\n",
       "\t<dt>221</dt>\n",
       "\t\t<dd>0.0739869399200554</dd>\n",
       "\t<dt>222</dt>\n",
       "\t\t<dd>0.0819091495090826</dd>\n",
       "\t<dt>223</dt>\n",
       "\t\t<dd>0.0204663939633703</dd>\n",
       "\t<dt>224</dt>\n",
       "\t\t<dd>0.919721921754613</dd>\n",
       "\t<dt>225</dt>\n",
       "\t\t<dd>0.928407721005324</dd>\n",
       "\t<dt>226</dt>\n",
       "\t\t<dd>0.0579882837016766</dd>\n",
       "\t<dt>227</dt>\n",
       "\t\t<dd>0.62848077113749</dd>\n",
       "\t<dt>228</dt>\n",
       "\t\t<dd>6.10338808407092e-05</dd>\n",
       "\t<dt>229</dt>\n",
       "\t\t<dd>0.102472958552834</dd>\n",
       "\t<dt>230</dt>\n",
       "\t\t<dd>0.170866087145832</dd>\n",
       "\t<dt>231</dt>\n",
       "\t\t<dd>0.323513906247764</dd>\n",
       "\t<dt>232</dt>\n",
       "\t\t<dd>0.910274905273024</dd>\n",
       "\t<dt>233</dt>\n",
       "\t\t<dd>0.362966306362693</dd>\n",
       "\t<dt>234</dt>\n",
       "\t\t<dd>0.422898590134661</dd>\n",
       "\t<dt>235</dt>\n",
       "\t\t<dd>0.93077919253298</dd>\n",
       "\t<dt>236</dt>\n",
       "\t\t<dd>0.56339647757841</dd>\n",
       "\t<dt>237</dt>\n",
       "\t\t<dd>0.0175734368141791</dd>\n",
       "\t<dt>238</dt>\n",
       "\t\t<dd>0.166918748130187</dd>\n",
       "\t<dt>239</dt>\n",
       "\t\t<dd>0.656938330858745</dd>\n",
       "\t<dt>240</dt>\n",
       "\t\t<dd>0.0481525091425577</dd>\n",
       "\t<dt>241</dt>\n",
       "\t\t<dd>0.547309372547386</dd>\n",
       "\t<dt>242</dt>\n",
       "\t\t<dd>0.0507525521514779</dd>\n",
       "\t<dt>243</dt>\n",
       "\t\t<dd>0.398999785513455</dd>\n",
       "\t<dt>244</dt>\n",
       "\t\t<dd>0.227935256896442</dd>\n",
       "\t<dt>245</dt>\n",
       "\t\t<dd>0.00925495637069307</dd>\n",
       "\t<dt>246</dt>\n",
       "\t\t<dd>0.38422883577207</dd>\n",
       "\t<dt>247</dt>\n",
       "\t\t<dd>0.0298686715263721</dd>\n",
       "\t<dt>248</dt>\n",
       "\t\t<dd>0.69967447056035</dd>\n",
       "\t<dt>249</dt>\n",
       "\t\t<dd>0.857505228925626</dd>\n",
       "\t<dt>250</dt>\n",
       "\t\t<dd>0.342211387479214</dd>\n",
       "\t<dt>251</dt>\n",
       "\t\t<dd>0.600476765299871</dd>\n",
       "\t<dt>252</dt>\n",
       "\t\t<dd>0.578123334390109</dd>\n",
       "\t<dt>253</dt>\n",
       "\t\t<dd>0.0887702046295905</dd>\n",
       "\t<dt>254</dt>\n",
       "\t\t<dd>0.275196228718462</dd>\n",
       "\t<dt>255</dt>\n",
       "\t\t<dd>0.308923211762903</dd>\n",
       "\t<dt>256</dt>\n",
       "\t\t<dd>0.0703420514612705</dd>\n",
       "\t<dt>257</dt>\n",
       "\t\t<dd>3.73024787100821e-05</dd>\n",
       "\t<dt>258</dt>\n",
       "\t\t<dd>0.0407887291217977</dd>\n",
       "\t<dt>259</dt>\n",
       "\t\t<dd>0.191582551123123</dd>\n",
       "\t<dt>260</dt>\n",
       "\t\t<dd>0.278873138702522</dd>\n",
       "\t<dt>261</dt>\n",
       "\t\t<dd>0.101415415953326</dd>\n",
       "\t<dt>262</dt>\n",
       "\t\t<dd>0.275569495674731</dd>\n",
       "\t<dt>263</dt>\n",
       "\t\t<dd>0.640928073226716</dd>\n",
       "\t<dt>264</dt>\n",
       "\t\t<dd>0.110716879956501</dd>\n",
       "\t<dt>265</dt>\n",
       "\t\t<dd>0.0143011212907536</dd>\n",
       "\t<dt>266</dt>\n",
       "\t\t<dd>2.08801942633421e-06</dd>\n",
       "\t<dt>267</dt>\n",
       "\t\t<dd>0.0114555920112648</dd>\n",
       "\t<dt>268</dt>\n",
       "\t\t<dd>0.987651222829015</dd>\n",
       "\t<dt>269</dt>\n",
       "\t\t<dd>0.349796391794961</dd>\n",
       "\t<dt>270</dt>\n",
       "\t\t<dd>0.226918084907593</dd>\n",
       "\t<dt>271</dt>\n",
       "\t\t<dd>0.464804259497148</dd>\n",
       "\t<dt>272</dt>\n",
       "\t\t<dd>0.130042386759674</dd>\n",
       "\t<dt>273</dt>\n",
       "\t\t<dd>0.377832214839764</dd>\n",
       "\t<dt>274</dt>\n",
       "\t\t<dd>0.0824027009426267</dd>\n",
       "\t<dt>275</dt>\n",
       "\t\t<dd>0.393282746427042</dd>\n",
       "\t<dt>276</dt>\n",
       "\t\t<dd>0.251960742640302</dd>\n",
       "\t<dt>277</dt>\n",
       "\t\t<dd>0.120876132564113</dd>\n",
       "\t<dt>278</dt>\n",
       "\t\t<dd>0.782625038588079</dd>\n",
       "\t<dt>279</dt>\n",
       "\t\t<dd>0.694194876378748</dd>\n",
       "\t<dt>280</dt>\n",
       "\t\t<dd>0.0449684205206449</dd>\n",
       "\t<dt>281</dt>\n",
       "\t\t<dd>1.79204034417621e-06</dd>\n",
       "</dl>\n"
      ],
      "text/latex": [
       "\\begin{description*}\n",
       "\\item[1] 0.626091438581476\n",
       "\\item[2] 0.736190742221102\n",
       "\\item[3] 0.999251677822223\n",
       "\\item[4] 2.15903329556178e-05\n",
       "\\item[5] 0.39005028890693\n",
       "\\item[6] 0.0233411724408591\n",
       "\\item[7] 0.655678859211993\n",
       "\\item[8] 0.206991198629389\n",
       "\\item[9] 0.986002007576307\n",
       "\\item[10] 0.994421730432215\n",
       "\\item[11] 0.93503000757575\n",
       "\\item[12] 0.312061208903674\n",
       "\\item[13] 0.17255829821326\n",
       "\\item[14] 0.999999992851575\n",
       "\\item[15] 0.558334965746991\n",
       "\\item[16] 0.0528382484079324\n",
       "\\item[17] 0.222537209579104\n",
       "\\item[18] 0.174832408443477\n",
       "\\item[19] 0.869955252699143\n",
       "\\item[20] 0.601082896211371\n",
       "\\item[21] 0.425769259822725\n",
       "\\item[22] 0.190753192917265\n",
       "\\item[23] 0.541551675724258\n",
       "\\item[24] 0.115447289259456\n",
       "\\item[25] 0.280405855892378\n",
       "\\item[26] 0.136793910705763\n",
       "\\item[27] 0.0234887568840324\n",
       "\\item[28] 0.980884784433972\n",
       "\\item[29] 0.701256310037711\n",
       "\\item[30] 0.994508348558372\n",
       "\\item[31] 0.409961539968459\n",
       "\\item[32] 0.0222099227236121\n",
       "\\item[33] 0.262991686735254\n",
       "\\item[34] 0.995004845569825\n",
       "\\item[35] 0.517764237811931\n",
       "\\item[36] 0.0709373920731796\n",
       "\\item[37] 0.0576210817452687\n",
       "\\item[38] 0.00207191746821044\n",
       "\\item[39] 0.364775920819575\n",
       "\\item[40] 0.285605140909566\n",
       "\\item[41] 0.10939043907186\n",
       "\\item[42] 0.998335281895168\n",
       "\\item[43] 0.783506376771948\n",
       "\\item[44] 0.322252744477524\n",
       "\\item[45] 1\n",
       "\\item[46] 0.0516815406319259\n",
       "\\item[47] 0.389153753359915\n",
       "\\item[48] 0.000811636379146995\n",
       "\\item[49] 0.698909689150989\n",
       "\\item[50] 0.639862412612303\n",
       "\\item[51] 0.554145602404344\n",
       "\\item[52] 0.413803096072061\n",
       "\\item[53] 0.563905024876175\n",
       "\\item[54] 0.38712738681447\n",
       "\\item[55] 0.0255509914496913\n",
       "\\item[56] 0.998774447267276\n",
       "\\item[57] 0.207724194586903\n",
       "\\item[58] 0.954512819489842\n",
       "\\item[59] 5.075674669842e-10\n",
       "\\item[60] 0.222285114620306\n",
       "\\item[61] 0.986425860062065\n",
       "\\item[62] 0.364223133206251\n",
       "\\item[63] 0.143548757966015\n",
       "\\item[64] 0.212938006466191\n",
       "\\item[65] 0.0623536346563699\n",
       "\\item[66] 0.568970770154817\n",
       "\\item[67] 0.580879273457981\n",
       "\\item[68] 0.914577050202004\n",
       "\\item[69] 0.999874732139669\n",
       "\\item[70] 0.856891198404414\n",
       "\\item[71] 0.00532023406958297\n",
       "\\item[72] 0.0860703816682496\n",
       "\\item[73] 0.929722925135698\n",
       "\\item[74] 0.999999931840571\n",
       "\\item[75] 0.317533442097014\n",
       "\\item[76] 0.156619423885901\n",
       "\\item[77] 0.0808459176586304\n",
       "\\item[78] 0.533020511541736\n",
       "\\item[79] 0.207290225454161\n",
       "\\item[80] 0.90518964573312\n",
       "\\item[81] 0.368596876856191\n",
       "\\item[82] 0.00390235824637169\n",
       "\\item[83] 0.906614669943852\n",
       "\\item[84] 0.586834295192507\n",
       "\\item[85] 0.942814434601816\n",
       "\\item[86] 0.635547607153396\n",
       "\\item[87] 0.990316032837508\n",
       "\\item[88] 0.56638175573383\n",
       "\\item[89] 0.294327601532487\n",
       "\\item[90] 0.998457691555155\n",
       "\\item[91] 0.716649681669343\n",
       "\\item[92] 0.0130489398522647\n",
       "\\item[93] 0.245456073249638\n",
       "\\item[94] 0.751973554022546\n",
       "\\item[95] 0.324750609059534\n",
       "\\item[96] 0.254825035989662\n",
       "\\item[97] 1.09989325004096e-05\n",
       "\\item[98] 0.00275239461057113\n",
       "\\item[99] 0.131237659241743\n",
       "\\item[100] 0.997293856276866\n",
       "\\item[101] 0.346673104180811\n",
       "\\item[102] 0.32251938598146\n",
       "\\item[103] 0.999998231584715\n",
       "\\item[104] 0.000663472281750017\n",
       "\\item[105] 0.979628624517484\n",
       "\\item[106] 0.280626752438717\n",
       "\\item[107] 0.999996294737895\n",
       "\\item[108] 0.117504211404998\n",
       "\\item[109] 0.11024713344994\n",
       "\\item[110] 0.00883380815392191\n",
       "\\item[111] 0.965376985257178\n",
       "\\item[112] 0.975278423664003\n",
       "\\item[113] 0.712915293058461\n",
       "\\item[114] 0.594527426656413\n",
       "\\item[115] 6.09170816293657e-05\n",
       "\\item[116] 0.549857023685018\n",
       "\\item[117] 0.818585691273912\n",
       "\\item[118] 0.443220195441652\n",
       "\\item[119] 0.0767659055561253\n",
       "\\item[120] 0.898285369697346\n",
       "\\item[121] 0.803057036078729\n",
       "\\item[122] 0.208183161943013\n",
       "\\item[123] 0.899089070271962\n",
       "\\item[124] 0.421277427709088\n",
       "\\item[125] 0.345262201835695\n",
       "\\item[126] 0.79046185657176\n",
       "\\item[127] 0.310064111612582\n",
       "\\item[128] 0.954146425612132\n",
       "\\item[129] 0.795058432675904\n",
       "\\item[130] 0.216676500913093\n",
       "\\item[131] 0.806962197055216\n",
       "\\item[132] 0.969509968557146\n",
       "\\item[133] 0.112815955006157\n",
       "\\item[134] 0.0557099575559366\n",
       "\\item[135] 0.00598353136424735\n",
       "\\item[136] 0.779581324095222\n",
       "\\item[137] 0.000618186690888618\n",
       "\\item[138] 0.269268875207666\n",
       "\\item[139] 0.29223802978286\n",
       "\\item[140] 0.314376733657837\n",
       "\\item[141] 0.0613516888201855\n",
       "\\item[142] 3.73615394920169e-06\n",
       "\\item[143] 2.37525367194706e-07\n",
       "\\item[144] 0.709171419158247\n",
       "\\item[145] 0.333462837473712\n",
       "\\item[146] 0.0209868141674181\n",
       "\\item[147] 0.97740337737167\n",
       "\\item[148] 0.519652973827471\n",
       "\\item[149] 0.0257959281248434\n",
       "\\item[150] 0.397425388843932\n",
       "\\item[151] 0.0324087666472296\n",
       "\\item[152] 4.75619454802284e-06\n",
       "\\item[153] 0.438307793918838\n",
       "\\item[154] 0.62923069674811\n",
       "\\item[155] 0.187331410041401\n",
       "\\item[156] 2.25302274329933e-11\n",
       "\\item[157] 0.131478048185463\n",
       "\\item[158] 0.216058249894238\n",
       "\\item[159] 0.816098873154904\n",
       "\\item[160] 0.593313589807176\n",
       "\\item[161] 0.0727945184981341\n",
       "\\item[162] 0.337383045402154\n",
       "\\item[163] 0.164888797490473\n",
       "\\item[164] 0.201172513102022\n",
       "\\item[165] 0.40184607510913\n",
       "\\item[166] 0.972697232840637\n",
       "\\item[167] 0.195950831676607\n",
       "\\item[168] 0.0532071751727672\n",
       "\\item[169] 0.0355819493060858\n",
       "\\item[170] 0.0185003472648448\n",
       "\\item[171] 0.132088897972415\n",
       "\\item[172] 0.996858616891398\n",
       "\\item[173] 0.0427725851319733\n",
       "\\item[174] 0.00592019420952536\n",
       "\\item[175] 0.359644379900251\n",
       "\\item[176] 0.53509245035457\n",
       "\\item[177] 3.74861354573419e-06\n",
       "\\item[178] 0.059248372306142\n",
       "\\item[179] 0.269428838155363\n",
       "\\item[180] 0.956031892289569\n",
       "\\item[181] 0.447121559618546\n",
       "\\item[182] 0.604191886753032\n",
       "\\item[183] 0.0585851672133107\n",
       "\\item[184] 0.000382564918320162\n",
       "\\item[185] 0.00021593038754812\n",
       "\\item[186] 1.87083610570971e-05\n",
       "\\item[187] 0.445913862582239\n",
       "\\item[188] 0.516180858418103\n",
       "\\item[189] 0.461267132781816\n",
       "\\item[190] 0.000104733783807196\n",
       "\\item[191] 0.173678972145542\n",
       "\\item[192] 0.0917853384627677\n",
       "\\item[193] 0.011654597207796\n",
       "\\item[194] 8.56059760506678e-06\n",
       "\\item[195] 0.815978384545129\n",
       "\\item[196] 0.239061978288074\n",
       "\\item[197] 0.0883220545430694\n",
       "\\item[198] 0.199151612892874\n",
       "\\item[199] 0.245345685016815\n",
       "\\item[200] 0.303153018569237\n",
       "\\item[201] 0.156967022558648\n",
       "\\item[202] 0.155603198215887\n",
       "\\item[203] 0.616637871324293\n",
       "\\item[204] 0.0534550184456131\n",
       "\\item[205] 0.1911659151893\n",
       "\\item[206] 0.0541238305261355\n",
       "\\item[207] 0.353481248153416\n",
       "\\item[208] 0.00114110146952398\n",
       "\\item[209] 0.00150326462357201\n",
       "\\item[210] 0.000144427895268968\n",
       "\\item[211] 0.0860965312996891\n",
       "\\item[212] 0.198512641630503\n",
       "\\item[213] 0.00274368128895496\n",
       "\\item[214] 0.268365980599077\n",
       "\\item[215] 0.0125244510615262\n",
       "\\item[216] 0.36148075701898\n",
       "\\item[217] 0.74253180178754\n",
       "\\item[218] 2.86490318516774e-13\n",
       "\\item[219] 0.0034609339558516\n",
       "\\item[220] 0.29216605821221\n",
       "\\item[221] 0.0739869399200554\n",
       "\\item[222] 0.0819091495090826\n",
       "\\item[223] 0.0204663939633703\n",
       "\\item[224] 0.919721921754613\n",
       "\\item[225] 0.928407721005324\n",
       "\\item[226] 0.0579882837016766\n",
       "\\item[227] 0.62848077113749\n",
       "\\item[228] 6.10338808407092e-05\n",
       "\\item[229] 0.102472958552834\n",
       "\\item[230] 0.170866087145832\n",
       "\\item[231] 0.323513906247764\n",
       "\\item[232] 0.910274905273024\n",
       "\\item[233] 0.362966306362693\n",
       "\\item[234] 0.422898590134661\n",
       "\\item[235] 0.93077919253298\n",
       "\\item[236] 0.56339647757841\n",
       "\\item[237] 0.0175734368141791\n",
       "\\item[238] 0.166918748130187\n",
       "\\item[239] 0.656938330858745\n",
       "\\item[240] 0.0481525091425577\n",
       "\\item[241] 0.547309372547386\n",
       "\\item[242] 0.0507525521514779\n",
       "\\item[243] 0.398999785513455\n",
       "\\item[244] 0.227935256896442\n",
       "\\item[245] 0.00925495637069307\n",
       "\\item[246] 0.38422883577207\n",
       "\\item[247] 0.0298686715263721\n",
       "\\item[248] 0.69967447056035\n",
       "\\item[249] 0.857505228925626\n",
       "\\item[250] 0.342211387479214\n",
       "\\item[251] 0.600476765299871\n",
       "\\item[252] 0.578123334390109\n",
       "\\item[253] 0.0887702046295905\n",
       "\\item[254] 0.275196228718462\n",
       "\\item[255] 0.308923211762903\n",
       "\\item[256] 0.0703420514612705\n",
       "\\item[257] 3.73024787100821e-05\n",
       "\\item[258] 0.0407887291217977\n",
       "\\item[259] 0.191582551123123\n",
       "\\item[260] 0.278873138702522\n",
       "\\item[261] 0.101415415953326\n",
       "\\item[262] 0.275569495674731\n",
       "\\item[263] 0.640928073226716\n",
       "\\item[264] 0.110716879956501\n",
       "\\item[265] 0.0143011212907536\n",
       "\\item[266] 2.08801942633421e-06\n",
       "\\item[267] 0.0114555920112648\n",
       "\\item[268] 0.987651222829015\n",
       "\\item[269] 0.349796391794961\n",
       "\\item[270] 0.226918084907593\n",
       "\\item[271] 0.464804259497148\n",
       "\\item[272] 0.130042386759674\n",
       "\\item[273] 0.377832214839764\n",
       "\\item[274] 0.0824027009426267\n",
       "\\item[275] 0.393282746427042\n",
       "\\item[276] 0.251960742640302\n",
       "\\item[277] 0.120876132564113\n",
       "\\item[278] 0.782625038588079\n",
       "\\item[279] 0.694194876378748\n",
       "\\item[280] 0.0449684205206449\n",
       "\\item[281] 1.79204034417621e-06\n",
       "\\end{description*}\n"
      ],
      "text/markdown": [
       "1\n",
       ":   0.6260914385814762\n",
       ":   0.7361907422211023\n",
       ":   0.9992516778222234\n",
       ":   2.15903329556178e-055\n",
       ":   0.390050288906936\n",
       ":   0.02334117244085917\n",
       ":   0.6556788592119938\n",
       ":   0.2069911986293899\n",
       ":   0.98600200757630710\n",
       ":   0.99442173043221511\n",
       ":   0.9350300075757512\n",
       ":   0.31206120890367413\n",
       ":   0.1725582982132614\n",
       ":   0.99999999285157515\n",
       ":   0.55833496574699116\n",
       ":   0.052838248407932417\n",
       ":   0.22253720957910418\n",
       ":   0.17483240844347719\n",
       ":   0.86995525269914320\n",
       ":   0.60108289621137121\n",
       ":   0.42576925982272522\n",
       ":   0.19075319291726523\n",
       ":   0.54155167572425824\n",
       ":   0.11544728925945625\n",
       ":   0.28040585589237826\n",
       ":   0.13679391070576327\n",
       ":   0.023488756884032428\n",
       ":   0.98088478443397229\n",
       ":   0.70125631003771130\n",
       ":   0.99450834855837231\n",
       ":   0.40996153996845932\n",
       ":   0.022209922723612133\n",
       ":   0.26299168673525434\n",
       ":   0.99500484556982535\n",
       ":   0.51776423781193136\n",
       ":   0.070937392073179637\n",
       ":   0.057621081745268738\n",
       ":   0.0020719174682104439\n",
       ":   0.36477592081957540\n",
       ":   0.28560514090956641\n",
       ":   0.1093904390718642\n",
       ":   0.99833528189516843\n",
       ":   0.78350637677194844\n",
       ":   0.32225274447752445\n",
       ":   146\n",
       ":   0.051681540631925947\n",
       ":   0.38915375335991548\n",
       ":   0.00081163637914699549\n",
       ":   0.69890968915098950\n",
       ":   0.63986241261230351\n",
       ":   0.55414560240434452\n",
       ":   0.41380309607206153\n",
       ":   0.56390502487617554\n",
       ":   0.3871273868144755\n",
       ":   0.025550991449691356\n",
       ":   0.99877444726727657\n",
       ":   0.20772419458690358\n",
       ":   0.95451281948984259\n",
       ":   5.075674669842e-1060\n",
       ":   0.22228511462030661\n",
       ":   0.98642586006206562\n",
       ":   0.36422313320625163\n",
       ":   0.14354875796601564\n",
       ":   0.21293800646619165\n",
       ":   0.062353634656369966\n",
       ":   0.56897077015481767\n",
       ":   0.58087927345798168\n",
       ":   0.91457705020200469\n",
       ":   0.99987473213966970\n",
       ":   0.85689119840441471\n",
       ":   0.0053202340695829772\n",
       ":   0.086070381668249673\n",
       ":   0.92972292513569874\n",
       ":   0.99999993184057175\n",
       ":   0.31753344209701476\n",
       ":   0.15661942388590177\n",
       ":   0.080845917658630478\n",
       ":   0.53302051154173679\n",
       ":   0.20729022545416180\n",
       ":   0.9051896457331281\n",
       ":   0.36859687685619182\n",
       ":   0.0039023582463716983\n",
       ":   0.90661466994385284\n",
       ":   0.58683429519250785\n",
       ":   0.94281443460181686\n",
       ":   0.63554760715339687\n",
       ":   0.99031603283750888\n",
       ":   0.5663817557338389\n",
       ":   0.29432760153248790\n",
       ":   0.99845769155515591\n",
       ":   0.71664968166934392\n",
       ":   0.013048939852264793\n",
       ":   0.24545607324963894\n",
       ":   0.75197355402254695\n",
       ":   0.32475060905953496\n",
       ":   0.25482503598966297\n",
       ":   1.09989325004096e-0598\n",
       ":   0.0027523946105711399\n",
       ":   0.131237659241743100\n",
       ":   0.997293856276866101\n",
       ":   0.346673104180811102\n",
       ":   0.32251938598146103\n",
       ":   0.999998231584715104\n",
       ":   0.000663472281750017105\n",
       ":   0.979628624517484106\n",
       ":   0.280626752438717107\n",
       ":   0.999996294737895108\n",
       ":   0.117504211404998109\n",
       ":   0.11024713344994110\n",
       ":   0.00883380815392191111\n",
       ":   0.965376985257178112\n",
       ":   0.975278423664003113\n",
       ":   0.712915293058461114\n",
       ":   0.594527426656413115\n",
       ":   6.09170816293657e-05116\n",
       ":   0.549857023685018117\n",
       ":   0.818585691273912118\n",
       ":   0.443220195441652119\n",
       ":   0.0767659055561253120\n",
       ":   0.898285369697346121\n",
       ":   0.803057036078729122\n",
       ":   0.208183161943013123\n",
       ":   0.899089070271962124\n",
       ":   0.421277427709088125\n",
       ":   0.345262201835695126\n",
       ":   0.79046185657176127\n",
       ":   0.310064111612582128\n",
       ":   0.954146425612132129\n",
       ":   0.795058432675904130\n",
       ":   0.216676500913093131\n",
       ":   0.806962197055216132\n",
       ":   0.969509968557146133\n",
       ":   0.112815955006157134\n",
       ":   0.0557099575559366135\n",
       ":   0.00598353136424735136\n",
       ":   0.779581324095222137\n",
       ":   0.000618186690888618138\n",
       ":   0.269268875207666139\n",
       ":   0.29223802978286140\n",
       ":   0.314376733657837141\n",
       ":   0.0613516888201855142\n",
       ":   3.73615394920169e-06143\n",
       ":   2.37525367194706e-07144\n",
       ":   0.709171419158247145\n",
       ":   0.333462837473712146\n",
       ":   0.0209868141674181147\n",
       ":   0.97740337737167148\n",
       ":   0.519652973827471149\n",
       ":   0.0257959281248434150\n",
       ":   0.397425388843932151\n",
       ":   0.0324087666472296152\n",
       ":   4.75619454802284e-06153\n",
       ":   0.438307793918838154\n",
       ":   0.62923069674811155\n",
       ":   0.187331410041401156\n",
       ":   2.25302274329933e-11157\n",
       ":   0.131478048185463158\n",
       ":   0.216058249894238159\n",
       ":   0.816098873154904160\n",
       ":   0.593313589807176161\n",
       ":   0.0727945184981341162\n",
       ":   0.337383045402154163\n",
       ":   0.164888797490473164\n",
       ":   0.201172513102022165\n",
       ":   0.40184607510913166\n",
       ":   0.972697232840637167\n",
       ":   0.195950831676607168\n",
       ":   0.0532071751727672169\n",
       ":   0.0355819493060858170\n",
       ":   0.0185003472648448171\n",
       ":   0.132088897972415172\n",
       ":   0.996858616891398173\n",
       ":   0.0427725851319733174\n",
       ":   0.00592019420952536175\n",
       ":   0.359644379900251176\n",
       ":   0.53509245035457177\n",
       ":   3.74861354573419e-06178\n",
       ":   0.059248372306142179\n",
       ":   0.269428838155363180\n",
       ":   0.956031892289569181\n",
       ":   0.447121559618546182\n",
       ":   0.604191886753032183\n",
       ":   0.0585851672133107184\n",
       ":   0.000382564918320162185\n",
       ":   0.00021593038754812186\n",
       ":   1.87083610570971e-05187\n",
       ":   0.445913862582239188\n",
       ":   0.516180858418103189\n",
       ":   0.461267132781816190\n",
       ":   0.000104733783807196191\n",
       ":   0.173678972145542192\n",
       ":   0.0917853384627677193\n",
       ":   0.011654597207796194\n",
       ":   8.56059760506678e-06195\n",
       ":   0.815978384545129196\n",
       ":   0.239061978288074197\n",
       ":   0.0883220545430694198\n",
       ":   0.199151612892874199\n",
       ":   0.245345685016815200\n",
       ":   0.303153018569237201\n",
       ":   0.156967022558648202\n",
       ":   0.155603198215887203\n",
       ":   0.616637871324293204\n",
       ":   0.0534550184456131205\n",
       ":   0.1911659151893206\n",
       ":   0.0541238305261355207\n",
       ":   0.353481248153416208\n",
       ":   0.00114110146952398209\n",
       ":   0.00150326462357201210\n",
       ":   0.000144427895268968211\n",
       ":   0.0860965312996891212\n",
       ":   0.198512641630503213\n",
       ":   0.00274368128895496214\n",
       ":   0.268365980599077215\n",
       ":   0.0125244510615262216\n",
       ":   0.36148075701898217\n",
       ":   0.74253180178754218\n",
       ":   2.86490318516774e-13219\n",
       ":   0.0034609339558516220\n",
       ":   0.29216605821221221\n",
       ":   0.0739869399200554222\n",
       ":   0.0819091495090826223\n",
       ":   0.0204663939633703224\n",
       ":   0.919721921754613225\n",
       ":   0.928407721005324226\n",
       ":   0.0579882837016766227\n",
       ":   0.62848077113749228\n",
       ":   6.10338808407092e-05229\n",
       ":   0.102472958552834230\n",
       ":   0.170866087145832231\n",
       ":   0.323513906247764232\n",
       ":   0.910274905273024233\n",
       ":   0.362966306362693234\n",
       ":   0.422898590134661235\n",
       ":   0.93077919253298236\n",
       ":   0.56339647757841237\n",
       ":   0.0175734368141791238\n",
       ":   0.166918748130187239\n",
       ":   0.656938330858745240\n",
       ":   0.0481525091425577241\n",
       ":   0.547309372547386242\n",
       ":   0.0507525521514779243\n",
       ":   0.398999785513455244\n",
       ":   0.227935256896442245\n",
       ":   0.00925495637069307246\n",
       ":   0.38422883577207247\n",
       ":   0.0298686715263721248\n",
       ":   0.69967447056035249\n",
       ":   0.857505228925626250\n",
       ":   0.342211387479214251\n",
       ":   0.600476765299871252\n",
       ":   0.578123334390109253\n",
       ":   0.0887702046295905254\n",
       ":   0.275196228718462255\n",
       ":   0.308923211762903256\n",
       ":   0.0703420514612705257\n",
       ":   3.73024787100821e-05258\n",
       ":   0.0407887291217977259\n",
       ":   0.191582551123123260\n",
       ":   0.278873138702522261\n",
       ":   0.101415415953326262\n",
       ":   0.275569495674731263\n",
       ":   0.640928073226716264\n",
       ":   0.110716879956501265\n",
       ":   0.0143011212907536266\n",
       ":   2.08801942633421e-06267\n",
       ":   0.0114555920112648268\n",
       ":   0.987651222829015269\n",
       ":   0.349796391794961270\n",
       ":   0.226918084907593271\n",
       ":   0.464804259497148272\n",
       ":   0.130042386759674273\n",
       ":   0.377832214839764274\n",
       ":   0.0824027009426267275\n",
       ":   0.393282746427042276\n",
       ":   0.251960742640302277\n",
       ":   0.120876132564113278\n",
       ":   0.782625038588079279\n",
       ":   0.694194876378748280\n",
       ":   0.0449684205206449281\n",
       ":   1.79204034417621e-06\n",
       "\n"
      ],
      "text/plain": [
       "           1            2            3            4            5            6 \n",
       "6.260914e-01 7.361907e-01 9.992517e-01 2.159033e-05 3.900503e-01 2.334117e-02 \n",
       "           7            8            9           10           11           12 \n",
       "6.556789e-01 2.069912e-01 9.860020e-01 9.944217e-01 9.350300e-01 3.120612e-01 \n",
       "          13           14           15           16           17           18 \n",
       "1.725583e-01 1.000000e+00 5.583350e-01 5.283825e-02 2.225372e-01 1.748324e-01 \n",
       "          19           20           21           22           23           24 \n",
       "8.699553e-01 6.010829e-01 4.257693e-01 1.907532e-01 5.415517e-01 1.154473e-01 \n",
       "          25           26           27           28           29           30 \n",
       "2.804059e-01 1.367939e-01 2.348876e-02 9.808848e-01 7.012563e-01 9.945083e-01 \n",
       "          31           32           33           34           35           36 \n",
       "4.099615e-01 2.220992e-02 2.629917e-01 9.950048e-01 5.177642e-01 7.093739e-02 \n",
       "          37           38           39           40           41           42 \n",
       "5.762108e-02 2.071917e-03 3.647759e-01 2.856051e-01 1.093904e-01 9.983353e-01 \n",
       "          43           44           45           46           47           48 \n",
       "7.835064e-01 3.222527e-01 1.000000e+00 5.168154e-02 3.891538e-01 8.116364e-04 \n",
       "          49           50           51           52           53           54 \n",
       "6.989097e-01 6.398624e-01 5.541456e-01 4.138031e-01 5.639050e-01 3.871274e-01 \n",
       "          55           56           57           58           59           60 \n",
       "2.555099e-02 9.987744e-01 2.077242e-01 9.545128e-01 5.075675e-10 2.222851e-01 \n",
       "          61           62           63           64           65           66 \n",
       "9.864259e-01 3.642231e-01 1.435488e-01 2.129380e-01 6.235363e-02 5.689708e-01 \n",
       "          67           68           69           70           71           72 \n",
       "5.808793e-01 9.145771e-01 9.998747e-01 8.568912e-01 5.320234e-03 8.607038e-02 \n",
       "          73           74           75           76           77           78 \n",
       "9.297229e-01 9.999999e-01 3.175334e-01 1.566194e-01 8.084592e-02 5.330205e-01 \n",
       "          79           80           81           82           83           84 \n",
       "2.072902e-01 9.051896e-01 3.685969e-01 3.902358e-03 9.066147e-01 5.868343e-01 \n",
       "          85           86           87           88           89           90 \n",
       "9.428144e-01 6.355476e-01 9.903160e-01 5.663818e-01 2.943276e-01 9.984577e-01 \n",
       "          91           92           93           94           95           96 \n",
       "7.166497e-01 1.304894e-02 2.454561e-01 7.519736e-01 3.247506e-01 2.548250e-01 \n",
       "          97           98           99          100          101          102 \n",
       "1.099893e-05 2.752395e-03 1.312377e-01 9.972939e-01 3.466731e-01 3.225194e-01 \n",
       "         103          104          105          106          107          108 \n",
       "9.999982e-01 6.634723e-04 9.796286e-01 2.806268e-01 9.999963e-01 1.175042e-01 \n",
       "         109          110          111          112          113          114 \n",
       "1.102471e-01 8.833808e-03 9.653770e-01 9.752784e-01 7.129153e-01 5.945274e-01 \n",
       "         115          116          117          118          119          120 \n",
       "6.091708e-05 5.498570e-01 8.185857e-01 4.432202e-01 7.676591e-02 8.982854e-01 \n",
       "         121          122          123          124          125          126 \n",
       "8.030570e-01 2.081832e-01 8.990891e-01 4.212774e-01 3.452622e-01 7.904619e-01 \n",
       "         127          128          129          130          131          132 \n",
       "3.100641e-01 9.541464e-01 7.950584e-01 2.166765e-01 8.069622e-01 9.695100e-01 \n",
       "         133          134          135          136          137          138 \n",
       "1.128160e-01 5.570996e-02 5.983531e-03 7.795813e-01 6.181867e-04 2.692689e-01 \n",
       "         139          140          141          142          143          144 \n",
       "2.922380e-01 3.143767e-01 6.135169e-02 3.736154e-06 2.375254e-07 7.091714e-01 \n",
       "         145          146          147          148          149          150 \n",
       "3.334628e-01 2.098681e-02 9.774034e-01 5.196530e-01 2.579593e-02 3.974254e-01 \n",
       "         151          152          153          154          155          156 \n",
       "3.240877e-02 4.756195e-06 4.383078e-01 6.292307e-01 1.873314e-01 2.253023e-11 \n",
       "         157          158          159          160          161          162 \n",
       "1.314780e-01 2.160582e-01 8.160989e-01 5.933136e-01 7.279452e-02 3.373830e-01 \n",
       "         163          164          165          166          167          168 \n",
       "1.648888e-01 2.011725e-01 4.018461e-01 9.726972e-01 1.959508e-01 5.320718e-02 \n",
       "         169          170          171          172          173          174 \n",
       "3.558195e-02 1.850035e-02 1.320889e-01 9.968586e-01 4.277259e-02 5.920194e-03 \n",
       "         175          176          177          178          179          180 \n",
       "3.596444e-01 5.350925e-01 3.748614e-06 5.924837e-02 2.694288e-01 9.560319e-01 \n",
       "         181          182          183          184          185          186 \n",
       "4.471216e-01 6.041919e-01 5.858517e-02 3.825649e-04 2.159304e-04 1.870836e-05 \n",
       "         187          188          189          190          191          192 \n",
       "4.459139e-01 5.161809e-01 4.612671e-01 1.047338e-04 1.736790e-01 9.178534e-02 \n",
       "         193          194          195          196          197          198 \n",
       "1.165460e-02 8.560598e-06 8.159784e-01 2.390620e-01 8.832205e-02 1.991516e-01 \n",
       "         199          200          201          202          203          204 \n",
       "2.453457e-01 3.031530e-01 1.569670e-01 1.556032e-01 6.166379e-01 5.345502e-02 \n",
       "         205          206          207          208          209          210 \n",
       "1.911659e-01 5.412383e-02 3.534812e-01 1.141101e-03 1.503265e-03 1.444279e-04 \n",
       "         211          212          213          214          215          216 \n",
       "8.609653e-02 1.985126e-01 2.743681e-03 2.683660e-01 1.252445e-02 3.614808e-01 \n",
       "         217          218          219          220          221          222 \n",
       "7.425318e-01 2.864903e-13 3.460934e-03 2.921661e-01 7.398694e-02 8.190915e-02 \n",
       "         223          224          225          226          227          228 \n",
       "2.046639e-02 9.197219e-01 9.284077e-01 5.798828e-02 6.284808e-01 6.103388e-05 \n",
       "         229          230          231          232          233          234 \n",
       "1.024730e-01 1.708661e-01 3.235139e-01 9.102749e-01 3.629663e-01 4.228986e-01 \n",
       "         235          236          237          238          239          240 \n",
       "9.307792e-01 5.633965e-01 1.757344e-02 1.669187e-01 6.569383e-01 4.815251e-02 \n",
       "         241          242          243          244          245          246 \n",
       "5.473094e-01 5.075255e-02 3.989998e-01 2.279353e-01 9.254956e-03 3.842288e-01 \n",
       "         247          248          249          250          251          252 \n",
       "2.986867e-02 6.996745e-01 8.575052e-01 3.422114e-01 6.004768e-01 5.781233e-01 \n",
       "         253          254          255          256          257          258 \n",
       "8.877020e-02 2.751962e-01 3.089232e-01 7.034205e-02 3.730248e-05 4.078873e-02 \n",
       "         259          260          261          262          263          264 \n",
       "1.915826e-01 2.788731e-01 1.014154e-01 2.755695e-01 6.409281e-01 1.107169e-01 \n",
       "         265          266          267          268          269          270 \n",
       "1.430112e-02 2.088019e-06 1.145559e-02 9.876512e-01 3.497964e-01 2.269181e-01 \n",
       "         271          272          273          274          275          276 \n",
       "4.648043e-01 1.300424e-01 3.778322e-01 8.240270e-02 3.932827e-01 2.519607e-01 \n",
       "         277          278          279          280          281 \n",
       "1.208761e-01 7.826250e-01 6.941949e-01 4.496842e-02 1.792040e-06 "
      ]
     },
     "metadata": {},
     "output_type": "display_data"
    }
   ],
   "source": [
    "fit_lm$fitted.values"
   ]
  },
  {
   "cell_type": "code",
   "execution_count": 75,
   "metadata": {
    "scrolled": true
   },
   "outputs": [
    {
     "data": {
      "text/html": [
       "<dl class=dl-horizontal>\n",
       "\t<dt>1</dt>\n",
       "\t\t<dd>0.373908561418524</dd>\n",
       "\t<dt>2</dt>\n",
       "\t\t<dd>0.263809257778898</dd>\n",
       "\t<dt>3</dt>\n",
       "\t\t<dd>0.000748322177776539</dd>\n",
       "\t<dt>4</dt>\n",
       "\t\t<dd>0.999978409667044</dd>\n",
       "\t<dt>5</dt>\n",
       "\t\t<dd>0.60994971109307</dd>\n",
       "\t<dt>6</dt>\n",
       "\t\t<dd>0.976658827559141</dd>\n",
       "</dl>\n"
      ],
      "text/latex": [
       "\\begin{description*}\n",
       "\\item[1] 0.373908561418524\n",
       "\\item[2] 0.263809257778898\n",
       "\\item[3] 0.000748322177776539\n",
       "\\item[4] 0.999978409667044\n",
       "\\item[5] 0.60994971109307\n",
       "\\item[6] 0.976658827559141\n",
       "\\end{description*}\n"
      ],
      "text/markdown": [
       "1\n",
       ":   0.3739085614185242\n",
       ":   0.2638092577788983\n",
       ":   0.0007483221777765394\n",
       ":   0.9999784096670445\n",
       ":   0.609949711093076\n",
       ":   0.976658827559141\n",
       "\n"
      ],
      "text/plain": [
       "           1            2            3            4            5            6 \n",
       "0.3739085614 0.2638092578 0.0007483222 0.9999784097 0.6099497111 0.9766588276 "
      ]
     },
     "metadata": {},
     "output_type": "display_data"
    }
   ],
   "source": [
    "library(ROCR)\n",
    "# pred = 1-predict(fit_lm,type=\"response\")\n",
    "pred <- 1-fit_lm$fitted.values #prop of  cases\n",
    "head(pred)"
   ]
  },
  {
   "cell_type": "code",
   "execution_count": 76,
   "metadata": {
    "scrolled": false
   },
   "outputs": [
    {
     "data": {
      "image/png": "[encoded data removed]",
      "text/plain": [
       "Plot with title \"0.897520215633424\""
      ]
     },
     "metadata": {},
     "output_type": "display_data"
    }
   ],
   "source": [
    "pred_obj <- prediction(pred,df$any_damage)\n",
    "roc_obj <- performance(pred_obj,measure = \"tpr\",x.measure = \"fpr\")\n",
    "auc_obj <- performance(pred_obj,measure = \"auc\")\n",
    "plot(roc_obj,main=paste(auc_obj@y.values[[1]]))"
   ]
  },
  {
   "cell_type": "markdown",
   "metadata": {},
   "source": [
    "> <font color=#3b5998>**Aurelien Geron (2017)**</font> You don't want to touch the test set until you are ready to lunch a model you are confident about. \n",
    "\n",
    "As we can see, the logit regression model is overfitting badly (from the densityplot of resample results), so I would do set aside the testset, even there aren't much of samples left.\n"
   ]
  },
  {
   "cell_type": "code",
   "execution_count": 96,
   "metadata": {},
   "outputs": [
    {
     "data": {
      "text/html": [
       "<ol class=list-inline>\n",
       "\t<li>225</li>\n",
       "\t<li>102</li>\n",
       "</ol>\n"
      ],
      "text/latex": [
       "\\begin{enumerate*}\n",
       "\\item 225\n",
       "\\item 102\n",
       "\\end{enumerate*}\n"
      ],
      "text/markdown": [
       "1. 225\n",
       "2. 102\n",
       "\n",
       "\n"
      ],
      "text/plain": [
       "[1] 225 102"
      ]
     },
     "metadata": {},
     "output_type": "display_data"
    }
   ],
   "source": [
    "dim(bio_flt_nzv[trn_id,])"
   ]
  },
  {
   "cell_type": "code",
   "execution_count": 54,
   "metadata": {},
   "outputs": [],
   "source": [
    "build_AUC_linear_models = function(X, y, trn_id = trn_id, seed_value=456){\n",
    "\n",
    "    # Set up the train control arguments so that we can compute the area-under-the-curve:\n",
    "    #\n",
    "    ctrl = trainControl( \n",
    "        summaryFunction=twoClassSummary, \n",
    "        classProbs=T,\n",
    "        savePredictions = T,\n",
    "        method=\"repeatedcv\",number=10,repeats=10)\n",
    "\n",
    "    # Logistic Regression Model:\n",
    "    #\n",
    "    set.seed(seed_value)\n",
    "    glm.classifier = train( X[trn_id,], y[trn_id], method=\"glm\", metric=\"ROC\", trControl=ctrl )\n",
    "    glm.predictions = predict( glm.classifier, X[-trn_id,], type=\"prob\" )\n",
    "    glm.rocCurve = pROC::roc( response=y[-trn_id], predictor=glm.predictions[,1],levels=rev(levels(any_damage)) )\n",
    "    glm.auc = glm.rocCurve$auc[1]\n",
    "    glm=list( classifier=glm.classifier, predictions=glm.predictions, roc=glm.rocCurve, auc=glm.auc )\n",
    "\n",
    "    # Linear Discriminant Analysis:\n",
    "    #\n",
    "    set.seed(seed_value)\n",
    "    lda.classifier = train( X[trn_id,], y[trn_id], method=\"lda\", preProc=c(\"center\",\"scale\"), metric=\"ROC\", trControl=ctrl )\n",
    "    lda.predictions = predict( lda.classifier, X[-trn_id,], type=\"prob\" )\n",
    "    lda.rocCurve = pROC::roc( response=y[-trn_id], predictor=lda.predictions[,1],levels=rev(levels(any_damage)) )\n",
    "    lda.auc = lda.rocCurve$auc[1]\n",
    "    lda=list( classifier=lda.classifier, predictions=lda.predictions, roc=lda.rocCurve, auc=lda.auc )\n",
    "\n",
    "    # Partial Least Squares Discriminant Analysis:\n",
    "    #\n",
    "    set.seed(seed_value)\n",
    "    plsda.classifier = train( X[trn_id,], y[trn_id], method=\"pls\", tuneGrid=expand.grid(.ncomp=1:10), preProc=c(\"center\",\"scale\"), metric=\"ROC\", trControl=ctrl )\n",
    "    plsda.predictions = predict( plsda.classifier, X[-trn_id,], type=\"prob\" )\n",
    "    plsda.rocCurve = pROC::roc( response=y[-trn_id], predictor=plsda.predictions[,1],levels=rev(levels(any_damage)) )\n",
    "    plsda.auc = plsda.rocCurve$auc[1]\n",
    "    plsda=list( classifier=plsda.classifier, predictions=plsda.predictions, roc=plsda.rocCurve, auc=plsda.auc )\n",
    "\n",
    "    # Penalized Methods:\n",
    "    #\n",
    "    glmnGrid = expand.grid(.alpha=c(0, 0.1, 0.2, 0.4, 0.6, 0.8, 1.0), .lambda=seq( 0.01, 0.2, length=40))\n",
    "    set.seed(seed_value)\n",
    "    glmnet.classifier = train( X[trn_id,], y[trn_id], method=\"glmnet\", tuneGrid=glmnGrid, preProc=c(\"center\",\"scale\"), metric=\"ROC\", trControl=ctrl )\n",
    "    glmnet.predictions = predict( glmnet.classifier, X[-trn_id,], type=\"prob\" )\n",
    "    glmnet.rocCurve = pROC::roc( response=y[-trn_id], predictor=glmnet.predictions[,1],levels=rev(levels(any_damage)) )\n",
    "    glmnet.auc = glmnet.rocCurve$auc[1]\n",
    "    glmnet=list( classifier=glmnet.classifier, predictions=glmnet.predictions, roc=glmnet.rocCurve, auc=glmnet.auc )\n",
    "\n",
    "    # Nearest shrunken Centroids:\n",
    "    #\n",
    "    nscGrid = expand.grid(.threshold=0:25)\n",
    "    set.seed(seed_value)\n",
    "    nsc.classifier = train( X[trn_id,], y[trn_id], method=\"pam\", tuneGrid=nscGrid, preProc=c(\"center\",\"scale\"), metric=\"ROC\", trControl=ctrl )\n",
    "    nsc.predictions = predict( nsc.classifier, X[-trn_id,], type=\"prob\" )\n",
    "    nsc.rocCurve = pROC::roc( response=y[-trn_id], predictor=nsc.predictions[,1],levels=rev(levels(any_damage)) )\n",
    "    nsc.auc = nsc.rocCurve$auc[1]\n",
    "    nsc=list( classifier=nsc.classifier, predictions=nsc.predictions, roc=nsc.rocCurve, auc=nsc.auc )\n",
    "    \n",
    "    # Ourput:\n",
    "    resamps <- resamples(list(GLM = glm.classifier,\n",
    "                              LDA = lda.classifier,\n",
    "                              PLSDA = plsda.classifier,\n",
    "                              GLMNET = glmnet.classifier,\n",
    "                              NSC = nsc.classifier))\n",
    "    result = list(  resamps=resamps, glm=glm, lda=lda, plsda=plsda, glmnet=glmnet, nsc=nsc )\n",
    "\n",
    "    return(result)\n",
    "\n",
    "}"
   ]
  },
  {
   "cell_type": "code",
   "execution_count": 79,
   "metadata": {
    "scrolled": true
   },
   "outputs": [
    {
     "name": "stdout",
     "output_type": "stream",
     "text": [
      "11111111111111111111111111111111111111111111111111111111111111111111111111111111111111111111111111111"
     ]
    }
   ],
   "source": [
    "bio_linear_models <-  build_AUC_linear_models(bio_flt_nzv,any_damage,trn_id)\n",
    "# summary(bio_linear_models)"
   ]
  },
  {
   "cell_type": "code",
   "execution_count": 88,
   "metadata": {
    "scrolled": false
   },
   "outputs": [
    {
     "data": {
      "text/plain": [
       "\n",
       "Call:\n",
       "summary.diff.resamples(object = difValues)\n",
       "\n",
       "p-value adjustment: bonferroni \n",
       "Upper diagonal: estimates of the difference\n",
       "Lower diagonal: p-value for H0: difference = 0\n",
       "\n",
       "ROC \n",
       "       GLM LDA        PLSDA      GLMNET     NSC       \n",
       "GLM        -1.407e-02 -7.976e-03 -7.465e-03 -7.976e-03\n",
       "LDA    1               6.091e-03  6.602e-03  6.091e-03\n",
       "PLSDA  1   1                      5.109e-04  5.554e-19\n",
       "GLMNET 1   1          1                     -5.109e-04\n",
       "NSC    1   1          1          1                    \n",
       "\n",
       "Sens \n",
       "       GLM       LDA       PLSDA     GLMNET   NSC     \n",
       "GLM              -0.06357  -0.28643  -0.25429 -0.24000\n",
       "LDA    1.066e-05           -0.22286  -0.19071 -0.17643\n",
       "PLSDA  < 2.2e-16 < 2.2e-16            0.03214  0.04643\n",
       "GLMNET < 2.2e-16 < 2.2e-16 0.05677             0.01429\n",
       "NSC    < 2.2e-16 < 2.2e-16 5.504e-12 1.00000          \n",
       "\n",
       "Spec \n",
       "       GLM       LDA       PLSDA     GLMNET   NSC     \n",
       "GLM               0.04958   0.24847   0.20139  0.19042\n",
       "LDA    0.009287             0.19889   0.15181  0.14083\n",
       "PLSDA  < 2.2e-16 6.575e-16           -0.04708 -0.05806\n",
       "GLMNET 3.293e-15 1.329e-11 0.007010           -0.01097\n",
       "NSC    3.943e-14 2.646e-09 9.161e-11 1.000000         \n"
      ]
     },
     "metadata": {},
     "output_type": "display_data"
    }
   ],
   "source": [
    "difValues <- diff(bio_linear_models$resamps)\n",
    "summary(difValues)"
   ]
  },
  {
   "cell_type": "code",
   "execution_count": 92,
   "metadata": {},
   "outputs": [
    {
     "data": {
      "image/png": "[encoded data removed]",
      "text/plain": [
       "plot without title"
      ]
     },
     "metadata": {},
     "output_type": "display_data"
    }
   ],
   "source": [
    "trellis.par.set(caretTheme())\n",
    "p1 <- dotplot(bio_linear_models$resamps, metric = \"ROC\")\n",
    "p2 <- dotplot(difValues)\n",
    "library(gridExtra)\n",
    "grid.arrange(p1,p2,ncol=1,nrow=2)"
   ]
  },
  {
   "cell_type": "code",
   "execution_count": 83,
   "metadata": {},
   "outputs": [
    {
     "name": "stdout",
     "output_type": "stream",
     "text": [
      "[1] \"AUC Performance using biological predictors\"\n",
      "    name       auc\n",
      "3  PLSDA 0.6217687\n",
      "5    NSC 0.6217687\n",
      "4 GLMNET 0.5850340\n",
      "1     LR 0.5421769\n",
      "2    LDA 0.5088435\n"
     ]
    },
    {
     "data": {},
     "metadata": {},
     "output_type": "display_data"
    },
    {
     "data": {
      "image/png": "[encoded data removed]",
      "text/plain": [
       "plot without title"
      ]
     },
     "metadata": {},
     "output_type": "display_data"
    }
   ],
   "source": [
    "# Present the sampled ROC estimate for each model:\n",
    "#\n",
    "df = rbind( data.frame(name=\"LR\", auc=bio_linear_models$glm$auc), data.frame(name=\"LDA\", auc=bio_linear_models$lda$auc),\n",
    "            data.frame(name=\"PLSDA\", auc=bio_linear_models$plsda$auc), data.frame(name=\"GLMNET\", auc=bio_linear_models$glmnet$auc),\n",
    "            data.frame(name=\"NSC\", auc=bio_linear_models$nsc$auc) )\n",
    "\n",
    "# Order our dataframe by performance:\n",
    "#\n",
    "df = df[ with( df, order(auc,decreasing = T) ), ]\n",
    "print( \"AUC Performance using biological predictors\" )\n",
    "print( df )\n",
    "\n",
    "# For the best model (logistic regression) what are the most important predictors:\n",
    "#\n",
    "plot(varImp(bio_linear_models$glm$classifier),top=20)"
   ]
  },
  {
   "cell_type": "markdown",
   "metadata": {},
   "source": [
    "&#x1F52C; `Use the chemical predictors`\n"
   ]
  },
  {
   "cell_type": "code",
   "execution_count": 98,
   "metadata": {
    "scrolled": true
   },
   "outputs": [
    {
     "data": {
      "text/html": [
       "<ol class=list-inline>\n",
       "\t<li>281</li>\n",
       "\t<li>192</li>\n",
       "</ol>\n"
      ],
      "text/latex": [
       "\\begin{enumerate*}\n",
       "\\item 281\n",
       "\\item 192\n",
       "\\end{enumerate*}\n"
      ],
      "text/markdown": [
       "1. 281\n",
       "2. 192\n",
       "\n",
       "\n"
      ],
      "text/plain": [
       "[1] 281 192"
      ]
     },
     "metadata": {},
     "output_type": "display_data"
    }
   ],
   "source": [
    "dim(chem)"
   ]
  },
  {
   "cell_type": "code",
   "execution_count": 151,
   "metadata": {},
   "outputs": [
    {
     "data": {
      "text/html": [
       "FALSE"
      ],
      "text/latex": [
       "FALSE"
      ],
      "text/markdown": [
       "FALSE"
      ],
      "text/plain": [
       "[1] FALSE"
      ]
     },
     "metadata": {},
     "output_type": "display_data"
    }
   ],
   "source": [
    "any(is.null(chem))"
   ]
  },
  {
   "cell_type": "code",
   "execution_count": 152,
   "metadata": {
    "scrolled": true
   },
   "outputs": [
    {
     "data": {
      "text/html": [
       "<ol class=list-inline>\n",
       "\t<li>'X8'</li>\n",
       "\t<li>'X9'</li>\n",
       "\t<li>'X10'</li>\n",
       "\t<li>'X32'</li>\n",
       "\t<li>'X41'</li>\n",
       "\t<li>'X42'</li>\n",
       "\t<li>'X43'</li>\n",
       "\t<li>'X45'</li>\n",
       "\t<li>'X46'</li>\n",
       "\t<li>'X48'</li>\n",
       "\t<li>'X54'</li>\n",
       "\t<li>'X55'</li>\n",
       "\t<li>'X56'</li>\n",
       "\t<li>'X57'</li>\n",
       "\t<li>'X58'</li>\n",
       "\t<li>'X59'</li>\n",
       "\t<li>'X60'</li>\n",
       "\t<li>'X70'</li>\n",
       "\t<li>'X75'</li>\n",
       "\t<li>'X76'</li>\n",
       "\t<li>'X77'</li>\n",
       "\t<li>'X78'</li>\n",
       "\t<li>'X79'</li>\n",
       "\t<li>'X80'</li>\n",
       "\t<li>'X92'</li>\n",
       "\t<li>'X93'</li>\n",
       "\t<li>'X94'</li>\n",
       "\t<li>'X96'</li>\n",
       "\t<li>'X100'</li>\n",
       "\t<li>'X107'</li>\n",
       "\t<li>'X108'</li>\n",
       "\t<li>'X110'</li>\n",
       "\t<li>'X111'</li>\n",
       "\t<li>'X112'</li>\n",
       "\t<li>'X114'</li>\n",
       "\t<li>'X115'</li>\n",
       "\t<li>'X116'</li>\n",
       "\t<li>'X117'</li>\n",
       "\t<li>'X119'</li>\n",
       "\t<li>'X128'</li>\n",
       "\t<li>'X129'</li>\n",
       "\t<li>'X152'</li>\n",
       "\t<li>'X156'</li>\n",
       "\t<li>'X158'</li>\n",
       "\t<li>'X162'</li>\n",
       "\t<li>'X163'</li>\n",
       "\t<li>'X174'</li>\n",
       "\t<li>'X178'</li>\n",
       "\t<li>'X180'</li>\n",
       "\t<li>'X181'</li>\n",
       "\t<li>'X182'</li>\n",
       "\t<li>'X183'</li>\n",
       "\t<li>'X184'</li>\n",
       "\t<li>'X185'</li>\n",
       "\t<li>'X186'</li>\n",
       "\t<li>'X189'</li>\n",
       "\t<li>'X190'</li>\n",
       "\t<li>'X192'</li>\n",
       "</ol>\n"
      ],
      "text/latex": [
       "\\begin{enumerate*}\n",
       "\\item 'X8'\n",
       "\\item 'X9'\n",
       "\\item 'X10'\n",
       "\\item 'X32'\n",
       "\\item 'X41'\n",
       "\\item 'X42'\n",
       "\\item 'X43'\n",
       "\\item 'X45'\n",
       "\\item 'X46'\n",
       "\\item 'X48'\n",
       "\\item 'X54'\n",
       "\\item 'X55'\n",
       "\\item 'X56'\n",
       "\\item 'X57'\n",
       "\\item 'X58'\n",
       "\\item 'X59'\n",
       "\\item 'X60'\n",
       "\\item 'X70'\n",
       "\\item 'X75'\n",
       "\\item 'X76'\n",
       "\\item 'X77'\n",
       "\\item 'X78'\n",
       "\\item 'X79'\n",
       "\\item 'X80'\n",
       "\\item 'X92'\n",
       "\\item 'X93'\n",
       "\\item 'X94'\n",
       "\\item 'X96'\n",
       "\\item 'X100'\n",
       "\\item 'X107'\n",
       "\\item 'X108'\n",
       "\\item 'X110'\n",
       "\\item 'X111'\n",
       "\\item 'X112'\n",
       "\\item 'X114'\n",
       "\\item 'X115'\n",
       "\\item 'X116'\n",
       "\\item 'X117'\n",
       "\\item 'X119'\n",
       "\\item 'X128'\n",
       "\\item 'X129'\n",
       "\\item 'X152'\n",
       "\\item 'X156'\n",
       "\\item 'X158'\n",
       "\\item 'X162'\n",
       "\\item 'X163'\n",
       "\\item 'X174'\n",
       "\\item 'X178'\n",
       "\\item 'X180'\n",
       "\\item 'X181'\n",
       "\\item 'X182'\n",
       "\\item 'X183'\n",
       "\\item 'X184'\n",
       "\\item 'X185'\n",
       "\\item 'X186'\n",
       "\\item 'X189'\n",
       "\\item 'X190'\n",
       "\\item 'X192'\n",
       "\\end{enumerate*}\n"
      ],
      "text/markdown": [
       "1. 'X8'\n",
       "2. 'X9'\n",
       "3. 'X10'\n",
       "4. 'X32'\n",
       "5. 'X41'\n",
       "6. 'X42'\n",
       "7. 'X43'\n",
       "8. 'X45'\n",
       "9. 'X46'\n",
       "10. 'X48'\n",
       "11. 'X54'\n",
       "12. 'X55'\n",
       "13. 'X56'\n",
       "14. 'X57'\n",
       "15. 'X58'\n",
       "16. 'X59'\n",
       "17. 'X60'\n",
       "18. 'X70'\n",
       "19. 'X75'\n",
       "20. 'X76'\n",
       "21. 'X77'\n",
       "22. 'X78'\n",
       "23. 'X79'\n",
       "24. 'X80'\n",
       "25. 'X92'\n",
       "26. 'X93'\n",
       "27. 'X94'\n",
       "28. 'X96'\n",
       "29. 'X100'\n",
       "30. 'X107'\n",
       "31. 'X108'\n",
       "32. 'X110'\n",
       "33. 'X111'\n",
       "34. 'X112'\n",
       "35. 'X114'\n",
       "36. 'X115'\n",
       "37. 'X116'\n",
       "38. 'X117'\n",
       "39. 'X119'\n",
       "40. 'X128'\n",
       "41. 'X129'\n",
       "42. 'X152'\n",
       "43. 'X156'\n",
       "44. 'X158'\n",
       "45. 'X162'\n",
       "46. 'X163'\n",
       "47. 'X174'\n",
       "48. 'X178'\n",
       "49. 'X180'\n",
       "50. 'X181'\n",
       "51. 'X182'\n",
       "52. 'X183'\n",
       "53. 'X184'\n",
       "54. 'X185'\n",
       "55. 'X186'\n",
       "56. 'X189'\n",
       "57. 'X190'\n",
       "58. 'X192'\n",
       "\n",
       "\n"
      ],
      "text/plain": [
       " [1] \"X8\"   \"X9\"   \"X10\"  \"X32\"  \"X41\"  \"X42\"  \"X43\"  \"X45\"  \"X46\"  \"X48\" \n",
       "[11] \"X54\"  \"X55\"  \"X56\"  \"X57\"  \"X58\"  \"X59\"  \"X60\"  \"X70\"  \"X75\"  \"X76\" \n",
       "[21] \"X77\"  \"X78\"  \"X79\"  \"X80\"  \"X92\"  \"X93\"  \"X94\"  \"X96\"  \"X100\" \"X107\"\n",
       "[31] \"X108\" \"X110\" \"X111\" \"X112\" \"X114\" \"X115\" \"X116\" \"X117\" \"X119\" \"X128\"\n",
       "[41] \"X129\" \"X152\" \"X156\" \"X158\" \"X162\" \"X163\" \"X174\" \"X178\" \"X180\" \"X181\"\n",
       "[51] \"X182\" \"X183\" \"X184\" \"X185\" \"X186\" \"X189\" \"X190\" \"X192\""
      ]
     },
     "metadata": {},
     "output_type": "display_data"
    }
   ],
   "source": [
    "nearZeroVar(chem,names=T)\n",
    "chem_flt_nzv <- chem[,-nearZeroVar(chem)]"
   ]
  },
  {
   "cell_type": "code",
   "execution_count": 157,
   "metadata": {
    "scrolled": true
   },
   "outputs": [
    {
     "data": {
      "text/html": [
       "<dl class=dl-horizontal>\n",
       "\t<dt>X1</dt>\n",
       "\t\t<dd>13.8194607176964</dd>\n",
       "\t<dt>X127</dt>\n",
       "\t\t<dd>7.27597836234774</dd>\n",
       "\t<dt>X187</dt>\n",
       "\t\t<dd>7.14069673475885</dd>\n",
       "\t<dt>X73</dt>\n",
       "\t\t<dd>6.45373564735597</dd>\n",
       "\t<dt>X74</dt>\n",
       "\t\t<dd>6.17306574964427</dd>\n",
       "\t<dt>X64</dt>\n",
       "\t\t<dd>6.13229219520742</dd>\n",
       "</dl>\n"
      ],
      "text/latex": [
       "\\begin{description*}\n",
       "\\item[X1] 13.8194607176964\n",
       "\\item[X127] 7.27597836234774\n",
       "\\item[X187] 7.14069673475885\n",
       "\\item[X73] 6.45373564735597\n",
       "\\item[X74] 6.17306574964427\n",
       "\\item[X64] 6.13229219520742\n",
       "\\end{description*}\n"
      ],
      "text/markdown": [
       "X1\n",
       ":   13.8194607176964X127\n",
       ":   7.27597836234774X187\n",
       ":   7.14069673475885X73\n",
       ":   6.45373564735597X74\n",
       ":   6.17306574964427X64\n",
       ":   6.13229219520742\n",
       "\n"
      ],
      "text/plain": [
       "       X1      X127      X187       X73       X74       X64 \n",
       "13.819461  7.275978  7.140697  6.453736  6.173066  6.132292 "
      ]
     },
     "metadata": {},
     "output_type": "display_data"
    },
    {
     "data": {
      "text/html": [
       "<dl class=dl-horizontal>\n",
       "\t<dt>X19</dt>\n",
       "\t\t<dd>0.35399294353272</dd>\n",
       "\t<dt>X169</dt>\n",
       "\t\t<dd>0.321194853912797</dd>\n",
       "\t<dt>X18</dt>\n",
       "\t\t<dd>0.310418710889375</dd>\n",
       "\t<dt>X123</dt>\n",
       "\t\t<dd>0.261114851424915</dd>\n",
       "\t<dt>X15</dt>\n",
       "\t\t<dd>0.245290398108603</dd>\n",
       "\t<dt>X2</dt>\n",
       "\t\t<dd>0.0239474960188897</dd>\n",
       "</dl>\n"
      ],
      "text/latex": [
       "\\begin{description*}\n",
       "\\item[X19] 0.35399294353272\n",
       "\\item[X169] 0.321194853912797\n",
       "\\item[X18] 0.310418710889375\n",
       "\\item[X123] 0.261114851424915\n",
       "\\item[X15] 0.245290398108603\n",
       "\\item[X2] 0.0239474960188897\n",
       "\\end{description*}\n"
      ],
      "text/markdown": [
       "X19\n",
       ":   0.35399294353272X169\n",
       ":   0.321194853912797X18\n",
       ":   0.310418710889375X123\n",
       ":   0.261114851424915X15\n",
       ":   0.245290398108603X2\n",
       ":   0.0239474960188897\n",
       "\n"
      ],
      "text/plain": [
       "      X19      X169       X18      X123       X15        X2 \n",
       "0.3539929 0.3211949 0.3104187 0.2611149 0.2452904 0.0239475 "
      ]
     },
     "metadata": {},
     "output_type": "display_data"
    }
   ],
   "source": [
    "library(e1071)\n",
    "skew_info <- apply(chem_flt_nzv,2,skewness)\n",
    "head(sort(skew_info,decreasing = T))\n",
    "tail(sort(skew_info,decreasing = T))"
   ]
  },
  {
   "cell_type": "code",
   "execution_count": 164,
   "metadata": {},
   "outputs": [
    {
     "data": {
      "text/html": [
       "<ol class=list-inline>\n",
       "\t<li>'X12'</li>\n",
       "\t<li>'X15'</li>\n",
       "\t<li>'X16'</li>\n",
       "\t<li>'X17'</li>\n",
       "\t<li>'X18'</li>\n",
       "\t<li>'X24'</li>\n",
       "\t<li>'X53'</li>\n",
       "\t<li>'X67'</li>\n",
       "\t<li>'X73'</li>\n",
       "\t<li>'X74'</li>\n",
       "\t<li>'X86'</li>\n",
       "\t<li>'X95'</li>\n",
       "\t<li>'X98'</li>\n",
       "\t<li>'X123'</li>\n",
       "\t<li>'X125'</li>\n",
       "\t<li>'X171'</li>\n",
       "\t<li>'X173'</li>\n",
       "</ol>\n"
      ],
      "text/latex": [
       "\\begin{enumerate*}\n",
       "\\item 'X12'\n",
       "\\item 'X15'\n",
       "\\item 'X16'\n",
       "\\item 'X17'\n",
       "\\item 'X18'\n",
       "\\item 'X24'\n",
       "\\item 'X53'\n",
       "\\item 'X67'\n",
       "\\item 'X73'\n",
       "\\item 'X74'\n",
       "\\item 'X86'\n",
       "\\item 'X95'\n",
       "\\item 'X98'\n",
       "\\item 'X123'\n",
       "\\item 'X125'\n",
       "\\item 'X171'\n",
       "\\item 'X173'\n",
       "\\end{enumerate*}\n"
      ],
      "text/markdown": [
       "1. 'X12'\n",
       "2. 'X15'\n",
       "3. 'X16'\n",
       "4. 'X17'\n",
       "5. 'X18'\n",
       "6. 'X24'\n",
       "7. 'X53'\n",
       "8. 'X67'\n",
       "9. 'X73'\n",
       "10. 'X74'\n",
       "11. 'X86'\n",
       "12. 'X95'\n",
       "13. 'X98'\n",
       "14. 'X123'\n",
       "15. 'X125'\n",
       "16. 'X171'\n",
       "17. 'X173'\n",
       "\n",
       "\n"
      ],
      "text/plain": [
       " [1] \"X12\"  \"X15\"  \"X16\"  \"X17\"  \"X18\"  \"X24\"  \"X53\"  \"X67\"  \"X73\"  \"X74\" \n",
       "[11] \"X86\"  \"X95\"  \"X98\"  \"X123\" \"X125\" \"X171\" \"X173\""
      ]
     },
     "metadata": {},
     "output_type": "display_data"
    }
   ],
   "source": [
    "linear_cols <- findLinearCombos(chem_flt_nzv)\n",
    "colnames(chem_flt_nzv)[linear_cols$remove]\n",
    "chem_flt_linear <- chem_flt_nzv[,-linear_cols$remove]"
   ]
  },
  {
   "cell_type": "code",
   "execution_count": 165,
   "metadata": {
    "scrolled": true
   },
   "outputs": [
    {
     "data": {},
     "metadata": {},
     "output_type": "display_data"
    },
    {
     "data": {
      "image/png": "[encoded data removed]",
      "text/plain": [
       "plot without title"
      ]
     },
     "metadata": {},
     "output_type": "display_data"
    },
    {
     "data": {
      "image/png": "[encoded data removed]",
      "text/plain": [
       "Plot with title \"\""
      ]
     },
     "metadata": {},
     "output_type": "display_data"
    }
   ],
   "source": [
    "library(corrplot)\n",
    "cor_info <- cor(chem_flt_linear)\n",
    "# summary(cor_info[upper.tri(cor_info)])\n",
    "\n",
    "histogram(cor_info[upper.tri(cor_info)])\n",
    "corrplot(cor_info,type=\"upper\",addgrid.col = NA, tl.pos = \"n\")"
   ]
  },
  {
   "cell_type": "code",
   "execution_count": 166,
   "metadata": {
    "scrolled": true
   },
   "outputs": [
    {
     "name": "stdout",
     "output_type": "stream",
     "text": [
      "11111111111111111111111111111111111111111111111111111111111111111111111111111111111111111111111111111"
     ]
    }
   ],
   "source": [
    "# Build linear models with this data:\n",
    "chem_linear_models <- build_AUC_linear_models( chem_flt_linear,any_damage,trn_id )"
   ]
  },
  {
   "cell_type": "code",
   "execution_count": 167,
   "metadata": {
    "scrolled": true
   },
   "outputs": [
    {
     "data": {
      "text/plain": [
       "\n",
       "Call:\n",
       "summary.diff.resamples(object = difValues)\n",
       "\n",
       "p-value adjustment: bonferroni \n",
       "Upper diagonal: estimates of the difference\n",
       "Lower diagonal: p-value for H0: difference = 0\n",
       "\n",
       "ROC \n",
       "       GLM       LDA       PLSDA     GLMNET    NSC      \n",
       "GLM              -0.058636 -0.005134 -0.003993  0.056791\n",
       "LDA    4.348e-08            0.053502  0.054643  0.115427\n",
       "PLSDA  1.0000000 0.0009559            0.001141  0.061925\n",
       "GLMNET 1.0000000 0.0003123 1.0000000            0.060784\n",
       "NSC    0.0033523 2.668e-11 5.505e-05 2.521e-05          \n",
       "\n",
       "Sens \n",
       "       GLM       LDA       PLSDA     GLMNET    NSC      \n",
       "GLM              -0.075000 -0.085714 -0.090000 -0.242143\n",
       "LDA    2.426e-06           -0.010714 -0.015000 -0.167143\n",
       "PLSDA  2.342e-06 1                   -0.004286 -0.156429\n",
       "GLMNET 1.520e-07 1         1                   -0.152143\n",
       "NSC    < 2.2e-16 2.613e-16 < 2.2e-16 < 2.2e-16          \n",
       "\n",
       "Spec \n",
       "       GLM       LDA       PLSDA     GLMNET    NSC     \n",
       "GLM              -0.01111   0.06236   0.07361   0.37903\n",
       "LDA    1.000000             0.07347   0.08472   0.39014\n",
       "PLSDA  0.018028  7.222e-05            0.01125   0.31667\n",
       "GLMNET 0.003353  2.122e-05 1.000000             0.30542\n",
       "NSC    < 2.2e-16 < 2.2e-16 < 2.2e-16 < 2.2e-16         \n"
      ]
     },
     "metadata": {},
     "output_type": "display_data"
    }
   ],
   "source": [
    "difValues <- diff(chem_linear_models$resamps)\n",
    "summary(difValues)"
   ]
  },
  {
   "cell_type": "code",
   "execution_count": 168,
   "metadata": {},
   "outputs": [
    {
     "data": {
      "image/png": "[encoded data removed]",
      "text/plain": [
       "plot without title"
      ]
     },
     "metadata": {},
     "output_type": "display_data"
    }
   ],
   "source": [
    "trellis.par.set(caretTheme())\n",
    "p1 <- dotplot(chem_linear_models$resamps, metric = \"ROC\")\n",
    "p2 <- dotplot(difValues)\n",
    "library(gridExtra)\n",
    "grid.arrange(p1,p2,ncol=1,nrow=2)"
   ]
  },
  {
   "cell_type": "markdown",
   "metadata": {},
   "source": [
    "`Seems LDA outperfoms the other models on chem predictors`"
   ]
  },
  {
   "cell_type": "markdown",
   "metadata": {},
   "source": [
    "&#x1F52C; `Use ALL predictors into one set of predictors`"
   ]
  },
  {
   "cell_type": "code",
   "execution_count": 171,
   "metadata": {},
   "outputs": [],
   "source": [
    "all_vars <- cbind(bio,chem)\n",
    "all_vars_nzv <- all_vars[,-nearZeroVar(all_vars)]\n",
    "all_vars_flt <- all_vars_nzv[,-findLinearCombos(all_vars_nzv)$remove]"
   ]
  },
  {
   "cell_type": "code",
   "execution_count": 173,
   "metadata": {
    "scrolled": true
   },
   "outputs": [
    {
     "data": {
      "text/html": [
       "<ol class=list-inline>\n",
       "\t<li>281</li>\n",
       "\t<li>219</li>\n",
       "</ol>\n"
      ],
      "text/latex": [
       "\\begin{enumerate*}\n",
       "\\item 281\n",
       "\\item 219\n",
       "\\end{enumerate*}\n"
      ],
      "text/markdown": [
       "1. 281\n",
       "2. 219\n",
       "\n",
       "\n"
      ],
      "text/plain": [
       "[1] 281 219"
      ]
     },
     "metadata": {},
     "output_type": "display_data"
    }
   ],
   "source": [
    "dim(all_vars_flt)"
   ]
  },
  {
   "cell_type": "code",
   "execution_count": 174,
   "metadata": {
    "scrolled": true
   },
   "outputs": [
    {
     "data": {},
     "metadata": {},
     "output_type": "display_data"
    },
    {
     "data": {
      "image/png": "[encoded data removed]",
      "text/plain": [
       "plot without title"
      ]
     },
     "metadata": {},
     "output_type": "display_data"
    },
    {
     "data": {
      "image/png": "[encoded data removed]",
      "text/plain": [
       "Plot with title \"\""
      ]
     },
     "metadata": {},
     "output_type": "display_data"
    }
   ],
   "source": [
    "library(corrplot)\n",
    "cor_info <- cor(all_vars_flt)\n",
    "# summary(cor_info[upper.tri(cor_info)])\n",
    "\n",
    "histogram(cor_info[upper.tri(cor_info)])\n",
    "corrplot(cor_info,type=\"upper\",addgrid.col = NA, tl.pos = \"n\")"
   ]
  },
  {
   "cell_type": "code",
   "execution_count": 175,
   "metadata": {},
   "outputs": [
    {
     "name": "stdout",
     "output_type": "stream",
     "text": [
      "11111111111111111111111111111111111111111111111111111111111111111111111111111111111111111111111111111"
     ]
    }
   ],
   "source": [
    "# Build linear models with this data:\n",
    "all_linear_models <- build_AUC_linear_models( all_vars_flt,any_damage,trn_id )"
   ]
  },
  {
   "cell_type": "code",
   "execution_count": 176,
   "metadata": {},
   "outputs": [
    {
     "data": {
      "text/plain": [
       "\n",
       "Call:\n",
       "summary.diff.resamples(object = difValues)\n",
       "\n",
       "p-value adjustment: bonferroni \n",
       "Upper diagonal: estimates of the difference\n",
       "Lower diagonal: p-value for H0: difference = 0\n",
       "\n",
       "ROC \n",
       "       GLM    LDA       PLSDA     GLMNET    NSC      \n",
       "GLM           -0.041066 -0.029311 -0.032078 -0.008914\n",
       "LDA    0.1002            0.011756  0.008988  0.032153\n",
       "PLSDA  0.5731 1.0000              -0.002768  0.020397\n",
       "GLMNET 0.3588 1.0000    1.0000               0.023165\n",
       "NSC    1.0000 0.5976    0.5659    0.8375             \n",
       "\n",
       "Sens \n",
       "       GLM       LDA        PLSDA      GLMNET     NSC       \n",
       "GLM              -0.0471429 -0.2492857 -0.1314286 -0.2485714\n",
       "LDA    0.1931               -0.2021429 -0.0842857 -0.2014286\n",
       "PLSDA  < 2.2e-16 < 2.2e-16              0.1178571  0.0007143\n",
       "GLMNET 1.462e-10 6.243e-05  2.217e-12             -0.1171429\n",
       "NSC    < 2.2e-16 < 2.2e-16  1.0000     6.220e-12            \n",
       "\n",
       "Spec \n",
       "       GLM       LDA       PLSDA     GLMNET    NSC     \n",
       "GLM              -0.01208   0.20083   0.07097   0.21958\n",
       "LDA    1.000000             0.21292   0.08306   0.23167\n",
       "PLSDA  2.116e-15 7.960e-16           -0.12986   0.01875\n",
       "GLMNET 0.033433  0.004261  6.113e-13            0.14861\n",
       "NSC    < 2.2e-16 < 2.2e-16 1.000000  2.256e-13         \n"
      ]
     },
     "metadata": {},
     "output_type": "display_data"
    },
    {
     "data": {
      "image/png": "[encoded data removed]",
      "text/plain": [
       "plot without title"
      ]
     },
     "metadata": {},
     "output_type": "display_data"
    }
   ],
   "source": [
    "difValues <- diff(all_linear_models$resamps)\n",
    "summary(difValues)\n",
    "\n",
    "trellis.par.set(caretTheme())\n",
    "p1 <- dotplot(all_linear_models$resamps, metric = \"ROC\")\n",
    "p2 <- dotplot(difValues)\n",
    "library(gridExtra)\n",
    "grid.arrange(p1,p2,ncol=1,nrow=2)"
   ]
  },
  {
   "cell_type": "code",
   "execution_count": 178,
   "metadata": {},
   "outputs": [
    {
     "data": {
      "image/png": "[encoded data removed]",
      "text/plain": [
       "plot without title"
      ]
     },
     "metadata": {},
     "output_type": "display_data"
    }
   ],
   "source": [
    "plot( bio_linear_models$lda$roc, legacy.axes=T, add=F, col=\"gray\", lty=2, ylim=c(0,1.05) )\n",
    "plot( chem_linear_models$lda$roc, legacy.axes=T, add=T, col=\"darkgray\" )\n",
    "plot( all_linear_models$lda$roc, legacy.axes=T, add=T )\n",
    "legend( 0.6, 0.2, c(\"LDA (biological)\",\"LDA (chemical)\", \"LDA (all)\"), col=c(\"gray\",\"darkgray\",\"black\"), lty=c(2,1,1) )"
   ]
  },
  {
   "cell_type": "code",
   "execution_count": 179,
   "metadata": {},
   "outputs": [
    {
     "data": {},
     "metadata": {},
     "output_type": "display_data"
    },
    {
     "data": {
      "image/png": "[encoded data removed]",
      "text/plain": [
       "plot without title"
      ]
     },
     "metadata": {},
     "output_type": "display_data"
    }
   ],
   "source": [
    "plot(varImp(all_linear_models$lda$classifier),top=5)"
   ]
  },
  {
   "cell_type": "markdown",
   "metadata": {},
   "source": [
    "&#x1F31F;\n",
    "\n",
    "12.2. In Exercise 4.4, we described a data set which contained 96 oil samples each from one of seven types of oils (pumpkin, sunflower, peanut, olive,\n",
    "soybean, rapeseed, and corn). Gas chromatography was performed on each sample and the percentage of each type of 7 fatty acids was determined. We would like to use these data to build a model that predicts the type of oil based on a sample’s fatty acid percentages.\n",
    "- (a) Like the hepatic injury data, these data suffer from extreme imbalance. Given this imbalance, should the data be split into training and test sets?\n",
    "- (b) Which classification statistic would you choose to optimize for this exercise and why?\n",
    "- (c) Of the models presented in this chapter, which performs best on these data? Which oil type does the model most accurately predict? Least accurately predict?"
   ]
  },
  {
   "cell_type": "code",
   "execution_count": 203,
   "metadata": {
    "scrolled": true
   },
   "outputs": [
    {
     "data": {
      "text/html": [
       "<ol class=list-inline>\n",
       "\t<li>96</li>\n",
       "\t<li>7</li>\n",
       "</ol>\n"
      ],
      "text/latex": [
       "\\begin{enumerate*}\n",
       "\\item 96\n",
       "\\item 7\n",
       "\\end{enumerate*}\n"
      ],
      "text/markdown": [
       "1. 96\n",
       "2. 7\n",
       "\n",
       "\n"
      ],
      "text/plain": [
       "[1] 96  7"
      ]
     },
     "metadata": {},
     "output_type": "display_data"
    }
   ],
   "source": [
    "data(oil)\n",
    "dim(fattyAcids)"
   ]
  },
  {
   "cell_type": "code",
   "execution_count": 191,
   "metadata": {
    "scrolled": true
   },
   "outputs": [
    {
     "data": {
      "text/plain": [
       "oilType\n",
       "   A    B    C    D    E    F    G \n",
       "0.39 0.27 0.03 0.07 0.11 0.10 0.02 "
      ]
     },
     "metadata": {},
     "output_type": "display_data"
    }
   ],
   "source": [
    "round(prop.table(table(oilType)),2)"
   ]
  },
  {
   "cell_type": "code",
   "execution_count": 197,
   "metadata": {
    "scrolled": false
   },
   "outputs": [
    {
     "data": {
      "text/html": [],
      "text/latex": [],
      "text/markdown": [],
      "text/plain": [
       "character(0)"
      ]
     },
     "metadata": {},
     "output_type": "display_data"
    }
   ],
   "source": [
    "nearZeroVar(fattyAcids,names = T)"
   ]
  },
  {
   "cell_type": "code",
   "execution_count": 198,
   "metadata": {
    "scrolled": false
   },
   "outputs": [
    {
     "data": {
      "text/html": [
       "<dl>\n",
       "\t<dt>$linearCombos</dt>\n",
       "\t\t<dd><ol>\n",
       "</ol>\n",
       "</dd>\n",
       "\t<dt>$remove</dt>\n",
       "\t\t<dd>NULL</dd>\n",
       "</dl>\n"
      ],
      "text/latex": [
       "\\begin{description}\n",
       "\\item[\\$linearCombos] \\begin{enumerate}\n",
       "\\end{enumerate}\n",
       "\n",
       "\\item[\\$remove] NULL\n",
       "\\end{description}\n"
      ],
      "text/markdown": [
       "$linearCombos\n",
       ":   \n",
       "\n",
       "\n",
       "$remove\n",
       ":   NULL\n",
       "\n",
       "\n"
      ],
      "text/plain": [
       "$linearCombos\n",
       "list()\n",
       "\n",
       "$remove\n",
       "NULL\n"
      ]
     },
     "metadata": {},
     "output_type": "display_data"
    }
   ],
   "source": [
    "findLinearCombos(fattyAcids)"
   ]
  },
  {
   "cell_type": "code",
   "execution_count": 242,
   "metadata": {},
   "outputs": [],
   "source": [
    "build_PCC_linear_models = function(X, y, seed_value=456){\n",
    "    #\n",
    "    # Builds (using caret's train function) several of the linear models discussed in\n",
    "    # this chapter of the book optimizing the probability of correct classification PCC (i.e. accuracy).\n",
    "    #\n",
    "    # X [n samples, n features] needs to have zero variance columns removed (use nearZeroVar to remove them) and\n",
    "    # linear dependent columns removed (use findLinearCombos to remove them)\n",
    "    #\n",
    "    # y [n samples, 1] is a two factor vector of predictions with the FIRST factor corresponding to the event of interest\n",
    "    #\n",
    "    # Written by:\n",
    "    # -- \n",
    "    # John L. Weatherwax                2009-04-21\n",
    "    # \n",
    "    # email: wax@alum.mit.edu\n",
    "    # \n",
    "    # Please send comments and especially bug reports to the\n",
    "    # above email address.\n",
    "    #\n",
    "    #-----\n",
    "\n",
    "    # Linear Discriminant Analysis:\n",
    "    #\n",
    "    set.seed(seed_value)\n",
    "    lda.classifier = train( X, y, method=\"lda\", preProc=c(\"center\",\"scale\") ,\n",
    "                          trControl = trainControl(method = \"repeatedcv\",repeats = 10,number=10))\n",
    "    y_hat = predict( lda.classifier, X )\n",
    "    cm = confusionMatrix( data=y_hat, reference=y )\n",
    "\n",
    "    lda=list( classifier=lda.classifier, confusionMatrix=cm )\n",
    "\n",
    "    # Penalized Methods:\n",
    "    #\n",
    "    glmnGrid = expand.grid(.alpha=c(0, 0.1, 0.2, 0.4, 0.6, 0.8, 1.0), .lambda=seq( 0.01, 0.2, length=40))\n",
    "    set.seed(seed_value)\n",
    "    glmnet.classifier = train( X, y, method=\"glmnet\", tuneGrid=glmnGrid, preProc=c(\"center\",\"scale\"),\n",
    "                             trControl = trainControl(method = \"repeatedcv\",repeats = 10,number=10))\n",
    "    y_hat = predict( glmnet.classifier, X )\n",
    "    cm = confusionMatrix( data=y_hat, reference=y )\n",
    "    glmnet=list( Classifier=glmnet.classifier, confusionMatrix=cm )\n",
    "\n",
    "    # Nearest Shrunken Centroids:\n",
    "    #\n",
    "    nscGrid = expand.grid(.threshold=0:25)\n",
    "    set.seed(seed_value)\n",
    "    nsc.classifier = train( X, y, method=\"pam\", tuneGrid=nscGrid, preProc=c(\"center\",\"scale\"),\n",
    "                          trControl = trainControl(method = \"repeatedcv\",repeats = 10,number=10))\n",
    "    y_hat = predict( nsc.classifier, X )\n",
    "    cm = confusionMatrix( data=y_hat, reference=y )\n",
    "    nsc=list( classifier=nsc.classifier, confusionMatrix=cm )\n",
    "\n",
    "    return( list( lda=lda, glmnet=glmnet, nsc=nsc ) )\n",
    "\n",
    "}\n"
   ]
  },
  {
   "cell_type": "code",
   "execution_count": 230,
   "metadata": {
    "scrolled": true
   },
   "outputs": [],
   "source": [
    "oil_type <- factor(as.character(oilType))"
   ]
  },
  {
   "cell_type": "code",
   "execution_count": 243,
   "metadata": {
    "scrolled": false
   },
   "outputs": [
    {
     "name": "stdout",
     "output_type": "stream",
     "text": [
      "1Warning: a class contains only 1 sample111Warning: a class contains only 1 sample111111111111Warning: a class contains only 1 sample1Warning: a class contains only 1 sample11111111Warning: a class contains only 1 sample1Warning: a class contains only 1 sample1111Warning: a class contains only 1 sample111Warning: a class contains only 1 sample11111111111Warning: a class contains only 1 sample11Warning: a class contains only 1 sample1111111111Warning: a class contains only 1 sample1Warning: a class contains only 1 sample11111111Warning: a class contains only 1 sample111Warning: a class contains only 1 sample11Warning: a class contains only 1 sample111Warning: a class contains only 1 sample111111111Warning: a class contains only 1 sample111Warning: a class contains only 1 sample111111111Warning: a class contains only 1 sample1Warning: a class contains only 1 sample111111"
     ]
    }
   ],
   "source": [
    "options(warn=-1)\n",
    "linear_models = build_PCC_linear_models( fattyAcids, oil_type )"
   ]
  },
  {
   "cell_type": "code",
   "execution_count": 244,
   "metadata": {
    "scrolled": true
   },
   "outputs": [
    {
     "name": "stdout",
     "output_type": "stream",
     "text": [
      "[1] \"ACCURACY Performance on the oil dataset\"\n",
      "    name  Accuracy\n",
      "1    LDA 0.9687500\n",
      "3    NSC 0.9791667\n",
      "2 GLMNET 1.0000000\n",
      "Confusion Matrix and Statistics\n",
      "\n",
      "          Reference\n",
      "Prediction  A  B  C  D  E  F  G\n",
      "         A 35  0  0  0  0  0  0\n",
      "         B  2 26  0  0  0  0  0\n",
      "         C  0  0  3  0  0  0  0\n",
      "         D  0  0  0  7  0  0  0\n",
      "         E  0  0  0  0 11  0  0\n",
      "         F  0  0  0  0  0 10  0\n",
      "         G  0  0  0  0  0  0  2\n",
      "\n",
      "Overall Statistics\n",
      "                                          \n",
      "               Accuracy : 0.9792          \n",
      "                 95% CI : (0.9268, 0.9975)\n",
      "    No Information Rate : 0.3854          \n",
      "    P-Value [Acc > NIR] : < 2.2e-16       \n",
      "                                          \n",
      "                  Kappa : 0.9722          \n",
      " Mcnemar's Test P-Value : NA              \n",
      "\n",
      "Statistics by Class:\n",
      "\n",
      "                     Class: A Class: B Class: C Class: D Class: E Class: F\n",
      "Sensitivity            0.9459   1.0000  1.00000  1.00000   1.0000   1.0000\n",
      "Specificity            1.0000   0.9714  1.00000  1.00000   1.0000   1.0000\n",
      "Pos Pred Value         1.0000   0.9286  1.00000  1.00000   1.0000   1.0000\n",
      "Neg Pred Value         0.9672   1.0000  1.00000  1.00000   1.0000   1.0000\n",
      "Prevalence             0.3854   0.2708  0.03125  0.07292   0.1146   0.1042\n",
      "Detection Rate         0.3646   0.2708  0.03125  0.07292   0.1146   0.1042\n",
      "Detection Prevalence   0.3646   0.2917  0.03125  0.07292   0.1146   0.1042\n",
      "Balanced Accuracy      0.9730   0.9857  1.00000  1.00000   1.0000   1.0000\n",
      "                     Class: G\n",
      "Sensitivity           1.00000\n",
      "Specificity           1.00000\n",
      "Pos Pred Value        1.00000\n",
      "Neg Pred Value        1.00000\n",
      "Prevalence            0.02083\n",
      "Detection Rate        0.02083\n",
      "Detection Prevalence  0.02083\n",
      "Balanced Accuracy     1.00000\n"
     ]
    }
   ],
   "source": [
    "# Present the sampled accuracy estimates for each model:\n",
    "#\n",
    "df = rbind( data.frame(name=\"LDA\", Accuracy=linear_models$lda$confusionMatrix$overall[1]),\n",
    "            data.frame(name=\"GLMNET\", Accuracy=linear_models$glmnet$confusionMatrix$overall[1]),\n",
    "            data.frame(name=\"NSC\", Accuracy=linear_models$nsc$confusionMatrix$overall[1]) )\n",
    "rownames(df) = NULL\n",
    "\n",
    "# Order our dataframe by performance:\n",
    "#\n",
    "df = df[ with( df, order(Accuracy) ), ]\n",
    "print( \"ACCURACY Performance on the oil dataset\" )\n",
    "print( df )\n",
    "\n",
    "# For the NSC model ... where is it making its errors:\n",
    "#\n",
    "print( linear_models$nsc$confusionMatrix )"
   ]
  },
  {
   "cell_type": "code",
   "execution_count": 245,
   "metadata": {
    "scrolled": true
   },
   "outputs": [
    {
     "data": {
      "image/png": "[encoded data removed]",
      "text/plain": [
       "Plot with title \"linear_models$nsc$confusionMatrix$table\""
      ]
     },
     "metadata": {},
     "output_type": "display_data"
    }
   ],
   "source": [
    "library(vcd)\n",
    "mosaicplot( linear_models$nsc$confusionMatrix $table)"
   ]
  },
  {
   "cell_type": "code",
   "execution_count": 248,
   "metadata": {
    "scrolled": false
   },
   "outputs": [
    {
     "data": {
      "image/png": "[encoded data removed]",
      "text/plain": [
       "plot without title"
      ]
     },
     "metadata": {},
     "output_type": "display_data"
    }
   ],
   "source": [
    "trellis.par.set(caretTheme())\n",
    "p1 <- densityplot(linear_models$nsc$classifier, pch = \"|\")\n",
    "p2 <- histogram(linear_models$nsc$classifier)\n",
    "\n",
    "grid.arrange(p1,p2,ncol=2,nrow=2)"
   ]
  },
  {
   "cell_type": "markdown",
   "metadata": {},
   "source": [
    "12.3. The web site for the MLC++ software package contains a number of machine learning data sets. The “churn” data set was developed to  redict\n",
    "telecom customer churn based on information about their account. The data files state that the data are “artificial based on claims similar to real world.” The data consist of 19 predictors related to the customer account, such as the number of customer service calls, the area code, and the number of minutes. The outcome is whether the customer churned.\n",
    "The data are contained in the C50 package and can be loaded using:\n",
    "```r\n",
    "> library(C50)\n",
    "> data(churn)\n",
    "> ## Two objects are loaded: churnTrain and churnTest\n",
    "> str(churnTrain)\n",
    "> table(churnTrain$Class)\n",
    "```\n",
    "- (a) Explore the data by visualizing the relationship between the predictors and the outcome. Are there important features of the predictor data themselves, such as between-predictor correlations or degenerate distributions? Can functions of more than one predictor be used to model the data more effectively?\n",
    "- (b) Fit some basic models to the training set and tune them via resampling. What criteria should be used to evaluate the effectiveness of the models?\n",
    "- (c) Use lift charts to compare models. If you wanted to identify 80 % of the churning customers, how many other customers would also be identified?"
   ]
  },
  {
   "cell_type": "code",
   "execution_count": 106,
   "metadata": {
    "scrolled": true
   },
   "outputs": [
    {
     "name": "stdout",
     "output_type": "stream",
     "text": [
      "'data.frame':\t3333 obs. of  20 variables:\n",
      " $ state                        : Factor w/ 51 levels \"AK\",\"AL\",\"AR\",..: 17 36 32 36 37 2 20 25 19 50 ...\n",
      " $ account_length               : int  128 107 137 84 75 118 121 147 117 141 ...\n",
      " $ area_code                    : Factor w/ 3 levels \"area_code_408\",..: 2 2 2 1 2 3 3 2 1 2 ...\n",
      " $ international_plan           : Factor w/ 2 levels \"no\",\"yes\": 1 1 1 2 2 2 1 2 1 2 ...\n",
      " $ voice_mail_plan              : Factor w/ 2 levels \"no\",\"yes\": 2 2 1 1 1 1 2 1 1 2 ...\n",
      " $ number_vmail_messages        : int  25 26 0 0 0 0 24 0 0 37 ...\n",
      " $ total_day_minutes            : num  265 162 243 299 167 ...\n",
      " $ total_day_calls              : int  110 123 114 71 113 98 88 79 97 84 ...\n",
      " $ total_day_charge             : num  45.1 27.5 41.4 50.9 28.3 ...\n",
      " $ total_eve_minutes            : num  197.4 195.5 121.2 61.9 148.3 ...\n",
      " $ total_eve_calls              : int  99 103 110 88 122 101 108 94 80 111 ...\n",
      " $ total_eve_charge             : num  16.78 16.62 10.3 5.26 12.61 ...\n",
      " $ total_night_minutes          : num  245 254 163 197 187 ...\n",
      " $ total_night_calls            : int  91 103 104 89 121 118 118 96 90 97 ...\n",
      " $ total_night_charge           : num  11.01 11.45 7.32 8.86 8.41 ...\n",
      " $ total_intl_minutes           : num  10 13.7 12.2 6.6 10.1 6.3 7.5 7.1 8.7 11.2 ...\n",
      " $ total_intl_calls             : int  3 3 5 7 3 6 7 6 4 5 ...\n",
      " $ total_intl_charge            : num  2.7 3.7 3.29 1.78 2.73 1.7 2.03 1.92 2.35 3.02 ...\n",
      " $ number_customer_service_calls: int  1 1 0 2 3 0 3 0 1 0 ...\n",
      " $ churn                        : Factor w/ 2 levels \"yes\",\"no\": 2 2 2 2 2 2 2 2 2 2 ...\n"
     ]
    }
   ],
   "source": [
    "library(C50)\n",
    "data(churn)\n",
    "str(churnTrain)"
   ]
  },
  {
   "cell_type": "code",
   "execution_count": 2,
   "metadata": {},
   "outputs": [
    {
     "data": {
      "text/plain": [
       "\n",
       " yes   no \n",
       " 483 2850 "
      ]
     },
     "metadata": {},
     "output_type": "display_data"
    }
   ],
   "source": [
    "table(churnTrain$churn)"
   ]
  },
  {
   "cell_type": "markdown",
   "metadata": {},
   "source": [
    "\\begin{remark}\n",
    "(a) Explore the data by visualizing the relationship between the predictors and the outcome. Are there important features of the predictor data themselves, such as between-predictor correlations or degenerate distributions? Can functions of more than one predictor be used to model the data more effectively?\n",
    "\\end{remark}\n"
   ]
  },
  {
   "cell_type": "code",
   "execution_count": 2,
   "metadata": {
    "scrolled": true
   },
   "outputs": [
    {
     "data": {
      "text/html": [
       "<table>\n",
       "<thead><tr><th scope=col>state</th><th scope=col>account_length</th><th scope=col>area_code</th><th scope=col>international_plan</th><th scope=col>voice_mail_plan</th><th scope=col>number_vmail_messages</th><th scope=col>total_day_minutes</th><th scope=col>total_day_calls</th><th scope=col>total_day_charge</th><th scope=col>total_eve_minutes</th><th scope=col>total_eve_calls</th><th scope=col>total_eve_charge</th><th scope=col>total_night_minutes</th><th scope=col>total_night_calls</th><th scope=col>total_night_charge</th><th scope=col>total_intl_minutes</th><th scope=col>total_intl_calls</th><th scope=col>total_intl_charge</th><th scope=col>number_customer_service_calls</th><th scope=col>churn</th></tr></thead>\n",
       "<tbody>\n",
       "\t<tr><td>KS           </td><td>128          </td><td>area_code_415</td><td>no           </td><td>yes          </td><td>25           </td><td>265.1        </td><td>110          </td><td>45.07        </td><td>197.4        </td><td> 99          </td><td>16.78        </td><td>244.7        </td><td> 91          </td><td>11.01        </td><td>10.0         </td><td>3            </td><td>2.70         </td><td>1            </td><td>no           </td></tr>\n",
       "\t<tr><td>OH           </td><td>107          </td><td>area_code_415</td><td>no           </td><td>yes          </td><td>26           </td><td>161.6        </td><td>123          </td><td>27.47        </td><td>195.5        </td><td>103          </td><td>16.62        </td><td>254.4        </td><td>103          </td><td>11.45        </td><td>13.7         </td><td>3            </td><td>3.70         </td><td>1            </td><td>no           </td></tr>\n",
       "\t<tr><td>NJ           </td><td>137          </td><td>area_code_415</td><td>no           </td><td>no           </td><td> 0           </td><td>243.4        </td><td>114          </td><td>41.38        </td><td>121.2        </td><td>110          </td><td>10.30        </td><td>162.6        </td><td>104          </td><td> 7.32        </td><td>12.2         </td><td>5            </td><td>3.29         </td><td>0            </td><td>no           </td></tr>\n",
       "\t<tr><td>OH           </td><td> 84          </td><td>area_code_408</td><td>yes          </td><td>no           </td><td> 0           </td><td>299.4        </td><td> 71          </td><td>50.90        </td><td> 61.9        </td><td> 88          </td><td> 5.26        </td><td>196.9        </td><td> 89          </td><td> 8.86        </td><td> 6.6         </td><td>7            </td><td>1.78         </td><td>2            </td><td>no           </td></tr>\n",
       "\t<tr><td>OK           </td><td> 75          </td><td>area_code_415</td><td>yes          </td><td>no           </td><td> 0           </td><td>166.7        </td><td>113          </td><td>28.34        </td><td>148.3        </td><td>122          </td><td>12.61        </td><td>186.9        </td><td>121          </td><td> 8.41        </td><td>10.1         </td><td>3            </td><td>2.73         </td><td>3            </td><td>no           </td></tr>\n",
       "\t<tr><td>AL           </td><td>118          </td><td>area_code_510</td><td>yes          </td><td>no           </td><td> 0           </td><td>223.4        </td><td> 98          </td><td>37.98        </td><td>220.6        </td><td>101          </td><td>18.75        </td><td>203.9        </td><td>118          </td><td> 9.18        </td><td> 6.3         </td><td>6            </td><td>1.70         </td><td>0            </td><td>no           </td></tr>\n",
       "</tbody>\n",
       "</table>\n"
      ],
      "text/latex": [
       "\\begin{tabular}{r|llllllllllllllllllll}\n",
       " state & account\\_length & area\\_code & international\\_plan & voice\\_mail\\_plan & number\\_vmail\\_messages & total\\_day\\_minutes & total\\_day\\_calls & total\\_day\\_charge & total\\_eve\\_minutes & total\\_eve\\_calls & total\\_eve\\_charge & total\\_night\\_minutes & total\\_night\\_calls & total\\_night\\_charge & total\\_intl\\_minutes & total\\_intl\\_calls & total\\_intl\\_charge & number\\_customer\\_service\\_calls & churn\\\\\n",
       "\\hline\n",
       "\t KS                & 128               & area\\_code\\_415 & no                & yes               & 25                & 265.1             & 110               & 45.07             & 197.4             &  99               & 16.78             & 244.7             &  91               & 11.01             & 10.0              & 3                 & 2.70              & 1                 & no               \\\\\n",
       "\t OH                & 107               & area\\_code\\_415 & no                & yes               & 26                & 161.6             & 123               & 27.47             & 195.5             & 103               & 16.62             & 254.4             & 103               & 11.45             & 13.7              & 3                 & 3.70              & 1                 & no               \\\\\n",
       "\t NJ                & 137               & area\\_code\\_415 & no                & no                &  0                & 243.4             & 114               & 41.38             & 121.2             & 110               & 10.30             & 162.6             & 104               &  7.32             & 12.2              & 5                 & 3.29              & 0                 & no               \\\\\n",
       "\t OH                &  84               & area\\_code\\_408 & yes               & no                &  0                & 299.4             &  71               & 50.90             &  61.9             &  88               &  5.26             & 196.9             &  89               &  8.86             &  6.6              & 7                 & 1.78              & 2                 & no               \\\\\n",
       "\t OK                &  75               & area\\_code\\_415 & yes               & no                &  0                & 166.7             & 113               & 28.34             & 148.3             & 122               & 12.61             & 186.9             & 121               &  8.41             & 10.1              & 3                 & 2.73              & 3                 & no               \\\\\n",
       "\t AL                & 118               & area\\_code\\_510 & yes               & no                &  0                & 223.4             &  98               & 37.98             & 220.6             & 101               & 18.75             & 203.9             & 118               &  9.18             &  6.3              & 6                 & 1.70              & 0                 & no               \\\\\n",
       "\\end{tabular}\n"
      ],
      "text/markdown": [
       "\n",
       "state | account_length | area_code | international_plan | voice_mail_plan | number_vmail_messages | total_day_minutes | total_day_calls | total_day_charge | total_eve_minutes | total_eve_calls | total_eve_charge | total_night_minutes | total_night_calls | total_night_charge | total_intl_minutes | total_intl_calls | total_intl_charge | number_customer_service_calls | churn | \n",
       "|---|---|---|---|---|---|\n",
       "| KS            | 128           | area_code_415 | no            | yes           | 25            | 265.1         | 110           | 45.07         | 197.4         |  99           | 16.78         | 244.7         |  91           | 11.01         | 10.0          | 3             | 2.70          | 1             | no            | \n",
       "| OH            | 107           | area_code_415 | no            | yes           | 26            | 161.6         | 123           | 27.47         | 195.5         | 103           | 16.62         | 254.4         | 103           | 11.45         | 13.7          | 3             | 3.70          | 1             | no            | \n",
       "| NJ            | 137           | area_code_415 | no            | no            |  0            | 243.4         | 114           | 41.38         | 121.2         | 110           | 10.30         | 162.6         | 104           |  7.32         | 12.2          | 5             | 3.29          | 0             | no            | \n",
       "| OH            |  84           | area_code_408 | yes           | no            |  0            | 299.4         |  71           | 50.90         |  61.9         |  88           |  5.26         | 196.9         |  89           |  8.86         |  6.6          | 7             | 1.78          | 2             | no            | \n",
       "| OK            |  75           | area_code_415 | yes           | no            |  0            | 166.7         | 113           | 28.34         | 148.3         | 122           | 12.61         | 186.9         | 121           |  8.41         | 10.1          | 3             | 2.73          | 3             | no            | \n",
       "| AL            | 118           | area_code_510 | yes           | no            |  0            | 223.4         |  98           | 37.98         | 220.6         | 101           | 18.75         | 203.9         | 118           |  9.18         |  6.3          | 6             | 1.70          | 0             | no            | \n",
       "\n",
       "\n"
      ],
      "text/plain": [
       "  state account_length area_code     international_plan voice_mail_plan\n",
       "1 KS    128            area_code_415 no                 yes            \n",
       "2 OH    107            area_code_415 no                 yes            \n",
       "3 NJ    137            area_code_415 no                 no             \n",
       "4 OH     84            area_code_408 yes                no             \n",
       "5 OK     75            area_code_415 yes                no             \n",
       "6 AL    118            area_code_510 yes                no             \n",
       "  number_vmail_messages total_day_minutes total_day_calls total_day_charge\n",
       "1 25                    265.1             110             45.07           \n",
       "2 26                    161.6             123             27.47           \n",
       "3  0                    243.4             114             41.38           \n",
       "4  0                    299.4              71             50.90           \n",
       "5  0                    166.7             113             28.34           \n",
       "6  0                    223.4              98             37.98           \n",
       "  total_eve_minutes total_eve_calls total_eve_charge total_night_minutes\n",
       "1 197.4              99             16.78            244.7              \n",
       "2 195.5             103             16.62            254.4              \n",
       "3 121.2             110             10.30            162.6              \n",
       "4  61.9              88              5.26            196.9              \n",
       "5 148.3             122             12.61            186.9              \n",
       "6 220.6             101             18.75            203.9              \n",
       "  total_night_calls total_night_charge total_intl_minutes total_intl_calls\n",
       "1  91               11.01              10.0               3               \n",
       "2 103               11.45              13.7               3               \n",
       "3 104                7.32              12.2               5               \n",
       "4  89                8.86               6.6               7               \n",
       "5 121                8.41              10.1               3               \n",
       "6 118                9.18               6.3               6               \n",
       "  total_intl_charge number_customer_service_calls churn\n",
       "1 2.70              1                             no   \n",
       "2 3.70              1                             no   \n",
       "3 3.29              0                             no   \n",
       "4 1.78              2                             no   \n",
       "5 2.73              3                             no   \n",
       "6 1.70              0                             no   "
      ]
     },
     "metadata": {},
     "output_type": "display_data"
    }
   ],
   "source": [
    "head(churnTrain)"
   ]
  },
  {
   "cell_type": "code",
   "execution_count": 10,
   "metadata": {
    "scrolled": true
   },
   "outputs": [
    {
     "data": {
      "text/html": [
       "<table>\n",
       "<thead><tr><th></th><th scope=col>state</th><th scope=col>yes</th><th scope=col>no</th><th scope=col>churn_rate</th></tr></thead>\n",
       "<tbody>\n",
       "\t<tr><th scope=row>5</th><td>CA       </td><td> 9       </td><td>25       </td><td>0.2647059</td></tr>\n",
       "\t<tr><th scope=row>32</th><td>NJ       </td><td>18       </td><td>50       </td><td>0.2647059</td></tr>\n",
       "\t<tr><th scope=row>44</th><td>TX       </td><td>18       </td><td>54       </td><td>0.2500000</td></tr>\n",
       "\t<tr><th scope=row>21</th><td>MD       </td><td>17       </td><td>53       </td><td>0.2428571</td></tr>\n",
       "\t<tr><th scope=row>41</th><td>SC       </td><td>14       </td><td>46       </td><td>0.2333333</td></tr>\n",
       "\t<tr><th scope=row>23</th><td>MI       </td><td>16       </td><td>57       </td><td>0.2191781</td></tr>\n",
       "</tbody>\n",
       "</table>\n"
      ],
      "text/latex": [
       "\\begin{tabular}{r|llll}\n",
       "  & state & yes & no & churn\\_rate\\\\\n",
       "\\hline\n",
       "\t5 & CA        &  9        & 25        & 0.2647059\\\\\n",
       "\t32 & NJ        & 18        & 50        & 0.2647059\\\\\n",
       "\t44 & TX        & 18        & 54        & 0.2500000\\\\\n",
       "\t21 & MD        & 17        & 53        & 0.2428571\\\\\n",
       "\t41 & SC        & 14        & 46        & 0.2333333\\\\\n",
       "\t23 & MI        & 16        & 57        & 0.2191781\\\\\n",
       "\\end{tabular}\n"
      ],
      "text/markdown": [
       "\n",
       "| <!--/--> | state | yes | no | churn_rate | \n",
       "|---|---|---|---|---|---|\n",
       "| 5 | CA        |  9        | 25        | 0.2647059 | \n",
       "| 32 | NJ        | 18        | 50        | 0.2647059 | \n",
       "| 44 | TX        | 18        | 54        | 0.2500000 | \n",
       "| 21 | MD        | 17        | 53        | 0.2428571 | \n",
       "| 41 | SC        | 14        | 46        | 0.2333333 | \n",
       "| 23 | MI        | 16        | 57        | 0.2191781 | \n",
       "\n",
       "\n"
      ],
      "text/plain": [
       "   state yes no churn_rate\n",
       "5  CA     9  25 0.2647059 \n",
       "32 NJ    18  50 0.2647059 \n",
       "44 TX    18  54 0.2500000 \n",
       "21 MD    17  53 0.2428571 \n",
       "41 SC    14  46 0.2333333 \n",
       "23 MI    16  57 0.2191781 "
      ]
     },
     "metadata": {},
     "output_type": "display_data"
    }
   ],
   "source": [
    "library(plyr)\n",
    "state_info <- ddply(churnTrain,.(state,churn),summarize,\n",
    "                  value=length(churn))\n",
    "library(reshape2)\n",
    "state_info <- dcast(state~churn,data=state_info)\n",
    "state_info$churn_rate <- state_info$yes/(state_info$yes+state_info$no)\n",
    "head(state_info[order(state_info$churn_rate,decreasing = T),])"
   ]
  },
  {
   "cell_type": "code",
   "execution_count": 77,
   "metadata": {
    "scrolled": true
   },
   "outputs": [
    {
     "name": "stderr",
     "output_type": "stream",
     "text": [
      "Using churn as value column: use value.var to override.\n",
      "Aggregation function missing: defaulting to length\n"
     ]
    },
    {
     "data": {
      "text/html": [
       "<table>\n",
       "<thead><tr><th scope=col>international_plan</th><th scope=col>yes</th><th scope=col>no</th></tr></thead>\n",
       "<tbody>\n",
       "\t<tr><td>no  </td><td>346 </td><td>2664</td></tr>\n",
       "\t<tr><td>yes </td><td>137 </td><td> 186</td></tr>\n",
       "</tbody>\n",
       "</table>\n"
      ],
      "text/latex": [
       "\\begin{tabular}{r|lll}\n",
       " international\\_plan & yes & no\\\\\n",
       "\\hline\n",
       "\t no   & 346  & 2664\\\\\n",
       "\t yes  & 137  &  186\\\\\n",
       "\\end{tabular}\n"
      ],
      "text/markdown": [
       "\n",
       "international_plan | yes | no | \n",
       "|---|---|\n",
       "| no   | 346  | 2664 | \n",
       "| yes  | 137  |  186 | \n",
       "\n",
       "\n"
      ],
      "text/plain": [
       "  international_plan yes no  \n",
       "1 no                 346 2664\n",
       "2 yes                137  186"
      ]
     },
     "metadata": {},
     "output_type": "display_data"
    },
    {
     "name": "stderr",
     "output_type": "stream",
     "text": [
      "Using churn as value column: use value.var to override.\n",
      "Aggregation function missing: defaulting to length\n"
     ]
    },
    {
     "data": {
      "text/html": [
       "<table>\n",
       "<thead><tr><th scope=col>voice_mail_plan</th><th scope=col>yes</th><th scope=col>no</th></tr></thead>\n",
       "<tbody>\n",
       "\t<tr><td>no  </td><td>403 </td><td>2008</td></tr>\n",
       "\t<tr><td>yes </td><td> 80 </td><td> 842</td></tr>\n",
       "</tbody>\n",
       "</table>\n"
      ],
      "text/latex": [
       "\\begin{tabular}{r|lll}\n",
       " voice\\_mail\\_plan & yes & no\\\\\n",
       "\\hline\n",
       "\t no   & 403  & 2008\\\\\n",
       "\t yes  &  80  &  842\\\\\n",
       "\\end{tabular}\n"
      ],
      "text/markdown": [
       "\n",
       "voice_mail_plan | yes | no | \n",
       "|---|---|\n",
       "| no   | 403  | 2008 | \n",
       "| yes  |  80  |  842 | \n",
       "\n",
       "\n"
      ],
      "text/plain": [
       "  voice_mail_plan yes no  \n",
       "1 no              403 2008\n",
       "2 yes              80  842"
      ]
     },
     "metadata": {},
     "output_type": "display_data"
    }
   ],
   "source": [
    "dcast(churnTrain, international_plan ~ churn)\n",
    "dcast(churnTrain, voice_mail_plan ~ churn)"
   ]
  },
  {
   "cell_type": "code",
   "execution_count": 88,
   "metadata": {
    "scrolled": true
   },
   "outputs": [
    {
     "data": {
      "image/png": "[encoded data removed]",
      "text/plain": [
       "plot without title"
      ]
     },
     "metadata": {},
     "output_type": "display_data"
    }
   ],
   "source": [
    "random_col <- sample(x = c(2,6:19),size=8)\n",
    "pairs(churnTrain[,random_col], pch = 21,bg = c(\"red\", \"blue\")[unclass(churnTrain$churn)])"
   ]
  },
  {
   "cell_type": "code",
   "execution_count": 94,
   "metadata": {
    "scrolled": true
   },
   "outputs": [
    {
     "data": {},
     "metadata": {},
     "output_type": "display_data"
    },
    {
     "data": {
      "image/png": "[encoded data removed]",
      "text/plain": [
       "plot without title"
      ]
     },
     "metadata": {},
     "output_type": "display_data"
    }
   ],
   "source": [
    "plt_data <- churnTrain[,c(2,6:20)]\n",
    "plt_data$churn <- ifelse(plt_data$churn==\"yes\",1,0)\n",
    "library(ggcorrplot)\n",
    "ggcorrplot(round(cor(plt_data),2), hc.order = TRUE, type = \"upper\", lab = TRUE,lab_size = 2,tl.cex = 10)"
   ]
  },
  {
   "cell_type": "markdown",
   "metadata": {},
   "source": [
    "\\begin{remark}\n",
    "- (b) Fit some basic models to the training set and tune them via resampling. What criteria should be used to evaluate the effectiveness of the models?\n",
    "\\end{remark}\n"
   ]
  },
  {
   "cell_type": "code",
   "execution_count": 107,
   "metadata": {
    "scrolled": true
   },
   "outputs": [
    {
     "data": {
      "text/html": [
       "FALSE"
      ],
      "text/latex": [
       "FALSE"
      ],
      "text/markdown": [
       "FALSE"
      ],
      "text/plain": [
       "[1] FALSE"
      ]
     },
     "metadata": {},
     "output_type": "display_data"
    }
   ],
   "source": [
    "#preProcess\n",
    "any(is.null(churnTrain))"
   ]
  },
  {
   "cell_type": "code",
   "execution_count": 108,
   "metadata": {
    "scrolled": true
   },
   "outputs": [
    {
     "data": {
      "text/html": [
       "'number_vmail_messages'"
      ],
      "text/latex": [
       "'number\\_vmail\\_messages'"
      ],
      "text/markdown": [
       "'number_vmail_messages'"
      ],
      "text/plain": [
       "[1] \"number_vmail_messages\""
      ]
     },
     "metadata": {},
     "output_type": "display_data"
    }
   ],
   "source": [
    "library(caret)\n",
    "nearZeroVar(churnTrain,names=T)\n",
    "churnTrain_flt <- churnTrain[,-nearZeroVar(churnTrain)]"
   ]
  },
  {
   "cell_type": "code",
   "execution_count": 115,
   "metadata": {
    "scrolled": false
   },
   "outputs": [
    {
     "data": {
      "text/html": [
       "<dl>\n",
       "\t<dt>$linearCombos</dt>\n",
       "\t\t<dd><ol>\n",
       "</ol>\n",
       "</dd>\n",
       "\t<dt>$remove</dt>\n",
       "\t\t<dd>NULL</dd>\n",
       "</dl>\n"
      ],
      "text/latex": [
       "\\begin{description}\n",
       "\\item[\\$linearCombos] \\begin{enumerate}\n",
       "\\end{enumerate}\n",
       "\n",
       "\\item[\\$remove] NULL\n",
       "\\end{description}\n"
      ],
      "text/markdown": [
       "$linearCombos\n",
       ":   \n",
       "\n",
       "\n",
       "$remove\n",
       ":   NULL\n",
       "\n",
       "\n"
      ],
      "text/plain": [
       "$linearCombos\n",
       "list()\n",
       "\n",
       "$remove\n",
       "NULL\n"
      ]
     },
     "metadata": {},
     "output_type": "display_data"
    }
   ],
   "source": [
    "findLinearCombos(churnTrain_flt[,c(2,6:18)])"
   ]
  },
  {
   "cell_type": "code",
   "execution_count": 126,
   "metadata": {
    "scrolled": false
   },
   "outputs": [
    {
     "data": {
      "text/html": [
       "<ol class=list-inline>\n",
       "\t<li>'total_intl_charge'</li>\n",
       "\t<li>'total_night_minutes'</li>\n",
       "\t<li>'total_eve_minutes'</li>\n",
       "\t<li>'total_day_charge'</li>\n",
       "</ol>\n"
      ],
      "text/latex": [
       "\\begin{enumerate*}\n",
       "\\item 'total\\_intl\\_charge'\n",
       "\\item 'total\\_night\\_minutes'\n",
       "\\item 'total\\_eve\\_minutes'\n",
       "\\item 'total\\_day\\_charge'\n",
       "\\end{enumerate*}\n"
      ],
      "text/markdown": [
       "1. 'total_intl_charge'\n",
       "2. 'total_night_minutes'\n",
       "3. 'total_eve_minutes'\n",
       "4. 'total_day_charge'\n",
       "\n",
       "\n"
      ],
      "text/plain": [
       "[1] \"total_intl_charge\"   \"total_night_minutes\" \"total_eve_minutes\"  \n",
       "[4] \"total_day_charge\"   "
      ]
     },
     "metadata": {},
     "output_type": "display_data"
    }
   ],
   "source": [
    "colnames(churnTrain_flt[,c(2,6:18)])[findCorrelation(cor(churnTrain_flt[,c(2,6:18)]))]\n",
    "churnTrain_flt <- subset(churnTrain_flt,select=-c(total_intl_charge,total_day_charge))"
   ]
  },
  {
   "cell_type": "code",
   "execution_count": 128,
   "metadata": {
    "scrolled": true
   },
   "outputs": [
    {
     "data": {
      "text/html": [
       "<table>\n",
       "<thead><tr><th scope=col>state</th><th scope=col>account_length</th><th scope=col>area_code</th><th scope=col>international_plan</th><th scope=col>voice_mail_plan</th><th scope=col>total_day_minutes</th><th scope=col>total_day_calls</th><th scope=col>total_eve_minutes</th><th scope=col>total_eve_calls</th><th scope=col>total_eve_charge</th><th scope=col>total_night_minutes</th><th scope=col>total_night_calls</th><th scope=col>total_night_charge</th><th scope=col>total_intl_minutes</th><th scope=col>total_intl_calls</th><th scope=col>number_customer_service_calls</th><th scope=col>churn</th></tr></thead>\n",
       "<tbody>\n",
       "\t<tr><td>KS           </td><td>128          </td><td>area_code_415</td><td>no           </td><td>yes          </td><td>265.1        </td><td>110          </td><td>197.4        </td><td> 99          </td><td>16.78        </td><td>244.7        </td><td> 91          </td><td>11.01        </td><td>10.0         </td><td>3            </td><td>1            </td><td>no           </td></tr>\n",
       "\t<tr><td>OH           </td><td>107          </td><td>area_code_415</td><td>no           </td><td>yes          </td><td>161.6        </td><td>123          </td><td>195.5        </td><td>103          </td><td>16.62        </td><td>254.4        </td><td>103          </td><td>11.45        </td><td>13.7         </td><td>3            </td><td>1            </td><td>no           </td></tr>\n",
       "\t<tr><td>NJ           </td><td>137          </td><td>area_code_415</td><td>no           </td><td>no           </td><td>243.4        </td><td>114          </td><td>121.2        </td><td>110          </td><td>10.30        </td><td>162.6        </td><td>104          </td><td> 7.32        </td><td>12.2         </td><td>5            </td><td>0            </td><td>no           </td></tr>\n",
       "\t<tr><td>OH           </td><td> 84          </td><td>area_code_408</td><td>yes          </td><td>no           </td><td>299.4        </td><td> 71          </td><td> 61.9        </td><td> 88          </td><td> 5.26        </td><td>196.9        </td><td> 89          </td><td> 8.86        </td><td> 6.6         </td><td>7            </td><td>2            </td><td>no           </td></tr>\n",
       "\t<tr><td>OK           </td><td> 75          </td><td>area_code_415</td><td>yes          </td><td>no           </td><td>166.7        </td><td>113          </td><td>148.3        </td><td>122          </td><td>12.61        </td><td>186.9        </td><td>121          </td><td> 8.41        </td><td>10.1         </td><td>3            </td><td>3            </td><td>no           </td></tr>\n",
       "\t<tr><td>AL           </td><td>118          </td><td>area_code_510</td><td>yes          </td><td>no           </td><td>223.4        </td><td> 98          </td><td>220.6        </td><td>101          </td><td>18.75        </td><td>203.9        </td><td>118          </td><td> 9.18        </td><td> 6.3         </td><td>6            </td><td>0            </td><td>no           </td></tr>\n",
       "</tbody>\n",
       "</table>\n"
      ],
      "text/latex": [
       "\\begin{tabular}{r|lllllllllllllllll}\n",
       " state & account\\_length & area\\_code & international\\_plan & voice\\_mail\\_plan & total\\_day\\_minutes & total\\_day\\_calls & total\\_eve\\_minutes & total\\_eve\\_calls & total\\_eve\\_charge & total\\_night\\_minutes & total\\_night\\_calls & total\\_night\\_charge & total\\_intl\\_minutes & total\\_intl\\_calls & number\\_customer\\_service\\_calls & churn\\\\\n",
       "\\hline\n",
       "\t KS                & 128               & area\\_code\\_415 & no                & yes               & 265.1             & 110               & 197.4             &  99               & 16.78             & 244.7             &  91               & 11.01             & 10.0              & 3                 & 1                 & no               \\\\\n",
       "\t OH                & 107               & area\\_code\\_415 & no                & yes               & 161.6             & 123               & 195.5             & 103               & 16.62             & 254.4             & 103               & 11.45             & 13.7              & 3                 & 1                 & no               \\\\\n",
       "\t NJ                & 137               & area\\_code\\_415 & no                & no                & 243.4             & 114               & 121.2             & 110               & 10.30             & 162.6             & 104               &  7.32             & 12.2              & 5                 & 0                 & no               \\\\\n",
       "\t OH                &  84               & area\\_code\\_408 & yes               & no                & 299.4             &  71               &  61.9             &  88               &  5.26             & 196.9             &  89               &  8.86             &  6.6              & 7                 & 2                 & no               \\\\\n",
       "\t OK                &  75               & area\\_code\\_415 & yes               & no                & 166.7             & 113               & 148.3             & 122               & 12.61             & 186.9             & 121               &  8.41             & 10.1              & 3                 & 3                 & no               \\\\\n",
       "\t AL                & 118               & area\\_code\\_510 & yes               & no                & 223.4             &  98               & 220.6             & 101               & 18.75             & 203.9             & 118               &  9.18             &  6.3              & 6                 & 0                 & no               \\\\\n",
       "\\end{tabular}\n"
      ],
      "text/markdown": [
       "\n",
       "state | account_length | area_code | international_plan | voice_mail_plan | total_day_minutes | total_day_calls | total_eve_minutes | total_eve_calls | total_eve_charge | total_night_minutes | total_night_calls | total_night_charge | total_intl_minutes | total_intl_calls | number_customer_service_calls | churn | \n",
       "|---|---|---|---|---|---|\n",
       "| KS            | 128           | area_code_415 | no            | yes           | 265.1         | 110           | 197.4         |  99           | 16.78         | 244.7         |  91           | 11.01         | 10.0          | 3             | 1             | no            | \n",
       "| OH            | 107           | area_code_415 | no            | yes           | 161.6         | 123           | 195.5         | 103           | 16.62         | 254.4         | 103           | 11.45         | 13.7          | 3             | 1             | no            | \n",
       "| NJ            | 137           | area_code_415 | no            | no            | 243.4         | 114           | 121.2         | 110           | 10.30         | 162.6         | 104           |  7.32         | 12.2          | 5             | 0             | no            | \n",
       "| OH            |  84           | area_code_408 | yes           | no            | 299.4         |  71           |  61.9         |  88           |  5.26         | 196.9         |  89           |  8.86         |  6.6          | 7             | 2             | no            | \n",
       "| OK            |  75           | area_code_415 | yes           | no            | 166.7         | 113           | 148.3         | 122           | 12.61         | 186.9         | 121           |  8.41         | 10.1          | 3             | 3             | no            | \n",
       "| AL            | 118           | area_code_510 | yes           | no            | 223.4         |  98           | 220.6         | 101           | 18.75         | 203.9         | 118           |  9.18         |  6.3          | 6             | 0             | no            | \n",
       "\n",
       "\n"
      ],
      "text/plain": [
       "  state account_length area_code     international_plan voice_mail_plan\n",
       "1 KS    128            area_code_415 no                 yes            \n",
       "2 OH    107            area_code_415 no                 yes            \n",
       "3 NJ    137            area_code_415 no                 no             \n",
       "4 OH     84            area_code_408 yes                no             \n",
       "5 OK     75            area_code_415 yes                no             \n",
       "6 AL    118            area_code_510 yes                no             \n",
       "  total_day_minutes total_day_calls total_eve_minutes total_eve_calls\n",
       "1 265.1             110             197.4              99            \n",
       "2 161.6             123             195.5             103            \n",
       "3 243.4             114             121.2             110            \n",
       "4 299.4              71              61.9              88            \n",
       "5 166.7             113             148.3             122            \n",
       "6 223.4              98             220.6             101            \n",
       "  total_eve_charge total_night_minutes total_night_calls total_night_charge\n",
       "1 16.78            244.7                91               11.01             \n",
       "2 16.62            254.4               103               11.45             \n",
       "3 10.30            162.6               104                7.32             \n",
       "4  5.26            196.9                89                8.86             \n",
       "5 12.61            186.9               121                8.41             \n",
       "6 18.75            203.9               118                9.18             \n",
       "  total_intl_minutes total_intl_calls number_customer_service_calls churn\n",
       "1 10.0               3                1                             no   \n",
       "2 13.7               3                1                             no   \n",
       "3 12.2               5                0                             no   \n",
       "4  6.6               7                2                             no   \n",
       "5 10.1               3                3                             no   \n",
       "6  6.3               6                0                             no   "
      ]
     },
     "metadata": {},
     "output_type": "display_data"
    }
   ],
   "source": [
    "head(churnTrain_flt)"
   ]
  },
  {
   "cell_type": "code",
   "execution_count": 131,
   "metadata": {},
   "outputs": [
    {
     "data": {
      "text/html": [
       "<ol class=list-inline>\n",
       "\t<li>3333</li>\n",
       "\t<li>17</li>\n",
       "</ol>\n"
      ],
      "text/latex": [
       "\\begin{enumerate*}\n",
       "\\item 3333\n",
       "\\item 17\n",
       "\\end{enumerate*}\n"
      ],
      "text/markdown": [
       "1. 3333\n",
       "2. 17\n",
       "\n",
       "\n"
      ],
      "text/plain": [
       "[1] 3333   17"
      ]
     },
     "metadata": {},
     "output_type": "display_data"
    }
   ],
   "source": [
    "dim(churnTrain_flt)"
   ]
  },
  {
   "cell_type": "code",
   "execution_count": 132,
   "metadata": {
    "scrolled": true
   },
   "outputs": [
    {
     "name": "stderr",
     "output_type": "stream",
     "text": [
      "Warning message in train.default(churnTrain_flt[, 1:16], churnTrain_flt$churn, method = \"glm\", :\n",
      "\"The metric \"Accuracy\" was not in the result set. ROC will be used instead.\""
     ]
    },
    {
     "data": {
      "text/plain": [
       "Generalized Linear Model \n",
       "\n",
       "3333 samples\n",
       "  16 predictor\n",
       "   2 classes: 'yes', 'no' \n",
       "\n",
       "No pre-processing\n",
       "Resampling: Cross-Validated (10 fold, repeated 10 times) \n",
       "Summary of sample sizes: 3000, 3000, 3000, 3000, 3000, 2999, ... \n",
       "Resampling results:\n",
       "\n",
       "  ROC        Sens       Spec     \n",
       "  0.8055738  0.2333291  0.9652632\n"
      ]
     },
     "metadata": {},
     "output_type": "display_data"
    }
   ],
   "source": [
    "ctrl <- trainControl(summaryFunction = twoClassSummary,classProbs = T,\n",
    "                    savePredictions=T,method=\"repeatedcv\",number=10,repeats=10)\n",
    "set.seed(456)\n",
    "fit_lr <- train(churnTrain_flt[,1:16],churnTrain_flt$churn,method=\"glm\",trControl = ctrl)\n",
    "fit_lr"
   ]
  },
  {
   "cell_type": "code",
   "execution_count": 135,
   "metadata": {
    "scrolled": true
   },
   "outputs": [
    {
     "data": {},
     "metadata": {},
     "output_type": "display_data"
    },
    {
     "data": {
      "image/png": "[encoded data removed]",
      "text/plain": [
       "plot without title"
      ]
     },
     "metadata": {},
     "output_type": "display_data"
    }
   ],
   "source": [
    "trellis.par.set(caretTheme())\n",
    "densityplot(fit_lr, pch = \"|\")"
   ]
  },
  {
   "cell_type": "code",
   "execution_count": 137,
   "metadata": {
    "scrolled": true
   },
   "outputs": [
    {
     "data": {
      "text/plain": [
       "Confusion Matrix and Statistics\n",
       "\n",
       "          Reference\n",
       "Prediction  yes   no\n",
       "       yes  126   85\n",
       "       no   357 2765\n",
       "                                          \n",
       "               Accuracy : 0.8674          \n",
       "                 95% CI : (0.8554, 0.8787)\n",
       "    No Information Rate : 0.8551          \n",
       "    P-Value [Acc > NIR] : 0.02217         \n",
       "                                          \n",
       "                  Kappa : 0.3016          \n",
       " Mcnemar's Test P-Value : < 2e-16         \n",
       "                                          \n",
       "            Sensitivity : 0.26087         \n",
       "            Specificity : 0.97018         \n",
       "         Pos Pred Value : 0.59716         \n",
       "         Neg Pred Value : 0.88565         \n",
       "             Prevalence : 0.14491         \n",
       "         Detection Rate : 0.03780         \n",
       "   Detection Prevalence : 0.06331         \n",
       "      Balanced Accuracy : 0.61552         \n",
       "                                          \n",
       "       'Positive' Class : yes             \n",
       "                                          "
      ]
     },
     "metadata": {},
     "output_type": "display_data"
    }
   ],
   "source": [
    "confusionMatrix(reference = churnTrain_flt$churn,data = predict(fit_lr,newdata = churnTrain_flt[,1:16]) )"
   ]
  },
  {
   "cell_type": "code",
   "execution_count": 143,
   "metadata": {
    "scrolled": true
   },
   "outputs": [
    {
     "data": {
      "text/plain": [
       "Confusion Matrix and Statistics\n",
       "\n",
       "          Reference\n",
       "Prediction  yes   no\n",
       "       yes   55   45\n",
       "       no   169 1398\n",
       "                                          \n",
       "               Accuracy : 0.8716          \n",
       "                 95% CI : (0.8546, 0.8873)\n",
       "    No Information Rate : 0.8656          \n",
       "    P-Value [Acc > NIR] : 0.249           \n",
       "                                          \n",
       "                  Kappa : 0.2798          \n",
       " Mcnemar's Test P-Value : <2e-16          \n",
       "                                          \n",
       "            Sensitivity : 0.24554         \n",
       "            Specificity : 0.96881         \n",
       "         Pos Pred Value : 0.55000         \n",
       "         Neg Pred Value : 0.89215         \n",
       "             Prevalence : 0.13437         \n",
       "         Detection Rate : 0.03299         \n",
       "   Detection Prevalence : 0.05999         \n",
       "      Balanced Accuracy : 0.60718         \n",
       "                                          \n",
       "       'Positive' Class : yes             \n",
       "                                          "
      ]
     },
     "metadata": {},
     "output_type": "display_data"
    }
   ],
   "source": [
    "churnTest_flt <- churnTest[,colnames(churnTest) %in% colnames(churnTrain_flt)]\n",
    "confusionMatrix(reference = churnTest_flt$churn,data = predict(fit_lr,newdata = churnTest_flt[,1:16]) )"
   ]
  },
  {
   "cell_type": "code",
   "execution_count": 144,
   "metadata": {
    "scrolled": true
   },
   "outputs": [
    {
     "data": {
      "text/html": [
       "<table>\n",
       "<thead><tr><th scope=col>yes</th><th scope=col>no</th></tr></thead>\n",
       "<tbody>\n",
       "\t<tr><td>0.027152291</td><td>0.9728477  </td></tr>\n",
       "\t<tr><td>0.126052513</td><td>0.8739475  </td></tr>\n",
       "\t<tr><td>0.205659152</td><td>0.7943408  </td></tr>\n",
       "\t<tr><td>0.098498934</td><td>0.9015011  </td></tr>\n",
       "\t<tr><td>0.148331912</td><td>0.8516681  </td></tr>\n",
       "\t<tr><td>0.032226136</td><td>0.9677739  </td></tr>\n",
       "\t<tr><td>0.046521246</td><td>0.9534788  </td></tr>\n",
       "\t<tr><td>0.044573543</td><td>0.9554265  </td></tr>\n",
       "\t<tr><td>0.016378378</td><td>0.9836216  </td></tr>\n",
       "\t<tr><td>0.035480894</td><td>0.9645191  </td></tr>\n",
       "\t<tr><td>0.023329339</td><td>0.9766707  </td></tr>\n",
       "\t<tr><td>0.069517012</td><td>0.9304830  </td></tr>\n",
       "\t<tr><td>0.106437403</td><td>0.8935626  </td></tr>\n",
       "\t<tr><td>0.013220230</td><td>0.9867798  </td></tr>\n",
       "\t<tr><td>0.077046954</td><td>0.9229530  </td></tr>\n",
       "\t<tr><td>0.159807719</td><td>0.8401923  </td></tr>\n",
       "\t<tr><td>0.027158916</td><td>0.9728411  </td></tr>\n",
       "\t<tr><td>0.272153461</td><td>0.7278465  </td></tr>\n",
       "\t<tr><td>0.131472118</td><td>0.8685279  </td></tr>\n",
       "\t<tr><td>0.019567728</td><td>0.9804323  </td></tr>\n",
       "\t<tr><td>0.035994607</td><td>0.9640054  </td></tr>\n",
       "\t<tr><td>0.043016285</td><td>0.9569837  </td></tr>\n",
       "\t<tr><td>0.008693719</td><td>0.9913063  </td></tr>\n",
       "\t<tr><td>0.049956543</td><td>0.9500435  </td></tr>\n",
       "\t<tr><td>0.063459919</td><td>0.9365401  </td></tr>\n",
       "\t<tr><td>0.319030112</td><td>0.6809699  </td></tr>\n",
       "\t<tr><td>0.010639138</td><td>0.9893609  </td></tr>\n",
       "\t<tr><td>0.224571880</td><td>0.7754281  </td></tr>\n",
       "\t<tr><td>0.086049126</td><td>0.9139509  </td></tr>\n",
       "\t<tr><td>0.169369739</td><td>0.8306303  </td></tr>\n",
       "\t<tr><td>...</td><td>...</td></tr>\n",
       "\t<tr><td>0.147999902</td><td>0.8520001  </td></tr>\n",
       "\t<tr><td>0.004237295</td><td>0.9957627  </td></tr>\n",
       "\t<tr><td>0.051191779</td><td>0.9488082  </td></tr>\n",
       "\t<tr><td>0.119776456</td><td>0.8802235  </td></tr>\n",
       "\t<tr><td>0.016813496</td><td>0.9831865  </td></tr>\n",
       "\t<tr><td>0.034958251</td><td>0.9650417  </td></tr>\n",
       "\t<tr><td>0.062590190</td><td>0.9374098  </td></tr>\n",
       "\t<tr><td>0.063813209</td><td>0.9361868  </td></tr>\n",
       "\t<tr><td>0.261017583</td><td>0.7389824  </td></tr>\n",
       "\t<tr><td>0.194050732</td><td>0.8059493  </td></tr>\n",
       "\t<tr><td>0.555776048</td><td>0.4442240  </td></tr>\n",
       "\t<tr><td>0.007196412</td><td>0.9928036  </td></tr>\n",
       "\t<tr><td>0.476290697</td><td>0.5237093  </td></tr>\n",
       "\t<tr><td>0.068604122</td><td>0.9313959  </td></tr>\n",
       "\t<tr><td>0.029657822</td><td>0.9703422  </td></tr>\n",
       "\t<tr><td>0.076211715</td><td>0.9237883  </td></tr>\n",
       "\t<tr><td>0.307658837</td><td>0.6923412  </td></tr>\n",
       "\t<tr><td>0.021976887</td><td>0.9780231  </td></tr>\n",
       "\t<tr><td>0.201954373</td><td>0.7980456  </td></tr>\n",
       "\t<tr><td>0.061241482</td><td>0.9387585  </td></tr>\n",
       "\t<tr><td>0.105794174</td><td>0.8942058  </td></tr>\n",
       "\t<tr><td>0.202685882</td><td>0.7973141  </td></tr>\n",
       "\t<tr><td>0.132533688</td><td>0.8674663  </td></tr>\n",
       "\t<tr><td>0.080304224</td><td>0.9196958  </td></tr>\n",
       "\t<tr><td>0.024565036</td><td>0.9754350  </td></tr>\n",
       "\t<tr><td>0.058900628</td><td>0.9410994  </td></tr>\n",
       "\t<tr><td>0.329987033</td><td>0.6700130  </td></tr>\n",
       "\t<tr><td>0.039840004</td><td>0.9601600  </td></tr>\n",
       "\t<tr><td>0.024164959</td><td>0.9758350  </td></tr>\n",
       "\t<tr><td>0.002011270</td><td>0.9979887  </td></tr>\n",
       "</tbody>\n",
       "</table>\n"
      ],
      "text/latex": [
       "\\begin{tabular}{r|ll}\n",
       " yes & no\\\\\n",
       "\\hline\n",
       "\t 0.027152291 & 0.9728477  \\\\\n",
       "\t 0.126052513 & 0.8739475  \\\\\n",
       "\t 0.205659152 & 0.7943408  \\\\\n",
       "\t 0.098498934 & 0.9015011  \\\\\n",
       "\t 0.148331912 & 0.8516681  \\\\\n",
       "\t 0.032226136 & 0.9677739  \\\\\n",
       "\t 0.046521246 & 0.9534788  \\\\\n",
       "\t 0.044573543 & 0.9554265  \\\\\n",
       "\t 0.016378378 & 0.9836216  \\\\\n",
       "\t 0.035480894 & 0.9645191  \\\\\n",
       "\t 0.023329339 & 0.9766707  \\\\\n",
       "\t 0.069517012 & 0.9304830  \\\\\n",
       "\t 0.106437403 & 0.8935626  \\\\\n",
       "\t 0.013220230 & 0.9867798  \\\\\n",
       "\t 0.077046954 & 0.9229530  \\\\\n",
       "\t 0.159807719 & 0.8401923  \\\\\n",
       "\t 0.027158916 & 0.9728411  \\\\\n",
       "\t 0.272153461 & 0.7278465  \\\\\n",
       "\t 0.131472118 & 0.8685279  \\\\\n",
       "\t 0.019567728 & 0.9804323  \\\\\n",
       "\t 0.035994607 & 0.9640054  \\\\\n",
       "\t 0.043016285 & 0.9569837  \\\\\n",
       "\t 0.008693719 & 0.9913063  \\\\\n",
       "\t 0.049956543 & 0.9500435  \\\\\n",
       "\t 0.063459919 & 0.9365401  \\\\\n",
       "\t 0.319030112 & 0.6809699  \\\\\n",
       "\t 0.010639138 & 0.9893609  \\\\\n",
       "\t 0.224571880 & 0.7754281  \\\\\n",
       "\t 0.086049126 & 0.9139509  \\\\\n",
       "\t 0.169369739 & 0.8306303  \\\\\n",
       "\t ... & ...\\\\\n",
       "\t 0.147999902 & 0.8520001  \\\\\n",
       "\t 0.004237295 & 0.9957627  \\\\\n",
       "\t 0.051191779 & 0.9488082  \\\\\n",
       "\t 0.119776456 & 0.8802235  \\\\\n",
       "\t 0.016813496 & 0.9831865  \\\\\n",
       "\t 0.034958251 & 0.9650417  \\\\\n",
       "\t 0.062590190 & 0.9374098  \\\\\n",
       "\t 0.063813209 & 0.9361868  \\\\\n",
       "\t 0.261017583 & 0.7389824  \\\\\n",
       "\t 0.194050732 & 0.8059493  \\\\\n",
       "\t 0.555776048 & 0.4442240  \\\\\n",
       "\t 0.007196412 & 0.9928036  \\\\\n",
       "\t 0.476290697 & 0.5237093  \\\\\n",
       "\t 0.068604122 & 0.9313959  \\\\\n",
       "\t 0.029657822 & 0.9703422  \\\\\n",
       "\t 0.076211715 & 0.9237883  \\\\\n",
       "\t 0.307658837 & 0.6923412  \\\\\n",
       "\t 0.021976887 & 0.9780231  \\\\\n",
       "\t 0.201954373 & 0.7980456  \\\\\n",
       "\t 0.061241482 & 0.9387585  \\\\\n",
       "\t 0.105794174 & 0.8942058  \\\\\n",
       "\t 0.202685882 & 0.7973141  \\\\\n",
       "\t 0.132533688 & 0.8674663  \\\\\n",
       "\t 0.080304224 & 0.9196958  \\\\\n",
       "\t 0.024565036 & 0.9754350  \\\\\n",
       "\t 0.058900628 & 0.9410994  \\\\\n",
       "\t 0.329987033 & 0.6700130  \\\\\n",
       "\t 0.039840004 & 0.9601600  \\\\\n",
       "\t 0.024164959 & 0.9758350  \\\\\n",
       "\t 0.002011270 & 0.9979887  \\\\\n",
       "\\end{tabular}\n"
      ],
      "text/markdown": [
       "\n",
       "yes | no | \n",
       "|---|---|---|---|---|---|---|---|---|---|---|---|---|---|---|---|---|---|---|---|---|---|---|---|---|---|---|---|---|---|---|---|---|---|---|---|---|---|---|---|---|---|---|---|---|---|---|---|---|---|---|---|---|---|---|---|---|---|---|---|---|\n",
       "| 0.027152291 | 0.9728477   | \n",
       "| 0.126052513 | 0.8739475   | \n",
       "| 0.205659152 | 0.7943408   | \n",
       "| 0.098498934 | 0.9015011   | \n",
       "| 0.148331912 | 0.8516681   | \n",
       "| 0.032226136 | 0.9677739   | \n",
       "| 0.046521246 | 0.9534788   | \n",
       "| 0.044573543 | 0.9554265   | \n",
       "| 0.016378378 | 0.9836216   | \n",
       "| 0.035480894 | 0.9645191   | \n",
       "| 0.023329339 | 0.9766707   | \n",
       "| 0.069517012 | 0.9304830   | \n",
       "| 0.106437403 | 0.8935626   | \n",
       "| 0.013220230 | 0.9867798   | \n",
       "| 0.077046954 | 0.9229530   | \n",
       "| 0.159807719 | 0.8401923   | \n",
       "| 0.027158916 | 0.9728411   | \n",
       "| 0.272153461 | 0.7278465   | \n",
       "| 0.131472118 | 0.8685279   | \n",
       "| 0.019567728 | 0.9804323   | \n",
       "| 0.035994607 | 0.9640054   | \n",
       "| 0.043016285 | 0.9569837   | \n",
       "| 0.008693719 | 0.9913063   | \n",
       "| 0.049956543 | 0.9500435   | \n",
       "| 0.063459919 | 0.9365401   | \n",
       "| 0.319030112 | 0.6809699   | \n",
       "| 0.010639138 | 0.9893609   | \n",
       "| 0.224571880 | 0.7754281   | \n",
       "| 0.086049126 | 0.9139509   | \n",
       "| 0.169369739 | 0.8306303   | \n",
       "| ... | ... | \n",
       "| 0.147999902 | 0.8520001   | \n",
       "| 0.004237295 | 0.9957627   | \n",
       "| 0.051191779 | 0.9488082   | \n",
       "| 0.119776456 | 0.8802235   | \n",
       "| 0.016813496 | 0.9831865   | \n",
       "| 0.034958251 | 0.9650417   | \n",
       "| 0.062590190 | 0.9374098   | \n",
       "| 0.063813209 | 0.9361868   | \n",
       "| 0.261017583 | 0.7389824   | \n",
       "| 0.194050732 | 0.8059493   | \n",
       "| 0.555776048 | 0.4442240   | \n",
       "| 0.007196412 | 0.9928036   | \n",
       "| 0.476290697 | 0.5237093   | \n",
       "| 0.068604122 | 0.9313959   | \n",
       "| 0.029657822 | 0.9703422   | \n",
       "| 0.076211715 | 0.9237883   | \n",
       "| 0.307658837 | 0.6923412   | \n",
       "| 0.021976887 | 0.9780231   | \n",
       "| 0.201954373 | 0.7980456   | \n",
       "| 0.061241482 | 0.9387585   | \n",
       "| 0.105794174 | 0.8942058   | \n",
       "| 0.202685882 | 0.7973141   | \n",
       "| 0.132533688 | 0.8674663   | \n",
       "| 0.080304224 | 0.9196958   | \n",
       "| 0.024565036 | 0.9754350   | \n",
       "| 0.058900628 | 0.9410994   | \n",
       "| 0.329987033 | 0.6700130   | \n",
       "| 0.039840004 | 0.9601600   | \n",
       "| 0.024164959 | 0.9758350   | \n",
       "| 0.002011270 | 0.9979887   | \n",
       "\n",
       "\n"
      ],
      "text/plain": [
       "     yes         no       \n",
       "1    0.027152291 0.9728477\n",
       "2    0.126052513 0.8739475\n",
       "3    0.205659152 0.7943408\n",
       "4    0.098498934 0.9015011\n",
       "5    0.148331912 0.8516681\n",
       "6    0.032226136 0.9677739\n",
       "7    0.046521246 0.9534788\n",
       "8    0.044573543 0.9554265\n",
       "9    0.016378378 0.9836216\n",
       "10   0.035480894 0.9645191\n",
       "11   0.023329339 0.9766707\n",
       "12   0.069517012 0.9304830\n",
       "13   0.106437403 0.8935626\n",
       "14   0.013220230 0.9867798\n",
       "15   0.077046954 0.9229530\n",
       "16   0.159807719 0.8401923\n",
       "17   0.027158916 0.9728411\n",
       "18   0.272153461 0.7278465\n",
       "19   0.131472118 0.8685279\n",
       "20   0.019567728 0.9804323\n",
       "21   0.035994607 0.9640054\n",
       "22   0.043016285 0.9569837\n",
       "23   0.008693719 0.9913063\n",
       "24   0.049956543 0.9500435\n",
       "25   0.063459919 0.9365401\n",
       "26   0.319030112 0.6809699\n",
       "27   0.010639138 0.9893609\n",
       "28   0.224571880 0.7754281\n",
       "29   0.086049126 0.9139509\n",
       "30   0.169369739 0.8306303\n",
       "...  ...         ...      \n",
       "1638 0.147999902 0.8520001\n",
       "1639 0.004237295 0.9957627\n",
       "1640 0.051191779 0.9488082\n",
       "1641 0.119776456 0.8802235\n",
       "1642 0.016813496 0.9831865\n",
       "1643 0.034958251 0.9650417\n",
       "1644 0.062590190 0.9374098\n",
       "1645 0.063813209 0.9361868\n",
       "1646 0.261017583 0.7389824\n",
       "1647 0.194050732 0.8059493\n",
       "1648 0.555776048 0.4442240\n",
       "1649 0.007196412 0.9928036\n",
       "1650 0.476290697 0.5237093\n",
       "1651 0.068604122 0.9313959\n",
       "1652 0.029657822 0.9703422\n",
       "1653 0.076211715 0.9237883\n",
       "1654 0.307658837 0.6923412\n",
       "1655 0.021976887 0.9780231\n",
       "1656 0.201954373 0.7980456\n",
       "1657 0.061241482 0.9387585\n",
       "1658 0.105794174 0.8942058\n",
       "1659 0.202685882 0.7973141\n",
       "1660 0.132533688 0.8674663\n",
       "1661 0.080304224 0.9196958\n",
       "1662 0.024565036 0.9754350\n",
       "1663 0.058900628 0.9410994\n",
       "1664 0.329987033 0.6700130\n",
       "1665 0.039840004 0.9601600\n",
       "1666 0.024164959 0.9758350\n",
       "1667 0.002011270 0.9979887"
      ]
     },
     "metadata": {},
     "output_type": "display_data"
    }
   ],
   "source": [
    "predict(fit_lr,newdata = churnTest_flt[,1:16],type=\"prob\")"
   ]
  },
  {
   "cell_type": "code",
   "execution_count": 150,
   "metadata": {
    "scrolled": false
   },
   "outputs": [
    {
     "data": {
      "image/png": "[encoded data removed]",
      "text/plain": [
       "plot without title"
      ]
     },
     "metadata": {},
     "output_type": "display_data"
    }
   ],
   "source": [
    "library(pROC)\n",
    "pred_trn <- predict(fit_lr,newdata = churnTrain_flt[,1:16],type=\"prob\")\n",
    "roc_lr_trn <- pROC::roc(response=churnTrain_flt$churn,predictor=pred_trn[,1],levels=rev(levels(churnTrain_flt$churn)))\n",
    "\n",
    "pred_vld <- predict(fit_lr,newdata = churnTest_flt[,1:16],type=\"prob\")\n",
    "roc_lr_vld <- pROC::roc(response=churnTest_flt$churn,predictor=pred_vld[,1],levels=rev(levels(churnTest_flt$churn)))\n",
    "\n",
    "plot( roc_lr_trn, legacy.axes=T, add=F, col=\"navy\")\n",
    "plot( roc_lr_vld, legacy.axes=T, add=T, col=\"pink\" )"
   ]
  },
  {
   "cell_type": "markdown",
   "metadata": {},
   "source": [
    "\\begin{remark}\n",
    "(c) Use lift charts to compare models. If you wanted to identify 80 % of the churning customers, how many other customers would also be identified?\n",
    "\\end{remark}\n"
   ]
  },
  {
   "cell_type": "code",
   "execution_count": 164,
   "metadata": {
    "scrolled": true
   },
   "outputs": [
    {
     "data": {},
     "metadata": {},
     "output_type": "display_data"
    },
    {
     "data": {
      "image/png": "[encoded data removed]",
      "text/plain": [
       "plot without title"
      ]
     },
     "metadata": {},
     "output_type": "display_data"
    }
   ],
   "source": [
    "lift_trn <- lift(churnTrain_flt$churn~pred_trn[,1])\n",
    "plot(lift_trn,grid = T)"
   ]
  },
  {
   "cell_type": "code",
   "execution_count": 166,
   "metadata": {},
   "outputs": [
    {
     "data": {
      "image/png": "[encoded data removed]",
      "text/plain": [
       "Plot with title \"Lift Chart\""
      ]
     },
     "metadata": {},
     "output_type": "display_data"
    }
   ],
   "source": [
    "require(ROCR)\n",
    "pred <- prediction(predictions = pred_trn[,1],labels = churnTrain_flt$churn )\n",
    "par(mfrow = c(2, 2))\n",
    "gain <- performance(pred, \"tpr\", \"rpp\")\n",
    "plot(gain, main = \"Gain Chart\")\n",
    "lift <- performance(pred, \"lift\", \"rpp\")\n",
    "plot(lift, main = \"Lift Chart\")"
   ]
  },
  {
   "cell_type": "markdown",
   "metadata": {},
   "source": [
    "---\n",
    "&#x1F37A; `Drunk Coding`\n",
    "\n",
    "http://www2.cs.uregina.ca/~dbd/cs831/notes/lift_chart/lift_chart.html"
   ]
  }
 ],
 "metadata": {
  "kernelspec": {
   "display_name": "R",
   "language": "R",
   "name": "ir"
  },
  "language_info": {
   "codemirror_mode": "r",
   "file_extension": ".r",
   "mimetype": "text/x-r-source",
   "name": "R",
   "pygments_lexer": "r",
   "version": "3.5.1"
  },
  "latex_envs": {
   "LaTeX_envs_menu_present": true,
   "autoclose": false,
   "autocomplete": true,
   "bibliofile": "biblio.bib",
   "cite_by": "apalike",
   "current_citInitial": 1,
   "eqLabelWithNumbers": true,
   "eqNumInitial": 1,
   "hotkeys": {
    "equation": "Ctrl-E",
    "itemize": "Ctrl-I"
   },
   "labels_anchors": false,
   "latex_user_defs": false,
   "report_style_numbering": false,
   "user_envs_cfg": false
  },
  "toc": {
   "base_numbering": 1,
   "nav_menu": {},
   "number_sections": true,
   "sideBar": true,
   "skip_h1_title": false,
   "title_cell": "Table of Contents",
   "title_sidebar": "Contents",
   "toc_cell": false,
   "toc_position": {},
   "toc_section_display": true,
   "toc_window_display": false
  }
 },
 "nbformat": 4,
 "nbformat_minor": 2
}
