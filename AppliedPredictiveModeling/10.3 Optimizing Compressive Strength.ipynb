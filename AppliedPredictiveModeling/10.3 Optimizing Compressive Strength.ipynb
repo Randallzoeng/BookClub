{
 "cells": [
  {
   "cell_type": "code",
   "execution_count": 1,
   "metadata": {
    "scrolled": true
   },
   "outputs": [
    {
     "name": "stderr",
     "output_type": "stream",
     "text": [
      "Warning message:\n",
      "“package ‘AppliedPredictiveModeling’ was built under R version 3.4.4”"
     ]
    }
   ],
   "source": [
    "library(AppliedPredictiveModeling)\n",
    "data(concrete)"
   ]
  },
  {
   "cell_type": "code",
   "execution_count": 4,
   "metadata": {},
   "outputs": [],
   "source": [
    "library(plyr)\n",
    "averaged <- ddply(mixtures,.(Cement,BlastFurnaceSlag,FlyAsh,Water,\n",
    "                            Superplasticizer,CoarseAggregate,FineAggregate,Age),\n",
    "                 function(x) c(CompressiveStrength=mean(x$CompressiveStrength)))"
   ]
  },
  {
   "cell_type": "code",
   "execution_count": 5,
   "metadata": {},
   "outputs": [],
   "source": [
    "library(caret)\n",
    "set.seed(830)\n",
    "trn_id <- createDataPartition(averaged$CompressiveStrength,p=3/4,list=F)\n",
    "trn <- averaged[trn_id,]\n",
    "vld <- averaged[-trn_id,]"
   ]
  },
  {
   "cell_type": "code",
   "execution_count": 3,
   "metadata": {},
   "outputs": [],
   "source": [
    "library(parallel)\n",
    "setDefaultCluster(makeCluster(4))"
   ]
  },
  {
   "cell_type": "code",
   "execution_count": 8,
   "metadata": {},
   "outputs": [],
   "source": [
    "set.seed(830)\n",
    "ctrl <- trainControl(method = \"repeatedcv\",repeats = 5,number=10)\n",
    "grid_cubist <- expand.grid(\n",
    "                           committees=c(1,5,10,50,75,100),\n",
    "                           neighbors=c(0,1,3,5,7,9)\n",
    "                          )\n",
    "fit_cubist <- train(CompressiveStrength~.,data=trn,method = \"cubist\",\n",
    "                   tuneGrid=grid_cubist,trControl=ctrl)\n"
   ]
  },
  {
   "cell_type": "code",
   "execution_count": 9,
   "metadata": {},
   "outputs": [
    {
     "data": {
      "text/html": [
       "<table>\n",
       "<thead><tr><th></th><th scope=col>committees</th><th scope=col>neighbors</th></tr></thead>\n",
       "<tbody>\n",
       "\t<tr><th scope=row>33</th><td>100</td><td>3  </td></tr>\n",
       "</tbody>\n",
       "</table>\n"
      ],
      "text/latex": [
       "\\begin{tabular}{r|ll}\n",
       "  & committees & neighbors\\\\\n",
       "\\hline\n",
       "\t33 & 100 & 3  \\\\\n",
       "\\end{tabular}\n"
      ],
      "text/markdown": [
       "\n",
       "| <!--/--> | committees | neighbors | \n",
       "|---|\n",
       "| 33 | 100 | 3   | \n",
       "\n",
       "\n"
      ],
      "text/plain": [
       "   committees neighbors\n",
       "33 100        3        "
      ]
     },
     "metadata": {},
     "output_type": "display_data"
    }
   ],
   "source": [
    "fit_cubist$bestTune"
   ]
  },
  {
   "cell_type": "code",
   "execution_count": 14,
   "metadata": {},
   "outputs": [],
   "source": [
    "### Create a function to maximize compressive strength* while keeping\n",
    "### the predictor values as mixtures. Water (in x[7]) is used as the \n",
    "### 'slack variable'. \n",
    "modelPrediction <- function(x, mod, limit = 2500)\n",
    "{\n",
    "  if(x[1] < 0 | x[1] > 1) return(10^38)\n",
    "  if(x[2] < 0 | x[2] > 1) return(10^38)\n",
    "  if(x[3] < 0 | x[3] > 1) return(10^38)\n",
    "  if(x[4] < 0 | x[4] > 1) return(10^38)\n",
    "  if(x[5] < 0 | x[5] > 1) return(10^38)\n",
    "  if(x[6] < 0 | x[6] > 1) return(10^38)\n",
    "  \n",
    "  x <- c(x, 1 - sum(x))\n",
    "  \n",
    "  if(x[7] < 0.05) return(10^38)\n",
    "  \n",
    "  tmp <- as.data.frame(t(x))\n",
    "  names(tmp) <- c('Cement','BlastFurnaceSlag','FlyAsh',\n",
    "                  'Superplasticizer','CoarseAggregate',\n",
    "                  'FineAggregate', 'Water')\n",
    "  tmp$Age <- 28\n",
    "  -predict(mod, tmp)\n",
    "}"
   ]
  },
  {
   "cell_type": "code",
   "execution_count": 12,
   "metadata": {},
   "outputs": [
    {
     "data": {
      "text/html": [
       "<table>\n",
       "<thead><tr><th></th><th scope=col>Cement</th><th scope=col>BlastFurnaceSlag</th><th scope=col>FlyAsh</th><th scope=col>Water</th><th scope=col>Superplasticizer</th><th scope=col>CoarseAggregate</th><th scope=col>FineAggregate</th><th scope=col>Age</th><th scope=col>CompressiveStrength</th></tr></thead>\n",
       "<tbody>\n",
       "\t<tr><th scope=row>1</th><td>0.22309440 </td><td>0.00000000 </td><td>0          </td><td>0.06692832 </td><td>0.001032844</td><td>0.4296633  </td><td>0.2792811  </td><td> 28        </td><td>79.99      </td></tr>\n",
       "\t<tr><th scope=row>2</th><td>0.22172039 </td><td>0.00000000 </td><td>0          </td><td>0.06651612 </td><td>0.001026483</td><td>0.4331759  </td><td>0.2775611  </td><td> 28        </td><td>61.89      </td></tr>\n",
       "\t<tr><th scope=row>3</th><td>0.14917003 </td><td>0.06393001 </td><td>0          </td><td>0.10228802 </td><td>0.000000000</td><td>0.4181247  </td><td>0.2664872  </td><td>270        </td><td>40.27      </td></tr>\n",
       "\t<tr><th scope=row>5</th><td>0.08534961 </td><td>0.05689974 </td><td>0          </td><td>0.08251322 </td><td>0.000000000</td><td>0.4204736  </td><td>0.3547638  </td><td>360        </td><td>44.30      </td></tr>\n",
       "\t<tr><th scope=row>6</th><td>0.12036199 </td><td>0.05158371 </td><td>0          </td><td>0.10316742 </td><td>0.000000000</td><td>0.4217195  </td><td>0.3031674  </td><td> 90        </td><td>47.03      </td></tr>\n",
       "\t<tr><th scope=row>7</th><td>0.17048004 </td><td>0.04262001 </td><td>0          </td><td>0.10228802 </td><td>0.000000000</td><td>0.4181247  </td><td>0.2664872  </td><td>365        </td><td>43.70      </td></tr>\n",
       "</tbody>\n",
       "</table>\n"
      ],
      "text/latex": [
       "\\begin{tabular}{r|lllllllll}\n",
       "  & Cement & BlastFurnaceSlag & FlyAsh & Water & Superplasticizer & CoarseAggregate & FineAggregate & Age & CompressiveStrength\\\\\n",
       "\\hline\n",
       "\t1 & 0.22309440  & 0.00000000  & 0           & 0.06692832  & 0.001032844 & 0.4296633   & 0.2792811   &  28         & 79.99      \\\\\n",
       "\t2 & 0.22172039  & 0.00000000  & 0           & 0.06651612  & 0.001026483 & 0.4331759   & 0.2775611   &  28         & 61.89      \\\\\n",
       "\t3 & 0.14917003  & 0.06393001  & 0           & 0.10228802  & 0.000000000 & 0.4181247   & 0.2664872   & 270         & 40.27      \\\\\n",
       "\t5 & 0.08534961  & 0.05689974  & 0           & 0.08251322  & 0.000000000 & 0.4204736   & 0.3547638   & 360         & 44.30      \\\\\n",
       "\t6 & 0.12036199  & 0.05158371  & 0           & 0.10316742  & 0.000000000 & 0.4217195   & 0.3031674   &  90         & 47.03      \\\\\n",
       "\t7 & 0.17048004  & 0.04262001  & 0           & 0.10228802  & 0.000000000 & 0.4181247   & 0.2664872   & 365         & 43.70      \\\\\n",
       "\\end{tabular}\n"
      ],
      "text/markdown": [
       "\n",
       "| <!--/--> | Cement | BlastFurnaceSlag | FlyAsh | Water | Superplasticizer | CoarseAggregate | FineAggregate | Age | CompressiveStrength | \n",
       "|---|---|---|---|---|---|\n",
       "| 1 | 0.22309440  | 0.00000000  | 0           | 0.06692832  | 0.001032844 | 0.4296633   | 0.2792811   |  28         | 79.99       | \n",
       "| 2 | 0.22172039  | 0.00000000  | 0           | 0.06651612  | 0.001026483 | 0.4331759   | 0.2775611   |  28         | 61.89       | \n",
       "| 3 | 0.14917003  | 0.06393001  | 0           | 0.10228802  | 0.000000000 | 0.4181247   | 0.2664872   | 270         | 40.27       | \n",
       "| 5 | 0.08534961  | 0.05689974  | 0           | 0.08251322  | 0.000000000 | 0.4204736   | 0.3547638   | 360         | 44.30       | \n",
       "| 6 | 0.12036199  | 0.05158371  | 0           | 0.10316742  | 0.000000000 | 0.4217195   | 0.3031674   |  90         | 47.03       | \n",
       "| 7 | 0.17048004  | 0.04262001  | 0           | 0.10228802  | 0.000000000 | 0.4181247   | 0.2664872   | 365         | 43.70       | \n",
       "\n",
       "\n"
      ],
      "text/plain": [
       "  Cement     BlastFurnaceSlag FlyAsh Water      Superplasticizer\n",
       "1 0.22309440 0.00000000       0      0.06692832 0.001032844     \n",
       "2 0.22172039 0.00000000       0      0.06651612 0.001026483     \n",
       "3 0.14917003 0.06393001       0      0.10228802 0.000000000     \n",
       "5 0.08534961 0.05689974       0      0.08251322 0.000000000     \n",
       "6 0.12036199 0.05158371       0      0.10316742 0.000000000     \n",
       "7 0.17048004 0.04262001       0      0.10228802 0.000000000     \n",
       "  CoarseAggregate FineAggregate Age CompressiveStrength\n",
       "1 0.4296633       0.2792811      28 79.99              \n",
       "2 0.4331759       0.2775611      28 61.89              \n",
       "3 0.4181247       0.2664872     270 40.27              \n",
       "5 0.4204736       0.3547638     360 44.30              \n",
       "6 0.4217195       0.3031674      90 47.03              \n",
       "7 0.4181247       0.2664872     365 43.70              "
      ]
     },
     "metadata": {},
     "output_type": "display_data"
    }
   ],
   "source": [
    "head(trn)"
   ]
  },
  {
   "cell_type": "code",
   "execution_count": 13,
   "metadata": {},
   "outputs": [],
   "source": [
    "### Get mixtures at 28 days \n",
    "trn_sub <- subset(trn, Age == 28)\n",
    "\n",
    "### Center and scale the data to use dissimilarity sampling\n",
    "trn_scaled <- predict(\n",
    "    preProcess(trn_sub[, -(8:9)], c(\"center\", \"scale\")), \n",
    "    trn_sub[, 1:7])"
   ]
  },
  {
   "cell_type": "code",
   "execution_count": null,
   "metadata": {},
   "outputs": [],
   "source": [
    "### Randomly select a few mixtures as a starting pool\n",
    "\n",
    "set.seed(91)\n",
    "startMixture <- sample(1:nrow(subTrain), 1)\n",
    "starters <- scaledTrain[startMixture, 1:7]\n",
    "pool <- scaledTrain\n",
    "index <- maxDissim(starters, pool, 14)\n",
    "startPoints <- c(startMixture, index)\n",
    "\n",
    "starters <- subTrain[startPoints,1:7]\n",
    "startingValues <- starters[, -4]\n",
    "\n",
    "### For each starting mixture, optimize the Cubist model using\n",
    "### a simplex search routine\n",
    "\n",
    "cbResults <- startingValues\n",
    "cbResults$Water <- NA\n",
    "cbResults$Prediction <- NA\n",
    "\n",
    "for(i in 1:nrow(cbResults))\n",
    "{\n",
    "  results <- optim(unlist(cbResults[i,1:6]),\n",
    "                   modelPrediction,\n",
    "                   method = \"Nelder-Mead\",\n",
    "                   control=list(maxit=5000),\n",
    "                   mod = cbFit)\n",
    "  cbResults$Prediction[i] <- -results$value\n",
    "  cbResults[i,1:6] <- results$par\n",
    "}\n",
    "cbResults$Water <- 1 - apply(cbResults[,1:6], 1, sum)\n",
    "cbResults <- subset(cbResults, Prediction > 0 & Water > .02)\n",
    "cbResults <- cbResults[order(-cbResults$Prediction),][1:3,]\n",
    "cbResults$Model <- \"Cubist\"\n"
   ]
  }
 ],
 "metadata": {
  "kernelspec": {
   "display_name": "R",
   "language": "R",
   "name": "ir"
  },
  "language_info": {
   "codemirror_mode": "r",
   "file_extension": ".r",
   "mimetype": "text/x-r-source",
   "name": "R",
   "pygments_lexer": "r",
   "version": "3.4.3"
  },
  "latex_envs": {
   "LaTeX_envs_menu_present": true,
   "autocomplete": true,
   "bibliofile": "biblio.bib",
   "cite_by": "apalike",
   "current_citInitial": 1,
   "eqLabelWithNumbers": true,
   "eqNumInitial": 1,
   "hotkeys": {
    "equation": "Ctrl-E",
    "itemize": "Ctrl-I"
   },
   "labels_anchors": false,
   "latex_user_defs": false,
   "report_style_numbering": false,
   "user_envs_cfg": false
  },
  "toc": {
   "nav_menu": {},
   "number_sections": true,
   "sideBar": true,
   "skip_h1_title": false,
   "toc_cell": false,
   "toc_position": {},
   "toc_section_display": "block",
   "toc_window_display": false
  }
 },
 "nbformat": 4,
 "nbformat_minor": 2
}
