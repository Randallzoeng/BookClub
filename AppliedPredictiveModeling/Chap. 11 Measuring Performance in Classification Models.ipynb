{
 "cells": [
  {
   "cell_type": "code",
   "execution_count": 1,
   "metadata": {
    "scrolled": true
   },
   "outputs": [
    {
     "data": {
      "text/html": [
       "<table>\n",
       "<thead><tr><th scope=col>X1</th><th scope=col>X2</th><th scope=col>prob</th><th scope=col>class</th></tr></thead>\n",
       "<tbody>\n",
       "\t<tr><td> 2.4685709 </td><td> 2.28742015</td><td>0.9647251  </td><td>Class1     </td></tr>\n",
       "\t<tr><td>-0.1889407 </td><td>-1.63949455</td><td>0.9913938  </td><td>Class1     </td></tr>\n",
       "\t<tr><td>-1.9101460 </td><td>-2.89194964</td><td>1.0000000  </td><td>Class1     </td></tr>\n",
       "\t<tr><td> 0.3481279 </td><td> 0.06707434</td><td>0.1529697  </td><td>Class1     </td></tr>\n",
       "\t<tr><td> 0.1401153 </td><td> 0.86900555</td><td>0.5563062  </td><td>Class1     </td></tr>\n",
       "\t<tr><td> 0.7717148 </td><td>-0.91504835</td><td>0.2713248  </td><td>Class2     </td></tr>\n",
       "</tbody>\n",
       "</table>\n"
      ],
      "text/latex": [
       "\\begin{tabular}{r|llll}\n",
       " X1 & X2 & prob & class\\\\\n",
       "\\hline\n",
       "\t  2.4685709  &  2.28742015 & 0.9647251   & Class1     \\\\\n",
       "\t -0.1889407  & -1.63949455 & 0.9913938   & Class1     \\\\\n",
       "\t -1.9101460  & -2.89194964 & 1.0000000   & Class1     \\\\\n",
       "\t  0.3481279  &  0.06707434 & 0.1529697   & Class1     \\\\\n",
       "\t  0.1401153  &  0.86900555 & 0.5563062   & Class1     \\\\\n",
       "\t  0.7717148  & -0.91504835 & 0.2713248   & Class2     \\\\\n",
       "\\end{tabular}\n"
      ],
      "text/markdown": [
       "\n",
       "X1 | X2 | prob | class | \n",
       "|---|---|---|---|---|---|\n",
       "|  2.4685709  |  2.28742015 | 0.9647251   | Class1      | \n",
       "| -0.1889407  | -1.63949455 | 0.9913938   | Class1      | \n",
       "| -1.9101460  | -2.89194964 | 1.0000000   | Class1      | \n",
       "|  0.3481279  |  0.06707434 | 0.1529697   | Class1      | \n",
       "|  0.1401153  |  0.86900555 | 0.5563062   | Class1      | \n",
       "|  0.7717148  | -0.91504835 | 0.2713248   | Class2      | \n",
       "\n",
       "\n"
      ],
      "text/plain": [
       "  X1         X2          prob      class \n",
       "1  2.4685709  2.28742015 0.9647251 Class1\n",
       "2 -0.1889407 -1.63949455 0.9913938 Class1\n",
       "3 -1.9101460 -2.89194964 1.0000000 Class1\n",
       "4  0.3481279  0.06707434 0.1529697 Class1\n",
       "5  0.1401153  0.86900555 0.5563062 Class1\n",
       "6  0.7717148 -0.91504835 0.2713248 Class2"
      ]
     },
     "metadata": {},
     "output_type": "display_data"
    }
   ],
   "source": [
    "library(AppliedPredictiveModeling)\n",
    "set.seed(975)\n",
    "trn <- quadBoundaryFunc(500)\n",
    "vld <- quadBoundaryFunc(1000)\n",
    "head(trn)"
   ]
  },
  {
   "cell_type": "code",
   "execution_count": 2,
   "metadata": {
    "scrolled": true
   },
   "outputs": [
    {
     "name": "stderr",
     "output_type": "stream",
     "text": [
      "Warning message in barchart.table(table(x), data, ...):\n",
      "\"explicit 'data' specification ignored\""
     ]
    },
    {
     "data": {},
     "metadata": {},
     "output_type": "display_data"
    },
    {
     "data": {
      "image/png": "[encoded data removed]",
      "text/plain": [
       "plot without title"
      ]
     },
     "metadata": {},
     "output_type": "display_data"
    }
   ],
   "source": [
    "# table(trn$class)\n",
    "library(lattice)\n",
    "barchart(trn$class,data=trn)"
   ]
  },
  {
   "cell_type": "code",
   "execution_count": 11,
   "metadata": {
    "scrolled": true
   },
   "outputs": [
    {
     "data": {
      "text/plain": [
       "\n",
       "Call:\n",
       " randomForest(formula = class ~ X1 + X2, data = trn, ntree = 2000) \n",
       "               Type of random forest: classification\n",
       "                     Number of trees: 2000\n",
       "No. of variables tried at each split: 1\n",
       "\n",
       "        OOB estimate of  error rate: 15.6%\n",
       "Confusion matrix:\n",
       "       Class1 Class2 class.error\n",
       "Class1    174     42   0.1944444\n",
       "Class2     36    248   0.1267606"
      ]
     },
     "metadata": {},
     "output_type": "display_data"
    },
    {
     "data": {
      "text/plain": [
       "Call:\n",
       "qda(class ~ X1 + X2, data = trn)\n",
       "\n",
       "Prior probabilities of groups:\n",
       "Class1 Class2 \n",
       " 0.432  0.568 \n",
       "\n",
       "Group means:\n",
       "              X1          X2\n",
       "Class1 0.5881427 -0.05429687\n",
       "Class2 1.2342071  0.11753625"
      ]
     },
     "metadata": {},
     "output_type": "display_data"
    }
   ],
   "source": [
    "library(randomForest)\n",
    "fit_rf <- randomForest(class~X1+X2,data=trn,ntree=2000)\n",
    "fit_rf\n",
    "\n",
    "library(MASS)\n",
    "fit_qda <- qda(class~X1+X2,data=trn)\n",
    "fit_qda"
   ]
  },
  {
   "cell_type": "markdown",
   "metadata": {},
   "source": [
    "```r\n",
    "\n",
    "library(AppliedPredictiveModeling)\n",
    "\n",
    "### Simulate some two class data with two predictors\n",
    "set.seed(975)\n",
    "training <- quadBoundaryFunc(500)\n",
    "testing <- quadBoundaryFunc(1000)\n",
    "testing$class2 <- ifelse(testing$class == \"Class1\", 1, 0)\n",
    "testing$ID <- 1:nrow(testing)\n",
    "\n",
    "### Fit models\n",
    "library(MASS)\n",
    "qdaFit <- qda(class ~ X1 + X2, data = training)\n",
    "library(randomForest)\n",
    "rfFit <- randomForest(class ~ X1 + X2, data = training, ntree = 2000)\n",
    "\n",
    "### Predict the test set\n",
    "testing$qda <- predict(qdaFit, testing)$posterior[,1]\n",
    "testing$rf <- predict(rfFit, testing, type = \"prob\")[,1]\n",
    "\n",
    "\n",
    "### Generate the calibration analysis\n",
    "library(caret)\n",
    "calData1 <- calibration(class ~ qda + rf, data = testing, cuts = 10)\n",
    "\n",
    "### Plot the curve\n",
    "xyplot(calData1, auto.key = list(columns = 2))\n",
    "\n",
    "### To calibrate the data, treat the probabilities as inputs into the\n",
    "### model\n",
    "\n",
    "trainProbs <- training\n",
    "trainProbs$qda <- predict(qdaFit)$posterior[,1]\n",
    "\n",
    "### These models take the probabilities as inputs and, based on the\n",
    "### true class, re-calibrate them.\n",
    "library(klaR)\n",
    "nbCal <- NaiveBayes(class ~ qda, data = trainProbs, usekernel = TRUE)\n",
    "\n",
    "### We use relevel() here because glm() models the probability of the\n",
    "### second factor level.\n",
    "lrCal <- glm(relevel(class, \"Class2\") ~ qda, data = trainProbs, family = binomial)\n",
    "\n",
    "### Now re-predict the test set using the modified class probability\n",
    "### estimates\n",
    "testing$qda2 <- predict(nbCal, testing[, \"qda\", drop = FALSE])$posterior[,1]\n",
    "testing$qda3 <- predict(lrCal, testing[, \"qda\", drop = FALSE], type = \"response\")\n",
    "\n",
    "\n",
    "### Manipulate the data a bit for pretty plotting\n",
    "simulatedProbs <- testing[, c(\"class\", \"rf\", \"qda3\")]\n",
    "names(simulatedProbs) <- c(\"TrueClass\", \"RandomForestProb\", \"QDACalibrated\")\n",
    "simulatedProbs$RandomForestClass <-  predict(rfFit, testing)\n",
    "\n",
    "calData2 <- calibration(class ~ qda + qda2 + qda3, data = testing)\n",
    "calData2$data$calibModelVar <- as.character(calData2$data$calibModelVar)\n",
    "calData2$data$calibModelVar <- ifelse(calData2$data$calibModelVar == \"qda\", \n",
    "                                      \"QDA\",\n",
    "                                      calData2$data$calibModelVar)\n",
    "calData2$data$calibModelVar <- ifelse(calData2$data$calibModelVar == \"qda2\", \n",
    "                                      \"Bayesian Calibration\",\n",
    "                                      calData2$data$calibModelVar)\n",
    "\n",
    "calData2$data$calibModelVar <- ifelse(calData2$data$calibModelVar == \"qda3\", \n",
    "                                      \"Sigmoidal Calibration\",\n",
    "                                      calData2$data$calibModelVar)\n",
    "\n",
    "calData2$data$calibModelVar <- factor(calData2$data$calibModelVar,\n",
    "                                      levels = c(\"QDA\", \n",
    "                                                 \"Bayesian Calibration\", \n",
    "                                                 \"Sigmoidal Calibration\"))\n",
    "\n",
    "xyplot(calData2, auto.key = list(columns = 1))\n",
    "\n",
    "### Recreate the model used in the over-fitting chapter\n",
    "\n",
    "library(caret)\n",
    "data(GermanCredit)\n",
    "\n",
    "## First, remove near-zero variance predictors then get rid of a few predictors \n",
    "## that duplicate values. For example, there are two possible values for the \n",
    "## housing variable: \"Rent\", \"Own\" and \"ForFree\". So that we don't have linear\n",
    "## dependencies, we get rid of one of the levels (e.g. \"ForFree\")\n",
    "\n",
    "GermanCredit <- GermanCredit[, -nearZeroVar(GermanCredit)]\n",
    "GermanCredit$CheckingAccountStatus.lt.0 <- NULL\n",
    "GermanCredit$SavingsAccountBonds.lt.100 <- NULL\n",
    "GermanCredit$EmploymentDuration.lt.1 <- NULL\n",
    "GermanCredit$EmploymentDuration.Unemployed <- NULL\n",
    "GermanCredit$Personal.Male.Married.Widowed <- NULL\n",
    "GermanCredit$Property.Unknown <- NULL\n",
    "GermanCredit$Housing.ForFree <- NULL\n",
    "\n",
    "## Split the data into training (80%) and test sets (20%)\n",
    "set.seed(100)\n",
    "inTrain <- createDataPartition(GermanCredit$Class, p = .8)[[1]]\n",
    "GermanCreditTrain <- GermanCredit[ inTrain, ]\n",
    "GermanCreditTest  <- GermanCredit[-inTrain, ]\n",
    "\n",
    "set.seed(1056)\n",
    "logisticReg <- train(Class ~ .,\n",
    "                     data = GermanCreditTrain,\n",
    "                     method = \"glm\",\n",
    "                     trControl = trainControl(method = \"repeatedcv\", \n",
    "                                              repeats = 5))\n",
    "logisticReg\n",
    "\n",
    "### Predict the test set\n",
    "creditResults <- data.frame(obs = GermanCreditTest$Class)\n",
    "creditResults$prob <- predict(logisticReg, GermanCreditTest, type = \"prob\")[, \"Bad\"]\n",
    "creditResults$pred <- predict(logisticReg, GermanCreditTest)\n",
    "creditResults$Label <- ifelse(creditResults$obs == \"Bad\", \n",
    "                              \"True Outcome: Bad Credit\", \n",
    "                              \"True Outcome: Good Credit\")\n",
    "\n",
    "### Plot the probability of bad credit\n",
    "histogram(~prob|Label,\n",
    "          data = creditResults,\n",
    "          layout = c(2, 1),\n",
    "          nint = 20,\n",
    "          xlab = \"Probability of Bad Credit\",\n",
    "          type = \"count\")\n",
    "\n",
    "### Calculate and plot the calibration curve\n",
    "creditCalib <- calibration(obs ~ prob, data = creditResults)\n",
    "xyplot(creditCalib)\n",
    "\n",
    "### Create the confusion matrix from the test set.\n",
    "confusionMatrix(data = creditResults$pred, \n",
    "                reference = creditResults$obs)\n",
    "\n",
    "### ROC curves:\n",
    "\n",
    "### Like glm(), roc() treats the last level of the factor as the event\n",
    "### of interest so we use relevel() to change the observed class data\n",
    "\n",
    "library(pROC)\n",
    "creditROC <- roc(relevel(creditResults$obs, \"Good\"), creditResults$prob)\n",
    "\n",
    "coords(creditROC, \"all\")[,1:3]\n",
    "\n",
    "auc(creditROC)\n",
    "ci.auc(creditROC)\n",
    "\n",
    "### Note the x-axis is reversed\n",
    "plot(creditROC)\n",
    "\n",
    "### Old-school:\n",
    "plot(creditROC, legacy.axes = TRUE)\n",
    "\n",
    "### Lift charts\n",
    "\n",
    "creditLift <- lift(obs ~ prob, data = creditResults)\n",
    "xyplot(creditLift)\n",
    "\n",
    "```"
   ]
  }
 ],
 "metadata": {
  "kernelspec": {
   "display_name": "R",
   "language": "R",
   "name": "ir"
  },
  "language_info": {
   "codemirror_mode": "r",
   "file_extension": ".r",
   "mimetype": "text/x-r-source",
   "name": "R",
   "pygments_lexer": "r",
   "version": "3.5.1"
  },
  "latex_envs": {
   "LaTeX_envs_menu_present": true,
   "autoclose": false,
   "autocomplete": true,
   "bibliofile": "biblio.bib",
   "cite_by": "apalike",
   "current_citInitial": 1,
   "eqLabelWithNumbers": true,
   "eqNumInitial": 1,
   "hotkeys": {
    "equation": "Ctrl-E",
    "itemize": "Ctrl-I"
   },
   "labels_anchors": false,
   "latex_user_defs": false,
   "report_style_numbering": false,
   "user_envs_cfg": false
  },
  "toc": {
   "base_numbering": 1,
   "nav_menu": {},
   "number_sections": true,
   "sideBar": true,
   "skip_h1_title": false,
   "title_cell": "Table of Contents",
   "title_sidebar": "Contents",
   "toc_cell": false,
   "toc_position": {},
   "toc_section_display": true,
   "toc_window_display": false
  }
 },
 "nbformat": 4,
 "nbformat_minor": 2
}
