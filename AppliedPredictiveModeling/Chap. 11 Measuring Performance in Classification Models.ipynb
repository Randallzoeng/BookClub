{
 "cells": [
  {
   "cell_type": "code",
   "execution_count": 2,
   "metadata": {
    "scrolled": false
   },
   "outputs": [
    {
     "data": {
      "text/html": [
       "<table>\n",
       "<thead><tr><th scope=col>X1</th><th scope=col>X2</th><th scope=col>prob</th><th scope=col>class</th></tr></thead>\n",
       "<tbody>\n",
       "\t<tr><td> 2.4685709 </td><td> 2.28742015</td><td>0.9647251  </td><td>Class1     </td></tr>\n",
       "\t<tr><td>-0.1889407 </td><td>-1.63949455</td><td>0.9913938  </td><td>Class1     </td></tr>\n",
       "\t<tr><td>-1.9101460 </td><td>-2.89194964</td><td>1.0000000  </td><td>Class1     </td></tr>\n",
       "\t<tr><td> 0.3481279 </td><td> 0.06707434</td><td>0.1529697  </td><td>Class1     </td></tr>\n",
       "\t<tr><td> 0.1401153 </td><td> 0.86900555</td><td>0.5563062  </td><td>Class1     </td></tr>\n",
       "\t<tr><td> 0.7717148 </td><td>-0.91504835</td><td>0.2713248  </td><td>Class2     </td></tr>\n",
       "</tbody>\n",
       "</table>\n"
      ],
      "text/latex": [
       "\\begin{tabular}{r|llll}\n",
       " X1 & X2 & prob & class\\\\\n",
       "\\hline\n",
       "\t  2.4685709  &  2.28742015 & 0.9647251   & Class1     \\\\\n",
       "\t -0.1889407  & -1.63949455 & 0.9913938   & Class1     \\\\\n",
       "\t -1.9101460  & -2.89194964 & 1.0000000   & Class1     \\\\\n",
       "\t  0.3481279  &  0.06707434 & 0.1529697   & Class1     \\\\\n",
       "\t  0.1401153  &  0.86900555 & 0.5563062   & Class1     \\\\\n",
       "\t  0.7717148  & -0.91504835 & 0.2713248   & Class2     \\\\\n",
       "\\end{tabular}\n"
      ],
      "text/markdown": [
       "\n",
       "X1 | X2 | prob | class | \n",
       "|---|---|---|---|---|---|\n",
       "|  2.4685709  |  2.28742015 | 0.9647251   | Class1      | \n",
       "| -0.1889407  | -1.63949455 | 0.9913938   | Class1      | \n",
       "| -1.9101460  | -2.89194964 | 1.0000000   | Class1      | \n",
       "|  0.3481279  |  0.06707434 | 0.1529697   | Class1      | \n",
       "|  0.1401153  |  0.86900555 | 0.5563062   | Class1      | \n",
       "|  0.7717148  | -0.91504835 | 0.2713248   | Class2      | \n",
       "\n",
       "\n"
      ],
      "text/plain": [
       "  X1         X2          prob      class \n",
       "1  2.4685709  2.28742015 0.9647251 Class1\n",
       "2 -0.1889407 -1.63949455 0.9913938 Class1\n",
       "3 -1.9101460 -2.89194964 1.0000000 Class1\n",
       "4  0.3481279  0.06707434 0.1529697 Class1\n",
       "5  0.1401153  0.86900555 0.5563062 Class1\n",
       "6  0.7717148 -0.91504835 0.2713248 Class2"
      ]
     },
     "metadata": {},
     "output_type": "display_data"
    }
   ],
   "source": [
    "library(AppliedPredictiveModeling)\n",
    "set.seed(975)\n",
    "trn <- quadBoundaryFunc(500)\n",
    "vld <- quadBoundaryFunc(1000)\n",
    "head(trn)"
   ]
  },
  {
   "cell_type": "code",
   "execution_count": 3,
   "metadata": {
    "scrolled": true
   },
   "outputs": [
    {
     "name": "stderr",
     "output_type": "stream",
     "text": [
      "Warning message in barchart.table(table(x), data, ...):\n",
      "\"explicit 'data' specification ignored\""
     ]
    },
    {
     "data": {
      "image/png": "[encoded data removed]",
      "text/plain": [
       "plot without title"
      ]
     },
     "metadata": {},
     "output_type": "display_data"
    }
   ],
   "source": [
    "library(lattice)\n",
    "library(gridExtra)\n",
    "p1 <- xyplot(X2~X1,data=trn,groups = class)\n",
    "p2 <- barchart(trn$class,data=trn)\n",
    "grid.arrange(p1,p2,ncol=2,nrow=2)\n",
    "\n",
    "# table(trn$class)\n",
    "# p1 <- ggplot(data=trn,aes(X1,X2,colour=class)) + geom_point() + theme_stata() + scale_color_tableau() + theme(legend.position = \"top\")"
   ]
  },
  {
   "cell_type": "code",
   "execution_count": 4,
   "metadata": {
    "scrolled": true
   },
   "outputs": [
    {
     "name": "stderr",
     "output_type": "stream",
     "text": [
      "randomForest 4.6-14\n",
      "Type rfNews() to see new features/changes/bug fixes.\n",
      "\n",
      "Attaching package: 'randomForest'\n",
      "\n",
      "The following object is masked from 'package:gridExtra':\n",
      "\n",
      "    combine\n",
      "\n"
     ]
    },
    {
     "data": {
      "text/plain": [
       "\n",
       "Call:\n",
       " randomForest(formula = class ~ X1 + X2, data = trn, ntree = 2000) \n",
       "               Type of random forest: classification\n",
       "                     Number of trees: 2000\n",
       "No. of variables tried at each split: 1\n",
       "\n",
       "        OOB estimate of  error rate: 15.4%\n",
       "Confusion matrix:\n",
       "       Class1 Class2 class.error\n",
       "Class1    174     42   0.1944444\n",
       "Class2     35    249   0.1232394"
      ]
     },
     "metadata": {},
     "output_type": "display_data"
    },
    {
     "data": {
      "text/plain": [
       "Call:\n",
       "qda(class ~ X1 + X2, data = trn)\n",
       "\n",
       "Prior probabilities of groups:\n",
       "Class1 Class2 \n",
       " 0.432  0.568 \n",
       "\n",
       "Group means:\n",
       "              X1          X2\n",
       "Class1 0.5881427 -0.05429687\n",
       "Class2 1.2342071  0.11753625"
      ]
     },
     "metadata": {},
     "output_type": "display_data"
    }
   ],
   "source": [
    "library(randomForest)\n",
    "fit_rf <- randomForest(class~X1+X2,data=trn,ntree=2000)\n",
    "fit_rf\n",
    "\n",
    "library(MASS)\n",
    "fit_qda <- qda(class~X1+X2,data=trn)\n",
    "fit_qda"
   ]
  },
  {
   "cell_type": "code",
   "execution_count": 5,
   "metadata": {},
   "outputs": [],
   "source": [
    "pred_qda <- predict(fit_qda,trn)\n",
    "trn$qda_prob <- pred_qda$posterior[,\"Class1\"]\n",
    "\n",
    "pred_vld_qda <- predict(fit_qda,newdata = vld)\n",
    "vld$qda_prob <- pred_vld_qda$posterior[,\"Class1\"]"
   ]
  },
  {
   "cell_type": "code",
   "execution_count": 6,
   "metadata": {},
   "outputs": [],
   "source": [
    "#rf\n",
    "pred_vld_rf <- predict(fit_rf,vld,type=\"prob\")\n",
    "vld$rf_prob <- pred_vld_rf[,\"Class1\"]\n",
    "vld$rf_cls <- predict(fit_rf,vld)"
   ]
  },
  {
   "cell_type": "code",
   "execution_count": 7,
   "metadata": {},
   "outputs": [
    {
     "data": {
      "text/html": [
       "<table>\n",
       "<thead><tr><th scope=col>X1</th><th scope=col>X2</th><th scope=col>prob</th><th scope=col>class</th><th scope=col>qda_prob</th><th scope=col>rf_prob</th><th scope=col>rf_cls</th></tr></thead>\n",
       "<tbody>\n",
       "\t<tr><td> 0.6689362</td><td>-0.9113505</td><td>0.31729132</td><td>Class2    </td><td>0.3830767 </td><td>0.4440    </td><td>Class2    </td></tr>\n",
       "\t<tr><td>-0.1149877</td><td>-0.8272760</td><td>0.64476405</td><td>Class1    </td><td>0.5440393 </td><td>0.5355    </td><td>Class1    </td></tr>\n",
       "\t<tr><td> 1.2704375</td><td> 2.9100370</td><td>0.99999790</td><td>Class1    </td><td>0.9846107 </td><td>0.9935    </td><td>Class1    </td></tr>\n",
       "\t<tr><td>-0.5511148</td><td>-0.2145599</td><td>0.53333948</td><td>Class2    </td><td>0.5463540 </td><td>0.9330    </td><td>Class1    </td></tr>\n",
       "\t<tr><td> 0.9566129</td><td>-0.3315233</td><td>0.05333099</td><td>Class2    </td><td>0.2426705 </td><td>0.0170    </td><td>Class2    </td></tr>\n",
       "\t<tr><td>-0.2132386</td><td> 0.2364065</td><td>0.38441722</td><td>Class2    </td><td>0.4823296 </td><td>0.2840    </td><td>Class2    </td></tr>\n",
       "</tbody>\n",
       "</table>\n"
      ],
      "text/latex": [
       "\\begin{tabular}{r|lllllll}\n",
       " X1 & X2 & prob & class & qda\\_prob & rf\\_prob & rf\\_cls\\\\\n",
       "\\hline\n",
       "\t  0.6689362 & -0.9113505 & 0.31729132 & Class2     & 0.3830767  & 0.4440     & Class2    \\\\\n",
       "\t -0.1149877 & -0.8272760 & 0.64476405 & Class1     & 0.5440393  & 0.5355     & Class1    \\\\\n",
       "\t  1.2704375 &  2.9100370 & 0.99999790 & Class1     & 0.9846107  & 0.9935     & Class1    \\\\\n",
       "\t -0.5511148 & -0.2145599 & 0.53333948 & Class2     & 0.5463540  & 0.9330     & Class1    \\\\\n",
       "\t  0.9566129 & -0.3315233 & 0.05333099 & Class2     & 0.2426705  & 0.0170     & Class2    \\\\\n",
       "\t -0.2132386 &  0.2364065 & 0.38441722 & Class2     & 0.4823296  & 0.2840     & Class2    \\\\\n",
       "\\end{tabular}\n"
      ],
      "text/markdown": [
       "\n",
       "X1 | X2 | prob | class | qda_prob | rf_prob | rf_cls | \n",
       "|---|---|---|---|---|---|\n",
       "|  0.6689362 | -0.9113505 | 0.31729132 | Class2     | 0.3830767  | 0.4440     | Class2     | \n",
       "| -0.1149877 | -0.8272760 | 0.64476405 | Class1     | 0.5440393  | 0.5355     | Class1     | \n",
       "|  1.2704375 |  2.9100370 | 0.99999790 | Class1     | 0.9846107  | 0.9935     | Class1     | \n",
       "| -0.5511148 | -0.2145599 | 0.53333948 | Class2     | 0.5463540  | 0.9330     | Class1     | \n",
       "|  0.9566129 | -0.3315233 | 0.05333099 | Class2     | 0.2426705  | 0.0170     | Class2     | \n",
       "| -0.2132386 |  0.2364065 | 0.38441722 | Class2     | 0.4823296  | 0.2840     | Class2     | \n",
       "\n",
       "\n"
      ],
      "text/plain": [
       "  X1         X2         prob       class  qda_prob  rf_prob rf_cls\n",
       "1  0.6689362 -0.9113505 0.31729132 Class2 0.3830767 0.4440  Class2\n",
       "2 -0.1149877 -0.8272760 0.64476405 Class1 0.5440393 0.5355  Class1\n",
       "3  1.2704375  2.9100370 0.99999790 Class1 0.9846107 0.9935  Class1\n",
       "4 -0.5511148 -0.2145599 0.53333948 Class2 0.5463540 0.9330  Class1\n",
       "5  0.9566129 -0.3315233 0.05333099 Class2 0.2426705 0.0170  Class2\n",
       "6 -0.2132386  0.2364065 0.38441722 Class2 0.4823296 0.2840  Class2"
      ]
     },
     "metadata": {},
     "output_type": "display_data"
    }
   ],
   "source": [
    "head(vld)"
   ]
  },
  {
   "cell_type": "code",
   "execution_count": 8,
   "metadata": {},
   "outputs": [
    {
     "name": "stderr",
     "output_type": "stream",
     "text": [
      "Loading required package: ggplot2\n",
      "\n",
      "Attaching package: 'ggplot2'\n",
      "\n",
      "The following object is masked from 'package:randomForest':\n",
      "\n",
      "    margin\n",
      "\n"
     ]
    },
    {
     "data": {
      "text/html": [
       "0.825708061002179"
      ],
      "text/latex": [
       "0.825708061002179"
      ],
      "text/markdown": [
       "0.825708061002179"
      ],
      "text/plain": [
       "[1] 0.8257081"
      ]
     },
     "metadata": {},
     "output_type": "display_data"
    },
    {
     "data": {
      "text/html": [
       "0.898336414048059"
      ],
      "text/latex": [
       "0.898336414048059"
      ],
      "text/markdown": [
       "0.898336414048059"
      ],
      "text/plain": [
       "[1] 0.8983364"
      ]
     },
     "metadata": {},
     "output_type": "display_data"
    }
   ],
   "source": [
    "#Sensitivity & Specificity\n",
    "#Sensitivity= TP / (TP + FN) \n",
    "library(caret)\n",
    "sensitivity(\n",
    "            data=vld$rf_cls,\n",
    "           reference=vld$class,\n",
    "           positive=\"Class1\")\n",
    "#Specificity=TNR = TN / (TN + FP)    \n",
    "specificity(\n",
    "           data=vld$rf_cls,\n",
    "           reference=vld$class,\n",
    "           negative=\"Class2\")"
   ]
  },
  {
   "cell_type": "code",
   "execution_count": 9,
   "metadata": {},
   "outputs": [
    {
     "data": {
      "text/plain": [
       "\n",
       "Class1 Class2 \n",
       " 0.459  0.541 "
      ]
     },
     "metadata": {},
     "output_type": "display_data"
    }
   ],
   "source": [
    "prop.table(table(vld$class))"
   ]
  },
  {
   "cell_type": "markdown",
   "metadata": {},
   "source": [
    "```r\n",
    "# ?posPredValue\n",
    "#https://onlinecourses.science.psu.edu/stat507/node/71/\n",
    "# PPV=(sensitivity∗Prevalence)/((sensitivity∗Prevalence)+((1−specificity)∗(1−Prevalence)))\n",
    "# NPV=(specificity∗(1−Prevalence))/(((1−sensitivity)∗Prevalence)+((specificity)∗(1−Prevalence)))\n",
    "```"
   ]
  },
  {
   "cell_type": "code",
   "execution_count": 10,
   "metadata": {},
   "outputs": [
    {
     "data": {
      "text/html": [
       "0.873271889400922"
      ],
      "text/latex": [
       "0.873271889400922"
      ],
      "text/markdown": [
       "0.873271889400922"
      ],
      "text/plain": [
       "[1] 0.8732719"
      ]
     },
     "metadata": {},
     "output_type": "display_data"
    },
    {
     "data": {
      "text/html": [
       "0.858657243816254"
      ],
      "text/latex": [
       "0.858657243816254"
      ],
      "text/markdown": [
       "0.858657243816254"
      ],
      "text/plain": [
       "[1] 0.8586572"
      ]
     },
     "metadata": {},
     "output_type": "display_data"
    },
    {
     "data": {
      "text/html": [
       "0.9865043013029"
      ],
      "text/latex": [
       "0.9865043013029"
      ],
      "text/markdown": [
       "0.9865043013029"
      ],
      "text/plain": [
       "[1] 0.9865043"
      ]
     },
     "metadata": {},
     "output_type": "display_data"
    }
   ],
   "source": [
    "posPredValue(\n",
    "            data=vld$rf_cls,\n",
    "            reference=vld$class,\n",
    "            positive=\"Class1\")\n",
    "\n",
    "negPredValue(\n",
    "            data=vld$rf_cls,\n",
    "            reference=vld$class,\n",
    "            positive=\"Class2\")\n",
    "\n",
    "posPredValue(\n",
    "             data=vld$rf_cls,\n",
    "             reference=vld$class,\n",
    "             positive=\"Class1\",\n",
    "             prevalence=.9)"
   ]
  },
  {
   "cell_type": "code",
   "execution_count": 11,
   "metadata": {},
   "outputs": [
    {
     "data": {
      "text/plain": [
       "Confusion Matrix and Statistics\n",
       "\n",
       "          Reference\n",
       "Prediction Class1 Class2\n",
       "    Class1    379     55\n",
       "    Class2     80    486\n",
       "                                          \n",
       "               Accuracy : 0.865           \n",
       "                 95% CI : (0.8422, 0.8856)\n",
       "    No Information Rate : 0.541           \n",
       "    P-Value [Acc > NIR] : < 2e-16         \n",
       "                                          \n",
       "                  Kappa : 0.727           \n",
       " Mcnemar's Test P-Value : 0.03887         \n",
       "                                          \n",
       "            Sensitivity : 0.8257          \n",
       "            Specificity : 0.8983          \n",
       "         Pos Pred Value : 0.8733          \n",
       "         Neg Pred Value : 0.8587          \n",
       "             Prevalence : 0.4590          \n",
       "         Detection Rate : 0.3790          \n",
       "   Detection Prevalence : 0.4340          \n",
       "      Balanced Accuracy : 0.8620          \n",
       "                                          \n",
       "       'Positive' Class : Class1          \n",
       "                                          "
      ]
     },
     "metadata": {},
     "output_type": "display_data"
    }
   ],
   "source": [
    "#ConfusionMatrix\n",
    "confusionMatrix(\n",
    "               data=vld$rf_cls,\n",
    "               reference=vld$class,\n",
    "               positive=\"Class1\")"
   ]
  },
  {
   "cell_type": "code",
   "execution_count": 12,
   "metadata": {},
   "outputs": [
    {
     "name": "stderr",
     "output_type": "stream",
     "text": [
      "Type 'citation(\"pROC\")' for a citation.\n",
      "\n",
      "Attaching package: 'pROC'\n",
      "\n",
      "The following objects are masked from 'package:stats':\n",
      "\n",
      "    cov, smooth, var\n",
      "\n"
     ]
    }
   ],
   "source": [
    "#ROC curves\n",
    "# install.packages(\"pROC\")\n",
    "library(pROC)\n",
    "roc_curve <- roc(\n",
    "                 response = vld$class,\n",
    "                predictor = vld$rf_prob,\n",
    "                levels=rev(levels(vld$class)))"
   ]
  },
  {
   "cell_type": "code",
   "execution_count": 13,
   "metadata": {
    "scrolled": true
   },
   "outputs": [
    {
     "data": {
      "text/html": [
       "0.93352300871057"
      ],
      "text/latex": [
       "0.93352300871057"
      ],
      "text/markdown": [
       "0.93352300871057"
      ],
      "text/plain": [
       "Area under the curve: 0.9335"
      ]
     },
     "metadata": {},
     "output_type": "display_data"
    }
   ],
   "source": [
    "auc(roc_curve)"
   ]
  },
  {
   "cell_type": "code",
   "execution_count": 14,
   "metadata": {
    "scrolled": true
   },
   "outputs": [
    {
     "data": {
      "image/png": "[encoded data removed]",
      "text/plain": [
       "plot without title"
      ]
     },
     "metadata": {},
     "output_type": "display_data"
    }
   ],
   "source": [
    "plot(roc_curve,legacy.axes=T)"
   ]
  },
  {
   "cell_type": "code",
   "execution_count": 15,
   "metadata": {},
   "outputs": [
    {
     "data": {
      "text/plain": [
       "\n",
       "Call:\n",
       "lift.formula(x = class ~ qda_prob + rf_prob, data = vld, labels = labs)\n",
       "\n",
       "Models: QDA, RF \n",
       "Event: Class1 (45.9%)"
      ]
     },
     "metadata": {},
     "output_type": "display_data"
    }
   ],
   "source": [
    "#lift charts\n",
    "# names(vld)\n",
    "labs <- c(qda_prob=\"QDA\",rf_prob=\"RF\")\n",
    "lift_curve <- lift(class~qda_prob+rf_prob,data=vld,labels=labs)\n",
    "lift_curve"
   ]
  },
  {
   "cell_type": "code",
   "execution_count": 16,
   "metadata": {},
   "outputs": [
    {
     "data": {},
     "metadata": {},
     "output_type": "display_data"
    },
    {
     "data": {
      "image/png": "[encoded data removed]",
      "text/plain": [
       "plot without title"
      ]
     },
     "metadata": {},
     "output_type": "display_data"
    }
   ],
   "source": [
    "xyplot(lift_curve,auto.key=list(columns=2,lines=T,points=F))"
   ]
  },
  {
   "cell_type": "code",
   "execution_count": 17,
   "metadata": {},
   "outputs": [
    {
     "data": {
      "text/plain": [
       "\n",
       "Call:\n",
       "calibration.formula(x = class ~ qda_prob + rf_prob, data = vld)\n",
       "\n",
       "Models: qda_prob, rf_prob \n",
       "Event:  Class1 \n",
       "Cuts: 11 "
      ]
     },
     "metadata": {},
     "output_type": "display_data"
    }
   ],
   "source": [
    "#Calibrating Probabilities\n",
    "cal_curve <- calibration(class~qda_prob+rf_prob,data=vld)\n",
    "cal_curve"
   ]
  },
  {
   "cell_type": "code",
   "execution_count": 18,
   "metadata": {
    "scrolled": true
   },
   "outputs": [
    {
     "data": {},
     "metadata": {},
     "output_type": "display_data"
    },
    {
     "data": {
      "image/png": "[encoded data removed]",
      "text/plain": [
       "plot without title"
      ]
     },
     "metadata": {},
     "output_type": "display_data"
    }
   ],
   "source": [
    "xyplot(cal_curve,auto.key=list(columns=2))"
   ]
  },
  {
   "cell_type": "markdown",
   "metadata": {},
   "source": [
    "`calibration.plot in gbm package`"
   ]
  },
  {
   "cell_type": "code",
   "execution_count": 19,
   "metadata": {
    "scrolled": true
   },
   "outputs": [
    {
     "data": {
      "text/html": [
       "<table>\n",
       "<thead><tr><th></th><th scope=col>Estimate</th><th scope=col>Std. Error</th><th scope=col>z value</th><th scope=col>Pr(&gt;|z|)</th></tr></thead>\n",
       "<tbody>\n",
       "\t<tr><th scope=row>(Intercept)</th><td>-5.701055   </td><td>0.5005652   </td><td>-11.38924   </td><td>4.731132e-30</td></tr>\n",
       "\t<tr><th scope=row>qda_prob</th><td>11.717292   </td><td>1.0705197   </td><td> 10.94542   </td><td>6.989017e-28</td></tr>\n",
       "</tbody>\n",
       "</table>\n"
      ],
      "text/latex": [
       "\\begin{tabular}{r|llll}\n",
       "  & Estimate & Std. Error & z value & Pr(>\\textbar{}z\\textbar{})\\\\\n",
       "\\hline\n",
       "\t(Intercept) & -5.701055    & 0.5005652    & -11.38924    & 4.731132e-30\\\\\n",
       "\tqda\\_prob & 11.717292    & 1.0705197    &  10.94542    & 6.989017e-28\\\\\n",
       "\\end{tabular}\n"
      ],
      "text/markdown": [
       "\n",
       "| <!--/--> | Estimate | Std. Error | z value | Pr(>|z|) | \n",
       "|---|---|\n",
       "| (Intercept) | -5.701055    | 0.5005652    | -11.38924    | 4.731132e-30 | \n",
       "| qda_prob | 11.717292    | 1.0705197    |  10.94542    | 6.989017e-28 | \n",
       "\n",
       "\n"
      ],
      "text/plain": [
       "            Estimate  Std. Error z value   Pr(>|z|)    \n",
       "(Intercept) -5.701055 0.5005652  -11.38924 4.731132e-30\n",
       "qda_prob    11.717292 1.0705197   10.94542 6.989017e-28"
      ]
     },
     "metadata": {},
     "output_type": "display_data"
    }
   ],
   "source": [
    "sigmodial_cal <- glm(relevel(class,ref=\"Class2\")~qda_prob,\n",
    "              data=trn,family=binomial)\n",
    "coef(summary(sigmodial_cal))"
   ]
  },
  {
   "cell_type": "code",
   "execution_count": 20,
   "metadata": {},
   "outputs": [],
   "source": [
    "sigmodial_prob <- predict(\n",
    "                          sigmodial_cal,\n",
    "                          newdata = vld[,\"qda_prob\",drop=F],\n",
    "                         type=\"response\")\n",
    "vld$qda_sigmodial <- sigmodial_prob"
   ]
  },
  {
   "cell_type": "code",
   "execution_count": 21,
   "metadata": {},
   "outputs": [],
   "source": [
    "library(klaR)\n",
    "bayes_cal <- NaiveBayes(class~qda_prob,data=trn,usekernel=T)\n",
    "\n",
    "bayes_prob <- predict(\n",
    "                     bayes_cal,\n",
    "                     newdata=,vld[,\"qda_prob\",drop=F])\n",
    "vld$qda_bayes <- bayes_prob$posterior[,\"Class1\"]"
   ]
  },
  {
   "cell_type": "code",
   "execution_count": 22,
   "metadata": {
    "scrolled": true
   },
   "outputs": [
    {
     "data": {
      "text/html": [
       "<table>\n",
       "<thead><tr><th scope=col>qda_prob</th><th scope=col>rf_prob</th><th scope=col>qda_sigmodial</th><th scope=col>qda_bayes</th></tr></thead>\n",
       "<tbody>\n",
       "\t<tr><td>0.3830767 </td><td>0.4440    </td><td>0.22927068</td><td>0.2515696 </td></tr>\n",
       "\t<tr><td>0.5440393 </td><td>0.5355    </td><td>0.66231139</td><td>0.6383383 </td></tr>\n",
       "\t<tr><td>0.9846107 </td><td>0.9935    </td><td>0.99708776</td><td>0.9995061 </td></tr>\n",
       "\t<tr><td>0.5463540 </td><td>0.9330    </td><td>0.66835048</td><td>0.6430232 </td></tr>\n",
       "\t<tr><td>0.2426705 </td><td>0.0170    </td><td>0.05428903</td><td>0.0566883 </td></tr>\n",
       "\t<tr><td>0.4823296 </td><td>0.2840    </td><td>0.48763794</td><td>0.5109129 </td></tr>\n",
       "</tbody>\n",
       "</table>\n"
      ],
      "text/latex": [
       "\\begin{tabular}{r|llll}\n",
       " qda\\_prob & rf\\_prob & qda\\_sigmodial & qda\\_bayes\\\\\n",
       "\\hline\n",
       "\t 0.3830767  & 0.4440     & 0.22927068 & 0.2515696 \\\\\n",
       "\t 0.5440393  & 0.5355     & 0.66231139 & 0.6383383 \\\\\n",
       "\t 0.9846107  & 0.9935     & 0.99708776 & 0.9995061 \\\\\n",
       "\t 0.5463540  & 0.9330     & 0.66835048 & 0.6430232 \\\\\n",
       "\t 0.2426705  & 0.0170     & 0.05428903 & 0.0566883 \\\\\n",
       "\t 0.4823296  & 0.2840     & 0.48763794 & 0.5109129 \\\\\n",
       "\\end{tabular}\n"
      ],
      "text/markdown": [
       "\n",
       "qda_prob | rf_prob | qda_sigmodial | qda_bayes | \n",
       "|---|---|---|---|---|---|\n",
       "| 0.3830767  | 0.4440     | 0.22927068 | 0.2515696  | \n",
       "| 0.5440393  | 0.5355     | 0.66231139 | 0.6383383  | \n",
       "| 0.9846107  | 0.9935     | 0.99708776 | 0.9995061  | \n",
       "| 0.5463540  | 0.9330     | 0.66835048 | 0.6430232  | \n",
       "| 0.2426705  | 0.0170     | 0.05428903 | 0.0566883  | \n",
       "| 0.4823296  | 0.2840     | 0.48763794 | 0.5109129  | \n",
       "\n",
       "\n"
      ],
      "text/plain": [
       "  qda_prob  rf_prob qda_sigmodial qda_bayes\n",
       "1 0.3830767 0.4440  0.22927068    0.2515696\n",
       "2 0.5440393 0.5355  0.66231139    0.6383383\n",
       "3 0.9846107 0.9935  0.99708776    0.9995061\n",
       "4 0.5463540 0.9330  0.66835048    0.6430232\n",
       "5 0.2426705 0.0170  0.05428903    0.0566883\n",
       "6 0.4823296 0.2840  0.48763794    0.5109129"
      ]
     },
     "metadata": {},
     "output_type": "display_data"
    }
   ],
   "source": [
    "head(vld[,c(5:6,8,9)])"
   ]
  },
  {
   "cell_type": "code",
   "execution_count": 23,
   "metadata": {
    "scrolled": true
   },
   "outputs": [
    {
     "data": {},
     "metadata": {},
     "output_type": "display_data"
    },
    {
     "data": {
      "image/png": "[encoded data removed]",
      "text/plain": [
       "plot without title"
      ]
     },
     "metadata": {},
     "output_type": "display_data"
    }
   ],
   "source": [
    "cal_curve_2 <- calibration(class~qda_prob+qda_bayes+qda_sigmodial,\n",
    "                          data=vld)\n",
    "xyplot(cal_curve_2,auto.key = list(columns=3))"
   ]
  },
  {
   "cell_type": "markdown",
   "metadata": {},
   "source": [
    "Ref: \n",
    "https://onlinecourses.science.psu.edu/stat507/node/71/"
   ]
  },
  {
   "cell_type": "markdown",
   "metadata": {},
   "source": [
    "&#x1F4AC; Notes\n",
    "\n",
    "> Consider an insurance company that wants to uncover and prosecute fraudulent claims. Using historical claims data, a classification model could be built to predict the probability of claim fraud. This probability would then be combined with the company’s investigation costs and potential onetary loss to determine if pursuing the investigation is `in the best financial interest` of the insurance company. "
   ]
  },
  {
   "cell_type": "markdown",
   "metadata": {},
   "source": [
    "### Evaluating Predictied Classes\n",
    "- Evaluating Predictied Classes\n",
    "    - Confusion Matrix\n",
    "        - overall accuracy rate\n",
    "     - No-information rate\n",
    "     - Kappa\n",
    "\n",
    "$$Kappa=\\frac{O-E}{1-E}$$\n",
    "\n",
    "$$Observed Accuracy = \\frac{TP+TN}{ALL}$$\n",
    "$$Expected Accuracy = \\frac{(TP+FN)*(TP+FP)}{N^2} + \\frac{(TN+FN)*(TN+FP)}{N^2}$$\n",
    "\n",
    "#### Two-Class Problems\n",
    "\n",
    "| Confusion Matrix | Obs_P | Obs_N |\n",
    "| :------| ------: | :------: |\n",
    "| Pred_P | TP | FP |\n",
    "| Pred_N | FN | TN |\n",
    "\n",
    "$$ Sensitivity = \\frac{TP}{TP+FN}$$\n",
    "\n",
    "$$ Specificity = \\frac{TN}{FP+TN}$$\n",
    "\n",
    "$$ FPR = 1-Specificity = \\frac{FP}{FP+TN}$$"
   ]
  },
  {
   "cell_type": "markdown",
   "metadata": {},
   "source": [
    "\\begin{example}\n",
    "\n",
    "| Confusion Matrix | Good | Bad |\n",
    "| :------| ------: | :------: |\n",
    "| Good | TP=130 | FP=36 |\n",
    "| Bad | FN=10 | TN=24 |\n",
    "\n",
    "\\end{example}\n",
    "\n",
    "`Example 1 : Choose the event of interest to be a customer with Good credit`\n",
    "\n",
    "$OverallAccuracy = \\frac{TP}{TP+FP}=\\frac{130}{130+36}=0.78$\n",
    "\n",
    "$No-infomative Rate = \\frac{TP+NF}{ALL} = \\frac{130+10}{200}=0.70$\n",
    "\n",
    "$O = \\frac{TP+TN}{ALL} = \\frac{130+24}{200}=$\n",
    "\n",
    "$Expected Accuracy = \\frac{(TP+FN)*(TP+FP)}{N^2} + \\frac{(TN+FN)*(TN+FP)}{N^2}=\\frac{(130+10)*(130+36)}{200^2}+\\frac{(21+10)(24+36)}{200^2}$\n",
    "\n",
    "$Kappa=\\frac{O-E}{1-E}=0.76$"
   ]
  },
  {
   "cell_type": "markdown",
   "metadata": {},
   "source": [
    "\\begin{example}\n",
    "\n",
    "| Confusion Matrix | Bad | Good |\n",
    "| :------| ------: | :------: |\n",
    "| Bad | TP=24 | FP=10 |\n",
    "| Good | FN=36 | TN=130 |\n",
    "\n",
    "\\end{example}\n",
    "\n",
    "`Example 2 : Choose the event of interest to be a customer with Bad credit`\n",
    "\n",
    "$OverallAccuracy = \\frac{TP}{TP+FP}=\\frac{24}{24+10}=0.71$\n",
    "\n",
    "$No-infomative Rate = \\frac{TP+NF}{ALL} = \\frac{24+36}{200}=0.30$\n",
    "\n",
    "$ Sensitivity = \\frac{TP}{TP+FN}= \\frac{24}{24+36} = 0.4$\n",
    "\n",
    "$ Specificity = \\frac{TN}{FP+TN}  = \\frac{130}{130+10} = 0.93$"
   ]
  },
  {
   "cell_type": "markdown",
   "metadata": {},
   "source": [
    "$$PPV(Positive Predictive Value)=\\frac{Sensitivity*Prevalence}{Sensitivity*Prevalence+(1-Specificity)*(1-Prevalence)}$$\n",
    "\n",
    "$$NPV(Positive Predictive Value)=\\frac{Specificity*(1-Prevalence)}{(1-Sensitivity)*Prevalence+Specificity*(1-Prevalence)}$$\n",
    "\n",
    "`When prevalence=0.5`\n",
    "$$PPV(Positive Predictive Value)=\\frac{TP}{TP+FP}$$\n",
    "\n",
    "$$NPV(Negative Predictive Value)=\\frac{TN}{TN+FN}$$"
   ]
  },
  {
   "cell_type": "markdown",
   "metadata": {},
   "source": [
    "### &#x1F389; Non-Accuracy-Based Criteria\n",
    "`this part is very enlightening`"
   ]
  },
  {
   "cell_type": "markdown",
   "metadata": {},
   "source": [
    "### Evaluating Class Probabilities\n",
    "#### ROC curves\n",
    "> One advantage of using ROC curves to characterize models is that, since it is a function of sensitivity and specificity, the curve is insensitive to disparities in the class proportions (Provost et al. 1998; Fawcett 2006). A disadvantage of using the area under the curve to evaluate models is that it obscures information. \n",
    "#### Lift Charts\n",
    "> Lift charts (Ling and Li 1998) are a visualization tool for assessing the ability of a model to detect events in a data set with two classes."
   ]
  }
 ],
 "metadata": {
  "kernelspec": {
   "display_name": "R",
   "language": "R",
   "name": "ir"
  },
  "language_info": {
   "codemirror_mode": "r",
   "file_extension": ".r",
   "mimetype": "text/x-r-source",
   "name": "R",
   "pygments_lexer": "r",
   "version": "3.5.1"
  },
  "latex_envs": {
   "LaTeX_envs_menu_present": true,
   "autoclose": false,
   "autocomplete": true,
   "bibliofile": "biblio.bib",
   "cite_by": "apalike",
   "current_citInitial": 1,
   "eqLabelWithNumbers": true,
   "eqNumInitial": 1,
   "hotkeys": {
    "equation": "Ctrl-E",
    "itemize": "Ctrl-I"
   },
   "labels_anchors": false,
   "latex_user_defs": false,
   "report_style_numbering": false,
   "user_envs_cfg": false
  },
  "toc": {
   "base_numbering": 1,
   "nav_menu": {},
   "number_sections": true,
   "sideBar": true,
   "skip_h1_title": false,
   "title_cell": "Table of Contents",
   "title_sidebar": "Contents",
   "toc_cell": false,
   "toc_position": {},
   "toc_section_display": true,
   "toc_window_display": false
  }
 },
 "nbformat": 4,
 "nbformat_minor": 2
}
