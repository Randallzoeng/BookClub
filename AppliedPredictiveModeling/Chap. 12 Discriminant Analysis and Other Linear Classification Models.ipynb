{
 "cells": [
  {
   "cell_type": "code",
   "execution_count": 17,
   "metadata": {
    "scrolled": false
   },
   "outputs": [
    {
     "data": {
      "text/html": [
       "'English_United States.1252'"
      ],
      "text/latex": [
       "'English\\_United States.1252'"
      ],
      "text/markdown": [
       "'English_United States.1252'"
      ],
      "text/plain": [
       "[1] \"English_United States.1252\""
      ]
     },
     "metadata": {},
     "output_type": "display_data"
    },
    {
     "name": "stdout",
     "output_type": "stream",
     "text": [
      " chr [1:1073] \"NumCI\" \"NumDR\" \"NumECI\" \"NumEA\" \"NumHV\" \"NumPS\" \"NumSCI\" ...\n",
      " chr [1:252] \"NumCI\" \"NumDR\" \"NumECI\" \"NumPS\" \"NumSCI\" \"NumSR\" \"NumUNK\" ...\n"
     ]
    }
   ],
   "source": [
    "load(\"grant_Data.Rdata\")"
   ]
  },
  {
   "cell_type": "markdown",
   "metadata": {},
   "source": [
    "`there are 1073 predictors in fullSet, However the book show only 1070 predictors @page 311`"
   ]
  },
  {
   "cell_type": "code",
   "execution_count": 30,
   "metadata": {},
   "outputs": [
    {
     "data": {
      "text/html": [
       "<ol class=list-inline>\n",
       "\t<li>'trimmedmat'</li>\n",
       "\t<li>'numbers.discarded'</li>\n",
       "\t<li>'names.discarded'</li>\n",
       "\t<li>'size'</li>\n",
       "</ol>\n"
      ],
      "text/latex": [
       "\\begin{enumerate*}\n",
       "\\item 'trimmedmat'\n",
       "\\item 'numbers.discarded'\n",
       "\\item 'names.discarded'\n",
       "\\item 'size'\n",
       "\\end{enumerate*}\n"
      ],
      "text/markdown": [
       "1. 'trimmedmat'\n",
       "2. 'numbers.discarded'\n",
       "3. 'names.discarded'\n",
       "4. 'size'\n",
       "\n",
       "\n"
      ],
      "text/plain": [
       "[1] \"trimmedmat\"        \"numbers.discarded\" \"names.discarded\"  \n",
       "[4] \"size\"             "
      ]
     },
     "metadata": {},
     "output_type": "display_data"
    }
   ],
   "source": [
    "reducedCovMat <- cov(training[,reducedSet])\n",
    "library(subselect)\n",
    "trimmingResults <- trim.matrix(reducedCovMat)\n",
    "names(trimmingResults)\n",
    "trimmingResults$names.discarded"
   ]
  },
  {
   "cell_type": "code",
   "execution_count": 34,
   "metadata": {
    "scrolled": true
   },
   "outputs": [
    {
     "data": {
      "text/html": [
       "<ol class=list-inline>\n",
       "\t<li>'NumDR'</li>\n",
       "\t<li>'PS.1975'</li>\n",
       "\t<li>'CI.Dept1798'</li>\n",
       "\t<li>'PS.Dept3028'</li>\n",
       "\t<li>'PS.Faculty1'</li>\n",
       "\t<li>'BTotal'</li>\n",
       "\t<li>'numPeople'</li>\n",
       "\t<li>'Apr'</li>\n",
       "\t<li>'Sun'</li>\n",
       "</ol>\n"
      ],
      "text/latex": [
       "\\begin{enumerate*}\n",
       "\\item 'NumDR'\n",
       "\\item 'PS.1975'\n",
       "\\item 'CI.Dept1798'\n",
       "\\item 'PS.Dept3028'\n",
       "\\item 'PS.Faculty1'\n",
       "\\item 'BTotal'\n",
       "\\item 'numPeople'\n",
       "\\item 'Apr'\n",
       "\\item 'Sun'\n",
       "\\end{enumerate*}\n"
      ],
      "text/markdown": [
       "1. 'NumDR'\n",
       "2. 'PS.1975'\n",
       "3. 'CI.Dept1798'\n",
       "4. 'PS.Dept3028'\n",
       "5. 'PS.Faculty1'\n",
       "6. 'BTotal'\n",
       "7. 'numPeople'\n",
       "8. 'Apr'\n",
       "9. 'Sun'\n",
       "\n",
       "\n"
      ],
      "text/plain": [
       "[1] \"NumDR\"       \"PS.1975\"     \"CI.Dept1798\" \"PS.Dept3028\" \"PS.Faculty1\"\n",
       "[6] \"BTotal\"      \"numPeople\"   \"Apr\"         \"Sun\"        "
      ]
     },
     "metadata": {},
     "output_type": "display_data"
    }
   ],
   "source": [
    "#apply to full set\n",
    "fullCovMat <- cov(training[,fullSet])\n",
    "fullSetResults <- trim.matrix(fullCovMat)\n",
    "fullSetResults$names.discarded"
   ]
  },
  {
   "cell_type": "code",
   "execution_count": 2,
   "metadata": {
    "scrolled": true
   },
   "outputs": [
    {
     "data": {
      "text/html": [
       "<ol class=list-inline>\n",
       "\t<li>'successful'</li>\n",
       "\t<li>'unsuccessful'</li>\n",
       "</ol>\n"
      ],
      "text/latex": [
       "\\begin{enumerate*}\n",
       "\\item 'successful'\n",
       "\\item 'unsuccessful'\n",
       "\\end{enumerate*}\n"
      ],
      "text/markdown": [
       "1. 'successful'\n",
       "2. 'unsuccessful'\n",
       "\n",
       "\n"
      ],
      "text/plain": [
       "[1] \"successful\"   \"unsuccessful\""
      ]
     },
     "metadata": {},
     "output_type": "display_data"
    }
   ],
   "source": [
    "levels(training$Class)"
   ]
  },
  {
   "cell_type": "code",
   "execution_count": 19,
   "metadata": {},
   "outputs": [
    {
     "data": {
      "text/plain": [
       "\n",
       "Call:  glm(formula = Class ~ Day, family = binomial, data = training[pre2008, \n",
       "    ])\n",
       "\n",
       "Coefficients:\n",
       "(Intercept)          Day  \n",
       "  -0.919335     0.004238  \n",
       "\n",
       "Degrees of Freedom: 6632 Total (i.e. Null);  6631 Residual\n",
       "Null Deviance:\t    9191 \n",
       "Residual Deviance: 8919 \tAIC: 8923"
      ]
     },
     "metadata": {},
     "output_type": "display_data"
    }
   ],
   "source": [
    "library(caret)\n",
    "fit_glt <- glm(Class~Day,\n",
    "              data=training[pre2008,],\n",
    "              family=binomial)\n",
    "fit_glt"
   ]
  },
  {
   "cell_type": "code",
   "execution_count": 20,
   "metadata": {
    "scrolled": true
   },
   "outputs": [
    {
     "data": {
      "text/html": [
       "<dl class=dl-horizontal>\n",
       "\t<dt>1</dt>\n",
       "\t\t<dd>0.706190689736058</dd>\n",
       "\t<dt>2</dt>\n",
       "\t\t<dd>0.570433724686319</dd>\n",
       "\t<dt>3</dt>\n",
       "\t\t<dd>0.412874870392585</dd>\n",
       "\t<dt>4</dt>\n",
       "\t\t<dd>0.362622864009823</dd>\n",
       "</dl>\n"
      ],
      "text/latex": [
       "\\begin{description*}\n",
       "\\item[1] 0.706190689736058\n",
       "\\item[2] 0.570433724686319\n",
       "\\item[3] 0.412874870392585\n",
       "\\item[4] 0.362622864009823\n",
       "\\end{description*}\n"
      ],
      "text/markdown": [
       "1\n",
       ":   0.7061906897360582\n",
       ":   0.5704337246863193\n",
       ":   0.4128748703925854\n",
       ":   0.362622864009823\n",
       "\n"
      ],
      "text/plain": [
       "        1         2         3         4 \n",
       "0.7061907 0.5704337 0.4128749 0.3626229 "
      ]
     },
     "metadata": {},
     "output_type": "display_data"
    }
   ],
   "source": [
    "successProb <- 1- predict(\n",
    "                          fit_glt,\n",
    "                          newdata = data.frame(Day=c(10,150,300,350)),\n",
    "                         type=\"response\")\n",
    "\n",
    "successProb"
   ]
  },
  {
   "cell_type": "code",
   "execution_count": 21,
   "metadata": {
    "scrolled": true
   },
   "outputs": [
    {
     "data": {
      "text/plain": [
       "\n",
       "Call:  glm(formula = Class ~ Day + I(Day^2), family = binomial, data = training[pre2008, \n",
       "    ])\n",
       "\n",
       "Coefficients:\n",
       "(Intercept)          Day     I(Day^2)  \n",
       "  -1.881341     0.018622    -0.000038  \n",
       "\n",
       "Degrees of Freedom: 6632 Total (i.e. Null);  6630 Residual\n",
       "Null Deviance:\t    9191 \n",
       "Residual Deviance: 8721 \tAIC: 8727"
      ]
     },
     "metadata": {},
     "output_type": "display_data"
    }
   ],
   "source": [
    "fit_daySquared <- glm(\n",
    "                      Class~Day + I(Day^2),\n",
    "                     data=training[pre2008,],\n",
    "                     family=binomial)\n",
    "fit_daySquared"
   ]
  },
  {
   "cell_type": "code",
   "execution_count": 22,
   "metadata": {
    "scrolled": false
   },
   "outputs": [
    {
     "data": {
      "text/plain": [
       "Logistic Regression Model\n",
       " \n",
       " lrm(formula = Class ~ rcs(Day), data = training[pre2008, ])\n",
       " \n",
       "                       Model Likelihood     Discrimination    Rank Discrim.    \n",
       "                          Ratio Test           Indexes           Indexes       \n",
       " Obs          6633    LR chi2     461.53    R2       0.090    C       0.614    \n",
       "  successful  3233    d.f.             4    g        0.538    Dxy     0.228    \n",
       "  unsuccessful3400    Pr(> chi2) <0.0001    gr       1.713    gamma   0.237    \n",
       " max |deriv| 2e-06                          gp       0.122    tau-a   0.114    \n",
       "                                            Brier    0.234                     \n",
       " \n",
       "           Coef    S.E.   Wald Z Pr(>|Z|)\n",
       " Intercept -1.6833 0.1110 -15.16 <0.0001 \n",
       " Day        0.0124 0.0013   9.24 <0.0001 \n",
       " Day'      -0.0072 0.0023  -3.17 0.0015  \n",
       " Day''      0.0193 0.0367   0.52 0.6001  \n",
       " Day'''    -0.0888 0.1026  -0.87 0.3866  \n",
       " "
      ]
     },
     "metadata": {},
     "output_type": "display_data"
    }
   ],
   "source": [
    "library(rms)\n",
    "fit_rcs <- lrm(Class~rcs(Day),data=training[pre2008,])\n",
    "fit_rcs"
   ]
  },
  {
   "cell_type": "code",
   "execution_count": 23,
   "metadata": {},
   "outputs": [
    {
     "data": {
      "text/html": [
       "357"
      ],
      "text/latex": [
       "357"
      ],
      "text/markdown": [
       "357"
      ],
      "text/plain": [
       "[1] 357"
      ]
     },
     "metadata": {},
     "output_type": "display_data"
    }
   ],
   "source": [
    "max(training[pre2008,'Day'])"
   ]
  },
  {
   "cell_type": "code",
   "execution_count": 24,
   "metadata": {
    "scrolled": true
   },
   "outputs": [
    {
     "data": {},
     "metadata": {},
     "output_type": "display_data"
    },
    {
     "data": {
      "image/png": "[encoded data removed]",
      "text/plain": [
       "plot without title"
      ]
     },
     "metadata": {},
     "output_type": "display_data"
    }
   ],
   "source": [
    "dayProfile <- Predict(fit_rcs,Day=0:365,fun=function(x)-x)\n",
    "plot(dayProfile,ylab=\"Log Odds\")"
   ]
  },
  {
   "cell_type": "code",
   "execution_count": 4,
   "metadata": {},
   "outputs": [],
   "source": [
    "training$Day2 <- training$Day^2\n",
    "fullSet <- c(fullSet,\"Day2\")\n",
    "reducedSet <- c(reducedSet,\"Day2\")"
   ]
  },
  {
   "cell_type": "code",
   "execution_count": 6,
   "metadata": {
    "scrolled": true
   },
   "outputs": [
    {
     "name": "stderr",
     "output_type": "stream",
     "text": [
      "Warning message:\n",
      "\"glm.fit: fitted probabilities numerically 0 or 1 occurred\"Warning message in predict.lm(object, newdata, se.fit, scale = 1, type = ifelse(type == :\n",
      "\"prediction from a rank-deficient fit may be misleading\"Warning message in predict.lm(object, newdata, se.fit, scale = 1, type = ifelse(type == :\n",
      "\"prediction from a rank-deficient fit may be misleading\"Warning message:\n",
      "\"glm.fit: fitted probabilities numerically 0 or 1 occurred\""
     ]
    },
    {
     "data": {
      "text/plain": [
       "Generalized Linear Model \n",
       "\n",
       "8190 samples\n",
       "1074 predictors\n",
       "   2 classes: 'successful', 'unsuccessful' \n",
       "\n",
       "No pre-processing\n",
       "Resampling: Repeated Train/Test Splits Estimated (1 reps, 75%) \n",
       "Summary of sample sizes: 6633 \n",
       "Resampling results:\n",
       "\n",
       "  ROC        Sens       Spec     \n",
       "  0.7820882  0.7701754  0.7619048\n"
      ]
     },
     "metadata": {},
     "output_type": "display_data"
    }
   ],
   "source": [
    "library(caret)\n",
    "set.seed(476)\n",
    "ctrl <- trainControl(method = \"LGOCV\",\n",
    "                     summaryFunction = twoClassSummary,\n",
    "                     classProbs = TRUE,\n",
    "                     index = list(TrainSet = pre2008),\n",
    "                     savePredictions = TRUE)\n",
    "\n",
    "fit_lrFull <- train(\n",
    "                    training[,fullSet],y=training$Class,\n",
    "                    method=\"glm\",metric=\"ROC\",trControl=ctrl)\n",
    "fit_lrFull     "
   ]
  },
  {
   "cell_type": "markdown",
   "metadata": {},
   "source": [
    "&#x1F640;\n",
    "- [prediction from a rank-deficient fit may be misleading](http://bbs.pinggu.org/thread-3033898-1-1.html)\n",
    "- [glm.fit: fitted probabilities numerically 0 or 1 occurred](https://blog.csdn.net/m0_37119401/article/details/71007117?locationNum=7&fps=1)"
   ]
  },
  {
   "cell_type": "code",
   "execution_count": 11,
   "metadata": {},
   "outputs": [
    {
     "data": {
      "text/plain": [
       "Generalized Linear Model \n",
       "\n",
       "8190 samples\n",
       " 253 predictor\n",
       "   2 classes: 'successful', 'unsuccessful' \n",
       "\n",
       "No pre-processing\n",
       "Resampling: Repeated Train/Test Splits Estimated (1 reps, 75%) \n",
       "Summary of sample sizes: 6633 \n",
       "Resampling results:\n",
       "\n",
       "  ROC        Sens       Spec     \n",
       "  0.8715406  0.8035088  0.8216819\n"
      ]
     },
     "metadata": {},
     "output_type": "display_data"
    }
   ],
   "source": [
    "set.seed(476)\n",
    "fit_lrReduced <- train(\n",
    "                      training[,reducedSet],\n",
    "                      y=training$Class,\n",
    "                      method = \"glm\",\n",
    "                      metric=\"ROC\",\n",
    "                      trControl=ctrl)\n",
    "fit_lrReduced"
   ]
  },
  {
   "cell_type": "code",
   "execution_count": 13,
   "metadata": {},
   "outputs": [
    {
     "data": {
      "text/html": [
       "<table>\n",
       "<thead><tr><th scope=col>pred</th><th scope=col>obs</th><th scope=col>successful</th><th scope=col>unsuccessful</th><th scope=col>rowIndex</th><th scope=col>parameter</th><th scope=col>Resample</th></tr></thead>\n",
       "<tbody>\n",
       "\t<tr><td>successful  </td><td>successful  </td><td>0.9987762   </td><td>0.001223821 </td><td>6634        </td><td>none        </td><td>TrainSet    </td></tr>\n",
       "\t<tr><td>successful  </td><td>successful  </td><td>0.8515076   </td><td>0.148492399 </td><td>6635        </td><td>none        </td><td>TrainSet    </td></tr>\n",
       "\t<tr><td>successful  </td><td>successful  </td><td>0.9201932   </td><td>0.079806850 </td><td>6636        </td><td>none        </td><td>TrainSet    </td></tr>\n",
       "\t<tr><td>successful  </td><td>successful  </td><td>0.9669428   </td><td>0.033057191 </td><td>6637        </td><td>none        </td><td>TrainSet    </td></tr>\n",
       "\t<tr><td>successful  </td><td>unsuccessful</td><td>0.6072577   </td><td>0.392742264 </td><td>6638        </td><td>none        </td><td>TrainSet    </td></tr>\n",
       "\t<tr><td>successful  </td><td>successful  </td><td>0.9892840   </td><td>0.010715961 </td><td>6639        </td><td>none        </td><td>TrainSet    </td></tr>\n",
       "</tbody>\n",
       "</table>\n"
      ],
      "text/latex": [
       "\\begin{tabular}{r|lllllll}\n",
       " pred & obs & successful & unsuccessful & rowIndex & parameter & Resample\\\\\n",
       "\\hline\n",
       "\t successful   & successful   & 0.9987762    & 0.001223821  & 6634         & none         & TrainSet    \\\\\n",
       "\t successful   & successful   & 0.8515076    & 0.148492399  & 6635         & none         & TrainSet    \\\\\n",
       "\t successful   & successful   & 0.9201932    & 0.079806850  & 6636         & none         & TrainSet    \\\\\n",
       "\t successful   & successful   & 0.9669428    & 0.033057191  & 6637         & none         & TrainSet    \\\\\n",
       "\t successful   & unsuccessful & 0.6072577    & 0.392742264  & 6638         & none         & TrainSet    \\\\\n",
       "\t successful   & successful   & 0.9892840    & 0.010715961  & 6639         & none         & TrainSet    \\\\\n",
       "\\end{tabular}\n"
      ],
      "text/markdown": [
       "\n",
       "pred | obs | successful | unsuccessful | rowIndex | parameter | Resample | \n",
       "|---|---|---|---|---|---|\n",
       "| successful   | successful   | 0.9987762    | 0.001223821  | 6634         | none         | TrainSet     | \n",
       "| successful   | successful   | 0.8515076    | 0.148492399  | 6635         | none         | TrainSet     | \n",
       "| successful   | successful   | 0.9201932    | 0.079806850  | 6636         | none         | TrainSet     | \n",
       "| successful   | successful   | 0.9669428    | 0.033057191  | 6637         | none         | TrainSet     | \n",
       "| successful   | unsuccessful | 0.6072577    | 0.392742264  | 6638         | none         | TrainSet     | \n",
       "| successful   | successful   | 0.9892840    | 0.010715961  | 6639         | none         | TrainSet     | \n",
       "\n",
       "\n"
      ],
      "text/plain": [
       "  pred       obs          successful unsuccessful rowIndex parameter Resample\n",
       "1 successful successful   0.9987762  0.001223821  6634     none      TrainSet\n",
       "2 successful successful   0.8515076  0.148492399  6635     none      TrainSet\n",
       "3 successful successful   0.9201932  0.079806850  6636     none      TrainSet\n",
       "4 successful successful   0.9669428  0.033057191  6637     none      TrainSet\n",
       "5 successful unsuccessful 0.6072577  0.392742264  6638     none      TrainSet\n",
       "6 successful successful   0.9892840  0.010715961  6639     none      TrainSet"
      ]
     },
     "metadata": {},
     "output_type": "display_data"
    }
   ],
   "source": [
    "head(fit_lrReduced$pred)"
   ]
  },
  {
   "cell_type": "code",
   "execution_count": 15,
   "metadata": {
    "scrolled": true
   },
   "outputs": [
    {
     "data": {
      "text/plain": [
       "Confusion Matrix and Statistics\n",
       "\n",
       "              Reference\n",
       "Prediction     successful unsuccessful\n",
       "  successful          458          176\n",
       "  unsuccessful        112          811\n",
       "                                         \n",
       "               Accuracy : 0.815          \n",
       "                 95% CI : (0.7948, 0.834)\n",
       "    No Information Rate : 0.6339         \n",
       "    P-Value [Acc > NIR] : < 2.2e-16      \n",
       "                                         \n",
       "                  Kappa : 0.6107         \n",
       " Mcnemar's Test P-Value : 0.0002054      \n",
       "                                         \n",
       "            Sensitivity : 0.8035         \n",
       "            Specificity : 0.8217         \n",
       "         Pos Pred Value : 0.7224         \n",
       "         Neg Pred Value : 0.8787         \n",
       "             Prevalence : 0.3661         \n",
       "         Detection Rate : 0.2942         \n",
       "   Detection Prevalence : 0.4072         \n",
       "      Balanced Accuracy : 0.8126         \n",
       "                                         \n",
       "       'Positive' Class : successful     \n",
       "                                         "
      ]
     },
     "metadata": {},
     "output_type": "display_data"
    }
   ],
   "source": [
    "confusionMatrix(data=fit_lrReduced$pred$pred,reference = fit_lrReduced$pred$obs)"
   ]
  },
  {
   "cell_type": "code",
   "execution_count": 18,
   "metadata": {},
   "outputs": [
    {
     "data": {
      "text/html": [
       "0.871540553511438"
      ],
      "text/latex": [
       "0.871540553511438"
      ],
      "text/markdown": [
       "0.871540553511438"
      ],
      "text/plain": [
       "Area under the curve: 0.8715"
      ]
     },
     "metadata": {},
     "output_type": "display_data"
    },
    {
     "data": {
      "image/png": "[encoded data removed]",
      "text/plain": [
       "plot without title"
      ]
     },
     "metadata": {},
     "output_type": "display_data"
    }
   ],
   "source": [
    "library(pROC)\n",
    "roc_reduced <- roc(\n",
    "                   response = fit_lrReduced$pred$obs,\n",
    "                   predictor = fit_lrReduced$pred$successful,\n",
    "                  levels=rev(levels(fit_lrReduced$pred$obs)))\n",
    "\n",
    "plot(roc_reduced,legacy.axes=T)\n",
    "auc(roc_reduced)"
   ]
  }
 ],
 "metadata": {
  "kernelspec": {
   "display_name": "R",
   "language": "R",
   "name": "ir"
  },
  "language_info": {
   "codemirror_mode": "r",
   "file_extension": ".r",
   "mimetype": "text/x-r-source",
   "name": "R",
   "pygments_lexer": "r",
   "version": "3.5.1"
  },
  "latex_envs": {
   "LaTeX_envs_menu_present": true,
   "autoclose": false,
   "autocomplete": true,
   "bibliofile": "biblio.bib",
   "cite_by": "apalike",
   "current_citInitial": 1,
   "eqLabelWithNumbers": true,
   "eqNumInitial": 1,
   "hotkeys": {
    "equation": "Ctrl-E",
    "itemize": "Ctrl-I"
   },
   "labels_anchors": false,
   "latex_user_defs": false,
   "report_style_numbering": false,
   "user_envs_cfg": false
  },
  "toc": {
   "base_numbering": 1,
   "nav_menu": {},
   "number_sections": true,
   "sideBar": true,
   "skip_h1_title": false,
   "title_cell": "Table of Contents",
   "title_sidebar": "Contents",
   "toc_cell": false,
   "toc_position": {},
   "toc_section_display": true,
   "toc_window_display": false
  }
 },
 "nbformat": 4,
 "nbformat_minor": 2
}
