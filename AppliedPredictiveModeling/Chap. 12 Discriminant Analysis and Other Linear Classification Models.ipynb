{
 "cells": [
  {
   "cell_type": "code",
   "execution_count": 1,
   "metadata": {
    "scrolled": true
   },
   "outputs": [],
   "source": [
    "library(caret)\n",
    "library(doMC)\n",
    "registerDoMC(12)\n",
    "library(plyr)\n",
    "library(reshape2)\n",
    "library(pROC)\n",
    "load(\"grant_Data.Rdata\")"
   ]
  },
  {
   "cell_type": "markdown",
   "metadata": {},
   "source": [
    "`there are 1073 predictors in fullSet, However the book show only 1070 predictors @page 311`"
   ]
  },
  {
   "cell_type": "code",
   "execution_count": 2,
   "metadata": {},
   "outputs": [],
   "source": [
    "#remove zear var cols first before scaling\n",
    "ZeroVarCol <- c(\"Sponsor260D\",\"Sponsor281A\" , \"Sponsor315C\")\n",
    "fullSet <- fullSet[! fullSet %in% ZeroVarCol]"
   ]
  },
  {
   "cell_type": "code",
   "execution_count": 5,
   "metadata": {},
   "outputs": [
    {
     "data": {
      "text/html": [
       "<ol class=list-inline>\n",
       "\t<li>'trimmedmat'</li>\n",
       "\t<li>'numbers.discarded'</li>\n",
       "\t<li>'names.discarded'</li>\n",
       "\t<li>'size'</li>\n",
       "</ol>\n"
      ],
      "text/latex": [
       "\\begin{enumerate*}\n",
       "\\item 'trimmedmat'\n",
       "\\item 'numbers.discarded'\n",
       "\\item 'names.discarded'\n",
       "\\item 'size'\n",
       "\\end{enumerate*}\n"
      ],
      "text/markdown": [
       "1. 'trimmedmat'\n",
       "2. 'numbers.discarded'\n",
       "3. 'names.discarded'\n",
       "4. 'size'\n",
       "\n",
       "\n"
      ],
      "text/plain": [
       "[1] \"trimmedmat\"        \"numbers.discarded\" \"names.discarded\"  \n",
       "[4] \"size\"             "
      ]
     },
     "metadata": {},
     "output_type": "display_data"
    },
    {
     "data": {
      "text/html": [],
      "text/latex": [],
      "text/markdown": [],
      "text/plain": [
       "character(0)"
      ]
     },
     "metadata": {},
     "output_type": "display_data"
    }
   ],
   "source": [
    "reducedCovMat <- cov(training[,reducedSet])\n",
    "library(subselect)\n",
    "trimmingResults <- trim.matrix(reducedCovMat)\n",
    "names(trimmingResults)\n",
    "trimmingResults$names.discarded"
   ]
  },
  {
   "cell_type": "code",
   "execution_count": 6,
   "metadata": {
    "scrolled": true
   },
   "outputs": [
    {
     "data": {
      "text/html": [
       "<ol class=list-inline>\n",
       "\t<li>'NumDR'</li>\n",
       "\t<li>'NumPS'</li>\n",
       "\t<li>'PS.Dept1033'</li>\n",
       "\t<li>'CI.Dept118'</li>\n",
       "\t<li>'PS.Dept3258'</li>\n",
       "\t<li>'CTotal'</li>\n",
       "\t<li>'numPeople'</li>\n",
       "\t<li>'Jun'</li>\n",
       "\t<li>'Wed'</li>\n",
       "</ol>\n"
      ],
      "text/latex": [
       "\\begin{enumerate*}\n",
       "\\item 'NumDR'\n",
       "\\item 'NumPS'\n",
       "\\item 'PS.Dept1033'\n",
       "\\item 'CI.Dept118'\n",
       "\\item 'PS.Dept3258'\n",
       "\\item 'CTotal'\n",
       "\\item 'numPeople'\n",
       "\\item 'Jun'\n",
       "\\item 'Wed'\n",
       "\\end{enumerate*}\n"
      ],
      "text/markdown": [
       "1. 'NumDR'\n",
       "2. 'NumPS'\n",
       "3. 'PS.Dept1033'\n",
       "4. 'CI.Dept118'\n",
       "5. 'PS.Dept3258'\n",
       "6. 'CTotal'\n",
       "7. 'numPeople'\n",
       "8. 'Jun'\n",
       "9. 'Wed'\n",
       "\n",
       "\n"
      ],
      "text/plain": [
       "[1] \"NumDR\"       \"NumPS\"       \"PS.Dept1033\" \"CI.Dept118\"  \"PS.Dept3258\"\n",
       "[6] \"CTotal\"      \"numPeople\"   \"Jun\"         \"Wed\"        "
      ]
     },
     "metadata": {},
     "output_type": "display_data"
    }
   ],
   "source": [
    "#apply to full set\n",
    "fullCovMat <- cov(training[,fullSet])\n",
    "fullSetResults <- trim.matrix(fullCovMat)\n",
    "fullSetResults$names.discarded"
   ]
  },
  {
   "cell_type": "code",
   "execution_count": 7,
   "metadata": {
    "scrolled": true
   },
   "outputs": [
    {
     "data": {
      "text/html": [
       "<ol class=list-inline>\n",
       "\t<li>'successful'</li>\n",
       "\t<li>'unsuccessful'</li>\n",
       "</ol>\n"
      ],
      "text/latex": [
       "\\begin{enumerate*}\n",
       "\\item 'successful'\n",
       "\\item 'unsuccessful'\n",
       "\\end{enumerate*}\n"
      ],
      "text/markdown": [
       "1. 'successful'\n",
       "2. 'unsuccessful'\n",
       "\n",
       "\n"
      ],
      "text/plain": [
       "[1] \"successful\"   \"unsuccessful\""
      ]
     },
     "metadata": {},
     "output_type": "display_data"
    }
   ],
   "source": [
    "levels(training$Class)"
   ]
  },
  {
   "cell_type": "code",
   "execution_count": 8,
   "metadata": {},
   "outputs": [
    {
     "name": "stderr",
     "output_type": "stream",
     "text": [
      "Loading required package: lattice\n",
      "Loading required package: ggplot2\n"
     ]
    },
    {
     "data": {
      "text/plain": [
       "\n",
       "Call:  glm(formula = Class ~ Day, family = binomial, data = training[pre2008, \n",
       "    ])\n",
       "\n",
       "Coefficients:\n",
       "(Intercept)          Day  \n",
       "  -0.919335     0.004238  \n",
       "\n",
       "Degrees of Freedom: 6632 Total (i.e. Null);  6631 Residual\n",
       "Null Deviance:\t    9191 \n",
       "Residual Deviance: 8919 \tAIC: 8923"
      ]
     },
     "metadata": {},
     "output_type": "display_data"
    }
   ],
   "source": [
    "library(caret)\n",
    "fit_glt <- glm(Class~Day,\n",
    "              data=training[pre2008,],\n",
    "              family=binomial)\n",
    "fit_glt"
   ]
  },
  {
   "cell_type": "code",
   "execution_count": 9,
   "metadata": {
    "scrolled": true
   },
   "outputs": [
    {
     "data": {
      "text/html": [
       "<dl class=dl-horizontal>\n",
       "\t<dt>1</dt>\n",
       "\t\t<dd>0.706190689736058</dd>\n",
       "\t<dt>2</dt>\n",
       "\t\t<dd>0.570433724686319</dd>\n",
       "\t<dt>3</dt>\n",
       "\t\t<dd>0.412874870392585</dd>\n",
       "\t<dt>4</dt>\n",
       "\t\t<dd>0.362622864009823</dd>\n",
       "</dl>\n"
      ],
      "text/latex": [
       "\\begin{description*}\n",
       "\\item[1] 0.706190689736058\n",
       "\\item[2] 0.570433724686319\n",
       "\\item[3] 0.412874870392585\n",
       "\\item[4] 0.362622864009823\n",
       "\\end{description*}\n"
      ],
      "text/markdown": [
       "1\n",
       ":   0.7061906897360582\n",
       ":   0.5704337246863193\n",
       ":   0.4128748703925854\n",
       ":   0.362622864009823\n",
       "\n"
      ],
      "text/plain": [
       "        1         2         3         4 \n",
       "0.7061907 0.5704337 0.4128749 0.3626229 "
      ]
     },
     "metadata": {},
     "output_type": "display_data"
    }
   ],
   "source": [
    "successProb <- 1- predict(\n",
    "                          fit_glt,\n",
    "                          newdata = data.frame(Day=c(10,150,300,350)),\n",
    "                         type=\"response\")\n",
    "\n",
    "successProb"
   ]
  },
  {
   "cell_type": "code",
   "execution_count": 10,
   "metadata": {
    "scrolled": true
   },
   "outputs": [
    {
     "data": {
      "text/plain": [
       "\n",
       "Call:  glm(formula = Class ~ Day + I(Day^2), family = binomial, data = training[pre2008, \n",
       "    ])\n",
       "\n",
       "Coefficients:\n",
       "(Intercept)          Day     I(Day^2)  \n",
       "  -1.881341     0.018622    -0.000038  \n",
       "\n",
       "Degrees of Freedom: 6632 Total (i.e. Null);  6630 Residual\n",
       "Null Deviance:\t    9191 \n",
       "Residual Deviance: 8721 \tAIC: 8727"
      ]
     },
     "metadata": {},
     "output_type": "display_data"
    }
   ],
   "source": [
    "fit_daySquared <- glm(\n",
    "                      Class~Day + I(Day^2),\n",
    "                     data=training[pre2008,],\n",
    "                     family=binomial)\n",
    "fit_daySquared"
   ]
  },
  {
   "cell_type": "code",
   "execution_count": 11,
   "metadata": {
    "scrolled": false
   },
   "outputs": [
    {
     "name": "stderr",
     "output_type": "stream",
     "text": [
      "Loading required package: Hmisc\n",
      "Loading required package: survival\n",
      "\n",
      "Attaching package: 'survival'\n",
      "\n",
      "The following object is masked from 'package:caret':\n",
      "\n",
      "    cluster\n",
      "\n",
      "Loading required package: Formula\n",
      "\n",
      "Attaching package: 'Hmisc'\n",
      "\n",
      "The following objects are masked from 'package:base':\n",
      "\n",
      "    format.pval, units\n",
      "\n",
      "Loading required package: SparseM\n",
      "\n",
      "Attaching package: 'SparseM'\n",
      "\n",
      "The following object is masked from 'package:base':\n",
      "\n",
      "    backsolve\n",
      "\n"
     ]
    },
    {
     "data": {
      "text/plain": [
       "Logistic Regression Model\n",
       " \n",
       " lrm(formula = Class ~ rcs(Day), data = training[pre2008, ])\n",
       " \n",
       "                       Model Likelihood     Discrimination    Rank Discrim.    \n",
       "                          Ratio Test           Indexes           Indexes       \n",
       " Obs          6633    LR chi2     461.53    R2       0.090    C       0.614    \n",
       "  successful  3233    d.f.             4    g        0.538    Dxy     0.228    \n",
       "  unsuccessful3400    Pr(> chi2) <0.0001    gr       1.713    gamma   0.237    \n",
       " max |deriv| 2e-06                          gp       0.122    tau-a   0.114    \n",
       "                                            Brier    0.234                     \n",
       " \n",
       "           Coef    S.E.   Wald Z Pr(>|Z|)\n",
       " Intercept -1.6833 0.1110 -15.16 <0.0001 \n",
       " Day        0.0124 0.0013   9.24 <0.0001 \n",
       " Day'      -0.0072 0.0023  -3.17 0.0015  \n",
       " Day''      0.0193 0.0367   0.52 0.6001  \n",
       " Day'''    -0.0888 0.1026  -0.87 0.3866  \n",
       " "
      ]
     },
     "metadata": {},
     "output_type": "display_data"
    }
   ],
   "source": [
    "library(rms)\n",
    "fit_rcs <- lrm(Class~rcs(Day),data=training[pre2008,])\n",
    "fit_rcs"
   ]
  },
  {
   "cell_type": "code",
   "execution_count": 12,
   "metadata": {},
   "outputs": [
    {
     "data": {
      "text/html": [
       "357"
      ],
      "text/latex": [
       "357"
      ],
      "text/markdown": [
       "357"
      ],
      "text/plain": [
       "[1] 357"
      ]
     },
     "metadata": {},
     "output_type": "display_data"
    }
   ],
   "source": [
    "max(training[pre2008,'Day'])"
   ]
  },
  {
   "cell_type": "code",
   "execution_count": 13,
   "metadata": {
    "scrolled": true
   },
   "outputs": [
    {
     "data": {},
     "metadata": {},
     "output_type": "display_data"
    },
    {
     "data": {
      "image/png": "[encoded data removed]",
      "text/plain": [
       "plot without title"
      ]
     },
     "metadata": {},
     "output_type": "display_data"
    }
   ],
   "source": [
    "dayProfile <- Predict(fit_rcs,Day=0:365,fun=function(x)-x)\n",
    "plot(dayProfile,ylab=\"Log Odds\")"
   ]
  },
  {
   "cell_type": "code",
   "execution_count": 14,
   "metadata": {},
   "outputs": [],
   "source": [
    "training$Day2 <- training$Day^2\n",
    "fullSet <- c(fullSet,\"Day2\")\n",
    "reducedSet <- c(reducedSet,\"Day2\")"
   ]
  },
  {
   "cell_type": "code",
   "execution_count": 15,
   "metadata": {
    "scrolled": true
   },
   "outputs": [
    {
     "name": "stderr",
     "output_type": "stream",
     "text": [
      "Warning message:\n",
      "\"glm.fit: fitted probabilities numerically 0 or 1 occurred\"Warning message in predict.lm(object, newdata, se.fit, scale = 1, type = ifelse(type == :\n",
      "\"prediction from a rank-deficient fit may be misleading\"Warning message in predict.lm(object, newdata, se.fit, scale = 1, type = ifelse(type == :\n",
      "\"prediction from a rank-deficient fit may be misleading\"Warning message:\n",
      "\"glm.fit: fitted probabilities numerically 0 or 1 occurred\""
     ]
    },
    {
     "data": {
      "text/plain": [
       "Generalized Linear Model \n",
       "\n",
       "8190 samples\n",
       "1071 predictors\n",
       "   2 classes: 'successful', 'unsuccessful' \n",
       "\n",
       "No pre-processing\n",
       "Resampling: Repeated Train/Test Splits Estimated (1 reps, 75%) \n",
       "Summary of sample sizes: 6633 \n",
       "Resampling results:\n",
       "\n",
       "  ROC        Sens       Spec     \n",
       "  0.7820882  0.7701754  0.7619048\n"
      ]
     },
     "metadata": {},
     "output_type": "display_data"
    }
   ],
   "source": [
    "library(caret)\n",
    "set.seed(476)\n",
    "ctrl <- trainControl(method = \"LGOCV\",\n",
    "                     summaryFunction = twoClassSummary,\n",
    "                     classProbs = TRUE,\n",
    "                     index = list(TrainSet = pre2008),\n",
    "                     savePredictions = TRUE)\n",
    "\n",
    "fit_lrFull <- train(\n",
    "                    training[,fullSet],y=training$Class,\n",
    "                    method=\"glm\",metric=\"ROC\",trControl=ctrl)\n",
    "fit_lrFull     "
   ]
  },
  {
   "cell_type": "markdown",
   "metadata": {},
   "source": [
    "&#x1F640;\n",
    "- [prediction from a rank-deficient fit may be misleading](http://bbs.pinggu.org/thread-3033898-1-1.html)\n",
    "- [glm.fit: fitted probabilities numerically 0 or 1 occurred](https://blog.csdn.net/m0_37119401/article/details/71007117?locationNum=7&fps=1)"
   ]
  },
  {
   "cell_type": "code",
   "execution_count": 16,
   "metadata": {},
   "outputs": [
    {
     "data": {
      "text/plain": [
       "Generalized Linear Model \n",
       "\n",
       "8190 samples\n",
       " 253 predictor\n",
       "   2 classes: 'successful', 'unsuccessful' \n",
       "\n",
       "No pre-processing\n",
       "Resampling: Repeated Train/Test Splits Estimated (1 reps, 75%) \n",
       "Summary of sample sizes: 6633 \n",
       "Resampling results:\n",
       "\n",
       "  ROC        Sens       Spec     \n",
       "  0.8715406  0.8035088  0.8216819\n"
      ]
     },
     "metadata": {},
     "output_type": "display_data"
    }
   ],
   "source": [
    "set.seed(476)\n",
    "fit_lrReduced <- train(\n",
    "                      training[,reducedSet],\n",
    "                      y=training$Class,\n",
    "                      method = \"glm\",\n",
    "                      metric=\"ROC\",\n",
    "                      trControl=ctrl)\n",
    "fit_lrReduced"
   ]
  },
  {
   "cell_type": "code",
   "execution_count": 17,
   "metadata": {},
   "outputs": [
    {
     "data": {
      "text/html": [
       "<table>\n",
       "<thead><tr><th scope=col>pred</th><th scope=col>obs</th><th scope=col>successful</th><th scope=col>unsuccessful</th><th scope=col>rowIndex</th><th scope=col>parameter</th><th scope=col>Resample</th></tr></thead>\n",
       "<tbody>\n",
       "\t<tr><td>successful  </td><td>successful  </td><td>0.9987762   </td><td>0.001223821 </td><td>6634        </td><td>none        </td><td>TrainSet    </td></tr>\n",
       "\t<tr><td>successful  </td><td>successful  </td><td>0.8515076   </td><td>0.148492399 </td><td>6635        </td><td>none        </td><td>TrainSet    </td></tr>\n",
       "\t<tr><td>successful  </td><td>successful  </td><td>0.9201932   </td><td>0.079806850 </td><td>6636        </td><td>none        </td><td>TrainSet    </td></tr>\n",
       "\t<tr><td>successful  </td><td>successful  </td><td>0.9669428   </td><td>0.033057191 </td><td>6637        </td><td>none        </td><td>TrainSet    </td></tr>\n",
       "\t<tr><td>successful  </td><td>unsuccessful</td><td>0.6072577   </td><td>0.392742264 </td><td>6638        </td><td>none        </td><td>TrainSet    </td></tr>\n",
       "\t<tr><td>successful  </td><td>successful  </td><td>0.9892840   </td><td>0.010715961 </td><td>6639        </td><td>none        </td><td>TrainSet    </td></tr>\n",
       "</tbody>\n",
       "</table>\n"
      ],
      "text/latex": [
       "\\begin{tabular}{r|lllllll}\n",
       " pred & obs & successful & unsuccessful & rowIndex & parameter & Resample\\\\\n",
       "\\hline\n",
       "\t successful   & successful   & 0.9987762    & 0.001223821  & 6634         & none         & TrainSet    \\\\\n",
       "\t successful   & successful   & 0.8515076    & 0.148492399  & 6635         & none         & TrainSet    \\\\\n",
       "\t successful   & successful   & 0.9201932    & 0.079806850  & 6636         & none         & TrainSet    \\\\\n",
       "\t successful   & successful   & 0.9669428    & 0.033057191  & 6637         & none         & TrainSet    \\\\\n",
       "\t successful   & unsuccessful & 0.6072577    & 0.392742264  & 6638         & none         & TrainSet    \\\\\n",
       "\t successful   & successful   & 0.9892840    & 0.010715961  & 6639         & none         & TrainSet    \\\\\n",
       "\\end{tabular}\n"
      ],
      "text/markdown": [
       "\n",
       "pred | obs | successful | unsuccessful | rowIndex | parameter | Resample | \n",
       "|---|---|---|---|---|---|\n",
       "| successful   | successful   | 0.9987762    | 0.001223821  | 6634         | none         | TrainSet     | \n",
       "| successful   | successful   | 0.8515076    | 0.148492399  | 6635         | none         | TrainSet     | \n",
       "| successful   | successful   | 0.9201932    | 0.079806850  | 6636         | none         | TrainSet     | \n",
       "| successful   | successful   | 0.9669428    | 0.033057191  | 6637         | none         | TrainSet     | \n",
       "| successful   | unsuccessful | 0.6072577    | 0.392742264  | 6638         | none         | TrainSet     | \n",
       "| successful   | successful   | 0.9892840    | 0.010715961  | 6639         | none         | TrainSet     | \n",
       "\n",
       "\n"
      ],
      "text/plain": [
       "  pred       obs          successful unsuccessful rowIndex parameter Resample\n",
       "1 successful successful   0.9987762  0.001223821  6634     none      TrainSet\n",
       "2 successful successful   0.8515076  0.148492399  6635     none      TrainSet\n",
       "3 successful successful   0.9201932  0.079806850  6636     none      TrainSet\n",
       "4 successful successful   0.9669428  0.033057191  6637     none      TrainSet\n",
       "5 successful unsuccessful 0.6072577  0.392742264  6638     none      TrainSet\n",
       "6 successful successful   0.9892840  0.010715961  6639     none      TrainSet"
      ]
     },
     "metadata": {},
     "output_type": "display_data"
    }
   ],
   "source": [
    "head(fit_lrReduced$pred)"
   ]
  },
  {
   "cell_type": "code",
   "execution_count": 18,
   "metadata": {
    "scrolled": true
   },
   "outputs": [
    {
     "data": {
      "text/plain": [
       "Confusion Matrix and Statistics\n",
       "\n",
       "              Reference\n",
       "Prediction     successful unsuccessful\n",
       "  successful          458          176\n",
       "  unsuccessful        112          811\n",
       "                                         \n",
       "               Accuracy : 0.815          \n",
       "                 95% CI : (0.7948, 0.834)\n",
       "    No Information Rate : 0.6339         \n",
       "    P-Value [Acc > NIR] : < 2.2e-16      \n",
       "                                         \n",
       "                  Kappa : 0.6107         \n",
       " Mcnemar's Test P-Value : 0.0002054      \n",
       "                                         \n",
       "            Sensitivity : 0.8035         \n",
       "            Specificity : 0.8217         \n",
       "         Pos Pred Value : 0.7224         \n",
       "         Neg Pred Value : 0.8787         \n",
       "             Prevalence : 0.3661         \n",
       "         Detection Rate : 0.2942         \n",
       "   Detection Prevalence : 0.4072         \n",
       "      Balanced Accuracy : 0.8126         \n",
       "                                         \n",
       "       'Positive' Class : successful     \n",
       "                                         "
      ]
     },
     "metadata": {},
     "output_type": "display_data"
    }
   ],
   "source": [
    "confusionMatrix(data=fit_lrReduced$pred$pred,reference = fit_lrReduced$pred$obs)"
   ]
  },
  {
   "cell_type": "code",
   "execution_count": 19,
   "metadata": {
    "scrolled": false
   },
   "outputs": [
    {
     "name": "stderr",
     "output_type": "stream",
     "text": [
      "Type 'citation(\"pROC\")' for a citation.\n",
      "\n",
      "Attaching package: 'pROC'\n",
      "\n",
      "The following objects are masked from 'package:stats':\n",
      "\n",
      "    cov, smooth, var\n",
      "\n"
     ]
    },
    {
     "data": {
      "text/html": [
       "0.871540553511438"
      ],
      "text/latex": [
       "0.871540553511438"
      ],
      "text/markdown": [
       "0.871540553511438"
      ],
      "text/plain": [
       "Area under the curve: 0.8715"
      ]
     },
     "metadata": {},
     "output_type": "display_data"
    },
    {
     "data": {
      "image/png": "[encoded data removed]",
      "text/plain": [
       "plot without title"
      ]
     },
     "metadata": {},
     "output_type": "display_data"
    }
   ],
   "source": [
    "library(pROC)\n",
    "roc_reduced <- roc(\n",
    "                   response = fit_lrReduced$pred$obs,\n",
    "                   predictor = fit_lrReduced$pred$successful,\n",
    "                  levels=rev(levels(fit_lrReduced$pred$obs)))\n",
    "\n",
    "plot(roc_reduced,legacy.axes=T)\n",
    "auc(roc_reduced)"
   ]
  },
  {
   "cell_type": "markdown",
   "metadata": {},
   "source": [
    "`Section 12.2 Logistic Regression`"
   ]
  },
  {
   "cell_type": "code",
   "execution_count": 46,
   "metadata": {},
   "outputs": [],
   "source": [
    "library(caret)\n",
    "fit_lgt <- glm(Class~Day,data=training[pre2008,],family=binomial)\n",
    "\n",
    "dataGrid <- data.frame(Day=seq(0,365,length=500))\n",
    "dataGrid$Linear <- 1-predict(fit_lgt,dataGrid,type=\"response\")\n",
    "\n",
    "linear2008 <- auc(roc(response = training[-pre2008,\"Class\"],\n",
    "                     predictor = 1 - predict(fit_lgt,training[-pre2008,],type=\"response\"),\n",
    "                     levels=rev(levels(training[-pre2008,\"Class\"]))))"
   ]
  },
  {
   "cell_type": "code",
   "execution_count": 49,
   "metadata": {},
   "outputs": [],
   "source": [
    "fit_lgt_sqr <- glm(Class~Day+I(Day^2),data=training[pre2008,],family=binomial)\n",
    "dataGrid$Quadratic <- 1- predict(fit_lgt_sqr,dataGrid,type=\"response\")\n",
    "\n",
    "quadratic2008 <- auc(roc(response=training[-pre2008,\"Class\"],\n",
    "                        predictor = 1-predict(fit_lgt_sqr,training[-pre2008,],type=\"response\"),\n",
    "                        levels = rev(levels(training[-pre2008,\"Class\"]))))"
   ]
  },
  {
   "cell_type": "code",
   "execution_count": 51,
   "metadata": {},
   "outputs": [],
   "source": [
    "library(reshape2)\n",
    "dataGrid <- melt(dataGrid,id.vars=\"Day\")\n",
    "\n",
    "byDay <- training[pre2008,c(\"Day\",\"Class\")]\n",
    "byDay$Binned <- cut(byDay$Day,seq(0,360,by=5))"
   ]
  },
  {
   "cell_type": "code",
   "execution_count": 55,
   "metadata": {
    "scrolled": true
   },
   "outputs": [
    {
     "data": {},
     "metadata": {},
     "output_type": "display_data"
    },
    {
     "data": {
      "image/png": "[encoded data removed]",
      "text/plain": [
       "plot without title"
      ]
     },
     "metadata": {},
     "output_type": "display_data"
    }
   ],
   "source": [
    "library(plyr)\n",
    "library(lattice)\n",
    "observedProps <- ddply(byDay, .(Binned),\n",
    "                       function(x) c(n = nrow(x), mean = mean(x$Class == \"successful\")))\n",
    "observedProps$midpoint <- seq(2.5, 357.5, by = 5)\n",
    "\n",
    "xyplot(value ~ Day|variable, data = dataGrid,\n",
    "       ylab = \"Probability of A Successful Grant\",\n",
    "       ylim = extendrange(0:1),\n",
    "       between = list(x = 1),\n",
    "       panel = function(...)\n",
    "       {\n",
    "         panel.xyplot(x = observedProps$midpoint, observedProps$mean,\n",
    "                      pch = 16., col = rgb(.2, .2, .2, .5))\n",
    "         panel.xyplot(..., type = \"l\", col = \"black\", lwd = 2)\n",
    "       })"
   ]
  },
  {
   "cell_type": "markdown",
   "metadata": {},
   "source": [
    "`Linear Discriminant Analysis`\n",
    "\n",
    "> When the number of predictors is large, the prediction equation requires a very large number of parameters to be estimated. \n",
    "For P = 2 and two classes, this equation uses four means and three variance parameters. \n",
    "In general, the model (LDA) would require CP + P*(P + 1)/2 parameters with P redictors and C classes. \n",
    "In comparison to logistic regression, a similar model would only estimate three parameters. This difference between the models becomes more significant as the number of predictors grow. \n",
    "However, the value of the extra parameters in LDA models is that the between-predictor correlations are explicitly handled by the model. This should provide some advantage to LDA over logistic regression when there are substantial correlations, although both models will break down when the multicollinearity becomes extreme.\n",
    "\n",
    "`Pros`\n",
    "- Deal substantial correlations substantial correlations\n",
    "\n",
    "\n",
    "`Cons`\n",
    "- Deal substantial correlations substantial correlations\n",
    "- Both models break down when multicollinearity becomes extreme"
   ]
  },
  {
   "cell_type": "code",
   "execution_count": 21,
   "metadata": {},
   "outputs": [],
   "source": [
    "library(MASS)\n",
    "fit_scale <- preProcess(training[pre2008,reducedSet])\n",
    "trn <- predict(fit_scale,newdata = training[pre2008,reducedSet])\n",
    "\n",
    "vld <- predict(fit_scale,newdata = training[-pre2008,reducedSet])\n",
    "\n",
    "fit_lda <- lda(x=trn,grouping=training$Class[pre2008])"
   ]
  },
  {
   "cell_type": "code",
   "execution_count": 22,
   "metadata": {
    "scrolled": true
   },
   "outputs": [
    {
     "data": {
      "text/html": [
       "<table>\n",
       "<thead><tr><th></th><th scope=col>LD1</th></tr></thead>\n",
       "<tbody>\n",
       "\t<tr><th scope=row>NumCI</th><td> 0.130167258</td></tr>\n",
       "\t<tr><th scope=row>NumDR</th><td> 0.001727461</td></tr>\n",
       "\t<tr><th scope=row>NumECI</th><td> 0.121947837</td></tr>\n",
       "\t<tr><th scope=row>NumPS</th><td> 0.004266855</td></tr>\n",
       "\t<tr><th scope=row>NumSCI</th><td>-0.065566316</td></tr>\n",
       "\t<tr><th scope=row>NumSR</th><td>-0.064220945</td></tr>\n",
       "</tbody>\n",
       "</table>\n"
      ],
      "text/latex": [
       "\\begin{tabular}{r|l}\n",
       "  & LD1\\\\\n",
       "\\hline\n",
       "\tNumCI &  0.130167258\\\\\n",
       "\tNumDR &  0.001727461\\\\\n",
       "\tNumECI &  0.121947837\\\\\n",
       "\tNumPS &  0.004266855\\\\\n",
       "\tNumSCI & -0.065566316\\\\\n",
       "\tNumSR & -0.064220945\\\\\n",
       "\\end{tabular}\n"
      ],
      "text/markdown": [
       "\n",
       "| <!--/--> | LD1 | \n",
       "|---|---|---|---|---|---|\n",
       "| NumCI |  0.130167258 | \n",
       "| NumDR |  0.001727461 | \n",
       "| NumECI |  0.121947837 | \n",
       "| NumPS |  0.004266855 | \n",
       "| NumSCI | -0.065566316 | \n",
       "| NumSR | -0.064220945 | \n",
       "\n",
       "\n"
      ],
      "text/plain": [
       "       LD1         \n",
       "NumCI   0.130167258\n",
       "NumDR   0.001727461\n",
       "NumECI  0.121947837\n",
       "NumPS   0.004266855\n",
       "NumSCI -0.065566316\n",
       "NumSR  -0.064220945"
      ]
     },
     "metadata": {},
     "output_type": "display_data"
    }
   ],
   "source": [
    "head(fit_lda$scaling)"
   ]
  },
  {
   "cell_type": "code",
   "execution_count": 23,
   "metadata": {},
   "outputs": [],
   "source": [
    "pred_lda <- predict(fit_lda,vld)"
   ]
  },
  {
   "cell_type": "code",
   "execution_count": 26,
   "metadata": {},
   "outputs": [
    {
     "data": {
      "text/plain": [
       "Linear Discriminant Analysis \n",
       "\n",
       "8190 samples\n",
       " 253 predictor\n",
       "   2 classes: 'successful', 'unsuccessful' \n",
       "\n",
       "Pre-processing: centered (253), scaled (253) \n",
       "Resampling: Repeated Train/Test Splits Estimated (1 reps, 75%) \n",
       "Summary of sample sizes: 6633 \n",
       "Resampling results:\n",
       "\n",
       "  ROC        Sens       Spec    \n",
       "  0.8891644  0.8035088  0.822695\n"
      ]
     },
     "metadata": {},
     "output_type": "display_data"
    }
   ],
   "source": [
    "set.seed(476)\n",
    "ctrl <- trainControl(method = \"LGOCV\",\n",
    "                     summaryFunction = twoClassSummary,\n",
    "                     classProbs = TRUE,\n",
    "                     index = list(TrainSet = pre2008),\n",
    "                     savePredictions = TRUE)\n",
    "\n",
    "fit_lda_caret <- train(\n",
    "                      x=training[,reducedSet],\n",
    "                      y=training$Class,\n",
    "                      method=\"lda\",\n",
    "                      preProc=c(\"center\",\"scale\"),\n",
    "                      metric=\"ROC\",\n",
    "                      trControl=ctrl)\n",
    "\n",
    "fit_lda_caret"
   ]
  },
  {
   "cell_type": "code",
   "execution_count": 38,
   "metadata": {},
   "outputs": [],
   "source": [
    "testing$Day2 <- testing$Day^2\n",
    "\n",
    "pred_cls <- predict(fit_lda_caret,newdata = testing[,reducedSet])\n",
    "\n",
    "pred_prob <- predict(fit_lda_caret,newdata = testing[,reducedSet],type=\"prob\")"
   ]
  },
  {
   "cell_type": "markdown",
   "metadata": {},
   "source": [
    "`PLSDA`"
   ]
  },
  {
   "cell_type": "code",
   "execution_count": 8,
   "metadata": {
    "scrolled": true
   },
   "outputs": [
    {
     "data": {
      "text/plain": [
       "Partial least squares classification, fitted with the kernel algorithm.\n",
       "Bayes rule was used to compute class probabilities."
      ]
     },
     "metadata": {},
     "output_type": "display_data"
    },
    {
     "data": {
      "text/html": [
       "<ol class=list-inline>\n",
       "\t<li>successful</li>\n",
       "\t<li>successful</li>\n",
       "\t<li>successful</li>\n",
       "\t<li>successful</li>\n",
       "\t<li>successful</li>\n",
       "\t<li>successful</li>\n",
       "</ol>\n",
       "\n",
       "<details>\n",
       "\t<summary style=display:list-item;cursor:pointer>\n",
       "\t\t<strong>Levels</strong>:\n",
       "\t</summary>\n",
       "\t<ol class=list-inline>\n",
       "\t\t<li>'successful'</li>\n",
       "\t\t<li>'unsuccessful'</li>\n",
       "\t</ol>\n",
       "</details>"
      ],
      "text/latex": [
       "\\begin{enumerate*}\n",
       "\\item successful\n",
       "\\item successful\n",
       "\\item successful\n",
       "\\item successful\n",
       "\\item successful\n",
       "\\item successful\n",
       "\\end{enumerate*}\n",
       "\n",
       "\\emph{Levels}: \\begin{enumerate*}\n",
       "\\item 'successful'\n",
       "\\item 'unsuccessful'\n",
       "\\end{enumerate*}\n"
      ],
      "text/markdown": [
       "1. successful\n",
       "2. successful\n",
       "3. successful\n",
       "4. successful\n",
       "5. successful\n",
       "6. successful\n",
       "\n",
       "\n",
       "\n",
       "**Levels**: 1. 'successful'\n",
       "2. 'unsuccessful'\n",
       "\n",
       "\n"
      ],
      "text/plain": [
       "[1] successful successful successful successful successful successful\n",
       "Levels: successful unsuccessful"
      ]
     },
     "metadata": {},
     "output_type": "display_data"
    }
   ],
   "source": [
    "library(pls)\n",
    "fit_plsda <- plsda(\n",
    "                x=training[pre2008,reducedSet],\n",
    "                y=training[pre2008,\"Class\"],\n",
    "                scale=T,probMethod=\"Bayes\",ncomp=4)\n",
    "\n",
    "fit_plsda\n",
    "\n",
    "pred_plsda <- predict(fit_plsda,newdata = training[-pre2008,reducedSet])\n",
    "\n",
    "head(pred_plsda)\n",
    "\n",
    "# pred_plsda <- predict(fit_plsda,newdata=training[-pre2008,reducedSet],type=\"prob\")"
   ]
  },
  {
   "cell_type": "code",
   "execution_count": 10,
   "metadata": {
    "scrolled": true
   },
   "outputs": [
    {
     "data": {},
     "metadata": {},
     "output_type": "display_data"
    },
    {
     "data": {
      "image/png": "[encoded data removed]",
      "text/plain": [
       "plot without title"
      ]
     },
     "metadata": {},
     "output_type": "display_data"
    }
   ],
   "source": [
    "library(caret)\n",
    "ctrl <- trainControl(method = \"LGOCV\",\n",
    "                     summaryFunction = twoClassSummary,\n",
    "                     classProbs = TRUE,\n",
    "                     index = list(TrainSet = pre2008),\n",
    "                     savePredictions = TRUE)\n",
    "\n",
    "fit_plsda_caret <- train(\n",
    "                        x=training[,reducedSet],\n",
    "                        y=training$Class,\n",
    "                        method=\"pls\",\n",
    "                        tuneGrid = expand.grid(ncomp=1:10),\n",
    "                        preProc=c(\"center\",\"scale\"),\n",
    "                        metric=\"ROC\",\n",
    "                        trControl=ctrl)\n",
    "\n",
    "feat_imp <- varImp(fit_plsda_caret,scale=F)\n",
    "plot(feat_imp,top=20,scales=list(y=list(cex=0.95)))"
   ]
  },
  {
   "cell_type": "code",
   "execution_count": 11,
   "metadata": {},
   "outputs": [
    {
     "data": {
      "text/plain": [
       "Partial Least Squares \n",
       "\n",
       "8190 samples\n",
       "1070 predictors\n",
       "   2 classes: 'successful', 'unsuccessful' \n",
       "\n",
       "Pre-processing: centered (1070), scaled (1070) \n",
       "Resampling: Repeated Train/Test Splits Estimated (1 reps, 75%) \n",
       "Summary of sample sizes: 6633 \n",
       "Resampling results across tuning parameters:\n",
       "\n",
       "  ncomp  ROC        Sens       Spec     \n",
       "   1     0.8261834  0.8649123  0.6757852\n",
       "   2     0.8484607  0.8315789  0.7467072\n",
       "   3     0.8630744  0.8491228  0.7426545\n",
       "   4     0.8621874  0.8456140  0.7548126\n",
       "   5     0.8631561  0.8350877  0.7710233\n",
       "   6     0.8696075  0.8298246  0.7700101\n",
       "   7     0.8654402  0.8192982  0.7740628\n",
       "   8     0.8619199  0.8157895  0.7771023\n",
       "   9     0.8628166  0.8228070  0.7831814\n",
       "  10     0.8580734  0.8122807  0.7841945\n",
       "\n",
       "ROC was used to select the optimal model using the largest value.\n",
       "The final value used for the model was ncomp = 6."
      ]
     },
     "metadata": {},
     "output_type": "display_data"
    }
   ],
   "source": [
    "fit_plsda_full <- train(\n",
    "                        x=training[,fullSet],\n",
    "                        y=training$Class,\n",
    "                        method=\"pls\",\n",
    "                        tuneGrid = expand.grid(ncomp=1:10),\n",
    "                        preProc=c(\"center\",\"scale\"),\n",
    "                        metric=\"ROC\",probMethod=\"Bayes\",\n",
    "                        trControl=ctrl)\n",
    "fit_plsda_full"
   ]
  },
  {
   "cell_type": "code",
   "execution_count": 20,
   "metadata": {
    "scrolled": false
   },
   "outputs": [
    {
     "data": {},
     "metadata": {},
     "output_type": "display_data"
    },
    {
     "data": {
      "image/png": "[encoded data removed]",
      "text/plain": [
       "plot without title"
      ]
     },
     "metadata": {},
     "output_type": "display_data"
    }
   ],
   "source": [
    "plot(fit_plsda_full)"
   ]
  },
  {
   "cell_type": "code",
   "execution_count": 16,
   "metadata": {
    "scrolled": false
   },
   "outputs": [
    {
     "data": {
      "text/html": [
       "0.869607529461953"
      ],
      "text/latex": [
       "0.869607529461953"
      ],
      "text/markdown": [
       "0.869607529461953"
      ],
      "text/plain": [
       "[1] 0.8696075"
      ]
     },
     "metadata": {},
     "output_type": "display_data"
    }
   ],
   "source": [
    "fit_plsda_full$results[best(fit_plsda_full$results,\"ROC\",maximize = T),\"ROC\"]"
   ]
  },
  {
   "cell_type": "code",
   "execution_count": 27,
   "metadata": {
    "scrolled": true
   },
   "outputs": [
    {
     "data": {
      "text/html": [
       "<table>\n",
       "<thead><tr><th scope=col>ncomp</th><th scope=col>pred</th><th scope=col>obs</th><th scope=col>rowIndex</th><th scope=col>successful</th><th scope=col>unsuccessful</th><th scope=col>Resample</th></tr></thead>\n",
       "<tbody>\n",
       "\t<tr><td>6           </td><td>successful  </td><td>successful  </td><td>6639        </td><td>0.9602089   </td><td>0.03979111  </td><td>TrainSet    </td></tr>\n",
       "\t<tr><td>6           </td><td>successful  </td><td>unsuccessful</td><td>6640        </td><td>0.6128982   </td><td>0.38710179  </td><td>TrainSet    </td></tr>\n",
       "\t<tr><td>6           </td><td>successful  </td><td>successful  </td><td>6634        </td><td>0.9732737   </td><td>0.02672634  </td><td>TrainSet    </td></tr>\n",
       "\t<tr><td>6           </td><td>successful  </td><td>successful  </td><td>6635        </td><td>0.9397044   </td><td>0.06029558  </td><td>TrainSet    </td></tr>\n",
       "\t<tr><td>6           </td><td>successful  </td><td>successful  </td><td>6636        </td><td>0.8324477   </td><td>0.16755232  </td><td>TrainSet    </td></tr>\n",
       "\t<tr><td>6           </td><td>successful  </td><td>successful  </td><td>6637        </td><td>0.9729445   </td><td>0.02705548  </td><td>TrainSet    </td></tr>\n",
       "</tbody>\n",
       "</table>\n"
      ],
      "text/latex": [
       "\\begin{tabular}{r|lllllll}\n",
       " ncomp & pred & obs & rowIndex & successful & unsuccessful & Resample\\\\\n",
       "\\hline\n",
       "\t 6            & successful   & successful   & 6639         & 0.9602089    & 0.03979111   & TrainSet    \\\\\n",
       "\t 6            & successful   & unsuccessful & 6640         & 0.6128982    & 0.38710179   & TrainSet    \\\\\n",
       "\t 6            & successful   & successful   & 6634         & 0.9732737    & 0.02672634   & TrainSet    \\\\\n",
       "\t 6            & successful   & successful   & 6635         & 0.9397044    & 0.06029558   & TrainSet    \\\\\n",
       "\t 6            & successful   & successful   & 6636         & 0.8324477    & 0.16755232   & TrainSet    \\\\\n",
       "\t 6            & successful   & successful   & 6637         & 0.9729445    & 0.02705548   & TrainSet    \\\\\n",
       "\\end{tabular}\n"
      ],
      "text/markdown": [
       "\n",
       "ncomp | pred | obs | rowIndex | successful | unsuccessful | Resample | \n",
       "|---|---|---|---|---|---|\n",
       "| 6            | successful   | successful   | 6639         | 0.9602089    | 0.03979111   | TrainSet     | \n",
       "| 6            | successful   | unsuccessful | 6640         | 0.6128982    | 0.38710179   | TrainSet     | \n",
       "| 6            | successful   | successful   | 6634         | 0.9732737    | 0.02672634   | TrainSet     | \n",
       "| 6            | successful   | successful   | 6635         | 0.9397044    | 0.06029558   | TrainSet     | \n",
       "| 6            | successful   | successful   | 6636         | 0.8324477    | 0.16755232   | TrainSet     | \n",
       "| 6            | successful   | successful   | 6637         | 0.9729445    | 0.02705548   | TrainSet     | \n",
       "\n",
       "\n"
      ],
      "text/plain": [
       "  ncomp pred       obs          rowIndex successful unsuccessful Resample\n",
       "1 6     successful successful   6639     0.9602089  0.03979111   TrainSet\n",
       "2 6     successful unsuccessful 6640     0.6128982  0.38710179   TrainSet\n",
       "3 6     successful successful   6634     0.9732737  0.02672634   TrainSet\n",
       "4 6     successful successful   6635     0.9397044  0.06029558   TrainSet\n",
       "5 6     successful successful   6636     0.8324477  0.16755232   TrainSet\n",
       "6 6     successful successful   6637     0.9729445  0.02705548   TrainSet"
      ]
     },
     "metadata": {},
     "output_type": "display_data"
    }
   ],
   "source": [
    "head(fit_plsda_full$pred)"
   ]
  },
  {
   "cell_type": "code",
   "execution_count": 30,
   "metadata": {
    "scrolled": true
   },
   "outputs": [],
   "source": [
    "fit_plsda_full$pred <- merge(fit_plsda_full$pred,fit_plsda_full$bestTune)"
   ]
  },
  {
   "cell_type": "code",
   "execution_count": 39,
   "metadata": {
    "scrolled": true
   },
   "outputs": [
    {
     "data": {
      "image/png": "[encoded data removed]",
      "text/plain": [
       "plot without title"
      ]
     },
     "metadata": {},
     "output_type": "display_data"
    }
   ],
   "source": [
    "roc_plsda_full <- roc(\n",
    "                   response = fit_plsda_full$pred$obs,\n",
    "                   predictor = fit_plsda_full$pred$successful,\n",
    "                  levels=rev(levels(fit_plsda_full$pred$obs)))\n",
    "\n",
    "roc_plsda_caret <- roc(\n",
    "                   response = fit_plsda_caret$pred$obs,\n",
    "                   predictor = fit_plsda_caret$pred$successful,\n",
    "                  levels=rev(levels(fit_plsda_caret$pred$obs)))\n",
    "plot(roc_plsda_full,legacy.axes=T,col=\"navy\")\n",
    "plot.roc(roc_plsda_caret,add=T,col=\"pink\")"
   ]
  },
  {
   "cell_type": "code",
   "execution_count": 40,
   "metadata": {
    "scrolled": true
   },
   "outputs": [
    {
     "data": {
      "text/html": [
       "<table>\n",
       "<thead><tr><th scope=col>ncomp</th><th scope=col>ROC</th><th scope=col>Sens</th><th scope=col>Spec</th><th scope=col>ROCSD</th><th scope=col>SensSD</th><th scope=col>SpecSD</th><th scope=col>Cols</th></tr></thead>\n",
       "<tbody>\n",
       "\t<tr><td>1          </td><td>0.8494730  </td><td>0.8543860  </td><td>0.7082067  </td><td>NA         </td><td>NA         </td><td>NA         </td><td>Reduced Set</td></tr>\n",
       "\t<tr><td>2          </td><td>0.8693151  </td><td>0.8122807  </td><td>0.7892604  </td><td>NA         </td><td>NA         </td><td>NA         </td><td>Reduced Set</td></tr>\n",
       "\t<tr><td>3          </td><td>0.8884392  </td><td>0.8315789  </td><td>0.8074975  </td><td>NA         </td><td>NA         </td><td>NA         </td><td>Reduced Set</td></tr>\n",
       "\t<tr><td>4          </td><td>0.8953376  </td><td>0.8157895  </td><td>0.8176292  </td><td>NA         </td><td>NA         </td><td>NA         </td><td>Reduced Set</td></tr>\n",
       "\t<tr><td>5          </td><td>0.8934251  </td><td>0.8122807  </td><td>0.8135765  </td><td>NA         </td><td>NA         </td><td>NA         </td><td>Reduced Set</td></tr>\n",
       "\t<tr><td>6          </td><td>0.8940916  </td><td>0.8140351  </td><td>0.8125633  </td><td>NA         </td><td>NA         </td><td>NA         </td><td>Reduced Set</td></tr>\n",
       "</tbody>\n",
       "</table>\n"
      ],
      "text/latex": [
       "\\begin{tabular}{r|llllllll}\n",
       " ncomp & ROC & Sens & Spec & ROCSD & SensSD & SpecSD & Cols\\\\\n",
       "\\hline\n",
       "\t 1           & 0.8494730   & 0.8543860   & 0.7082067   & NA          & NA          & NA          & Reduced Set\\\\\n",
       "\t 2           & 0.8693151   & 0.8122807   & 0.7892604   & NA          & NA          & NA          & Reduced Set\\\\\n",
       "\t 3           & 0.8884392   & 0.8315789   & 0.8074975   & NA          & NA          & NA          & Reduced Set\\\\\n",
       "\t 4           & 0.8953376   & 0.8157895   & 0.8176292   & NA          & NA          & NA          & Reduced Set\\\\\n",
       "\t 5           & 0.8934251   & 0.8122807   & 0.8135765   & NA          & NA          & NA          & Reduced Set\\\\\n",
       "\t 6           & 0.8940916   & 0.8140351   & 0.8125633   & NA          & NA          & NA          & Reduced Set\\\\\n",
       "\\end{tabular}\n"
      ],
      "text/markdown": [
       "\n",
       "ncomp | ROC | Sens | Spec | ROCSD | SensSD | SpecSD | Cols | \n",
       "|---|---|---|---|---|---|\n",
       "| 1           | 0.8494730   | 0.8543860   | 0.7082067   | NA          | NA          | NA          | Reduced Set | \n",
       "| 2           | 0.8693151   | 0.8122807   | 0.7892604   | NA          | NA          | NA          | Reduced Set | \n",
       "| 3           | 0.8884392   | 0.8315789   | 0.8074975   | NA          | NA          | NA          | Reduced Set | \n",
       "| 4           | 0.8953376   | 0.8157895   | 0.8176292   | NA          | NA          | NA          | Reduced Set | \n",
       "| 5           | 0.8934251   | 0.8122807   | 0.8135765   | NA          | NA          | NA          | Reduced Set | \n",
       "| 6           | 0.8940916   | 0.8140351   | 0.8125633   | NA          | NA          | NA          | Reduced Set | \n",
       "\n",
       "\n"
      ],
      "text/plain": [
       "  ncomp ROC       Sens      Spec      ROCSD SensSD SpecSD Cols       \n",
       "1 1     0.8494730 0.8543860 0.7082067 NA    NA     NA     Reduced Set\n",
       "2 2     0.8693151 0.8122807 0.7892604 NA    NA     NA     Reduced Set\n",
       "3 3     0.8884392 0.8315789 0.8074975 NA    NA     NA     Reduced Set\n",
       "4 4     0.8953376 0.8157895 0.8176292 NA    NA     NA     Reduced Set\n",
       "5 5     0.8934251 0.8122807 0.8135765 NA    NA     NA     Reduced Set\n",
       "6 6     0.8940916 0.8140351 0.8125633 NA    NA     NA     Reduced Set"
      ]
     },
     "metadata": {},
     "output_type": "display_data"
    }
   ],
   "source": [
    "pls_reduce <- cbind(fit_plsda_caret$results,Cols=\"Reduced Set\")\n",
    "pls_full <- cbind(fit_plsda_full$results,Cols = \"Full Set\")\n",
    "plt_data <- data.frame(rbind(pls_reduce,pls_full))\n",
    "head(plt_data)"
   ]
  },
  {
   "cell_type": "code",
   "execution_count": 41,
   "metadata": {
    "scrolled": true
   },
   "outputs": [
    {
     "data": {},
     "metadata": {},
     "output_type": "display_data"
    },
    {
     "data": {
      "image/png": "[encoded data removed]",
      "text/plain": [
       "plot without title"
      ]
     },
     "metadata": {},
     "output_type": "display_data"
    }
   ],
   "source": [
    "library(lattice)\n",
    "xyplot(ROC~ncomp,\n",
    "      data=plt_data,\n",
    "      xlab=\"#Comp\",\n",
    "      ylab=\"ROC\",\n",
    "      auto.key=list(columns=2),\n",
    "      groups=Cols,type=c(\"o\",\"g\"))"
   ]
  }
 ],
 "metadata": {
  "kernelspec": {
   "display_name": "R",
   "language": "R",
   "name": "ir"
  },
  "language_info": {
   "codemirror_mode": "r",
   "file_extension": ".r",
   "mimetype": "text/x-r-source",
   "name": "R",
   "pygments_lexer": "r",
   "version": "3.5.1"
  },
  "latex_envs": {
   "LaTeX_envs_menu_present": true,
   "autoclose": false,
   "autocomplete": true,
   "bibliofile": "biblio.bib",
   "cite_by": "apalike",
   "current_citInitial": 1,
   "eqLabelWithNumbers": true,
   "eqNumInitial": 1,
   "hotkeys": {
    "equation": "Ctrl-E",
    "itemize": "Ctrl-I"
   },
   "labels_anchors": false,
   "latex_user_defs": false,
   "report_style_numbering": false,
   "user_envs_cfg": false
  },
  "toc": {
   "base_numbering": 1,
   "nav_menu": {},
   "number_sections": true,
   "sideBar": true,
   "skip_h1_title": false,
   "title_cell": "Table of Contents",
   "title_sidebar": "Contents",
   "toc_cell": false,
   "toc_position": {},
   "toc_section_display": true,
   "toc_window_display": false
  }
 },
 "nbformat": 4,
 "nbformat_minor": 2
}
