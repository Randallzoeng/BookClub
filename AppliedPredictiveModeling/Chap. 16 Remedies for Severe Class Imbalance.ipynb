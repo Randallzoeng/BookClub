{
 "cells": [
  {
   "cell_type": "markdown",
   "metadata": {},
   "source": [
    "### The Effect of Class Imbalance"
   ]
  },
  {
   "cell_type": "code",
   "execution_count": 1,
   "metadata": {},
   "outputs": [
    {
     "name": "stderr",
     "output_type": "stream",
     "text": [
      "Loading required package: Matrix\n"
     ]
    }
   ],
   "source": [
    "library(DWD)\n",
    "data(ticdata)\n",
    "# ticdata <- read.csv(\"ticdata.csv\")"
   ]
  },
  {
   "cell_type": "code",
   "execution_count": 15,
   "metadata": {
    "scrolled": true
   },
   "outputs": [
    {
     "data": {
      "text/plain": [
       "\n",
       "noinsurance   insurance \n",
       " 0.94033802  0.05966198 "
      ]
     },
     "metadata": {},
     "output_type": "display_data"
    },
    {
     "name": "stderr",
     "output_type": "stream",
     "text": [
      "Warning message in barchart.table(table(x), data, ...):\n",
      "\"explicit 'data' specification ignored\""
     ]
    },
    {
     "data": {},
     "metadata": {},
     "output_type": "display_data"
    },
    {
     "data": {
      "image/png": "[encoded data removed]",
      "text/plain": [
       "plot without title"
      ]
     },
     "metadata": {},
     "output_type": "display_data"
    }
   ],
   "source": [
    "prop.table(table(ticdata$CARAVAN ))\n",
    "library(lattice)\n",
    "barchart(ticdata$CARAVAN,data=ticdata)"
   ]
  },
  {
   "cell_type": "code",
   "execution_count": 16,
   "metadata": {},
   "outputs": [],
   "source": [
    "isOrdered <- unlist(lapply(ticdata, function(x) any(class(x) == \"ordered\")))\n",
    "\n",
    "recodeLevels <- function(x)\n",
    "  {\n",
    "    x <- gsub(\"f \", \"\", as.character(x))\n",
    "    x <- gsub(\" - \", \"_to_\", x)\n",
    "    x <- gsub(\"-\", \"_to_\", x)\n",
    "    x <- gsub(\"%\", \"\", x)\n",
    "    x <- gsub(\"?\", \"Unk\", x, fixed = TRUE)\n",
    "    x <- gsub(\"[,'\\\\(\\\\)]\", \"\", x)\n",
    "    x <- gsub(\" \", \"_\", x)\n",
    "    factor(paste(\"_\", x, sep = \"\"))\n",
    "  }\n",
    "\n",
    "convertCols <- c(\"STYPE\", \"MGEMLEEF\", \"MOSHOOFD\",\n",
    "                 names(isOrdered)[isOrdered])\n",
    "\n",
    "for(i in convertCols) ticdata[,i] <- factor(gsub(\" \", \"0\",format(as.numeric(ticdata[,i]))))\n",
    "\n",
    "ticdata$CARAVAN <- factor(as.character(ticdata$CARAVAN),\n",
    "                          levels = rev(levels(ticdata$CARAVAN)))"
   ]
  },
  {
   "cell_type": "code",
   "execution_count": 17,
   "metadata": {
    "scrolled": true
   },
   "outputs": [
    {
     "name": "stdout",
     "output_type": "stream",
     "text": [
      "'data.frame':\t9822 obs. of  86 variables:\n",
      " $ STYPE   : Factor w/ 39 levels \"01\",\"02\",\"03\",..: 15 20 20 21 11 36 13 15 15 7 ...\n",
      " $ MAANTHUI: num  1 1 1 1 1 1 2 1 1 2 ...\n",
      " $ MGEMOMV : num  3 2 2 3 4 2 3 2 2 3 ...\n",
      " $ MGEMLEEF: Factor w/ 6 levels \"1\",\"2\",\"3\",\"4\",..: 2 2 2 3 2 1 2 3 4 3 ...\n",
      " $ MOSHOOFD: Factor w/ 10 levels \"01\",\"02\",\"03\",..: 6 6 6 1 7 8 3 6 6 1 ...\n",
      " $ MGODRK  : Factor w/ 10 levels \"01\",\"02\",\"03\",..: 1 2 1 3 2 1 3 1 1 4 ...\n",
      " $ MGODPR  : Factor w/ 10 levels \"01\",\"02\",\"03\",..: 6 5 5 4 5 6 3 8 2 6 ...\n",
      " $ MGODOV  : Factor w/ 6 levels \"1\",\"2\",\"3\",\"4\",..: 2 2 3 3 2 1 1 1 4 1 ...\n",
      " $ MGODGE  : Factor w/ 10 levels \"01\",\"02\",\"03\",..: 4 5 5 5 5 6 6 3 7 3 ...\n",
      " $ MRELGE  : Factor w/ 10 levels \"01\",\"02\",\"03\",..: 8 7 4 6 8 1 8 8 7 8 ...\n",
      " $ MRELSA  : Factor w/ 8 levels \"1\",\"2\",\"3\",\"4\",..: 1 3 3 3 2 7 3 3 1 1 ...\n",
      " $ MRELOV  : Factor w/ 10 levels \"01\",\"02\",\"03\",..: 3 3 5 3 3 4 1 1 4 3 ...\n",
      " $ MFALLEEN: Factor w/ 10 levels \"01\",\"02\",\"03\",..: 2 1 5 3 3 4 1 1 4 3 ...\n",
      " $ MFGEKIND: Factor w/ 10 levels \"01\",\"02\",\"03\",..: 3 5 5 4 5 6 4 6 4 3 ...\n",
      " $ MFWEKIND: Factor w/ 10 levels \"01\",\"02\",\"03\",..: 7 6 3 5 5 3 7 5 4 7 ...\n",
      " $ MOPLHOOG: Factor w/ 10 levels \"01\",\"02\",\"03\",..: 2 1 1 4 6 1 1 1 1 1 ...\n",
      " $ MOPLMIDD: Factor w/ 10 levels \"01\",\"02\",\"03\",..: 3 6 6 5 5 6 5 4 2 5 ...\n",
      " $ MOPLLAAG: Factor w/ 10 levels \"01\",\"02\",\"03\",..: 8 5 5 3 1 5 6 7 9 6 ...\n",
      " $ MBERHOOG: Factor w/ 10 levels \"01\",\"02\",\"03\",..: 2 1 1 5 1 3 1 3 2 3 ...\n",
      " $ MBERZELF: Factor w/ 6 levels \"1\",\"2\",\"3\",\"4\",..: 1 1 1 1 6 1 1 1 2 1 ...\n",
      " $ MBERBOER: Factor w/ 10 levels \"01\",\"02\",\"03\",..: 2 1 1 1 5 1 1 1 1 1 ...\n",
      " $ MBERMIDD: Factor w/ 10 levels \"01\",\"02\",\"03\",..: 3 6 8 4 1 5 5 3 2 4 ...\n",
      " $ MBERARBG: Factor w/ 10 levels \"01\",\"02\",\"03\",..: 6 1 1 2 1 3 2 6 9 4 ...\n",
      " $ MBERARBO: Factor w/ 10 levels \"01\",\"02\",\"03\",..: 3 5 3 3 1 3 6 3 2 4 ...\n",
      " $ MSKA    : Factor w/ 10 levels \"01\",\"02\",\"03\",..: 2 1 1 4 10 3 1 3 2 2 ...\n",
      " $ MSKB1   : Factor w/ 10 levels \"01\",\"02\",\"03\",..: 2 3 6 3 1 3 2 2 2 3 ...\n",
      " $ MSKB2   : Factor w/ 10 levels \"01\",\"02\",\"03\",..: 3 4 1 2 1 3 5 3 1 2 ...\n",
      " $ MSKC    : Factor w/ 10 levels \"01\",\"02\",\"03\",..: 7 6 5 5 1 5 6 6 9 5 ...\n",
      " $ MSKD    : Factor w/ 10 levels \"01\",\"02\",\"03\",..: 2 1 1 1 1 3 1 3 2 3 ...\n",
      " $ MHHUUR  : Factor w/ 10 levels \"01\",\"02\",\"03\",..: 2 3 8 6 5 10 7 1 10 1 ...\n",
      " $ MHKOOP  : Factor w/ 10 levels \"01\",\"02\",\"03\",..: 9 8 3 5 6 1 4 10 1 10 ...\n",
      " $ MAUT1   : Factor w/ 10 levels \"01\",\"02\",\"03\",..: 9 8 8 10 7 6 9 5 6 7 ...\n",
      " $ MAUT2   : Factor w/ 9 levels \"01\",\"02\",\"03\",..: 1 2 1 1 3 4 1 5 3 2 ...\n",
      " $ MAUT0   : Factor w/ 10 levels \"01\",\"02\",\"03\",..: 2 3 3 1 2 4 2 3 4 3 ...\n",
      " $ MZFONDS : Factor w/ 10 levels \"01\",\"02\",\"03\",..: 9 7 10 8 6 10 10 7 8 7 ...\n",
      " $ MZPART  : Factor w/ 10 levels \"01\",\"02\",\"03\",..: 2 4 1 3 5 1 1 4 3 4 ...\n",
      " $ MINKM30 : Factor w/ 10 levels \"01\",\"02\",\"03\",..: 1 3 5 2 1 6 5 3 8 3 ...\n",
      " $ MINK3045: Factor w/ 10 levels \"01\",\"02\",\"03\",..: 5 1 6 6 1 3 4 6 3 4 ...\n",
      " $ MINK4575: Factor w/ 10 levels \"01\",\"02\",\"03\",..: 6 6 1 4 10 4 4 4 2 4 ...\n",
      " $ MINK7512: Factor w/ 10 levels \"01\",\"02\",\"03\",..: 1 3 1 1 1 1 1 1 1 2 ...\n",
      " $ MINK123M: Factor w/ 9 levels \"01\",\"02\",\"03\",..: 1 1 1 1 1 1 1 1 1 1 ...\n",
      " $ MINKGEM : Factor w/ 10 levels \"01\",\"02\",\"03\",..: 5 6 4 5 7 4 4 4 3 5 ...\n",
      " $ MKOOPKLA: Factor w/ 8 levels \"2\",\"3\",\"4\",\"5\",..: 3 4 4 4 3 3 5 3 3 7 ...\n",
      " $ PWAPART : Factor w/ 4 levels \"1\",\"2\",\"3\",\"4\": 1 3 3 1 1 1 1 1 1 3 ...\n",
      " $ PWABEDR : Factor w/ 7 levels \"1\",\"2\",\"3\",\"4\",..: 1 1 1 1 1 1 1 1 1 1 ...\n",
      " $ PWALAND : Factor w/ 5 levels \"1\",\"2\",\"3\",\"4\",..: 1 1 1 1 1 1 1 1 1 1 ...\n",
      " $ PPERSAUT: Factor w/ 7 levels \"01\",\"05\",\"06\",..: 4 1 4 4 1 4 4 1 3 1 ...\n",
      " $ PBESAUT : Factor w/ 4 levels \"1\",\"6\",\"7\",\"8\": 1 1 1 1 1 1 1 1 1 1 ...\n",
      " $ PMOTSCO : Factor w/ 6 levels \"1\",\"4\",\"5\",\"6\",..: 1 1 1 1 1 1 1 1 1 1 ...\n",
      " $ AAUT    : Factor w/ 5 levels \"01\",\"05\",\"07\",..: 1 1 1 1 1 1 1 1 1 1 ...\n",
      " $ PAANHANG: Factor w/ 6 levels \"1\",\"2\",\"3\",\"4\",..: 1 1 1 1 1 1 1 1 1 1 ...\n",
      " $ PTRACTOR: Factor w/ 6 levels \"1\",\"4\",\"5\",\"6\",..: 1 1 1 1 1 1 1 1 1 1 ...\n",
      " $ PWERKT  : Factor w/ 6 levels \"1\",\"2\",\"3\",\"4\",..: 1 1 1 1 1 1 1 1 1 1 ...\n",
      " $ PBROM   : Factor w/ 6 levels \"1\",\"3\",\"4\",\"5\",..: 1 1 1 1 1 1 1 3 1 1 ...\n",
      " $ PLEVEN  : Factor w/ 10 levels \"01\",\"02\",\"03\",..: 1 1 1 1 1 1 1 1 1 1 ...\n",
      " $ PPERSONG: Factor w/ 7 levels \"1\",\"2\",\"3\",\"4\",..: 1 1 1 1 1 1 1 1 1 1 ...\n",
      " $ PGEZONG : Factor w/ 3 levels \"1\",\"3\",\"4\": 1 1 1 1 1 1 1 1 1 1 ...\n",
      " $ PWAOREG : Factor w/ 5 levels \"1\",\"5\",\"6\",\"7\",..: 1 1 1 1 1 1 1 1 1 1 ...\n",
      " $ PBRAND  : Factor w/ 9 levels \"1\",\"2\",\"3\",\"4\",..: 6 3 3 3 7 1 1 1 1 4 ...\n",
      " $ PZEILPL : Factor w/ 4 levels \"1\",\"2\",\"3\",\"4\": 1 1 1 1 1 1 1 1 1 1 ...\n",
      " $ PPLEZIER: Factor w/ 7 levels \"1\",\"2\",\"3\",\"4\",..: 1 1 1 1 1 1 1 1 1 1 ...\n",
      " $ PFIETS  : Factor w/ 2 levels \"1\",\"2\": 1 1 1 1 1 1 1 1 1 1 ...\n",
      " $ PINBOED : Factor w/ 7 levels \"1\",\"2\",\"3\",\"4\",..: 1 1 1 1 1 1 1 1 1 1 ...\n",
      " $ PBYSTAND: Factor w/ 5 levels \"1\",\"3\",\"4\",\"5\",..: 1 1 1 1 1 1 1 1 1 1 ...\n",
      " $ AWAPART : num  0 2 1 0 0 0 0 0 0 1 ...\n",
      " $ AWABEDR : num  0 0 0 0 0 0 0 0 0 0 ...\n",
      " $ AWALAND : num  0 0 0 0 0 0 0 0 0 0 ...\n",
      " $ APERSAUT: num  1 0 1 1 0 1 1 0 1 0 ...\n",
      " $ ABESAUT : num  0 0 0 0 0 0 0 0 0 0 ...\n",
      " $ AMOTSCO : num  0 0 0 0 0 0 0 0 0 0 ...\n",
      " $ AVRAAUT : num  0 0 0 0 0 0 0 0 0 0 ...\n",
      " $ AAANHANG: num  0 0 0 0 0 0 0 0 0 0 ...\n",
      " $ ATRACTOR: num  0 0 0 0 0 0 0 0 0 0 ...\n",
      " $ AWERKT  : num  0 0 0 0 0 0 0 0 0 0 ...\n",
      " $ ABROM   : num  0 0 0 0 0 0 0 1 0 0 ...\n",
      " $ ALEVEN  : num  0 0 0 0 0 0 0 0 0 0 ...\n",
      " $ APERSONG: num  0 0 0 0 0 0 0 0 0 0 ...\n",
      " $ AGEZONG : num  0 0 0 0 0 0 0 0 0 0 ...\n",
      " $ AWAOREG : num  0 0 0 0 0 0 0 0 0 0 ...\n",
      " $ ABRAND  : num  1 1 1 1 1 0 0 0 0 1 ...\n",
      " $ AZEILPL : num  0 0 0 0 0 0 0 0 0 0 ...\n",
      " $ APLEZIER: num  0 0 0 0 0 0 0 0 0 0 ...\n",
      " $ AFIETS  : num  0 0 0 0 0 0 0 0 0 0 ...\n",
      " $ AINBOED : num  0 0 0 0 0 0 0 0 0 0 ...\n",
      " $ ABYSTAND: num  0 0 0 0 0 0 0 0 0 0 ...\n",
      " $ CARAVAN : Factor w/ 2 levels \"insurance\",\"noinsurance\": 2 2 2 2 2 2 2 2 2 2 ...\n"
     ]
    }
   ],
   "source": [
    "str(ticdata)"
   ]
  },
  {
   "cell_type": "code",
   "execution_count": 1,
   "metadata": {},
   "outputs": [],
   "source": [
    "# save(ticdata,file = \"ticdata_mod.Rdata\")\n",
    "load(\"ticdata_mod.Rdata\")"
   ]
  },
  {
   "cell_type": "code",
   "execution_count": 2,
   "metadata": {},
   "outputs": [
    {
     "name": "stderr",
     "output_type": "stream",
     "text": [
      "Loading required package: lattice\n",
      "Loading required package: ggplot2\n"
     ]
    }
   ],
   "source": [
    "library(caret)\n",
    "set.seed(156)\n",
    "split1 <- createDataPartition(ticdata$CARAVAN,p=0.7,list = F)\n",
    "trn <- ticdata[split1,]\n",
    "other <- ticdata[-split1,]\n",
    "\n",
    "set.seed(934)\n",
    "split2 <- createDataPartition(other$CARAVAN,p=1/3,list = F)\n",
    "vld <- other[split2,]\n",
    "tst <- other[-split2,]\n",
    "\n",
    "trn_dum <- data.frame(model.matrix(CARAVAN~.,data=trn))[,-1]\n",
    "vld_dum <- data.frame(model.matrix(CARAVAN~.,data=vld))[,-1]\n",
    "tst_dum <- data.frame(model.matrix(CARAVAN~.,data=tst))[,-1]\n",
    "\n",
    "trn_dum$CARAVAN <- trn$CARAVAN\n",
    "vld_dum$CARAVAN <- vld$CARAVAN\n",
    "tst_dum$CARAVAN <- tst$CARAVAN\n",
    "\n",
    "predictors <- names(trn)[names(trn)!=\"CARAVAN\"]\n",
    "\n",
    "nzv_info <- nearZeroVar(trn_dum)\n",
    "noNZVset <- names(trn_dum)[-nzv_info]\n",
    "\n",
    "tst_result <- data.frame(CARAVAN = tst$CARAVAN)\n",
    "vld_result <- data.frame(CARAVAN = vld$CARAVAN)"
   ]
  },
  {
   "cell_type": "markdown",
   "metadata": {},
   "source": [
    "`The Effect of Class Imbalance`\n",
    "> [Practical Guide to deal with Imbalanced Classification Problems in R](https://www.analyticsvidhya.com/blog/2016/03/practical-guide-deal-imbalanced-classification-problems/)"
   ]
  },
  {
   "cell_type": "markdown",
   "metadata": {},
   "source": [
    "&#x1F383;"
   ]
  },
  {
   "cell_type": "code",
   "execution_count": 4,
   "metadata": {
    "scrolled": true
   },
   "outputs": [
    {
     "data": {
      "text/plain": [
       "\n",
       "  insurance noinsurance \n",
       " 0.05966198  0.94033802 "
      ]
     },
     "metadata": {},
     "output_type": "display_data"
    }
   ],
   "source": [
    "prop.table(table(ticdata$CARAVAN))"
   ]
  },
  {
   "cell_type": "code",
   "execution_count": 3,
   "metadata": {},
   "outputs": [],
   "source": [
    "fiveStats <- function(...) c(twoClassSummary(...),defaultSummary(...))\n",
    "fourStats <- function(data,lev=levels(data$obs),model=NULL)\n",
    "    {\n",
    "    accKapp <- postResample(data[,\"pred\"],data[,\"obs\"])\n",
    "    out <- c(accKapp,\n",
    "            sensitivity(predicted = data[,\"pred\"],reference = data[,\"obs\"],lev[1]),\n",
    "            specificity(predicted = data[,\"pred\"],reference = data[,\"obs\"],lev[2]))\n",
    "     names(out)[3:4] <- c(\"Sens\",\"Spec\")\n",
    "     out\n",
    "}"
   ]
  },
  {
   "cell_type": "code",
   "execution_count": 4,
   "metadata": {},
   "outputs": [],
   "source": [
    "library(caret)\n",
    "ctrl <- trainControl(method=\"cv\",\n",
    "                    classProbs=T,summaryFunction=fiveStats)\n",
    "ctrlNoProb <- ctrl\n",
    "ctrlNoProb$summaryFunction <- fourStats\n",
    "ctrlNoProb$classProbs <- FALSE"
   ]
  },
  {
   "cell_type": "code",
   "execution_count": 5,
   "metadata": {
    "scrolled": false
   },
   "outputs": [
    {
     "name": "stderr",
     "output_type": "stream",
     "text": [
      "Loading required package: foreach\n",
      "Loading required package: iterators\n",
      "Loading required package: parallel\n"
     ]
    }
   ],
   "source": [
    "library(doMC)\n",
    "registerDoMC(12)"
   ]
  },
  {
   "cell_type": "markdown",
   "metadata": {},
   "source": [
    "`lr`"
   ]
  },
  {
   "cell_type": "code",
   "execution_count": 10,
   "metadata": {
    "scrolled": true
   },
   "outputs": [
    {
     "data": {
      "text/plain": [
       "Generalized Linear Model \n",
       "\n",
       "6877 samples\n",
       " 203 predictor\n",
       "   2 classes: 'insurance', 'noinsurance' \n",
       "\n",
       "No pre-processing\n",
       "Resampling: None "
      ]
     },
     "metadata": {},
     "output_type": "display_data"
    }
   ],
   "source": [
    "options(warn =-1)\n",
    "set.seed(1410)\n",
    "fit_lr <- train(CARAVAN~.,data=trn_dum[,noNZVset],\n",
    "               method=\"glm\",trControl=ctrl,metric=\"ROC\")\n",
    "fit_lr"
   ]
  },
  {
   "cell_type": "code",
   "execution_count": 11,
   "metadata": {
    "scrolled": true
   },
   "outputs": [
    {
     "data": {
      "text/plain": [
       "Confusion Matrix and Statistics\n",
       "\n",
       "             Reference\n",
       "Prediction    insurance noinsurance\n",
       "  insurance           1           2\n",
       "  noinsurance        58         922\n",
       "                                          \n",
       "               Accuracy : 0.939           \n",
       "                 95% CI : (0.9221, 0.9531)\n",
       "    No Information Rate : 0.94            \n",
       "    P-Value [Acc > NIR] : 0.5872          \n",
       "                                          \n",
       "                  Kappa : 0.0266          \n",
       " Mcnemar's Test P-Value : 1.243e-12       \n",
       "                                          \n",
       "            Sensitivity : 0.016949        \n",
       "            Specificity : 0.997835        \n",
       "         Pos Pred Value : 0.333333        \n",
       "         Neg Pred Value : 0.940816        \n",
       "             Prevalence : 0.060020        \n",
       "         Detection Rate : 0.001017        \n",
       "   Detection Prevalence : 0.003052        \n",
       "      Balanced Accuracy : 0.507392        \n",
       "                                          \n",
       "       'Positive' Class : insurance       \n",
       "                                          "
      ]
     },
     "metadata": {},
     "output_type": "display_data"
    }
   ],
   "source": [
    "cm_lr <- confusionMatrix(\n",
    "                         reference = vld_dum$CARAVAN,\n",
    "                         data = predict(fit_lr,newdata = vld_dum[,noNZVset]))\n",
    "cm_lr"
   ]
  },
  {
   "cell_type": "code",
   "execution_count": 12,
   "metadata": {
    "scrolled": false
   },
   "outputs": [
    {
     "name": "stderr",
     "output_type": "stream",
     "text": [
      "Type 'citation(\"pROC\")' for a citation.\n",
      "\n",
      "Attaching package: 'pROC'\n",
      "\n",
      "The following objects are masked from 'package:stats':\n",
      "\n",
      "    cov, smooth, var\n",
      "\n"
     ]
    },
    {
     "data": {
      "text/plain": [
       "\n",
       "Call:\n",
       "roc.default(response = vld_dum$CARAVAN, predictor = predict(fit_lr,     newdata = vld_dum[, noNZVset], type = \"prob\")[, 1], levels = rev(levels(vld_dum$CARAVAN)))\n",
       "\n",
       "Data: predict(fit_lr, newdata = vld_dum[, noNZVset], type = \"prob\")[, 1] in 924 controls (vld_dum$CARAVAN noinsurance) < 59 cases (vld_dum$CARAVAN insurance).\n",
       "Area under the curve: 0.7267"
      ]
     },
     "metadata": {},
     "output_type": "display_data"
    }
   ],
   "source": [
    "library(pROC)\n",
    "roc_lr <- roc(\n",
    "              response = vld_dum$CARAVAN,\n",
    "              predictor = predict(fit_lr,newdata =  vld_dum[,noNZVset],type=\"prob\")[,1],\n",
    "              levels=rev(levels(vld_dum$CARAVAN)))\n",
    "roc_lr"
   ]
  },
  {
   "cell_type": "markdown",
   "metadata": {},
   "source": [
    "`fda`"
   ]
  },
  {
   "cell_type": "code",
   "execution_count": 9,
   "metadata": {},
   "outputs": [
    {
     "name": "stderr",
     "output_type": "stream",
     "text": [
      "Loading required package: earth\n",
      "Loading required package: plotmo\n",
      "Loading required package: plotrix\n",
      "Loading required package: TeachingDemos\n"
     ]
    },
    {
     "data": {
      "text/plain": [
       "Flexible Discriminant Analysis \n",
       "\n",
       "6877 samples\n",
       "  85 predictor\n",
       "   2 classes: 'insurance', 'noinsurance' \n",
       "\n",
       "No pre-processing\n",
       "Resampling: None "
      ]
     },
     "metadata": {},
     "output_type": "display_data"
    }
   ],
   "source": [
    "options(warn = 0)\n",
    "fit_fda <- train(\n",
    "                 CARAVAN~.,data=trn,method=\"fda\",\n",
    "                 metric=\"ROC\",trControl=ctrl,\n",
    "                 tuneGrid=data.frame(degree = 1,nprune = 25))\n",
    "fit_fda"
   ]
  },
  {
   "cell_type": "markdown",
   "metadata": {},
   "source": [
    "`rf`"
   ]
  },
  {
   "cell_type": "code",
   "execution_count": 8,
   "metadata": {
    "scrolled": false
   },
   "outputs": [
    {
     "data": {
      "text/plain": [
       "Random Forest \n",
       "\n",
       "6877 samples\n",
       " 503 predictor\n",
       "   2 classes: 'insurance', 'noinsurance' \n",
       "\n",
       "No pre-processing\n",
       "Resampling: None "
      ]
     },
     "metadata": {},
     "output_type": "display_data"
    }
   ],
   "source": [
    "set.seed(1410)\n",
    "ctrl <- trainControl(method=\"none\",\n",
    "                    classProbs=T,summaryFunction=fiveStats)\n",
    "fit_rf <- train(\n",
    "                CARAVAN~.,data=trn_dum,method=\"rf\",\n",
    "                metric=\"ROC\",trControl=ctrl,\n",
    "                tuneGrid=data.frame(mtry=125))\n",
    "fit_rf"
   ]
  },
  {
   "cell_type": "code",
   "execution_count": null,
   "metadata": {},
   "outputs": [],
   "source": [
    "# save(fit_lr,fit_fda,fit_rf,file = \"chap16_model.Rdata\")"
   ]
  },
  {
   "cell_type": "markdown",
   "metadata": {},
   "source": [
    "`Lift`"
   ]
  },
  {
   "cell_type": "code",
   "execution_count": 16,
   "metadata": {},
   "outputs": [],
   "source": [
    "vld_result$LR <- predict(fit_lr,newdata = vld_dum[,noNZVset],type=\"prob\")[,1]\n",
    "vld_result$FDA <- predict(fit_fda,newdata = vld,type=\"prob\")[,1]\n",
    "vld_result$RF <- predict(fit_rf,newdata = vld_dum,type=\"prob\")[,1]\n",
    "\n",
    "labs <- c(RF = \"Random Forest\", LR = \"Logistic Regression\",FDA = \"FDA (MARS)\")\n",
    "lift_1 <- lift(CARAVAN ~ RF + LR + FDA,data=vld_result,labels=labs)"
   ]
  },
  {
   "cell_type": "code",
   "execution_count": 23,
   "metadata": {},
   "outputs": [
    {
     "data": {},
     "metadata": {},
     "output_type": "display_data"
    },
    {
     "data": {
      "image/png": "[encoded data removed]",
      "text/plain": [
       "plot without title"
      ]
     },
     "metadata": {},
     "output_type": "display_data"
    }
   ],
   "source": [
    "xyplot(lift_1,\n",
    "       ylab = \"%Events Found\",\n",
    "       xlab =  \"%Customers Evaluated\",\n",
    "       lwd = 2,\n",
    "       type = \"l\")"
   ]
  },
  {
   "cell_type": "markdown",
   "metadata": {},
   "source": [
    "`ROC`"
   ]
  },
  {
   "cell_type": "code",
   "execution_count": 18,
   "metadata": {},
   "outputs": [],
   "source": [
    "roc_lr <- roc(\n",
    "              response = vld_result$CARAVAN,\n",
    "              predictor = vld_result$LR,\n",
    "              levels=rev(levels(vld_result$CARAVAN)))\n",
    "\n",
    "roc_fda <- roc(\n",
    "              response = vld_result$CARAVAN,\n",
    "              predictor = vld_result$FDA,\n",
    "              levels=rev(levels(vld_result$CARAVAN)))\n",
    "\n",
    "roc_rf <- roc(\n",
    "              response = vld_result$CARAVAN,\n",
    "              predictor = vld_result$RF,\n",
    "              levels=rev(levels(vld_result$CARAVAN)))"
   ]
  },
  {
   "cell_type": "code",
   "execution_count": 22,
   "metadata": {
    "scrolled": true
   },
   "outputs": [
    {
     "data": {
      "image/png": "[encoded data removed]",
      "text/plain": [
       "plot without title"
      ]
     },
     "metadata": {},
     "output_type": "display_data"
    }
   ],
   "source": [
    "plotTheme <- caretTheme()\n",
    "\n",
    "plot(roc_lr, type = \"S\", col = \"#5380e4\", legacy.axes = T)\n",
    "plot(roc_fda, type = \"S\", col = \"#ffbf03\", add = TRUE, legacy.axes = T)\n",
    "plot(roc_rf, type = \"S\", col = \"#00b723\", add = TRUE, legacy.axes = T)\n",
    "\n",
    "legend(.7, .25,\n",
    "       c(\"Logistic Regression\", \"FDA (MARS)\",\"Random Forest\"),\n",
    "       cex = .85,\n",
    "       col = c(\"#5380e4\",\"#ffbf03\",\"#00b723\"),\n",
    "       lwd = rep(2, 3),\n",
    "       lty = rep(1, 3))"
   ]
  },
  {
   "cell_type": "markdown",
   "metadata": {},
   "source": [
    "###  Alternate Cutoffs"
   ]
  },
  {
   "cell_type": "code",
   "execution_count": 30,
   "metadata": {},
   "outputs": [],
   "source": [
    "# coords(smooth.roc, x, input=c(\"specificity\",\n",
    "# \"sensitivity\"), ret=c(\"specificity\", \"sensitivity\"), as.list=FALSE,\n",
    "# drop=TRUE, best.method=c(\"youden\", \"closest.topleft\"), \n",
    "# best.weights=c(1, 0.5), ...)"
   ]
  },
  {
   "cell_type": "code",
   "execution_count": 36,
   "metadata": {},
   "outputs": [
    {
     "data": {
      "text/plain": [
       "Confusion Matrix and Statistics\n",
       "\n",
       "             Reference\n",
       "Prediction    insurance noinsurance\n",
       "  insurance          41         297\n",
       "  noinsurance        18         627\n",
       "                                          \n",
       "               Accuracy : 0.6796          \n",
       "                 95% CI : (0.6494, 0.7087)\n",
       "    No Information Rate : 0.94            \n",
       "    P-Value [Acc > NIR] : 1               \n",
       "                                          \n",
       "                  Kappa : 0.1162          \n",
       " Mcnemar's Test P-Value : <2e-16          \n",
       "                                          \n",
       "            Sensitivity : 0.69492         \n",
       "            Specificity : 0.67857         \n",
       "         Pos Pred Value : 0.12130         \n",
       "         Neg Pred Value : 0.97209         \n",
       "             Prevalence : 0.06002         \n",
       "         Detection Rate : 0.04171         \n",
       "   Detection Prevalence : 0.34385         \n",
       "      Balanced Accuracy : 0.68674         \n",
       "                                          \n",
       "       'Positive' Class : insurance       \n",
       "                                          "
      ]
     },
     "metadata": {},
     "output_type": "display_data"
    }
   ],
   "source": [
    "library(pROC)\n",
    "threshold_rf <- coords(roc_rf,x = \"best\",ret=\"threshold\",best.method = \"closest.topleft\")\n",
    "threshold_youden_rf <- coords(roc_rf,x = \"best\",ret=\"threshold\",best.method = \"youden\")\n",
    "\n",
    "cutText <- ifelse(threshold_rf==threshold_youden_rf,\n",
    "                 \"is the same as\",\"is similar to\")\n",
    "\n",
    "vld_result$rfAlt <- factor(ifelse(vld_result$RF > threshold_rf,\"insurance\",\"noinsurance\"))\n",
    "cm_rfAlt_vld <- confusionMatrix(\n",
    "                                reference = vld_result$CARAVAN,\n",
    "                                data = vld_result$rfAlt)\n",
    "cm_rfAlt_vld"
   ]
  },
  {
   "cell_type": "code",
   "execution_count": 38,
   "metadata": {
    "scrolled": true
   },
   "outputs": [
    {
     "data": {
      "image/png": "[encoded data removed]",
      "text/plain": [
       "plot without title"
      ]
     },
     "metadata": {},
     "output_type": "display_data"
    }
   ],
   "source": [
    "plot(roc_rf, print.thres = c(.5, .3, .10, threshold_rf), type = \"S\",\n",
    "     print.thres.pattern = \"%.3f (Spec = %.2f, Sens = %.2f)\",\n",
    "     print.thres.cex = .8, legacy.axes = TRUE)"
   ]
  },
  {
   "cell_type": "code",
   "execution_count": 41,
   "metadata": {
    "scrolled": false
   },
   "outputs": [
    {
     "name": "stdout",
     "output_type": "stream",
     "text": [
      "Original CM of tst set"
     ]
    },
    {
     "data": {
      "text/plain": [
       "Confusion Matrix and Statistics\n",
       "\n",
       "             Reference\n",
       "Prediction    insurance noinsurance\n",
       "  insurance          11          19\n",
       "  noinsurance       105        1827\n",
       "                                          \n",
       "               Accuracy : 0.9368          \n",
       "                 95% CI : (0.9251, 0.9472)\n",
       "    No Information Rate : 0.9409          \n",
       "    P-Value [Acc > NIR] : 0.7935          \n",
       "                                          \n",
       "                  Kappa : 0.1295          \n",
       " Mcnemar's Test P-Value : 2.29e-14        \n",
       "                                          \n",
       "            Sensitivity : 0.094828        \n",
       "            Specificity : 0.989707        \n",
       "         Pos Pred Value : 0.366667        \n",
       "         Neg Pred Value : 0.945652        \n",
       "             Prevalence : 0.059123        \n",
       "         Detection Rate : 0.005607        \n",
       "   Detection Prevalence : 0.015291        \n",
       "      Balanced Accuracy : 0.542268        \n",
       "                                          \n",
       "       'Positive' Class : insurance       \n",
       "                                          "
      ]
     },
     "metadata": {},
     "output_type": "display_data"
    },
    {
     "name": "stdout",
     "output_type": "stream",
     "text": [
      "CM of tst set using Alternate Cutoffs"
     ]
    },
    {
     "data": {
      "text/plain": [
       "Confusion Matrix and Statistics\n",
       "\n",
       "             Reference\n",
       "Prediction    insurance noinsurance\n",
       "  insurance          77         556\n",
       "  noinsurance        39        1290\n",
       "                                         \n",
       "               Accuracy : 0.6967         \n",
       "                 95% CI : (0.6759, 0.717)\n",
       "    No Information Rate : 0.9409         \n",
       "    P-Value [Acc > NIR] : 1              \n",
       "                                         \n",
       "                  Kappa : 0.1174         \n",
       " Mcnemar's Test P-Value : <2e-16         \n",
       "                                         \n",
       "            Sensitivity : 0.66379        \n",
       "            Specificity : 0.69881        \n",
       "         Pos Pred Value : 0.12164        \n",
       "         Neg Pred Value : 0.97065        \n",
       "             Prevalence : 0.05912        \n",
       "         Detection Rate : 0.03925        \n",
       "   Detection Prevalence : 0.32263        \n",
       "      Balanced Accuracy : 0.68130        \n",
       "                                         \n",
       "       'Positive' Class : insurance      \n",
       "                                         "
      ]
     },
     "metadata": {},
     "output_type": "display_data"
    }
   ],
   "source": [
    "cat(\"Original CM of tst set\")\n",
    "confusionMatrix(\n",
    "                reference =  tst_result$CARAVAN,\n",
    "                data = predict(fit_rf,newdata = tst_dum))\n",
    "\n",
    "tst_result$RF <- predict(fit_rf,newdata = tst_dum,type=\"prob\")[,1]\n",
    "tst_result$rfAlt <- factor(ifelse(tst_result$RF > threshold_rf,\"insurance\",\"noinsurance\"))\n",
    "\n",
    "cm_rfAlt_tst <- confusionMatrix(\n",
    "                                reference =  tst_result$CARAVAN,\n",
    "                               data = tst_result$rfAlt)\n",
    "cat(\"CM of tst set using Alternate Cutoffs\")\n",
    "cm_rfAlt_tst "
   ]
  },
  {
   "cell_type": "markdown",
   "metadata": {},
   "source": [
    "### Adjusting Prior Probabilities"
   ]
  },
  {
   "cell_type": "code",
   "execution_count": 52,
   "metadata": {},
   "outputs": [
    {
     "data": {
      "text/plain": [
       "Call:\n",
       "mda::fda(formula = .outcome ~ ., data = dat, weights = wts, method = earth::earth, \n",
       "    degree = param$degree, nprune = param$nprune)\n",
       "\n",
       "Dimension: 1 \n",
       "\n",
       "Percent Between-Group Variance Explained:\n",
       " v1 \n",
       "100 \n",
       "\n",
       "Training Misclassification Error: 0.06224 ( N = 6877 )"
      ]
     },
     "metadata": {},
     "output_type": "display_data"
    }
   ],
   "source": [
    "fit_fda$finalModel"
   ]
  },
  {
   "cell_type": "code",
   "execution_count": 53,
   "metadata": {},
   "outputs": [],
   "source": [
    "priors <- table(ticdata$CARAVAN)/nrow(ticdata)*100\n",
    "fdaPriors <- fdaFit\n",
    "fdaPriors$finalModel$prior <- c(insurance = .6, noinsurance =  .4)\n",
    "fdaPriorPred <- predict(fdaPriors, evaluation[,predictors])\n",
    "evalResults$FDAprior <-  predict(fdaPriors, evaluation[,predictors], type = \"prob\")[,1]\n",
    "testResults$FDAprior <-  predict(fdaPriors, testing[,predictors], type = \"prob\")[,1]\n",
    "fdaPriorCM <- confusionMatrix(fdaPriorPred, evaluation$CARAVAN)\n",
    "fdaPriorCM\n",
    "\n",
    "fdaPriorROC <- roc(testResults$CARAVAN, testResults$FDAprior,\n",
    "                   levels = rev(levels(testResults$CARAVAN)))\n",
    "fdaPriorROC"
   ]
  },
  {
   "cell_type": "code",
   "execution_count": 56,
   "metadata": {
    "scrolled": false
   },
   "outputs": [
    {
     "data": {
      "text/plain": [
       "\n",
       "Call:\n",
       "roc.default(response = vld_result$CARAVAN, predictor = vld_result$FDAprior,     levels = rev(levels(vld_result$CARAVAN)))\n",
       "\n",
       "Data: vld_result$FDAprior in 924 controls (vld_result$CARAVAN noinsurance) < 59 cases (vld_result$CARAVAN insurance).\n",
       "Area under the curve: 0.7543"
      ]
     },
     "metadata": {},
     "output_type": "display_data"
    }
   ],
   "source": [
    "cat(\"Prior Probabilities\")\n",
    "prop.table(table(ticdata$CARAVAN))\n",
    "\n",
    "prior_fda <- fit_fda\n",
    "prior_fda$finalModel$prior <- c(insurance = .6, noinsurance =  .4)\n",
    "\n",
    "vld_result$FDAprior <- predict(prior_fda,vld,type=\"prob\")[,1]\n",
    "cm_fda_prior <- confusionMatrix(reference = vld_result$CARAVAN,\n",
    "                               data = predict(prior_fda,newdata = vld))\n",
    "cm_fda_prior\n",
    "roc_fda_prior <- roc(\n",
    "                     response = vld_result$CARAVAN,\n",
    "                     predictor = vld_result$FDAprior,\n",
    "                     levels=rev(levels(vld_result$CARAVAN)))\n",
    "roc_fda_prior"
   ]
  },
  {
   "cell_type": "code",
   "execution_count": 60,
   "metadata": {},
   "outputs": [
    {
     "data": {
      "text/plain": [
       "Confusion Matrix and Statistics\n",
       "\n",
       "             Reference\n",
       "Prediction    insurance noinsurance\n",
       "  insurance          42         306\n",
       "  noinsurance        17         618\n",
       "                                          \n",
       "               Accuracy : 0.6714          \n",
       "                 95% CI : (0.6411, 0.7007)\n",
       "    No Information Rate : 0.94            \n",
       "    P-Value [Acc > NIR] : 1               \n",
       "                                          \n",
       "                  Kappa : 0.1156          \n",
       " Mcnemar's Test P-Value : <2e-16          \n",
       "                                          \n",
       "            Sensitivity : 0.71186         \n",
       "            Specificity : 0.66883         \n",
       "         Pos Pred Value : 0.12069         \n",
       "         Neg Pred Value : 0.97323         \n",
       "             Prevalence : 0.06002         \n",
       "         Detection Rate : 0.04273         \n",
       "   Detection Prevalence : 0.35402         \n",
       "      Balanced Accuracy : 0.69035         \n",
       "                                          \n",
       "       'Positive' Class : insurance       \n",
       "                                          "
      ]
     },
     "metadata": {},
     "output_type": "display_data"
    },
    {
     "data": {
      "text/plain": [
       "Confusion Matrix and Statistics\n",
       "\n",
       "             Reference\n",
       "Prediction    insurance noinsurance\n",
       "  insurance           1           3\n",
       "  noinsurance        58         921\n",
       "                                         \n",
       "               Accuracy : 0.9379         \n",
       "                 95% CI : (0.921, 0.9522)\n",
       "    No Information Rate : 0.94           \n",
       "    P-Value [Acc > NIR] : 0.638          \n",
       "                                         \n",
       "                  Kappa : 0.0243         \n",
       " Mcnemar's Test P-Value : 4.712e-12      \n",
       "                                         \n",
       "            Sensitivity : 0.016949       \n",
       "            Specificity : 0.996753       \n",
       "         Pos Pred Value : 0.250000       \n",
       "         Neg Pred Value : 0.940756       \n",
       "             Prevalence : 0.060020       \n",
       "         Detection Rate : 0.001017       \n",
       "   Detection Prevalence : 0.004069       \n",
       "      Balanced Accuracy : 0.506851       \n",
       "                                         \n",
       "       'Positive' Class : insurance      \n",
       "                                         "
      ]
     },
     "metadata": {},
     "output_type": "display_data"
    }
   ],
   "source": [
    "cm_fda_prior\n",
    "\n",
    "cm_fda <- confusionMatrix(\n",
    "                         reference = vld_result$CARAVAN,\n",
    "                         data = predict(fit_fda,newdata = vld))\n",
    "\n",
    "cm_fda"
   ]
  },
  {
   "cell_type": "code",
   "execution_count": 57,
   "metadata": {},
   "outputs": [
    {
     "data": {
      "image/png": "[encoded data removed]",
      "text/plain": [
       "plot without title"
      ]
     },
     "metadata": {},
     "output_type": "display_data"
    }
   ],
   "source": [
    "plot(roc_fda, type = \"S\", col = \"#ffbf03\", legacy.axes = T)\n",
    "plot(roc_fda_prior, type = \"S\", col = \"#00b723\", add = T, legacy.axes = T)\n",
    "\n",
    "legend(.7, .25,\n",
    "       c(\"Original\", \"Adjusted\"),\n",
    "       cex = .85,\n",
    "       col = c(\"#ffbf03\",\"#00b723\"),\n",
    "       lwd = rep(2, 2),\n",
    "       lty = rep(1, 2))"
   ]
  }
 ],
 "metadata": {
  "kernelspec": {
   "display_name": "R",
   "language": "R",
   "name": "ir"
  },
  "language_info": {
   "codemirror_mode": "r",
   "file_extension": ".r",
   "mimetype": "text/x-r-source",
   "name": "R",
   "pygments_lexer": "r",
   "version": "3.5.1"
  },
  "latex_envs": {
   "LaTeX_envs_menu_present": true,
   "autoclose": false,
   "autocomplete": true,
   "bibliofile": "biblio.bib",
   "cite_by": "apalike",
   "current_citInitial": 1,
   "eqLabelWithNumbers": true,
   "eqNumInitial": 1,
   "hotkeys": {
    "equation": "Ctrl-E",
    "itemize": "Ctrl-I"
   },
   "labels_anchors": false,
   "latex_user_defs": false,
   "report_style_numbering": false,
   "user_envs_cfg": false
  },
  "toc": {
   "base_numbering": 1,
   "nav_menu": {},
   "number_sections": true,
   "sideBar": true,
   "skip_h1_title": false,
   "title_cell": "Table of Contents",
   "title_sidebar": "Contents",
   "toc_cell": false,
   "toc_position": {},
   "toc_section_display": true,
   "toc_window_display": false
  }
 },
 "nbformat": 4,
 "nbformat_minor": 2
}
