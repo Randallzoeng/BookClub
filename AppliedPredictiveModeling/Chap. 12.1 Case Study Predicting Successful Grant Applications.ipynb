{
 "cells": [
  {
   "cell_type": "code",
   "execution_count": 1,
   "metadata": {
    "scrolled": false
   },
   "outputs": [
    {
     "data": {
      "text/html": [
       "'English_United States.1252'"
      ],
      "text/latex": [
       "'English\\_United States.1252'"
      ],
      "text/markdown": [
       "'English_United States.1252'"
      ],
      "text/plain": [
       "[1] \"English_United States.1252\""
      ]
     },
     "metadata": {},
     "output_type": "display_data"
    },
    {
     "name": "stderr",
     "output_type": "stream",
     "text": [
      "Loading required package: lattice\n",
      "Loading required package: ggplot2\n",
      "\n",
      "Attaching package: 'lubridate'\n",
      "\n",
      "The following object is masked from 'package:plyr':\n",
      "\n",
      "    here\n",
      "\n",
      "The following object is masked from 'package:base':\n",
      "\n",
      "    date\n",
      "\n"
     ]
    },
    {
     "name": "stdout",
     "output_type": "stream",
     "text": [
      " chr [1:1073] \"NumCI\" \"NumDR\" \"NumECI\" \"NumEA\" \"NumHV\" \"NumPS\" \"NumSCI\" ...\n",
      " chr [1:252] \"NumCI\" \"NumDR\" \"NumECI\" \"NumPS\" \"NumSCI\" \"NumSR\" \"NumUNK\" ...\n"
     ]
    }
   ],
   "source": [
    "# 12.1 Case Study: Predicting Successful Grant Applications\n",
    "Sys.setlocale(\"LC_TIME\", \"English\")\n",
    "\n",
    "library(parallel)\n",
    "setDefaultCluster(makeCluster(4))\n",
    "\n",
    "source('CreateGrantData.R')"
   ]
  },
  {
   "cell_type": "markdown",
   "metadata": {},
   "source": [
    "`there are 1073 predictors in fullSet, However the book show only 1070 predictors @page 311`"
   ]
  },
  {
   "cell_type": "code",
   "execution_count": 30,
   "metadata": {},
   "outputs": [
    {
     "data": {
      "text/html": [
       "<ol class=list-inline>\n",
       "\t<li>'trimmedmat'</li>\n",
       "\t<li>'numbers.discarded'</li>\n",
       "\t<li>'names.discarded'</li>\n",
       "\t<li>'size'</li>\n",
       "</ol>\n"
      ],
      "text/latex": [
       "\\begin{enumerate*}\n",
       "\\item 'trimmedmat'\n",
       "\\item 'numbers.discarded'\n",
       "\\item 'names.discarded'\n",
       "\\item 'size'\n",
       "\\end{enumerate*}\n"
      ],
      "text/markdown": [
       "1. 'trimmedmat'\n",
       "2. 'numbers.discarded'\n",
       "3. 'names.discarded'\n",
       "4. 'size'\n",
       "\n",
       "\n"
      ],
      "text/plain": [
       "[1] \"trimmedmat\"        \"numbers.discarded\" \"names.discarded\"  \n",
       "[4] \"size\"             "
      ]
     },
     "metadata": {},
     "output_type": "display_data"
    }
   ],
   "source": [
    "reducedCovMat <- cov(training[,reducedSet])\n",
    "library(subselect)\n",
    "trimmingResults <- trim.matrix(reducedCovMat)\n",
    "names(trimmingResults)\n",
    "trimmingResults$names.discarded"
   ]
  },
  {
   "cell_type": "code",
   "execution_count": 34,
   "metadata": {
    "scrolled": true
   },
   "outputs": [
    {
     "data": {
      "text/html": [
       "<ol class=list-inline>\n",
       "\t<li>'NumDR'</li>\n",
       "\t<li>'PS.1975'</li>\n",
       "\t<li>'CI.Dept1798'</li>\n",
       "\t<li>'PS.Dept3028'</li>\n",
       "\t<li>'PS.Faculty1'</li>\n",
       "\t<li>'BTotal'</li>\n",
       "\t<li>'numPeople'</li>\n",
       "\t<li>'Apr'</li>\n",
       "\t<li>'Sun'</li>\n",
       "</ol>\n"
      ],
      "text/latex": [
       "\\begin{enumerate*}\n",
       "\\item 'NumDR'\n",
       "\\item 'PS.1975'\n",
       "\\item 'CI.Dept1798'\n",
       "\\item 'PS.Dept3028'\n",
       "\\item 'PS.Faculty1'\n",
       "\\item 'BTotal'\n",
       "\\item 'numPeople'\n",
       "\\item 'Apr'\n",
       "\\item 'Sun'\n",
       "\\end{enumerate*}\n"
      ],
      "text/markdown": [
       "1. 'NumDR'\n",
       "2. 'PS.1975'\n",
       "3. 'CI.Dept1798'\n",
       "4. 'PS.Dept3028'\n",
       "5. 'PS.Faculty1'\n",
       "6. 'BTotal'\n",
       "7. 'numPeople'\n",
       "8. 'Apr'\n",
       "9. 'Sun'\n",
       "\n",
       "\n"
      ],
      "text/plain": [
       "[1] \"NumDR\"       \"PS.1975\"     \"CI.Dept1798\" \"PS.Dept3028\" \"PS.Faculty1\"\n",
       "[6] \"BTotal\"      \"numPeople\"   \"Apr\"         \"Sun\"        "
      ]
     },
     "metadata": {},
     "output_type": "display_data"
    }
   ],
   "source": [
    "#apply to full set\n",
    "fullCovMat <- cov(training[,fullSet])\n",
    "fullSetResults <- trim.matrix(fullCovMat)\n",
    "fullSetResults$names.discarded"
   ]
  },
  {
   "cell_type": "markdown",
   "metadata": {},
   "source": [
    "```r\n",
    "### Section 12.1 Case Study: Predicting Successful Grant Applications\n",
    "\n",
    "load(\"grantData.RData\")\n",
    "\n",
    "library(caret)\n",
    "library(doMC)\n",
    "registerDoMC(12)\n",
    "library(plyr)\n",
    "library(reshape2)\n",
    "\n",
    "## Look at two different ways to split and resample the data. A support vector\n",
    "## machine is used to illustrate the differences. The full set of predictors\n",
    "## is used. \n",
    "\n",
    "pre2008Data <- training[pre2008,]\n",
    "year2008Data <- rbind(training[-pre2008,], testing)\n",
    "\n",
    "set.seed(552)\n",
    "test2008 <- createDataPartition(year2008Data$Class, p = .25)[[1]]\n",
    "\n",
    "allData <- rbind(pre2008Data, year2008Data[-test2008,])\n",
    "holdout2008 <- year2008Data[test2008,]\n",
    "\n",
    "## Use a common tuning grid for both approaches. \n",
    "svmrGrid <- expand.grid(sigma = c(.00007, .00009, .0001, .0002),\n",
    "                        C = 2^(-3:8))\n",
    "\n",
    "## Evaluate the model using overall 10-fold cross-validation\n",
    "ctrl0 <- trainControl(method = \"cv\",\n",
    "                      summaryFunction = twoClassSummary,\n",
    "                      classProbs = TRUE)\n",
    "set.seed(477)\n",
    "svmFit0 <- train(pre2008Data[,fullSet], pre2008Data$Class,\n",
    "                 method = \"svmRadial\",\n",
    "                 tuneGrid = svmrGrid,\n",
    "                 preProc = c(\"center\", \"scale\"),\n",
    "                 metric = \"ROC\",\n",
    "                 trControl = ctrl0)\n",
    "svmFit0\n",
    "\n",
    "### Now fit the single 2008 test set\n",
    "ctrl00 <- trainControl(method = \"LGOCV\",\n",
    "                       summaryFunction = twoClassSummary,\n",
    "                       classProbs = TRUE,\n",
    "                       index = list(TestSet = 1:nrow(pre2008Data)))\n",
    "\n",
    "\n",
    "set.seed(476)\n",
    "svmFit00 <- train(allData[,fullSet], allData$Class,\n",
    "                  method = \"svmRadial\",\n",
    "                  tuneGrid = svmrGrid,\n",
    "                  preProc = c(\"center\", \"scale\"),\n",
    "                  metric = \"ROC\",\n",
    "                  trControl = ctrl00)\n",
    "svmFit00\n",
    "\n",
    "## Combine the two sets of results and plot\n",
    "\n",
    "grid0 <- subset(svmFit0$results,  sigma == svmFit0$bestTune$sigma)\n",
    "grid0$Model <- \"10-Fold Cross-Validation\"\n",
    "\n",
    "grid00 <- subset(svmFit00$results,  sigma == svmFit00$bestTune$sigma)\n",
    "grid00$Model <- \"Single 2008 Test Set\"\n",
    "\n",
    "plotData <- rbind(grid00, grid0)\n",
    "\n",
    "plotData <- plotData[!is.na(plotData$ROC),]\n",
    "xyplot(ROC ~ C, data = plotData,\n",
    "       groups = Model,\n",
    "       type = c(\"g\", \"o\"),\n",
    "       scales = list(x = list(log = 2)),\n",
    "       auto.key = list(columns = 1))\n",
    "\n",
    "```"
   ]
  }
 ],
 "metadata": {
  "kernelspec": {
   "display_name": "R",
   "language": "R",
   "name": "ir"
  },
  "language_info": {
   "codemirror_mode": "r",
   "file_extension": ".r",
   "mimetype": "text/x-r-source",
   "name": "R",
   "pygments_lexer": "r",
   "version": "3.5.1"
  },
  "latex_envs": {
   "LaTeX_envs_menu_present": true,
   "autoclose": false,
   "autocomplete": true,
   "bibliofile": "biblio.bib",
   "cite_by": "apalike",
   "current_citInitial": 1,
   "eqLabelWithNumbers": true,
   "eqNumInitial": 1,
   "hotkeys": {
    "equation": "Ctrl-E",
    "itemize": "Ctrl-I"
   },
   "labels_anchors": false,
   "latex_user_defs": false,
   "report_style_numbering": false,
   "user_envs_cfg": false
  },
  "toc": {
   "base_numbering": 1,
   "nav_menu": {},
   "number_sections": true,
   "sideBar": true,
   "skip_h1_title": false,
   "title_cell": "Table of Contents",
   "title_sidebar": "Contents",
   "toc_cell": false,
   "toc_position": {},
   "toc_section_display": true,
   "toc_window_display": false
  }
 },
 "nbformat": 4,
 "nbformat_minor": 2
}
