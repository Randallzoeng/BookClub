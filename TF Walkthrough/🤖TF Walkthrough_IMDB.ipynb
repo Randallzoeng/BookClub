{
 "cells": [
  {
   "cell_type": "code",
   "execution_count": 1,
   "metadata": {},
   "outputs": [
    {
     "name": "stdout",
     "output_type": "stream",
     "text": [
      "1.12.0\n"
     ]
    }
   ],
   "source": [
    "import tensorflow as tf\n",
    "from tensorflow import kerasas\n",
    "import numpy as np\n",
    "print(tf.__version__)"
   ]
  },
  {
   "cell_type": "markdown",
   "metadata": {},
   "source": [
    "# 下载 IMDB 数据集"
   ]
  },
  {
   "cell_type": "code",
   "execution_count": 2,
   "metadata": {
    "scrolled": true
   },
   "outputs": [
    {
     "name": "stdout",
     "output_type": "stream",
     "text": [
      "Downloading data from https://storage.googleapis.com/tensorflow/tf-keras-datasets/imdb.npz\n",
      "17465344/17464789 [==============================] - 66s 4us/step\n"
     ]
    }
   ],
   "source": [
    "imdb = keras.datasets.imdb\n",
    "(train_data,train_labels),(test_data,test_labels) = imdb.load_data(num_words=10000)"
   ]
  },
  {
   "cell_type": "markdown",
   "metadata": {},
   "source": [
    "# 探索数据"
   ]
  },
  {
   "cell_type": "code",
   "execution_count": 3,
   "metadata": {},
   "outputs": [
    {
     "name": "stdout",
     "output_type": "stream",
     "text": [
      "Training entries:25000,label:25000\n"
     ]
    }
   ],
   "source": [
    "print('Training entries:{},label:{}'.format(len(train_data),len(train_labels)))"
   ]
  },
  {
   "cell_type": "code",
   "execution_count": 7,
   "metadata": {
    "scrolled": true
   },
   "outputs": [
    {
     "name": "stdout",
     "output_type": "stream",
     "text": [
      "[1, 14, 22, 16, 43, 530, 973, 1622, 1385, 65, 458, 4468, 66, 3941, 4, 173, 36, 256, 5, 25, 100, 43, 838, 112, 50, 670, 2, 9, 35, 480, 284, 5, 150, 4, 172, 112, 167, 2, 336, 385, 39, 4, 172, 4536, 1111, 17, 546, 38, 13, 447, 4, 192, 50, 16, 6, 147, 2025, 19, 14, 22, 4, 1920, 4613, 469, 4, 22, 71, 87, 12, 16, 43, 530, 38, 76, 15, 13, 1247, 4, 22, 17, 515, 17, 12, 16, 626, 18, 2, 5, 62, 386, 12, 8, 316, 8, 106, 5, 4, 2223, 5244, 16, 480, 66, 3785, 33, 4, 130, 12, 16, 38, 619, 5, 25, 124, 51, 36, 135, 48, 25, 1415, 33, 6, 22, 12, 215, 28, 77, 52, 5, 14, 407, 16, 82, 2, 8, 4, 107, 117, 5952, 15, 256, 4, 2, 7, 3766, 5, 723, 36, 71, 43, 530, 476, 26, 400, 317, 46, 7, 4, 2, 1029, 13, 104, 88, 4, 381, 15, 297, 98, 32, 2071, 56, 26, 141, 6, 194, 7486, 18, 4, 226, 22, 21, 134, 476, 26, 480, 5, 144, 30, 5535, 18, 51, 36, 28, 224, 92, 25, 104, 4, 226, 65, 16, 38, 1334, 88, 12, 16, 283, 5, 16, 4472, 113, 103, 32, 15, 16, 5345, 19, 178, 32]\n",
      "第一条影评中字词数： 218\n"
     ]
    }
   ],
   "source": [
    "print(train_data[0])\n",
    "print('第一条影评中字词数：',len(train_data[0]))"
   ]
  },
  {
   "cell_type": "markdown",
   "metadata": {},
   "source": [
    "## 将整数转换回字词"
   ]
  },
  {
   "cell_type": "code",
   "execution_count": 10,
   "metadata": {},
   "outputs": [],
   "source": [
    "word_index = imdb.get_word_index()\n",
    "\n",
    "word_index = {k:(v+3) for k,v in word_index.items()}\n",
    "word_index['<PAD>'] = 0\n",
    "word_index['<START>'] = 1\n",
    "word_index['<UNK>'] = 2\n",
    "word_index['<UNUSED'] = 3\n",
    "\n",
    "reversed_word_index = dict([(value,key) for (key,value) in word_index.items()])\n",
    "\n",
    "def decode_review(text):\n",
    "    return ' '.join([reversed_word_index.get(i,'?') for i in text])"
   ]
  },
  {
   "cell_type": "code",
   "execution_count": 11,
   "metadata": {
    "scrolled": true
   },
   "outputs": [
    {
     "data": {
      "text/plain": [
       "\"<START> this film was just brilliant casting location scenery story direction everyone's really suited the part they played and you could just imagine being there robert <UNK> is an amazing actor and now the same being director <UNK> father came from the same scottish island as myself so i loved the fact there was a real connection with this film the witty remarks throughout the film were great it was just brilliant so much that i bought the film as soon as it was released for <UNK> and would recommend it to everyone to watch and the fly fishing was amazing really cried at the end it was so sad and you know what they say if you cry at a film it must have been good and this definitely was also <UNK> to the two little boy's that played the <UNK> of norman and paul they were just brilliant children are often left out of the <UNK> list i think because the stars that play them all grown up are such a big profile for the whole film but these children are amazing and should be praised for what they have done don't you think the whole story was so lovely because it was true and was someone's life after all that was shared with us all\""
      ]
     },
     "execution_count": 11,
     "metadata": {},
     "output_type": "execute_result"
    }
   ],
   "source": [
    "decode_review(train_data[0])"
   ]
  },
  {
   "cell_type": "markdown",
   "metadata": {},
   "source": [
    "# 准备数据"
   ]
  },
  {
   "cell_type": "markdown",
   "metadata": {},
   "source": [
    "影评（整数数组）必须转换为张量，然后才能馈送到神经网络中。我们可以通过以下两种方法实现这种转换：\n",
    "\n",
    "- 对数组进行独热编码，将它们转换为由 0 和 1 构成的向量。例如，序列 [3, 5] 将变成一个 10000 维的向量，除索引 3 和 5 转换为 1 之外，其余全转换为 0。然后，将它作为网络的第一层，一个可以处理浮点向量数据的密集层。不过，这种方法会占用大量内存，需要一个大小为 num_words * num_reviews 的矩阵。\n",
    "\n",
    "- 或者，我们可以填充数组，使它们都具有相同的长度，然后创建一个形状为 max_length * num_reviews 的整数张量。我们可以使用一个能够处理这种形状的嵌入层作为网络中的第一层。"
   ]
  },
  {
   "cell_type": "code",
   "execution_count": 13,
   "metadata": {},
   "outputs": [],
   "source": [
    "train_data = keras.preprocessing.sequence.pad_sequences(\n",
    "                                                       train_data,\n",
    "                                                       value = word_index['<PAD>'],\n",
    "                                                       padding = 'post',\n",
    "                                                       maxlen=256)\n",
    "\n",
    "test_data = keras.preprocessing.sequence.pad_sequences(\n",
    "                                                       test_data,\n",
    "                                                       value = word_index['<PAD>'],\n",
    "                                                       padding = 'post',\n",
    "                                                       maxlen=256)"
   ]
  },
  {
   "cell_type": "code",
   "execution_count": 16,
   "metadata": {},
   "outputs": [
    {
     "data": {
      "text/plain": [
       "256"
      ]
     },
     "execution_count": 16,
     "metadata": {},
     "output_type": "execute_result"
    }
   ],
   "source": [
    "len(train_data[0])\n",
    "len(test_data[0])"
   ]
  },
  {
   "cell_type": "code",
   "execution_count": 17,
   "metadata": {
    "scrolled": true
   },
   "outputs": [
    {
     "data": {
      "text/plain": [
       "array([   1,   14,   22,   16,   43,  530,  973, 1622, 1385,   65,  458,\n",
       "       4468,   66, 3941,    4,  173,   36,  256,    5,   25,  100,   43,\n",
       "        838,  112,   50,  670,    2,    9,   35,  480,  284,    5,  150,\n",
       "          4,  172,  112,  167,    2,  336,  385,   39,    4,  172, 4536,\n",
       "       1111,   17,  546,   38,   13,  447,    4,  192,   50,   16,    6,\n",
       "        147, 2025,   19,   14,   22,    4, 1920, 4613,  469,    4,   22,\n",
       "         71,   87,   12,   16,   43,  530,   38,   76,   15,   13, 1247,\n",
       "          4,   22,   17,  515,   17,   12,   16,  626,   18,    2,    5,\n",
       "         62,  386,   12,    8,  316,    8,  106,    5,    4, 2223, 5244,\n",
       "         16,  480,   66, 3785,   33,    4,  130,   12,   16,   38,  619,\n",
       "          5,   25,  124,   51,   36,  135,   48,   25, 1415,   33,    6,\n",
       "         22,   12,  215,   28,   77,   52,    5,   14,  407,   16,   82,\n",
       "          2,    8,    4,  107,  117, 5952,   15,  256,    4,    2,    7,\n",
       "       3766,    5,  723,   36,   71,   43,  530,  476,   26,  400,  317,\n",
       "         46,    7,    4,    2, 1029,   13,  104,   88,    4,  381,   15,\n",
       "        297,   98,   32, 2071,   56,   26,  141,    6,  194, 7486,   18,\n",
       "          4,  226,   22,   21,  134,  476,   26,  480,    5,  144,   30,\n",
       "       5535,   18,   51,   36,   28,  224,   92,   25,  104,    4,  226,\n",
       "         65,   16,   38, 1334,   88,   12,   16,  283,    5,   16, 4472,\n",
       "        113,  103,   32,   15,   16, 5345,   19,  178,   32,    0,    0,\n",
       "          0,    0,    0,    0,    0,    0,    0,    0,    0,    0,    0,\n",
       "          0,    0,    0,    0,    0,    0,    0,    0,    0,    0,    0,\n",
       "          0,    0,    0,    0,    0,    0,    0,    0,    0,    0,    0,\n",
       "          0,    0,    0])"
      ]
     },
     "execution_count": 17,
     "metadata": {},
     "output_type": "execute_result"
    }
   ],
   "source": [
    "train_data[0]"
   ]
  },
  {
   "cell_type": "markdown",
   "metadata": {},
   "source": [
    "# 构建模型\n",
    "神经网络通过堆叠层创建而成，这需要做出两个架构方面的主要决策：\n",
    "\n",
    "- 要在模型中使用多少个层？\n",
    "- 要针对每个层使用多少个隐藏单元？"
   ]
  },
  {
   "cell_type": "code",
   "execution_count": 18,
   "metadata": {},
   "outputs": [
    {
     "name": "stdout",
     "output_type": "stream",
     "text": [
      "_________________________________________________________________\n",
      "Layer (type)                 Output Shape              Param #   \n",
      "=================================================================\n",
      "embedding (Embedding)        (None, None, 16)          160000    \n",
      "_________________________________________________________________\n",
      "global_average_pooling1d (Gl (None, 16)                0         \n",
      "_________________________________________________________________\n",
      "dense (Dense)                (None, 16)                272       \n",
      "_________________________________________________________________\n",
      "dense_1 (Dense)              (None, 1)                 17        \n",
      "=================================================================\n",
      "Total params: 160,289\n",
      "Trainable params: 160,289\n",
      "Non-trainable params: 0\n",
      "_________________________________________________________________\n"
     ]
    }
   ],
   "source": [
    "vocab_size = 10000\n",
    "\n",
    "model = keras.Sequential()\n",
    "model.add(keras.layers.Embedding(vocab_size,16))\n",
    "model.add(keras.layers.GlobalAveragePooling1D())\n",
    "model.add(keras.layers.Dense(16,activation=tf.nn.relu))\n",
    "model.add(keras.layers.Dense(1,activation=tf.nn.sigmoid))\n",
    "\n",
    "model.summary()"
   ]
  },
  {
   "cell_type": "markdown",
   "metadata": {},
   "source": [
    "- 第一层是 Embedding 层。该层会在整数编码的词汇表中查找每个字词-索引的嵌入向量。模型在接受训练时会学习这些向量。这些向量会向输出数组添加一个维度。生成的维度为：(batch, sequence, embedding)。\n",
    "- 接下来，一个 GlobalAveragePooling1D 层通过对序列维度求平均值，针对每个样本返回一个长度固定的输出向量。这样，模型便能够以尽可能简单的方式处理各种长度的输入。\n",
    "- 该长度固定的输出向量会传入一个全连接 (Dense) 层（包含 16 个隐藏单元）。\n",
    "- 最后一层与单个输出节点密集连接。应用 sigmoid 激活函数后，结果是介于 0 到 1 之间的浮点值，表示概率或置信水平。"
   ]
  },
  {
   "cell_type": "markdown",
   "metadata": {},
   "source": [
    "## 隐藏单元\n",
    "上述模型在输入和输出之间有两个中间层（也称为“隐藏”层）。输出（单元、节点或神经元）的数量是相应层的表示法空间的维度。换句话说，该数值表示学习内部表示法时网络所允许的自由度。\n",
    "\n",
    "如果模型具有更多隐藏单元（更高维度的表示空间）和/或更多层，则说明网络可以学习更复杂的表示法。不过，这会使网络耗费更多计算资源，并且可能导致学习不必要的模式（可以优化在训练数据上的表现，但不会优化在测试数据上的表现）。这称为过拟合，我们稍后会加以探讨。"
   ]
  },
  {
   "cell_type": "markdown",
   "metadata": {},
   "source": [
    "## 损失函数和优化器\n",
    "模型在训练时需要一个损失函数和一个优化器。由于这是一个二元分类问题且模型会输出一个概率（应用 S 型激活函数的单个单元层），因此我们将使用 binary_crossentropy 损失函数。\n",
    "\n",
    "该函数并不是唯一的损失函数，例如，您可以选择 mean_squared_error。但一般来说，binary_crossentropy 更适合处理概率问题，它可测量概率分布之间的“差距”，在本例中则为实际分布和预测之间的“差距”。\n",
    "\n",
    "稍后，在探索回归问题（比如预测房价）时，我们将了解如何使用另一个称为均方误差的损失函数。\n",
    "\n",
    "现在，配置模型以使用优化器和损失函数："
   ]
  },
  {
   "cell_type": "code",
   "execution_count": 19,
   "metadata": {},
   "outputs": [],
   "source": [
    "model.compile(optimizer=tf.train.AdamOptimizer(),\n",
    "             loss='binary_crossentropy',metrics=['accuracy'])"
   ]
  },
  {
   "cell_type": "markdown",
   "metadata": {},
   "source": [
    "# 创建验证集"
   ]
  },
  {
   "cell_type": "code",
   "execution_count": 20,
   "metadata": {},
   "outputs": [],
   "source": [
    "x_val = train_data[:10000]\n",
    "partial_x_train = train_data[10000:]\n",
    "\n",
    "y_val = train_labels[:10000]\n",
    "partial_y_train = train_labels[10000:]"
   ]
  },
  {
   "cell_type": "markdown",
   "metadata": {},
   "source": [
    "# 训练模型"
   ]
  },
  {
   "cell_type": "code",
   "execution_count": 21,
   "metadata": {},
   "outputs": [
    {
     "name": "stdout",
     "output_type": "stream",
     "text": [
      "Train on 15000 samples, validate on 10000 samples\n",
      "Epoch 1/40\n",
      "15000/15000 [==============================] - 1s 98us/step - loss: 0.6919 - acc: 0.5429 - val_loss: 0.6899 - val_acc: 0.5773\n",
      "Epoch 2/40\n",
      "15000/15000 [==============================] - 1s 73us/step - loss: 0.6856 - acc: 0.6093 - val_loss: 0.6813 - val_acc: 0.6458\n",
      "Epoch 3/40\n",
      "15000/15000 [==============================] - 1s 73us/step - loss: 0.6719 - acc: 0.6903 - val_loss: 0.6644 - val_acc: 0.7113\n",
      "Epoch 4/40\n",
      "15000/15000 [==============================] - 1s 73us/step - loss: 0.6470 - acc: 0.7531 - val_loss: 0.6366 - val_acc: 0.7387\n",
      "Epoch 5/40\n",
      "15000/15000 [==============================] - 1s 74us/step - loss: 0.6109 - acc: 0.7845 - val_loss: 0.5990 - val_acc: 0.7853\n",
      "Epoch 6/40\n",
      "15000/15000 [==============================] - 1s 72us/step - loss: 0.5668 - acc: 0.8137 - val_loss: 0.5567 - val_acc: 0.8136\n",
      "Epoch 7/40\n",
      "15000/15000 [==============================] - 1s 73us/step - loss: 0.5183 - acc: 0.8381 - val_loss: 0.5128 - val_acc: 0.8261\n",
      "Epoch 8/40\n",
      "15000/15000 [==============================] - 1s 73us/step - loss: 0.4704 - acc: 0.8541 - val_loss: 0.4713 - val_acc: 0.8403\n",
      "Epoch 9/40\n",
      "15000/15000 [==============================] - 1s 77us/step - loss: 0.4268 - acc: 0.8670 - val_loss: 0.4351 - val_acc: 0.8493\n",
      "Epoch 10/40\n",
      "15000/15000 [==============================] - 1s 74us/step - loss: 0.3882 - acc: 0.8808 - val_loss: 0.4053 - val_acc: 0.8552\n",
      "Epoch 11/40\n",
      "15000/15000 [==============================] - 1s 74us/step - loss: 0.3559 - acc: 0.8877 - val_loss: 0.3831 - val_acc: 0.8594\n",
      "Epoch 12/40\n",
      "15000/15000 [==============================] - 1s 73us/step - loss: 0.3293 - acc: 0.8918 - val_loss: 0.3612 - val_acc: 0.8685\n",
      "Epoch 13/40\n",
      "15000/15000 [==============================] - 1s 72us/step - loss: 0.3050 - acc: 0.9004 - val_loss: 0.3463 - val_acc: 0.8713\n",
      "Epoch 14/40\n",
      "15000/15000 [==============================] - 1s 73us/step - loss: 0.2850 - acc: 0.9061 - val_loss: 0.3328 - val_acc: 0.8748\n",
      "Epoch 15/40\n",
      "15000/15000 [==============================] - 1s 73us/step - loss: 0.2677 - acc: 0.9101 - val_loss: 0.3228 - val_acc: 0.8774\n",
      "Epoch 16/40\n",
      "15000/15000 [==============================] - 1s 73us/step - loss: 0.2530 - acc: 0.9145 - val_loss: 0.3144 - val_acc: 0.8785\n",
      "Epoch 17/40\n",
      "15000/15000 [==============================] - 2s 104us/step - loss: 0.2387 - acc: 0.9204 - val_loss: 0.3077 - val_acc: 0.8786\n",
      "Epoch 18/40\n",
      "15000/15000 [==============================] - 1s 74us/step - loss: 0.2264 - acc: 0.9245 - val_loss: 0.3021 - val_acc: 0.8815\n",
      "Epoch 19/40\n",
      "15000/15000 [==============================] - 1s 72us/step - loss: 0.2149 - acc: 0.9274 - val_loss: 0.2976 - val_acc: 0.8819\n",
      "Epoch 20/40\n",
      "15000/15000 [==============================] - 1s 73us/step - loss: 0.2049 - acc: 0.9319 - val_loss: 0.2940 - val_acc: 0.8832\n",
      "Epoch 21/40\n",
      "15000/15000 [==============================] - 1s 72us/step - loss: 0.1950 - acc: 0.9347 - val_loss: 0.2913 - val_acc: 0.8840\n",
      "Epoch 22/40\n",
      "15000/15000 [==============================] - 1s 75us/step - loss: 0.1860 - acc: 0.9393 - val_loss: 0.2893 - val_acc: 0.8848\n",
      "Epoch 23/40\n",
      "15000/15000 [==============================] - 1s 75us/step - loss: 0.1779 - acc: 0.9429 - val_loss: 0.2885 - val_acc: 0.8848\n",
      "Epoch 24/40\n",
      "15000/15000 [==============================] - 1s 73us/step - loss: 0.1696 - acc: 0.9468 - val_loss: 0.2868 - val_acc: 0.8847\n",
      "Epoch 25/40\n",
      "15000/15000 [==============================] - 1s 72us/step - loss: 0.1625 - acc: 0.9492 - val_loss: 0.2861 - val_acc: 0.8858\n",
      "Epoch 26/40\n",
      "15000/15000 [==============================] - 1s 72us/step - loss: 0.1553 - acc: 0.9513 - val_loss: 0.2866 - val_acc: 0.8861\n",
      "Epoch 27/40\n",
      "15000/15000 [==============================] - 1s 71us/step - loss: 0.1494 - acc: 0.9540 - val_loss: 0.2871 - val_acc: 0.8856\n",
      "Epoch 28/40\n",
      "15000/15000 [==============================] - 1s 74us/step - loss: 0.1430 - acc: 0.9572 - val_loss: 0.2872 - val_acc: 0.8873\n",
      "Epoch 29/40\n",
      "15000/15000 [==============================] - 1s 72us/step - loss: 0.1372 - acc: 0.9587 - val_loss: 0.2877 - val_acc: 0.8864\n",
      "Epoch 30/40\n",
      "15000/15000 [==============================] - 1s 73us/step - loss: 0.1321 - acc: 0.9611 - val_loss: 0.2890 - val_acc: 0.8858\n",
      "Epoch 31/40\n",
      "15000/15000 [==============================] - 1s 72us/step - loss: 0.1261 - acc: 0.9635 - val_loss: 0.2909 - val_acc: 0.8862\n",
      "Epoch 32/40\n",
      "15000/15000 [==============================] - 1s 73us/step - loss: 0.1215 - acc: 0.9655 - val_loss: 0.2929 - val_acc: 0.8863\n",
      "Epoch 33/40\n",
      "15000/15000 [==============================] - 1s 72us/step - loss: 0.1160 - acc: 0.9677 - val_loss: 0.2951 - val_acc: 0.8859\n",
      "Epoch 34/40\n",
      "15000/15000 [==============================] - 1s 73us/step - loss: 0.1116 - acc: 0.9686 - val_loss: 0.2974 - val_acc: 0.8845\n",
      "Epoch 35/40\n",
      "15000/15000 [==============================] - 1s 73us/step - loss: 0.1076 - acc: 0.9705 - val_loss: 0.2993 - val_acc: 0.8851\n",
      "Epoch 36/40\n",
      "15000/15000 [==============================] - 1s 74us/step - loss: 0.1028 - acc: 0.9724 - val_loss: 0.3024 - val_acc: 0.8848\n",
      "Epoch 37/40\n",
      "15000/15000 [==============================] - 1s 75us/step - loss: 0.0989 - acc: 0.9742 - val_loss: 0.3053 - val_acc: 0.8845\n",
      "Epoch 38/40\n",
      "15000/15000 [==============================] - 1s 73us/step - loss: 0.0955 - acc: 0.9742 - val_loss: 0.3088 - val_acc: 0.8828\n",
      "Epoch 39/40\n",
      "15000/15000 [==============================] - 1s 73us/step - loss: 0.0913 - acc: 0.9768 - val_loss: 0.3116 - val_acc: 0.8827\n",
      "Epoch 40/40\n",
      "15000/15000 [==============================] - 1s 75us/step - loss: 0.0875 - acc: 0.9781 - val_loss: 0.3147 - val_acc: 0.8819\n"
     ]
    }
   ],
   "source": [
    "history = model.fit(partial_x_train,\n",
    "                   partial_y_train,\n",
    "                   epochs=40,\n",
    "                   batch_size = 512,\n",
    "                   validation_data = (x_val,y_val),\n",
    "                   verbose=1)"
   ]
  },
  {
   "cell_type": "markdown",
   "metadata": {},
   "source": [
    "# 评估模型"
   ]
  },
  {
   "cell_type": "code",
   "execution_count": 22,
   "metadata": {
    "scrolled": true
   },
   "outputs": [
    {
     "name": "stdout",
     "output_type": "stream",
     "text": [
      "25000/25000 [==============================] - 1s 22us/step\n",
      "[0.33533820974349976, 0.8712]\n"
     ]
    }
   ],
   "source": [
    "results = model.evaluate(test_data, test_labels)\n",
    "\n",
    "print(results)"
   ]
  },
  {
   "cell_type": "markdown",
   "metadata": {},
   "source": [
    "## 创建准确率和损失随时间变化的图"
   ]
  },
  {
   "cell_type": "code",
   "execution_count": 28,
   "metadata": {},
   "outputs": [
    {
     "data": {
      "text/plain": [
       "dict_keys(['val_loss', 'val_acc', 'loss', 'acc'])"
      ]
     },
     "execution_count": 28,
     "metadata": {},
     "output_type": "execute_result"
    }
   ],
   "source": [
    "history_dict = history.history\n",
    "history_dict.keys()"
   ]
  },
  {
   "cell_type": "code",
   "execution_count": 30,
   "metadata": {
    "scrolled": true
   },
   "outputs": [
    {
     "data": {
      "image/png": "[encoded data removed]",
      "text/plain": [
       "<Figure size 432x288 with 1 Axes>"
      ]
     },
     "metadata": {},
     "output_type": "display_data"
    }
   ],
   "source": [
    "%matplotlib inline\n",
    "import matplotlib.pyplot as plt\n",
    "\n",
    "acc = history.history['acc']\n",
    "val_acc = history.history['val_acc']\n",
    "loss = history.history['loss']\n",
    "val_loss = history.history['val_loss']\n",
    "\n",
    "epochs = range(1, len(acc) + 1)\n",
    "\n",
    "# \"bo\" is for \"blue dot\"\n",
    "plt.plot(epochs, loss, 'bo', label='Training loss')\n",
    "# b is for \"solid blue line\"\n",
    "plt.plot(epochs, val_loss, 'b', label='Validation loss')\n",
    "plt.title('Training and validation loss')\n",
    "plt.xlabel('Epochs')\n",
    "plt.ylabel('Loss')\n",
    "plt.legend()\n",
    "\n",
    "plt.show()"
   ]
  },
  {
   "cell_type": "code",
   "execution_count": 31,
   "metadata": {},
   "outputs": [
    {
     "data": {
      "image/png": "[encoded data removed]",
      "text/plain": [
       "<Figure size 432x288 with 1 Axes>"
      ]
     },
     "metadata": {},
     "output_type": "display_data"
    }
   ],
   "source": [
    "plt.clf()   # clear figure\n",
    "acc_values = history_dict['acc']\n",
    "val_acc_values = history_dict['val_acc']\n",
    "\n",
    "plt.plot(epochs, acc, 'bo', label='Training acc')\n",
    "plt.plot(epochs, val_acc, 'b', label='Validation acc')\n",
    "plt.title('Training and validation accuracy')\n",
    "plt.xlabel('Epochs')\n",
    "plt.ylabel('Accuracy')\n",
    "plt.legend()\n",
    "\n",
    "plt.show()"
   ]
  }
 ],
 "metadata": {
  "kernelspec": {
   "display_name": "Python 3",
   "language": "python",
   "name": "python3"
  },
  "language_info": {
   "codemirror_mode": {
    "name": "ipython",
    "version": 3
   },
   "file_extension": ".py",
   "mimetype": "text/x-python",
   "name": "python",
   "nbconvert_exporter": "python",
   "pygments_lexer": "ipython3",
   "version": "3.6.5"
  },
  "latex_envs": {
   "LaTeX_envs_menu_present": true,
   "autoclose": false,
   "autocomplete": true,
   "bibliofile": "biblio.bib",
   "cite_by": "apalike",
   "current_citInitial": 1,
   "eqLabelWithNumbers": true,
   "eqNumInitial": 1,
   "hotkeys": {
    "equation": "Ctrl-E",
    "itemize": "Ctrl-I"
   },
   "labels_anchors": false,
   "latex_user_defs": false,
   "report_style_numbering": false,
   "user_envs_cfg": false
  },
  "toc": {
   "base_numbering": 1,
   "nav_menu": {},
   "number_sections": true,
   "sideBar": true,
   "skip_h1_title": false,
   "title_cell": "Table of Contents",
   "title_sidebar": "Contents",
   "toc_cell": false,
   "toc_position": {},
   "toc_section_display": true,
   "toc_window_display": false
  }
 },
 "nbformat": 4,
 "nbformat_minor": 2
}
