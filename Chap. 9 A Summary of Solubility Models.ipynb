{
 "cells": [
  {
   "cell_type": "code",
   "execution_count": 1,
   "metadata": {},
   "outputs": [],
   "source": [
    "library(AppliedPredictiveModeling)\n",
    "data(solubility)"
   ]
  },
  {
   "attachments": {},
   "cell_type": "markdown",
   "metadata": {},
   "source": [
    "- &#x1F4C8;Linear Regression and Its Cousins\n",
    "    - Linear Reg.\n",
    "    - PLS\n",
    "    - Ridge\n",
    "    - Elastic Net\n",
    "- &#x1F30C;Nonlinear Regression Models\n",
    "    - Neural Net\n",
    "    - MARS\n",
    "    - SVM\n",
    "    - KNN\n",
    "- &#x1F384;Regression Trees and Rule-Based Models\n",
    "    - Tree\n",
    "    - Cond. Tree\n",
    "    - Bagged Cond. Tree\n",
    "    - M5\n",
    "    - Random Forest\n",
    "    - Cond. Random Forest\n",
    "    - Boosted Tree\n",
    "    - Cubist"
   ]
  }
 ],
 "metadata": {
  "kernelspec": {
   "display_name": "R",
   "language": "R",
   "name": "ir"
  },
  "language_info": {
   "codemirror_mode": "r",
   "file_extension": ".r",
   "mimetype": "text/x-r-source",
   "name": "R",
   "pygments_lexer": "r",
   "version": "3.5.1"
  },
  "latex_envs": {
   "LaTeX_envs_menu_present": true,
   "autoclose": false,
   "autocomplete": true,
   "bibliofile": "biblio.bib",
   "cite_by": "apalike",
   "current_citInitial": 1,
   "eqLabelWithNumbers": true,
   "eqNumInitial": 1,
   "hotkeys": {
    "equation": "Ctrl-E",
    "itemize": "Ctrl-I"
   },
   "labels_anchors": false,
   "latex_user_defs": false,
   "report_style_numbering": false,
   "user_envs_cfg": false
  },
  "toc": {
   "base_numbering": 1,
   "nav_menu": {},
   "number_sections": true,
   "sideBar": true,
   "skip_h1_title": false,
   "title_cell": "Table of Contents",
   "title_sidebar": "Contents",
   "toc_cell": false,
   "toc_position": {},
   "toc_section_display": true,
   "toc_window_display": false
  }
 },
 "nbformat": 4,
 "nbformat_minor": 2
}
