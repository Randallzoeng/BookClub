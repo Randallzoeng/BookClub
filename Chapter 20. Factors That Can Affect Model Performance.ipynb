{
 "cells": [
  {
   "cell_type": "markdown",
   "metadata": {},
   "source": [
    "> Noise, or error, has varying degrees of impact on models’ predictive performance and occurs in three general forms in most data sets:\n",
    "- Since many predictors are measured, they contain some level of systematic noise associated with the measurement system. Any extraneous noise in the predictors is likely to be propagated directly through the model prediction equation and results in poor performance.\n",
    "- A second way noise can be introduced into the data is by the inclusion of non-informative predictors (e.g., predictors that have no relationship with the response). Some models have the ability to filter out irrelevant information, and hence their predictive performance is relatively unaffected.\n",
    "- A third way noise enters the modeling process is through the response variable. As with predictors, some outcomes can be measured with a degree of systematic, unwanted noise. This type of error gives rise to an upper bound on model performance for which no pre-processing, model complexity, or tuning can overcome. For example, if a measured categorical outcome is mislabeled in the training data 10 % of the time, it is unlikely"
   ]
  },
  {
   "cell_type": "code",
   "execution_count": 1,
   "metadata": {},
   "outputs": [
    {
     "name": "stderr",
     "output_type": "stream",
     "text": [
      "Loading required package: lattice\n",
      "Loading required package: ggplot2\n"
     ]
    }
   ],
   "source": [
    "library(AppliedPredictiveModeling)\n",
    "data(solubility)\n",
    "\n",
    "library(caret)\n",
    "set.seed(100)\n",
    "trn_id <- createFolds(solTrainY,returnTrain = T)\n",
    "ctrl <- trainControl(method=\"cv\",index=trn_id)"
   ]
  },
  {
   "cell_type": "code",
   "execution_count": 2,
   "metadata": {},
   "outputs": [
    {
     "name": "stderr",
     "output_type": "stream",
     "text": [
      "Loading required package: foreach\n",
      "Loading required package: iterators\n",
      "Loading required package: parallel\n"
     ]
    }
   ],
   "source": [
    "library(doMC)\n",
    "registerDoMC()"
   ]
  },
  {
   "cell_type": "code",
   "execution_count": null,
   "metadata": {},
   "outputs": [],
   "source": [
    "set.seed(100)\n",
    "mtryVals <- floor(seq(10,ncol(solTrainXtrans),length=10))\n",
    "mtryGrid <- data.frame(.mtry=mtryVals)\n",
    "\n",
    "fit_rf <- train(x=solTrainXtrans,y=solTrainY,\n",
    "               method=\"rf\",tuneGrid=mtryGrid,ntree=500,importance=T,\n",
    "               trControl=ctrl)\n",
    "fit_rf"
   ]
  },
  {
   "cell_type": "code",
   "execution_count": null,
   "metadata": {},
   "outputs": [],
   "source": [
    "ImpOrder <- order(fit_rf$finalModel$importance[,1],\n",
    "                 decreasing=T)\n",
    "top20 <- rownames(ImpOrder)[1:20]\n",
    "solTrainX_imp <- subset(solTrainX,select=top20)\n",
    "solTestX_imp <- subset(solTestX,select=top20)"
   ]
  },
  {
   "cell_type": "code",
   "execution_count": null,
   "metadata": {},
   "outputs": [],
   "source": [
    "permute_solTrainX_imp <- apply(solTrainX_imp,2,function(x) sample(x))\n",
    "solSimX <- rbind(solTrainX_imp,permute_solTrainX_imp)\n",
    "groupVals <- c(\"Training\",\"Random\")\n",
    "groupY <- factor(rep(groupVals,each=nrow(solTrainX)))"
   ]
  },
  {
   "cell_type": "code",
   "execution_count": null,
   "metadata": {},
   "outputs": [],
   "source": [
    "rfSolClass <- train(x=solSimX,y=groupY,\n",
    "                   method=\"rf\",tuneLength=5,ntree=500,\n",
    "                   control=trainControl(method=\"LGOCV))\n",
    "solTestGroupProbs <- predict(rfSolClass,solTestX_imp,type=\"prob\")"
   ]
  }
 ],
 "metadata": {
  "kernelspec": {
   "display_name": "R",
   "language": "R",
   "name": "ir"
  },
  "language_info": {
   "codemirror_mode": "r",
   "file_extension": ".r",
   "mimetype": "text/x-r-source",
   "name": "R",
   "pygments_lexer": "r",
   "version": "3.5.1"
  },
  "latex_envs": {
   "LaTeX_envs_menu_present": true,
   "autoclose": false,
   "autocomplete": true,
   "bibliofile": "biblio.bib",
   "cite_by": "apalike",
   "current_citInitial": 1,
   "eqLabelWithNumbers": true,
   "eqNumInitial": 1,
   "hotkeys": {
    "equation": "Ctrl-E",
    "itemize": "Ctrl-I"
   },
   "labels_anchors": false,
   "latex_user_defs": false,
   "report_style_numbering": false,
   "user_envs_cfg": false
  },
  "toc": {
   "base_numbering": 1,
   "nav_menu": {},
   "number_sections": true,
   "sideBar": true,
   "skip_h1_title": false,
   "title_cell": "Table of Contents",
   "title_sidebar": "Contents",
   "toc_cell": false,
   "toc_position": {},
   "toc_section_display": true,
   "toc_window_display": false
  }
 },
 "nbformat": 4,
 "nbformat_minor": 2
}
